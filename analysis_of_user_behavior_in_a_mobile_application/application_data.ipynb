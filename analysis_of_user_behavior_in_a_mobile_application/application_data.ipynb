{
 "cells": [
  {
   "cell_type": "markdown",
   "metadata": {},
   "source": [
    "## Этап 1. Импортирование библиотек, настроек. Знакомство с данными."
   ]
  },
  {
   "cell_type": "markdown",
   "metadata": {},
   "source": [
    "### 1.1 Импортирование библиотек, настроек."
   ]
  },
  {
   "cell_type": "code",
   "execution_count": 1,
   "metadata": {},
   "outputs": [],
   "source": [
    "import warnings\n",
    "warnings.simplefilter(action='ignore', category=FutureWarning)\n",
    "import pandas as pd\n",
    "import matplotlib\n",
    "import matplotlib.pyplot as plt\n",
    "import numpy as np\n",
    "import math as mth\n",
    "import seaborn as sns\n",
    "import plotly.express as px\n",
    "from plotly import graph_objects as go\n",
    "from scipy import stats as st\n",
    "from pymystem3 import Mystem # импортируем pymystem3\n",
    "from collections import Counter\n",
    "pd.options.display.float_format = '{:,.2f}'.format"
   ]
  },
  {
   "cell_type": "markdown",
   "metadata": {},
   "source": [
    "### 1.2 Чтение файлов и знакомство с данными"
   ]
  },
  {
   "cell_type": "markdown",
   "metadata": {},
   "source": [
    "Прочитаем датасет с данными и сохраним его в переменую **logs_exp**:"
   ]
  },
  {
   "cell_type": "code",
   "execution_count": 2,
   "metadata": {},
   "outputs": [],
   "source": [
    "logs_exp = pd.read_csv('logs_exp.csv', sep = \"\\t\")"
   ]
  },
  {
   "cell_type": "markdown",
   "metadata": {},
   "source": [
    "Посмотрим на 10 случайных строк датасета:"
   ]
  },
  {
   "cell_type": "code",
   "execution_count": 3,
   "metadata": {},
   "outputs": [
    {
     "data": {
      "text/html": [
       "<div>\n",
       "<style scoped>\n",
       "    .dataframe tbody tr th:only-of-type {\n",
       "        vertical-align: middle;\n",
       "    }\n",
       "\n",
       "    .dataframe tbody tr th {\n",
       "        vertical-align: top;\n",
       "    }\n",
       "\n",
       "    .dataframe thead th {\n",
       "        text-align: right;\n",
       "    }\n",
       "</style>\n",
       "<table border=\"1\" class=\"dataframe\">\n",
       "  <thead>\n",
       "    <tr style=\"text-align: right;\">\n",
       "      <th></th>\n",
       "      <th>EventName</th>\n",
       "      <th>DeviceIDHash</th>\n",
       "      <th>EventTimestamp</th>\n",
       "      <th>ExpId</th>\n",
       "    </tr>\n",
       "  </thead>\n",
       "  <tbody>\n",
       "    <tr>\n",
       "      <th>46958</th>\n",
       "      <td>MainScreenAppear</td>\n",
       "      <td>8652597388469225782</td>\n",
       "      <td>1564732911</td>\n",
       "      <td>247</td>\n",
       "    </tr>\n",
       "    <tr>\n",
       "      <th>238574</th>\n",
       "      <td>CartScreenAppear</td>\n",
       "      <td>4239243414870948721</td>\n",
       "      <td>1565198137</td>\n",
       "      <td>248</td>\n",
       "    </tr>\n",
       "    <tr>\n",
       "      <th>131711</th>\n",
       "      <td>OffersScreenAppear</td>\n",
       "      <td>3862048291994678733</td>\n",
       "      <td>1564934754</td>\n",
       "      <td>248</td>\n",
       "    </tr>\n",
       "    <tr>\n",
       "      <th>226329</th>\n",
       "      <td>MainScreenAppear</td>\n",
       "      <td>3930295931691686240</td>\n",
       "      <td>1565178789</td>\n",
       "      <td>248</td>\n",
       "    </tr>\n",
       "    <tr>\n",
       "      <th>171087</th>\n",
       "      <td>MainScreenAppear</td>\n",
       "      <td>5674515761085325853</td>\n",
       "      <td>1565027108</td>\n",
       "      <td>248</td>\n",
       "    </tr>\n",
       "    <tr>\n",
       "      <th>87998</th>\n",
       "      <td>CartScreenAppear</td>\n",
       "      <td>4906536227671487464</td>\n",
       "      <td>1564831355</td>\n",
       "      <td>246</td>\n",
       "    </tr>\n",
       "    <tr>\n",
       "      <th>69110</th>\n",
       "      <td>MainScreenAppear</td>\n",
       "      <td>5082109226266777517</td>\n",
       "      <td>1564769576</td>\n",
       "      <td>248</td>\n",
       "    </tr>\n",
       "    <tr>\n",
       "      <th>35793</th>\n",
       "      <td>OffersScreenAppear</td>\n",
       "      <td>5670515820397086703</td>\n",
       "      <td>1564687327</td>\n",
       "      <td>246</td>\n",
       "    </tr>\n",
       "    <tr>\n",
       "      <th>243623</th>\n",
       "      <td>OffersScreenAppear</td>\n",
       "      <td>3863873029567317821</td>\n",
       "      <td>1565209579</td>\n",
       "      <td>248</td>\n",
       "    </tr>\n",
       "    <tr>\n",
       "      <th>96285</th>\n",
       "      <td>MainScreenAppear</td>\n",
       "      <td>7934103980026732017</td>\n",
       "      <td>1564843759</td>\n",
       "      <td>248</td>\n",
       "    </tr>\n",
       "  </tbody>\n",
       "</table>\n",
       "</div>"
      ],
      "text/plain": [
       "                 EventName         DeviceIDHash  EventTimestamp  ExpId\n",
       "46958     MainScreenAppear  8652597388469225782      1564732911    247\n",
       "238574    CartScreenAppear  4239243414870948721      1565198137    248\n",
       "131711  OffersScreenAppear  3862048291994678733      1564934754    248\n",
       "226329    MainScreenAppear  3930295931691686240      1565178789    248\n",
       "171087    MainScreenAppear  5674515761085325853      1565027108    248\n",
       "87998     CartScreenAppear  4906536227671487464      1564831355    246\n",
       "69110     MainScreenAppear  5082109226266777517      1564769576    248\n",
       "35793   OffersScreenAppear  5670515820397086703      1564687327    246\n",
       "243623  OffersScreenAppear  3863873029567317821      1565209579    248\n",
       "96285     MainScreenAppear  7934103980026732017      1564843759    248"
      ]
     },
     "execution_count": 3,
     "metadata": {},
     "output_type": "execute_result"
    }
   ],
   "source": [
    "logs_exp.sample(10)"
   ]
  },
  {
   "cell_type": "markdown",
   "metadata": {},
   "source": [
    "Каждая запись в логе — это действие пользователя, или событие:\n",
    "* EventName — название события;\n",
    "* DeviceIDHash — уникальный идентификатор пользователя;\n",
    "* EventTimestamp — время события;\n",
    "* ExpId — номер эксперимента: 246 и 247 — контрольные группы, а 248 — экспериментальная."
   ]
  },
  {
   "cell_type": "code",
   "execution_count": 4,
   "metadata": {},
   "outputs": [
    {
     "name": "stdout",
     "output_type": "stream",
     "text": [
      "<class 'pandas.core.frame.DataFrame'>\n",
      "RangeIndex: 244126 entries, 0 to 244125\n",
      "Data columns (total 4 columns):\n",
      " #   Column          Non-Null Count   Dtype \n",
      "---  ------          --------------   ----- \n",
      " 0   EventName       244126 non-null  object\n",
      " 1   DeviceIDHash    244126 non-null  int64 \n",
      " 2   EventTimestamp  244126 non-null  int64 \n",
      " 3   ExpId           244126 non-null  int64 \n",
      "dtypes: int64(3), object(1)\n",
      "memory usage: 7.5+ MB\n"
     ]
    }
   ],
   "source": [
    "logs_exp.info()"
   ]
  },
  {
   "cell_type": "markdown",
   "metadata": {},
   "source": [
    "Пропусков нет. В дальнейшем переимениуем столбцы, отметим, что столбец **EventTimestamp** в unix-time, в дальнейшем добавим два столбцам с датой и временем и отдельно с датой. \n",
    "\n",
    "Проверим на явные дубликаты:"
   ]
  },
  {
   "cell_type": "code",
   "execution_count": 5,
   "metadata": {},
   "outputs": [
    {
     "data": {
      "text/plain": [
       "413"
      ]
     },
     "execution_count": 5,
     "metadata": {},
     "output_type": "execute_result"
    }
   ],
   "source": [
    "logs_exp.duplicated().sum()"
   ]
  },
  {
   "cell_type": "markdown",
   "metadata": {},
   "source": [
    "Дубликатов 413 штук, в дальнейшем избавимся от них."
   ]
  },
  {
   "cell_type": "markdown",
   "metadata": {},
   "source": [
    "**Вывод:**\n",
    "\n",
    "* Таблица имеет 4 столбца\n",
    "* Таблица имеет 244126 строк\n",
    "* Пропусков нет\n",
    "* Для работы в дальнейем необходимо добавить два столбца с датой и временем и с датой\n",
    "* Имеется 413 дубликатов\n",
    "* Столбцы для удобства переимениуем."
   ]
  },
  {
   "cell_type": "markdown",
   "metadata": {},
   "source": [
    "## Этап 2. Предобработка данных"
   ]
  },
  {
   "cell_type": "markdown",
   "metadata": {},
   "source": [
    "### 2.1 Изменение столбцов"
   ]
  },
  {
   "cell_type": "markdown",
   "metadata": {},
   "source": [
    "Изменим название столбцов для удобства:"
   ]
  },
  {
   "cell_type": "code",
   "execution_count": 6,
   "metadata": {},
   "outputs": [],
   "source": [
    "logs_exp.columns= ['event', 'id', 'event_seconds', 'exp_id']"
   ]
  },
  {
   "cell_type": "markdown",
   "metadata": {},
   "source": [
    "Посмотрим на результат:"
   ]
  },
  {
   "cell_type": "code",
   "execution_count": 7,
   "metadata": {},
   "outputs": [
    {
     "data": {
      "text/html": [
       "<div>\n",
       "<style scoped>\n",
       "    .dataframe tbody tr th:only-of-type {\n",
       "        vertical-align: middle;\n",
       "    }\n",
       "\n",
       "    .dataframe tbody tr th {\n",
       "        vertical-align: top;\n",
       "    }\n",
       "\n",
       "    .dataframe thead th {\n",
       "        text-align: right;\n",
       "    }\n",
       "</style>\n",
       "<table border=\"1\" class=\"dataframe\">\n",
       "  <thead>\n",
       "    <tr style=\"text-align: right;\">\n",
       "      <th></th>\n",
       "      <th>event</th>\n",
       "      <th>id</th>\n",
       "      <th>event_seconds</th>\n",
       "      <th>exp_id</th>\n",
       "    </tr>\n",
       "  </thead>\n",
       "  <tbody>\n",
       "    <tr>\n",
       "      <th>0</th>\n",
       "      <td>MainScreenAppear</td>\n",
       "      <td>4575588528974610257</td>\n",
       "      <td>1564029816</td>\n",
       "      <td>246</td>\n",
       "    </tr>\n",
       "    <tr>\n",
       "      <th>1</th>\n",
       "      <td>MainScreenAppear</td>\n",
       "      <td>7416695313311560658</td>\n",
       "      <td>1564053102</td>\n",
       "      <td>246</td>\n",
       "    </tr>\n",
       "    <tr>\n",
       "      <th>2</th>\n",
       "      <td>PaymentScreenSuccessful</td>\n",
       "      <td>3518123091307005509</td>\n",
       "      <td>1564054127</td>\n",
       "      <td>248</td>\n",
       "    </tr>\n",
       "    <tr>\n",
       "      <th>3</th>\n",
       "      <td>CartScreenAppear</td>\n",
       "      <td>3518123091307005509</td>\n",
       "      <td>1564054127</td>\n",
       "      <td>248</td>\n",
       "    </tr>\n",
       "    <tr>\n",
       "      <th>4</th>\n",
       "      <td>PaymentScreenSuccessful</td>\n",
       "      <td>6217807653094995999</td>\n",
       "      <td>1564055322</td>\n",
       "      <td>248</td>\n",
       "    </tr>\n",
       "  </tbody>\n",
       "</table>\n",
       "</div>"
      ],
      "text/plain": [
       "                     event                   id  event_seconds  exp_id\n",
       "0         MainScreenAppear  4575588528974610257     1564029816     246\n",
       "1         MainScreenAppear  7416695313311560658     1564053102     246\n",
       "2  PaymentScreenSuccessful  3518123091307005509     1564054127     248\n",
       "3         CartScreenAppear  3518123091307005509     1564054127     248\n",
       "4  PaymentScreenSuccessful  6217807653094995999     1564055322     248"
      ]
     },
     "execution_count": 7,
     "metadata": {},
     "output_type": "execute_result"
    }
   ],
   "source": [
    "logs_exp.head(5)"
   ]
  },
  {
   "cell_type": "markdown",
   "metadata": {},
   "source": [
    "Изменили столбцы на более удобные."
   ]
  },
  {
   "cell_type": "markdown",
   "metadata": {},
   "source": [
    "### 2.2 Добавление столбцов с датой и временем и с датой"
   ]
  },
  {
   "cell_type": "markdown",
   "metadata": {},
   "source": [
    "Как ранее было отмечено, столбец **event_time** имеет тип данных выраженных целыми числами(секундами). Необходимо добавить два столбца с датой и временем и отдельно с датой :"
   ]
  },
  {
   "cell_type": "code",
   "execution_count": 8,
   "metadata": {},
   "outputs": [],
   "source": [
    "logs_exp['event_time'] = pd.to_datetime(logs_exp['event_seconds'], unit = 's' )\n",
    "logs_exp['date'] = logs_exp['event_time'].astype('datetime64[D]')"
   ]
  },
  {
   "cell_type": "markdown",
   "metadata": {},
   "source": [
    "Посмотрим на таблицу и внесенные изменения:"
   ]
  },
  {
   "cell_type": "code",
   "execution_count": 9,
   "metadata": {},
   "outputs": [
    {
     "data": {
      "text/html": [
       "<div>\n",
       "<style scoped>\n",
       "    .dataframe tbody tr th:only-of-type {\n",
       "        vertical-align: middle;\n",
       "    }\n",
       "\n",
       "    .dataframe tbody tr th {\n",
       "        vertical-align: top;\n",
       "    }\n",
       "\n",
       "    .dataframe thead th {\n",
       "        text-align: right;\n",
       "    }\n",
       "</style>\n",
       "<table border=\"1\" class=\"dataframe\">\n",
       "  <thead>\n",
       "    <tr style=\"text-align: right;\">\n",
       "      <th></th>\n",
       "      <th>event</th>\n",
       "      <th>id</th>\n",
       "      <th>event_seconds</th>\n",
       "      <th>exp_id</th>\n",
       "      <th>event_time</th>\n",
       "      <th>date</th>\n",
       "    </tr>\n",
       "  </thead>\n",
       "  <tbody>\n",
       "    <tr>\n",
       "      <th>244121</th>\n",
       "      <td>MainScreenAppear</td>\n",
       "      <td>4599628364049201812</td>\n",
       "      <td>1565212345</td>\n",
       "      <td>247</td>\n",
       "      <td>2019-08-07 21:12:25</td>\n",
       "      <td>2019-08-07</td>\n",
       "    </tr>\n",
       "    <tr>\n",
       "      <th>244122</th>\n",
       "      <td>MainScreenAppear</td>\n",
       "      <td>5849806612437486590</td>\n",
       "      <td>1565212439</td>\n",
       "      <td>246</td>\n",
       "      <td>2019-08-07 21:13:59</td>\n",
       "      <td>2019-08-07</td>\n",
       "    </tr>\n",
       "    <tr>\n",
       "      <th>244123</th>\n",
       "      <td>MainScreenAppear</td>\n",
       "      <td>5746969938801999050</td>\n",
       "      <td>1565212483</td>\n",
       "      <td>246</td>\n",
       "      <td>2019-08-07 21:14:43</td>\n",
       "      <td>2019-08-07</td>\n",
       "    </tr>\n",
       "    <tr>\n",
       "      <th>244124</th>\n",
       "      <td>MainScreenAppear</td>\n",
       "      <td>5746969938801999050</td>\n",
       "      <td>1565212498</td>\n",
       "      <td>246</td>\n",
       "      <td>2019-08-07 21:14:58</td>\n",
       "      <td>2019-08-07</td>\n",
       "    </tr>\n",
       "    <tr>\n",
       "      <th>244125</th>\n",
       "      <td>OffersScreenAppear</td>\n",
       "      <td>5746969938801999050</td>\n",
       "      <td>1565212517</td>\n",
       "      <td>246</td>\n",
       "      <td>2019-08-07 21:15:17</td>\n",
       "      <td>2019-08-07</td>\n",
       "    </tr>\n",
       "  </tbody>\n",
       "</table>\n",
       "</div>"
      ],
      "text/plain": [
       "                     event                   id  event_seconds  exp_id  \\\n",
       "244121    MainScreenAppear  4599628364049201812     1565212345     247   \n",
       "244122    MainScreenAppear  5849806612437486590     1565212439     246   \n",
       "244123    MainScreenAppear  5746969938801999050     1565212483     246   \n",
       "244124    MainScreenAppear  5746969938801999050     1565212498     246   \n",
       "244125  OffersScreenAppear  5746969938801999050     1565212517     246   \n",
       "\n",
       "                event_time       date  \n",
       "244121 2019-08-07 21:12:25 2019-08-07  \n",
       "244122 2019-08-07 21:13:59 2019-08-07  \n",
       "244123 2019-08-07 21:14:43 2019-08-07  \n",
       "244124 2019-08-07 21:14:58 2019-08-07  \n",
       "244125 2019-08-07 21:15:17 2019-08-07  "
      ]
     },
     "execution_count": 9,
     "metadata": {},
     "output_type": "execute_result"
    }
   ],
   "source": [
    "logs_exp.tail(5)"
   ]
  },
  {
   "cell_type": "markdown",
   "metadata": {},
   "source": [
    "Добавили два столбца с датой и временем и с датой."
   ]
  },
  {
   "cell_type": "markdown",
   "metadata": {},
   "source": [
    "### 2.3 Удаление дубликатов"
   ]
  },
  {
   "cell_type": "markdown",
   "metadata": {},
   "source": [
    "Ранее было выявлено, что в датасете имеется 413 дубликатов, избавимся от них:"
   ]
  },
  {
   "cell_type": "code",
   "execution_count": 10,
   "metadata": {},
   "outputs": [],
   "source": [
    "logs_exp = logs_exp.drop_duplicates().reset_index(drop=True)"
   ]
  },
  {
   "cell_type": "markdown",
   "metadata": {},
   "source": [
    "Проверим - отсались ли дубликаты:"
   ]
  },
  {
   "cell_type": "code",
   "execution_count": 11,
   "metadata": {},
   "outputs": [
    {
     "data": {
      "text/plain": [
       "0"
      ]
     },
     "execution_count": 11,
     "metadata": {},
     "output_type": "execute_result"
    }
   ],
   "source": [
    "logs_exp.duplicated().sum()"
   ]
  },
  {
   "cell_type": "markdown",
   "metadata": {},
   "source": [
    "Успешно удалены дубликаты."
   ]
  },
  {
   "cell_type": "markdown",
   "metadata": {},
   "source": [
    "## Этап 3. Изучение и проверка данных"
   ]
  },
  {
   "cell_type": "markdown",
   "metadata": {},
   "source": [
    "### 3.1 Сколько всего событий в логе?"
   ]
  },
  {
   "cell_type": "markdown",
   "metadata": {},
   "source": [
    "Посмотрим сколько имеется всего событий в логе:"
   ]
  },
  {
   "cell_type": "code",
   "execution_count": 12,
   "metadata": {},
   "outputs": [
    {
     "name": "stdout",
     "output_type": "stream",
     "text": [
      "В логе содержатся 243713 событий\n"
     ]
    }
   ],
   "source": [
    "print('В логе содержатся {} событий'.format(logs_exp.shape[0]))"
   ]
  },
  {
   "cell_type": "markdown",
   "metadata": {},
   "source": [
    "### 3.2 Сколько всего пользователей в логе?"
   ]
  },
  {
   "cell_type": "markdown",
   "metadata": {},
   "source": [
    "Посмотрим сколько имеется всего пользователей в логе:"
   ]
  },
  {
   "cell_type": "code",
   "execution_count": 13,
   "metadata": {},
   "outputs": [
    {
     "name": "stdout",
     "output_type": "stream",
     "text": [
      "В логе содержатся данные 7551 пользователей\n"
     ]
    }
   ],
   "source": [
    "print('В логе содержатся данные {} пользователей'.format(logs_exp['id'].nunique()))"
   ]
  },
  {
   "cell_type": "markdown",
   "metadata": {},
   "source": [
    "### 3.3 Сколько в среднем событий приходится на пользователя?"
   ]
  },
  {
   "cell_type": "markdown",
   "metadata": {},
   "source": [
    "Посмотрим сколько в среднем событий приходится на пользователя:"
   ]
  },
  {
   "cell_type": "code",
   "execution_count": 14,
   "metadata": {},
   "outputs": [
    {
     "name": "stdout",
     "output_type": "stream",
     "text": [
      "В среднем на пользователя приходится 32 события\n"
     ]
    }
   ],
   "source": [
    "print('В среднем на пользователя приходится {:.0f} события'.format(logs_exp.shape[0] / logs_exp['id'].nunique()))"
   ]
  },
  {
   "cell_type": "code",
   "execution_count": 15,
   "metadata": {},
   "outputs": [
    {
     "data": {
      "image/svg+xml": [
       "<svg class=\"main-svg\" xmlns=\"http://www.w3.org/2000/svg\" xmlns:xlink=\"http://www.w3.org/1999/xlink\" width=\"700\" height=\"500\" style=\"\" viewBox=\"0 0 700 500\"><rect x=\"0\" y=\"0\" width=\"700\" height=\"500\" style=\"fill: rgb(255, 255, 255); fill-opacity: 1;\"/><defs id=\"defs-c3b4ac\"><g class=\"clips\"><clipPath id=\"clipc3b4acxyplot\" class=\"plotclip\"><rect width=\"540\" height=\"360\"/></clipPath><clipPath class=\"axesclip\" id=\"clipc3b4acx\"><rect x=\"80\" y=\"0\" width=\"540\" height=\"500\"/></clipPath><clipPath class=\"axesclip\" id=\"clipc3b4acy\"><rect x=\"0\" y=\"60\" width=\"700\" height=\"360\"/></clipPath><clipPath class=\"axesclip\" id=\"clipc3b4acxy\"><rect x=\"80\" y=\"60\" width=\"540\" height=\"360\"/></clipPath></g><g class=\"gradients\"/><g class=\"patterns\"/></defs><g class=\"bglayer\"><rect class=\"bg\" x=\"80\" y=\"60\" width=\"540\" height=\"360\" style=\"fill: rgb(229, 236, 246); fill-opacity: 1; stroke-width: 0;\"/></g><g class=\"layer-below\"><g class=\"imagelayer\"/><g class=\"shapelayer\"/></g><g class=\"cartesianlayer\"><g class=\"subplot xy\"><g class=\"layer-subplot\"><g class=\"shapelayer\"/><g class=\"imagelayer\"/></g><g class=\"gridlayer\"><g class=\"x\"/><g class=\"y\"><path class=\"ygrid crisp\" transform=\"translate(0,377.69)\" d=\"M80,0h540\" style=\"stroke: rgb(255, 255, 255); stroke-opacity: 1; stroke-width: 1px;\"/><path class=\"ygrid crisp\" transform=\"translate(0,335.38)\" d=\"M80,0h540\" style=\"stroke: rgb(255, 255, 255); stroke-opacity: 1; stroke-width: 1px;\"/><path class=\"ygrid crisp\" transform=\"translate(0,293.07)\" d=\"M80,0h540\" style=\"stroke: rgb(255, 255, 255); stroke-opacity: 1; stroke-width: 1px;\"/><path class=\"ygrid crisp\" transform=\"translate(0,250.76)\" d=\"M80,0h540\" style=\"stroke: rgb(255, 255, 255); stroke-opacity: 1; stroke-width: 1px;\"/><path class=\"ygrid crisp\" transform=\"translate(0,208.44)\" d=\"M80,0h540\" style=\"stroke: rgb(255, 255, 255); stroke-opacity: 1; stroke-width: 1px;\"/><path class=\"ygrid crisp\" transform=\"translate(0,166.13)\" d=\"M80,0h540\" style=\"stroke: rgb(255, 255, 255); stroke-opacity: 1; stroke-width: 1px;\"/><path class=\"ygrid crisp\" transform=\"translate(0,123.82)\" d=\"M80,0h540\" style=\"stroke: rgb(255, 255, 255); stroke-opacity: 1; stroke-width: 1px;\"/><path class=\"ygrid crisp\" transform=\"translate(0,81.51)\" d=\"M80,0h540\" style=\"stroke: rgb(255, 255, 255); stroke-opacity: 1; stroke-width: 1px;\"/></g></g><g class=\"zerolinelayer\"><path class=\"yzl zl crisp\" transform=\"translate(0,420)\" d=\"M80,0h540\" style=\"stroke: rgb(255, 255, 255); stroke-opacity: 1; stroke-width: 2px;\"/></g><path class=\"xlines-below\"/><path class=\"ylines-below\"/><g class=\"overlines-below\"/><g class=\"xaxislayer-below\"/><g class=\"yaxislayer-below\"/><g class=\"overaxes-below\"/><g class=\"plot\" transform=\"translate(80,60)\" clip-path=\"url(#clipc3b4acxyplot)\"><g class=\"barlayer mlayer\"><g class=\"trace bars\" shape-rendering=\"crispEdges\" style=\"opacity: 1;\"><g class=\"points\"><g class=\"point\"><path d=\"M0,360V359.96H4.86V360Z\" style=\"vector-effect: non-scaling-stroke; opacity: 1; stroke-width: 0px; fill: rgb(99, 110, 250); fill-opacity: 1;\"/></g><g class=\"point\"><path d=\"M0,0Z\" style=\"vector-effect: non-scaling-stroke; opacity: 1; stroke-width: 0px; fill: rgb(99, 110, 250); fill-opacity: 1;\"/></g><g class=\"point\"><path d=\"M9.73,360V359.79H14.59V360Z\" style=\"vector-effect: non-scaling-stroke; opacity: 1; stroke-width: 0px; fill: rgb(99, 110, 250); fill-opacity: 1;\"/></g><g class=\"point\"><path d=\"M14.59,360V359.96H19.46V360Z\" style=\"vector-effect: non-scaling-stroke; opacity: 1; stroke-width: 0px; fill: rgb(99, 110, 250); fill-opacity: 1;\"/></g><g class=\"point\"><path d=\"M0,0Z\" style=\"vector-effect: non-scaling-stroke; opacity: 1; stroke-width: 0px; fill: rgb(99, 110, 250); fill-opacity: 1;\"/></g><g class=\"point\"><path d=\"M24.32,360V359.92H29.19V360Z\" style=\"vector-effect: non-scaling-stroke; opacity: 1; stroke-width: 0px; fill: rgb(99, 110, 250); fill-opacity: 1;\"/></g><g class=\"point\"><path d=\"M0,0Z\" style=\"vector-effect: non-scaling-stroke; opacity: 1; stroke-width: 0px; fill: rgb(99, 110, 250); fill-opacity: 1;\"/></g><g class=\"point\"><path d=\"M0,0Z\" style=\"vector-effect: non-scaling-stroke; opacity: 1; stroke-width: 0px; fill: rgb(99, 110, 250); fill-opacity: 1;\"/></g><g class=\"point\"><path d=\"M38.92,360V359.92H43.78V360Z\" style=\"vector-effect: non-scaling-stroke; opacity: 1; stroke-width: 0px; fill: rgb(99, 110, 250); fill-opacity: 1;\"/></g><g class=\"point\"><path d=\"M43.78,360V359.87H48.65V360Z\" style=\"vector-effect: non-scaling-stroke; opacity: 1; stroke-width: 0px; fill: rgb(99, 110, 250); fill-opacity: 1;\"/></g><g class=\"point\"><path d=\"M48.65,360V359.87H53.51V360Z\" style=\"vector-effect: non-scaling-stroke; opacity: 1; stroke-width: 0px; fill: rgb(99, 110, 250); fill-opacity: 1;\"/></g><g class=\"point\"><path d=\"M53.51,360V359.7H58.38V360Z\" style=\"vector-effect: non-scaling-stroke; opacity: 1; stroke-width: 0px; fill: rgb(99, 110, 250); fill-opacity: 1;\"/></g><g class=\"point\"><path d=\"M58.38,360V359.79H63.24V360Z\" style=\"vector-effect: non-scaling-stroke; opacity: 1; stroke-width: 0px; fill: rgb(99, 110, 250); fill-opacity: 1;\"/></g><g class=\"point\"><path d=\"M63.24,360V359.58H68.11V360Z\" style=\"vector-effect: non-scaling-stroke; opacity: 1; stroke-width: 0px; fill: rgb(99, 110, 250); fill-opacity: 1;\"/></g><g class=\"point\"><path d=\"M68.11,360V359.96H72.97V360Z\" style=\"vector-effect: non-scaling-stroke; opacity: 1; stroke-width: 0px; fill: rgb(99, 110, 250); fill-opacity: 1;\"/></g><g class=\"point\"><path d=\"M0,0Z\" style=\"vector-effect: non-scaling-stroke; opacity: 1; stroke-width: 0px; fill: rgb(99, 110, 250); fill-opacity: 1;\"/></g><g class=\"point\"><path d=\"M77.84,360V359.96H82.7V360Z\" style=\"vector-effect: non-scaling-stroke; opacity: 1; stroke-width: 0px; fill: rgb(99, 110, 250); fill-opacity: 1;\"/></g><g class=\"point\"><path d=\"M82.7,360V359.45H87.57V360Z\" style=\"vector-effect: non-scaling-stroke; opacity: 1; stroke-width: 0px; fill: rgb(99, 110, 250); fill-opacity: 1;\"/></g><g class=\"point\"><path d=\"M87.57,360V359.41H92.43V360Z\" style=\"vector-effect: non-scaling-stroke; opacity: 1; stroke-width: 0px; fill: rgb(99, 110, 250); fill-opacity: 1;\"/></g><g class=\"point\"><path d=\"M92.43,360V359.7H97.3V360Z\" style=\"vector-effect: non-scaling-stroke; opacity: 1; stroke-width: 0px; fill: rgb(99, 110, 250); fill-opacity: 1;\"/></g><g class=\"point\"><path d=\"M97.3,360V359.45H102.16V360Z\" style=\"vector-effect: non-scaling-stroke; opacity: 1; stroke-width: 0px; fill: rgb(99, 110, 250); fill-opacity: 1;\"/></g><g class=\"point\"><path d=\"M102.16,360V359.75H107.03V360Z\" style=\"vector-effect: non-scaling-stroke; opacity: 1; stroke-width: 0px; fill: rgb(99, 110, 250); fill-opacity: 1;\"/></g><g class=\"point\"><path d=\"M107.03,360V359.96H111.89V360Z\" style=\"vector-effect: non-scaling-stroke; opacity: 1; stroke-width: 0px; fill: rgb(99, 110, 250); fill-opacity: 1;\"/></g><g class=\"point\"><path d=\"M111.89,360V359.96H116.76V360Z\" style=\"vector-effect: non-scaling-stroke; opacity: 1; stroke-width: 0px; fill: rgb(99, 110, 250); fill-opacity: 1;\"/></g><g class=\"point\"><path d=\"M116.76,360V359.53H121.62V360Z\" style=\"vector-effect: non-scaling-stroke; opacity: 1; stroke-width: 0px; fill: rgb(99, 110, 250); fill-opacity: 1;\"/></g><g class=\"point\"><path d=\"M121.62,360V359.37H126.49V360Z\" style=\"vector-effect: non-scaling-stroke; opacity: 1; stroke-width: 0px; fill: rgb(99, 110, 250); fill-opacity: 1;\"/></g><g class=\"point\"><path d=\"M126.49,360V359.75H131.35V360Z\" style=\"vector-effect: non-scaling-stroke; opacity: 1; stroke-width: 0px; fill: rgb(99, 110, 250); fill-opacity: 1;\"/></g><g class=\"point\"><path d=\"M131.35,360V358.69H136.22V360Z\" style=\"vector-effect: non-scaling-stroke; opacity: 1; stroke-width: 0px; fill: rgb(99, 110, 250); fill-opacity: 1;\"/></g><g class=\"point\"><path d=\"M136.22,360V358.98H141.08V360Z\" style=\"vector-effect: non-scaling-stroke; opacity: 1; stroke-width: 0px; fill: rgb(99, 110, 250); fill-opacity: 1;\"/></g><g class=\"point\"><path d=\"M141.08,360V359.37H145.95V360Z\" style=\"vector-effect: non-scaling-stroke; opacity: 1; stroke-width: 0px; fill: rgb(99, 110, 250); fill-opacity: 1;\"/></g><g class=\"point\"><path d=\"M145.95,360V359.92H150.81V360Z\" style=\"vector-effect: non-scaling-stroke; opacity: 1; stroke-width: 0px; fill: rgb(99, 110, 250); fill-opacity: 1;\"/></g><g class=\"point\"><path d=\"M150.81,360V359.92H155.68V360Z\" style=\"vector-effect: non-scaling-stroke; opacity: 1; stroke-width: 0px; fill: rgb(99, 110, 250); fill-opacity: 1;\"/></g><g class=\"point\"><path d=\"M155.68,360V359.75H160.54V360Z\" style=\"vector-effect: non-scaling-stroke; opacity: 1; stroke-width: 0px; fill: rgb(99, 110, 250); fill-opacity: 1;\"/></g><g class=\"point\"><path d=\"M160.54,360V359.58H165.41V360Z\" style=\"vector-effect: non-scaling-stroke; opacity: 1; stroke-width: 0px; fill: rgb(99, 110, 250); fill-opacity: 1;\"/></g><g class=\"point\"><path d=\"M165.41,360V358.9H170.27V360Z\" style=\"vector-effect: non-scaling-stroke; opacity: 1; stroke-width: 0px; fill: rgb(99, 110, 250); fill-opacity: 1;\"/></g><g class=\"point\"><path d=\"M170.27,360V358.01H175.14V360Z\" style=\"vector-effect: non-scaling-stroke; opacity: 1; stroke-width: 0px; fill: rgb(99, 110, 250); fill-opacity: 1;\"/></g><g class=\"point\"><path d=\"M175.14,360V357.63H180V360Z\" style=\"vector-effect: non-scaling-stroke; opacity: 1; stroke-width: 0px; fill: rgb(99, 110, 250); fill-opacity: 1;\"/></g><g class=\"point\"><path d=\"M180,360V358.65H184.86V360Z\" style=\"vector-effect: non-scaling-stroke; opacity: 1; stroke-width: 0px; fill: rgb(99, 110, 250); fill-opacity: 1;\"/></g><g class=\"point\"><path d=\"M184.86,360V359.79H189.73V360Z\" style=\"vector-effect: non-scaling-stroke; opacity: 1; stroke-width: 0px; fill: rgb(99, 110, 250); fill-opacity: 1;\"/></g><g class=\"point\"><path d=\"M189.73,360V359.83H194.59V360Z\" style=\"vector-effect: non-scaling-stroke; opacity: 1; stroke-width: 0px; fill: rgb(99, 110, 250); fill-opacity: 1;\"/></g><g class=\"point\"><path d=\"M194.59,360V358.77H199.46V360Z\" style=\"vector-effect: non-scaling-stroke; opacity: 1; stroke-width: 0px; fill: rgb(99, 110, 250); fill-opacity: 1;\"/></g><g class=\"point\"><path d=\"M199.46,360V357.97H204.32V360Z\" style=\"vector-effect: non-scaling-stroke; opacity: 1; stroke-width: 0px; fill: rgb(99, 110, 250); fill-opacity: 1;\"/></g><g class=\"point\"><path d=\"M204.32,360V356.53H209.19V360Z\" style=\"vector-effect: non-scaling-stroke; opacity: 1; stroke-width: 0px; fill: rgb(99, 110, 250); fill-opacity: 1;\"/></g><g class=\"point\"><path d=\"M209.19,360V356.95H214.05V360Z\" style=\"vector-effect: non-scaling-stroke; opacity: 1; stroke-width: 0px; fill: rgb(99, 110, 250); fill-opacity: 1;\"/></g><g class=\"point\"><path d=\"M214.05,360V355.81H218.92V360Z\" style=\"vector-effect: non-scaling-stroke; opacity: 1; stroke-width: 0px; fill: rgb(99, 110, 250); fill-opacity: 1;\"/></g><g class=\"point\"><path d=\"M218.92,360V357.55H223.78V360Z\" style=\"vector-effect: non-scaling-stroke; opacity: 1; stroke-width: 0px; fill: rgb(99, 110, 250); fill-opacity: 1;\"/></g><g class=\"point\"><path d=\"M223.78,360V359.15H228.65V360Z\" style=\"vector-effect: non-scaling-stroke; opacity: 1; stroke-width: 0px; fill: rgb(99, 110, 250); fill-opacity: 1;\"/></g><g class=\"point\"><path d=\"M228.65,360V359.79H233.51V360Z\" style=\"vector-effect: non-scaling-stroke; opacity: 1; stroke-width: 0px; fill: rgb(99, 110, 250); fill-opacity: 1;\"/></g><g class=\"point\"><path d=\"M233.51,360V357.42H238.38V360Z\" style=\"vector-effect: non-scaling-stroke; opacity: 1; stroke-width: 0px; fill: rgb(99, 110, 250); fill-opacity: 1;\"/></g><g class=\"point\"><path d=\"M238.38,360V355.47H243.24V360Z\" style=\"vector-effect: non-scaling-stroke; opacity: 1; stroke-width: 0px; fill: rgb(99, 110, 250); fill-opacity: 1;\"/></g><g class=\"point\"><path d=\"M243.24,360V351.96H248.11V360Z\" style=\"vector-effect: non-scaling-stroke; opacity: 1; stroke-width: 0px; fill: rgb(99, 110, 250); fill-opacity: 1;\"/></g><g class=\"point\"><path d=\"M248.11,360V348.53H252.97V360Z\" style=\"vector-effect: non-scaling-stroke; opacity: 1; stroke-width: 0px; fill: rgb(99, 110, 250); fill-opacity: 1;\"/></g><g class=\"point\"><path d=\"M252.97,360V345.95H257.84V360Z\" style=\"vector-effect: non-scaling-stroke; opacity: 1; stroke-width: 0px; fill: rgb(99, 110, 250); fill-opacity: 1;\"/></g><g class=\"point\"><path d=\"M257.84,360V350.4H262.7V360Z\" style=\"vector-effect: non-scaling-stroke; opacity: 1; stroke-width: 0px; fill: rgb(99, 110, 250); fill-opacity: 1;\"/></g><g class=\"point\"><path d=\"M262.7,360V324.59H267.57V360Z\" style=\"vector-effect: non-scaling-stroke; opacity: 1; stroke-width: 0px; fill: rgb(99, 110, 250); fill-opacity: 1;\"/></g><g class=\"point\"><path d=\"M267.57,360V328.35H272.43V360Z\" style=\"vector-effect: non-scaling-stroke; opacity: 1; stroke-width: 0px; fill: rgb(99, 110, 250); fill-opacity: 1;\"/></g><g class=\"point\"><path d=\"M272.43,360V249.65H277.3V360Z\" style=\"vector-effect: non-scaling-stroke; opacity: 1; stroke-width: 0px; fill: rgb(99, 110, 250); fill-opacity: 1;\"/></g><g class=\"point\"><path d=\"M277.3,360V144.68H282.16V360Z\" style=\"vector-effect: non-scaling-stroke; opacity: 1; stroke-width: 0px; fill: rgb(99, 110, 250); fill-opacity: 1;\"/></g><g class=\"point\"><path d=\"M282.16,360V84.77H287.03V360Z\" style=\"vector-effect: non-scaling-stroke; opacity: 1; stroke-width: 0px; fill: rgb(99, 110, 250); fill-opacity: 1;\"/></g><g class=\"point\"><path d=\"M287.03,360V36.28H291.89V360Z\" style=\"vector-effect: non-scaling-stroke; opacity: 1; stroke-width: 0px; fill: rgb(99, 110, 250); fill-opacity: 1;\"/></g><g class=\"point\"><path d=\"M291.89,360V46.6H296.76V360Z\" style=\"vector-effect: non-scaling-stroke; opacity: 1; stroke-width: 0px; fill: rgb(99, 110, 250); fill-opacity: 1;\"/></g><g class=\"point\"><path d=\"M296.76,360V151.75H301.62V360Z\" style=\"vector-effect: non-scaling-stroke; opacity: 1; stroke-width: 0px; fill: rgb(99, 110, 250); fill-opacity: 1;\"/></g><g class=\"point\"><path d=\"M301.62,360V308.76H306.49V360Z\" style=\"vector-effect: non-scaling-stroke; opacity: 1; stroke-width: 0px; fill: rgb(99, 110, 250); fill-opacity: 1;\"/></g><g class=\"point\"><path d=\"M306.49,360V268.82H311.35V360Z\" style=\"vector-effect: non-scaling-stroke; opacity: 1; stroke-width: 0px; fill: rgb(99, 110, 250); fill-opacity: 1;\"/></g><g class=\"point\"><path d=\"M311.35,360V247.54H316.22V360Z\" style=\"vector-effect: non-scaling-stroke; opacity: 1; stroke-width: 0px; fill: rgb(99, 110, 250); fill-opacity: 1;\"/></g><g class=\"point\"><path d=\"M316.22,360V148.95H321.08V360Z\" style=\"vector-effect: non-scaling-stroke; opacity: 1; stroke-width: 0px; fill: rgb(99, 110, 250); fill-opacity: 1;\"/></g><g class=\"point\"><path d=\"M321.08,360V83.84H325.95V360Z\" style=\"vector-effect: non-scaling-stroke; opacity: 1; stroke-width: 0px; fill: rgb(99, 110, 250); fill-opacity: 1;\"/></g><g class=\"point\"><path d=\"M325.95,360V80.79H330.81V360Z\" style=\"vector-effect: non-scaling-stroke; opacity: 1; stroke-width: 0px; fill: rgb(99, 110, 250); fill-opacity: 1;\"/></g><g class=\"point\"><path d=\"M330.81,360V77.02H335.68V360Z\" style=\"vector-effect: non-scaling-stroke; opacity: 1; stroke-width: 0px; fill: rgb(99, 110, 250); fill-opacity: 1;\"/></g><g class=\"point\"><path d=\"M335.68,360V159.23H340.54V360Z\" style=\"vector-effect: non-scaling-stroke; opacity: 1; stroke-width: 0px; fill: rgb(99, 110, 250); fill-opacity: 1;\"/></g><g class=\"point\"><path d=\"M340.54,360V309.48H345.41V360Z\" style=\"vector-effect: non-scaling-stroke; opacity: 1; stroke-width: 0px; fill: rgb(99, 110, 250); fill-opacity: 1;\"/></g><g class=\"point\"><path d=\"M345.41,360V329.75H350.27V360Z\" style=\"vector-effect: non-scaling-stroke; opacity: 1; stroke-width: 0px; fill: rgb(99, 110, 250); fill-opacity: 1;\"/></g><g class=\"point\"><path d=\"M350.27,360V272.2H355.14V360Z\" style=\"vector-effect: non-scaling-stroke; opacity: 1; stroke-width: 0px; fill: rgb(99, 110, 250); fill-opacity: 1;\"/></g><g class=\"point\"><path d=\"M355.14,360V148.32H360V360Z\" style=\"vector-effect: non-scaling-stroke; opacity: 1; stroke-width: 0px; fill: rgb(99, 110, 250); fill-opacity: 1;\"/></g><g class=\"point\"><path d=\"M360,360V49.48H364.86V360Z\" style=\"vector-effect: non-scaling-stroke; opacity: 1; stroke-width: 0px; fill: rgb(99, 110, 250); fill-opacity: 1;\"/></g><g class=\"point\"><path d=\"M364.86,360V66.49H369.73V360Z\" style=\"vector-effect: non-scaling-stroke; opacity: 1; stroke-width: 0px; fill: rgb(99, 110, 250); fill-opacity: 1;\"/></g><g class=\"point\"><path d=\"M369.73,360V88.28H374.59V360Z\" style=\"vector-effect: non-scaling-stroke; opacity: 1; stroke-width: 0px; fill: rgb(99, 110, 250); fill-opacity: 1;\"/></g><g class=\"point\"><path d=\"M374.59,360V194.27H379.46V360Z\" style=\"vector-effect: non-scaling-stroke; opacity: 1; stroke-width: 0px; fill: rgb(99, 110, 250); fill-opacity: 1;\"/></g><g class=\"point\"><path d=\"M379.46,360V323.02H384.32V360Z\" style=\"vector-effect: non-scaling-stroke; opacity: 1; stroke-width: 0px; fill: rgb(99, 110, 250); fill-opacity: 1;\"/></g><g class=\"point\"><path d=\"M384.32,360V336.35H389.19V360Z\" style=\"vector-effect: non-scaling-stroke; opacity: 1; stroke-width: 0px; fill: rgb(99, 110, 250); fill-opacity: 1;\"/></g><g class=\"point\"><path d=\"M389.19,360V266.53H394.05V360Z\" style=\"vector-effect: non-scaling-stroke; opacity: 1; stroke-width: 0px; fill: rgb(99, 110, 250); fill-opacity: 1;\"/></g><g class=\"point\"><path d=\"M394.05,360V158.73H398.92V360Z\" style=\"vector-effect: non-scaling-stroke; opacity: 1; stroke-width: 0px; fill: rgb(99, 110, 250); fill-opacity: 1;\"/></g><g class=\"point\"><path d=\"M398.92,360V65.3H403.78V360Z\" style=\"vector-effect: non-scaling-stroke; opacity: 1; stroke-width: 0px; fill: rgb(99, 110, 250); fill-opacity: 1;\"/></g><g class=\"point\"><path d=\"M403.78,360V85.53H408.65V360Z\" style=\"vector-effect: non-scaling-stroke; opacity: 1; stroke-width: 0px; fill: rgb(99, 110, 250); fill-opacity: 1;\"/></g><g class=\"point\"><path d=\"M408.65,360V72.33H413.51V360Z\" style=\"vector-effect: non-scaling-stroke; opacity: 1; stroke-width: 0px; fill: rgb(99, 110, 250); fill-opacity: 1;\"/></g><g class=\"point\"><path d=\"M413.51,360V193.59H418.38V360Z\" style=\"vector-effect: non-scaling-stroke; opacity: 1; stroke-width: 0px; fill: rgb(99, 110, 250); fill-opacity: 1;\"/></g><g class=\"point\"><path d=\"M418.38,360V306.73H423.24V360Z\" style=\"vector-effect: non-scaling-stroke; opacity: 1; stroke-width: 0px; fill: rgb(99, 110, 250); fill-opacity: 1;\"/></g><g class=\"point\"><path d=\"M423.24,360V331.99H428.11V360Z\" style=\"vector-effect: non-scaling-stroke; opacity: 1; stroke-width: 0px; fill: rgb(99, 110, 250); fill-opacity: 1;\"/></g><g class=\"point\"><path d=\"M428.11,360V244.03H432.97V360Z\" style=\"vector-effect: non-scaling-stroke; opacity: 1; stroke-width: 0px; fill: rgb(99, 110, 250); fill-opacity: 1;\"/></g><g class=\"point\"><path d=\"M432.97,360V151.53H437.84V360Z\" style=\"vector-effect: non-scaling-stroke; opacity: 1; stroke-width: 0px; fill: rgb(99, 110, 250); fill-opacity: 1;\"/></g><g class=\"point\"><path d=\"M437.84,360V85.23H442.7V360Z\" style=\"vector-effect: non-scaling-stroke; opacity: 1; stroke-width: 0px; fill: rgb(99, 110, 250); fill-opacity: 1;\"/></g><g class=\"point\"><path d=\"M442.7,360V38.65H447.57V360Z\" style=\"vector-effect: non-scaling-stroke; opacity: 1; stroke-width: 0px; fill: rgb(99, 110, 250); fill-opacity: 1;\"/></g><g class=\"point\"><path d=\"M447.57,360V18H452.43V360Z\" style=\"vector-effect: non-scaling-stroke; opacity: 1; stroke-width: 0px; fill: rgb(99, 110, 250); fill-opacity: 1;\"/></g><g class=\"point\"><path d=\"M452.43,360V177.47H457.3V360Z\" style=\"vector-effect: non-scaling-stroke; opacity: 1; stroke-width: 0px; fill: rgb(99, 110, 250); fill-opacity: 1;\"/></g><g class=\"point\"><path d=\"M457.3,360V307.45H462.16V360Z\" style=\"vector-effect: non-scaling-stroke; opacity: 1; stroke-width: 0px; fill: rgb(99, 110, 250); fill-opacity: 1;\"/></g><g class=\"point\"><path d=\"M462.16,360V328.22H467.03V360Z\" style=\"vector-effect: non-scaling-stroke; opacity: 1; stroke-width: 0px; fill: rgb(99, 110, 250); fill-opacity: 1;\"/></g><g class=\"point\"><path d=\"M467.03,360V204.17H471.89V360Z\" style=\"vector-effect: non-scaling-stroke; opacity: 1; stroke-width: 0px; fill: rgb(99, 110, 250); fill-opacity: 1;\"/></g><g class=\"point\"><path d=\"M471.89,360V141H476.76V360Z\" style=\"vector-effect: non-scaling-stroke; opacity: 1; stroke-width: 0px; fill: rgb(99, 110, 250); fill-opacity: 1;\"/></g><g class=\"point\"><path d=\"M476.76,360V108.84H481.62V360Z\" style=\"vector-effect: non-scaling-stroke; opacity: 1; stroke-width: 0px; fill: rgb(99, 110, 250); fill-opacity: 1;\"/></g><g class=\"point\"><path d=\"M481.62,360V70.8H486.49V360Z\" style=\"vector-effect: non-scaling-stroke; opacity: 1; stroke-width: 0px; fill: rgb(99, 110, 250); fill-opacity: 1;\"/></g><g class=\"point\"><path d=\"M486.49,360V37.67H491.35V360Z\" style=\"vector-effect: non-scaling-stroke; opacity: 1; stroke-width: 0px; fill: rgb(99, 110, 250); fill-opacity: 1;\"/></g><g class=\"point\"><path d=\"M491.35,360V147.22H496.22V360Z\" style=\"vector-effect: non-scaling-stroke; opacity: 1; stroke-width: 0px; fill: rgb(99, 110, 250); fill-opacity: 1;\"/></g><g class=\"point\"><path d=\"M496.22,360V327.84H501.08V360Z\" style=\"vector-effect: non-scaling-stroke; opacity: 1; stroke-width: 0px; fill: rgb(99, 110, 250); fill-opacity: 1;\"/></g><g class=\"point\"><path d=\"M501.08,360V332.24H505.95V360Z\" style=\"vector-effect: non-scaling-stroke; opacity: 1; stroke-width: 0px; fill: rgb(99, 110, 250); fill-opacity: 1;\"/></g><g class=\"point\"><path d=\"M505.95,360V234.46H510.81V360Z\" style=\"vector-effect: non-scaling-stroke; opacity: 1; stroke-width: 0px; fill: rgb(99, 110, 250); fill-opacity: 1;\"/></g><g class=\"point\"><path d=\"M510.81,360V174.38H515.68V360Z\" style=\"vector-effect: non-scaling-stroke; opacity: 1; stroke-width: 0px; fill: rgb(99, 110, 250); fill-opacity: 1;\"/></g><g class=\"point\"><path d=\"M515.68,360V126.32H520.54V360Z\" style=\"vector-effect: non-scaling-stroke; opacity: 1; stroke-width: 0px; fill: rgb(99, 110, 250); fill-opacity: 1;\"/></g><g class=\"point\"><path d=\"M520.54,360V94.2H525.41V360Z\" style=\"vector-effect: non-scaling-stroke; opacity: 1; stroke-width: 0px; fill: rgb(99, 110, 250); fill-opacity: 1;\"/></g><g class=\"point\"><path d=\"M525.41,360V60.52H530.27V360Z\" style=\"vector-effect: non-scaling-stroke; opacity: 1; stroke-width: 0px; fill: rgb(99, 110, 250); fill-opacity: 1;\"/></g><g class=\"point\"><path d=\"M530.27,360V185.04H535.14V360Z\" style=\"vector-effect: non-scaling-stroke; opacity: 1; stroke-width: 0px; fill: rgb(99, 110, 250); fill-opacity: 1;\"/></g><g class=\"point\"><path d=\"M535.14,360V357.12H540V360Z\" style=\"vector-effect: non-scaling-stroke; opacity: 1; stroke-width: 0px; fill: rgb(99, 110, 250); fill-opacity: 1;\"/></g></g></g></g></g><g class=\"overplot\"/><path class=\"xlines-above crisp\" d=\"M0,0\" style=\"fill: none;\"/><path class=\"ylines-above crisp\" d=\"M0,0\" style=\"fill: none;\"/><g class=\"overlines-above\"/><g class=\"xaxislayer-above\"><g class=\"xtick\"><text text-anchor=\"middle\" x=\"0\" y=\"433\" transform=\"translate(152.97,0)\" style=\"font-family: 'Open Sans', verdana, arial, sans-serif; font-size: 12px; fill: rgb(42, 63, 95); fill-opacity: 1; white-space: pre; opacity: 1;\"><tspan class=\"line\" dy=\"0em\" x=\"0\" y=\"433\">Jul 27</tspan><tspan class=\"line\" dy=\"1.3em\" x=\"0\" y=\"433\">2019</tspan></text></g><g class=\"xtick\"><text text-anchor=\"middle\" x=\"0\" y=\"433\" style=\"font-family: 'Open Sans', verdana, arial, sans-serif; font-size: 12px; fill: rgb(42, 63, 95); fill-opacity: 1; white-space: pre; opacity: 1;\" transform=\"translate(230.81,0)\">Jul 29</text></g><g class=\"xtick\"><text text-anchor=\"middle\" x=\"0\" y=\"433\" style=\"font-family: 'Open Sans', verdana, arial, sans-serif; font-size: 12px; fill: rgb(42, 63, 95); fill-opacity: 1; white-space: pre; opacity: 1;\" transform=\"translate(308.65,0)\">Jul 31</text></g><g class=\"xtick\"><text text-anchor=\"middle\" x=\"0\" y=\"433\" style=\"font-family: 'Open Sans', verdana, arial, sans-serif; font-size: 12px; fill: rgb(42, 63, 95); fill-opacity: 1; white-space: pre; opacity: 1;\" transform=\"translate(386.49,0)\">Aug 2</text></g><g class=\"xtick\"><text text-anchor=\"middle\" x=\"0\" y=\"433\" style=\"font-family: 'Open Sans', verdana, arial, sans-serif; font-size: 12px; fill: rgb(42, 63, 95); fill-opacity: 1; white-space: pre; opacity: 1;\" transform=\"translate(464.32,0)\">Aug 4</text></g><g class=\"xtick\"><text text-anchor=\"middle\" x=\"0\" y=\"433\" style=\"font-family: 'Open Sans', verdana, arial, sans-serif; font-size: 12px; fill: rgb(42, 63, 95); fill-opacity: 1; white-space: pre; opacity: 1;\" transform=\"translate(542.1600000000001,0)\">Aug 6</text></g><g class=\"xtick\"><text text-anchor=\"middle\" x=\"0\" y=\"433\" style=\"font-family: 'Open Sans', verdana, arial, sans-serif; font-size: 12px; fill: rgb(42, 63, 95); fill-opacity: 1; white-space: pre; opacity: 1;\" transform=\"translate(620,0)\">Aug 8</text></g></g><g class=\"yaxislayer-above\"><g class=\"ytick\"><text text-anchor=\"end\" x=\"79\" y=\"4.199999999999999\" transform=\"translate(0,420)\" style=\"font-family: 'Open Sans', verdana, arial, sans-serif; font-size: 12px; fill: rgb(42, 63, 95); fill-opacity: 1; white-space: pre; opacity: 1;\">0</text></g><g class=\"ytick\"><text text-anchor=\"end\" x=\"79\" y=\"4.199999999999999\" style=\"font-family: 'Open Sans', verdana, arial, sans-serif; font-size: 12px; fill: rgb(42, 63, 95); fill-opacity: 1; white-space: pre; opacity: 1;\" transform=\"translate(0,377.69)\">1000</text></g><g class=\"ytick\"><text text-anchor=\"end\" x=\"79\" y=\"4.199999999999999\" style=\"font-family: 'Open Sans', verdana, arial, sans-serif; font-size: 12px; fill: rgb(42, 63, 95); fill-opacity: 1; white-space: pre; opacity: 1;\" transform=\"translate(0,335.38)\">2000</text></g><g class=\"ytick\"><text text-anchor=\"end\" x=\"79\" y=\"4.199999999999999\" style=\"font-family: 'Open Sans', verdana, arial, sans-serif; font-size: 12px; fill: rgb(42, 63, 95); fill-opacity: 1; white-space: pre; opacity: 1;\" transform=\"translate(0,293.07)\">3000</text></g><g class=\"ytick\"><text text-anchor=\"end\" x=\"79\" y=\"4.199999999999999\" style=\"font-family: 'Open Sans', verdana, arial, sans-serif; font-size: 12px; fill: rgb(42, 63, 95); fill-opacity: 1; white-space: pre; opacity: 1;\" transform=\"translate(0,250.76)\">4000</text></g><g class=\"ytick\"><text text-anchor=\"end\" x=\"79\" y=\"4.199999999999999\" style=\"font-family: 'Open Sans', verdana, arial, sans-serif; font-size: 12px; fill: rgb(42, 63, 95); fill-opacity: 1; white-space: pre; opacity: 1;\" transform=\"translate(0,208.44)\">5000</text></g><g class=\"ytick\"><text text-anchor=\"end\" x=\"79\" y=\"4.199999999999999\" style=\"font-family: 'Open Sans', verdana, arial, sans-serif; font-size: 12px; fill: rgb(42, 63, 95); fill-opacity: 1; white-space: pre; opacity: 1;\" transform=\"translate(0,166.13)\">6000</text></g><g class=\"ytick\"><text text-anchor=\"end\" x=\"79\" y=\"4.199999999999999\" style=\"font-family: 'Open Sans', verdana, arial, sans-serif; font-size: 12px; fill: rgb(42, 63, 95); fill-opacity: 1; white-space: pre; opacity: 1;\" transform=\"translate(0,123.82)\">7000</text></g><g class=\"ytick\"><text text-anchor=\"end\" x=\"79\" y=\"4.199999999999999\" style=\"font-family: 'Open Sans', verdana, arial, sans-serif; font-size: 12px; fill: rgb(42, 63, 95); fill-opacity: 1; white-space: pre; opacity: 1;\" transform=\"translate(0,81.51)\">8000</text></g></g><g class=\"overaxes-above\"/></g></g><g class=\"polarlayer\"/><g class=\"smithlayer\"/><g class=\"ternarylayer\"/><g class=\"geolayer\"/><g class=\"funnelarealayer\"/><g class=\"pielayer\"/><g class=\"iciclelayer\"/><g class=\"treemaplayer\"/><g class=\"sunburstlayer\"/><g class=\"glimages\"/><defs id=\"topdefs-c3b4ac\"><g class=\"clips\"/></defs><g class=\"layer-above\"><g class=\"imagelayer\"/><g class=\"shapelayer\"/></g><g class=\"infolayer\"><g class=\"g-gtitle\"><text class=\"gtitle\" x=\"350\" y=\"25\" text-anchor=\"middle\" dy=\"0.7em\" style=\"font-family: 'Open Sans', verdana, arial, sans-serif; font-size: 17px; fill: rgb(42, 63, 95); opacity: 1; font-weight: normal; white-space: pre;\">Распределение числа событий на пользователя</text></g><g class=\"g-xtitle\"><text class=\"xtitle\" x=\"350\" y=\"476.409375\" text-anchor=\"middle\" style=\"font-family: 'Open Sans', verdana, arial, sans-serif; font-size: 14px; fill: rgb(42, 63, 95); opacity: 1; font-weight: normal; white-space: pre;\">Дата</text></g><g class=\"g-ytitle\"><text class=\"ytitle\" transform=\"rotate(-90,23.684375000000003,240)\" x=\"23.684375000000003\" y=\"240\" text-anchor=\"middle\" style=\"font-family: 'Open Sans', verdana, arial, sans-serif; font-size: 14px; fill: rgb(42, 63, 95); opacity: 1; font-weight: normal; white-space: pre;\">Событий</text></g></g></svg>"
      ]
     },
     "metadata": {},
     "output_type": "display_data"
    }
   ],
   "source": [
    "fig = px.histogram(logs_exp, x='event_time', nbins=150,  \n",
    "                   labels=dict(count = \"Количество событий\", event = \"Число пользователей\"))\n",
    "fig.update_layout(title={'text': \"Распределение числа событий на пользователя\", 'xanchor': 'center', 'y':0.95,\n",
    "        'x':0.5},\n",
    "                  yaxis_title=\"Событий\", xaxis_title='Дата',  )\n",
    "fig.show(\"svg\")"
   ]
  },
  {
   "cell_type": "markdown",
   "metadata": {},
   "source": [
    "Посмотрим количество событий по дням:"
   ]
  },
  {
   "cell_type": "code",
   "execution_count": 16,
   "metadata": {},
   "outputs": [
    {
     "data": {
      "text/html": [
       "<div>\n",
       "<style scoped>\n",
       "    .dataframe tbody tr th:only-of-type {\n",
       "        vertical-align: middle;\n",
       "    }\n",
       "\n",
       "    .dataframe tbody tr th {\n",
       "        vertical-align: top;\n",
       "    }\n",
       "\n",
       "    .dataframe thead th {\n",
       "        text-align: right;\n",
       "    }\n",
       "</style>\n",
       "<table border=\"1\" class=\"dataframe\">\n",
       "  <thead>\n",
       "    <tr style=\"text-align: right;\">\n",
       "      <th></th>\n",
       "      <th>event</th>\n",
       "    </tr>\n",
       "    <tr>\n",
       "      <th>date</th>\n",
       "      <th></th>\n",
       "    </tr>\n",
       "  </thead>\n",
       "  <tbody>\n",
       "    <tr>\n",
       "      <th>2019-07-25</th>\n",
       "      <td>9</td>\n",
       "    </tr>\n",
       "    <tr>\n",
       "      <th>2019-07-26</th>\n",
       "      <td>31</td>\n",
       "    </tr>\n",
       "    <tr>\n",
       "      <th>2019-07-27</th>\n",
       "      <td>55</td>\n",
       "    </tr>\n",
       "    <tr>\n",
       "      <th>2019-07-28</th>\n",
       "      <td>105</td>\n",
       "    </tr>\n",
       "    <tr>\n",
       "      <th>2019-07-29</th>\n",
       "      <td>184</td>\n",
       "    </tr>\n",
       "    <tr>\n",
       "      <th>2019-07-30</th>\n",
       "      <td>412</td>\n",
       "    </tr>\n",
       "    <tr>\n",
       "      <th>2019-07-31</th>\n",
       "      <td>2030</td>\n",
       "    </tr>\n",
       "    <tr>\n",
       "      <th>2019-08-01</th>\n",
       "      <td>36141</td>\n",
       "    </tr>\n",
       "    <tr>\n",
       "      <th>2019-08-02</th>\n",
       "      <td>35554</td>\n",
       "    </tr>\n",
       "    <tr>\n",
       "      <th>2019-08-03</th>\n",
       "      <td>33282</td>\n",
       "    </tr>\n",
       "    <tr>\n",
       "      <th>2019-08-04</th>\n",
       "      <td>32968</td>\n",
       "    </tr>\n",
       "    <tr>\n",
       "      <th>2019-08-05</th>\n",
       "      <td>36058</td>\n",
       "    </tr>\n",
       "    <tr>\n",
       "      <th>2019-08-06</th>\n",
       "      <td>35788</td>\n",
       "    </tr>\n",
       "    <tr>\n",
       "      <th>2019-08-07</th>\n",
       "      <td>31096</td>\n",
       "    </tr>\n",
       "  </tbody>\n",
       "</table>\n",
       "</div>"
      ],
      "text/plain": [
       "            event\n",
       "date             \n",
       "2019-07-25      9\n",
       "2019-07-26     31\n",
       "2019-07-27     55\n",
       "2019-07-28    105\n",
       "2019-07-29    184\n",
       "2019-07-30    412\n",
       "2019-07-31   2030\n",
       "2019-08-01  36141\n",
       "2019-08-02  35554\n",
       "2019-08-03  33282\n",
       "2019-08-04  32968\n",
       "2019-08-05  36058\n",
       "2019-08-06  35788\n",
       "2019-08-07  31096"
      ]
     },
     "execution_count": 16,
     "metadata": {},
     "output_type": "execute_result"
    }
   ],
   "source": [
    "events_day = logs_exp.groupby('date')['event'].count()\n",
    "events_day.to_frame()"
   ]
  },
  {
   "cell_type": "markdown",
   "metadata": {},
   "source": [
    "Посмотрим количество уникальных пользователей по дням:"
   ]
  },
  {
   "cell_type": "code",
   "execution_count": 17,
   "metadata": {},
   "outputs": [
    {
     "data": {
      "text/html": [
       "<div>\n",
       "<style scoped>\n",
       "    .dataframe tbody tr th:only-of-type {\n",
       "        vertical-align: middle;\n",
       "    }\n",
       "\n",
       "    .dataframe tbody tr th {\n",
       "        vertical-align: top;\n",
       "    }\n",
       "\n",
       "    .dataframe thead th {\n",
       "        text-align: right;\n",
       "    }\n",
       "</style>\n",
       "<table border=\"1\" class=\"dataframe\">\n",
       "  <thead>\n",
       "    <tr style=\"text-align: right;\">\n",
       "      <th></th>\n",
       "      <th>id</th>\n",
       "    </tr>\n",
       "    <tr>\n",
       "      <th>date</th>\n",
       "      <th></th>\n",
       "    </tr>\n",
       "  </thead>\n",
       "  <tbody>\n",
       "    <tr>\n",
       "      <th>2019-07-25</th>\n",
       "      <td>7</td>\n",
       "    </tr>\n",
       "    <tr>\n",
       "      <th>2019-07-26</th>\n",
       "      <td>22</td>\n",
       "    </tr>\n",
       "    <tr>\n",
       "      <th>2019-07-27</th>\n",
       "      <td>39</td>\n",
       "    </tr>\n",
       "    <tr>\n",
       "      <th>2019-07-28</th>\n",
       "      <td>69</td>\n",
       "    </tr>\n",
       "    <tr>\n",
       "      <th>2019-07-29</th>\n",
       "      <td>135</td>\n",
       "    </tr>\n",
       "    <tr>\n",
       "      <th>2019-07-30</th>\n",
       "      <td>296</td>\n",
       "    </tr>\n",
       "    <tr>\n",
       "      <th>2019-07-31</th>\n",
       "      <td>924</td>\n",
       "    </tr>\n",
       "    <tr>\n",
       "      <th>2019-08-01</th>\n",
       "      <td>3703</td>\n",
       "    </tr>\n",
       "    <tr>\n",
       "      <th>2019-08-02</th>\n",
       "      <td>3647</td>\n",
       "    </tr>\n",
       "    <tr>\n",
       "      <th>2019-08-03</th>\n",
       "      <td>3482</td>\n",
       "    </tr>\n",
       "    <tr>\n",
       "      <th>2019-08-04</th>\n",
       "      <td>3527</td>\n",
       "    </tr>\n",
       "    <tr>\n",
       "      <th>2019-08-05</th>\n",
       "      <td>3802</td>\n",
       "    </tr>\n",
       "    <tr>\n",
       "      <th>2019-08-06</th>\n",
       "      <td>3922</td>\n",
       "    </tr>\n",
       "    <tr>\n",
       "      <th>2019-08-07</th>\n",
       "      <td>3651</td>\n",
       "    </tr>\n",
       "  </tbody>\n",
       "</table>\n",
       "</div>"
      ],
      "text/plain": [
       "              id\n",
       "date            \n",
       "2019-07-25     7\n",
       "2019-07-26    22\n",
       "2019-07-27    39\n",
       "2019-07-28    69\n",
       "2019-07-29   135\n",
       "2019-07-30   296\n",
       "2019-07-31   924\n",
       "2019-08-01  3703\n",
       "2019-08-02  3647\n",
       "2019-08-03  3482\n",
       "2019-08-04  3527\n",
       "2019-08-05  3802\n",
       "2019-08-06  3922\n",
       "2019-08-07  3651"
      ]
     },
     "execution_count": 17,
     "metadata": {},
     "output_type": "execute_result"
    }
   ],
   "source": [
    "nunuq_id_day =  logs_exp.groupby('date')['id'].nunique()\n",
    "nunuq_id_day.to_frame()"
   ]
  },
  {
   "cell_type": "markdown",
   "metadata": {},
   "source": [
    "Обеъдиним таблицы в одну:"
   ]
  },
  {
   "cell_type": "code",
   "execution_count": 18,
   "metadata": {},
   "outputs": [],
   "source": [
    "days = pd.merge(events_day,nunuq_id_day, on = 'date')"
   ]
  },
  {
   "cell_type": "markdown",
   "metadata": {},
   "source": [
    "Посчитаем количество уникальный пользователей на каждый день в отдельный столбец **event_for_id**:"
   ]
  },
  {
   "cell_type": "code",
   "execution_count": 19,
   "metadata": {},
   "outputs": [],
   "source": [
    "days['event_for_id'] = days['event'] / days['id']"
   ]
  },
  {
   "cell_type": "markdown",
   "metadata": {},
   "source": [
    "Посмотрим итоговый вариант таблицы:"
   ]
  },
  {
   "cell_type": "code",
   "execution_count": 20,
   "metadata": {},
   "outputs": [
    {
     "data": {
      "text/html": [
       "<div>\n",
       "<style scoped>\n",
       "    .dataframe tbody tr th:only-of-type {\n",
       "        vertical-align: middle;\n",
       "    }\n",
       "\n",
       "    .dataframe tbody tr th {\n",
       "        vertical-align: top;\n",
       "    }\n",
       "\n",
       "    .dataframe thead th {\n",
       "        text-align: right;\n",
       "    }\n",
       "</style>\n",
       "<table border=\"1\" class=\"dataframe\">\n",
       "  <thead>\n",
       "    <tr style=\"text-align: right;\">\n",
       "      <th></th>\n",
       "      <th>event</th>\n",
       "      <th>id</th>\n",
       "      <th>event_for_id</th>\n",
       "    </tr>\n",
       "    <tr>\n",
       "      <th>date</th>\n",
       "      <th></th>\n",
       "      <th></th>\n",
       "      <th></th>\n",
       "    </tr>\n",
       "  </thead>\n",
       "  <tbody>\n",
       "    <tr>\n",
       "      <th>2019-07-25</th>\n",
       "      <td>9</td>\n",
       "      <td>7</td>\n",
       "      <td>1.29</td>\n",
       "    </tr>\n",
       "    <tr>\n",
       "      <th>2019-07-26</th>\n",
       "      <td>31</td>\n",
       "      <td>22</td>\n",
       "      <td>1.41</td>\n",
       "    </tr>\n",
       "    <tr>\n",
       "      <th>2019-07-27</th>\n",
       "      <td>55</td>\n",
       "      <td>39</td>\n",
       "      <td>1.41</td>\n",
       "    </tr>\n",
       "    <tr>\n",
       "      <th>2019-07-28</th>\n",
       "      <td>105</td>\n",
       "      <td>69</td>\n",
       "      <td>1.52</td>\n",
       "    </tr>\n",
       "    <tr>\n",
       "      <th>2019-07-29</th>\n",
       "      <td>184</td>\n",
       "      <td>135</td>\n",
       "      <td>1.36</td>\n",
       "    </tr>\n",
       "    <tr>\n",
       "      <th>2019-07-30</th>\n",
       "      <td>412</td>\n",
       "      <td>296</td>\n",
       "      <td>1.39</td>\n",
       "    </tr>\n",
       "    <tr>\n",
       "      <th>2019-07-31</th>\n",
       "      <td>2030</td>\n",
       "      <td>924</td>\n",
       "      <td>2.20</td>\n",
       "    </tr>\n",
       "    <tr>\n",
       "      <th>2019-08-01</th>\n",
       "      <td>36141</td>\n",
       "      <td>3703</td>\n",
       "      <td>9.76</td>\n",
       "    </tr>\n",
       "    <tr>\n",
       "      <th>2019-08-02</th>\n",
       "      <td>35554</td>\n",
       "      <td>3647</td>\n",
       "      <td>9.75</td>\n",
       "    </tr>\n",
       "    <tr>\n",
       "      <th>2019-08-03</th>\n",
       "      <td>33282</td>\n",
       "      <td>3482</td>\n",
       "      <td>9.56</td>\n",
       "    </tr>\n",
       "    <tr>\n",
       "      <th>2019-08-04</th>\n",
       "      <td>32968</td>\n",
       "      <td>3527</td>\n",
       "      <td>9.35</td>\n",
       "    </tr>\n",
       "    <tr>\n",
       "      <th>2019-08-05</th>\n",
       "      <td>36058</td>\n",
       "      <td>3802</td>\n",
       "      <td>9.48</td>\n",
       "    </tr>\n",
       "    <tr>\n",
       "      <th>2019-08-06</th>\n",
       "      <td>35788</td>\n",
       "      <td>3922</td>\n",
       "      <td>9.12</td>\n",
       "    </tr>\n",
       "    <tr>\n",
       "      <th>2019-08-07</th>\n",
       "      <td>31096</td>\n",
       "      <td>3651</td>\n",
       "      <td>8.52</td>\n",
       "    </tr>\n",
       "  </tbody>\n",
       "</table>\n",
       "</div>"
      ],
      "text/plain": [
       "            event    id  event_for_id\n",
       "date                                 \n",
       "2019-07-25      9     7          1.29\n",
       "2019-07-26     31    22          1.41\n",
       "2019-07-27     55    39          1.41\n",
       "2019-07-28    105    69          1.52\n",
       "2019-07-29    184   135          1.36\n",
       "2019-07-30    412   296          1.39\n",
       "2019-07-31   2030   924          2.20\n",
       "2019-08-01  36141  3703          9.76\n",
       "2019-08-02  35554  3647          9.75\n",
       "2019-08-03  33282  3482          9.56\n",
       "2019-08-04  32968  3527          9.35\n",
       "2019-08-05  36058  3802          9.48\n",
       "2019-08-06  35788  3922          9.12\n",
       "2019-08-07  31096  3651          8.52"
      ]
     },
     "execution_count": 20,
     "metadata": {},
     "output_type": "execute_result"
    }
   ],
   "source": [
    "days"
   ]
  },
  {
   "cell_type": "markdown",
   "metadata": {},
   "source": [
    "Построим также гистрограмму:"
   ]
  },
  {
   "cell_type": "code",
   "execution_count": 21,
   "metadata": {},
   "outputs": [
    {
     "data": {
      "image/svg+xml": [
       "<svg class=\"main-svg\" xmlns=\"http://www.w3.org/2000/svg\" xmlns:xlink=\"http://www.w3.org/1999/xlink\" width=\"700\" height=\"500\" style=\"\" viewBox=\"0 0 700 500\"><rect x=\"0\" y=\"0\" width=\"700\" height=\"500\" style=\"fill: rgb(255, 255, 255); fill-opacity: 1;\"/><defs id=\"defs-f75f0a\"><g class=\"clips\"><clipPath id=\"clipf75f0axyplot\" class=\"plotclip\"><rect width=\"540\" height=\"360\"/></clipPath><clipPath class=\"axesclip\" id=\"clipf75f0ax\"><rect x=\"80\" y=\"0\" width=\"540\" height=\"500\"/></clipPath><clipPath class=\"axesclip\" id=\"clipf75f0ay\"><rect x=\"0\" y=\"60\" width=\"700\" height=\"360\"/></clipPath><clipPath class=\"axesclip\" id=\"clipf75f0axy\"><rect x=\"80\" y=\"60\" width=\"540\" height=\"360\"/></clipPath></g><g class=\"gradients\"/><g class=\"patterns\"/></defs><g class=\"bglayer\"><rect class=\"bg\" x=\"80\" y=\"60\" width=\"540\" height=\"360\" style=\"fill: rgb(237, 237, 237); fill-opacity: 1; stroke-width: 0;\"/></g><g class=\"layer-below\"><g class=\"imagelayer\"/><g class=\"shapelayer\"/></g><g class=\"cartesianlayer\"><g class=\"subplot xy\"><g class=\"layer-subplot\"><g class=\"shapelayer\"/><g class=\"imagelayer\"/></g><g class=\"gridlayer\"><g class=\"x\"><path class=\"xgrid crisp\" transform=\"translate(99.28999999999999,0)\" d=\"M0,60v360\" style=\"stroke: rgb(255, 255, 255); stroke-opacity: 1; stroke-width: 1px;\"/><path class=\"xgrid crisp\" transform=\"translate(176.43,0)\" d=\"M0,60v360\" style=\"stroke: rgb(255, 255, 255); stroke-opacity: 1; stroke-width: 1px;\"/><path class=\"xgrid crisp\" transform=\"translate(253.57,0)\" d=\"M0,60v360\" style=\"stroke: rgb(255, 255, 255); stroke-opacity: 1; stroke-width: 1px;\"/><path class=\"xgrid crisp\" transform=\"translate(330.71000000000004,0)\" d=\"M0,60v360\" style=\"stroke: rgb(255, 255, 255); stroke-opacity: 1; stroke-width: 1px;\"/><path class=\"xgrid crisp\" transform=\"translate(407.86,0)\" d=\"M0,60v360\" style=\"stroke: rgb(255, 255, 255); stroke-opacity: 1; stroke-width: 1px;\"/><path class=\"xgrid crisp\" transform=\"translate(485,0)\" d=\"M0,60v360\" style=\"stroke: rgb(255, 255, 255); stroke-opacity: 1; stroke-width: 1px;\"/><path class=\"xgrid crisp\" transform=\"translate(562.14,0)\" d=\"M0,60v360\" style=\"stroke: rgb(255, 255, 255); stroke-opacity: 1; stroke-width: 1px;\"/></g><g class=\"y\"><path class=\"ygrid crisp\" transform=\"translate(0,349.92)\" d=\"M80,0h540\" style=\"stroke: rgb(255, 255, 255); stroke-opacity: 1; stroke-width: 1px;\"/><path class=\"ygrid crisp\" transform=\"translate(0,279.83000000000004)\" d=\"M80,0h540\" style=\"stroke: rgb(255, 255, 255); stroke-opacity: 1; stroke-width: 1px;\"/><path class=\"ygrid crisp\" transform=\"translate(0,209.75)\" d=\"M80,0h540\" style=\"stroke: rgb(255, 255, 255); stroke-opacity: 1; stroke-width: 1px;\"/><path class=\"ygrid crisp\" transform=\"translate(0,139.67000000000002)\" d=\"M80,0h540\" style=\"stroke: rgb(255, 255, 255); stroke-opacity: 1; stroke-width: 1px;\"/><path class=\"ygrid crisp\" transform=\"translate(0,69.59)\" d=\"M80,0h540\" style=\"stroke: rgb(255, 255, 255); stroke-opacity: 1; stroke-width: 1px;\"/></g></g><g class=\"zerolinelayer\"><path class=\"yzl zl crisp\" transform=\"translate(0,420)\" d=\"M80,0h540\" style=\"stroke: rgb(255, 255, 255); stroke-opacity: 1; stroke-width: 1px;\"/></g><path class=\"xlines-below\"/><path class=\"ylines-below\"/><g class=\"overlines-below\"/><g class=\"xaxislayer-below\"/><g class=\"yaxislayer-below\"/><g class=\"overaxes-below\"/><g class=\"plot\" transform=\"translate(80,60)\" clip-path=\"url(#clipf75f0axyplot)\"><g class=\"barlayer mlayer\"><g class=\"trace bars\" style=\"opacity: 1;\"><g class=\"points\"><g class=\"point\"><path d=\"M3.86,360V314.95H34.71V360Z\" style=\"vector-effect: non-scaling-stroke; opacity: 1; stroke-width: 0.5px; fill: rgb(255, 217, 47); fill-opacity: 1; stroke: rgb(237, 237, 237); stroke-opacity: 1;\"/></g><g class=\"point\"><path d=\"M42.43,360V310.62H73.29V360Z\" style=\"vector-effect: non-scaling-stroke; opacity: 1; stroke-width: 0.5px; fill: rgb(255, 217, 47); fill-opacity: 1; stroke: rgb(237, 237, 237); stroke-opacity: 1;\"/></g><g class=\"point\"><path d=\"M81,360V310.58H111.86V360Z\" style=\"vector-effect: non-scaling-stroke; opacity: 1; stroke-width: 0.5px; fill: rgb(255, 217, 47); fill-opacity: 1; stroke: rgb(237, 237, 237); stroke-opacity: 1;\"/></g><g class=\"point\"><path d=\"M119.57,360V306.68H150.43V360Z\" style=\"vector-effect: non-scaling-stroke; opacity: 1; stroke-width: 0.5px; fill: rgb(255, 217, 47); fill-opacity: 1; stroke: rgb(237, 237, 237); stroke-opacity: 1;\"/></g><g class=\"point\"><path d=\"M158.14,360V312.24H189V360Z\" style=\"vector-effect: non-scaling-stroke; opacity: 1; stroke-width: 0.5px; fill: rgb(255, 217, 47); fill-opacity: 1; stroke: rgb(237, 237, 237); stroke-opacity: 1;\"/></g><g class=\"point\"><path d=\"M196.71,360V311.23H227.57V360Z\" style=\"vector-effect: non-scaling-stroke; opacity: 1; stroke-width: 0.5px; fill: rgb(255, 217, 47); fill-opacity: 1; stroke: rgb(237, 237, 237); stroke-opacity: 1;\"/></g><g class=\"point\"><path d=\"M235.29,360V283.02H266.14V360Z\" style=\"vector-effect: non-scaling-stroke; opacity: 1; stroke-width: 0.5px; fill: rgb(255, 217, 47); fill-opacity: 1; stroke: rgb(237, 237, 237); stroke-opacity: 1;\"/></g><g class=\"point\"><path d=\"M273.86,360V18H304.71V360Z\" style=\"vector-effect: non-scaling-stroke; opacity: 1; stroke-width: 0.5px; fill: rgb(255, 217, 47); fill-opacity: 1; stroke: rgb(237, 237, 237); stroke-opacity: 1;\"/></g><g class=\"point\"><path d=\"M312.43,360V18.39H343.29V360Z\" style=\"vector-effect: non-scaling-stroke; opacity: 1; stroke-width: 0.5px; fill: rgb(255, 217, 47); fill-opacity: 1; stroke: rgb(237, 237, 237); stroke-opacity: 1;\"/></g><g class=\"point\"><path d=\"M351,360V25.07H381.86V360Z\" style=\"vector-effect: non-scaling-stroke; opacity: 1; stroke-width: 0.5px; fill: rgb(255, 217, 47); fill-opacity: 1; stroke: rgb(237, 237, 237); stroke-opacity: 1;\"/></g><g class=\"point\"><path d=\"M389.57,360V32.46H420.43V360Z\" style=\"vector-effect: non-scaling-stroke; opacity: 1; stroke-width: 0.5px; fill: rgb(255, 217, 47); fill-opacity: 1; stroke: rgb(237, 237, 237); stroke-opacity: 1;\"/></g><g class=\"point\"><path d=\"M428.14,360V27.67H459V360Z\" style=\"vector-effect: non-scaling-stroke; opacity: 1; stroke-width: 0.5px; fill: rgb(255, 217, 47); fill-opacity: 1; stroke: rgb(237, 237, 237); stroke-opacity: 1;\"/></g><g class=\"point\"><path d=\"M466.71,360V40.25H497.57V360Z\" style=\"vector-effect: non-scaling-stroke; opacity: 1; stroke-width: 0.5px; fill: rgb(255, 217, 47); fill-opacity: 1; stroke: rgb(237, 237, 237); stroke-opacity: 1;\"/></g><g class=\"point\"><path d=\"M505.29,360V61.55H536.14V360Z\" style=\"vector-effect: non-scaling-stroke; opacity: 1; stroke-width: 0.5px; fill: rgb(255, 217, 47); fill-opacity: 1; stroke: rgb(237, 237, 237); stroke-opacity: 1;\"/></g></g></g></g></g><g class=\"overplot\"/><path class=\"xlines-above crisp\" d=\"\" style=\"fill: none; stroke-width: 1px; stroke: rgb(0, 0, 0); stroke-opacity: 0;\"/><path class=\"ylines-above crisp\" d=\"\" style=\"fill: none; stroke-width: 1px; stroke: rgb(0, 0, 0); stroke-opacity: 0;\"/><g class=\"overlines-above\"/><g class=\"xaxislayer-above\"><path class=\"xtick ticks crisp\" d=\"M0,421v5\" transform=\"translate(99.28999999999999,0)\" style=\"stroke: rgb(51, 51, 51); stroke-opacity: 1; stroke-width: 1px;\"/><path class=\"xtick ticks crisp\" d=\"M0,421v5\" transform=\"translate(176.43,0)\" style=\"stroke: rgb(51, 51, 51); stroke-opacity: 1; stroke-width: 1px;\"/><path class=\"xtick ticks crisp\" d=\"M0,421v5\" transform=\"translate(253.57,0)\" style=\"stroke: rgb(51, 51, 51); stroke-opacity: 1; stroke-width: 1px;\"/><path class=\"xtick ticks crisp\" d=\"M0,421v5\" transform=\"translate(330.71000000000004,0)\" style=\"stroke: rgb(51, 51, 51); stroke-opacity: 1; stroke-width: 1px;\"/><path class=\"xtick ticks crisp\" d=\"M0,421v5\" transform=\"translate(407.86,0)\" style=\"stroke: rgb(51, 51, 51); stroke-opacity: 1; stroke-width: 1px;\"/><path class=\"xtick ticks crisp\" d=\"M0,421v5\" transform=\"translate(485,0)\" style=\"stroke: rgb(51, 51, 51); stroke-opacity: 1; stroke-width: 1px;\"/><path class=\"xtick ticks crisp\" d=\"M0,421v5\" transform=\"translate(562.14,0)\" style=\"stroke: rgb(51, 51, 51); stroke-opacity: 1; stroke-width: 1px;\"/><g class=\"xtick\"><text text-anchor=\"middle\" x=\"0\" y=\"440.4\" transform=\"translate(99.28999999999999,0)\" style=\"font-family: 'Open Sans', verdana, arial, sans-serif; font-size: 12px; fill: rgb(51, 51, 51); fill-opacity: 1; white-space: pre; opacity: 1;\"><tspan class=\"line\" dy=\"0em\" x=\"0\" y=\"440.4\">Jul 25</tspan><tspan class=\"line\" dy=\"1.3em\" x=\"0\" y=\"440.4\">2019</tspan></text></g><g class=\"xtick\"><text text-anchor=\"middle\" x=\"0\" y=\"440.4\" style=\"font-family: 'Open Sans', verdana, arial, sans-serif; font-size: 12px; fill: rgb(51, 51, 51); fill-opacity: 1; white-space: pre; opacity: 1;\" transform=\"translate(176.43,0)\">Jul 27</text></g><g class=\"xtick\"><text text-anchor=\"middle\" x=\"0\" y=\"440.4\" style=\"font-family: 'Open Sans', verdana, arial, sans-serif; font-size: 12px; fill: rgb(51, 51, 51); fill-opacity: 1; white-space: pre; opacity: 1;\" transform=\"translate(253.57,0)\">Jul 29</text></g><g class=\"xtick\"><text text-anchor=\"middle\" x=\"0\" y=\"440.4\" style=\"font-family: 'Open Sans', verdana, arial, sans-serif; font-size: 12px; fill: rgb(51, 51, 51); fill-opacity: 1; white-space: pre; opacity: 1;\" transform=\"translate(330.71000000000004,0)\">Jul 31</text></g><g class=\"xtick\"><text text-anchor=\"middle\" x=\"0\" y=\"440.4\" style=\"font-family: 'Open Sans', verdana, arial, sans-serif; font-size: 12px; fill: rgb(51, 51, 51); fill-opacity: 1; white-space: pre; opacity: 1;\" transform=\"translate(407.86,0)\">Aug 2</text></g><g class=\"xtick\"><text text-anchor=\"middle\" x=\"0\" y=\"440.4\" style=\"font-family: 'Open Sans', verdana, arial, sans-serif; font-size: 12px; fill: rgb(51, 51, 51); fill-opacity: 1; white-space: pre; opacity: 1;\" transform=\"translate(485,0)\">Aug 4</text></g><g class=\"xtick\"><text text-anchor=\"middle\" x=\"0\" y=\"440.4\" style=\"font-family: 'Open Sans', verdana, arial, sans-serif; font-size: 12px; fill: rgb(51, 51, 51); fill-opacity: 1; white-space: pre; opacity: 1;\" transform=\"translate(562.14,0)\">Aug 6</text></g></g><g class=\"yaxislayer-above\"><path class=\"ytick ticks crisp\" d=\"M79,0h-5\" transform=\"translate(0,420)\" style=\"stroke: rgb(51, 51, 51); stroke-opacity: 1; stroke-width: 1px;\"/><path class=\"ytick ticks crisp\" d=\"M79,0h-5\" transform=\"translate(0,349.92)\" style=\"stroke: rgb(51, 51, 51); stroke-opacity: 1; stroke-width: 1px;\"/><path class=\"ytick ticks crisp\" d=\"M79,0h-5\" transform=\"translate(0,279.83000000000004)\" style=\"stroke: rgb(51, 51, 51); stroke-opacity: 1; stroke-width: 1px;\"/><path class=\"ytick ticks crisp\" d=\"M79,0h-5\" transform=\"translate(0,209.75)\" style=\"stroke: rgb(51, 51, 51); stroke-opacity: 1; stroke-width: 1px;\"/><path class=\"ytick ticks crisp\" d=\"M79,0h-5\" transform=\"translate(0,139.67000000000002)\" style=\"stroke: rgb(51, 51, 51); stroke-opacity: 1; stroke-width: 1px;\"/><path class=\"ytick ticks crisp\" d=\"M79,0h-5\" transform=\"translate(0,69.59)\" style=\"stroke: rgb(51, 51, 51); stroke-opacity: 1; stroke-width: 1px;\"/><g class=\"ytick\"><text text-anchor=\"end\" x=\"71.6\" y=\"4.199999999999999\" transform=\"translate(0,420)\" style=\"font-family: 'Open Sans', verdana, arial, sans-serif; font-size: 12px; fill: rgb(51, 51, 51); fill-opacity: 1; white-space: pre; opacity: 1;\">0</text></g><g class=\"ytick\"><text text-anchor=\"end\" x=\"71.6\" y=\"4.199999999999999\" style=\"font-family: 'Open Sans', verdana, arial, sans-serif; font-size: 12px; fill: rgb(51, 51, 51); fill-opacity: 1; white-space: pre; opacity: 1;\" transform=\"translate(0,349.92)\">2</text></g><g class=\"ytick\"><text text-anchor=\"end\" x=\"71.6\" y=\"4.199999999999999\" style=\"font-family: 'Open Sans', verdana, arial, sans-serif; font-size: 12px; fill: rgb(51, 51, 51); fill-opacity: 1; white-space: pre; opacity: 1;\" transform=\"translate(0,279.83000000000004)\">4</text></g><g class=\"ytick\"><text text-anchor=\"end\" x=\"71.6\" y=\"4.199999999999999\" style=\"font-family: 'Open Sans', verdana, arial, sans-serif; font-size: 12px; fill: rgb(51, 51, 51); fill-opacity: 1; white-space: pre; opacity: 1;\" transform=\"translate(0,209.75)\">6</text></g><g class=\"ytick\"><text text-anchor=\"end\" x=\"71.6\" y=\"4.199999999999999\" style=\"font-family: 'Open Sans', verdana, arial, sans-serif; font-size: 12px; fill: rgb(51, 51, 51); fill-opacity: 1; white-space: pre; opacity: 1;\" transform=\"translate(0,139.67000000000002)\">8</text></g><g class=\"ytick\"><text text-anchor=\"end\" x=\"71.6\" y=\"4.199999999999999\" style=\"font-family: 'Open Sans', verdana, arial, sans-serif; font-size: 12px; fill: rgb(51, 51, 51); fill-opacity: 1; white-space: pre; opacity: 1;\" transform=\"translate(0,69.59)\">10</text></g></g><g class=\"overaxes-above\"/></g></g><g class=\"polarlayer\"/><g class=\"smithlayer\"/><g class=\"ternarylayer\"/><g class=\"geolayer\"/><g class=\"funnelarealayer\"/><g class=\"pielayer\"/><g class=\"iciclelayer\"/><g class=\"treemaplayer\"/><g class=\"sunburstlayer\"/><g class=\"glimages\"/><defs id=\"topdefs-f75f0a\"><g class=\"clips\"/></defs><g class=\"layer-above\"><g class=\"imagelayer\"/><g class=\"shapelayer\"/></g><g class=\"infolayer\"><g class=\"g-gtitle\"><text class=\"gtitle\" x=\"350\" y=\"25\" text-anchor=\"middle\" dy=\"0.7em\" style=\"font-family: 'Open Sans', verdana, arial, sans-serif; font-size: 17px; fill: rgb(51, 51, 51); opacity: 1; font-weight: normal; white-space: pre;\">Распределение уникальных пользователей по дням</text></g><g class=\"g-xtitle\"><text class=\"xtitle\" x=\"350\" y=\"483.8\" text-anchor=\"middle\" style=\"font-family: 'Open Sans', verdana, arial, sans-serif; font-size: 14px; fill: rgb(51, 51, 51); opacity: 1; font-weight: normal; white-space: pre;\">Дата</text></g><g class=\"g-ytitle\"><text class=\"ytitle\" transform=\"rotate(-90,31.528125000000003,240)\" x=\"31.528125000000003\" y=\"240\" text-anchor=\"middle\" style=\"font-family: 'Open Sans', verdana, arial, sans-serif; font-size: 14px; fill: rgb(51, 51, 51); opacity: 1; font-weight: normal; white-space: pre;\">Пользователей</text></g></g></svg>"
      ]
     },
     "metadata": {},
     "output_type": "display_data"
    }
   ],
   "source": [
    "fig = px.bar(days.reset_index(), x='date', y='event_for_id', color_discrete_sequence=['rgb(255,217,47)'])\n",
    "fig.update_layout(title={'text': \"Распределение уникальных пользователей по дням\", 'xanchor': 'center', 'y':0.95,\n",
    "        'x':0.5},\n",
    "                  yaxis_title=\"Пользователей\", xaxis_title='Дата',  )\n",
    "fig.layout.template = 'ggplot2'\n",
    "fig.show(\"svg\")"
   ]
  },
  {
   "cell_type": "markdown",
   "metadata": {},
   "source": [
    "### 3.4 За какой период данные?"
   ]
  },
  {
   "cell_type": "markdown",
   "metadata": {},
   "source": [
    "Посмотрим начальную и конечную дату в логах:"
   ]
  },
  {
   "cell_type": "code",
   "execution_count": 22,
   "metadata": {},
   "outputs": [
    {
     "data": {
      "text/html": [
       "<div>\n",
       "<style scoped>\n",
       "    .dataframe tbody tr th:only-of-type {\n",
       "        vertical-align: middle;\n",
       "    }\n",
       "\n",
       "    .dataframe tbody tr th {\n",
       "        vertical-align: top;\n",
       "    }\n",
       "\n",
       "    .dataframe thead th {\n",
       "        text-align: right;\n",
       "    }\n",
       "</style>\n",
       "<table border=\"1\" class=\"dataframe\">\n",
       "  <thead>\n",
       "    <tr style=\"text-align: right;\">\n",
       "      <th></th>\n",
       "      <th>event</th>\n",
       "      <th>id</th>\n",
       "      <th>event_seconds</th>\n",
       "      <th>exp_id</th>\n",
       "      <th>event_time</th>\n",
       "      <th>date</th>\n",
       "    </tr>\n",
       "  </thead>\n",
       "  <tbody>\n",
       "    <tr>\n",
       "      <th>0</th>\n",
       "      <td>MainScreenAppear</td>\n",
       "      <td>4575588528974610257</td>\n",
       "      <td>1564029816</td>\n",
       "      <td>246</td>\n",
       "      <td>2019-07-25 04:43:36</td>\n",
       "      <td>2019-07-25</td>\n",
       "    </tr>\n",
       "    <tr>\n",
       "      <th>1</th>\n",
       "      <td>MainScreenAppear</td>\n",
       "      <td>7416695313311560658</td>\n",
       "      <td>1564053102</td>\n",
       "      <td>246</td>\n",
       "      <td>2019-07-25 11:11:42</td>\n",
       "      <td>2019-07-25</td>\n",
       "    </tr>\n",
       "    <tr>\n",
       "      <th>2</th>\n",
       "      <td>PaymentScreenSuccessful</td>\n",
       "      <td>3518123091307005509</td>\n",
       "      <td>1564054127</td>\n",
       "      <td>248</td>\n",
       "      <td>2019-07-25 11:28:47</td>\n",
       "      <td>2019-07-25</td>\n",
       "    </tr>\n",
       "    <tr>\n",
       "      <th>3</th>\n",
       "      <td>CartScreenAppear</td>\n",
       "      <td>3518123091307005509</td>\n",
       "      <td>1564054127</td>\n",
       "      <td>248</td>\n",
       "      <td>2019-07-25 11:28:47</td>\n",
       "      <td>2019-07-25</td>\n",
       "    </tr>\n",
       "    <tr>\n",
       "      <th>4</th>\n",
       "      <td>PaymentScreenSuccessful</td>\n",
       "      <td>6217807653094995999</td>\n",
       "      <td>1564055322</td>\n",
       "      <td>248</td>\n",
       "      <td>2019-07-25 11:48:42</td>\n",
       "      <td>2019-07-25</td>\n",
       "    </tr>\n",
       "    <tr>\n",
       "      <th>...</th>\n",
       "      <td>...</td>\n",
       "      <td>...</td>\n",
       "      <td>...</td>\n",
       "      <td>...</td>\n",
       "      <td>...</td>\n",
       "      <td>...</td>\n",
       "    </tr>\n",
       "    <tr>\n",
       "      <th>243708</th>\n",
       "      <td>MainScreenAppear</td>\n",
       "      <td>4599628364049201812</td>\n",
       "      <td>1565212345</td>\n",
       "      <td>247</td>\n",
       "      <td>2019-08-07 21:12:25</td>\n",
       "      <td>2019-08-07</td>\n",
       "    </tr>\n",
       "    <tr>\n",
       "      <th>243709</th>\n",
       "      <td>MainScreenAppear</td>\n",
       "      <td>5849806612437486590</td>\n",
       "      <td>1565212439</td>\n",
       "      <td>246</td>\n",
       "      <td>2019-08-07 21:13:59</td>\n",
       "      <td>2019-08-07</td>\n",
       "    </tr>\n",
       "    <tr>\n",
       "      <th>243710</th>\n",
       "      <td>MainScreenAppear</td>\n",
       "      <td>5746969938801999050</td>\n",
       "      <td>1565212483</td>\n",
       "      <td>246</td>\n",
       "      <td>2019-08-07 21:14:43</td>\n",
       "      <td>2019-08-07</td>\n",
       "    </tr>\n",
       "    <tr>\n",
       "      <th>243711</th>\n",
       "      <td>MainScreenAppear</td>\n",
       "      <td>5746969938801999050</td>\n",
       "      <td>1565212498</td>\n",
       "      <td>246</td>\n",
       "      <td>2019-08-07 21:14:58</td>\n",
       "      <td>2019-08-07</td>\n",
       "    </tr>\n",
       "    <tr>\n",
       "      <th>243712</th>\n",
       "      <td>OffersScreenAppear</td>\n",
       "      <td>5746969938801999050</td>\n",
       "      <td>1565212517</td>\n",
       "      <td>246</td>\n",
       "      <td>2019-08-07 21:15:17</td>\n",
       "      <td>2019-08-07</td>\n",
       "    </tr>\n",
       "  </tbody>\n",
       "</table>\n",
       "<p>243713 rows × 6 columns</p>\n",
       "</div>"
      ],
      "text/plain": [
       "                          event                   id  event_seconds  exp_id  \\\n",
       "0              MainScreenAppear  4575588528974610257     1564029816     246   \n",
       "1              MainScreenAppear  7416695313311560658     1564053102     246   \n",
       "2       PaymentScreenSuccessful  3518123091307005509     1564054127     248   \n",
       "3              CartScreenAppear  3518123091307005509     1564054127     248   \n",
       "4       PaymentScreenSuccessful  6217807653094995999     1564055322     248   \n",
       "...                         ...                  ...            ...     ...   \n",
       "243708         MainScreenAppear  4599628364049201812     1565212345     247   \n",
       "243709         MainScreenAppear  5849806612437486590     1565212439     246   \n",
       "243710         MainScreenAppear  5746969938801999050     1565212483     246   \n",
       "243711         MainScreenAppear  5746969938801999050     1565212498     246   \n",
       "243712       OffersScreenAppear  5746969938801999050     1565212517     246   \n",
       "\n",
       "                event_time       date  \n",
       "0      2019-07-25 04:43:36 2019-07-25  \n",
       "1      2019-07-25 11:11:42 2019-07-25  \n",
       "2      2019-07-25 11:28:47 2019-07-25  \n",
       "3      2019-07-25 11:28:47 2019-07-25  \n",
       "4      2019-07-25 11:48:42 2019-07-25  \n",
       "...                    ...        ...  \n",
       "243708 2019-08-07 21:12:25 2019-08-07  \n",
       "243709 2019-08-07 21:13:59 2019-08-07  \n",
       "243710 2019-08-07 21:14:43 2019-08-07  \n",
       "243711 2019-08-07 21:14:58 2019-08-07  \n",
       "243712 2019-08-07 21:15:17 2019-08-07  \n",
       "\n",
       "[243713 rows x 6 columns]"
      ]
     },
     "execution_count": 22,
     "metadata": {},
     "output_type": "execute_result"
    }
   ],
   "source": [
    "logs_exp"
   ]
  },
  {
   "cell_type": "code",
   "execution_count": 23,
   "metadata": {},
   "outputs": [
    {
     "name": "stdout",
     "output_type": "stream",
     "text": [
      "Данные предоставлены с 2019-07-25 04:43:36 по 2019-08-07 21:15:17 число\n"
     ]
    }
   ],
   "source": [
    "print('Данные предоставлены с {} по {} число'.format(logs_exp['event_time'].min(), logs_exp['event_time'].max()))"
   ]
  },
  {
   "cell_type": "markdown",
   "metadata": {},
   "source": [
    "### 3.5 Гистограмма по дате и времени. Можно ли быть уверенным, что одинаково полные данные за весь период?"
   ]
  },
  {
   "cell_type": "markdown",
   "metadata": {},
   "source": [
    "Построим гистограмму по дате и времени и посмотрим на распределение:"
   ]
  },
  {
   "cell_type": "code",
   "execution_count": 24,
   "metadata": {},
   "outputs": [
    {
     "data": {
      "image/svg+xml": [
       "<svg class=\"main-svg\" xmlns=\"http://www.w3.org/2000/svg\" xmlns:xlink=\"http://www.w3.org/1999/xlink\" width=\"700\" height=\"500\" style=\"\" viewBox=\"0 0 700 500\"><rect x=\"0\" y=\"0\" width=\"700\" height=\"500\" style=\"fill: rgb(255, 255, 255); fill-opacity: 1;\"/><defs id=\"defs-70c02e\"><g class=\"clips\"><clipPath id=\"clip70c02exyplot\" class=\"plotclip\"><rect width=\"540\" height=\"360\"/></clipPath><clipPath class=\"axesclip\" id=\"clip70c02ex\"><rect x=\"80\" y=\"0\" width=\"540\" height=\"500\"/></clipPath><clipPath class=\"axesclip\" id=\"clip70c02ey\"><rect x=\"0\" y=\"60\" width=\"700\" height=\"360\"/></clipPath><clipPath class=\"axesclip\" id=\"clip70c02exy\"><rect x=\"80\" y=\"60\" width=\"540\" height=\"360\"/></clipPath></g><g class=\"gradients\"/><g class=\"patterns\"/></defs><g class=\"bglayer\"><rect class=\"bg\" x=\"80\" y=\"60\" width=\"540\" height=\"360\" style=\"fill: rgb(237, 237, 237); fill-opacity: 1; stroke-width: 0;\"/></g><g class=\"layer-below\"><g class=\"imagelayer\"/><g class=\"shapelayer\"/></g><g class=\"cartesianlayer\"><g class=\"subplot xy\"><g class=\"layer-subplot\"><g class=\"shapelayer\"/><g class=\"imagelayer\"/></g><g class=\"gridlayer\"><g class=\"x\"><path class=\"xgrid crisp\" transform=\"translate(152,0)\" d=\"M0,60v360\" style=\"stroke: rgb(255, 255, 255); stroke-opacity: 1; stroke-width: 1px;\"/><path class=\"xgrid crisp\" transform=\"translate(230.55,0)\" d=\"M0,60v360\" style=\"stroke: rgb(255, 255, 255); stroke-opacity: 1; stroke-width: 1px;\"/><path class=\"xgrid crisp\" transform=\"translate(309.09000000000003,0)\" d=\"M0,60v360\" style=\"stroke: rgb(255, 255, 255); stroke-opacity: 1; stroke-width: 1px;\"/><path class=\"xgrid crisp\" transform=\"translate(387.64,0)\" d=\"M0,60v360\" style=\"stroke: rgb(255, 255, 255); stroke-opacity: 1; stroke-width: 1px;\"/><path class=\"xgrid crisp\" transform=\"translate(466.18,0)\" d=\"M0,60v360\" style=\"stroke: rgb(255, 255, 255); stroke-opacity: 1; stroke-width: 1px;\"/><path class=\"xgrid crisp\" transform=\"translate(544.73,0)\" d=\"M0,60v360\" style=\"stroke: rgb(255, 255, 255); stroke-opacity: 1; stroke-width: 1px;\"/></g><g class=\"y\"><path class=\"ygrid crisp\" transform=\"translate(0,361.9)\" d=\"M80,0h540\" style=\"stroke: rgb(255, 255, 255); stroke-opacity: 1; stroke-width: 1px;\"/><path class=\"ygrid crisp\" transform=\"translate(0,303.78999999999996)\" d=\"M80,0h540\" style=\"stroke: rgb(255, 255, 255); stroke-opacity: 1; stroke-width: 1px;\"/><path class=\"ygrid crisp\" transform=\"translate(0,245.69)\" d=\"M80,0h540\" style=\"stroke: rgb(255, 255, 255); stroke-opacity: 1; stroke-width: 1px;\"/><path class=\"ygrid crisp\" transform=\"translate(0,187.57999999999998)\" d=\"M80,0h540\" style=\"stroke: rgb(255, 255, 255); stroke-opacity: 1; stroke-width: 1px;\"/><path class=\"ygrid crisp\" transform=\"translate(0,129.48000000000002)\" d=\"M80,0h540\" style=\"stroke: rgb(255, 255, 255); stroke-opacity: 1; stroke-width: 1px;\"/><path class=\"ygrid crisp\" transform=\"translate(0,71.38)\" d=\"M80,0h540\" style=\"stroke: rgb(255, 255, 255); stroke-opacity: 1; stroke-width: 1px;\"/></g></g><g class=\"zerolinelayer\"><path class=\"yzl zl crisp\" transform=\"translate(0,420)\" d=\"M80,0h540\" style=\"stroke: rgb(255, 255, 255); stroke-opacity: 1; stroke-width: 1px;\"/></g><path class=\"xlines-below\"/><path class=\"ylines-below\"/><g class=\"overlines-below\"/><g class=\"xaxislayer-below\"/><g class=\"yaxislayer-below\"/><g class=\"overaxes-below\"/><g class=\"plot\" transform=\"translate(80,60)\" clip-path=\"url(#clip70c02exyplot)\"><g class=\"barlayer mlayer\"><g class=\"trace bars\" shape-rendering=\"crispEdges\" style=\"opacity: 1;\"><g class=\"points\"><g class=\"point\"><path d=\"M0,360V359.88H1.64V360Z\" style=\"vector-effect: non-scaling-stroke; opacity: 1; stroke-width: 0px; fill: rgb(255, 217, 47); fill-opacity: 1;\"/></g><g class=\"point\"><path d=\"M0,0Z\" style=\"vector-effect: non-scaling-stroke; opacity: 1; stroke-width: 0px; fill: rgb(255, 217, 47); fill-opacity: 1;\"/></g><g class=\"point\"><path d=\"M0,0Z\" style=\"vector-effect: non-scaling-stroke; opacity: 1; stroke-width: 0px; fill: rgb(255, 217, 47); fill-opacity: 1;\"/></g><g class=\"point\"><path d=\"M0,0Z\" style=\"vector-effect: non-scaling-stroke; opacity: 1; stroke-width: 0px; fill: rgb(255, 217, 47); fill-opacity: 1;\"/></g><g class=\"point\"><path d=\"M0,0Z\" style=\"vector-effect: non-scaling-stroke; opacity: 1; stroke-width: 0px; fill: rgb(255, 217, 47); fill-opacity: 1;\"/></g><g class=\"point\"><path d=\"M0,0Z\" style=\"vector-effect: non-scaling-stroke; opacity: 1; stroke-width: 0px; fill: rgb(255, 217, 47); fill-opacity: 1;\"/></g><g class=\"point\"><path d=\"M0,0Z\" style=\"vector-effect: non-scaling-stroke; opacity: 1; stroke-width: 0px; fill: rgb(255, 217, 47); fill-opacity: 1;\"/></g><g class=\"point\"><path d=\"M11.45,360V359.42H13.09V360Z\" style=\"vector-effect: non-scaling-stroke; opacity: 1; stroke-width: 0px; fill: rgb(255, 217, 47); fill-opacity: 1;\"/></g><g class=\"point\"><path d=\"M0,0Z\" style=\"vector-effect: non-scaling-stroke; opacity: 1; stroke-width: 0px; fill: rgb(255, 217, 47); fill-opacity: 1;\"/></g><g class=\"point\"><path d=\"M0,0Z\" style=\"vector-effect: non-scaling-stroke; opacity: 1; stroke-width: 0px; fill: rgb(255, 217, 47); fill-opacity: 1;\"/></g><g class=\"point\"><path d=\"M16.36,360V359.88H18V360Z\" style=\"vector-effect: non-scaling-stroke; opacity: 1; stroke-width: 0px; fill: rgb(255, 217, 47); fill-opacity: 1;\"/></g><g class=\"point\"><path d=\"M0,0Z\" style=\"vector-effect: non-scaling-stroke; opacity: 1; stroke-width: 0px; fill: rgb(255, 217, 47); fill-opacity: 1;\"/></g><g class=\"point\"><path d=\"M0,0Z\" style=\"vector-effect: non-scaling-stroke; opacity: 1; stroke-width: 0px; fill: rgb(255, 217, 47); fill-opacity: 1;\"/></g><g class=\"point\"><path d=\"M0,0Z\" style=\"vector-effect: non-scaling-stroke; opacity: 1; stroke-width: 0px; fill: rgb(255, 217, 47); fill-opacity: 1;\"/></g><g class=\"point\"><path d=\"M0,0Z\" style=\"vector-effect: non-scaling-stroke; opacity: 1; stroke-width: 0px; fill: rgb(255, 217, 47); fill-opacity: 1;\"/></g><g class=\"point\"><path d=\"M0,0Z\" style=\"vector-effect: non-scaling-stroke; opacity: 1; stroke-width: 0px; fill: rgb(255, 217, 47); fill-opacity: 1;\"/></g><g class=\"point\"><path d=\"M26.18,360V359.77H27.82V360Z\" style=\"vector-effect: non-scaling-stroke; opacity: 1; stroke-width: 0px; fill: rgb(255, 217, 47); fill-opacity: 1;\"/></g><g class=\"point\"><path d=\"M0,0Z\" style=\"vector-effect: non-scaling-stroke; opacity: 1; stroke-width: 0px; fill: rgb(255, 217, 47); fill-opacity: 1;\"/></g><g class=\"point\"><path d=\"M0,0Z\" style=\"vector-effect: non-scaling-stroke; opacity: 1; stroke-width: 0px; fill: rgb(255, 217, 47); fill-opacity: 1;\"/></g><g class=\"point\"><path d=\"M0,0Z\" style=\"vector-effect: non-scaling-stroke; opacity: 1; stroke-width: 0px; fill: rgb(255, 217, 47); fill-opacity: 1;\"/></g><g class=\"point\"><path d=\"M0,0Z\" style=\"vector-effect: non-scaling-stroke; opacity: 1; stroke-width: 0px; fill: rgb(255, 217, 47); fill-opacity: 1;\"/></g><g class=\"point\"><path d=\"M0,0Z\" style=\"vector-effect: non-scaling-stroke; opacity: 1; stroke-width: 0px; fill: rgb(255, 217, 47); fill-opacity: 1;\"/></g><g class=\"point\"><path d=\"M0,0Z\" style=\"vector-effect: non-scaling-stroke; opacity: 1; stroke-width: 0px; fill: rgb(255, 217, 47); fill-opacity: 1;\"/></g><g class=\"point\"><path d=\"M37.64,360V359.88H39.27V360Z\" style=\"vector-effect: non-scaling-stroke; opacity: 1; stroke-width: 0px; fill: rgb(255, 217, 47); fill-opacity: 1;\"/></g><g class=\"point\"><path d=\"M0,0Z\" style=\"vector-effect: non-scaling-stroke; opacity: 1; stroke-width: 0px; fill: rgb(255, 217, 47); fill-opacity: 1;\"/></g><g class=\"point\"><path d=\"M40.91,360V359.88H42.55V360Z\" style=\"vector-effect: non-scaling-stroke; opacity: 1; stroke-width: 0px; fill: rgb(255, 217, 47); fill-opacity: 1;\"/></g><g class=\"point\"><path d=\"M42.55,360V359.77H44.18V360Z\" style=\"vector-effect: non-scaling-stroke; opacity: 1; stroke-width: 0px; fill: rgb(255, 217, 47); fill-opacity: 1;\"/></g><g class=\"point\"><path d=\"M44.18,360V359.88H45.82V360Z\" style=\"vector-effect: non-scaling-stroke; opacity: 1; stroke-width: 0px; fill: rgb(255, 217, 47); fill-opacity: 1;\"/></g><g class=\"point\"><path d=\"M0,0Z\" style=\"vector-effect: non-scaling-stroke; opacity: 1; stroke-width: 0px; fill: rgb(255, 217, 47); fill-opacity: 1;\"/></g><g class=\"point\"><path d=\"M0,0Z\" style=\"vector-effect: non-scaling-stroke; opacity: 1; stroke-width: 0px; fill: rgb(255, 217, 47); fill-opacity: 1;\"/></g><g class=\"point\"><path d=\"M49.09,360V359.88H50.73V360Z\" style=\"vector-effect: non-scaling-stroke; opacity: 1; stroke-width: 0px; fill: rgb(255, 217, 47); fill-opacity: 1;\"/></g><g class=\"point\"><path d=\"M50.73,360V359.77H52.36V360Z\" style=\"vector-effect: non-scaling-stroke; opacity: 1; stroke-width: 0px; fill: rgb(255, 217, 47); fill-opacity: 1;\"/></g><g class=\"point\"><path d=\"M52.36,360V359.88H54V360Z\" style=\"vector-effect: non-scaling-stroke; opacity: 1; stroke-width: 0px; fill: rgb(255, 217, 47); fill-opacity: 1;\"/></g><g class=\"point\"><path d=\"M54,360V359.88H55.64V360Z\" style=\"vector-effect: non-scaling-stroke; opacity: 1; stroke-width: 0px; fill: rgb(255, 217, 47); fill-opacity: 1;\"/></g><g class=\"point\"><path d=\"M55.64,360V359.42H57.27V360Z\" style=\"vector-effect: non-scaling-stroke; opacity: 1; stroke-width: 0px; fill: rgb(255, 217, 47); fill-opacity: 1;\"/></g><g class=\"point\"><path d=\"M57.27,360V359.88H58.91V360Z\" style=\"vector-effect: non-scaling-stroke; opacity: 1; stroke-width: 0px; fill: rgb(255, 217, 47); fill-opacity: 1;\"/></g><g class=\"point\"><path d=\"M58.91,360V359.88H60.55V360Z\" style=\"vector-effect: non-scaling-stroke; opacity: 1; stroke-width: 0px; fill: rgb(255, 217, 47); fill-opacity: 1;\"/></g><g class=\"point\"><path d=\"M60.55,360V359.65H62.18V360Z\" style=\"vector-effect: non-scaling-stroke; opacity: 1; stroke-width: 0px; fill: rgb(255, 217, 47); fill-opacity: 1;\"/></g><g class=\"point\"><path d=\"M62.18,360V359.3H63.82V360Z\" style=\"vector-effect: non-scaling-stroke; opacity: 1; stroke-width: 0px; fill: rgb(255, 217, 47); fill-opacity: 1;\"/></g><g class=\"point\"><path d=\"M63.82,360V359.54H65.45V360Z\" style=\"vector-effect: non-scaling-stroke; opacity: 1; stroke-width: 0px; fill: rgb(255, 217, 47); fill-opacity: 1;\"/></g><g class=\"point\"><path d=\"M0,0Z\" style=\"vector-effect: non-scaling-stroke; opacity: 1; stroke-width: 0px; fill: rgb(255, 217, 47); fill-opacity: 1;\"/></g><g class=\"point\"><path d=\"M0,0Z\" style=\"vector-effect: non-scaling-stroke; opacity: 1; stroke-width: 0px; fill: rgb(255, 217, 47); fill-opacity: 1;\"/></g><g class=\"point\"><path d=\"M0,0Z\" style=\"vector-effect: non-scaling-stroke; opacity: 1; stroke-width: 0px; fill: rgb(255, 217, 47); fill-opacity: 1;\"/></g><g class=\"point\"><path d=\"M70.36,360V359.88H72V360Z\" style=\"vector-effect: non-scaling-stroke; opacity: 1; stroke-width: 0px; fill: rgb(255, 217, 47); fill-opacity: 1;\"/></g><g class=\"point\"><path d=\"M0,0Z\" style=\"vector-effect: non-scaling-stroke; opacity: 1; stroke-width: 0px; fill: rgb(255, 217, 47); fill-opacity: 1;\"/></g><g class=\"point\"><path d=\"M0,0Z\" style=\"vector-effect: non-scaling-stroke; opacity: 1; stroke-width: 0px; fill: rgb(255, 217, 47); fill-opacity: 1;\"/></g><g class=\"point\"><path d=\"M0,0Z\" style=\"vector-effect: non-scaling-stroke; opacity: 1; stroke-width: 0px; fill: rgb(255, 217, 47); fill-opacity: 1;\"/></g><g class=\"point\"><path d=\"M0,0Z\" style=\"vector-effect: non-scaling-stroke; opacity: 1; stroke-width: 0px; fill: rgb(255, 217, 47); fill-opacity: 1;\"/></g><g class=\"point\"><path d=\"M78.55,360V359.88H80.18V360Z\" style=\"vector-effect: non-scaling-stroke; opacity: 1; stroke-width: 0px; fill: rgb(255, 217, 47); fill-opacity: 1;\"/></g><g class=\"point\"><path d=\"M0,0Z\" style=\"vector-effect: non-scaling-stroke; opacity: 1; stroke-width: 0px; fill: rgb(255, 217, 47); fill-opacity: 1;\"/></g><g class=\"point\"><path d=\"M81.82,360V359.54H83.45V360Z\" style=\"vector-effect: non-scaling-stroke; opacity: 1; stroke-width: 0px; fill: rgb(255, 217, 47); fill-opacity: 1;\"/></g><g class=\"point\"><path d=\"M0,0Z\" style=\"vector-effect: non-scaling-stroke; opacity: 1; stroke-width: 0px; fill: rgb(255, 217, 47); fill-opacity: 1;\"/></g><g class=\"point\"><path d=\"M85.09,360V358.95H86.73V360Z\" style=\"vector-effect: non-scaling-stroke; opacity: 1; stroke-width: 0px; fill: rgb(255, 217, 47); fill-opacity: 1;\"/></g><g class=\"point\"><path d=\"M0,0Z\" style=\"vector-effect: non-scaling-stroke; opacity: 1; stroke-width: 0px; fill: rgb(255, 217, 47); fill-opacity: 1;\"/></g><g class=\"point\"><path d=\"M88.36,360V358.49H90V360Z\" style=\"vector-effect: non-scaling-stroke; opacity: 1; stroke-width: 0px; fill: rgb(255, 217, 47); fill-opacity: 1;\"/></g><g class=\"point\"><path d=\"M90,360V359.88H91.64V360Z\" style=\"vector-effect: non-scaling-stroke; opacity: 1; stroke-width: 0px; fill: rgb(255, 217, 47); fill-opacity: 1;\"/></g><g class=\"point\"><path d=\"M91.64,360V359.77H93.27V360Z\" style=\"vector-effect: non-scaling-stroke; opacity: 1; stroke-width: 0px; fill: rgb(255, 217, 47); fill-opacity: 1;\"/></g><g class=\"point\"><path d=\"M93.27,360V359.88H94.91V360Z\" style=\"vector-effect: non-scaling-stroke; opacity: 1; stroke-width: 0px; fill: rgb(255, 217, 47); fill-opacity: 1;\"/></g><g class=\"point\"><path d=\"M94.91,360V359.54H96.55V360Z\" style=\"vector-effect: non-scaling-stroke; opacity: 1; stroke-width: 0px; fill: rgb(255, 217, 47); fill-opacity: 1;\"/></g><g class=\"point\"><path d=\"M96.55,360V359.77H98.18V360Z\" style=\"vector-effect: non-scaling-stroke; opacity: 1; stroke-width: 0px; fill: rgb(255, 217, 47); fill-opacity: 1;\"/></g><g class=\"point\"><path d=\"M98.18,360V359.42H99.82V360Z\" style=\"vector-effect: non-scaling-stroke; opacity: 1; stroke-width: 0px; fill: rgb(255, 217, 47); fill-opacity: 1;\"/></g><g class=\"point\"><path d=\"M99.82,360V359.3H101.45V360Z\" style=\"vector-effect: non-scaling-stroke; opacity: 1; stroke-width: 0px; fill: rgb(255, 217, 47); fill-opacity: 1;\"/></g><g class=\"point\"><path d=\"M101.45,360V359.54H103.09V360Z\" style=\"vector-effect: non-scaling-stroke; opacity: 1; stroke-width: 0px; fill: rgb(255, 217, 47); fill-opacity: 1;\"/></g><g class=\"point\"><path d=\"M103.09,360V359.77H104.73V360Z\" style=\"vector-effect: non-scaling-stroke; opacity: 1; stroke-width: 0px; fill: rgb(255, 217, 47); fill-opacity: 1;\"/></g><g class=\"point\"><path d=\"M0,0Z\" style=\"vector-effect: non-scaling-stroke; opacity: 1; stroke-width: 0px; fill: rgb(255, 217, 47); fill-opacity: 1;\"/></g><g class=\"point\"><path d=\"M0,0Z\" style=\"vector-effect: non-scaling-stroke; opacity: 1; stroke-width: 0px; fill: rgb(255, 217, 47); fill-opacity: 1;\"/></g><g class=\"point\"><path d=\"M0,0Z\" style=\"vector-effect: non-scaling-stroke; opacity: 1; stroke-width: 0px; fill: rgb(255, 217, 47); fill-opacity: 1;\"/></g><g class=\"point\"><path d=\"M109.64,360V359.88H111.27V360Z\" style=\"vector-effect: non-scaling-stroke; opacity: 1; stroke-width: 0px; fill: rgb(255, 217, 47); fill-opacity: 1;\"/></g><g class=\"point\"><path d=\"M0,0Z\" style=\"vector-effect: non-scaling-stroke; opacity: 1; stroke-width: 0px; fill: rgb(255, 217, 47); fill-opacity: 1;\"/></g><g class=\"point\"><path d=\"M0,0Z\" style=\"vector-effect: non-scaling-stroke; opacity: 1; stroke-width: 0px; fill: rgb(255, 217, 47); fill-opacity: 1;\"/></g><g class=\"point\"><path d=\"M114.55,360V359.88H116.18V360Z\" style=\"vector-effect: non-scaling-stroke; opacity: 1; stroke-width: 0px; fill: rgb(255, 217, 47); fill-opacity: 1;\"/></g><g class=\"point\"><path d=\"M0,0Z\" style=\"vector-effect: non-scaling-stroke; opacity: 1; stroke-width: 0px; fill: rgb(255, 217, 47); fill-opacity: 1;\"/></g><g class=\"point\"><path d=\"M117.82,360V358.95H119.45V360Z\" style=\"vector-effect: non-scaling-stroke; opacity: 1; stroke-width: 0px; fill: rgb(255, 217, 47); fill-opacity: 1;\"/></g><g class=\"point\"><path d=\"M119.45,360V359.77H121.09V360Z\" style=\"vector-effect: non-scaling-stroke; opacity: 1; stroke-width: 0px; fill: rgb(255, 217, 47); fill-opacity: 1;\"/></g><g class=\"point\"><path d=\"M121.09,360V359.65H122.73V360Z\" style=\"vector-effect: non-scaling-stroke; opacity: 1; stroke-width: 0px; fill: rgb(255, 217, 47); fill-opacity: 1;\"/></g><g class=\"point\"><path d=\"M122.73,360V359.19H124.36V360Z\" style=\"vector-effect: non-scaling-stroke; opacity: 1; stroke-width: 0px; fill: rgb(255, 217, 47); fill-opacity: 1;\"/></g><g class=\"point\"><path d=\"M124.36,360V359.42H126V360Z\" style=\"vector-effect: non-scaling-stroke; opacity: 1; stroke-width: 0px; fill: rgb(255, 217, 47); fill-opacity: 1;\"/></g><g class=\"point\"><path d=\"M126,360V359.77H127.64V360Z\" style=\"vector-effect: non-scaling-stroke; opacity: 1; stroke-width: 0px; fill: rgb(255, 217, 47); fill-opacity: 1;\"/></g><g class=\"point\"><path d=\"M127.64,360V359.65H129.27V360Z\" style=\"vector-effect: non-scaling-stroke; opacity: 1; stroke-width: 0px; fill: rgb(255, 217, 47); fill-opacity: 1;\"/></g><g class=\"point\"><path d=\"M129.27,360V359.88H130.91V360Z\" style=\"vector-effect: non-scaling-stroke; opacity: 1; stroke-width: 0px; fill: rgb(255, 217, 47); fill-opacity: 1;\"/></g><g class=\"point\"><path d=\"M130.91,360V358.84H132.55V360Z\" style=\"vector-effect: non-scaling-stroke; opacity: 1; stroke-width: 0px; fill: rgb(255, 217, 47); fill-opacity: 1;\"/></g><g class=\"point\"><path d=\"M132.55,360V358.37H134.18V360Z\" style=\"vector-effect: non-scaling-stroke; opacity: 1; stroke-width: 0px; fill: rgb(255, 217, 47); fill-opacity: 1;\"/></g><g class=\"point\"><path d=\"M134.18,360V359.19H135.82V360Z\" style=\"vector-effect: non-scaling-stroke; opacity: 1; stroke-width: 0px; fill: rgb(255, 217, 47); fill-opacity: 1;\"/></g><g class=\"point\"><path d=\"M135.82,360V359.19H137.45V360Z\" style=\"vector-effect: non-scaling-stroke; opacity: 1; stroke-width: 0px; fill: rgb(255, 217, 47); fill-opacity: 1;\"/></g><g class=\"point\"><path d=\"M137.45,360V358.72H139.09V360Z\" style=\"vector-effect: non-scaling-stroke; opacity: 1; stroke-width: 0px; fill: rgb(255, 217, 47); fill-opacity: 1;\"/></g><g class=\"point\"><path d=\"M139.09,360V359.3H140.73V360Z\" style=\"vector-effect: non-scaling-stroke; opacity: 1; stroke-width: 0px; fill: rgb(255, 217, 47); fill-opacity: 1;\"/></g><g class=\"point\"><path d=\"M140.73,360V359.07H142.36V360Z\" style=\"vector-effect: non-scaling-stroke; opacity: 1; stroke-width: 0px; fill: rgb(255, 217, 47); fill-opacity: 1;\"/></g><g class=\"point\"><path d=\"M142.36,360V359.3H144V360Z\" style=\"vector-effect: non-scaling-stroke; opacity: 1; stroke-width: 0px; fill: rgb(255, 217, 47); fill-opacity: 1;\"/></g><g class=\"point\"><path d=\"M144,360V359.88H145.64V360Z\" style=\"vector-effect: non-scaling-stroke; opacity: 1; stroke-width: 0px; fill: rgb(255, 217, 47); fill-opacity: 1;\"/></g><g class=\"point\"><path d=\"M145.64,360V359.77H147.27V360Z\" style=\"vector-effect: non-scaling-stroke; opacity: 1; stroke-width: 0px; fill: rgb(255, 217, 47); fill-opacity: 1;\"/></g><g class=\"point\"><path d=\"M0,0Z\" style=\"vector-effect: non-scaling-stroke; opacity: 1; stroke-width: 0px; fill: rgb(255, 217, 47); fill-opacity: 1;\"/></g><g class=\"point\"><path d=\"M0,0Z\" style=\"vector-effect: non-scaling-stroke; opacity: 1; stroke-width: 0px; fill: rgb(255, 217, 47); fill-opacity: 1;\"/></g><g class=\"point\"><path d=\"M0,0Z\" style=\"vector-effect: non-scaling-stroke; opacity: 1; stroke-width: 0px; fill: rgb(255, 217, 47); fill-opacity: 1;\"/></g><g class=\"point\"><path d=\"M0,0Z\" style=\"vector-effect: non-scaling-stroke; opacity: 1; stroke-width: 0px; fill: rgb(255, 217, 47); fill-opacity: 1;\"/></g><g class=\"point\"><path d=\"M153.82,360V359.77H155.45V360Z\" style=\"vector-effect: non-scaling-stroke; opacity: 1; stroke-width: 0px; fill: rgb(255, 217, 47); fill-opacity: 1;\"/></g><g class=\"point\"><path d=\"M0,0Z\" style=\"vector-effect: non-scaling-stroke; opacity: 1; stroke-width: 0px; fill: rgb(255, 217, 47); fill-opacity: 1;\"/></g><g class=\"point\"><path d=\"M157.09,360V359.88H158.73V360Z\" style=\"vector-effect: non-scaling-stroke; opacity: 1; stroke-width: 0px; fill: rgb(255, 217, 47); fill-opacity: 1;\"/></g><g class=\"point\"><path d=\"M158.73,360V359.42H160.36V360Z\" style=\"vector-effect: non-scaling-stroke; opacity: 1; stroke-width: 0px; fill: rgb(255, 217, 47); fill-opacity: 1;\"/></g><g class=\"point\"><path d=\"M160.36,360V359.77H162V360Z\" style=\"vector-effect: non-scaling-stroke; opacity: 1; stroke-width: 0px; fill: rgb(255, 217, 47); fill-opacity: 1;\"/></g><g class=\"point\"><path d=\"M162,360V359.65H163.64V360Z\" style=\"vector-effect: non-scaling-stroke; opacity: 1; stroke-width: 0px; fill: rgb(255, 217, 47); fill-opacity: 1;\"/></g><g class=\"point\"><path d=\"M163.64,360V359.42H165.27V360Z\" style=\"vector-effect: non-scaling-stroke; opacity: 1; stroke-width: 0px; fill: rgb(255, 217, 47); fill-opacity: 1;\"/></g><g class=\"point\"><path d=\"M165.27,360V359.07H166.91V360Z\" style=\"vector-effect: non-scaling-stroke; opacity: 1; stroke-width: 0px; fill: rgb(255, 217, 47); fill-opacity: 1;\"/></g><g class=\"point\"><path d=\"M166.91,360V358.72H168.55V360Z\" style=\"vector-effect: non-scaling-stroke; opacity: 1; stroke-width: 0px; fill: rgb(255, 217, 47); fill-opacity: 1;\"/></g><g class=\"point\"><path d=\"M168.55,360V359.19H170.18V360Z\" style=\"vector-effect: non-scaling-stroke; opacity: 1; stroke-width: 0px; fill: rgb(255, 217, 47); fill-opacity: 1;\"/></g><g class=\"point\"><path d=\"M170.18,360V358.95H171.82V360Z\" style=\"vector-effect: non-scaling-stroke; opacity: 1; stroke-width: 0px; fill: rgb(255, 217, 47); fill-opacity: 1;\"/></g><g class=\"point\"><path d=\"M171.82,360V358.72H173.45V360Z\" style=\"vector-effect: non-scaling-stroke; opacity: 1; stroke-width: 0px; fill: rgb(255, 217, 47); fill-opacity: 1;\"/></g><g class=\"point\"><path d=\"M173.45,360V356.86H175.09V360Z\" style=\"vector-effect: non-scaling-stroke; opacity: 1; stroke-width: 0px; fill: rgb(255, 217, 47); fill-opacity: 1;\"/></g><g class=\"point\"><path d=\"M175.09,360V358.84H176.73V360Z\" style=\"vector-effect: non-scaling-stroke; opacity: 1; stroke-width: 0px; fill: rgb(255, 217, 47); fill-opacity: 1;\"/></g><g class=\"point\"><path d=\"M176.73,360V357.79H178.36V360Z\" style=\"vector-effect: non-scaling-stroke; opacity: 1; stroke-width: 0px; fill: rgb(255, 217, 47); fill-opacity: 1;\"/></g><g class=\"point\"><path d=\"M178.36,360V356.86H180V360Z\" style=\"vector-effect: non-scaling-stroke; opacity: 1; stroke-width: 0px; fill: rgb(255, 217, 47); fill-opacity: 1;\"/></g><g class=\"point\"><path d=\"M180,360V358.49H181.64V360Z\" style=\"vector-effect: non-scaling-stroke; opacity: 1; stroke-width: 0px; fill: rgb(255, 217, 47); fill-opacity: 1;\"/></g><g class=\"point\"><path d=\"M181.64,360V358.14H183.27V360Z\" style=\"vector-effect: non-scaling-stroke; opacity: 1; stroke-width: 0px; fill: rgb(255, 217, 47); fill-opacity: 1;\"/></g><g class=\"point\"><path d=\"M183.27,360V359.65H184.91V360Z\" style=\"vector-effect: non-scaling-stroke; opacity: 1; stroke-width: 0px; fill: rgb(255, 217, 47); fill-opacity: 1;\"/></g><g class=\"point\"><path d=\"M184.91,360V359.54H186.55V360Z\" style=\"vector-effect: non-scaling-stroke; opacity: 1; stroke-width: 0px; fill: rgb(255, 217, 47); fill-opacity: 1;\"/></g><g class=\"point\"><path d=\"M186.55,360V359.88H188.18V360Z\" style=\"vector-effect: non-scaling-stroke; opacity: 1; stroke-width: 0px; fill: rgb(255, 217, 47); fill-opacity: 1;\"/></g><g class=\"point\"><path d=\"M0,0Z\" style=\"vector-effect: non-scaling-stroke; opacity: 1; stroke-width: 0px; fill: rgb(255, 217, 47); fill-opacity: 1;\"/></g><g class=\"point\"><path d=\"M0,0Z\" style=\"vector-effect: non-scaling-stroke; opacity: 1; stroke-width: 0px; fill: rgb(255, 217, 47); fill-opacity: 1;\"/></g><g class=\"point\"><path d=\"M191.45,360V359.77H193.09V360Z\" style=\"vector-effect: non-scaling-stroke; opacity: 1; stroke-width: 0px; fill: rgb(255, 217, 47); fill-opacity: 1;\"/></g><g class=\"point\"><path d=\"M193.09,360V359.77H194.73V360Z\" style=\"vector-effect: non-scaling-stroke; opacity: 1; stroke-width: 0px; fill: rgb(255, 217, 47); fill-opacity: 1;\"/></g><g class=\"point\"><path d=\"M194.73,360V359.77H196.36V360Z\" style=\"vector-effect: non-scaling-stroke; opacity: 1; stroke-width: 0px; fill: rgb(255, 217, 47); fill-opacity: 1;\"/></g><g class=\"point\"><path d=\"M196.36,360V358.61H198V360Z\" style=\"vector-effect: non-scaling-stroke; opacity: 1; stroke-width: 0px; fill: rgb(255, 217, 47); fill-opacity: 1;\"/></g><g class=\"point\"><path d=\"M198,360V358.26H199.64V360Z\" style=\"vector-effect: non-scaling-stroke; opacity: 1; stroke-width: 0px; fill: rgb(255, 217, 47); fill-opacity: 1;\"/></g><g class=\"point\"><path d=\"M199.64,360V358.37H201.27V360Z\" style=\"vector-effect: non-scaling-stroke; opacity: 1; stroke-width: 0px; fill: rgb(255, 217, 47); fill-opacity: 1;\"/></g><g class=\"point\"><path d=\"M201.27,360V358.95H202.91V360Z\" style=\"vector-effect: non-scaling-stroke; opacity: 1; stroke-width: 0px; fill: rgb(255, 217, 47); fill-opacity: 1;\"/></g><g class=\"point\"><path d=\"M202.91,360V357.09H204.55V360Z\" style=\"vector-effect: non-scaling-stroke; opacity: 1; stroke-width: 0px; fill: rgb(255, 217, 47); fill-opacity: 1;\"/></g><g class=\"point\"><path d=\"M204.55,360V357.79H206.18V360Z\" style=\"vector-effect: non-scaling-stroke; opacity: 1; stroke-width: 0px; fill: rgb(255, 217, 47); fill-opacity: 1;\"/></g><g class=\"point\"><path d=\"M206.18,360V356.4H207.82V360Z\" style=\"vector-effect: non-scaling-stroke; opacity: 1; stroke-width: 0px; fill: rgb(255, 217, 47); fill-opacity: 1;\"/></g><g class=\"point\"><path d=\"M207.82,360V356.28H209.45V360Z\" style=\"vector-effect: non-scaling-stroke; opacity: 1; stroke-width: 0px; fill: rgb(255, 217, 47); fill-opacity: 1;\"/></g><g class=\"point\"><path d=\"M209.45,360V357.44H211.09V360Z\" style=\"vector-effect: non-scaling-stroke; opacity: 1; stroke-width: 0px; fill: rgb(255, 217, 47); fill-opacity: 1;\"/></g><g class=\"point\"><path d=\"M211.09,360V356.98H212.73V360Z\" style=\"vector-effect: non-scaling-stroke; opacity: 1; stroke-width: 0px; fill: rgb(255, 217, 47); fill-opacity: 1;\"/></g><g class=\"point\"><path d=\"M212.73,360V357.21H214.36V360Z\" style=\"vector-effect: non-scaling-stroke; opacity: 1; stroke-width: 0px; fill: rgb(255, 217, 47); fill-opacity: 1;\"/></g><g class=\"point\"><path d=\"M214.36,360V356.75H216V360Z\" style=\"vector-effect: non-scaling-stroke; opacity: 1; stroke-width: 0px; fill: rgb(255, 217, 47); fill-opacity: 1;\"/></g><g class=\"point\"><path d=\"M216,360V355.24H217.64V360Z\" style=\"vector-effect: non-scaling-stroke; opacity: 1; stroke-width: 0px; fill: rgb(255, 217, 47); fill-opacity: 1;\"/></g><g class=\"point\"><path d=\"M217.64,360V356.51H219.27V360Z\" style=\"vector-effect: non-scaling-stroke; opacity: 1; stroke-width: 0px; fill: rgb(255, 217, 47); fill-opacity: 1;\"/></g><g class=\"point\"><path d=\"M219.27,360V357.33H220.91V360Z\" style=\"vector-effect: non-scaling-stroke; opacity: 1; stroke-width: 0px; fill: rgb(255, 217, 47); fill-opacity: 1;\"/></g><g class=\"point\"><path d=\"M220.91,360V357.56H222.55V360Z\" style=\"vector-effect: non-scaling-stroke; opacity: 1; stroke-width: 0px; fill: rgb(255, 217, 47); fill-opacity: 1;\"/></g><g class=\"point\"><path d=\"M222.55,360V358.37H224.18V360Z\" style=\"vector-effect: non-scaling-stroke; opacity: 1; stroke-width: 0px; fill: rgb(255, 217, 47); fill-opacity: 1;\"/></g><g class=\"point\"><path d=\"M224.18,360V358.84H225.82V360Z\" style=\"vector-effect: non-scaling-stroke; opacity: 1; stroke-width: 0px; fill: rgb(255, 217, 47); fill-opacity: 1;\"/></g><g class=\"point\"><path d=\"M225.82,360V359.54H227.45V360Z\" style=\"vector-effect: non-scaling-stroke; opacity: 1; stroke-width: 0px; fill: rgb(255, 217, 47); fill-opacity: 1;\"/></g><g class=\"point\"><path d=\"M227.45,360V359.3H229.09V360Z\" style=\"vector-effect: non-scaling-stroke; opacity: 1; stroke-width: 0px; fill: rgb(255, 217, 47); fill-opacity: 1;\"/></g><g class=\"point\"><path d=\"M0,0Z\" style=\"vector-effect: non-scaling-stroke; opacity: 1; stroke-width: 0px; fill: rgb(255, 217, 47); fill-opacity: 1;\"/></g><g class=\"point\"><path d=\"M230.73,360V359.65H232.36V360Z\" style=\"vector-effect: non-scaling-stroke; opacity: 1; stroke-width: 0px; fill: rgb(255, 217, 47); fill-opacity: 1;\"/></g><g class=\"point\"><path d=\"M232.36,360V359.77H234V360Z\" style=\"vector-effect: non-scaling-stroke; opacity: 1; stroke-width: 0px; fill: rgb(255, 217, 47); fill-opacity: 1;\"/></g><g class=\"point\"><path d=\"M234,360V358.61H235.64V360Z\" style=\"vector-effect: non-scaling-stroke; opacity: 1; stroke-width: 0px; fill: rgb(255, 217, 47); fill-opacity: 1;\"/></g><g class=\"point\"><path d=\"M235.64,360V357.44H237.27V360Z\" style=\"vector-effect: non-scaling-stroke; opacity: 1; stroke-width: 0px; fill: rgb(255, 217, 47); fill-opacity: 1;\"/></g><g class=\"point\"><path d=\"M237.27,360V356.86H238.91V360Z\" style=\"vector-effect: non-scaling-stroke; opacity: 1; stroke-width: 0px; fill: rgb(255, 217, 47); fill-opacity: 1;\"/></g><g class=\"point\"><path d=\"M238.91,360V356.4H240.55V360Z\" style=\"vector-effect: non-scaling-stroke; opacity: 1; stroke-width: 0px; fill: rgb(255, 217, 47); fill-opacity: 1;\"/></g><g class=\"point\"><path d=\"M240.55,360V354.77H242.18V360Z\" style=\"vector-effect: non-scaling-stroke; opacity: 1; stroke-width: 0px; fill: rgb(255, 217, 47); fill-opacity: 1;\"/></g><g class=\"point\"><path d=\"M242.18,360V356.4H243.82V360Z\" style=\"vector-effect: non-scaling-stroke; opacity: 1; stroke-width: 0px; fill: rgb(255, 217, 47); fill-opacity: 1;\"/></g><g class=\"point\"><path d=\"M243.82,360V354.31H245.45V360Z\" style=\"vector-effect: non-scaling-stroke; opacity: 1; stroke-width: 0px; fill: rgb(255, 217, 47); fill-opacity: 1;\"/></g><g class=\"point\"><path d=\"M245.45,360V349.77H247.09V360Z\" style=\"vector-effect: non-scaling-stroke; opacity: 1; stroke-width: 0px; fill: rgb(255, 217, 47); fill-opacity: 1;\"/></g><g class=\"point\"><path d=\"M247.09,360V353.84H248.73V360Z\" style=\"vector-effect: non-scaling-stroke; opacity: 1; stroke-width: 0px; fill: rgb(255, 217, 47); fill-opacity: 1;\"/></g><g class=\"point\"><path d=\"M248.73,360V350.47H250.36V360Z\" style=\"vector-effect: non-scaling-stroke; opacity: 1; stroke-width: 0px; fill: rgb(255, 217, 47); fill-opacity: 1;\"/></g><g class=\"point\"><path d=\"M250.36,360V349.31H252V360Z\" style=\"vector-effect: non-scaling-stroke; opacity: 1; stroke-width: 0px; fill: rgb(255, 217, 47); fill-opacity: 1;\"/></g><g class=\"point\"><path d=\"M252,360V348.73H253.64V360Z\" style=\"vector-effect: non-scaling-stroke; opacity: 1; stroke-width: 0px; fill: rgb(255, 217, 47); fill-opacity: 1;\"/></g><g class=\"point\"><path d=\"M253.64,360V347.1H255.27V360Z\" style=\"vector-effect: non-scaling-stroke; opacity: 1; stroke-width: 0px; fill: rgb(255, 217, 47); fill-opacity: 1;\"/></g><g class=\"point\"><path d=\"M255.27,360V347.45H256.91V360Z\" style=\"vector-effect: non-scaling-stroke; opacity: 1; stroke-width: 0px; fill: rgb(255, 217, 47); fill-opacity: 1;\"/></g><g class=\"point\"><path d=\"M256.91,360V346.87H258.55V360Z\" style=\"vector-effect: non-scaling-stroke; opacity: 1; stroke-width: 0px; fill: rgb(255, 217, 47); fill-opacity: 1;\"/></g><g class=\"point\"><path d=\"M258.55,360V347.68H260.18V360Z\" style=\"vector-effect: non-scaling-stroke; opacity: 1; stroke-width: 0px; fill: rgb(255, 217, 47); fill-opacity: 1;\"/></g><g class=\"point\"><path d=\"M260.18,360V352.45H261.82V360Z\" style=\"vector-effect: non-scaling-stroke; opacity: 1; stroke-width: 0px; fill: rgb(255, 217, 47); fill-opacity: 1;\"/></g><g class=\"point\"><path d=\"M261.82,360V353.49H263.45V360Z\" style=\"vector-effect: non-scaling-stroke; opacity: 1; stroke-width: 0px; fill: rgb(255, 217, 47); fill-opacity: 1;\"/></g><g class=\"point\"><path d=\"M263.45,360V310.73H265.09V360Z\" style=\"vector-effect: non-scaling-stroke; opacity: 1; stroke-width: 0px; fill: rgb(255, 217, 47); fill-opacity: 1;\"/></g><g class=\"point\"><path d=\"M265.09,360V324.09H266.73V360Z\" style=\"vector-effect: non-scaling-stroke; opacity: 1; stroke-width: 0px; fill: rgb(255, 217, 47); fill-opacity: 1;\"/></g><g class=\"point\"><path d=\"M266.73,360V347.91H268.36V360Z\" style=\"vector-effect: non-scaling-stroke; opacity: 1; stroke-width: 0px; fill: rgb(255, 217, 47); fill-opacity: 1;\"/></g><g class=\"point\"><path d=\"M268.36,360V337.69H270V360Z\" style=\"vector-effect: non-scaling-stroke; opacity: 1; stroke-width: 0px; fill: rgb(255, 217, 47); fill-opacity: 1;\"/></g><g class=\"point\"><path d=\"M270,360V333.5H271.64V360Z\" style=\"vector-effect: non-scaling-stroke; opacity: 1; stroke-width: 0px; fill: rgb(255, 217, 47); fill-opacity: 1;\"/></g><g class=\"point\"><path d=\"M271.64,360V321.88H273.27V360Z\" style=\"vector-effect: non-scaling-stroke; opacity: 1; stroke-width: 0px; fill: rgb(255, 217, 47); fill-opacity: 1;\"/></g><g class=\"point\"><path d=\"M273.27,360V283.65H274.91V360Z\" style=\"vector-effect: non-scaling-stroke; opacity: 1; stroke-width: 0px; fill: rgb(255, 217, 47); fill-opacity: 1;\"/></g><g class=\"point\"><path d=\"M274.91,360V262.73H276.55V360Z\" style=\"vector-effect: non-scaling-stroke; opacity: 1; stroke-width: 0px; fill: rgb(255, 217, 47); fill-opacity: 1;\"/></g><g class=\"point\"><path d=\"M276.55,360V230.54H278.18V360Z\" style=\"vector-effect: non-scaling-stroke; opacity: 1; stroke-width: 0px; fill: rgb(255, 217, 47); fill-opacity: 1;\"/></g><g class=\"point\"><path d=\"M278.18,360V193.59H279.82V360Z\" style=\"vector-effect: non-scaling-stroke; opacity: 1; stroke-width: 0px; fill: rgb(255, 217, 47); fill-opacity: 1;\"/></g><g class=\"point\"><path d=\"M279.82,360V155.94H281.45V360Z\" style=\"vector-effect: non-scaling-stroke; opacity: 1; stroke-width: 0px; fill: rgb(255, 217, 47); fill-opacity: 1;\"/></g><g class=\"point\"><path d=\"M281.45,360V139.09H283.09V360Z\" style=\"vector-effect: non-scaling-stroke; opacity: 1; stroke-width: 0px; fill: rgb(255, 217, 47); fill-opacity: 1;\"/></g><g class=\"point\"><path d=\"M283.09,360V127.12H284.73V360Z\" style=\"vector-effect: non-scaling-stroke; opacity: 1; stroke-width: 0px; fill: rgb(255, 217, 47); fill-opacity: 1;\"/></g><g class=\"point\"><path d=\"M284.73,360V132H286.36V360Z\" style=\"vector-effect: non-scaling-stroke; opacity: 1; stroke-width: 0px; fill: rgb(255, 217, 47); fill-opacity: 1;\"/></g><g class=\"point\"><path d=\"M286.36,360V64.95H288V360Z\" style=\"vector-effect: non-scaling-stroke; opacity: 1; stroke-width: 0px; fill: rgb(255, 217, 47); fill-opacity: 1;\"/></g><g class=\"point\"><path d=\"M288,360V62.97H289.64V360Z\" style=\"vector-effect: non-scaling-stroke; opacity: 1; stroke-width: 0px; fill: rgb(255, 217, 47); fill-opacity: 1;\"/></g><g class=\"point\"><path d=\"M289.64,360V94H291.27V360Z\" style=\"vector-effect: non-scaling-stroke; opacity: 1; stroke-width: 0px; fill: rgb(255, 217, 47); fill-opacity: 1;\"/></g><g class=\"point\"><path d=\"M291.27,360V33.92H292.91V360Z\" style=\"vector-effect: non-scaling-stroke; opacity: 1; stroke-width: 0px; fill: rgb(255, 217, 47); fill-opacity: 1;\"/></g><g class=\"point\"><path d=\"M292.91,360V87.26H294.55V360Z\" style=\"vector-effect: non-scaling-stroke; opacity: 1; stroke-width: 0px; fill: rgb(255, 217, 47); fill-opacity: 1;\"/></g><g class=\"point\"><path d=\"M294.55,360V54.14H296.18V360Z\" style=\"vector-effect: non-scaling-stroke; opacity: 1; stroke-width: 0px; fill: rgb(255, 217, 47); fill-opacity: 1;\"/></g><g class=\"point\"><path d=\"M296.18,360V77.85H297.82V360Z\" style=\"vector-effect: non-scaling-stroke; opacity: 1; stroke-width: 0px; fill: rgb(255, 217, 47); fill-opacity: 1;\"/></g><g class=\"point\"><path d=\"M297.82,360V115.96H299.45V360Z\" style=\"vector-effect: non-scaling-stroke; opacity: 1; stroke-width: 0px; fill: rgb(255, 217, 47); fill-opacity: 1;\"/></g><g class=\"point\"><path d=\"M299.45,360V149.31H301.09V360Z\" style=\"vector-effect: non-scaling-stroke; opacity: 1; stroke-width: 0px; fill: rgb(255, 217, 47); fill-opacity: 1;\"/></g><g class=\"point\"><path d=\"M301.09,360V242.75H302.73V360Z\" style=\"vector-effect: non-scaling-stroke; opacity: 1; stroke-width: 0px; fill: rgb(255, 217, 47); fill-opacity: 1;\"/></g><g class=\"point\"><path d=\"M302.73,360V281.79H304.36V360Z\" style=\"vector-effect: non-scaling-stroke; opacity: 1; stroke-width: 0px; fill: rgb(255, 217, 47); fill-opacity: 1;\"/></g><g class=\"point\"><path d=\"M304.36,360V325.95H306V360Z\" style=\"vector-effect: non-scaling-stroke; opacity: 1; stroke-width: 0px; fill: rgb(255, 217, 47); fill-opacity: 1;\"/></g><g class=\"point\"><path d=\"M306,360V331.53H307.64V360Z\" style=\"vector-effect: non-scaling-stroke; opacity: 1; stroke-width: 0px; fill: rgb(255, 217, 47); fill-opacity: 1;\"/></g><g class=\"point\"><path d=\"M307.64,360V284.81H309.27V360Z\" style=\"vector-effect: non-scaling-stroke; opacity: 1; stroke-width: 0px; fill: rgb(255, 217, 47); fill-opacity: 1;\"/></g><g class=\"point\"><path d=\"M309.27,360V266.92H310.91V360Z\" style=\"vector-effect: non-scaling-stroke; opacity: 1; stroke-width: 0px; fill: rgb(255, 217, 47); fill-opacity: 1;\"/></g><g class=\"point\"><path d=\"M310.91,360V277.84H312.55V360Z\" style=\"vector-effect: non-scaling-stroke; opacity: 1; stroke-width: 0px; fill: rgb(255, 217, 47); fill-opacity: 1;\"/></g><g class=\"point\"><path d=\"M312.55,360V261.22H314.18V360Z\" style=\"vector-effect: non-scaling-stroke; opacity: 1; stroke-width: 0px; fill: rgb(255, 217, 47); fill-opacity: 1;\"/></g><g class=\"point\"><path d=\"M314.18,360V269.59H315.82V360Z\" style=\"vector-effect: non-scaling-stroke; opacity: 1; stroke-width: 0px; fill: rgb(255, 217, 47); fill-opacity: 1;\"/></g><g class=\"point\"><path d=\"M315.82,360V240.31H317.45V360Z\" style=\"vector-effect: non-scaling-stroke; opacity: 1; stroke-width: 0px; fill: rgb(255, 217, 47); fill-opacity: 1;\"/></g><g class=\"point\"><path d=\"M317.45,360V205.68H319.09V360Z\" style=\"vector-effect: non-scaling-stroke; opacity: 1; stroke-width: 0px; fill: rgb(255, 217, 47); fill-opacity: 1;\"/></g><g class=\"point\"><path d=\"M319.09,360V163.14H320.73V360Z\" style=\"vector-effect: non-scaling-stroke; opacity: 1; stroke-width: 0px; fill: rgb(255, 217, 47); fill-opacity: 1;\"/></g><g class=\"point\"><path d=\"M320.73,360V131.54H322.36V360Z\" style=\"vector-effect: non-scaling-stroke; opacity: 1; stroke-width: 0px; fill: rgb(255, 217, 47); fill-opacity: 1;\"/></g><g class=\"point\"><path d=\"M322.36,360V105.74H324V360Z\" style=\"vector-effect: non-scaling-stroke; opacity: 1; stroke-width: 0px; fill: rgb(255, 217, 47); fill-opacity: 1;\"/></g><g class=\"point\"><path d=\"M324,360V122.24H325.64V360Z\" style=\"vector-effect: non-scaling-stroke; opacity: 1; stroke-width: 0px; fill: rgb(255, 217, 47); fill-opacity: 1;\"/></g><g class=\"point\"><path d=\"M325.64,360V93.54H327.27V360Z\" style=\"vector-effect: non-scaling-stroke; opacity: 1; stroke-width: 0px; fill: rgb(255, 217, 47); fill-opacity: 1;\"/></g><g class=\"point\"><path d=\"M327.27,360V142.34H328.91V360Z\" style=\"vector-effect: non-scaling-stroke; opacity: 1; stroke-width: 0px; fill: rgb(255, 217, 47); fill-opacity: 1;\"/></g><g class=\"point\"><path d=\"M328.91,360V86.33H330.55V360Z\" style=\"vector-effect: non-scaling-stroke; opacity: 1; stroke-width: 0px; fill: rgb(255, 217, 47); fill-opacity: 1;\"/></g><g class=\"point\"><path d=\"M330.55,360V84.47H332.18V360Z\" style=\"vector-effect: non-scaling-stroke; opacity: 1; stroke-width: 0px; fill: rgb(255, 217, 47); fill-opacity: 1;\"/></g><g class=\"point\"><path d=\"M332.18,360V65.65H333.82V360Z\" style=\"vector-effect: non-scaling-stroke; opacity: 1; stroke-width: 0px; fill: rgb(255, 217, 47); fill-opacity: 1;\"/></g><g class=\"point\"><path d=\"M333.82,360V94.58H335.45V360Z\" style=\"vector-effect: non-scaling-stroke; opacity: 1; stroke-width: 0px; fill: rgb(255, 217, 47); fill-opacity: 1;\"/></g><g class=\"point\"><path d=\"M335.45,360V142.57H337.09V360Z\" style=\"vector-effect: non-scaling-stroke; opacity: 1; stroke-width: 0px; fill: rgb(255, 217, 47); fill-opacity: 1;\"/></g><g class=\"point\"><path d=\"M337.09,360V160.94H338.73V360Z\" style=\"vector-effect: non-scaling-stroke; opacity: 1; stroke-width: 0px; fill: rgb(255, 217, 47); fill-opacity: 1;\"/></g><g class=\"point\"><path d=\"M338.73,360V158.26H340.36V360Z\" style=\"vector-effect: non-scaling-stroke; opacity: 1; stroke-width: 0px; fill: rgb(255, 217, 47); fill-opacity: 1;\"/></g><g class=\"point\"><path d=\"M340.36,360V209.39H342V360Z\" style=\"vector-effect: non-scaling-stroke; opacity: 1; stroke-width: 0px; fill: rgb(255, 217, 47); fill-opacity: 1;\"/></g><g class=\"point\"><path d=\"M342,360V275.4H343.64V360Z\" style=\"vector-effect: non-scaling-stroke; opacity: 1; stroke-width: 0px; fill: rgb(255, 217, 47); fill-opacity: 1;\"/></g><g class=\"point\"><path d=\"M343.64,360V328.28H345.27V360Z\" style=\"vector-effect: non-scaling-stroke; opacity: 1; stroke-width: 0px; fill: rgb(255, 217, 47); fill-opacity: 1;\"/></g><g class=\"point\"><path d=\"M345.27,360V337.57H346.91V360Z\" style=\"vector-effect: non-scaling-stroke; opacity: 1; stroke-width: 0px; fill: rgb(255, 217, 47); fill-opacity: 1;\"/></g><g class=\"point\"><path d=\"M346.91,360V350.59H348.55V360Z\" style=\"vector-effect: non-scaling-stroke; opacity: 1; stroke-width: 0px; fill: rgb(255, 217, 47); fill-opacity: 1;\"/></g><g class=\"point\"><path d=\"M348.55,360V340.01H350.18V360Z\" style=\"vector-effect: non-scaling-stroke; opacity: 1; stroke-width: 0px; fill: rgb(255, 217, 47); fill-opacity: 1;\"/></g><g class=\"point\"><path d=\"M350.18,360V306.31H351.82V360Z\" style=\"vector-effect: non-scaling-stroke; opacity: 1; stroke-width: 0px; fill: rgb(255, 217, 47); fill-opacity: 1;\"/></g><g class=\"point\"><path d=\"M351.82,360V310.96H353.45V360Z\" style=\"vector-effect: non-scaling-stroke; opacity: 1; stroke-width: 0px; fill: rgb(255, 217, 47); fill-opacity: 1;\"/></g><g class=\"point\"><path d=\"M353.45,360V287.6H355.09V360Z\" style=\"vector-effect: non-scaling-stroke; opacity: 1; stroke-width: 0px; fill: rgb(255, 217, 47); fill-opacity: 1;\"/></g><g class=\"point\"><path d=\"M355.09,360V240.31H356.73V360Z\" style=\"vector-effect: non-scaling-stroke; opacity: 1; stroke-width: 0px; fill: rgb(255, 217, 47); fill-opacity: 1;\"/></g><g class=\"point\"><path d=\"M356.73,360V201.49H358.36V360Z\" style=\"vector-effect: non-scaling-stroke; opacity: 1; stroke-width: 0px; fill: rgb(255, 217, 47); fill-opacity: 1;\"/></g><g class=\"point\"><path d=\"M358.36,360V168.49H360V360Z\" style=\"vector-effect: non-scaling-stroke; opacity: 1; stroke-width: 0px; fill: rgb(255, 217, 47); fill-opacity: 1;\"/></g><g class=\"point\"><path d=\"M360,360V128.63H361.64V360Z\" style=\"vector-effect: non-scaling-stroke; opacity: 1; stroke-width: 0px; fill: rgb(255, 217, 47); fill-opacity: 1;\"/></g><g class=\"point\"><path d=\"M361.64,360V77.61H363.27V360Z\" style=\"vector-effect: non-scaling-stroke; opacity: 1; stroke-width: 0px; fill: rgb(255, 217, 47); fill-opacity: 1;\"/></g><g class=\"point\"><path d=\"M363.27,360V127.12H364.91V360Z\" style=\"vector-effect: non-scaling-stroke; opacity: 1; stroke-width: 0px; fill: rgb(255, 217, 47); fill-opacity: 1;\"/></g><g class=\"point\"><path d=\"M364.91,360V22.42H366.55V360Z\" style=\"vector-effect: non-scaling-stroke; opacity: 1; stroke-width: 0px; fill: rgb(255, 217, 47); fill-opacity: 1;\"/></g><g class=\"point\"><path d=\"M366.55,360V101.32H368.18V360Z\" style=\"vector-effect: non-scaling-stroke; opacity: 1; stroke-width: 0px; fill: rgb(255, 217, 47); fill-opacity: 1;\"/></g><g class=\"point\"><path d=\"M368.18,360V123.17H369.82V360Z\" style=\"vector-effect: non-scaling-stroke; opacity: 1; stroke-width: 0px; fill: rgb(255, 217, 47); fill-opacity: 1;\"/></g><g class=\"point\"><path d=\"M369.82,360V49.38H371.45V360Z\" style=\"vector-effect: non-scaling-stroke; opacity: 1; stroke-width: 0px; fill: rgb(255, 217, 47); fill-opacity: 1;\"/></g><g class=\"point\"><path d=\"M371.45,360V101.79H373.09V360Z\" style=\"vector-effect: non-scaling-stroke; opacity: 1; stroke-width: 0px; fill: rgb(255, 217, 47); fill-opacity: 1;\"/></g><g class=\"point\"><path d=\"M373.09,360V105.27H374.73V360Z\" style=\"vector-effect: non-scaling-stroke; opacity: 1; stroke-width: 0px; fill: rgb(255, 217, 47); fill-opacity: 1;\"/></g><g class=\"point\"><path d=\"M374.73,360V126.65H376.36V360Z\" style=\"vector-effect: non-scaling-stroke; opacity: 1; stroke-width: 0px; fill: rgb(255, 217, 47); fill-opacity: 1;\"/></g><g class=\"point\"><path d=\"M376.36,360V166.28H378V360Z\" style=\"vector-effect: non-scaling-stroke; opacity: 1; stroke-width: 0px; fill: rgb(255, 217, 47); fill-opacity: 1;\"/></g><g class=\"point\"><path d=\"M378,360V186.97H379.64V360Z\" style=\"vector-effect: non-scaling-stroke; opacity: 1; stroke-width: 0px; fill: rgb(255, 217, 47); fill-opacity: 1;\"/></g><g class=\"point\"><path d=\"M379.64,360V271.57H381.27V360Z\" style=\"vector-effect: non-scaling-stroke; opacity: 1; stroke-width: 0px; fill: rgb(255, 217, 47); fill-opacity: 1;\"/></g><g class=\"point\"><path d=\"M381.27,360V300.62H382.91V360Z\" style=\"vector-effect: non-scaling-stroke; opacity: 1; stroke-width: 0px; fill: rgb(255, 217, 47); fill-opacity: 1;\"/></g><g class=\"point\"><path d=\"M382.91,360V330.25H384.55V360Z\" style=\"vector-effect: non-scaling-stroke; opacity: 1; stroke-width: 0px; fill: rgb(255, 217, 47); fill-opacity: 1;\"/></g><g class=\"point\"><path d=\"M384.55,360V347.57H386.18V360Z\" style=\"vector-effect: non-scaling-stroke; opacity: 1; stroke-width: 0px; fill: rgb(255, 217, 47); fill-opacity: 1;\"/></g><g class=\"point\"><path d=\"M386.18,360V346.17H387.82V360Z\" style=\"vector-effect: non-scaling-stroke; opacity: 1; stroke-width: 0px; fill: rgb(255, 217, 47); fill-opacity: 1;\"/></g><g class=\"point\"><path d=\"M387.82,360V336.06H389.45V360Z\" style=\"vector-effect: non-scaling-stroke; opacity: 1; stroke-width: 0px; fill: rgb(255, 217, 47); fill-opacity: 1;\"/></g><g class=\"point\"><path d=\"M389.45,360V332.81H391.09V360Z\" style=\"vector-effect: non-scaling-stroke; opacity: 1; stroke-width: 0px; fill: rgb(255, 217, 47); fill-opacity: 1;\"/></g><g class=\"point\"><path d=\"M391.09,360V304.92H392.73V360Z\" style=\"vector-effect: non-scaling-stroke; opacity: 1; stroke-width: 0px; fill: rgb(255, 217, 47); fill-opacity: 1;\"/></g><g class=\"point\"><path d=\"M392.73,360V280.75H394.36V360Z\" style=\"vector-effect: non-scaling-stroke; opacity: 1; stroke-width: 0px; fill: rgb(255, 217, 47); fill-opacity: 1;\"/></g><g class=\"point\"><path d=\"M394.36,360V237.63H396V360Z\" style=\"vector-effect: non-scaling-stroke; opacity: 1; stroke-width: 0px; fill: rgb(255, 217, 47); fill-opacity: 1;\"/></g><g class=\"point\"><path d=\"M396,360V202.31H397.64V360Z\" style=\"vector-effect: non-scaling-stroke; opacity: 1; stroke-width: 0px; fill: rgb(255, 217, 47); fill-opacity: 1;\"/></g><g class=\"point\"><path d=\"M397.64,360V178.72H399.27V360Z\" style=\"vector-effect: non-scaling-stroke; opacity: 1; stroke-width: 0px; fill: rgb(255, 217, 47); fill-opacity: 1;\"/></g><g class=\"point\"><path d=\"M399.27,360V146.18H400.91V360Z\" style=\"vector-effect: non-scaling-stroke; opacity: 1; stroke-width: 0px; fill: rgb(255, 217, 47); fill-opacity: 1;\"/></g><g class=\"point\"><path d=\"M400.91,360V128.63H402.55V360Z\" style=\"vector-effect: non-scaling-stroke; opacity: 1; stroke-width: 0px; fill: rgb(255, 217, 47); fill-opacity: 1;\"/></g><g class=\"point\"><path d=\"M402.55,360V70.64H404.18V360Z\" style=\"vector-effect: non-scaling-stroke; opacity: 1; stroke-width: 0px; fill: rgb(255, 217, 47); fill-opacity: 1;\"/></g><g class=\"point\"><path d=\"M404.18,360V71.34H405.82V360Z\" style=\"vector-effect: non-scaling-stroke; opacity: 1; stroke-width: 0px; fill: rgb(255, 217, 47); fill-opacity: 1;\"/></g><g class=\"point\"><path d=\"M405.82,360V85.17H407.45V360Z\" style=\"vector-effect: non-scaling-stroke; opacity: 1; stroke-width: 0px; fill: rgb(255, 217, 47); fill-opacity: 1;\"/></g><g class=\"point\"><path d=\"M407.45,360V113.99H409.09V360Z\" style=\"vector-effect: non-scaling-stroke; opacity: 1; stroke-width: 0px; fill: rgb(255, 217, 47); fill-opacity: 1;\"/></g><g class=\"point\"><path d=\"M409.09,360V127H410.73V360Z\" style=\"vector-effect: non-scaling-stroke; opacity: 1; stroke-width: 0px; fill: rgb(255, 217, 47); fill-opacity: 1;\"/></g><g class=\"point\"><path d=\"M410.73,360V73.31H412.36V360Z\" style=\"vector-effect: non-scaling-stroke; opacity: 1; stroke-width: 0px; fill: rgb(255, 217, 47); fill-opacity: 1;\"/></g><g class=\"point\"><path d=\"M412.36,360V107.71H414V360Z\" style=\"vector-effect: non-scaling-stroke; opacity: 1; stroke-width: 0px; fill: rgb(255, 217, 47); fill-opacity: 1;\"/></g><g class=\"point\"><path d=\"M414,360V108.87H415.64V360Z\" style=\"vector-effect: non-scaling-stroke; opacity: 1; stroke-width: 0px; fill: rgb(255, 217, 47); fill-opacity: 1;\"/></g><g class=\"point\"><path d=\"M415.64,360V161.52H417.27V360Z\" style=\"vector-effect: non-scaling-stroke; opacity: 1; stroke-width: 0px; fill: rgb(255, 217, 47); fill-opacity: 1;\"/></g><g class=\"point\"><path d=\"M417.27,360V206.95H418.91V360Z\" style=\"vector-effect: non-scaling-stroke; opacity: 1; stroke-width: 0px; fill: rgb(255, 217, 47); fill-opacity: 1;\"/></g><g class=\"point\"><path d=\"M418.91,360V254.48H420.55V360Z\" style=\"vector-effect: non-scaling-stroke; opacity: 1; stroke-width: 0px; fill: rgb(255, 217, 47); fill-opacity: 1;\"/></g><g class=\"point\"><path d=\"M420.55,360V285.28H422.18V360Z\" style=\"vector-effect: non-scaling-stroke; opacity: 1; stroke-width: 0px; fill: rgb(255, 217, 47); fill-opacity: 1;\"/></g><g class=\"point\"><path d=\"M422.18,360V309.1H423.82V360Z\" style=\"vector-effect: non-scaling-stroke; opacity: 1; stroke-width: 0px; fill: rgb(255, 217, 47); fill-opacity: 1;\"/></g><g class=\"point\"><path d=\"M423.82,360V339.31H425.45V360Z\" style=\"vector-effect: non-scaling-stroke; opacity: 1; stroke-width: 0px; fill: rgb(255, 217, 47); fill-opacity: 1;\"/></g><g class=\"point\"><path d=\"M425.45,360V339.78H427.09V360Z\" style=\"vector-effect: non-scaling-stroke; opacity: 1; stroke-width: 0px; fill: rgb(255, 217, 47); fill-opacity: 1;\"/></g><g class=\"point\"><path d=\"M427.09,360V341.52H428.73V360Z\" style=\"vector-effect: non-scaling-stroke; opacity: 1; stroke-width: 0px; fill: rgb(255, 217, 47); fill-opacity: 1;\"/></g><g class=\"point\"><path d=\"M428.73,360V321.77H430.36V360Z\" style=\"vector-effect: non-scaling-stroke; opacity: 1; stroke-width: 0px; fill: rgb(255, 217, 47); fill-opacity: 1;\"/></g><g class=\"point\"><path d=\"M430.36,360V297.71H432V360Z\" style=\"vector-effect: non-scaling-stroke; opacity: 1; stroke-width: 0px; fill: rgb(255, 217, 47); fill-opacity: 1;\"/></g><g class=\"point\"><path d=\"M432,360V257.74H433.64V360Z\" style=\"vector-effect: non-scaling-stroke; opacity: 1; stroke-width: 0px; fill: rgb(255, 217, 47); fill-opacity: 1;\"/></g><g class=\"point\"><path d=\"M433.64,360V206.02H435.27V360Z\" style=\"vector-effect: non-scaling-stroke; opacity: 1; stroke-width: 0px; fill: rgb(255, 217, 47); fill-opacity: 1;\"/></g><g class=\"point\"><path d=\"M435.27,360V185.22H436.91V360Z\" style=\"vector-effect: non-scaling-stroke; opacity: 1; stroke-width: 0px; fill: rgb(255, 217, 47); fill-opacity: 1;\"/></g><g class=\"point\"><path d=\"M436.91,360V188.01H438.55V360Z\" style=\"vector-effect: non-scaling-stroke; opacity: 1; stroke-width: 0px; fill: rgb(255, 217, 47); fill-opacity: 1;\"/></g><g class=\"point\"><path d=\"M438.55,360V134.21H440.18V360Z\" style=\"vector-effect: non-scaling-stroke; opacity: 1; stroke-width: 0px; fill: rgb(255, 217, 47); fill-opacity: 1;\"/></g><g class=\"point\"><path d=\"M440.18,360V128.4H441.82V360Z\" style=\"vector-effect: non-scaling-stroke; opacity: 1; stroke-width: 0px; fill: rgb(255, 217, 47); fill-opacity: 1;\"/></g><g class=\"point\"><path d=\"M441.82,360V82.96H443.45V360Z\" style=\"vector-effect: non-scaling-stroke; opacity: 1; stroke-width: 0px; fill: rgb(255, 217, 47); fill-opacity: 1;\"/></g><g class=\"point\"><path d=\"M443.45,360V113.99H445.09V360Z\" style=\"vector-effect: non-scaling-stroke; opacity: 1; stroke-width: 0px; fill: rgb(255, 217, 47); fill-opacity: 1;\"/></g><g class=\"point\"><path d=\"M445.09,360V111.55H446.73V360Z\" style=\"vector-effect: non-scaling-stroke; opacity: 1; stroke-width: 0px; fill: rgb(255, 217, 47); fill-opacity: 1;\"/></g><g class=\"point\"><path d=\"M446.73,360V67.85H448.36V360Z\" style=\"vector-effect: non-scaling-stroke; opacity: 1; stroke-width: 0px; fill: rgb(255, 217, 47); fill-opacity: 1;\"/></g><g class=\"point\"><path d=\"M448.36,360V18H450V360Z\" style=\"vector-effect: non-scaling-stroke; opacity: 1; stroke-width: 0px; fill: rgb(255, 217, 47); fill-opacity: 1;\"/></g><g class=\"point\"><path d=\"M450,360V33.22H451.64V360Z\" style=\"vector-effect: non-scaling-stroke; opacity: 1; stroke-width: 0px; fill: rgb(255, 217, 47); fill-opacity: 1;\"/></g><g class=\"point\"><path d=\"M451.64,360V49.72H453.27V360Z\" style=\"vector-effect: non-scaling-stroke; opacity: 1; stroke-width: 0px; fill: rgb(255, 217, 47); fill-opacity: 1;\"/></g><g class=\"point\"><path d=\"M453.27,360V57.74H454.91V360Z\" style=\"vector-effect: non-scaling-stroke; opacity: 1; stroke-width: 0px; fill: rgb(255, 217, 47); fill-opacity: 1;\"/></g><g class=\"point\"><path d=\"M454.91,360V161.52H456.55V360Z\" style=\"vector-effect: non-scaling-stroke; opacity: 1; stroke-width: 0px; fill: rgb(255, 217, 47); fill-opacity: 1;\"/></g><g class=\"point\"><path d=\"M456.55,360V172.79H458.18V360Z\" style=\"vector-effect: non-scaling-stroke; opacity: 1; stroke-width: 0px; fill: rgb(255, 217, 47); fill-opacity: 1;\"/></g><g class=\"point\"><path d=\"M458.18,360V244.37H459.82V360Z\" style=\"vector-effect: non-scaling-stroke; opacity: 1; stroke-width: 0px; fill: rgb(255, 217, 47); fill-opacity: 1;\"/></g><g class=\"point\"><path d=\"M459.82,360V272.73H461.45V360Z\" style=\"vector-effect: non-scaling-stroke; opacity: 1; stroke-width: 0px; fill: rgb(255, 217, 47); fill-opacity: 1;\"/></g><g class=\"point\"><path d=\"M461.45,360V330.02H463.09V360Z\" style=\"vector-effect: non-scaling-stroke; opacity: 1; stroke-width: 0px; fill: rgb(255, 217, 47); fill-opacity: 1;\"/></g><g class=\"point\"><path d=\"M463.09,360V332.92H464.73V360Z\" style=\"vector-effect: non-scaling-stroke; opacity: 1; stroke-width: 0px; fill: rgb(255, 217, 47); fill-opacity: 1;\"/></g><g class=\"point\"><path d=\"M464.73,360V341.52H466.36V360Z\" style=\"vector-effect: non-scaling-stroke; opacity: 1; stroke-width: 0px; fill: rgb(255, 217, 47); fill-opacity: 1;\"/></g><g class=\"point\"><path d=\"M466.36,360V339.2H468V360Z\" style=\"vector-effect: non-scaling-stroke; opacity: 1; stroke-width: 0px; fill: rgb(255, 217, 47); fill-opacity: 1;\"/></g><g class=\"point\"><path d=\"M468,360V312.01H469.64V360Z\" style=\"vector-effect: non-scaling-stroke; opacity: 1; stroke-width: 0px; fill: rgb(255, 217, 47); fill-opacity: 1;\"/></g><g class=\"point\"><path d=\"M469.64,360V279.24H471.27V360Z\" style=\"vector-effect: non-scaling-stroke; opacity: 1; stroke-width: 0px; fill: rgb(255, 217, 47); fill-opacity: 1;\"/></g><g class=\"point\"><path d=\"M471.27,360V226.94H472.91V360Z\" style=\"vector-effect: non-scaling-stroke; opacity: 1; stroke-width: 0px; fill: rgb(255, 217, 47); fill-opacity: 1;\"/></g><g class=\"point\"><path d=\"M472.91,360V145.83H474.55V360Z\" style=\"vector-effect: non-scaling-stroke; opacity: 1; stroke-width: 0px; fill: rgb(255, 217, 47); fill-opacity: 1;\"/></g><g class=\"point\"><path d=\"M474.55,360V168.95H476.18V360Z\" style=\"vector-effect: non-scaling-stroke; opacity: 1; stroke-width: 0px; fill: rgb(255, 217, 47); fill-opacity: 1;\"/></g><g class=\"point\"><path d=\"M476.18,360V165.12H477.82V360Z\" style=\"vector-effect: non-scaling-stroke; opacity: 1; stroke-width: 0px; fill: rgb(255, 217, 47); fill-opacity: 1;\"/></g><g class=\"point\"><path d=\"M477.82,360V144.43H479.45V360Z\" style=\"vector-effect: non-scaling-stroke; opacity: 1; stroke-width: 0px; fill: rgb(255, 217, 47); fill-opacity: 1;\"/></g><g class=\"point\"><path d=\"M479.45,360V122.7H481.09V360Z\" style=\"vector-effect: non-scaling-stroke; opacity: 1; stroke-width: 0px; fill: rgb(255, 217, 47); fill-opacity: 1;\"/></g><g class=\"point\"><path d=\"M481.09,360V148.15H482.73V360Z\" style=\"vector-effect: non-scaling-stroke; opacity: 1; stroke-width: 0px; fill: rgb(255, 217, 47); fill-opacity: 1;\"/></g><g class=\"point\"><path d=\"M482.73,360V119.33H484.36V360Z\" style=\"vector-effect: non-scaling-stroke; opacity: 1; stroke-width: 0px; fill: rgb(255, 217, 47); fill-opacity: 1;\"/></g><g class=\"point\"><path d=\"M484.36,360V148.5H486V360Z\" style=\"vector-effect: non-scaling-stroke; opacity: 1; stroke-width: 0px; fill: rgb(255, 217, 47); fill-opacity: 1;\"/></g><g class=\"point\"><path d=\"M486,360V94.93H487.64V360Z\" style=\"vector-effect: non-scaling-stroke; opacity: 1; stroke-width: 0px; fill: rgb(255, 217, 47); fill-opacity: 1;\"/></g><g class=\"point\"><path d=\"M487.64,360V42.29H489.27V360Z\" style=\"vector-effect: non-scaling-stroke; opacity: 1; stroke-width: 0px; fill: rgb(255, 217, 47); fill-opacity: 1;\"/></g><g class=\"point\"><path d=\"M489.27,360V42.17H490.91V360Z\" style=\"vector-effect: non-scaling-stroke; opacity: 1; stroke-width: 0px; fill: rgb(255, 217, 47); fill-opacity: 1;\"/></g><g class=\"point\"><path d=\"M490.91,360V73.66H492.55V360Z\" style=\"vector-effect: non-scaling-stroke; opacity: 1; stroke-width: 0px; fill: rgb(255, 217, 47); fill-opacity: 1;\"/></g><g class=\"point\"><path d=\"M492.55,360V78.89H494.18V360Z\" style=\"vector-effect: non-scaling-stroke; opacity: 1; stroke-width: 0px; fill: rgb(255, 217, 47); fill-opacity: 1;\"/></g><g class=\"point\"><path d=\"M494.18,360V97.25H495.82V360Z\" style=\"vector-effect: non-scaling-stroke; opacity: 1; stroke-width: 0px; fill: rgb(255, 217, 47); fill-opacity: 1;\"/></g><g class=\"point\"><path d=\"M495.82,360V165.58H497.45V360Z\" style=\"vector-effect: non-scaling-stroke; opacity: 1; stroke-width: 0px; fill: rgb(255, 217, 47); fill-opacity: 1;\"/></g><g class=\"point\"><path d=\"M497.45,360V232.75H499.09V360Z\" style=\"vector-effect: non-scaling-stroke; opacity: 1; stroke-width: 0px; fill: rgb(255, 217, 47); fill-opacity: 1;\"/></g><g class=\"point\"><path d=\"M499.09,360V310.15H500.73V360Z\" style=\"vector-effect: non-scaling-stroke; opacity: 1; stroke-width: 0px; fill: rgb(255, 217, 47); fill-opacity: 1;\"/></g><g class=\"point\"><path d=\"M500.73,360V336.29H502.36V360Z\" style=\"vector-effect: non-scaling-stroke; opacity: 1; stroke-width: 0px; fill: rgb(255, 217, 47); fill-opacity: 1;\"/></g><g class=\"point\"><path d=\"M502.36,360V345.24H504V360Z\" style=\"vector-effect: non-scaling-stroke; opacity: 1; stroke-width: 0px; fill: rgb(255, 217, 47); fill-opacity: 1;\"/></g><g class=\"point\"><path d=\"M504,360V346.64H505.64V360Z\" style=\"vector-effect: non-scaling-stroke; opacity: 1; stroke-width: 0px; fill: rgb(255, 217, 47); fill-opacity: 1;\"/></g><g class=\"point\"><path d=\"M505.64,360V332.57H507.27V360Z\" style=\"vector-effect: non-scaling-stroke; opacity: 1; stroke-width: 0px; fill: rgb(255, 217, 47); fill-opacity: 1;\"/></g><g class=\"point\"><path d=\"M507.27,360V324.56H508.91V360Z\" style=\"vector-effect: non-scaling-stroke; opacity: 1; stroke-width: 0px; fill: rgb(255, 217, 47); fill-opacity: 1;\"/></g><g class=\"point\"><path d=\"M508.91,360V279.12H510.55V360Z\" style=\"vector-effect: non-scaling-stroke; opacity: 1; stroke-width: 0px; fill: rgb(255, 217, 47); fill-opacity: 1;\"/></g><g class=\"point\"><path d=\"M510.55,360V223.92H512.18V360Z\" style=\"vector-effect: non-scaling-stroke; opacity: 1; stroke-width: 0px; fill: rgb(255, 217, 47); fill-opacity: 1;\"/></g><g class=\"point\"><path d=\"M512.18,360V232.17H513.82V360Z\" style=\"vector-effect: non-scaling-stroke; opacity: 1; stroke-width: 0px; fill: rgb(255, 217, 47); fill-opacity: 1;\"/></g><g class=\"point\"><path d=\"M513.82,360V196.84H515.45V360Z\" style=\"vector-effect: non-scaling-stroke; opacity: 1; stroke-width: 0px; fill: rgb(255, 217, 47); fill-opacity: 1;\"/></g><g class=\"point\"><path d=\"M515.45,360V195.91H517.09V360Z\" style=\"vector-effect: non-scaling-stroke; opacity: 1; stroke-width: 0px; fill: rgb(255, 217, 47); fill-opacity: 1;\"/></g><g class=\"point\"><path d=\"M517.09,360V177.44H518.73V360Z\" style=\"vector-effect: non-scaling-stroke; opacity: 1; stroke-width: 0px; fill: rgb(255, 217, 47); fill-opacity: 1;\"/></g><g class=\"point\"><path d=\"M518.73,360V125.96H520.36V360Z\" style=\"vector-effect: non-scaling-stroke; opacity: 1; stroke-width: 0px; fill: rgb(255, 217, 47); fill-opacity: 1;\"/></g><g class=\"point\"><path d=\"M520.36,360V166.98H522V360Z\" style=\"vector-effect: non-scaling-stroke; opacity: 1; stroke-width: 0px; fill: rgb(255, 217, 47); fill-opacity: 1;\"/></g><g class=\"point\"><path d=\"M522,360V145.25H523.64V360Z\" style=\"vector-effect: non-scaling-stroke; opacity: 1; stroke-width: 0px; fill: rgb(255, 217, 47); fill-opacity: 1;\"/></g><g class=\"point\"><path d=\"M523.64,360V139.44H525.27V360Z\" style=\"vector-effect: non-scaling-stroke; opacity: 1; stroke-width: 0px; fill: rgb(255, 217, 47); fill-opacity: 1;\"/></g><g class=\"point\"><path d=\"M525.27,360V130.84H526.91V360Z\" style=\"vector-effect: non-scaling-stroke; opacity: 1; stroke-width: 0px; fill: rgb(255, 217, 47); fill-opacity: 1;\"/></g><g class=\"point\"><path d=\"M526.91,360V79.71H528.55V360Z\" style=\"vector-effect: non-scaling-stroke; opacity: 1; stroke-width: 0px; fill: rgb(255, 217, 47); fill-opacity: 1;\"/></g><g class=\"point\"><path d=\"M528.55,360V37.41H530.18V360Z\" style=\"vector-effect: non-scaling-stroke; opacity: 1; stroke-width: 0px; fill: rgb(255, 217, 47); fill-opacity: 1;\"/></g><g class=\"point\"><path d=\"M530.18,360V81.57H531.82V360Z\" style=\"vector-effect: non-scaling-stroke; opacity: 1; stroke-width: 0px; fill: rgb(255, 217, 47); fill-opacity: 1;\"/></g><g class=\"point\"><path d=\"M531.82,360V138.51H533.45V360Z\" style=\"vector-effect: non-scaling-stroke; opacity: 1; stroke-width: 0px; fill: rgb(255, 217, 47); fill-opacity: 1;\"/></g><g class=\"point\"><path d=\"M533.45,360V164.89H535.09V360Z\" style=\"vector-effect: non-scaling-stroke; opacity: 1; stroke-width: 0px; fill: rgb(255, 217, 47); fill-opacity: 1;\"/></g><g class=\"point\"><path d=\"M535.09,360V184.87H536.73V360Z\" style=\"vector-effect: non-scaling-stroke; opacity: 1; stroke-width: 0px; fill: rgb(255, 217, 47); fill-opacity: 1;\"/></g><g class=\"point\"><path d=\"M536.73,360V249.72H538.36V360Z\" style=\"vector-effect: non-scaling-stroke; opacity: 1; stroke-width: 0px; fill: rgb(255, 217, 47); fill-opacity: 1;\"/></g><g class=\"point\"><path d=\"M538.36,360V352.1H540V360Z\" style=\"vector-effect: non-scaling-stroke; opacity: 1; stroke-width: 0px; fill: rgb(255, 217, 47); fill-opacity: 1;\"/></g></g></g></g></g><g class=\"overplot\"/><path class=\"xlines-above crisp\" d=\"\" style=\"fill: none; stroke-width: 1px; stroke: rgb(0, 0, 0); stroke-opacity: 0;\"/><path class=\"ylines-above crisp\" d=\"\" style=\"fill: none; stroke-width: 1px; stroke: rgb(0, 0, 0); stroke-opacity: 0;\"/><g class=\"overlines-above\"/><g class=\"xaxislayer-above\"><path class=\"xtick ticks crisp\" d=\"M0,421v5\" transform=\"translate(152,0)\" style=\"stroke: rgb(51, 51, 51); stroke-opacity: 1; stroke-width: 1px;\"/><path class=\"xtick ticks crisp\" d=\"M0,421v5\" transform=\"translate(230.55,0)\" style=\"stroke: rgb(51, 51, 51); stroke-opacity: 1; stroke-width: 1px;\"/><path class=\"xtick ticks crisp\" d=\"M0,421v5\" transform=\"translate(309.09000000000003,0)\" style=\"stroke: rgb(51, 51, 51); stroke-opacity: 1; stroke-width: 1px;\"/><path class=\"xtick ticks crisp\" d=\"M0,421v5\" transform=\"translate(387.64,0)\" style=\"stroke: rgb(51, 51, 51); stroke-opacity: 1; stroke-width: 1px;\"/><path class=\"xtick ticks crisp\" d=\"M0,421v5\" transform=\"translate(466.18,0)\" style=\"stroke: rgb(51, 51, 51); stroke-opacity: 1; stroke-width: 1px;\"/><path class=\"xtick ticks crisp\" d=\"M0,421v5\" transform=\"translate(544.73,0)\" style=\"stroke: rgb(51, 51, 51); stroke-opacity: 1; stroke-width: 1px;\"/><g class=\"xtick\"><text text-anchor=\"middle\" x=\"0\" y=\"440.4\" transform=\"translate(152,0)\" style=\"font-family: 'Open Sans', verdana, arial, sans-serif; font-size: 12px; fill: rgb(51, 51, 51); fill-opacity: 1; white-space: pre; opacity: 1;\"><tspan class=\"line\" dy=\"0em\" x=\"0\" y=\"440.4\">Jul 27</tspan><tspan class=\"line\" dy=\"1.3em\" x=\"0\" y=\"440.4\">2019</tspan></text></g><g class=\"xtick\"><text text-anchor=\"middle\" x=\"0\" y=\"440.4\" style=\"font-family: 'Open Sans', verdana, arial, sans-serif; font-size: 12px; fill: rgb(51, 51, 51); fill-opacity: 1; white-space: pre; opacity: 1;\" transform=\"translate(230.55,0)\">Jul 29</text></g><g class=\"xtick\"><text text-anchor=\"middle\" x=\"0\" y=\"440.4\" style=\"font-family: 'Open Sans', verdana, arial, sans-serif; font-size: 12px; fill: rgb(51, 51, 51); fill-opacity: 1; white-space: pre; opacity: 1;\" transform=\"translate(309.09000000000003,0)\">Jul 31</text></g><g class=\"xtick\"><text text-anchor=\"middle\" x=\"0\" y=\"440.4\" style=\"font-family: 'Open Sans', verdana, arial, sans-serif; font-size: 12px; fill: rgb(51, 51, 51); fill-opacity: 1; white-space: pre; opacity: 1;\" transform=\"translate(387.64,0)\">Aug 2</text></g><g class=\"xtick\"><text text-anchor=\"middle\" x=\"0\" y=\"440.4\" style=\"font-family: 'Open Sans', verdana, arial, sans-serif; font-size: 12px; fill: rgb(51, 51, 51); fill-opacity: 1; white-space: pre; opacity: 1;\" transform=\"translate(466.18,0)\">Aug 4</text></g><g class=\"xtick\"><text text-anchor=\"middle\" x=\"0\" y=\"440.4\" style=\"font-family: 'Open Sans', verdana, arial, sans-serif; font-size: 12px; fill: rgb(51, 51, 51); fill-opacity: 1; white-space: pre; opacity: 1;\" transform=\"translate(544.73,0)\">Aug 6</text></g></g><g class=\"yaxislayer-above\"><path class=\"ytick ticks crisp\" d=\"M79,0h-5\" transform=\"translate(0,420)\" style=\"stroke: rgb(51, 51, 51); stroke-opacity: 1; stroke-width: 1px;\"/><path class=\"ytick ticks crisp\" d=\"M79,0h-5\" transform=\"translate(0,361.9)\" style=\"stroke: rgb(51, 51, 51); stroke-opacity: 1; stroke-width: 1px;\"/><path class=\"ytick ticks crisp\" d=\"M79,0h-5\" transform=\"translate(0,303.78999999999996)\" style=\"stroke: rgb(51, 51, 51); stroke-opacity: 1; stroke-width: 1px;\"/><path class=\"ytick ticks crisp\" d=\"M79,0h-5\" transform=\"translate(0,245.69)\" style=\"stroke: rgb(51, 51, 51); stroke-opacity: 1; stroke-width: 1px;\"/><path class=\"ytick ticks crisp\" d=\"M79,0h-5\" transform=\"translate(0,187.57999999999998)\" style=\"stroke: rgb(51, 51, 51); stroke-opacity: 1; stroke-width: 1px;\"/><path class=\"ytick ticks crisp\" d=\"M79,0h-5\" transform=\"translate(0,129.48000000000002)\" style=\"stroke: rgb(51, 51, 51); stroke-opacity: 1; stroke-width: 1px;\"/><path class=\"ytick ticks crisp\" d=\"M79,0h-5\" transform=\"translate(0,71.38)\" style=\"stroke: rgb(51, 51, 51); stroke-opacity: 1; stroke-width: 1px;\"/><g class=\"ytick\"><text text-anchor=\"end\" x=\"71.6\" y=\"4.199999999999999\" transform=\"translate(0,420)\" style=\"font-family: 'Open Sans', verdana, arial, sans-serif; font-size: 12px; fill: rgb(51, 51, 51); fill-opacity: 1; white-space: pre; opacity: 1;\">0</text></g><g class=\"ytick\"><text text-anchor=\"end\" x=\"71.6\" y=\"4.199999999999999\" style=\"font-family: 'Open Sans', verdana, arial, sans-serif; font-size: 12px; fill: rgb(51, 51, 51); fill-opacity: 1; white-space: pre; opacity: 1;\" transform=\"translate(0,361.9)\">500</text></g><g class=\"ytick\"><text text-anchor=\"end\" x=\"71.6\" y=\"4.199999999999999\" style=\"font-family: 'Open Sans', verdana, arial, sans-serif; font-size: 12px; fill: rgb(51, 51, 51); fill-opacity: 1; white-space: pre; opacity: 1;\" transform=\"translate(0,303.78999999999996)\">1000</text></g><g class=\"ytick\"><text text-anchor=\"end\" x=\"71.6\" y=\"4.199999999999999\" style=\"font-family: 'Open Sans', verdana, arial, sans-serif; font-size: 12px; fill: rgb(51, 51, 51); fill-opacity: 1; white-space: pre; opacity: 1;\" transform=\"translate(0,245.69)\">1500</text></g><g class=\"ytick\"><text text-anchor=\"end\" x=\"71.6\" y=\"4.199999999999999\" style=\"font-family: 'Open Sans', verdana, arial, sans-serif; font-size: 12px; fill: rgb(51, 51, 51); fill-opacity: 1; white-space: pre; opacity: 1;\" transform=\"translate(0,187.57999999999998)\">2000</text></g><g class=\"ytick\"><text text-anchor=\"end\" x=\"71.6\" y=\"4.199999999999999\" style=\"font-family: 'Open Sans', verdana, arial, sans-serif; font-size: 12px; fill: rgb(51, 51, 51); fill-opacity: 1; white-space: pre; opacity: 1;\" transform=\"translate(0,129.48000000000002)\">2500</text></g><g class=\"ytick\"><text text-anchor=\"end\" x=\"71.6\" y=\"4.199999999999999\" style=\"font-family: 'Open Sans', verdana, arial, sans-serif; font-size: 12px; fill: rgb(51, 51, 51); fill-opacity: 1; white-space: pre; opacity: 1;\" transform=\"translate(0,71.38)\">3000</text></g></g><g class=\"overaxes-above\"/></g></g><g class=\"polarlayer\"/><g class=\"smithlayer\"/><g class=\"ternarylayer\"/><g class=\"geolayer\"/><g class=\"funnelarealayer\"/><g class=\"pielayer\"/><g class=\"iciclelayer\"/><g class=\"treemaplayer\"/><g class=\"sunburstlayer\"/><g class=\"glimages\"/><defs id=\"topdefs-70c02e\"><g class=\"clips\"/></defs><g class=\"layer-above\"><g class=\"imagelayer\"/><g class=\"shapelayer\"/></g><g class=\"infolayer\"><g class=\"g-gtitle\"><text class=\"gtitle\" x=\"350\" y=\"25\" text-anchor=\"middle\" dy=\"0.7em\" style=\"font-family: 'Open Sans', verdana, arial, sans-serif; font-size: 17px; fill: rgb(51, 51, 51); opacity: 1; font-weight: normal; white-space: pre;\">Распределение логов по дате и времени</text></g><g class=\"g-xtitle\"><text class=\"xtitle\" x=\"350\" y=\"483.8\" text-anchor=\"middle\" style=\"font-family: 'Open Sans', verdana, arial, sans-serif; font-size: 14px; fill: rgb(51, 51, 51); opacity: 1; font-weight: normal; white-space: pre;\">Дата</text></g><g class=\"g-ytitle\"><text class=\"ytitle\" transform=\"rotate(-90,16.278125000000003,240)\" x=\"16.278125000000003\" y=\"240\" text-anchor=\"middle\" style=\"font-family: 'Open Sans', verdana, arial, sans-serif; font-size: 14px; fill: rgb(51, 51, 51); opacity: 1; font-weight: normal; white-space: pre;\">Частота событий</text></g></g></svg>"
      ]
     },
     "metadata": {},
     "output_type": "display_data"
    }
   ],
   "source": [
    "fig = px.histogram(logs_exp, x=\"event_time\",  color_discrete_sequence=['rgb(255,217,47)'])\n",
    "fig.update_layout(title={'text': \"Распределение логов по дате и времени\", 'xanchor': 'center', 'y':0.95,\n",
    "        'x':0.5},\n",
    "                  yaxis_title=\"Частота событий\", xaxis_title='Дата',  )\n",
    "fig.layout.template = 'ggplot2'\n",
    "fig.show(\"svg\")"
   ]
  },
  {
   "cell_type": "markdown",
   "metadata": {},
   "source": [
    "Как можно заметить по распределению, полные данные имеются с 2019-08-01, за одну неделю. "
   ]
  },
  {
   "cell_type": "markdown",
   "metadata": {},
   "source": [
    "### 3.6 Определить, с какого момента данные полные и отбросить более старые. Данными за какой период времени имеются на самом деле?"
   ]
  },
  {
   "cell_type": "markdown",
   "metadata": {},
   "source": [
    "Данные за первую неделю неполные, их отбросим, то есть данные по 2019-07-31 включительно. Так как данные полные лишь с 2019-08-01, оставим их, сохранив в переменную **filt_logs_exp**:"
   ]
  },
  {
   "cell_type": "code",
   "execution_count": 25,
   "metadata": {},
   "outputs": [],
   "source": [
    "filt_logs_exp = logs_exp.loc[logs_exp['date'] >= '2019-08-01']"
   ]
  },
  {
   "cell_type": "markdown",
   "metadata": {},
   "source": [
    "Сохранили отфильтрованные данные. Данные имеются за одну неделю."
   ]
  },
  {
   "cell_type": "markdown",
   "metadata": {},
   "source": [
    "### 3.7 Много ли событий и пользователей  потеряли, отбросив старые данные?"
   ]
  },
  {
   "cell_type": "markdown",
   "metadata": {},
   "source": [
    "Посчитаем сколько событий и пользователей потеряли, отброс старые данные в количественном и процентном выражении:"
   ]
  },
  {
   "cell_type": "code",
   "execution_count": 26,
   "metadata": {},
   "outputs": [
    {
     "name": "stdout",
     "output_type": "stream",
     "text": [
      "До того, как очистили старые данные было 243713 событий, после очистки осталось 240887 событий. Отбросив старые данные потеряли 2826 событий, в процентном соотношении 1.16%\n",
      "До того, как очистили старые данные было 7551 пользователей, после очистки осталось 7534 пользователей. Отбросив старые данные потеряли данные 17 пользователей, в процентном соотношении 0.23%\n"
     ]
    }
   ],
   "source": [
    "print('До того, как очистили старые данные было {} событий, после очистки осталось {} событий. Отбросив старые данные потеряли {} событий, в процентном соотношении {:.2%}'.format(logs_exp.shape[0], filt_logs_exp.shape[0], logs_exp.shape[0] - filt_logs_exp.shape[0],(logs_exp.shape[0] - filt_logs_exp.shape[0])/logs_exp.shape[0]))\n",
    "print('До того, как очистили старые данные было {} пользователей, после очистки осталось {} пользователей. Отбросив старые данные потеряли данные {} пользователей, в процентном соотношении {:.2%}'.format(logs_exp['id'].nunique(), filt_logs_exp['id'].nunique(), logs_exp['id'].nunique() - filt_logs_exp['id'].nunique(),(logs_exp['id'].nunique() - filt_logs_exp['id'].nunique())/logs_exp['id'].nunique()))\n"
   ]
  },
  {
   "cell_type": "markdown",
   "metadata": {},
   "source": [
    "### 3.8 Проверьте, что у вас есть пользователи из всех трёх экспериментальных групп"
   ]
  },
  {
   "cell_type": "markdown",
   "metadata": {},
   "source": [
    "Проверим сколько уникальных пользователей содержится в каждой из экспермиентальных групп:"
   ]
  },
  {
   "cell_type": "code",
   "execution_count": 27,
   "metadata": {},
   "outputs": [
    {
     "data": {
      "text/html": [
       "<div>\n",
       "<style scoped>\n",
       "    .dataframe tbody tr th:only-of-type {\n",
       "        vertical-align: middle;\n",
       "    }\n",
       "\n",
       "    .dataframe tbody tr th {\n",
       "        vertical-align: top;\n",
       "    }\n",
       "\n",
       "    .dataframe thead th {\n",
       "        text-align: right;\n",
       "    }\n",
       "</style>\n",
       "<table border=\"1\" class=\"dataframe\">\n",
       "  <thead>\n",
       "    <tr style=\"text-align: right;\">\n",
       "      <th></th>\n",
       "      <th>id</th>\n",
       "    </tr>\n",
       "    <tr>\n",
       "      <th>exp_id</th>\n",
       "      <th></th>\n",
       "    </tr>\n",
       "  </thead>\n",
       "  <tbody>\n",
       "    <tr>\n",
       "      <th>246</th>\n",
       "      <td>2484</td>\n",
       "    </tr>\n",
       "    <tr>\n",
       "      <th>247</th>\n",
       "      <td>2513</td>\n",
       "    </tr>\n",
       "    <tr>\n",
       "      <th>248</th>\n",
       "      <td>2537</td>\n",
       "    </tr>\n",
       "  </tbody>\n",
       "</table>\n",
       "</div>"
      ],
      "text/plain": [
       "          id\n",
       "exp_id      \n",
       "246     2484\n",
       "247     2513\n",
       "248     2537"
      ]
     },
     "execution_count": 27,
     "metadata": {},
     "output_type": "execute_result"
    }
   ],
   "source": [
    "filt_logs_exp['exp_id'].value_counts()\n",
    "filt_logs_exp.groupby('exp_id')['id'].nunique().to_frame()"
   ]
  },
  {
   "cell_type": "markdown",
   "metadata": {},
   "source": [
    "Также проверим количество действий этими пользователями:"
   ]
  },
  {
   "cell_type": "code",
   "execution_count": 28,
   "metadata": {},
   "outputs": [
    {
     "data": {
      "text/html": [
       "<div>\n",
       "<style scoped>\n",
       "    .dataframe tbody tr th:only-of-type {\n",
       "        vertical-align: middle;\n",
       "    }\n",
       "\n",
       "    .dataframe tbody tr th {\n",
       "        vertical-align: top;\n",
       "    }\n",
       "\n",
       "    .dataframe thead th {\n",
       "        text-align: right;\n",
       "    }\n",
       "</style>\n",
       "<table border=\"1\" class=\"dataframe\">\n",
       "  <thead>\n",
       "    <tr style=\"text-align: right;\">\n",
       "      <th></th>\n",
       "      <th>id</th>\n",
       "    </tr>\n",
       "    <tr>\n",
       "      <th>exp_id</th>\n",
       "      <th></th>\n",
       "    </tr>\n",
       "  </thead>\n",
       "  <tbody>\n",
       "    <tr>\n",
       "      <th>246</th>\n",
       "      <td>79302</td>\n",
       "    </tr>\n",
       "    <tr>\n",
       "      <th>247</th>\n",
       "      <td>77022</td>\n",
       "    </tr>\n",
       "    <tr>\n",
       "      <th>248</th>\n",
       "      <td>84563</td>\n",
       "    </tr>\n",
       "  </tbody>\n",
       "</table>\n",
       "</div>"
      ],
      "text/plain": [
       "           id\n",
       "exp_id       \n",
       "246     79302\n",
       "247     77022\n",
       "248     84563"
      ]
     },
     "execution_count": 28,
     "metadata": {},
     "output_type": "execute_result"
    }
   ],
   "source": [
    "filt_logs_exp.groupby('exp_id')['id'].count().to_frame()"
   ]
  },
  {
   "cell_type": "markdown",
   "metadata": {},
   "source": [
    "Убедились, что данные из всех трех эксприментальных групп имеются и количество пользователей примерно равно."
   ]
  },
  {
   "cell_type": "markdown",
   "metadata": {},
   "source": [
    "## Этап 4. Изучение воронки событий"
   ]
  },
  {
   "cell_type": "markdown",
   "metadata": {},
   "source": [
    "### 4.1 Посмотрите, какие события есть в логах, как часто они встречаются. Отсортируйте события по частоте."
   ]
  },
  {
   "cell_type": "markdown",
   "metadata": {},
   "source": [
    "Посмотрим какие встречаются события и как часто они встречаются:"
   ]
  },
  {
   "cell_type": "code",
   "execution_count": 29,
   "metadata": {},
   "outputs": [
    {
     "data": {
      "text/html": [
       "<div>\n",
       "<style scoped>\n",
       "    .dataframe tbody tr th:only-of-type {\n",
       "        vertical-align: middle;\n",
       "    }\n",
       "\n",
       "    .dataframe tbody tr th {\n",
       "        vertical-align: top;\n",
       "    }\n",
       "\n",
       "    .dataframe thead th {\n",
       "        text-align: right;\n",
       "    }\n",
       "</style>\n",
       "<table border=\"1\" class=\"dataframe\">\n",
       "  <thead>\n",
       "    <tr style=\"text-align: right;\">\n",
       "      <th></th>\n",
       "      <th>event</th>\n",
       "    </tr>\n",
       "  </thead>\n",
       "  <tbody>\n",
       "    <tr>\n",
       "      <th>MainScreenAppear</th>\n",
       "      <td>117328</td>\n",
       "    </tr>\n",
       "    <tr>\n",
       "      <th>OffersScreenAppear</th>\n",
       "      <td>46333</td>\n",
       "    </tr>\n",
       "    <tr>\n",
       "      <th>CartScreenAppear</th>\n",
       "      <td>42303</td>\n",
       "    </tr>\n",
       "    <tr>\n",
       "      <th>PaymentScreenSuccessful</th>\n",
       "      <td>33918</td>\n",
       "    </tr>\n",
       "    <tr>\n",
       "      <th>Tutorial</th>\n",
       "      <td>1005</td>\n",
       "    </tr>\n",
       "  </tbody>\n",
       "</table>\n",
       "</div>"
      ],
      "text/plain": [
       "                          event\n",
       "MainScreenAppear         117328\n",
       "OffersScreenAppear        46333\n",
       "CartScreenAppear          42303\n",
       "PaymentScreenSuccessful   33918\n",
       "Tutorial                   1005"
      ]
     },
     "execution_count": 29,
     "metadata": {},
     "output_type": "execute_result"
    }
   ],
   "source": [
    "filt_logs_exp['event'].value_counts().to_frame()"
   ]
  },
  {
   "cell_type": "markdown",
   "metadata": {},
   "source": [
    "Таким образом у нас имеются 5 групп событий:\n",
    "* MainScreenAppear - Переход на главный экран, встречается 117328 раз\n",
    "* OffersScreenAppear - Появление экрана с предложениями, встречается 46333 раз\n",
    "* CartScreenAppear\t- Переход на экран с корзиной, встречается 42393 раз\n",
    "* PaymentScreenSuccessful - Экран с успешной оплатой, встречается 33918 раз\n",
    "* Tutorial - Руководство, встречается 1005 раз\n",
    "\n",
    "Каждый пользователь может несколько раз переходить на главный экран, как и видеть экран с предложениями. Также в иерархии последовательности строка с руководством (**Tutorial**) здесь не совсем к месту, ибо руководство можно посмотреть в любой отрезок времени, многие пользователи совершают покупки не читая руководство."
   ]
  },
  {
   "cell_type": "markdown",
   "metadata": {},
   "source": [
    "### 4.2 Посчитайте, сколько пользователей совершали каждое из этих событий. Отсортируйте события по числу пользователей. Посчитайте долю пользователей, которые хоть раз совершали событие."
   ]
  },
  {
   "cell_type": "markdown",
   "metadata": {},
   "source": [
    "Посмотрим сколько уникальных пользователей совершили каждое из событий помимо знакомства с  руководством(**Tutorial**):"
   ]
  },
  {
   "cell_type": "code",
   "execution_count": 30,
   "metadata": {},
   "outputs": [
    {
     "data": {
      "text/html": [
       "<div>\n",
       "<style scoped>\n",
       "    .dataframe tbody tr th:only-of-type {\n",
       "        vertical-align: middle;\n",
       "    }\n",
       "\n",
       "    .dataframe tbody tr th {\n",
       "        vertical-align: top;\n",
       "    }\n",
       "\n",
       "    .dataframe thead th {\n",
       "        text-align: right;\n",
       "    }\n",
       "</style>\n",
       "<table border=\"1\" class=\"dataframe\">\n",
       "  <thead>\n",
       "    <tr style=\"text-align: right;\">\n",
       "      <th></th>\n",
       "      <th>id</th>\n",
       "      <th>percent</th>\n",
       "    </tr>\n",
       "    <tr>\n",
       "      <th>event</th>\n",
       "      <th></th>\n",
       "      <th></th>\n",
       "    </tr>\n",
       "  </thead>\n",
       "  <tbody>\n",
       "    <tr>\n",
       "      <th>MainScreenAppear</th>\n",
       "      <td>7419</td>\n",
       "      <td>100.00</td>\n",
       "    </tr>\n",
       "    <tr>\n",
       "      <th>OffersScreenAppear</th>\n",
       "      <td>4593</td>\n",
       "      <td>61.91</td>\n",
       "    </tr>\n",
       "    <tr>\n",
       "      <th>CartScreenAppear</th>\n",
       "      <td>3734</td>\n",
       "      <td>50.33</td>\n",
       "    </tr>\n",
       "    <tr>\n",
       "      <th>PaymentScreenSuccessful</th>\n",
       "      <td>3539</td>\n",
       "      <td>47.70</td>\n",
       "    </tr>\n",
       "  </tbody>\n",
       "</table>\n",
       "</div>"
      ],
      "text/plain": [
       "                           id  percent\n",
       "event                                 \n",
       "MainScreenAppear         7419   100.00\n",
       "OffersScreenAppear       4593    61.91\n",
       "CartScreenAppear         3734    50.33\n",
       "PaymentScreenSuccessful  3539    47.70"
      ]
     },
     "execution_count": 30,
     "metadata": {},
     "output_type": "execute_result"
    }
   ],
   "source": [
    "uniq_id_event = filt_logs_exp.groupby('event')['id'].nunique().sort_values(ascending = False).to_frame()\n",
    "uniq_id_event['percent'] = uniq_id_event['id']/ uniq_id_event['id'][0] * 100\n",
    "uniq_id_event[:4]"
   ]
  },
  {
   "cell_type": "code",
   "execution_count": 31,
   "metadata": {},
   "outputs": [
    {
     "data": {
      "text/plain": [
       "7534"
      ]
     },
     "execution_count": 31,
     "metadata": {},
     "output_type": "execute_result"
    }
   ],
   "source": [
    "filt_logs_exp['id'].nunique()"
   ]
  },
  {
   "cell_type": "code",
   "execution_count": 32,
   "metadata": {},
   "outputs": [
    {
     "data": {
      "text/html": [
       "<div>\n",
       "<style scoped>\n",
       "    .dataframe tbody tr th:only-of-type {\n",
       "        vertical-align: middle;\n",
       "    }\n",
       "\n",
       "    .dataframe tbody tr th {\n",
       "        vertical-align: top;\n",
       "    }\n",
       "\n",
       "    .dataframe thead th {\n",
       "        text-align: right;\n",
       "    }\n",
       "</style>\n",
       "<table border=\"1\" class=\"dataframe\">\n",
       "  <thead>\n",
       "    <tr style=\"text-align: right;\">\n",
       "      <th></th>\n",
       "      <th>percent</th>\n",
       "    </tr>\n",
       "    <tr>\n",
       "      <th>event</th>\n",
       "      <th></th>\n",
       "    </tr>\n",
       "  </thead>\n",
       "  <tbody>\n",
       "    <tr>\n",
       "      <th>MainScreenAppear</th>\n",
       "      <td>6.32</td>\n",
       "    </tr>\n",
       "    <tr>\n",
       "      <th>OffersScreenAppear</th>\n",
       "      <td>9.91</td>\n",
       "    </tr>\n",
       "    <tr>\n",
       "      <th>CartScreenAppear</th>\n",
       "      <td>8.83</td>\n",
       "    </tr>\n",
       "    <tr>\n",
       "      <th>PaymentScreenSuccessful</th>\n",
       "      <td>10.43</td>\n",
       "    </tr>\n",
       "    <tr>\n",
       "      <th>Tutorial</th>\n",
       "      <td>83.58</td>\n",
       "    </tr>\n",
       "  </tbody>\n",
       "</table>\n",
       "</div>"
      ],
      "text/plain": [
       "                         percent\n",
       "event                           \n",
       "MainScreenAppear            6.32\n",
       "OffersScreenAppear          9.91\n",
       "CartScreenAppear            8.83\n",
       "PaymentScreenSuccessful    10.43\n",
       "Tutorial                   83.58"
      ]
     },
     "execution_count": 32,
     "metadata": {},
     "output_type": "execute_result"
    }
   ],
   "source": [
    "(uniq_id_event['id'] / filt_logs_exp['event'].value_counts() * 100).to_frame().rename(columns={0:'percent'})"
   ]
  },
  {
   "cell_type": "markdown",
   "metadata": {},
   "source": [
    "Отдельно посмотрим сколько уникальных пользователей, которые познакомились с руководством:"
   ]
  },
  {
   "cell_type": "code",
   "execution_count": 33,
   "metadata": {},
   "outputs": [
    {
     "data": {
      "text/html": [
       "<div>\n",
       "<style scoped>\n",
       "    .dataframe tbody tr th:only-of-type {\n",
       "        vertical-align: middle;\n",
       "    }\n",
       "\n",
       "    .dataframe tbody tr th {\n",
       "        vertical-align: top;\n",
       "    }\n",
       "\n",
       "    .dataframe thead th {\n",
       "        text-align: right;\n",
       "    }\n",
       "</style>\n",
       "<table border=\"1\" class=\"dataframe\">\n",
       "  <thead>\n",
       "    <tr style=\"text-align: right;\">\n",
       "      <th></th>\n",
       "      <th>id</th>\n",
       "    </tr>\n",
       "    <tr>\n",
       "      <th>event</th>\n",
       "      <th></th>\n",
       "    </tr>\n",
       "  </thead>\n",
       "  <tbody>\n",
       "    <tr>\n",
       "      <th>Tutorial</th>\n",
       "      <td>840</td>\n",
       "    </tr>\n",
       "  </tbody>\n",
       "</table>\n",
       "</div>"
      ],
      "text/plain": [
       "           id\n",
       "event        \n",
       "Tutorial  840"
      ]
     },
     "execution_count": 33,
     "metadata": {},
     "output_type": "execute_result"
    }
   ],
   "source": [
    "uniq_id_event['id'][4:].to_frame()"
   ]
  },
  {
   "cell_type": "markdown",
   "metadata": {},
   "source": [
    "Таким образом можно заметить, что после перехода с главного экрана на экран с предложениями остались 4593 пользователя, что составляет 62% от всех, кто изначально увидел главный экран. На этапе перехода в корзину перешло 3734 пользователя, что составляет 50% от тех, кто был на главном экране. На этапе успешной оплаты теряется еще 2,5 %, этот этап был у 3539 пользователей. Что касаемо руководства, то его прошли 830 пользователя."
   ]
  },
  {
   "cell_type": "code",
   "execution_count": 34,
   "metadata": {},
   "outputs": [
    {
     "data": {
      "text/html": [
       "<div>\n",
       "<style scoped>\n",
       "    .dataframe tbody tr th:only-of-type {\n",
       "        vertical-align: middle;\n",
       "    }\n",
       "\n",
       "    .dataframe tbody tr th {\n",
       "        vertical-align: top;\n",
       "    }\n",
       "\n",
       "    .dataframe thead th {\n",
       "        text-align: right;\n",
       "    }\n",
       "</style>\n",
       "<table border=\"1\" class=\"dataframe\">\n",
       "  <thead>\n",
       "    <tr style=\"text-align: right;\">\n",
       "      <th></th>\n",
       "      <th>id</th>\n",
       "      <th>percent</th>\n",
       "    </tr>\n",
       "    <tr>\n",
       "      <th>event</th>\n",
       "      <th></th>\n",
       "      <th></th>\n",
       "    </tr>\n",
       "  </thead>\n",
       "  <tbody>\n",
       "    <tr>\n",
       "      <th>MainScreenAppear</th>\n",
       "      <td>7419</td>\n",
       "      <td>98.47</td>\n",
       "    </tr>\n",
       "    <tr>\n",
       "      <th>OffersScreenAppear</th>\n",
       "      <td>4593</td>\n",
       "      <td>60.96</td>\n",
       "    </tr>\n",
       "    <tr>\n",
       "      <th>CartScreenAppear</th>\n",
       "      <td>3734</td>\n",
       "      <td>49.56</td>\n",
       "    </tr>\n",
       "    <tr>\n",
       "      <th>PaymentScreenSuccessful</th>\n",
       "      <td>3539</td>\n",
       "      <td>46.97</td>\n",
       "    </tr>\n",
       "  </tbody>\n",
       "</table>\n",
       "</div>"
      ],
      "text/plain": [
       "                           id  percent\n",
       "event                                 \n",
       "MainScreenAppear         7419    98.47\n",
       "OffersScreenAppear       4593    60.96\n",
       "CartScreenAppear         3734    49.56\n",
       "PaymentScreenSuccessful  3539    46.97"
      ]
     },
     "execution_count": 34,
     "metadata": {},
     "output_type": "execute_result"
    }
   ],
   "source": [
    "uniq_id_event = filt_logs_exp.groupby('event')['id'].nunique().sort_values(ascending = False).to_frame()\n",
    "uniq_id_event['percent'] = uniq_id_event['id']/ filt_logs_exp['id'].nunique() * 100\n",
    "uniq_id_event[:4]"
   ]
  },
  {
   "cell_type": "markdown",
   "metadata": {},
   "source": [
    "### 4.3 Предположите, в каком порядке происходят события. Все ли они выстраиваются в последовательную цепочку? Их не нужно учитывать при расчёте воронки."
   ]
  },
  {
   "cell_type": "markdown",
   "metadata": {},
   "source": [
    "Ранее было обращено внимание на то, что руководство (**Tutorial**) не несет ценности для воронки, с руководством-инструкцией можно познакомиться в любой момент, но большинство пользователей, судя по цифрам его пропускают, убедимся в том, что действительно знакомство с руководством может встречаться в любом порядке:"
   ]
  },
  {
   "cell_type": "code",
   "execution_count": 35,
   "metadata": {},
   "outputs": [
    {
     "data": {
      "text/html": [
       "<div>\n",
       "<style scoped>\n",
       "    .dataframe tbody tr th:only-of-type {\n",
       "        vertical-align: middle;\n",
       "    }\n",
       "\n",
       "    .dataframe tbody tr th {\n",
       "        vertical-align: top;\n",
       "    }\n",
       "\n",
       "    .dataframe thead th {\n",
       "        text-align: right;\n",
       "    }\n",
       "</style>\n",
       "<table border=\"1\" class=\"dataframe\">\n",
       "  <thead>\n",
       "    <tr style=\"text-align: right;\">\n",
       "      <th></th>\n",
       "      <th>event</th>\n",
       "      <th>id</th>\n",
       "      <th>event_seconds</th>\n",
       "      <th>exp_id</th>\n",
       "      <th>event_time</th>\n",
       "      <th>date</th>\n",
       "    </tr>\n",
       "  </thead>\n",
       "  <tbody>\n",
       "    <tr>\n",
       "      <th>0</th>\n",
       "      <td>MainScreenAppear</td>\n",
       "      <td>9210082518034880206</td>\n",
       "      <td>1564983801</td>\n",
       "      <td>248</td>\n",
       "      <td>2019-08-05 05:43:21</td>\n",
       "      <td>2019-08-05</td>\n",
       "    </tr>\n",
       "    <tr>\n",
       "      <th>1</th>\n",
       "      <td>MainScreenAppear</td>\n",
       "      <td>9212377414136562136</td>\n",
       "      <td>1565191006</td>\n",
       "      <td>248</td>\n",
       "      <td>2019-08-07 15:16:46</td>\n",
       "      <td>2019-08-07</td>\n",
       "    </tr>\n",
       "    <tr>\n",
       "      <th>2</th>\n",
       "      <td>Tutorial</td>\n",
       "      <td>9212377414136562136</td>\n",
       "      <td>1565191011</td>\n",
       "      <td>248</td>\n",
       "      <td>2019-08-07 15:16:51</td>\n",
       "      <td>2019-08-07</td>\n",
       "    </tr>\n",
       "    <tr>\n",
       "      <th>3</th>\n",
       "      <td>MainScreenAppear</td>\n",
       "      <td>9212377414136562136</td>\n",
       "      <td>1565191017</td>\n",
       "      <td>248</td>\n",
       "      <td>2019-08-07 15:16:57</td>\n",
       "      <td>2019-08-07</td>\n",
       "    </tr>\n",
       "    <tr>\n",
       "      <th>4</th>\n",
       "      <td>MainScreenAppear</td>\n",
       "      <td>9212377414136562136</td>\n",
       "      <td>1565191049</td>\n",
       "      <td>248</td>\n",
       "      <td>2019-08-07 15:17:29</td>\n",
       "      <td>2019-08-07</td>\n",
       "    </tr>\n",
       "    <tr>\n",
       "      <th>5</th>\n",
       "      <td>MainScreenAppear</td>\n",
       "      <td>9212377414136562136</td>\n",
       "      <td>1565191436</td>\n",
       "      <td>248</td>\n",
       "      <td>2019-08-07 15:23:56</td>\n",
       "      <td>2019-08-07</td>\n",
       "    </tr>\n",
       "    <tr>\n",
       "      <th>6</th>\n",
       "      <td>MainScreenAppear</td>\n",
       "      <td>9212377414136562136</td>\n",
       "      <td>1565191445</td>\n",
       "      <td>248</td>\n",
       "      <td>2019-08-07 15:24:05</td>\n",
       "      <td>2019-08-07</td>\n",
       "    </tr>\n",
       "    <tr>\n",
       "      <th>7</th>\n",
       "      <td>MainScreenAppear</td>\n",
       "      <td>9212377414136562136</td>\n",
       "      <td>1565191738</td>\n",
       "      <td>248</td>\n",
       "      <td>2019-08-07 15:28:58</td>\n",
       "      <td>2019-08-07</td>\n",
       "    </tr>\n",
       "    <tr>\n",
       "      <th>8</th>\n",
       "      <td>Tutorial</td>\n",
       "      <td>9212523802225607780</td>\n",
       "      <td>1564725896</td>\n",
       "      <td>248</td>\n",
       "      <td>2019-08-02 06:04:56</td>\n",
       "      <td>2019-08-02</td>\n",
       "    </tr>\n",
       "    <tr>\n",
       "      <th>9</th>\n",
       "      <td>Tutorial</td>\n",
       "      <td>9212523802225607780</td>\n",
       "      <td>1564725935</td>\n",
       "      <td>248</td>\n",
       "      <td>2019-08-02 06:05:35</td>\n",
       "      <td>2019-08-02</td>\n",
       "    </tr>\n",
       "    <tr>\n",
       "      <th>10</th>\n",
       "      <td>MainScreenAppear</td>\n",
       "      <td>9212523802225607780</td>\n",
       "      <td>1564726011</td>\n",
       "      <td>248</td>\n",
       "      <td>2019-08-02 06:06:51</td>\n",
       "      <td>2019-08-02</td>\n",
       "    </tr>\n",
       "    <tr>\n",
       "      <th>11</th>\n",
       "      <td>MainScreenAppear</td>\n",
       "      <td>9212523802225607780</td>\n",
       "      <td>1565000130</td>\n",
       "      <td>248</td>\n",
       "      <td>2019-08-05 10:15:30</td>\n",
       "      <td>2019-08-05</td>\n",
       "    </tr>\n",
       "    <tr>\n",
       "      <th>12</th>\n",
       "      <td>MainScreenAppear</td>\n",
       "      <td>9212523802225607780</td>\n",
       "      <td>1565014205</td>\n",
       "      <td>248</td>\n",
       "      <td>2019-08-05 14:10:05</td>\n",
       "      <td>2019-08-05</td>\n",
       "    </tr>\n",
       "    <tr>\n",
       "      <th>13</th>\n",
       "      <td>MainScreenAppear</td>\n",
       "      <td>9212523802225607780</td>\n",
       "      <td>1565014224</td>\n",
       "      <td>248</td>\n",
       "      <td>2019-08-05 14:10:24</td>\n",
       "      <td>2019-08-05</td>\n",
       "    </tr>\n",
       "    <tr>\n",
       "      <th>14</th>\n",
       "      <td>MainScreenAppear</td>\n",
       "      <td>9212523802225607780</td>\n",
       "      <td>1565014247</td>\n",
       "      <td>248</td>\n",
       "      <td>2019-08-05 14:10:47</td>\n",
       "      <td>2019-08-05</td>\n",
       "    </tr>\n",
       "  </tbody>\n",
       "</table>\n",
       "</div>"
      ],
      "text/plain": [
       "               event                   id  event_seconds  exp_id  \\\n",
       "0   MainScreenAppear  9210082518034880206     1564983801     248   \n",
       "1   MainScreenAppear  9212377414136562136     1565191006     248   \n",
       "2           Tutorial  9212377414136562136     1565191011     248   \n",
       "3   MainScreenAppear  9212377414136562136     1565191017     248   \n",
       "4   MainScreenAppear  9212377414136562136     1565191049     248   \n",
       "5   MainScreenAppear  9212377414136562136     1565191436     248   \n",
       "6   MainScreenAppear  9212377414136562136     1565191445     248   \n",
       "7   MainScreenAppear  9212377414136562136     1565191738     248   \n",
       "8           Tutorial  9212523802225607780     1564725896     248   \n",
       "9           Tutorial  9212523802225607780     1564725935     248   \n",
       "10  MainScreenAppear  9212523802225607780     1564726011     248   \n",
       "11  MainScreenAppear  9212523802225607780     1565000130     248   \n",
       "12  MainScreenAppear  9212523802225607780     1565014205     248   \n",
       "13  MainScreenAppear  9212523802225607780     1565014224     248   \n",
       "14  MainScreenAppear  9212523802225607780     1565014247     248   \n",
       "\n",
       "            event_time       date  \n",
       "0  2019-08-05 05:43:21 2019-08-05  \n",
       "1  2019-08-07 15:16:46 2019-08-07  \n",
       "2  2019-08-07 15:16:51 2019-08-07  \n",
       "3  2019-08-07 15:16:57 2019-08-07  \n",
       "4  2019-08-07 15:17:29 2019-08-07  \n",
       "5  2019-08-07 15:23:56 2019-08-07  \n",
       "6  2019-08-07 15:24:05 2019-08-07  \n",
       "7  2019-08-07 15:28:58 2019-08-07  \n",
       "8  2019-08-02 06:04:56 2019-08-02  \n",
       "9  2019-08-02 06:05:35 2019-08-02  \n",
       "10 2019-08-02 06:06:51 2019-08-02  \n",
       "11 2019-08-05 10:15:30 2019-08-05  \n",
       "12 2019-08-05 14:10:05 2019-08-05  \n",
       "13 2019-08-05 14:10:24 2019-08-05  \n",
       "14 2019-08-05 14:10:47 2019-08-05  "
      ]
     },
     "execution_count": 35,
     "metadata": {},
     "output_type": "execute_result"
    }
   ],
   "source": [
    "tutor = filt_logs_exp.query('event == \"Tutorial\"') # Создание переменной, в которой встречается лишь **Tutorial**\n",
    "(filt_logs_exp.query('id in @tutor.id'). # Выберем те **id** которые проходили руководство\n",
    " sort_values(['id','event_time']) # Сортируем по **id** и по времени события\n",
    " .tail(15). # Выведем 15 строк с конца\n",
    " reset_index(drop=True)) # Сбросим индекс"
   ]
  },
  {
   "cell_type": "markdown",
   "metadata": {},
   "source": [
    "Тут можно заметить что с 1 по 7 индекс - один пользователь, со 8 по 14 второй. Первый пользователь вначале зашел в меню, затем зашел в руководство и затем вновь в главное меню, это говорит о том, что с руководством можно познакомиться в любой момент. Второй пользователь сразу познакомился с руководством, причем 2 раза и затем перешел в главное меню, что доказывает тот факт, что изначально приложением предусмотрено предложение познакомиться с документацией. То, что руководство можно пропустить и познакомиться в любой момент и что его нет нужны учитывать в воронке понятно и логически, таким образом, порядок будет такой:\n",
    "1. Tutorial, который можно пропустить и познакомиться в любой момент, учитывать его в воронке в дальнейшем нет необходимости.\n",
    "2. MainScreenAppear\n",
    "3. OffersScreenAppear\n",
    "4. CartScreenAppear\n",
    "5. PaymentScreenSuccessful"
   ]
  },
  {
   "cell_type": "markdown",
   "metadata": {},
   "source": [
    "### 4.4 По воронке событий посчитайте, какая доля пользователей проходит на следующий шаг воронки (от числа пользователей на предыдущем). То есть для последовательности событий A → B → C посчитайте отношение числа пользователей с событием B к количеству пользователей с событием A, а также отношение числа пользователей с событием C к количеству пользователей с событием B."
   ]
  },
  {
   "cell_type": "markdown",
   "metadata": {},
   "source": [
    "Построим график воронки для понимания:"
   ]
  },
  {
   "cell_type": "code",
   "execution_count": 36,
   "metadata": {},
   "outputs": [
    {
     "data": {
      "image/svg+xml": [
       "<svg class=\"main-svg\" xmlns=\"http://www.w3.org/2000/svg\" xmlns:xlink=\"http://www.w3.org/1999/xlink\" width=\"700\" height=\"500\" style=\"\" viewBox=\"0 0 700 500\"><rect x=\"0\" y=\"0\" width=\"700\" height=\"500\" style=\"fill: rgb(255, 255, 255); fill-opacity: 1;\"/><defs id=\"defs-ba7890\"><g class=\"clips\"><clipPath id=\"clipba7890xyplot\" class=\"plotclip\"><rect width=\"443\" height=\"320\"/></clipPath><clipPath class=\"axesclip\" id=\"clipba7890x\"><rect x=\"177\" y=\"0\" width=\"443\" height=\"500\"/></clipPath><clipPath class=\"axesclip\" id=\"clipba7890y\"><rect x=\"0\" y=\"100\" width=\"700\" height=\"320\"/></clipPath><clipPath class=\"axesclip\" id=\"clipba7890xy\"><rect x=\"177\" y=\"100\" width=\"443\" height=\"320\"/></clipPath></g><g class=\"gradients\"/><g class=\"patterns\"/></defs><g class=\"bglayer\"><rect class=\"bg\" x=\"177\" y=\"100\" width=\"443\" height=\"320\" style=\"fill: rgb(237, 237, 237); fill-opacity: 1; stroke-width: 0;\"/></g><g class=\"layer-below\"><g class=\"imagelayer\"/><g class=\"shapelayer\"/></g><g class=\"cartesianlayer\"><g class=\"subplot xy\"><g class=\"layer-subplot\"><g class=\"shapelayer\"/><g class=\"imagelayer\"/></g><g class=\"gridlayer\"><g class=\"x\"/><g class=\"y\"><path class=\"ygrid crisp\" transform=\"translate(0,380)\" d=\"M177,0h443\" style=\"stroke: rgb(255, 255, 255); stroke-opacity: 1; stroke-width: 1px;\"/><path class=\"ygrid crisp\" transform=\"translate(0,300)\" d=\"M177,0h443\" style=\"stroke: rgb(255, 255, 255); stroke-opacity: 1; stroke-width: 1px;\"/><path class=\"ygrid crisp\" transform=\"translate(0,220)\" d=\"M177,0h443\" style=\"stroke: rgb(255, 255, 255); stroke-opacity: 1; stroke-width: 1px;\"/><path class=\"ygrid crisp\" transform=\"translate(0,140)\" d=\"M177,0h443\" style=\"stroke: rgb(255, 255, 255); stroke-opacity: 1; stroke-width: 1px;\"/></g></g><g class=\"zerolinelayer\"/><path class=\"xlines-below\"/><path class=\"ylines-below\"/><g class=\"overlines-below\"/><g class=\"xaxislayer-below\"/><g class=\"yaxislayer-below\"/><g class=\"overaxes-below\"/><g class=\"plot\" transform=\"translate(177,100)\" clip-path=\"url(#clipba7890xyplot)\"><g class=\"funnellayer mlayer\"><g class=\"trace bars\" style=\"opacity: 1;\"><g class=\"regions\"><g class=\"region\"><path d=\"M22.15,72L98.09,88H344.91L420.85,72Z\" style=\"stroke-width: 0; fill: rgb(255, 217, 47); fill-opacity: 0.5;\"/></g><g class=\"region\"><path d=\"M98.09,152L121.17,168H321.83L344.91,152Z\" style=\"stroke-width: 0; fill: rgb(255, 217, 47); fill-opacity: 0.5;\"/></g><g class=\"region\"><path d=\"M121.17,232L126.41,248H316.59L321.83,232Z\" style=\"stroke-width: 0; fill: rgb(255, 217, 47); fill-opacity: 0.5;\"/></g><g class=\"region\"><path d=\"M0,0Z\" style=\"stroke-width: 0; fill: rgb(255, 217, 47); fill-opacity: 0.5;\"/></g></g><g class=\"points\"><g class=\"point\"><path d=\"M22.15,8V72H420.85V8Z\" style=\"vector-effect: non-scaling-stroke; fill: rgb(255, 217, 47); fill-opacity: 1; stroke: rgb(68, 68, 68); stroke-opacity: 1; stroke-width: 0px; opacity: 1;\"/><text class=\"bartext bartext-inside\" text-anchor=\"middle\" data-notex=\"1\" x=\"0\" y=\"0\" style=\"font-family: 'Open Sans', verdana, arial, sans-serif; font-size: 12px; fill: rgb(68, 68, 68); fill-opacity: 1; white-space: pre;\" transform=\"translate(221.125,28.8984375)\"><tspan class=\"line\" dy=\"0em\" x=\"0\" y=\"0\">7419</tspan><tspan class=\"line\" dy=\"1.3em\" x=\"0\" y=\"0\">100% of initial</tspan><tspan class=\"line\" dy=\"2.6em\" x=\"0\" y=\"0\">100% of previous</tspan></text></g><g class=\"point\"><path d=\"M98.09,88V152H344.91V88Z\" style=\"vector-effect: non-scaling-stroke; fill: rgb(255, 217, 47); fill-opacity: 1; stroke: rgb(68, 68, 68); stroke-opacity: 1; stroke-width: 0px; opacity: 1;\"/><text class=\"bartext bartext-inside\" text-anchor=\"middle\" data-notex=\"1\" x=\"0\" y=\"0\" style=\"font-family: 'Open Sans', verdana, arial, sans-serif; font-size: 12px; fill: rgb(68, 68, 68); fill-opacity: 1; white-space: pre;\" transform=\"translate(221.125,108.8984375)\"><tspan class=\"line\" dy=\"0em\" x=\"0\" y=\"0\">4593</tspan><tspan class=\"line\" dy=\"1.3em\" x=\"0\" y=\"0\">62% of initial</tspan><tspan class=\"line\" dy=\"2.6em\" x=\"0\" y=\"0\">62% of previous</tspan></text></g><g class=\"point\"><path d=\"M121.17,168V232H321.83V168Z\" style=\"vector-effect: non-scaling-stroke; fill: rgb(255, 217, 47); fill-opacity: 1; stroke: rgb(68, 68, 68); stroke-opacity: 1; stroke-width: 0px; opacity: 1;\"/><text class=\"bartext bartext-inside\" text-anchor=\"middle\" data-notex=\"1\" x=\"0\" y=\"0\" style=\"font-family: 'Open Sans', verdana, arial, sans-serif; font-size: 12px; fill: rgb(68, 68, 68); fill-opacity: 1; white-space: pre;\" transform=\"translate(221.125,188.8984375)\"><tspan class=\"line\" dy=\"0em\" x=\"0\" y=\"0\">3734</tspan><tspan class=\"line\" dy=\"1.3em\" x=\"0\" y=\"0\">50% of initial</tspan><tspan class=\"line\" dy=\"2.6em\" x=\"0\" y=\"0\">81% of previous</tspan></text></g><g class=\"point\"><path d=\"M126.41,248V312H316.59V248Z\" style=\"vector-effect: non-scaling-stroke; fill: rgb(255, 217, 47); fill-opacity: 1; stroke: rgb(68, 68, 68); stroke-opacity: 1; stroke-width: 0px; opacity: 1;\"/><text class=\"bartext bartext-inside\" text-anchor=\"middle\" data-notex=\"1\" x=\"0\" y=\"0\" style=\"font-family: 'Open Sans', verdana, arial, sans-serif; font-size: 12px; fill: rgb(68, 68, 68); fill-opacity: 1; white-space: pre;\" transform=\"translate(221.125,268.8984375)\"><tspan class=\"line\" dy=\"0em\" x=\"0\" y=\"0\">3539</tspan><tspan class=\"line\" dy=\"1.3em\" x=\"0\" y=\"0\">48% of initial</tspan><tspan class=\"line\" dy=\"2.6em\" x=\"0\" y=\"0\">95% of previous</tspan></text></g></g></g></g></g><g class=\"overplot\"/><path class=\"xlines-above crisp\" d=\"M0,0\" style=\"fill: none;\"/><path class=\"ylines-above crisp\" d=\"\" style=\"fill: none; stroke-width: 1px; stroke: rgb(0, 0, 0); stroke-opacity: 0;\"/><g class=\"overlines-above\"/><g class=\"xaxislayer-above\"/><g class=\"yaxislayer-above\"><path class=\"ytick ticks crisp\" d=\"M176,0h-5\" transform=\"translate(0,380)\" style=\"stroke: rgb(51, 51, 51); stroke-opacity: 1; stroke-width: 1px;\"/><path class=\"ytick ticks crisp\" d=\"M176,0h-5\" transform=\"translate(0,300)\" style=\"stroke: rgb(51, 51, 51); stroke-opacity: 1; stroke-width: 1px;\"/><path class=\"ytick ticks crisp\" d=\"M176,0h-5\" transform=\"translate(0,220)\" style=\"stroke: rgb(51, 51, 51); stroke-opacity: 1; stroke-width: 1px;\"/><path class=\"ytick ticks crisp\" d=\"M176,0h-5\" transform=\"translate(0,140)\" style=\"stroke: rgb(51, 51, 51); stroke-opacity: 1; stroke-width: 1px;\"/><g class=\"ytick\"><text text-anchor=\"end\" x=\"168.6\" y=\"4.199999999999999\" transform=\"translate(0,380)\" style=\"font-family: 'Open Sans', verdana, arial, sans-serif; font-size: 12px; fill: rgb(51, 51, 51); fill-opacity: 1; white-space: pre; opacity: 1;\">PaymentScreenSuccessful</text></g><g class=\"ytick\"><text text-anchor=\"end\" x=\"168.6\" y=\"4.199999999999999\" transform=\"translate(0,300)\" style=\"font-family: 'Open Sans', verdana, arial, sans-serif; font-size: 12px; fill: rgb(51, 51, 51); fill-opacity: 1; white-space: pre; opacity: 1;\">CartScreenAppear</text></g><g class=\"ytick\"><text text-anchor=\"end\" x=\"168.6\" y=\"4.199999999999999\" transform=\"translate(0,220)\" style=\"font-family: 'Open Sans', verdana, arial, sans-serif; font-size: 12px; fill: rgb(51, 51, 51); fill-opacity: 1; white-space: pre; opacity: 1;\">OffersScreenAppear</text></g><g class=\"ytick\"><text text-anchor=\"end\" x=\"168.6\" y=\"4.199999999999999\" transform=\"translate(0,140)\" style=\"font-family: 'Open Sans', verdana, arial, sans-serif; font-size: 12px; fill: rgb(51, 51, 51); fill-opacity: 1; white-space: pre; opacity: 1;\">MainScreenAppear</text></g></g><g class=\"overaxes-above\"/></g></g><g class=\"polarlayer\"/><g class=\"smithlayer\"/><g class=\"ternarylayer\"/><g class=\"geolayer\"/><g class=\"funnelarealayer\"/><g class=\"pielayer\"/><g class=\"iciclelayer\"/><g class=\"treemaplayer\"/><g class=\"sunburstlayer\"/><g class=\"glimages\"/><defs id=\"topdefs-ba7890\"><g class=\"clips\"/></defs><g class=\"layer-above\"><g class=\"imagelayer\"/><g class=\"shapelayer\"/></g><g class=\"infolayer\"><g class=\"g-gtitle\"><text class=\"gtitle\" x=\"385.00000000000006\" y=\"65\" text-anchor=\"middle\" dy=\"0.7em\" style=\"font-family: 'Open Sans', verdana, arial, sans-serif; font-size: 17px; fill: rgb(51, 51, 51); opacity: 1; font-weight: normal; white-space: pre;\">Количество и доля пользователей совершивших каждое действие</text></g><g class=\"g-ytitle\"/></g></svg>"
      ]
     },
     "metadata": {},
     "output_type": "display_data"
    }
   ],
   "source": [
    "fig = go.Figure( go.Funnel(\n",
    "        y=uniq_id_event[:4].index,\n",
    "        x=uniq_id_event['id'], \n",
    "    textposition = 'inside', \n",
    "    textinfo = \"value+percent previous+percent initial\",\n",
    "    marker = {\"color\": 'rgb(255,217,47)'}))\n",
    "    \n",
    "fig.update_layout(title={'text': \"Количество и доля пользователей совершивших каждое действие\", 'xanchor': 'center', 'y':0.87,\n",
    "        'x':0.55})\n",
    "fig.layout.template = 'ggplot2'\n",
    "fig.show(\"svg\")\n"
   ]
  },
  {
   "cell_type": "markdown",
   "metadata": {},
   "source": [
    "Таким образом отчетливо видно: \n",
    "* Начальной точкой будет являться - Посещение главное экрана(**MainScreenAppear**), в котором присутствует 7419 уникальных пользователей, доля которых изначально 100%. \n",
    "* Второй этап - Появление экрана с предложениями(**OffersScreenAppear**) встречается 4593 раз и доля от предыдущего, первого этапа составляет 62%.\n",
    "* Третий этап - Переход в корзину(**CartScreenAppear**) встречается 3734 раз и доля от предыдущего, второго этапа составляет 81%.\n",
    "* Четвертый этап - Экран с успешной оплатой(**PaymentScreenSuccessful**) встречается 3539 раз и доля от прудыдущего , третьего этапа составояет 95%. "
   ]
  },
  {
   "cell_type": "markdown",
   "metadata": {},
   "source": [
    "### 4.5 На каком шаге теряете больше всего пользователей?"
   ]
  },
  {
   "cell_type": "markdown",
   "metadata": {},
   "source": [
    "Познакомившись с воронкой событий отчетливо видны потери на каждом шаге. Таким образом основная часть отсекается после посещения главного меню 38%, не увидев экрана с предложениями. Еще 19 % по сравнению с предыдущим этапом отсекается так и не увидев корзину. И 5% от тех кто добавил в корзину в итоге не оплачивают, либо испытвают трудности с оплатой. "
   ]
  },
  {
   "cell_type": "markdown",
   "metadata": {},
   "source": [
    "### 4.6 Какая доля пользователей доходит от первого события до оплаты?"
   ]
  },
  {
   "cell_type": "markdown",
   "metadata": {},
   "source": [
    "От первого этапа до момента успешной оплаты доходят 48% пользователей. "
   ]
  },
  {
   "cell_type": "markdown",
   "metadata": {},
   "source": [
    "## Этап 5. Изучение результатов эксперимента"
   ]
  },
  {
   "cell_type": "markdown",
   "metadata": {},
   "source": [
    "### 5.1 Сколько пользователей в каждой экспериментальной группе?"
   ]
  },
  {
   "cell_type": "markdown",
   "metadata": {},
   "source": [
    "Посмотрим сколько пользователей в каждой из экспериментальных групп:"
   ]
  },
  {
   "cell_type": "code",
   "execution_count": 37,
   "metadata": {},
   "outputs": [
    {
     "data": {
      "text/html": [
       "<div>\n",
       "<style scoped>\n",
       "    .dataframe tbody tr th:only-of-type {\n",
       "        vertical-align: middle;\n",
       "    }\n",
       "\n",
       "    .dataframe tbody tr th {\n",
       "        vertical-align: top;\n",
       "    }\n",
       "\n",
       "    .dataframe thead th {\n",
       "        text-align: right;\n",
       "    }\n",
       "</style>\n",
       "<table border=\"1\" class=\"dataframe\">\n",
       "  <thead>\n",
       "    <tr style=\"text-align: right;\">\n",
       "      <th></th>\n",
       "      <th>id</th>\n",
       "    </tr>\n",
       "    <tr>\n",
       "      <th>exp_id</th>\n",
       "      <th></th>\n",
       "    </tr>\n",
       "  </thead>\n",
       "  <tbody>\n",
       "    <tr>\n",
       "      <th>246</th>\n",
       "      <td>2484</td>\n",
       "    </tr>\n",
       "    <tr>\n",
       "      <th>247</th>\n",
       "      <td>2513</td>\n",
       "    </tr>\n",
       "    <tr>\n",
       "      <th>248</th>\n",
       "      <td>2537</td>\n",
       "    </tr>\n",
       "  </tbody>\n",
       "</table>\n",
       "</div>"
      ],
      "text/plain": [
       "          id\n",
       "exp_id      \n",
       "246     2484\n",
       "247     2513\n",
       "248     2537"
      ]
     },
     "execution_count": 37,
     "metadata": {},
     "output_type": "execute_result"
    }
   ],
   "source": [
    "exp_nun = filt_logs_exp.groupby('exp_id')['id'].nunique().to_frame()\n",
    "exp_nun"
   ]
  },
  {
   "cell_type": "markdown",
   "metadata": {},
   "source": [
    "В каждой группе примерно равное количество уникальных пользователей. "
   ]
  },
  {
   "cell_type": "markdown",
   "metadata": {},
   "source": [
    "### 5.2 Есть 2 контрольные группы для А/А-эксперимента, чтобы проверить корректность всех механизмов и расчётов. Проверьте, находят ли статистические критерии разницу между выборками 246 и 247."
   ]
  },
  {
   "cell_type": "markdown",
   "metadata": {},
   "source": [
    "Вспомним какие критерии необходимо соблюсти для успешного A/A теста:\n",
    "* Количество пользователей в различных группах различается не более, чем на 1%;\n",
    "* Для всех групп фиксируют и отправляют в системы аналитики данные об одном и том же;\n",
    "* Различие ключевых метрик по группам не превышает 1% и не имеет статистической значимости;\n",
    "* Попавший в одну из групп посетитель остаётся в этой группе до конца теста. Если пользователь видит разные версии исследуемой страницы в ходе одного исследования, неизвестно, какая именно повлияла на его решения. Значит, и результаты такого теста нельзя интерпретировать однозначно."
   ]
  },
  {
   "cell_type": "markdown",
   "metadata": {},
   "source": [
    "Сделаем сегрегацию по группам экспреримента и посмотрим сколько уникальных пользователей совершили каждое из событий помимо знакомства с руководством(Tutorial):"
   ]
  },
  {
   "cell_type": "markdown",
   "metadata": {},
   "source": [
    "Для группы 246:"
   ]
  },
  {
   "cell_type": "code",
   "execution_count": 38,
   "metadata": {},
   "outputs": [
    {
     "data": {
      "text/html": [
       "<div>\n",
       "<style scoped>\n",
       "    .dataframe tbody tr th:only-of-type {\n",
       "        vertical-align: middle;\n",
       "    }\n",
       "\n",
       "    .dataframe tbody tr th {\n",
       "        vertical-align: top;\n",
       "    }\n",
       "\n",
       "    .dataframe thead th {\n",
       "        text-align: right;\n",
       "    }\n",
       "</style>\n",
       "<table border=\"1\" class=\"dataframe\">\n",
       "  <thead>\n",
       "    <tr style=\"text-align: right;\">\n",
       "      <th></th>\n",
       "      <th>id</th>\n",
       "      <th>percent</th>\n",
       "    </tr>\n",
       "    <tr>\n",
       "      <th>event</th>\n",
       "      <th></th>\n",
       "      <th></th>\n",
       "    </tr>\n",
       "  </thead>\n",
       "  <tbody>\n",
       "    <tr>\n",
       "      <th>MainScreenAppear</th>\n",
       "      <td>2450</td>\n",
       "      <td>100.00</td>\n",
       "    </tr>\n",
       "    <tr>\n",
       "      <th>OffersScreenAppear</th>\n",
       "      <td>1542</td>\n",
       "      <td>62.94</td>\n",
       "    </tr>\n",
       "    <tr>\n",
       "      <th>CartScreenAppear</th>\n",
       "      <td>1266</td>\n",
       "      <td>51.67</td>\n",
       "    </tr>\n",
       "    <tr>\n",
       "      <th>PaymentScreenSuccessful</th>\n",
       "      <td>1200</td>\n",
       "      <td>48.98</td>\n",
       "    </tr>\n",
       "  </tbody>\n",
       "</table>\n",
       "</div>"
      ],
      "text/plain": [
       "                           id  percent\n",
       "event                                 \n",
       "MainScreenAppear         2450   100.00\n",
       "OffersScreenAppear       1542    62.94\n",
       "CartScreenAppear         1266    51.67\n",
       "PaymentScreenSuccessful  1200    48.98"
      ]
     },
     "execution_count": 38,
     "metadata": {},
     "output_type": "execute_result"
    }
   ],
   "source": [
    "uniq_id_event_246 = filt_logs_exp.query('exp_id == 246').groupby('event')['id'].nunique().sort_values(ascending = False).to_frame()\n",
    "uniq_id_event_246['percent'] = uniq_id_event_246['id']/ uniq_id_event_246['id'][0] * 100\n",
    "uniq_id_event_246[:4]"
   ]
  },
  {
   "cell_type": "code",
   "execution_count": 39,
   "metadata": {},
   "outputs": [
    {
     "data": {
      "image/svg+xml": [
       "<svg class=\"main-svg\" xmlns=\"http://www.w3.org/2000/svg\" xmlns:xlink=\"http://www.w3.org/1999/xlink\" width=\"700\" height=\"500\" style=\"\" viewBox=\"0 0 700 500\"><rect x=\"0\" y=\"0\" width=\"700\" height=\"500\" style=\"fill: rgb(255, 255, 255); fill-opacity: 1;\"/><defs id=\"defs-3e35bb\"><g class=\"clips\"><clipPath id=\"clip3e35bbxyplot\" class=\"plotclip\"><rect width=\"443\" height=\"320\"/></clipPath><clipPath class=\"axesclip\" id=\"clip3e35bbx\"><rect x=\"177\" y=\"0\" width=\"443\" height=\"500\"/></clipPath><clipPath class=\"axesclip\" id=\"clip3e35bby\"><rect x=\"0\" y=\"100\" width=\"700\" height=\"320\"/></clipPath><clipPath class=\"axesclip\" id=\"clip3e35bbxy\"><rect x=\"177\" y=\"100\" width=\"443\" height=\"320\"/></clipPath></g><g class=\"gradients\"/><g class=\"patterns\"/></defs><g class=\"bglayer\"><rect class=\"bg\" x=\"177\" y=\"100\" width=\"443\" height=\"320\" style=\"fill: rgb(237, 237, 237); fill-opacity: 1; stroke-width: 0;\"/></g><g class=\"layer-below\"><g class=\"imagelayer\"/><g class=\"shapelayer\"/></g><g class=\"cartesianlayer\"><g class=\"subplot xy\"><g class=\"layer-subplot\"><g class=\"shapelayer\"/><g class=\"imagelayer\"/></g><g class=\"gridlayer\"><g class=\"x\"/><g class=\"y\"><path class=\"ygrid crisp\" transform=\"translate(0,380)\" d=\"M177,0h443\" style=\"stroke: rgb(255, 255, 255); stroke-opacity: 1; stroke-width: 1px;\"/><path class=\"ygrid crisp\" transform=\"translate(0,300)\" d=\"M177,0h443\" style=\"stroke: rgb(255, 255, 255); stroke-opacity: 1; stroke-width: 1px;\"/><path class=\"ygrid crisp\" transform=\"translate(0,220)\" d=\"M177,0h443\" style=\"stroke: rgb(255, 255, 255); stroke-opacity: 1; stroke-width: 1px;\"/><path class=\"ygrid crisp\" transform=\"translate(0,140)\" d=\"M177,0h443\" style=\"stroke: rgb(255, 255, 255); stroke-opacity: 1; stroke-width: 1px;\"/></g></g><g class=\"zerolinelayer\"/><path class=\"xlines-below\"/><path class=\"ylines-below\"/><g class=\"overlines-below\"/><g class=\"xaxislayer-below\"/><g class=\"yaxislayer-below\"/><g class=\"overaxes-below\"/><g class=\"plot\" transform=\"translate(177,100)\" clip-path=\"url(#clip3e35bbxyplot)\"><g class=\"funnellayer mlayer\"><g class=\"trace bars\" style=\"opacity: 1;\"><g class=\"regions\"><g class=\"region\"><path d=\"M22.15,72L96.03,88H346.97L420.85,72Z\" style=\"stroke-width: 0; fill: rgb(255, 217, 47); fill-opacity: 0.5;\"/></g><g class=\"region\"><path d=\"M96.03,152L118.49,168H324.51L346.97,152Z\" style=\"stroke-width: 0; fill: rgb(255, 217, 47); fill-opacity: 0.5;\"/></g><g class=\"region\"><path d=\"M118.49,232L123.86,248H319.14L324.51,232Z\" style=\"stroke-width: 0; fill: rgb(255, 217, 47); fill-opacity: 0.5;\"/></g><g class=\"region\"><path d=\"M0,0Z\" style=\"stroke-width: 0; fill: rgb(255, 217, 47); fill-opacity: 0.5;\"/></g></g><g class=\"points\"><g class=\"point\"><path d=\"M22.15,8V72H420.85V8Z\" style=\"vector-effect: non-scaling-stroke; fill: rgb(255, 217, 47); fill-opacity: 1; stroke: rgb(68, 68, 68); stroke-opacity: 1; stroke-width: 0px; opacity: 1;\"/><text class=\"bartext bartext-inside\" text-anchor=\"middle\" data-notex=\"1\" x=\"0\" y=\"0\" style=\"font-family: 'Open Sans', verdana, arial, sans-serif; font-size: 12px; fill: rgb(68, 68, 68); fill-opacity: 1; white-space: pre;\" transform=\"translate(221.125,28.8984375)\"><tspan class=\"line\" dy=\"0em\" x=\"0\" y=\"0\">2450</tspan><tspan class=\"line\" dy=\"1.3em\" x=\"0\" y=\"0\">100% of initial</tspan><tspan class=\"line\" dy=\"2.6em\" x=\"0\" y=\"0\">100% of previous</tspan></text></g><g class=\"point\"><path d=\"M96.03,88V152H346.97V88Z\" style=\"vector-effect: non-scaling-stroke; fill: rgb(255, 217, 47); fill-opacity: 1; stroke: rgb(68, 68, 68); stroke-opacity: 1; stroke-width: 0px; opacity: 1;\"/><text class=\"bartext bartext-inside\" text-anchor=\"middle\" data-notex=\"1\" x=\"0\" y=\"0\" style=\"font-family: 'Open Sans', verdana, arial, sans-serif; font-size: 12px; fill: rgb(68, 68, 68); fill-opacity: 1; white-space: pre;\" transform=\"translate(221.125,108.8984375)\"><tspan class=\"line\" dy=\"0em\" x=\"0\" y=\"0\">1542</tspan><tspan class=\"line\" dy=\"1.3em\" x=\"0\" y=\"0\">63% of initial</tspan><tspan class=\"line\" dy=\"2.6em\" x=\"0\" y=\"0\">63% of previous</tspan></text></g><g class=\"point\"><path d=\"M118.49,168V232H324.51V168Z\" style=\"vector-effect: non-scaling-stroke; fill: rgb(255, 217, 47); fill-opacity: 1; stroke: rgb(68, 68, 68); stroke-opacity: 1; stroke-width: 0px; opacity: 1;\"/><text class=\"bartext bartext-inside\" text-anchor=\"middle\" data-notex=\"1\" x=\"0\" y=\"0\" style=\"font-family: 'Open Sans', verdana, arial, sans-serif; font-size: 12px; fill: rgb(68, 68, 68); fill-opacity: 1; white-space: pre;\" transform=\"translate(221.125,188.8984375)\"><tspan class=\"line\" dy=\"0em\" x=\"0\" y=\"0\">1266</tspan><tspan class=\"line\" dy=\"1.3em\" x=\"0\" y=\"0\">52% of initial</tspan><tspan class=\"line\" dy=\"2.6em\" x=\"0\" y=\"0\">82% of previous</tspan></text></g><g class=\"point\"><path d=\"M123.86,248V312H319.14V248Z\" style=\"vector-effect: non-scaling-stroke; fill: rgb(255, 217, 47); fill-opacity: 1; stroke: rgb(68, 68, 68); stroke-opacity: 1; stroke-width: 0px; opacity: 1;\"/><text class=\"bartext bartext-inside\" text-anchor=\"middle\" data-notex=\"1\" x=\"0\" y=\"0\" style=\"font-family: 'Open Sans', verdana, arial, sans-serif; font-size: 12px; fill: rgb(68, 68, 68); fill-opacity: 1; white-space: pre;\" transform=\"translate(221.125,268.8984375)\"><tspan class=\"line\" dy=\"0em\" x=\"0\" y=\"0\">1200</tspan><tspan class=\"line\" dy=\"1.3em\" x=\"0\" y=\"0\">49% of initial</tspan><tspan class=\"line\" dy=\"2.6em\" x=\"0\" y=\"0\">95% of previous</tspan></text></g></g></g></g></g><g class=\"overplot\"/><path class=\"xlines-above crisp\" d=\"M0,0\" style=\"fill: none;\"/><path class=\"ylines-above crisp\" d=\"\" style=\"fill: none; stroke-width: 1px; stroke: rgb(0, 0, 0); stroke-opacity: 0;\"/><g class=\"overlines-above\"/><g class=\"xaxislayer-above\"/><g class=\"yaxislayer-above\"><path class=\"ytick ticks crisp\" d=\"M176,0h-5\" transform=\"translate(0,380)\" style=\"stroke: rgb(51, 51, 51); stroke-opacity: 1; stroke-width: 1px;\"/><path class=\"ytick ticks crisp\" d=\"M176,0h-5\" transform=\"translate(0,300)\" style=\"stroke: rgb(51, 51, 51); stroke-opacity: 1; stroke-width: 1px;\"/><path class=\"ytick ticks crisp\" d=\"M176,0h-5\" transform=\"translate(0,220)\" style=\"stroke: rgb(51, 51, 51); stroke-opacity: 1; stroke-width: 1px;\"/><path class=\"ytick ticks crisp\" d=\"M176,0h-5\" transform=\"translate(0,140)\" style=\"stroke: rgb(51, 51, 51); stroke-opacity: 1; stroke-width: 1px;\"/><g class=\"ytick\"><text text-anchor=\"end\" x=\"168.6\" y=\"4.199999999999999\" transform=\"translate(0,380)\" style=\"font-family: 'Open Sans', verdana, arial, sans-serif; font-size: 12px; fill: rgb(51, 51, 51); fill-opacity: 1; white-space: pre; opacity: 1;\">PaymentScreenSuccessful</text></g><g class=\"ytick\"><text text-anchor=\"end\" x=\"168.6\" y=\"4.199999999999999\" transform=\"translate(0,300)\" style=\"font-family: 'Open Sans', verdana, arial, sans-serif; font-size: 12px; fill: rgb(51, 51, 51); fill-opacity: 1; white-space: pre; opacity: 1;\">CartScreenAppear</text></g><g class=\"ytick\"><text text-anchor=\"end\" x=\"168.6\" y=\"4.199999999999999\" transform=\"translate(0,220)\" style=\"font-family: 'Open Sans', verdana, arial, sans-serif; font-size: 12px; fill: rgb(51, 51, 51); fill-opacity: 1; white-space: pre; opacity: 1;\">OffersScreenAppear</text></g><g class=\"ytick\"><text text-anchor=\"end\" x=\"168.6\" y=\"4.199999999999999\" transform=\"translate(0,140)\" style=\"font-family: 'Open Sans', verdana, arial, sans-serif; font-size: 12px; fill: rgb(51, 51, 51); fill-opacity: 1; white-space: pre; opacity: 1;\">MainScreenAppear</text></g></g><g class=\"overaxes-above\"/></g></g><g class=\"polarlayer\"/><g class=\"smithlayer\"/><g class=\"ternarylayer\"/><g class=\"geolayer\"/><g class=\"funnelarealayer\"/><g class=\"pielayer\"/><g class=\"iciclelayer\"/><g class=\"treemaplayer\"/><g class=\"sunburstlayer\"/><g class=\"glimages\"/><defs id=\"topdefs-3e35bb\"><g class=\"clips\"/></defs><g class=\"layer-above\"><g class=\"imagelayer\"/><g class=\"shapelayer\"/></g><g class=\"infolayer\"><g class=\"g-gtitle\"><text class=\"gtitle\" x=\"385.00000000000006\" y=\"65\" text-anchor=\"middle\" dy=\"0.7em\" style=\"font-family: 'Open Sans', verdana, arial, sans-serif; font-size: 17px; fill: rgb(51, 51, 51); opacity: 1; font-weight: normal; white-space: pre;\">Количество и доля пользователей совершивших каждое действие</text></g><g class=\"g-ytitle\"/></g></svg>"
      ]
     },
     "metadata": {},
     "output_type": "display_data"
    }
   ],
   "source": [
    "fig = go.Figure( go.Funnel(\n",
    "        y=uniq_id_event_246[:4].index,\n",
    "        x=uniq_id_event_246['id'], \n",
    "    textposition = 'inside', \n",
    "    textinfo = \"value+percent previous+percent initial\",\n",
    "    marker = {\"color\": 'rgb(255,217,47)'}))\n",
    "    \n",
    "fig.update_layout(title={'text': \"Количество и доля пользователей совершивших каждое действие\", 'xanchor': 'center', 'y':0.87,\n",
    "        'x':0.55})\n",
    "fig.layout.template = 'ggplot2'\n",
    "fig.show(\"svg\")"
   ]
  },
  {
   "cell_type": "markdown",
   "metadata": {},
   "source": [
    "Для группы 247:"
   ]
  },
  {
   "cell_type": "code",
   "execution_count": 40,
   "metadata": {},
   "outputs": [
    {
     "data": {
      "text/html": [
       "<div>\n",
       "<style scoped>\n",
       "    .dataframe tbody tr th:only-of-type {\n",
       "        vertical-align: middle;\n",
       "    }\n",
       "\n",
       "    .dataframe tbody tr th {\n",
       "        vertical-align: top;\n",
       "    }\n",
       "\n",
       "    .dataframe thead th {\n",
       "        text-align: right;\n",
       "    }\n",
       "</style>\n",
       "<table border=\"1\" class=\"dataframe\">\n",
       "  <thead>\n",
       "    <tr style=\"text-align: right;\">\n",
       "      <th></th>\n",
       "      <th>id</th>\n",
       "      <th>percent</th>\n",
       "    </tr>\n",
       "    <tr>\n",
       "      <th>event</th>\n",
       "      <th></th>\n",
       "      <th></th>\n",
       "    </tr>\n",
       "  </thead>\n",
       "  <tbody>\n",
       "    <tr>\n",
       "      <th>MainScreenAppear</th>\n",
       "      <td>2476</td>\n",
       "      <td>100.00</td>\n",
       "    </tr>\n",
       "    <tr>\n",
       "      <th>OffersScreenAppear</th>\n",
       "      <td>1520</td>\n",
       "      <td>61.39</td>\n",
       "    </tr>\n",
       "    <tr>\n",
       "      <th>CartScreenAppear</th>\n",
       "      <td>1238</td>\n",
       "      <td>50.00</td>\n",
       "    </tr>\n",
       "    <tr>\n",
       "      <th>PaymentScreenSuccessful</th>\n",
       "      <td>1158</td>\n",
       "      <td>46.77</td>\n",
       "    </tr>\n",
       "  </tbody>\n",
       "</table>\n",
       "</div>"
      ],
      "text/plain": [
       "                           id  percent\n",
       "event                                 \n",
       "MainScreenAppear         2476   100.00\n",
       "OffersScreenAppear       1520    61.39\n",
       "CartScreenAppear         1238    50.00\n",
       "PaymentScreenSuccessful  1158    46.77"
      ]
     },
     "execution_count": 40,
     "metadata": {},
     "output_type": "execute_result"
    }
   ],
   "source": [
    "uniq_id_event_247 = filt_logs_exp.query('exp_id == 247').groupby('event')['id'].nunique().sort_values(ascending = False).to_frame()\n",
    "uniq_id_event_247['percent'] = uniq_id_event_247['id']/ uniq_id_event_247['id'][0] * 100\n",
    "uniq_id_event_247[:4]"
   ]
  },
  {
   "cell_type": "code",
   "execution_count": 41,
   "metadata": {},
   "outputs": [
    {
     "data": {
      "image/svg+xml": [
       "<svg class=\"main-svg\" xmlns=\"http://www.w3.org/2000/svg\" xmlns:xlink=\"http://www.w3.org/1999/xlink\" width=\"700\" height=\"500\" style=\"\" viewBox=\"0 0 700 500\"><rect x=\"0\" y=\"0\" width=\"700\" height=\"500\" style=\"fill: rgb(255, 255, 255); fill-opacity: 1;\"/><defs id=\"defs-931707\"><g class=\"clips\"><clipPath id=\"clip931707xyplot\" class=\"plotclip\"><rect width=\"443\" height=\"320\"/></clipPath><clipPath class=\"axesclip\" id=\"clip931707x\"><rect x=\"177\" y=\"0\" width=\"443\" height=\"500\"/></clipPath><clipPath class=\"axesclip\" id=\"clip931707y\"><rect x=\"0\" y=\"100\" width=\"700\" height=\"320\"/></clipPath><clipPath class=\"axesclip\" id=\"clip931707xy\"><rect x=\"177\" y=\"100\" width=\"443\" height=\"320\"/></clipPath></g><g class=\"gradients\"/><g class=\"patterns\"/></defs><g class=\"bglayer\"><rect class=\"bg\" x=\"177\" y=\"100\" width=\"443\" height=\"320\" style=\"fill: rgb(237, 237, 237); fill-opacity: 1; stroke-width: 0;\"/></g><g class=\"layer-below\"><g class=\"imagelayer\"/><g class=\"shapelayer\"/></g><g class=\"cartesianlayer\"><g class=\"subplot xy\"><g class=\"layer-subplot\"><g class=\"shapelayer\"/><g class=\"imagelayer\"/></g><g class=\"gridlayer\"><g class=\"x\"/><g class=\"y\"><path class=\"ygrid crisp\" transform=\"translate(0,380)\" d=\"M177,0h443\" style=\"stroke: rgb(255, 255, 255); stroke-opacity: 1; stroke-width: 1px;\"/><path class=\"ygrid crisp\" transform=\"translate(0,300)\" d=\"M177,0h443\" style=\"stroke: rgb(255, 255, 255); stroke-opacity: 1; stroke-width: 1px;\"/><path class=\"ygrid crisp\" transform=\"translate(0,220)\" d=\"M177,0h443\" style=\"stroke: rgb(255, 255, 255); stroke-opacity: 1; stroke-width: 1px;\"/><path class=\"ygrid crisp\" transform=\"translate(0,140)\" d=\"M177,0h443\" style=\"stroke: rgb(255, 255, 255); stroke-opacity: 1; stroke-width: 1px;\"/></g></g><g class=\"zerolinelayer\"/><path class=\"xlines-below\"/><path class=\"ylines-below\"/><g class=\"overlines-below\"/><g class=\"xaxislayer-below\"/><g class=\"yaxislayer-below\"/><g class=\"overaxes-below\"/><g class=\"plot\" transform=\"translate(177,100)\" clip-path=\"url(#clip931707xyplot)\"><g class=\"funnellayer mlayer\"><g class=\"trace bars\" style=\"opacity: 1;\"><g class=\"regions\"><g class=\"region\"><path d=\"M22.15,72L99.12,88H343.88L420.85,72Z\" style=\"stroke-width: 0; fill: rgb(255, 217, 47); fill-opacity: 0.5;\"/></g><g class=\"region\"><path d=\"M99.12,152L121.83,168H321.18L343.88,152Z\" style=\"stroke-width: 0; fill: rgb(255, 217, 47); fill-opacity: 0.5;\"/></g><g class=\"region\"><path d=\"M121.83,232L128.27,248H314.73L321.18,232Z\" style=\"stroke-width: 0; fill: rgb(255, 217, 47); fill-opacity: 0.5;\"/></g><g class=\"region\"><path d=\"M0,0Z\" style=\"stroke-width: 0; fill: rgb(255, 217, 47); fill-opacity: 0.5;\"/></g></g><g class=\"points\"><g class=\"point\"><path d=\"M22.15,8V72H420.85V8Z\" style=\"vector-effect: non-scaling-stroke; fill: rgb(255, 217, 47); fill-opacity: 1; stroke: rgb(68, 68, 68); stroke-opacity: 1; stroke-width: 0px; opacity: 1;\"/><text class=\"bartext bartext-inside\" text-anchor=\"middle\" data-notex=\"1\" x=\"0\" y=\"0\" style=\"font-family: 'Open Sans', verdana, arial, sans-serif; font-size: 12px; fill: rgb(68, 68, 68); fill-opacity: 1; white-space: pre;\" transform=\"translate(221.125,28.8984375)\"><tspan class=\"line\" dy=\"0em\" x=\"0\" y=\"0\">2476</tspan><tspan class=\"line\" dy=\"1.3em\" x=\"0\" y=\"0\">100% of initial</tspan><tspan class=\"line\" dy=\"2.6em\" x=\"0\" y=\"0\">100% of previous</tspan></text></g><g class=\"point\"><path d=\"M99.12,88V152H343.88V88Z\" style=\"vector-effect: non-scaling-stroke; fill: rgb(255, 217, 47); fill-opacity: 1; stroke: rgb(68, 68, 68); stroke-opacity: 1; stroke-width: 0px; opacity: 1;\"/><text class=\"bartext bartext-inside\" text-anchor=\"middle\" data-notex=\"1\" x=\"0\" y=\"0\" style=\"font-family: 'Open Sans', verdana, arial, sans-serif; font-size: 12px; fill: rgb(68, 68, 68); fill-opacity: 1; white-space: pre;\" transform=\"translate(221.125,108.8984375)\"><tspan class=\"line\" dy=\"0em\" x=\"0\" y=\"0\">1520</tspan><tspan class=\"line\" dy=\"1.3em\" x=\"0\" y=\"0\">61% of initial</tspan><tspan class=\"line\" dy=\"2.6em\" x=\"0\" y=\"0\">61% of previous</tspan></text></g><g class=\"point\"><path d=\"M121.83,168V232H321.18V168Z\" style=\"vector-effect: non-scaling-stroke; fill: rgb(255, 217, 47); fill-opacity: 1; stroke: rgb(68, 68, 68); stroke-opacity: 1; stroke-width: 0px; opacity: 1;\"/><text class=\"bartext bartext-inside\" text-anchor=\"middle\" data-notex=\"1\" x=\"0\" y=\"0\" style=\"font-family: 'Open Sans', verdana, arial, sans-serif; font-size: 12px; fill: rgb(68, 68, 68); fill-opacity: 1; white-space: pre;\" transform=\"translate(221.13,188.8984375)\"><tspan class=\"line\" dy=\"0em\" x=\"0\" y=\"0\">1238</tspan><tspan class=\"line\" dy=\"1.3em\" x=\"0\" y=\"0\">50% of initial</tspan><tspan class=\"line\" dy=\"2.6em\" x=\"0\" y=\"0\">81% of previous</tspan></text></g><g class=\"point\"><path d=\"M128.27,248V312H314.73V248Z\" style=\"vector-effect: non-scaling-stroke; fill: rgb(255, 217, 47); fill-opacity: 1; stroke: rgb(68, 68, 68); stroke-opacity: 1; stroke-width: 0px; opacity: 1;\"/><text class=\"bartext bartext-inside\" text-anchor=\"middle\" data-notex=\"1\" x=\"0\" y=\"0\" style=\"font-family: 'Open Sans', verdana, arial, sans-serif; font-size: 12px; fill: rgb(68, 68, 68); fill-opacity: 1; white-space: pre;\" transform=\"translate(221.125,268.8984375)\"><tspan class=\"line\" dy=\"0em\" x=\"0\" y=\"0\">1158</tspan><tspan class=\"line\" dy=\"1.3em\" x=\"0\" y=\"0\">47% of initial</tspan><tspan class=\"line\" dy=\"2.6em\" x=\"0\" y=\"0\">94% of previous</tspan></text></g></g></g></g></g><g class=\"overplot\"/><path class=\"xlines-above crisp\" d=\"M0,0\" style=\"fill: none;\"/><path class=\"ylines-above crisp\" d=\"\" style=\"fill: none; stroke-width: 1px; stroke: rgb(0, 0, 0); stroke-opacity: 0;\"/><g class=\"overlines-above\"/><g class=\"xaxislayer-above\"/><g class=\"yaxislayer-above\"><path class=\"ytick ticks crisp\" d=\"M176,0h-5\" transform=\"translate(0,380)\" style=\"stroke: rgb(51, 51, 51); stroke-opacity: 1; stroke-width: 1px;\"/><path class=\"ytick ticks crisp\" d=\"M176,0h-5\" transform=\"translate(0,300)\" style=\"stroke: rgb(51, 51, 51); stroke-opacity: 1; stroke-width: 1px;\"/><path class=\"ytick ticks crisp\" d=\"M176,0h-5\" transform=\"translate(0,220)\" style=\"stroke: rgb(51, 51, 51); stroke-opacity: 1; stroke-width: 1px;\"/><path class=\"ytick ticks crisp\" d=\"M176,0h-5\" transform=\"translate(0,140)\" style=\"stroke: rgb(51, 51, 51); stroke-opacity: 1; stroke-width: 1px;\"/><g class=\"ytick\"><text text-anchor=\"end\" x=\"168.6\" y=\"4.199999999999999\" transform=\"translate(0,380)\" style=\"font-family: 'Open Sans', verdana, arial, sans-serif; font-size: 12px; fill: rgb(51, 51, 51); fill-opacity: 1; white-space: pre; opacity: 1;\">PaymentScreenSuccessful</text></g><g class=\"ytick\"><text text-anchor=\"end\" x=\"168.6\" y=\"4.199999999999999\" transform=\"translate(0,300)\" style=\"font-family: 'Open Sans', verdana, arial, sans-serif; font-size: 12px; fill: rgb(51, 51, 51); fill-opacity: 1; white-space: pre; opacity: 1;\">CartScreenAppear</text></g><g class=\"ytick\"><text text-anchor=\"end\" x=\"168.6\" y=\"4.199999999999999\" transform=\"translate(0,220)\" style=\"font-family: 'Open Sans', verdana, arial, sans-serif; font-size: 12px; fill: rgb(51, 51, 51); fill-opacity: 1; white-space: pre; opacity: 1;\">OffersScreenAppear</text></g><g class=\"ytick\"><text text-anchor=\"end\" x=\"168.6\" y=\"4.199999999999999\" transform=\"translate(0,140)\" style=\"font-family: 'Open Sans', verdana, arial, sans-serif; font-size: 12px; fill: rgb(51, 51, 51); fill-opacity: 1; white-space: pre; opacity: 1;\">MainScreenAppear</text></g></g><g class=\"overaxes-above\"/></g></g><g class=\"polarlayer\"/><g class=\"smithlayer\"/><g class=\"ternarylayer\"/><g class=\"geolayer\"/><g class=\"funnelarealayer\"/><g class=\"pielayer\"/><g class=\"iciclelayer\"/><g class=\"treemaplayer\"/><g class=\"sunburstlayer\"/><g class=\"glimages\"/><defs id=\"topdefs-931707\"><g class=\"clips\"/></defs><g class=\"layer-above\"><g class=\"imagelayer\"/><g class=\"shapelayer\"/></g><g class=\"infolayer\"><g class=\"g-gtitle\"><text class=\"gtitle\" x=\"385.00000000000006\" y=\"65\" text-anchor=\"middle\" dy=\"0.7em\" style=\"font-family: 'Open Sans', verdana, arial, sans-serif; font-size: 17px; fill: rgb(51, 51, 51); opacity: 1; font-weight: normal; white-space: pre;\">Количество и доля пользователей совершивших каждое действие</text></g><g class=\"g-ytitle\"/></g></svg>"
      ]
     },
     "metadata": {},
     "output_type": "display_data"
    }
   ],
   "source": [
    "fig = go.Figure( go.Funnel(\n",
    "        y=uniq_id_event_247[:4].index,\n",
    "        x=uniq_id_event_247['id'], \n",
    "    textposition = 'inside', \n",
    "    textinfo = \"value+percent previous+percent initial\",\n",
    "    marker = {\"color\": 'rgb(255,217,47)'}))\n",
    "    \n",
    "fig.update_layout(title={'text': \"Количество и доля пользователей совершивших каждое действие\", 'xanchor': 'center', 'y':0.87,\n",
    "        'x':0.55})\n",
    "fig.layout.template = 'ggplot2'\n",
    "fig.show(\"svg\")"
   ]
  },
  {
   "cell_type": "markdown",
   "metadata": {},
   "source": [
    "Для группы 248:"
   ]
  },
  {
   "cell_type": "code",
   "execution_count": 42,
   "metadata": {},
   "outputs": [
    {
     "data": {
      "text/html": [
       "<div>\n",
       "<style scoped>\n",
       "    .dataframe tbody tr th:only-of-type {\n",
       "        vertical-align: middle;\n",
       "    }\n",
       "\n",
       "    .dataframe tbody tr th {\n",
       "        vertical-align: top;\n",
       "    }\n",
       "\n",
       "    .dataframe thead th {\n",
       "        text-align: right;\n",
       "    }\n",
       "</style>\n",
       "<table border=\"1\" class=\"dataframe\">\n",
       "  <thead>\n",
       "    <tr style=\"text-align: right;\">\n",
       "      <th></th>\n",
       "      <th>id</th>\n",
       "      <th>percent</th>\n",
       "    </tr>\n",
       "    <tr>\n",
       "      <th>event</th>\n",
       "      <th></th>\n",
       "      <th></th>\n",
       "    </tr>\n",
       "  </thead>\n",
       "  <tbody>\n",
       "    <tr>\n",
       "      <th>MainScreenAppear</th>\n",
       "      <td>2493</td>\n",
       "      <td>100.00</td>\n",
       "    </tr>\n",
       "    <tr>\n",
       "      <th>OffersScreenAppear</th>\n",
       "      <td>1531</td>\n",
       "      <td>61.41</td>\n",
       "    </tr>\n",
       "    <tr>\n",
       "      <th>CartScreenAppear</th>\n",
       "      <td>1230</td>\n",
       "      <td>49.34</td>\n",
       "    </tr>\n",
       "    <tr>\n",
       "      <th>PaymentScreenSuccessful</th>\n",
       "      <td>1181</td>\n",
       "      <td>47.37</td>\n",
       "    </tr>\n",
       "  </tbody>\n",
       "</table>\n",
       "</div>"
      ],
      "text/plain": [
       "                           id  percent\n",
       "event                                 \n",
       "MainScreenAppear         2493   100.00\n",
       "OffersScreenAppear       1531    61.41\n",
       "CartScreenAppear         1230    49.34\n",
       "PaymentScreenSuccessful  1181    47.37"
      ]
     },
     "execution_count": 42,
     "metadata": {},
     "output_type": "execute_result"
    }
   ],
   "source": [
    "uniq_id_event_248 = filt_logs_exp.query('exp_id == 248').groupby('event')['id'].nunique().sort_values(ascending = False).to_frame()\n",
    "uniq_id_event_248['percent'] = uniq_id_event_248['id']/ uniq_id_event_248['id'][0] * 100\n",
    "uniq_id_event_248[:4]"
   ]
  },
  {
   "cell_type": "code",
   "execution_count": 43,
   "metadata": {},
   "outputs": [
    {
     "data": {
      "image/svg+xml": [
       "<svg class=\"main-svg\" xmlns=\"http://www.w3.org/2000/svg\" xmlns:xlink=\"http://www.w3.org/1999/xlink\" width=\"700\" height=\"500\" style=\"\" viewBox=\"0 0 700 500\"><rect x=\"0\" y=\"0\" width=\"700\" height=\"500\" style=\"fill: rgb(255, 255, 255); fill-opacity: 1;\"/><defs id=\"defs-cd94fb\"><g class=\"clips\"><clipPath id=\"clipcd94fbxyplot\" class=\"plotclip\"><rect width=\"443\" height=\"320\"/></clipPath><clipPath class=\"axesclip\" id=\"clipcd94fbx\"><rect x=\"177\" y=\"0\" width=\"443\" height=\"500\"/></clipPath><clipPath class=\"axesclip\" id=\"clipcd94fby\"><rect x=\"0\" y=\"100\" width=\"700\" height=\"320\"/></clipPath><clipPath class=\"axesclip\" id=\"clipcd94fbxy\"><rect x=\"177\" y=\"100\" width=\"443\" height=\"320\"/></clipPath></g><g class=\"gradients\"/><g class=\"patterns\"/></defs><g class=\"bglayer\"><rect class=\"bg\" x=\"177\" y=\"100\" width=\"443\" height=\"320\" style=\"fill: rgb(237, 237, 237); fill-opacity: 1; stroke-width: 0;\"/></g><g class=\"layer-below\"><g class=\"imagelayer\"/><g class=\"shapelayer\"/></g><g class=\"cartesianlayer\"><g class=\"subplot xy\"><g class=\"layer-subplot\"><g class=\"shapelayer\"/><g class=\"imagelayer\"/></g><g class=\"gridlayer\"><g class=\"x\"/><g class=\"y\"><path class=\"ygrid crisp\" transform=\"translate(0,380)\" d=\"M177,0h443\" style=\"stroke: rgb(255, 255, 255); stroke-opacity: 1; stroke-width: 1px;\"/><path class=\"ygrid crisp\" transform=\"translate(0,300)\" d=\"M177,0h443\" style=\"stroke: rgb(255, 255, 255); stroke-opacity: 1; stroke-width: 1px;\"/><path class=\"ygrid crisp\" transform=\"translate(0,220)\" d=\"M177,0h443\" style=\"stroke: rgb(255, 255, 255); stroke-opacity: 1; stroke-width: 1px;\"/><path class=\"ygrid crisp\" transform=\"translate(0,140)\" d=\"M177,0h443\" style=\"stroke: rgb(255, 255, 255); stroke-opacity: 1; stroke-width: 1px;\"/></g></g><g class=\"zerolinelayer\"/><path class=\"xlines-below\"/><path class=\"ylines-below\"/><g class=\"overlines-below\"/><g class=\"xaxislayer-below\"/><g class=\"yaxislayer-below\"/><g class=\"overaxes-below\"/><g class=\"plot\" transform=\"translate(177,100)\" clip-path=\"url(#clipcd94fbxyplot)\"><g class=\"funnellayer mlayer\"><g class=\"trace bars\" style=\"opacity: 1;\"><g class=\"regions\"><g class=\"region\"><path d=\"M22.15,72L99.08,88H343.92L420.85,72Z\" style=\"stroke-width: 0; fill: rgb(255, 217, 47); fill-opacity: 0.5;\"/></g><g class=\"region\"><path d=\"M99.08,152L123.14,168H319.86L343.92,152Z\" style=\"stroke-width: 0; fill: rgb(255, 217, 47); fill-opacity: 0.5;\"/></g><g class=\"region\"><path d=\"M123.14,232L127.06,248H315.94L319.86,232Z\" style=\"stroke-width: 0; fill: rgb(255, 217, 47); fill-opacity: 0.5;\"/></g><g class=\"region\"><path d=\"M0,0Z\" style=\"stroke-width: 0; fill: rgb(255, 217, 47); fill-opacity: 0.5;\"/></g></g><g class=\"points\"><g class=\"point\"><path d=\"M22.15,8V72H420.85V8Z\" style=\"vector-effect: non-scaling-stroke; fill: rgb(255, 217, 47); fill-opacity: 1; stroke: rgb(68, 68, 68); stroke-opacity: 1; stroke-width: 0px; opacity: 1;\"/><text class=\"bartext bartext-inside\" text-anchor=\"middle\" data-notex=\"1\" x=\"0\" y=\"0\" style=\"font-family: 'Open Sans', verdana, arial, sans-serif; font-size: 12px; fill: rgb(68, 68, 68); fill-opacity: 1; white-space: pre;\" transform=\"translate(221.125,28.8984375)\"><tspan class=\"line\" dy=\"0em\" x=\"0\" y=\"0\">2493</tspan><tspan class=\"line\" dy=\"1.3em\" x=\"0\" y=\"0\">100% of initial</tspan><tspan class=\"line\" dy=\"2.6em\" x=\"0\" y=\"0\">100% of previous</tspan></text></g><g class=\"point\"><path d=\"M99.08,88V152H343.92V88Z\" style=\"vector-effect: non-scaling-stroke; fill: rgb(255, 217, 47); fill-opacity: 1; stroke: rgb(68, 68, 68); stroke-opacity: 1; stroke-width: 0px; opacity: 1;\"/><text class=\"bartext bartext-inside\" text-anchor=\"middle\" data-notex=\"1\" x=\"0\" y=\"0\" style=\"font-family: 'Open Sans', verdana, arial, sans-serif; font-size: 12px; fill: rgb(68, 68, 68); fill-opacity: 1; white-space: pre;\" transform=\"translate(221.125,108.8984375)\"><tspan class=\"line\" dy=\"0em\" x=\"0\" y=\"0\">1531</tspan><tspan class=\"line\" dy=\"1.3em\" x=\"0\" y=\"0\">61% of initial</tspan><tspan class=\"line\" dy=\"2.6em\" x=\"0\" y=\"0\">61% of previous</tspan></text></g><g class=\"point\"><path d=\"M123.14,168V232H319.86V168Z\" style=\"vector-effect: non-scaling-stroke; fill: rgb(255, 217, 47); fill-opacity: 1; stroke: rgb(68, 68, 68); stroke-opacity: 1; stroke-width: 0px; opacity: 1;\"/><text class=\"bartext bartext-inside\" text-anchor=\"middle\" data-notex=\"1\" x=\"0\" y=\"0\" style=\"font-family: 'Open Sans', verdana, arial, sans-serif; font-size: 12px; fill: rgb(68, 68, 68); fill-opacity: 1; white-space: pre;\" transform=\"translate(221.125,188.8984375)\"><tspan class=\"line\" dy=\"0em\" x=\"0\" y=\"0\">1230</tspan><tspan class=\"line\" dy=\"1.3em\" x=\"0\" y=\"0\">49% of initial</tspan><tspan class=\"line\" dy=\"2.6em\" x=\"0\" y=\"0\">80% of previous</tspan></text></g><g class=\"point\"><path d=\"M127.06,248V312H315.94V248Z\" style=\"vector-effect: non-scaling-stroke; fill: rgb(255, 217, 47); fill-opacity: 1; stroke: rgb(68, 68, 68); stroke-opacity: 1; stroke-width: 0px; opacity: 1;\"/><text class=\"bartext bartext-inside\" text-anchor=\"middle\" data-notex=\"1\" x=\"0\" y=\"0\" style=\"font-family: 'Open Sans', verdana, arial, sans-serif; font-size: 12px; fill: rgb(68, 68, 68); fill-opacity: 1; white-space: pre;\" transform=\"translate(221.125,268.8984375)\"><tspan class=\"line\" dy=\"0em\" x=\"0\" y=\"0\">1181</tspan><tspan class=\"line\" dy=\"1.3em\" x=\"0\" y=\"0\">47% of initial</tspan><tspan class=\"line\" dy=\"2.6em\" x=\"0\" y=\"0\">96% of previous</tspan></text></g></g></g></g></g><g class=\"overplot\"/><path class=\"xlines-above crisp\" d=\"M0,0\" style=\"fill: none;\"/><path class=\"ylines-above crisp\" d=\"\" style=\"fill: none; stroke-width: 1px; stroke: rgb(0, 0, 0); stroke-opacity: 0;\"/><g class=\"overlines-above\"/><g class=\"xaxislayer-above\"/><g class=\"yaxislayer-above\"><path class=\"ytick ticks crisp\" d=\"M176,0h-5\" transform=\"translate(0,380)\" style=\"stroke: rgb(51, 51, 51); stroke-opacity: 1; stroke-width: 1px;\"/><path class=\"ytick ticks crisp\" d=\"M176,0h-5\" transform=\"translate(0,300)\" style=\"stroke: rgb(51, 51, 51); stroke-opacity: 1; stroke-width: 1px;\"/><path class=\"ytick ticks crisp\" d=\"M176,0h-5\" transform=\"translate(0,220)\" style=\"stroke: rgb(51, 51, 51); stroke-opacity: 1; stroke-width: 1px;\"/><path class=\"ytick ticks crisp\" d=\"M176,0h-5\" transform=\"translate(0,140)\" style=\"stroke: rgb(51, 51, 51); stroke-opacity: 1; stroke-width: 1px;\"/><g class=\"ytick\"><text text-anchor=\"end\" x=\"168.6\" y=\"4.199999999999999\" transform=\"translate(0,380)\" style=\"font-family: 'Open Sans', verdana, arial, sans-serif; font-size: 12px; fill: rgb(51, 51, 51); fill-opacity: 1; white-space: pre; opacity: 1;\">PaymentScreenSuccessful</text></g><g class=\"ytick\"><text text-anchor=\"end\" x=\"168.6\" y=\"4.199999999999999\" transform=\"translate(0,300)\" style=\"font-family: 'Open Sans', verdana, arial, sans-serif; font-size: 12px; fill: rgb(51, 51, 51); fill-opacity: 1; white-space: pre; opacity: 1;\">CartScreenAppear</text></g><g class=\"ytick\"><text text-anchor=\"end\" x=\"168.6\" y=\"4.199999999999999\" transform=\"translate(0,220)\" style=\"font-family: 'Open Sans', verdana, arial, sans-serif; font-size: 12px; fill: rgb(51, 51, 51); fill-opacity: 1; white-space: pre; opacity: 1;\">OffersScreenAppear</text></g><g class=\"ytick\"><text text-anchor=\"end\" x=\"168.6\" y=\"4.199999999999999\" transform=\"translate(0,140)\" style=\"font-family: 'Open Sans', verdana, arial, sans-serif; font-size: 12px; fill: rgb(51, 51, 51); fill-opacity: 1; white-space: pre; opacity: 1;\">MainScreenAppear</text></g></g><g class=\"overaxes-above\"/></g></g><g class=\"polarlayer\"/><g class=\"smithlayer\"/><g class=\"ternarylayer\"/><g class=\"geolayer\"/><g class=\"funnelarealayer\"/><g class=\"pielayer\"/><g class=\"iciclelayer\"/><g class=\"treemaplayer\"/><g class=\"sunburstlayer\"/><g class=\"glimages\"/><defs id=\"topdefs-cd94fb\"><g class=\"clips\"/></defs><g class=\"layer-above\"><g class=\"imagelayer\"/><g class=\"shapelayer\"/></g><g class=\"infolayer\"><g class=\"g-gtitle\"><text class=\"gtitle\" x=\"385.00000000000006\" y=\"65\" text-anchor=\"middle\" dy=\"0.7em\" style=\"font-family: 'Open Sans', verdana, arial, sans-serif; font-size: 17px; fill: rgb(51, 51, 51); opacity: 1; font-weight: normal; white-space: pre;\">Количество и доля пользователей совершивших каждое действие</text></g><g class=\"g-ytitle\"/></g></svg>"
      ]
     },
     "metadata": {},
     "output_type": "display_data"
    }
   ],
   "source": [
    "fig = go.Figure( go.Funnel(\n",
    "        y=uniq_id_event_248[:4].index,\n",
    "        x=uniq_id_event_248['id'], \n",
    "    textposition = 'inside', \n",
    "    textinfo = \"value+percent previous+percent initial\",\n",
    "    marker = {\"color\": 'rgb(255,217,47)'}))\n",
    "    \n",
    "fig.update_layout(title={'text': \"Количество и доля пользователей совершивших каждое действие\", 'xanchor': 'center', 'y':0.87,\n",
    "        'x':0.55})\n",
    "fig.layout.template = 'ggplot2'\n",
    "fig.show(\"svg\")"
   ]
  },
  {
   "cell_type": "markdown",
   "metadata": {},
   "source": [
    "Проверим разницу между группами:"
   ]
  },
  {
   "cell_type": "code",
   "execution_count": 44,
   "metadata": {},
   "outputs": [
    {
     "data": {
      "text/html": [
       "<div>\n",
       "<style scoped>\n",
       "    .dataframe tbody tr th:only-of-type {\n",
       "        vertical-align: middle;\n",
       "    }\n",
       "\n",
       "    .dataframe tbody tr th {\n",
       "        vertical-align: top;\n",
       "    }\n",
       "\n",
       "    .dataframe thead th {\n",
       "        text-align: right;\n",
       "    }\n",
       "</style>\n",
       "<table border=\"1\" class=\"dataframe\">\n",
       "  <thead>\n",
       "    <tr style=\"text-align: right;\">\n",
       "      <th></th>\n",
       "      <th>id</th>\n",
       "    </tr>\n",
       "    <tr>\n",
       "      <th>event</th>\n",
       "      <th></th>\n",
       "    </tr>\n",
       "  </thead>\n",
       "  <tbody>\n",
       "    <tr>\n",
       "      <th>MainScreenAppear</th>\n",
       "      <td>101.06</td>\n",
       "    </tr>\n",
       "    <tr>\n",
       "      <th>OffersScreenAppear</th>\n",
       "      <td>98.57</td>\n",
       "    </tr>\n",
       "    <tr>\n",
       "      <th>CartScreenAppear</th>\n",
       "      <td>97.79</td>\n",
       "    </tr>\n",
       "    <tr>\n",
       "      <th>PaymentScreenSuccessful</th>\n",
       "      <td>96.50</td>\n",
       "    </tr>\n",
       "  </tbody>\n",
       "</table>\n",
       "</div>"
      ],
      "text/plain": [
       "                            id\n",
       "event                         \n",
       "MainScreenAppear        101.06\n",
       "OffersScreenAppear       98.57\n",
       "CartScreenAppear         97.79\n",
       "PaymentScreenSuccessful  96.50"
      ]
     },
     "execution_count": 44,
     "metadata": {},
     "output_type": "execute_result"
    }
   ],
   "source": [
    "(uniq_id_event_247.loc[:'PaymentScreenSuccessful','id'] / uniq_id_event_246.loc[:'PaymentScreenSuccessful','id'] * 100).to_frame()\n"
   ]
  },
  {
   "cell_type": "markdown",
   "metadata": {},
   "source": [
    "Критерии не идеальные, но приемлимые, особой разницы нет. Проверим нет ли пользователей, состоявших в обеих группах:"
   ]
  },
  {
   "cell_type": "code",
   "execution_count": 45,
   "metadata": {},
   "outputs": [
    {
     "data": {
      "text/html": [
       "<div>\n",
       "<style scoped>\n",
       "    .dataframe tbody tr th:only-of-type {\n",
       "        vertical-align: middle;\n",
       "    }\n",
       "\n",
       "    .dataframe tbody tr th {\n",
       "        vertical-align: top;\n",
       "    }\n",
       "\n",
       "    .dataframe thead th {\n",
       "        text-align: right;\n",
       "    }\n",
       "</style>\n",
       "<table border=\"1\" class=\"dataframe\">\n",
       "  <thead>\n",
       "    <tr style=\"text-align: right;\">\n",
       "      <th></th>\n",
       "      <th>id</th>\n",
       "      <th>exp_id</th>\n",
       "    </tr>\n",
       "  </thead>\n",
       "  <tbody>\n",
       "  </tbody>\n",
       "</table>\n",
       "</div>"
      ],
      "text/plain": [
       "Empty DataFrame\n",
       "Columns: [id, exp_id]\n",
       "Index: []"
      ]
     },
     "execution_count": 45,
     "metadata": {},
     "output_type": "execute_result"
    }
   ],
   "source": [
    "filt_logs_exp.groupby('id').agg({'exp_id':'nunique'}).reset_index().query('exp_id >=2')"
   ]
  },
  {
   "cell_type": "markdown",
   "metadata": {},
   "source": [
    "Таких пользователей нет."
   ]
  },
  {
   "cell_type": "code",
   "execution_count": 46,
   "metadata": {},
   "outputs": [
    {
     "name": "stdout",
     "output_type": "stream",
     "text": [
      "Количество пользователей, состоящие в обеих группах - 0\n"
     ]
    }
   ],
   "source": [
    "print('Количество пользователей, состоящие в обеих группах - {}'.format(filt_logs_exp.groupby('id').agg({'exp_id':'nunique'}).reset_index().query('exp_id >=2')['exp_id'].count()))"
   ]
  },
  {
   "cell_type": "markdown",
   "metadata": {},
   "source": [
    "### 5.3 Выберите самое популярное событие. Посчитайте число пользователей, совершивших это событие в каждой из контрольных групп. Посчитайте долю пользователей, совершивших это событие. Проверьте, будет ли отличие между группами статистически достоверным. Проделайте то же самое для всех других событий (удобно обернуть проверку в отдельную функцию). Можно ли сказать, что разбиение на группы работает корректно?"
   ]
  },
  {
   "cell_type": "markdown",
   "metadata": {},
   "source": [
    "Посмотрим сколько уникальных пользователей совершили каждое событие в каждой из групп:"
   ]
  },
  {
   "cell_type": "code",
   "execution_count": 47,
   "metadata": {},
   "outputs": [
    {
     "data": {
      "text/html": [
       "<div>\n",
       "<style scoped>\n",
       "    .dataframe tbody tr th:only-of-type {\n",
       "        vertical-align: middle;\n",
       "    }\n",
       "\n",
       "    .dataframe tbody tr th {\n",
       "        vertical-align: top;\n",
       "    }\n",
       "\n",
       "    .dataframe thead th {\n",
       "        text-align: right;\n",
       "    }\n",
       "</style>\n",
       "<table border=\"1\" class=\"dataframe\">\n",
       "  <thead>\n",
       "    <tr style=\"text-align: right;\">\n",
       "      <th>event</th>\n",
       "      <th>CartScreenAppear</th>\n",
       "      <th>MainScreenAppear</th>\n",
       "      <th>OffersScreenAppear</th>\n",
       "      <th>PaymentScreenSuccessful</th>\n",
       "    </tr>\n",
       "    <tr>\n",
       "      <th>exp_id</th>\n",
       "      <th></th>\n",
       "      <th></th>\n",
       "      <th></th>\n",
       "      <th></th>\n",
       "    </tr>\n",
       "  </thead>\n",
       "  <tbody>\n",
       "    <tr>\n",
       "      <th>246</th>\n",
       "      <td>1266</td>\n",
       "      <td>2450</td>\n",
       "      <td>1542</td>\n",
       "      <td>1200</td>\n",
       "    </tr>\n",
       "    <tr>\n",
       "      <th>247</th>\n",
       "      <td>1238</td>\n",
       "      <td>2476</td>\n",
       "      <td>1520</td>\n",
       "      <td>1158</td>\n",
       "    </tr>\n",
       "    <tr>\n",
       "      <th>248</th>\n",
       "      <td>1230</td>\n",
       "      <td>2493</td>\n",
       "      <td>1531</td>\n",
       "      <td>1181</td>\n",
       "    </tr>\n",
       "  </tbody>\n",
       "</table>\n",
       "</div>"
      ],
      "text/plain": [
       "event   CartScreenAppear  MainScreenAppear  OffersScreenAppear  \\\n",
       "exp_id                                                           \n",
       "246                 1266              2450                1542   \n",
       "247                 1238              2476                1520   \n",
       "248                 1230              2493                1531   \n",
       "\n",
       "event   PaymentScreenSuccessful  \n",
       "exp_id                           \n",
       "246                        1200  \n",
       "247                        1158  \n",
       "248                        1181  "
      ]
     },
     "execution_count": 47,
     "metadata": {},
     "output_type": "execute_result"
    }
   ],
   "source": [
    "exp_ev_nun = filt_logs_exp.pivot_table(index = 'exp_id', columns ='event', values = 'id', aggfunc = 'nunique')\n",
    "del exp_ev_nun['Tutorial']\n",
    "exp_ev_nun"
   ]
  },
  {
   "cell_type": "markdown",
   "metadata": {},
   "source": [
    "Как можно заметить самое популярное событие это - переход на главный экран."
   ]
  },
  {
   "cell_type": "markdown",
   "metadata": {},
   "source": [
    "Объединим с количеством уникальных id для каждой из групп:"
   ]
  },
  {
   "cell_type": "code",
   "execution_count": 48,
   "metadata": {},
   "outputs": [
    {
     "data": {
      "text/html": [
       "<div>\n",
       "<style scoped>\n",
       "    .dataframe tbody tr th:only-of-type {\n",
       "        vertical-align: middle;\n",
       "    }\n",
       "\n",
       "    .dataframe tbody tr th {\n",
       "        vertical-align: top;\n",
       "    }\n",
       "\n",
       "    .dataframe thead th {\n",
       "        text-align: right;\n",
       "    }\n",
       "</style>\n",
       "<table border=\"1\" class=\"dataframe\">\n",
       "  <thead>\n",
       "    <tr style=\"text-align: right;\">\n",
       "      <th></th>\n",
       "      <th>CartScreenAppear</th>\n",
       "      <th>MainScreenAppear</th>\n",
       "      <th>OffersScreenAppear</th>\n",
       "      <th>PaymentScreenSuccessful</th>\n",
       "      <th>id</th>\n",
       "    </tr>\n",
       "    <tr>\n",
       "      <th>exp_id</th>\n",
       "      <th></th>\n",
       "      <th></th>\n",
       "      <th></th>\n",
       "      <th></th>\n",
       "      <th></th>\n",
       "    </tr>\n",
       "  </thead>\n",
       "  <tbody>\n",
       "    <tr>\n",
       "      <th>246</th>\n",
       "      <td>1266</td>\n",
       "      <td>2450</td>\n",
       "      <td>1542</td>\n",
       "      <td>1200</td>\n",
       "      <td>2484</td>\n",
       "    </tr>\n",
       "    <tr>\n",
       "      <th>247</th>\n",
       "      <td>1238</td>\n",
       "      <td>2476</td>\n",
       "      <td>1520</td>\n",
       "      <td>1158</td>\n",
       "      <td>2513</td>\n",
       "    </tr>\n",
       "    <tr>\n",
       "      <th>248</th>\n",
       "      <td>1230</td>\n",
       "      <td>2493</td>\n",
       "      <td>1531</td>\n",
       "      <td>1181</td>\n",
       "      <td>2537</td>\n",
       "    </tr>\n",
       "  </tbody>\n",
       "</table>\n",
       "</div>"
      ],
      "text/plain": [
       "        CartScreenAppear  MainScreenAppear  OffersScreenAppear  \\\n",
       "exp_id                                                           \n",
       "246                 1266              2450                1542   \n",
       "247                 1238              2476                1520   \n",
       "248                 1230              2493                1531   \n",
       "\n",
       "        PaymentScreenSuccessful    id  \n",
       "exp_id                                 \n",
       "246                        1200  2484  \n",
       "247                        1158  2513  \n",
       "248                        1181  2537  "
      ]
     },
     "execution_count": 48,
     "metadata": {},
     "output_type": "execute_result"
    }
   ],
   "source": [
    "exp_ev_nun = pd.merge(exp_ev_nun, exp_nun, on = 'exp_id')\n",
    "exp_ev_nun"
   ]
  },
  {
   "cell_type": "markdown",
   "metadata": {},
   "source": [
    "Добавим строку с суммой групп 246 и 247 :"
   ]
  },
  {
   "cell_type": "code",
   "execution_count": 49,
   "metadata": {},
   "outputs": [],
   "source": [
    "exp_ev_nun.loc['total(246+247)'] = (exp_ev_nun.eval(exp_ev_nun.loc[246] + exp_ev_nun.loc[247]))"
   ]
  },
  {
   "cell_type": "markdown",
   "metadata": {},
   "source": [
    "Посмотрим на итоговую таблицу:"
   ]
  },
  {
   "cell_type": "code",
   "execution_count": 50,
   "metadata": {},
   "outputs": [
    {
     "data": {
      "text/html": [
       "<div>\n",
       "<style scoped>\n",
       "    .dataframe tbody tr th:only-of-type {\n",
       "        vertical-align: middle;\n",
       "    }\n",
       "\n",
       "    .dataframe tbody tr th {\n",
       "        vertical-align: top;\n",
       "    }\n",
       "\n",
       "    .dataframe thead th {\n",
       "        text-align: right;\n",
       "    }\n",
       "</style>\n",
       "<table border=\"1\" class=\"dataframe\">\n",
       "  <thead>\n",
       "    <tr style=\"text-align: right;\">\n",
       "      <th></th>\n",
       "      <th>CartScreenAppear</th>\n",
       "      <th>MainScreenAppear</th>\n",
       "      <th>OffersScreenAppear</th>\n",
       "      <th>PaymentScreenSuccessful</th>\n",
       "      <th>id</th>\n",
       "    </tr>\n",
       "    <tr>\n",
       "      <th>exp_id</th>\n",
       "      <th></th>\n",
       "      <th></th>\n",
       "      <th></th>\n",
       "      <th></th>\n",
       "      <th></th>\n",
       "    </tr>\n",
       "  </thead>\n",
       "  <tbody>\n",
       "    <tr>\n",
       "      <th>246</th>\n",
       "      <td>1266</td>\n",
       "      <td>2450</td>\n",
       "      <td>1542</td>\n",
       "      <td>1200</td>\n",
       "      <td>2484</td>\n",
       "    </tr>\n",
       "    <tr>\n",
       "      <th>247</th>\n",
       "      <td>1238</td>\n",
       "      <td>2476</td>\n",
       "      <td>1520</td>\n",
       "      <td>1158</td>\n",
       "      <td>2513</td>\n",
       "    </tr>\n",
       "    <tr>\n",
       "      <th>248</th>\n",
       "      <td>1230</td>\n",
       "      <td>2493</td>\n",
       "      <td>1531</td>\n",
       "      <td>1181</td>\n",
       "      <td>2537</td>\n",
       "    </tr>\n",
       "    <tr>\n",
       "      <th>total(246+247)</th>\n",
       "      <td>2504</td>\n",
       "      <td>4926</td>\n",
       "      <td>3062</td>\n",
       "      <td>2358</td>\n",
       "      <td>4997</td>\n",
       "    </tr>\n",
       "  </tbody>\n",
       "</table>\n",
       "</div>"
      ],
      "text/plain": [
       "                CartScreenAppear  MainScreenAppear  OffersScreenAppear  \\\n",
       "exp_id                                                                   \n",
       "246                         1266              2450                1542   \n",
       "247                         1238              2476                1520   \n",
       "248                         1230              2493                1531   \n",
       "total(246+247)              2504              4926                3062   \n",
       "\n",
       "                PaymentScreenSuccessful    id  \n",
       "exp_id                                         \n",
       "246                                1200  2484  \n",
       "247                                1158  2513  \n",
       "248                                1181  2537  \n",
       "total(246+247)                     2358  4997  "
      ]
     },
     "execution_count": 50,
     "metadata": {},
     "output_type": "execute_result"
    }
   ],
   "source": [
    "exp_ev_nun"
   ]
  },
  {
   "cell_type": "markdown",
   "metadata": {},
   "source": [
    "Для начала создадим функцию для Z-теста:"
   ]
  },
  {
   "cell_type": "code",
   "execution_count": 51,
   "metadata": {},
   "outputs": [],
   "source": [
    "def z_test(exp1, exp2, event, alpha): \n",
    "    p1_ev = exp_ev_nun.loc[exp1, event]\n",
    "    p2_ev = exp_ev_nun.loc[exp2, event] \n",
    "    p1_us = exp_ev_nun.loc[exp1, 'id'] \n",
    "    p2_us = exp_ev_nun.loc[exp2, 'id'] \n",
    "    p1 = p1_ev / p1_us \n",
    "    p2 = p2_ev / p2_us \n",
    "    difference = p1 - p2\n",
    "    p_combined = (p1_ev + p2_ev) / (p1_us + p2_us) \n",
    "    z_value = difference / mth.sqrt(p_combined * (1 - p_combined) * (1 / p1_us + 1 / p2_us))\n",
    "    distr = st.norm(0, 1)\n",
    "    p_value = (1 - distr.cdf(abs(z_value))) * 2\n",
    "    print('Проверка для  {} и {}, событие: {}, p-значение: {p_value:.2f}'.format(exp1, exp2, event, p_value=p_value))\n",
    "    if (p_value < alpha):\n",
    "        print(\"Отвергаем нулевую гипотезу\")\n",
    "    else:\n",
    "        print(\"Не получилось отвергнуть нулевую гипотезу\")"
   ]
  },
  {
   "cell_type": "markdown",
   "metadata": {},
   "source": [
    "Нулевой гипотезой будет являться то, что между группами нет статистически значимой разницы, в то время как альтернативная будет выражать то, что разница статистическая присуствует. Уровень alpha зададим как 5%. Проверим гипотезы:"
   ]
  },
  {
   "cell_type": "code",
   "execution_count": 52,
   "metadata": {
    "scrolled": true
   },
   "outputs": [
    {
     "name": "stdout",
     "output_type": "stream",
     "text": [
      "Проверка для  246 и 247, событие: CartScreenAppear, p-значение: 0.23\n",
      "Не получилось отвергнуть нулевую гипотезу\n",
      "\n",
      "Проверка для  246 и 247, событие: MainScreenAppear, p-значение: 0.76\n",
      "Не получилось отвергнуть нулевую гипотезу\n",
      "\n",
      "Проверка для  246 и 247, событие: OffersScreenAppear, p-значение: 0.25\n",
      "Не получилось отвергнуть нулевую гипотезу\n",
      "\n",
      "Проверка для  246 и 247, событие: PaymentScreenSuccessful, p-значение: 0.11\n",
      "Не получилось отвергнуть нулевую гипотезу\n",
      "\n"
     ]
    }
   ],
   "source": [
    "for event in exp_ev_nun:\n",
    "    if event != 'id':\n",
    "        z_test(246, 247, event, 0.05)\n",
    "        print()"
   ]
  },
  {
   "cell_type": "markdown",
   "metadata": {},
   "source": [
    "Таким образм нулевую гипотезу не отвергаем ни по одному из событий. A/A тест проведен корреектно."
   ]
  },
  {
   "cell_type": "markdown",
   "metadata": {},
   "source": [
    "### 5.4 Аналогично поступите с группой с изменённым шрифтом. Сравните результаты с каждой из контрольных групп в отдельности по каждому событию. Сравните результаты с объединённой контрольной группой. Какие выводы из эксперимента можно сделать?"
   ]
  },
  {
   "cell_type": "markdown",
   "metadata": {},
   "source": [
    "Теперь проведем A/B тест и включим объединение контрольных групп(246 и 247) к экппериментальной(248) группе. Нулевой гипотезой будет являться то, что между группами нет статистически значимой разницы, в то время как альтернативная будет выражать то, что разница статистическая присутствует. Уровень alpha зададим как 5%. Проверим гипотезы для **246 и 248 группами**:"
   ]
  },
  {
   "cell_type": "code",
   "execution_count": 53,
   "metadata": {},
   "outputs": [
    {
     "name": "stdout",
     "output_type": "stream",
     "text": [
      "Проверка для  246 и 248, событие: CartScreenAppear, p-значение: 0.08\n",
      "Не получилось отвергнуть нулевую гипотезу\n",
      "\n",
      "Проверка для  246 и 248, событие: MainScreenAppear, p-значение: 0.29\n",
      "Не получилось отвергнуть нулевую гипотезу\n",
      "\n",
      "Проверка для  246 и 248, событие: OffersScreenAppear, p-значение: 0.21\n",
      "Не получилось отвергнуть нулевую гипотезу\n",
      "\n",
      "Проверка для  246 и 248, событие: PaymentScreenSuccessful, p-значение: 0.21\n",
      "Не получилось отвергнуть нулевую гипотезу\n",
      "\n"
     ]
    }
   ],
   "source": [
    "for event in exp_ev_nun:\n",
    "    if event != 'id':\n",
    "        z_test(246, 248, event, 0.05)\n",
    "        print()"
   ]
  },
  {
   "cell_type": "markdown",
   "metadata": {},
   "source": [
    "Нулевую гипотезу не отвергаем ни по одному из событий между **группами 246 и 248**."
   ]
  },
  {
   "cell_type": "markdown",
   "metadata": {},
   "source": [
    "Проверим гипотезы для **247 и 248 группами:**"
   ]
  },
  {
   "cell_type": "code",
   "execution_count": 54,
   "metadata": {},
   "outputs": [
    {
     "name": "stdout",
     "output_type": "stream",
     "text": [
      "Проверка для  247 и 248, событие: CartScreenAppear, p-значение: 0.58\n",
      "Не получилось отвергнуть нулевую гипотезу\n",
      "\n",
      "Проверка для  247 и 248, событие: MainScreenAppear, p-значение: 0.46\n",
      "Не получилось отвергнуть нулевую гипотезу\n",
      "\n",
      "Проверка для  247 и 248, событие: OffersScreenAppear, p-значение: 0.92\n",
      "Не получилось отвергнуть нулевую гипотезу\n",
      "\n",
      "Проверка для  247 и 248, событие: PaymentScreenSuccessful, p-значение: 0.74\n",
      "Не получилось отвергнуть нулевую гипотезу\n",
      "\n"
     ]
    }
   ],
   "source": [
    "for event in exp_ev_nun:\n",
    "    if event != 'id':\n",
    "        z_test(247, 248, event, 0.05)\n",
    "        print()"
   ]
  },
  {
   "cell_type": "markdown",
   "metadata": {},
   "source": [
    "Нулевую гипотезу не отвергаем ни по одному из событий между **группами 247 и 248.**"
   ]
  },
  {
   "cell_type": "markdown",
   "metadata": {},
   "source": [
    "Проверим гипотезы для **контрольных групп(246 и 247) к экппериментальной(248) группе:**"
   ]
  },
  {
   "cell_type": "code",
   "execution_count": 55,
   "metadata": {},
   "outputs": [
    {
     "name": "stdout",
     "output_type": "stream",
     "text": [
      "Проверка для  total(246+247) и 248, событие: CartScreenAppear, p-значение: 0.18\n",
      "Не получилось отвергнуть нулевую гипотезу\n",
      "\n",
      "Проверка для  total(246+247) и 248, событие: MainScreenAppear, p-значение: 0.29\n",
      "Не получилось отвергнуть нулевую гипотезу\n",
      "\n",
      "Проверка для  total(246+247) и 248, событие: OffersScreenAppear, p-значение: 0.43\n",
      "Не получилось отвергнуть нулевую гипотезу\n",
      "\n",
      "Проверка для  total(246+247) и 248, событие: PaymentScreenSuccessful, p-значение: 0.60\n",
      "Не получилось отвергнуть нулевую гипотезу\n",
      "\n"
     ]
    }
   ],
   "source": [
    "for event in exp_ev_nun:\n",
    "    if event != 'id':\n",
    "        z_test('total(246+247)', 248, event, 0.05)\n",
    "        print()"
   ]
  },
  {
   "cell_type": "markdown",
   "metadata": {},
   "source": [
    "Нулевую гипотезу не отвергаем ни по одному из событий между событями для **контрольных групп(246 и 247) к экппериментальной(248) группе.**"
   ]
  },
  {
   "cell_type": "markdown",
   "metadata": {},
   "source": [
    "### 5.5 Выводы"
   ]
  },
  {
   "cell_type": "markdown",
   "metadata": {},
   "source": [
    "Мы провели множественный тест,4 A/A теста и 12 A/B тестов, брали несколько выборок из одного и того же набора данных. Особенность его заключается в том, что с каждой новой проверкой гипотезы растёт вероятность ошибки первого рода. В связи с этим мы должны скорректировать наши конечные p_value для сравнения их значений с alpha, но в этом нет необходимости, т.к. ни по одному из проведенных сравнений не обнаружилось статистически значимых различий.\n",
    "\n",
    "**Решение**: Нет нужды продолжать тест, эксперимент с внедрением нового шрифта эффекта не дал ни в положительную, ни в отрицательную сторону."
   ]
  },
  {
   "cell_type": "markdown",
   "metadata": {},
   "source": [
    "## Этап 6. Общий вывод"
   ]
  },
  {
   "cell_type": "markdown",
   "metadata": {},
   "source": [
    "Перед нами стояла задача разобраться как ведут себя пользователи мобильного приложения, который продает продукты питания и является стартапом. В нашем распоряжении был датасет с данными о действиях пользователей за 2 недели.\n",
    "\n",
    "В процессе предобратки убедились, что в датасете нет отсутсвующих значений, помимо этого были изменены названия столбцов для удобства в работе, добавлены два столбца с датой и временем и отдельно с датой, также были удалены дубликаты из имеющихся данных.\n",
    "\n",
    "Следующим этапом являлось - изучение и проверки данных, в ходе которых было выявлено:\n",
    "* В логе содержатся 243713 событий\n",
    "* В логе содержатся данные 7551 пользователей\n",
    "* В среднем на пользователя приходится 32 события\n",
    "* Данные предоставлены с 2019-07-25 04:43:36 по 2019-08-07 21:15:17 число\n",
    "* Полные данные имеются с 2019-08-01, за одну неделю\n",
    "* Отбросив старые данные потеряли 2826 событий, в процентном соотношении 1.16%\n",
    "* Отбросив старые данные потеряли данные 17 пользователей, в процентном соотношении 0.23%\n",
    "* Для 246 группы имеется 2484 уникальных пользователя, для 247 группы - 2513 пользователя, для 248 группы - 2537 пользователя\n",
    "* Для 246 группы имеется 79302 события, для 247 группы - 77022 события, для 248 группы - 84563 события.\n",
    "\n",
    "После была изучена воронка событий и здесь было выявлено следующее:\n",
    "* Имеются 5 групп событий:\n",
    "1. MainScreenAppear - Переход на главный экран, встречается 117328 раз\n",
    "2. OffersScreenAppear - Появление экрана с предложениями, встречается 46333 раз\n",
    "3. CartScreenAppear - Переход на экран с корзиной, встречается 42393 раз\n",
    "4. PaymentScreenSuccessful - Экран с успешной оплатой, встречается 33918 раз\n",
    "5. Tutorial - Руководство, встречается 1005 раз\n",
    "* Для данных событий была составлена воронка событий, которая показала:\n",
    "1. Начальной точкой будет являться - Посещение главное экрана(**MainScreenAppear**), в котором присутствует 7419 уникальных пользователей, доля которых изначально 100%. \n",
    "2. Второй этап - Появление экрана с предложениями(**OffersScreenAppear**) встречается 4593 раз и доля от предыдущего, первого этапа составляет 62%.\n",
    "3. Третий этап - Переход в корзину(**CartScreenAppear**) встречается 3734 раз и доля от предыдущего, второго этапа составляет 81%.\n",
    "4. Четвертый этап - Экран с успешной оплатой(**PaymentScreenSuccessful**) встречается 3539 раз и доля от прудыдущего , третьего этапа составояет 95%. \n",
    "* Основная доля пользователей терятся после перехода на главное меню.\n",
    "* От первого этапа до момента успешной оплаты доходят 48% пользователей.\n",
    "\n",
    "Последним шагом было изучение экпериментов, в ходе которого мы выявили:\n",
    "* В каждой группе примерно равное количество уникальных пользователей.\n",
    "* Нет статистически значимых различий при A/A теста, нулевая гипотеза не отвергнута.\n",
    "* Самое популярное действие - переход на главный экран\n",
    "* Нулевую гипотезу не отвергаем ни по одному из событий между группами 246 и 248.\n",
    "* Нулевую гипотезу не отвергаем ни по одному из событий между группами 247 и 248.\n",
    "* Нулевую гипотезу не отвергаем ни по одному из событий между событями для контрольных групп(246 и 247) к экппериментальной(248) группе.\n",
    "\n",
    "Решение: Нет нужды продолжать тест, эксперимент с внедрением нового шрифта эффекта не дал ни в положительную, ни в отрицательную сторону.\n",
    "\n",
    "*Примечание: Требуются более качественные данные, так как имелись дубликаты и полные данные предлагались лишь за неделю.*"
   ]
  }
 ],
 "metadata": {
  "ExecuteTimeLog": [
   {
    "duration": 2302,
    "start_time": "2021-12-14T07:50:17.282Z"
   },
   {
    "duration": 4,
    "start_time": "2021-12-14T07:55:36.676Z"
   },
   {
    "duration": 2014,
    "start_time": "2021-12-15T07:40:28.245Z"
   },
   {
    "duration": 317,
    "start_time": "2021-12-15T07:42:17.912Z"
   },
   {
    "duration": 21,
    "start_time": "2021-12-15T07:43:10.231Z"
   },
   {
    "duration": 185,
    "start_time": "2021-12-15T07:43:31.758Z"
   },
   {
    "duration": 19,
    "start_time": "2021-12-15T07:43:32.920Z"
   },
   {
    "duration": 99,
    "start_time": "2021-12-15T07:59:39.272Z"
   },
   {
    "duration": 21,
    "start_time": "2021-12-15T07:59:45.121Z"
   },
   {
    "duration": 18,
    "start_time": "2021-12-15T08:15:25.875Z"
   },
   {
    "duration": 22,
    "start_time": "2021-12-15T19:24:57.465Z"
   },
   {
    "duration": 19,
    "start_time": "2021-12-15T19:25:02.414Z"
   },
   {
    "duration": 68,
    "start_time": "2021-12-15T19:27:25.739Z"
   },
   {
    "duration": 309,
    "start_time": "2021-12-16T07:56:56.853Z"
   },
   {
    "duration": 1435,
    "start_time": "2021-12-16T07:57:02.585Z"
   },
   {
    "duration": 472,
    "start_time": "2021-12-16T07:57:04.022Z"
   },
   {
    "duration": 432,
    "start_time": "2021-12-16T07:57:04.067Z"
   },
   {
    "duration": 431,
    "start_time": "2021-12-16T07:57:04.069Z"
   },
   {
    "duration": 432,
    "start_time": "2021-12-16T07:57:04.070Z"
   },
   {
    "duration": 1445,
    "start_time": "2021-12-16T07:57:24.887Z"
   },
   {
    "duration": 116,
    "start_time": "2021-12-16T07:57:26.334Z"
   },
   {
    "duration": 15,
    "start_time": "2021-12-16T07:57:26.454Z"
   },
   {
    "duration": 15,
    "start_time": "2021-12-16T07:57:26.471Z"
   },
   {
    "duration": 77,
    "start_time": "2021-12-16T07:57:26.488Z"
   },
   {
    "duration": 49,
    "start_time": "2021-12-16T07:57:26.566Z"
   },
   {
    "duration": 51,
    "start_time": "2021-12-16T07:57:40.862Z"
   },
   {
    "duration": 28,
    "start_time": "2021-12-16T07:57:50.426Z"
   },
   {
    "duration": 24,
    "start_time": "2021-12-16T07:58:08.168Z"
   },
   {
    "duration": 40,
    "start_time": "2021-12-16T08:06:52.173Z"
   },
   {
    "duration": 60,
    "start_time": "2021-12-16T08:07:04.607Z"
   },
   {
    "duration": 1475,
    "start_time": "2021-12-16T08:22:24.458Z"
   },
   {
    "duration": 699,
    "start_time": "2021-12-16T08:22:25.935Z"
   },
   {
    "duration": 15,
    "start_time": "2021-12-16T08:22:26.637Z"
   },
   {
    "duration": 32,
    "start_time": "2021-12-16T08:22:26.654Z"
   },
   {
    "duration": 65,
    "start_time": "2021-12-16T08:22:26.688Z"
   },
   {
    "duration": 18,
    "start_time": "2021-12-16T08:25:57.220Z"
   },
   {
    "duration": 11,
    "start_time": "2021-12-16T08:26:04.437Z"
   },
   {
    "duration": 3,
    "start_time": "2021-12-16T08:28:53.265Z"
   },
   {
    "duration": 9,
    "start_time": "2021-12-16T08:28:54.356Z"
   },
   {
    "duration": 7,
    "start_time": "2021-12-16T08:31:51.007Z"
   },
   {
    "duration": 2402,
    "start_time": "2021-12-16T08:35:39.874Z"
   },
   {
    "duration": 122,
    "start_time": "2021-12-16T08:35:42.278Z"
   },
   {
    "duration": 17,
    "start_time": "2021-12-16T08:35:42.403Z"
   },
   {
    "duration": 26,
    "start_time": "2021-12-16T08:35:42.422Z"
   },
   {
    "duration": 107,
    "start_time": "2021-12-16T08:35:42.449Z"
   },
   {
    "duration": 204,
    "start_time": "2021-12-16T08:35:42.354Z"
   },
   {
    "duration": 203,
    "start_time": "2021-12-16T08:35:42.356Z"
   },
   {
    "duration": 51,
    "start_time": "2021-12-16T08:35:52.455Z"
   },
   {
    "duration": 3,
    "start_time": "2021-12-16T08:35:55.844Z"
   },
   {
    "duration": 7,
    "start_time": "2021-12-16T08:35:56.600Z"
   },
   {
    "duration": 379,
    "start_time": "2021-12-16T08:38:36.271Z"
   },
   {
    "duration": 37,
    "start_time": "2021-12-16T08:38:51.961Z"
   },
   {
    "duration": 12,
    "start_time": "2021-12-16T08:38:54.226Z"
   },
   {
    "duration": 7,
    "start_time": "2021-12-16T08:39:30.180Z"
   },
   {
    "duration": 12,
    "start_time": "2021-12-16T08:39:30.897Z"
   },
   {
    "duration": 1545,
    "start_time": "2021-12-16T08:40:02.707Z"
   },
   {
    "duration": 127,
    "start_time": "2021-12-16T08:40:04.254Z"
   },
   {
    "duration": 17,
    "start_time": "2021-12-16T08:40:04.383Z"
   },
   {
    "duration": 18,
    "start_time": "2021-12-16T08:40:04.402Z"
   },
   {
    "duration": 76,
    "start_time": "2021-12-16T08:40:04.422Z"
   },
   {
    "duration": 3,
    "start_time": "2021-12-16T08:40:04.500Z"
   },
   {
    "duration": 15,
    "start_time": "2021-12-16T08:40:04.504Z"
   },
   {
    "duration": 13,
    "start_time": "2021-12-16T08:40:04.521Z"
   },
   {
    "duration": 13,
    "start_time": "2021-12-16T08:40:04.545Z"
   },
   {
    "duration": 1451,
    "start_time": "2021-12-16T09:01:47.491Z"
   },
   {
    "duration": 124,
    "start_time": "2021-12-16T09:01:48.944Z"
   },
   {
    "duration": 19,
    "start_time": "2021-12-16T09:01:49.073Z"
   },
   {
    "duration": 29,
    "start_time": "2021-12-16T09:01:49.094Z"
   },
   {
    "duration": 66,
    "start_time": "2021-12-16T09:01:49.125Z"
   },
   {
    "duration": 4,
    "start_time": "2021-12-16T09:01:49.193Z"
   },
   {
    "duration": 24,
    "start_time": "2021-12-16T09:01:49.199Z"
   },
   {
    "duration": 19,
    "start_time": "2021-12-16T09:01:49.226Z"
   },
   {
    "duration": 28,
    "start_time": "2021-12-16T09:01:49.247Z"
   },
   {
    "duration": 3,
    "start_time": "2021-12-16T09:14:38.584Z"
   },
   {
    "duration": 1488,
    "start_time": "2021-12-16T09:14:48.194Z"
   },
   {
    "duration": 129,
    "start_time": "2021-12-16T09:14:49.684Z"
   },
   {
    "duration": 19,
    "start_time": "2021-12-16T09:14:49.815Z"
   },
   {
    "duration": 23,
    "start_time": "2021-12-16T09:14:49.836Z"
   },
   {
    "duration": 54,
    "start_time": "2021-12-16T09:14:49.861Z"
   },
   {
    "duration": 28,
    "start_time": "2021-12-16T09:14:49.917Z"
   },
   {
    "duration": 10,
    "start_time": "2021-12-16T09:14:49.948Z"
   },
   {
    "duration": 7427,
    "start_time": "2021-12-16T09:14:49.960Z"
   },
   {
    "duration": 78,
    "start_time": "2021-12-16T09:14:57.311Z"
   },
   {
    "duration": 7862,
    "start_time": "2021-12-16T09:15:02.515Z"
   },
   {
    "duration": 118,
    "start_time": "2021-12-16T09:15:10.261Z"
   },
   {
    "duration": 8,
    "start_time": "2021-12-16T09:15:12.221Z"
   },
   {
    "duration": 13,
    "start_time": "2021-12-16T09:15:12.846Z"
   },
   {
    "duration": 7,
    "start_time": "2021-12-16T09:16:01.156Z"
   },
   {
    "duration": 35,
    "start_time": "2021-12-16T09:19:05.011Z"
   },
   {
    "duration": 14,
    "start_time": "2021-12-16T09:19:05.504Z"
   },
   {
    "duration": 29,
    "start_time": "2021-12-16T09:19:24.447Z"
   },
   {
    "duration": 15,
    "start_time": "2021-12-16T09:19:25.115Z"
   },
   {
    "duration": 80,
    "start_time": "2021-12-16T09:19:40.708Z"
   },
   {
    "duration": 15,
    "start_time": "2021-12-16T09:19:41.258Z"
   },
   {
    "duration": 1543,
    "start_time": "2021-12-16T09:20:24.517Z"
   },
   {
    "duration": 130,
    "start_time": "2021-12-16T09:20:26.062Z"
   },
   {
    "duration": 16,
    "start_time": "2021-12-16T09:20:26.194Z"
   },
   {
    "duration": 31,
    "start_time": "2021-12-16T09:20:26.212Z"
   },
   {
    "duration": 55,
    "start_time": "2021-12-16T09:20:26.245Z"
   },
   {
    "duration": 3,
    "start_time": "2021-12-16T09:20:26.302Z"
   },
   {
    "duration": 14,
    "start_time": "2021-12-16T09:20:26.306Z"
   },
   {
    "duration": 100,
    "start_time": "2021-12-16T09:20:26.321Z"
   },
   {
    "duration": 23,
    "start_time": "2021-12-16T09:20:26.423Z"
   },
   {
    "duration": 10,
    "start_time": "2021-12-16T09:21:13.525Z"
   },
   {
    "duration": 116,
    "start_time": "2021-12-16T09:26:53.689Z"
   },
   {
    "duration": 24,
    "start_time": "2021-12-16T09:27:08.135Z"
   },
   {
    "duration": 72,
    "start_time": "2021-12-16T09:27:45.480Z"
   },
   {
    "duration": 25,
    "start_time": "2021-12-16T09:35:19.631Z"
   },
   {
    "duration": 457,
    "start_time": "2021-12-16T09:35:51.371Z"
   },
   {
    "duration": 12,
    "start_time": "2021-12-16T09:35:57.303Z"
   },
   {
    "duration": 25,
    "start_time": "2021-12-16T09:36:02.006Z"
   },
   {
    "duration": 12,
    "start_time": "2021-12-16T09:36:44.954Z"
   },
   {
    "duration": 12,
    "start_time": "2021-12-16T09:38:24.686Z"
   },
   {
    "duration": 3,
    "start_time": "2021-12-16T09:40:55.261Z"
   },
   {
    "duration": 1507,
    "start_time": "2021-12-16T09:41:06.762Z"
   },
   {
    "duration": 138,
    "start_time": "2021-12-16T09:41:08.271Z"
   },
   {
    "duration": 22,
    "start_time": "2021-12-16T09:41:08.411Z"
   },
   {
    "duration": 27,
    "start_time": "2021-12-16T09:41:08.435Z"
   },
   {
    "duration": 55,
    "start_time": "2021-12-16T09:41:08.464Z"
   },
   {
    "duration": 24,
    "start_time": "2021-12-16T09:41:08.521Z"
   },
   {
    "duration": 9,
    "start_time": "2021-12-16T09:41:08.549Z"
   },
   {
    "duration": 100,
    "start_time": "2021-12-16T09:41:08.560Z"
   },
   {
    "duration": 11,
    "start_time": "2021-12-16T09:41:08.662Z"
   },
   {
    "duration": 141,
    "start_time": "2021-12-16T09:41:08.675Z"
   },
   {
    "duration": 91,
    "start_time": "2021-12-16T09:41:08.818Z"
   },
   {
    "duration": 3,
    "start_time": "2021-12-16T09:41:08.911Z"
   },
   {
    "duration": 95,
    "start_time": "2021-12-16T09:42:00.058Z"
   },
   {
    "duration": 6,
    "start_time": "2021-12-16T09:43:12.471Z"
   },
   {
    "duration": 109,
    "start_time": "2021-12-16T09:47:21.593Z"
   },
   {
    "duration": 5,
    "start_time": "2021-12-16T09:48:10.163Z"
   },
   {
    "duration": 6,
    "start_time": "2021-12-16T09:48:23.245Z"
   },
   {
    "duration": 120,
    "start_time": "2021-12-16T09:55:59.763Z"
   },
   {
    "duration": 18,
    "start_time": "2021-12-16T09:56:06.036Z"
   },
   {
    "duration": 19,
    "start_time": "2021-12-16T09:56:11.160Z"
   },
   {
    "duration": 97,
    "start_time": "2021-12-16T09:56:24.715Z"
   },
   {
    "duration": 6,
    "start_time": "2021-12-16T09:56:32.546Z"
   },
   {
    "duration": 100,
    "start_time": "2021-12-16T09:56:51.001Z"
   },
   {
    "duration": 418,
    "start_time": "2021-12-16T09:56:55.472Z"
   },
   {
    "duration": 102,
    "start_time": "2021-12-16T09:57:17.124Z"
   },
   {
    "duration": 298,
    "start_time": "2021-12-16T09:57:20.137Z"
   },
   {
    "duration": 131,
    "start_time": "2021-12-16T09:57:40.009Z"
   },
   {
    "duration": 34,
    "start_time": "2021-12-16T09:57:52.882Z"
   },
   {
    "duration": 34,
    "start_time": "2021-12-16T09:58:04.252Z"
   },
   {
    "duration": 54,
    "start_time": "2021-12-16T09:58:50.291Z"
   },
   {
    "duration": 7763,
    "start_time": "2021-12-16T10:09:22.472Z"
   },
   {
    "duration": 20,
    "start_time": "2021-12-16T10:13:55.679Z"
   },
   {
    "duration": 6,
    "start_time": "2021-12-16T10:14:02.486Z"
   },
   {
    "duration": 6,
    "start_time": "2021-12-16T10:14:58.735Z"
   },
   {
    "duration": 32,
    "start_time": "2021-12-16T10:15:14.011Z"
   },
   {
    "duration": 9211,
    "start_time": "2021-12-16T10:16:30.486Z"
   },
   {
    "duration": 6745,
    "start_time": "2021-12-16T10:17:54.877Z"
   },
   {
    "duration": 167,
    "start_time": "2021-12-16T15:45:20.139Z"
   },
   {
    "duration": 1525,
    "start_time": "2021-12-16T15:45:29.799Z"
   },
   {
    "duration": 133,
    "start_time": "2021-12-16T15:45:31.326Z"
   },
   {
    "duration": 19,
    "start_time": "2021-12-16T15:45:31.462Z"
   },
   {
    "duration": 18,
    "start_time": "2021-12-16T15:45:31.483Z"
   },
   {
    "duration": 81,
    "start_time": "2021-12-16T15:45:31.503Z"
   },
   {
    "duration": 4,
    "start_time": "2021-12-16T15:45:31.586Z"
   },
   {
    "duration": 15,
    "start_time": "2021-12-16T15:45:31.592Z"
   },
   {
    "duration": 104,
    "start_time": "2021-12-16T15:45:31.608Z"
   },
   {
    "duration": 9,
    "start_time": "2021-12-16T15:45:31.714Z"
   },
   {
    "duration": 142,
    "start_time": "2021-12-16T15:45:31.725Z"
   },
   {
    "duration": 82,
    "start_time": "2021-12-16T15:45:31.869Z"
   },
   {
    "duration": 3,
    "start_time": "2021-12-16T15:45:31.953Z"
   },
   {
    "duration": 35,
    "start_time": "2021-12-16T15:45:31.958Z"
   },
   {
    "duration": 45,
    "start_time": "2021-12-16T15:45:31.994Z"
   },
   {
    "duration": 69,
    "start_time": "2021-12-16T15:45:32.041Z"
   },
   {
    "duration": 118,
    "start_time": "2021-12-16T15:45:32.111Z"
   },
   {
    "duration": 98,
    "start_time": "2021-12-16T15:45:57.810Z"
   },
   {
    "duration": 7776,
    "start_time": "2021-12-16T15:46:14.873Z"
   },
   {
    "duration": 894,
    "start_time": "2021-12-16T18:34:53.994Z"
   },
   {
    "duration": 317,
    "start_time": "2021-12-16T18:50:44.804Z"
   },
   {
    "duration": 118,
    "start_time": "2021-12-16T18:50:54.199Z"
   },
   {
    "duration": 119,
    "start_time": "2021-12-16T18:51:05.631Z"
   },
   {
    "duration": 1303,
    "start_time": "2021-12-16T18:51:19.209Z"
   },
   {
    "duration": 1373,
    "start_time": "2021-12-16T18:51:58.504Z"
   },
   {
    "duration": 2051,
    "start_time": "2021-12-16T18:55:04.592Z"
   },
   {
    "duration": 2676,
    "start_time": "2021-12-16T18:55:50.364Z"
   },
   {
    "duration": 1378,
    "start_time": "2021-12-16T18:58:28.893Z"
   },
   {
    "duration": 301,
    "start_time": "2021-12-16T18:59:31.114Z"
   },
   {
    "duration": 1191,
    "start_time": "2021-12-16T18:59:37.205Z"
   },
   {
    "duration": 11959,
    "start_time": "2021-12-16T19:01:27.951Z"
   },
   {
    "duration": 1144,
    "start_time": "2021-12-16T19:01:50.439Z"
   },
   {
    "duration": 139,
    "start_time": "2021-12-16T19:03:27.616Z"
   },
   {
    "duration": 49,
    "start_time": "2021-12-16T19:03:31.462Z"
   },
   {
    "duration": 2267,
    "start_time": "2021-12-16T19:04:08.221Z"
   },
   {
    "duration": 195,
    "start_time": "2021-12-16T19:04:10.491Z"
   },
   {
    "duration": 22,
    "start_time": "2021-12-16T19:04:10.689Z"
   },
   {
    "duration": 50,
    "start_time": "2021-12-16T19:04:10.713Z"
   },
   {
    "duration": 76,
    "start_time": "2021-12-16T19:04:10.765Z"
   },
   {
    "duration": 20,
    "start_time": "2021-12-16T19:04:10.844Z"
   },
   {
    "duration": 14,
    "start_time": "2021-12-16T19:04:10.866Z"
   },
   {
    "duration": 128,
    "start_time": "2021-12-16T19:04:10.883Z"
   },
   {
    "duration": 15,
    "start_time": "2021-12-16T19:04:11.015Z"
   },
   {
    "duration": 206,
    "start_time": "2021-12-16T19:04:11.033Z"
   },
   {
    "duration": 131,
    "start_time": "2021-12-16T19:04:11.242Z"
   },
   {
    "duration": 4,
    "start_time": "2021-12-16T19:04:11.376Z"
   },
   {
    "duration": 23,
    "start_time": "2021-12-16T19:04:11.383Z"
   },
   {
    "duration": 16,
    "start_time": "2021-12-16T19:04:11.409Z"
   },
   {
    "duration": 63,
    "start_time": "2021-12-16T19:04:11.428Z"
   },
   {
    "duration": 12433,
    "start_time": "2021-12-16T19:04:11.494Z"
   },
   {
    "duration": 2117,
    "start_time": "2021-12-16T19:04:57.844Z"
   },
   {
    "duration": 192,
    "start_time": "2021-12-16T19:04:59.964Z"
   },
   {
    "duration": 24,
    "start_time": "2021-12-16T19:05:00.158Z"
   },
   {
    "duration": 29,
    "start_time": "2021-12-16T19:05:00.186Z"
   },
   {
    "duration": 119,
    "start_time": "2021-12-16T19:05:00.218Z"
   },
   {
    "duration": 5,
    "start_time": "2021-12-16T19:05:00.340Z"
   },
   {
    "duration": 13,
    "start_time": "2021-12-16T19:05:00.364Z"
   },
   {
    "duration": 134,
    "start_time": "2021-12-16T19:05:00.382Z"
   },
   {
    "duration": 14,
    "start_time": "2021-12-16T19:05:00.520Z"
   },
   {
    "duration": 201,
    "start_time": "2021-12-16T19:05:00.536Z"
   },
   {
    "duration": 150,
    "start_time": "2021-12-16T19:05:00.739Z"
   },
   {
    "duration": 5,
    "start_time": "2021-12-16T19:05:00.891Z"
   },
   {
    "duration": 15,
    "start_time": "2021-12-16T19:05:00.898Z"
   },
   {
    "duration": 14,
    "start_time": "2021-12-16T19:05:00.915Z"
   },
   {
    "duration": 88,
    "start_time": "2021-12-16T19:05:00.932Z"
   },
   {
    "duration": 15978,
    "start_time": "2021-12-16T19:05:01.023Z"
   },
   {
    "duration": 2105,
    "start_time": "2021-12-16T19:07:08.348Z"
   },
   {
    "duration": 183,
    "start_time": "2021-12-16T19:07:10.456Z"
   },
   {
    "duration": 31,
    "start_time": "2021-12-16T19:07:10.642Z"
   },
   {
    "duration": 29,
    "start_time": "2021-12-16T19:07:10.676Z"
   },
   {
    "duration": 108,
    "start_time": "2021-12-16T19:07:10.707Z"
   },
   {
    "duration": 4,
    "start_time": "2021-12-16T19:07:10.819Z"
   },
   {
    "duration": 13,
    "start_time": "2021-12-16T19:07:10.826Z"
   },
   {
    "duration": 139,
    "start_time": "2021-12-16T19:07:10.841Z"
   },
   {
    "duration": 20,
    "start_time": "2021-12-16T19:07:10.986Z"
   },
   {
    "duration": 254,
    "start_time": "2021-12-16T19:07:11.010Z"
   },
   {
    "duration": 185,
    "start_time": "2021-12-16T19:07:11.267Z"
   },
   {
    "duration": 9,
    "start_time": "2021-12-16T19:07:11.455Z"
   },
   {
    "duration": 14,
    "start_time": "2021-12-16T19:07:11.467Z"
   },
   {
    "duration": 9,
    "start_time": "2021-12-16T19:07:11.484Z"
   },
   {
    "duration": 97,
    "start_time": "2021-12-16T19:07:11.496Z"
   },
   {
    "duration": 12081,
    "start_time": "2021-12-16T19:07:11.596Z"
   },
   {
    "duration": 2733,
    "start_time": "2021-12-16T19:07:23.680Z"
   },
   {
    "duration": -78612,
    "start_time": "2021-12-16T19:08:45.028Z"
   },
   {
    "duration": -78643,
    "start_time": "2021-12-16T19:08:45.062Z"
   },
   {
    "duration": -78645,
    "start_time": "2021-12-16T19:08:45.065Z"
   },
   {
    "duration": 61,
    "start_time": "2021-12-16T19:09:00.000Z"
   },
   {
    "duration": 2544,
    "start_time": "2021-12-16T19:14:17.668Z"
   },
   {
    "duration": 214,
    "start_time": "2021-12-16T19:14:20.215Z"
   },
   {
    "duration": 32,
    "start_time": "2021-12-16T19:14:20.432Z"
   },
   {
    "duration": 28,
    "start_time": "2021-12-16T19:14:20.467Z"
   },
   {
    "duration": 110,
    "start_time": "2021-12-16T19:14:20.497Z"
   },
   {
    "duration": 5,
    "start_time": "2021-12-16T19:14:20.610Z"
   },
   {
    "duration": 13,
    "start_time": "2021-12-16T19:14:20.618Z"
   },
   {
    "duration": 50,
    "start_time": "2021-12-16T19:14:20.636Z"
   },
   {
    "duration": 15,
    "start_time": "2021-12-16T19:14:20.689Z"
   },
   {
    "duration": 176,
    "start_time": "2021-12-16T19:14:20.707Z"
   },
   {
    "duration": 118,
    "start_time": "2021-12-16T19:14:20.886Z"
   },
   {
    "duration": 5,
    "start_time": "2021-12-16T19:14:21.006Z"
   },
   {
    "duration": 7,
    "start_time": "2021-12-16T19:14:21.013Z"
   },
   {
    "duration": 12,
    "start_time": "2021-12-16T19:14:21.022Z"
   },
   {
    "duration": 6,
    "start_time": "2021-12-16T19:14:21.063Z"
   },
   {
    "duration": 11949,
    "start_time": "2021-12-16T19:14:21.072Z"
   },
   {
    "duration": 49,
    "start_time": "2021-12-16T19:14:33.026Z"
   },
   {
    "duration": 43,
    "start_time": "2021-12-16T19:17:23.100Z"
   },
   {
    "duration": 15,
    "start_time": "2021-12-16T19:17:36.228Z"
   },
   {
    "duration": 26,
    "start_time": "2021-12-16T19:17:38.729Z"
   },
   {
    "duration": 568,
    "start_time": "2021-12-16T19:25:55.195Z"
   },
   {
    "duration": 5,
    "start_time": "2021-12-16T19:26:19.796Z"
   },
   {
    "duration": 4,
    "start_time": "2021-12-16T19:26:53.415Z"
   },
   {
    "duration": 325,
    "start_time": "2021-12-16T19:28:58.871Z"
   },
   {
    "duration": 300,
    "start_time": "2021-12-16T19:30:57.677Z"
   },
   {
    "duration": 297,
    "start_time": "2021-12-16T19:31:15.499Z"
   },
   {
    "duration": 317,
    "start_time": "2021-12-16T19:33:16.990Z"
   },
   {
    "duration": 296,
    "start_time": "2021-12-16T19:34:44.539Z"
   },
   {
    "duration": 116,
    "start_time": "2021-12-16T19:35:02.940Z"
   },
   {
    "duration": 120,
    "start_time": "2021-12-16T19:35:21.557Z"
   },
   {
    "duration": 8,
    "start_time": "2021-12-16T19:36:15.318Z"
   },
   {
    "duration": 5,
    "start_time": "2021-12-16T19:43:08.639Z"
   },
   {
    "duration": 6,
    "start_time": "2021-12-16T19:45:04.339Z"
   },
   {
    "duration": 5,
    "start_time": "2021-12-16T19:51:26.972Z"
   },
   {
    "duration": 6,
    "start_time": "2021-12-16T19:51:47.645Z"
   },
   {
    "duration": 14,
    "start_time": "2021-12-16T19:53:11.591Z"
   },
   {
    "duration": 104,
    "start_time": "2021-12-16T19:53:45.338Z"
   },
   {
    "duration": 25,
    "start_time": "2021-12-16T19:54:05.141Z"
   },
   {
    "duration": 323,
    "start_time": "2021-12-16T20:05:52.553Z"
   },
   {
    "duration": 9,
    "start_time": "2021-12-16T20:06:05.434Z"
   },
   {
    "duration": 14,
    "start_time": "2021-12-16T20:06:17.700Z"
   },
   {
    "duration": 822,
    "start_time": "2021-12-16T20:06:42.491Z"
   },
   {
    "duration": 1144,
    "start_time": "2021-12-16T20:07:05.699Z"
   },
   {
    "duration": 906,
    "start_time": "2021-12-16T20:07:17.107Z"
   },
   {
    "duration": 1250,
    "start_time": "2021-12-16T20:08:30.014Z"
   },
   {
    "duration": 15,
    "start_time": "2021-12-16T20:08:53.972Z"
   },
   {
    "duration": 19,
    "start_time": "2021-12-16T20:09:23.374Z"
   },
   {
    "duration": 20,
    "start_time": "2021-12-16T20:09:31.018Z"
   },
   {
    "duration": 10,
    "start_time": "2021-12-16T20:09:40.138Z"
   },
   {
    "duration": 312,
    "start_time": "2021-12-16T20:09:52.674Z"
   },
   {
    "duration": 742,
    "start_time": "2021-12-16T20:10:04.183Z"
   },
   {
    "duration": 12,
    "start_time": "2021-12-16T20:10:09.667Z"
   },
   {
    "duration": 884,
    "start_time": "2021-12-16T20:18:46.369Z"
   },
   {
    "duration": 335,
    "start_time": "2021-12-16T20:18:54.928Z"
   },
   {
    "duration": 11,
    "start_time": "2021-12-16T20:18:58.758Z"
   },
   {
    "duration": 43,
    "start_time": "2021-12-16T20:19:12.665Z"
   },
   {
    "duration": 39,
    "start_time": "2021-12-16T20:20:13.264Z"
   },
   {
    "duration": 43,
    "start_time": "2021-12-16T20:20:35.695Z"
   },
   {
    "duration": 3471,
    "start_time": "2021-12-16T20:25:26.967Z"
   },
   {
    "duration": 247,
    "start_time": "2021-12-16T20:25:30.441Z"
   },
   {
    "duration": 32,
    "start_time": "2021-12-16T20:25:30.692Z"
   },
   {
    "duration": 59,
    "start_time": "2021-12-16T20:25:30.728Z"
   },
   {
    "duration": 111,
    "start_time": "2021-12-16T20:25:30.790Z"
   },
   {
    "duration": 5,
    "start_time": "2021-12-16T20:25:30.904Z"
   },
   {
    "duration": 34,
    "start_time": "2021-12-16T20:25:30.912Z"
   },
   {
    "duration": 36,
    "start_time": "2021-12-16T20:25:30.949Z"
   },
   {
    "duration": 14,
    "start_time": "2021-12-16T20:25:30.987Z"
   },
   {
    "duration": 192,
    "start_time": "2021-12-16T20:25:31.004Z"
   },
   {
    "duration": 109,
    "start_time": "2021-12-16T20:25:31.199Z"
   },
   {
    "duration": 4,
    "start_time": "2021-12-16T20:25:31.311Z"
   },
   {
    "duration": 21,
    "start_time": "2021-12-16T20:25:31.318Z"
   },
   {
    "duration": 41,
    "start_time": "2021-12-16T20:25:31.342Z"
   },
   {
    "duration": 13,
    "start_time": "2021-12-16T20:25:31.385Z"
   },
   {
    "duration": 13176,
    "start_time": "2021-12-16T20:25:31.401Z"
   },
   {
    "duration": 19,
    "start_time": "2021-12-16T20:25:44.581Z"
   },
   {
    "duration": 79,
    "start_time": "2021-12-16T20:25:44.603Z"
   },
   {
    "duration": 95,
    "start_time": "2021-12-16T20:25:44.684Z"
   },
   {
    "duration": 42,
    "start_time": "2021-12-16T20:29:08.500Z"
   },
   {
    "duration": 43,
    "start_time": "2021-12-16T20:30:40.792Z"
   },
   {
    "duration": 566,
    "start_time": "2021-12-16T20:30:54.156Z"
   },
   {
    "duration": 28,
    "start_time": "2021-12-16T20:30:57.292Z"
   },
   {
    "duration": 382,
    "start_time": "2021-12-17T09:56:17.801Z"
   },
   {
    "duration": 1984,
    "start_time": "2021-12-17T09:56:25.045Z"
   },
   {
    "duration": 182,
    "start_time": "2021-12-17T09:56:27.032Z"
   },
   {
    "duration": 25,
    "start_time": "2021-12-17T09:56:27.218Z"
   },
   {
    "duration": 30,
    "start_time": "2021-12-17T09:56:27.262Z"
   },
   {
    "duration": 102,
    "start_time": "2021-12-17T09:56:27.294Z"
   },
   {
    "duration": 4,
    "start_time": "2021-12-17T09:56:27.398Z"
   },
   {
    "duration": 11,
    "start_time": "2021-12-17T09:56:27.404Z"
   },
   {
    "duration": 50,
    "start_time": "2021-12-17T09:56:27.419Z"
   },
   {
    "duration": 15,
    "start_time": "2021-12-17T09:56:27.472Z"
   },
   {
    "duration": 173,
    "start_time": "2021-12-17T09:56:27.490Z"
   },
   {
    "duration": 125,
    "start_time": "2021-12-17T09:56:27.670Z"
   },
   {
    "duration": 5,
    "start_time": "2021-12-17T09:56:27.798Z"
   },
   {
    "duration": 7,
    "start_time": "2021-12-17T09:56:27.806Z"
   },
   {
    "duration": 6,
    "start_time": "2021-12-17T09:56:27.816Z"
   },
   {
    "duration": 41,
    "start_time": "2021-12-17T09:56:27.824Z"
   },
   {
    "duration": 15096,
    "start_time": "2021-12-17T09:56:27.872Z"
   },
   {
    "duration": 18,
    "start_time": "2021-12-17T09:56:42.972Z"
   },
   {
    "duration": 77,
    "start_time": "2021-12-17T09:56:42.993Z"
   },
   {
    "duration": 94,
    "start_time": "2021-12-17T09:56:43.072Z"
   },
   {
    "duration": 101,
    "start_time": "2021-12-17T09:56:43.171Z"
   },
   {
    "duration": 101,
    "start_time": "2021-12-17T09:56:43.274Z"
   },
   {
    "duration": 769,
    "start_time": "2021-12-17T10:07:56.997Z"
   },
   {
    "duration": 422,
    "start_time": "2021-12-17T10:08:39.683Z"
   },
   {
    "duration": 441,
    "start_time": "2021-12-17T10:08:43.611Z"
   },
   {
    "duration": 50,
    "start_time": "2021-12-17T10:08:58.470Z"
   },
   {
    "duration": 2319,
    "start_time": "2021-12-17T10:09:11.344Z"
   },
   {
    "duration": 62,
    "start_time": "2021-12-17T10:09:15.753Z"
   },
   {
    "duration": 65,
    "start_time": "2021-12-17T10:09:27.064Z"
   },
   {
    "duration": 97,
    "start_time": "2021-12-17T10:10:07.199Z"
   },
   {
    "duration": 52,
    "start_time": "2021-12-17T10:10:14.317Z"
   },
   {
    "duration": 78,
    "start_time": "2021-12-17T10:10:22.200Z"
   },
   {
    "duration": 72,
    "start_time": "2021-12-17T10:10:35.655Z"
   },
   {
    "duration": 67,
    "start_time": "2021-12-17T10:10:43.710Z"
   },
   {
    "duration": 75,
    "start_time": "2021-12-17T10:11:59.222Z"
   },
   {
    "duration": 333,
    "start_time": "2021-12-17T10:24:25.804Z"
   },
   {
    "duration": 92,
    "start_time": "2021-12-17T10:37:37.379Z"
   },
   {
    "duration": 62,
    "start_time": "2021-12-17T10:37:51.688Z"
   },
   {
    "duration": 145,
    "start_time": "2021-12-17T11:36:42.557Z"
   },
   {
    "duration": 379,
    "start_time": "2021-12-17T11:36:48.138Z"
   },
   {
    "duration": 359,
    "start_time": "2021-12-17T11:36:58.056Z"
   },
   {
    "duration": 66,
    "start_time": "2021-12-17T11:37:16.134Z"
   },
   {
    "duration": 78,
    "start_time": "2021-12-17T11:37:19.639Z"
   },
   {
    "duration": 64,
    "start_time": "2021-12-17T11:48:25.684Z"
   },
   {
    "duration": 9741,
    "start_time": "2021-12-17T11:48:50.211Z"
   },
   {
    "duration": 78,
    "start_time": "2021-12-17T11:49:05.347Z"
   },
   {
    "duration": 9819,
    "start_time": "2021-12-17T11:49:11.268Z"
   },
   {
    "duration": 4754,
    "start_time": "2021-12-17T12:11:15.567Z"
   },
   {
    "duration": 8528,
    "start_time": "2021-12-17T12:11:24.977Z"
   },
   {
    "duration": 428,
    "start_time": "2021-12-17T12:11:47.141Z"
   },
   {
    "duration": 449,
    "start_time": "2021-12-17T12:11:57.083Z"
   },
   {
    "duration": 426,
    "start_time": "2021-12-17T12:12:16.627Z"
   },
   {
    "duration": 4336,
    "start_time": "2021-12-17T12:12:21.314Z"
   },
   {
    "duration": 8844,
    "start_time": "2021-12-17T12:12:27.547Z"
   },
   {
    "duration": 9268,
    "start_time": "2021-12-17T12:12:37.153Z"
   },
   {
    "duration": 63,
    "start_time": "2021-12-17T12:14:08.536Z"
   },
   {
    "duration": 66,
    "start_time": "2021-12-17T12:14:15.401Z"
   },
   {
    "duration": 74,
    "start_time": "2021-12-17T12:14:20.923Z"
   },
   {
    "duration": 74,
    "start_time": "2021-12-17T12:14:24.609Z"
   },
   {
    "duration": 70,
    "start_time": "2021-12-17T12:14:43.471Z"
   },
   {
    "duration": 91,
    "start_time": "2021-12-17T12:15:19.943Z"
   },
   {
    "duration": 73,
    "start_time": "2021-12-17T12:15:27.596Z"
   },
   {
    "duration": 98,
    "start_time": "2021-12-17T12:15:36.104Z"
   },
   {
    "duration": 184,
    "start_time": "2021-12-17T12:19:25.008Z"
   },
   {
    "duration": 301,
    "start_time": "2021-12-17T12:20:10.058Z"
   },
   {
    "duration": 177,
    "start_time": "2021-12-17T12:20:16.310Z"
   },
   {
    "duration": 197,
    "start_time": "2021-12-17T12:22:00.532Z"
   },
   {
    "duration": 150,
    "start_time": "2021-12-17T12:25:18.059Z"
   },
   {
    "duration": 347,
    "start_time": "2021-12-17T12:25:37.463Z"
   },
   {
    "duration": 112,
    "start_time": "2021-12-17T12:26:49.497Z"
   },
   {
    "duration": 182,
    "start_time": "2021-12-17T12:26:54.397Z"
   },
   {
    "duration": 183,
    "start_time": "2021-12-17T12:27:15.079Z"
   },
   {
    "duration": 719,
    "start_time": "2021-12-17T12:27:23.576Z"
   },
   {
    "duration": 178,
    "start_time": "2021-12-17T12:27:47.470Z"
   },
   {
    "duration": 187,
    "start_time": "2021-12-17T12:28:01.376Z"
   },
   {
    "duration": 178,
    "start_time": "2021-12-17T12:28:13.367Z"
   },
   {
    "duration": 175,
    "start_time": "2021-12-17T12:28:23.656Z"
   },
   {
    "duration": 149,
    "start_time": "2021-12-17T12:29:07.450Z"
   },
   {
    "duration": 185,
    "start_time": "2021-12-17T12:29:13.602Z"
   },
   {
    "duration": 201,
    "start_time": "2021-12-17T12:29:28.732Z"
   },
   {
    "duration": 279,
    "start_time": "2021-12-17T12:29:35.967Z"
   },
   {
    "duration": 266,
    "start_time": "2021-12-17T12:29:43.413Z"
   },
   {
    "duration": 178,
    "start_time": "2021-12-17T12:29:54.078Z"
   },
   {
    "duration": 2009,
    "start_time": "2021-12-17T12:30:43.872Z"
   },
   {
    "duration": 169,
    "start_time": "2021-12-17T12:30:45.884Z"
   },
   {
    "duration": 24,
    "start_time": "2021-12-17T12:30:46.057Z"
   },
   {
    "duration": 38,
    "start_time": "2021-12-17T12:30:46.085Z"
   },
   {
    "duration": 87,
    "start_time": "2021-12-17T12:30:46.125Z"
   },
   {
    "duration": 3,
    "start_time": "2021-12-17T12:30:46.215Z"
   },
   {
    "duration": 31,
    "start_time": "2021-12-17T12:30:46.221Z"
   },
   {
    "duration": 48,
    "start_time": "2021-12-17T12:30:46.254Z"
   },
   {
    "duration": 14,
    "start_time": "2021-12-17T12:30:46.307Z"
   },
   {
    "duration": 135,
    "start_time": "2021-12-17T12:30:46.324Z"
   },
   {
    "duration": 103,
    "start_time": "2021-12-17T12:30:46.462Z"
   },
   {
    "duration": 5,
    "start_time": "2021-12-17T12:30:46.570Z"
   },
   {
    "duration": 17,
    "start_time": "2021-12-17T12:30:46.580Z"
   },
   {
    "duration": 27,
    "start_time": "2021-12-17T12:30:46.600Z"
   },
   {
    "duration": 27,
    "start_time": "2021-12-17T12:30:46.630Z"
   },
   {
    "duration": 13247,
    "start_time": "2021-12-17T12:30:46.660Z"
   },
   {
    "duration": 16,
    "start_time": "2021-12-17T12:30:59.909Z"
   },
   {
    "duration": 33,
    "start_time": "2021-12-17T12:30:59.963Z"
   },
   {
    "duration": 102,
    "start_time": "2021-12-17T12:30:59.998Z"
   },
   {
    "duration": 91,
    "start_time": "2021-12-17T12:31:00.102Z"
   },
   {
    "duration": 191,
    "start_time": "2021-12-17T12:31:00.195Z"
   },
   {
    "duration": 574,
    "start_time": "2021-12-17T12:31:00.389Z"
   },
   {
    "duration": 185,
    "start_time": "2021-12-17T12:34:19.716Z"
   },
   {
    "duration": 907,
    "start_time": "2021-12-17T12:36:15.782Z"
   },
   {
    "duration": 189,
    "start_time": "2021-12-17T12:37:01.034Z"
   },
   {
    "duration": 366,
    "start_time": "2021-12-17T12:37:31.672Z"
   },
   {
    "duration": 179,
    "start_time": "2021-12-17T12:37:43.313Z"
   },
   {
    "duration": 197,
    "start_time": "2021-12-17T12:37:51.448Z"
   },
   {
    "duration": 495,
    "start_time": "2021-12-17T12:41:22.876Z"
   },
   {
    "duration": 122,
    "start_time": "2021-12-17T12:41:31.058Z"
   },
   {
    "duration": 387,
    "start_time": "2021-12-17T12:41:41.346Z"
   },
   {
    "duration": 419,
    "start_time": "2021-12-17T12:42:16.003Z"
   },
   {
    "duration": 185,
    "start_time": "2021-12-17T12:42:40.093Z"
   },
   {
    "duration": 301,
    "start_time": "2021-12-17T12:44:31.434Z"
   },
   {
    "duration": 297,
    "start_time": "2021-12-17T12:44:47.866Z"
   },
   {
    "duration": 345,
    "start_time": "2021-12-17T12:44:57.795Z"
   },
   {
    "duration": 466,
    "start_time": "2021-12-17T12:45:07.206Z"
   },
   {
    "duration": 418,
    "start_time": "2021-12-17T12:45:11.667Z"
   },
   {
    "duration": 333,
    "start_time": "2021-12-17T12:45:17.497Z"
   },
   {
    "duration": 439,
    "start_time": "2021-12-17T12:45:48.249Z"
   },
   {
    "duration": 269,
    "start_time": "2021-12-17T12:46:08.103Z"
   },
   {
    "duration": 196,
    "start_time": "2021-12-17T12:46:37.973Z"
   },
   {
    "duration": 426,
    "start_time": "2021-12-17T12:46:41.076Z"
   },
   {
    "duration": 282,
    "start_time": "2021-12-17T12:47:18.481Z"
   },
   {
    "duration": 104,
    "start_time": "2021-12-17T12:53:20.127Z"
   },
   {
    "duration": 185,
    "start_time": "2021-12-17T12:53:34.855Z"
   },
   {
    "duration": 269,
    "start_time": "2021-12-17T12:54:21.033Z"
   },
   {
    "duration": 327,
    "start_time": "2021-12-17T12:57:19.425Z"
   },
   {
    "duration": 181,
    "start_time": "2021-12-17T12:57:39.724Z"
   },
   {
    "duration": 186,
    "start_time": "2021-12-17T12:57:45.661Z"
   },
   {
    "duration": 185,
    "start_time": "2021-12-17T12:57:50.724Z"
   },
   {
    "duration": 358,
    "start_time": "2021-12-17T12:58:00.107Z"
   },
   {
    "duration": 201,
    "start_time": "2021-12-17T12:58:06.966Z"
   },
   {
    "duration": 175,
    "start_time": "2021-12-17T13:00:43.217Z"
   },
   {
    "duration": 179,
    "start_time": "2021-12-17T13:01:01.792Z"
   },
   {
    "duration": 336,
    "start_time": "2021-12-17T13:04:18.358Z"
   },
   {
    "duration": 190,
    "start_time": "2021-12-17T13:08:29.204Z"
   },
   {
    "duration": 195,
    "start_time": "2021-12-17T13:08:37.416Z"
   },
   {
    "duration": 279,
    "start_time": "2021-12-17T13:10:39.562Z"
   },
   {
    "duration": 479,
    "start_time": "2021-12-17T13:11:05.732Z"
   },
   {
    "duration": 370,
    "start_time": "2021-12-17T13:11:44.437Z"
   },
   {
    "duration": 311,
    "start_time": "2021-12-17T13:11:53.507Z"
   },
   {
    "duration": 382,
    "start_time": "2021-12-17T13:13:11.517Z"
   },
   {
    "duration": 4,
    "start_time": "2021-12-17T13:15:20.437Z"
   },
   {
    "duration": 413,
    "start_time": "2021-12-17T13:15:37.412Z"
   },
   {
    "duration": 181,
    "start_time": "2021-12-17T13:15:56.448Z"
   },
   {
    "duration": 586,
    "start_time": "2021-12-17T13:16:32.360Z"
   },
   {
    "duration": 911,
    "start_time": "2021-12-17T13:16:42.919Z"
   },
   {
    "duration": 550,
    "start_time": "2021-12-17T13:18:04.457Z"
   },
   {
    "duration": 466,
    "start_time": "2021-12-17T13:18:13.401Z"
   },
   {
    "duration": 481,
    "start_time": "2021-12-17T13:18:29.474Z"
   },
   {
    "duration": 596,
    "start_time": "2021-12-17T13:18:40.239Z"
   },
   {
    "duration": 323,
    "start_time": "2021-12-17T13:19:04.088Z"
   },
   {
    "duration": 2466,
    "start_time": "2021-12-17T13:19:13.562Z"
   },
   {
    "duration": 221,
    "start_time": "2021-12-17T13:19:16.030Z"
   },
   {
    "duration": 30,
    "start_time": "2021-12-17T13:19:16.254Z"
   },
   {
    "duration": 29,
    "start_time": "2021-12-17T13:19:16.287Z"
   },
   {
    "duration": 98,
    "start_time": "2021-12-17T13:19:16.319Z"
   },
   {
    "duration": 4,
    "start_time": "2021-12-17T13:19:16.420Z"
   },
   {
    "duration": 12,
    "start_time": "2021-12-17T13:19:16.427Z"
   },
   {
    "duration": 48,
    "start_time": "2021-12-17T13:19:16.441Z"
   },
   {
    "duration": 14,
    "start_time": "2021-12-17T13:19:16.494Z"
   },
   {
    "duration": 148,
    "start_time": "2021-12-17T13:19:16.510Z"
   },
   {
    "duration": 86,
    "start_time": "2021-12-17T13:19:16.662Z"
   },
   {
    "duration": 13,
    "start_time": "2021-12-17T13:19:16.751Z"
   },
   {
    "duration": 9,
    "start_time": "2021-12-17T13:19:16.767Z"
   },
   {
    "duration": 7,
    "start_time": "2021-12-17T13:19:16.779Z"
   },
   {
    "duration": 6,
    "start_time": "2021-12-17T13:19:16.789Z"
   },
   {
    "duration": 12566,
    "start_time": "2021-12-17T13:19:16.798Z"
   },
   {
    "duration": 18,
    "start_time": "2021-12-17T13:19:29.368Z"
   },
   {
    "duration": 80,
    "start_time": "2021-12-17T13:19:29.390Z"
   },
   {
    "duration": 92,
    "start_time": "2021-12-17T13:19:29.473Z"
   },
   {
    "duration": 33,
    "start_time": "2021-12-17T13:19:29.567Z"
   },
   {
    "duration": 205,
    "start_time": "2021-12-17T13:19:29.603Z"
   },
   {
    "duration": 978,
    "start_time": "2021-12-17T13:19:29.811Z"
   },
   {
    "duration": 3,
    "start_time": "2021-12-17T13:19:30.792Z"
   },
   {
    "duration": 2087,
    "start_time": "2021-12-17T13:20:52.011Z"
   },
   {
    "duration": 1041,
    "start_time": "2021-12-17T13:21:18.873Z"
   },
   {
    "duration": 647,
    "start_time": "2021-12-17T13:21:41.571Z"
   },
   {
    "duration": 826,
    "start_time": "2021-12-17T13:21:53.651Z"
   },
   {
    "duration": 587,
    "start_time": "2021-12-17T13:22:19.003Z"
   },
   {
    "duration": 95,
    "start_time": "2021-12-17T13:22:39.031Z"
   },
   {
    "duration": 303,
    "start_time": "2021-12-17T13:22:44.827Z"
   },
   {
    "duration": 465,
    "start_time": "2021-12-17T13:22:57.486Z"
   },
   {
    "duration": 420,
    "start_time": "2021-12-17T13:23:12.325Z"
   },
   {
    "duration": 850,
    "start_time": "2021-12-17T13:23:32.024Z"
   },
   {
    "duration": 503,
    "start_time": "2021-12-17T13:23:51.814Z"
   },
   {
    "duration": 237,
    "start_time": "2021-12-17T13:24:00.788Z"
   },
   {
    "duration": 308,
    "start_time": "2021-12-17T13:24:37.636Z"
   },
   {
    "duration": 717,
    "start_time": "2021-12-17T13:25:55.545Z"
   },
   {
    "duration": 226,
    "start_time": "2021-12-17T13:26:35.661Z"
   },
   {
    "duration": 492,
    "start_time": "2021-12-17T13:26:49.770Z"
   },
   {
    "duration": 503,
    "start_time": "2021-12-17T13:27:09.560Z"
   },
   {
    "duration": 659,
    "start_time": "2021-12-17T13:27:39.096Z"
   },
   {
    "duration": 298,
    "start_time": "2021-12-17T13:29:10.168Z"
   },
   {
    "duration": 313,
    "start_time": "2021-12-17T13:29:31.594Z"
   },
   {
    "duration": 723,
    "start_time": "2021-12-17T13:32:10.745Z"
   },
   {
    "duration": 24,
    "start_time": "2021-12-17T13:45:45.282Z"
   },
   {
    "duration": 26,
    "start_time": "2021-12-17T13:46:20.810Z"
   },
   {
    "duration": 13,
    "start_time": "2021-12-17T13:46:26.489Z"
   },
   {
    "duration": 25,
    "start_time": "2021-12-17T13:46:30.809Z"
   },
   {
    "duration": 106,
    "start_time": "2021-12-17T13:47:22.585Z"
   },
   {
    "duration": -613,
    "start_time": "2021-12-17T13:49:25.800Z"
   },
   {
    "duration": -623,
    "start_time": "2021-12-17T13:49:25.812Z"
   },
   {
    "duration": 303,
    "start_time": "2021-12-17T13:49:27.706Z"
   },
   {
    "duration": 316,
    "start_time": "2021-12-17T13:50:52.165Z"
   },
   {
    "duration": 1998,
    "start_time": "2021-12-17T13:51:16.885Z"
   },
   {
    "duration": 268,
    "start_time": "2021-12-17T13:51:18.886Z"
   },
   {
    "duration": 39,
    "start_time": "2021-12-17T13:51:19.158Z"
   },
   {
    "duration": 34,
    "start_time": "2021-12-17T13:51:19.201Z"
   },
   {
    "duration": 85,
    "start_time": "2021-12-17T13:51:19.262Z"
   },
   {
    "duration": 3,
    "start_time": "2021-12-17T13:51:19.350Z"
   },
   {
    "duration": 31,
    "start_time": "2021-12-17T13:51:19.364Z"
   },
   {
    "duration": 30,
    "start_time": "2021-12-17T13:51:19.399Z"
   },
   {
    "duration": 13,
    "start_time": "2021-12-17T13:51:19.432Z"
   },
   {
    "duration": 138,
    "start_time": "2021-12-17T13:51:19.464Z"
   },
   {
    "duration": 103,
    "start_time": "2021-12-17T13:51:19.605Z"
   },
   {
    "duration": 6,
    "start_time": "2021-12-17T13:51:19.711Z"
   },
   {
    "duration": 7,
    "start_time": "2021-12-17T13:51:19.720Z"
   },
   {
    "duration": 34,
    "start_time": "2021-12-17T13:51:19.730Z"
   },
   {
    "duration": 19,
    "start_time": "2021-12-17T13:51:19.767Z"
   },
   {
    "duration": 12956,
    "start_time": "2021-12-17T13:51:19.789Z"
   },
   {
    "duration": 27,
    "start_time": "2021-12-17T13:51:32.749Z"
   },
   {
    "duration": 89,
    "start_time": "2021-12-17T13:51:32.780Z"
   },
   {
    "duration": 104,
    "start_time": "2021-12-17T13:51:32.872Z"
   },
   {
    "duration": 33,
    "start_time": "2021-12-17T13:51:32.978Z"
   },
   {
    "duration": 36,
    "start_time": "2021-12-17T13:51:33.066Z"
   },
   {
    "duration": 139764,
    "start_time": "2021-12-17T13:51:33.105Z"
   },
   {
    "duration": -528,
    "start_time": "2021-12-17T13:53:53.404Z"
   },
   {
    "duration": -528,
    "start_time": "2021-12-17T13:53:53.406Z"
   },
   {
    "duration": -529,
    "start_time": "2021-12-17T13:53:53.409Z"
   },
   {
    "duration": 335,
    "start_time": "2021-12-17T13:54:30.854Z"
   },
   {
    "duration": 80,
    "start_time": "2021-12-17T14:13:08.391Z"
   },
   {
    "duration": 162,
    "start_time": "2021-12-17T14:13:19.120Z"
   },
   {
    "duration": 30,
    "start_time": "2021-12-17T14:13:25.980Z"
   },
   {
    "duration": 25,
    "start_time": "2021-12-17T14:14:15.417Z"
   },
   {
    "duration": 26,
    "start_time": "2021-12-17T14:14:29.483Z"
   },
   {
    "duration": 30,
    "start_time": "2021-12-17T14:14:34.767Z"
   },
   {
    "duration": 28,
    "start_time": "2021-12-17T14:14:44.269Z"
   },
   {
    "duration": 346,
    "start_time": "2021-12-17T14:16:17.887Z"
   },
   {
    "duration": 2753,
    "start_time": "2021-12-17T14:16:24.646Z"
   },
   {
    "duration": 33,
    "start_time": "2021-12-17T14:16:39.196Z"
   },
   {
    "duration": 62,
    "start_time": "2021-12-17T14:18:39.527Z"
   },
   {
    "duration": 537,
    "start_time": "2021-12-17T14:18:47.117Z"
   },
   {
    "duration": 332,
    "start_time": "2021-12-17T14:19:05.901Z"
   },
   {
    "duration": 39,
    "start_time": "2021-12-17T14:21:20.770Z"
   },
   {
    "duration": 37,
    "start_time": "2021-12-17T14:21:28.253Z"
   },
   {
    "duration": 34,
    "start_time": "2021-12-17T14:21:43.002Z"
   },
   {
    "duration": 39,
    "start_time": "2021-12-17T14:22:31.061Z"
   },
   {
    "duration": 36,
    "start_time": "2021-12-17T14:22:40.360Z"
   },
   {
    "duration": 44,
    "start_time": "2021-12-17T14:25:37.301Z"
   },
   {
    "duration": 19,
    "start_time": "2021-12-17T14:25:47.538Z"
   },
   {
    "duration": 121,
    "start_time": "2021-12-17T14:25:58.183Z"
   },
   {
    "duration": 141,
    "start_time": "2021-12-17T14:26:05.190Z"
   },
   {
    "duration": 106,
    "start_time": "2021-12-17T14:26:12.253Z"
   },
   {
    "duration": 27,
    "start_time": "2021-12-17T14:28:06.180Z"
   },
   {
    "duration": 443,
    "start_time": "2021-12-17T14:28:38.534Z"
   },
   {
    "duration": 338,
    "start_time": "2021-12-17T14:28:51.967Z"
   },
   {
    "duration": 29,
    "start_time": "2021-12-17T14:28:56.957Z"
   },
   {
    "duration": 19,
    "start_time": "2021-12-17T14:29:12.669Z"
   },
   {
    "duration": 695,
    "start_time": "2021-12-17T14:32:39.962Z"
   },
   {
    "duration": 31,
    "start_time": "2021-12-17T14:32:50.165Z"
   },
   {
    "duration": 327,
    "start_time": "2021-12-17T14:32:55.195Z"
   },
   {
    "duration": 26,
    "start_time": "2021-12-17T14:33:21.069Z"
   },
   {
    "duration": 31,
    "start_time": "2021-12-17T14:33:27.932Z"
   },
   {
    "duration": 28,
    "start_time": "2021-12-17T14:33:30.993Z"
   },
   {
    "duration": 21,
    "start_time": "2021-12-17T14:33:38.765Z"
   },
   {
    "duration": 23,
    "start_time": "2021-12-17T14:34:18.929Z"
   },
   {
    "duration": 27,
    "start_time": "2021-12-17T14:35:40.015Z"
   },
   {
    "duration": 28,
    "start_time": "2021-12-17T14:36:00.339Z"
   },
   {
    "duration": 34,
    "start_time": "2021-12-17T14:41:06.096Z"
   },
   {
    "duration": -584,
    "start_time": "2021-12-17T14:42:23.072Z"
   },
   {
    "duration": 774,
    "start_time": "2021-12-17T14:42:25.656Z"
   },
   {
    "duration": 302,
    "start_time": "2021-12-17T14:42:41.430Z"
   },
   {
    "duration": 347,
    "start_time": "2021-12-17T14:42:58.867Z"
   },
   {
    "duration": 32,
    "start_time": "2021-12-17T14:43:09.597Z"
   },
   {
    "duration": 35,
    "start_time": "2021-12-17T14:43:14.759Z"
   },
   {
    "duration": 34,
    "start_time": "2021-12-17T14:43:31.510Z"
   },
   {
    "duration": 49,
    "start_time": "2021-12-17T14:43:36.598Z"
   },
   {
    "duration": 59,
    "start_time": "2021-12-17T14:43:45.067Z"
   },
   {
    "duration": 36,
    "start_time": "2021-12-17T14:43:49.255Z"
   },
   {
    "duration": 37,
    "start_time": "2021-12-17T14:43:51.415Z"
   },
   {
    "duration": 66,
    "start_time": "2021-12-17T14:44:43.313Z"
   },
   {
    "duration": 7462,
    "start_time": "2021-12-17T15:38:06.023Z"
   },
   {
    "duration": 71,
    "start_time": "2021-12-17T15:38:24.316Z"
   },
   {
    "duration": 67,
    "start_time": "2021-12-17T15:39:11.447Z"
   },
   {
    "duration": 104,
    "start_time": "2021-12-17T15:39:53.160Z"
   },
   {
    "duration": 13,
    "start_time": "2021-12-17T15:41:12.760Z"
   },
   {
    "duration": -443,
    "start_time": "2021-12-17T15:41:26.420Z"
   },
   {
    "duration": 8,
    "start_time": "2021-12-17T15:41:27.523Z"
   },
   {
    "duration": 11,
    "start_time": "2021-12-17T15:41:30.584Z"
   },
   {
    "duration": 9,
    "start_time": "2021-12-17T15:41:42.028Z"
   },
   {
    "duration": 13,
    "start_time": "2021-12-17T15:41:50.560Z"
   },
   {
    "duration": 26,
    "start_time": "2021-12-17T16:59:07.882Z"
   },
   {
    "duration": 214,
    "start_time": "2021-12-17T16:59:39.899Z"
   },
   {
    "duration": 376,
    "start_time": "2021-12-17T17:06:39.033Z"
   },
   {
    "duration": 26,
    "start_time": "2021-12-17T17:06:43.865Z"
   },
   {
    "duration": 95,
    "start_time": "2021-12-17T17:07:47.811Z"
   },
   {
    "duration": 35,
    "start_time": "2021-12-17T17:08:04.633Z"
   },
   {
    "duration": 54,
    "start_time": "2021-12-17T17:08:35.470Z"
   },
   {
    "duration": 51,
    "start_time": "2021-12-17T17:08:45.041Z"
   },
   {
    "duration": 52,
    "start_time": "2021-12-17T17:09:02.826Z"
   },
   {
    "duration": 48,
    "start_time": "2021-12-17T17:09:09.786Z"
   },
   {
    "duration": 49,
    "start_time": "2021-12-17T17:09:14.497Z"
   },
   {
    "duration": 52,
    "start_time": "2021-12-17T17:09:32.153Z"
   },
   {
    "duration": 53,
    "start_time": "2021-12-17T17:18:14.208Z"
   },
   {
    "duration": 73,
    "start_time": "2021-12-17T17:18:19.223Z"
   },
   {
    "duration": 71,
    "start_time": "2021-12-17T17:18:22.772Z"
   },
   {
    "duration": 52,
    "start_time": "2021-12-17T17:19:54.452Z"
   },
   {
    "duration": 50,
    "start_time": "2021-12-17T17:22:07.515Z"
   },
   {
    "duration": 2158,
    "start_time": "2021-12-17T17:22:22.391Z"
   },
   {
    "duration": 769,
    "start_time": "2021-12-17T17:22:24.552Z"
   },
   {
    "duration": 22,
    "start_time": "2021-12-17T17:22:25.324Z"
   },
   {
    "duration": 22,
    "start_time": "2021-12-17T17:22:25.348Z"
   },
   {
    "duration": 76,
    "start_time": "2021-12-17T17:22:25.372Z"
   },
   {
    "duration": 4,
    "start_time": "2021-12-17T17:22:25.451Z"
   },
   {
    "duration": 17,
    "start_time": "2021-12-17T17:22:26.352Z"
   },
   {
    "duration": 90,
    "start_time": "2021-12-17T17:22:26.373Z"
   },
   {
    "duration": 14,
    "start_time": "2021-12-17T17:22:26.466Z"
   },
   {
    "duration": 152,
    "start_time": "2021-12-17T17:22:26.484Z"
   },
   {
    "duration": 103,
    "start_time": "2021-12-17T17:22:26.639Z"
   },
   {
    "duration": 6,
    "start_time": "2021-12-17T17:22:26.745Z"
   },
   {
    "duration": 9,
    "start_time": "2021-12-17T17:22:26.764Z"
   },
   {
    "duration": 7,
    "start_time": "2021-12-17T17:22:26.778Z"
   },
   {
    "duration": 7,
    "start_time": "2021-12-17T17:22:26.788Z"
   },
   {
    "duration": 11998,
    "start_time": "2021-12-17T17:22:26.798Z"
   },
   {
    "duration": 63,
    "start_time": "2021-12-17T17:22:38.800Z"
   },
   {
    "duration": 32,
    "start_time": "2021-12-17T17:22:38.865Z"
   },
   {
    "duration": 163,
    "start_time": "2021-12-17T17:22:38.900Z"
   },
   {
    "duration": 121,
    "start_time": "2021-12-17T17:22:39.066Z"
   },
   {
    "duration": 180,
    "start_time": "2021-12-17T17:22:39.190Z"
   },
   {
    "duration": 13,
    "start_time": "2021-12-17T17:22:39.373Z"
   },
   {
    "duration": 187,
    "start_time": "2021-12-17T17:22:39.389Z"
   },
   {
    "duration": 400,
    "start_time": "2021-12-17T17:22:39.579Z"
   },
   {
    "duration": 546,
    "start_time": "2021-12-17T17:22:39.982Z"
   },
   {
    "duration": 92,
    "start_time": "2021-12-17T17:23:47.484Z"
   },
   {
    "duration": 57,
    "start_time": "2021-12-17T17:23:50.832Z"
   },
   {
    "duration": 72,
    "start_time": "2021-12-17T17:24:28.531Z"
   },
   {
    "duration": 2912,
    "start_time": "2021-12-17T17:51:55.620Z"
   },
   {
    "duration": 233,
    "start_time": "2021-12-17T17:51:58.536Z"
   },
   {
    "duration": 26,
    "start_time": "2021-12-17T17:51:58.773Z"
   },
   {
    "duration": 25,
    "start_time": "2021-12-17T17:51:58.803Z"
   },
   {
    "duration": 139,
    "start_time": "2021-12-17T17:51:58.831Z"
   },
   {
    "duration": 5,
    "start_time": "2021-12-17T17:51:58.973Z"
   },
   {
    "duration": 16,
    "start_time": "2021-12-17T17:51:58.980Z"
   },
   {
    "duration": 30,
    "start_time": "2021-12-17T17:51:58.998Z"
   },
   {
    "duration": 42,
    "start_time": "2021-12-17T17:51:59.033Z"
   },
   {
    "duration": 153,
    "start_time": "2021-12-17T17:51:59.079Z"
   },
   {
    "duration": 105,
    "start_time": "2021-12-17T17:51:59.234Z"
   },
   {
    "duration": 5,
    "start_time": "2021-12-17T17:51:59.343Z"
   },
   {
    "duration": 21,
    "start_time": "2021-12-17T17:51:59.352Z"
   },
   {
    "duration": 11,
    "start_time": "2021-12-17T17:51:59.376Z"
   },
   {
    "duration": 6,
    "start_time": "2021-12-17T17:51:59.390Z"
   },
   {
    "duration": 14329,
    "start_time": "2021-12-17T17:51:59.400Z"
   },
   {
    "duration": 44,
    "start_time": "2021-12-17T17:52:13.732Z"
   },
   {
    "duration": 22,
    "start_time": "2021-12-17T17:52:13.779Z"
   },
   {
    "duration": 88,
    "start_time": "2021-12-17T17:52:13.803Z"
   },
   {
    "duration": 91,
    "start_time": "2021-12-17T17:52:13.894Z"
   },
   {
    "duration": 175,
    "start_time": "2021-12-17T17:52:13.988Z"
   },
   {
    "duration": 10,
    "start_time": "2021-12-17T17:52:14.165Z"
   },
   {
    "duration": 205,
    "start_time": "2021-12-17T17:52:14.178Z"
   },
   {
    "duration": 378,
    "start_time": "2021-12-17T17:52:14.386Z"
   },
   {
    "duration": 790,
    "start_time": "2021-12-17T17:52:14.767Z"
   },
   {
    "duration": 467,
    "start_time": "2021-12-17T17:55:04.395Z"
   },
   {
    "duration": 7,
    "start_time": "2021-12-17T18:18:15.420Z"
   },
   {
    "duration": 525,
    "start_time": "2021-12-17T18:18:19.547Z"
   },
   {
    "duration": 6,
    "start_time": "2021-12-17T18:19:42.912Z"
   },
   {
    "duration": 302,
    "start_time": "2021-12-17T18:19:50.093Z"
   },
   {
    "duration": 289,
    "start_time": "2021-12-17T18:19:54.007Z"
   },
   {
    "duration": 320,
    "start_time": "2021-12-17T18:20:02.983Z"
   },
   {
    "duration": 305,
    "start_time": "2021-12-17T18:20:10.347Z"
   },
   {
    "duration": 284,
    "start_time": "2021-12-17T18:20:51.244Z"
   },
   {
    "duration": 7,
    "start_time": "2021-12-17T18:22:14.034Z"
   },
   {
    "duration": 45,
    "start_time": "2021-12-17T18:34:28.733Z"
   },
   {
    "duration": 11,
    "start_time": "2021-12-17T18:34:42.065Z"
   },
   {
    "duration": 13,
    "start_time": "2021-12-17T18:34:47.224Z"
   },
   {
    "duration": 313,
    "start_time": "2021-12-17T18:35:10.834Z"
   },
   {
    "duration": 13,
    "start_time": "2021-12-17T18:35:14.027Z"
   },
   {
    "duration": 14,
    "start_time": "2021-12-17T18:37:01.988Z"
   },
   {
    "duration": 17,
    "start_time": "2021-12-17T18:37:08.328Z"
   },
   {
    "duration": 2449,
    "start_time": "2021-12-17T18:38:18.157Z"
   },
   {
    "duration": 258,
    "start_time": "2021-12-17T18:38:20.609Z"
   },
   {
    "duration": 31,
    "start_time": "2021-12-17T18:38:20.871Z"
   },
   {
    "duration": 30,
    "start_time": "2021-12-17T18:38:20.906Z"
   },
   {
    "duration": 77,
    "start_time": "2021-12-17T18:38:20.962Z"
   },
   {
    "duration": 3,
    "start_time": "2021-12-17T18:38:21.042Z"
   },
   {
    "duration": 11,
    "start_time": "2021-12-17T18:38:21.063Z"
   },
   {
    "duration": 28,
    "start_time": "2021-12-17T18:38:21.076Z"
   },
   {
    "duration": 14,
    "start_time": "2021-12-17T18:38:21.107Z"
   },
   {
    "duration": 166,
    "start_time": "2021-12-17T18:38:21.123Z"
   },
   {
    "duration": 97,
    "start_time": "2021-12-17T18:38:21.292Z"
   },
   {
    "duration": 5,
    "start_time": "2021-12-17T18:38:21.391Z"
   },
   {
    "duration": 12,
    "start_time": "2021-12-17T18:38:21.398Z"
   },
   {
    "duration": 7,
    "start_time": "2021-12-17T18:38:21.413Z"
   },
   {
    "duration": 5,
    "start_time": "2021-12-17T18:38:21.423Z"
   },
   {
    "duration": 12698,
    "start_time": "2021-12-17T18:38:21.431Z"
   },
   {
    "duration": 40,
    "start_time": "2021-12-17T18:38:34.133Z"
   },
   {
    "duration": 88,
    "start_time": "2021-12-17T18:38:34.176Z"
   },
   {
    "duration": 117,
    "start_time": "2021-12-17T18:38:34.267Z"
   },
   {
    "duration": 18,
    "start_time": "2021-12-17T18:38:34.387Z"
   },
   {
    "duration": 33,
    "start_time": "2021-12-17T18:38:34.463Z"
   },
   {
    "duration": 180,
    "start_time": "2021-12-17T18:38:34.499Z"
   },
   {
    "duration": 9,
    "start_time": "2021-12-17T18:38:34.682Z"
   },
   {
    "duration": 113,
    "start_time": "2021-12-17T18:38:34.693Z"
   },
   {
    "duration": 699,
    "start_time": "2021-12-17T18:38:34.809Z"
   },
   {
    "duration": 14,
    "start_time": "2021-12-17T18:42:02.712Z"
   },
   {
    "duration": 535,
    "start_time": "2021-12-17T18:48:18.416Z"
   },
   {
    "duration": 42,
    "start_time": "2021-12-17T18:48:27.308Z"
   },
   {
    "duration": 456,
    "start_time": "2021-12-17T18:48:44.623Z"
   },
   {
    "duration": 33,
    "start_time": "2021-12-17T18:48:47.400Z"
   },
   {
    "duration": 4615,
    "start_time": "2021-12-17T18:48:49.796Z"
   },
   {
    "duration": 10755,
    "start_time": "2021-12-17T18:48:59.883Z"
   },
   {
    "duration": 43,
    "start_time": "2021-12-17T18:49:10.598Z"
   },
   {
    "duration": 39,
    "start_time": "2021-12-17T18:49:13.325Z"
   },
   {
    "duration": 7741,
    "start_time": "2021-12-17T18:49:17.615Z"
   },
   {
    "duration": 105,
    "start_time": "2021-12-17T18:49:39.927Z"
   },
   {
    "duration": 9,
    "start_time": "2021-12-17T18:49:44.542Z"
   },
   {
    "duration": 7,
    "start_time": "2021-12-17T18:49:52.140Z"
   },
   {
    "duration": 4598,
    "start_time": "2021-12-17T18:50:00.604Z"
   },
   {
    "duration": 7169,
    "start_time": "2021-12-17T18:50:24.695Z"
   },
   {
    "duration": 293,
    "start_time": "2021-12-17T18:50:36.862Z"
   },
   {
    "duration": 9,
    "start_time": "2021-12-17T18:51:25.789Z"
   },
   {
    "duration": 10,
    "start_time": "2021-12-17T18:51:33.630Z"
   },
   {
    "duration": 9,
    "start_time": "2021-12-17T18:51:38.798Z"
   },
   {
    "duration": 11,
    "start_time": "2021-12-17T18:51:46.588Z"
   },
   {
    "duration": 7,
    "start_time": "2021-12-17T18:51:58.114Z"
   },
   {
    "duration": 7,
    "start_time": "2021-12-17T18:52:04.143Z"
   },
   {
    "duration": 10,
    "start_time": "2021-12-17T18:52:26.362Z"
   },
   {
    "duration": 11477,
    "start_time": "2021-12-17T18:55:51.190Z"
   },
   {
    "duration": 171,
    "start_time": "2021-12-17T18:56:31.641Z"
   },
   {
    "duration": 6160,
    "start_time": "2021-12-17T18:56:36.444Z"
   },
   {
    "duration": 97,
    "start_time": "2021-12-17T18:57:11.640Z"
   },
   {
    "duration": 1120,
    "start_time": "2021-12-17T18:57:14.837Z"
   },
   {
    "duration": 11514,
    "start_time": "2021-12-17T18:57:33.879Z"
   },
   {
    "duration": 5615,
    "start_time": "2021-12-17T18:59:05.094Z"
   },
   {
    "duration": 5734,
    "start_time": "2021-12-17T19:00:21.225Z"
   },
   {
    "duration": 5711,
    "start_time": "2021-12-17T19:00:40.338Z"
   },
   {
    "duration": 11110,
    "start_time": "2021-12-17T19:00:51.763Z"
   },
   {
    "duration": 280,
    "start_time": "2021-12-17T19:02:09.753Z"
   },
   {
    "duration": 413,
    "start_time": "2021-12-17T19:02:55.708Z"
   },
   {
    "duration": 284,
    "start_time": "2021-12-17T19:03:08.735Z"
   },
   {
    "duration": 11315,
    "start_time": "2021-12-17T19:05:55.735Z"
   },
   {
    "duration": 439,
    "start_time": "2021-12-17T19:06:30.707Z"
   },
   {
    "duration": 371,
    "start_time": "2021-12-17T19:06:36.994Z"
   },
   {
    "duration": 11180,
    "start_time": "2021-12-17T19:07:08.310Z"
   },
   {
    "duration": 1763,
    "start_time": "2021-12-17T19:07:44.042Z"
   },
   {
    "duration": 1476,
    "start_time": "2021-12-17T19:09:24.661Z"
   },
   {
    "duration": 526,
    "start_time": "2021-12-17T19:09:34.967Z"
   },
   {
    "duration": 1279,
    "start_time": "2021-12-17T19:09:42.784Z"
   },
   {
    "duration": 349,
    "start_time": "2021-12-17T19:09:49.796Z"
   },
   {
    "duration": 11162,
    "start_time": "2021-12-17T19:10:29.485Z"
   },
   {
    "duration": 394,
    "start_time": "2021-12-17T19:24:43.374Z"
   },
   {
    "duration": 53,
    "start_time": "2021-12-17T19:24:54.713Z"
   },
   {
    "duration": 50,
    "start_time": "2021-12-17T19:26:23.155Z"
   },
   {
    "duration": 50,
    "start_time": "2021-12-17T19:26:35.782Z"
   },
   {
    "duration": 50,
    "start_time": "2021-12-17T19:26:49.882Z"
   },
   {
    "duration": 49,
    "start_time": "2021-12-17T19:26:56.980Z"
   },
   {
    "duration": 256,
    "start_time": "2021-12-20T18:20:46.559Z"
   },
   {
    "duration": 1377,
    "start_time": "2021-12-20T18:20:51.762Z"
   },
   {
    "duration": 124,
    "start_time": "2021-12-20T18:20:53.142Z"
   },
   {
    "duration": 25,
    "start_time": "2021-12-20T18:20:53.268Z"
   },
   {
    "duration": 43,
    "start_time": "2021-12-20T18:20:53.294Z"
   },
   {
    "duration": 66,
    "start_time": "2021-12-20T18:20:53.339Z"
   },
   {
    "duration": 3,
    "start_time": "2021-12-20T18:20:53.407Z"
   },
   {
    "duration": 22,
    "start_time": "2021-12-20T18:20:53.411Z"
   },
   {
    "duration": 58,
    "start_time": "2021-12-20T18:20:53.436Z"
   },
   {
    "duration": 22,
    "start_time": "2021-12-20T18:20:53.496Z"
   },
   {
    "duration": 98,
    "start_time": "2021-12-20T18:20:53.520Z"
   },
   {
    "duration": 58,
    "start_time": "2021-12-20T18:20:53.620Z"
   },
   {
    "duration": 12,
    "start_time": "2021-12-20T18:20:53.680Z"
   },
   {
    "duration": 16,
    "start_time": "2021-12-20T18:20:53.694Z"
   },
   {
    "duration": 15,
    "start_time": "2021-12-20T18:20:53.712Z"
   },
   {
    "duration": 30,
    "start_time": "2021-12-20T18:20:53.729Z"
   },
   {
    "duration": 7278,
    "start_time": "2021-12-20T18:20:53.760Z"
   },
   {
    "duration": 11,
    "start_time": "2021-12-20T18:21:01.040Z"
   },
   {
    "duration": 17,
    "start_time": "2021-12-20T18:21:01.091Z"
   },
   {
    "duration": 84,
    "start_time": "2021-12-20T18:21:01.110Z"
   },
   {
    "duration": 10,
    "start_time": "2021-12-20T18:21:01.196Z"
   },
   {
    "duration": 84,
    "start_time": "2021-12-20T18:21:01.208Z"
   },
   {
    "duration": 128,
    "start_time": "2021-12-20T18:21:01.295Z"
   },
   {
    "duration": 7,
    "start_time": "2021-12-20T18:21:01.425Z"
   },
   {
    "duration": 101,
    "start_time": "2021-12-20T18:21:01.434Z"
   },
   {
    "duration": 471,
    "start_time": "2021-12-20T18:21:01.537Z"
   },
   {
    "duration": 81,
    "start_time": "2021-12-20T18:21:02.010Z"
   },
   {
    "duration": 39,
    "start_time": "2021-12-20T18:21:02.093Z"
   },
   {
    "duration": 28,
    "start_time": "2021-12-20T18:21:02.134Z"
   },
   {
    "duration": 53,
    "start_time": "2021-12-20T18:21:43.447Z"
   },
   {
    "duration": 56,
    "start_time": "2021-12-20T18:21:58.024Z"
   },
   {
    "duration": 57,
    "start_time": "2021-12-20T18:22:03.843Z"
   },
   {
    "duration": 410,
    "start_time": "2021-12-20T18:22:18.158Z"
   },
   {
    "duration": 54,
    "start_time": "2021-12-20T18:22:21.581Z"
   },
   {
    "duration": 75,
    "start_time": "2021-12-20T18:23:01.946Z"
   },
   {
    "duration": 65,
    "start_time": "2021-12-20T18:23:20.071Z"
   },
   {
    "duration": 573,
    "start_time": "2021-12-20T18:23:38.296Z"
   },
   {
    "duration": 193,
    "start_time": "2021-12-20T18:23:42.590Z"
   },
   {
    "duration": 57,
    "start_time": "2021-12-20T18:23:57.472Z"
   },
   {
    "duration": 66,
    "start_time": "2021-12-20T18:24:01.911Z"
   },
   {
    "duration": 54,
    "start_time": "2021-12-20T18:24:13.468Z"
   },
   {
    "duration": 57,
    "start_time": "2021-12-20T18:24:19.283Z"
   },
   {
    "duration": 53,
    "start_time": "2021-12-20T18:24:22.952Z"
   },
   {
    "duration": 29,
    "start_time": "2021-12-20T18:56:41.396Z"
   },
   {
    "duration": 381,
    "start_time": "2021-12-20T19:00:06.205Z"
   },
   {
    "duration": 240,
    "start_time": "2021-12-20T19:00:11.039Z"
   },
   {
    "duration": 212,
    "start_time": "2021-12-20T19:01:03.030Z"
   },
   {
    "duration": 221,
    "start_time": "2021-12-20T19:01:30.857Z"
   },
   {
    "duration": 31,
    "start_time": "2021-12-20T19:52:02.446Z"
   },
   {
    "duration": 207,
    "start_time": "2021-12-20T19:52:03.755Z"
   },
   {
    "duration": 11,
    "start_time": "2021-12-20T19:53:19.529Z"
   },
   {
    "duration": 6,
    "start_time": "2021-12-20T19:54:09.408Z"
   },
   {
    "duration": 13,
    "start_time": "2021-12-20T19:54:17.660Z"
   },
   {
    "duration": 1863,
    "start_time": "2021-12-20T19:54:24.935Z"
   },
   {
    "duration": 117,
    "start_time": "2021-12-20T19:54:26.800Z"
   },
   {
    "duration": 14,
    "start_time": "2021-12-20T19:54:26.919Z"
   },
   {
    "duration": 15,
    "start_time": "2021-12-20T19:54:26.935Z"
   },
   {
    "duration": 61,
    "start_time": "2021-12-20T19:54:26.952Z"
   },
   {
    "duration": 3,
    "start_time": "2021-12-20T19:54:27.015Z"
   },
   {
    "duration": 15,
    "start_time": "2021-12-20T19:54:27.019Z"
   },
   {
    "duration": 24,
    "start_time": "2021-12-20T19:54:27.037Z"
   },
   {
    "duration": 10,
    "start_time": "2021-12-20T19:54:27.063Z"
   },
   {
    "duration": 98,
    "start_time": "2021-12-20T19:54:27.075Z"
   },
   {
    "duration": 69,
    "start_time": "2021-12-20T19:54:27.174Z"
   },
   {
    "duration": 4,
    "start_time": "2021-12-20T19:54:27.245Z"
   },
   {
    "duration": 11,
    "start_time": "2021-12-20T19:54:27.251Z"
   },
   {
    "duration": 27,
    "start_time": "2021-12-20T19:54:27.264Z"
   },
   {
    "duration": 26,
    "start_time": "2021-12-20T19:54:27.293Z"
   },
   {
    "duration": 7119,
    "start_time": "2021-12-20T19:54:27.321Z"
   },
   {
    "duration": 11,
    "start_time": "2021-12-20T19:54:34.442Z"
   },
   {
    "duration": 48,
    "start_time": "2021-12-20T19:54:34.455Z"
   },
   {
    "duration": 31,
    "start_time": "2021-12-20T19:54:34.504Z"
   },
   {
    "duration": 62,
    "start_time": "2021-12-20T19:54:34.537Z"
   },
   {
    "duration": 24,
    "start_time": "2021-12-20T19:54:34.601Z"
   },
   {
    "duration": 102,
    "start_time": "2021-12-20T19:54:34.626Z"
   },
   {
    "duration": 5,
    "start_time": "2021-12-20T19:54:34.731Z"
   },
   {
    "duration": 90,
    "start_time": "2021-12-20T19:54:34.738Z"
   },
   {
    "duration": 390,
    "start_time": "2021-12-20T19:54:34.830Z"
   },
   {
    "duration": 82,
    "start_time": "2021-12-20T19:54:35.222Z"
   },
   {
    "duration": 238,
    "start_time": "2021-12-20T19:54:35.305Z"
   },
   {
    "duration": 10,
    "start_time": "2021-12-20T19:54:35.545Z"
   },
   {
    "duration": 63,
    "start_time": "2021-12-20T19:54:35.557Z"
   },
   {
    "duration": 352,
    "start_time": "2021-12-20T20:03:17.176Z"
   },
   {
    "duration": 280,
    "start_time": "2021-12-20T20:03:34.909Z"
   },
   {
    "duration": 4408,
    "start_time": "2021-12-20T20:04:52.000Z"
   },
   {
    "duration": 6,
    "start_time": "2021-12-20T20:06:21.086Z"
   },
   {
    "duration": 7,
    "start_time": "2021-12-20T20:06:25.069Z"
   },
   {
    "duration": 5,
    "start_time": "2021-12-20T20:06:32.137Z"
   },
   {
    "duration": 9,
    "start_time": "2021-12-20T20:06:32.890Z"
   },
   {
    "duration": 5,
    "start_time": "2021-12-20T20:06:46.137Z"
   },
   {
    "duration": 8,
    "start_time": "2021-12-20T20:06:47.644Z"
   },
   {
    "duration": 8,
    "start_time": "2021-12-20T20:07:20.869Z"
   },
   {
    "duration": 8,
    "start_time": "2021-12-20T20:07:21.652Z"
   },
   {
    "duration": 54,
    "start_time": "2021-12-20T20:07:54.854Z"
   },
   {
    "duration": 7,
    "start_time": "2021-12-20T20:07:58.379Z"
   },
   {
    "duration": 8,
    "start_time": "2021-12-20T20:07:59.529Z"
   },
   {
    "duration": 1413,
    "start_time": "2021-12-20T20:08:12.432Z"
   },
   {
    "duration": 128,
    "start_time": "2021-12-20T20:08:13.847Z"
   },
   {
    "duration": 21,
    "start_time": "2021-12-20T20:08:13.980Z"
   },
   {
    "duration": 15,
    "start_time": "2021-12-20T20:08:14.003Z"
   },
   {
    "duration": 77,
    "start_time": "2021-12-20T20:08:14.020Z"
   },
   {
    "duration": 3,
    "start_time": "2021-12-20T20:08:14.099Z"
   },
   {
    "duration": 10,
    "start_time": "2021-12-20T20:08:14.106Z"
   },
   {
    "duration": 31,
    "start_time": "2021-12-20T20:08:14.118Z"
   },
   {
    "duration": 12,
    "start_time": "2021-12-20T20:08:14.151Z"
   },
   {
    "duration": 87,
    "start_time": "2021-12-20T20:08:14.192Z"
   },
   {
    "duration": 70,
    "start_time": "2021-12-20T20:08:14.281Z"
   },
   {
    "duration": 4,
    "start_time": "2021-12-20T20:08:14.353Z"
   },
   {
    "duration": 9,
    "start_time": "2021-12-20T20:08:14.359Z"
   },
   {
    "duration": 6,
    "start_time": "2021-12-20T20:08:14.392Z"
   },
   {
    "duration": 8,
    "start_time": "2021-12-20T20:08:14.400Z"
   },
   {
    "duration": 8101,
    "start_time": "2021-12-20T20:08:14.412Z"
   },
   {
    "duration": 17,
    "start_time": "2021-12-20T20:08:22.515Z"
   },
   {
    "duration": 70,
    "start_time": "2021-12-20T20:08:22.535Z"
   },
   {
    "duration": 85,
    "start_time": "2021-12-20T20:08:22.608Z"
   },
   {
    "duration": 12,
    "start_time": "2021-12-20T20:08:22.695Z"
   },
   {
    "duration": 83,
    "start_time": "2021-12-20T20:08:22.709Z"
   },
   {
    "duration": 109,
    "start_time": "2021-12-20T20:08:22.795Z"
   },
   {
    "duration": 7,
    "start_time": "2021-12-20T20:08:22.907Z"
   },
   {
    "duration": 93,
    "start_time": "2021-12-20T20:08:22.915Z"
   },
   {
    "duration": 497,
    "start_time": "2021-12-20T20:08:23.010Z"
   },
   {
    "duration": 83,
    "start_time": "2021-12-20T20:08:23.509Z"
   },
   {
    "duration": 271,
    "start_time": "2021-12-20T20:08:23.594Z"
   },
   {
    "duration": 10,
    "start_time": "2021-12-20T20:08:23.866Z"
   },
   {
    "duration": 19,
    "start_time": "2021-12-20T20:08:23.878Z"
   },
   {
    "duration": 9,
    "start_time": "2021-12-20T20:08:23.899Z"
   },
   {
    "duration": 53,
    "start_time": "2021-12-20T20:08:23.910Z"
   },
   {
    "duration": 8,
    "start_time": "2021-12-20T20:08:32.643Z"
   },
   {
    "duration": 10,
    "start_time": "2021-12-20T20:08:33.165Z"
   },
   {
    "duration": 4,
    "start_time": "2021-12-20T20:09:29.308Z"
   },
   {
    "duration": 8,
    "start_time": "2021-12-20T20:09:30.205Z"
   },
   {
    "duration": 1353,
    "start_time": "2021-12-20T20:09:50.952Z"
   },
   {
    "duration": 123,
    "start_time": "2021-12-20T20:09:52.307Z"
   },
   {
    "duration": 15,
    "start_time": "2021-12-20T20:09:52.432Z"
   },
   {
    "duration": 14,
    "start_time": "2021-12-20T20:09:52.449Z"
   },
   {
    "duration": 71,
    "start_time": "2021-12-20T20:09:52.465Z"
   },
   {
    "duration": 2,
    "start_time": "2021-12-20T20:09:52.538Z"
   },
   {
    "duration": 15,
    "start_time": "2021-12-20T20:09:52.542Z"
   },
   {
    "duration": 37,
    "start_time": "2021-12-20T20:09:52.558Z"
   },
   {
    "duration": 9,
    "start_time": "2021-12-20T20:09:52.597Z"
   },
   {
    "duration": 104,
    "start_time": "2021-12-20T20:09:52.608Z"
   },
   {
    "duration": 78,
    "start_time": "2021-12-20T20:09:52.714Z"
   },
   {
    "duration": 3,
    "start_time": "2021-12-20T20:09:52.794Z"
   },
   {
    "duration": 8,
    "start_time": "2021-12-20T20:09:52.798Z"
   },
   {
    "duration": 6,
    "start_time": "2021-12-20T20:09:52.808Z"
   },
   {
    "duration": 5,
    "start_time": "2021-12-20T20:09:52.816Z"
   },
   {
    "duration": 7309,
    "start_time": "2021-12-20T20:09:52.823Z"
   },
   {
    "duration": 13,
    "start_time": "2021-12-20T20:10:00.135Z"
   },
   {
    "duration": 70,
    "start_time": "2021-12-20T20:10:00.150Z"
   },
   {
    "duration": 80,
    "start_time": "2021-12-20T20:10:00.221Z"
   },
   {
    "duration": 10,
    "start_time": "2021-12-20T20:10:00.303Z"
   },
   {
    "duration": 82,
    "start_time": "2021-12-20T20:10:00.315Z"
   },
   {
    "duration": 111,
    "start_time": "2021-12-20T20:10:00.399Z"
   },
   {
    "duration": 10,
    "start_time": "2021-12-20T20:10:00.512Z"
   },
   {
    "duration": 97,
    "start_time": "2021-12-20T20:10:00.524Z"
   },
   {
    "duration": 409,
    "start_time": "2021-12-20T20:10:00.622Z"
   },
   {
    "duration": 61,
    "start_time": "2021-12-20T20:10:01.032Z"
   },
   {
    "duration": 218,
    "start_time": "2021-12-20T20:10:01.096Z"
   },
   {
    "duration": 10,
    "start_time": "2021-12-20T20:10:01.316Z"
   },
   {
    "duration": 446,
    "start_time": "2021-12-20T20:10:01.328Z"
   },
   {
    "duration": -255,
    "start_time": "2021-12-20T20:10:02.031Z"
   },
   {
    "duration": -263,
    "start_time": "2021-12-20T20:10:02.040Z"
   },
   {
    "duration": 185,
    "start_time": "2021-12-20T20:10:18.725Z"
   },
   {
    "duration": 5,
    "start_time": "2021-12-20T20:10:47.055Z"
   },
   {
    "duration": 185,
    "start_time": "2021-12-20T20:11:18.340Z"
   },
   {
    "duration": 60,
    "start_time": "2021-12-20T20:12:32.613Z"
   },
   {
    "duration": 205,
    "start_time": "2021-12-20T20:12:35.309Z"
   },
   {
    "duration": 10,
    "start_time": "2021-12-20T20:13:44.956Z"
   },
   {
    "duration": 229,
    "start_time": "2021-12-20T20:15:06.393Z"
   },
   {
    "duration": 63,
    "start_time": "2021-12-20T20:15:16.087Z"
   },
   {
    "duration": 8,
    "start_time": "2021-12-20T20:15:25.716Z"
   },
   {
    "duration": 7,
    "start_time": "2021-12-20T20:16:09.713Z"
   },
   {
    "duration": 8,
    "start_time": "2021-12-20T20:16:13.333Z"
   },
   {
    "duration": 194,
    "start_time": "2021-12-20T20:16:48.576Z"
   },
   {
    "duration": 194,
    "start_time": "2021-12-20T20:17:44.614Z"
   },
   {
    "duration": 209,
    "start_time": "2021-12-20T20:17:48.986Z"
   },
   {
    "duration": 1651,
    "start_time": "2021-12-20T20:18:01.079Z"
   },
   {
    "duration": 122,
    "start_time": "2021-12-20T20:18:02.732Z"
   },
   {
    "duration": 16,
    "start_time": "2021-12-20T20:18:02.856Z"
   },
   {
    "duration": 23,
    "start_time": "2021-12-20T20:18:02.873Z"
   },
   {
    "duration": 52,
    "start_time": "2021-12-20T20:18:02.898Z"
   },
   {
    "duration": 2,
    "start_time": "2021-12-20T20:18:02.952Z"
   },
   {
    "duration": 9,
    "start_time": "2021-12-20T20:18:02.956Z"
   },
   {
    "duration": 40,
    "start_time": "2021-12-20T20:18:02.968Z"
   },
   {
    "duration": 9,
    "start_time": "2021-12-20T20:18:03.010Z"
   },
   {
    "duration": 98,
    "start_time": "2021-12-20T20:18:03.020Z"
   },
   {
    "duration": 59,
    "start_time": "2021-12-20T20:18:03.119Z"
   },
   {
    "duration": 12,
    "start_time": "2021-12-20T20:18:03.180Z"
   },
   {
    "duration": 7,
    "start_time": "2021-12-20T20:18:03.194Z"
   },
   {
    "duration": 6,
    "start_time": "2021-12-20T20:18:03.202Z"
   },
   {
    "duration": 4,
    "start_time": "2021-12-20T20:18:03.209Z"
   },
   {
    "duration": 7187,
    "start_time": "2021-12-20T20:18:03.215Z"
   },
   {
    "duration": 12,
    "start_time": "2021-12-20T20:18:10.404Z"
   },
   {
    "duration": 16,
    "start_time": "2021-12-20T20:18:10.417Z"
   },
   {
    "duration": 85,
    "start_time": "2021-12-20T20:18:10.434Z"
   },
   {
    "duration": 9,
    "start_time": "2021-12-20T20:18:10.521Z"
   },
   {
    "duration": 83,
    "start_time": "2021-12-20T20:18:10.531Z"
   },
   {
    "duration": 105,
    "start_time": "2021-12-20T20:18:10.616Z"
   },
   {
    "duration": 6,
    "start_time": "2021-12-20T20:18:10.724Z"
   },
   {
    "duration": 90,
    "start_time": "2021-12-20T20:18:10.731Z"
   },
   {
    "duration": 400,
    "start_time": "2021-12-20T20:18:10.822Z"
   },
   {
    "duration": 80,
    "start_time": "2021-12-20T20:18:11.224Z"
   },
   {
    "duration": 248,
    "start_time": "2021-12-20T20:18:11.306Z"
   },
   {
    "duration": 10,
    "start_time": "2021-12-20T20:18:11.556Z"
   },
   {
    "duration": 337,
    "start_time": "2021-12-20T20:18:11.568Z"
   },
   {
    "duration": -1163,
    "start_time": "2021-12-20T20:18:13.070Z"
   },
   {
    "duration": -1166,
    "start_time": "2021-12-20T20:18:13.074Z"
   },
   {
    "duration": -1168,
    "start_time": "2021-12-20T20:18:13.077Z"
   },
   {
    "duration": -1172,
    "start_time": "2021-12-20T20:18:13.081Z"
   },
   {
    "duration": 182,
    "start_time": "2021-12-20T20:18:20.063Z"
   },
   {
    "duration": 7,
    "start_time": "2021-12-20T20:18:25.812Z"
   },
   {
    "duration": 8,
    "start_time": "2021-12-20T20:18:27.125Z"
   },
   {
    "duration": 199,
    "start_time": "2021-12-20T20:18:36.482Z"
   },
   {
    "duration": 1398,
    "start_time": "2021-12-20T20:18:49.513Z"
   },
   {
    "duration": 128,
    "start_time": "2021-12-20T20:18:50.913Z"
   },
   {
    "duration": 16,
    "start_time": "2021-12-20T20:18:51.043Z"
   },
   {
    "duration": 30,
    "start_time": "2021-12-20T20:18:51.061Z"
   },
   {
    "duration": 54,
    "start_time": "2021-12-20T20:18:51.093Z"
   },
   {
    "duration": 4,
    "start_time": "2021-12-20T20:18:51.148Z"
   },
   {
    "duration": 9,
    "start_time": "2021-12-20T20:18:51.153Z"
   },
   {
    "duration": 42,
    "start_time": "2021-12-20T20:18:51.164Z"
   },
   {
    "duration": 9,
    "start_time": "2021-12-20T20:18:51.209Z"
   },
   {
    "duration": 104,
    "start_time": "2021-12-20T20:18:51.220Z"
   },
   {
    "duration": 67,
    "start_time": "2021-12-20T20:18:51.325Z"
   },
   {
    "duration": 4,
    "start_time": "2021-12-20T20:18:51.394Z"
   },
   {
    "duration": 12,
    "start_time": "2021-12-20T20:18:51.400Z"
   },
   {
    "duration": 26,
    "start_time": "2021-12-20T20:18:51.414Z"
   },
   {
    "duration": 14,
    "start_time": "2021-12-20T20:18:51.442Z"
   },
   {
    "duration": 7368,
    "start_time": "2021-12-20T20:18:51.458Z"
   },
   {
    "duration": 13,
    "start_time": "2021-12-20T20:18:58.828Z"
   },
   {
    "duration": 51,
    "start_time": "2021-12-20T20:18:58.843Z"
   },
   {
    "duration": 33,
    "start_time": "2021-12-20T20:18:58.896Z"
   },
   {
    "duration": 62,
    "start_time": "2021-12-20T20:18:58.930Z"
   },
   {
    "duration": 24,
    "start_time": "2021-12-20T20:18:58.994Z"
   },
   {
    "duration": 101,
    "start_time": "2021-12-20T20:18:59.019Z"
   },
   {
    "duration": 6,
    "start_time": "2021-12-20T20:18:59.122Z"
   },
   {
    "duration": 87,
    "start_time": "2021-12-20T20:18:59.129Z"
   },
   {
    "duration": 405,
    "start_time": "2021-12-20T20:18:59.218Z"
   },
   {
    "duration": 84,
    "start_time": "2021-12-20T20:18:59.625Z"
   },
   {
    "duration": 269,
    "start_time": "2021-12-20T20:18:59.712Z"
   },
   {
    "duration": 16,
    "start_time": "2021-12-20T20:18:59.982Z"
   },
   {
    "duration": 371,
    "start_time": "2021-12-20T20:19:00.000Z"
   },
   {
    "duration": -671,
    "start_time": "2021-12-20T20:19:01.044Z"
   },
   {
    "duration": -674,
    "start_time": "2021-12-20T20:19:01.048Z"
   },
   {
    "duration": -676,
    "start_time": "2021-12-20T20:19:01.051Z"
   },
   {
    "duration": -678,
    "start_time": "2021-12-20T20:19:01.054Z"
   },
   {
    "duration": 9,
    "start_time": "2021-12-20T20:19:06.996Z"
   },
   {
    "duration": 9,
    "start_time": "2021-12-20T20:19:07.836Z"
   },
   {
    "duration": 1309,
    "start_time": "2021-12-20T20:19:39.016Z"
   },
   {
    "duration": 126,
    "start_time": "2021-12-20T20:19:40.326Z"
   },
   {
    "duration": 15,
    "start_time": "2021-12-20T20:19:40.454Z"
   },
   {
    "duration": 27,
    "start_time": "2021-12-20T20:19:40.471Z"
   },
   {
    "duration": 61,
    "start_time": "2021-12-20T20:19:40.500Z"
   },
   {
    "duration": 2,
    "start_time": "2021-12-20T20:19:40.563Z"
   },
   {
    "duration": 22,
    "start_time": "2021-12-20T20:19:40.567Z"
   },
   {
    "duration": 28,
    "start_time": "2021-12-20T20:19:40.591Z"
   },
   {
    "duration": 9,
    "start_time": "2021-12-20T20:19:40.621Z"
   },
   {
    "duration": 93,
    "start_time": "2021-12-20T20:19:40.631Z"
   },
   {
    "duration": 68,
    "start_time": "2021-12-20T20:19:40.726Z"
   },
   {
    "duration": 3,
    "start_time": "2021-12-20T20:19:40.795Z"
   },
   {
    "duration": 10,
    "start_time": "2021-12-20T20:19:40.800Z"
   },
   {
    "duration": 28,
    "start_time": "2021-12-20T20:19:40.812Z"
   },
   {
    "duration": 13,
    "start_time": "2021-12-20T20:19:40.842Z"
   },
   {
    "duration": 7057,
    "start_time": "2021-12-20T20:19:40.857Z"
   },
   {
    "duration": 13,
    "start_time": "2021-12-20T20:19:47.916Z"
   },
   {
    "duration": 70,
    "start_time": "2021-12-20T20:19:47.930Z"
   },
   {
    "duration": 91,
    "start_time": "2021-12-20T20:19:48.002Z"
   },
   {
    "duration": 10,
    "start_time": "2021-12-20T20:19:48.095Z"
   },
   {
    "duration": 38,
    "start_time": "2021-12-20T20:19:48.106Z"
   },
   {
    "duration": 101,
    "start_time": "2021-12-20T20:19:48.191Z"
   },
   {
    "duration": 7,
    "start_time": "2021-12-20T20:19:48.295Z"
   },
   {
    "duration": 98,
    "start_time": "2021-12-20T20:19:48.304Z"
   },
   {
    "duration": 352,
    "start_time": "2021-12-20T20:19:48.403Z"
   },
   {
    "duration": 30,
    "start_time": "2021-12-20T20:19:48.792Z"
   },
   {
    "duration": 214,
    "start_time": "2021-12-20T20:19:48.823Z"
   },
   {
    "duration": 9,
    "start_time": "2021-12-20T20:19:49.038Z"
   },
   {
    "duration": 23,
    "start_time": "2021-12-20T20:19:49.049Z"
   },
   {
    "duration": 19,
    "start_time": "2021-12-20T20:19:49.073Z"
   },
   {
    "duration": 365,
    "start_time": "2021-12-20T20:19:49.093Z"
   },
   {
    "duration": -764,
    "start_time": "2021-12-20T20:19:50.224Z"
   },
   {
    "duration": -766,
    "start_time": "2021-12-20T20:19:50.226Z"
   },
   {
    "duration": 3,
    "start_time": "2021-12-20T20:21:56.914Z"
   },
   {
    "duration": 8,
    "start_time": "2021-12-20T20:22:03.510Z"
   },
   {
    "duration": 5,
    "start_time": "2021-12-20T20:23:33.936Z"
   },
   {
    "duration": 9,
    "start_time": "2021-12-20T20:23:34.655Z"
   },
   {
    "duration": 1337,
    "start_time": "2021-12-20T20:24:01.618Z"
   },
   {
    "duration": 122,
    "start_time": "2021-12-20T20:24:02.957Z"
   },
   {
    "duration": 25,
    "start_time": "2021-12-20T20:24:03.082Z"
   },
   {
    "duration": 21,
    "start_time": "2021-12-20T20:24:03.109Z"
   },
   {
    "duration": 65,
    "start_time": "2021-12-20T20:24:03.132Z"
   },
   {
    "duration": 3,
    "start_time": "2021-12-20T20:24:03.198Z"
   },
   {
    "duration": 21,
    "start_time": "2021-12-20T20:24:03.203Z"
   },
   {
    "duration": 37,
    "start_time": "2021-12-20T20:24:03.227Z"
   },
   {
    "duration": 9,
    "start_time": "2021-12-20T20:24:03.266Z"
   },
   {
    "duration": 100,
    "start_time": "2021-12-20T20:24:03.276Z"
   },
   {
    "duration": 62,
    "start_time": "2021-12-20T20:24:03.378Z"
   },
   {
    "duration": 3,
    "start_time": "2021-12-20T20:24:03.442Z"
   },
   {
    "duration": 7,
    "start_time": "2021-12-20T20:24:03.446Z"
   },
   {
    "duration": 8,
    "start_time": "2021-12-20T20:24:03.454Z"
   },
   {
    "duration": 6,
    "start_time": "2021-12-20T20:24:03.463Z"
   },
   {
    "duration": 7163,
    "start_time": "2021-12-20T20:24:03.491Z"
   },
   {
    "duration": 39,
    "start_time": "2021-12-20T20:24:10.657Z"
   },
   {
    "duration": 16,
    "start_time": "2021-12-20T20:24:10.698Z"
   },
   {
    "duration": 86,
    "start_time": "2021-12-20T20:24:10.715Z"
   },
   {
    "duration": 10,
    "start_time": "2021-12-20T20:24:10.802Z"
   },
   {
    "duration": 81,
    "start_time": "2021-12-20T20:24:10.813Z"
   },
   {
    "duration": 98,
    "start_time": "2021-12-20T20:24:10.895Z"
   },
   {
    "duration": 6,
    "start_time": "2021-12-20T20:24:10.996Z"
   },
   {
    "duration": 93,
    "start_time": "2021-12-20T20:24:11.004Z"
   },
   {
    "duration": 411,
    "start_time": "2021-12-20T20:24:11.099Z"
   },
   {
    "duration": 86,
    "start_time": "2021-12-20T20:24:11.511Z"
   },
   {
    "duration": 257,
    "start_time": "2021-12-20T20:24:11.599Z"
   },
   {
    "duration": 8,
    "start_time": "2021-12-20T20:24:11.858Z"
   },
   {
    "duration": 62,
    "start_time": "2021-12-20T20:24:11.868Z"
   },
   {
    "duration": -809,
    "start_time": "2021-12-20T20:24:12.741Z"
   },
   {
    "duration": -810,
    "start_time": "2021-12-20T20:24:12.743Z"
   },
   {
    "duration": -812,
    "start_time": "2021-12-20T20:24:12.746Z"
   },
   {
    "duration": -815,
    "start_time": "2021-12-20T20:24:12.749Z"
   },
   {
    "duration": -817,
    "start_time": "2021-12-20T20:24:12.752Z"
   },
   {
    "duration": 7,
    "start_time": "2021-12-20T20:24:23.296Z"
   },
   {
    "duration": 8,
    "start_time": "2021-12-20T20:24:26.315Z"
   },
   {
    "duration": 1512,
    "start_time": "2021-12-20T20:25:19.727Z"
   },
   {
    "duration": 130,
    "start_time": "2021-12-20T20:25:21.241Z"
   },
   {
    "duration": 20,
    "start_time": "2021-12-20T20:25:21.373Z"
   },
   {
    "duration": 16,
    "start_time": "2021-12-20T20:25:21.395Z"
   },
   {
    "duration": 53,
    "start_time": "2021-12-20T20:25:21.413Z"
   },
   {
    "duration": 3,
    "start_time": "2021-12-20T20:25:21.468Z"
   },
   {
    "duration": 7,
    "start_time": "2021-12-20T20:25:21.491Z"
   },
   {
    "duration": 20,
    "start_time": "2021-12-20T20:25:21.501Z"
   },
   {
    "duration": 9,
    "start_time": "2021-12-20T20:25:21.523Z"
   },
   {
    "duration": 105,
    "start_time": "2021-12-20T20:25:21.534Z"
   },
   {
    "duration": 71,
    "start_time": "2021-12-20T20:25:21.641Z"
   },
   {
    "duration": 3,
    "start_time": "2021-12-20T20:25:21.714Z"
   },
   {
    "duration": 7,
    "start_time": "2021-12-20T20:25:21.719Z"
   },
   {
    "duration": 8,
    "start_time": "2021-12-20T20:25:21.728Z"
   },
   {
    "duration": 5,
    "start_time": "2021-12-20T20:25:21.737Z"
   },
   {
    "duration": 6988,
    "start_time": "2021-12-20T20:25:21.743Z"
   },
   {
    "duration": 12,
    "start_time": "2021-12-20T20:25:28.732Z"
   },
   {
    "duration": 51,
    "start_time": "2021-12-20T20:25:28.746Z"
   },
   {
    "duration": 32,
    "start_time": "2021-12-20T20:25:28.799Z"
   },
   {
    "duration": 62,
    "start_time": "2021-12-20T20:25:28.832Z"
   },
   {
    "duration": 24,
    "start_time": "2021-12-20T20:25:28.896Z"
   },
   {
    "duration": 104,
    "start_time": "2021-12-20T20:25:28.922Z"
   },
   {
    "duration": 6,
    "start_time": "2021-12-20T20:25:29.030Z"
   },
   {
    "duration": 94,
    "start_time": "2021-12-20T20:25:29.038Z"
   },
   {
    "duration": 469,
    "start_time": "2021-12-20T20:25:29.134Z"
   },
   {
    "duration": 37,
    "start_time": "2021-12-20T20:25:29.605Z"
   },
   {
    "duration": 277,
    "start_time": "2021-12-20T20:25:29.644Z"
   },
   {
    "duration": 10,
    "start_time": "2021-12-20T20:25:29.923Z"
   },
   {
    "duration": 6,
    "start_time": "2021-12-20T20:25:29.935Z"
   },
   {
    "duration": 11,
    "start_time": "2021-12-20T20:25:29.943Z"
   },
   {
    "duration": 9,
    "start_time": "2021-12-20T20:25:29.956Z"
   },
   {
    "duration": 381,
    "start_time": "2021-12-20T20:25:29.992Z"
   },
   {
    "duration": -425,
    "start_time": "2021-12-20T20:25:30.800Z"
   },
   {
    "duration": -427,
    "start_time": "2021-12-20T20:25:30.803Z"
   },
   {
    "duration": 1258,
    "start_time": "2021-12-20T20:26:35.147Z"
   },
   {
    "duration": 123,
    "start_time": "2021-12-20T20:26:36.407Z"
   },
   {
    "duration": 15,
    "start_time": "2021-12-20T20:26:36.532Z"
   },
   {
    "duration": 16,
    "start_time": "2021-12-20T20:26:36.549Z"
   },
   {
    "duration": 65,
    "start_time": "2021-12-20T20:26:36.567Z"
   },
   {
    "duration": 3,
    "start_time": "2021-12-20T20:26:36.633Z"
   },
   {
    "duration": 16,
    "start_time": "2021-12-20T20:26:36.638Z"
   },
   {
    "duration": 21,
    "start_time": "2021-12-20T20:26:36.657Z"
   },
   {
    "duration": 18,
    "start_time": "2021-12-20T20:26:36.680Z"
   },
   {
    "duration": 94,
    "start_time": "2021-12-20T20:26:36.700Z"
   },
   {
    "duration": 61,
    "start_time": "2021-12-20T20:26:36.796Z"
   },
   {
    "duration": 4,
    "start_time": "2021-12-20T20:26:36.859Z"
   },
   {
    "duration": 7,
    "start_time": "2021-12-20T20:26:36.865Z"
   },
   {
    "duration": 21,
    "start_time": "2021-12-20T20:26:36.874Z"
   },
   {
    "duration": 10,
    "start_time": "2021-12-20T20:26:36.896Z"
   },
   {
    "duration": 7044,
    "start_time": "2021-12-20T20:26:36.908Z"
   },
   {
    "duration": 39,
    "start_time": "2021-12-20T20:26:43.954Z"
   },
   {
    "duration": 15,
    "start_time": "2021-12-20T20:26:43.995Z"
   },
   {
    "duration": 84,
    "start_time": "2021-12-20T20:26:44.012Z"
   },
   {
    "duration": 9,
    "start_time": "2021-12-20T20:26:44.098Z"
   },
   {
    "duration": 24,
    "start_time": "2021-12-20T20:26:44.109Z"
   },
   {
    "duration": 102,
    "start_time": "2021-12-20T20:26:44.134Z"
   },
   {
    "duration": 59,
    "start_time": "2021-12-20T20:26:44.238Z"
   },
   {
    "duration": 39,
    "start_time": "2021-12-20T20:26:44.298Z"
   },
   {
    "duration": 410,
    "start_time": "2021-12-20T20:26:44.390Z"
   },
   {
    "duration": 31,
    "start_time": "2021-12-20T20:26:44.804Z"
   },
   {
    "duration": 264,
    "start_time": "2021-12-20T20:26:44.837Z"
   },
   {
    "duration": 10,
    "start_time": "2021-12-20T20:26:45.102Z"
   },
   {
    "duration": 5,
    "start_time": "2021-12-20T20:26:45.113Z"
   },
   {
    "duration": 10,
    "start_time": "2021-12-20T20:26:45.119Z"
   },
   {
    "duration": 9,
    "start_time": "2021-12-20T20:26:45.131Z"
   },
   {
    "duration": 337,
    "start_time": "2021-12-20T20:26:45.141Z"
   },
   {
    "duration": -509,
    "start_time": "2021-12-20T20:26:45.989Z"
   },
   {
    "duration": -511,
    "start_time": "2021-12-20T20:26:45.992Z"
   },
   {
    "duration": 181,
    "start_time": "2021-12-20T20:27:17.397Z"
   },
   {
    "duration": 195,
    "start_time": "2021-12-20T20:27:35.401Z"
   },
   {
    "duration": 3018,
    "start_time": "2021-12-20T20:27:43.873Z"
   },
   {
    "duration": 126,
    "start_time": "2021-12-20T20:27:46.892Z"
   },
   {
    "duration": 14,
    "start_time": "2021-12-20T20:27:47.020Z"
   },
   {
    "duration": 31,
    "start_time": "2021-12-20T20:27:47.036Z"
   },
   {
    "duration": 68,
    "start_time": "2021-12-20T20:27:47.069Z"
   },
   {
    "duration": 2,
    "start_time": "2021-12-20T20:27:47.139Z"
   },
   {
    "duration": 9,
    "start_time": "2021-12-20T20:27:47.143Z"
   },
   {
    "duration": 41,
    "start_time": "2021-12-20T20:27:47.154Z"
   },
   {
    "duration": 8,
    "start_time": "2021-12-20T20:27:47.197Z"
   },
   {
    "duration": 98,
    "start_time": "2021-12-20T20:27:47.207Z"
   },
   {
    "duration": 60,
    "start_time": "2021-12-20T20:27:47.307Z"
   },
   {
    "duration": 3,
    "start_time": "2021-12-20T20:27:47.369Z"
   },
   {
    "duration": 18,
    "start_time": "2021-12-20T20:27:47.374Z"
   },
   {
    "duration": 5,
    "start_time": "2021-12-20T20:27:47.394Z"
   },
   {
    "duration": 4,
    "start_time": "2021-12-20T20:27:47.401Z"
   },
   {
    "duration": 7119,
    "start_time": "2021-12-20T20:27:47.406Z"
   },
   {
    "duration": 13,
    "start_time": "2021-12-20T20:27:54.527Z"
   },
   {
    "duration": 72,
    "start_time": "2021-12-20T20:27:54.541Z"
   },
   {
    "duration": 89,
    "start_time": "2021-12-20T20:27:54.615Z"
   },
   {
    "duration": 10,
    "start_time": "2021-12-20T20:27:54.705Z"
   },
   {
    "duration": 178,
    "start_time": "2021-12-20T20:27:54.716Z"
   },
   {
    "duration": 101,
    "start_time": "2021-12-20T20:27:54.896Z"
   },
   {
    "duration": 7,
    "start_time": "2021-12-20T20:27:55.000Z"
   },
   {
    "duration": 97,
    "start_time": "2021-12-20T20:27:55.008Z"
   },
   {
    "duration": 343,
    "start_time": "2021-12-20T20:27:55.107Z"
   },
   {
    "duration": 44,
    "start_time": "2021-12-20T20:27:55.452Z"
   },
   {
    "duration": 233,
    "start_time": "2021-12-20T20:27:55.498Z"
   },
   {
    "duration": 11,
    "start_time": "2021-12-20T20:27:55.733Z"
   },
   {
    "duration": 371,
    "start_time": "2021-12-20T20:27:55.745Z"
   },
   {
    "duration": -401,
    "start_time": "2021-12-20T20:27:56.519Z"
   },
   {
    "duration": -404,
    "start_time": "2021-12-20T20:27:56.523Z"
   },
   {
    "duration": -407,
    "start_time": "2021-12-20T20:27:56.527Z"
   },
   {
    "duration": -409,
    "start_time": "2021-12-20T20:27:56.530Z"
   },
   {
    "duration": -411,
    "start_time": "2021-12-20T20:27:56.533Z"
   },
   {
    "duration": 6,
    "start_time": "2021-12-20T20:28:04.189Z"
   },
   {
    "duration": 7,
    "start_time": "2021-12-20T20:28:05.545Z"
   },
   {
    "duration": 1353,
    "start_time": "2021-12-20T20:34:27.548Z"
   },
   {
    "duration": 124,
    "start_time": "2021-12-20T20:34:28.903Z"
   },
   {
    "duration": 15,
    "start_time": "2021-12-20T20:34:29.029Z"
   },
   {
    "duration": 14,
    "start_time": "2021-12-20T20:34:29.046Z"
   },
   {
    "duration": 72,
    "start_time": "2021-12-20T20:34:29.061Z"
   },
   {
    "duration": 2,
    "start_time": "2021-12-20T20:34:29.135Z"
   },
   {
    "duration": 10,
    "start_time": "2021-12-20T20:34:29.139Z"
   },
   {
    "duration": 40,
    "start_time": "2021-12-20T20:34:29.151Z"
   },
   {
    "duration": 9,
    "start_time": "2021-12-20T20:34:29.194Z"
   },
   {
    "duration": 102,
    "start_time": "2021-12-20T20:34:29.205Z"
   },
   {
    "duration": 62,
    "start_time": "2021-12-20T20:34:29.309Z"
   },
   {
    "duration": 4,
    "start_time": "2021-12-20T20:34:29.372Z"
   },
   {
    "duration": 15,
    "start_time": "2021-12-20T20:34:29.377Z"
   },
   {
    "duration": 8,
    "start_time": "2021-12-20T20:34:29.393Z"
   },
   {
    "duration": 5,
    "start_time": "2021-12-20T20:34:29.402Z"
   },
   {
    "duration": 7365,
    "start_time": "2021-12-20T20:34:29.408Z"
   },
   {
    "duration": 27,
    "start_time": "2021-12-20T20:34:36.775Z"
   },
   {
    "duration": 24,
    "start_time": "2021-12-20T20:34:36.804Z"
   },
   {
    "duration": 101,
    "start_time": "2021-12-20T20:34:36.830Z"
   },
   {
    "duration": 60,
    "start_time": "2021-12-20T20:34:36.933Z"
   },
   {
    "duration": 97,
    "start_time": "2021-12-20T20:34:36.994Z"
   },
   {
    "duration": 102,
    "start_time": "2021-12-20T20:34:37.093Z"
   },
   {
    "duration": 5,
    "start_time": "2021-12-20T20:34:37.197Z"
   },
   {
    "duration": 95,
    "start_time": "2021-12-20T20:34:37.204Z"
   },
   {
    "duration": 439,
    "start_time": "2021-12-20T20:34:37.301Z"
   },
   {
    "duration": 34,
    "start_time": "2021-12-20T20:34:37.743Z"
   },
   {
    "duration": 286,
    "start_time": "2021-12-20T20:34:37.792Z"
   },
   {
    "duration": 16,
    "start_time": "2021-12-20T20:34:38.080Z"
   },
   {
    "duration": 9,
    "start_time": "2021-12-20T20:34:38.098Z"
   },
   {
    "duration": 10,
    "start_time": "2021-12-20T20:34:38.109Z"
   },
   {
    "duration": 1288,
    "start_time": "2021-12-21T06:05:44.423Z"
   },
   {
    "duration": 123,
    "start_time": "2021-12-21T06:05:45.713Z"
   },
   {
    "duration": 16,
    "start_time": "2021-12-21T06:05:45.838Z"
   },
   {
    "duration": 15,
    "start_time": "2021-12-21T06:05:45.856Z"
   },
   {
    "duration": 66,
    "start_time": "2021-12-21T06:05:45.873Z"
   },
   {
    "duration": 3,
    "start_time": "2021-12-21T06:05:45.940Z"
   },
   {
    "duration": 13,
    "start_time": "2021-12-21T06:05:45.944Z"
   },
   {
    "duration": 37,
    "start_time": "2021-12-21T06:05:45.959Z"
   },
   {
    "duration": 9,
    "start_time": "2021-12-21T06:05:45.998Z"
   },
   {
    "duration": 88,
    "start_time": "2021-12-21T06:05:46.008Z"
   },
   {
    "duration": 58,
    "start_time": "2021-12-21T06:05:46.098Z"
   },
   {
    "duration": 3,
    "start_time": "2021-12-21T06:05:46.157Z"
   },
   {
    "duration": 8,
    "start_time": "2021-12-21T06:05:46.162Z"
   },
   {
    "duration": 6,
    "start_time": "2021-12-21T06:05:46.191Z"
   },
   {
    "duration": 5,
    "start_time": "2021-12-21T06:05:46.198Z"
   },
   {
    "duration": 7057,
    "start_time": "2021-12-21T06:05:46.204Z"
   },
   {
    "duration": 33,
    "start_time": "2021-12-21T06:05:53.264Z"
   },
   {
    "duration": 15,
    "start_time": "2021-12-21T06:05:53.299Z"
   },
   {
    "duration": 88,
    "start_time": "2021-12-21T06:05:53.315Z"
   },
   {
    "duration": 9,
    "start_time": "2021-12-21T06:05:53.404Z"
   },
   {
    "duration": 77,
    "start_time": "2021-12-21T06:05:53.415Z"
   },
   {
    "duration": 101,
    "start_time": "2021-12-21T06:05:53.494Z"
   },
   {
    "duration": 6,
    "start_time": "2021-12-21T06:05:53.598Z"
   },
   {
    "duration": 87,
    "start_time": "2021-12-21T06:05:53.606Z"
   },
   {
    "duration": 402,
    "start_time": "2021-12-21T06:05:53.695Z"
   },
   {
    "duration": 28,
    "start_time": "2021-12-21T06:05:54.099Z"
   },
   {
    "duration": 251,
    "start_time": "2021-12-21T06:05:54.128Z"
   },
   {
    "duration": 15,
    "start_time": "2021-12-21T06:05:54.380Z"
   },
   {
    "duration": 10,
    "start_time": "2021-12-21T06:05:54.397Z"
   },
   {
    "duration": 11,
    "start_time": "2021-12-21T06:05:54.410Z"
   },
   {
    "duration": 7,
    "start_time": "2021-12-21T06:50:01.741Z"
   },
   {
    "duration": 584,
    "start_time": "2021-12-21T06:50:25.224Z"
   },
   {
    "duration": 4633,
    "start_time": "2021-12-21T06:54:10.246Z"
   },
   {
    "duration": 5,
    "start_time": "2021-12-21T06:54:40.751Z"
   },
   {
    "duration": 1195,
    "start_time": "2021-12-21T06:54:42.445Z"
   },
   {
    "duration": 3,
    "start_time": "2021-12-21T06:55:50.872Z"
   },
   {
    "duration": 404,
    "start_time": "2021-12-21T06:55:53.033Z"
   },
   {
    "duration": 2,
    "start_time": "2021-12-21T06:56:46.954Z"
   },
   {
    "duration": 5,
    "start_time": "2021-12-21T06:56:49.348Z"
   },
   {
    "duration": 14,
    "start_time": "2021-12-21T06:56:50.195Z"
   },
   {
    "duration": 172,
    "start_time": "2021-12-21T07:01:52.145Z"
   },
   {
    "duration": 1327,
    "start_time": "2021-12-21T07:02:29.685Z"
   },
   {
    "duration": 122,
    "start_time": "2021-12-21T07:02:31.014Z"
   },
   {
    "duration": 15,
    "start_time": "2021-12-21T07:02:31.138Z"
   },
   {
    "duration": 14,
    "start_time": "2021-12-21T07:02:31.155Z"
   },
   {
    "duration": 69,
    "start_time": "2021-12-21T07:02:31.171Z"
   },
   {
    "duration": 3,
    "start_time": "2021-12-21T07:02:31.241Z"
   },
   {
    "duration": 31,
    "start_time": "2021-12-21T07:02:31.246Z"
   },
   {
    "duration": 36,
    "start_time": "2021-12-21T07:02:31.279Z"
   },
   {
    "duration": 11,
    "start_time": "2021-12-21T07:02:31.319Z"
   },
   {
    "duration": 100,
    "start_time": "2021-12-21T07:02:31.331Z"
   },
   {
    "duration": 78,
    "start_time": "2021-12-21T07:02:31.433Z"
   },
   {
    "duration": 4,
    "start_time": "2021-12-21T07:02:31.513Z"
   },
   {
    "duration": 15,
    "start_time": "2021-12-21T07:02:31.519Z"
   },
   {
    "duration": 13,
    "start_time": "2021-12-21T07:02:31.536Z"
   },
   {
    "duration": 11,
    "start_time": "2021-12-21T07:02:31.550Z"
   },
   {
    "duration": 7066,
    "start_time": "2021-12-21T07:02:31.563Z"
   },
   {
    "duration": 12,
    "start_time": "2021-12-21T07:02:38.631Z"
   },
   {
    "duration": 53,
    "start_time": "2021-12-21T07:02:38.645Z"
   },
   {
    "duration": 35,
    "start_time": "2021-12-21T07:02:38.700Z"
   },
   {
    "duration": 62,
    "start_time": "2021-12-21T07:02:38.737Z"
   },
   {
    "duration": 24,
    "start_time": "2021-12-21T07:02:38.801Z"
   },
   {
    "duration": 103,
    "start_time": "2021-12-21T07:02:38.827Z"
   },
   {
    "duration": 59,
    "start_time": "2021-12-21T07:02:38.933Z"
   },
   {
    "duration": 37,
    "start_time": "2021-12-21T07:02:38.995Z"
   },
   {
    "duration": 403,
    "start_time": "2021-12-21T07:02:39.034Z"
   },
   {
    "duration": 84,
    "start_time": "2021-12-21T07:02:39.439Z"
   },
   {
    "duration": 239,
    "start_time": "2021-12-21T07:02:39.525Z"
   },
   {
    "duration": 9,
    "start_time": "2021-12-21T07:02:39.766Z"
   },
   {
    "duration": 20,
    "start_time": "2021-12-21T07:02:39.777Z"
   },
   {
    "duration": 10,
    "start_time": "2021-12-21T07:02:39.798Z"
   },
   {
    "duration": 6,
    "start_time": "2021-12-21T07:02:39.810Z"
   },
   {
    "duration": 348,
    "start_time": "2021-12-21T07:02:39.817Z"
   },
   {
    "duration": -1344,
    "start_time": "2021-12-21T07:02:41.510Z"
   },
   {
    "duration": 446,
    "start_time": "2021-12-21T07:02:53.971Z"
   },
   {
    "duration": 1396,
    "start_time": "2021-12-21T07:03:25.804Z"
   },
   {
    "duration": 124,
    "start_time": "2021-12-21T07:03:27.202Z"
   },
   {
    "duration": 14,
    "start_time": "2021-12-21T07:03:27.328Z"
   },
   {
    "duration": 15,
    "start_time": "2021-12-21T07:03:27.344Z"
   },
   {
    "duration": 69,
    "start_time": "2021-12-21T07:03:27.361Z"
   },
   {
    "duration": 3,
    "start_time": "2021-12-21T07:03:27.432Z"
   },
   {
    "duration": 10,
    "start_time": "2021-12-21T07:03:27.436Z"
   },
   {
    "duration": 21,
    "start_time": "2021-12-21T07:03:27.449Z"
   },
   {
    "duration": 28,
    "start_time": "2021-12-21T07:03:27.471Z"
   },
   {
    "duration": 99,
    "start_time": "2021-12-21T07:03:27.501Z"
   },
   {
    "duration": 62,
    "start_time": "2021-12-21T07:03:27.602Z"
   },
   {
    "duration": 3,
    "start_time": "2021-12-21T07:03:27.665Z"
   },
   {
    "duration": 22,
    "start_time": "2021-12-21T07:03:27.670Z"
   },
   {
    "duration": 11,
    "start_time": "2021-12-21T07:03:27.694Z"
   },
   {
    "duration": 9,
    "start_time": "2021-12-21T07:03:27.706Z"
   },
   {
    "duration": 7124,
    "start_time": "2021-12-21T07:03:27.717Z"
   },
   {
    "duration": 47,
    "start_time": "2021-12-21T07:03:34.844Z"
   },
   {
    "duration": 15,
    "start_time": "2021-12-21T07:03:34.893Z"
   },
   {
    "duration": 82,
    "start_time": "2021-12-21T07:03:34.910Z"
   },
   {
    "duration": 10,
    "start_time": "2021-12-21T07:03:34.994Z"
   },
   {
    "duration": 24,
    "start_time": "2021-12-21T07:03:35.006Z"
   },
   {
    "duration": 101,
    "start_time": "2021-12-21T07:03:35.032Z"
   },
   {
    "duration": 57,
    "start_time": "2021-12-21T07:03:35.136Z"
   },
   {
    "duration": 41,
    "start_time": "2021-12-21T07:03:35.195Z"
   },
   {
    "duration": 394,
    "start_time": "2021-12-21T07:03:35.237Z"
   },
   {
    "duration": 81,
    "start_time": "2021-12-21T07:03:35.632Z"
   },
   {
    "duration": 277,
    "start_time": "2021-12-21T07:03:35.715Z"
   },
   {
    "duration": 10,
    "start_time": "2021-12-21T07:03:35.993Z"
   },
   {
    "duration": 8,
    "start_time": "2021-12-21T07:03:36.004Z"
   },
   {
    "duration": 16,
    "start_time": "2021-12-21T07:03:36.013Z"
   },
   {
    "duration": 7,
    "start_time": "2021-12-21T07:03:36.030Z"
   },
   {
    "duration": 17,
    "start_time": "2021-12-21T07:03:36.039Z"
   },
   {
    "duration": 4,
    "start_time": "2021-12-21T07:03:36.057Z"
   },
   {
    "duration": 10,
    "start_time": "2021-12-21T07:03:42.318Z"
   },
   {
    "duration": 10,
    "start_time": "2021-12-21T07:03:44.708Z"
   },
   {
    "duration": 389,
    "start_time": "2021-12-21T07:03:51.971Z"
   },
   {
    "duration": 188,
    "start_time": "2021-12-21T07:03:57.621Z"
   },
   {
    "duration": 803,
    "start_time": "2021-12-21T07:05:13.164Z"
   },
   {
    "duration": 3,
    "start_time": "2021-12-21T07:07:03.272Z"
   },
   {
    "duration": 3,
    "start_time": "2021-12-21T07:07:07.069Z"
   },
   {
    "duration": 10,
    "start_time": "2021-12-21T07:07:18.221Z"
   },
   {
    "duration": 5,
    "start_time": "2021-12-21T07:11:30.468Z"
   },
   {
    "duration": 11,
    "start_time": "2021-12-21T07:11:37.601Z"
   },
   {
    "duration": 5120,
    "start_time": "2021-12-21T07:39:35.881Z"
   },
   {
    "duration": 63,
    "start_time": "2021-12-21T07:40:36.184Z"
   },
   {
    "duration": 195,
    "start_time": "2021-12-21T07:40:48.522Z"
   },
   {
    "duration": 19,
    "start_time": "2021-12-21T07:41:42.499Z"
   },
   {
    "duration": 12,
    "start_time": "2021-12-21T07:41:53.421Z"
   },
   {
    "duration": 200,
    "start_time": "2021-12-21T07:44:35.008Z"
   },
   {
    "duration": 44,
    "start_time": "2021-12-21T07:44:49.536Z"
   },
   {
    "duration": 7,
    "start_time": "2021-12-21T07:44:58.484Z"
   },
   {
    "duration": 29,
    "start_time": "2021-12-21T07:53:49.956Z"
   },
   {
    "duration": 26,
    "start_time": "2021-12-21T07:54:45.205Z"
   },
   {
    "duration": 25,
    "start_time": "2021-12-21T07:55:03.753Z"
   },
   {
    "duration": 1420,
    "start_time": "2021-12-21T07:55:29.915Z"
   },
   {
    "duration": 127,
    "start_time": "2021-12-21T07:55:31.337Z"
   },
   {
    "duration": 16,
    "start_time": "2021-12-21T07:55:31.466Z"
   },
   {
    "duration": 22,
    "start_time": "2021-12-21T07:55:31.492Z"
   },
   {
    "duration": 63,
    "start_time": "2021-12-21T07:55:31.516Z"
   },
   {
    "duration": 4,
    "start_time": "2021-12-21T07:55:31.581Z"
   },
   {
    "duration": 23,
    "start_time": "2021-12-21T07:55:31.591Z"
   },
   {
    "duration": 25,
    "start_time": "2021-12-21T07:55:31.617Z"
   },
   {
    "duration": 18,
    "start_time": "2021-12-21T07:55:31.645Z"
   },
   {
    "duration": 104,
    "start_time": "2021-12-21T07:55:31.665Z"
   },
   {
    "duration": 66,
    "start_time": "2021-12-21T07:55:31.771Z"
   },
   {
    "duration": 4,
    "start_time": "2021-12-21T07:55:31.839Z"
   },
   {
    "duration": 10,
    "start_time": "2021-12-21T07:55:31.845Z"
   },
   {
    "duration": 6,
    "start_time": "2021-12-21T07:55:31.856Z"
   },
   {
    "duration": 27,
    "start_time": "2021-12-21T07:55:31.864Z"
   },
   {
    "duration": 7221,
    "start_time": "2021-12-21T07:55:31.893Z"
   },
   {
    "duration": 13,
    "start_time": "2021-12-21T07:55:39.117Z"
   },
   {
    "duration": 60,
    "start_time": "2021-12-21T07:55:39.132Z"
   },
   {
    "duration": 32,
    "start_time": "2021-12-21T07:55:39.194Z"
   },
   {
    "duration": 9,
    "start_time": "2021-12-21T07:55:39.227Z"
   },
   {
    "duration": 25,
    "start_time": "2021-12-21T07:55:39.292Z"
   },
   {
    "duration": 103,
    "start_time": "2021-12-21T07:55:39.318Z"
   },
   {
    "duration": 5,
    "start_time": "2021-12-21T07:55:39.424Z"
   },
   {
    "duration": 91,
    "start_time": "2021-12-21T07:55:39.431Z"
   },
   {
    "duration": 399,
    "start_time": "2021-12-21T07:55:39.524Z"
   },
   {
    "duration": 77,
    "start_time": "2021-12-21T07:55:39.924Z"
   },
   {
    "duration": 18,
    "start_time": "2021-12-21T07:55:40.003Z"
   },
   {
    "duration": 49,
    "start_time": "2021-12-21T07:55:40.022Z"
   },
   {
    "duration": 22,
    "start_time": "2021-12-21T07:55:40.072Z"
   },
   {
    "duration": 28,
    "start_time": "2021-12-21T07:55:40.096Z"
   },
   {
    "duration": 12,
    "start_time": "2021-12-21T07:55:40.126Z"
   },
   {
    "duration": 237,
    "start_time": "2021-12-21T07:55:40.140Z"
   },
   {
    "duration": 14,
    "start_time": "2021-12-21T07:55:40.378Z"
   },
   {
    "duration": 7,
    "start_time": "2021-12-21T07:55:40.394Z"
   },
   {
    "duration": 11,
    "start_time": "2021-12-21T07:55:40.403Z"
   },
   {
    "duration": 5,
    "start_time": "2021-12-21T07:55:40.416Z"
   },
   {
    "duration": 12,
    "start_time": "2021-12-21T07:55:40.422Z"
   },
   {
    "duration": 29,
    "start_time": "2021-12-21T07:55:51.856Z"
   },
   {
    "duration": 1428,
    "start_time": "2021-12-21T08:54:14.197Z"
   },
   {
    "duration": 123,
    "start_time": "2021-12-21T08:54:15.627Z"
   },
   {
    "duration": 15,
    "start_time": "2021-12-21T08:54:15.752Z"
   },
   {
    "duration": 28,
    "start_time": "2021-12-21T08:54:15.769Z"
   },
   {
    "duration": 61,
    "start_time": "2021-12-21T08:54:15.799Z"
   },
   {
    "duration": 3,
    "start_time": "2021-12-21T08:54:15.862Z"
   },
   {
    "duration": 27,
    "start_time": "2021-12-21T08:54:15.868Z"
   },
   {
    "duration": 39,
    "start_time": "2021-12-21T08:54:15.898Z"
   },
   {
    "duration": 11,
    "start_time": "2021-12-21T08:54:15.940Z"
   },
   {
    "duration": 105,
    "start_time": "2021-12-21T08:54:15.953Z"
   },
   {
    "duration": 63,
    "start_time": "2021-12-21T08:54:16.060Z"
   },
   {
    "duration": 3,
    "start_time": "2021-12-21T08:54:16.124Z"
   },
   {
    "duration": 13,
    "start_time": "2021-12-21T08:54:16.129Z"
   },
   {
    "duration": 17,
    "start_time": "2021-12-21T08:54:16.143Z"
   },
   {
    "duration": 14,
    "start_time": "2021-12-21T08:54:16.161Z"
   },
   {
    "duration": 7077,
    "start_time": "2021-12-21T08:54:16.177Z"
   },
   {
    "duration": 35,
    "start_time": "2021-12-21T08:54:23.256Z"
   },
   {
    "duration": 15,
    "start_time": "2021-12-21T08:54:23.293Z"
   },
   {
    "duration": 82,
    "start_time": "2021-12-21T08:54:23.310Z"
   },
   {
    "duration": 9,
    "start_time": "2021-12-21T08:54:23.394Z"
   },
   {
    "duration": 23,
    "start_time": "2021-12-21T08:54:23.405Z"
   },
   {
    "duration": 103,
    "start_time": "2021-12-21T08:54:23.430Z"
   },
   {
    "duration": 55,
    "start_time": "2021-12-21T08:54:23.537Z"
   },
   {
    "duration": 36,
    "start_time": "2021-12-21T08:54:23.594Z"
   },
   {
    "duration": 390,
    "start_time": "2021-12-21T08:54:23.632Z"
   },
   {
    "duration": 79,
    "start_time": "2021-12-21T08:54:24.024Z"
   },
   {
    "duration": 16,
    "start_time": "2021-12-21T08:54:24.104Z"
   },
   {
    "duration": 99,
    "start_time": "2021-12-21T08:54:24.122Z"
   },
   {
    "duration": 5,
    "start_time": "2021-12-21T08:54:24.223Z"
   },
   {
    "duration": 46,
    "start_time": "2021-12-21T08:54:24.230Z"
   },
   {
    "duration": 22,
    "start_time": "2021-12-21T08:54:24.277Z"
   },
   {
    "duration": 221,
    "start_time": "2021-12-21T08:54:24.301Z"
   },
   {
    "duration": 10,
    "start_time": "2021-12-21T08:54:24.524Z"
   },
   {
    "duration": 8,
    "start_time": "2021-12-21T08:54:24.535Z"
   },
   {
    "duration": 10,
    "start_time": "2021-12-21T08:54:24.544Z"
   },
   {
    "duration": 4,
    "start_time": "2021-12-21T08:54:24.556Z"
   },
   {
    "duration": 32,
    "start_time": "2021-12-21T08:54:24.562Z"
   },
   {
    "duration": 348,
    "start_time": "2021-12-21T09:51:43.638Z"
   },
   {
    "duration": 1455,
    "start_time": "2021-12-21T09:52:24.413Z"
   },
   {
    "duration": 175,
    "start_time": "2021-12-21T09:52:25.870Z"
   },
   {
    "duration": 24,
    "start_time": "2021-12-21T09:52:26.050Z"
   },
   {
    "duration": 20,
    "start_time": "2021-12-21T09:52:26.075Z"
   },
   {
    "duration": 59,
    "start_time": "2021-12-21T09:52:26.097Z"
   },
   {
    "duration": 3,
    "start_time": "2021-12-21T09:52:26.157Z"
   },
   {
    "duration": 10,
    "start_time": "2021-12-21T09:52:26.162Z"
   },
   {
    "duration": 25,
    "start_time": "2021-12-21T09:52:26.192Z"
   },
   {
    "duration": 10,
    "start_time": "2021-12-21T09:52:26.219Z"
   },
   {
    "duration": 114,
    "start_time": "2021-12-21T09:52:26.230Z"
   },
   {
    "duration": 78,
    "start_time": "2021-12-21T09:52:26.346Z"
   },
   {
    "duration": 3,
    "start_time": "2021-12-21T09:52:26.426Z"
   },
   {
    "duration": 8,
    "start_time": "2021-12-21T09:52:26.431Z"
   },
   {
    "duration": 5,
    "start_time": "2021-12-21T09:52:26.441Z"
   },
   {
    "duration": 12,
    "start_time": "2021-12-21T09:52:26.447Z"
   },
   {
    "duration": 7773,
    "start_time": "2021-12-21T09:52:26.461Z"
   },
   {
    "duration": 14,
    "start_time": "2021-12-21T09:52:34.235Z"
   },
   {
    "duration": 58,
    "start_time": "2021-12-21T09:52:34.250Z"
   },
   {
    "duration": 83,
    "start_time": "2021-12-21T09:52:34.310Z"
   },
   {
    "duration": 13,
    "start_time": "2021-12-21T09:52:34.395Z"
   },
   {
    "duration": 83,
    "start_time": "2021-12-21T09:52:34.411Z"
   },
   {
    "duration": 113,
    "start_time": "2021-12-21T09:52:34.498Z"
   },
   {
    "duration": 6,
    "start_time": "2021-12-21T09:52:34.613Z"
   },
   {
    "duration": 107,
    "start_time": "2021-12-21T09:52:34.621Z"
   },
   {
    "duration": 478,
    "start_time": "2021-12-21T09:52:34.729Z"
   },
   {
    "duration": 32,
    "start_time": "2021-12-21T09:52:35.210Z"
   },
   {
    "duration": 50,
    "start_time": "2021-12-21T09:52:35.244Z"
   },
   {
    "duration": 366,
    "start_time": "2021-12-21T09:52:35.296Z"
   },
   {
    "duration": 371,
    "start_time": "2021-12-21T09:52:35.663Z"
   },
   {
    "duration": 158,
    "start_time": "2021-12-21T09:52:35.878Z"
   },
   {
    "duration": 155,
    "start_time": "2021-12-21T09:52:35.882Z"
   },
   {
    "duration": 154,
    "start_time": "2021-12-21T09:52:35.885Z"
   },
   {
    "duration": 151,
    "start_time": "2021-12-21T09:52:35.889Z"
   },
   {
    "duration": 150,
    "start_time": "2021-12-21T09:52:35.892Z"
   },
   {
    "duration": 147,
    "start_time": "2021-12-21T09:52:35.896Z"
   },
   {
    "duration": 1351,
    "start_time": "2021-12-21T09:55:10.066Z"
   },
   {
    "duration": 128,
    "start_time": "2021-12-21T09:55:11.419Z"
   },
   {
    "duration": 15,
    "start_time": "2021-12-21T09:55:11.549Z"
   },
   {
    "duration": 28,
    "start_time": "2021-12-21T09:55:11.566Z"
   },
   {
    "duration": 52,
    "start_time": "2021-12-21T09:55:11.596Z"
   },
   {
    "duration": 2,
    "start_time": "2021-12-21T09:55:11.650Z"
   },
   {
    "duration": 10,
    "start_time": "2021-12-21T09:55:11.654Z"
   },
   {
    "duration": 40,
    "start_time": "2021-12-21T09:55:11.666Z"
   },
   {
    "duration": 10,
    "start_time": "2021-12-21T09:55:11.708Z"
   },
   {
    "duration": 97,
    "start_time": "2021-12-21T09:55:11.720Z"
   },
   {
    "duration": 62,
    "start_time": "2021-12-21T09:55:11.818Z"
   },
   {
    "duration": 11,
    "start_time": "2021-12-21T09:55:11.882Z"
   },
   {
    "duration": 6,
    "start_time": "2021-12-21T09:55:11.895Z"
   },
   {
    "duration": 6,
    "start_time": "2021-12-21T09:55:11.903Z"
   },
   {
    "duration": 5,
    "start_time": "2021-12-21T09:55:11.910Z"
   },
   {
    "duration": 7241,
    "start_time": "2021-12-21T09:55:11.916Z"
   },
   {
    "duration": 35,
    "start_time": "2021-12-21T09:55:19.159Z"
   },
   {
    "duration": 15,
    "start_time": "2021-12-21T09:55:19.196Z"
   },
   {
    "duration": 89,
    "start_time": "2021-12-21T09:55:19.212Z"
   },
   {
    "duration": 10,
    "start_time": "2021-12-21T09:55:19.302Z"
   },
   {
    "duration": 24,
    "start_time": "2021-12-21T09:55:19.313Z"
   },
   {
    "duration": 100,
    "start_time": "2021-12-21T09:55:19.392Z"
   },
   {
    "duration": 7,
    "start_time": "2021-12-21T09:55:19.495Z"
   },
   {
    "duration": 103,
    "start_time": "2021-12-21T09:55:19.503Z"
   },
   {
    "duration": 396,
    "start_time": "2021-12-21T09:55:19.608Z"
   },
   {
    "duration": 32,
    "start_time": "2021-12-21T09:55:20.005Z"
   },
   {
    "duration": 28,
    "start_time": "2021-12-21T09:55:20.038Z"
   },
   {
    "duration": 363,
    "start_time": "2021-12-21T09:55:20.068Z"
   },
   {
    "duration": 340,
    "start_time": "2021-12-21T09:55:20.433Z"
   },
   {
    "duration": -379,
    "start_time": "2021-12-21T09:55:21.154Z"
   },
   {
    "duration": -381,
    "start_time": "2021-12-21T09:55:21.157Z"
   },
   {
    "duration": -384,
    "start_time": "2021-12-21T09:55:21.160Z"
   },
   {
    "duration": -386,
    "start_time": "2021-12-21T09:55:21.163Z"
   },
   {
    "duration": -388,
    "start_time": "2021-12-21T09:55:21.166Z"
   },
   {
    "duration": -390,
    "start_time": "2021-12-21T09:55:21.169Z"
   },
   {
    "duration": 27,
    "start_time": "2021-12-21T10:10:24.737Z"
   },
   {
    "duration": 198,
    "start_time": "2021-12-21T10:10:38.862Z"
   },
   {
    "duration": 27,
    "start_time": "2021-12-21T10:10:56.809Z"
   },
   {
    "duration": 1983,
    "start_time": "2021-12-21T10:11:12.765Z"
   },
   {
    "duration": 163,
    "start_time": "2021-12-21T10:11:14.751Z"
   },
   {
    "duration": 18,
    "start_time": "2021-12-21T10:11:21.961Z"
   },
   {
    "duration": 20,
    "start_time": "2021-12-21T10:11:21.981Z"
   },
   {
    "duration": 53,
    "start_time": "2021-12-21T10:11:22.003Z"
   },
   {
    "duration": 3,
    "start_time": "2021-12-21T10:11:22.058Z"
   },
   {
    "duration": 10,
    "start_time": "2021-12-21T10:11:22.063Z"
   },
   {
    "duration": 32,
    "start_time": "2021-12-21T10:11:22.075Z"
   },
   {
    "duration": 12,
    "start_time": "2021-12-21T10:11:22.109Z"
   },
   {
    "duration": 109,
    "start_time": "2021-12-21T10:11:22.124Z"
   },
   {
    "duration": 101,
    "start_time": "2021-12-21T10:11:22.235Z"
   },
   {
    "duration": 3,
    "start_time": "2021-12-21T10:11:22.338Z"
   },
   {
    "duration": 8,
    "start_time": "2021-12-21T10:11:22.342Z"
   },
   {
    "duration": 5,
    "start_time": "2021-12-21T10:11:22.352Z"
   },
   {
    "duration": 11,
    "start_time": "2021-12-21T10:11:22.358Z"
   },
   {
    "duration": 7289,
    "start_time": "2021-12-21T10:11:22.370Z"
   },
   {
    "duration": 33,
    "start_time": "2021-12-21T10:11:29.661Z"
   },
   {
    "duration": 17,
    "start_time": "2021-12-21T10:11:29.696Z"
   },
   {
    "duration": 33,
    "start_time": "2021-12-21T10:11:29.715Z"
   },
   {
    "duration": 9,
    "start_time": "2021-12-21T10:11:29.749Z"
   },
   {
    "duration": 32,
    "start_time": "2021-12-21T10:11:29.760Z"
   },
   {
    "duration": 50,
    "start_time": "2021-12-21T10:11:29.794Z"
   },
   {
    "duration": 6,
    "start_time": "2021-12-21T10:11:29.845Z"
   },
   {
    "duration": 43,
    "start_time": "2021-12-21T10:11:29.852Z"
   },
   {
    "duration": 246,
    "start_time": "2021-12-21T10:11:29.898Z"
   },
   {
    "duration": 31,
    "start_time": "2021-12-21T10:11:30.146Z"
   },
   {
    "duration": 32,
    "start_time": "2021-12-21T10:11:30.179Z"
   },
   {
    "duration": 340,
    "start_time": "2021-12-21T10:11:30.212Z"
   },
   {
    "duration": 27,
    "start_time": "2021-12-21T10:11:30.553Z"
   },
   {
    "duration": 196,
    "start_time": "2021-12-21T10:11:30.581Z"
   },
   {
    "duration": 28,
    "start_time": "2021-12-21T10:11:30.779Z"
   },
   {
    "duration": 351,
    "start_time": "2021-12-21T10:11:30.808Z"
   },
   {
    "duration": 348,
    "start_time": "2021-12-21T10:11:31.161Z"
   },
   {
    "duration": -343,
    "start_time": "2021-12-21T10:11:31.854Z"
   },
   {
    "duration": -346,
    "start_time": "2021-12-21T10:11:31.858Z"
   },
   {
    "duration": -348,
    "start_time": "2021-12-21T10:11:31.860Z"
   },
   {
    "duration": -349,
    "start_time": "2021-12-21T10:11:31.862Z"
   },
   {
    "duration": -351,
    "start_time": "2021-12-21T10:11:31.865Z"
   },
   {
    "duration": -353,
    "start_time": "2021-12-21T10:11:31.869Z"
   },
   {
    "duration": 5,
    "start_time": "2021-12-21T10:14:17.687Z"
   },
   {
    "duration": 7,
    "start_time": "2021-12-21T10:15:24.719Z"
   },
   {
    "duration": 6,
    "start_time": "2021-12-21T10:16:28.896Z"
   },
   {
    "duration": 253,
    "start_time": "2021-12-21T10:17:13.807Z"
   },
   {
    "duration": 7,
    "start_time": "2021-12-21T10:17:20.230Z"
   },
   {
    "duration": 8165,
    "start_time": "2021-12-21T10:31:04.607Z"
   },
   {
    "duration": 419,
    "start_time": "2021-12-21T10:31:49.720Z"
   },
   {
    "duration": 7,
    "start_time": "2021-12-21T10:31:56.574Z"
   },
   {
    "duration": 188,
    "start_time": "2021-12-21T10:32:19.880Z"
   },
   {
    "duration": 199,
    "start_time": "2021-12-21T10:32:36.797Z"
   },
   {
    "duration": 187,
    "start_time": "2021-12-21T10:32:59.763Z"
   },
   {
    "duration": 398,
    "start_time": "2021-12-21T10:33:13.701Z"
   },
   {
    "duration": 65,
    "start_time": "2021-12-21T10:33:40.429Z"
   },
   {
    "duration": 190,
    "start_time": "2021-12-21T10:33:45.031Z"
   },
   {
    "duration": 199,
    "start_time": "2021-12-21T10:34:07.263Z"
   },
   {
    "duration": 6,
    "start_time": "2021-12-21T10:34:24.776Z"
   },
   {
    "duration": 6025,
    "start_time": "2021-12-21T10:34:56.636Z"
   },
   {
    "duration": 5,
    "start_time": "2021-12-21T10:36:04.917Z"
   },
   {
    "duration": 5,
    "start_time": "2021-12-21T10:36:18.163Z"
   },
   {
    "duration": 4,
    "start_time": "2021-12-21T10:36:29.934Z"
   },
   {
    "duration": 5,
    "start_time": "2021-12-21T10:36:42.282Z"
   },
   {
    "duration": 5,
    "start_time": "2021-12-21T10:37:06.517Z"
   },
   {
    "duration": 8,
    "start_time": "2021-12-21T10:40:33.768Z"
   },
   {
    "duration": 59,
    "start_time": "2021-12-21T11:53:34.078Z"
   },
   {
    "duration": 55,
    "start_time": "2021-12-21T11:53:45.528Z"
   },
   {
    "duration": 243,
    "start_time": "2021-12-21T11:57:54.492Z"
   },
   {
    "duration": 38,
    "start_time": "2021-12-21T11:58:15.227Z"
   },
   {
    "duration": 39,
    "start_time": "2021-12-21T11:58:41.471Z"
   },
   {
    "duration": 2282,
    "start_time": "2021-12-21T12:09:37.868Z"
   },
   {
    "duration": 144,
    "start_time": "2021-12-21T12:09:40.152Z"
   },
   {
    "duration": 15,
    "start_time": "2021-12-21T12:09:40.298Z"
   },
   {
    "duration": 16,
    "start_time": "2021-12-21T12:09:40.315Z"
   },
   {
    "duration": 95,
    "start_time": "2021-12-21T12:09:40.333Z"
   },
   {
    "duration": 3,
    "start_time": "2021-12-21T12:09:40.430Z"
   },
   {
    "duration": 10,
    "start_time": "2021-12-21T12:09:40.435Z"
   },
   {
    "duration": 23,
    "start_time": "2021-12-21T12:09:40.447Z"
   },
   {
    "duration": 28,
    "start_time": "2021-12-21T12:09:40.473Z"
   },
   {
    "duration": 104,
    "start_time": "2021-12-21T12:09:40.504Z"
   },
   {
    "duration": 62,
    "start_time": "2021-12-21T12:09:40.610Z"
   },
   {
    "duration": 3,
    "start_time": "2021-12-21T12:09:40.673Z"
   },
   {
    "duration": 7,
    "start_time": "2021-12-21T12:09:40.691Z"
   },
   {
    "duration": 6,
    "start_time": "2021-12-21T12:09:40.700Z"
   },
   {
    "duration": 5,
    "start_time": "2021-12-21T12:09:40.708Z"
   },
   {
    "duration": 7231,
    "start_time": "2021-12-21T12:09:40.714Z"
   },
   {
    "duration": 13,
    "start_time": "2021-12-21T12:09:47.948Z"
   },
   {
    "duration": 49,
    "start_time": "2021-12-21T12:09:47.962Z"
   },
   {
    "duration": 91,
    "start_time": "2021-12-21T12:09:48.014Z"
   },
   {
    "duration": 10,
    "start_time": "2021-12-21T12:09:48.107Z"
   },
   {
    "duration": 79,
    "start_time": "2021-12-21T12:09:48.118Z"
   },
   {
    "duration": 104,
    "start_time": "2021-12-21T12:09:48.198Z"
   },
   {
    "duration": 7,
    "start_time": "2021-12-21T12:09:48.304Z"
   },
   {
    "duration": 91,
    "start_time": "2021-12-21T12:09:48.312Z"
   },
   {
    "duration": 425,
    "start_time": "2021-12-21T12:09:48.405Z"
   },
   {
    "duration": 85,
    "start_time": "2021-12-21T12:09:48.831Z"
   },
   {
    "duration": 27,
    "start_time": "2021-12-21T12:09:48.920Z"
   },
   {
    "duration": 398,
    "start_time": "2021-12-21T12:09:48.949Z"
   },
   {
    "duration": 43,
    "start_time": "2021-12-21T12:09:49.349Z"
   },
   {
    "duration": 208,
    "start_time": "2021-12-21T12:09:49.394Z"
   },
   {
    "duration": 31,
    "start_time": "2021-12-21T12:09:49.604Z"
   },
   {
    "duration": 390,
    "start_time": "2021-12-21T12:09:49.636Z"
   },
   {
    "duration": 8,
    "start_time": "2021-12-21T12:09:50.028Z"
   },
   {
    "duration": 61,
    "start_time": "2021-12-21T12:09:50.038Z"
   },
   {
    "duration": 214,
    "start_time": "2021-12-21T12:09:50.101Z"
   },
   {
    "duration": 10,
    "start_time": "2021-12-21T12:09:50.317Z"
   },
   {
    "duration": 9,
    "start_time": "2021-12-21T12:09:50.329Z"
   },
   {
    "duration": 8,
    "start_time": "2021-12-21T12:09:50.340Z"
   },
   {
    "duration": 5,
    "start_time": "2021-12-21T12:09:50.350Z"
   },
   {
    "duration": 12,
    "start_time": "2021-12-21T12:09:50.357Z"
   },
   {
    "duration": 212,
    "start_time": "2021-12-21T12:14:50.212Z"
   },
   {
    "duration": 1312,
    "start_time": "2021-12-21T12:14:56.208Z"
   },
   {
    "duration": 130,
    "start_time": "2021-12-21T12:14:57.522Z"
   },
   {
    "duration": 17,
    "start_time": "2021-12-21T12:14:57.654Z"
   },
   {
    "duration": 29,
    "start_time": "2021-12-21T12:14:57.674Z"
   },
   {
    "duration": 52,
    "start_time": "2021-12-21T12:14:57.705Z"
   },
   {
    "duration": 3,
    "start_time": "2021-12-21T12:14:57.759Z"
   },
   {
    "duration": 29,
    "start_time": "2021-12-21T12:14:57.764Z"
   },
   {
    "duration": 19,
    "start_time": "2021-12-21T12:14:57.796Z"
   },
   {
    "duration": 8,
    "start_time": "2021-12-21T12:14:57.817Z"
   },
   {
    "duration": 103,
    "start_time": "2021-12-21T12:14:57.827Z"
   },
   {
    "duration": 72,
    "start_time": "2021-12-21T12:14:57.932Z"
   },
   {
    "duration": 3,
    "start_time": "2021-12-21T12:14:58.006Z"
   },
   {
    "duration": 10,
    "start_time": "2021-12-21T12:14:58.010Z"
   },
   {
    "duration": 7,
    "start_time": "2021-12-21T12:14:58.021Z"
   },
   {
    "duration": 6,
    "start_time": "2021-12-21T12:14:58.030Z"
   },
   {
    "duration": 7415,
    "start_time": "2021-12-21T12:14:58.037Z"
   },
   {
    "duration": 35,
    "start_time": "2021-12-21T12:15:05.456Z"
   },
   {
    "duration": 18,
    "start_time": "2021-12-21T12:15:05.493Z"
   },
   {
    "duration": 35,
    "start_time": "2021-12-21T12:15:05.513Z"
   },
   {
    "duration": 10,
    "start_time": "2021-12-21T12:15:05.549Z"
   },
   {
    "duration": 35,
    "start_time": "2021-12-21T12:15:05.560Z"
   },
   {
    "duration": 57,
    "start_time": "2021-12-21T12:15:05.597Z"
   },
   {
    "duration": 6,
    "start_time": "2021-12-21T12:15:05.657Z"
   },
   {
    "duration": 47,
    "start_time": "2021-12-21T12:15:05.665Z"
   },
   {
    "duration": 207,
    "start_time": "2021-12-21T12:15:05.713Z"
   },
   {
    "duration": 38,
    "start_time": "2021-12-21T12:15:05.922Z"
   },
   {
    "duration": 37,
    "start_time": "2021-12-21T12:15:05.962Z"
   },
   {
    "duration": 357,
    "start_time": "2021-12-21T12:15:06.001Z"
   },
   {
    "duration": 26,
    "start_time": "2021-12-21T12:15:06.360Z"
   },
   {
    "duration": 194,
    "start_time": "2021-12-21T12:15:06.388Z"
   },
   {
    "duration": 32,
    "start_time": "2021-12-21T12:15:06.583Z"
   },
   {
    "duration": 342,
    "start_time": "2021-12-21T12:15:06.616Z"
   },
   {
    "duration": 7,
    "start_time": "2021-12-21T12:15:06.959Z"
   },
   {
    "duration": 37,
    "start_time": "2021-12-21T12:15:06.968Z"
   },
   {
    "duration": 209,
    "start_time": "2021-12-21T12:15:07.007Z"
   },
   {
    "duration": 10,
    "start_time": "2021-12-21T12:15:07.218Z"
   },
   {
    "duration": 8,
    "start_time": "2021-12-21T12:15:07.229Z"
   },
   {
    "duration": 8,
    "start_time": "2021-12-21T12:15:07.239Z"
   },
   {
    "duration": 7,
    "start_time": "2021-12-21T12:15:07.249Z"
   },
   {
    "duration": 11,
    "start_time": "2021-12-21T12:15:07.257Z"
   },
   {
    "duration": 8,
    "start_time": "2021-12-21T12:18:42.673Z"
   },
   {
    "duration": 62,
    "start_time": "2021-12-21T12:20:59.769Z"
   },
   {
    "duration": 9,
    "start_time": "2021-12-21T12:21:13.460Z"
   },
   {
    "duration": 333,
    "start_time": "2021-12-21T12:23:07.027Z"
   },
   {
    "duration": 8,
    "start_time": "2021-12-21T12:23:14.100Z"
   },
   {
    "duration": 57,
    "start_time": "2021-12-21T12:24:19.713Z"
   },
   {
    "duration": 12,
    "start_time": "2021-12-21T12:54:26.035Z"
   },
   {
    "duration": 6,
    "start_time": "2021-12-21T12:54:53.489Z"
   },
   {
    "duration": 54,
    "start_time": "2021-12-21T14:54:43.670Z"
   },
   {
    "duration": 4,
    "start_time": "2021-12-21T14:55:28.411Z"
   },
   {
    "duration": 12,
    "start_time": "2021-12-21T14:55:53.913Z"
   },
   {
    "duration": 22,
    "start_time": "2021-12-21T14:57:09.797Z"
   },
   {
    "duration": 21,
    "start_time": "2021-12-21T14:57:16.712Z"
   },
   {
    "duration": 21,
    "start_time": "2021-12-21T14:57:23.541Z"
   },
   {
    "duration": 6,
    "start_time": "2021-12-21T14:58:29.578Z"
   },
   {
    "duration": 5,
    "start_time": "2021-12-21T14:58:53.619Z"
   },
   {
    "duration": 7,
    "start_time": "2021-12-21T14:59:24.268Z"
   },
   {
    "duration": 39,
    "start_time": "2021-12-21T14:59:48.034Z"
   },
   {
    "duration": 36,
    "start_time": "2021-12-21T15:00:01.466Z"
   },
   {
    "duration": 36,
    "start_time": "2021-12-21T15:00:40.683Z"
   },
   {
    "duration": 58,
    "start_time": "2021-12-21T15:02:14.370Z"
   },
   {
    "duration": 52,
    "start_time": "2021-12-21T15:02:21.658Z"
   },
   {
    "duration": 5,
    "start_time": "2021-12-21T15:02:25.381Z"
   },
   {
    "duration": 57,
    "start_time": "2021-12-21T15:04:55.716Z"
   },
   {
    "duration": 19,
    "start_time": "2021-12-21T15:05:40.598Z"
   },
   {
    "duration": 21,
    "start_time": "2021-12-21T15:05:49.859Z"
   },
   {
    "duration": 58,
    "start_time": "2021-12-21T15:06:21.058Z"
   },
   {
    "duration": 53,
    "start_time": "2021-12-21T15:06:33.392Z"
   },
   {
    "duration": 26,
    "start_time": "2021-12-21T15:07:54.211Z"
   },
   {
    "duration": 37,
    "start_time": "2021-12-21T15:09:10.751Z"
   },
   {
    "duration": 7,
    "start_time": "2021-12-21T15:10:17.643Z"
   },
   {
    "duration": 7,
    "start_time": "2021-12-21T15:10:21.087Z"
   },
   {
    "duration": 429,
    "start_time": "2021-12-21T15:11:51.700Z"
   },
   {
    "duration": 4,
    "start_time": "2021-12-21T15:11:56.961Z"
   },
   {
    "duration": 9,
    "start_time": "2021-12-21T15:12:02.270Z"
   },
   {
    "duration": 22,
    "start_time": "2021-12-21T15:12:41.968Z"
   },
   {
    "duration": 39,
    "start_time": "2021-12-21T15:12:45.793Z"
   },
   {
    "duration": 7,
    "start_time": "2021-12-21T15:12:55.558Z"
   },
   {
    "duration": 1431,
    "start_time": "2021-12-21T15:14:25.108Z"
   },
   {
    "duration": 128,
    "start_time": "2021-12-21T15:14:26.541Z"
   },
   {
    "duration": 21,
    "start_time": "2021-12-21T15:14:26.671Z"
   },
   {
    "duration": 15,
    "start_time": "2021-12-21T15:14:26.694Z"
   },
   {
    "duration": 54,
    "start_time": "2021-12-21T15:14:26.710Z"
   },
   {
    "duration": 25,
    "start_time": "2021-12-21T15:14:26.766Z"
   },
   {
    "duration": 10,
    "start_time": "2021-12-21T15:14:26.793Z"
   },
   {
    "duration": 20,
    "start_time": "2021-12-21T15:14:26.805Z"
   },
   {
    "duration": 8,
    "start_time": "2021-12-21T15:14:26.828Z"
   },
   {
    "duration": 107,
    "start_time": "2021-12-21T15:14:26.838Z"
   },
   {
    "duration": 71,
    "start_time": "2021-12-21T15:14:26.947Z"
   },
   {
    "duration": 4,
    "start_time": "2021-12-21T15:14:27.020Z"
   },
   {
    "duration": 7,
    "start_time": "2021-12-21T15:14:27.026Z"
   },
   {
    "duration": 6,
    "start_time": "2021-12-21T15:14:27.035Z"
   },
   {
    "duration": 22,
    "start_time": "2021-12-21T15:14:27.043Z"
   },
   {
    "duration": 38,
    "start_time": "2021-12-21T15:14:27.092Z"
   },
   {
    "duration": 7,
    "start_time": "2021-12-21T15:14:27.132Z"
   },
   {
    "duration": 8,
    "start_time": "2021-12-21T15:14:27.141Z"
   },
   {
    "duration": 7,
    "start_time": "2021-12-21T15:14:27.151Z"
   },
   {
    "duration": 45,
    "start_time": "2021-12-21T15:14:27.160Z"
   },
   {
    "duration": 8,
    "start_time": "2021-12-21T15:14:27.208Z"
   },
   {
    "duration": 7581,
    "start_time": "2021-12-21T15:14:27.218Z"
   },
   {
    "duration": 16,
    "start_time": "2021-12-21T15:14:34.802Z"
   },
   {
    "duration": 71,
    "start_time": "2021-12-21T15:14:34.820Z"
   },
   {
    "duration": 41,
    "start_time": "2021-12-21T15:14:34.894Z"
   },
   {
    "duration": 62,
    "start_time": "2021-12-21T15:14:34.937Z"
   },
   {
    "duration": 25,
    "start_time": "2021-12-21T15:14:35.002Z"
   },
   {
    "duration": 105,
    "start_time": "2021-12-21T15:14:35.028Z"
   },
   {
    "duration": 58,
    "start_time": "2021-12-21T15:14:35.135Z"
   },
   {
    "duration": 42,
    "start_time": "2021-12-21T15:14:35.195Z"
   },
   {
    "duration": 457,
    "start_time": "2021-12-21T15:14:35.238Z"
   },
   {
    "duration": 31,
    "start_time": "2021-12-21T15:14:35.696Z"
   },
   {
    "duration": 78,
    "start_time": "2021-12-21T15:14:35.728Z"
   },
   {
    "duration": 372,
    "start_time": "2021-12-21T15:14:35.808Z"
   },
   {
    "duration": 27,
    "start_time": "2021-12-21T15:14:36.181Z"
   },
   {
    "duration": 214,
    "start_time": "2021-12-21T15:14:36.210Z"
   },
   {
    "duration": 32,
    "start_time": "2021-12-21T15:14:36.426Z"
   },
   {
    "duration": 378,
    "start_time": "2021-12-21T15:14:36.460Z"
   },
   {
    "duration": 8,
    "start_time": "2021-12-21T15:14:36.840Z"
   },
   {
    "duration": 49,
    "start_time": "2021-12-21T15:14:36.849Z"
   },
   {
    "duration": 219,
    "start_time": "2021-12-21T15:14:36.900Z"
   },
   {
    "duration": 10,
    "start_time": "2021-12-21T15:14:37.120Z"
   },
   {
    "duration": 13,
    "start_time": "2021-12-21T15:14:37.132Z"
   },
   {
    "duration": 14,
    "start_time": "2021-12-21T15:14:37.147Z"
   },
   {
    "duration": 6,
    "start_time": "2021-12-21T15:14:37.163Z"
   },
   {
    "duration": 27,
    "start_time": "2021-12-21T15:14:37.170Z"
   },
   {
    "duration": 8,
    "start_time": "2021-12-21T15:14:37.199Z"
   },
   {
    "duration": 10,
    "start_time": "2021-12-21T15:14:37.209Z"
   },
   {
    "duration": 7,
    "start_time": "2021-12-21T15:14:37.221Z"
   },
   {
    "duration": 373,
    "start_time": "2021-12-21T15:18:45.175Z"
   },
   {
    "duration": 182,
    "start_time": "2021-12-21T15:19:01.875Z"
   },
   {
    "duration": 311,
    "start_time": "2021-12-21T15:19:23.523Z"
   },
   {
    "duration": 103,
    "start_time": "2021-12-21T15:19:41.076Z"
   },
   {
    "duration": 218,
    "start_time": "2021-12-21T15:19:45.600Z"
   },
   {
    "duration": 189,
    "start_time": "2021-12-21T15:19:57.271Z"
   },
   {
    "duration": 188,
    "start_time": "2021-12-21T15:23:47.857Z"
   },
   {
    "duration": 180,
    "start_time": "2021-12-21T15:23:57.840Z"
   },
   {
    "duration": 5,
    "start_time": "2021-12-21T15:24:00.688Z"
   },
   {
    "duration": 246,
    "start_time": "2021-12-21T15:24:12.401Z"
   },
   {
    "duration": 400,
    "start_time": "2021-12-21T15:26:05.068Z"
   },
   {
    "duration": 230,
    "start_time": "2021-12-21T15:26:37.067Z"
   },
   {
    "duration": 182,
    "start_time": "2021-12-21T15:26:53.313Z"
   },
   {
    "duration": 218,
    "start_time": "2021-12-21T15:27:38.511Z"
   },
   {
    "duration": 4,
    "start_time": "2021-12-21T15:27:47.111Z"
   },
   {
    "duration": 8,
    "start_time": "2021-12-21T15:27:50.842Z"
   },
   {
    "duration": 248,
    "start_time": "2021-12-21T15:28:02.143Z"
   },
   {
    "duration": 54,
    "start_time": "2021-12-21T15:28:32.248Z"
   },
   {
    "duration": 53,
    "start_time": "2021-12-21T15:28:39.570Z"
   },
   {
    "duration": 486,
    "start_time": "2021-12-21T15:29:36.880Z"
   },
   {
    "duration": 1458,
    "start_time": "2021-12-21T15:30:19.883Z"
   },
   {
    "duration": 128,
    "start_time": "2021-12-21T15:30:21.343Z"
   },
   {
    "duration": 24,
    "start_time": "2021-12-21T15:30:21.475Z"
   },
   {
    "duration": 16,
    "start_time": "2021-12-21T15:30:21.501Z"
   },
   {
    "duration": 73,
    "start_time": "2021-12-21T15:30:21.519Z"
   },
   {
    "duration": 3,
    "start_time": "2021-12-21T15:30:21.594Z"
   },
   {
    "duration": 9,
    "start_time": "2021-12-21T15:30:21.600Z"
   },
   {
    "duration": 21,
    "start_time": "2021-12-21T15:30:21.611Z"
   },
   {
    "duration": 9,
    "start_time": "2021-12-21T15:30:21.633Z"
   },
   {
    "duration": 110,
    "start_time": "2021-12-21T15:30:21.643Z"
   },
   {
    "duration": 71,
    "start_time": "2021-12-21T15:30:21.755Z"
   },
   {
    "duration": 3,
    "start_time": "2021-12-21T15:30:21.829Z"
   },
   {
    "duration": 7,
    "start_time": "2021-12-21T15:30:21.834Z"
   },
   {
    "duration": 11,
    "start_time": "2021-12-21T15:30:21.842Z"
   },
   {
    "duration": 39,
    "start_time": "2021-12-21T15:30:21.855Z"
   },
   {
    "duration": 36,
    "start_time": "2021-12-21T15:30:21.896Z"
   },
   {
    "duration": 7,
    "start_time": "2021-12-21T15:30:21.934Z"
   },
   {
    "duration": 10,
    "start_time": "2021-12-21T15:30:21.942Z"
   },
   {
    "duration": 2,
    "start_time": "2021-12-21T15:30:21.954Z"
   },
   {
    "duration": 10,
    "start_time": "2021-12-21T15:30:21.957Z"
   },
   {
    "duration": 1821,
    "start_time": "2021-12-21T15:30:21.969Z"
   },
   {
    "duration": 739,
    "start_time": "2021-12-21T15:30:23.054Z"
   },
   {
    "duration": 735,
    "start_time": "2021-12-21T15:30:23.058Z"
   },
   {
    "duration": 731,
    "start_time": "2021-12-21T15:30:23.063Z"
   },
   {
    "duration": 727,
    "start_time": "2021-12-21T15:30:23.069Z"
   },
   {
    "duration": 723,
    "start_time": "2021-12-21T15:30:23.074Z"
   },
   {
    "duration": 718,
    "start_time": "2021-12-21T15:30:23.079Z"
   },
   {
    "duration": 714,
    "start_time": "2021-12-21T15:30:23.084Z"
   },
   {
    "duration": 709,
    "start_time": "2021-12-21T15:30:23.090Z"
   },
   {
    "duration": 703,
    "start_time": "2021-12-21T15:30:23.097Z"
   },
   {
    "duration": 698,
    "start_time": "2021-12-21T15:30:23.103Z"
   },
   {
    "duration": 695,
    "start_time": "2021-12-21T15:30:23.107Z"
   },
   {
    "duration": 691,
    "start_time": "2021-12-21T15:30:23.112Z"
   },
   {
    "duration": 687,
    "start_time": "2021-12-21T15:30:23.117Z"
   },
   {
    "duration": 682,
    "start_time": "2021-12-21T15:30:23.122Z"
   },
   {
    "duration": 680,
    "start_time": "2021-12-21T15:30:23.126Z"
   },
   {
    "duration": 664,
    "start_time": "2021-12-21T15:30:23.142Z"
   },
   {
    "duration": 660,
    "start_time": "2021-12-21T15:30:23.147Z"
   },
   {
    "duration": 654,
    "start_time": "2021-12-21T15:30:23.154Z"
   },
   {
    "duration": 651,
    "start_time": "2021-12-21T15:30:23.158Z"
   },
   {
    "duration": 648,
    "start_time": "2021-12-21T15:30:23.162Z"
   },
   {
    "duration": 646,
    "start_time": "2021-12-21T15:30:23.165Z"
   },
   {
    "duration": 641,
    "start_time": "2021-12-21T15:30:23.171Z"
   },
   {
    "duration": 639,
    "start_time": "2021-12-21T15:30:23.174Z"
   },
   {
    "duration": 636,
    "start_time": "2021-12-21T15:30:23.178Z"
   },
   {
    "duration": 633,
    "start_time": "2021-12-21T15:30:23.182Z"
   },
   {
    "duration": 630,
    "start_time": "2021-12-21T15:30:23.186Z"
   },
   {
    "duration": 618,
    "start_time": "2021-12-21T15:30:23.199Z"
   },
   {
    "duration": 614,
    "start_time": "2021-12-21T15:30:23.204Z"
   },
   {
    "duration": 611,
    "start_time": "2021-12-21T15:30:23.208Z"
   },
   {
    "duration": 608,
    "start_time": "2021-12-21T15:30:23.212Z"
   },
   {
    "duration": 606,
    "start_time": "2021-12-21T15:30:23.215Z"
   },
   {
    "duration": 602,
    "start_time": "2021-12-21T15:30:23.220Z"
   },
   {
    "duration": 189,
    "start_time": "2021-12-21T15:31:56.921Z"
   },
   {
    "duration": 315,
    "start_time": "2021-12-21T15:32:20.272Z"
   },
   {
    "duration": 190,
    "start_time": "2021-12-21T15:32:25.617Z"
   },
   {
    "duration": 206,
    "start_time": "2021-12-21T15:34:45.199Z"
   },
   {
    "duration": 192,
    "start_time": "2021-12-21T15:34:52.505Z"
   },
   {
    "duration": 5352,
    "start_time": "2021-12-21T15:35:18.873Z"
   },
   {
    "duration": 278,
    "start_time": "2021-12-21T15:35:36.038Z"
   },
   {
    "duration": 269,
    "start_time": "2021-12-21T15:36:13.221Z"
   },
   {
    "duration": 546,
    "start_time": "2021-12-21T15:36:19.664Z"
   },
   {
    "duration": 453,
    "start_time": "2021-12-21T15:37:18.816Z"
   },
   {
    "duration": 1448,
    "start_time": "2021-12-21T15:38:03.479Z"
   },
   {
    "duration": 128,
    "start_time": "2021-12-21T15:38:04.929Z"
   },
   {
    "duration": 15,
    "start_time": "2021-12-21T15:38:05.060Z"
   },
   {
    "duration": 28,
    "start_time": "2021-12-21T15:38:05.077Z"
   },
   {
    "duration": 53,
    "start_time": "2021-12-21T15:38:05.106Z"
   },
   {
    "duration": 3,
    "start_time": "2021-12-21T15:38:05.161Z"
   },
   {
    "duration": 34,
    "start_time": "2021-12-21T15:38:05.165Z"
   },
   {
    "duration": 21,
    "start_time": "2021-12-21T15:38:05.201Z"
   },
   {
    "duration": 9,
    "start_time": "2021-12-21T15:38:05.224Z"
   },
   {
    "duration": 99,
    "start_time": "2021-12-21T15:38:05.234Z"
   },
   {
    "duration": 72,
    "start_time": "2021-12-21T15:38:05.334Z"
   },
   {
    "duration": 4,
    "start_time": "2021-12-21T15:38:05.407Z"
   },
   {
    "duration": 8,
    "start_time": "2021-12-21T15:38:05.412Z"
   },
   {
    "duration": 6,
    "start_time": "2021-12-21T15:38:05.422Z"
   },
   {
    "duration": 23,
    "start_time": "2021-12-21T15:38:05.430Z"
   },
   {
    "duration": 64,
    "start_time": "2021-12-21T15:38:05.455Z"
   },
   {
    "duration": 8,
    "start_time": "2021-12-21T15:38:05.521Z"
   },
   {
    "duration": 9,
    "start_time": "2021-12-21T15:38:05.531Z"
   },
   {
    "duration": 3,
    "start_time": "2021-12-21T15:38:05.542Z"
   },
   {
    "duration": 10,
    "start_time": "2021-12-21T15:38:05.547Z"
   },
   {
    "duration": 913,
    "start_time": "2021-12-21T15:38:05.558Z"
   },
   {
    "duration": 28,
    "start_time": "2021-12-21T15:38:06.472Z"
   },
   {
    "duration": 6,
    "start_time": "2021-12-21T15:38:06.504Z"
   },
   {
    "duration": 6926,
    "start_time": "2021-12-21T15:38:06.512Z"
   },
   {
    "duration": 12,
    "start_time": "2021-12-21T15:38:13.440Z"
   },
   {
    "duration": 53,
    "start_time": "2021-12-21T15:38:13.454Z"
   },
   {
    "duration": 86,
    "start_time": "2021-12-21T15:38:13.509Z"
   },
   {
    "duration": 9,
    "start_time": "2021-12-21T15:38:13.597Z"
   },
   {
    "duration": 24,
    "start_time": "2021-12-21T15:38:13.607Z"
   },
   {
    "duration": 102,
    "start_time": "2021-12-21T15:38:13.633Z"
   },
   {
    "duration": 59,
    "start_time": "2021-12-21T15:38:13.736Z"
   },
   {
    "duration": 40,
    "start_time": "2021-12-21T15:38:13.797Z"
   },
   {
    "duration": 453,
    "start_time": "2021-12-21T15:38:13.838Z"
   },
   {
    "duration": 30,
    "start_time": "2021-12-21T15:38:14.293Z"
   },
   {
    "duration": 27,
    "start_time": "2021-12-21T15:38:14.324Z"
   },
   {
    "duration": 296,
    "start_time": "2021-12-21T15:38:14.352Z"
   },
   {
    "duration": 55,
    "start_time": "2021-12-21T15:38:14.656Z"
   },
   {
    "duration": 396,
    "start_time": "2021-12-21T15:38:14.713Z"
   },
   {
    "duration": 31,
    "start_time": "2021-12-21T15:38:15.110Z"
   },
   {
    "duration": 207,
    "start_time": "2021-12-21T15:38:15.142Z"
   },
   {
    "duration": 7,
    "start_time": "2021-12-21T15:38:15.351Z"
   },
   {
    "duration": 50,
    "start_time": "2021-12-21T15:38:15.360Z"
   },
   {
    "duration": 211,
    "start_time": "2021-12-21T15:38:15.412Z"
   },
   {
    "duration": 9,
    "start_time": "2021-12-21T15:38:15.625Z"
   },
   {
    "duration": 8,
    "start_time": "2021-12-21T15:38:15.636Z"
   },
   {
    "duration": 8,
    "start_time": "2021-12-21T15:38:15.646Z"
   },
   {
    "duration": 4,
    "start_time": "2021-12-21T15:38:15.656Z"
   },
   {
    "duration": 34,
    "start_time": "2021-12-21T15:38:15.662Z"
   },
   {
    "duration": 8,
    "start_time": "2021-12-21T15:38:15.698Z"
   },
   {
    "duration": 9,
    "start_time": "2021-12-21T15:38:15.707Z"
   },
   {
    "duration": 9,
    "start_time": "2021-12-21T15:38:15.717Z"
   },
   {
    "duration": 4,
    "start_time": "2021-12-21T16:21:18.029Z"
   },
   {
    "duration": 8,
    "start_time": "2021-12-21T16:32:35.704Z"
   },
   {
    "duration": 29,
    "start_time": "2021-12-21T16:47:44.395Z"
   },
   {
    "duration": 25,
    "start_time": "2021-12-21T16:47:51.468Z"
   },
   {
    "duration": 26,
    "start_time": "2021-12-21T16:48:14.632Z"
   },
   {
    "duration": 30,
    "start_time": "2021-12-21T16:49:01.425Z"
   },
   {
    "duration": 398,
    "start_time": "2021-12-21T16:51:37.328Z"
   },
   {
    "duration": 44,
    "start_time": "2021-12-21T16:51:42.182Z"
   },
   {
    "duration": 42,
    "start_time": "2021-12-21T16:51:57.094Z"
   },
   {
    "duration": 35,
    "start_time": "2021-12-21T16:54:33.323Z"
   },
   {
    "duration": 35,
    "start_time": "2021-12-21T16:54:53.319Z"
   },
   {
    "duration": 1408,
    "start_time": "2021-12-21T16:58:07.968Z"
   },
   {
    "duration": 141,
    "start_time": "2021-12-21T16:58:09.378Z"
   },
   {
    "duration": 16,
    "start_time": "2021-12-21T16:58:09.522Z"
   },
   {
    "duration": 16,
    "start_time": "2021-12-21T16:58:09.540Z"
   },
   {
    "duration": 76,
    "start_time": "2021-12-21T16:58:09.558Z"
   },
   {
    "duration": 3,
    "start_time": "2021-12-21T16:58:09.636Z"
   },
   {
    "duration": 11,
    "start_time": "2021-12-21T16:58:09.640Z"
   },
   {
    "duration": 45,
    "start_time": "2021-12-21T16:58:09.653Z"
   },
   {
    "duration": 12,
    "start_time": "2021-12-21T16:58:09.701Z"
   },
   {
    "duration": 114,
    "start_time": "2021-12-21T16:58:09.715Z"
   },
   {
    "duration": 73,
    "start_time": "2021-12-21T16:58:09.832Z"
   },
   {
    "duration": 3,
    "start_time": "2021-12-21T16:58:09.907Z"
   },
   {
    "duration": 24,
    "start_time": "2021-12-21T16:58:09.912Z"
   },
   {
    "duration": 17,
    "start_time": "2021-12-21T16:58:09.937Z"
   },
   {
    "duration": 37,
    "start_time": "2021-12-21T16:58:09.956Z"
   },
   {
    "duration": 47,
    "start_time": "2021-12-21T16:58:09.995Z"
   },
   {
    "duration": 7,
    "start_time": "2021-12-21T16:58:10.044Z"
   },
   {
    "duration": 31,
    "start_time": "2021-12-21T16:58:10.053Z"
   },
   {
    "duration": 15,
    "start_time": "2021-12-21T16:58:10.086Z"
   },
   {
    "duration": 944,
    "start_time": "2021-12-21T16:58:10.104Z"
   },
   {
    "duration": 11,
    "start_time": "2021-12-21T16:58:11.050Z"
   },
   {
    "duration": 40,
    "start_time": "2021-12-21T16:58:11.063Z"
   },
   {
    "duration": 7128,
    "start_time": "2021-12-21T16:58:11.109Z"
   },
   {
    "duration": 51,
    "start_time": "2021-12-21T16:58:18.241Z"
   },
   {
    "duration": 24,
    "start_time": "2021-12-21T16:58:18.294Z"
   },
   {
    "duration": 92,
    "start_time": "2021-12-21T16:58:18.320Z"
   },
   {
    "duration": 11,
    "start_time": "2021-12-21T16:58:18.414Z"
   },
   {
    "duration": 86,
    "start_time": "2021-12-21T16:58:18.426Z"
   },
   {
    "duration": 110,
    "start_time": "2021-12-21T16:58:18.513Z"
   },
   {
    "duration": 6,
    "start_time": "2021-12-21T16:58:18.625Z"
   },
   {
    "duration": 88,
    "start_time": "2021-12-21T16:58:18.632Z"
   },
   {
    "duration": 8,
    "start_time": "2021-12-21T16:58:18.722Z"
   },
   {
    "duration": 96,
    "start_time": "2021-12-21T16:58:18.732Z"
   },
   {
    "duration": 442,
    "start_time": "2021-12-21T16:58:18.829Z"
   },
   {
    "duration": 50,
    "start_time": "2021-12-21T16:58:19.272Z"
   },
   {
    "duration": 25,
    "start_time": "2021-12-21T16:58:19.324Z"
   },
   {
    "duration": 218,
    "start_time": "2021-12-21T16:58:19.351Z"
   },
   {
    "duration": 39,
    "start_time": "2021-12-21T16:58:19.571Z"
   },
   {
    "duration": 400,
    "start_time": "2021-12-21T16:58:19.612Z"
   },
   {
    "duration": 29,
    "start_time": "2021-12-21T16:58:20.014Z"
   },
   {
    "duration": 226,
    "start_time": "2021-12-21T16:58:20.045Z"
   },
   {
    "duration": 7,
    "start_time": "2021-12-21T16:58:20.273Z"
   },
   {
    "duration": 42,
    "start_time": "2021-12-21T16:58:20.291Z"
   },
   {
    "duration": 36,
    "start_time": "2021-12-21T16:58:20.335Z"
   },
   {
    "duration": 326,
    "start_time": "2021-12-21T16:58:20.392Z"
   },
   {
    "duration": 10,
    "start_time": "2021-12-21T16:58:20.720Z"
   },
   {
    "duration": 9,
    "start_time": "2021-12-21T16:58:20.732Z"
   },
   {
    "duration": 12,
    "start_time": "2021-12-21T16:58:20.743Z"
   },
   {
    "duration": 12,
    "start_time": "2021-12-21T16:58:20.757Z"
   },
   {
    "duration": 24,
    "start_time": "2021-12-21T16:58:20.771Z"
   },
   {
    "duration": 14,
    "start_time": "2021-12-21T16:58:20.798Z"
   },
   {
    "duration": 9,
    "start_time": "2021-12-21T16:58:20.814Z"
   },
   {
    "duration": 9,
    "start_time": "2021-12-21T16:58:20.825Z"
   },
   {
    "duration": 330,
    "start_time": "2021-12-21T17:31:58.803Z"
   },
   {
    "duration": 3675,
    "start_time": "2021-12-21T18:44:49.597Z"
   },
   {
    "duration": 164,
    "start_time": "2021-12-21T18:44:53.273Z"
   },
   {
    "duration": 16,
    "start_time": "2021-12-21T18:44:53.440Z"
   },
   {
    "duration": 17,
    "start_time": "2021-12-21T18:44:53.458Z"
   },
   {
    "duration": 81,
    "start_time": "2021-12-21T18:44:53.476Z"
   },
   {
    "duration": 3,
    "start_time": "2021-12-21T18:44:53.559Z"
   },
   {
    "duration": 37,
    "start_time": "2021-12-21T18:44:53.564Z"
   },
   {
    "duration": 29,
    "start_time": "2021-12-21T18:44:53.604Z"
   },
   {
    "duration": 9,
    "start_time": "2021-12-21T18:44:53.636Z"
   },
   {
    "duration": 135,
    "start_time": "2021-12-21T18:44:53.647Z"
   },
   {
    "duration": 73,
    "start_time": "2021-12-21T18:44:53.784Z"
   },
   {
    "duration": 4,
    "start_time": "2021-12-21T18:44:53.858Z"
   },
   {
    "duration": 20,
    "start_time": "2021-12-21T18:44:53.863Z"
   },
   {
    "duration": 6,
    "start_time": "2021-12-21T18:44:53.884Z"
   },
   {
    "duration": 32,
    "start_time": "2021-12-21T18:44:53.892Z"
   },
   {
    "duration": 39,
    "start_time": "2021-12-21T18:44:53.926Z"
   },
   {
    "duration": 8,
    "start_time": "2021-12-21T18:44:53.967Z"
   },
   {
    "duration": 481,
    "start_time": "2021-12-21T18:44:53.976Z"
   },
   {
    "duration": 8,
    "start_time": "2021-12-21T18:44:54.460Z"
   },
   {
    "duration": 1383,
    "start_time": "2021-12-21T18:44:54.470Z"
   },
   {
    "duration": 15,
    "start_time": "2021-12-21T18:44:55.856Z"
   },
   {
    "duration": 9,
    "start_time": "2021-12-21T18:44:55.873Z"
   },
   {
    "duration": 8470,
    "start_time": "2021-12-21T18:44:55.884Z"
   },
   {
    "duration": 12,
    "start_time": "2021-12-21T18:45:04.356Z"
   },
   {
    "duration": 21,
    "start_time": "2021-12-21T18:45:04.393Z"
   },
   {
    "duration": 32,
    "start_time": "2021-12-21T18:45:04.415Z"
   },
   {
    "duration": 8,
    "start_time": "2021-12-21T18:45:04.451Z"
   },
   {
    "duration": 44,
    "start_time": "2021-12-21T18:45:04.461Z"
   },
   {
    "duration": 66,
    "start_time": "2021-12-21T18:45:04.507Z"
   },
   {
    "duration": 5,
    "start_time": "2021-12-21T18:45:04.574Z"
   },
   {
    "duration": 47,
    "start_time": "2021-12-21T18:45:04.581Z"
   },
   {
    "duration": 25,
    "start_time": "2021-12-21T18:45:04.629Z"
   },
   {
    "duration": 56,
    "start_time": "2021-12-21T18:45:04.655Z"
   },
   {
    "duration": 233,
    "start_time": "2021-12-21T18:45:04.712Z"
   },
   {
    "duration": 30,
    "start_time": "2021-12-21T18:45:04.947Z"
   },
   {
    "duration": 36,
    "start_time": "2021-12-21T18:45:04.978Z"
   },
   {
    "duration": 207,
    "start_time": "2021-12-21T18:45:05.016Z"
   },
   {
    "duration": 25,
    "start_time": "2021-12-21T18:45:05.225Z"
   },
   {
    "duration": 414,
    "start_time": "2021-12-21T18:45:05.252Z"
   },
   {
    "duration": 37,
    "start_time": "2021-12-21T18:45:05.667Z"
   },
   {
    "duration": 230,
    "start_time": "2021-12-21T18:45:05.707Z"
   },
   {
    "duration": 8,
    "start_time": "2021-12-21T18:45:05.939Z"
   },
   {
    "duration": 51,
    "start_time": "2021-12-21T18:45:05.949Z"
   },
   {
    "duration": 47,
    "start_time": "2021-12-21T18:45:06.003Z"
   },
   {
    "duration": 219,
    "start_time": "2021-12-21T18:45:06.052Z"
   },
   {
    "duration": 9,
    "start_time": "2021-12-21T18:45:06.273Z"
   },
   {
    "duration": 17,
    "start_time": "2021-12-21T18:45:06.283Z"
   },
   {
    "duration": 26,
    "start_time": "2021-12-21T18:45:06.303Z"
   },
   {
    "duration": 27,
    "start_time": "2021-12-21T18:45:06.330Z"
   },
   {
    "duration": 34,
    "start_time": "2021-12-21T18:45:06.358Z"
   },
   {
    "duration": 22,
    "start_time": "2021-12-21T18:45:06.395Z"
   },
   {
    "duration": 35,
    "start_time": "2021-12-21T18:45:06.418Z"
   },
   {
    "duration": 25,
    "start_time": "2021-12-21T18:45:06.454Z"
   },
   {
    "duration": 56856,
    "start_time": "2021-12-22T07:02:30.011Z"
   },
   {
    "duration": 221,
    "start_time": "2021-12-22T07:12:15.073Z"
   },
   {
    "duration": 174,
    "start_time": "2021-12-22T07:12:15.448Z"
   },
   {
    "duration": 164,
    "start_time": "2021-12-22T07:12:15.766Z"
   },
   {
    "duration": 1875,
    "start_time": "2021-12-22T07:12:18.783Z"
   },
   {
    "duration": 126,
    "start_time": "2021-12-22T07:12:21.469Z"
   },
   {
    "duration": 18,
    "start_time": "2021-12-22T07:12:22.549Z"
   },
   {
    "duration": 17,
    "start_time": "2021-12-22T07:12:22.869Z"
   },
   {
    "duration": 54,
    "start_time": "2021-12-22T07:12:23.358Z"
   },
   {
    "duration": 3,
    "start_time": "2021-12-22T07:12:24.479Z"
   },
   {
    "duration": 8,
    "start_time": "2021-12-22T07:12:24.773Z"
   },
   {
    "duration": 20,
    "start_time": "2021-12-22T07:12:25.397Z"
   },
   {
    "duration": 9,
    "start_time": "2021-12-22T07:12:25.679Z"
   },
   {
    "duration": 87,
    "start_time": "2021-12-22T07:12:26.269Z"
   },
   {
    "duration": 61,
    "start_time": "2021-12-22T07:12:26.596Z"
   },
   {
    "duration": 4,
    "start_time": "2021-12-22T07:12:27.557Z"
   },
   {
    "duration": 5,
    "start_time": "2021-12-22T07:12:28.053Z"
   },
   {
    "duration": 6,
    "start_time": "2021-12-22T07:12:28.551Z"
   },
   {
    "duration": 24,
    "start_time": "2021-12-22T07:12:29.389Z"
   },
   {
    "duration": 37,
    "start_time": "2021-12-22T07:12:29.741Z"
   },
   {
    "duration": 8,
    "start_time": "2021-12-22T07:12:30.085Z"
   },
   {
    "duration": 7,
    "start_time": "2021-12-22T07:12:30.893Z"
   },
   {
    "duration": 7,
    "start_time": "2021-12-22T07:12:31.257Z"
   },
   {
    "duration": 882,
    "start_time": "2021-12-22T07:12:31.609Z"
   },
   {
    "duration": 12,
    "start_time": "2021-12-22T07:12:32.493Z"
   },
   {
    "duration": 8,
    "start_time": "2021-12-22T07:12:32.507Z"
   },
   {
    "duration": 6524,
    "start_time": "2021-12-22T07:12:35.570Z"
   },
   {
    "duration": 13,
    "start_time": "2021-12-22T07:12:42.096Z"
   },
   {
    "duration": 15,
    "start_time": "2021-12-22T07:12:42.111Z"
   },
   {
    "duration": 88,
    "start_time": "2021-12-22T07:12:42.127Z"
   },
   {
    "duration": 9,
    "start_time": "2021-12-22T07:12:42.217Z"
   },
   {
    "duration": 74,
    "start_time": "2021-12-22T07:12:42.227Z"
   },
   {
    "duration": 104,
    "start_time": "2021-12-22T07:12:42.303Z"
   },
   {
    "duration": 4,
    "start_time": "2021-12-22T07:12:42.409Z"
   },
   {
    "duration": 26,
    "start_time": "2021-12-22T07:12:44.317Z"
   },
   {
    "duration": 7,
    "start_time": "2021-12-22T07:12:45.124Z"
   },
   {
    "duration": 51,
    "start_time": "2021-12-22T07:13:39.742Z"
   },
   {
    "duration": 401,
    "start_time": "2021-12-22T10:47:50.070Z"
   },
   {
    "duration": 2037,
    "start_time": "2021-12-22T10:47:57.051Z"
   },
   {
    "duration": 177,
    "start_time": "2021-12-22T10:47:59.091Z"
   },
   {
    "duration": 24,
    "start_time": "2021-12-22T10:47:59.271Z"
   },
   {
    "duration": 22,
    "start_time": "2021-12-22T10:47:59.298Z"
   },
   {
    "duration": 143,
    "start_time": "2021-12-22T10:47:59.323Z"
   },
   {
    "duration": 4,
    "start_time": "2021-12-22T10:47:59.469Z"
   },
   {
    "duration": 16,
    "start_time": "2021-12-22T10:47:59.476Z"
   },
   {
    "duration": 65,
    "start_time": "2021-12-22T10:47:59.498Z"
   },
   {
    "duration": 15,
    "start_time": "2021-12-22T10:47:59.567Z"
   },
   {
    "duration": 201,
    "start_time": "2021-12-22T10:47:59.585Z"
   },
   {
    "duration": 139,
    "start_time": "2021-12-22T10:47:59.789Z"
   },
   {
    "duration": 5,
    "start_time": "2021-12-22T10:47:59.932Z"
   },
   {
    "duration": 26,
    "start_time": "2021-12-22T10:47:59.940Z"
   },
   {
    "duration": 9,
    "start_time": "2021-12-22T10:47:59.970Z"
   },
   {
    "duration": 496,
    "start_time": "2021-12-22T10:47:59.982Z"
   },
   {
    "duration": 182,
    "start_time": "2021-12-22T10:48:00.300Z"
   },
   {
    "duration": 176,
    "start_time": "2021-12-22T10:48:00.307Z"
   },
   {
    "duration": 171,
    "start_time": "2021-12-22T10:48:00.314Z"
   },
   {
    "duration": 167,
    "start_time": "2021-12-22T10:48:00.320Z"
   },
   {
    "duration": 153,
    "start_time": "2021-12-22T10:48:00.335Z"
   },
   {
    "duration": 147,
    "start_time": "2021-12-22T10:48:00.343Z"
   },
   {
    "duration": 144,
    "start_time": "2021-12-22T10:48:00.348Z"
   },
   {
    "duration": 140,
    "start_time": "2021-12-22T10:48:00.353Z"
   },
   {
    "duration": 133,
    "start_time": "2021-12-22T10:48:00.362Z"
   },
   {
    "duration": 129,
    "start_time": "2021-12-22T10:48:00.367Z"
   },
   {
    "duration": 124,
    "start_time": "2021-12-22T10:48:00.375Z"
   },
   {
    "duration": 120,
    "start_time": "2021-12-22T10:48:00.380Z"
   },
   {
    "duration": 114,
    "start_time": "2021-12-22T10:48:00.387Z"
   },
   {
    "duration": 110,
    "start_time": "2021-12-22T10:48:00.392Z"
   },
   {
    "duration": 105,
    "start_time": "2021-12-22T10:48:00.398Z"
   },
   {
    "duration": 100,
    "start_time": "2021-12-22T10:48:00.404Z"
   },
   {
    "duration": 95,
    "start_time": "2021-12-22T10:48:00.410Z"
   },
   {
    "duration": 81,
    "start_time": "2021-12-22T10:48:00.425Z"
   },
   {
    "duration": 76,
    "start_time": "2021-12-22T10:48:00.431Z"
   },
   {
    "duration": 70,
    "start_time": "2021-12-22T10:48:00.438Z"
   },
   {
    "duration": 65,
    "start_time": "2021-12-22T10:48:00.444Z"
   },
   {
    "duration": 59,
    "start_time": "2021-12-22T10:48:00.451Z"
   },
   {
    "duration": 52,
    "start_time": "2021-12-22T10:48:00.459Z"
   },
   {
    "duration": 50,
    "start_time": "2021-12-22T10:48:00.465Z"
   },
   {
    "duration": 44,
    "start_time": "2021-12-22T10:48:00.472Z"
   },
   {
    "duration": 40,
    "start_time": "2021-12-22T10:48:00.478Z"
   },
   {
    "duration": 33,
    "start_time": "2021-12-22T10:48:00.486Z"
   },
   {
    "duration": 27,
    "start_time": "2021-12-22T10:48:00.494Z"
   },
   {
    "duration": 22,
    "start_time": "2021-12-22T10:48:00.500Z"
   },
   {
    "duration": 17,
    "start_time": "2021-12-22T10:48:00.506Z"
   },
   {
    "duration": 12,
    "start_time": "2021-12-22T10:48:00.512Z"
   },
   {
    "duration": -23,
    "start_time": "2021-12-22T10:48:00.548Z"
   },
   {
    "duration": 7,
    "start_time": "2021-12-22T10:48:00.556Z"
   },
   {
    "duration": 2,
    "start_time": "2021-12-22T10:48:00.562Z"
   },
   {
    "duration": -3,
    "start_time": "2021-12-22T10:48:00.569Z"
   },
   {
    "duration": -13,
    "start_time": "2021-12-22T10:48:00.580Z"
   },
   {
    "duration": -18,
    "start_time": "2021-12-22T10:48:00.586Z"
   },
   {
    "duration": -25,
    "start_time": "2021-12-22T10:48:00.594Z"
   },
   {
    "duration": -29,
    "start_time": "2021-12-22T10:48:00.600Z"
   },
   {
    "duration": -32,
    "start_time": "2021-12-22T10:48:00.604Z"
   },
   {
    "duration": 2502,
    "start_time": "2021-12-22T10:48:41.552Z"
   },
   {
    "duration": 3659,
    "start_time": "2021-12-22T10:49:14.876Z"
   },
   {
    "duration": 2657,
    "start_time": "2021-12-22T10:50:56.753Z"
   },
   {
    "duration": 250,
    "start_time": "2021-12-22T10:50:59.414Z"
   },
   {
    "duration": 32,
    "start_time": "2021-12-22T10:50:59.668Z"
   },
   {
    "duration": 30,
    "start_time": "2021-12-22T10:50:59.704Z"
   },
   {
    "duration": 134,
    "start_time": "2021-12-22T10:50:59.765Z"
   },
   {
    "duration": 5,
    "start_time": "2021-12-22T10:50:59.901Z"
   },
   {
    "duration": 15,
    "start_time": "2021-12-22T10:50:59.964Z"
   },
   {
    "duration": 86,
    "start_time": "2021-12-22T10:50:59.982Z"
   },
   {
    "duration": 14,
    "start_time": "2021-12-22T10:51:00.071Z"
   },
   {
    "duration": 295,
    "start_time": "2021-12-22T10:51:00.087Z"
   },
   {
    "duration": 299,
    "start_time": "2021-12-22T10:51:00.385Z"
   },
   {
    "duration": 6,
    "start_time": "2021-12-22T10:51:00.687Z"
   },
   {
    "duration": 69,
    "start_time": "2021-12-22T10:51:00.697Z"
   },
   {
    "duration": 10,
    "start_time": "2021-12-22T10:51:00.770Z"
   },
   {
    "duration": 4149,
    "start_time": "2021-12-22T10:51:00.783Z"
   },
   {
    "duration": 50,
    "start_time": "2021-12-22T10:51:04.936Z"
   },
   {
    "duration": 110,
    "start_time": "2021-12-22T10:51:04.989Z"
   },
   {
    "duration": 66,
    "start_time": "2021-12-22T10:51:05.102Z"
   },
   {
    "duration": 21,
    "start_time": "2021-12-22T10:51:05.171Z"
   },
   {
    "duration": 23,
    "start_time": "2021-12-22T10:51:05.194Z"
   },
   {
    "duration": 1054,
    "start_time": "2021-12-22T10:51:05.263Z"
   },
   {
    "duration": 18,
    "start_time": "2021-12-22T10:51:06.321Z"
   },
   {
    "duration": 27,
    "start_time": "2021-12-22T10:51:06.344Z"
   },
   {
    "duration": 18933,
    "start_time": "2021-12-22T10:51:06.376Z"
   },
   {
    "duration": 53,
    "start_time": "2021-12-22T10:51:25.313Z"
   },
   {
    "duration": 37,
    "start_time": "2021-12-22T10:51:25.369Z"
   },
   {
    "duration": 101,
    "start_time": "2021-12-22T10:51:25.464Z"
   },
   {
    "duration": 19,
    "start_time": "2021-12-22T10:51:25.568Z"
   },
   {
    "duration": 94,
    "start_time": "2021-12-22T10:51:25.589Z"
   },
   {
    "duration": 198,
    "start_time": "2021-12-22T10:51:25.689Z"
   },
   {
    "duration": 11,
    "start_time": "2021-12-22T10:51:25.890Z"
   },
   {
    "duration": 92,
    "start_time": "2021-12-22T10:51:25.904Z"
   },
   {
    "duration": 64,
    "start_time": "2021-12-22T10:51:25.999Z"
   },
   {
    "duration": 138,
    "start_time": "2021-12-22T10:51:26.067Z"
   },
   {
    "duration": 106,
    "start_time": "2021-12-22T10:51:26.263Z"
   },
   {
    "duration": 499,
    "start_time": "2021-12-22T10:51:26.371Z"
   },
   {
    "duration": 43,
    "start_time": "2021-12-22T10:51:26.873Z"
   },
   {
    "duration": 76,
    "start_time": "2021-12-22T10:51:26.919Z"
   },
   {
    "duration": 480,
    "start_time": "2021-12-22T10:51:26.998Z"
   },
   {
    "duration": 39,
    "start_time": "2021-12-22T10:51:27.481Z"
   },
   {
    "duration": 341,
    "start_time": "2021-12-22T10:51:27.522Z"
   },
   {
    "duration": 40,
    "start_time": "2021-12-22T10:51:27.865Z"
   },
   {
    "duration": 323,
    "start_time": "2021-12-22T10:51:27.908Z"
   },
   {
    "duration": 11,
    "start_time": "2021-12-22T10:51:28.233Z"
   },
   {
    "duration": 63,
    "start_time": "2021-12-22T10:51:28.247Z"
   },
   {
    "duration": 64,
    "start_time": "2021-12-22T10:51:28.312Z"
   },
   {
    "duration": 314,
    "start_time": "2021-12-22T10:51:28.379Z"
   },
   {
    "duration": 15,
    "start_time": "2021-12-22T10:51:28.695Z"
   },
   {
    "duration": 9,
    "start_time": "2021-12-22T10:51:28.713Z"
   },
   {
    "duration": 41,
    "start_time": "2021-12-22T10:51:28.724Z"
   },
   {
    "duration": 8,
    "start_time": "2021-12-22T10:51:28.767Z"
   },
   {
    "duration": 16,
    "start_time": "2021-12-22T10:51:28.777Z"
   },
   {
    "duration": 12,
    "start_time": "2021-12-22T10:51:28.795Z"
   },
   {
    "duration": 12,
    "start_time": "2021-12-22T10:51:28.810Z"
   },
   {
    "duration": 11,
    "start_time": "2021-12-22T10:51:28.863Z"
   },
   {
    "duration": 3331,
    "start_time": "2021-12-22T10:53:00.240Z"
   },
   {
    "duration": 18559,
    "start_time": "2021-12-22T10:53:12.005Z"
   },
   {
    "duration": 212226,
    "start_time": "2021-12-22T10:55:14.396Z"
   },
   {
    "duration": 1276,
    "start_time": "2022-01-29T13:41:49.262Z"
   },
   {
    "duration": 112,
    "start_time": "2022-01-29T13:41:50.540Z"
   },
   {
    "duration": 16,
    "start_time": "2022-01-29T13:41:50.654Z"
   },
   {
    "duration": 18,
    "start_time": "2022-01-29T13:41:50.671Z"
   },
   {
    "duration": 59,
    "start_time": "2022-01-29T13:41:50.691Z"
   },
   {
    "duration": 3,
    "start_time": "2022-01-29T13:41:50.751Z"
   },
   {
    "duration": 11,
    "start_time": "2022-01-29T13:41:50.756Z"
   },
   {
    "duration": 19,
    "start_time": "2022-01-29T13:41:50.769Z"
   },
   {
    "duration": 28,
    "start_time": "2022-01-29T13:41:50.791Z"
   },
   {
    "duration": 91,
    "start_time": "2022-01-29T13:41:50.821Z"
   },
   {
    "duration": 56,
    "start_time": "2022-01-29T13:41:50.914Z"
   },
   {
    "duration": 3,
    "start_time": "2022-01-29T13:41:50.971Z"
   },
   {
    "duration": 17,
    "start_time": "2022-01-29T13:41:50.976Z"
   },
   {
    "duration": 19,
    "start_time": "2022-01-29T13:41:50.995Z"
   },
   {
    "duration": 1294,
    "start_time": "2022-01-29T13:43:40.740Z"
   },
   {
    "duration": 116,
    "start_time": "2022-01-29T13:43:42.036Z"
   },
   {
    "duration": 16,
    "start_time": "2022-01-29T13:43:42.156Z"
   },
   {
    "duration": 15,
    "start_time": "2022-01-29T13:43:42.173Z"
   },
   {
    "duration": 65,
    "start_time": "2022-01-29T13:43:42.189Z"
   },
   {
    "duration": 3,
    "start_time": "2022-01-29T13:43:42.256Z"
   },
   {
    "duration": 9,
    "start_time": "2022-01-29T13:43:42.261Z"
   },
   {
    "duration": 19,
    "start_time": "2022-01-29T13:43:42.272Z"
   },
   {
    "duration": 9,
    "start_time": "2022-01-29T13:43:42.312Z"
   },
   {
    "duration": 90,
    "start_time": "2022-01-29T13:43:42.322Z"
   },
   {
    "duration": 55,
    "start_time": "2022-01-29T13:43:42.414Z"
   },
   {
    "duration": 4,
    "start_time": "2022-01-29T13:43:42.470Z"
   },
   {
    "duration": 6,
    "start_time": "2022-01-29T13:43:42.476Z"
   },
   {
    "duration": 8,
    "start_time": "2022-01-29T13:43:42.484Z"
   },
   {
    "duration": 154816,
    "start_time": "2022-01-29T13:43:42.512Z"
   },
   {
    "duration": 41,
    "start_time": "2022-01-29T13:46:17.289Z"
   },
   {
    "duration": 37,
    "start_time": "2022-01-29T13:46:17.295Z"
   },
   {
    "duration": 33,
    "start_time": "2022-01-29T13:46:17.299Z"
   },
   {
    "duration": 29,
    "start_time": "2022-01-29T13:46:17.304Z"
   },
   {
    "duration": 26,
    "start_time": "2022-01-29T13:46:17.308Z"
   },
   {
    "duration": 22,
    "start_time": "2022-01-29T13:46:17.314Z"
   },
   {
    "duration": 19,
    "start_time": "2022-01-29T13:46:17.318Z"
   },
   {
    "duration": 14,
    "start_time": "2022-01-29T13:46:17.324Z"
   },
   {
    "duration": 11,
    "start_time": "2022-01-29T13:46:17.328Z"
   },
   {
    "duration": 6,
    "start_time": "2022-01-29T13:46:17.333Z"
   },
   {
    "duration": 2,
    "start_time": "2022-01-29T13:46:17.338Z"
   },
   {
    "duration": -2,
    "start_time": "2022-01-29T13:46:17.343Z"
   },
   {
    "duration": -7,
    "start_time": "2022-01-29T13:46:17.349Z"
   },
   {
    "duration": -11,
    "start_time": "2022-01-29T13:46:17.354Z"
   },
   {
    "duration": -18,
    "start_time": "2022-01-29T13:46:17.362Z"
   },
   {
    "duration": -22,
    "start_time": "2022-01-29T13:46:17.367Z"
   },
   {
    "duration": -25,
    "start_time": "2022-01-29T13:46:17.371Z"
   },
   {
    "duration": -29,
    "start_time": "2022-01-29T13:46:17.376Z"
   },
   {
    "duration": -33,
    "start_time": "2022-01-29T13:46:17.381Z"
   },
   {
    "duration": -42,
    "start_time": "2022-01-29T13:46:17.391Z"
   },
   {
    "duration": -46,
    "start_time": "2022-01-29T13:46:17.396Z"
   },
   {
    "duration": -50,
    "start_time": "2022-01-29T13:46:17.401Z"
   },
   {
    "duration": -54,
    "start_time": "2022-01-29T13:46:17.405Z"
   },
   {
    "duration": -58,
    "start_time": "2022-01-29T13:46:17.410Z"
   },
   {
    "duration": -67,
    "start_time": "2022-01-29T13:46:17.420Z"
   },
   {
    "duration": -71,
    "start_time": "2022-01-29T13:46:17.425Z"
   },
   {
    "duration": -81,
    "start_time": "2022-01-29T13:46:17.436Z"
   },
   {
    "duration": -86,
    "start_time": "2022-01-29T13:46:17.442Z"
   },
   {
    "duration": -96,
    "start_time": "2022-01-29T13:46:17.453Z"
   },
   {
    "duration": -102,
    "start_time": "2022-01-29T13:46:17.460Z"
   },
   {
    "duration": -112,
    "start_time": "2022-01-29T13:46:17.471Z"
   },
   {
    "duration": -123,
    "start_time": "2022-01-29T13:46:17.483Z"
   },
   {
    "duration": -127,
    "start_time": "2022-01-29T13:46:17.488Z"
   },
   {
    "duration": -140,
    "start_time": "2022-01-29T13:46:17.502Z"
   },
   {
    "duration": -145,
    "start_time": "2022-01-29T13:46:17.508Z"
   },
   {
    "duration": -156,
    "start_time": "2022-01-29T13:46:17.520Z"
   },
   {
    "duration": -161,
    "start_time": "2022-01-29T13:46:17.526Z"
   },
   {
    "duration": -165,
    "start_time": "2022-01-29T13:46:17.531Z"
   },
   {
    "duration": -170,
    "start_time": "2022-01-29T13:46:17.536Z"
   },
   {
    "duration": -174,
    "start_time": "2022-01-29T13:46:17.541Z"
   },
   {
    "duration": -133,
    "start_time": "2022-01-29T13:46:17.545Z"
   }
  ],
  "kernelspec": {
   "display_name": "Python 3 (ipykernel)",
   "language": "python",
   "name": "python3"
  },
  "language_info": {
   "codemirror_mode": {
    "name": "ipython",
    "version": 3
   },
   "file_extension": ".py",
   "mimetype": "text/x-python",
   "name": "python",
   "nbconvert_exporter": "python",
   "pygments_lexer": "ipython3",
   "version": "3.9.12"
  },
  "toc": {
   "base_numbering": 1,
   "nav_menu": {},
   "number_sections": true,
   "sideBar": true,
   "skip_h1_title": true,
   "title_cell": "Содержание",
   "title_sidebar": "Contents",
   "toc_cell": true,
   "toc_position": {
    "height": "calc(100% - 180px)",
    "left": "10px",
    "top": "150px",
    "width": "286.875px"
   },
   "toc_section_display": true,
   "toc_window_display": true
  }
 },
 "nbformat": 4,
 "nbformat_minor": 2
}

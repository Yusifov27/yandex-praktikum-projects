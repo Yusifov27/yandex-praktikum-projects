{
 "cells": [
  {
   "cell_type": "markdown",
   "metadata": {},
   "source": [
    "## Этап 1. Импортирование библиотек  и данных. Первичное знакомство с данными"
   ]
  },
  {
   "cell_type": "markdown",
   "metadata": {},
   "source": [
    "###  1.1 Импортирование библиотек"
   ]
  },
  {
   "cell_type": "code",
   "execution_count": 1,
   "metadata": {},
   "outputs": [],
   "source": [
    "import pandas as pd\n",
    "import numpy as np\n",
    "import matplotlib.pyplot as plt\n",
    "import seaborn as sns\n",
    "import plotly.express as px\n",
    "import math as mth\n",
    "from plotly.subplots import make_subplots\n",
    "from plotly import graph_objects as go\n",
    "from scipy import stats as st\n",
    "from statsmodels.stats.proportion import proportions_ztest\n",
    "import plotly.io as pio\n",
    "pio.renderers.default='notebook'\n",
    "\n",
    "pd.options.display.float_format = '{:,.2f}'.format\n",
    "import warnings\n",
    "warnings.simplefilter(action='ignore', category=FutureWarning)"
   ]
  },
  {
   "cell_type": "markdown",
   "metadata": {},
   "source": [
    "### 1.2 Чтение файлов и  первичное знакомство с данными"
   ]
  },
  {
   "cell_type": "markdown",
   "metadata": {},
   "source": [
    "Прочитаем необходимые нам файлы и сохраним их в переменные:"
   ]
  },
  {
   "cell_type": "code",
   "execution_count": 2,
   "metadata": {},
   "outputs": [],
   "source": [
    "marketing_events = pd.read_csv('ab_project_marketing_events.csv', parse_dates=['start_dt','finish_dt'])\n",
    "new_users = pd.read_csv('final_ab_new_users.csv', parse_dates=['first_date'])\n",
    "events = pd.read_csv('final_ab_events.csv', parse_dates=['event_dt'])\n",
    "participants = pd.read_csv('final_ab_participants.csv')"
   ]
  },
  {
   "cell_type": "markdown",
   "metadata": {},
   "source": [
    "Познакомимся с каждым датасетом подробнее."
   ]
  },
  {
   "cell_type": "markdown",
   "metadata": {},
   "source": [
    "#### 1.2.1 marketing_events"
   ]
  },
  {
   "cell_type": "markdown",
   "metadata": {},
   "source": [
    "Посмотрим на 10 первых строк датасета:"
   ]
  },
  {
   "cell_type": "code",
   "execution_count": 3,
   "metadata": {},
   "outputs": [
    {
     "data": {
      "text/html": [
       "<div>\n",
       "<style scoped>\n",
       "    .dataframe tbody tr th:only-of-type {\n",
       "        vertical-align: middle;\n",
       "    }\n",
       "\n",
       "    .dataframe tbody tr th {\n",
       "        vertical-align: top;\n",
       "    }\n",
       "\n",
       "    .dataframe thead th {\n",
       "        text-align: right;\n",
       "    }\n",
       "</style>\n",
       "<table border=\"1\" class=\"dataframe\">\n",
       "  <thead>\n",
       "    <tr style=\"text-align: right;\">\n",
       "      <th></th>\n",
       "      <th>name</th>\n",
       "      <th>regions</th>\n",
       "      <th>start_dt</th>\n",
       "      <th>finish_dt</th>\n",
       "    </tr>\n",
       "  </thead>\n",
       "  <tbody>\n",
       "    <tr>\n",
       "      <th>0</th>\n",
       "      <td>Christmas&amp;New Year Promo</td>\n",
       "      <td>EU, N.America</td>\n",
       "      <td>2020-12-25</td>\n",
       "      <td>2021-01-03</td>\n",
       "    </tr>\n",
       "    <tr>\n",
       "      <th>1</th>\n",
       "      <td>St. Valentine's Day Giveaway</td>\n",
       "      <td>EU, CIS, APAC, N.America</td>\n",
       "      <td>2020-02-14</td>\n",
       "      <td>2020-02-16</td>\n",
       "    </tr>\n",
       "    <tr>\n",
       "      <th>2</th>\n",
       "      <td>St. Patric's Day Promo</td>\n",
       "      <td>EU, N.America</td>\n",
       "      <td>2020-03-17</td>\n",
       "      <td>2020-03-19</td>\n",
       "    </tr>\n",
       "    <tr>\n",
       "      <th>3</th>\n",
       "      <td>Easter Promo</td>\n",
       "      <td>EU, CIS, APAC, N.America</td>\n",
       "      <td>2020-04-12</td>\n",
       "      <td>2020-04-19</td>\n",
       "    </tr>\n",
       "    <tr>\n",
       "      <th>4</th>\n",
       "      <td>4th of July Promo</td>\n",
       "      <td>N.America</td>\n",
       "      <td>2020-07-04</td>\n",
       "      <td>2020-07-11</td>\n",
       "    </tr>\n",
       "    <tr>\n",
       "      <th>5</th>\n",
       "      <td>Black Friday Ads Campaign</td>\n",
       "      <td>EU, CIS, APAC, N.America</td>\n",
       "      <td>2020-11-26</td>\n",
       "      <td>2020-12-01</td>\n",
       "    </tr>\n",
       "    <tr>\n",
       "      <th>6</th>\n",
       "      <td>Chinese New Year Promo</td>\n",
       "      <td>APAC</td>\n",
       "      <td>2020-01-25</td>\n",
       "      <td>2020-02-07</td>\n",
       "    </tr>\n",
       "    <tr>\n",
       "      <th>7</th>\n",
       "      <td>Labor day (May 1st) Ads Campaign</td>\n",
       "      <td>EU, CIS, APAC</td>\n",
       "      <td>2020-05-01</td>\n",
       "      <td>2020-05-03</td>\n",
       "    </tr>\n",
       "    <tr>\n",
       "      <th>8</th>\n",
       "      <td>International Women's Day Promo</td>\n",
       "      <td>EU, CIS, APAC</td>\n",
       "      <td>2020-03-08</td>\n",
       "      <td>2020-03-10</td>\n",
       "    </tr>\n",
       "    <tr>\n",
       "      <th>9</th>\n",
       "      <td>Victory Day CIS (May 9th) Event</td>\n",
       "      <td>CIS</td>\n",
       "      <td>2020-05-09</td>\n",
       "      <td>2020-05-11</td>\n",
       "    </tr>\n",
       "  </tbody>\n",
       "</table>\n",
       "</div>"
      ],
      "text/plain": [
       "                               name                   regions   start_dt  \\\n",
       "0          Christmas&New Year Promo             EU, N.America 2020-12-25   \n",
       "1      St. Valentine's Day Giveaway  EU, CIS, APAC, N.America 2020-02-14   \n",
       "2            St. Patric's Day Promo             EU, N.America 2020-03-17   \n",
       "3                      Easter Promo  EU, CIS, APAC, N.America 2020-04-12   \n",
       "4                 4th of July Promo                 N.America 2020-07-04   \n",
       "5         Black Friday Ads Campaign  EU, CIS, APAC, N.America 2020-11-26   \n",
       "6            Chinese New Year Promo                      APAC 2020-01-25   \n",
       "7  Labor day (May 1st) Ads Campaign             EU, CIS, APAC 2020-05-01   \n",
       "8   International Women's Day Promo             EU, CIS, APAC 2020-03-08   \n",
       "9   Victory Day CIS (May 9th) Event                       CIS 2020-05-09   \n",
       "\n",
       "   finish_dt  \n",
       "0 2021-01-03  \n",
       "1 2020-02-16  \n",
       "2 2020-03-19  \n",
       "3 2020-04-19  \n",
       "4 2020-07-11  \n",
       "5 2020-12-01  \n",
       "6 2020-02-07  \n",
       "7 2020-05-03  \n",
       "8 2020-03-10  \n",
       "9 2020-05-11  "
      ]
     },
     "execution_count": 3,
     "metadata": {},
     "output_type": "execute_result"
    }
   ],
   "source": [
    "marketing_events.head(10)"
   ]
  },
  {
   "cell_type": "markdown",
   "metadata": {},
   "source": [
    "Датасет содержит календарь маркетинговых событий на 2020 год, включает в себя такие столбцы как:\n",
    "- `name` — название маркетингового события;\n",
    "- `regions` — регионы, в которых будет проводиться рекламная кампания;\n",
    "- `start_dt` — дата начала кампании;\n",
    "- `finish_dt` — дата завершения кампании"
   ]
  },
  {
   "cell_type": "markdown",
   "metadata": {},
   "source": [
    "Посмотрим на общую информацию о датасете:"
   ]
  },
  {
   "cell_type": "code",
   "execution_count": 4,
   "metadata": {},
   "outputs": [
    {
     "name": "stdout",
     "output_type": "stream",
     "text": [
      "<class 'pandas.core.frame.DataFrame'>\n",
      "RangeIndex: 14 entries, 0 to 13\n",
      "Data columns (total 4 columns):\n",
      " #   Column     Non-Null Count  Dtype         \n",
      "---  ------     --------------  -----         \n",
      " 0   name       14 non-null     object        \n",
      " 1   regions    14 non-null     object        \n",
      " 2   start_dt   14 non-null     datetime64[ns]\n",
      " 3   finish_dt  14 non-null     datetime64[ns]\n",
      "dtypes: datetime64[ns](2), object(2)\n",
      "memory usage: 576.0+ bytes\n"
     ]
    }
   ],
   "source": [
    "marketing_events.info()"
   ]
  },
  {
   "cell_type": "markdown",
   "metadata": {},
   "source": [
    "Данные содержат 14 строк, 4 столбца, типы данных соответствующие, пропущенных значений нет.Также проверим данные на дубликаты:"
   ]
  },
  {
   "cell_type": "code",
   "execution_count": 5,
   "metadata": {},
   "outputs": [
    {
     "data": {
      "text/plain": [
       "0"
      ]
     },
     "execution_count": 5,
     "metadata": {},
     "output_type": "execute_result"
    }
   ],
   "source": [
    "marketing_events.duplicated().sum()"
   ]
  },
  {
   "cell_type": "markdown",
   "metadata": {},
   "source": [
    "Дубликаты отстуствуют."
   ]
  },
  {
   "cell_type": "markdown",
   "metadata": {},
   "source": [
    "Посмотрим какие встречаются маркетинговые события и нет ли дублей:"
   ]
  },
  {
   "cell_type": "code",
   "execution_count": 6,
   "metadata": {},
   "outputs": [
    {
     "data": {
      "text/plain": [
       "Christmas&New Year Promo            1\n",
       "St. Valentine's Day Giveaway        1\n",
       "St. Patric's Day Promo              1\n",
       "Easter Promo                        1\n",
       "4th of July Promo                   1\n",
       "Black Friday Ads Campaign           1\n",
       "Chinese New Year Promo              1\n",
       "Labor day (May 1st) Ads Campaign    1\n",
       "International Women's Day Promo     1\n",
       "Victory Day CIS (May 9th) Event     1\n",
       "CIS New Year Gift Lottery           1\n",
       "Dragon Boat Festival Giveaway       1\n",
       "Single's Day Gift Promo             1\n",
       "Chinese Moon Festival               1\n",
       "Name: name, dtype: int64"
      ]
     },
     "execution_count": 6,
     "metadata": {},
     "output_type": "execute_result"
    }
   ],
   "source": [
    "marketing_events['name'].value_counts()"
   ]
  },
  {
   "cell_type": "markdown",
   "metadata": {},
   "source": [
    "Каждое событие встречается лишь раз, встречаются такие события как :\n",
    "* St. Patric's Day Promo - Промо Ко Дню Святого Патрика;\n",
    "* Labor day (May 1st) Ads Campaign - День Труда - рекламная кампания;\n",
    "* CIS New Year Gift Lottery - Новогодняя подарочная лотерея СНГ;\n",
    "* Christmas&New Year Promo - Рождественская и Новогодняя акция;\n",
    "* Easter Promo - Пасхальное промо;\n",
    "* Black Friday Ads Campaign - Рекламная кампания Черной Пятницы;\n",
    "* Dragon Boat Festival Giveaway  - Розыгрыш фестиваля драконьих лодок;\n",
    "* International Women's Day Promo - Акция к Международному женскому дню;\n",
    "* 4th of July Promo -  4 июля Акция;\n",
    "* Chinese Moon Festival - Китайский фестиваль луны;\n",
    "* Chinese New Year Promo  - Промо-акция на Китайский Новый Год;     \n",
    "* Single's Day Gift Promo  - Промо Подарок на День холостяка;           \n",
    "* St. Valentine's Day Giveaway  - Подарок ко Дню Святого Валентина;      \n",
    "* Victory Day CIS (May 9th) Event   - День Победы СНГ (9 мая) Мероприятие.  "
   ]
  },
  {
   "cell_type": "markdown",
   "metadata": {},
   "source": [
    "Посмотрим какие встречаются регионы:"
   ]
  },
  {
   "cell_type": "code",
   "execution_count": 7,
   "metadata": {},
   "outputs": [
    {
     "data": {
      "text/html": [
       "<div>\n",
       "<style scoped>\n",
       "    .dataframe tbody tr th:only-of-type {\n",
       "        vertical-align: middle;\n",
       "    }\n",
       "\n",
       "    .dataframe tbody tr th {\n",
       "        vertical-align: top;\n",
       "    }\n",
       "\n",
       "    .dataframe thead th {\n",
       "        text-align: right;\n",
       "    }\n",
       "</style>\n",
       "<table border=\"1\" class=\"dataframe\">\n",
       "  <thead>\n",
       "    <tr style=\"text-align: right;\">\n",
       "      <th></th>\n",
       "      <th>regions</th>\n",
       "    </tr>\n",
       "  </thead>\n",
       "  <tbody>\n",
       "    <tr>\n",
       "      <th>APAC</th>\n",
       "      <td>4</td>\n",
       "    </tr>\n",
       "    <tr>\n",
       "      <th>EU, CIS, APAC, N.America</th>\n",
       "      <td>3</td>\n",
       "    </tr>\n",
       "    <tr>\n",
       "      <th>EU, N.America</th>\n",
       "      <td>2</td>\n",
       "    </tr>\n",
       "    <tr>\n",
       "      <th>EU, CIS, APAC</th>\n",
       "      <td>2</td>\n",
       "    </tr>\n",
       "    <tr>\n",
       "      <th>CIS</th>\n",
       "      <td>2</td>\n",
       "    </tr>\n",
       "    <tr>\n",
       "      <th>N.America</th>\n",
       "      <td>1</td>\n",
       "    </tr>\n",
       "  </tbody>\n",
       "</table>\n",
       "</div>"
      ],
      "text/plain": [
       "                          regions\n",
       "APAC                            4\n",
       "EU, CIS, APAC, N.America        3\n",
       "EU, N.America                   2\n",
       "EU, CIS, APAC                   2\n",
       "CIS                             2\n",
       "N.America                       1"
      ]
     },
     "execution_count": 7,
     "metadata": {},
     "output_type": "execute_result"
    }
   ],
   "source": [
    "marketing_events['regions'].value_counts().to_frame()"
   ]
  },
  {
   "cell_type": "markdown",
   "metadata": {},
   "source": [
    "Встречаются Азиатско-Тихоокеанский регион, Европа, СНГ, Северная Америка."
   ]
  },
  {
   "cell_type": "markdown",
   "metadata": {},
   "source": [
    "Также посмотрим на даты:"
   ]
  },
  {
   "cell_type": "code",
   "execution_count": 8,
   "metadata": {},
   "outputs": [
    {
     "data": {
      "text/plain": [
       "array(['2020-01-25T00:00:00.000000000', '2020-02-14T00:00:00.000000000',\n",
       "       '2020-03-08T00:00:00.000000000', '2020-03-17T00:00:00.000000000',\n",
       "       '2020-04-12T00:00:00.000000000', '2020-05-01T00:00:00.000000000',\n",
       "       '2020-05-09T00:00:00.000000000', '2020-06-25T00:00:00.000000000',\n",
       "       '2020-07-04T00:00:00.000000000', '2020-10-01T00:00:00.000000000',\n",
       "       '2020-11-11T00:00:00.000000000', '2020-11-26T00:00:00.000000000',\n",
       "       '2020-12-25T00:00:00.000000000', '2020-12-30T00:00:00.000000000'],\n",
       "      dtype='datetime64[ns]')"
      ]
     },
     "execution_count": 8,
     "metadata": {},
     "output_type": "execute_result"
    }
   ],
   "source": [
    "marketing_events['start_dt'].sort_values().unique()"
   ]
  },
  {
   "cell_type": "code",
   "execution_count": 9,
   "metadata": {},
   "outputs": [
    {
     "data": {
      "text/plain": [
       "array(['2020-02-07T00:00:00.000000000', '2020-02-16T00:00:00.000000000',\n",
       "       '2020-03-10T00:00:00.000000000', '2020-03-19T00:00:00.000000000',\n",
       "       '2020-04-19T00:00:00.000000000', '2020-05-03T00:00:00.000000000',\n",
       "       '2020-05-11T00:00:00.000000000', '2020-07-01T00:00:00.000000000',\n",
       "       '2020-07-11T00:00:00.000000000', '2020-10-07T00:00:00.000000000',\n",
       "       '2020-11-12T00:00:00.000000000', '2020-12-01T00:00:00.000000000',\n",
       "       '2021-01-03T00:00:00.000000000', '2021-01-07T00:00:00.000000000'],\n",
       "      dtype='datetime64[ns]')"
      ]
     },
     "execution_count": 9,
     "metadata": {},
     "output_type": "execute_result"
    }
   ],
   "source": [
    "marketing_events['finish_dt'].sort_values().unique()"
   ]
  },
  {
   "cell_type": "markdown",
   "metadata": {},
   "source": [
    "Начальная дата встречается с 25-01-2020 года по 30-12-2020 года. Конечная дата у событий с 07-02-2020 по 07-01-2021. Нужно учитывать данный момент, так как время проведения теста не должно совпадать с маркетинговыми и другими акциями. "
   ]
  },
  {
   "cell_type": "markdown",
   "metadata": {},
   "source": [
    "#### 1.2.2 new_users"
   ]
  },
  {
   "cell_type": "markdown",
   "metadata": {},
   "source": [
    "Посмотрим на 10 случайных строк датасета:"
   ]
  },
  {
   "cell_type": "code",
   "execution_count": 10,
   "metadata": {},
   "outputs": [
    {
     "data": {
      "text/html": [
       "<div>\n",
       "<style scoped>\n",
       "    .dataframe tbody tr th:only-of-type {\n",
       "        vertical-align: middle;\n",
       "    }\n",
       "\n",
       "    .dataframe tbody tr th {\n",
       "        vertical-align: top;\n",
       "    }\n",
       "\n",
       "    .dataframe thead th {\n",
       "        text-align: right;\n",
       "    }\n",
       "</style>\n",
       "<table border=\"1\" class=\"dataframe\">\n",
       "  <thead>\n",
       "    <tr style=\"text-align: right;\">\n",
       "      <th></th>\n",
       "      <th>user_id</th>\n",
       "      <th>first_date</th>\n",
       "      <th>region</th>\n",
       "      <th>device</th>\n",
       "    </tr>\n",
       "  </thead>\n",
       "  <tbody>\n",
       "    <tr>\n",
       "      <th>23865</th>\n",
       "      <td>B997EF5CC77C929F</td>\n",
       "      <td>2020-12-22</td>\n",
       "      <td>EU</td>\n",
       "      <td>iPhone</td>\n",
       "    </tr>\n",
       "    <tr>\n",
       "      <th>48576</th>\n",
       "      <td>C76919822EFDEF0E</td>\n",
       "      <td>2020-12-12</td>\n",
       "      <td>APAC</td>\n",
       "      <td>Android</td>\n",
       "    </tr>\n",
       "    <tr>\n",
       "      <th>32046</th>\n",
       "      <td>FD35758CBF218C81</td>\n",
       "      <td>2020-12-23</td>\n",
       "      <td>EU</td>\n",
       "      <td>PC</td>\n",
       "    </tr>\n",
       "    <tr>\n",
       "      <th>59227</th>\n",
       "      <td>255AFE513A29FE30</td>\n",
       "      <td>2020-12-20</td>\n",
       "      <td>EU</td>\n",
       "      <td>PC</td>\n",
       "    </tr>\n",
       "    <tr>\n",
       "      <th>21249</th>\n",
       "      <td>5A7A4921CAD98930</td>\n",
       "      <td>2020-12-15</td>\n",
       "      <td>EU</td>\n",
       "      <td>Android</td>\n",
       "    </tr>\n",
       "    <tr>\n",
       "      <th>24861</th>\n",
       "      <td>7BABA4ECBC9ED4FB</td>\n",
       "      <td>2020-12-22</td>\n",
       "      <td>N.America</td>\n",
       "      <td>PC</td>\n",
       "    </tr>\n",
       "    <tr>\n",
       "      <th>7092</th>\n",
       "      <td>F19BBEFC63D5439A</td>\n",
       "      <td>2020-12-14</td>\n",
       "      <td>EU</td>\n",
       "      <td>iPhone</td>\n",
       "    </tr>\n",
       "    <tr>\n",
       "      <th>27865</th>\n",
       "      <td>49FD9BBAA3D048C4</td>\n",
       "      <td>2020-12-09</td>\n",
       "      <td>EU</td>\n",
       "      <td>iPhone</td>\n",
       "    </tr>\n",
       "    <tr>\n",
       "      <th>12808</th>\n",
       "      <td>80F199E036359901</td>\n",
       "      <td>2020-12-21</td>\n",
       "      <td>N.America</td>\n",
       "      <td>Android</td>\n",
       "    </tr>\n",
       "    <tr>\n",
       "      <th>58934</th>\n",
       "      <td>34EB2BBF6632E496</td>\n",
       "      <td>2020-12-20</td>\n",
       "      <td>EU</td>\n",
       "      <td>PC</td>\n",
       "    </tr>\n",
       "  </tbody>\n",
       "</table>\n",
       "</div>"
      ],
      "text/plain": [
       "                user_id first_date     region   device\n",
       "23865  B997EF5CC77C929F 2020-12-22         EU   iPhone\n",
       "48576  C76919822EFDEF0E 2020-12-12       APAC  Android\n",
       "32046  FD35758CBF218C81 2020-12-23         EU       PC\n",
       "59227  255AFE513A29FE30 2020-12-20         EU       PC\n",
       "21249  5A7A4921CAD98930 2020-12-15         EU  Android\n",
       "24861  7BABA4ECBC9ED4FB 2020-12-22  N.America       PC\n",
       "7092   F19BBEFC63D5439A 2020-12-14         EU   iPhone\n",
       "27865  49FD9BBAA3D048C4 2020-12-09         EU   iPhone\n",
       "12808  80F199E036359901 2020-12-21  N.America  Android\n",
       "58934  34EB2BBF6632E496 2020-12-20         EU       PC"
      ]
     },
     "execution_count": 10,
     "metadata": {},
     "output_type": "execute_result"
    }
   ],
   "source": [
    "new_users.sample(10)"
   ]
  },
  {
   "cell_type": "markdown",
   "metadata": {},
   "source": [
    "Датасет содержит данные о пользователях, зарегистрировавшихся в интернет-магазине в период с 7 по 21 декабря 2020 года, включает в себя такие столбцы как:\n",
    "- `user_id` — идентификатор пользователя;\n",
    "- `first_date` — дата регистрации;\n",
    "- `region` — регион пользователя;\n",
    "- `device` — устройство, с которого происходила регистрация."
   ]
  },
  {
   "cell_type": "markdown",
   "metadata": {},
   "source": [
    "Посмотрим на общую информаицю о датасете:"
   ]
  },
  {
   "cell_type": "code",
   "execution_count": 11,
   "metadata": {},
   "outputs": [
    {
     "name": "stdout",
     "output_type": "stream",
     "text": [
      "<class 'pandas.core.frame.DataFrame'>\n",
      "RangeIndex: 61733 entries, 0 to 61732\n",
      "Data columns (total 4 columns):\n",
      " #   Column      Non-Null Count  Dtype         \n",
      "---  ------      --------------  -----         \n",
      " 0   user_id     61733 non-null  object        \n",
      " 1   first_date  61733 non-null  datetime64[ns]\n",
      " 2   region      61733 non-null  object        \n",
      " 3   device      61733 non-null  object        \n",
      "dtypes: datetime64[ns](1), object(3)\n",
      "memory usage: 1.9+ MB\n"
     ]
    }
   ],
   "source": [
    "new_users.info()"
   ]
  },
  {
   "cell_type": "markdown",
   "metadata": {},
   "source": [
    "Данные содержат 61733 строк, 4 столбца, типы данных соответствующие, пропущенных значений нет. Также проверим данные на дубликаты:"
   ]
  },
  {
   "cell_type": "code",
   "execution_count": 12,
   "metadata": {},
   "outputs": [
    {
     "data": {
      "text/plain": [
       "0"
      ]
     },
     "execution_count": 12,
     "metadata": {},
     "output_type": "execute_result"
    }
   ],
   "source": [
    "new_users.duplicated().sum()"
   ]
  },
  {
   "cell_type": "markdown",
   "metadata": {},
   "source": [
    "Дубликаты отстуствуют."
   ]
  },
  {
   "cell_type": "markdown",
   "metadata": {},
   "source": [
    "Посмотрим на количество уникальных пользователей:"
   ]
  },
  {
   "cell_type": "code",
   "execution_count": 13,
   "metadata": {},
   "outputs": [
    {
     "data": {
      "text/plain": [
       "61733"
      ]
     },
     "execution_count": 13,
     "metadata": {},
     "output_type": "execute_result"
    }
   ],
   "source": [
    "new_users['user_id'].nunique()"
   ]
  },
  {
   "cell_type": "markdown",
   "metadata": {},
   "source": [
    "61733 уникальных пользователей. Посмотрим на дату регистрации пользователей и проверим, действительно ли данные за период с 7 по 21 декабря 2020 года:"
   ]
  },
  {
   "cell_type": "code",
   "execution_count": 14,
   "metadata": {},
   "outputs": [
    {
     "data": {
      "text/html": [
       "<div>\n",
       "<style scoped>\n",
       "    .dataframe tbody tr th:only-of-type {\n",
       "        vertical-align: middle;\n",
       "    }\n",
       "\n",
       "    .dataframe tbody tr th {\n",
       "        vertical-align: top;\n",
       "    }\n",
       "\n",
       "    .dataframe thead th {\n",
       "        text-align: right;\n",
       "    }\n",
       "</style>\n",
       "<table border=\"1\" class=\"dataframe\">\n",
       "  <thead>\n",
       "    <tr style=\"text-align: right;\">\n",
       "      <th></th>\n",
       "      <th>first_date</th>\n",
       "    </tr>\n",
       "  </thead>\n",
       "  <tbody>\n",
       "    <tr>\n",
       "      <th>first</th>\n",
       "      <td>2020-12-07 00:00:00</td>\n",
       "    </tr>\n",
       "    <tr>\n",
       "      <th>last</th>\n",
       "      <td>2020-12-23 00:00:00</td>\n",
       "    </tr>\n",
       "  </tbody>\n",
       "</table>\n",
       "</div>"
      ],
      "text/plain": [
       "                first_date\n",
       "first  2020-12-07 00:00:00\n",
       "last   2020-12-23 00:00:00"
      ]
     },
     "execution_count": 14,
     "metadata": {},
     "output_type": "execute_result"
    }
   ],
   "source": [
    "new_users['first_date'].describe().iloc[4:].to_frame()"
   ]
  },
  {
   "cell_type": "markdown",
   "metadata": {},
   "source": [
    "Данные предоставлены также за 22 и 23 декабря. В Техническом задании указано, что остановка набора новых пользователей 21 декабря 2020 года, нужно учитывать данный факт."
   ]
  },
  {
   "cell_type": "markdown",
   "metadata": {},
   "source": [
    "Посмотрим как распределяются данные по региону:"
   ]
  },
  {
   "cell_type": "code",
   "execution_count": 15,
   "metadata": {},
   "outputs": [
    {
     "data": {
      "text/html": [
       "<div>\n",
       "<style scoped>\n",
       "    .dataframe tbody tr th:only-of-type {\n",
       "        vertical-align: middle;\n",
       "    }\n",
       "\n",
       "    .dataframe tbody tr th {\n",
       "        vertical-align: top;\n",
       "    }\n",
       "\n",
       "    .dataframe thead th {\n",
       "        text-align: right;\n",
       "    }\n",
       "</style>\n",
       "<table border=\"1\" class=\"dataframe\">\n",
       "  <thead>\n",
       "    <tr style=\"text-align: right;\">\n",
       "      <th></th>\n",
       "      <th>region</th>\n",
       "    </tr>\n",
       "  </thead>\n",
       "  <tbody>\n",
       "    <tr>\n",
       "      <th>EU</th>\n",
       "      <td>74.95</td>\n",
       "    </tr>\n",
       "    <tr>\n",
       "      <th>N.America</th>\n",
       "      <td>14.83</td>\n",
       "    </tr>\n",
       "    <tr>\n",
       "      <th>CIS</th>\n",
       "      <td>5.11</td>\n",
       "    </tr>\n",
       "    <tr>\n",
       "      <th>APAC</th>\n",
       "      <td>5.11</td>\n",
       "    </tr>\n",
       "  </tbody>\n",
       "</table>\n",
       "</div>"
      ],
      "text/plain": [
       "           region\n",
       "EU          74.95\n",
       "N.America   14.83\n",
       "CIS          5.11\n",
       "APAC         5.11"
      ]
     },
     "execution_count": 15,
     "metadata": {},
     "output_type": "execute_result"
    }
   ],
   "source": [
    "(new_users['region'].value_counts(normalize = True) * 100).to_frame()"
   ]
  },
  {
   "cell_type": "markdown",
   "metadata": {},
   "source": [
    "Почти 75% пользователей из Европы, 14,8% из Северной Америки, по 5.11% у СНГ и АТР. Также посмотрим распределения для устройств, с которых происходила регистрация:"
   ]
  },
  {
   "cell_type": "code",
   "execution_count": 16,
   "metadata": {},
   "outputs": [
    {
     "data": {
      "text/html": [
       "<div>\n",
       "<style scoped>\n",
       "    .dataframe tbody tr th:only-of-type {\n",
       "        vertical-align: middle;\n",
       "    }\n",
       "\n",
       "    .dataframe tbody tr th {\n",
       "        vertical-align: top;\n",
       "    }\n",
       "\n",
       "    .dataframe thead th {\n",
       "        text-align: right;\n",
       "    }\n",
       "</style>\n",
       "<table border=\"1\" class=\"dataframe\">\n",
       "  <thead>\n",
       "    <tr style=\"text-align: right;\">\n",
       "      <th></th>\n",
       "      <th>device</th>\n",
       "    </tr>\n",
       "  </thead>\n",
       "  <tbody>\n",
       "    <tr>\n",
       "      <th>Android</th>\n",
       "      <td>44.58</td>\n",
       "    </tr>\n",
       "    <tr>\n",
       "      <th>PC</th>\n",
       "      <td>25.27</td>\n",
       "    </tr>\n",
       "    <tr>\n",
       "      <th>iPhone</th>\n",
       "      <td>20.30</td>\n",
       "    </tr>\n",
       "    <tr>\n",
       "      <th>Mac</th>\n",
       "      <td>9.86</td>\n",
       "    </tr>\n",
       "  </tbody>\n",
       "</table>\n",
       "</div>"
      ],
      "text/plain": [
       "         device\n",
       "Android   44.58\n",
       "PC        25.27\n",
       "iPhone    20.30\n",
       "Mac        9.86"
      ]
     },
     "execution_count": 16,
     "metadata": {},
     "output_type": "execute_result"
    }
   ],
   "source": [
    "(new_users['device'].value_counts(normalize = True) * 100).to_frame()"
   ]
  },
  {
   "cell_type": "markdown",
   "metadata": {},
   "source": [
    "44,6% пользователей зарегестрировались с утройств с операционной системой Android. 25.3% с компьютеров, 20,3% с iPhone, 9,9% c Mac. A/B тест должен иметь схожую выборку по условиям, это также важный момент."
   ]
  },
  {
   "cell_type": "markdown",
   "metadata": {},
   "source": [
    "#### 1.2.3 events"
   ]
  },
  {
   "cell_type": "markdown",
   "metadata": {},
   "source": [
    "Посмотрим на 10 последних строк датасета:"
   ]
  },
  {
   "cell_type": "code",
   "execution_count": 17,
   "metadata": {},
   "outputs": [
    {
     "data": {
      "text/html": [
       "<div>\n",
       "<style scoped>\n",
       "    .dataframe tbody tr th:only-of-type {\n",
       "        vertical-align: middle;\n",
       "    }\n",
       "\n",
       "    .dataframe tbody tr th {\n",
       "        vertical-align: top;\n",
       "    }\n",
       "\n",
       "    .dataframe thead th {\n",
       "        text-align: right;\n",
       "    }\n",
       "</style>\n",
       "<table border=\"1\" class=\"dataframe\">\n",
       "  <thead>\n",
       "    <tr style=\"text-align: right;\">\n",
       "      <th></th>\n",
       "      <th>user_id</th>\n",
       "      <th>event_dt</th>\n",
       "      <th>event_name</th>\n",
       "      <th>details</th>\n",
       "    </tr>\n",
       "  </thead>\n",
       "  <tbody>\n",
       "    <tr>\n",
       "      <th>440307</th>\n",
       "      <td>1455450835F72F5E</td>\n",
       "      <td>2020-12-30 09:27:10</td>\n",
       "      <td>login</td>\n",
       "      <td>NaN</td>\n",
       "    </tr>\n",
       "    <tr>\n",
       "      <th>440308</th>\n",
       "      <td>339C4C55021A83C6</td>\n",
       "      <td>2020-12-30 12:55:08</td>\n",
       "      <td>login</td>\n",
       "      <td>NaN</td>\n",
       "    </tr>\n",
       "    <tr>\n",
       "      <th>440309</th>\n",
       "      <td>33E7BCF696B41C7B</td>\n",
       "      <td>2020-12-30 12:21:24</td>\n",
       "      <td>login</td>\n",
       "      <td>NaN</td>\n",
       "    </tr>\n",
       "    <tr>\n",
       "      <th>440310</th>\n",
       "      <td>D1553B56FFA8974B</td>\n",
       "      <td>2020-12-30 03:15:35</td>\n",
       "      <td>login</td>\n",
       "      <td>NaN</td>\n",
       "    </tr>\n",
       "    <tr>\n",
       "      <th>440311</th>\n",
       "      <td>6181F3835EBE66BF</td>\n",
       "      <td>2020-12-30 12:00:00</td>\n",
       "      <td>login</td>\n",
       "      <td>NaN</td>\n",
       "    </tr>\n",
       "    <tr>\n",
       "      <th>440312</th>\n",
       "      <td>245E85F65C358E08</td>\n",
       "      <td>2020-12-30 19:35:55</td>\n",
       "      <td>login</td>\n",
       "      <td>NaN</td>\n",
       "    </tr>\n",
       "    <tr>\n",
       "      <th>440313</th>\n",
       "      <td>9385A108F5A0A7A7</td>\n",
       "      <td>2020-12-30 10:54:15</td>\n",
       "      <td>login</td>\n",
       "      <td>NaN</td>\n",
       "    </tr>\n",
       "    <tr>\n",
       "      <th>440314</th>\n",
       "      <td>DB650B7559AC6EAC</td>\n",
       "      <td>2020-12-30 10:59:09</td>\n",
       "      <td>login</td>\n",
       "      <td>NaN</td>\n",
       "    </tr>\n",
       "    <tr>\n",
       "      <th>440315</th>\n",
       "      <td>F80C9BDDEA02E53C</td>\n",
       "      <td>2020-12-30 09:53:39</td>\n",
       "      <td>login</td>\n",
       "      <td>NaN</td>\n",
       "    </tr>\n",
       "    <tr>\n",
       "      <th>440316</th>\n",
       "      <td>7AEC61159B672CC5</td>\n",
       "      <td>2020-12-30 11:36:13</td>\n",
       "      <td>login</td>\n",
       "      <td>NaN</td>\n",
       "    </tr>\n",
       "  </tbody>\n",
       "</table>\n",
       "</div>"
      ],
      "text/plain": [
       "                 user_id            event_dt event_name  details\n",
       "440307  1455450835F72F5E 2020-12-30 09:27:10      login      NaN\n",
       "440308  339C4C55021A83C6 2020-12-30 12:55:08      login      NaN\n",
       "440309  33E7BCF696B41C7B 2020-12-30 12:21:24      login      NaN\n",
       "440310  D1553B56FFA8974B 2020-12-30 03:15:35      login      NaN\n",
       "440311  6181F3835EBE66BF 2020-12-30 12:00:00      login      NaN\n",
       "440312  245E85F65C358E08 2020-12-30 19:35:55      login      NaN\n",
       "440313  9385A108F5A0A7A7 2020-12-30 10:54:15      login      NaN\n",
       "440314  DB650B7559AC6EAC 2020-12-30 10:59:09      login      NaN\n",
       "440315  F80C9BDDEA02E53C 2020-12-30 09:53:39      login      NaN\n",
       "440316  7AEC61159B672CC5 2020-12-30 11:36:13      login      NaN"
      ]
     },
     "execution_count": 17,
     "metadata": {},
     "output_type": "execute_result"
    }
   ],
   "source": [
    "events.tail(10)"
   ]
  },
  {
   "cell_type": "markdown",
   "metadata": {},
   "source": [
    "Датасет содержит все события новых пользователей в период с 7 декабря 2020 по 4 января 2021 года, включает в себя такие столбцы как:\n",
    "- `user_id` — идентификатор пользователя;\n",
    "- `event_dt` — дата и время покупки;\n",
    "- `event_name` — тип события;\n",
    "- `details` — дополнительные данные о событии. Например, для покупок, `purchase,` в этом поле хранится стоимость покупки в долларах."
   ]
  },
  {
   "cell_type": "markdown",
   "metadata": {},
   "source": [
    "Познакомимся с общей информацией о датасете:"
   ]
  },
  {
   "cell_type": "code",
   "execution_count": 18,
   "metadata": {},
   "outputs": [
    {
     "name": "stdout",
     "output_type": "stream",
     "text": [
      "<class 'pandas.core.frame.DataFrame'>\n",
      "RangeIndex: 440317 entries, 0 to 440316\n",
      "Data columns (total 4 columns):\n",
      " #   Column      Non-Null Count   Dtype         \n",
      "---  ------      --------------   -----         \n",
      " 0   user_id     440317 non-null  object        \n",
      " 1   event_dt    440317 non-null  datetime64[ns]\n",
      " 2   event_name  440317 non-null  object        \n",
      " 3   details     62740 non-null   float64       \n",
      "dtypes: datetime64[ns](1), float64(1), object(2)\n",
      "memory usage: 13.4+ MB\n"
     ]
    }
   ],
   "source": [
    "events.info()"
   ]
  },
  {
   "cell_type": "markdown",
   "metadata": {},
   "source": [
    "Данные содержат 440317 строк, 4 столбца, типы данных соответствующие, пропущенных значения встречаются в столбце **details**, но это логично, так как в данный столбец заносится лишь дополнительная информация. Также проверим данные на дубликаты:"
   ]
  },
  {
   "cell_type": "code",
   "execution_count": 19,
   "metadata": {},
   "outputs": [
    {
     "data": {
      "text/plain": [
       "0"
      ]
     },
     "execution_count": 19,
     "metadata": {},
     "output_type": "execute_result"
    }
   ],
   "source": [
    "events.duplicated().sum()"
   ]
  },
  {
   "cell_type": "markdown",
   "metadata": {},
   "source": [
    "Явных дубликатов нет, также проверим дубликаты в таком виде:"
   ]
  },
  {
   "cell_type": "code",
   "execution_count": 20,
   "metadata": {},
   "outputs": [
    {
     "data": {
      "text/plain": [
       "151233"
      ]
     },
     "execution_count": 20,
     "metadata": {},
     "output_type": "execute_result"
    }
   ],
   "source": [
    "events[['user_id','event_dt']].duplicated().sum()"
   ]
  },
  {
   "cell_type": "markdown",
   "metadata": {},
   "source": [
    "151233 дубликатов с одним пользоваталем и с одним временем, посмотрим на данные строки:"
   ]
  },
  {
   "cell_type": "code",
   "execution_count": 21,
   "metadata": {},
   "outputs": [
    {
     "data": {
      "text/html": [
       "<div>\n",
       "<style scoped>\n",
       "    .dataframe tbody tr th:only-of-type {\n",
       "        vertical-align: middle;\n",
       "    }\n",
       "\n",
       "    .dataframe tbody tr th {\n",
       "        vertical-align: top;\n",
       "    }\n",
       "\n",
       "    .dataframe thead th {\n",
       "        text-align: right;\n",
       "    }\n",
       "</style>\n",
       "<table border=\"1\" class=\"dataframe\">\n",
       "  <thead>\n",
       "    <tr style=\"text-align: right;\">\n",
       "      <th></th>\n",
       "      <th>user_id</th>\n",
       "      <th>event_dt</th>\n",
       "      <th>event_name</th>\n",
       "      <th>details</th>\n",
       "    </tr>\n",
       "  </thead>\n",
       "  <tbody>\n",
       "    <tr>\n",
       "      <th>157324</th>\n",
       "      <td>000199F1887AE5E6</td>\n",
       "      <td>2020-12-14 09:56:09</td>\n",
       "      <td>product_page</td>\n",
       "      <td>NaN</td>\n",
       "    </tr>\n",
       "    <tr>\n",
       "      <th>299212</th>\n",
       "      <td>000199F1887AE5E6</td>\n",
       "      <td>2020-12-14 09:56:09</td>\n",
       "      <td>login</td>\n",
       "      <td>NaN</td>\n",
       "    </tr>\n",
       "    <tr>\n",
       "      <th>81751</th>\n",
       "      <td>000199F1887AE5E6</td>\n",
       "      <td>2020-12-15 07:22:56</td>\n",
       "      <td>product_cart</td>\n",
       "      <td>NaN</td>\n",
       "    </tr>\n",
       "    <tr>\n",
       "      <th>163536</th>\n",
       "      <td>000199F1887AE5E6</td>\n",
       "      <td>2020-12-15 07:22:56</td>\n",
       "      <td>product_page</td>\n",
       "      <td>NaN</td>\n",
       "    </tr>\n",
       "    <tr>\n",
       "      <th>308595</th>\n",
       "      <td>000199F1887AE5E6</td>\n",
       "      <td>2020-12-15 07:22:56</td>\n",
       "      <td>login</td>\n",
       "      <td>NaN</td>\n",
       "    </tr>\n",
       "    <tr>\n",
       "      <th>...</th>\n",
       "      <td>...</td>\n",
       "      <td>...</td>\n",
       "      <td>...</td>\n",
       "      <td>...</td>\n",
       "    </tr>\n",
       "    <tr>\n",
       "      <th>327159</th>\n",
       "      <td>FFF91B6C5431F375</td>\n",
       "      <td>2020-12-17 08:27:17</td>\n",
       "      <td>login</td>\n",
       "      <td>NaN</td>\n",
       "    </tr>\n",
       "    <tr>\n",
       "      <th>214566</th>\n",
       "      <td>FFFFE36C0F6E92DF</td>\n",
       "      <td>2020-12-22 11:38:57</td>\n",
       "      <td>product_page</td>\n",
       "      <td>NaN</td>\n",
       "    </tr>\n",
       "    <tr>\n",
       "      <th>385602</th>\n",
       "      <td>FFFFE36C0F6E92DF</td>\n",
       "      <td>2020-12-22 11:38:57</td>\n",
       "      <td>login</td>\n",
       "      <td>NaN</td>\n",
       "    </tr>\n",
       "    <tr>\n",
       "      <th>396849</th>\n",
       "      <td>FFFFE36C0F6E92DF</td>\n",
       "      <td>2020-12-23 05:09:13</td>\n",
       "      <td>login</td>\n",
       "      <td>NaN</td>\n",
       "    </tr>\n",
       "    <tr>\n",
       "      <th>238643</th>\n",
       "      <td>FFFFE36C0F6E92DF</td>\n",
       "      <td>2020-12-26 09:25:04</td>\n",
       "      <td>product_page</td>\n",
       "      <td>NaN</td>\n",
       "    </tr>\n",
       "  </tbody>\n",
       "</table>\n",
       "<p>151233 rows × 4 columns</p>\n",
       "</div>"
      ],
      "text/plain": [
       "                 user_id            event_dt    event_name  details\n",
       "157324  000199F1887AE5E6 2020-12-14 09:56:09  product_page      NaN\n",
       "299212  000199F1887AE5E6 2020-12-14 09:56:09         login      NaN\n",
       "81751   000199F1887AE5E6 2020-12-15 07:22:56  product_cart      NaN\n",
       "163536  000199F1887AE5E6 2020-12-15 07:22:56  product_page      NaN\n",
       "308595  000199F1887AE5E6 2020-12-15 07:22:56         login      NaN\n",
       "...                  ...                 ...           ...      ...\n",
       "327159  FFF91B6C5431F375 2020-12-17 08:27:17         login      NaN\n",
       "214566  FFFFE36C0F6E92DF 2020-12-22 11:38:57  product_page      NaN\n",
       "385602  FFFFE36C0F6E92DF 2020-12-22 11:38:57         login      NaN\n",
       "396849  FFFFE36C0F6E92DF 2020-12-23 05:09:13         login      NaN\n",
       "238643  FFFFE36C0F6E92DF 2020-12-26 09:25:04  product_page      NaN\n",
       "\n",
       "[151233 rows x 4 columns]"
      ]
     },
     "execution_count": 21,
     "metadata": {},
     "output_type": "execute_result"
    }
   ],
   "source": [
    "events[events[['user_id','event_dt']].duplicated()].sort_values(['user_id','event_dt'])"
   ]
  },
  {
   "cell_type": "markdown",
   "metadata": {},
   "source": [
    "Можно заметить, что хоть столбцы пользователей и времени не отличаются, отличается тип события. Посмотрим нет ли дублей, если учеcть и этот момент:"
   ]
  },
  {
   "cell_type": "code",
   "execution_count": 22,
   "metadata": {},
   "outputs": [
    {
     "data": {
      "text/plain": [
       "0"
      ]
     },
     "execution_count": 22,
     "metadata": {},
     "output_type": "execute_result"
    }
   ],
   "source": [
    "events[['user_id','event_dt','event_name']].duplicated().sum()"
   ]
  },
  {
   "cell_type": "markdown",
   "metadata": {},
   "source": [
    "Таким образом полных дубликатов нет, хотя и отметим момент, что несколько событий у пользователей может встречаться в одно время. "
   ]
  },
  {
   "cell_type": "markdown",
   "metadata": {},
   "source": [
    "Посмотрим сколько уникальных пользователей:"
   ]
  },
  {
   "cell_type": "code",
   "execution_count": 23,
   "metadata": {},
   "outputs": [
    {
     "data": {
      "text/plain": [
       "58703"
      ]
     },
     "execution_count": 23,
     "metadata": {},
     "output_type": "execute_result"
    }
   ],
   "source": [
    "events['user_id'].nunique()"
   ]
  },
  {
   "cell_type": "markdown",
   "metadata": {},
   "source": [
    "58703 уникальных пользователя. Посмотрим на дату по событиям, за какой период данные:"
   ]
  },
  {
   "cell_type": "code",
   "execution_count": 24,
   "metadata": {},
   "outputs": [
    {
     "data": {
      "text/html": [
       "<div>\n",
       "<style scoped>\n",
       "    .dataframe tbody tr th:only-of-type {\n",
       "        vertical-align: middle;\n",
       "    }\n",
       "\n",
       "    .dataframe tbody tr th {\n",
       "        vertical-align: top;\n",
       "    }\n",
       "\n",
       "    .dataframe thead th {\n",
       "        text-align: right;\n",
       "    }\n",
       "</style>\n",
       "<table border=\"1\" class=\"dataframe\">\n",
       "  <thead>\n",
       "    <tr style=\"text-align: right;\">\n",
       "      <th></th>\n",
       "      <th>event_dt</th>\n",
       "    </tr>\n",
       "  </thead>\n",
       "  <tbody>\n",
       "    <tr>\n",
       "      <th>first</th>\n",
       "      <td>2020-12-07 00:00:33</td>\n",
       "    </tr>\n",
       "    <tr>\n",
       "      <th>last</th>\n",
       "      <td>2020-12-30 23:36:33</td>\n",
       "    </tr>\n",
       "  </tbody>\n",
       "</table>\n",
       "</div>"
      ],
      "text/plain": [
       "                  event_dt\n",
       "first  2020-12-07 00:00:33\n",
       "last   2020-12-30 23:36:33"
      ]
     },
     "execution_count": 24,
     "metadata": {},
     "output_type": "execute_result"
    }
   ],
   "source": [
    "events['event_dt'].describe().to_frame().iloc[4:]"
   ]
  },
  {
   "cell_type": "markdown",
   "metadata": {},
   "source": [
    "Таким образом можно отметить, что данные заканчиваются 30-12-2020 года, а не 4-01-2021 как было сказано в примечании к датасету. "
   ]
  },
  {
   "cell_type": "markdown",
   "metadata": {},
   "source": [
    "Посмотрим как часто встречаются различные типы событий:"
   ]
  },
  {
   "cell_type": "code",
   "execution_count": 25,
   "metadata": {},
   "outputs": [
    {
     "data": {
      "text/html": [
       "<div>\n",
       "<style scoped>\n",
       "    .dataframe tbody tr th:only-of-type {\n",
       "        vertical-align: middle;\n",
       "    }\n",
       "\n",
       "    .dataframe tbody tr th {\n",
       "        vertical-align: top;\n",
       "    }\n",
       "\n",
       "    .dataframe thead th {\n",
       "        text-align: right;\n",
       "    }\n",
       "</style>\n",
       "<table border=\"1\" class=\"dataframe\">\n",
       "  <thead>\n",
       "    <tr style=\"text-align: right;\">\n",
       "      <th></th>\n",
       "      <th>event_name</th>\n",
       "    </tr>\n",
       "  </thead>\n",
       "  <tbody>\n",
       "    <tr>\n",
       "      <th>login</th>\n",
       "      <td>43.05</td>\n",
       "    </tr>\n",
       "    <tr>\n",
       "      <th>product_page</th>\n",
       "      <td>28.52</td>\n",
       "    </tr>\n",
       "    <tr>\n",
       "      <th>purchase</th>\n",
       "      <td>14.25</td>\n",
       "    </tr>\n",
       "    <tr>\n",
       "      <th>product_cart</th>\n",
       "      <td>14.19</td>\n",
       "    </tr>\n",
       "  </tbody>\n",
       "</table>\n",
       "</div>"
      ],
      "text/plain": [
       "              event_name\n",
       "login              43.05\n",
       "product_page       28.52\n",
       "purchase           14.25\n",
       "product_cart       14.19"
      ]
     },
     "execution_count": 25,
     "metadata": {},
     "output_type": "execute_result"
    }
   ],
   "source": [
    "(events['event_name'].value_counts(normalize = True) * 100).to_frame()"
   ]
  },
  {
   "cell_type": "markdown",
   "metadata": {},
   "source": [
    "Получается следующее распределение:\n",
    "* login (авторизация) - 43% ;\n",
    "* product_page (страница продукта) - 28,5% ;\n",
    "* purchase (страница покупки) - 14.3% ;\n",
    "* product_cart (корзина) - 14,2 %."
   ]
  },
  {
   "cell_type": "markdown",
   "metadata": {},
   "source": [
    "purchase и product_cart\tимеют особенность, которую уточним у менеджеров, отчего доля у них практически равна, скорее всего это особенность системы."
   ]
  },
  {
   "cell_type": "markdown",
   "metadata": {},
   "source": [
    "#### 1.2.4 participants"
   ]
  },
  {
   "cell_type": "markdown",
   "metadata": {},
   "source": [
    "Посмотрим на 10 случайных строк датасета:"
   ]
  },
  {
   "cell_type": "code",
   "execution_count": 26,
   "metadata": {},
   "outputs": [
    {
     "data": {
      "text/html": [
       "<div>\n",
       "<style scoped>\n",
       "    .dataframe tbody tr th:only-of-type {\n",
       "        vertical-align: middle;\n",
       "    }\n",
       "\n",
       "    .dataframe tbody tr th {\n",
       "        vertical-align: top;\n",
       "    }\n",
       "\n",
       "    .dataframe thead th {\n",
       "        text-align: right;\n",
       "    }\n",
       "</style>\n",
       "<table border=\"1\" class=\"dataframe\">\n",
       "  <thead>\n",
       "    <tr style=\"text-align: right;\">\n",
       "      <th></th>\n",
       "      <th>user_id</th>\n",
       "      <th>group</th>\n",
       "      <th>ab_test</th>\n",
       "    </tr>\n",
       "  </thead>\n",
       "  <tbody>\n",
       "    <tr>\n",
       "      <th>13342</th>\n",
       "      <td>009F1C78D679CDEC</td>\n",
       "      <td>B</td>\n",
       "      <td>interface_eu_test</td>\n",
       "    </tr>\n",
       "    <tr>\n",
       "      <th>11084</th>\n",
       "      <td>21729E1837CFACC3</td>\n",
       "      <td>B</td>\n",
       "      <td>interface_eu_test</td>\n",
       "    </tr>\n",
       "    <tr>\n",
       "      <th>189</th>\n",
       "      <td>E7DF135C125C7665</td>\n",
       "      <td>A</td>\n",
       "      <td>recommender_system_test</td>\n",
       "    </tr>\n",
       "    <tr>\n",
       "      <th>7523</th>\n",
       "      <td>E17C3F1F2A456838</td>\n",
       "      <td>A</td>\n",
       "      <td>interface_eu_test</td>\n",
       "    </tr>\n",
       "    <tr>\n",
       "      <th>3563</th>\n",
       "      <td>18C842F57F2FB9EA</td>\n",
       "      <td>B</td>\n",
       "      <td>recommender_system_test</td>\n",
       "    </tr>\n",
       "    <tr>\n",
       "      <th>15887</th>\n",
       "      <td>E083A29797014B68</td>\n",
       "      <td>A</td>\n",
       "      <td>interface_eu_test</td>\n",
       "    </tr>\n",
       "    <tr>\n",
       "      <th>11201</th>\n",
       "      <td>958A53AA2D471AE9</td>\n",
       "      <td>A</td>\n",
       "      <td>interface_eu_test</td>\n",
       "    </tr>\n",
       "    <tr>\n",
       "      <th>15730</th>\n",
       "      <td>9C8ABB3BDC2746A3</td>\n",
       "      <td>B</td>\n",
       "      <td>interface_eu_test</td>\n",
       "    </tr>\n",
       "    <tr>\n",
       "      <th>10783</th>\n",
       "      <td>72E4591A9ED9E585</td>\n",
       "      <td>A</td>\n",
       "      <td>interface_eu_test</td>\n",
       "    </tr>\n",
       "    <tr>\n",
       "      <th>2336</th>\n",
       "      <td>34BB9070F9BB99E5</td>\n",
       "      <td>B</td>\n",
       "      <td>recommender_system_test</td>\n",
       "    </tr>\n",
       "  </tbody>\n",
       "</table>\n",
       "</div>"
      ],
      "text/plain": [
       "                user_id group                  ab_test\n",
       "13342  009F1C78D679CDEC     B        interface_eu_test\n",
       "11084  21729E1837CFACC3     B        interface_eu_test\n",
       "189    E7DF135C125C7665     A  recommender_system_test\n",
       "7523   E17C3F1F2A456838     A        interface_eu_test\n",
       "3563   18C842F57F2FB9EA     B  recommender_system_test\n",
       "15887  E083A29797014B68     A        interface_eu_test\n",
       "11201  958A53AA2D471AE9     A        interface_eu_test\n",
       "15730  9C8ABB3BDC2746A3     B        interface_eu_test\n",
       "10783  72E4591A9ED9E585     A        interface_eu_test\n",
       "2336   34BB9070F9BB99E5     B  recommender_system_test"
      ]
     },
     "execution_count": 26,
     "metadata": {},
     "output_type": "execute_result"
    }
   ],
   "source": [
    "participants.sample(10)"
   ]
  },
  {
   "cell_type": "markdown",
   "metadata": {},
   "source": [
    "Датасет содержит таблицу участников теста, включает в себя такие столбцы как:\n",
    "- `user_id` — идентификатор пользователя;\n",
    "- `ab_test` — название теста;\n",
    "- `group` — группа пользователя."
   ]
  },
  {
   "cell_type": "markdown",
   "metadata": {},
   "source": [
    "Посмотрим общую информацию о датасете:"
   ]
  },
  {
   "cell_type": "code",
   "execution_count": 27,
   "metadata": {},
   "outputs": [
    {
     "name": "stdout",
     "output_type": "stream",
     "text": [
      "<class 'pandas.core.frame.DataFrame'>\n",
      "RangeIndex: 18268 entries, 0 to 18267\n",
      "Data columns (total 3 columns):\n",
      " #   Column   Non-Null Count  Dtype \n",
      "---  ------   --------------  ----- \n",
      " 0   user_id  18268 non-null  object\n",
      " 1   group    18268 non-null  object\n",
      " 2   ab_test  18268 non-null  object\n",
      "dtypes: object(3)\n",
      "memory usage: 428.3+ KB\n"
     ]
    }
   ],
   "source": [
    "participants.info()"
   ]
  },
  {
   "cell_type": "markdown",
   "metadata": {},
   "source": [
    "Данные содержат 18268 строк, 3 столбца, пропущенных значений нет. Также проверим данные на дубликаты:"
   ]
  },
  {
   "cell_type": "code",
   "execution_count": 28,
   "metadata": {},
   "outputs": [
    {
     "data": {
      "text/plain": [
       "0"
      ]
     },
     "execution_count": 28,
     "metadata": {},
     "output_type": "execute_result"
    }
   ],
   "source": [
    "participants.duplicated().sum()"
   ]
  },
  {
   "cell_type": "markdown",
   "metadata": {},
   "source": [
    "Явных дубликатов нет, посмотрим также в таком виде:"
   ]
  },
  {
   "cell_type": "code",
   "execution_count": 29,
   "metadata": {},
   "outputs": [
    {
     "data": {
      "text/plain": [
       "1602"
      ]
     },
     "execution_count": 29,
     "metadata": {},
     "output_type": "execute_result"
    }
   ],
   "source": [
    "participants['user_id'].duplicated().sum()"
   ]
  },
  {
   "cell_type": "markdown",
   "metadata": {},
   "source": [
    "1602 пользователя встречаются более 1 раза. Нужно обратить внимание в дальнейшем на данный факт. "
   ]
  },
  {
   "cell_type": "markdown",
   "metadata": {},
   "source": [
    "Посмотрим на количество уникальных пользователей:"
   ]
  },
  {
   "cell_type": "code",
   "execution_count": 30,
   "metadata": {},
   "outputs": [
    {
     "data": {
      "text/plain": [
       "16666"
      ]
     },
     "execution_count": 30,
     "metadata": {},
     "output_type": "execute_result"
    }
   ],
   "source": [
    "participants['user_id'].nunique()"
   ]
  },
  {
   "cell_type": "markdown",
   "metadata": {},
   "source": [
    "16666 уникальных пользователя. Посмотрим как распределяются группы:"
   ]
  },
  {
   "cell_type": "code",
   "execution_count": 31,
   "metadata": {},
   "outputs": [
    {
     "data": {
      "text/html": [
       "<div>\n",
       "<style scoped>\n",
       "    .dataframe tbody tr th:only-of-type {\n",
       "        vertical-align: middle;\n",
       "    }\n",
       "\n",
       "    .dataframe tbody tr th {\n",
       "        vertical-align: top;\n",
       "    }\n",
       "\n",
       "    .dataframe thead th {\n",
       "        text-align: right;\n",
       "    }\n",
       "</style>\n",
       "<table border=\"1\" class=\"dataframe\">\n",
       "  <thead>\n",
       "    <tr style=\"text-align: right;\">\n",
       "      <th></th>\n",
       "      <th>group</th>\n",
       "    </tr>\n",
       "  </thead>\n",
       "  <tbody>\n",
       "    <tr>\n",
       "      <th>A</th>\n",
       "      <td>52.85</td>\n",
       "    </tr>\n",
       "    <tr>\n",
       "      <th>B</th>\n",
       "      <td>47.15</td>\n",
       "    </tr>\n",
       "  </tbody>\n",
       "</table>\n",
       "</div>"
      ],
      "text/plain": [
       "   group\n",
       "A  52.85\n",
       "B  47.15"
      ]
     },
     "execution_count": 31,
     "metadata": {},
     "output_type": "execute_result"
    }
   ],
   "source": [
    "(participants['group'].value_counts(normalize = True) * 100).to_frame()"
   ]
  },
  {
   "cell_type": "markdown",
   "metadata": {},
   "source": [
    "Группа A на данном этапе исследования на более чем на 5% больше группы B. В дальнейшем необходимо проконтролировать данный немаловажный факт. "
   ]
  },
  {
   "cell_type": "markdown",
   "metadata": {},
   "source": [
    "Также посмотрим распределение по тестам:"
   ]
  },
  {
   "cell_type": "code",
   "execution_count": 32,
   "metadata": {},
   "outputs": [
    {
     "data": {
      "text/html": [
       "<div>\n",
       "<style scoped>\n",
       "    .dataframe tbody tr th:only-of-type {\n",
       "        vertical-align: middle;\n",
       "    }\n",
       "\n",
       "    .dataframe tbody tr th {\n",
       "        vertical-align: top;\n",
       "    }\n",
       "\n",
       "    .dataframe thead th {\n",
       "        text-align: right;\n",
       "    }\n",
       "</style>\n",
       "<table border=\"1\" class=\"dataframe\">\n",
       "  <thead>\n",
       "    <tr style=\"text-align: right;\">\n",
       "      <th></th>\n",
       "      <th>ab_test</th>\n",
       "    </tr>\n",
       "  </thead>\n",
       "  <tbody>\n",
       "    <tr>\n",
       "      <th>interface_eu_test</th>\n",
       "      <td>63.32</td>\n",
       "    </tr>\n",
       "    <tr>\n",
       "      <th>recommender_system_test</th>\n",
       "      <td>36.68</td>\n",
       "    </tr>\n",
       "  </tbody>\n",
       "</table>\n",
       "</div>"
      ],
      "text/plain": [
       "                         ab_test\n",
       "interface_eu_test          63.32\n",
       "recommender_system_test    36.68"
      ]
     },
     "execution_count": 32,
     "metadata": {},
     "output_type": "execute_result"
    }
   ],
   "source": [
    "(participants['ab_test'].value_counts(normalize = True) * 100).to_frame()"
   ]
  },
  {
   "cell_type": "markdown",
   "metadata": {},
   "source": [
    "Лишь 36,7% данных из теста , которые нам подходят. "
   ]
  },
  {
   "cell_type": "markdown",
   "metadata": {},
   "source": [
    "### 1.3 Вывод"
   ]
  },
  {
   "cell_type": "markdown",
   "metadata": {},
   "source": [
    "В нашем распоряжении 4 датасета, при первичном знакомстве было выявлено:\n",
    "\n",
    "---   \n",
    "* Датасет **marketing_events** содержит в себе 14 строк,4 столбца:\n",
    "     * **События**:\n",
    "        * St. Patric's Day Promo - Промо Ко Дню Святого Патрика;\n",
    "        * Labor day (May 1st) Ads Campaign - День Труда - рекламная кампания;\n",
    "        * CIS New Year Gift Lottery - Новогодняя подарочная лотерея СНГ;\n",
    "        * Christmas&New Year Promo - Рождественская и Новогодняя акция;\n",
    "        * Easter Promo - Пасхальное промо;\n",
    "        * Black Friday Ads Campaign - Рекламная кампания Черной Пятницы;\n",
    "        * Dragon Boat Festival Giveaway - Розыгрыш фестиваля драконьих лодок;\n",
    "        * International Women's Day Promo - Акция к Международному женскому дню;\n",
    "        * 4th of July Promo - 4 июля Акция;\n",
    "        * Chinese Moon Festival - Китайский фестиваль луны;\n",
    "        * Chinese New Year Promo - Промо-акция на Китайский Новый Год;\n",
    "        * Single's Day Gift Promo - Промо Подарок на День холостяка;\n",
    "        * St. Valentine's Day Giveaway - Подарок ко Дню Святого Валентина;\n",
    "        * Victory Day CIS (May 9th) Event - День Победы СНГ (9 мая) Мероприятие.\n",
    "     * **Регионы:**\n",
    "        * Встречаются Азиатско-Тихоокеанский регион;\n",
    "        * Европа;\n",
    "        * СНГ;\n",
    "        * Северная Америка.\n",
    "     * **Дата начала проведения события:**\n",
    "        * С 25-01-2020 года по 30-12-2020 года. \n",
    "     * **Дата окончания проведения события:**  \n",
    "        * С 07-02-2020 года по 07-01-2021 года. \n",
    "        \n",
    "     Типы данных соответствующие, пропущенных значений нет,дубликаты отсутствуют.\n",
    "    \n",
    "\n",
    "---     \n",
    "     \n",
    "* Датасет **new_users** содержит в себе 61733 строк, 4 столбца:\n",
    "    * **Идентификатор пользователя:**\n",
    "        * 61733 уникальных пользователей;\n",
    "    * **Дату регистрации:**\n",
    "        * с 07-12-2020 года по 23-12-2020 год.\n",
    "    * **Регион пользователя:**\n",
    "        * EU;\n",
    "        * N.America;\n",
    "        * CIS;\n",
    "        * APAC.\n",
    "    * **Устройство, с которого происходила регистрация:**\n",
    "        * Android;\n",
    "        * PC;\n",
    "        * iPhone;\n",
    "        * Mac.\n",
    "        \n",
    "    Типы данных соответствующие, пропущенных значений нет,дубликаты отсутствуют.\n",
    "     \n",
    "         \n",
    "---  \n",
    "\n",
    "* Датасет **events** содержит в себе 440317 строк, 4 столбца:\n",
    "   * **Идентификатор пользователя:**\n",
    "       * 58703 уникальных пользователя.\n",
    "       \n",
    "   * **Дата и время покупки:**\n",
    "       * С 07-12-2020 года по 30-12-2020 год.\n",
    "   * **Тип события:**\n",
    "       * login (авторизация) ;\n",
    "       * product_page (страница продукта);\n",
    "       * purchase (страница покупки)  ;\n",
    "       * product_cart (корзина).\n",
    "   * **Дополнительные данные о событии:**\n",
    "       * Например, для покупок, purchase, в этом поле хранится стоимость покупки в долларах.\n",
    "       \n",
    "    Типы данных соответствующие, пропущенных значения встречаются в столбце details, но это логично, так как в данный столбец заносится лишь дополнительная информация. Дубликаты встречаются если отобрать пользователя и время, но тип событий отличается у данных строк.\n",
    "\n",
    "---   \n",
    "\n",
    "* Датасет **participants** содержит в себе 18268 строк, 3 столбца:\n",
    "   *  **Идентификатор пользователя:**\n",
    "       * 16666 уникальных пользователя.\n",
    "   *  **Название теста:**\n",
    "      * interface_eu_test;\n",
    "      * recommender_system_test.\n",
    "   *  **Группа пользователя:**\n",
    "      * A;\n",
    "      * B.\n",
    "       \n",
    "    Типы данных соответствующие, пропущенных значений нет, 1602 пользователя встречаются более 1 раза.    \n",
    "     \n",
    "---     \n",
    "           \n",
    "Нужно учесть, что не все данные попадают под параметры технического здания.\n",
    "\n",
    "\n"
   ]
  },
  {
   "cell_type": "markdown",
   "metadata": {},
   "source": [
    "## Этап 2. Предобработка данных"
   ]
  },
  {
   "cell_type": "markdown",
   "metadata": {},
   "source": [
    "Вспомним **техническое задание**:\n",
    "* Название теста: recommender_system_test;\n",
    "* Группы: А (контрольная), B (новая платёжная воронка);\n",
    "* Дата запуска: 2020-12-07;\n",
    "* Дата остановки набора новых пользователей: 2020-12-21;\n",
    "* Дата остановки: 2021-01-04;\n",
    "* Аудитория: 15% новых пользователей из региона EU;\n",
    "* Назначение теста: тестирование изменений, связанных с внедрением улучшенной рекомендательной системы;\n",
    "* Ожидаемое количество участников теста: 6000.\n",
    "* Ожидаемый эффект: за 14 дней с момента регистрации в системе пользователи покажут улучшение каждой метрики не менее, чем на 10%:\n",
    "* Конверсии в просмотр карточек товаров — событие product_page\n",
    "* Просмотры корзины — product_cart\n",
    "* Покупки — purchase.\n"
   ]
  },
  {
   "cell_type": "markdown",
   "metadata": {},
   "source": [
    "Соответственно необходимо, чтоб данные для теста совпадали с этими параметрами. Приступим. Выберем из таблицы участников теста лишь тех, кто у кого название теста **recommender_system_test**:"
   ]
  },
  {
   "cell_type": "code",
   "execution_count": 33,
   "metadata": {},
   "outputs": [],
   "source": [
    "NEW_actual_participants  = participants.query('ab_test == \"recommender_system_test\"')"
   ]
  },
  {
   "cell_type": "code",
   "execution_count": 34,
   "metadata": {},
   "outputs": [
    {
     "data": {
      "text/plain": [
       "A    3824\n",
       "B    2877\n",
       "Name: group, dtype: int64"
      ]
     },
     "execution_count": 34,
     "metadata": {},
     "output_type": "execute_result"
    }
   ],
   "source": [
    "NEW_actual_participants['group'].value_counts()"
   ]
  },
  {
   "cell_type": "markdown",
   "metadata": {},
   "source": [
    "Распределение 3824 у группы A и 2877 у группы B, группа А примерно на 30% больше."
   ]
  },
  {
   "cell_type": "markdown",
   "metadata": {},
   "source": [
    "Актуальными пользователями будут являться те, кто зарегестрировался с 07-12-2020 года по 21-12-2020 года. Ранее было выявлено, что в датасете имеются данные с 07-12-2020 по 23-12-2020 года. Помимо этого, нам нужны пользователи из Европейского региона:"
   ]
  },
  {
   "cell_type": "code",
   "execution_count": 35,
   "metadata": {},
   "outputs": [
    {
     "data": {
      "text/html": [
       "<div>\n",
       "<style scoped>\n",
       "    .dataframe tbody tr th:only-of-type {\n",
       "        vertical-align: middle;\n",
       "    }\n",
       "\n",
       "    .dataframe tbody tr th {\n",
       "        vertical-align: top;\n",
       "    }\n",
       "\n",
       "    .dataframe thead th {\n",
       "        text-align: right;\n",
       "    }\n",
       "</style>\n",
       "<table border=\"1\" class=\"dataframe\">\n",
       "  <thead>\n",
       "    <tr style=\"text-align: right;\">\n",
       "      <th></th>\n",
       "      <th>user_id</th>\n",
       "      <th>first_date</th>\n",
       "      <th>region</th>\n",
       "      <th>device</th>\n",
       "    </tr>\n",
       "  </thead>\n",
       "  <tbody>\n",
       "    <tr>\n",
       "      <th>3650</th>\n",
       "      <td>346D42ED8517221B</td>\n",
       "      <td>2020-12-07</td>\n",
       "      <td>EU</td>\n",
       "      <td>PC</td>\n",
       "    </tr>\n",
       "    <tr>\n",
       "      <th>9875</th>\n",
       "      <td>C29261B1C3279510</td>\n",
       "      <td>2020-12-14</td>\n",
       "      <td>EU</td>\n",
       "      <td>iPhone</td>\n",
       "    </tr>\n",
       "    <tr>\n",
       "      <th>50927</th>\n",
       "      <td>081BB2C2F64FC242</td>\n",
       "      <td>2020-12-19</td>\n",
       "      <td>EU</td>\n",
       "      <td>PC</td>\n",
       "    </tr>\n",
       "  </tbody>\n",
       "</table>\n",
       "</div>"
      ],
      "text/plain": [
       "                user_id first_date region  device\n",
       "3650   346D42ED8517221B 2020-12-07     EU      PC\n",
       "9875   C29261B1C3279510 2020-12-14     EU  iPhone\n",
       "50927  081BB2C2F64FC242 2020-12-19     EU      PC"
      ]
     },
     "execution_count": 35,
     "metadata": {},
     "output_type": "execute_result"
    }
   ],
   "source": [
    "NEW_actual_new_users = new_users.query('first_date <= \"2020-12-21\" ')\n",
    "NEW_actual_new_users.sample(3)"
   ]
  },
  {
   "cell_type": "markdown",
   "metadata": {},
   "source": [
    "Объединим актуальную таблицу с тестами с актульными пользователями:"
   ]
  },
  {
   "cell_type": "code",
   "execution_count": 36,
   "metadata": {},
   "outputs": [],
   "source": [
    "NEW_merged = pd.merge(NEW_actual_participants, NEW_actual_new_users, on = 'user_id', how = 'inner')"
   ]
  },
  {
   "cell_type": "code",
   "execution_count": 37,
   "metadata": {},
   "outputs": [
    {
     "data": {
      "text/plain": [
       "A    3824\n",
       "B    2877\n",
       "Name: group, dtype: int64"
      ]
     },
     "execution_count": 37,
     "metadata": {},
     "output_type": "execute_result"
    }
   ],
   "source": [
    "NEW_merged['group'].value_counts()"
   ]
  },
  {
   "cell_type": "markdown",
   "metadata": {},
   "source": [
    "Объединим события пользователей с объединенной таблицей, которая объединяла актуальную таблицу тестов и актуальных пользователей и посмотрим на полученный датасет:"
   ]
  },
  {
   "cell_type": "code",
   "execution_count": 38,
   "metadata": {
    "scrolled": true
   },
   "outputs": [
    {
     "data": {
      "text/html": [
       "<div>\n",
       "<style scoped>\n",
       "    .dataframe tbody tr th:only-of-type {\n",
       "        vertical-align: middle;\n",
       "    }\n",
       "\n",
       "    .dataframe tbody tr th {\n",
       "        vertical-align: top;\n",
       "    }\n",
       "\n",
       "    .dataframe thead th {\n",
       "        text-align: right;\n",
       "    }\n",
       "</style>\n",
       "<table border=\"1\" class=\"dataframe\">\n",
       "  <thead>\n",
       "    <tr style=\"text-align: right;\">\n",
       "      <th></th>\n",
       "      <th>user_id</th>\n",
       "      <th>event_dt</th>\n",
       "      <th>event_name</th>\n",
       "      <th>details</th>\n",
       "      <th>group</th>\n",
       "      <th>ab_test</th>\n",
       "      <th>first_date</th>\n",
       "      <th>region</th>\n",
       "      <th>device</th>\n",
       "    </tr>\n",
       "  </thead>\n",
       "  <tbody>\n",
       "    <tr>\n",
       "      <th>13645</th>\n",
       "      <td>1198061F6AF34B7B</td>\n",
       "      <td>2020-12-11 14:07:11</td>\n",
       "      <td>purchase</td>\n",
       "      <td>4.99</td>\n",
       "      <td>B</td>\n",
       "      <td>recommender_system_test</td>\n",
       "      <td>2020-12-07</td>\n",
       "      <td>EU</td>\n",
       "      <td>iPhone</td>\n",
       "    </tr>\n",
       "    <tr>\n",
       "      <th>19922</th>\n",
       "      <td>1544489D5476AD59</td>\n",
       "      <td>2020-12-14 15:27:39</td>\n",
       "      <td>login</td>\n",
       "      <td>NaN</td>\n",
       "      <td>A</td>\n",
       "      <td>recommender_system_test</td>\n",
       "      <td>2020-12-13</td>\n",
       "      <td>EU</td>\n",
       "      <td>Android</td>\n",
       "    </tr>\n",
       "    <tr>\n",
       "      <th>19391</th>\n",
       "      <td>56EE3A6402B3BAC0</td>\n",
       "      <td>2020-12-16 20:58:41</td>\n",
       "      <td>product_page</td>\n",
       "      <td>NaN</td>\n",
       "      <td>A</td>\n",
       "      <td>recommender_system_test</td>\n",
       "      <td>2020-12-16</td>\n",
       "      <td>EU</td>\n",
       "      <td>PC</td>\n",
       "    </tr>\n",
       "  </tbody>\n",
       "</table>\n",
       "</div>"
      ],
      "text/plain": [
       "                user_id            event_dt    event_name  details group  \\\n",
       "13645  1198061F6AF34B7B 2020-12-11 14:07:11      purchase     4.99     B   \n",
       "19922  1544489D5476AD59 2020-12-14 15:27:39         login      NaN     A   \n",
       "19391  56EE3A6402B3BAC0 2020-12-16 20:58:41  product_page      NaN     A   \n",
       "\n",
       "                       ab_test first_date region   device  \n",
       "13645  recommender_system_test 2020-12-07     EU   iPhone  \n",
       "19922  recommender_system_test 2020-12-13     EU  Android  \n",
       "19391  recommender_system_test 2020-12-16     EU       PC  "
      ]
     },
     "execution_count": 38,
     "metadata": {},
     "output_type": "execute_result"
    }
   ],
   "source": [
    "NEW_merged_and_events = pd.merge(events,NEW_merged, on = 'user_id', how = 'right')\n",
    "NEW_merged_and_events.sample(3)"
   ]
  },
  {
   "cell_type": "markdown",
   "metadata": {},
   "source": [
    "Посмотрим еще раз, какие маркетинговые события в таблице:"
   ]
  },
  {
   "cell_type": "code",
   "execution_count": 39,
   "metadata": {},
   "outputs": [
    {
     "data": {
      "text/html": [
       "<div>\n",
       "<style scoped>\n",
       "    .dataframe tbody tr th:only-of-type {\n",
       "        vertical-align: middle;\n",
       "    }\n",
       "\n",
       "    .dataframe tbody tr th {\n",
       "        vertical-align: top;\n",
       "    }\n",
       "\n",
       "    .dataframe thead th {\n",
       "        text-align: right;\n",
       "    }\n",
       "</style>\n",
       "<table border=\"1\" class=\"dataframe\">\n",
       "  <thead>\n",
       "    <tr style=\"text-align: right;\">\n",
       "      <th></th>\n",
       "      <th>name</th>\n",
       "      <th>regions</th>\n",
       "      <th>start_dt</th>\n",
       "      <th>finish_dt</th>\n",
       "    </tr>\n",
       "  </thead>\n",
       "  <tbody>\n",
       "    <tr>\n",
       "      <th>0</th>\n",
       "      <td>Christmas&amp;New Year Promo</td>\n",
       "      <td>EU, N.America</td>\n",
       "      <td>2020-12-25</td>\n",
       "      <td>2021-01-03</td>\n",
       "    </tr>\n",
       "    <tr>\n",
       "      <th>1</th>\n",
       "      <td>St. Valentine's Day Giveaway</td>\n",
       "      <td>EU, CIS, APAC, N.America</td>\n",
       "      <td>2020-02-14</td>\n",
       "      <td>2020-02-16</td>\n",
       "    </tr>\n",
       "    <tr>\n",
       "      <th>2</th>\n",
       "      <td>St. Patric's Day Promo</td>\n",
       "      <td>EU, N.America</td>\n",
       "      <td>2020-03-17</td>\n",
       "      <td>2020-03-19</td>\n",
       "    </tr>\n",
       "    <tr>\n",
       "      <th>3</th>\n",
       "      <td>Easter Promo</td>\n",
       "      <td>EU, CIS, APAC, N.America</td>\n",
       "      <td>2020-04-12</td>\n",
       "      <td>2020-04-19</td>\n",
       "    </tr>\n",
       "    <tr>\n",
       "      <th>4</th>\n",
       "      <td>4th of July Promo</td>\n",
       "      <td>N.America</td>\n",
       "      <td>2020-07-04</td>\n",
       "      <td>2020-07-11</td>\n",
       "    </tr>\n",
       "    <tr>\n",
       "      <th>5</th>\n",
       "      <td>Black Friday Ads Campaign</td>\n",
       "      <td>EU, CIS, APAC, N.America</td>\n",
       "      <td>2020-11-26</td>\n",
       "      <td>2020-12-01</td>\n",
       "    </tr>\n",
       "    <tr>\n",
       "      <th>6</th>\n",
       "      <td>Chinese New Year Promo</td>\n",
       "      <td>APAC</td>\n",
       "      <td>2020-01-25</td>\n",
       "      <td>2020-02-07</td>\n",
       "    </tr>\n",
       "    <tr>\n",
       "      <th>7</th>\n",
       "      <td>Labor day (May 1st) Ads Campaign</td>\n",
       "      <td>EU, CIS, APAC</td>\n",
       "      <td>2020-05-01</td>\n",
       "      <td>2020-05-03</td>\n",
       "    </tr>\n",
       "    <tr>\n",
       "      <th>8</th>\n",
       "      <td>International Women's Day Promo</td>\n",
       "      <td>EU, CIS, APAC</td>\n",
       "      <td>2020-03-08</td>\n",
       "      <td>2020-03-10</td>\n",
       "    </tr>\n",
       "    <tr>\n",
       "      <th>9</th>\n",
       "      <td>Victory Day CIS (May 9th) Event</td>\n",
       "      <td>CIS</td>\n",
       "      <td>2020-05-09</td>\n",
       "      <td>2020-05-11</td>\n",
       "    </tr>\n",
       "    <tr>\n",
       "      <th>10</th>\n",
       "      <td>CIS New Year Gift Lottery</td>\n",
       "      <td>CIS</td>\n",
       "      <td>2020-12-30</td>\n",
       "      <td>2021-01-07</td>\n",
       "    </tr>\n",
       "    <tr>\n",
       "      <th>11</th>\n",
       "      <td>Dragon Boat Festival Giveaway</td>\n",
       "      <td>APAC</td>\n",
       "      <td>2020-06-25</td>\n",
       "      <td>2020-07-01</td>\n",
       "    </tr>\n",
       "    <tr>\n",
       "      <th>12</th>\n",
       "      <td>Single's Day Gift Promo</td>\n",
       "      <td>APAC</td>\n",
       "      <td>2020-11-11</td>\n",
       "      <td>2020-11-12</td>\n",
       "    </tr>\n",
       "    <tr>\n",
       "      <th>13</th>\n",
       "      <td>Chinese Moon Festival</td>\n",
       "      <td>APAC</td>\n",
       "      <td>2020-10-01</td>\n",
       "      <td>2020-10-07</td>\n",
       "    </tr>\n",
       "  </tbody>\n",
       "</table>\n",
       "</div>"
      ],
      "text/plain": [
       "                                name                   regions   start_dt  \\\n",
       "0           Christmas&New Year Promo             EU, N.America 2020-12-25   \n",
       "1       St. Valentine's Day Giveaway  EU, CIS, APAC, N.America 2020-02-14   \n",
       "2             St. Patric's Day Promo             EU, N.America 2020-03-17   \n",
       "3                       Easter Promo  EU, CIS, APAC, N.America 2020-04-12   \n",
       "4                  4th of July Promo                 N.America 2020-07-04   \n",
       "5          Black Friday Ads Campaign  EU, CIS, APAC, N.America 2020-11-26   \n",
       "6             Chinese New Year Promo                      APAC 2020-01-25   \n",
       "7   Labor day (May 1st) Ads Campaign             EU, CIS, APAC 2020-05-01   \n",
       "8    International Women's Day Promo             EU, CIS, APAC 2020-03-08   \n",
       "9    Victory Day CIS (May 9th) Event                       CIS 2020-05-09   \n",
       "10         CIS New Year Gift Lottery                       CIS 2020-12-30   \n",
       "11     Dragon Boat Festival Giveaway                      APAC 2020-06-25   \n",
       "12           Single's Day Gift Promo                      APAC 2020-11-11   \n",
       "13             Chinese Moon Festival                      APAC 2020-10-01   \n",
       "\n",
       "    finish_dt  \n",
       "0  2021-01-03  \n",
       "1  2020-02-16  \n",
       "2  2020-03-19  \n",
       "3  2020-04-19  \n",
       "4  2020-07-11  \n",
       "5  2020-12-01  \n",
       "6  2020-02-07  \n",
       "7  2020-05-03  \n",
       "8  2020-03-10  \n",
       "9  2020-05-11  \n",
       "10 2021-01-07  \n",
       "11 2020-07-01  \n",
       "12 2020-11-12  \n",
       "13 2020-10-07  "
      ]
     },
     "execution_count": 39,
     "metadata": {},
     "output_type": "execute_result"
    }
   ],
   "source": [
    "marketing_events"
   ]
  },
  {
   "cell_type": "markdown",
   "metadata": {},
   "source": [
    "Таким образом Christmas&New Year Promo и CIS New Year Gift Lottery\tпересекаются с нашим тестом. Трогать их не будем."
   ]
  },
  {
   "cell_type": "code",
   "execution_count": 40,
   "metadata": {},
   "outputs": [
    {
     "data": {
      "text/plain": [
       "region\n",
       "APAC           72\n",
       "CIS            55\n",
       "EU           6351\n",
       "N.America     223\n",
       "Name: user_id, dtype: int64"
      ]
     },
     "execution_count": 40,
     "metadata": {},
     "output_type": "execute_result"
    }
   ],
   "source": [
    "NEW_merged_and_events.groupby('region')['user_id'].nunique()"
   ]
  },
  {
   "cell_type": "code",
   "execution_count": 41,
   "metadata": {},
   "outputs": [
    {
     "data": {
      "text/html": [
       "<div>\n",
       "<style scoped>\n",
       "    .dataframe tbody tr th:only-of-type {\n",
       "        vertical-align: middle;\n",
       "    }\n",
       "\n",
       "    .dataframe tbody tr th {\n",
       "        vertical-align: top;\n",
       "    }\n",
       "\n",
       "    .dataframe thead th {\n",
       "        text-align: right;\n",
       "    }\n",
       "</style>\n",
       "<table border=\"1\" class=\"dataframe\">\n",
       "  <thead>\n",
       "    <tr style=\"text-align: right;\">\n",
       "      <th></th>\n",
       "      <th>user_id</th>\n",
       "      <th>event_dt</th>\n",
       "      <th>event_name</th>\n",
       "      <th>details</th>\n",
       "      <th>group</th>\n",
       "      <th>ab_test</th>\n",
       "      <th>first_date</th>\n",
       "      <th>region</th>\n",
       "      <th>device</th>\n",
       "    </tr>\n",
       "  </thead>\n",
       "  <tbody>\n",
       "    <tr>\n",
       "      <th>0</th>\n",
       "      <td>D1ABA3E2887B6A73</td>\n",
       "      <td>2020-12-07 14:43:27</td>\n",
       "      <td>purchase</td>\n",
       "      <td>99.99</td>\n",
       "      <td>A</td>\n",
       "      <td>recommender_system_test</td>\n",
       "      <td>2020-12-07</td>\n",
       "      <td>EU</td>\n",
       "      <td>PC</td>\n",
       "    </tr>\n",
       "    <tr>\n",
       "      <th>1</th>\n",
       "      <td>D1ABA3E2887B6A73</td>\n",
       "      <td>2020-12-25 00:04:56</td>\n",
       "      <td>purchase</td>\n",
       "      <td>4.99</td>\n",
       "      <td>A</td>\n",
       "      <td>recommender_system_test</td>\n",
       "      <td>2020-12-07</td>\n",
       "      <td>EU</td>\n",
       "      <td>PC</td>\n",
       "    </tr>\n",
       "    <tr>\n",
       "      <th>2</th>\n",
       "      <td>D1ABA3E2887B6A73</td>\n",
       "      <td>2020-12-07 14:43:29</td>\n",
       "      <td>product_cart</td>\n",
       "      <td>NaN</td>\n",
       "      <td>A</td>\n",
       "      <td>recommender_system_test</td>\n",
       "      <td>2020-12-07</td>\n",
       "      <td>EU</td>\n",
       "      <td>PC</td>\n",
       "    </tr>\n",
       "    <tr>\n",
       "      <th>3</th>\n",
       "      <td>D1ABA3E2887B6A73</td>\n",
       "      <td>2020-12-25 00:04:57</td>\n",
       "      <td>product_cart</td>\n",
       "      <td>NaN</td>\n",
       "      <td>A</td>\n",
       "      <td>recommender_system_test</td>\n",
       "      <td>2020-12-07</td>\n",
       "      <td>EU</td>\n",
       "      <td>PC</td>\n",
       "    </tr>\n",
       "    <tr>\n",
       "      <th>4</th>\n",
       "      <td>D1ABA3E2887B6A73</td>\n",
       "      <td>2020-12-07 14:43:27</td>\n",
       "      <td>product_page</td>\n",
       "      <td>NaN</td>\n",
       "      <td>A</td>\n",
       "      <td>recommender_system_test</td>\n",
       "      <td>2020-12-07</td>\n",
       "      <td>EU</td>\n",
       "      <td>PC</td>\n",
       "    </tr>\n",
       "    <tr>\n",
       "      <th>...</th>\n",
       "      <td>...</td>\n",
       "      <td>...</td>\n",
       "      <td>...</td>\n",
       "      <td>...</td>\n",
       "      <td>...</td>\n",
       "      <td>...</td>\n",
       "      <td>...</td>\n",
       "      <td>...</td>\n",
       "      <td>...</td>\n",
       "    </tr>\n",
       "    <tr>\n",
       "      <th>27719</th>\n",
       "      <td>6715343AFBA285AE</td>\n",
       "      <td>2020-12-07 10:12:15</td>\n",
       "      <td>login</td>\n",
       "      <td>NaN</td>\n",
       "      <td>B</td>\n",
       "      <td>recommender_system_test</td>\n",
       "      <td>2020-12-07</td>\n",
       "      <td>CIS</td>\n",
       "      <td>Android</td>\n",
       "    </tr>\n",
       "    <tr>\n",
       "      <th>27720</th>\n",
       "      <td>6715343AFBA285AE</td>\n",
       "      <td>2020-12-08 22:51:16</td>\n",
       "      <td>login</td>\n",
       "      <td>NaN</td>\n",
       "      <td>B</td>\n",
       "      <td>recommender_system_test</td>\n",
       "      <td>2020-12-07</td>\n",
       "      <td>CIS</td>\n",
       "      <td>Android</td>\n",
       "    </tr>\n",
       "    <tr>\n",
       "      <th>27721</th>\n",
       "      <td>6715343AFBA285AE</td>\n",
       "      <td>2020-12-09 02:28:03</td>\n",
       "      <td>login</td>\n",
       "      <td>NaN</td>\n",
       "      <td>B</td>\n",
       "      <td>recommender_system_test</td>\n",
       "      <td>2020-12-07</td>\n",
       "      <td>CIS</td>\n",
       "      <td>Android</td>\n",
       "    </tr>\n",
       "    <tr>\n",
       "      <th>27722</th>\n",
       "      <td>6715343AFBA285AE</td>\n",
       "      <td>2020-12-10 22:55:14</td>\n",
       "      <td>login</td>\n",
       "      <td>NaN</td>\n",
       "      <td>B</td>\n",
       "      <td>recommender_system_test</td>\n",
       "      <td>2020-12-07</td>\n",
       "      <td>CIS</td>\n",
       "      <td>Android</td>\n",
       "    </tr>\n",
       "    <tr>\n",
       "      <th>27723</th>\n",
       "      <td>6715343AFBA285AE</td>\n",
       "      <td>2020-12-14 12:40:41</td>\n",
       "      <td>login</td>\n",
       "      <td>NaN</td>\n",
       "      <td>B</td>\n",
       "      <td>recommender_system_test</td>\n",
       "      <td>2020-12-07</td>\n",
       "      <td>CIS</td>\n",
       "      <td>Android</td>\n",
       "    </tr>\n",
       "  </tbody>\n",
       "</table>\n",
       "<p>27724 rows × 9 columns</p>\n",
       "</div>"
      ],
      "text/plain": [
       "                user_id            event_dt    event_name  details group  \\\n",
       "0      D1ABA3E2887B6A73 2020-12-07 14:43:27      purchase    99.99     A   \n",
       "1      D1ABA3E2887B6A73 2020-12-25 00:04:56      purchase     4.99     A   \n",
       "2      D1ABA3E2887B6A73 2020-12-07 14:43:29  product_cart      NaN     A   \n",
       "3      D1ABA3E2887B6A73 2020-12-25 00:04:57  product_cart      NaN     A   \n",
       "4      D1ABA3E2887B6A73 2020-12-07 14:43:27  product_page      NaN     A   \n",
       "...                 ...                 ...           ...      ...   ...   \n",
       "27719  6715343AFBA285AE 2020-12-07 10:12:15         login      NaN     B   \n",
       "27720  6715343AFBA285AE 2020-12-08 22:51:16         login      NaN     B   \n",
       "27721  6715343AFBA285AE 2020-12-09 02:28:03         login      NaN     B   \n",
       "27722  6715343AFBA285AE 2020-12-10 22:55:14         login      NaN     B   \n",
       "27723  6715343AFBA285AE 2020-12-14 12:40:41         login      NaN     B   \n",
       "\n",
       "                       ab_test first_date region   device  \n",
       "0      recommender_system_test 2020-12-07     EU       PC  \n",
       "1      recommender_system_test 2020-12-07     EU       PC  \n",
       "2      recommender_system_test 2020-12-07     EU       PC  \n",
       "3      recommender_system_test 2020-12-07     EU       PC  \n",
       "4      recommender_system_test 2020-12-07     EU       PC  \n",
       "...                        ...        ...    ...      ...  \n",
       "27719  recommender_system_test 2020-12-07    CIS  Android  \n",
       "27720  recommender_system_test 2020-12-07    CIS  Android  \n",
       "27721  recommender_system_test 2020-12-07    CIS  Android  \n",
       "27722  recommender_system_test 2020-12-07    CIS  Android  \n",
       "27723  recommender_system_test 2020-12-07    CIS  Android  \n",
       "\n",
       "[27724 rows x 9 columns]"
      ]
     },
     "execution_count": 41,
     "metadata": {},
     "output_type": "execute_result"
    }
   ],
   "source": [
    "NEW_merged_and_events"
   ]
  },
  {
   "cell_type": "markdown",
   "metadata": {},
   "source": [
    "Посмотрим на количество новых пользователей из EU:"
   ]
  },
  {
   "cell_type": "code",
   "execution_count": 42,
   "metadata": {},
   "outputs": [
    {
     "data": {
      "text/plain": [
       "region\n",
       "APAC         2.28\n",
       "CIS          1.74\n",
       "EU          13.73\n",
       "N.America    2.44\n",
       "Name: user_id, dtype: float64"
      ]
     },
     "execution_count": 42,
     "metadata": {},
     "output_type": "execute_result"
    }
   ],
   "source": [
    "NEW_merged_and_events.groupby('region')['user_id'].nunique() / new_users.groupby('region')['user_id'].nunique() * 100"
   ]
  },
  {
   "cell_type": "markdown",
   "metadata": {},
   "source": [
    "Убедимся, что даты событий не выходят за рамки технического задания:"
   ]
  },
  {
   "cell_type": "code",
   "execution_count": 43,
   "metadata": {},
   "outputs": [
    {
     "data": {
      "text/plain": [
       "first    2020-12-07 00:05:57\n",
       "last     2020-12-30 12:42:57\n",
       "Name: event_dt, dtype: object"
      ]
     },
     "execution_count": 43,
     "metadata": {},
     "output_type": "execute_result"
    }
   ],
   "source": [
    "NEW_merged_and_events['event_dt'].describe()[4:]"
   ]
  },
  {
   "cell_type": "markdown",
   "metadata": {},
   "source": [
    "Таким образом, подводя итоги можно сказать:\n",
    "* Название теста recommender_system_test - присутствует;\n",
    "* В группе A - 3824 уникальных пользователя, в группе B - 2877, что примерно на 30% больше, для качественного A/B теста желательно, чтоб пропорции были соблюдены;\n",
    "* По регионам распределение следующее: EU - 6351 уникальных пользователей, N.America - 223 уникальных пользователя, APAC-72, CIS - 55\n",
    "* Новых пользователей из EU - 13.73, при требуемых 15;\n",
    "* Дата набора пользователей до 23-12-12, но все же в тест они не попали;\n",
    "* Дата остановки теста указана 04-01-2021 годом, но данные лишь до 30-12-2020 обедененного времени;\n",
    "* Дата начала теста соответствует.\n",
    "\n",
    "В Исследовательском анализе проверим еще данный пункт: \n",
    "* Ожидаемый эффект: за 14 дней с момента регистрации в системе пользователи покажут улучшение каждой метрики не менее, чем на 10%:\n",
    "    * конверсии в просмотр карточек товаров — событие product_page\n",
    "    * просмотры корзины — product_cart\n",
    "    * покупки — purchase."
   ]
  },
  {
   "cell_type": "markdown",
   "metadata": {},
   "source": [
    "## Этап 3. Исследовательский анализ данных"
   ]
  },
  {
   "cell_type": "markdown",
   "metadata": {},
   "source": [
    "### 3.1 Исследование конверсии в воронке на разных этапах"
   ]
  },
  {
   "cell_type": "markdown",
   "metadata": {},
   "source": [
    "Для исследования воронки конверсии, создадим функцию для создания информацонной таблицы:"
   ]
  },
  {
   "cell_type": "code",
   "execution_count": 44,
   "metadata": {},
   "outputs": [],
   "source": [
    "def create_info_table(group):\n",
    "    \"\"\"Данная функция выводит таблицу конверсии\n",
    "    \n",
    "    На вход передается группа теста, на выходе - получаем воронку конверсий по ней \n",
    "    \"\"\"\n",
    "    result = (NEW_merged_and_events\n",
    "                  .query('group == @group')\n",
    "                  .groupby('event_name',as_index = False)\n",
    "                  .agg({'user_id':'nunique'})\n",
    "                  .sort_values(by='user_id', ascending=False)\n",
    "                  .reset_index(drop=True).rename(columns ={'user_id': 'count'})\n",
    "             )\n",
    "    result['ratio'] = result['count'] / NEW_merged_and_events['user_id'].nunique()\n",
    "    numb = 0 \n",
    "    for i in range(4):\n",
    "        if i == 0:\n",
    "            result.loc[i,'conv'] = result.loc[i,'count'] / result.iloc[i,1]\n",
    "        else: result.loc[i,'conv'] = result.loc[i,'count'] / result.iloc[i-1,1]\n",
    "    return result\n"
   ]
  },
  {
   "cell_type": "markdown",
   "metadata": {},
   "source": [
    "Создадим информацию таблицу для группы A и посмотрим на нее:"
   ]
  },
  {
   "cell_type": "code",
   "execution_count": 45,
   "metadata": {},
   "outputs": [
    {
     "data": {
      "text/html": [
       "<div>\n",
       "<style scoped>\n",
       "    .dataframe tbody tr th:only-of-type {\n",
       "        vertical-align: middle;\n",
       "    }\n",
       "\n",
       "    .dataframe tbody tr th {\n",
       "        vertical-align: top;\n",
       "    }\n",
       "\n",
       "    .dataframe thead th {\n",
       "        text-align: right;\n",
       "    }\n",
       "</style>\n",
       "<table border=\"1\" class=\"dataframe\">\n",
       "  <thead>\n",
       "    <tr style=\"text-align: right;\">\n",
       "      <th></th>\n",
       "      <th>event_name</th>\n",
       "      <th>count</th>\n",
       "      <th>ratio</th>\n",
       "      <th>conv</th>\n",
       "    </tr>\n",
       "  </thead>\n",
       "  <tbody>\n",
       "    <tr>\n",
       "      <th>0</th>\n",
       "      <td>login</td>\n",
       "      <td>2747</td>\n",
       "      <td>0.41</td>\n",
       "      <td>1.00</td>\n",
       "    </tr>\n",
       "    <tr>\n",
       "      <th>1</th>\n",
       "      <td>product_page</td>\n",
       "      <td>1780</td>\n",
       "      <td>0.27</td>\n",
       "      <td>0.65</td>\n",
       "    </tr>\n",
       "    <tr>\n",
       "      <th>2</th>\n",
       "      <td>purchase</td>\n",
       "      <td>872</td>\n",
       "      <td>0.13</td>\n",
       "      <td>0.49</td>\n",
       "    </tr>\n",
       "    <tr>\n",
       "      <th>3</th>\n",
       "      <td>product_cart</td>\n",
       "      <td>824</td>\n",
       "      <td>0.12</td>\n",
       "      <td>0.94</td>\n",
       "    </tr>\n",
       "  </tbody>\n",
       "</table>\n",
       "</div>"
      ],
      "text/plain": [
       "     event_name  count  ratio  conv\n",
       "0         login   2747   0.41  1.00\n",
       "1  product_page   1780   0.27  0.65\n",
       "2      purchase    872   0.13  0.49\n",
       "3  product_cart    824   0.12  0.94"
      ]
     },
     "execution_count": 45,
     "metadata": {},
     "output_type": "execute_result"
    }
   ],
   "source": [
    "table_a = create_info_table('A')\n",
    "table_a"
   ]
  },
  {
   "cell_type": "markdown",
   "metadata": {},
   "source": [
    "Создадим информацию таблицу для группы B и посмотрим на нее:"
   ]
  },
  {
   "cell_type": "code",
   "execution_count": 46,
   "metadata": {},
   "outputs": [
    {
     "data": {
      "text/html": [
       "<div>\n",
       "<style scoped>\n",
       "    .dataframe tbody tr th:only-of-type {\n",
       "        vertical-align: middle;\n",
       "    }\n",
       "\n",
       "    .dataframe tbody tr th {\n",
       "        vertical-align: top;\n",
       "    }\n",
       "\n",
       "    .dataframe thead th {\n",
       "        text-align: right;\n",
       "    }\n",
       "</style>\n",
       "<table border=\"1\" class=\"dataframe\">\n",
       "  <thead>\n",
       "    <tr style=\"text-align: right;\">\n",
       "      <th></th>\n",
       "      <th>event_name</th>\n",
       "      <th>count</th>\n",
       "      <th>ratio</th>\n",
       "      <th>conv</th>\n",
       "    </tr>\n",
       "  </thead>\n",
       "  <tbody>\n",
       "    <tr>\n",
       "      <th>0</th>\n",
       "      <td>login</td>\n",
       "      <td>928</td>\n",
       "      <td>0.14</td>\n",
       "      <td>1.00</td>\n",
       "    </tr>\n",
       "    <tr>\n",
       "      <th>1</th>\n",
       "      <td>product_page</td>\n",
       "      <td>523</td>\n",
       "      <td>0.08</td>\n",
       "      <td>0.56</td>\n",
       "    </tr>\n",
       "    <tr>\n",
       "      <th>2</th>\n",
       "      <td>purchase</td>\n",
       "      <td>256</td>\n",
       "      <td>0.04</td>\n",
       "      <td>0.49</td>\n",
       "    </tr>\n",
       "    <tr>\n",
       "      <th>3</th>\n",
       "      <td>product_cart</td>\n",
       "      <td>255</td>\n",
       "      <td>0.04</td>\n",
       "      <td>1.00</td>\n",
       "    </tr>\n",
       "  </tbody>\n",
       "</table>\n",
       "</div>"
      ],
      "text/plain": [
       "     event_name  count  ratio  conv\n",
       "0         login    928   0.14  1.00\n",
       "1  product_page    523   0.08  0.56\n",
       "2      purchase    256   0.04  0.49\n",
       "3  product_cart    255   0.04  1.00"
      ]
     },
     "execution_count": 46,
     "metadata": {},
     "output_type": "execute_result"
    }
   ],
   "source": [
    "table_b = create_info_table('B')\n",
    "table_b"
   ]
  },
  {
   "cell_type": "markdown",
   "metadata": {},
   "source": [
    "Объединим таблицы в одну и посмотрим на итоговый результат:"
   ]
  },
  {
   "cell_type": "code",
   "execution_count": 47,
   "metadata": {},
   "outputs": [
    {
     "data": {
      "text/html": [
       "<div>\n",
       "<style scoped>\n",
       "    .dataframe tbody tr th:only-of-type {\n",
       "        vertical-align: middle;\n",
       "    }\n",
       "\n",
       "    .dataframe tbody tr th {\n",
       "        vertical-align: top;\n",
       "    }\n",
       "\n",
       "    .dataframe thead th {\n",
       "        text-align: right;\n",
       "    }\n",
       "</style>\n",
       "<table border=\"1\" class=\"dataframe\">\n",
       "  <thead>\n",
       "    <tr style=\"text-align: right;\">\n",
       "      <th></th>\n",
       "      <th>event_name</th>\n",
       "      <th>count_a</th>\n",
       "      <th>ratio_a</th>\n",
       "      <th>conv_a</th>\n",
       "      <th>count_b</th>\n",
       "      <th>ratio_b</th>\n",
       "      <th>conv_b</th>\n",
       "    </tr>\n",
       "  </thead>\n",
       "  <tbody>\n",
       "    <tr>\n",
       "      <th>0</th>\n",
       "      <td>login</td>\n",
       "      <td>2747</td>\n",
       "      <td>0.41</td>\n",
       "      <td>1.00</td>\n",
       "      <td>928</td>\n",
       "      <td>0.14</td>\n",
       "      <td>1.00</td>\n",
       "    </tr>\n",
       "    <tr>\n",
       "      <th>1</th>\n",
       "      <td>product_page</td>\n",
       "      <td>1780</td>\n",
       "      <td>0.27</td>\n",
       "      <td>0.65</td>\n",
       "      <td>523</td>\n",
       "      <td>0.08</td>\n",
       "      <td>0.56</td>\n",
       "    </tr>\n",
       "    <tr>\n",
       "      <th>2</th>\n",
       "      <td>product_cart</td>\n",
       "      <td>824</td>\n",
       "      <td>0.12</td>\n",
       "      <td>0.94</td>\n",
       "      <td>255</td>\n",
       "      <td>0.04</td>\n",
       "      <td>1.00</td>\n",
       "    </tr>\n",
       "    <tr>\n",
       "      <th>3</th>\n",
       "      <td>purchase</td>\n",
       "      <td>872</td>\n",
       "      <td>0.13</td>\n",
       "      <td>0.49</td>\n",
       "      <td>256</td>\n",
       "      <td>0.04</td>\n",
       "      <td>0.49</td>\n",
       "    </tr>\n",
       "  </tbody>\n",
       "</table>\n",
       "</div>"
      ],
      "text/plain": [
       "     event_name  count_a  ratio_a  conv_a  count_b  ratio_b  conv_b\n",
       "0         login     2747     0.41    1.00      928     0.14    1.00\n",
       "1  product_page     1780     0.27    0.65      523     0.08    0.56\n",
       "2  product_cart      824     0.12    0.94      255     0.04    1.00\n",
       "3      purchase      872     0.13    0.49      256     0.04    0.49"
      ]
     },
     "execution_count": 47,
     "metadata": {},
     "output_type": "execute_result"
    }
   ],
   "source": [
    "info_table = pd.merge(table_a,table_b, on = 'event_name',suffixes=('_a', '_b'))\n",
    "info_table = info_table.reindex([0,1,3,2]).reset_index(drop=True)\n",
    "info_table"
   ]
  },
  {
   "cell_type": "markdown",
   "metadata": {},
   "source": [
    "Посмотрим визуально на воронке конверсий:"
   ]
  },
  {
   "cell_type": "code",
   "execution_count": 48,
   "metadata": {},
   "outputs": [
    {
     "data": {
      "image/svg+xml": [
       "<svg class=\"main-svg\" xmlns=\"http://www.w3.org/2000/svg\" xmlns:xlink=\"http://www.w3.org/1999/xlink\" width=\"700\" height=\"500\" style=\"\" viewBox=\"0 0 700 500\"><rect x=\"0\" y=\"0\" width=\"700\" height=\"500\" style=\"fill: rgb(255, 255, 255); fill-opacity: 1;\"/><defs id=\"defs-0aad10\"><g class=\"clips\"><clipPath id=\"clip0aad10xyplot\" class=\"plotclip\"><rect width=\"517\" height=\"320\"/></clipPath><clipPath class=\"axesclip\" id=\"clip0aad10x\"><rect x=\"103\" y=\"0\" width=\"517\" height=\"500\"/></clipPath><clipPath class=\"axesclip\" id=\"clip0aad10y\"><rect x=\"0\" y=\"100\" width=\"700\" height=\"320\"/></clipPath><clipPath class=\"axesclip\" id=\"clip0aad10xy\"><rect x=\"103\" y=\"100\" width=\"517\" height=\"320\"/></clipPath></g><g class=\"gradients\"/><g class=\"patterns\"/></defs><g class=\"bglayer\"><rect class=\"bg\" x=\"103\" y=\"100\" width=\"517\" height=\"320\" style=\"fill: rgb(237, 237, 237); fill-opacity: 1; stroke-width: 0;\"/></g><g class=\"layer-below\"><g class=\"imagelayer\"/><g class=\"shapelayer\"/></g><g class=\"cartesianlayer\"><g class=\"subplot xy\"><g class=\"layer-subplot\"><g class=\"shapelayer\"/><g class=\"imagelayer\"/></g><g class=\"gridlayer\"><g class=\"x\"/><g class=\"y\"><path class=\"ygrid crisp\" transform=\"translate(0,380)\" d=\"M103,0h517\" style=\"stroke: rgb(255, 255, 255); stroke-opacity: 1; stroke-width: 1px;\"/><path class=\"ygrid crisp\" transform=\"translate(0,300)\" d=\"M103,0h517\" style=\"stroke: rgb(255, 255, 255); stroke-opacity: 1; stroke-width: 1px;\"/><path class=\"ygrid crisp\" transform=\"translate(0,220)\" d=\"M103,0h517\" style=\"stroke: rgb(255, 255, 255); stroke-opacity: 1; stroke-width: 1px;\"/><path class=\"ygrid crisp\" transform=\"translate(0,140)\" d=\"M103,0h517\" style=\"stroke: rgb(255, 255, 255); stroke-opacity: 1; stroke-width: 1px;\"/></g></g><g class=\"zerolinelayer\"/><path class=\"xlines-below\"/><path class=\"ylines-below\"/><g class=\"overlines-below\"/><g class=\"xaxislayer-below\"/><g class=\"yaxislayer-below\"/><g class=\"overaxes-below\"/><g class=\"plot\" transform=\"translate(103,100)\" clip-path=\"url(#clip0aad10xyplot)\"><g class=\"funnellayer mlayer\"><g class=\"trace bars\" style=\"opacity: 1;\"><g class=\"regions\"><g class=\"region\"><path d=\"M25.85,72L112.71,88H338.08L373.65,72Z\" style=\"stroke-width: 0; fill: rgb(248, 118, 109); fill-opacity: 0.5;\"/></g><g class=\"region\"><path d=\"M112.71,152L190.19,168H294.52L338.08,152Z\" style=\"stroke-width: 0; fill: rgb(248, 118, 109); fill-opacity: 0.5;\"/></g><g class=\"region\"><path d=\"M190.19,232L187.09,248H297.5L294.52,232Z\" style=\"stroke-width: 0; fill: rgb(248, 118, 109); fill-opacity: 0.5;\"/></g><g class=\"region\"><path d=\"M0,0Z\" style=\"stroke-width: 0; fill: rgb(248, 118, 109); fill-opacity: 0.5;\"/></g></g><g class=\"points\"><g class=\"point\"><path d=\"M25.85,8V72H373.65V8Z\" style=\"vector-effect: non-scaling-stroke; fill: rgb(248, 118, 109); fill-opacity: 1; stroke: rgb(68, 68, 68); stroke-opacity: 1; stroke-width: 0px; opacity: 1;\"/><text class=\"bartext bartext-inside\" text-anchor=\"middle\" data-notex=\"1\" x=\"0\" y=\"0\" style=\"font-family: 'Open Sans', verdana, arial, sans-serif; font-size: 12px; fill: rgb(68, 68, 68); fill-opacity: 1; white-space: pre;\" transform=\"translate(199.703125,36.6953125)\"><tspan class=\"line\" dy=\"0em\" x=\"0\" y=\"0\">2747</tspan><tspan class=\"line\" dy=\"1.3em\" x=\"0\" y=\"0\">100%</tspan></text></g><g class=\"point\"><path d=\"M112.71,88V152H338.08V88Z\" style=\"vector-effect: non-scaling-stroke; fill: rgb(248, 118, 109); fill-opacity: 1; stroke: rgb(68, 68, 68); stroke-opacity: 1; stroke-width: 0px; opacity: 1;\"/><text class=\"bartext bartext-inside\" text-anchor=\"middle\" data-notex=\"1\" x=\"0\" y=\"0\" style=\"font-family: 'Open Sans', verdana, arial, sans-serif; font-size: 12px; fill: rgb(68, 68, 68); fill-opacity: 1; white-space: pre;\" transform=\"translate(225.20749999999998,116.6953125)\"><tspan class=\"line\" dy=\"0em\" x=\"0\" y=\"0\">1780</tspan><tspan class=\"line\" dy=\"1.3em\" x=\"0\" y=\"0\">65%</tspan></text></g><g class=\"point\"><path d=\"M190.19,168V232H294.52V168Z\" style=\"vector-effect: non-scaling-stroke; fill: rgb(248, 118, 109); fill-opacity: 1; stroke: rgb(68, 68, 68); stroke-opacity: 1; stroke-width: 0px; opacity: 1;\"/><text class=\"bartext bartext-inside\" text-anchor=\"middle\" data-notex=\"1\" x=\"0\" y=\"0\" style=\"font-family: 'Open Sans', verdana, arial, sans-serif; font-size: 12px; fill: rgb(68, 68, 68); fill-opacity: 1; white-space: pre;\" transform=\"translate(242.3159375,196.6953125)\"><tspan class=\"line\" dy=\"0em\" x=\"0\" y=\"0\">824</tspan><tspan class=\"line\" dy=\"1.3em\" x=\"0\" y=\"0\">30%</tspan></text></g><g class=\"point\"><path d=\"M187.09,248V312H297.5V248Z\" style=\"vector-effect: non-scaling-stroke; fill: rgb(248, 118, 109); fill-opacity: 1; stroke: rgb(68, 68, 68); stroke-opacity: 1; stroke-width: 0px; opacity: 1;\"/><text class=\"bartext bartext-inside\" text-anchor=\"middle\" data-notex=\"1\" x=\"0\" y=\"0\" style=\"font-family: 'Open Sans', verdana, arial, sans-serif; font-size: 12px; fill: rgb(68, 68, 68); fill-opacity: 1; white-space: pre;\" transform=\"translate(242.25593750000002,276.6953125)\"><tspan class=\"line\" dy=\"0em\" x=\"0\" y=\"0\">872</tspan><tspan class=\"line\" dy=\"1.3em\" x=\"0\" y=\"0\">32%</tspan></text></g></g></g><g class=\"trace bars\" style=\"opacity: 1;\"><g class=\"regions\"><g class=\"region\"><path d=\"M373.65,72L338.08,88H404.29L491.15,72Z\" style=\"stroke-width: 0; fill: rgb(163, 165, 0); fill-opacity: 0.5;\"/></g><g class=\"region\"><path d=\"M338.08,152L294.52,168H326.81L404.29,152Z\" style=\"stroke-width: 0; fill: rgb(163, 165, 0); fill-opacity: 0.5;\"/></g><g class=\"region\"><path d=\"M294.52,232L297.5,248H329.91L326.81,232Z\" style=\"stroke-width: 0; fill: rgb(163, 165, 0); fill-opacity: 0.5;\"/></g><g class=\"region\"><path d=\"M0,0Z\" style=\"stroke-width: 0; fill: rgb(163, 165, 0); fill-opacity: 0.5;\"/></g></g><g class=\"points\"><g class=\"point\"><path d=\"M373.65,8V72H491.15V8Z\" style=\"vector-effect: non-scaling-stroke; fill: rgb(163, 165, 0); fill-opacity: 1; stroke: rgb(68, 68, 68); stroke-opacity: 1; stroke-width: 0px; opacity: 1;\"/><text class=\"bartext bartext-inside\" text-anchor=\"middle\" data-notex=\"1\" x=\"0\" y=\"0\" style=\"font-family: 'Open Sans', verdana, arial, sans-serif; font-size: 12px; fill: rgb(68, 68, 68); fill-opacity: 1; white-space: pre;\" transform=\"translate(432.353125,36.6953125)\"><tspan class=\"line\" dy=\"0em\" x=\"0\" y=\"0\">928</tspan><tspan class=\"line\" dy=\"1.3em\" x=\"0\" y=\"0\">100%</tspan></text></g><g class=\"point\"><path d=\"M338.08,88V152H404.29V88Z\" style=\"vector-effect: non-scaling-stroke; fill: rgb(163, 165, 0); fill-opacity: 1; stroke: rgb(68, 68, 68); stroke-opacity: 1; stroke-width: 0px; opacity: 1;\"/><text class=\"bartext bartext-inside\" text-anchor=\"middle\" data-notex=\"1\" x=\"0\" y=\"0\" style=\"font-family: 'Open Sans', verdana, arial, sans-serif; font-size: 12px; fill: rgb(68, 68, 68); fill-opacity: 1; white-space: pre;\" transform=\"translate(371.1459375,116.6953125)\"><tspan class=\"line\" dy=\"0em\" x=\"0\" y=\"0\">523</tspan><tspan class=\"line\" dy=\"1.3em\" x=\"0\" y=\"0\">56%</tspan></text></g><g class=\"point\"><path d=\"M294.52,168V232H326.81V168Z\" style=\"vector-effect: non-scaling-stroke; fill: rgb(163, 165, 0); fill-opacity: 1; stroke: rgb(68, 68, 68); stroke-opacity: 1; stroke-width: 0px; opacity: 1;\"/><text class=\"bartext bartext-outside\" text-anchor=\"middle\" data-notex=\"1\" x=\"0\" y=\"0\" style=\"font-family: 'Open Sans', verdana, arial, sans-serif; font-size: 12px; fill: rgb(51, 51, 51); fill-opacity: 1; white-space: pre;\" transform=\"translate(343.90375,196.6953125)\"><tspan class=\"line\" dy=\"0em\" x=\"0\" y=\"0\">255</tspan><tspan class=\"line\" dy=\"1.3em\" x=\"0\" y=\"0\">27%</tspan></text></g><g class=\"point\"><path d=\"M297.5,248V312H329.91V248Z\" style=\"vector-effect: non-scaling-stroke; fill: rgb(163, 165, 0); fill-opacity: 1; stroke: rgb(68, 68, 68); stroke-opacity: 1; stroke-width: 0px; opacity: 1;\"/><text class=\"bartext bartext-outside\" text-anchor=\"middle\" data-notex=\"1\" x=\"0\" y=\"0\" style=\"font-family: 'Open Sans', verdana, arial, sans-serif; font-size: 12px; fill: rgb(51, 51, 51); fill-opacity: 1; white-space: pre;\" transform=\"translate(347.00375,276.6953125)\"><tspan class=\"line\" dy=\"0em\" x=\"0\" y=\"0\">256</tspan><tspan class=\"line\" dy=\"1.3em\" x=\"0\" y=\"0\">28%</tspan></text></g></g></g></g></g><g class=\"overplot\"/><path class=\"xlines-above crisp\" d=\"M0,0\" style=\"fill: none;\"/><path class=\"ylines-above crisp\" d=\"\" style=\"fill: none; stroke-width: 1px; stroke: rgb(0, 0, 0); stroke-opacity: 0;\"/><g class=\"overlines-above\"/><g class=\"xaxislayer-above\"/><g class=\"yaxislayer-above\"><path class=\"ytick ticks crisp\" d=\"M102,0h-5\" transform=\"translate(0,380)\" style=\"stroke: rgb(51, 51, 51); stroke-opacity: 1; stroke-width: 1px;\"/><path class=\"ytick ticks crisp\" d=\"M102,0h-5\" transform=\"translate(0,300)\" style=\"stroke: rgb(51, 51, 51); stroke-opacity: 1; stroke-width: 1px;\"/><path class=\"ytick ticks crisp\" d=\"M102,0h-5\" transform=\"translate(0,220)\" style=\"stroke: rgb(51, 51, 51); stroke-opacity: 1; stroke-width: 1px;\"/><path class=\"ytick ticks crisp\" d=\"M102,0h-5\" transform=\"translate(0,140)\" style=\"stroke: rgb(51, 51, 51); stroke-opacity: 1; stroke-width: 1px;\"/><g class=\"ytick\"><text text-anchor=\"end\" x=\"94.6\" y=\"4.199999999999999\" transform=\"translate(0,380)\" style=\"font-family: 'Open Sans', verdana, arial, sans-serif; font-size: 12px; fill: rgb(51, 51, 51); fill-opacity: 1; white-space: pre; opacity: 1;\">purchase</text></g><g class=\"ytick\"><text text-anchor=\"end\" x=\"94.6\" y=\"4.199999999999999\" transform=\"translate(0,300)\" style=\"font-family: 'Open Sans', verdana, arial, sans-serif; font-size: 12px; fill: rgb(51, 51, 51); fill-opacity: 1; white-space: pre; opacity: 1;\">product_cart</text></g><g class=\"ytick\"><text text-anchor=\"end\" x=\"94.6\" y=\"4.199999999999999\" transform=\"translate(0,220)\" style=\"font-family: 'Open Sans', verdana, arial, sans-serif; font-size: 12px; fill: rgb(51, 51, 51); fill-opacity: 1; white-space: pre; opacity: 1;\">product_page</text></g><g class=\"ytick\"><text text-anchor=\"end\" x=\"94.6\" y=\"4.199999999999999\" transform=\"translate(0,140)\" style=\"font-family: 'Open Sans', verdana, arial, sans-serif; font-size: 12px; fill: rgb(51, 51, 51); fill-opacity: 1; white-space: pre; opacity: 1;\">login</text></g></g><g class=\"overaxes-above\"/></g></g><g class=\"polarlayer\"/><g class=\"smithlayer\"/><g class=\"ternarylayer\"/><g class=\"geolayer\"/><g class=\"funnelarealayer\"/><g class=\"pielayer\"/><g class=\"iciclelayer\"/><g class=\"treemaplayer\"/><g class=\"sunburstlayer\"/><g class=\"glimages\"/><defs id=\"topdefs-0aad10\"><g class=\"clips\"/><clipPath id=\"legend0aad10\"><rect width=\"55\" height=\"48\" x=\"0\" y=\"0\"/></clipPath></defs><g class=\"layer-above\"><g class=\"imagelayer\"/><g class=\"shapelayer\"/></g><g class=\"infolayer\"><g class=\"legend\" pointer-events=\"all\" transform=\"translate(630.34,100)\"><rect class=\"bg\" shape-rendering=\"crispEdges\" style=\"stroke: rgb(68, 68, 68); stroke-opacity: 1; fill: rgb(255, 255, 255); fill-opacity: 1; stroke-width: 0px;\" width=\"55\" height=\"48\" x=\"0\" y=\"0\"/><g class=\"scrollbox\" transform=\"\" clip-path=\"url(#legend0aad10)\"><g class=\"groups\"><g class=\"traces\" transform=\"translate(0,14.5)\" style=\"opacity: 1;\"><text class=\"legendtext\" text-anchor=\"start\" x=\"40\" y=\"4.680000000000001\" style=\"font-family: 'Open Sans', verdana, arial, sans-serif; font-size: 12px; fill: rgb(51, 51, 51); fill-opacity: 1; white-space: pre;\">A</text><g class=\"layers\" style=\"opacity: 1;\"><g class=\"legendfill\"/><g class=\"legendlines\"/><g class=\"legendsymbols\"><g class=\"legendpoints\"><path class=\"legendfunnel\" d=\"M6,6H-6V-6H6Z\" transform=\"translate(20,0)\" style=\"stroke-width: 0px; fill: rgb(248, 118, 109); fill-opacity: 1;\"/></g></g></g><rect class=\"legendtoggle\" x=\"0\" y=\"-9.5\" width=\"50\" height=\"19\" style=\"fill: rgb(0, 0, 0); fill-opacity: 0;\"/></g><g class=\"traces\" transform=\"translate(0,33.5)\" style=\"opacity: 1;\"><text class=\"legendtext\" text-anchor=\"start\" x=\"40\" y=\"4.680000000000001\" style=\"font-family: 'Open Sans', verdana, arial, sans-serif; font-size: 12px; fill: rgb(51, 51, 51); fill-opacity: 1; white-space: pre;\">B</text><g class=\"layers\" style=\"opacity: 1;\"><g class=\"legendfill\"/><g class=\"legendlines\"/><g class=\"legendsymbols\"><g class=\"legendpoints\"><path class=\"legendfunnel\" d=\"M6,6H-6V-6H6Z\" transform=\"translate(20,0)\" style=\"stroke-width: 0px; fill: rgb(163, 165, 0); fill-opacity: 1;\"/></g></g></g><rect class=\"legendtoggle\" x=\"0\" y=\"-9.5\" width=\"50\" height=\"19\" style=\"fill: rgb(0, 0, 0); fill-opacity: 0;\"/></g></g></g><rect class=\"scrollbar\" rx=\"20\" ry=\"3\" width=\"0\" height=\"0\" style=\"fill: rgb(128, 139, 164); fill-opacity: 1;\" x=\"0\" y=\"0\"/></g><g class=\"g-gtitle\"><text class=\"gtitle\" x=\"364\" y=\"65\" text-anchor=\"middle\" dy=\"0.7em\" style=\"font-family: 'Open Sans', verdana, arial, sans-serif; font-size: 17px; fill: rgb(51, 51, 51); opacity: 1; font-weight: normal; white-space: pre;\">Количество и доля пользователей совершивших каждое действие</text></g><g class=\"g-ytitle\"/></g></svg>"
      ]
     },
     "metadata": {},
     "output_type": "display_data"
    }
   ],
   "source": [
    "fig = go.Figure(go.Funnel(\n",
    "    name='A',\n",
    "    y = info_table['event_name'],\n",
    "    x = info_table['count_a'],\n",
    "    textinfo = 'value+percent initial'))\n",
    "\n",
    "fig.add_trace(go.Funnel(\n",
    "    name='B',\n",
    "    y = info_table['event_name'],\n",
    "    x = info_table['count_b'],\n",
    "    textinfo = 'value+percent initial'))\n",
    "\n",
    "\n",
    "fig.update_layout(title={'text': \"Количество и доля пользователей совершивших каждое действие\", 'xanchor': 'center', 'y':0.87,\n",
    "        'x':0.52})\n",
    "fig.layout.template = 'ggplot2'\n",
    "fig.show(\"svg\")"
   ]
  },
  {
   "cell_type": "markdown",
   "metadata": {},
   "source": [
    "Событие product_cart очень близко по значению с purchase, надо уточнить у менеджеров особенность системы. Также можно заметить, что конверсия в покупку составляет 32% для группы A и 28% для группы B. Событий группы B меньше гораздо, при 30% меньшем количесвтве в сравнении с групой A."
   ]
  },
  {
   "cell_type": "markdown",
   "metadata": {},
   "source": [
    "### 3.2 Обладают ли выборки одинаковыми распределениями количества событий на пользователя?"
   ]
  },
  {
   "cell_type": "markdown",
   "metadata": {},
   "source": [
    "Посмотрим еще раз на информационное табло:"
   ]
  },
  {
   "cell_type": "code",
   "execution_count": 49,
   "metadata": {},
   "outputs": [
    {
     "data": {
      "text/html": [
       "<div>\n",
       "<style scoped>\n",
       "    .dataframe tbody tr th:only-of-type {\n",
       "        vertical-align: middle;\n",
       "    }\n",
       "\n",
       "    .dataframe tbody tr th {\n",
       "        vertical-align: top;\n",
       "    }\n",
       "\n",
       "    .dataframe thead th {\n",
       "        text-align: right;\n",
       "    }\n",
       "</style>\n",
       "<table border=\"1\" class=\"dataframe\">\n",
       "  <thead>\n",
       "    <tr style=\"text-align: right;\">\n",
       "      <th></th>\n",
       "      <th>event_name</th>\n",
       "      <th>count_a</th>\n",
       "      <th>ratio_a</th>\n",
       "      <th>conv_a</th>\n",
       "      <th>count_b</th>\n",
       "      <th>ratio_b</th>\n",
       "      <th>conv_b</th>\n",
       "    </tr>\n",
       "  </thead>\n",
       "  <tbody>\n",
       "    <tr>\n",
       "      <th>0</th>\n",
       "      <td>login</td>\n",
       "      <td>2747</td>\n",
       "      <td>0.41</td>\n",
       "      <td>1.00</td>\n",
       "      <td>928</td>\n",
       "      <td>0.14</td>\n",
       "      <td>1.00</td>\n",
       "    </tr>\n",
       "    <tr>\n",
       "      <th>1</th>\n",
       "      <td>product_page</td>\n",
       "      <td>1780</td>\n",
       "      <td>0.27</td>\n",
       "      <td>0.65</td>\n",
       "      <td>523</td>\n",
       "      <td>0.08</td>\n",
       "      <td>0.56</td>\n",
       "    </tr>\n",
       "    <tr>\n",
       "      <th>2</th>\n",
       "      <td>product_cart</td>\n",
       "      <td>824</td>\n",
       "      <td>0.12</td>\n",
       "      <td>0.94</td>\n",
       "      <td>255</td>\n",
       "      <td>0.04</td>\n",
       "      <td>1.00</td>\n",
       "    </tr>\n",
       "    <tr>\n",
       "      <th>3</th>\n",
       "      <td>purchase</td>\n",
       "      <td>872</td>\n",
       "      <td>0.13</td>\n",
       "      <td>0.49</td>\n",
       "      <td>256</td>\n",
       "      <td>0.04</td>\n",
       "      <td>0.49</td>\n",
       "    </tr>\n",
       "  </tbody>\n",
       "</table>\n",
       "</div>"
      ],
      "text/plain": [
       "     event_name  count_a  ratio_a  conv_a  count_b  ratio_b  conv_b\n",
       "0         login     2747     0.41    1.00      928     0.14    1.00\n",
       "1  product_page     1780     0.27    0.65      523     0.08    0.56\n",
       "2  product_cart      824     0.12    0.94      255     0.04    1.00\n",
       "3      purchase      872     0.13    0.49      256     0.04    0.49"
      ]
     },
     "execution_count": 49,
     "metadata": {},
     "output_type": "execute_result"
    }
   ],
   "source": [
    "info_table"
   ]
  },
  {
   "cell_type": "markdown",
   "metadata": {},
   "source": [
    "В группе A тех, кто успел авторизироваться 2747, в то время как в группе B - 928. Страницу с продуктов посетили в группе A 1780, в группе B -523. Корзину посетили 824 пользователя в группе A, 255 раз в группе B. Покупку совершили 872 пользователя, против 256 в группе B. Конверсии не сказать, что сильно отличаются, но в абсолютных значениях разница большая, из-за того, что группа B не успела предпринять действия. "
   ]
  },
  {
   "cell_type": "markdown",
   "metadata": {},
   "source": [
    "### 3.3 Как число событий распределено по дням?"
   ]
  },
  {
   "cell_type": "markdown",
   "metadata": {},
   "source": [
    "Создадим новый столбец с днем:"
   ]
  },
  {
   "cell_type": "code",
   "execution_count": 50,
   "metadata": {},
   "outputs": [],
   "source": [
    "NEW_merged_and_events['event_day'] = NEW_merged_and_events['event_dt'].astype('datetime64[D]')"
   ]
  },
  {
   "cell_type": "markdown",
   "metadata": {},
   "source": [
    "Создадим информационный датасет с днями и количеством событий :"
   ]
  },
  {
   "cell_type": "code",
   "execution_count": 51,
   "metadata": {},
   "outputs": [
    {
     "data": {
      "text/html": [
       "<div>\n",
       "<style scoped>\n",
       "    .dataframe tbody tr th:only-of-type {\n",
       "        vertical-align: middle;\n",
       "    }\n",
       "\n",
       "    .dataframe tbody tr th {\n",
       "        vertical-align: top;\n",
       "    }\n",
       "\n",
       "    .dataframe thead th {\n",
       "        text-align: right;\n",
       "    }\n",
       "</style>\n",
       "<table border=\"1\" class=\"dataframe\">\n",
       "  <thead>\n",
       "    <tr style=\"text-align: right;\">\n",
       "      <th></th>\n",
       "      <th>event_day</th>\n",
       "      <th>group</th>\n",
       "      <th>event_counts</th>\n",
       "    </tr>\n",
       "  </thead>\n",
       "  <tbody>\n",
       "    <tr>\n",
       "      <th>0</th>\n",
       "      <td>2020-12-07</td>\n",
       "      <td>A</td>\n",
       "      <td>331</td>\n",
       "    </tr>\n",
       "    <tr>\n",
       "      <th>1</th>\n",
       "      <td>2020-12-07</td>\n",
       "      <td>B</td>\n",
       "      <td>378</td>\n",
       "    </tr>\n",
       "    <tr>\n",
       "      <th>2</th>\n",
       "      <td>2020-12-08</td>\n",
       "      <td>A</td>\n",
       "      <td>341</td>\n",
       "    </tr>\n",
       "    <tr>\n",
       "      <th>3</th>\n",
       "      <td>2020-12-08</td>\n",
       "      <td>B</td>\n",
       "      <td>252</td>\n",
       "    </tr>\n",
       "    <tr>\n",
       "      <th>4</th>\n",
       "      <td>2020-12-09</td>\n",
       "      <td>A</td>\n",
       "      <td>385</td>\n",
       "    </tr>\n",
       "    <tr>\n",
       "      <th>5</th>\n",
       "      <td>2020-12-09</td>\n",
       "      <td>B</td>\n",
       "      <td>361</td>\n",
       "    </tr>\n",
       "    <tr>\n",
       "      <th>6</th>\n",
       "      <td>2020-12-10</td>\n",
       "      <td>A</td>\n",
       "      <td>350</td>\n",
       "    </tr>\n",
       "    <tr>\n",
       "      <th>7</th>\n",
       "      <td>2020-12-10</td>\n",
       "      <td>B</td>\n",
       "      <td>263</td>\n",
       "    </tr>\n",
       "    <tr>\n",
       "      <th>8</th>\n",
       "      <td>2020-12-11</td>\n",
       "      <td>A</td>\n",
       "      <td>374</td>\n",
       "    </tr>\n",
       "    <tr>\n",
       "      <th>9</th>\n",
       "      <td>2020-12-11</td>\n",
       "      <td>B</td>\n",
       "      <td>168</td>\n",
       "    </tr>\n",
       "    <tr>\n",
       "      <th>10</th>\n",
       "      <td>2020-12-12</td>\n",
       "      <td>A</td>\n",
       "      <td>355</td>\n",
       "    </tr>\n",
       "    <tr>\n",
       "      <th>11</th>\n",
       "      <td>2020-12-12</td>\n",
       "      <td>B</td>\n",
       "      <td>203</td>\n",
       "    </tr>\n",
       "    <tr>\n",
       "      <th>12</th>\n",
       "      <td>2020-12-13</td>\n",
       "      <td>A</td>\n",
       "      <td>328</td>\n",
       "    </tr>\n",
       "    <tr>\n",
       "      <th>13</th>\n",
       "      <td>2020-12-13</td>\n",
       "      <td>B</td>\n",
       "      <td>176</td>\n",
       "    </tr>\n",
       "    <tr>\n",
       "      <th>14</th>\n",
       "      <td>2020-12-14</td>\n",
       "      <td>A</td>\n",
       "      <td>1083</td>\n",
       "    </tr>\n",
       "    <tr>\n",
       "      <th>15</th>\n",
       "      <td>2020-12-14</td>\n",
       "      <td>B</td>\n",
       "      <td>272</td>\n",
       "    </tr>\n",
       "    <tr>\n",
       "      <th>16</th>\n",
       "      <td>2020-12-15</td>\n",
       "      <td>A</td>\n",
       "      <td>1084</td>\n",
       "    </tr>\n",
       "    <tr>\n",
       "      <th>17</th>\n",
       "      <td>2020-12-15</td>\n",
       "      <td>B</td>\n",
       "      <td>232</td>\n",
       "    </tr>\n",
       "    <tr>\n",
       "      <th>18</th>\n",
       "      <td>2020-12-16</td>\n",
       "      <td>A</td>\n",
       "      <td>1069</td>\n",
       "    </tr>\n",
       "    <tr>\n",
       "      <th>19</th>\n",
       "      <td>2020-12-16</td>\n",
       "      <td>B</td>\n",
       "      <td>385</td>\n",
       "    </tr>\n",
       "    <tr>\n",
       "      <th>20</th>\n",
       "      <td>2020-12-17</td>\n",
       "      <td>A</td>\n",
       "      <td>1252</td>\n",
       "    </tr>\n",
       "    <tr>\n",
       "      <th>21</th>\n",
       "      <td>2020-12-17</td>\n",
       "      <td>B</td>\n",
       "      <td>296</td>\n",
       "    </tr>\n",
       "    <tr>\n",
       "      <th>22</th>\n",
       "      <td>2020-12-18</td>\n",
       "      <td>A</td>\n",
       "      <td>1312</td>\n",
       "    </tr>\n",
       "    <tr>\n",
       "      <th>23</th>\n",
       "      <td>2020-12-18</td>\n",
       "      <td>B</td>\n",
       "      <td>272</td>\n",
       "    </tr>\n",
       "    <tr>\n",
       "      <th>24</th>\n",
       "      <td>2020-12-19</td>\n",
       "      <td>A</td>\n",
       "      <td>1506</td>\n",
       "    </tr>\n",
       "    <tr>\n",
       "      <th>25</th>\n",
       "      <td>2020-12-19</td>\n",
       "      <td>B</td>\n",
       "      <td>304</td>\n",
       "    </tr>\n",
       "    <tr>\n",
       "      <th>26</th>\n",
       "      <td>2020-12-20</td>\n",
       "      <td>A</td>\n",
       "      <td>1528</td>\n",
       "    </tr>\n",
       "    <tr>\n",
       "      <th>27</th>\n",
       "      <td>2020-12-20</td>\n",
       "      <td>B</td>\n",
       "      <td>320</td>\n",
       "    </tr>\n",
       "    <tr>\n",
       "      <th>28</th>\n",
       "      <td>2020-12-21</td>\n",
       "      <td>A</td>\n",
       "      <td>2011</td>\n",
       "    </tr>\n",
       "    <tr>\n",
       "      <th>29</th>\n",
       "      <td>2020-12-21</td>\n",
       "      <td>B</td>\n",
       "      <td>430</td>\n",
       "    </tr>\n",
       "    <tr>\n",
       "      <th>30</th>\n",
       "      <td>2020-12-22</td>\n",
       "      <td>A</td>\n",
       "      <td>1311</td>\n",
       "    </tr>\n",
       "    <tr>\n",
       "      <th>31</th>\n",
       "      <td>2020-12-22</td>\n",
       "      <td>B</td>\n",
       "      <td>195</td>\n",
       "    </tr>\n",
       "    <tr>\n",
       "      <th>32</th>\n",
       "      <td>2020-12-23</td>\n",
       "      <td>A</td>\n",
       "      <td>1005</td>\n",
       "    </tr>\n",
       "    <tr>\n",
       "      <th>33</th>\n",
       "      <td>2020-12-23</td>\n",
       "      <td>B</td>\n",
       "      <td>196</td>\n",
       "    </tr>\n",
       "    <tr>\n",
       "      <th>34</th>\n",
       "      <td>2020-12-24</td>\n",
       "      <td>A</td>\n",
       "      <td>888</td>\n",
       "    </tr>\n",
       "    <tr>\n",
       "      <th>35</th>\n",
       "      <td>2020-12-24</td>\n",
       "      <td>B</td>\n",
       "      <td>154</td>\n",
       "    </tr>\n",
       "    <tr>\n",
       "      <th>36</th>\n",
       "      <td>2020-12-25</td>\n",
       "      <td>A</td>\n",
       "      <td>677</td>\n",
       "    </tr>\n",
       "    <tr>\n",
       "      <th>37</th>\n",
       "      <td>2020-12-25</td>\n",
       "      <td>B</td>\n",
       "      <td>112</td>\n",
       "    </tr>\n",
       "    <tr>\n",
       "      <th>38</th>\n",
       "      <td>2020-12-26</td>\n",
       "      <td>A</td>\n",
       "      <td>608</td>\n",
       "    </tr>\n",
       "    <tr>\n",
       "      <th>39</th>\n",
       "      <td>2020-12-26</td>\n",
       "      <td>B</td>\n",
       "      <td>125</td>\n",
       "    </tr>\n",
       "    <tr>\n",
       "      <th>40</th>\n",
       "      <td>2020-12-27</td>\n",
       "      <td>A</td>\n",
       "      <td>572</td>\n",
       "    </tr>\n",
       "    <tr>\n",
       "      <th>41</th>\n",
       "      <td>2020-12-27</td>\n",
       "      <td>B</td>\n",
       "      <td>119</td>\n",
       "    </tr>\n",
       "    <tr>\n",
       "      <th>42</th>\n",
       "      <td>2020-12-28</td>\n",
       "      <td>A</td>\n",
       "      <td>503</td>\n",
       "    </tr>\n",
       "    <tr>\n",
       "      <th>43</th>\n",
       "      <td>2020-12-28</td>\n",
       "      <td>B</td>\n",
       "      <td>100</td>\n",
       "    </tr>\n",
       "    <tr>\n",
       "      <th>44</th>\n",
       "      <td>2020-12-29</td>\n",
       "      <td>A</td>\n",
       "      <td>431</td>\n",
       "    </tr>\n",
       "    <tr>\n",
       "      <th>45</th>\n",
       "      <td>2020-12-29</td>\n",
       "      <td>B</td>\n",
       "      <td>77</td>\n",
       "    </tr>\n",
       "    <tr>\n",
       "      <th>46</th>\n",
       "      <td>2020-12-30</td>\n",
       "      <td>B</td>\n",
       "      <td>4</td>\n",
       "    </tr>\n",
       "  </tbody>\n",
       "</table>\n",
       "</div>"
      ],
      "text/plain": [
       "    event_day group  event_counts\n",
       "0  2020-12-07     A           331\n",
       "1  2020-12-07     B           378\n",
       "2  2020-12-08     A           341\n",
       "3  2020-12-08     B           252\n",
       "4  2020-12-09     A           385\n",
       "5  2020-12-09     B           361\n",
       "6  2020-12-10     A           350\n",
       "7  2020-12-10     B           263\n",
       "8  2020-12-11     A           374\n",
       "9  2020-12-11     B           168\n",
       "10 2020-12-12     A           355\n",
       "11 2020-12-12     B           203\n",
       "12 2020-12-13     A           328\n",
       "13 2020-12-13     B           176\n",
       "14 2020-12-14     A          1083\n",
       "15 2020-12-14     B           272\n",
       "16 2020-12-15     A          1084\n",
       "17 2020-12-15     B           232\n",
       "18 2020-12-16     A          1069\n",
       "19 2020-12-16     B           385\n",
       "20 2020-12-17     A          1252\n",
       "21 2020-12-17     B           296\n",
       "22 2020-12-18     A          1312\n",
       "23 2020-12-18     B           272\n",
       "24 2020-12-19     A          1506\n",
       "25 2020-12-19     B           304\n",
       "26 2020-12-20     A          1528\n",
       "27 2020-12-20     B           320\n",
       "28 2020-12-21     A          2011\n",
       "29 2020-12-21     B           430\n",
       "30 2020-12-22     A          1311\n",
       "31 2020-12-22     B           195\n",
       "32 2020-12-23     A          1005\n",
       "33 2020-12-23     B           196\n",
       "34 2020-12-24     A           888\n",
       "35 2020-12-24     B           154\n",
       "36 2020-12-25     A           677\n",
       "37 2020-12-25     B           112\n",
       "38 2020-12-26     A           608\n",
       "39 2020-12-26     B           125\n",
       "40 2020-12-27     A           572\n",
       "41 2020-12-27     B           119\n",
       "42 2020-12-28     A           503\n",
       "43 2020-12-28     B           100\n",
       "44 2020-12-29     A           431\n",
       "45 2020-12-29     B            77\n",
       "46 2020-12-30     B             4"
      ]
     },
     "execution_count": 51,
     "metadata": {},
     "output_type": "execute_result"
    }
   ],
   "source": [
    "NEW_event_day = NEW_merged_and_events.groupby(['event_day','group']).agg(event_counts = ('event_name', 'count')).reset_index()\n",
    "NEW_event_day"
   ]
  },
  {
   "cell_type": "markdown",
   "metadata": {},
   "source": [
    "Посмотрим на распределение визуально:"
   ]
  },
  {
   "cell_type": "code",
   "execution_count": 62,
   "metadata": {},
   "outputs": [
    {
     "data": {
      "image/svg+xml": [
       "<svg class=\"main-svg\" xmlns=\"http://www.w3.org/2000/svg\" xmlns:xlink=\"http://www.w3.org/1999/xlink\" width=\"700\" height=\"500\" style=\"\" viewBox=\"0 0 700 500\"><rect x=\"0\" y=\"0\" width=\"700\" height=\"500\" style=\"fill: rgb(255, 255, 255); fill-opacity: 1;\"/><defs id=\"defs-21bf58\"><g class=\"clips\"><clipPath id=\"clip21bf58xyplot\" class=\"plotclip\"><rect width=\"540\" height=\"360\"/></clipPath><clipPath class=\"axesclip\" id=\"clip21bf58x\"><rect x=\"80\" y=\"0\" width=\"540\" height=\"500\"/></clipPath><clipPath class=\"axesclip\" id=\"clip21bf58y\"><rect x=\"0\" y=\"60\" width=\"700\" height=\"360\"/></clipPath><clipPath class=\"axesclip\" id=\"clip21bf58xy\"><rect x=\"80\" y=\"60\" width=\"540\" height=\"360\"/></clipPath></g><g class=\"gradients\"/><g class=\"patterns\"/></defs><g class=\"bglayer\"><rect class=\"bg\" x=\"80\" y=\"60\" width=\"540\" height=\"360\" style=\"fill: rgb(237, 237, 237); fill-opacity: 1; stroke-width: 0;\"/></g><g class=\"layer-below\"><g class=\"imagelayer\"/><g class=\"shapelayer\"/></g><g class=\"cartesianlayer\"><g class=\"subplot xy\"><g class=\"layer-subplot\"><g class=\"shapelayer\"/><g class=\"imagelayer\"/></g><g class=\"gridlayer\"><g class=\"x\"><path class=\"xgrid crisp\" transform=\"translate(126.96000000000001,0)\" d=\"M0,60v360\" style=\"stroke: rgb(255, 255, 255); stroke-opacity: 1; stroke-width: 1px;\"/><path class=\"xgrid crisp\" transform=\"translate(197.39,0)\" d=\"M0,60v360\" style=\"stroke: rgb(255, 255, 255); stroke-opacity: 1; stroke-width: 1px;\"/><path class=\"xgrid crisp\" transform=\"translate(267.83000000000004,0)\" d=\"M0,60v360\" style=\"stroke: rgb(255, 255, 255); stroke-opacity: 1; stroke-width: 1px;\"/><path class=\"xgrid crisp\" transform=\"translate(338.26,0)\" d=\"M0,60v360\" style=\"stroke: rgb(255, 255, 255); stroke-opacity: 1; stroke-width: 1px;\"/><path class=\"xgrid crisp\" transform=\"translate(408.7,0)\" d=\"M0,60v360\" style=\"stroke: rgb(255, 255, 255); stroke-opacity: 1; stroke-width: 1px;\"/><path class=\"xgrid crisp\" transform=\"translate(479.13,0)\" d=\"M0,60v360\" style=\"stroke: rgb(255, 255, 255); stroke-opacity: 1; stroke-width: 1px;\"/><path class=\"xgrid crisp\" transform=\"translate(549.5699999999999,0)\" d=\"M0,60v360\" style=\"stroke: rgb(255, 255, 255); stroke-opacity: 1; stroke-width: 1px;\"/></g><g class=\"y\"><path class=\"ygrid crisp\" transform=\"translate(0,321.93)\" d=\"M80,0h540\" style=\"stroke: rgb(255, 255, 255); stroke-opacity: 1; stroke-width: 1px;\"/><path class=\"ygrid crisp\" transform=\"translate(0,241.21)\" d=\"M80,0h540\" style=\"stroke: rgb(255, 255, 255); stroke-opacity: 1; stroke-width: 1px;\"/><path class=\"ygrid crisp\" transform=\"translate(0,160.49)\" d=\"M80,0h540\" style=\"stroke: rgb(255, 255, 255); stroke-opacity: 1; stroke-width: 1px;\"/><path class=\"ygrid crisp\" transform=\"translate(0,79.78)\" d=\"M80,0h540\" style=\"stroke: rgb(255, 255, 255); stroke-opacity: 1; stroke-width: 1px;\"/></g></g><g class=\"zerolinelayer\"><path class=\"yzl zl crisp\" transform=\"translate(0,402.65)\" d=\"M80,0h540\" style=\"stroke: rgb(255, 255, 255); stroke-opacity: 1; stroke-width: 1px;\"/></g><path class=\"xlines-below\"/><path class=\"ylines-below\"/><g class=\"overlines-below\"/><g class=\"xaxislayer-below\"/><g class=\"yaxislayer-below\"/><g class=\"overaxes-below\"/><g class=\"plot\" transform=\"translate(80,60)\" clip-path=\"url(#clip21bf58xyplot)\"><g class=\"scatterlayer mlayer\"><g class=\"trace scatter trace64fab7\" style=\"stroke-miterlimit: 2; opacity: 1;\"><g class=\"fills\"/><g class=\"errorbars\"/><g class=\"lines\"><path class=\"js-line\" d=\"M0,289.21L23.48,287.6L46.96,280.49L70.43,286.14L93.91,282.27L117.39,285.34L140.87,289.7L164.35,167.81L187.83,167.65L211.3,170.07L234.78,140.53L258.26,130.84L281.74,99.52L305.22,95.97L328.7,18L352.17,131L375.65,180.4L399.13,199.29L422.61,233.35L446.09,244.49L469.57,250.3L516.52,273.07\" style=\"vector-effect: non-scaling-stroke; fill: none; stroke: rgb(102, 197, 204); stroke-opacity: 1; stroke-width: 2px; opacity: 1;\"/></g><g class=\"points\"/><g class=\"text\"/></g><g class=\"trace scatter trace404855\" style=\"stroke-miterlimit: 2; opacity: 1;\"><g class=\"fills\"/><g class=\"errorbars\"/><g class=\"lines\"><path class=\"js-line\" d=\"M0,281.62L23.48,301.96L46.96,284.37L93.91,315.52L117.39,309.87L140.87,314.23L164.35,298.74L187.83,305.19L211.3,280.49L234.78,294.86L258.26,298.74L281.74,293.57L305.22,290.99L328.7,273.23L352.17,311.17L375.65,311L399.13,317.78L422.61,324.57L446.09,322.47L469.57,323.43L493.04,326.5L516.52,330.22L540,342\" style=\"vector-effect: non-scaling-stroke; fill: none; stroke: rgb(246, 207, 113); stroke-opacity: 1; stroke-width: 2px; opacity: 1;\"/></g><g class=\"points\"/><g class=\"text\"/></g></g></g><g class=\"overplot\"/><path class=\"xlines-above crisp\" d=\"\" style=\"fill: none; stroke-width: 1px; stroke: rgb(0, 0, 0); stroke-opacity: 0;\"/><path class=\"ylines-above crisp\" d=\"\" style=\"fill: none; stroke-width: 1px; stroke: rgb(0, 0, 0); stroke-opacity: 0;\"/><g class=\"overlines-above\"/><g class=\"xaxislayer-above\"><path class=\"xtick ticks crisp\" d=\"M0,421v5\" transform=\"translate(126.96000000000001,0)\" style=\"stroke: rgb(51, 51, 51); stroke-opacity: 1; stroke-width: 1px;\"/><path class=\"xtick ticks crisp\" d=\"M0,421v5\" transform=\"translate(197.39,0)\" style=\"stroke: rgb(51, 51, 51); stroke-opacity: 1; stroke-width: 1px;\"/><path class=\"xtick ticks crisp\" d=\"M0,421v5\" transform=\"translate(267.83000000000004,0)\" style=\"stroke: rgb(51, 51, 51); stroke-opacity: 1; stroke-width: 1px;\"/><path class=\"xtick ticks crisp\" d=\"M0,421v5\" transform=\"translate(338.26,0)\" style=\"stroke: rgb(51, 51, 51); stroke-opacity: 1; stroke-width: 1px;\"/><path class=\"xtick ticks crisp\" d=\"M0,421v5\" transform=\"translate(408.7,0)\" style=\"stroke: rgb(51, 51, 51); stroke-opacity: 1; stroke-width: 1px;\"/><path class=\"xtick ticks crisp\" d=\"M0,421v5\" transform=\"translate(479.13,0)\" style=\"stroke: rgb(51, 51, 51); stroke-opacity: 1; stroke-width: 1px;\"/><path class=\"xtick ticks crisp\" d=\"M0,421v5\" transform=\"translate(549.5699999999999,0)\" style=\"stroke: rgb(51, 51, 51); stroke-opacity: 1; stroke-width: 1px;\"/><path class=\"xtick ticks crisp\" d=\"M0,421v5\" transform=\"translate(620,0)\" style=\"stroke: rgb(51, 51, 51); stroke-opacity: 1; stroke-width: 1px;\"/><g class=\"xtick\"><text text-anchor=\"middle\" x=\"0\" y=\"440.4\" transform=\"translate(126.96000000000001,0)\" style=\"font-family: 'Open Sans', verdana, arial, sans-serif; font-size: 12px; fill: rgb(51, 51, 51); fill-opacity: 1; white-space: pre; opacity: 1;\"><tspan class=\"line\" dy=\"0em\" x=\"0\" y=\"440.4\">Dec 9</tspan><tspan class=\"line\" dy=\"1.3em\" x=\"0\" y=\"440.4\">2020</tspan></text></g><g class=\"xtick\"><text text-anchor=\"middle\" x=\"0\" y=\"440.4\" style=\"font-family: 'Open Sans', verdana, arial, sans-serif; font-size: 12px; fill: rgb(51, 51, 51); fill-opacity: 1; white-space: pre; opacity: 1;\" transform=\"translate(197.39,0)\">Dec 12</text></g><g class=\"xtick\"><text text-anchor=\"middle\" x=\"0\" y=\"440.4\" style=\"font-family: 'Open Sans', verdana, arial, sans-serif; font-size: 12px; fill: rgb(51, 51, 51); fill-opacity: 1; white-space: pre; opacity: 1;\" transform=\"translate(267.83000000000004,0)\">Dec 15</text></g><g class=\"xtick\"><text text-anchor=\"middle\" x=\"0\" y=\"440.4\" style=\"font-family: 'Open Sans', verdana, arial, sans-serif; font-size: 12px; fill: rgb(51, 51, 51); fill-opacity: 1; white-space: pre; opacity: 1;\" transform=\"translate(338.26,0)\">Dec 18</text></g><g class=\"xtick\"><text text-anchor=\"middle\" x=\"0\" y=\"440.4\" style=\"font-family: 'Open Sans', verdana, arial, sans-serif; font-size: 12px; fill: rgb(51, 51, 51); fill-opacity: 1; white-space: pre; opacity: 1;\" transform=\"translate(408.7,0)\">Dec 21</text></g><g class=\"xtick\"><text text-anchor=\"middle\" x=\"0\" y=\"440.4\" style=\"font-family: 'Open Sans', verdana, arial, sans-serif; font-size: 12px; fill: rgb(51, 51, 51); fill-opacity: 1; white-space: pre; opacity: 1;\" transform=\"translate(479.13,0)\">Dec 24</text></g><g class=\"xtick\"><text text-anchor=\"middle\" x=\"0\" y=\"440.4\" style=\"font-family: 'Open Sans', verdana, arial, sans-serif; font-size: 12px; fill: rgb(51, 51, 51); fill-opacity: 1; white-space: pre; opacity: 1;\" transform=\"translate(549.5699999999999,0)\">Dec 27</text></g><g class=\"xtick\"><text text-anchor=\"middle\" x=\"0\" y=\"440.4\" style=\"font-family: 'Open Sans', verdana, arial, sans-serif; font-size: 12px; fill: rgb(51, 51, 51); fill-opacity: 1; white-space: pre; opacity: 1;\" transform=\"translate(620,0)\">Dec 30</text></g></g><g class=\"yaxislayer-above\"><path class=\"ytick ticks crisp\" d=\"M79,0h-5\" transform=\"translate(0,402.65)\" style=\"stroke: rgb(51, 51, 51); stroke-opacity: 1; stroke-width: 1px;\"/><path class=\"ytick ticks crisp\" d=\"M79,0h-5\" transform=\"translate(0,321.93)\" style=\"stroke: rgb(51, 51, 51); stroke-opacity: 1; stroke-width: 1px;\"/><path class=\"ytick ticks crisp\" d=\"M79,0h-5\" transform=\"translate(0,241.21)\" style=\"stroke: rgb(51, 51, 51); stroke-opacity: 1; stroke-width: 1px;\"/><path class=\"ytick ticks crisp\" d=\"M79,0h-5\" transform=\"translate(0,160.49)\" style=\"stroke: rgb(51, 51, 51); stroke-opacity: 1; stroke-width: 1px;\"/><path class=\"ytick ticks crisp\" d=\"M79,0h-5\" transform=\"translate(0,79.78)\" style=\"stroke: rgb(51, 51, 51); stroke-opacity: 1; stroke-width: 1px;\"/><g class=\"ytick\"><text text-anchor=\"end\" x=\"71.6\" y=\"4.199999999999999\" transform=\"translate(0,402.65)\" style=\"font-family: 'Open Sans', verdana, arial, sans-serif; font-size: 12px; fill: rgb(51, 51, 51); fill-opacity: 1; white-space: pre; opacity: 1;\">0</text></g><g class=\"ytick\"><text text-anchor=\"end\" x=\"71.6\" y=\"4.199999999999999\" style=\"font-family: 'Open Sans', verdana, arial, sans-serif; font-size: 12px; fill: rgb(51, 51, 51); fill-opacity: 1; white-space: pre; opacity: 1;\" transform=\"translate(0,321.93)\">500</text></g><g class=\"ytick\"><text text-anchor=\"end\" x=\"71.6\" y=\"4.199999999999999\" style=\"font-family: 'Open Sans', verdana, arial, sans-serif; font-size: 12px; fill: rgb(51, 51, 51); fill-opacity: 1; white-space: pre; opacity: 1;\" transform=\"translate(0,241.21)\">1000</text></g><g class=\"ytick\"><text text-anchor=\"end\" x=\"71.6\" y=\"4.199999999999999\" style=\"font-family: 'Open Sans', verdana, arial, sans-serif; font-size: 12px; fill: rgb(51, 51, 51); fill-opacity: 1; white-space: pre; opacity: 1;\" transform=\"translate(0,160.49)\">1500</text></g><g class=\"ytick\"><text text-anchor=\"end\" x=\"71.6\" y=\"4.199999999999999\" style=\"font-family: 'Open Sans', verdana, arial, sans-serif; font-size: 12px; fill: rgb(51, 51, 51); fill-opacity: 1; white-space: pre; opacity: 1;\" transform=\"translate(0,79.78)\">2000</text></g></g><g class=\"overaxes-above\"/></g></g><g class=\"polarlayer\"/><g class=\"smithlayer\"/><g class=\"ternarylayer\"/><g class=\"geolayer\"/><g class=\"funnelarealayer\"/><g class=\"pielayer\"/><g class=\"iciclelayer\"/><g class=\"treemaplayer\"/><g class=\"sunburstlayer\"/><g class=\"glimages\"/><defs id=\"topdefs-21bf58\"><g class=\"clips\"/><clipPath id=\"legend21bf58\"><rect width=\"55\" height=\"67\" x=\"0\" y=\"0\"/></clipPath></defs><g class=\"layer-above\"><g class=\"imagelayer\"/><g class=\"shapelayer\"/></g><g class=\"infolayer\"><g class=\"legend\" pointer-events=\"all\" transform=\"translate(630.8,60)\"><rect class=\"bg\" shape-rendering=\"crispEdges\" width=\"55\" height=\"67\" x=\"0\" y=\"0\" style=\"stroke: rgb(68, 68, 68); stroke-opacity: 1; fill: rgb(255, 255, 255); fill-opacity: 1; stroke-width: 0px;\"/><g class=\"scrollbox\" transform=\"\" clip-path=\"url(#legend21bf58)\"><text class=\"legendtitletext\" text-anchor=\"start\" x=\"2\" y=\"18.2\" style=\"font-family: 'Open Sans', verdana, arial, sans-serif; font-size: 14px; fill: rgb(51, 51, 51); fill-opacity: 1; white-space: pre;\">group</text><g class=\"groups\" transform=\"\"><g class=\"traces\" transform=\"translate(0,32.7)\" style=\"opacity: 1;\"><text class=\"legendtext\" text-anchor=\"start\" x=\"40\" y=\"4.680000000000001\" style=\"font-family: 'Open Sans', verdana, arial, sans-serif; font-size: 12px; fill: rgb(51, 51, 51); fill-opacity: 1; white-space: pre;\">A</text><g class=\"layers\" style=\"opacity: 1;\"><g class=\"legendfill\"/><g class=\"legendlines\"><path class=\"js-line\" d=\"M5,0h30\" style=\"fill: none; stroke: rgb(102, 197, 204); stroke-opacity: 1; stroke-width: 2px;\"/></g><g class=\"legendsymbols\"><g class=\"legendpoints\"/></g></g><rect class=\"legendtoggle\" x=\"0\" y=\"-9.5\" width=\"50\" height=\"19\" style=\"fill: rgb(0, 0, 0); fill-opacity: 0;\"/></g></g><g class=\"groups\" transform=\"\"><g class=\"traces\" transform=\"translate(0,51.7)\" style=\"opacity: 1;\"><text class=\"legendtext\" text-anchor=\"start\" x=\"40\" y=\"4.680000000000001\" style=\"font-family: 'Open Sans', verdana, arial, sans-serif; font-size: 12px; fill: rgb(51, 51, 51); fill-opacity: 1; white-space: pre;\">B</text><g class=\"layers\" style=\"opacity: 1;\"><g class=\"legendfill\"/><g class=\"legendlines\"><path class=\"js-line\" d=\"M5,0h30\" style=\"fill: none; stroke: rgb(246, 207, 113); stroke-opacity: 1; stroke-width: 2px;\"/></g><g class=\"legendsymbols\"><g class=\"legendpoints\"/></g></g><rect class=\"legendtoggle\" x=\"0\" y=\"-9.5\" width=\"50\" height=\"19\" style=\"fill: rgb(0, 0, 0); fill-opacity: 0;\"/></g></g></g><rect class=\"scrollbar\" rx=\"20\" ry=\"3\" width=\"0\" height=\"0\" x=\"0\" y=\"0\" style=\"fill: rgb(128, 139, 164); fill-opacity: 1;\"/></g><g class=\"g-gtitle\"><text class=\"gtitle\" x=\"329\" y=\"25\" text-anchor=\"middle\" dy=\"0.7em\" style=\"font-family: 'Open Sans', verdana, arial, sans-serif; font-size: 17px; fill: rgb(51, 51, 51); opacity: 1; font-weight: normal; white-space: pre;\">Распределение по дням</text></g><g class=\"g-xtitle\"><text class=\"xtitle\" x=\"350\" y=\"483.8\" text-anchor=\"middle\" style=\"font-family: 'Open Sans', verdana, arial, sans-serif; font-size: 14px; fill: rgb(51, 51, 51); opacity: 1; font-weight: normal; white-space: pre;\">Дата</text></g><g class=\"g-ytitle\"><text class=\"ytitle\" transform=\"rotate(-90,16.278125000000003,240)\" x=\"16.278125000000003\" y=\"240\" text-anchor=\"middle\" style=\"font-family: 'Open Sans', verdana, arial, sans-serif; font-size: 14px; fill: rgb(51, 51, 51); opacity: 1; font-weight: normal; white-space: pre;\">Всего</text></g></g></svg>"
      ]
     },
     "metadata": {},
     "output_type": "display_data"
    }
   ],
   "source": [
    "fig = px.line(NEW_event_day, x='event_day',  y ='event_counts', color = 'group', color_discrete_sequence= px.colors.qualitative.Pastel)\n",
    "fig.update_layout(title={'text': 'Распределение по дням', 'xanchor': 'center', 'y':0.95,\n",
    "        'x':0.47}, xaxis_title='Дата', yaxis_title='Всего'\n",
    "                   )\n",
    "fig.layout.template = 'ggplot2'\n",
    "fig.show(\"svg\")"
   ]
  },
  {
   "cell_type": "markdown",
   "metadata": {},
   "source": [
    "Ожидаемо группа A практически везде показывает лучшие результаты , чем группа B. Лишь 07-12-2020 группа B показывает результат лучше. По группе А виден резкий рост 14 числа, возможно, в данный день произошел сбой, который и влияет на результаты анализа.."
   ]
  },
  {
   "cell_type": "markdown",
   "metadata": {},
   "source": [
    "### 3.4 Есть ли в данных ещё какие-то особенности, которые нужно учесть, прежде чем приступать к A/B-тестированию?"
   ]
  },
  {
   "cell_type": "markdown",
   "metadata": {},
   "source": [
    "Вспомним еще раз техническое задание:\n",
    "* Название теста: recommender_system_test;\n",
    "* Группы: А (контрольная), B (новая платёжная воронка);\n",
    "* Дата запуска: 2020-12-07;\n",
    "* Дата остановки набора новых пользователей: 2020-12-21;\n",
    "* Дата остановки: 2021-01-04;\n",
    "* Аудитория: 15% новых пользователей из региона EU;\n",
    "* Назначение теста: тестирование изменений, связанных с внедрением улучшенной рекомендательной системы;\n",
    "* Ожидаемое количество участников теста: 6000.\n",
    "* Ожидаемый эффект: за 14 дней с момента регистрации в системе пользователи покажут улучшение каждой метрики не менее, чем на 10%:\n",
    "* Конверсии в просмотр карточек товаров — событие product_page\n",
    "* Просмотры корзины — product_cart\n",
    "* Покупки — purchase."
   ]
  },
  {
   "cell_type": "markdown",
   "metadata": {},
   "source": [
    "Название теста было выбрано на этапе предобработки данных. Дату запуска учли, дату остановки учли, дату остановки теста учли. Проверим состоит ли аудитория из 15% новых пользоваталей из Региона EU:"
   ]
  },
  {
   "cell_type": "code",
   "execution_count": 53,
   "metadata": {},
   "outputs": [
    {
     "data": {
      "text/plain": [
       "region\n",
       "APAC           72\n",
       "CIS            55\n",
       "EU           6351\n",
       "N.America     223\n",
       "Name: user_id, dtype: int64"
      ]
     },
     "execution_count": 53,
     "metadata": {},
     "output_type": "execute_result"
    }
   ],
   "source": [
    "NEW_merged_and_events.groupby('region')['user_id'].nunique()"
   ]
  },
  {
   "cell_type": "code",
   "execution_count": 54,
   "metadata": {},
   "outputs": [
    {
     "data": {
      "text/plain": [
       "APAC         2.28\n",
       "CIS          1.74\n",
       "EU          13.73\n",
       "N.America    2.44\n",
       "dtype: float64"
      ]
     },
     "execution_count": 54,
     "metadata": {},
     "output_type": "execute_result"
    }
   ],
   "source": [
    "NEW_merged_and_events.groupby('region')['user_id'].nunique() / new_users['region'].value_counts() * 100 "
   ]
  },
  {
   "cell_type": "markdown",
   "metadata": {},
   "source": [
    "В итоге выходит, что 13.73%  пользователей из Евпроейского региона собраны, из 15 % ожидаемых. "
   ]
  },
  {
   "cell_type": "markdown",
   "metadata": {},
   "source": [
    "Проверим насколько получаемая разница статистически значима."
   ]
  },
  {
   "cell_type": "code",
   "execution_count": 55,
   "metadata": {},
   "outputs": [
    {
     "name": "stdout",
     "output_type": "stream",
     "text": [
      "[1.66777176e-15]\n"
     ]
    }
   ],
   "source": [
    "value = .15\n",
    "count = np.array([6351])\n",
    "nobs = np.array([46270])\n",
    "stat, pval = proportions_ztest(count, nobs, value=value)\n",
    "print(pval)\n"
   ]
  },
  {
   "cell_type": "markdown",
   "metadata": {},
   "source": [
    "Таким образом статистической разницы между выборками нет."
   ]
  },
  {
   "cell_type": "markdown",
   "metadata": {},
   "source": [
    "Также посмотрим количество уникальных пользователей в группах:"
   ]
  },
  {
   "cell_type": "code",
   "execution_count": 56,
   "metadata": {},
   "outputs": [
    {
     "data": {
      "text/plain": [
       "6701"
      ]
     },
     "execution_count": 56,
     "metadata": {},
     "output_type": "execute_result"
    }
   ],
   "source": [
    "NEW_merged_and_events.groupby('group')['user_id'].nunique().sum()"
   ]
  },
  {
   "cell_type": "markdown",
   "metadata": {},
   "source": [
    "Таким образом план 6000 выполнен. "
   ]
  },
  {
   "cell_type": "markdown",
   "metadata": {},
   "source": [
    "### 3.5 Вывод"
   ]
  },
  {
   "cell_type": "markdown",
   "metadata": {},
   "source": [
    "Проделав исследовательский анализ, еще больше убедились что данные собраны некачественно. Есть множество спорных моментов из-за которыех лучше остановить тест и пересобрать данные заново:\n",
    "* Нет планируемой аудитории новых пользователей из Европейского региона;\n",
    "* Лишь 3233 человека из 6000 ожидаемых;\n",
    "* Прежде были найдены пользователи, участвующие в обеих группах, от которых позже избавились;\n",
    "* Группа A в 3 раза больше группы B;\n",
    "* Нет двух контрольных групп, для A/A теста, который желательно бы провести."
   ]
  },
  {
   "cell_type": "markdown",
   "metadata": {},
   "source": [
    "## Этап 4. Оценка результатов A/B тестирования"
   ]
  },
  {
   "cell_type": "markdown",
   "metadata": {},
   "source": [
    "### 4.1 Результаты A/B тестирования"
   ]
  },
  {
   "cell_type": "markdown",
   "metadata": {},
   "source": [
    "Вспомним информационную таблицу, которую создали при создании воронки:"
   ]
  },
  {
   "cell_type": "code",
   "execution_count": 57,
   "metadata": {},
   "outputs": [
    {
     "data": {
      "text/html": [
       "<div>\n",
       "<style scoped>\n",
       "    .dataframe tbody tr th:only-of-type {\n",
       "        vertical-align: middle;\n",
       "    }\n",
       "\n",
       "    .dataframe tbody tr th {\n",
       "        vertical-align: top;\n",
       "    }\n",
       "\n",
       "    .dataframe thead th {\n",
       "        text-align: right;\n",
       "    }\n",
       "</style>\n",
       "<table border=\"1\" class=\"dataframe\">\n",
       "  <thead>\n",
       "    <tr style=\"text-align: right;\">\n",
       "      <th></th>\n",
       "      <th>event_name</th>\n",
       "      <th>count_a</th>\n",
       "      <th>ratio_a</th>\n",
       "      <th>conv_a</th>\n",
       "      <th>count_b</th>\n",
       "      <th>ratio_b</th>\n",
       "      <th>conv_b</th>\n",
       "    </tr>\n",
       "  </thead>\n",
       "  <tbody>\n",
       "    <tr>\n",
       "      <th>0</th>\n",
       "      <td>login</td>\n",
       "      <td>2747</td>\n",
       "      <td>0.41</td>\n",
       "      <td>1.00</td>\n",
       "      <td>928</td>\n",
       "      <td>0.14</td>\n",
       "      <td>1.00</td>\n",
       "    </tr>\n",
       "    <tr>\n",
       "      <th>1</th>\n",
       "      <td>product_page</td>\n",
       "      <td>1780</td>\n",
       "      <td>0.27</td>\n",
       "      <td>0.65</td>\n",
       "      <td>523</td>\n",
       "      <td>0.08</td>\n",
       "      <td>0.56</td>\n",
       "    </tr>\n",
       "    <tr>\n",
       "      <th>2</th>\n",
       "      <td>product_cart</td>\n",
       "      <td>824</td>\n",
       "      <td>0.12</td>\n",
       "      <td>0.94</td>\n",
       "      <td>255</td>\n",
       "      <td>0.04</td>\n",
       "      <td>1.00</td>\n",
       "    </tr>\n",
       "    <tr>\n",
       "      <th>3</th>\n",
       "      <td>purchase</td>\n",
       "      <td>872</td>\n",
       "      <td>0.13</td>\n",
       "      <td>0.49</td>\n",
       "      <td>256</td>\n",
       "      <td>0.04</td>\n",
       "      <td>0.49</td>\n",
       "    </tr>\n",
       "  </tbody>\n",
       "</table>\n",
       "</div>"
      ],
      "text/plain": [
       "     event_name  count_a  ratio_a  conv_a  count_b  ratio_b  conv_b\n",
       "0         login     2747     0.41    1.00      928     0.14    1.00\n",
       "1  product_page     1780     0.27    0.65      523     0.08    0.56\n",
       "2  product_cart      824     0.12    0.94      255     0.04    1.00\n",
       "3      purchase      872     0.13    0.49      256     0.04    0.49"
      ]
     },
     "execution_count": 57,
     "metadata": {},
     "output_type": "execute_result"
    }
   ],
   "source": [
    "info_table"
   ]
  },
  {
   "cell_type": "markdown",
   "metadata": {},
   "source": [
    "Посмотрим насколько конверсия в группе B отличается от конверсии группы A:"
   ]
  },
  {
   "cell_type": "code",
   "execution_count": 58,
   "metadata": {},
   "outputs": [
    {
     "data": {
      "text/html": [
       "<div>\n",
       "<style scoped>\n",
       "    .dataframe tbody tr th:only-of-type {\n",
       "        vertical-align: middle;\n",
       "    }\n",
       "\n",
       "    .dataframe tbody tr th {\n",
       "        vertical-align: top;\n",
       "    }\n",
       "\n",
       "    .dataframe thead th {\n",
       "        text-align: right;\n",
       "    }\n",
       "</style>\n",
       "<table border=\"1\" class=\"dataframe\">\n",
       "  <thead>\n",
       "    <tr style=\"text-align: right;\">\n",
       "      <th></th>\n",
       "      <th>event_name</th>\n",
       "      <th>count_a</th>\n",
       "      <th>ratio_a</th>\n",
       "      <th>conv_a</th>\n",
       "      <th>count_b</th>\n",
       "      <th>ratio_b</th>\n",
       "      <th>conv_b</th>\n",
       "      <th>delta</th>\n",
       "    </tr>\n",
       "  </thead>\n",
       "  <tbody>\n",
       "    <tr>\n",
       "      <th>0</th>\n",
       "      <td>login</td>\n",
       "      <td>2747</td>\n",
       "      <td>0.41</td>\n",
       "      <td>1.00</td>\n",
       "      <td>928</td>\n",
       "      <td>0.14</td>\n",
       "      <td>1.00</td>\n",
       "      <td>0.00</td>\n",
       "    </tr>\n",
       "    <tr>\n",
       "      <th>1</th>\n",
       "      <td>product_page</td>\n",
       "      <td>1780</td>\n",
       "      <td>0.27</td>\n",
       "      <td>0.65</td>\n",
       "      <td>523</td>\n",
       "      <td>0.08</td>\n",
       "      <td>0.56</td>\n",
       "      <td>-13.03</td>\n",
       "    </tr>\n",
       "    <tr>\n",
       "      <th>2</th>\n",
       "      <td>product_cart</td>\n",
       "      <td>824</td>\n",
       "      <td>0.12</td>\n",
       "      <td>0.94</td>\n",
       "      <td>255</td>\n",
       "      <td>0.04</td>\n",
       "      <td>1.00</td>\n",
       "      <td>-0.08</td>\n",
       "    </tr>\n",
       "    <tr>\n",
       "      <th>3</th>\n",
       "      <td>purchase</td>\n",
       "      <td>872</td>\n",
       "      <td>0.13</td>\n",
       "      <td>0.49</td>\n",
       "      <td>256</td>\n",
       "      <td>0.04</td>\n",
       "      <td>0.49</td>\n",
       "      <td>5.41</td>\n",
       "    </tr>\n",
       "  </tbody>\n",
       "</table>\n",
       "</div>"
      ],
      "text/plain": [
       "     event_name  count_a  ratio_a  conv_a  count_b  ratio_b  conv_b  delta\n",
       "0         login     2747     0.41    1.00      928     0.14    1.00   0.00\n",
       "1  product_page     1780     0.27    0.65      523     0.08    0.56 -13.03\n",
       "2  product_cart      824     0.12    0.94      255     0.04    1.00  -0.08\n",
       "3      purchase      872     0.13    0.49      256     0.04    0.49   5.41"
      ]
     },
     "execution_count": 58,
     "metadata": {},
     "output_type": "execute_result"
    }
   ],
   "source": [
    "info_table['delta'] = table_b['conv'] /  table_a['conv'] * 100 - 100\n",
    "info_table"
   ]
  },
  {
   "cell_type": "markdown",
   "metadata": {},
   "source": [
    "Таким образом по продуктовой страницу разница в конверсиях - 13%, в корзине - 0.08%, в покупках + 5.4%. Условиях тех задания не достигнуто. Улучшений метрик минимум на 10% нет. "
   ]
  },
  {
   "cell_type": "markdown",
   "metadata": {},
   "source": [
    "### 4.2 Проверка статистической разницы долей z-критерием."
   ]
  },
  {
   "cell_type": "markdown",
   "metadata": {},
   "source": [
    "Для проведения теста будем использовать - гипотезы о равенстве долей. Нулевая гипотеза - доли не имеют статистических различий, альтернативная - имеют. Альфу возьмём за 5%. Для начала создадим функцию для Z-теста:"
   ]
  },
  {
   "cell_type": "code",
   "execution_count": 59,
   "metadata": {},
   "outputs": [],
   "source": [
    "def z_test(successes, trials, alpha):  \n",
    "\n",
    "    # alpha = .05 # критический уровень статистической значимости\n",
    "\n",
    "    # successes = np.array([838, 1989])\n",
    "    # trials = np.array([12262, 44065])\n",
    "\n",
    "    alpha = alpha\n",
    "    successes = successes\n",
    "    trials = trials\n",
    "\n",
    "    # пропорция успехов в первой группе:\n",
    "    p1 = successes[0]/trials[0]\n",
    "\n",
    "    # пропорция успехов во второй группе:\n",
    "    p2 = successes[1]/trials[1]\n",
    "\n",
    "    # пропорция успехов в комбинированном датасете:\n",
    "    p_combined = (successes[0] + successes[1]) / (trials[0] + trials[1])\n",
    "\n",
    "    # разница пропорций в датасетах\n",
    "    difference = p1 - p2\n",
    "\n",
    "\n",
    "    # считаем статистику в ст.отклонениях стандартного нормального распределения\n",
    "    z_value = difference / mth.sqrt(p_combined * (1 - p_combined) * (1/trials[0] + 1/trials[1]))\n",
    "\n",
    "    # задаем стандартное нормальное распределение (среднее 0, ст.отклонение 1)\n",
    "    distr = st.norm(0, 1) \n",
    "\n",
    "\n",
    "    # считаем статистику в ст.отклонениях стандартного нормального распределения\n",
    "    z_value = difference / mth.sqrt(\n",
    "        p_combined * (1 - p_combined) * (1 / trials[0] + 1 / trials[1])\n",
    "    )\n",
    "\n",
    "    # задаем стандартное нормальное распределение (среднее 0, ст.отклонение 1)\n",
    "    distr = st.norm(0, 1)\n",
    "\n",
    "    p_value = (1 - distr.cdf(abs(z_value))) * 2\n",
    "\n",
    "    print('p-значение: ', p_value)\n",
    "\n",
    "    if p_value < alpha:\n",
    "        print('Отвергаем нулевую гипотезу: между долями есть значимая разница')\n",
    "    else:\n",
    "        print(\n",
    "            'Не получилось отвергнуть нулевую гипотезу, нет оснований считать доли разными'\n",
    "        )\n",
    "\n",
    "# z_test(successes, trials, alpha) "
   ]
  },
  {
   "cell_type": "markdown",
   "metadata": {},
   "source": [
    "Вспомним информационное табло:"
   ]
  },
  {
   "cell_type": "code",
   "execution_count": 60,
   "metadata": {},
   "outputs": [
    {
     "data": {
      "text/html": [
       "<div>\n",
       "<style scoped>\n",
       "    .dataframe tbody tr th:only-of-type {\n",
       "        vertical-align: middle;\n",
       "    }\n",
       "\n",
       "    .dataframe tbody tr th {\n",
       "        vertical-align: top;\n",
       "    }\n",
       "\n",
       "    .dataframe thead th {\n",
       "        text-align: right;\n",
       "    }\n",
       "</style>\n",
       "<table border=\"1\" class=\"dataframe\">\n",
       "  <thead>\n",
       "    <tr style=\"text-align: right;\">\n",
       "      <th></th>\n",
       "      <th>event_name</th>\n",
       "      <th>count_a</th>\n",
       "      <th>ratio_a</th>\n",
       "      <th>conv_a</th>\n",
       "      <th>count_b</th>\n",
       "      <th>ratio_b</th>\n",
       "      <th>conv_b</th>\n",
       "      <th>delta</th>\n",
       "    </tr>\n",
       "  </thead>\n",
       "  <tbody>\n",
       "    <tr>\n",
       "      <th>0</th>\n",
       "      <td>login</td>\n",
       "      <td>2747</td>\n",
       "      <td>0.41</td>\n",
       "      <td>1.00</td>\n",
       "      <td>928</td>\n",
       "      <td>0.14</td>\n",
       "      <td>1.00</td>\n",
       "      <td>0.00</td>\n",
       "    </tr>\n",
       "    <tr>\n",
       "      <th>1</th>\n",
       "      <td>product_page</td>\n",
       "      <td>1780</td>\n",
       "      <td>0.27</td>\n",
       "      <td>0.65</td>\n",
       "      <td>523</td>\n",
       "      <td>0.08</td>\n",
       "      <td>0.56</td>\n",
       "      <td>-13.03</td>\n",
       "    </tr>\n",
       "    <tr>\n",
       "      <th>2</th>\n",
       "      <td>product_cart</td>\n",
       "      <td>824</td>\n",
       "      <td>0.12</td>\n",
       "      <td>0.94</td>\n",
       "      <td>255</td>\n",
       "      <td>0.04</td>\n",
       "      <td>1.00</td>\n",
       "      <td>-0.08</td>\n",
       "    </tr>\n",
       "    <tr>\n",
       "      <th>3</th>\n",
       "      <td>purchase</td>\n",
       "      <td>872</td>\n",
       "      <td>0.13</td>\n",
       "      <td>0.49</td>\n",
       "      <td>256</td>\n",
       "      <td>0.04</td>\n",
       "      <td>0.49</td>\n",
       "      <td>5.41</td>\n",
       "    </tr>\n",
       "  </tbody>\n",
       "</table>\n",
       "</div>"
      ],
      "text/plain": [
       "     event_name  count_a  ratio_a  conv_a  count_b  ratio_b  conv_b  delta\n",
       "0         login     2747     0.41    1.00      928     0.14    1.00   0.00\n",
       "1  product_page     1780     0.27    0.65      523     0.08    0.56 -13.03\n",
       "2  product_cart      824     0.12    0.94      255     0.04    1.00  -0.08\n",
       "3      purchase      872     0.13    0.49      256     0.04    0.49   5.41"
      ]
     },
     "execution_count": 60,
     "metadata": {},
     "output_type": "execute_result"
    }
   ],
   "source": [
    "info_table"
   ]
  },
  {
   "cell_type": "markdown",
   "metadata": {},
   "source": [
    "Сопоставим данные из таблицы:"
   ]
  },
  {
   "cell_type": "code",
   "execution_count": 61,
   "metadata": {},
   "outputs": [
    {
     "name": "stdout",
     "output_type": "stream",
     "text": [
      "Тестируем событие \"product_page\" / successes = [1780, 523]\n",
      "p-значение:  4.310980554755872e-06\n",
      "Отвергаем нулевую гипотезу: между долями есть значимая разница\n",
      "\n",
      "Тестируем событие \"product_cart\" / successes = [824, 255]\n",
      "p-значение:  0.14534814557238196\n",
      "Не получилось отвергнуть нулевую гипотезу, нет оснований считать доли разными\n",
      "\n",
      "Тестируем событие \"purchase\" / successes = [872, 256]\n",
      "p-значение:  0.017592402663314743\n",
      "Отвергаем нулевую гипотезу: между долями есть значимая разница\n",
      "\n"
     ]
    }
   ],
   "source": [
    "alpha = .05\n",
    "trials = [info_table.iloc[0,1], info_table.iloc[0,4]]\n",
    "\n",
    "s = { 'product_page':[info_table.iloc[1,1],info_table.iloc[1,4]], 'product_cart':[info_table.iloc[2,1],info_table.iloc[2,4]], 'purchase':[info_table.iloc[3,1],info_table.iloc[3,4]]}\n",
    "\n",
    "for ev in [ 'product_page','product_cart', 'purchase']:\n",
    "    successes = s[ev]\n",
    "    print(f'Тестируем событие \"{ev}\" / successes = {s[ev]}')\n",
    "    z_test(successes, trials, alpha)\n",
    "    print()"
   ]
  },
  {
   "cell_type": "markdown",
   "metadata": {},
   "source": [
    "**Вывод:** На странице продукта отвергаем нулевую гипотезу. Между долями есть значимая разница. По покупке, также, овтергаем нулевую гипотезу, между долями есть значимая разница. Вот, что касаемо корзины, отвергнуть нулевую гипотезу не удалось, нет оснований считать доли разными."
   ]
  },
  {
   "cell_type": "markdown",
   "metadata": {},
   "source": [
    "## Этап 5. Общий вывод"
   ]
  },
  {
   "cell_type": "markdown",
   "metadata": {},
   "source": [
    "В нашем распоряжении 4 датасета, при знакомстве с которыми было выявлено:\n",
    "\n",
    "* Датасет **marketing_events**  содержит календарь маркетинговых событий на 2020 год,включает в себя 14 строк,4 столбца:\n",
    "    * Типы данных соответствующие, пропущенных значений нет,дубликаты отсутствуют.\n",
    "    \n",
    "\n",
    "---     \n",
    "     \n",
    "* Датасет **new_users** содержит данные о пользователях, зарегистрировавшихся в интернет-магазине в период с 7 по 23 декабря 2020 года,включает в себя 61733 строк, 4 столбца:\n",
    "    * Типы данных соответствующие, пропущенных значений нет,дубликаты отсутствуют.\n",
    "     \n",
    "         \n",
    "---  \n",
    "\n",
    "* Датасет **events** содержит все события новых пользователей в период с 7 декабря 2020 по 4 января 2021 года,включает в себя 440317 строк, 4 столбца:\n",
    "    * Типы данных соответствующие, пропущенных значения встречаются в столбце details, но это логично, так как в данный столбец заносится лишь дополнительная информация. Дубликаты встречаются если отобрать пользователя и время, но тип событий отличается у данных строк.\n",
    "\n",
    "---   \n",
    "\n",
    "* Датасет **participants** содержит таблицу участников теста, включает в себя 18268 строк, 3 столбца:\n",
    "    * Типы данных соответствующие, пропущенных значений нет, 1602 пользователя встречаются более 1 раза.   \n",
    "---\n",
    "При предобработке данных, были подогнаны данные под техническое задание:\n",
    "* Выбрано название теста recommender_system_test;\n",
    "* Включены лишь те, кто успел зарегистрироваться до 21-12-2020 года;\n",
    "* Исключены те, кто пересекался с маркетинговыми событтями\n",
    "---\n",
    "На этапе исследовательского анализа данных:\n",
    "* Группа A процентов на 30% объемнее группы B;\n",
    "* Соотношение событий в группах 3 к 1 в пользу группы A;\n",
    "* Событие product_cart очень близко по значению с purchase, надо уточнить у менеджеров особенность системы;\n",
    "* Конверсия в покупку составляет 32% для группы A и 28% для группы B.;\n",
    "* В динамике времени, группа A практически везде показывает лучшие результаты , чем группа B. Лишь 07-12-2020 и 26-12-2020 группа B показывает результат лучше. \n",
    "* Доля новых пользователей Европейского региона составляет лишь 13.73%, при ожидаемых 15%;\n",
    "* С количеством все в порядке.\n",
    "---\n",
    "При оценке результатов A/B тестирования было выявлено:\n",
    "* Нулевая гипотеза отвергнута. Статистическая разница в конверсиях групп A и B имеет место быть. Кроме события посещения корзины.\n",
    "---\n",
    "**Рекомендации:**\n",
    "Переделать тест правильно, учитывать маркетинговые события, учитывать группы участников, чтоб не было пересечений, собирать качественно данные по событиями, выборки следует делать схожими по размерам и характеристикам. Достигать количества заданной выборки. В таблице теста содержались пользователи, по которым нет событий, просьба учесть во внимание данный факт. Не проводить тест в дни, которые могут повлиять на данные, например перед Новым Годом. Также особое внимание уделить факту, что после 14 числа взлет событий в группе A."
   ]
  }
 ],
 "metadata": {
  "ExecuteTimeLog": [
   {
    "duration": 1684,
    "start_time": "2022-02-18T11:01:24.193Z"
   },
   {
    "duration": 2278,
    "start_time": "2022-02-18T11:04:06.993Z"
   },
   {
    "duration": 12,
    "start_time": "2022-02-18T11:04:30.250Z"
   },
   {
    "duration": 13,
    "start_time": "2022-02-18T11:04:33.370Z"
   },
   {
    "duration": 267,
    "start_time": "2022-02-18T11:08:07.829Z"
   },
   {
    "duration": 312,
    "start_time": "2022-02-18T11:08:13.391Z"
   },
   {
    "duration": 2197,
    "start_time": "2022-02-18T11:08:21.979Z"
   },
   {
    "duration": 1868,
    "start_time": "2022-02-18T11:08:34.416Z"
   },
   {
    "duration": 829,
    "start_time": "2022-02-18T11:08:52.483Z"
   },
   {
    "duration": 10,
    "start_time": "2022-02-18T11:41:11.830Z"
   },
   {
    "duration": 9,
    "start_time": "2022-02-18T11:45:21.621Z"
   },
   {
    "duration": 6984,
    "start_time": "2022-02-18T11:49:18.225Z"
   },
   {
    "duration": 5,
    "start_time": "2022-02-18T11:49:54.476Z"
   },
   {
    "duration": 109,
    "start_time": "2022-02-18T11:51:46.681Z"
   },
   {
    "duration": 7,
    "start_time": "2022-02-18T11:52:38.557Z"
   },
   {
    "duration": 10,
    "start_time": "2022-02-18T11:52:47.262Z"
   },
   {
    "duration": 6,
    "start_time": "2022-02-18T11:52:52.970Z"
   },
   {
    "duration": 1935,
    "start_time": "2022-02-18T11:54:03.895Z"
   },
   {
    "duration": 634,
    "start_time": "2022-02-18T11:54:05.832Z"
   },
   {
    "duration": 19,
    "start_time": "2022-02-18T11:54:06.473Z"
   },
   {
    "duration": 19,
    "start_time": "2022-02-18T11:54:06.495Z"
   },
   {
    "duration": 10,
    "start_time": "2022-02-18T11:54:06.516Z"
   },
   {
    "duration": 115,
    "start_time": "2022-02-18T11:54:53.050Z"
   },
   {
    "duration": 13,
    "start_time": "2022-02-18T11:55:11.027Z"
   },
   {
    "duration": 28,
    "start_time": "2022-02-18T11:57:37.877Z"
   },
   {
    "duration": 37,
    "start_time": "2022-02-18T11:59:01.961Z"
   },
   {
    "duration": 17,
    "start_time": "2022-02-18T11:59:14.405Z"
   },
   {
    "duration": 7,
    "start_time": "2022-02-18T11:59:21.597Z"
   },
   {
    "duration": 45,
    "start_time": "2022-02-18T11:59:29.206Z"
   },
   {
    "duration": 10,
    "start_time": "2022-02-18T12:00:28.782Z"
   },
   {
    "duration": 104,
    "start_time": "2022-02-18T12:02:19.903Z"
   },
   {
    "duration": 296,
    "start_time": "2022-02-18T12:04:50.631Z"
   },
   {
    "duration": 57,
    "start_time": "2022-02-18T12:05:17.775Z"
   },
   {
    "duration": 7155,
    "start_time": "2022-02-18T12:05:27.201Z"
   },
   {
    "duration": 265,
    "start_time": "2022-02-18T12:05:36.607Z"
   },
   {
    "duration": 279,
    "start_time": "2022-02-18T12:06:03.015Z"
   },
   {
    "duration": 487,
    "start_time": "2022-02-18T12:06:41.105Z"
   },
   {
    "duration": 435,
    "start_time": "2022-02-18T12:07:42.748Z"
   },
   {
    "duration": 290,
    "start_time": "2022-02-18T12:07:51.492Z"
   },
   {
    "duration": 282,
    "start_time": "2022-02-18T12:08:03.458Z"
   },
   {
    "duration": 267,
    "start_time": "2022-02-18T12:09:07.966Z"
   },
   {
    "duration": 443,
    "start_time": "2022-02-18T12:09:14.547Z"
   },
   {
    "duration": 275,
    "start_time": "2022-02-18T12:09:22.594Z"
   },
   {
    "duration": 114,
    "start_time": "2022-02-18T12:09:38.964Z"
   },
   {
    "duration": 306,
    "start_time": "2022-02-18T12:09:48.547Z"
   },
   {
    "duration": 925,
    "start_time": "2022-02-18T12:09:58.096Z"
   },
   {
    "duration": 260,
    "start_time": "2022-02-18T12:10:02.994Z"
   },
   {
    "duration": 592,
    "start_time": "2022-02-18T12:11:12.931Z"
   },
   {
    "duration": 564,
    "start_time": "2022-02-18T12:11:31.784Z"
   },
   {
    "duration": 671,
    "start_time": "2022-02-18T12:12:14.080Z"
   },
   {
    "duration": 272,
    "start_time": "2022-02-18T12:18:15.598Z"
   },
   {
    "duration": 316,
    "start_time": "2022-02-18T12:18:24.983Z"
   },
   {
    "duration": 11,
    "start_time": "2022-02-18T12:22:13.041Z"
   },
   {
    "duration": 10,
    "start_time": "2022-02-18T12:25:46.663Z"
   },
   {
    "duration": 11,
    "start_time": "2022-02-18T12:26:50.790Z"
   },
   {
    "duration": 8,
    "start_time": "2022-02-18T12:27:32.249Z"
   },
   {
    "duration": 7085,
    "start_time": "2022-02-18T12:29:50.070Z"
   },
   {
    "duration": 12,
    "start_time": "2022-02-18T12:29:58.864Z"
   },
   {
    "duration": 32,
    "start_time": "2022-02-18T12:36:10.766Z"
   },
   {
    "duration": 37,
    "start_time": "2022-02-18T12:36:15.659Z"
   },
   {
    "duration": 577,
    "start_time": "2022-02-18T13:26:07.825Z"
   },
   {
    "duration": 12,
    "start_time": "2022-02-18T13:26:10.551Z"
   },
   {
    "duration": 7,
    "start_time": "2022-02-18T13:26:12.144Z"
   },
   {
    "duration": 2091,
    "start_time": "2022-02-18T13:28:25.290Z"
   },
   {
    "duration": 841,
    "start_time": "2022-02-18T13:28:27.384Z"
   },
   {
    "duration": 15,
    "start_time": "2022-02-18T13:28:28.228Z"
   },
   {
    "duration": 9,
    "start_time": "2022-02-18T13:28:28.246Z"
   },
   {
    "duration": 17,
    "start_time": "2022-02-18T13:28:28.257Z"
   },
   {
    "duration": 32,
    "start_time": "2022-02-18T13:28:28.276Z"
   },
   {
    "duration": 15,
    "start_time": "2022-02-18T13:28:28.310Z"
   },
   {
    "duration": 34,
    "start_time": "2022-02-18T13:28:28.327Z"
   },
   {
    "duration": 10,
    "start_time": "2022-02-18T13:28:28.363Z"
   },
   {
    "duration": 71,
    "start_time": "2022-02-18T13:28:28.375Z"
   },
   {
    "duration": 207,
    "start_time": "2022-02-18T13:28:28.448Z"
   },
   {
    "duration": 172,
    "start_time": "2022-02-18T13:28:28.657Z"
   },
   {
    "duration": 624,
    "start_time": "2022-02-18T13:28:28.831Z"
   },
   {
    "duration": 229,
    "start_time": "2022-02-18T13:28:29.457Z"
   },
   {
    "duration": 24,
    "start_time": "2022-02-18T13:28:29.688Z"
   },
   {
    "duration": 11,
    "start_time": "2022-02-18T13:28:29.714Z"
   },
   {
    "duration": 14,
    "start_time": "2022-02-18T13:28:29.728Z"
   },
   {
    "duration": 11,
    "start_time": "2022-02-18T13:28:29.744Z"
   },
   {
    "duration": 5,
    "start_time": "2022-02-18T13:49:16.828Z"
   },
   {
    "duration": 8,
    "start_time": "2022-02-18T13:49:30.173Z"
   },
   {
    "duration": 7,
    "start_time": "2022-02-18T14:01:02.759Z"
   },
   {
    "duration": 10,
    "start_time": "2022-02-18T14:01:21.412Z"
   },
   {
    "duration": 8,
    "start_time": "2022-02-18T14:03:11.071Z"
   },
   {
    "duration": 88,
    "start_time": "2022-02-18T14:03:30.196Z"
   },
   {
    "duration": 9,
    "start_time": "2022-02-18T14:04:08.314Z"
   },
   {
    "duration": 979,
    "start_time": "2022-02-18T14:04:28.143Z"
   },
   {
    "duration": 28,
    "start_time": "2022-02-18T14:04:31.297Z"
   },
   {
    "duration": 7105,
    "start_time": "2022-02-18T14:05:12.056Z"
   },
   {
    "duration": 294,
    "start_time": "2022-02-18T14:05:21.391Z"
   },
   {
    "duration": 288,
    "start_time": "2022-02-18T14:05:25.158Z"
   },
   {
    "duration": 7329,
    "start_time": "2022-02-18T14:05:28.732Z"
   },
   {
    "duration": 19,
    "start_time": "2022-02-18T14:05:40.207Z"
   },
   {
    "duration": 295,
    "start_time": "2022-02-18T14:05:51.518Z"
   },
   {
    "duration": 15,
    "start_time": "2022-02-18T14:05:59.831Z"
   },
   {
    "duration": 19,
    "start_time": "2022-02-18T14:06:08.692Z"
   },
   {
    "duration": 18,
    "start_time": "2022-02-18T14:06:25.683Z"
   },
   {
    "duration": 18,
    "start_time": "2022-02-18T14:06:32.647Z"
   },
   {
    "duration": 10,
    "start_time": "2022-02-18T14:12:06.346Z"
   },
   {
    "duration": 10,
    "start_time": "2022-02-18T14:13:21.763Z"
   },
   {
    "duration": 12,
    "start_time": "2022-02-18T14:13:32.296Z"
   },
   {
    "duration": 21,
    "start_time": "2022-02-18T14:14:20.672Z"
   },
   {
    "duration": 17,
    "start_time": "2022-02-18T14:14:37.177Z"
   },
   {
    "duration": 12,
    "start_time": "2022-02-18T14:18:09.969Z"
   },
   {
    "duration": 16,
    "start_time": "2022-02-18T14:18:24.463Z"
   },
   {
    "duration": 28,
    "start_time": "2022-02-18T14:44:05.815Z"
   },
   {
    "duration": 199,
    "start_time": "2022-02-18T14:44:13.826Z"
   },
   {
    "duration": 21,
    "start_time": "2022-02-18T14:44:41.202Z"
   },
   {
    "duration": 20,
    "start_time": "2022-02-18T14:46:55.654Z"
   },
   {
    "duration": 53,
    "start_time": "2022-02-18T14:51:47.961Z"
   },
   {
    "duration": 52,
    "start_time": "2022-02-18T14:52:05.623Z"
   },
   {
    "duration": 86,
    "start_time": "2022-02-18T14:52:10.435Z"
   },
   {
    "duration": 87,
    "start_time": "2022-02-18T14:52:14.007Z"
   },
   {
    "duration": 55,
    "start_time": "2022-02-18T14:52:19.303Z"
   },
   {
    "duration": 284,
    "start_time": "2022-02-18T14:56:06.232Z"
   },
   {
    "duration": 81,
    "start_time": "2022-02-18T14:56:19.852Z"
   },
   {
    "duration": 12,
    "start_time": "2022-02-18T15:03:09.318Z"
   },
   {
    "duration": 11,
    "start_time": "2022-02-18T15:03:24.670Z"
   },
   {
    "duration": 12,
    "start_time": "2022-02-18T15:06:25.538Z"
   },
   {
    "duration": 30,
    "start_time": "2022-02-18T15:09:16.212Z"
   },
   {
    "duration": 76,
    "start_time": "2022-02-18T15:58:31.877Z"
   },
   {
    "duration": 9,
    "start_time": "2022-02-18T16:00:11.847Z"
   },
   {
    "duration": 1718,
    "start_time": "2022-02-18T16:00:44.319Z"
   },
   {
    "duration": 688,
    "start_time": "2022-02-18T16:00:46.040Z"
   },
   {
    "duration": 13,
    "start_time": "2022-02-18T16:00:46.730Z"
   },
   {
    "duration": 23,
    "start_time": "2022-02-18T16:00:46.746Z"
   },
   {
    "duration": 23,
    "start_time": "2022-02-18T16:00:46.771Z"
   },
   {
    "duration": 34,
    "start_time": "2022-02-18T16:00:46.796Z"
   },
   {
    "duration": 15,
    "start_time": "2022-02-18T16:00:46.832Z"
   },
   {
    "duration": 32,
    "start_time": "2022-02-18T16:00:46.850Z"
   },
   {
    "duration": 37,
    "start_time": "2022-02-18T16:00:46.884Z"
   },
   {
    "duration": 26,
    "start_time": "2022-02-18T16:00:46.922Z"
   },
   {
    "duration": 53,
    "start_time": "2022-02-18T16:00:46.950Z"
   },
   {
    "duration": 20,
    "start_time": "2022-02-18T16:00:47.005Z"
   },
   {
    "duration": 21,
    "start_time": "2022-02-18T16:00:47.027Z"
   },
   {
    "duration": 26,
    "start_time": "2022-02-18T16:00:47.050Z"
   },
   {
    "duration": 28,
    "start_time": "2022-02-18T16:00:47.078Z"
   },
   {
    "duration": 34,
    "start_time": "2022-02-18T16:00:47.108Z"
   },
   {
    "duration": 55,
    "start_time": "2022-02-18T16:00:47.144Z"
   },
   {
    "duration": 176,
    "start_time": "2022-02-18T16:00:47.201Z"
   },
   {
    "duration": 150,
    "start_time": "2022-02-18T16:00:47.379Z"
   },
   {
    "duration": 326,
    "start_time": "2022-02-18T16:00:47.531Z"
   },
   {
    "duration": 212,
    "start_time": "2022-02-18T16:00:47.859Z"
   },
   {
    "duration": 79,
    "start_time": "2022-02-18T16:00:48.073Z"
   },
   {
    "duration": 59,
    "start_time": "2022-02-18T16:00:48.155Z"
   },
   {
    "duration": 45,
    "start_time": "2022-02-18T16:00:48.216Z"
   },
   {
    "duration": 12,
    "start_time": "2022-02-18T16:00:48.263Z"
   },
   {
    "duration": 32,
    "start_time": "2022-02-18T16:00:48.277Z"
   },
   {
    "duration": 16,
    "start_time": "2022-02-18T16:00:48.311Z"
   },
   {
    "duration": 13,
    "start_time": "2022-02-18T16:00:48.329Z"
   },
   {
    "duration": 13,
    "start_time": "2022-02-18T16:00:48.344Z"
   },
   {
    "duration": 14,
    "start_time": "2022-02-18T16:00:48.360Z"
   },
   {
    "duration": 38,
    "start_time": "2022-02-18T16:00:48.376Z"
   },
   {
    "duration": 11,
    "start_time": "2022-02-18T16:52:15.144Z"
   },
   {
    "duration": 85,
    "start_time": "2022-02-18T16:52:28.564Z"
   },
   {
    "duration": 11,
    "start_time": "2022-02-18T16:52:32.161Z"
   },
   {
    "duration": 47,
    "start_time": "2022-02-18T16:55:26.623Z"
   },
   {
    "duration": 47,
    "start_time": "2022-02-18T16:55:30.970Z"
   },
   {
    "duration": 11,
    "start_time": "2022-02-18T17:00:36.901Z"
   },
   {
    "duration": 30,
    "start_time": "2022-02-18T17:01:28.005Z"
   },
   {
    "duration": 29,
    "start_time": "2022-02-18T17:01:54.339Z"
   },
   {
    "duration": 446,
    "start_time": "2022-02-18T17:02:13.512Z"
   },
   {
    "duration": 30,
    "start_time": "2022-02-18T17:02:28.051Z"
   },
   {
    "duration": 32,
    "start_time": "2022-02-18T17:02:48.024Z"
   },
   {
    "duration": 30,
    "start_time": "2022-02-18T17:02:54.665Z"
   },
   {
    "duration": 31,
    "start_time": "2022-02-18T17:06:45.466Z"
   },
   {
    "duration": 34,
    "start_time": "2022-02-18T17:07:04.249Z"
   },
   {
    "duration": 42,
    "start_time": "2022-02-18T17:07:11.153Z"
   },
   {
    "duration": 30,
    "start_time": "2022-02-18T17:08:04.511Z"
   },
   {
    "duration": 319,
    "start_time": "2022-02-18T17:08:41.573Z"
   },
   {
    "duration": 15,
    "start_time": "2022-02-18T17:08:48.107Z"
   },
   {
    "duration": 11,
    "start_time": "2022-02-18T17:08:57.519Z"
   },
   {
    "duration": 13,
    "start_time": "2022-02-18T17:09:13.699Z"
   },
   {
    "duration": 10,
    "start_time": "2022-02-18T17:09:19.100Z"
   },
   {
    "duration": 15,
    "start_time": "2022-02-18T17:09:28.697Z"
   },
   {
    "duration": 32,
    "start_time": "2022-02-18T17:12:02.525Z"
   },
   {
    "duration": 42,
    "start_time": "2022-02-18T17:12:10.753Z"
   },
   {
    "duration": 39,
    "start_time": "2022-02-18T17:12:38.130Z"
   },
   {
    "duration": 15,
    "start_time": "2022-02-18T17:13:10.550Z"
   },
   {
    "duration": 15,
    "start_time": "2022-02-18T17:13:27.944Z"
   },
   {
    "duration": 15,
    "start_time": "2022-02-18T17:13:37.767Z"
   },
   {
    "duration": 15,
    "start_time": "2022-02-18T17:13:41.792Z"
   },
   {
    "duration": 13,
    "start_time": "2022-02-18T17:18:54.709Z"
   },
   {
    "duration": 8,
    "start_time": "2022-02-18T17:19:21.824Z"
   },
   {
    "duration": 84,
    "start_time": "2022-02-18T17:20:05.028Z"
   },
   {
    "duration": 257,
    "start_time": "2022-02-18T17:20:16.857Z"
   },
   {
    "duration": 64,
    "start_time": "2022-02-18T17:20:21.234Z"
   },
   {
    "duration": 418,
    "start_time": "2022-02-18T17:21:24.348Z"
   },
   {
    "duration": 10,
    "start_time": "2022-02-18T17:21:32.980Z"
   },
   {
    "duration": 12,
    "start_time": "2022-02-18T17:23:47.617Z"
   },
   {
    "duration": 14,
    "start_time": "2022-02-18T17:24:26.026Z"
   },
   {
    "duration": 8,
    "start_time": "2022-02-18T17:27:47.692Z"
   },
   {
    "duration": 15,
    "start_time": "2022-02-18T17:27:52.055Z"
   },
   {
    "duration": 11,
    "start_time": "2022-02-18T17:28:59.406Z"
   },
   {
    "duration": 300,
    "start_time": "2022-02-18T17:30:48.230Z"
   },
   {
    "duration": 7,
    "start_time": "2022-02-18T17:31:08.989Z"
   },
   {
    "duration": 14,
    "start_time": "2022-02-18T17:31:13.821Z"
   },
   {
    "duration": 11,
    "start_time": "2022-02-18T17:31:37.435Z"
   },
   {
    "duration": 10,
    "start_time": "2022-02-18T17:31:44.385Z"
   },
   {
    "duration": 14,
    "start_time": "2022-02-18T17:32:49.704Z"
   },
   {
    "duration": 7403,
    "start_time": "2022-02-18T17:33:04.969Z"
   },
   {
    "duration": 269,
    "start_time": "2022-02-18T17:33:20.305Z"
   },
   {
    "duration": 11,
    "start_time": "2022-02-18T17:33:52.299Z"
   },
   {
    "duration": 90,
    "start_time": "2022-02-18T17:34:43.441Z"
   },
   {
    "duration": 18,
    "start_time": "2022-02-18T17:34:49.392Z"
   },
   {
    "duration": 85,
    "start_time": "2022-02-18T17:35:03.249Z"
   },
   {
    "duration": 16,
    "start_time": "2022-02-18T17:35:17.911Z"
   },
   {
    "duration": 16,
    "start_time": "2022-02-18T17:35:45.421Z"
   },
   {
    "duration": 14,
    "start_time": "2022-02-18T17:35:56.443Z"
   },
   {
    "duration": 17,
    "start_time": "2022-02-18T17:36:02.640Z"
   },
   {
    "duration": 16,
    "start_time": "2022-02-18T17:36:12.065Z"
   },
   {
    "duration": 14,
    "start_time": "2022-02-18T17:36:29.961Z"
   },
   {
    "duration": 16,
    "start_time": "2022-02-18T17:36:37.407Z"
   },
   {
    "duration": 20,
    "start_time": "2022-02-18T17:36:45.185Z"
   },
   {
    "duration": 14,
    "start_time": "2022-02-18T17:38:08.152Z"
   },
   {
    "duration": 33,
    "start_time": "2022-02-18T17:39:47.716Z"
   },
   {
    "duration": 310,
    "start_time": "2022-02-18T17:39:52.562Z"
   },
   {
    "duration": 39,
    "start_time": "2022-02-18T17:39:58.252Z"
   },
   {
    "duration": 14,
    "start_time": "2022-02-18T17:40:16.641Z"
   },
   {
    "duration": 10,
    "start_time": "2022-02-18T17:42:08.795Z"
   },
   {
    "duration": 31,
    "start_time": "2022-02-18T18:22:53.876Z"
   },
   {
    "duration": 7,
    "start_time": "2022-02-18T18:25:09.001Z"
   },
   {
    "duration": 13,
    "start_time": "2022-02-18T19:44:20.212Z"
   },
   {
    "duration": 312,
    "start_time": "2022-02-18T20:00:22.645Z"
   },
   {
    "duration": 13,
    "start_time": "2022-02-18T20:00:38.091Z"
   },
   {
    "duration": 94,
    "start_time": "2022-02-18T20:00:43.144Z"
   },
   {
    "duration": 374,
    "start_time": "2022-02-18T20:01:06.716Z"
   },
   {
    "duration": 98,
    "start_time": "2022-02-18T20:01:12.800Z"
   },
   {
    "duration": 278,
    "start_time": "2022-02-18T20:01:54.897Z"
   },
   {
    "duration": 317,
    "start_time": "2022-02-18T20:01:58.614Z"
   },
   {
    "duration": 88,
    "start_time": "2022-02-18T20:02:03.593Z"
   },
   {
    "duration": 128,
    "start_time": "2022-02-18T20:02:25.664Z"
   },
   {
    "duration": 14,
    "start_time": "2022-02-18T20:04:06.276Z"
   },
   {
    "duration": 15,
    "start_time": "2022-02-18T20:04:48.785Z"
   },
   {
    "duration": 99,
    "start_time": "2022-02-18T20:05:40.246Z"
   },
   {
    "duration": 25,
    "start_time": "2022-02-18T20:07:06.437Z"
   },
   {
    "duration": 13,
    "start_time": "2022-02-18T21:03:38.080Z"
   },
   {
    "duration": 16,
    "start_time": "2022-02-18T21:03:43.999Z"
   },
   {
    "duration": 19,
    "start_time": "2022-02-18T21:05:04.704Z"
   },
   {
    "duration": 289,
    "start_time": "2022-02-18T21:05:35.308Z"
   },
   {
    "duration": 311,
    "start_time": "2022-02-18T21:05:38.701Z"
   },
   {
    "duration": 323,
    "start_time": "2022-02-18T21:06:17.940Z"
   },
   {
    "duration": 20,
    "start_time": "2022-02-18T21:06:31.239Z"
   },
   {
    "duration": 1736,
    "start_time": "2022-02-18T21:06:47.995Z"
   },
   {
    "duration": 687,
    "start_time": "2022-02-18T21:06:49.734Z"
   },
   {
    "duration": 14,
    "start_time": "2022-02-18T21:06:50.423Z"
   },
   {
    "duration": 18,
    "start_time": "2022-02-18T21:06:50.439Z"
   },
   {
    "duration": 26,
    "start_time": "2022-02-18T21:06:50.459Z"
   },
   {
    "duration": 21,
    "start_time": "2022-02-18T21:06:50.487Z"
   },
   {
    "duration": 30,
    "start_time": "2022-02-18T21:06:50.510Z"
   },
   {
    "duration": 31,
    "start_time": "2022-02-18T21:06:50.544Z"
   },
   {
    "duration": 53,
    "start_time": "2022-02-18T21:06:50.578Z"
   },
   {
    "duration": 29,
    "start_time": "2022-02-18T21:06:50.633Z"
   },
   {
    "duration": 54,
    "start_time": "2022-02-18T21:06:50.664Z"
   },
   {
    "duration": 19,
    "start_time": "2022-02-18T21:06:50.720Z"
   },
   {
    "duration": 11,
    "start_time": "2022-02-18T21:06:50.741Z"
   },
   {
    "duration": 27,
    "start_time": "2022-02-18T21:06:50.754Z"
   },
   {
    "duration": 32,
    "start_time": "2022-02-18T21:06:50.783Z"
   },
   {
    "duration": 24,
    "start_time": "2022-02-18T21:06:50.817Z"
   },
   {
    "duration": 58,
    "start_time": "2022-02-18T21:06:50.843Z"
   },
   {
    "duration": 197,
    "start_time": "2022-02-18T21:06:50.903Z"
   },
   {
    "duration": 157,
    "start_time": "2022-02-18T21:06:51.102Z"
   },
   {
    "duration": 342,
    "start_time": "2022-02-18T21:06:51.261Z"
   },
   {
    "duration": 194,
    "start_time": "2022-02-18T21:06:51.608Z"
   },
   {
    "duration": 61,
    "start_time": "2022-02-18T21:06:51.807Z"
   },
   {
    "duration": 62,
    "start_time": "2022-02-18T21:06:51.872Z"
   },
   {
    "duration": 48,
    "start_time": "2022-02-18T21:06:51.936Z"
   },
   {
    "duration": 31,
    "start_time": "2022-02-18T21:06:51.987Z"
   },
   {
    "duration": 27,
    "start_time": "2022-02-18T21:06:52.020Z"
   },
   {
    "duration": 27,
    "start_time": "2022-02-18T21:06:52.049Z"
   },
   {
    "duration": 24,
    "start_time": "2022-02-18T21:06:52.078Z"
   },
   {
    "duration": 25,
    "start_time": "2022-02-18T21:06:52.105Z"
   },
   {
    "duration": 18,
    "start_time": "2022-02-18T21:06:52.132Z"
   },
   {
    "duration": 22,
    "start_time": "2022-02-18T21:06:52.152Z"
   },
   {
    "duration": 18,
    "start_time": "2022-02-18T21:06:52.176Z"
   },
   {
    "duration": 92,
    "start_time": "2022-02-18T21:06:52.195Z"
   },
   {
    "duration": 22,
    "start_time": "2022-02-18T21:06:52.289Z"
   },
   {
    "duration": 41,
    "start_time": "2022-02-18T21:06:52.313Z"
   },
   {
    "duration": 13,
    "start_time": "2022-02-18T21:06:52.356Z"
   },
   {
    "duration": 11,
    "start_time": "2022-02-18T21:06:52.371Z"
   },
   {
    "duration": 30,
    "start_time": "2022-02-18T21:06:52.407Z"
   },
   {
    "duration": 2,
    "start_time": "2022-02-18T21:06:52.439Z"
   },
   {
    "duration": 11,
    "start_time": "2022-02-18T21:06:52.443Z"
   },
   {
    "duration": 24,
    "start_time": "2022-02-18T21:06:52.455Z"
   },
   {
    "duration": 12,
    "start_time": "2022-02-18T21:07:59.671Z"
   },
   {
    "duration": 8,
    "start_time": "2022-02-18T21:08:18.344Z"
   },
   {
    "duration": 11,
    "start_time": "2022-02-18T21:08:43.188Z"
   },
   {
    "duration": 48,
    "start_time": "2022-02-18T21:09:11.371Z"
   },
   {
    "duration": 34,
    "start_time": "2022-02-18T21:09:44.662Z"
   },
   {
    "duration": 33,
    "start_time": "2022-02-18T21:11:03.418Z"
   },
   {
    "duration": 37,
    "start_time": "2022-02-18T21:11:11.651Z"
   },
   {
    "duration": 457,
    "start_time": "2022-02-18T21:11:25.925Z"
   },
   {
    "duration": 36,
    "start_time": "2022-02-18T21:11:40.154Z"
   },
   {
    "duration": 40,
    "start_time": "2022-02-18T21:11:44.877Z"
   },
   {
    "duration": 38,
    "start_time": "2022-02-18T21:12:29.601Z"
   },
   {
    "duration": 49,
    "start_time": "2022-02-18T21:12:41.658Z"
   },
   {
    "duration": 321,
    "start_time": "2022-02-18T21:13:40.962Z"
   },
   {
    "duration": 11,
    "start_time": "2022-02-18T21:13:47.654Z"
   },
   {
    "duration": 300,
    "start_time": "2022-02-18T21:13:55.626Z"
   },
   {
    "duration": 10,
    "start_time": "2022-02-18T21:13:58.663Z"
   },
   {
    "duration": 9,
    "start_time": "2022-02-18T21:14:34.981Z"
   },
   {
    "duration": 405,
    "start_time": "2022-02-19T07:30:50.056Z"
   },
   {
    "duration": 1901,
    "start_time": "2022-02-19T07:30:57.006Z"
   },
   {
    "duration": 817,
    "start_time": "2022-02-19T07:30:58.910Z"
   },
   {
    "duration": 18,
    "start_time": "2022-02-19T07:30:59.730Z"
   },
   {
    "duration": 18,
    "start_time": "2022-02-19T07:30:59.751Z"
   },
   {
    "duration": 10,
    "start_time": "2022-02-19T07:30:59.771Z"
   },
   {
    "duration": 9,
    "start_time": "2022-02-19T07:30:59.783Z"
   },
   {
    "duration": 14,
    "start_time": "2022-02-19T07:30:59.794Z"
   },
   {
    "duration": 62,
    "start_time": "2022-02-19T07:30:59.812Z"
   },
   {
    "duration": 16,
    "start_time": "2022-02-19T07:30:59.877Z"
   },
   {
    "duration": 23,
    "start_time": "2022-02-19T07:30:59.895Z"
   },
   {
    "duration": 68,
    "start_time": "2022-02-19T07:30:59.920Z"
   },
   {
    "duration": 25,
    "start_time": "2022-02-19T07:30:59.990Z"
   },
   {
    "duration": 14,
    "start_time": "2022-02-19T07:31:00.017Z"
   },
   {
    "duration": 24,
    "start_time": "2022-02-19T07:31:00.062Z"
   },
   {
    "duration": 18,
    "start_time": "2022-02-19T07:31:00.088Z"
   },
   {
    "duration": 14,
    "start_time": "2022-02-19T07:31:00.108Z"
   },
   {
    "duration": 84,
    "start_time": "2022-02-19T07:31:00.124Z"
   },
   {
    "duration": 253,
    "start_time": "2022-02-19T07:31:00.210Z"
   },
   {
    "duration": 196,
    "start_time": "2022-02-19T07:31:00.466Z"
   },
   {
    "duration": 423,
    "start_time": "2022-02-19T07:31:00.665Z"
   },
   {
    "duration": 249,
    "start_time": "2022-02-19T07:31:01.091Z"
   },
   {
    "duration": 71,
    "start_time": "2022-02-19T07:31:01.342Z"
   },
   {
    "duration": 82,
    "start_time": "2022-02-19T07:31:01.418Z"
   },
   {
    "duration": 63,
    "start_time": "2022-02-19T07:31:01.503Z"
   },
   {
    "duration": 17,
    "start_time": "2022-02-19T07:31:01.569Z"
   },
   {
    "duration": 25,
    "start_time": "2022-02-19T07:31:01.589Z"
   },
   {
    "duration": 17,
    "start_time": "2022-02-19T07:31:01.617Z"
   },
   {
    "duration": 35,
    "start_time": "2022-02-19T07:31:01.636Z"
   },
   {
    "duration": 10,
    "start_time": "2022-02-19T07:31:01.673Z"
   },
   {
    "duration": 12,
    "start_time": "2022-02-19T07:31:01.686Z"
   },
   {
    "duration": 16,
    "start_time": "2022-02-19T07:31:01.700Z"
   },
   {
    "duration": 62,
    "start_time": "2022-02-19T07:31:01.718Z"
   },
   {
    "duration": 21,
    "start_time": "2022-02-19T07:31:01.783Z"
   },
   {
    "duration": 127,
    "start_time": "2022-02-19T07:31:01.807Z"
   },
   {
    "duration": 27,
    "start_time": "2022-02-19T07:31:01.936Z"
   },
   {
    "duration": 51,
    "start_time": "2022-02-19T07:31:01.965Z"
   },
   {
    "duration": 16,
    "start_time": "2022-02-19T07:31:02.019Z"
   },
   {
    "duration": 36,
    "start_time": "2022-02-19T07:31:02.037Z"
   },
   {
    "duration": 39,
    "start_time": "2022-02-19T07:31:02.076Z"
   },
   {
    "duration": 12,
    "start_time": "2022-02-19T07:31:02.118Z"
   },
   {
    "duration": 29,
    "start_time": "2022-02-19T07:31:02.133Z"
   },
   {
    "duration": 29,
    "start_time": "2022-02-19T07:31:02.165Z"
   },
   {
    "duration": 65,
    "start_time": "2022-02-19T07:31:02.196Z"
   },
   {
    "duration": 10,
    "start_time": "2022-02-19T07:31:02.264Z"
   },
   {
    "duration": 10,
    "start_time": "2022-02-19T07:31:02.276Z"
   },
   {
    "duration": 133,
    "start_time": "2022-02-19T07:31:46.972Z"
   },
   {
    "duration": 113,
    "start_time": "2022-02-19T07:31:52.455Z"
   },
   {
    "duration": 98,
    "start_time": "2022-02-19T07:32:14.460Z"
   },
   {
    "duration": 27,
    "start_time": "2022-02-19T07:32:27.585Z"
   },
   {
    "duration": 90,
    "start_time": "2022-02-19T07:32:36.794Z"
   },
   {
    "duration": 18,
    "start_time": "2022-02-19T07:32:46.360Z"
   },
   {
    "duration": 89,
    "start_time": "2022-02-19T07:32:55.177Z"
   },
   {
    "duration": 61,
    "start_time": "2022-02-19T07:34:13.937Z"
   },
   {
    "duration": 26,
    "start_time": "2022-02-19T07:34:32.286Z"
   },
   {
    "duration": 24,
    "start_time": "2022-02-19T07:35:54.531Z"
   },
   {
    "duration": 9,
    "start_time": "2022-02-19T07:36:08.876Z"
   },
   {
    "duration": 504,
    "start_time": "2022-02-19T07:58:31.902Z"
   },
   {
    "duration": 6,
    "start_time": "2022-02-19T07:58:59.285Z"
   },
   {
    "duration": 7,
    "start_time": "2022-02-19T07:59:12.414Z"
   },
   {
    "duration": 7,
    "start_time": "2022-02-19T07:59:36.509Z"
   },
   {
    "duration": 7309,
    "start_time": "2022-02-19T08:00:03.330Z"
   },
   {
    "duration": 7,
    "start_time": "2022-02-19T08:00:15.473Z"
   },
   {
    "duration": 7,
    "start_time": "2022-02-19T08:00:23.724Z"
   },
   {
    "duration": 7,
    "start_time": "2022-02-19T08:00:27.270Z"
   },
   {
    "duration": 487,
    "start_time": "2022-02-19T08:02:01.061Z"
   },
   {
    "duration": 8,
    "start_time": "2022-02-19T08:02:11.310Z"
   },
   {
    "duration": 8,
    "start_time": "2022-02-19T08:02:20.387Z"
   },
   {
    "duration": 19,
    "start_time": "2022-02-19T10:12:25.612Z"
   },
   {
    "duration": 20,
    "start_time": "2022-02-19T10:12:52.621Z"
   },
   {
    "duration": 13,
    "start_time": "2022-02-19T10:12:56.600Z"
   },
   {
    "duration": 9,
    "start_time": "2022-02-19T10:13:02.692Z"
   },
   {
    "duration": 63,
    "start_time": "2022-02-19T10:14:54.052Z"
   },
   {
    "duration": 43,
    "start_time": "2022-02-19T10:15:05.071Z"
   },
   {
    "duration": 69,
    "start_time": "2022-02-19T10:15:26.876Z"
   },
   {
    "duration": 7660,
    "start_time": "2022-02-19T10:18:36.978Z"
   },
   {
    "duration": 15,
    "start_time": "2022-02-19T10:18:47.027Z"
   },
   {
    "duration": 9,
    "start_time": "2022-02-19T10:19:32.728Z"
   },
   {
    "duration": 20,
    "start_time": "2022-02-19T11:06:22.200Z"
   },
   {
    "duration": 16,
    "start_time": "2022-02-19T11:06:31.513Z"
   },
   {
    "duration": 43,
    "start_time": "2022-02-19T11:09:55.114Z"
   },
   {
    "duration": 39,
    "start_time": "2022-02-19T11:10:03.102Z"
   },
   {
    "duration": 41,
    "start_time": "2022-02-19T11:10:15.929Z"
   },
   {
    "duration": 38,
    "start_time": "2022-02-19T11:11:39.286Z"
   },
   {
    "duration": 46,
    "start_time": "2022-02-19T11:12:14.191Z"
   },
   {
    "duration": 50,
    "start_time": "2022-02-19T11:13:05.182Z"
   },
   {
    "duration": 49,
    "start_time": "2022-02-19T11:13:12.564Z"
   },
   {
    "duration": 18,
    "start_time": "2022-02-19T11:20:27.208Z"
   },
   {
    "duration": 8,
    "start_time": "2022-02-19T11:20:48.676Z"
   },
   {
    "duration": 22,
    "start_time": "2022-02-19T11:20:54.823Z"
   },
   {
    "duration": 6,
    "start_time": "2022-02-19T11:21:31.192Z"
   },
   {
    "duration": 26,
    "start_time": "2022-02-19T11:22:02.573Z"
   },
   {
    "duration": 6,
    "start_time": "2022-02-19T11:22:03.278Z"
   },
   {
    "duration": 140,
    "start_time": "2022-02-19T11:22:42.668Z"
   },
   {
    "duration": 28,
    "start_time": "2022-02-19T11:22:51.441Z"
   },
   {
    "duration": 6,
    "start_time": "2022-02-19T11:22:54.622Z"
   },
   {
    "duration": 23,
    "start_time": "2022-02-19T11:28:36.882Z"
   },
   {
    "duration": 26,
    "start_time": "2022-02-19T11:42:36.479Z"
   },
   {
    "duration": 21,
    "start_time": "2022-02-19T11:42:48.740Z"
   },
   {
    "duration": 32,
    "start_time": "2022-02-19T11:47:14.809Z"
   },
   {
    "duration": 32,
    "start_time": "2022-02-19T11:47:23.188Z"
   },
   {
    "duration": 15,
    "start_time": "2022-02-19T11:47:37.050Z"
   },
   {
    "duration": 15,
    "start_time": "2022-02-19T11:50:51.488Z"
   },
   {
    "duration": 42,
    "start_time": "2022-02-19T11:53:44.764Z"
   },
   {
    "duration": 11,
    "start_time": "2022-02-19T11:53:45.700Z"
   },
   {
    "duration": 25,
    "start_time": "2022-02-19T11:54:46.884Z"
   },
   {
    "duration": 26,
    "start_time": "2022-02-19T11:56:49.476Z"
   },
   {
    "duration": 12,
    "start_time": "2022-02-19T11:56:50.513Z"
   },
   {
    "duration": 9,
    "start_time": "2022-02-19T12:01:29.701Z"
   },
   {
    "duration": 13,
    "start_time": "2022-02-19T12:01:52.680Z"
   },
   {
    "duration": 15,
    "start_time": "2022-02-19T12:03:02.169Z"
   },
   {
    "duration": 19,
    "start_time": "2022-02-19T12:03:08.273Z"
   },
   {
    "duration": 36,
    "start_time": "2022-02-19T12:04:15.608Z"
   },
   {
    "duration": 17,
    "start_time": "2022-02-19T12:04:20.580Z"
   },
   {
    "duration": 51,
    "start_time": "2022-02-19T12:05:16.263Z"
   },
   {
    "duration": 20,
    "start_time": "2022-02-19T12:06:22.156Z"
   },
   {
    "duration": 122,
    "start_time": "2022-02-19T12:06:35.399Z"
   },
   {
    "duration": 32,
    "start_time": "2022-02-19T12:06:39.670Z"
   },
   {
    "duration": 14,
    "start_time": "2022-02-19T12:07:24.834Z"
   },
   {
    "duration": 309,
    "start_time": "2022-02-19T12:07:39.503Z"
   },
   {
    "duration": 24,
    "start_time": "2022-02-19T12:07:45.926Z"
   },
   {
    "duration": 8,
    "start_time": "2022-02-19T12:11:36.099Z"
   },
   {
    "duration": 18,
    "start_time": "2022-02-19T12:11:41.058Z"
   },
   {
    "duration": 18,
    "start_time": "2022-02-19T12:11:54.703Z"
   },
   {
    "duration": 16,
    "start_time": "2022-02-19T12:12:00.589Z"
   },
   {
    "duration": 25,
    "start_time": "2022-02-19T12:16:35.843Z"
   },
   {
    "duration": 115,
    "start_time": "2022-02-19T12:20:05.793Z"
   },
   {
    "duration": 2139,
    "start_time": "2022-02-19T12:20:27.327Z"
   },
   {
    "duration": 882,
    "start_time": "2022-02-19T12:20:29.469Z"
   },
   {
    "duration": 18,
    "start_time": "2022-02-19T12:20:30.355Z"
   },
   {
    "duration": 12,
    "start_time": "2022-02-19T12:20:30.377Z"
   },
   {
    "duration": 10,
    "start_time": "2022-02-19T12:20:30.392Z"
   },
   {
    "duration": 9,
    "start_time": "2022-02-19T12:20:30.406Z"
   },
   {
    "duration": 54,
    "start_time": "2022-02-19T12:20:30.417Z"
   },
   {
    "duration": 12,
    "start_time": "2022-02-19T12:20:30.475Z"
   },
   {
    "duration": 13,
    "start_time": "2022-02-19T12:20:30.492Z"
   },
   {
    "duration": 19,
    "start_time": "2022-02-19T12:20:30.509Z"
   },
   {
    "duration": 18,
    "start_time": "2022-02-19T12:20:30.562Z"
   },
   {
    "duration": 41,
    "start_time": "2022-02-19T12:20:30.582Z"
   },
   {
    "duration": 55,
    "start_time": "2022-02-19T12:20:30.626Z"
   },
   {
    "duration": 15,
    "start_time": "2022-02-19T12:20:30.683Z"
   },
   {
    "duration": 24,
    "start_time": "2022-02-19T12:20:30.701Z"
   },
   {
    "duration": 19,
    "start_time": "2022-02-19T12:20:30.760Z"
   },
   {
    "duration": 34,
    "start_time": "2022-02-19T12:20:30.782Z"
   },
   {
    "duration": 72,
    "start_time": "2022-02-19T12:20:30.818Z"
   },
   {
    "duration": 269,
    "start_time": "2022-02-19T12:20:30.892Z"
   },
   {
    "duration": 188,
    "start_time": "2022-02-19T12:20:31.164Z"
   },
   {
    "duration": 414,
    "start_time": "2022-02-19T12:20:31.354Z"
   },
   {
    "duration": 236,
    "start_time": "2022-02-19T12:20:31.770Z"
   },
   {
    "duration": 82,
    "start_time": "2022-02-19T12:20:32.009Z"
   },
   {
    "duration": 69,
    "start_time": "2022-02-19T12:20:32.094Z"
   },
   {
    "duration": 53,
    "start_time": "2022-02-19T12:20:32.165Z"
   },
   {
    "duration": 13,
    "start_time": "2022-02-19T12:20:32.221Z"
   },
   {
    "duration": 11,
    "start_time": "2022-02-19T12:20:32.265Z"
   },
   {
    "duration": 15,
    "start_time": "2022-02-19T12:20:32.279Z"
   },
   {
    "duration": 9,
    "start_time": "2022-02-19T12:20:32.296Z"
   },
   {
    "duration": 10,
    "start_time": "2022-02-19T12:20:32.307Z"
   },
   {
    "duration": 54,
    "start_time": "2022-02-19T12:20:32.319Z"
   },
   {
    "duration": 14,
    "start_time": "2022-02-19T12:20:32.376Z"
   },
   {
    "duration": 16,
    "start_time": "2022-02-19T12:20:32.392Z"
   },
   {
    "duration": 87,
    "start_time": "2022-02-19T12:20:32.410Z"
   },
   {
    "duration": 18,
    "start_time": "2022-02-19T12:20:32.500Z"
   },
   {
    "duration": 47,
    "start_time": "2022-02-19T12:20:32.520Z"
   },
   {
    "duration": 26,
    "start_time": "2022-02-19T12:20:32.570Z"
   },
   {
    "duration": 14,
    "start_time": "2022-02-19T12:20:32.599Z"
   },
   {
    "duration": 69,
    "start_time": "2022-02-19T12:20:32.616Z"
   },
   {
    "duration": 141,
    "start_time": "2022-02-19T12:20:32.688Z"
   },
   {
    "duration": 44,
    "start_time": "2022-02-19T12:20:32.831Z"
   },
   {
    "duration": 20,
    "start_time": "2022-02-19T12:20:32.877Z"
   },
   {
    "duration": 546,
    "start_time": "2022-02-19T12:20:32.900Z"
   },
   {
    "duration": -466,
    "start_time": "2022-02-19T12:20:33.915Z"
   },
   {
    "duration": -471,
    "start_time": "2022-02-19T12:20:33.921Z"
   },
   {
    "duration": -479,
    "start_time": "2022-02-19T12:20:33.931Z"
   },
   {
    "duration": -481,
    "start_time": "2022-02-19T12:20:33.934Z"
   },
   {
    "duration": -482,
    "start_time": "2022-02-19T12:20:33.937Z"
   },
   {
    "duration": -483,
    "start_time": "2022-02-19T12:20:33.940Z"
   },
   {
    "duration": -485,
    "start_time": "2022-02-19T12:20:33.943Z"
   },
   {
    "duration": -488,
    "start_time": "2022-02-19T12:20:33.947Z"
   },
   {
    "duration": -489,
    "start_time": "2022-02-19T12:20:33.950Z"
   },
   {
    "duration": -492,
    "start_time": "2022-02-19T12:20:33.954Z"
   },
   {
    "duration": -493,
    "start_time": "2022-02-19T12:20:33.957Z"
   },
   {
    "duration": -495,
    "start_time": "2022-02-19T12:20:33.960Z"
   },
   {
    "duration": -496,
    "start_time": "2022-02-19T12:20:33.963Z"
   },
   {
    "duration": 288,
    "start_time": "2022-02-19T12:21:21.737Z"
   },
   {
    "duration": 7,
    "start_time": "2022-02-19T12:21:25.602Z"
   },
   {
    "duration": 21,
    "start_time": "2022-02-19T12:22:17.196Z"
   },
   {
    "duration": 68,
    "start_time": "2022-02-19T12:22:17.816Z"
   },
   {
    "duration": 22,
    "start_time": "2022-02-19T12:22:18.450Z"
   },
   {
    "duration": 38,
    "start_time": "2022-02-19T12:22:44.093Z"
   },
   {
    "duration": 139,
    "start_time": "2022-02-19T12:22:44.766Z"
   },
   {
    "duration": 32,
    "start_time": "2022-02-19T12:22:45.212Z"
   },
   {
    "duration": 34,
    "start_time": "2022-02-19T12:22:51.634Z"
   },
   {
    "duration": 136,
    "start_time": "2022-02-19T12:22:51.671Z"
   },
   {
    "duration": 31,
    "start_time": "2022-02-19T12:22:51.953Z"
   },
   {
    "duration": 24,
    "start_time": "2022-02-19T12:24:04.329Z"
   },
   {
    "duration": 7,
    "start_time": "2022-02-19T12:24:06.275Z"
   },
   {
    "duration": 33,
    "start_time": "2022-02-19T12:24:17.197Z"
   },
   {
    "duration": 116,
    "start_time": "2022-02-19T12:24:17.631Z"
   },
   {
    "duration": 27,
    "start_time": "2022-02-19T12:24:18.575Z"
   },
   {
    "duration": 124,
    "start_time": "2022-02-19T12:26:19.655Z"
   },
   {
    "duration": 29,
    "start_time": "2022-02-19T12:26:20.069Z"
   },
   {
    "duration": 31,
    "start_time": "2022-02-19T12:26:31.579Z"
   },
   {
    "duration": 299,
    "start_time": "2022-02-19T12:32:35.976Z"
   },
   {
    "duration": 560,
    "start_time": "2022-02-19T12:32:36.950Z"
   },
   {
    "duration": 27,
    "start_time": "2022-02-19T12:32:44.357Z"
   },
   {
    "duration": 7,
    "start_time": "2022-02-19T12:33:28.636Z"
   },
   {
    "duration": 6,
    "start_time": "2022-02-19T12:33:43.366Z"
   },
   {
    "duration": 33,
    "start_time": "2022-02-19T12:34:04.395Z"
   },
   {
    "duration": 303,
    "start_time": "2022-02-19T12:34:14.171Z"
   },
   {
    "duration": 5,
    "start_time": "2022-02-19T12:34:22.746Z"
   },
   {
    "duration": 12,
    "start_time": "2022-02-19T12:34:36.714Z"
   },
   {
    "duration": 5,
    "start_time": "2022-02-19T12:34:48.082Z"
   },
   {
    "duration": 204,
    "start_time": "2022-02-19T12:34:59.089Z"
   },
   {
    "duration": 6,
    "start_time": "2022-02-19T12:35:15.104Z"
   },
   {
    "duration": 29,
    "start_time": "2022-02-19T12:35:26.924Z"
   },
   {
    "duration": 18,
    "start_time": "2022-02-19T12:35:34.993Z"
   },
   {
    "duration": 12,
    "start_time": "2022-02-19T12:36:42.597Z"
   },
   {
    "duration": 92,
    "start_time": "2022-02-19T12:37:28.748Z"
   },
   {
    "duration": 114,
    "start_time": "2022-02-19T12:37:34.147Z"
   },
   {
    "duration": 24,
    "start_time": "2022-02-19T12:37:34.863Z"
   },
   {
    "duration": 30,
    "start_time": "2022-02-19T12:37:35.946Z"
   },
   {
    "duration": 34,
    "start_time": "2022-02-19T12:38:12.190Z"
   },
   {
    "duration": 39,
    "start_time": "2022-02-19T12:39:16.798Z"
   },
   {
    "duration": 323,
    "start_time": "2022-02-19T12:39:59.294Z"
   },
   {
    "duration": 39,
    "start_time": "2022-02-19T12:40:15.698Z"
   },
   {
    "duration": 26,
    "start_time": "2022-02-19T12:44:11.171Z"
   },
   {
    "duration": 55,
    "start_time": "2022-02-19T12:45:03.940Z"
   },
   {
    "duration": 38,
    "start_time": "2022-02-19T12:47:31.147Z"
   },
   {
    "duration": 152,
    "start_time": "2022-02-19T12:51:50.236Z"
   },
   {
    "duration": 19,
    "start_time": "2022-02-19T12:51:59.004Z"
   },
   {
    "duration": 24,
    "start_time": "2022-02-19T13:32:36.395Z"
   },
   {
    "duration": 296,
    "start_time": "2022-02-19T13:32:43.763Z"
   },
   {
    "duration": 198,
    "start_time": "2022-02-19T13:32:57.721Z"
   },
   {
    "duration": 27,
    "start_time": "2022-02-19T13:32:58.998Z"
   },
   {
    "duration": 226,
    "start_time": "2022-02-19T13:33:15.523Z"
   },
   {
    "duration": 292,
    "start_time": "2022-02-19T13:40:19.260Z"
   },
   {
    "duration": 103,
    "start_time": "2022-02-19T13:40:41.605Z"
   },
   {
    "duration": 7566,
    "start_time": "2022-02-19T13:40:52.216Z"
   },
   {
    "duration": 5,
    "start_time": "2022-02-19T13:41:25.200Z"
   },
   {
    "duration": 35930,
    "start_time": "2022-02-19T13:41:35.209Z"
   },
   {
    "duration": 27,
    "start_time": "2022-02-19T13:42:11.143Z"
   },
   {
    "duration": 19,
    "start_time": "2022-02-19T13:42:15.193Z"
   },
   {
    "duration": 30,
    "start_time": "2022-02-19T13:42:23.994Z"
   },
   {
    "duration": 34,
    "start_time": "2022-02-19T13:42:42.089Z"
   },
   {
    "duration": 10,
    "start_time": "2022-02-19T13:43:24.327Z"
   },
   {
    "duration": 23,
    "start_time": "2022-02-19T13:43:30.580Z"
   },
   {
    "duration": 29,
    "start_time": "2022-02-19T13:43:46.439Z"
   },
   {
    "duration": 24,
    "start_time": "2022-02-19T13:44:11.760Z"
   },
   {
    "duration": 35,
    "start_time": "2022-02-19T13:45:29.408Z"
   },
   {
    "duration": 32,
    "start_time": "2022-02-19T13:46:07.458Z"
   },
   {
    "duration": 2202,
    "start_time": "2022-02-19T13:46:17.146Z"
   },
   {
    "duration": 896,
    "start_time": "2022-02-19T13:46:19.351Z"
   },
   {
    "duration": 20,
    "start_time": "2022-02-19T13:46:20.250Z"
   },
   {
    "duration": 10,
    "start_time": "2022-02-19T13:46:20.273Z"
   },
   {
    "duration": 13,
    "start_time": "2022-02-19T13:46:20.285Z"
   },
   {
    "duration": 13,
    "start_time": "2022-02-19T13:46:20.300Z"
   },
   {
    "duration": 48,
    "start_time": "2022-02-19T13:46:20.316Z"
   },
   {
    "duration": 7,
    "start_time": "2022-02-19T13:46:20.370Z"
   },
   {
    "duration": 9,
    "start_time": "2022-02-19T13:46:20.381Z"
   },
   {
    "duration": 17,
    "start_time": "2022-02-19T13:46:20.393Z"
   },
   {
    "duration": 19,
    "start_time": "2022-02-19T13:46:20.462Z"
   },
   {
    "duration": 41,
    "start_time": "2022-02-19T13:46:20.484Z"
   },
   {
    "duration": 52,
    "start_time": "2022-02-19T13:46:20.528Z"
   },
   {
    "duration": 17,
    "start_time": "2022-02-19T13:46:20.583Z"
   },
   {
    "duration": 23,
    "start_time": "2022-02-19T13:46:20.602Z"
   },
   {
    "duration": 48,
    "start_time": "2022-02-19T13:46:20.627Z"
   },
   {
    "duration": 12,
    "start_time": "2022-02-19T13:46:20.677Z"
   },
   {
    "duration": 78,
    "start_time": "2022-02-19T13:46:20.692Z"
   },
   {
    "duration": 245,
    "start_time": "2022-02-19T13:46:20.773Z"
   },
   {
    "duration": 181,
    "start_time": "2022-02-19T13:46:21.021Z"
   },
   {
    "duration": 442,
    "start_time": "2022-02-19T13:46:21.204Z"
   },
   {
    "duration": 241,
    "start_time": "2022-02-19T13:46:21.649Z"
   },
   {
    "duration": 82,
    "start_time": "2022-02-19T13:46:21.897Z"
   },
   {
    "duration": 63,
    "start_time": "2022-02-19T13:46:21.983Z"
   },
   {
    "duration": 56,
    "start_time": "2022-02-19T13:46:22.062Z"
   },
   {
    "duration": 41,
    "start_time": "2022-02-19T13:46:22.120Z"
   },
   {
    "duration": 12,
    "start_time": "2022-02-19T13:46:22.164Z"
   },
   {
    "duration": 15,
    "start_time": "2022-02-19T13:46:22.179Z"
   },
   {
    "duration": 8,
    "start_time": "2022-02-19T13:46:22.197Z"
   },
   {
    "duration": 54,
    "start_time": "2022-02-19T13:46:22.207Z"
   },
   {
    "duration": 13,
    "start_time": "2022-02-19T13:46:22.263Z"
   },
   {
    "duration": 13,
    "start_time": "2022-02-19T13:46:22.278Z"
   },
   {
    "duration": 17,
    "start_time": "2022-02-19T13:46:22.294Z"
   },
   {
    "duration": 85,
    "start_time": "2022-02-19T13:46:22.314Z"
   },
   {
    "duration": 20,
    "start_time": "2022-02-19T13:46:22.402Z"
   },
   {
    "duration": 57,
    "start_time": "2022-02-19T13:46:22.426Z"
   },
   {
    "duration": 29,
    "start_time": "2022-02-19T13:46:22.486Z"
   },
   {
    "duration": 13,
    "start_time": "2022-02-19T13:46:22.518Z"
   },
   {
    "duration": 32,
    "start_time": "2022-02-19T13:46:22.561Z"
   },
   {
    "duration": 175,
    "start_time": "2022-02-19T13:46:22.596Z"
   },
   {
    "duration": 18,
    "start_time": "2022-02-19T13:46:22.773Z"
   },
   {
    "duration": 22,
    "start_time": "2022-02-19T13:46:22.794Z"
   },
   {
    "duration": 65,
    "start_time": "2022-02-19T13:46:22.819Z"
   },
   {
    "duration": 18,
    "start_time": "2022-02-19T13:46:22.887Z"
   },
   {
    "duration": 575,
    "start_time": "2022-02-19T13:46:22.908Z"
   },
   {
    "duration": -406,
    "start_time": "2022-02-19T13:46:23.892Z"
   },
   {
    "duration": -410,
    "start_time": "2022-02-19T13:46:23.897Z"
   },
   {
    "duration": -412,
    "start_time": "2022-02-19T13:46:23.901Z"
   },
   {
    "duration": -414,
    "start_time": "2022-02-19T13:46:23.904Z"
   },
   {
    "duration": -416,
    "start_time": "2022-02-19T13:46:23.908Z"
   },
   {
    "duration": -417,
    "start_time": "2022-02-19T13:46:23.911Z"
   },
   {
    "duration": -419,
    "start_time": "2022-02-19T13:46:23.915Z"
   },
   {
    "duration": -421,
    "start_time": "2022-02-19T13:46:23.918Z"
   },
   {
    "duration": -423,
    "start_time": "2022-02-19T13:46:23.922Z"
   },
   {
    "duration": -425,
    "start_time": "2022-02-19T13:46:23.925Z"
   },
   {
    "duration": -426,
    "start_time": "2022-02-19T13:46:23.928Z"
   },
   {
    "duration": -435,
    "start_time": "2022-02-19T13:46:23.938Z"
   },
   {
    "duration": -437,
    "start_time": "2022-02-19T13:46:23.942Z"
   },
   {
    "duration": -439,
    "start_time": "2022-02-19T13:46:23.946Z"
   },
   {
    "duration": -448,
    "start_time": "2022-02-19T13:46:23.956Z"
   },
   {
    "duration": -449,
    "start_time": "2022-02-19T13:46:23.959Z"
   },
   {
    "duration": -451,
    "start_time": "2022-02-19T13:46:23.963Z"
   },
   {
    "duration": -452,
    "start_time": "2022-02-19T13:46:23.967Z"
   },
   {
    "duration": -453,
    "start_time": "2022-02-19T13:46:23.970Z"
   },
   {
    "duration": -455,
    "start_time": "2022-02-19T13:46:23.974Z"
   },
   {
    "duration": -458,
    "start_time": "2022-02-19T13:46:23.978Z"
   },
   {
    "duration": -460,
    "start_time": "2022-02-19T13:46:23.982Z"
   },
   {
    "duration": -463,
    "start_time": "2022-02-19T13:46:23.986Z"
   },
   {
    "duration": -428,
    "start_time": "2022-02-19T13:46:23.989Z"
   },
   {
    "duration": -431,
    "start_time": "2022-02-19T13:46:23.993Z"
   },
   {
    "duration": -441,
    "start_time": "2022-02-19T13:46:24.005Z"
   },
   {
    "duration": -443,
    "start_time": "2022-02-19T13:46:24.009Z"
   },
   {
    "duration": -445,
    "start_time": "2022-02-19T13:46:24.012Z"
   },
   {
    "duration": -447,
    "start_time": "2022-02-19T13:46:24.016Z"
   },
   {
    "duration": -449,
    "start_time": "2022-02-19T13:46:24.019Z"
   },
   {
    "duration": -450,
    "start_time": "2022-02-19T13:46:24.022Z"
   },
   {
    "duration": 7,
    "start_time": "2022-02-19T13:46:56.134Z"
   },
   {
    "duration": 6,
    "start_time": "2022-02-19T13:46:56.454Z"
   },
   {
    "duration": 35,
    "start_time": "2022-02-19T13:46:56.717Z"
   },
   {
    "duration": 7,
    "start_time": "2022-02-19T13:46:57.056Z"
   },
   {
    "duration": 9,
    "start_time": "2022-02-19T13:46:57.710Z"
   },
   {
    "duration": 6,
    "start_time": "2022-02-19T13:46:58.058Z"
   },
   {
    "duration": 267,
    "start_time": "2022-02-19T13:47:00.133Z"
   },
   {
    "duration": 36,
    "start_time": "2022-02-19T13:47:10.109Z"
   },
   {
    "duration": 35,
    "start_time": "2022-02-19T13:47:39.760Z"
   },
   {
    "duration": 36,
    "start_time": "2022-02-19T13:47:50.727Z"
   },
   {
    "duration": 110,
    "start_time": "2022-02-19T13:48:02.619Z"
   },
   {
    "duration": 41,
    "start_time": "2022-02-19T13:48:11.159Z"
   },
   {
    "duration": 38,
    "start_time": "2022-02-19T13:48:21.479Z"
   },
   {
    "duration": 9891,
    "start_time": "2022-02-19T13:55:16.186Z"
   },
   {
    "duration": -395,
    "start_time": "2022-02-19T13:55:26.474Z"
   },
   {
    "duration": -407,
    "start_time": "2022-02-19T13:55:26.488Z"
   },
   {
    "duration": 5,
    "start_time": "2022-02-19T13:55:32.997Z"
   },
   {
    "duration": 36371,
    "start_time": "2022-02-19T13:55:33.615Z"
   },
   {
    "duration": 17,
    "start_time": "2022-02-19T13:56:15.699Z"
   },
   {
    "duration": 17,
    "start_time": "2022-02-19T13:56:18.215Z"
   },
   {
    "duration": 31,
    "start_time": "2022-02-19T13:56:20.179Z"
   },
   {
    "duration": 30,
    "start_time": "2022-02-19T13:57:15.849Z"
   },
   {
    "duration": 27,
    "start_time": "2022-02-19T14:03:55.751Z"
   },
   {
    "duration": 29,
    "start_time": "2022-02-19T14:04:16.286Z"
   },
   {
    "duration": 30,
    "start_time": "2022-02-19T14:05:18.117Z"
   },
   {
    "duration": 26,
    "start_time": "2022-02-19T14:05:27.145Z"
   },
   {
    "duration": 32,
    "start_time": "2022-02-19T14:07:10.730Z"
   },
   {
    "duration": 325,
    "start_time": "2022-02-19T14:10:26.824Z"
   },
   {
    "duration": 29,
    "start_time": "2022-02-19T14:10:32.199Z"
   },
   {
    "duration": 24,
    "start_time": "2022-02-19T14:10:47.513Z"
   },
   {
    "duration": 34,
    "start_time": "2022-02-19T14:10:52.935Z"
   },
   {
    "duration": 29,
    "start_time": "2022-02-19T14:11:03.202Z"
   },
   {
    "duration": 32,
    "start_time": "2022-02-19T14:11:47.568Z"
   },
   {
    "duration": 15,
    "start_time": "2022-02-19T14:13:27.679Z"
   },
   {
    "duration": 14,
    "start_time": "2022-02-19T14:13:38.149Z"
   },
   {
    "duration": 27,
    "start_time": "2022-02-19T14:13:42.768Z"
   },
   {
    "duration": 33,
    "start_time": "2022-02-19T14:14:16.964Z"
   },
   {
    "duration": 14,
    "start_time": "2022-02-19T14:14:28.053Z"
   },
   {
    "duration": 29,
    "start_time": "2022-02-19T14:14:34.579Z"
   },
   {
    "duration": 29,
    "start_time": "2022-02-19T14:14:39.037Z"
   },
   {
    "duration": 28,
    "start_time": "2022-02-19T14:14:43.455Z"
   },
   {
    "duration": 30,
    "start_time": "2022-02-19T14:14:46.976Z"
   },
   {
    "duration": 43,
    "start_time": "2022-02-19T14:14:51.643Z"
   },
   {
    "duration": 29,
    "start_time": "2022-02-19T14:14:55.922Z"
   },
   {
    "duration": 28,
    "start_time": "2022-02-19T14:15:50.097Z"
   },
   {
    "duration": 29,
    "start_time": "2022-02-19T14:16:31.691Z"
   },
   {
    "duration": 107,
    "start_time": "2022-02-19T14:17:00.835Z"
   },
   {
    "duration": 33,
    "start_time": "2022-02-19T14:17:10.338Z"
   },
   {
    "duration": 30,
    "start_time": "2022-02-19T14:17:29.311Z"
   },
   {
    "duration": 33,
    "start_time": "2022-02-19T14:18:43.607Z"
   },
   {
    "duration": 38,
    "start_time": "2022-02-19T14:20:22.450Z"
   },
   {
    "duration": 21,
    "start_time": "2022-02-19T14:20:30.006Z"
   },
   {
    "duration": 36,
    "start_time": "2022-02-19T14:22:03.017Z"
   },
   {
    "duration": 322,
    "start_time": "2022-02-19T14:22:14.306Z"
   },
   {
    "duration": 28,
    "start_time": "2022-02-19T14:22:16.785Z"
   },
   {
    "duration": 313,
    "start_time": "2022-02-19T14:22:26.590Z"
   },
   {
    "duration": 38,
    "start_time": "2022-02-19T14:22:30.215Z"
   },
   {
    "duration": 35,
    "start_time": "2022-02-19T14:23:41.579Z"
   },
   {
    "duration": 39,
    "start_time": "2022-02-19T14:24:03.151Z"
   },
   {
    "duration": 41,
    "start_time": "2022-02-19T14:24:51.431Z"
   },
   {
    "duration": 29,
    "start_time": "2022-02-19T14:26:27.815Z"
   },
   {
    "duration": 308,
    "start_time": "2022-02-19T14:31:21.315Z"
   },
   {
    "duration": 13,
    "start_time": "2022-02-19T14:31:24.692Z"
   },
   {
    "duration": 11,
    "start_time": "2022-02-19T14:32:18.827Z"
   },
   {
    "duration": 15,
    "start_time": "2022-02-19T14:32:20.900Z"
   },
   {
    "duration": 25,
    "start_time": "2022-02-19T14:32:29.469Z"
   },
   {
    "duration": 300,
    "start_time": "2022-02-19T14:40:24.540Z"
   },
   {
    "duration": 27,
    "start_time": "2022-02-19T14:40:32.387Z"
   },
   {
    "duration": 27,
    "start_time": "2022-02-19T14:40:38.479Z"
   },
   {
    "duration": 17,
    "start_time": "2022-02-19T14:41:18.976Z"
   },
   {
    "duration": 16,
    "start_time": "2022-02-19T15:53:56.428Z"
   },
   {
    "duration": 18,
    "start_time": "2022-02-19T15:54:12.376Z"
   },
   {
    "duration": 18,
    "start_time": "2022-02-19T15:54:17.750Z"
   },
   {
    "duration": 14,
    "start_time": "2022-02-19T15:54:27.452Z"
   },
   {
    "duration": 97,
    "start_time": "2022-02-19T15:55:47.029Z"
   },
   {
    "duration": 280,
    "start_time": "2022-02-19T15:55:51.709Z"
   },
   {
    "duration": 289,
    "start_time": "2022-02-19T15:56:02.608Z"
   },
   {
    "duration": 483,
    "start_time": "2022-02-19T15:56:06.974Z"
   },
   {
    "duration": 20,
    "start_time": "2022-02-19T16:12:02.812Z"
   },
   {
    "duration": 35,
    "start_time": "2022-02-19T16:12:03.722Z"
   },
   {
    "duration": 14,
    "start_time": "2022-02-19T16:12:05.705Z"
   },
   {
    "duration": 32,
    "start_time": "2022-02-19T16:12:06.609Z"
   },
   {
    "duration": 136,
    "start_time": "2022-02-19T16:12:07.308Z"
   },
   {
    "duration": 31,
    "start_time": "2022-02-19T16:12:09.810Z"
   },
   {
    "duration": 39,
    "start_time": "2022-02-19T16:12:32.378Z"
   },
   {
    "duration": 152,
    "start_time": "2022-02-19T16:12:33.291Z"
   },
   {
    "duration": 37,
    "start_time": "2022-02-19T16:12:35.141Z"
   },
   {
    "duration": 2014,
    "start_time": "2022-02-19T16:12:41.816Z"
   },
   {
    "duration": 875,
    "start_time": "2022-02-19T16:12:43.833Z"
   },
   {
    "duration": 18,
    "start_time": "2022-02-19T16:12:44.711Z"
   },
   {
    "duration": 13,
    "start_time": "2022-02-19T16:12:44.732Z"
   },
   {
    "duration": 14,
    "start_time": "2022-02-19T16:12:44.760Z"
   },
   {
    "duration": 13,
    "start_time": "2022-02-19T16:12:44.777Z"
   },
   {
    "duration": 31,
    "start_time": "2022-02-19T16:12:44.792Z"
   },
   {
    "duration": 18,
    "start_time": "2022-02-19T16:12:44.826Z"
   },
   {
    "duration": 22,
    "start_time": "2022-02-19T16:12:44.847Z"
   },
   {
    "duration": 16,
    "start_time": "2022-02-19T16:12:44.871Z"
   },
   {
    "duration": 16,
    "start_time": "2022-02-19T16:12:44.890Z"
   },
   {
    "duration": 64,
    "start_time": "2022-02-19T16:12:44.909Z"
   },
   {
    "duration": 26,
    "start_time": "2022-02-19T16:12:44.975Z"
   },
   {
    "duration": 16,
    "start_time": "2022-02-19T16:12:45.003Z"
   },
   {
    "duration": 54,
    "start_time": "2022-02-19T16:12:45.022Z"
   },
   {
    "duration": 18,
    "start_time": "2022-02-19T16:12:45.079Z"
   },
   {
    "duration": 16,
    "start_time": "2022-02-19T16:12:45.100Z"
   },
   {
    "duration": 86,
    "start_time": "2022-02-19T16:12:45.118Z"
   },
   {
    "duration": 257,
    "start_time": "2022-02-19T16:12:45.206Z"
   },
   {
    "duration": 190,
    "start_time": "2022-02-19T16:12:45.466Z"
   },
   {
    "duration": 418,
    "start_time": "2022-02-19T16:12:45.662Z"
   },
   {
    "duration": 238,
    "start_time": "2022-02-19T16:12:46.082Z"
   },
   {
    "duration": 81,
    "start_time": "2022-02-19T16:12:46.327Z"
   },
   {
    "duration": 76,
    "start_time": "2022-02-19T16:12:46.411Z"
   },
   {
    "duration": 56,
    "start_time": "2022-02-19T16:12:46.489Z"
   },
   {
    "duration": 13,
    "start_time": "2022-02-19T16:12:46.562Z"
   },
   {
    "duration": 11,
    "start_time": "2022-02-19T16:12:46.577Z"
   },
   {
    "duration": 14,
    "start_time": "2022-02-19T16:12:46.591Z"
   },
   {
    "duration": 54,
    "start_time": "2022-02-19T16:12:46.607Z"
   },
   {
    "duration": 10,
    "start_time": "2022-02-19T16:12:46.665Z"
   },
   {
    "duration": 14,
    "start_time": "2022-02-19T16:12:46.678Z"
   },
   {
    "duration": 12,
    "start_time": "2022-02-19T16:12:46.694Z"
   },
   {
    "duration": 56,
    "start_time": "2022-02-19T16:12:46.709Z"
   },
   {
    "duration": 53,
    "start_time": "2022-02-19T16:12:46.767Z"
   },
   {
    "duration": 40,
    "start_time": "2022-02-19T16:12:46.822Z"
   },
   {
    "duration": 22,
    "start_time": "2022-02-19T16:12:46.865Z"
   },
   {
    "duration": 40,
    "start_time": "2022-02-19T16:12:46.889Z"
   },
   {
    "duration": 39,
    "start_time": "2022-02-19T16:12:46.931Z"
   },
   {
    "duration": 39,
    "start_time": "2022-02-19T16:12:46.972Z"
   },
   {
    "duration": 207,
    "start_time": "2022-02-19T16:12:47.014Z"
   },
   {
    "duration": 48,
    "start_time": "2022-02-19T16:12:47.224Z"
   },
   {
    "duration": 14,
    "start_time": "2022-02-19T16:12:47.274Z"
   },
   {
    "duration": 18,
    "start_time": "2022-02-19T16:12:47.291Z"
   },
   {
    "duration": 19,
    "start_time": "2022-02-19T16:12:47.312Z"
   },
   {
    "duration": 14,
    "start_time": "2022-02-19T16:12:47.362Z"
   },
   {
    "duration": 662,
    "start_time": "2022-02-19T16:12:47.379Z"
   },
   {
    "duration": 292,
    "start_time": "2022-02-19T16:14:52.774Z"
   },
   {
    "duration": 408,
    "start_time": "2022-02-19T16:14:57.430Z"
   },
   {
    "duration": 17,
    "start_time": "2022-02-19T16:15:05.714Z"
   },
   {
    "duration": 14,
    "start_time": "2022-02-19T16:15:49.105Z"
   },
   {
    "duration": 20,
    "start_time": "2022-02-19T16:16:25.408Z"
   },
   {
    "duration": 13,
    "start_time": "2022-02-19T16:16:56.372Z"
   },
   {
    "duration": 36,
    "start_time": "2022-02-19T16:17:27.013Z"
   },
   {
    "duration": 9,
    "start_time": "2022-02-19T16:17:38.639Z"
   },
   {
    "duration": 195,
    "start_time": "2022-02-19T16:17:39.601Z"
   },
   {
    "duration": 34,
    "start_time": "2022-02-19T16:17:45.291Z"
   },
   {
    "duration": 23,
    "start_time": "2022-02-19T16:18:26.599Z"
   },
   {
    "duration": 21,
    "start_time": "2022-02-19T16:18:40.406Z"
   },
   {
    "duration": 406,
    "start_time": "2022-02-19T16:19:13.937Z"
   },
   {
    "duration": 178,
    "start_time": "2022-02-19T16:20:24.830Z"
   },
   {
    "duration": 172,
    "start_time": "2022-02-19T16:21:01.092Z"
   },
   {
    "duration": 49,
    "start_time": "2022-02-19T17:00:36.834Z"
   },
   {
    "duration": 56,
    "start_time": "2022-02-19T17:00:52.362Z"
   },
   {
    "duration": 57,
    "start_time": "2022-02-19T17:02:11.006Z"
   },
   {
    "duration": 55,
    "start_time": "2022-02-19T17:02:22.928Z"
   },
   {
    "duration": 20,
    "start_time": "2022-02-19T17:09:34.499Z"
   },
   {
    "duration": 326,
    "start_time": "2022-02-19T17:10:02.984Z"
   },
   {
    "duration": 278,
    "start_time": "2022-02-19T17:10:05.282Z"
   },
   {
    "duration": 17,
    "start_time": "2022-02-19T17:10:09.233Z"
   },
   {
    "duration": 19,
    "start_time": "2022-02-19T17:10:24.067Z"
   },
   {
    "duration": 19,
    "start_time": "2022-02-19T17:10:27.676Z"
   },
   {
    "duration": 19,
    "start_time": "2022-02-19T17:10:30.996Z"
   },
   {
    "duration": 18,
    "start_time": "2022-02-19T17:10:33.822Z"
   },
   {
    "duration": 44,
    "start_time": "2022-02-19T17:11:30.690Z"
   },
   {
    "duration": 30,
    "start_time": "2022-02-19T17:11:35.140Z"
   },
   {
    "duration": 23,
    "start_time": "2022-02-19T17:11:49.700Z"
   },
   {
    "duration": 388,
    "start_time": "2022-02-19T17:16:36.033Z"
   },
   {
    "duration": 192,
    "start_time": "2022-02-19T17:16:40.345Z"
   },
   {
    "duration": 32,
    "start_time": "2022-02-19T17:17:19.399Z"
   },
   {
    "duration": 153,
    "start_time": "2022-02-19T17:18:32.902Z"
   },
   {
    "duration": 288,
    "start_time": "2022-02-19T17:22:33.282Z"
   },
   {
    "duration": 10,
    "start_time": "2022-02-19T17:22:41.887Z"
   },
   {
    "duration": 30,
    "start_time": "2022-02-19T17:22:46.490Z"
   },
   {
    "duration": 4,
    "start_time": "2022-02-19T17:27:05.526Z"
   },
   {
    "duration": 834,
    "start_time": "2022-02-19T17:30:33.650Z"
   },
   {
    "duration": 996,
    "start_time": "2022-02-19T17:31:10.033Z"
   },
   {
    "duration": 5,
    "start_time": "2022-02-19T17:32:22.622Z"
   },
   {
    "duration": 1079,
    "start_time": "2022-02-19T17:32:24.520Z"
   },
   {
    "duration": 970,
    "start_time": "2022-02-19T17:32:36.559Z"
   },
   {
    "duration": 4,
    "start_time": "2022-02-19T17:33:06.923Z"
   },
   {
    "duration": 792,
    "start_time": "2022-02-19T17:33:07.644Z"
   },
   {
    "duration": 31,
    "start_time": "2022-02-19T17:33:13.712Z"
   },
   {
    "duration": 27,
    "start_time": "2022-02-19T17:33:32.896Z"
   },
   {
    "duration": 15,
    "start_time": "2022-02-19T17:33:38.694Z"
   },
   {
    "duration": 24,
    "start_time": "2022-02-19T17:33:42.166Z"
   },
   {
    "duration": 4,
    "start_time": "2022-02-19T17:34:27.454Z"
   },
   {
    "duration": 9182,
    "start_time": "2022-02-19T17:34:28.629Z"
   },
   {
    "duration": 4,
    "start_time": "2022-02-19T17:34:40.582Z"
   },
   {
    "duration": 916,
    "start_time": "2022-02-19T17:34:41.176Z"
   },
   {
    "duration": 24,
    "start_time": "2022-02-19T17:34:44.615Z"
   },
   {
    "duration": 27,
    "start_time": "2022-02-19T17:34:52.578Z"
   },
   {
    "duration": 26,
    "start_time": "2022-02-19T17:34:56.824Z"
   },
   {
    "duration": 4,
    "start_time": "2022-02-19T17:35:11.906Z"
   },
   {
    "duration": 1057,
    "start_time": "2022-02-19T17:35:12.619Z"
   },
   {
    "duration": 5,
    "start_time": "2022-02-19T17:35:23.786Z"
   },
   {
    "duration": 1141,
    "start_time": "2022-02-19T17:35:24.506Z"
   },
   {
    "duration": 4,
    "start_time": "2022-02-19T17:36:59.112Z"
   },
   {
    "duration": 7652,
    "start_time": "2022-02-19T17:37:02.879Z"
   },
   {
    "duration": 25,
    "start_time": "2022-02-19T17:37:17.141Z"
   },
   {
    "duration": 4,
    "start_time": "2022-02-19T17:38:18.162Z"
   },
   {
    "duration": 5227,
    "start_time": "2022-02-19T17:38:48.206Z"
   },
   {
    "duration": 29,
    "start_time": "2022-02-19T17:39:01.140Z"
   },
   {
    "duration": 4,
    "start_time": "2022-02-19T17:39:10.050Z"
   },
   {
    "duration": 5320,
    "start_time": "2022-02-19T17:39:10.981Z"
   },
   {
    "duration": 2055,
    "start_time": "2022-02-19T17:40:18.171Z"
   },
   {
    "duration": 849,
    "start_time": "2022-02-19T17:40:20.229Z"
   },
   {
    "duration": 18,
    "start_time": "2022-02-19T17:40:21.081Z"
   },
   {
    "duration": 14,
    "start_time": "2022-02-19T17:40:21.102Z"
   },
   {
    "duration": 16,
    "start_time": "2022-02-19T17:40:21.118Z"
   },
   {
    "duration": 31,
    "start_time": "2022-02-19T17:40:21.136Z"
   },
   {
    "duration": 17,
    "start_time": "2022-02-19T17:40:21.170Z"
   },
   {
    "duration": 16,
    "start_time": "2022-02-19T17:40:21.191Z"
   },
   {
    "duration": 13,
    "start_time": "2022-02-19T17:40:21.210Z"
   },
   {
    "duration": 40,
    "start_time": "2022-02-19T17:40:21.226Z"
   },
   {
    "duration": 27,
    "start_time": "2022-02-19T17:40:21.269Z"
   },
   {
    "duration": 42,
    "start_time": "2022-02-19T17:40:21.298Z"
   },
   {
    "duration": 24,
    "start_time": "2022-02-19T17:40:21.361Z"
   },
   {
    "duration": 15,
    "start_time": "2022-02-19T17:40:21.387Z"
   },
   {
    "duration": 21,
    "start_time": "2022-02-19T17:40:21.405Z"
   },
   {
    "duration": 45,
    "start_time": "2022-02-19T17:40:21.429Z"
   },
   {
    "duration": 13,
    "start_time": "2022-02-19T17:40:21.477Z"
   },
   {
    "duration": 78,
    "start_time": "2022-02-19T17:40:21.493Z"
   },
   {
    "duration": 233,
    "start_time": "2022-02-19T17:40:21.574Z"
   },
   {
    "duration": 175,
    "start_time": "2022-02-19T17:40:21.809Z"
   },
   {
    "duration": 505,
    "start_time": "2022-02-19T17:40:21.986Z"
   },
   {
    "duration": 498,
    "start_time": "2022-02-19T17:40:22.493Z"
   },
   {
    "duration": 165,
    "start_time": "2022-02-19T17:40:22.998Z"
   },
   {
    "duration": 70,
    "start_time": "2022-02-19T17:40:23.166Z"
   },
   {
    "duration": 68,
    "start_time": "2022-02-19T17:40:23.239Z"
   },
   {
    "duration": 13,
    "start_time": "2022-02-19T17:40:23.310Z"
   },
   {
    "duration": 36,
    "start_time": "2022-02-19T17:40:23.325Z"
   },
   {
    "duration": 14,
    "start_time": "2022-02-19T17:40:23.363Z"
   },
   {
    "duration": 7,
    "start_time": "2022-02-19T17:40:23.380Z"
   },
   {
    "duration": 15,
    "start_time": "2022-02-19T17:40:23.389Z"
   },
   {
    "duration": 13,
    "start_time": "2022-02-19T17:40:23.407Z"
   },
   {
    "duration": 12,
    "start_time": "2022-02-19T17:40:23.462Z"
   },
   {
    "duration": 15,
    "start_time": "2022-02-19T17:40:23.477Z"
   },
   {
    "duration": 77,
    "start_time": "2022-02-19T17:40:23.495Z"
   },
   {
    "duration": 18,
    "start_time": "2022-02-19T17:40:23.574Z"
   },
   {
    "duration": 20,
    "start_time": "2022-02-19T17:40:23.594Z"
   },
   {
    "duration": 73,
    "start_time": "2022-02-19T17:40:23.616Z"
   },
   {
    "duration": 173,
    "start_time": "2022-02-19T17:40:23.692Z"
   },
   {
    "duration": 13,
    "start_time": "2022-02-19T17:40:23.868Z"
   },
   {
    "duration": 479,
    "start_time": "2022-02-19T17:40:23.883Z"
   },
   {
    "duration": -99,
    "start_time": "2022-02-19T17:40:24.464Z"
   },
   {
    "duration": -103,
    "start_time": "2022-02-19T17:40:24.469Z"
   },
   {
    "duration": -104,
    "start_time": "2022-02-19T17:40:24.472Z"
   },
   {
    "duration": -115,
    "start_time": "2022-02-19T17:40:24.485Z"
   },
   {
    "duration": -117,
    "start_time": "2022-02-19T17:40:24.488Z"
   },
   {
    "duration": -119,
    "start_time": "2022-02-19T17:40:24.492Z"
   },
   {
    "duration": -122,
    "start_time": "2022-02-19T17:40:24.496Z"
   },
   {
    "duration": -124,
    "start_time": "2022-02-19T17:40:24.500Z"
   },
   {
    "duration": -127,
    "start_time": "2022-02-19T17:40:24.504Z"
   },
   {
    "duration": -130,
    "start_time": "2022-02-19T17:40:24.508Z"
   },
   {
    "duration": -132,
    "start_time": "2022-02-19T17:40:24.512Z"
   },
   {
    "duration": -140,
    "start_time": "2022-02-19T17:40:24.522Z"
   },
   {
    "duration": -143,
    "start_time": "2022-02-19T17:40:24.526Z"
   },
   {
    "duration": -145,
    "start_time": "2022-02-19T17:40:24.530Z"
   },
   {
    "duration": -148,
    "start_time": "2022-02-19T17:40:24.534Z"
   },
   {
    "duration": -150,
    "start_time": "2022-02-19T17:40:24.538Z"
   },
   {
    "duration": -152,
    "start_time": "2022-02-19T17:40:24.541Z"
   },
   {
    "duration": 5,
    "start_time": "2022-02-19T17:43:35.883Z"
   },
   {
    "duration": 2494,
    "start_time": "2022-02-19T17:44:00.790Z"
   },
   {
    "duration": 5,
    "start_time": "2022-02-19T17:45:15.765Z"
   },
   {
    "duration": 673,
    "start_time": "2022-02-19T17:45:18.237Z"
   },
   {
    "duration": 5481,
    "start_time": "2022-02-19T17:45:31.563Z"
   },
   {
    "duration": 42,
    "start_time": "2022-02-19T17:45:41.805Z"
   },
   {
    "duration": 23,
    "start_time": "2022-02-19T17:46:44.011Z"
   },
   {
    "duration": 22,
    "start_time": "2022-02-19T17:46:48.158Z"
   },
   {
    "duration": 21,
    "start_time": "2022-02-19T17:46:50.033Z"
   },
   {
    "duration": 21,
    "start_time": "2022-02-19T17:46:57.087Z"
   },
   {
    "duration": 19,
    "start_time": "2022-02-19T17:47:02.784Z"
   },
   {
    "duration": 293,
    "start_time": "2022-02-19T17:47:05.213Z"
   },
   {
    "duration": 19,
    "start_time": "2022-02-19T17:47:06.573Z"
   },
   {
    "duration": 19,
    "start_time": "2022-02-19T17:47:09.619Z"
   },
   {
    "duration": 21,
    "start_time": "2022-02-19T17:47:12.338Z"
   },
   {
    "duration": 19,
    "start_time": "2022-02-19T17:47:13.641Z"
   },
   {
    "duration": 21,
    "start_time": "2022-02-19T17:47:21.065Z"
   },
   {
    "duration": 280,
    "start_time": "2022-02-19T17:47:31.327Z"
   },
   {
    "duration": 25,
    "start_time": "2022-02-19T17:47:32.658Z"
   },
   {
    "duration": 19,
    "start_time": "2022-02-19T17:47:41.370Z"
   },
   {
    "duration": 20,
    "start_time": "2022-02-19T17:47:57.458Z"
   },
   {
    "duration": 23,
    "start_time": "2022-02-19T17:48:01.003Z"
   },
   {
    "duration": 25,
    "start_time": "2022-02-19T17:48:28.809Z"
   },
   {
    "duration": 23,
    "start_time": "2022-02-19T17:48:39.072Z"
   },
   {
    "duration": 23,
    "start_time": "2022-02-19T17:48:40.010Z"
   },
   {
    "duration": 24,
    "start_time": "2022-02-19T17:48:41.020Z"
   },
   {
    "duration": 24,
    "start_time": "2022-02-19T17:48:41.826Z"
   },
   {
    "duration": 23,
    "start_time": "2022-02-19T17:48:42.600Z"
   },
   {
    "duration": 23,
    "start_time": "2022-02-19T17:48:43.421Z"
   },
   {
    "duration": 26,
    "start_time": "2022-02-19T17:48:44.258Z"
   },
   {
    "duration": 25,
    "start_time": "2022-02-19T17:48:45.245Z"
   },
   {
    "duration": 23,
    "start_time": "2022-02-19T17:48:47.225Z"
   },
   {
    "duration": 31,
    "start_time": "2022-02-19T17:48:50.446Z"
   },
   {
    "duration": 32,
    "start_time": "2022-02-19T17:48:51.207Z"
   },
   {
    "duration": 2063,
    "start_time": "2022-02-19T17:51:40.210Z"
   },
   {
    "duration": 899,
    "start_time": "2022-02-19T17:51:42.276Z"
   },
   {
    "duration": 19,
    "start_time": "2022-02-19T17:51:43.179Z"
   },
   {
    "duration": 10,
    "start_time": "2022-02-19T17:51:43.201Z"
   },
   {
    "duration": 10,
    "start_time": "2022-02-19T17:51:43.213Z"
   },
   {
    "duration": 39,
    "start_time": "2022-02-19T17:51:43.225Z"
   },
   {
    "duration": 13,
    "start_time": "2022-02-19T17:51:43.266Z"
   },
   {
    "duration": 8,
    "start_time": "2022-02-19T17:51:43.283Z"
   },
   {
    "duration": 7,
    "start_time": "2022-02-19T17:51:43.294Z"
   },
   {
    "duration": 15,
    "start_time": "2022-02-19T17:51:43.304Z"
   },
   {
    "duration": 18,
    "start_time": "2022-02-19T17:51:43.361Z"
   },
   {
    "duration": 39,
    "start_time": "2022-02-19T17:51:43.382Z"
   },
   {
    "duration": 54,
    "start_time": "2022-02-19T17:51:43.423Z"
   },
   {
    "duration": 16,
    "start_time": "2022-02-19T17:51:43.479Z"
   },
   {
    "duration": 26,
    "start_time": "2022-02-19T17:51:43.498Z"
   },
   {
    "duration": 47,
    "start_time": "2022-02-19T17:51:43.527Z"
   },
   {
    "duration": 14,
    "start_time": "2022-02-19T17:51:43.576Z"
   },
   {
    "duration": 76,
    "start_time": "2022-02-19T17:51:43.592Z"
   },
   {
    "duration": 234,
    "start_time": "2022-02-19T17:51:43.670Z"
   },
   {
    "duration": 180,
    "start_time": "2022-02-19T17:51:43.907Z"
   },
   {
    "duration": 410,
    "start_time": "2022-02-19T17:51:44.090Z"
   },
   {
    "duration": 234,
    "start_time": "2022-02-19T17:51:44.503Z"
   },
   {
    "duration": 72,
    "start_time": "2022-02-19T17:51:44.745Z"
   },
   {
    "duration": 73,
    "start_time": "2022-02-19T17:51:44.821Z"
   },
   {
    "duration": 52,
    "start_time": "2022-02-19T17:51:44.897Z"
   },
   {
    "duration": 12,
    "start_time": "2022-02-19T17:51:44.962Z"
   },
   {
    "duration": 12,
    "start_time": "2022-02-19T17:51:44.976Z"
   },
   {
    "duration": 13,
    "start_time": "2022-02-19T17:51:44.990Z"
   },
   {
    "duration": 8,
    "start_time": "2022-02-19T17:51:45.006Z"
   },
   {
    "duration": 49,
    "start_time": "2022-02-19T17:51:45.016Z"
   },
   {
    "duration": 13,
    "start_time": "2022-02-19T17:51:45.068Z"
   },
   {
    "duration": 15,
    "start_time": "2022-02-19T17:51:45.084Z"
   },
   {
    "duration": 61,
    "start_time": "2022-02-19T17:51:45.102Z"
   },
   {
    "duration": 48,
    "start_time": "2022-02-19T17:51:45.165Z"
   },
   {
    "duration": 20,
    "start_time": "2022-02-19T17:51:45.216Z"
   },
   {
    "duration": 21,
    "start_time": "2022-02-19T17:51:45.263Z"
   },
   {
    "duration": 43,
    "start_time": "2022-02-19T17:51:45.286Z"
   },
   {
    "duration": 193,
    "start_time": "2022-02-19T17:51:45.331Z"
   },
   {
    "duration": 12,
    "start_time": "2022-02-19T17:51:45.527Z"
   },
   {
    "duration": 20,
    "start_time": "2022-02-19T17:51:45.542Z"
   },
   {
    "duration": 5,
    "start_time": "2022-02-19T17:51:45.565Z"
   },
   {
    "duration": 10851,
    "start_time": "2022-02-19T17:51:45.572Z"
   },
   {
    "duration": 497,
    "start_time": "2022-02-19T17:51:56.427Z"
   },
   {
    "duration": -41,
    "start_time": "2022-02-19T17:51:56.968Z"
   },
   {
    "duration": -45,
    "start_time": "2022-02-19T17:51:56.973Z"
   },
   {
    "duration": -55,
    "start_time": "2022-02-19T17:51:56.985Z"
   },
   {
    "duration": -58,
    "start_time": "2022-02-19T17:51:56.989Z"
   },
   {
    "duration": -61,
    "start_time": "2022-02-19T17:51:56.993Z"
   },
   {
    "duration": -62,
    "start_time": "2022-02-19T17:51:56.996Z"
   },
   {
    "duration": -63,
    "start_time": "2022-02-19T17:51:56.999Z"
   },
   {
    "duration": -66,
    "start_time": "2022-02-19T17:51:57.003Z"
   },
   {
    "duration": -67,
    "start_time": "2022-02-19T17:51:57.006Z"
   },
   {
    "duration": -71,
    "start_time": "2022-02-19T17:51:57.011Z"
   },
   {
    "duration": -72,
    "start_time": "2022-02-19T17:51:57.014Z"
   },
   {
    "duration": -80,
    "start_time": "2022-02-19T17:51:57.023Z"
   },
   {
    "duration": -81,
    "start_time": "2022-02-19T17:51:57.026Z"
   },
   {
    "duration": -83,
    "start_time": "2022-02-19T17:51:57.029Z"
   },
   {
    "duration": -85,
    "start_time": "2022-02-19T17:51:57.032Z"
   },
   {
    "duration": 45,
    "start_time": "2022-02-19T17:52:48.982Z"
   },
   {
    "duration": 2069,
    "start_time": "2022-02-19T17:55:17.258Z"
   },
   {
    "duration": 858,
    "start_time": "2022-02-19T17:55:19.330Z"
   },
   {
    "duration": 25,
    "start_time": "2022-02-19T17:55:20.192Z"
   },
   {
    "duration": 10,
    "start_time": "2022-02-19T17:55:20.220Z"
   },
   {
    "duration": 31,
    "start_time": "2022-02-19T17:55:20.233Z"
   },
   {
    "duration": 10,
    "start_time": "2022-02-19T17:55:20.267Z"
   },
   {
    "duration": 15,
    "start_time": "2022-02-19T17:55:20.280Z"
   },
   {
    "duration": 16,
    "start_time": "2022-02-19T17:55:20.301Z"
   },
   {
    "duration": 44,
    "start_time": "2022-02-19T17:55:20.320Z"
   },
   {
    "duration": 15,
    "start_time": "2022-02-19T17:55:20.367Z"
   },
   {
    "duration": 19,
    "start_time": "2022-02-19T17:55:20.385Z"
   },
   {
    "duration": 75,
    "start_time": "2022-02-19T17:55:20.407Z"
   },
   {
    "duration": 24,
    "start_time": "2022-02-19T17:55:20.484Z"
   },
   {
    "duration": 15,
    "start_time": "2022-02-19T17:55:20.510Z"
   },
   {
    "duration": 47,
    "start_time": "2022-02-19T17:55:20.527Z"
   },
   {
    "duration": 18,
    "start_time": "2022-02-19T17:55:20.576Z"
   },
   {
    "duration": 17,
    "start_time": "2022-02-19T17:55:20.597Z"
   },
   {
    "duration": 84,
    "start_time": "2022-02-19T17:55:20.617Z"
   },
   {
    "duration": 248,
    "start_time": "2022-02-19T17:55:20.703Z"
   },
   {
    "duration": 183,
    "start_time": "2022-02-19T17:55:20.954Z"
   },
   {
    "duration": 400,
    "start_time": "2022-02-19T17:55:21.140Z"
   },
   {
    "duration": 236,
    "start_time": "2022-02-19T17:55:21.543Z"
   },
   {
    "duration": 77,
    "start_time": "2022-02-19T17:55:21.785Z"
   },
   {
    "duration": 62,
    "start_time": "2022-02-19T17:55:21.865Z"
   },
   {
    "duration": 80,
    "start_time": "2022-02-19T17:55:21.931Z"
   },
   {
    "duration": 17,
    "start_time": "2022-02-19T17:55:22.013Z"
   },
   {
    "duration": 30,
    "start_time": "2022-02-19T17:55:22.032Z"
   },
   {
    "duration": 14,
    "start_time": "2022-02-19T17:55:22.065Z"
   },
   {
    "duration": 8,
    "start_time": "2022-02-19T17:55:22.081Z"
   },
   {
    "duration": 13,
    "start_time": "2022-02-19T17:55:22.092Z"
   },
   {
    "duration": 56,
    "start_time": "2022-02-19T17:55:22.107Z"
   },
   {
    "duration": 15,
    "start_time": "2022-02-19T17:55:22.167Z"
   },
   {
    "duration": 17,
    "start_time": "2022-02-19T17:55:22.185Z"
   },
   {
    "duration": 98,
    "start_time": "2022-02-19T17:55:22.205Z"
   },
   {
    "duration": 18,
    "start_time": "2022-02-19T17:55:22.305Z"
   },
   {
    "duration": 42,
    "start_time": "2022-02-19T17:55:22.326Z"
   },
   {
    "duration": 42,
    "start_time": "2022-02-19T17:55:22.370Z"
   },
   {
    "duration": 179,
    "start_time": "2022-02-19T17:55:22.414Z"
   },
   {
    "duration": 14,
    "start_time": "2022-02-19T17:55:22.596Z"
   },
   {
    "duration": 5,
    "start_time": "2022-02-19T17:55:22.612Z"
   },
   {
    "duration": 5,
    "start_time": "2022-02-19T17:55:22.620Z"
   },
   {
    "duration": 18030,
    "start_time": "2022-02-19T17:55:22.627Z"
   },
   {
    "duration": 36,
    "start_time": "2022-02-19T17:55:40.661Z"
   },
   {
    "duration": 485,
    "start_time": "2022-02-19T17:55:40.700Z"
   },
   {
    "duration": -52,
    "start_time": "2022-02-19T17:55:41.240Z"
   },
   {
    "duration": -55,
    "start_time": "2022-02-19T17:55:41.245Z"
   },
   {
    "duration": -59,
    "start_time": "2022-02-19T17:55:41.250Z"
   },
   {
    "duration": -63,
    "start_time": "2022-02-19T17:55:41.255Z"
   },
   {
    "duration": -65,
    "start_time": "2022-02-19T17:55:41.259Z"
   },
   {
    "duration": -70,
    "start_time": "2022-02-19T17:55:41.265Z"
   },
   {
    "duration": -74,
    "start_time": "2022-02-19T17:55:41.270Z"
   },
   {
    "duration": -76,
    "start_time": "2022-02-19T17:55:41.274Z"
   },
   {
    "duration": -80,
    "start_time": "2022-02-19T17:55:41.280Z"
   },
   {
    "duration": -92,
    "start_time": "2022-02-19T17:55:41.293Z"
   },
   {
    "duration": -96,
    "start_time": "2022-02-19T17:55:41.299Z"
   },
   {
    "duration": -101,
    "start_time": "2022-02-19T17:55:41.305Z"
   },
   {
    "duration": -105,
    "start_time": "2022-02-19T17:55:41.311Z"
   },
   {
    "duration": -110,
    "start_time": "2022-02-19T17:55:41.317Z"
   },
   {
    "duration": -113,
    "start_time": "2022-02-19T17:55:41.321Z"
   },
   {
    "duration": 4,
    "start_time": "2022-02-19T17:57:21.362Z"
   },
   {
    "duration": 17773,
    "start_time": "2022-02-19T17:57:22.823Z"
   },
   {
    "duration": 38,
    "start_time": "2022-02-19T17:57:42.771Z"
   },
   {
    "duration": 5,
    "start_time": "2022-02-19T17:59:22.157Z"
   },
   {
    "duration": 5,
    "start_time": "2022-02-19T17:59:22.711Z"
   },
   {
    "duration": 18624,
    "start_time": "2022-02-19T17:59:23.182Z"
   },
   {
    "duration": 33,
    "start_time": "2022-02-19T17:59:44.084Z"
   },
   {
    "duration": 10,
    "start_time": "2022-02-19T18:00:11.648Z"
   },
   {
    "duration": 96,
    "start_time": "2022-02-19T18:01:10.894Z"
   },
   {
    "duration": 5,
    "start_time": "2022-02-19T18:01:22.132Z"
   },
   {
    "duration": 4,
    "start_time": "2022-02-19T18:01:52.097Z"
   },
   {
    "duration": 5,
    "start_time": "2022-02-19T18:01:53.735Z"
   },
   {
    "duration": 14776,
    "start_time": "2022-02-19T18:01:54.853Z"
   },
   {
    "duration": 11,
    "start_time": "2022-02-19T18:02:09.632Z"
   },
   {
    "duration": 5,
    "start_time": "2022-02-19T18:02:21.495Z"
   },
   {
    "duration": 5,
    "start_time": "2022-02-19T18:02:22.478Z"
   },
   {
    "duration": 10758,
    "start_time": "2022-02-19T18:02:24.459Z"
   },
   {
    "duration": 10,
    "start_time": "2022-02-19T18:02:37.826Z"
   },
   {
    "duration": 4,
    "start_time": "2022-02-19T18:02:55.895Z"
   },
   {
    "duration": 5,
    "start_time": "2022-02-19T18:03:00.300Z"
   },
   {
    "duration": 11197,
    "start_time": "2022-02-19T18:03:01.141Z"
   },
   {
    "duration": 9,
    "start_time": "2022-02-19T18:03:14.013Z"
   },
   {
    "duration": 36,
    "start_time": "2022-02-19T18:03:30.948Z"
   },
   {
    "duration": 2019,
    "start_time": "2022-02-19T18:03:41.861Z"
   },
   {
    "duration": 868,
    "start_time": "2022-02-19T18:03:43.882Z"
   },
   {
    "duration": 19,
    "start_time": "2022-02-19T18:03:44.753Z"
   },
   {
    "duration": 9,
    "start_time": "2022-02-19T18:03:44.775Z"
   },
   {
    "duration": 10,
    "start_time": "2022-02-19T18:03:44.786Z"
   },
   {
    "duration": 10,
    "start_time": "2022-02-19T18:03:44.799Z"
   },
   {
    "duration": 54,
    "start_time": "2022-02-19T18:03:44.812Z"
   },
   {
    "duration": 8,
    "start_time": "2022-02-19T18:03:44.870Z"
   },
   {
    "duration": 12,
    "start_time": "2022-02-19T18:03:44.881Z"
   },
   {
    "duration": 15,
    "start_time": "2022-02-19T18:03:44.896Z"
   },
   {
    "duration": 54,
    "start_time": "2022-02-19T18:03:44.913Z"
   },
   {
    "duration": 43,
    "start_time": "2022-02-19T18:03:44.970Z"
   },
   {
    "duration": 49,
    "start_time": "2022-02-19T18:03:45.015Z"
   },
   {
    "duration": 15,
    "start_time": "2022-02-19T18:03:45.067Z"
   },
   {
    "duration": 24,
    "start_time": "2022-02-19T18:03:45.084Z"
   },
   {
    "duration": 18,
    "start_time": "2022-02-19T18:03:45.110Z"
   },
   {
    "duration": 13,
    "start_time": "2022-02-19T18:03:45.162Z"
   },
   {
    "duration": 53,
    "start_time": "2022-02-19T18:03:45.177Z"
   },
   {
    "duration": 265,
    "start_time": "2022-02-19T18:03:45.232Z"
   },
   {
    "duration": 194,
    "start_time": "2022-02-19T18:03:45.500Z"
   },
   {
    "duration": 411,
    "start_time": "2022-02-19T18:03:45.697Z"
   },
   {
    "duration": 232,
    "start_time": "2022-02-19T18:03:46.110Z"
   },
   {
    "duration": 74,
    "start_time": "2022-02-19T18:03:46.348Z"
   },
   {
    "duration": 80,
    "start_time": "2022-02-19T18:03:46.426Z"
   },
   {
    "duration": 60,
    "start_time": "2022-02-19T18:03:46.509Z"
   },
   {
    "duration": 12,
    "start_time": "2022-02-19T18:03:46.572Z"
   },
   {
    "duration": 12,
    "start_time": "2022-02-19T18:03:46.587Z"
   },
   {
    "duration": 15,
    "start_time": "2022-02-19T18:03:46.602Z"
   },
   {
    "duration": 50,
    "start_time": "2022-02-19T18:03:46.619Z"
   },
   {
    "duration": 14,
    "start_time": "2022-02-19T18:03:46.671Z"
   },
   {
    "duration": 12,
    "start_time": "2022-02-19T18:03:46.688Z"
   },
   {
    "duration": 16,
    "start_time": "2022-02-19T18:03:46.702Z"
   },
   {
    "duration": 56,
    "start_time": "2022-02-19T18:03:46.721Z"
   },
   {
    "duration": 51,
    "start_time": "2022-02-19T18:03:46.780Z"
   },
   {
    "duration": 38,
    "start_time": "2022-02-19T18:03:46.834Z"
   },
   {
    "duration": 22,
    "start_time": "2022-02-19T18:03:46.874Z"
   },
   {
    "duration": 63,
    "start_time": "2022-02-19T18:03:46.898Z"
   },
   {
    "duration": 170,
    "start_time": "2022-02-19T18:03:46.963Z"
   },
   {
    "duration": 13,
    "start_time": "2022-02-19T18:03:47.136Z"
   },
   {
    "duration": 14,
    "start_time": "2022-02-19T18:03:47.151Z"
   },
   {
    "duration": 523,
    "start_time": "2022-02-19T18:03:47.168Z"
   },
   {
    "duration": -32,
    "start_time": "2022-02-19T18:03:47.726Z"
   },
   {
    "duration": -36,
    "start_time": "2022-02-19T18:03:47.733Z"
   },
   {
    "duration": -40,
    "start_time": "2022-02-19T18:03:47.738Z"
   },
   {
    "duration": -43,
    "start_time": "2022-02-19T18:03:47.743Z"
   },
   {
    "duration": -47,
    "start_time": "2022-02-19T18:03:47.749Z"
   },
   {
    "duration": -62,
    "start_time": "2022-02-19T18:03:47.766Z"
   },
   {
    "duration": -66,
    "start_time": "2022-02-19T18:03:47.772Z"
   },
   {
    "duration": -72,
    "start_time": "2022-02-19T18:03:47.779Z"
   },
   {
    "duration": -74,
    "start_time": "2022-02-19T18:03:47.783Z"
   },
   {
    "duration": -78,
    "start_time": "2022-02-19T18:03:47.788Z"
   },
   {
    "duration": -80,
    "start_time": "2022-02-19T18:03:47.792Z"
   },
   {
    "duration": -84,
    "start_time": "2022-02-19T18:03:47.797Z"
   },
   {
    "duration": -87,
    "start_time": "2022-02-19T18:03:47.802Z"
   },
   {
    "duration": -91,
    "start_time": "2022-02-19T18:03:47.807Z"
   },
   {
    "duration": -93,
    "start_time": "2022-02-19T18:03:47.811Z"
   },
   {
    "duration": -97,
    "start_time": "2022-02-19T18:03:47.816Z"
   },
   {
    "duration": -100,
    "start_time": "2022-02-19T18:03:47.820Z"
   },
   {
    "duration": -112,
    "start_time": "2022-02-19T18:03:47.834Z"
   },
   {
    "duration": -114,
    "start_time": "2022-02-19T18:03:47.838Z"
   },
   {
    "duration": -118,
    "start_time": "2022-02-19T18:03:47.843Z"
   },
   {
    "duration": 5808,
    "start_time": "2022-02-19T18:03:56.562Z"
   },
   {
    "duration": 10,
    "start_time": "2022-02-19T18:04:05.379Z"
   },
   {
    "duration": 2263,
    "start_time": "2022-02-19T18:04:35.413Z"
   },
   {
    "duration": 885,
    "start_time": "2022-02-19T18:04:37.679Z"
   },
   {
    "duration": 17,
    "start_time": "2022-02-19T18:04:38.567Z"
   },
   {
    "duration": 9,
    "start_time": "2022-02-19T18:04:38.587Z"
   },
   {
    "duration": 8,
    "start_time": "2022-02-19T18:04:38.599Z"
   },
   {
    "duration": 10,
    "start_time": "2022-02-19T18:04:38.609Z"
   },
   {
    "duration": 12,
    "start_time": "2022-02-19T18:04:38.663Z"
   },
   {
    "duration": 10,
    "start_time": "2022-02-19T18:04:38.679Z"
   },
   {
    "duration": 11,
    "start_time": "2022-02-19T18:04:38.692Z"
   },
   {
    "duration": 55,
    "start_time": "2022-02-19T18:04:38.706Z"
   },
   {
    "duration": 17,
    "start_time": "2022-02-19T18:04:38.764Z"
   },
   {
    "duration": 44,
    "start_time": "2022-02-19T18:04:38.783Z"
   },
   {
    "duration": 54,
    "start_time": "2022-02-19T18:04:38.829Z"
   },
   {
    "duration": 14,
    "start_time": "2022-02-19T18:04:38.886Z"
   },
   {
    "duration": 22,
    "start_time": "2022-02-19T18:04:38.902Z"
   },
   {
    "duration": 45,
    "start_time": "2022-02-19T18:04:38.926Z"
   },
   {
    "duration": 13,
    "start_time": "2022-02-19T18:04:38.974Z"
   },
   {
    "duration": 80,
    "start_time": "2022-02-19T18:04:38.990Z"
   },
   {
    "duration": 235,
    "start_time": "2022-02-19T18:04:39.072Z"
   },
   {
    "duration": 172,
    "start_time": "2022-02-19T18:04:39.310Z"
   },
   {
    "duration": 406,
    "start_time": "2022-02-19T18:04:39.484Z"
   },
   {
    "duration": 239,
    "start_time": "2022-02-19T18:04:39.892Z"
   },
   {
    "duration": 87,
    "start_time": "2022-02-19T18:04:40.137Z"
   },
   {
    "duration": 88,
    "start_time": "2022-02-19T18:04:40.227Z"
   },
   {
    "duration": 67,
    "start_time": "2022-02-19T18:04:40.318Z"
   },
   {
    "duration": 12,
    "start_time": "2022-02-19T18:04:40.388Z"
   },
   {
    "duration": 11,
    "start_time": "2022-02-19T18:04:40.403Z"
   },
   {
    "duration": 50,
    "start_time": "2022-02-19T18:04:40.416Z"
   },
   {
    "duration": 7,
    "start_time": "2022-02-19T18:04:40.468Z"
   },
   {
    "duration": 13,
    "start_time": "2022-02-19T18:04:40.478Z"
   },
   {
    "duration": 12,
    "start_time": "2022-02-19T18:04:40.494Z"
   },
   {
    "duration": 14,
    "start_time": "2022-02-19T18:04:40.508Z"
   },
   {
    "duration": 15,
    "start_time": "2022-02-19T18:04:40.561Z"
   },
   {
    "duration": 53,
    "start_time": "2022-02-19T18:04:40.579Z"
   },
   {
    "duration": 44,
    "start_time": "2022-02-19T18:04:40.634Z"
   },
   {
    "duration": 23,
    "start_time": "2022-02-19T18:04:40.680Z"
   },
   {
    "duration": 70,
    "start_time": "2022-02-19T18:04:40.705Z"
   },
   {
    "duration": 174,
    "start_time": "2022-02-19T18:04:40.777Z"
   },
   {
    "duration": 16,
    "start_time": "2022-02-19T18:04:40.962Z"
   },
   {
    "duration": 5,
    "start_time": "2022-02-19T18:04:40.981Z"
   },
   {
    "duration": 784,
    "start_time": "2022-02-19T18:04:40.988Z"
   },
   {
    "duration": -24,
    "start_time": "2022-02-19T18:04:41.799Z"
   },
   {
    "duration": -27,
    "start_time": "2022-02-19T18:04:41.804Z"
   },
   {
    "duration": -29,
    "start_time": "2022-02-19T18:04:41.808Z"
   },
   {
    "duration": -32,
    "start_time": "2022-02-19T18:04:41.813Z"
   },
   {
    "duration": -40,
    "start_time": "2022-02-19T18:04:41.824Z"
   },
   {
    "duration": -47,
    "start_time": "2022-02-19T18:04:41.833Z"
   },
   {
    "duration": -59,
    "start_time": "2022-02-19T18:04:41.847Z"
   },
   {
    "duration": -60,
    "start_time": "2022-02-19T18:04:41.850Z"
   },
   {
    "duration": -71,
    "start_time": "2022-02-19T18:04:41.863Z"
   },
   {
    "duration": -74,
    "start_time": "2022-02-19T18:04:41.868Z"
   },
   {
    "duration": -86,
    "start_time": "2022-02-19T18:04:41.883Z"
   },
   {
    "duration": -88,
    "start_time": "2022-02-19T18:04:41.887Z"
   },
   {
    "duration": -99,
    "start_time": "2022-02-19T18:04:41.900Z"
   },
   {
    "duration": -111,
    "start_time": "2022-02-19T18:04:41.914Z"
   },
   {
    "duration": -113,
    "start_time": "2022-02-19T18:04:41.918Z"
   },
   {
    "duration": -122,
    "start_time": "2022-02-19T18:04:41.929Z"
   },
   {
    "duration": -124,
    "start_time": "2022-02-19T18:04:41.933Z"
   },
   {
    "duration": -125,
    "start_time": "2022-02-19T18:04:41.936Z"
   },
   {
    "duration": -87,
    "start_time": "2022-02-19T18:04:41.948Z"
   },
   {
    "duration": -98,
    "start_time": "2022-02-19T18:04:41.962Z"
   },
   {
    "duration": 9129,
    "start_time": "2022-02-19T18:04:47.867Z"
   },
   {
    "duration": 11,
    "start_time": "2022-02-19T18:04:59.568Z"
   },
   {
    "duration": 4,
    "start_time": "2022-02-19T18:05:14.011Z"
   },
   {
    "duration": 5597,
    "start_time": "2022-02-19T18:05:20.453Z"
   },
   {
    "duration": 10,
    "start_time": "2022-02-19T18:05:27.613Z"
   },
   {
    "duration": 5,
    "start_time": "2022-02-19T18:06:09.039Z"
   },
   {
    "duration": 8935,
    "start_time": "2022-02-19T18:06:15.403Z"
   },
   {
    "duration": 10,
    "start_time": "2022-02-19T18:06:25.538Z"
   },
   {
    "duration": 5,
    "start_time": "2022-02-19T18:06:52.696Z"
   },
   {
    "duration": 1069,
    "start_time": "2022-02-19T18:06:58.606Z"
   },
   {
    "duration": 1058,
    "start_time": "2022-02-19T18:07:18.915Z"
   },
   {
    "duration": 10,
    "start_time": "2022-02-19T18:07:40.577Z"
   },
   {
    "duration": 5,
    "start_time": "2022-02-19T18:08:22.739Z"
   },
   {
    "duration": 5593,
    "start_time": "2022-02-19T18:08:25.224Z"
   },
   {
    "duration": 10,
    "start_time": "2022-02-19T18:08:32.660Z"
   },
   {
    "duration": 5,
    "start_time": "2022-02-19T18:08:54.306Z"
   },
   {
    "duration": 9515,
    "start_time": "2022-02-19T18:09:02.437Z"
   },
   {
    "duration": 10,
    "start_time": "2022-02-19T18:09:14.833Z"
   },
   {
    "duration": 5,
    "start_time": "2022-02-19T18:09:21.542Z"
   },
   {
    "duration": 5633,
    "start_time": "2022-02-19T18:09:27.908Z"
   },
   {
    "duration": 11,
    "start_time": "2022-02-19T18:09:36.329Z"
   },
   {
    "duration": 2087,
    "start_time": "2022-02-19T18:11:55.106Z"
   },
   {
    "duration": 913,
    "start_time": "2022-02-19T18:11:57.196Z"
   },
   {
    "duration": 17,
    "start_time": "2022-02-19T18:11:58.111Z"
   },
   {
    "duration": 9,
    "start_time": "2022-02-19T18:11:58.131Z"
   },
   {
    "duration": 27,
    "start_time": "2022-02-19T18:11:58.142Z"
   },
   {
    "duration": 15,
    "start_time": "2022-02-19T18:11:58.171Z"
   },
   {
    "duration": 13,
    "start_time": "2022-02-19T18:11:58.189Z"
   },
   {
    "duration": 7,
    "start_time": "2022-02-19T18:11:58.207Z"
   },
   {
    "duration": 49,
    "start_time": "2022-02-19T18:11:58.218Z"
   },
   {
    "duration": 24,
    "start_time": "2022-02-19T18:11:58.270Z"
   },
   {
    "duration": 17,
    "start_time": "2022-02-19T18:11:58.296Z"
   },
   {
    "duration": 68,
    "start_time": "2022-02-19T18:11:58.315Z"
   },
   {
    "duration": 25,
    "start_time": "2022-02-19T18:11:58.385Z"
   },
   {
    "duration": 15,
    "start_time": "2022-02-19T18:11:58.413Z"
   },
   {
    "duration": 54,
    "start_time": "2022-02-19T18:11:58.431Z"
   },
   {
    "duration": 16,
    "start_time": "2022-02-19T18:11:58.488Z"
   },
   {
    "duration": 11,
    "start_time": "2022-02-19T18:11:58.507Z"
   },
   {
    "duration": 89,
    "start_time": "2022-02-19T18:11:58.521Z"
   },
   {
    "duration": 240,
    "start_time": "2022-02-19T18:11:58.612Z"
   },
   {
    "duration": 186,
    "start_time": "2022-02-19T18:11:58.854Z"
   },
   {
    "duration": 456,
    "start_time": "2022-02-19T18:11:59.042Z"
   },
   {
    "duration": 261,
    "start_time": "2022-02-19T18:11:59.501Z"
   },
   {
    "duration": 73,
    "start_time": "2022-02-19T18:11:59.769Z"
   },
   {
    "duration": 68,
    "start_time": "2022-02-19T18:11:59.862Z"
   },
   {
    "duration": 80,
    "start_time": "2022-02-19T18:11:59.933Z"
   },
   {
    "duration": 18,
    "start_time": "2022-02-19T18:12:00.016Z"
   },
   {
    "duration": 30,
    "start_time": "2022-02-19T18:12:00.036Z"
   },
   {
    "duration": 32,
    "start_time": "2022-02-19T18:12:00.068Z"
   },
   {
    "duration": 8,
    "start_time": "2022-02-19T18:12:00.103Z"
   },
   {
    "duration": 16,
    "start_time": "2022-02-19T18:12:00.113Z"
   },
   {
    "duration": 37,
    "start_time": "2022-02-19T18:12:00.132Z"
   },
   {
    "duration": 29,
    "start_time": "2022-02-19T18:12:00.174Z"
   },
   {
    "duration": 26,
    "start_time": "2022-02-19T18:12:00.205Z"
   },
   {
    "duration": 66,
    "start_time": "2022-02-19T18:12:00.235Z"
   },
   {
    "duration": 20,
    "start_time": "2022-02-19T18:12:00.304Z"
   },
   {
    "duration": 55,
    "start_time": "2022-02-19T18:12:00.326Z"
   },
   {
    "duration": 46,
    "start_time": "2022-02-19T18:12:00.384Z"
   },
   {
    "duration": 206,
    "start_time": "2022-02-19T18:12:00.432Z"
   },
   {
    "duration": 25,
    "start_time": "2022-02-19T18:12:00.641Z"
   },
   {
    "duration": 18,
    "start_time": "2022-02-19T18:12:00.674Z"
   },
   {
    "duration": 16363,
    "start_time": "2022-02-19T18:12:00.694Z"
   },
   {
    "duration": 492,
    "start_time": "2022-02-19T18:12:17.062Z"
   },
   {
    "duration": -34,
    "start_time": "2022-02-19T18:12:17.590Z"
   },
   {
    "duration": -36,
    "start_time": "2022-02-19T18:12:17.594Z"
   },
   {
    "duration": -40,
    "start_time": "2022-02-19T18:12:17.599Z"
   },
   {
    "duration": -41,
    "start_time": "2022-02-19T18:12:17.602Z"
   },
   {
    "duration": -43,
    "start_time": "2022-02-19T18:12:17.606Z"
   },
   {
    "duration": -45,
    "start_time": "2022-02-19T18:12:17.609Z"
   },
   {
    "duration": -47,
    "start_time": "2022-02-19T18:12:17.613Z"
   },
   {
    "duration": -48,
    "start_time": "2022-02-19T18:12:17.617Z"
   },
   {
    "duration": -44,
    "start_time": "2022-02-19T18:12:17.620Z"
   },
   {
    "duration": -46,
    "start_time": "2022-02-19T18:12:17.624Z"
   },
   {
    "duration": -54,
    "start_time": "2022-02-19T18:12:17.634Z"
   },
   {
    "duration": -56,
    "start_time": "2022-02-19T18:12:17.637Z"
   },
   {
    "duration": -58,
    "start_time": "2022-02-19T18:12:17.641Z"
   },
   {
    "duration": -59,
    "start_time": "2022-02-19T18:12:17.644Z"
   },
   {
    "duration": -61,
    "start_time": "2022-02-19T18:12:17.647Z"
   },
   {
    "duration": -63,
    "start_time": "2022-02-19T18:12:17.650Z"
   },
   {
    "duration": -65,
    "start_time": "2022-02-19T18:12:17.654Z"
   },
   {
    "duration": -67,
    "start_time": "2022-02-19T18:12:17.657Z"
   },
   {
    "duration": 10,
    "start_time": "2022-02-19T18:12:20.005Z"
   },
   {
    "duration": 39,
    "start_time": "2022-02-19T18:13:05.191Z"
   },
   {
    "duration": 39,
    "start_time": "2022-02-19T18:13:27.137Z"
   },
   {
    "duration": 2184,
    "start_time": "2022-02-19T18:15:31.052Z"
   },
   {
    "duration": 955,
    "start_time": "2022-02-19T18:15:33.239Z"
   },
   {
    "duration": 17,
    "start_time": "2022-02-19T18:15:34.197Z"
   },
   {
    "duration": 9,
    "start_time": "2022-02-19T18:15:34.217Z"
   },
   {
    "duration": 9,
    "start_time": "2022-02-19T18:15:34.228Z"
   },
   {
    "duration": 13,
    "start_time": "2022-02-19T18:15:34.261Z"
   },
   {
    "duration": 16,
    "start_time": "2022-02-19T18:15:34.276Z"
   },
   {
    "duration": 7,
    "start_time": "2022-02-19T18:15:34.296Z"
   },
   {
    "duration": 14,
    "start_time": "2022-02-19T18:15:34.306Z"
   },
   {
    "duration": 51,
    "start_time": "2022-02-19T18:15:34.323Z"
   },
   {
    "duration": 20,
    "start_time": "2022-02-19T18:15:34.377Z"
   },
   {
    "duration": 69,
    "start_time": "2022-02-19T18:15:34.400Z"
   },
   {
    "duration": 27,
    "start_time": "2022-02-19T18:15:34.472Z"
   },
   {
    "duration": 15,
    "start_time": "2022-02-19T18:15:34.502Z"
   },
   {
    "duration": 58,
    "start_time": "2022-02-19T18:15:34.519Z"
   },
   {
    "duration": 22,
    "start_time": "2022-02-19T18:15:34.580Z"
   },
   {
    "duration": 18,
    "start_time": "2022-02-19T18:15:34.605Z"
   },
   {
    "duration": 86,
    "start_time": "2022-02-19T18:15:34.626Z"
   },
   {
    "duration": 276,
    "start_time": "2022-02-19T18:15:34.715Z"
   },
   {
    "duration": 187,
    "start_time": "2022-02-19T18:15:34.993Z"
   },
   {
    "duration": 432,
    "start_time": "2022-02-19T18:15:35.184Z"
   },
   {
    "duration": 251,
    "start_time": "2022-02-19T18:15:35.619Z"
   },
   {
    "duration": 69,
    "start_time": "2022-02-19T18:15:35.878Z"
   },
   {
    "duration": 63,
    "start_time": "2022-02-19T18:15:35.965Z"
   },
   {
    "duration": 107,
    "start_time": "2022-02-19T18:15:36.032Z"
   },
   {
    "duration": 33,
    "start_time": "2022-02-19T18:15:36.142Z"
   },
   {
    "duration": 13,
    "start_time": "2022-02-19T18:15:36.178Z"
   },
   {
    "duration": 15,
    "start_time": "2022-02-19T18:15:36.194Z"
   },
   {
    "duration": 8,
    "start_time": "2022-02-19T18:15:36.211Z"
   },
   {
    "duration": 13,
    "start_time": "2022-02-19T18:15:36.261Z"
   },
   {
    "duration": 23,
    "start_time": "2022-02-19T18:15:36.277Z"
   },
   {
    "duration": 17,
    "start_time": "2022-02-19T18:15:36.303Z"
   },
   {
    "duration": 56,
    "start_time": "2022-02-19T18:15:36.323Z"
   },
   {
    "duration": 72,
    "start_time": "2022-02-19T18:15:36.382Z"
   },
   {
    "duration": 21,
    "start_time": "2022-02-19T18:15:36.467Z"
   },
   {
    "duration": 20,
    "start_time": "2022-02-19T18:15:36.490Z"
   },
   {
    "duration": 96,
    "start_time": "2022-02-19T18:15:36.513Z"
   },
   {
    "duration": 216,
    "start_time": "2022-02-19T18:15:36.612Z"
   },
   {
    "duration": 36,
    "start_time": "2022-02-19T18:15:36.831Z"
   },
   {
    "duration": 10,
    "start_time": "2022-02-19T18:15:36.871Z"
   },
   {
    "duration": 18151,
    "start_time": "2022-02-19T18:15:36.884Z"
   },
   {
    "duration": 571,
    "start_time": "2022-02-19T18:15:55.038Z"
   },
   {
    "duration": -7,
    "start_time": "2022-02-19T18:15:55.619Z"
   },
   {
    "duration": -11,
    "start_time": "2022-02-19T18:15:55.624Z"
   },
   {
    "duration": -12,
    "start_time": "2022-02-19T18:15:55.627Z"
   },
   {
    "duration": -15,
    "start_time": "2022-02-19T18:15:55.632Z"
   },
   {
    "duration": -17,
    "start_time": "2022-02-19T18:15:55.635Z"
   },
   {
    "duration": -19,
    "start_time": "2022-02-19T18:15:55.639Z"
   },
   {
    "duration": -21,
    "start_time": "2022-02-19T18:15:55.642Z"
   },
   {
    "duration": -24,
    "start_time": "2022-02-19T18:15:55.646Z"
   },
   {
    "duration": -26,
    "start_time": "2022-02-19T18:15:55.650Z"
   },
   {
    "duration": -35,
    "start_time": "2022-02-19T18:15:55.660Z"
   },
   {
    "duration": -37,
    "start_time": "2022-02-19T18:15:55.663Z"
   },
   {
    "duration": -39,
    "start_time": "2022-02-19T18:15:55.667Z"
   },
   {
    "duration": -41,
    "start_time": "2022-02-19T18:15:55.670Z"
   },
   {
    "duration": -44,
    "start_time": "2022-02-19T18:15:55.674Z"
   },
   {
    "duration": -45,
    "start_time": "2022-02-19T18:15:55.677Z"
   },
   {
    "duration": -47,
    "start_time": "2022-02-19T18:15:55.680Z"
   },
   {
    "duration": -54,
    "start_time": "2022-02-19T18:15:55.688Z"
   },
   {
    "duration": -56,
    "start_time": "2022-02-19T18:15:55.692Z"
   },
   {
    "duration": -57,
    "start_time": "2022-02-19T18:15:55.694Z"
   },
   {
    "duration": 38,
    "start_time": "2022-02-19T18:16:05.491Z"
   },
   {
    "duration": 11,
    "start_time": "2022-02-19T18:16:32.324Z"
   },
   {
    "duration": 19,
    "start_time": "2022-02-19T18:16:40.553Z"
   },
   {
    "duration": 104,
    "start_time": "2022-02-19T18:18:32.007Z"
   },
   {
    "duration": 11,
    "start_time": "2022-02-19T18:18:40.176Z"
   },
   {
    "duration": 34,
    "start_time": "2022-02-19T18:19:01.549Z"
   },
   {
    "duration": 310,
    "start_time": "2022-02-19T18:19:23.474Z"
   },
   {
    "duration": 27,
    "start_time": "2022-02-19T18:19:31.502Z"
   },
   {
    "duration": 28,
    "start_time": "2022-02-19T18:19:43.474Z"
   },
   {
    "duration": 33,
    "start_time": "2022-02-19T18:20:18.154Z"
   },
   {
    "duration": 34,
    "start_time": "2022-02-19T18:20:23.953Z"
   },
   {
    "duration": 24,
    "start_time": "2022-02-19T18:21:43.161Z"
   },
   {
    "duration": 38,
    "start_time": "2022-02-19T18:22:05.241Z"
   },
   {
    "duration": 2115,
    "start_time": "2022-02-19T18:22:54.087Z"
   },
   {
    "duration": 902,
    "start_time": "2022-02-19T18:22:56.205Z"
   },
   {
    "duration": 23,
    "start_time": "2022-02-19T18:22:57.110Z"
   },
   {
    "duration": 9,
    "start_time": "2022-02-19T18:22:57.136Z"
   },
   {
    "duration": 34,
    "start_time": "2022-02-19T18:22:57.148Z"
   },
   {
    "duration": 10,
    "start_time": "2022-02-19T18:22:57.185Z"
   },
   {
    "duration": 12,
    "start_time": "2022-02-19T18:22:57.197Z"
   },
   {
    "duration": 7,
    "start_time": "2022-02-19T18:22:57.213Z"
   },
   {
    "duration": 44,
    "start_time": "2022-02-19T18:22:57.223Z"
   },
   {
    "duration": 26,
    "start_time": "2022-02-19T18:22:57.272Z"
   },
   {
    "duration": 17,
    "start_time": "2022-02-19T18:22:57.301Z"
   },
   {
    "duration": 67,
    "start_time": "2022-02-19T18:22:57.321Z"
   },
   {
    "duration": 23,
    "start_time": "2022-02-19T18:22:57.390Z"
   },
   {
    "duration": 15,
    "start_time": "2022-02-19T18:22:57.416Z"
   },
   {
    "duration": 54,
    "start_time": "2022-02-19T18:22:57.434Z"
   },
   {
    "duration": 19,
    "start_time": "2022-02-19T18:22:57.491Z"
   },
   {
    "duration": 14,
    "start_time": "2022-02-19T18:22:57.513Z"
   },
   {
    "duration": 85,
    "start_time": "2022-02-19T18:22:57.529Z"
   },
   {
    "duration": 266,
    "start_time": "2022-02-19T18:22:57.616Z"
   },
   {
    "duration": 196,
    "start_time": "2022-02-19T18:22:57.885Z"
   },
   {
    "duration": 421,
    "start_time": "2022-02-19T18:22:58.083Z"
   },
   {
    "duration": 258,
    "start_time": "2022-02-19T18:22:58.507Z"
   },
   {
    "duration": 67,
    "start_time": "2022-02-19T18:22:58.772Z"
   },
   {
    "duration": 77,
    "start_time": "2022-02-19T18:22:58.843Z"
   },
   {
    "duration": 74,
    "start_time": "2022-02-19T18:22:58.922Z"
   },
   {
    "duration": 12,
    "start_time": "2022-02-19T18:22:58.998Z"
   },
   {
    "duration": 10,
    "start_time": "2022-02-19T18:22:59.013Z"
   },
   {
    "duration": 53,
    "start_time": "2022-02-19T18:22:59.026Z"
   },
   {
    "duration": 11,
    "start_time": "2022-02-19T18:22:59.081Z"
   },
   {
    "duration": 11,
    "start_time": "2022-02-19T18:22:59.094Z"
   },
   {
    "duration": 12,
    "start_time": "2022-02-19T18:22:59.108Z"
   },
   {
    "duration": 17,
    "start_time": "2022-02-19T18:22:59.160Z"
   },
   {
    "duration": 15,
    "start_time": "2022-02-19T18:22:59.180Z"
   },
   {
    "duration": 77,
    "start_time": "2022-02-19T18:22:59.197Z"
   },
   {
    "duration": 18,
    "start_time": "2022-02-19T18:22:59.277Z"
   },
   {
    "duration": 20,
    "start_time": "2022-02-19T18:22:59.298Z"
   },
   {
    "duration": 73,
    "start_time": "2022-02-19T18:22:59.321Z"
   },
   {
    "duration": 180,
    "start_time": "2022-02-19T18:22:59.397Z"
   },
   {
    "duration": 13,
    "start_time": "2022-02-19T18:22:59.579Z"
   },
   {
    "duration": 10,
    "start_time": "2022-02-19T18:22:59.594Z"
   },
   {
    "duration": 16321,
    "start_time": "2022-02-19T18:22:59.606Z"
   },
   {
    "duration": 13,
    "start_time": "2022-02-19T18:23:15.930Z"
   },
   {
    "duration": 71,
    "start_time": "2022-02-19T18:23:15.947Z"
   },
   {
    "duration": 543,
    "start_time": "2022-02-19T18:23:16.021Z"
   },
   {
    "duration": -7,
    "start_time": "2022-02-19T18:23:16.573Z"
   },
   {
    "duration": -13,
    "start_time": "2022-02-19T18:23:16.586Z"
   },
   {
    "duration": -14,
    "start_time": "2022-02-19T18:23:16.589Z"
   },
   {
    "duration": -19,
    "start_time": "2022-02-19T18:23:16.596Z"
   },
   {
    "duration": -27,
    "start_time": "2022-02-19T18:23:16.605Z"
   },
   {
    "duration": -32,
    "start_time": "2022-02-19T18:23:16.611Z"
   },
   {
    "duration": -39,
    "start_time": "2022-02-19T18:23:16.620Z"
   },
   {
    "duration": -42,
    "start_time": "2022-02-19T18:23:16.625Z"
   },
   {
    "duration": -51,
    "start_time": "2022-02-19T18:23:16.635Z"
   },
   {
    "duration": -54,
    "start_time": "2022-02-19T18:23:16.640Z"
   },
   {
    "duration": -59,
    "start_time": "2022-02-19T18:23:16.646Z"
   },
   {
    "duration": -68,
    "start_time": "2022-02-19T18:23:16.657Z"
   },
   {
    "duration": -78,
    "start_time": "2022-02-19T18:23:16.668Z"
   },
   {
    "duration": -80,
    "start_time": "2022-02-19T18:23:16.672Z"
   },
   {
    "duration": -84,
    "start_time": "2022-02-19T18:23:16.677Z"
   },
   {
    "duration": -86,
    "start_time": "2022-02-19T18:23:16.681Z"
   },
   {
    "duration": -88,
    "start_time": "2022-02-19T18:23:16.684Z"
   },
   {
    "duration": -90,
    "start_time": "2022-02-19T18:23:16.688Z"
   },
   {
    "duration": 26,
    "start_time": "2022-02-19T18:23:43.824Z"
   },
   {
    "duration": 33,
    "start_time": "2022-02-19T18:26:57.653Z"
   },
   {
    "duration": 30,
    "start_time": "2022-02-19T18:27:33.795Z"
   },
   {
    "duration": 26,
    "start_time": "2022-02-19T18:28:03.179Z"
   },
   {
    "duration": 7,
    "start_time": "2022-02-19T18:41:38.194Z"
   },
   {
    "duration": 7,
    "start_time": "2022-02-19T18:42:23.141Z"
   },
   {
    "duration": 72,
    "start_time": "2022-02-19T18:42:25.101Z"
   },
   {
    "duration": 1128,
    "start_time": "2022-02-19T18:42:44.137Z"
   },
   {
    "duration": 31,
    "start_time": "2022-02-19T18:48:23.178Z"
   },
   {
    "duration": 7635,
    "start_time": "2022-02-19T18:49:27.083Z"
   },
   {
    "duration": 35,
    "start_time": "2022-02-19T18:49:44.688Z"
   },
   {
    "duration": 9,
    "start_time": "2022-02-19T18:57:39.554Z"
   },
   {
    "duration": 1332,
    "start_time": "2022-02-19T18:57:51.503Z"
   },
   {
    "duration": 7,
    "start_time": "2022-02-19T18:58:05.203Z"
   },
   {
    "duration": 628,
    "start_time": "2022-02-19T18:58:07.125Z"
   },
   {
    "duration": 7,
    "start_time": "2022-02-19T18:58:20.492Z"
   },
   {
    "duration": 654,
    "start_time": "2022-02-19T18:58:23.831Z"
   },
   {
    "duration": 6,
    "start_time": "2022-02-19T18:58:35.257Z"
   },
   {
    "duration": 796,
    "start_time": "2022-02-19T18:58:38.718Z"
   },
   {
    "duration": 7,
    "start_time": "2022-02-19T18:58:50.556Z"
   },
   {
    "duration": 735,
    "start_time": "2022-02-19T18:58:53.844Z"
   },
   {
    "duration": 5,
    "start_time": "2022-02-19T18:59:10.021Z"
   },
   {
    "duration": 31,
    "start_time": "2022-02-19T18:59:12.793Z"
   },
   {
    "duration": 35,
    "start_time": "2022-02-19T18:59:25.999Z"
   },
   {
    "duration": 6,
    "start_time": "2022-02-19T18:59:40.869Z"
   },
   {
    "duration": 604,
    "start_time": "2022-02-19T18:59:43.238Z"
   },
   {
    "duration": 6,
    "start_time": "2022-02-19T19:01:07.679Z"
   },
   {
    "duration": 38,
    "start_time": "2022-02-19T19:01:10.936Z"
   },
   {
    "duration": 5,
    "start_time": "2022-02-19T19:05:02.243Z"
   },
   {
    "duration": 36,
    "start_time": "2022-02-19T19:05:06.181Z"
   },
   {
    "duration": 137,
    "start_time": "2022-02-19T19:24:55.874Z"
   },
   {
    "duration": 97,
    "start_time": "2022-02-19T19:25:07.549Z"
   },
   {
    "duration": 100,
    "start_time": "2022-02-19T19:29:43.612Z"
   },
   {
    "duration": 6,
    "start_time": "2022-02-19T19:30:01.200Z"
   },
   {
    "duration": 42,
    "start_time": "2022-02-19T19:30:05.710Z"
   },
   {
    "duration": 6,
    "start_time": "2022-02-19T19:31:06.170Z"
   },
   {
    "duration": 645,
    "start_time": "2022-02-19T19:31:09.554Z"
   },
   {
    "duration": 7,
    "start_time": "2022-02-19T19:31:17.137Z"
   },
   {
    "duration": 628,
    "start_time": "2022-02-19T19:31:21.006Z"
   },
   {
    "duration": 6,
    "start_time": "2022-02-19T19:31:33.820Z"
   },
   {
    "duration": 691,
    "start_time": "2022-02-19T19:31:37.489Z"
   },
   {
    "duration": 6,
    "start_time": "2022-02-19T19:32:14.342Z"
   },
   {
    "duration": 605,
    "start_time": "2022-02-19T19:32:17.406Z"
   },
   {
    "duration": 7,
    "start_time": "2022-02-19T19:33:16.663Z"
   },
   {
    "duration": 41,
    "start_time": "2022-02-19T19:33:24.465Z"
   },
   {
    "duration": 6,
    "start_time": "2022-02-19T19:34:16.942Z"
   },
   {
    "duration": 770,
    "start_time": "2022-02-19T19:34:19.380Z"
   },
   {
    "duration": 7,
    "start_time": "2022-02-19T19:34:58.468Z"
   },
   {
    "duration": 735,
    "start_time": "2022-02-19T19:35:03.058Z"
   },
   {
    "duration": 6,
    "start_time": "2022-02-19T19:36:21.216Z"
   },
   {
    "duration": 831,
    "start_time": "2022-02-19T19:36:24.611Z"
   },
   {
    "duration": 5,
    "start_time": "2022-02-19T19:36:42.212Z"
   },
   {
    "duration": 38,
    "start_time": "2022-02-19T19:36:45.010Z"
   },
   {
    "duration": 37,
    "start_time": "2022-02-19T19:37:06.583Z"
   },
   {
    "duration": 50,
    "start_time": "2022-02-19T19:37:11.838Z"
   },
   {
    "duration": 10,
    "start_time": "2022-02-19T19:37:32.084Z"
   },
   {
    "duration": 32,
    "start_time": "2022-02-19T19:37:38.893Z"
   },
   {
    "duration": 7,
    "start_time": "2022-02-19T19:38:00.343Z"
   },
   {
    "duration": 38,
    "start_time": "2022-02-19T19:38:07.237Z"
   },
   {
    "duration": 44,
    "start_time": "2022-02-19T19:38:09.573Z"
   },
   {
    "duration": 5,
    "start_time": "2022-02-19T19:38:30.759Z"
   },
   {
    "duration": 45,
    "start_time": "2022-02-19T19:38:35.698Z"
   },
   {
    "duration": 6,
    "start_time": "2022-02-19T19:39:15.589Z"
   },
   {
    "duration": 42,
    "start_time": "2022-02-19T19:39:19.800Z"
   },
   {
    "duration": 6,
    "start_time": "2022-02-19T19:40:07.038Z"
   },
   {
    "duration": 40,
    "start_time": "2022-02-19T19:40:11.122Z"
   },
   {
    "duration": 39,
    "start_time": "2022-02-19T19:40:36.827Z"
   },
   {
    "duration": 6,
    "start_time": "2022-02-19T19:40:40.030Z"
   },
   {
    "duration": 5,
    "start_time": "2022-02-19T19:41:18.145Z"
   },
   {
    "duration": 6,
    "start_time": "2022-02-19T19:42:29.049Z"
   },
   {
    "duration": 35,
    "start_time": "2022-02-19T19:42:32.180Z"
   },
   {
    "duration": 7,
    "start_time": "2022-02-19T19:42:52.908Z"
   },
   {
    "duration": 41,
    "start_time": "2022-02-19T19:42:54.433Z"
   },
   {
    "duration": 6,
    "start_time": "2022-02-19T19:43:43.139Z"
   },
   {
    "duration": 43,
    "start_time": "2022-02-19T19:43:44.472Z"
   },
   {
    "duration": 6,
    "start_time": "2022-02-19T19:45:12.316Z"
   },
   {
    "duration": 40,
    "start_time": "2022-02-19T19:45:16.195Z"
   },
   {
    "duration": 6,
    "start_time": "2022-02-19T19:45:57.536Z"
   },
   {
    "duration": 45,
    "start_time": "2022-02-19T19:46:06.740Z"
   },
   {
    "duration": 5,
    "start_time": "2022-02-19T19:48:39.785Z"
   },
   {
    "duration": 41,
    "start_time": "2022-02-19T19:48:41.403Z"
   },
   {
    "duration": 296,
    "start_time": "2022-02-19T19:49:09.515Z"
   },
   {
    "duration": 7,
    "start_time": "2022-02-19T19:49:28.377Z"
   },
   {
    "duration": 10,
    "start_time": "2022-02-19T19:49:34.119Z"
   },
   {
    "duration": 340,
    "start_time": "2022-02-19T19:51:12.615Z"
   },
   {
    "duration": 6,
    "start_time": "2022-02-19T19:51:20.760Z"
   },
   {
    "duration": 11,
    "start_time": "2022-02-19T19:51:25.640Z"
   },
   {
    "duration": 5,
    "start_time": "2022-02-19T19:51:42.307Z"
   },
   {
    "duration": 12,
    "start_time": "2022-02-19T19:51:42.720Z"
   },
   {
    "duration": 6,
    "start_time": "2022-02-19T19:51:48.117Z"
   },
   {
    "duration": 11,
    "start_time": "2022-02-19T19:51:48.548Z"
   },
   {
    "duration": 6,
    "start_time": "2022-02-19T19:53:52.210Z"
   },
   {
    "duration": 45,
    "start_time": "2022-02-19T19:53:54.691Z"
   },
   {
    "duration": 6,
    "start_time": "2022-02-19T19:54:05.745Z"
   },
   {
    "duration": 42,
    "start_time": "2022-02-19T19:54:07.344Z"
   },
   {
    "duration": 7,
    "start_time": "2022-02-19T19:54:33.460Z"
   },
   {
    "duration": 43,
    "start_time": "2022-02-19T19:54:37.446Z"
   },
   {
    "duration": 111,
    "start_time": "2022-02-19T19:56:37.089Z"
   },
   {
    "duration": 7,
    "start_time": "2022-02-19T19:56:44.627Z"
   },
   {
    "duration": 43,
    "start_time": "2022-02-19T19:56:47.758Z"
   },
   {
    "duration": 6,
    "start_time": "2022-02-19T19:58:07.938Z"
   },
   {
    "duration": 32,
    "start_time": "2022-02-19T19:58:20.618Z"
   },
   {
    "duration": 28,
    "start_time": "2022-02-19T19:58:37.470Z"
   },
   {
    "duration": 11,
    "start_time": "2022-02-19T19:58:40.851Z"
   },
   {
    "duration": 9,
    "start_time": "2022-02-19T19:58:49.329Z"
   },
   {
    "duration": 4,
    "start_time": "2022-02-19T19:58:54.615Z"
   },
   {
    "duration": 34,
    "start_time": "2022-02-19T19:59:08.577Z"
   },
   {
    "duration": 8,
    "start_time": "2022-02-19T20:01:57.137Z"
   },
   {
    "duration": 7,
    "start_time": "2022-02-19T20:02:05.506Z"
   },
   {
    "duration": 43,
    "start_time": "2022-02-19T20:02:24.240Z"
   },
   {
    "duration": 7,
    "start_time": "2022-02-19T20:03:37.906Z"
   },
   {
    "duration": 42,
    "start_time": "2022-02-19T20:03:40.711Z"
   },
   {
    "duration": 7,
    "start_time": "2022-02-19T20:03:51.500Z"
   },
   {
    "duration": 45,
    "start_time": "2022-02-19T20:03:52.133Z"
   },
   {
    "duration": 7,
    "start_time": "2022-02-19T20:04:11.062Z"
   },
   {
    "duration": 42,
    "start_time": "2022-02-19T20:04:11.718Z"
   },
   {
    "duration": 46,
    "start_time": "2022-02-19T20:04:26.612Z"
   },
   {
    "duration": 7,
    "start_time": "2022-02-19T20:04:50.318Z"
   },
   {
    "duration": 42,
    "start_time": "2022-02-19T20:04:51.054Z"
   },
   {
    "duration": 7,
    "start_time": "2022-02-19T20:05:07.448Z"
   },
   {
    "duration": 42,
    "start_time": "2022-02-19T20:05:08.201Z"
   },
   {
    "duration": 9,
    "start_time": "2022-02-19T20:06:19.274Z"
   },
   {
    "duration": 44,
    "start_time": "2022-02-19T20:06:20.881Z"
   },
   {
    "duration": 103,
    "start_time": "2022-02-19T20:07:20.243Z"
   },
   {
    "duration": 32,
    "start_time": "2022-02-19T20:07:31.039Z"
   },
   {
    "duration": 356,
    "start_time": "2022-02-19T20:09:17.105Z"
   },
   {
    "duration": 52,
    "start_time": "2022-02-19T20:09:27.674Z"
   },
   {
    "duration": 33,
    "start_time": "2022-02-19T20:09:29.389Z"
   },
   {
    "duration": 10,
    "start_time": "2022-02-19T20:09:31.462Z"
   },
   {
    "duration": 12,
    "start_time": "2022-02-19T20:09:36.694Z"
   },
   {
    "duration": 10,
    "start_time": "2022-02-19T20:10:58.067Z"
   },
   {
    "duration": 13,
    "start_time": "2022-02-19T20:10:58.420Z"
   },
   {
    "duration": 18,
    "start_time": "2022-02-19T20:17:31.972Z"
   },
   {
    "duration": 93,
    "start_time": "2022-02-19T20:19:14.294Z"
   },
   {
    "duration": 121,
    "start_time": "2022-02-19T20:19:29.713Z"
   },
   {
    "duration": 7,
    "start_time": "2022-02-19T20:19:39.474Z"
   },
   {
    "duration": 641,
    "start_time": "2022-02-19T20:19:41.459Z"
   },
   {
    "duration": 6,
    "start_time": "2022-02-19T20:20:26.199Z"
   },
   {
    "duration": 51,
    "start_time": "2022-02-19T20:20:27.644Z"
   },
   {
    "duration": 40,
    "start_time": "2022-02-19T20:20:32.559Z"
   },
   {
    "duration": 338,
    "start_time": "2022-02-19T20:20:45.700Z"
   },
   {
    "duration": 7,
    "start_time": "2022-02-19T20:21:08.051Z"
   },
   {
    "duration": 7,
    "start_time": "2022-02-19T20:21:10.892Z"
   },
   {
    "duration": 52,
    "start_time": "2022-02-19T20:21:11.544Z"
   },
   {
    "duration": 6,
    "start_time": "2022-02-19T20:21:15.935Z"
   },
   {
    "duration": 52,
    "start_time": "2022-02-19T20:21:16.733Z"
   },
   {
    "duration": 7,
    "start_time": "2022-02-19T20:21:20.180Z"
   },
   {
    "duration": 53,
    "start_time": "2022-02-19T20:21:20.890Z"
   },
   {
    "duration": 7,
    "start_time": "2022-02-19T20:22:07.842Z"
   },
   {
    "duration": 43,
    "start_time": "2022-02-19T20:22:08.586Z"
   },
   {
    "duration": 8,
    "start_time": "2022-02-19T20:24:56.468Z"
   },
   {
    "duration": 7905,
    "start_time": "2022-02-19T20:24:57.486Z"
   },
   {
    "duration": 8,
    "start_time": "2022-02-19T20:25:18.921Z"
   },
   {
    "duration": 41,
    "start_time": "2022-02-19T20:25:20.329Z"
   },
   {
    "duration": 34,
    "start_time": "2022-02-19T20:25:27.008Z"
   },
   {
    "duration": 18,
    "start_time": "2022-02-19T20:25:29.536Z"
   },
   {
    "duration": 477,
    "start_time": "2022-02-19T20:26:10.002Z"
   },
   {
    "duration": 702,
    "start_time": "2022-02-19T20:27:13.499Z"
   },
   {
    "duration": 302,
    "start_time": "2022-02-19T20:28:48.682Z"
   },
   {
    "duration": 494,
    "start_time": "2022-02-19T20:28:55.042Z"
   },
   {
    "duration": 464,
    "start_time": "2022-02-19T20:29:31.540Z"
   },
   {
    "duration": 495,
    "start_time": "2022-02-19T20:29:40.385Z"
   },
   {
    "duration": 354,
    "start_time": "2022-02-19T20:30:14.473Z"
   },
   {
    "duration": 333,
    "start_time": "2022-02-19T20:30:26.708Z"
   },
   {
    "duration": 499,
    "start_time": "2022-02-19T20:31:59.211Z"
   },
   {
    "duration": 487,
    "start_time": "2022-02-19T20:32:42.553Z"
   },
   {
    "duration": 322,
    "start_time": "2022-02-19T20:32:54.052Z"
   },
   {
    "duration": 508,
    "start_time": "2022-02-19T20:33:10.537Z"
   },
   {
    "duration": 323,
    "start_time": "2022-02-19T20:33:19.169Z"
   },
   {
    "duration": 327,
    "start_time": "2022-02-19T20:33:38.373Z"
   },
   {
    "duration": 889,
    "start_time": "2022-02-19T20:33:59.959Z"
   },
   {
    "duration": 619,
    "start_time": "2022-02-19T20:34:07.299Z"
   },
   {
    "duration": 450,
    "start_time": "2022-02-19T20:34:22.357Z"
   },
   {
    "duration": 502,
    "start_time": "2022-02-19T20:35:00.638Z"
   },
   {
    "duration": 312,
    "start_time": "2022-02-19T20:35:10.539Z"
   },
   {
    "duration": 11,
    "start_time": "2022-02-19T20:45:12.829Z"
   },
   {
    "duration": 30,
    "start_time": "2022-02-19T20:47:27.212Z"
   },
   {
    "duration": 13,
    "start_time": "2022-02-19T20:49:14.649Z"
   },
   {
    "duration": 32,
    "start_time": "2022-02-19T21:16:02.103Z"
   },
   {
    "duration": 16,
    "start_time": "2022-02-19T21:16:20.271Z"
   },
   {
    "duration": 34,
    "start_time": "2022-02-19T21:16:46.286Z"
   },
   {
    "duration": 22,
    "start_time": "2022-02-19T21:17:49.080Z"
   },
   {
    "duration": 47,
    "start_time": "2022-02-19T21:17:50.971Z"
   },
   {
    "duration": 13,
    "start_time": "2022-02-19T21:17:54.210Z"
   },
   {
    "duration": 10,
    "start_time": "2022-02-19T21:21:58.319Z"
   },
   {
    "duration": 36,
    "start_time": "2022-02-19T21:22:13.165Z"
   },
   {
    "duration": 7,
    "start_time": "2022-02-19T21:22:21.002Z"
   },
   {
    "duration": 35,
    "start_time": "2022-02-19T21:22:23.411Z"
   },
   {
    "duration": 6,
    "start_time": "2022-02-19T21:22:38.484Z"
   },
   {
    "duration": 144,
    "start_time": "2022-02-19T21:23:27.974Z"
   },
   {
    "duration": 37,
    "start_time": "2022-02-19T21:23:39.039Z"
   },
   {
    "duration": 148,
    "start_time": "2022-02-19T21:23:47.301Z"
   },
   {
    "duration": 9,
    "start_time": "2022-02-19T21:23:50.879Z"
   },
   {
    "duration": 40,
    "start_time": "2022-02-19T21:23:57.702Z"
   },
   {
    "duration": 2056,
    "start_time": "2022-02-19T21:24:39.370Z"
   },
   {
    "duration": 864,
    "start_time": "2022-02-19T21:24:41.429Z"
   },
   {
    "duration": 18,
    "start_time": "2022-02-19T21:24:42.295Z"
   },
   {
    "duration": 9,
    "start_time": "2022-02-19T21:24:42.316Z"
   },
   {
    "duration": 9,
    "start_time": "2022-02-19T21:24:42.327Z"
   },
   {
    "duration": 8,
    "start_time": "2022-02-19T21:24:42.362Z"
   },
   {
    "duration": 11,
    "start_time": "2022-02-19T21:24:42.373Z"
   },
   {
    "duration": 7,
    "start_time": "2022-02-19T21:24:42.387Z"
   },
   {
    "duration": 8,
    "start_time": "2022-02-19T21:24:42.397Z"
   },
   {
    "duration": 56,
    "start_time": "2022-02-19T21:24:42.408Z"
   },
   {
    "duration": 18,
    "start_time": "2022-02-19T21:24:42.467Z"
   },
   {
    "duration": 37,
    "start_time": "2022-02-19T21:24:42.488Z"
   },
   {
    "duration": 50,
    "start_time": "2022-02-19T21:24:42.528Z"
   },
   {
    "duration": 14,
    "start_time": "2022-02-19T21:24:42.581Z"
   },
   {
    "duration": 24,
    "start_time": "2022-02-19T21:24:42.597Z"
   },
   {
    "duration": 46,
    "start_time": "2022-02-19T21:24:42.624Z"
   },
   {
    "duration": 12,
    "start_time": "2022-02-19T21:24:42.672Z"
   },
   {
    "duration": 80,
    "start_time": "2022-02-19T21:24:42.689Z"
   },
   {
    "duration": 238,
    "start_time": "2022-02-19T21:24:42.773Z"
   },
   {
    "duration": 175,
    "start_time": "2022-02-19T21:24:43.013Z"
   },
   {
    "duration": 421,
    "start_time": "2022-02-19T21:24:43.191Z"
   },
   {
    "duration": 249,
    "start_time": "2022-02-19T21:24:43.615Z"
   },
   {
    "duration": 93,
    "start_time": "2022-02-19T21:24:43.867Z"
   },
   {
    "duration": 64,
    "start_time": "2022-02-19T21:24:43.963Z"
   },
   {
    "duration": 71,
    "start_time": "2022-02-19T21:24:44.029Z"
   },
   {
    "duration": 12,
    "start_time": "2022-02-19T21:24:44.103Z"
   },
   {
    "duration": 12,
    "start_time": "2022-02-19T21:24:44.118Z"
   },
   {
    "duration": 37,
    "start_time": "2022-02-19T21:24:44.133Z"
   },
   {
    "duration": 7,
    "start_time": "2022-02-19T21:24:44.173Z"
   },
   {
    "duration": 10,
    "start_time": "2022-02-19T21:24:44.183Z"
   },
   {
    "duration": 12,
    "start_time": "2022-02-19T21:24:44.196Z"
   },
   {
    "duration": 52,
    "start_time": "2022-02-19T21:24:44.210Z"
   },
   {
    "duration": 14,
    "start_time": "2022-02-19T21:24:44.265Z"
   },
   {
    "duration": 48,
    "start_time": "2022-02-19T21:24:44.281Z"
   },
   {
    "duration": 42,
    "start_time": "2022-02-19T21:24:44.332Z"
   },
   {
    "duration": 20,
    "start_time": "2022-02-19T21:24:44.377Z"
   },
   {
    "duration": 72,
    "start_time": "2022-02-19T21:24:44.400Z"
   },
   {
    "duration": 186,
    "start_time": "2022-02-19T21:24:44.475Z"
   },
   {
    "duration": 14,
    "start_time": "2022-02-19T21:24:44.663Z"
   },
   {
    "duration": 8,
    "start_time": "2022-02-19T21:24:44.679Z"
   },
   {
    "duration": 15481,
    "start_time": "2022-02-19T21:24:44.690Z"
   },
   {
    "duration": 12,
    "start_time": "2022-02-19T21:25:00.173Z"
   },
   {
    "duration": 47,
    "start_time": "2022-02-19T21:25:00.188Z"
   },
   {
    "duration": 25,
    "start_time": "2022-02-19T21:25:00.237Z"
   },
   {
    "duration": 55,
    "start_time": "2022-02-19T21:25:00.264Z"
   },
   {
    "duration": 52,
    "start_time": "2022-02-19T21:25:00.321Z"
   },
   {
    "duration": 10,
    "start_time": "2022-02-19T21:25:00.376Z"
   },
   {
    "duration": 1119,
    "start_time": "2022-02-19T21:25:00.389Z"
   },
   {
    "duration": 11,
    "start_time": "2022-02-19T21:25:01.511Z"
   },
   {
    "duration": 61,
    "start_time": "2022-02-19T21:25:01.524Z"
   },
   {
    "duration": 92,
    "start_time": "2022-02-19T21:25:01.587Z"
   },
   {
    "duration": 9,
    "start_time": "2022-02-19T21:25:01.681Z"
   },
   {
    "duration": 629,
    "start_time": "2022-02-19T21:25:01.692Z"
   },
   {
    "duration": -157,
    "start_time": "2022-02-19T21:25:02.483Z"
   },
   {
    "duration": -160,
    "start_time": "2022-02-19T21:25:02.487Z"
   },
   {
    "duration": -162,
    "start_time": "2022-02-19T21:25:02.491Z"
   },
   {
    "duration": -168,
    "start_time": "2022-02-19T21:25:02.498Z"
   },
   {
    "duration": -173,
    "start_time": "2022-02-19T21:25:02.504Z"
   },
   {
    "duration": -176,
    "start_time": "2022-02-19T21:25:02.509Z"
   },
   {
    "duration": -177,
    "start_time": "2022-02-19T21:25:02.512Z"
   },
   {
    "duration": -336,
    "start_time": "2022-02-19T21:25:02.672Z"
   },
   {
    "duration": -338,
    "start_time": "2022-02-19T21:25:02.676Z"
   },
   {
    "duration": -342,
    "start_time": "2022-02-19T21:25:02.681Z"
   },
   {
    "duration": -346,
    "start_time": "2022-02-19T21:25:02.686Z"
   },
   {
    "duration": -348,
    "start_time": "2022-02-19T21:25:02.690Z"
   },
   {
    "duration": -351,
    "start_time": "2022-02-19T21:25:02.694Z"
   },
   {
    "duration": -354,
    "start_time": "2022-02-19T21:25:02.698Z"
   },
   {
    "duration": -357,
    "start_time": "2022-02-19T21:25:02.702Z"
   },
   {
    "duration": -360,
    "start_time": "2022-02-19T21:25:02.706Z"
   },
   {
    "duration": -362,
    "start_time": "2022-02-19T21:25:02.710Z"
   },
   {
    "duration": -365,
    "start_time": "2022-02-19T21:25:02.714Z"
   },
   {
    "duration": 33,
    "start_time": "2022-02-19T21:26:41.716Z"
   },
   {
    "duration": 8,
    "start_time": "2022-02-19T21:31:39.649Z"
   },
   {
    "duration": 7,
    "start_time": "2022-02-19T21:31:44.450Z"
   },
   {
    "duration": 37,
    "start_time": "2022-02-19T21:32:32.020Z"
   },
   {
    "duration": 322,
    "start_time": "2022-02-19T21:33:26.827Z"
   },
   {
    "duration": 1244,
    "start_time": "2022-02-19T21:33:35.670Z"
   },
   {
    "duration": 1178,
    "start_time": "2022-02-19T21:33:49.339Z"
   },
   {
    "duration": 1453,
    "start_time": "2022-02-19T21:33:55.846Z"
   },
   {
    "duration": 12,
    "start_time": "2022-02-19T21:36:40.269Z"
   },
   {
    "duration": 13,
    "start_time": "2022-02-19T21:36:56.125Z"
   },
   {
    "duration": 323,
    "start_time": "2022-02-19T21:40:57.972Z"
   },
   {
    "duration": 53,
    "start_time": "2022-02-19T21:41:34.333Z"
   },
   {
    "duration": 13,
    "start_time": "2022-02-19T21:41:39.082Z"
   },
   {
    "duration": 288,
    "start_time": "2022-02-19T21:42:06.976Z"
   },
   {
    "duration": 53,
    "start_time": "2022-02-19T21:42:14.064Z"
   },
   {
    "duration": 13,
    "start_time": "2022-02-19T21:42:16.245Z"
   },
   {
    "duration": 12,
    "start_time": "2022-02-19T21:42:18.179Z"
   },
   {
    "duration": 23,
    "start_time": "2022-02-19T21:44:14.533Z"
   },
   {
    "duration": 25,
    "start_time": "2022-02-19T21:44:25.572Z"
   },
   {
    "duration": 31,
    "start_time": "2022-02-19T21:45:51.494Z"
   },
   {
    "duration": 33,
    "start_time": "2022-02-19T21:46:01.883Z"
   },
   {
    "duration": 32,
    "start_time": "2022-02-19T21:46:08.747Z"
   },
   {
    "duration": 94,
    "start_time": "2022-02-19T21:47:03.394Z"
   },
   {
    "duration": 32,
    "start_time": "2022-02-19T21:47:34.558Z"
   },
   {
    "duration": 643,
    "start_time": "2022-02-19T21:49:20.980Z"
   },
   {
    "duration": 704,
    "start_time": "2022-02-19T21:53:35.361Z"
   },
   {
    "duration": 806,
    "start_time": "2022-02-19T21:54:15.040Z"
   },
   {
    "duration": 705,
    "start_time": "2022-02-19T21:58:19.571Z"
   },
   {
    "duration": 661,
    "start_time": "2022-02-19T21:58:41.268Z"
   },
   {
    "duration": 275,
    "start_time": "2022-02-19T21:59:41.835Z"
   },
   {
    "duration": 721,
    "start_time": "2022-02-19T21:59:52.167Z"
   },
   {
    "duration": 307,
    "start_time": "2022-02-19T22:11:07.268Z"
   },
   {
    "duration": 38,
    "start_time": "2022-02-19T22:11:18.173Z"
   },
   {
    "duration": 10,
    "start_time": "2022-02-19T22:11:26.256Z"
   },
   {
    "duration": 25,
    "start_time": "2022-02-19T22:12:48.477Z"
   },
   {
    "duration": 19,
    "start_time": "2022-02-19T22:14:52.652Z"
   },
   {
    "duration": 37,
    "start_time": "2022-02-19T22:15:02.080Z"
   },
   {
    "duration": 34,
    "start_time": "2022-02-19T22:15:25.749Z"
   },
   {
    "duration": 302,
    "start_time": "2022-02-19T22:19:45.819Z"
   },
   {
    "duration": 25,
    "start_time": "2022-02-19T22:19:52.296Z"
   },
   {
    "duration": 25,
    "start_time": "2022-02-19T22:19:57.712Z"
   },
   {
    "duration": 152,
    "start_time": "2022-02-19T22:21:13.994Z"
   },
   {
    "duration": 112,
    "start_time": "2022-02-19T22:21:18.931Z"
   },
   {
    "duration": 27,
    "start_time": "2022-02-19T22:21:31.904Z"
   },
   {
    "duration": 316,
    "start_time": "2022-02-19T22:21:52.983Z"
   },
   {
    "duration": 22,
    "start_time": "2022-02-19T22:21:57.977Z"
   },
   {
    "duration": 2068,
    "start_time": "2022-02-19T22:22:45.240Z"
   },
   {
    "duration": 878,
    "start_time": "2022-02-19T22:22:47.310Z"
   },
   {
    "duration": 18,
    "start_time": "2022-02-19T22:22:48.191Z"
   },
   {
    "duration": 10,
    "start_time": "2022-02-19T22:22:48.212Z"
   },
   {
    "duration": 11,
    "start_time": "2022-02-19T22:22:48.225Z"
   },
   {
    "duration": 9,
    "start_time": "2022-02-19T22:22:48.261Z"
   },
   {
    "duration": 13,
    "start_time": "2022-02-19T22:22:48.273Z"
   },
   {
    "duration": 7,
    "start_time": "2022-02-19T22:22:48.290Z"
   },
   {
    "duration": 8,
    "start_time": "2022-02-19T22:22:48.300Z"
   },
   {
    "duration": 63,
    "start_time": "2022-02-19T22:22:48.310Z"
   },
   {
    "duration": 19,
    "start_time": "2022-02-19T22:22:48.377Z"
   },
   {
    "duration": 75,
    "start_time": "2022-02-19T22:22:48.399Z"
   },
   {
    "duration": 25,
    "start_time": "2022-02-19T22:22:48.476Z"
   },
   {
    "duration": 16,
    "start_time": "2022-02-19T22:22:48.503Z"
   },
   {
    "duration": 51,
    "start_time": "2022-02-19T22:22:48.522Z"
   },
   {
    "duration": 20,
    "start_time": "2022-02-19T22:22:48.577Z"
   },
   {
    "duration": 14,
    "start_time": "2022-02-19T22:22:48.600Z"
   },
   {
    "duration": 83,
    "start_time": "2022-02-19T22:22:48.616Z"
   },
   {
    "duration": 267,
    "start_time": "2022-02-19T22:22:48.703Z"
   },
   {
    "duration": 183,
    "start_time": "2022-02-19T22:22:48.973Z"
   },
   {
    "duration": 436,
    "start_time": "2022-02-19T22:22:49.161Z"
   },
   {
    "duration": 265,
    "start_time": "2022-02-19T22:22:49.600Z"
   },
   {
    "duration": 68,
    "start_time": "2022-02-19T22:22:49.873Z"
   },
   {
    "duration": 66,
    "start_time": "2022-02-19T22:22:49.962Z"
   },
   {
    "duration": 64,
    "start_time": "2022-02-19T22:22:50.031Z"
   },
   {
    "duration": 17,
    "start_time": "2022-02-19T22:22:50.098Z"
   },
   {
    "duration": 11,
    "start_time": "2022-02-19T22:22:50.117Z"
   },
   {
    "duration": 40,
    "start_time": "2022-02-19T22:22:50.130Z"
   },
   {
    "duration": 7,
    "start_time": "2022-02-19T22:22:50.172Z"
   },
   {
    "duration": 18,
    "start_time": "2022-02-19T22:22:50.181Z"
   },
   {
    "duration": 15,
    "start_time": "2022-02-19T22:22:50.203Z"
   },
   {
    "duration": 48,
    "start_time": "2022-02-19T22:22:50.221Z"
   },
   {
    "duration": 17,
    "start_time": "2022-02-19T22:22:50.271Z"
   },
   {
    "duration": 85,
    "start_time": "2022-02-19T22:22:50.291Z"
   },
   {
    "duration": 18,
    "start_time": "2022-02-19T22:22:50.378Z"
   },
   {
    "duration": 23,
    "start_time": "2022-02-19T22:22:50.398Z"
   },
   {
    "duration": 69,
    "start_time": "2022-02-19T22:22:50.425Z"
   },
   {
    "duration": 172,
    "start_time": "2022-02-19T22:22:50.497Z"
   },
   {
    "duration": 12,
    "start_time": "2022-02-19T22:22:50.671Z"
   },
   {
    "duration": 7,
    "start_time": "2022-02-19T22:22:50.686Z"
   },
   {
    "duration": 15263,
    "start_time": "2022-02-19T22:22:50.695Z"
   },
   {
    "duration": 13,
    "start_time": "2022-02-19T22:23:05.961Z"
   },
   {
    "duration": 41,
    "start_time": "2022-02-19T22:23:05.977Z"
   },
   {
    "duration": 6,
    "start_time": "2022-02-19T22:23:06.021Z"
   },
   {
    "duration": 67,
    "start_time": "2022-02-19T22:23:06.030Z"
   },
   {
    "duration": 30,
    "start_time": "2022-02-19T22:23:06.099Z"
   },
   {
    "duration": 36,
    "start_time": "2022-02-19T22:23:06.132Z"
   },
   {
    "duration": 1050,
    "start_time": "2022-02-19T22:23:06.170Z"
   },
   {
    "duration": 12,
    "start_time": "2022-02-19T22:23:07.223Z"
   },
   {
    "duration": 7,
    "start_time": "2022-02-19T22:23:07.262Z"
   },
   {
    "duration": 101,
    "start_time": "2022-02-19T22:23:07.272Z"
   },
   {
    "duration": 854,
    "start_time": "2022-02-19T22:23:07.375Z"
   },
   {
    "duration": 47,
    "start_time": "2022-02-19T22:23:08.232Z"
   },
   {
    "duration": 23,
    "start_time": "2022-02-19T22:23:08.282Z"
   },
   {
    "duration": 22,
    "start_time": "2022-02-19T22:23:08.308Z"
   },
   {
    "duration": 60,
    "start_time": "2022-02-19T22:23:08.332Z"
   },
   {
    "duration": 73,
    "start_time": "2022-02-19T22:23:08.395Z"
   },
   {
    "duration": 12,
    "start_time": "2022-02-19T22:23:08.471Z"
   },
   {
    "duration": 12,
    "start_time": "2022-02-19T22:23:08.485Z"
   },
   {
    "duration": 17,
    "start_time": "2022-02-19T22:23:08.500Z"
   },
   {
    "duration": 61,
    "start_time": "2022-02-19T22:23:08.520Z"
   },
   {
    "duration": 1672,
    "start_time": "2022-02-19T22:23:08.584Z"
   },
   {
    "duration": 631,
    "start_time": "2022-02-19T22:23:10.262Z"
   },
   {
    "duration": 159,
    "start_time": "2022-02-19T22:23:10.737Z"
   },
   {
    "duration": 151,
    "start_time": "2022-02-19T22:23:10.748Z"
   },
   {
    "duration": 143,
    "start_time": "2022-02-19T22:23:10.758Z"
   },
   {
    "duration": 136,
    "start_time": "2022-02-19T22:23:10.766Z"
   },
   {
    "duration": 130,
    "start_time": "2022-02-19T22:23:10.774Z"
   },
   {
    "duration": 122,
    "start_time": "2022-02-19T22:23:10.784Z"
   },
   {
    "duration": 116,
    "start_time": "2022-02-19T22:23:10.791Z"
   },
   {
    "duration": 110,
    "start_time": "2022-02-19T22:23:10.798Z"
   },
   {
    "duration": 106,
    "start_time": "2022-02-19T22:23:10.804Z"
   },
   {
    "duration": 101,
    "start_time": "2022-02-19T22:23:10.811Z"
   },
   {
    "duration": 97,
    "start_time": "2022-02-19T22:23:10.817Z"
   },
   {
    "duration": 93,
    "start_time": "2022-02-19T22:23:10.823Z"
   },
   {
    "duration": 89,
    "start_time": "2022-02-19T22:23:10.829Z"
   },
   {
    "duration": 84,
    "start_time": "2022-02-19T22:23:10.835Z"
   },
   {
    "duration": 81,
    "start_time": "2022-02-19T22:23:10.840Z"
   },
   {
    "duration": 76,
    "start_time": "2022-02-19T22:23:10.846Z"
   },
   {
    "duration": 71,
    "start_time": "2022-02-19T22:23:10.853Z"
   },
   {
    "duration": 67,
    "start_time": "2022-02-19T22:23:10.859Z"
   },
   {
    "duration": 35,
    "start_time": "2022-02-19T22:23:34.098Z"
   },
   {
    "duration": 9,
    "start_time": "2022-02-19T22:37:02.536Z"
   },
   {
    "duration": 18,
    "start_time": "2022-02-19T22:38:31.018Z"
   },
   {
    "duration": 8,
    "start_time": "2022-02-19T22:39:00.553Z"
   },
   {
    "duration": 11,
    "start_time": "2022-02-19T22:39:09.379Z"
   },
   {
    "duration": 19,
    "start_time": "2022-02-19T22:39:24.070Z"
   },
   {
    "duration": 12,
    "start_time": "2022-02-19T22:47:25.945Z"
   },
   {
    "duration": 6,
    "start_time": "2022-02-19T22:56:52.211Z"
   },
   {
    "duration": 12,
    "start_time": "2022-02-19T22:56:57.338Z"
   },
   {
    "duration": 9,
    "start_time": "2022-02-19T23:15:40.054Z"
   },
   {
    "duration": 638,
    "start_time": "2022-02-19T23:15:59.375Z"
   },
   {
    "duration": 2328,
    "start_time": "2022-02-19T23:16:53.217Z"
   },
   {
    "duration": 922,
    "start_time": "2022-02-19T23:16:55.548Z"
   },
   {
    "duration": 19,
    "start_time": "2022-02-19T23:16:56.473Z"
   },
   {
    "duration": 7,
    "start_time": "2022-02-19T23:16:56.495Z"
   },
   {
    "duration": 10,
    "start_time": "2022-02-19T23:16:56.505Z"
   },
   {
    "duration": 46,
    "start_time": "2022-02-19T23:16:56.518Z"
   },
   {
    "duration": 11,
    "start_time": "2022-02-19T23:16:56.567Z"
   },
   {
    "duration": 10,
    "start_time": "2022-02-19T23:16:56.582Z"
   },
   {
    "duration": 8,
    "start_time": "2022-02-19T23:16:56.595Z"
   },
   {
    "duration": 19,
    "start_time": "2022-02-19T23:16:56.606Z"
   },
   {
    "duration": 18,
    "start_time": "2022-02-19T23:16:56.662Z"
   },
   {
    "duration": 41,
    "start_time": "2022-02-19T23:16:56.682Z"
   },
   {
    "duration": 50,
    "start_time": "2022-02-19T23:16:56.725Z"
   },
   {
    "duration": 15,
    "start_time": "2022-02-19T23:16:56.777Z"
   },
   {
    "duration": 22,
    "start_time": "2022-02-19T23:16:56.794Z"
   },
   {
    "duration": 49,
    "start_time": "2022-02-19T23:16:56.818Z"
   },
   {
    "duration": 13,
    "start_time": "2022-02-19T23:16:56.869Z"
   },
   {
    "duration": 76,
    "start_time": "2022-02-19T23:16:56.884Z"
   },
   {
    "duration": 245,
    "start_time": "2022-02-19T23:16:56.963Z"
   },
   {
    "duration": 181,
    "start_time": "2022-02-19T23:16:57.210Z"
   },
   {
    "duration": 401,
    "start_time": "2022-02-19T23:16:57.393Z"
   },
   {
    "duration": 263,
    "start_time": "2022-02-19T23:16:57.797Z"
   },
   {
    "duration": 79,
    "start_time": "2022-02-19T23:16:58.067Z"
   },
   {
    "duration": 61,
    "start_time": "2022-02-19T23:16:58.163Z"
   },
   {
    "duration": 71,
    "start_time": "2022-02-19T23:16:58.227Z"
   },
   {
    "duration": 13,
    "start_time": "2022-02-19T23:16:58.300Z"
   },
   {
    "duration": 13,
    "start_time": "2022-02-19T23:16:58.316Z"
   },
   {
    "duration": 16,
    "start_time": "2022-02-19T23:16:58.362Z"
   },
   {
    "duration": 8,
    "start_time": "2022-02-19T23:16:58.380Z"
   },
   {
    "duration": 9,
    "start_time": "2022-02-19T23:16:58.390Z"
   },
   {
    "duration": 16,
    "start_time": "2022-02-19T23:16:58.401Z"
   },
   {
    "duration": 53,
    "start_time": "2022-02-19T23:16:58.419Z"
   },
   {
    "duration": 14,
    "start_time": "2022-02-19T23:16:58.475Z"
   },
   {
    "duration": 76,
    "start_time": "2022-02-19T23:16:58.491Z"
   },
   {
    "duration": 17,
    "start_time": "2022-02-19T23:16:58.569Z"
   },
   {
    "duration": 26,
    "start_time": "2022-02-19T23:16:58.588Z"
   },
   {
    "duration": 70,
    "start_time": "2022-02-19T23:16:58.617Z"
   },
   {
    "duration": 164,
    "start_time": "2022-02-19T23:16:58.690Z"
   },
   {
    "duration": 12,
    "start_time": "2022-02-19T23:16:58.862Z"
   },
   {
    "duration": 8,
    "start_time": "2022-02-19T23:16:58.877Z"
   },
   {
    "duration": 15386,
    "start_time": "2022-02-19T23:16:58.888Z"
   },
   {
    "duration": 13,
    "start_time": "2022-02-19T23:17:14.277Z"
   },
   {
    "duration": 40,
    "start_time": "2022-02-19T23:17:14.293Z"
   },
   {
    "duration": 8,
    "start_time": "2022-02-19T23:17:14.361Z"
   },
   {
    "duration": 49,
    "start_time": "2022-02-19T23:17:14.372Z"
   },
   {
    "duration": 56,
    "start_time": "2022-02-19T23:17:14.424Z"
   },
   {
    "duration": 10,
    "start_time": "2022-02-19T23:17:14.482Z"
   },
   {
    "duration": 1023,
    "start_time": "2022-02-19T23:17:14.494Z"
   },
   {
    "duration": 41,
    "start_time": "2022-02-19T23:17:15.519Z"
   },
   {
    "duration": 7,
    "start_time": "2022-02-19T23:17:15.563Z"
   },
   {
    "duration": 92,
    "start_time": "2022-02-19T23:17:15.572Z"
   },
   {
    "duration": 747,
    "start_time": "2022-02-19T23:17:15.666Z"
   },
   {
    "duration": 51,
    "start_time": "2022-02-19T23:17:16.416Z"
   },
   {
    "duration": 25,
    "start_time": "2022-02-19T23:17:16.469Z"
   },
   {
    "duration": 25,
    "start_time": "2022-02-19T23:17:16.496Z"
   },
   {
    "duration": 6,
    "start_time": "2022-02-19T23:17:16.524Z"
   },
   {
    "duration": 9,
    "start_time": "2022-02-19T23:17:16.562Z"
   },
   {
    "duration": 19,
    "start_time": "2022-02-19T23:17:16.574Z"
   },
   {
    "duration": 659,
    "start_time": "2022-02-19T23:17:16.596Z"
   },
   {
    "duration": -374,
    "start_time": "2022-02-19T23:17:17.633Z"
   },
   {
    "duration": -382,
    "start_time": "2022-02-19T23:17:17.643Z"
   },
   {
    "duration": -387,
    "start_time": "2022-02-19T23:17:17.650Z"
   },
   {
    "duration": -391,
    "start_time": "2022-02-19T23:17:17.656Z"
   },
   {
    "duration": -397,
    "start_time": "2022-02-19T23:17:17.663Z"
   },
   {
    "duration": -401,
    "start_time": "2022-02-19T23:17:17.669Z"
   },
   {
    "duration": -407,
    "start_time": "2022-02-19T23:17:17.676Z"
   },
   {
    "duration": -439,
    "start_time": "2022-02-19T23:17:17.709Z"
   },
   {
    "duration": -453,
    "start_time": "2022-02-19T23:17:17.725Z"
   },
   {
    "duration": -472,
    "start_time": "2022-02-19T23:17:17.745Z"
   },
   {
    "duration": -492,
    "start_time": "2022-02-19T23:17:17.767Z"
   },
   {
    "duration": -522,
    "start_time": "2022-02-19T23:17:17.798Z"
   },
   {
    "duration": -554,
    "start_time": "2022-02-19T23:17:17.832Z"
   },
   {
    "duration": -586,
    "start_time": "2022-02-19T23:17:17.865Z"
   },
   {
    "duration": -636,
    "start_time": "2022-02-19T23:17:17.917Z"
   },
   {
    "duration": -658,
    "start_time": "2022-02-19T23:17:17.940Z"
   },
   {
    "duration": -669,
    "start_time": "2022-02-19T23:17:17.952Z"
   },
   {
    "duration": -675,
    "start_time": "2022-02-19T23:17:17.960Z"
   },
   {
    "duration": -683,
    "start_time": "2022-02-19T23:17:17.969Z"
   },
   {
    "duration": -689,
    "start_time": "2022-02-19T23:17:17.977Z"
   },
   {
    "duration": -699,
    "start_time": "2022-02-19T23:17:17.988Z"
   },
   {
    "duration": -724,
    "start_time": "2022-02-19T23:17:18.015Z"
   },
   {
    "duration": -759,
    "start_time": "2022-02-19T23:17:18.051Z"
   },
   {
    "duration": -804,
    "start_time": "2022-02-19T23:17:18.097Z"
   },
   {
    "duration": -843,
    "start_time": "2022-02-19T23:17:18.138Z"
   },
   {
    "duration": -874,
    "start_time": "2022-02-19T23:17:18.171Z"
   },
   {
    "duration": -882,
    "start_time": "2022-02-19T23:17:18.181Z"
   },
   {
    "duration": -888,
    "start_time": "2022-02-19T23:17:18.188Z"
   },
   {
    "duration": -837,
    "start_time": "2022-02-19T23:17:18.198Z"
   },
   {
    "duration": -847,
    "start_time": "2022-02-19T23:17:18.210Z"
   },
   {
    "duration": -859,
    "start_time": "2022-02-19T23:17:18.223Z"
   },
   {
    "duration": -869,
    "start_time": "2022-02-19T23:17:18.234Z"
   },
   {
    "duration": 13,
    "start_time": "2022-02-19T23:18:40.769Z"
   },
   {
    "duration": 16,
    "start_time": "2022-02-19T23:20:30.259Z"
   },
   {
    "duration": 17,
    "start_time": "2022-02-19T23:21:51.066Z"
   },
   {
    "duration": 611,
    "start_time": "2022-02-19T23:23:00.156Z"
   },
   {
    "duration": 325,
    "start_time": "2022-02-19T23:23:15.448Z"
   },
   {
    "duration": 14,
    "start_time": "2022-02-19T23:23:20.953Z"
   },
   {
    "duration": 338,
    "start_time": "2022-02-19T23:26:26.123Z"
   },
   {
    "duration": 18,
    "start_time": "2022-02-19T23:31:27.511Z"
   },
   {
    "duration": 14,
    "start_time": "2022-02-19T23:32:52.868Z"
   },
   {
    "duration": 20,
    "start_time": "2022-02-19T23:34:24.658Z"
   },
   {
    "duration": 33,
    "start_time": "2022-02-19T23:34:36.666Z"
   },
   {
    "duration": 15,
    "start_time": "2022-02-19T23:35:23.935Z"
   },
   {
    "duration": 15,
    "start_time": "2022-02-19T23:35:39.493Z"
   },
   {
    "duration": 20,
    "start_time": "2022-02-19T23:35:53.098Z"
   },
   {
    "duration": 15,
    "start_time": "2022-02-19T23:36:23.957Z"
   },
   {
    "duration": 6,
    "start_time": "2022-02-19T23:38:27.002Z"
   },
   {
    "duration": 34,
    "start_time": "2022-02-19T23:38:41.365Z"
   },
   {
    "duration": 29,
    "start_time": "2022-02-19T23:39:13.386Z"
   },
   {
    "duration": 7,
    "start_time": "2022-02-19T23:40:51.729Z"
   },
   {
    "duration": 109,
    "start_time": "2022-02-19T23:41:48.627Z"
   },
   {
    "duration": 31,
    "start_time": "2022-02-19T23:42:01.798Z"
   },
   {
    "duration": 7,
    "start_time": "2022-02-19T23:42:28.472Z"
   },
   {
    "duration": 32,
    "start_time": "2022-02-19T23:42:30.831Z"
   },
   {
    "duration": 31,
    "start_time": "2022-02-19T23:43:22.492Z"
   },
   {
    "duration": 19,
    "start_time": "2022-02-19T23:44:29.407Z"
   },
   {
    "duration": 15,
    "start_time": "2022-02-19T23:45:19.848Z"
   },
   {
    "duration": 32,
    "start_time": "2022-02-19T23:48:00.622Z"
   },
   {
    "duration": 29,
    "start_time": "2022-02-19T23:48:02.319Z"
   },
   {
    "duration": 17,
    "start_time": "2022-02-19T23:48:15.915Z"
   },
   {
    "duration": 18,
    "start_time": "2022-02-19T23:49:13.225Z"
   },
   {
    "duration": 1980,
    "start_time": "2022-02-19T23:49:19.369Z"
   },
   {
    "duration": 1244,
    "start_time": "2022-02-19T23:49:21.352Z"
   },
   {
    "duration": 18,
    "start_time": "2022-02-19T23:49:22.599Z"
   },
   {
    "duration": 8,
    "start_time": "2022-02-19T23:49:22.620Z"
   },
   {
    "duration": 32,
    "start_time": "2022-02-19T23:49:22.630Z"
   },
   {
    "duration": 11,
    "start_time": "2022-02-19T23:49:22.665Z"
   },
   {
    "duration": 19,
    "start_time": "2022-02-19T23:49:22.678Z"
   },
   {
    "duration": 8,
    "start_time": "2022-02-19T23:49:22.701Z"
   },
   {
    "duration": 7,
    "start_time": "2022-02-19T23:49:22.712Z"
   },
   {
    "duration": 48,
    "start_time": "2022-02-19T23:49:22.721Z"
   },
   {
    "duration": 21,
    "start_time": "2022-02-19T23:49:22.772Z"
   },
   {
    "duration": 68,
    "start_time": "2022-02-19T23:49:22.797Z"
   },
   {
    "duration": 25,
    "start_time": "2022-02-19T23:49:22.867Z"
   },
   {
    "duration": 15,
    "start_time": "2022-02-19T23:49:22.894Z"
   },
   {
    "duration": 50,
    "start_time": "2022-02-19T23:49:22.912Z"
   },
   {
    "duration": 17,
    "start_time": "2022-02-19T23:49:22.965Z"
   },
   {
    "duration": 15,
    "start_time": "2022-02-19T23:49:22.985Z"
   },
   {
    "duration": 82,
    "start_time": "2022-02-19T23:49:23.003Z"
   },
   {
    "duration": 251,
    "start_time": "2022-02-19T23:49:23.088Z"
   },
   {
    "duration": 187,
    "start_time": "2022-02-19T23:49:23.341Z"
   },
   {
    "duration": 431,
    "start_time": "2022-02-19T23:49:23.530Z"
   },
   {
    "duration": 242,
    "start_time": "2022-02-19T23:49:23.963Z"
   },
   {
    "duration": 84,
    "start_time": "2022-02-19T23:49:24.211Z"
   },
   {
    "duration": 75,
    "start_time": "2022-02-19T23:49:24.299Z"
   },
   {
    "duration": 50,
    "start_time": "2022-02-19T23:49:24.377Z"
   },
   {
    "duration": 35,
    "start_time": "2022-02-19T23:49:24.430Z"
   },
   {
    "duration": 10,
    "start_time": "2022-02-19T23:49:24.467Z"
   },
   {
    "duration": 14,
    "start_time": "2022-02-19T23:49:24.481Z"
   },
   {
    "duration": 8,
    "start_time": "2022-02-19T23:49:24.497Z"
   },
   {
    "duration": 53,
    "start_time": "2022-02-19T23:49:24.508Z"
   },
   {
    "duration": 12,
    "start_time": "2022-02-19T23:49:24.565Z"
   },
   {
    "duration": 16,
    "start_time": "2022-02-19T23:49:24.580Z"
   },
   {
    "duration": 17,
    "start_time": "2022-02-19T23:49:24.598Z"
   },
   {
    "duration": 90,
    "start_time": "2022-02-19T23:49:24.618Z"
   },
   {
    "duration": 16,
    "start_time": "2022-02-19T23:49:24.711Z"
   },
   {
    "duration": 45,
    "start_time": "2022-02-19T23:49:24.730Z"
   },
   {
    "duration": 42,
    "start_time": "2022-02-19T23:49:24.778Z"
   },
   {
    "duration": 188,
    "start_time": "2022-02-19T23:49:24.823Z"
   },
   {
    "duration": 13,
    "start_time": "2022-02-19T23:49:25.014Z"
   },
   {
    "duration": 13,
    "start_time": "2022-02-19T23:49:25.029Z"
   },
   {
    "duration": 14607,
    "start_time": "2022-02-19T23:49:25.061Z"
   },
   {
    "duration": 14,
    "start_time": "2022-02-19T23:49:39.670Z"
   },
   {
    "duration": 39,
    "start_time": "2022-02-19T23:49:39.687Z"
   },
   {
    "duration": 36,
    "start_time": "2022-02-19T23:49:39.729Z"
   },
   {
    "duration": 51,
    "start_time": "2022-02-19T23:49:39.767Z"
   },
   {
    "duration": 48,
    "start_time": "2022-02-19T23:49:39.820Z"
   },
   {
    "duration": 17,
    "start_time": "2022-02-19T23:49:39.870Z"
   },
   {
    "duration": 1041,
    "start_time": "2022-02-19T23:49:39.889Z"
   },
   {
    "duration": 29,
    "start_time": "2022-02-19T23:49:40.932Z"
   },
   {
    "duration": 7,
    "start_time": "2022-02-19T23:49:40.963Z"
   },
   {
    "duration": 95,
    "start_time": "2022-02-19T23:49:40.973Z"
   },
   {
    "duration": 762,
    "start_time": "2022-02-19T23:49:41.071Z"
   },
   {
    "duration": 43,
    "start_time": "2022-02-19T23:49:41.836Z"
   },
   {
    "duration": 21,
    "start_time": "2022-02-19T23:49:41.882Z"
   },
   {
    "duration": 22,
    "start_time": "2022-02-19T23:49:41.906Z"
   },
   {
    "duration": 31,
    "start_time": "2022-02-19T23:49:41.930Z"
   },
   {
    "duration": 29,
    "start_time": "2022-02-19T23:49:41.963Z"
   },
   {
    "duration": 25,
    "start_time": "2022-02-19T23:49:41.994Z"
   },
   {
    "duration": 44,
    "start_time": "2022-02-19T23:49:42.021Z"
   },
   {
    "duration": 14,
    "start_time": "2022-02-19T23:49:42.067Z"
   },
   {
    "duration": 9,
    "start_time": "2022-02-19T23:49:42.083Z"
   },
   {
    "duration": 15,
    "start_time": "2022-02-19T23:49:42.094Z"
   },
   {
    "duration": 51,
    "start_time": "2022-02-19T23:49:42.112Z"
   },
   {
    "duration": 546,
    "start_time": "2022-02-19T23:49:42.165Z"
   },
   {
    "duration": -1849,
    "start_time": "2022-02-19T23:49:44.565Z"
   },
   {
    "duration": -1857,
    "start_time": "2022-02-19T23:49:44.574Z"
   },
   {
    "duration": -1863,
    "start_time": "2022-02-19T23:49:44.581Z"
   },
   {
    "duration": -1878,
    "start_time": "2022-02-19T23:49:44.598Z"
   },
   {
    "duration": -1887,
    "start_time": "2022-02-19T23:49:44.608Z"
   },
   {
    "duration": -1892,
    "start_time": "2022-02-19T23:49:44.614Z"
   },
   {
    "duration": -1899,
    "start_time": "2022-02-19T23:49:44.623Z"
   },
   {
    "duration": -1905,
    "start_time": "2022-02-19T23:49:44.630Z"
   },
   {
    "duration": -1912,
    "start_time": "2022-02-19T23:49:44.638Z"
   },
   {
    "duration": -1917,
    "start_time": "2022-02-19T23:49:44.644Z"
   },
   {
    "duration": -1923,
    "start_time": "2022-02-19T23:49:44.652Z"
   },
   {
    "duration": -1929,
    "start_time": "2022-02-19T23:49:44.659Z"
   },
   {
    "duration": -1936,
    "start_time": "2022-02-19T23:49:44.668Z"
   },
   {
    "duration": -1943,
    "start_time": "2022-02-19T23:49:44.676Z"
   },
   {
    "duration": -1952,
    "start_time": "2022-02-19T23:49:44.686Z"
   },
   {
    "duration": -1958,
    "start_time": "2022-02-19T23:49:44.693Z"
   },
   {
    "duration": -1976,
    "start_time": "2022-02-19T23:49:44.713Z"
   },
   {
    "duration": -1982,
    "start_time": "2022-02-19T23:49:44.720Z"
   },
   {
    "duration": -1988,
    "start_time": "2022-02-19T23:49:44.727Z"
   },
   {
    "duration": -1991,
    "start_time": "2022-02-19T23:49:44.732Z"
   },
   {
    "duration": -2007,
    "start_time": "2022-02-19T23:49:44.749Z"
   },
   {
    "duration": -2026,
    "start_time": "2022-02-19T23:49:44.770Z"
   },
   {
    "duration": -2049,
    "start_time": "2022-02-19T23:49:44.794Z"
   },
   {
    "duration": -2059,
    "start_time": "2022-02-19T23:49:44.806Z"
   },
   {
    "duration": -2084,
    "start_time": "2022-02-19T23:49:44.832Z"
   },
   {
    "duration": -2089,
    "start_time": "2022-02-19T23:49:44.839Z"
   },
   {
    "duration": -2095,
    "start_time": "2022-02-19T23:49:44.846Z"
   },
   {
    "duration": -2092,
    "start_time": "2022-02-19T23:49:44.852Z"
   },
   {
    "duration": -2095,
    "start_time": "2022-02-19T23:49:44.859Z"
   },
   {
    "duration": -2099,
    "start_time": "2022-02-19T23:49:44.865Z"
   },
   {
    "duration": -2106,
    "start_time": "2022-02-19T23:49:44.873Z"
   },
   {
    "duration": -2110,
    "start_time": "2022-02-19T23:49:44.879Z"
   },
   {
    "duration": -2115,
    "start_time": "2022-02-19T23:49:44.886Z"
   },
   {
    "duration": -2119,
    "start_time": "2022-02-19T23:49:44.892Z"
   },
   {
    "duration": -2125,
    "start_time": "2022-02-19T23:49:44.899Z"
   },
   {
    "duration": -2130,
    "start_time": "2022-02-19T23:49:44.906Z"
   },
   {
    "duration": -2139,
    "start_time": "2022-02-19T23:49:44.916Z"
   },
   {
    "duration": -2145,
    "start_time": "2022-02-19T23:49:44.924Z"
   },
   {
    "duration": 17,
    "start_time": "2022-02-19T23:50:53.600Z"
   },
   {
    "duration": 15,
    "start_time": "2022-02-19T23:52:35.291Z"
   },
   {
    "duration": 18,
    "start_time": "2022-02-19T23:52:58.903Z"
   },
   {
    "duration": 14,
    "start_time": "2022-02-19T23:53:00.660Z"
   },
   {
    "duration": 14,
    "start_time": "2022-02-19T23:53:33.878Z"
   },
   {
    "duration": 9,
    "start_time": "2022-02-19T23:57:17.621Z"
   },
   {
    "duration": 13,
    "start_time": "2022-02-19T23:57:43.938Z"
   },
   {
    "duration": 14,
    "start_time": "2022-02-19T23:59:12.506Z"
   },
   {
    "duration": 2031,
    "start_time": "2022-02-20T00:20:35.477Z"
   },
   {
    "duration": 875,
    "start_time": "2022-02-20T00:20:37.510Z"
   },
   {
    "duration": 17,
    "start_time": "2022-02-20T00:20:38.388Z"
   },
   {
    "duration": 11,
    "start_time": "2022-02-20T00:20:38.408Z"
   },
   {
    "duration": 10,
    "start_time": "2022-02-20T00:20:38.422Z"
   },
   {
    "duration": 9,
    "start_time": "2022-02-20T00:20:38.462Z"
   },
   {
    "duration": 10,
    "start_time": "2022-02-20T00:20:38.474Z"
   },
   {
    "duration": 7,
    "start_time": "2022-02-20T00:20:38.488Z"
   },
   {
    "duration": 8,
    "start_time": "2022-02-20T00:20:38.498Z"
   },
   {
    "duration": 59,
    "start_time": "2022-02-20T00:20:38.509Z"
   },
   {
    "duration": 19,
    "start_time": "2022-02-20T00:20:38.570Z"
   },
   {
    "duration": 37,
    "start_time": "2022-02-20T00:20:38.591Z"
   },
   {
    "duration": 48,
    "start_time": "2022-02-20T00:20:38.631Z"
   },
   {
    "duration": 15,
    "start_time": "2022-02-20T00:20:38.682Z"
   },
   {
    "duration": 25,
    "start_time": "2022-02-20T00:20:38.699Z"
   },
   {
    "duration": 47,
    "start_time": "2022-02-20T00:20:38.726Z"
   },
   {
    "duration": 11,
    "start_time": "2022-02-20T00:20:38.776Z"
   },
   {
    "duration": 83,
    "start_time": "2022-02-20T00:20:38.790Z"
   },
   {
    "duration": 234,
    "start_time": "2022-02-20T00:20:38.875Z"
   },
   {
    "duration": 177,
    "start_time": "2022-02-20T00:20:39.112Z"
   },
   {
    "duration": 419,
    "start_time": "2022-02-20T00:20:39.292Z"
   },
   {
    "duration": 260,
    "start_time": "2022-02-20T00:20:39.714Z"
   },
   {
    "duration": 87,
    "start_time": "2022-02-20T00:20:39.982Z"
   },
   {
    "duration": 66,
    "start_time": "2022-02-20T00:20:40.074Z"
   },
   {
    "duration": 57,
    "start_time": "2022-02-20T00:20:40.163Z"
   },
   {
    "duration": 43,
    "start_time": "2022-02-20T00:20:40.223Z"
   },
   {
    "duration": 11,
    "start_time": "2022-02-20T00:20:40.269Z"
   },
   {
    "duration": 20,
    "start_time": "2022-02-20T00:20:40.284Z"
   },
   {
    "duration": 9,
    "start_time": "2022-02-20T00:20:40.307Z"
   },
   {
    "duration": 49,
    "start_time": "2022-02-20T00:20:40.318Z"
   },
   {
    "duration": 13,
    "start_time": "2022-02-20T00:20:40.369Z"
   },
   {
    "duration": 13,
    "start_time": "2022-02-20T00:20:40.385Z"
   },
   {
    "duration": 19,
    "start_time": "2022-02-20T00:20:40.401Z"
   },
   {
    "duration": 53,
    "start_time": "2022-02-20T00:20:40.462Z"
   },
   {
    "duration": 44,
    "start_time": "2022-02-20T00:20:40.518Z"
   },
   {
    "duration": 24,
    "start_time": "2022-02-20T00:20:40.565Z"
   },
   {
    "duration": 39,
    "start_time": "2022-02-20T00:20:40.591Z"
   },
   {
    "duration": 195,
    "start_time": "2022-02-20T00:20:40.632Z"
   },
   {
    "duration": 13,
    "start_time": "2022-02-20T00:20:40.829Z"
   },
   {
    "duration": 20,
    "start_time": "2022-02-20T00:20:40.844Z"
   },
   {
    "duration": 14606,
    "start_time": "2022-02-20T00:20:40.867Z"
   },
   {
    "duration": 12,
    "start_time": "2022-02-20T00:20:55.475Z"
   },
   {
    "duration": 36,
    "start_time": "2022-02-20T00:20:55.489Z"
   },
   {
    "duration": 6,
    "start_time": "2022-02-20T00:20:55.527Z"
   },
   {
    "duration": 66,
    "start_time": "2022-02-20T00:20:55.536Z"
   },
   {
    "duration": 62,
    "start_time": "2022-02-20T00:20:55.606Z"
   },
   {
    "duration": 17,
    "start_time": "2022-02-20T00:20:55.671Z"
   },
   {
    "duration": 1071,
    "start_time": "2022-02-20T00:20:55.691Z"
   },
   {
    "duration": 15,
    "start_time": "2022-02-20T00:20:56.765Z"
   },
   {
    "duration": 9,
    "start_time": "2022-02-20T00:20:56.783Z"
   },
   {
    "duration": 95,
    "start_time": "2022-02-20T00:20:56.795Z"
   },
   {
    "duration": 847,
    "start_time": "2022-02-20T00:20:56.893Z"
   },
   {
    "duration": 46,
    "start_time": "2022-02-20T00:20:57.743Z"
   },
   {
    "duration": 23,
    "start_time": "2022-02-20T00:20:57.791Z"
   },
   {
    "duration": 45,
    "start_time": "2022-02-20T00:20:57.816Z"
   },
   {
    "duration": 7,
    "start_time": "2022-02-20T00:20:57.863Z"
   },
   {
    "duration": 34,
    "start_time": "2022-02-20T00:20:57.873Z"
   },
   {
    "duration": 25,
    "start_time": "2022-02-20T00:20:57.909Z"
   },
   {
    "duration": 18,
    "start_time": "2022-02-20T00:20:57.962Z"
   },
   {
    "duration": 15,
    "start_time": "2022-02-20T00:20:57.987Z"
   },
   {
    "duration": 11,
    "start_time": "2022-02-20T00:20:58.005Z"
   },
   {
    "duration": 46,
    "start_time": "2022-02-20T00:20:58.019Z"
   },
   {
    "duration": 14,
    "start_time": "2022-02-20T00:20:58.067Z"
   },
   {
    "duration": 2037,
    "start_time": "2022-02-20T00:28:48.532Z"
   },
   {
    "duration": 852,
    "start_time": "2022-02-20T00:28:50.572Z"
   },
   {
    "duration": 19,
    "start_time": "2022-02-20T00:28:51.427Z"
   },
   {
    "duration": 16,
    "start_time": "2022-02-20T00:28:51.449Z"
   },
   {
    "duration": 10,
    "start_time": "2022-02-20T00:28:51.468Z"
   },
   {
    "duration": 11,
    "start_time": "2022-02-20T00:28:51.481Z"
   },
   {
    "duration": 10,
    "start_time": "2022-02-20T00:28:51.495Z"
   },
   {
    "duration": 8,
    "start_time": "2022-02-20T00:28:51.509Z"
   },
   {
    "duration": 7,
    "start_time": "2022-02-20T00:28:51.562Z"
   },
   {
    "duration": 18,
    "start_time": "2022-02-20T00:28:51.572Z"
   },
   {
    "duration": 18,
    "start_time": "2022-02-20T00:28:51.593Z"
   },
   {
    "duration": 74,
    "start_time": "2022-02-20T00:28:51.613Z"
   },
   {
    "duration": 24,
    "start_time": "2022-02-20T00:28:51.689Z"
   },
   {
    "duration": 16,
    "start_time": "2022-02-20T00:28:51.715Z"
   },
   {
    "duration": 22,
    "start_time": "2022-02-20T00:28:51.762Z"
   },
   {
    "duration": 16,
    "start_time": "2022-02-20T00:28:51.786Z"
   },
   {
    "duration": 15,
    "start_time": "2022-02-20T00:28:51.805Z"
   },
   {
    "duration": 86,
    "start_time": "2022-02-20T00:28:51.823Z"
   },
   {
    "duration": 234,
    "start_time": "2022-02-20T00:28:51.912Z"
   },
   {
    "duration": 195,
    "start_time": "2022-02-20T00:28:52.149Z"
   },
   {
    "duration": 400,
    "start_time": "2022-02-20T00:28:52.347Z"
   },
   {
    "duration": 234,
    "start_time": "2022-02-20T00:28:52.749Z"
   },
   {
    "duration": 76,
    "start_time": "2022-02-20T00:28:52.989Z"
   },
   {
    "duration": 63,
    "start_time": "2022-02-20T00:28:53.068Z"
   },
   {
    "duration": 68,
    "start_time": "2022-02-20T00:28:53.133Z"
   },
   {
    "duration": 14,
    "start_time": "2022-02-20T00:28:53.204Z"
   },
   {
    "duration": 10,
    "start_time": "2022-02-20T00:28:53.221Z"
   },
   {
    "duration": 13,
    "start_time": "2022-02-20T00:28:53.261Z"
   },
   {
    "duration": 8,
    "start_time": "2022-02-20T00:28:53.276Z"
   },
   {
    "duration": 9,
    "start_time": "2022-02-20T00:28:53.286Z"
   },
   {
    "duration": 12,
    "start_time": "2022-02-20T00:28:53.298Z"
   },
   {
    "duration": 57,
    "start_time": "2022-02-20T00:28:53.312Z"
   },
   {
    "duration": 15,
    "start_time": "2022-02-20T00:28:53.371Z"
   },
   {
    "duration": 74,
    "start_time": "2022-02-20T00:28:53.388Z"
   },
   {
    "duration": 18,
    "start_time": "2022-02-20T00:28:53.465Z"
   },
   {
    "duration": 21,
    "start_time": "2022-02-20T00:28:53.485Z"
   },
   {
    "duration": 71,
    "start_time": "2022-02-20T00:28:53.508Z"
   },
   {
    "duration": 158,
    "start_time": "2022-02-20T00:28:53.581Z"
   },
   {
    "duration": 21,
    "start_time": "2022-02-20T00:28:53.742Z"
   },
   {
    "duration": 9,
    "start_time": "2022-02-20T00:28:53.765Z"
   },
   {
    "duration": 15320,
    "start_time": "2022-02-20T00:28:53.776Z"
   },
   {
    "duration": 12,
    "start_time": "2022-02-20T00:29:09.099Z"
   },
   {
    "duration": 58,
    "start_time": "2022-02-20T00:29:09.114Z"
   },
   {
    "duration": 7,
    "start_time": "2022-02-20T00:29:09.175Z"
   },
   {
    "duration": 46,
    "start_time": "2022-02-20T00:29:09.184Z"
   },
   {
    "duration": 55,
    "start_time": "2022-02-20T00:29:09.232Z"
   },
   {
    "duration": 16,
    "start_time": "2022-02-20T00:29:09.290Z"
   },
   {
    "duration": 1044,
    "start_time": "2022-02-20T00:29:09.308Z"
   },
   {
    "duration": 16,
    "start_time": "2022-02-20T00:29:10.355Z"
   },
   {
    "duration": 8,
    "start_time": "2022-02-20T00:29:10.373Z"
   },
   {
    "duration": 93,
    "start_time": "2022-02-20T00:29:10.383Z"
   },
   {
    "duration": 799,
    "start_time": "2022-02-20T00:29:10.478Z"
   },
   {
    "duration": 32,
    "start_time": "2022-02-20T00:29:11.280Z"
   },
   {
    "duration": 47,
    "start_time": "2022-02-20T00:29:11.315Z"
   },
   {
    "duration": 22,
    "start_time": "2022-02-20T00:29:11.365Z"
   },
   {
    "duration": 8,
    "start_time": "2022-02-20T00:29:11.389Z"
   },
   {
    "duration": 29,
    "start_time": "2022-02-20T00:29:11.400Z"
   },
   {
    "duration": 54,
    "start_time": "2022-02-20T00:29:11.431Z"
   },
   {
    "duration": 17,
    "start_time": "2022-02-20T00:29:11.488Z"
   },
   {
    "duration": 14,
    "start_time": "2022-02-20T00:29:11.507Z"
   },
   {
    "duration": 41,
    "start_time": "2022-02-20T00:29:11.523Z"
   },
   {
    "duration": 22,
    "start_time": "2022-02-20T00:29:11.567Z"
   },
   {
    "duration": 17,
    "start_time": "2022-02-20T00:29:11.592Z"
   },
   {
    "duration": 116735,
    "start_time": "2022-02-20T17:30:35.070Z"
   },
   {
    "duration": 920,
    "start_time": "2022-02-20T17:32:31.808Z"
   },
   {
    "duration": 17,
    "start_time": "2022-02-20T17:32:32.731Z"
   },
   {
    "duration": 11,
    "start_time": "2022-02-20T17:32:32.751Z"
   },
   {
    "duration": 10,
    "start_time": "2022-02-20T17:32:32.765Z"
   },
   {
    "duration": 39,
    "start_time": "2022-02-20T17:32:32.778Z"
   },
   {
    "duration": 13,
    "start_time": "2022-02-20T17:32:32.819Z"
   },
   {
    "duration": 8,
    "start_time": "2022-02-20T17:32:32.835Z"
   },
   {
    "duration": 7,
    "start_time": "2022-02-20T17:32:32.846Z"
   },
   {
    "duration": 60,
    "start_time": "2022-02-20T17:32:32.855Z"
   },
   {
    "duration": 18,
    "start_time": "2022-02-20T17:32:32.918Z"
   },
   {
    "duration": 71,
    "start_time": "2022-02-20T17:32:32.939Z"
   },
   {
    "duration": 26,
    "start_time": "2022-02-20T17:32:33.013Z"
   },
   {
    "duration": 20,
    "start_time": "2022-02-20T17:32:33.042Z"
   },
   {
    "duration": 61,
    "start_time": "2022-02-20T17:32:33.064Z"
   },
   {
    "duration": 21,
    "start_time": "2022-02-20T17:32:33.127Z"
   },
   {
    "duration": 24,
    "start_time": "2022-02-20T17:32:33.151Z"
   },
   {
    "duration": 75,
    "start_time": "2022-02-20T17:32:33.178Z"
   },
   {
    "duration": 279,
    "start_time": "2022-02-20T17:32:33.256Z"
   },
   {
    "duration": 212,
    "start_time": "2022-02-20T17:32:33.538Z"
   },
   {
    "duration": 559,
    "start_time": "2022-02-20T17:32:33.753Z"
   },
   {
    "duration": 244,
    "start_time": "2022-02-20T17:32:34.314Z"
   },
   {
    "duration": 77,
    "start_time": "2022-02-20T17:32:34.565Z"
   },
   {
    "duration": 77,
    "start_time": "2022-02-20T17:32:34.646Z"
   },
   {
    "duration": 57,
    "start_time": "2022-02-20T17:32:34.726Z"
   },
   {
    "duration": 33,
    "start_time": "2022-02-20T17:32:34.786Z"
   },
   {
    "duration": 13,
    "start_time": "2022-02-20T17:32:34.822Z"
   },
   {
    "duration": 16,
    "start_time": "2022-02-20T17:32:34.838Z"
   },
   {
    "duration": 8,
    "start_time": "2022-02-20T17:32:34.856Z"
   },
   {
    "duration": 50,
    "start_time": "2022-02-20T17:32:34.867Z"
   },
   {
    "duration": 17,
    "start_time": "2022-02-20T17:32:34.920Z"
   },
   {
    "duration": 13,
    "start_time": "2022-02-20T17:32:34.940Z"
   },
   {
    "duration": 14,
    "start_time": "2022-02-20T17:32:34.956Z"
   },
   {
    "duration": 47,
    "start_time": "2022-02-20T17:32:35.011Z"
   },
   {
    "duration": 17,
    "start_time": "2022-02-20T17:32:35.061Z"
   },
   {
    "duration": 49,
    "start_time": "2022-02-20T17:32:35.081Z"
   },
   {
    "duration": 40,
    "start_time": "2022-02-20T17:32:35.132Z"
   },
   {
    "duration": 179,
    "start_time": "2022-02-20T17:32:35.174Z"
   },
   {
    "duration": 12,
    "start_time": "2022-02-20T17:32:35.355Z"
   },
   {
    "duration": 7,
    "start_time": "2022-02-20T17:32:35.370Z"
   },
   {
    "duration": 27786,
    "start_time": "2022-02-20T17:32:35.380Z"
   },
   {
    "duration": 18,
    "start_time": "2022-02-20T17:33:03.169Z"
   },
   {
    "duration": 62,
    "start_time": "2022-02-20T17:33:03.190Z"
   },
   {
    "duration": 7,
    "start_time": "2022-02-20T17:33:03.256Z"
   },
   {
    "duration": 75,
    "start_time": "2022-02-20T17:33:03.266Z"
   },
   {
    "duration": 29,
    "start_time": "2022-02-20T17:33:03.344Z"
   },
   {
    "duration": 42,
    "start_time": "2022-02-20T17:33:03.375Z"
   },
   {
    "duration": 1039,
    "start_time": "2022-02-20T17:33:03.420Z"
   },
   {
    "duration": 49,
    "start_time": "2022-02-20T17:33:04.462Z"
   },
   {
    "duration": 7,
    "start_time": "2022-02-20T17:33:04.514Z"
   },
   {
    "duration": 35,
    "start_time": "2022-02-20T17:33:04.523Z"
   },
   {
    "duration": 1132,
    "start_time": "2022-02-20T17:33:04.612Z"
   },
   {
    "duration": 69,
    "start_time": "2022-02-20T17:33:05.747Z"
   },
   {
    "duration": 26,
    "start_time": "2022-02-20T17:33:05.819Z"
   },
   {
    "duration": 23,
    "start_time": "2022-02-20T17:33:05.848Z"
   },
   {
    "duration": 41,
    "start_time": "2022-02-20T17:33:05.873Z"
   },
   {
    "duration": 34,
    "start_time": "2022-02-20T17:33:05.917Z"
   },
   {
    "duration": 58,
    "start_time": "2022-02-20T17:33:05.954Z"
   },
   {
    "duration": 19,
    "start_time": "2022-02-20T17:33:06.015Z"
   },
   {
    "duration": 15,
    "start_time": "2022-02-20T17:33:06.036Z"
   },
   {
    "duration": 9,
    "start_time": "2022-02-20T17:33:06.054Z"
   },
   {
    "duration": 49,
    "start_time": "2022-02-20T17:33:06.065Z"
   },
   {
    "duration": 17,
    "start_time": "2022-02-20T17:33:06.117Z"
   },
   {
    "duration": 58,
    "start_time": "2022-02-20T18:02:09.873Z"
   },
   {
    "duration": 75,
    "start_time": "2022-02-20T18:09:27.296Z"
   },
   {
    "duration": 55,
    "start_time": "2022-02-20T18:10:14.345Z"
   },
   {
    "duration": 1454,
    "start_time": "2022-02-20T18:12:36.834Z"
   },
   {
    "duration": 1446,
    "start_time": "2022-02-20T18:19:50.324Z"
   },
   {
    "duration": 626,
    "start_time": "2022-02-20T18:19:51.772Z"
   },
   {
    "duration": 12,
    "start_time": "2022-02-20T18:19:52.400Z"
   },
   {
    "duration": 10,
    "start_time": "2022-02-20T18:19:52.414Z"
   },
   {
    "duration": 11,
    "start_time": "2022-02-20T18:19:52.426Z"
   },
   {
    "duration": 9,
    "start_time": "2022-02-20T18:19:52.439Z"
   },
   {
    "duration": 9,
    "start_time": "2022-02-20T18:19:52.450Z"
   },
   {
    "duration": 9,
    "start_time": "2022-02-20T18:19:52.461Z"
   },
   {
    "duration": 10,
    "start_time": "2022-02-20T18:19:52.472Z"
   },
   {
    "duration": 38,
    "start_time": "2022-02-20T18:19:52.483Z"
   },
   {
    "duration": 12,
    "start_time": "2022-02-20T18:19:52.523Z"
   },
   {
    "duration": 26,
    "start_time": "2022-02-20T18:19:52.537Z"
   },
   {
    "duration": 17,
    "start_time": "2022-02-20T18:19:52.565Z"
   },
   {
    "duration": 43,
    "start_time": "2022-02-20T18:19:52.584Z"
   },
   {
    "duration": 13,
    "start_time": "2022-02-20T18:19:52.628Z"
   },
   {
    "duration": 12,
    "start_time": "2022-02-20T18:19:52.642Z"
   },
   {
    "duration": 8,
    "start_time": "2022-02-20T18:19:52.656Z"
   },
   {
    "duration": 63,
    "start_time": "2022-02-20T18:19:52.666Z"
   },
   {
    "duration": 175,
    "start_time": "2022-02-20T18:19:52.731Z"
   },
   {
    "duration": 138,
    "start_time": "2022-02-20T18:19:52.908Z"
   },
   {
    "duration": 278,
    "start_time": "2022-02-20T18:19:53.048Z"
   },
   {
    "duration": 168,
    "start_time": "2022-02-20T18:19:53.327Z"
   },
   {
    "duration": 58,
    "start_time": "2022-02-20T18:19:53.500Z"
   },
   {
    "duration": 43,
    "start_time": "2022-02-20T18:19:53.561Z"
   },
   {
    "duration": 42,
    "start_time": "2022-02-20T18:19:53.618Z"
   },
   {
    "duration": 8,
    "start_time": "2022-02-20T18:19:53.662Z"
   },
   {
    "duration": 8,
    "start_time": "2022-02-20T18:19:53.672Z"
   },
   {
    "duration": 9,
    "start_time": "2022-02-20T18:19:53.682Z"
   },
   {
    "duration": 7,
    "start_time": "2022-02-20T18:19:53.719Z"
   },
   {
    "duration": 11,
    "start_time": "2022-02-20T18:19:53.728Z"
   },
   {
    "duration": 9,
    "start_time": "2022-02-20T18:19:53.740Z"
   },
   {
    "duration": 11,
    "start_time": "2022-02-20T18:19:53.751Z"
   },
   {
    "duration": 10,
    "start_time": "2022-02-20T18:19:53.764Z"
   },
   {
    "duration": 67,
    "start_time": "2022-02-20T18:19:53.776Z"
   },
   {
    "duration": 12,
    "start_time": "2022-02-20T18:19:53.845Z"
   },
   {
    "duration": 18,
    "start_time": "2022-02-20T18:19:53.859Z"
   },
   {
    "duration": 43,
    "start_time": "2022-02-20T18:19:53.879Z"
   },
   {
    "duration": 112,
    "start_time": "2022-02-20T18:19:53.924Z"
   },
   {
    "duration": 8,
    "start_time": "2022-02-20T18:19:54.038Z"
   },
   {
    "duration": 6,
    "start_time": "2022-02-20T18:19:54.047Z"
   },
   {
    "duration": 7726,
    "start_time": "2022-02-20T18:19:54.054Z"
   },
   {
    "duration": 9,
    "start_time": "2022-02-20T18:20:01.781Z"
   },
   {
    "duration": 34,
    "start_time": "2022-02-20T18:20:01.792Z"
   },
   {
    "duration": 5,
    "start_time": "2022-02-20T18:20:01.828Z"
   },
   {
    "duration": 32,
    "start_time": "2022-02-20T18:20:01.834Z"
   },
   {
    "duration": 21,
    "start_time": "2022-02-20T18:20:01.868Z"
   },
   {
    "duration": 37,
    "start_time": "2022-02-20T18:20:01.891Z"
   },
   {
    "duration": 761,
    "start_time": "2022-02-20T18:20:01.931Z"
   },
   {
    "duration": 28,
    "start_time": "2022-02-20T18:20:02.694Z"
   },
   {
    "duration": 6,
    "start_time": "2022-02-20T18:20:02.724Z"
   },
   {
    "duration": 23,
    "start_time": "2022-02-20T18:20:02.732Z"
   },
   {
    "duration": 565,
    "start_time": "2022-02-20T18:20:02.756Z"
   },
   {
    "duration": 26,
    "start_time": "2022-02-20T18:20:03.323Z"
   },
   {
    "duration": 23,
    "start_time": "2022-02-20T18:20:03.351Z"
   },
   {
    "duration": 44,
    "start_time": "2022-02-20T18:20:03.376Z"
   },
   {
    "duration": 16,
    "start_time": "2022-02-20T18:20:03.422Z"
   },
   {
    "duration": 35,
    "start_time": "2022-02-20T18:20:03.440Z"
   },
   {
    "duration": 22,
    "start_time": "2022-02-20T18:20:03.476Z"
   },
   {
    "duration": 13,
    "start_time": "2022-02-20T18:20:03.500Z"
   },
   {
    "duration": 33,
    "start_time": "2022-02-20T18:20:03.515Z"
   },
   {
    "duration": 29,
    "start_time": "2022-02-20T18:20:03.550Z"
   },
   {
    "duration": 32,
    "start_time": "2022-02-20T18:20:03.581Z"
   },
   {
    "duration": 19,
    "start_time": "2022-02-20T18:20:03.615Z"
   },
   {
    "duration": 11,
    "start_time": "2022-02-20T18:29:20.738Z"
   },
   {
    "duration": 3,
    "start_time": "2022-02-20T18:30:58.503Z"
   },
   {
    "duration": 6,
    "start_time": "2022-02-20T18:31:24.599Z"
   },
   {
    "duration": 14,
    "start_time": "2022-02-20T18:35:55.701Z"
   },
   {
    "duration": 13,
    "start_time": "2022-02-20T18:37:11.071Z"
   },
   {
    "duration": 7,
    "start_time": "2022-02-20T18:37:38.393Z"
   },
   {
    "duration": 23,
    "start_time": "2022-02-20T18:37:43.808Z"
   },
   {
    "duration": 6,
    "start_time": "2022-02-20T18:37:51.532Z"
   },
   {
    "duration": 24,
    "start_time": "2022-02-20T18:38:02.810Z"
   },
   {
    "duration": 6,
    "start_time": "2022-02-20T18:38:05.610Z"
   },
   {
    "duration": 8,
    "start_time": "2022-02-20T18:39:25.108Z"
   },
   {
    "duration": 12,
    "start_time": "2022-02-20T18:39:47.052Z"
   },
   {
    "duration": 372,
    "start_time": "2022-02-20T18:40:00.386Z"
   },
   {
    "duration": 30,
    "start_time": "2022-02-20T18:40:03.957Z"
   },
   {
    "duration": 14,
    "start_time": "2022-02-20T18:40:07.043Z"
   },
   {
    "duration": 21,
    "start_time": "2022-02-20T18:40:11.491Z"
   },
   {
    "duration": 1299,
    "start_time": "2022-02-20T18:42:31.749Z"
   },
   {
    "duration": 593,
    "start_time": "2022-02-20T18:42:33.049Z"
   },
   {
    "duration": 12,
    "start_time": "2022-02-20T18:42:33.644Z"
   },
   {
    "duration": 7,
    "start_time": "2022-02-20T18:42:33.658Z"
   },
   {
    "duration": 7,
    "start_time": "2022-02-20T18:42:33.666Z"
   },
   {
    "duration": 8,
    "start_time": "2022-02-20T18:42:33.674Z"
   },
   {
    "duration": 10,
    "start_time": "2022-02-20T18:42:33.683Z"
   },
   {
    "duration": 25,
    "start_time": "2022-02-20T18:42:33.696Z"
   },
   {
    "duration": 6,
    "start_time": "2022-02-20T18:42:33.724Z"
   },
   {
    "duration": 9,
    "start_time": "2022-02-20T18:42:33.731Z"
   },
   {
    "duration": 12,
    "start_time": "2022-02-20T18:42:33.742Z"
   },
   {
    "duration": 24,
    "start_time": "2022-02-20T18:42:33.756Z"
   },
   {
    "duration": 48,
    "start_time": "2022-02-20T18:42:33.783Z"
   },
   {
    "duration": 10,
    "start_time": "2022-02-20T18:42:33.833Z"
   },
   {
    "duration": 12,
    "start_time": "2022-02-20T18:42:33.844Z"
   },
   {
    "duration": 10,
    "start_time": "2022-02-20T18:42:33.857Z"
   },
   {
    "duration": 10,
    "start_time": "2022-02-20T18:42:33.869Z"
   },
   {
    "duration": 71,
    "start_time": "2022-02-20T18:42:33.881Z"
   },
   {
    "duration": 175,
    "start_time": "2022-02-20T18:42:33.954Z"
   },
   {
    "duration": 120,
    "start_time": "2022-02-20T18:42:34.131Z"
   },
   {
    "duration": 302,
    "start_time": "2022-02-20T18:42:34.253Z"
   },
   {
    "duration": 164,
    "start_time": "2022-02-20T18:42:34.557Z"
   },
   {
    "duration": 45,
    "start_time": "2022-02-20T18:42:34.725Z"
   },
   {
    "duration": 58,
    "start_time": "2022-02-20T18:42:34.772Z"
   },
   {
    "duration": 39,
    "start_time": "2022-02-20T18:42:34.831Z"
   },
   {
    "duration": 8,
    "start_time": "2022-02-20T18:42:34.872Z"
   },
   {
    "duration": 7,
    "start_time": "2022-02-20T18:42:34.882Z"
   },
   {
    "duration": 34,
    "start_time": "2022-02-20T18:42:34.891Z"
   },
   {
    "duration": 5,
    "start_time": "2022-02-20T18:42:34.927Z"
   },
   {
    "duration": 7,
    "start_time": "2022-02-20T18:42:34.934Z"
   },
   {
    "duration": 9,
    "start_time": "2022-02-20T18:42:34.943Z"
   },
   {
    "duration": 11,
    "start_time": "2022-02-20T18:42:34.954Z"
   },
   {
    "duration": 10,
    "start_time": "2022-02-20T18:42:34.967Z"
   },
   {
    "duration": 2,
    "start_time": "2022-02-20T18:42:34.979Z"
   },
   {
    "duration": 41,
    "start_time": "2022-02-20T18:42:34.983Z"
   },
   {
    "duration": 11,
    "start_time": "2022-02-20T18:42:35.026Z"
   },
   {
    "duration": 10,
    "start_time": "2022-02-20T18:42:35.039Z"
   },
   {
    "duration": 20,
    "start_time": "2022-02-20T18:42:35.050Z"
   },
   {
    "duration": 32,
    "start_time": "2022-02-20T18:42:35.072Z"
   },
   {
    "duration": 14,
    "start_time": "2022-02-20T18:42:35.105Z"
   },
   {
    "duration": 13,
    "start_time": "2022-02-20T18:42:35.120Z"
   },
   {
    "duration": 18,
    "start_time": "2022-02-20T18:42:35.135Z"
   },
   {
    "duration": 298,
    "start_time": "2022-02-20T18:42:35.154Z"
   },
   {
    "duration": -1462,
    "start_time": "2022-02-20T18:42:36.916Z"
   },
   {
    "duration": -1479,
    "start_time": "2022-02-20T18:42:36.934Z"
   },
   {
    "duration": -1491,
    "start_time": "2022-02-20T18:42:36.947Z"
   },
   {
    "duration": -1523,
    "start_time": "2022-02-20T18:42:36.980Z"
   },
   {
    "duration": -1535,
    "start_time": "2022-02-20T18:42:36.993Z"
   },
   {
    "duration": -1545,
    "start_time": "2022-02-20T18:42:37.004Z"
   },
   {
    "duration": -1551,
    "start_time": "2022-02-20T18:42:37.011Z"
   },
   {
    "duration": -1560,
    "start_time": "2022-02-20T18:42:37.021Z"
   },
   {
    "duration": -1565,
    "start_time": "2022-02-20T18:42:37.028Z"
   },
   {
    "duration": -1574,
    "start_time": "2022-02-20T18:42:37.037Z"
   },
   {
    "duration": -1579,
    "start_time": "2022-02-20T18:42:37.043Z"
   },
   {
    "duration": -1586,
    "start_time": "2022-02-20T18:42:37.051Z"
   },
   {
    "duration": -1591,
    "start_time": "2022-02-20T18:42:37.057Z"
   },
   {
    "duration": -1596,
    "start_time": "2022-02-20T18:42:37.063Z"
   },
   {
    "duration": -1602,
    "start_time": "2022-02-20T18:42:37.069Z"
   },
   {
    "duration": -1608,
    "start_time": "2022-02-20T18:42:37.076Z"
   },
   {
    "duration": -1623,
    "start_time": "2022-02-20T18:42:37.092Z"
   },
   {
    "duration": -1637,
    "start_time": "2022-02-20T18:42:37.107Z"
   },
   {
    "duration": -1654,
    "start_time": "2022-02-20T18:42:37.124Z"
   },
   {
    "duration": -1679,
    "start_time": "2022-02-20T18:42:37.150Z"
   },
   {
    "duration": -1693,
    "start_time": "2022-02-20T18:42:37.165Z"
   },
   {
    "duration": -1706,
    "start_time": "2022-02-20T18:42:37.179Z"
   },
   {
    "duration": -1715,
    "start_time": "2022-02-20T18:42:37.189Z"
   },
   {
    "duration": -1733,
    "start_time": "2022-02-20T18:42:37.208Z"
   },
   {
    "duration": -1747,
    "start_time": "2022-02-20T18:42:37.223Z"
   },
   {
    "duration": 74,
    "start_time": "2022-02-20T18:48:49.851Z"
   },
   {
    "duration": 61,
    "start_time": "2022-02-20T18:49:26.940Z"
   },
   {
    "duration": 62,
    "start_time": "2022-02-20T18:50:09.424Z"
   },
   {
    "duration": 9,
    "start_time": "2022-02-20T18:54:27.616Z"
   },
   {
    "duration": 208,
    "start_time": "2022-02-20T18:54:54.126Z"
   },
   {
    "duration": 225,
    "start_time": "2022-02-20T18:55:20.429Z"
   },
   {
    "duration": 32,
    "start_time": "2022-02-20T18:55:29.738Z"
   },
   {
    "duration": 17,
    "start_time": "2022-02-20T18:58:25.084Z"
   },
   {
    "duration": 18,
    "start_time": "2022-02-20T19:01:19.229Z"
   },
   {
    "duration": 8,
    "start_time": "2022-02-20T19:05:57.069Z"
   },
   {
    "duration": 25,
    "start_time": "2022-02-20T19:06:04.928Z"
   },
   {
    "duration": 8,
    "start_time": "2022-02-20T19:06:06.032Z"
   },
   {
    "duration": 14,
    "start_time": "2022-02-20T19:06:15.388Z"
   },
   {
    "duration": 6,
    "start_time": "2022-02-20T19:13:07.104Z"
   },
   {
    "duration": 66,
    "start_time": "2022-02-20T19:14:13.970Z"
   },
   {
    "duration": 114,
    "start_time": "2022-02-20T19:18:37.622Z"
   },
   {
    "duration": 17,
    "start_time": "2022-02-20T19:21:15.971Z"
   },
   {
    "duration": 26,
    "start_time": "2022-02-20T19:21:48.360Z"
   },
   {
    "duration": 26,
    "start_time": "2022-02-20T19:22:18.089Z"
   },
   {
    "duration": 2,
    "start_time": "2022-02-20T19:22:37.915Z"
   },
   {
    "duration": 10,
    "start_time": "2022-02-20T19:25:29.540Z"
   },
   {
    "duration": 18,
    "start_time": "2022-02-20T19:25:47.403Z"
   },
   {
    "duration": 9,
    "start_time": "2022-02-20T19:26:00.824Z"
   },
   {
    "duration": 205,
    "start_time": "2022-02-20T19:27:00.881Z"
   },
   {
    "duration": 185,
    "start_time": "2022-02-20T19:27:07.875Z"
   },
   {
    "duration": 25,
    "start_time": "2022-02-20T19:27:11.123Z"
   },
   {
    "duration": 3,
    "start_time": "2022-02-20T19:34:59.064Z"
   },
   {
    "duration": 8733,
    "start_time": "2022-02-20T19:35:00.537Z"
   },
   {
    "duration": 22,
    "start_time": "2022-02-20T19:42:15.001Z"
   },
   {
    "duration": 25,
    "start_time": "2022-02-20T19:42:38.057Z"
   },
   {
    "duration": 29,
    "start_time": "2022-02-20T19:42:53.180Z"
   },
   {
    "duration": 10,
    "start_time": "2022-02-20T19:45:32.574Z"
   },
   {
    "duration": 17,
    "start_time": "2022-02-20T19:49:38.566Z"
   },
   {
    "duration": 5,
    "start_time": "2022-02-20T19:59:50.761Z"
   },
   {
    "duration": 23,
    "start_time": "2022-02-20T19:59:57.468Z"
   },
   {
    "duration": 24,
    "start_time": "2022-02-20T20:02:42.993Z"
   },
   {
    "duration": 12,
    "start_time": "2022-02-20T20:04:58.620Z"
   },
   {
    "duration": 64,
    "start_time": "2022-02-20T20:05:04.372Z"
   },
   {
    "duration": 76,
    "start_time": "2022-02-20T20:05:49.152Z"
   },
   {
    "duration": 4,
    "start_time": "2022-02-20T20:08:51.916Z"
   },
   {
    "duration": 9,
    "start_time": "2022-02-20T20:11:04.296Z"
   },
   {
    "duration": 9,
    "start_time": "2022-02-20T20:11:15.170Z"
   },
   {
    "duration": 9,
    "start_time": "2022-02-20T20:11:33.111Z"
   },
   {
    "duration": 59,
    "start_time": "2022-02-20T20:11:38.480Z"
   },
   {
    "duration": 10,
    "start_time": "2022-02-20T20:11:41.990Z"
   },
   {
    "duration": 8,
    "start_time": "2022-02-20T20:15:47.824Z"
   },
   {
    "duration": 36,
    "start_time": "2022-02-20T20:15:49.501Z"
   },
   {
    "duration": 27,
    "start_time": "2022-02-20T20:15:53.048Z"
   },
   {
    "duration": 12,
    "start_time": "2022-02-20T20:15:57.580Z"
   },
   {
    "duration": 757,
    "start_time": "2022-02-20T20:15:59.737Z"
   },
   {
    "duration": 5,
    "start_time": "2022-02-20T20:18:51.922Z"
   },
   {
    "duration": 34,
    "start_time": "2022-02-20T20:18:52.736Z"
   },
   {
    "duration": 28,
    "start_time": "2022-02-20T20:18:57.095Z"
   },
   {
    "duration": 13,
    "start_time": "2022-02-20T20:19:01.990Z"
   },
   {
    "duration": 5,
    "start_time": "2022-02-20T20:21:36.846Z"
   },
   {
    "duration": 35,
    "start_time": "2022-02-20T20:21:37.731Z"
   },
   {
    "duration": 26,
    "start_time": "2022-02-20T20:21:43.870Z"
   },
   {
    "duration": 13,
    "start_time": "2022-02-20T20:21:44.887Z"
   },
   {
    "duration": 25,
    "start_time": "2022-02-20T20:22:14.773Z"
   },
   {
    "duration": 25,
    "start_time": "2022-02-20T20:22:53.316Z"
   },
   {
    "duration": 242,
    "start_time": "2022-02-20T20:25:14.677Z"
   },
   {
    "duration": 15,
    "start_time": "2022-02-20T20:25:29.990Z"
   },
   {
    "duration": 12,
    "start_time": "2022-02-20T20:26:29.756Z"
   },
   {
    "duration": 13,
    "start_time": "2022-02-20T20:28:43.996Z"
   },
   {
    "duration": 725,
    "start_time": "2022-02-20T20:29:16.605Z"
   },
   {
    "duration": 65,
    "start_time": "2022-02-20T20:32:41.763Z"
   },
   {
    "duration": 14,
    "start_time": "2022-02-20T20:32:46.990Z"
   },
   {
    "duration": 18,
    "start_time": "2022-02-20T20:33:06.867Z"
   },
   {
    "duration": 17,
    "start_time": "2022-02-20T20:33:13.233Z"
   },
   {
    "duration": 317,
    "start_time": "2022-02-20T20:33:52.711Z"
   },
   {
    "duration": 8,
    "start_time": "2022-02-20T20:34:05.885Z"
   },
   {
    "duration": 14,
    "start_time": "2022-02-20T20:34:18.701Z"
   },
   {
    "duration": 209,
    "start_time": "2022-02-20T20:34:29.259Z"
   },
   {
    "duration": 87,
    "start_time": "2022-02-20T20:36:21.408Z"
   },
   {
    "duration": 8,
    "start_time": "2022-02-20T20:36:38.196Z"
   },
   {
    "duration": 1400,
    "start_time": "2022-02-20T20:42:30.015Z"
   },
   {
    "duration": 607,
    "start_time": "2022-02-20T20:42:31.417Z"
   },
   {
    "duration": 12,
    "start_time": "2022-02-20T20:42:32.026Z"
   },
   {
    "duration": 7,
    "start_time": "2022-02-20T20:42:32.040Z"
   },
   {
    "duration": 7,
    "start_time": "2022-02-20T20:42:32.049Z"
   },
   {
    "duration": 5,
    "start_time": "2022-02-20T20:42:32.058Z"
   },
   {
    "duration": 8,
    "start_time": "2022-02-20T20:42:32.065Z"
   },
   {
    "duration": 5,
    "start_time": "2022-02-20T20:42:32.075Z"
   },
   {
    "duration": 39,
    "start_time": "2022-02-20T20:42:32.082Z"
   },
   {
    "duration": 11,
    "start_time": "2022-02-20T20:42:32.123Z"
   },
   {
    "duration": 13,
    "start_time": "2022-02-20T20:42:32.136Z"
   },
   {
    "duration": 26,
    "start_time": "2022-02-20T20:42:32.151Z"
   },
   {
    "duration": 51,
    "start_time": "2022-02-20T20:42:32.178Z"
   },
   {
    "duration": 12,
    "start_time": "2022-02-20T20:42:32.231Z"
   },
   {
    "duration": 15,
    "start_time": "2022-02-20T20:42:32.244Z"
   },
   {
    "duration": 13,
    "start_time": "2022-02-20T20:42:32.260Z"
   },
   {
    "duration": 46,
    "start_time": "2022-02-20T20:42:32.274Z"
   },
   {
    "duration": 38,
    "start_time": "2022-02-20T20:42:32.322Z"
   },
   {
    "duration": 170,
    "start_time": "2022-02-20T20:42:32.361Z"
   },
   {
    "duration": 123,
    "start_time": "2022-02-20T20:42:32.532Z"
   },
   {
    "duration": 270,
    "start_time": "2022-02-20T20:42:32.657Z"
   },
   {
    "duration": 166,
    "start_time": "2022-02-20T20:42:32.929Z"
   },
   {
    "duration": 55,
    "start_time": "2022-02-20T20:42:33.099Z"
   },
   {
    "duration": 41,
    "start_time": "2022-02-20T20:42:33.156Z"
   },
   {
    "duration": 57,
    "start_time": "2022-02-20T20:42:33.198Z"
   },
   {
    "duration": 11,
    "start_time": "2022-02-20T20:42:33.256Z"
   },
   {
    "duration": 8,
    "start_time": "2022-02-20T20:42:33.269Z"
   },
   {
    "duration": 10,
    "start_time": "2022-02-20T20:42:33.279Z"
   },
   {
    "duration": 28,
    "start_time": "2022-02-20T20:42:33.291Z"
   },
   {
    "duration": 9,
    "start_time": "2022-02-20T20:42:33.322Z"
   },
   {
    "duration": 8,
    "start_time": "2022-02-20T20:42:33.332Z"
   },
   {
    "duration": 14,
    "start_time": "2022-02-20T20:42:33.342Z"
   },
   {
    "duration": 11,
    "start_time": "2022-02-20T20:42:33.358Z"
   },
   {
    "duration": 2,
    "start_time": "2022-02-20T20:42:33.371Z"
   },
   {
    "duration": 4,
    "start_time": "2022-02-20T20:42:33.374Z"
   },
   {
    "duration": 5,
    "start_time": "2022-02-20T20:42:33.380Z"
   },
   {
    "duration": 36,
    "start_time": "2022-02-20T20:42:33.387Z"
   },
   {
    "duration": 3,
    "start_time": "2022-02-20T20:42:33.425Z"
   },
   {
    "duration": 15,
    "start_time": "2022-02-20T20:42:33.430Z"
   },
   {
    "duration": 26,
    "start_time": "2022-02-20T20:42:33.447Z"
   },
   {
    "duration": 6,
    "start_time": "2022-02-20T20:42:33.474Z"
   },
   {
    "duration": 138,
    "start_time": "2022-02-20T20:42:33.481Z"
   },
   {
    "duration": 2,
    "start_time": "2022-02-20T20:42:33.652Z"
   },
   {
    "duration": 10,
    "start_time": "2022-02-20T20:42:33.658Z"
   },
   {
    "duration": 24,
    "start_time": "2022-02-20T20:42:34.116Z"
   },
   {
    "duration": 5,
    "start_time": "2022-02-20T20:42:34.142Z"
   },
   {
    "duration": 8879,
    "start_time": "2022-02-20T20:42:34.149Z"
   },
   {
    "duration": 9,
    "start_time": "2022-02-20T20:42:43.030Z"
   },
   {
    "duration": 5,
    "start_time": "2022-02-20T20:42:43.040Z"
   },
   {
    "duration": 19,
    "start_time": "2022-02-20T20:42:43.048Z"
   },
   {
    "duration": 3,
    "start_time": "2022-02-20T20:42:43.069Z"
   },
   {
    "duration": 5,
    "start_time": "2022-02-20T20:42:43.073Z"
   },
   {
    "duration": 7,
    "start_time": "2022-02-20T20:42:43.079Z"
   },
   {
    "duration": 125,
    "start_time": "2022-02-20T20:42:43.087Z"
   },
   {
    "duration": 12,
    "start_time": "2022-02-20T20:42:43.218Z"
   },
   {
    "duration": 7,
    "start_time": "2022-02-20T20:42:43.232Z"
   },
   {
    "duration": 40,
    "start_time": "2022-02-20T20:42:43.241Z"
   },
   {
    "duration": 52,
    "start_time": "2022-02-20T20:42:43.284Z"
   },
   {
    "duration": 13,
    "start_time": "2022-02-20T20:42:43.338Z"
   },
   {
    "duration": 748,
    "start_time": "2022-02-20T20:42:43.353Z"
   },
   {
    "duration": 20,
    "start_time": "2022-02-20T20:42:44.102Z"
   },
   {
    "duration": 402,
    "start_time": "2022-02-20T20:42:44.124Z"
   },
   {
    "duration": -960,
    "start_time": "2022-02-20T20:42:45.487Z"
   },
   {
    "duration": -977,
    "start_time": "2022-02-20T20:42:45.506Z"
   },
   {
    "duration": -995,
    "start_time": "2022-02-20T20:42:45.525Z"
   },
   {
    "duration": -1004,
    "start_time": "2022-02-20T20:42:45.535Z"
   },
   {
    "duration": -1012,
    "start_time": "2022-02-20T20:42:45.544Z"
   },
   {
    "duration": -1020,
    "start_time": "2022-02-20T20:42:45.553Z"
   },
   {
    "duration": -1029,
    "start_time": "2022-02-20T20:42:45.563Z"
   },
   {
    "duration": -1043,
    "start_time": "2022-02-20T20:42:45.578Z"
   },
   {
    "duration": -1067,
    "start_time": "2022-02-20T20:42:45.603Z"
   },
   {
    "duration": -1084,
    "start_time": "2022-02-20T20:42:45.621Z"
   },
   {
    "duration": -1112,
    "start_time": "2022-02-20T20:42:45.650Z"
   },
   {
    "duration": -1120,
    "start_time": "2022-02-20T20:42:45.659Z"
   },
   {
    "duration": -1140,
    "start_time": "2022-02-20T20:42:45.680Z"
   },
   {
    "duration": 5,
    "start_time": "2022-02-20T20:43:47.723Z"
   },
   {
    "duration": 4,
    "start_time": "2022-02-20T20:43:56.573Z"
   },
   {
    "duration": 1363,
    "start_time": "2022-02-20T20:44:05.463Z"
   },
   {
    "duration": 588,
    "start_time": "2022-02-20T20:44:06.828Z"
   },
   {
    "duration": 12,
    "start_time": "2022-02-20T20:44:07.418Z"
   },
   {
    "duration": 6,
    "start_time": "2022-02-20T20:44:07.432Z"
   },
   {
    "duration": 7,
    "start_time": "2022-02-20T20:44:07.440Z"
   },
   {
    "duration": 6,
    "start_time": "2022-02-20T20:44:07.448Z"
   },
   {
    "duration": 8,
    "start_time": "2022-02-20T20:44:07.455Z"
   },
   {
    "duration": 6,
    "start_time": "2022-02-20T20:44:07.466Z"
   },
   {
    "duration": 5,
    "start_time": "2022-02-20T20:44:07.474Z"
   },
   {
    "duration": 11,
    "start_time": "2022-02-20T20:44:07.520Z"
   },
   {
    "duration": 13,
    "start_time": "2022-02-20T20:44:07.532Z"
   },
   {
    "duration": 24,
    "start_time": "2022-02-20T20:44:07.547Z"
   },
   {
    "duration": 48,
    "start_time": "2022-02-20T20:44:07.573Z"
   },
   {
    "duration": 13,
    "start_time": "2022-02-20T20:44:07.622Z"
   },
   {
    "duration": 12,
    "start_time": "2022-02-20T20:44:07.637Z"
   },
   {
    "duration": 11,
    "start_time": "2022-02-20T20:44:07.651Z"
   },
   {
    "duration": 11,
    "start_time": "2022-02-20T20:44:07.664Z"
   },
   {
    "duration": 73,
    "start_time": "2022-02-20T20:44:07.677Z"
   },
   {
    "duration": 158,
    "start_time": "2022-02-20T20:44:07.752Z"
   },
   {
    "duration": 125,
    "start_time": "2022-02-20T20:44:07.912Z"
   },
   {
    "duration": 268,
    "start_time": "2022-02-20T20:44:08.039Z"
   },
   {
    "duration": 169,
    "start_time": "2022-02-20T20:44:08.309Z"
   },
   {
    "duration": 69,
    "start_time": "2022-02-20T20:44:08.482Z"
   },
   {
    "duration": 48,
    "start_time": "2022-02-20T20:44:08.553Z"
   },
   {
    "duration": 54,
    "start_time": "2022-02-20T20:44:08.603Z"
   },
   {
    "duration": 10,
    "start_time": "2022-02-20T20:44:08.659Z"
   },
   {
    "duration": 8,
    "start_time": "2022-02-20T20:44:08.670Z"
   },
   {
    "duration": 11,
    "start_time": "2022-02-20T20:44:08.679Z"
   },
   {
    "duration": 29,
    "start_time": "2022-02-20T20:44:08.692Z"
   },
   {
    "duration": 7,
    "start_time": "2022-02-20T20:44:08.723Z"
   },
   {
    "duration": 9,
    "start_time": "2022-02-20T20:44:08.732Z"
   },
   {
    "duration": 9,
    "start_time": "2022-02-20T20:44:08.743Z"
   },
   {
    "duration": 10,
    "start_time": "2022-02-20T20:44:08.753Z"
   },
   {
    "duration": 2,
    "start_time": "2022-02-20T20:44:08.765Z"
   },
   {
    "duration": 4,
    "start_time": "2022-02-20T20:44:08.769Z"
   },
   {
    "duration": 45,
    "start_time": "2022-02-20T20:44:08.774Z"
   },
   {
    "duration": 7,
    "start_time": "2022-02-20T20:44:08.821Z"
   },
   {
    "duration": 4,
    "start_time": "2022-02-20T20:44:08.829Z"
   },
   {
    "duration": 18,
    "start_time": "2022-02-20T20:44:08.835Z"
   },
   {
    "duration": 27,
    "start_time": "2022-02-20T20:44:08.855Z"
   },
   {
    "duration": 6,
    "start_time": "2022-02-20T20:44:08.884Z"
   },
   {
    "duration": 149,
    "start_time": "2022-02-20T20:44:08.891Z"
   },
   {
    "duration": 2,
    "start_time": "2022-02-20T20:44:09.042Z"
   },
   {
    "duration": 10,
    "start_time": "2022-02-20T20:44:09.046Z"
   },
   {
    "duration": 25,
    "start_time": "2022-02-20T20:44:09.057Z"
   },
   {
    "duration": 4,
    "start_time": "2022-02-20T20:44:09.084Z"
   },
   {
    "duration": 9260,
    "start_time": "2022-02-20T20:44:09.089Z"
   },
   {
    "duration": 9,
    "start_time": "2022-02-20T20:44:18.350Z"
   },
   {
    "duration": 22,
    "start_time": "2022-02-20T20:44:18.361Z"
   },
   {
    "duration": 40,
    "start_time": "2022-02-20T20:44:18.384Z"
   },
   {
    "duration": 16,
    "start_time": "2022-02-20T20:44:18.426Z"
   },
   {
    "duration": 41,
    "start_time": "2022-02-20T20:44:18.444Z"
   },
   {
    "duration": 54,
    "start_time": "2022-02-20T20:44:18.486Z"
   },
   {
    "duration": 123,
    "start_time": "2022-02-20T20:44:18.542Z"
   },
   {
    "duration": 10,
    "start_time": "2022-02-20T20:44:18.667Z"
   },
   {
    "duration": 12,
    "start_time": "2022-02-20T20:44:18.679Z"
   },
   {
    "duration": 73,
    "start_time": "2022-02-20T20:44:18.693Z"
   },
   {
    "duration": 24,
    "start_time": "2022-02-20T20:44:18.768Z"
   },
   {
    "duration": 13,
    "start_time": "2022-02-20T20:44:18.794Z"
   },
   {
    "duration": 757,
    "start_time": "2022-02-20T20:44:18.809Z"
   },
   {
    "duration": 10,
    "start_time": "2022-02-20T20:44:19.568Z"
   },
   {
    "duration": 8,
    "start_time": "2022-02-20T20:44:19.580Z"
   },
   {
    "duration": 379,
    "start_time": "2022-02-20T20:44:19.618Z"
   },
   {
    "duration": -499,
    "start_time": "2022-02-20T20:44:20.499Z"
   },
   {
    "duration": -508,
    "start_time": "2022-02-20T20:44:20.509Z"
   },
   {
    "duration": -517,
    "start_time": "2022-02-20T20:44:20.520Z"
   },
   {
    "duration": -526,
    "start_time": "2022-02-20T20:44:20.530Z"
   },
   {
    "duration": -532,
    "start_time": "2022-02-20T20:44:20.538Z"
   },
   {
    "duration": -568,
    "start_time": "2022-02-20T20:44:20.575Z"
   },
   {
    "duration": -574,
    "start_time": "2022-02-20T20:44:20.583Z"
   },
   {
    "duration": -581,
    "start_time": "2022-02-20T20:44:20.591Z"
   },
   {
    "duration": -588,
    "start_time": "2022-02-20T20:44:20.599Z"
   },
   {
    "duration": -597,
    "start_time": "2022-02-20T20:44:20.610Z"
   },
   {
    "duration": -613,
    "start_time": "2022-02-20T20:44:20.628Z"
   },
   {
    "duration": -628,
    "start_time": "2022-02-20T20:44:20.644Z"
   },
   {
    "duration": 27,
    "start_time": "2022-02-20T20:48:12.183Z"
   },
   {
    "duration": 199,
    "start_time": "2022-02-20T20:48:40.516Z"
   },
   {
    "duration": 442,
    "start_time": "2022-02-20T20:48:51.566Z"
   },
   {
    "duration": 33,
    "start_time": "2022-02-20T20:54:19.175Z"
   },
   {
    "duration": 24,
    "start_time": "2022-02-20T20:56:15.342Z"
   },
   {
    "duration": 182,
    "start_time": "2022-02-20T20:58:08.694Z"
   },
   {
    "duration": 189,
    "start_time": "2022-02-20T20:58:38.993Z"
   },
   {
    "duration": 187,
    "start_time": "2022-02-20T20:59:34.031Z"
   },
   {
    "duration": 6,
    "start_time": "2022-02-20T21:08:13.740Z"
   },
   {
    "duration": 7,
    "start_time": "2022-02-20T21:10:39.017Z"
   },
   {
    "duration": 6,
    "start_time": "2022-02-20T21:10:58.014Z"
   },
   {
    "duration": 24,
    "start_time": "2022-02-20T21:15:59.075Z"
   },
   {
    "duration": 6,
    "start_time": "2022-02-20T21:16:35.141Z"
   },
   {
    "duration": 5,
    "start_time": "2022-02-20T21:17:48.253Z"
   },
   {
    "duration": 6,
    "start_time": "2022-02-20T21:18:06.923Z"
   },
   {
    "duration": 7,
    "start_time": "2022-02-20T21:19:28.143Z"
   },
   {
    "duration": 4,
    "start_time": "2022-02-20T21:21:33.389Z"
   },
   {
    "duration": 25,
    "start_time": "2022-02-20T21:23:14.768Z"
   },
   {
    "duration": 25,
    "start_time": "2022-02-20T21:23:20.067Z"
   },
   {
    "duration": 5,
    "start_time": "2022-02-20T21:24:36.409Z"
   },
   {
    "duration": 6,
    "start_time": "2022-02-20T21:24:46.889Z"
   },
   {
    "duration": 26,
    "start_time": "2022-02-20T21:25:33.744Z"
   },
   {
    "duration": 25,
    "start_time": "2022-02-20T21:25:38.965Z"
   },
   {
    "duration": 4,
    "start_time": "2022-02-20T21:29:20.691Z"
   },
   {
    "duration": 4,
    "start_time": "2022-02-20T21:30:55.280Z"
   },
   {
    "duration": 4,
    "start_time": "2022-02-20T21:31:09.239Z"
   },
   {
    "duration": 5,
    "start_time": "2022-02-20T21:32:18.670Z"
   },
   {
    "duration": 6,
    "start_time": "2022-02-20T21:34:57.693Z"
   },
   {
    "duration": 396,
    "start_time": "2022-02-20T21:35:00.925Z"
   },
   {
    "duration": 5,
    "start_time": "2022-02-20T21:35:09.039Z"
   },
   {
    "duration": 37,
    "start_time": "2022-02-20T21:35:09.370Z"
   },
   {
    "duration": 24,
    "start_time": "2022-02-20T21:35:10.696Z"
   },
   {
    "duration": 13,
    "start_time": "2022-02-20T21:35:12.015Z"
   },
   {
    "duration": 9,
    "start_time": "2022-02-20T21:36:45.949Z"
   },
   {
    "duration": 76,
    "start_time": "2022-02-20T21:38:16.068Z"
   },
   {
    "duration": 10,
    "start_time": "2022-02-20T21:38:32.157Z"
   },
   {
    "duration": 5,
    "start_time": "2022-02-20T21:38:53.067Z"
   },
   {
    "duration": 395,
    "start_time": "2022-02-20T21:38:53.861Z"
   },
   {
    "duration": 8,
    "start_time": "2022-02-20T21:39:21.414Z"
   },
   {
    "duration": 5,
    "start_time": "2022-02-20T21:40:51.348Z"
   },
   {
    "duration": 10,
    "start_time": "2022-02-20T21:40:57.095Z"
   },
   {
    "duration": 10,
    "start_time": "2022-02-20T21:45:47.998Z"
   },
   {
    "duration": 268,
    "start_time": "2022-02-20T21:47:28.303Z"
   },
   {
    "duration": 6,
    "start_time": "2022-02-20T21:47:33.404Z"
   },
   {
    "duration": 10,
    "start_time": "2022-02-20T21:47:35.767Z"
   },
   {
    "duration": 5,
    "start_time": "2022-02-20T21:48:32.016Z"
   },
   {
    "duration": 4,
    "start_time": "2022-02-20T21:48:46.765Z"
   },
   {
    "duration": 4,
    "start_time": "2022-02-20T21:49:06.573Z"
   },
   {
    "duration": 11,
    "start_time": "2022-02-20T21:50:00.363Z"
   },
   {
    "duration": 71,
    "start_time": "2022-02-20T21:55:10.320Z"
   },
   {
    "duration": 1318,
    "start_time": "2022-02-20T21:57:16.444Z"
   },
   {
    "duration": 602,
    "start_time": "2022-02-20T21:57:17.763Z"
   },
   {
    "duration": 11,
    "start_time": "2022-02-20T21:57:18.367Z"
   },
   {
    "duration": 7,
    "start_time": "2022-02-20T21:57:18.380Z"
   },
   {
    "duration": 7,
    "start_time": "2022-02-20T21:57:18.389Z"
   },
   {
    "duration": 23,
    "start_time": "2022-02-20T21:57:18.398Z"
   },
   {
    "duration": 9,
    "start_time": "2022-02-20T21:57:18.423Z"
   },
   {
    "duration": 11,
    "start_time": "2022-02-20T21:57:18.434Z"
   },
   {
    "duration": 7,
    "start_time": "2022-02-20T21:57:18.447Z"
   },
   {
    "duration": 12,
    "start_time": "2022-02-20T21:57:18.455Z"
   },
   {
    "duration": 11,
    "start_time": "2022-02-20T21:57:18.469Z"
   },
   {
    "duration": 49,
    "start_time": "2022-02-20T21:57:18.481Z"
   },
   {
    "duration": 18,
    "start_time": "2022-02-20T21:57:18.531Z"
   },
   {
    "duration": 11,
    "start_time": "2022-02-20T21:57:18.550Z"
   },
   {
    "duration": 12,
    "start_time": "2022-02-20T21:57:18.562Z"
   },
   {
    "duration": 12,
    "start_time": "2022-02-20T21:57:18.576Z"
   },
   {
    "duration": 40,
    "start_time": "2022-02-20T21:57:18.589Z"
   },
   {
    "duration": 43,
    "start_time": "2022-02-20T21:57:18.631Z"
   },
   {
    "duration": 195,
    "start_time": "2022-02-20T21:57:18.675Z"
   },
   {
    "duration": 129,
    "start_time": "2022-02-20T21:57:18.871Z"
   },
   {
    "duration": 286,
    "start_time": "2022-02-20T21:57:19.002Z"
   },
   {
    "duration": 161,
    "start_time": "2022-02-20T21:57:19.289Z"
   },
   {
    "duration": 48,
    "start_time": "2022-02-20T21:57:19.454Z"
   },
   {
    "duration": 54,
    "start_time": "2022-02-20T21:57:19.504Z"
   },
   {
    "duration": 40,
    "start_time": "2022-02-20T21:57:19.559Z"
   },
   {
    "duration": 26,
    "start_time": "2022-02-20T21:57:19.600Z"
   },
   {
    "duration": 8,
    "start_time": "2022-02-20T21:57:19.627Z"
   },
   {
    "duration": 9,
    "start_time": "2022-02-20T21:57:19.637Z"
   },
   {
    "duration": 5,
    "start_time": "2022-02-20T21:57:19.647Z"
   },
   {
    "duration": 10,
    "start_time": "2022-02-20T21:57:19.654Z"
   },
   {
    "duration": 9,
    "start_time": "2022-02-20T21:57:19.666Z"
   },
   {
    "duration": 44,
    "start_time": "2022-02-20T21:57:19.676Z"
   },
   {
    "duration": 10,
    "start_time": "2022-02-20T21:57:19.722Z"
   },
   {
    "duration": 2,
    "start_time": "2022-02-20T21:57:19.734Z"
   },
   {
    "duration": 3,
    "start_time": "2022-02-20T21:57:19.738Z"
   },
   {
    "duration": 7,
    "start_time": "2022-02-20T21:57:19.743Z"
   },
   {
    "duration": 6,
    "start_time": "2022-02-20T21:57:19.751Z"
   },
   {
    "duration": 3,
    "start_time": "2022-02-20T21:57:19.759Z"
   },
   {
    "duration": 14,
    "start_time": "2022-02-20T21:57:19.763Z"
   },
   {
    "duration": 59,
    "start_time": "2022-02-20T21:57:19.779Z"
   },
   {
    "duration": 6,
    "start_time": "2022-02-20T21:57:19.840Z"
   },
   {
    "duration": 119,
    "start_time": "2022-02-20T21:57:19.847Z"
   },
   {
    "duration": 2,
    "start_time": "2022-02-20T21:57:19.968Z"
   },
   {
    "duration": 10,
    "start_time": "2022-02-20T21:57:19.971Z"
   },
   {
    "duration": 40,
    "start_time": "2022-02-20T21:57:19.983Z"
   },
   {
    "duration": 3,
    "start_time": "2022-02-20T21:57:20.024Z"
   },
   {
    "duration": 8525,
    "start_time": "2022-02-20T21:57:20.029Z"
   },
   {
    "duration": 8,
    "start_time": "2022-02-20T21:57:28.556Z"
   },
   {
    "duration": 17,
    "start_time": "2022-02-20T21:57:28.566Z"
   },
   {
    "duration": 21,
    "start_time": "2022-02-20T21:57:28.585Z"
   },
   {
    "duration": 7,
    "start_time": "2022-02-20T21:57:28.608Z"
   },
   {
    "duration": 11,
    "start_time": "2022-02-20T21:57:28.616Z"
   },
   {
    "duration": 4,
    "start_time": "2022-02-20T21:57:28.629Z"
   },
   {
    "duration": 87,
    "start_time": "2022-02-20T21:57:28.635Z"
   },
   {
    "duration": 10,
    "start_time": "2022-02-20T21:57:28.724Z"
   },
   {
    "duration": 5,
    "start_time": "2022-02-20T21:57:28.735Z"
   },
   {
    "duration": 37,
    "start_time": "2022-02-20T21:57:28.742Z"
   },
   {
    "duration": 54,
    "start_time": "2022-02-20T21:57:28.781Z"
   },
   {
    "duration": 13,
    "start_time": "2022-02-20T21:57:28.836Z"
   },
   {
    "duration": 729,
    "start_time": "2022-02-20T21:57:28.850Z"
   },
   {
    "duration": 9,
    "start_time": "2022-02-20T21:57:29.580Z"
   },
   {
    "duration": 28,
    "start_time": "2022-02-20T21:57:29.591Z"
   },
   {
    "duration": 31,
    "start_time": "2022-02-20T21:57:29.621Z"
   },
   {
    "duration": 547,
    "start_time": "2022-02-20T21:57:29.655Z"
   },
   {
    "duration": 29,
    "start_time": "2022-02-20T21:57:30.203Z"
   },
   {
    "duration": 28,
    "start_time": "2022-02-20T21:57:30.234Z"
   },
   {
    "duration": 5,
    "start_time": "2022-02-20T21:57:30.265Z"
   },
   {
    "duration": 53,
    "start_time": "2022-02-20T21:57:30.272Z"
   },
   {
    "duration": 14,
    "start_time": "2022-02-20T21:57:30.327Z"
   },
   {
    "duration": 27,
    "start_time": "2022-02-20T21:57:30.342Z"
   },
   {
    "duration": 44,
    "start_time": "2022-02-20T21:57:30.371Z"
   },
   {
    "duration": 21,
    "start_time": "2022-02-20T21:57:30.417Z"
   },
   {
    "duration": 12,
    "start_time": "2022-02-20T21:57:30.440Z"
   },
   {
    "duration": 34,
    "start_time": "2022-02-20T21:57:30.454Z"
   },
   {
    "duration": 23,
    "start_time": "2022-02-20T21:57:30.490Z"
   },
   {
    "duration": 20,
    "start_time": "2022-02-20T21:57:30.514Z"
   },
   {
    "duration": 33,
    "start_time": "2022-02-20T21:57:30.535Z"
   },
   {
    "duration": 34,
    "start_time": "2022-02-20T21:57:30.570Z"
   },
   {
    "duration": 19,
    "start_time": "2022-02-20T21:57:30.606Z"
   },
   {
    "duration": 1434,
    "start_time": "2022-02-20T22:03:31.103Z"
   },
   {
    "duration": 621,
    "start_time": "2022-02-20T22:03:32.538Z"
   },
   {
    "duration": 13,
    "start_time": "2022-02-20T22:03:33.161Z"
   },
   {
    "duration": 10,
    "start_time": "2022-02-20T22:03:33.178Z"
   },
   {
    "duration": 7,
    "start_time": "2022-02-20T22:03:33.189Z"
   },
   {
    "duration": 25,
    "start_time": "2022-02-20T22:03:33.198Z"
   },
   {
    "duration": 9,
    "start_time": "2022-02-20T22:03:33.226Z"
   },
   {
    "duration": 6,
    "start_time": "2022-02-20T22:03:33.238Z"
   },
   {
    "duration": 5,
    "start_time": "2022-02-20T22:03:33.246Z"
   },
   {
    "duration": 12,
    "start_time": "2022-02-20T22:03:33.253Z"
   },
   {
    "duration": 53,
    "start_time": "2022-02-20T22:03:33.267Z"
   },
   {
    "duration": 26,
    "start_time": "2022-02-20T22:03:33.322Z"
   },
   {
    "duration": 16,
    "start_time": "2022-02-20T22:03:33.349Z"
   },
   {
    "duration": 11,
    "start_time": "2022-02-20T22:03:33.367Z"
   },
   {
    "duration": 40,
    "start_time": "2022-02-20T22:03:33.379Z"
   },
   {
    "duration": 12,
    "start_time": "2022-02-20T22:03:33.421Z"
   },
   {
    "duration": 11,
    "start_time": "2022-02-20T22:03:33.436Z"
   },
   {
    "duration": 44,
    "start_time": "2022-02-20T22:03:33.449Z"
   },
   {
    "duration": 170,
    "start_time": "2022-02-20T22:03:33.518Z"
   },
   {
    "duration": 131,
    "start_time": "2022-02-20T22:03:33.690Z"
   },
   {
    "duration": 294,
    "start_time": "2022-02-20T22:03:33.823Z"
   },
   {
    "duration": 175,
    "start_time": "2022-02-20T22:03:34.118Z"
   },
   {
    "duration": 56,
    "start_time": "2022-02-20T22:03:34.297Z"
   },
   {
    "duration": 44,
    "start_time": "2022-02-20T22:03:34.356Z"
   },
   {
    "duration": 52,
    "start_time": "2022-02-20T22:03:34.402Z"
   },
   {
    "duration": 10,
    "start_time": "2022-02-20T22:03:34.456Z"
   },
   {
    "duration": 8,
    "start_time": "2022-02-20T22:03:34.468Z"
   },
   {
    "duration": 43,
    "start_time": "2022-02-20T22:03:34.478Z"
   },
   {
    "duration": 7,
    "start_time": "2022-02-20T22:03:34.523Z"
   },
   {
    "duration": 9,
    "start_time": "2022-02-20T22:03:34.532Z"
   },
   {
    "duration": 11,
    "start_time": "2022-02-20T22:03:34.543Z"
   },
   {
    "duration": 17,
    "start_time": "2022-02-20T22:03:34.557Z"
   },
   {
    "duration": 17,
    "start_time": "2022-02-20T22:03:34.576Z"
   },
   {
    "duration": 3,
    "start_time": "2022-02-20T22:03:34.619Z"
   },
   {
    "duration": 8,
    "start_time": "2022-02-20T22:03:34.624Z"
   },
   {
    "duration": 7,
    "start_time": "2022-02-20T22:03:34.633Z"
   },
   {
    "duration": 6,
    "start_time": "2022-02-20T22:03:34.642Z"
   },
   {
    "duration": 3,
    "start_time": "2022-02-20T22:03:34.650Z"
   },
   {
    "duration": 15,
    "start_time": "2022-02-20T22:03:34.655Z"
   },
   {
    "duration": 63,
    "start_time": "2022-02-20T22:03:34.672Z"
   },
   {
    "duration": 9,
    "start_time": "2022-02-20T22:03:34.737Z"
   },
   {
    "duration": 143,
    "start_time": "2022-02-20T22:03:34.748Z"
   },
   {
    "duration": 3,
    "start_time": "2022-02-20T22:03:34.893Z"
   },
   {
    "duration": 21,
    "start_time": "2022-02-20T22:03:34.898Z"
   },
   {
    "duration": 27,
    "start_time": "2022-02-20T22:03:34.921Z"
   },
   {
    "duration": 5,
    "start_time": "2022-02-20T22:03:34.950Z"
   },
   {
    "duration": 9823,
    "start_time": "2022-02-20T22:03:34.957Z"
   },
   {
    "duration": 9,
    "start_time": "2022-02-20T22:03:44.782Z"
   },
   {
    "duration": 6,
    "start_time": "2022-02-20T22:03:44.793Z"
   },
   {
    "duration": 38,
    "start_time": "2022-02-20T22:03:44.800Z"
   },
   {
    "duration": 3,
    "start_time": "2022-02-20T22:03:44.840Z"
   },
   {
    "duration": 3,
    "start_time": "2022-02-20T22:03:44.845Z"
   },
   {
    "duration": 5,
    "start_time": "2022-02-20T22:03:44.850Z"
   },
   {
    "duration": 110,
    "start_time": "2022-02-20T22:03:44.857Z"
   },
   {
    "duration": 9,
    "start_time": "2022-02-20T22:03:44.969Z"
   },
   {
    "duration": 5,
    "start_time": "2022-02-20T22:03:44.980Z"
   },
   {
    "duration": 71,
    "start_time": "2022-02-20T22:03:44.987Z"
   },
   {
    "duration": 28,
    "start_time": "2022-02-20T22:03:45.060Z"
   },
   {
    "duration": 30,
    "start_time": "2022-02-20T22:03:45.089Z"
   },
   {
    "duration": 745,
    "start_time": "2022-02-20T22:03:45.121Z"
   },
   {
    "duration": 8,
    "start_time": "2022-02-20T22:03:45.868Z"
   },
   {
    "duration": 6,
    "start_time": "2022-02-20T22:03:45.877Z"
   },
   {
    "duration": 57,
    "start_time": "2022-02-20T22:03:45.885Z"
   },
   {
    "duration": 522,
    "start_time": "2022-02-20T22:03:45.944Z"
   },
   {
    "duration": 26,
    "start_time": "2022-02-20T22:03:46.468Z"
   },
   {
    "duration": 49,
    "start_time": "2022-02-20T22:03:46.496Z"
   },
   {
    "duration": 6,
    "start_time": "2022-02-20T22:03:46.546Z"
   },
   {
    "duration": 24,
    "start_time": "2022-02-20T22:03:46.557Z"
   },
   {
    "duration": 3,
    "start_time": "2022-02-20T22:03:46.583Z"
   },
   {
    "duration": 33,
    "start_time": "2022-02-20T22:03:46.588Z"
   },
   {
    "duration": 8,
    "start_time": "2022-02-20T22:03:46.623Z"
   },
   {
    "duration": 3,
    "start_time": "2022-02-20T22:03:46.633Z"
   },
   {
    "duration": 4,
    "start_time": "2022-02-20T22:03:46.638Z"
   },
   {
    "duration": 4,
    "start_time": "2022-02-20T22:03:46.643Z"
   },
   {
    "duration": 9,
    "start_time": "2022-02-20T22:03:46.649Z"
   },
   {
    "duration": 10,
    "start_time": "2022-02-20T22:03:46.660Z"
   },
   {
    "duration": 6,
    "start_time": "2022-02-20T22:03:46.672Z"
   },
   {
    "duration": 9,
    "start_time": "2022-02-20T22:03:46.719Z"
   },
   {
    "duration": 11,
    "start_time": "2022-02-20T22:03:46.729Z"
   },
   {
    "duration": 35,
    "start_time": "2022-02-20T22:08:55.620Z"
   },
   {
    "duration": 8,
    "start_time": "2022-02-20T22:08:56.204Z"
   },
   {
    "duration": 2434,
    "start_time": "2022-02-21T05:27:29.301Z"
   },
   {
    "duration": 661,
    "start_time": "2022-02-21T05:27:31.737Z"
   },
   {
    "duration": 13,
    "start_time": "2022-02-21T05:27:32.402Z"
   },
   {
    "duration": 9,
    "start_time": "2022-02-21T05:27:32.417Z"
   },
   {
    "duration": 14,
    "start_time": "2022-02-21T05:27:32.427Z"
   },
   {
    "duration": 19,
    "start_time": "2022-02-21T05:27:32.442Z"
   },
   {
    "duration": 8,
    "start_time": "2022-02-21T05:27:32.463Z"
   },
   {
    "duration": 12,
    "start_time": "2022-02-21T05:27:32.473Z"
   },
   {
    "duration": 8,
    "start_time": "2022-02-21T05:27:32.487Z"
   },
   {
    "duration": 12,
    "start_time": "2022-02-21T05:27:32.496Z"
   },
   {
    "duration": 12,
    "start_time": "2022-02-21T05:27:32.509Z"
   },
   {
    "duration": 54,
    "start_time": "2022-02-21T05:27:32.523Z"
   },
   {
    "duration": 18,
    "start_time": "2022-02-21T05:27:32.579Z"
   },
   {
    "duration": 11,
    "start_time": "2022-02-21T05:27:32.598Z"
   },
   {
    "duration": 13,
    "start_time": "2022-02-21T05:27:32.611Z"
   },
   {
    "duration": 40,
    "start_time": "2022-02-21T05:27:32.625Z"
   },
   {
    "duration": 10,
    "start_time": "2022-02-21T05:27:32.667Z"
   },
   {
    "duration": 45,
    "start_time": "2022-02-21T05:27:32.679Z"
   },
   {
    "duration": 198,
    "start_time": "2022-02-21T05:27:32.726Z"
   },
   {
    "duration": 135,
    "start_time": "2022-02-21T05:27:32.925Z"
   },
   {
    "duration": 303,
    "start_time": "2022-02-21T05:27:33.061Z"
   },
   {
    "duration": 195,
    "start_time": "2022-02-21T05:27:33.368Z"
   },
   {
    "duration": 54,
    "start_time": "2022-02-21T05:27:33.565Z"
   },
   {
    "duration": 61,
    "start_time": "2022-02-21T05:27:33.621Z"
   },
   {
    "duration": 39,
    "start_time": "2022-02-21T05:27:33.684Z"
   },
   {
    "duration": 10,
    "start_time": "2022-02-21T05:27:33.725Z"
   },
   {
    "duration": 26,
    "start_time": "2022-02-21T05:27:33.737Z"
   },
   {
    "duration": 9,
    "start_time": "2022-02-21T05:27:33.765Z"
   },
   {
    "duration": 5,
    "start_time": "2022-02-21T05:27:33.776Z"
   },
   {
    "duration": 7,
    "start_time": "2022-02-21T05:27:33.783Z"
   },
   {
    "duration": 10,
    "start_time": "2022-02-21T05:27:33.792Z"
   },
   {
    "duration": 12,
    "start_time": "2022-02-21T05:27:33.803Z"
   },
   {
    "duration": 43,
    "start_time": "2022-02-21T05:27:33.817Z"
   },
   {
    "duration": 2,
    "start_time": "2022-02-21T05:27:33.862Z"
   },
   {
    "duration": 7,
    "start_time": "2022-02-21T05:27:33.866Z"
   },
   {
    "duration": 10,
    "start_time": "2022-02-21T05:27:33.875Z"
   },
   {
    "duration": 9,
    "start_time": "2022-02-21T05:27:33.886Z"
   },
   {
    "duration": 4,
    "start_time": "2022-02-21T05:27:33.897Z"
   },
   {
    "duration": 19,
    "start_time": "2022-02-21T05:27:33.902Z"
   },
   {
    "duration": 45,
    "start_time": "2022-02-21T05:27:33.923Z"
   },
   {
    "duration": 6,
    "start_time": "2022-02-21T05:27:33.970Z"
   },
   {
    "duration": 144,
    "start_time": "2022-02-21T05:27:33.977Z"
   },
   {
    "duration": 2,
    "start_time": "2022-02-21T05:27:34.123Z"
   },
   {
    "duration": 19,
    "start_time": "2022-02-21T05:27:34.126Z"
   },
   {
    "duration": 32,
    "start_time": "2022-02-21T05:27:34.147Z"
   },
   {
    "duration": 4,
    "start_time": "2022-02-21T05:27:34.180Z"
   },
   {
    "duration": 8419,
    "start_time": "2022-02-21T05:27:34.186Z"
   },
   {
    "duration": 9,
    "start_time": "2022-02-21T05:27:42.607Z"
   },
   {
    "duration": 9,
    "start_time": "2022-02-21T05:27:42.618Z"
   },
   {
    "duration": 31,
    "start_time": "2022-02-21T05:27:42.629Z"
   },
   {
    "duration": 3,
    "start_time": "2022-02-21T05:27:42.661Z"
   },
   {
    "duration": 12,
    "start_time": "2022-02-21T05:27:42.665Z"
   },
   {
    "duration": 12,
    "start_time": "2022-02-21T05:27:42.678Z"
   },
   {
    "duration": 101,
    "start_time": "2022-02-21T05:27:42.692Z"
   },
   {
    "duration": 10,
    "start_time": "2022-02-21T05:27:42.795Z"
   },
   {
    "duration": 7,
    "start_time": "2022-02-21T05:27:42.806Z"
   },
   {
    "duration": 52,
    "start_time": "2022-02-21T05:27:42.814Z"
   },
   {
    "duration": 26,
    "start_time": "2022-02-21T05:27:42.868Z"
   },
   {
    "duration": 14,
    "start_time": "2022-02-21T05:27:42.896Z"
   },
   {
    "duration": 781,
    "start_time": "2022-02-21T05:27:42.912Z"
   },
   {
    "duration": 8,
    "start_time": "2022-02-21T05:27:43.694Z"
   },
   {
    "duration": 9,
    "start_time": "2022-02-21T05:27:43.704Z"
   },
   {
    "duration": 60,
    "start_time": "2022-02-21T05:27:43.715Z"
   },
   {
    "duration": 558,
    "start_time": "2022-02-21T05:27:43.777Z"
   },
   {
    "duration": 39,
    "start_time": "2022-02-21T05:27:44.336Z"
   },
   {
    "duration": 30,
    "start_time": "2022-02-21T05:27:44.377Z"
   },
   {
    "duration": 15,
    "start_time": "2022-02-21T05:27:44.411Z"
   },
   {
    "duration": 37,
    "start_time": "2022-02-21T05:27:44.428Z"
   },
   {
    "duration": 2,
    "start_time": "2022-02-21T05:27:44.467Z"
   },
   {
    "duration": 10,
    "start_time": "2022-02-21T05:27:44.470Z"
   },
   {
    "duration": 19,
    "start_time": "2022-02-21T05:27:44.481Z"
   },
   {
    "duration": 11,
    "start_time": "2022-02-21T05:27:44.502Z"
   },
   {
    "duration": 6,
    "start_time": "2022-02-21T05:27:44.514Z"
   },
   {
    "duration": 9,
    "start_time": "2022-02-21T05:27:44.521Z"
   },
   {
    "duration": 13,
    "start_time": "2022-02-21T05:27:44.531Z"
   },
   {
    "duration": 11,
    "start_time": "2022-02-21T05:27:44.545Z"
   },
   {
    "duration": 10,
    "start_time": "2022-02-21T05:27:44.557Z"
   },
   {
    "duration": 18,
    "start_time": "2022-02-21T05:27:44.569Z"
   },
   {
    "duration": 17,
    "start_time": "2022-02-21T05:27:44.589Z"
   },
   {
    "duration": 11,
    "start_time": "2022-02-21T05:28:14.200Z"
   },
   {
    "duration": 734,
    "start_time": "2022-02-21T05:28:30.220Z"
   },
   {
    "duration": 5,
    "start_time": "2022-02-21T05:28:43.850Z"
   }
  ],
  "kernelspec": {
   "display_name": "Python 3 (ipykernel)",
   "language": "python",
   "name": "python3"
  },
  "language_info": {
   "codemirror_mode": {
    "name": "ipython",
    "version": 3
   },
   "file_extension": ".py",
   "mimetype": "text/x-python",
   "name": "python",
   "nbconvert_exporter": "python",
   "pygments_lexer": "ipython3",
   "version": "3.9.12"
  },
  "toc": {
   "base_numbering": 1,
   "nav_menu": {},
   "number_sections": true,
   "sideBar": true,
   "skip_h1_title": true,
   "title_cell": "Содержание",
   "title_sidebar": "Contents",
   "toc_cell": false,
   "toc_position": {
    "height": "calc(100% - 180px)",
    "left": "10px",
    "top": "150px",
    "width": "286.875px"
   },
   "toc_section_display": true,
   "toc_window_display": true
  }
 },
 "nbformat": 4,
 "nbformat_minor": 2
}

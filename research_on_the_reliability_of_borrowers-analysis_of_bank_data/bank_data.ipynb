{
 "cells": [
  {
   "cell_type": "markdown",
   "metadata": {},
   "source": [
    "## Этап 1. Получение данных"
   ]
  },
  {
   "cell_type": "markdown",
   "metadata": {},
   "source": [
    "### 1.1 Импорт библиотеки pandas и чтение данных"
   ]
  },
  {
   "cell_type": "code",
   "execution_count": 1,
   "metadata": {},
   "outputs": [],
   "source": [
    "import pandas as pd # импорт библиотек pandas "
   ]
  },
  {
   "cell_type": "markdown",
   "metadata": {},
   "source": [
    "Прочитаем файл *data.csv* и сохраним его в переменной *bank_data*."
   ]
  },
  {
   "cell_type": "code",
   "execution_count": 2,
   "metadata": {},
   "outputs": [],
   "source": [
    "bank_data = pd.read_csv('/datasets/data.csv') # чтение файла с указанием пути и с сохранием в переменную bank_data"
   ]
  },
  {
   "cell_type": "markdown",
   "metadata": {},
   "source": [
    "### 1.2 Знакомство с данными"
   ]
  },
  {
   "cell_type": "markdown",
   "metadata": {},
   "source": [
    "Выведем общую информацию о данных таблицы *bank_data*."
   ]
  },
  {
   "cell_type": "code",
   "execution_count": 3,
   "metadata": {},
   "outputs": [
    {
     "name": "stdout",
     "output_type": "stream",
     "text": [
      "<class 'pandas.core.frame.DataFrame'>\n",
      "RangeIndex: 21525 entries, 0 to 21524\n",
      "Data columns (total 12 columns):\n",
      "children            21525 non-null int64\n",
      "days_employed       19351 non-null float64\n",
      "dob_years           21525 non-null int64\n",
      "education           21525 non-null object\n",
      "education_id        21525 non-null int64\n",
      "family_status       21525 non-null object\n",
      "family_status_id    21525 non-null int64\n",
      "gender              21525 non-null object\n",
      "income_type         21525 non-null object\n",
      "debt                21525 non-null int64\n",
      "total_income        19351 non-null float64\n",
      "purpose             21525 non-null object\n",
      "dtypes: float64(2), int64(5), object(5)\n",
      "memory usage: 2.0+ MB\n"
     ]
    }
   ],
   "source": [
    "bank_data.info() # получение общей информации о данных таблицы. "
   ]
  },
  {
   "cell_type": "markdown",
   "metadata": {},
   "source": [
    "Рассмотрим полученную информацию подробнее."
   ]
  },
  {
   "cell_type": "markdown",
   "metadata": {},
   "source": [
    "В таблице 12 столбцов:"
   ]
  },
  {
   "cell_type": "markdown",
   "metadata": {},
   "source": [
    "* children — количество детей в семье\n",
    "* days_employed — общий трудовой стаж в днях\n",
    "* dob_years — возраст клиента в годах\n",
    "* education — уровень образования клиента\n",
    "* education_id — идентификатор уровня образования\n",
    "* family_status — семейное положение\n",
    "* family_status_id — идентификатор семейного положения\n",
    "* gender — пол клиента\n",
    "* income_type — тип занятости\n",
    "* debt — имел ли задолженность по возврату кредитов\n",
    "* total_income — ежемесячный доход\n",
    "* purpose — цель получения кредита"
   ]
  },
  {
   "cell_type": "markdown",
   "metadata": {},
   "source": [
    "Также следует обратить внимание на то, что *days_employed* и *total_income* имеют пустые значения. Тип данных для них указан как float64, нужно будет перевести их в int64,так как нам необхоимы целые числа по этим столбцам."
   ]
  },
  {
   "cell_type": "markdown",
   "metadata": {},
   "source": [
    "Получим первые 15 строк таблицы."
   ]
  },
  {
   "cell_type": "code",
   "execution_count": 4,
   "metadata": {
    "scrolled": true
   },
   "outputs": [
    {
     "data": {
      "text/html": [
       "<div>\n",
       "<style scoped>\n",
       "    .dataframe tbody tr th:only-of-type {\n",
       "        vertical-align: middle;\n",
       "    }\n",
       "\n",
       "    .dataframe tbody tr th {\n",
       "        vertical-align: top;\n",
       "    }\n",
       "\n",
       "    .dataframe thead th {\n",
       "        text-align: right;\n",
       "    }\n",
       "</style>\n",
       "<table border=\"1\" class=\"dataframe\">\n",
       "  <thead>\n",
       "    <tr style=\"text-align: right;\">\n",
       "      <th></th>\n",
       "      <th>children</th>\n",
       "      <th>days_employed</th>\n",
       "      <th>dob_years</th>\n",
       "      <th>education</th>\n",
       "      <th>education_id</th>\n",
       "      <th>family_status</th>\n",
       "      <th>family_status_id</th>\n",
       "      <th>gender</th>\n",
       "      <th>income_type</th>\n",
       "      <th>debt</th>\n",
       "      <th>total_income</th>\n",
       "      <th>purpose</th>\n",
       "    </tr>\n",
       "  </thead>\n",
       "  <tbody>\n",
       "    <tr>\n",
       "      <td>0</td>\n",
       "      <td>1</td>\n",
       "      <td>-8437.673028</td>\n",
       "      <td>42</td>\n",
       "      <td>высшее</td>\n",
       "      <td>0</td>\n",
       "      <td>женат / замужем</td>\n",
       "      <td>0</td>\n",
       "      <td>F</td>\n",
       "      <td>сотрудник</td>\n",
       "      <td>0</td>\n",
       "      <td>253875.639453</td>\n",
       "      <td>покупка жилья</td>\n",
       "    </tr>\n",
       "    <tr>\n",
       "      <td>1</td>\n",
       "      <td>1</td>\n",
       "      <td>-4024.803754</td>\n",
       "      <td>36</td>\n",
       "      <td>среднее</td>\n",
       "      <td>1</td>\n",
       "      <td>женат / замужем</td>\n",
       "      <td>0</td>\n",
       "      <td>F</td>\n",
       "      <td>сотрудник</td>\n",
       "      <td>0</td>\n",
       "      <td>112080.014102</td>\n",
       "      <td>приобретение автомобиля</td>\n",
       "    </tr>\n",
       "    <tr>\n",
       "      <td>2</td>\n",
       "      <td>0</td>\n",
       "      <td>-5623.422610</td>\n",
       "      <td>33</td>\n",
       "      <td>Среднее</td>\n",
       "      <td>1</td>\n",
       "      <td>женат / замужем</td>\n",
       "      <td>0</td>\n",
       "      <td>M</td>\n",
       "      <td>сотрудник</td>\n",
       "      <td>0</td>\n",
       "      <td>145885.952297</td>\n",
       "      <td>покупка жилья</td>\n",
       "    </tr>\n",
       "    <tr>\n",
       "      <td>3</td>\n",
       "      <td>3</td>\n",
       "      <td>-4124.747207</td>\n",
       "      <td>32</td>\n",
       "      <td>среднее</td>\n",
       "      <td>1</td>\n",
       "      <td>женат / замужем</td>\n",
       "      <td>0</td>\n",
       "      <td>M</td>\n",
       "      <td>сотрудник</td>\n",
       "      <td>0</td>\n",
       "      <td>267628.550329</td>\n",
       "      <td>дополнительное образование</td>\n",
       "    </tr>\n",
       "    <tr>\n",
       "      <td>4</td>\n",
       "      <td>0</td>\n",
       "      <td>340266.072047</td>\n",
       "      <td>53</td>\n",
       "      <td>среднее</td>\n",
       "      <td>1</td>\n",
       "      <td>гражданский брак</td>\n",
       "      <td>1</td>\n",
       "      <td>F</td>\n",
       "      <td>пенсионер</td>\n",
       "      <td>0</td>\n",
       "      <td>158616.077870</td>\n",
       "      <td>сыграть свадьбу</td>\n",
       "    </tr>\n",
       "    <tr>\n",
       "      <td>5</td>\n",
       "      <td>0</td>\n",
       "      <td>-926.185831</td>\n",
       "      <td>27</td>\n",
       "      <td>высшее</td>\n",
       "      <td>0</td>\n",
       "      <td>гражданский брак</td>\n",
       "      <td>1</td>\n",
       "      <td>M</td>\n",
       "      <td>компаньон</td>\n",
       "      <td>0</td>\n",
       "      <td>255763.565419</td>\n",
       "      <td>покупка жилья</td>\n",
       "    </tr>\n",
       "    <tr>\n",
       "      <td>6</td>\n",
       "      <td>0</td>\n",
       "      <td>-2879.202052</td>\n",
       "      <td>43</td>\n",
       "      <td>высшее</td>\n",
       "      <td>0</td>\n",
       "      <td>женат / замужем</td>\n",
       "      <td>0</td>\n",
       "      <td>F</td>\n",
       "      <td>компаньон</td>\n",
       "      <td>0</td>\n",
       "      <td>240525.971920</td>\n",
       "      <td>операции с жильем</td>\n",
       "    </tr>\n",
       "    <tr>\n",
       "      <td>7</td>\n",
       "      <td>0</td>\n",
       "      <td>-152.779569</td>\n",
       "      <td>50</td>\n",
       "      <td>СРЕДНЕЕ</td>\n",
       "      <td>1</td>\n",
       "      <td>женат / замужем</td>\n",
       "      <td>0</td>\n",
       "      <td>M</td>\n",
       "      <td>сотрудник</td>\n",
       "      <td>0</td>\n",
       "      <td>135823.934197</td>\n",
       "      <td>образование</td>\n",
       "    </tr>\n",
       "    <tr>\n",
       "      <td>8</td>\n",
       "      <td>2</td>\n",
       "      <td>-6929.865299</td>\n",
       "      <td>35</td>\n",
       "      <td>ВЫСШЕЕ</td>\n",
       "      <td>0</td>\n",
       "      <td>гражданский брак</td>\n",
       "      <td>1</td>\n",
       "      <td>F</td>\n",
       "      <td>сотрудник</td>\n",
       "      <td>0</td>\n",
       "      <td>95856.832424</td>\n",
       "      <td>на проведение свадьбы</td>\n",
       "    </tr>\n",
       "    <tr>\n",
       "      <td>9</td>\n",
       "      <td>0</td>\n",
       "      <td>-2188.756445</td>\n",
       "      <td>41</td>\n",
       "      <td>среднее</td>\n",
       "      <td>1</td>\n",
       "      <td>женат / замужем</td>\n",
       "      <td>0</td>\n",
       "      <td>M</td>\n",
       "      <td>сотрудник</td>\n",
       "      <td>0</td>\n",
       "      <td>144425.938277</td>\n",
       "      <td>покупка жилья для семьи</td>\n",
       "    </tr>\n",
       "    <tr>\n",
       "      <td>10</td>\n",
       "      <td>2</td>\n",
       "      <td>-4171.483647</td>\n",
       "      <td>36</td>\n",
       "      <td>высшее</td>\n",
       "      <td>0</td>\n",
       "      <td>женат / замужем</td>\n",
       "      <td>0</td>\n",
       "      <td>M</td>\n",
       "      <td>компаньон</td>\n",
       "      <td>0</td>\n",
       "      <td>113943.491460</td>\n",
       "      <td>покупка недвижимости</td>\n",
       "    </tr>\n",
       "    <tr>\n",
       "      <td>11</td>\n",
       "      <td>0</td>\n",
       "      <td>-792.701887</td>\n",
       "      <td>40</td>\n",
       "      <td>среднее</td>\n",
       "      <td>1</td>\n",
       "      <td>женат / замужем</td>\n",
       "      <td>0</td>\n",
       "      <td>F</td>\n",
       "      <td>сотрудник</td>\n",
       "      <td>0</td>\n",
       "      <td>77069.234271</td>\n",
       "      <td>покупка коммерческой недвижимости</td>\n",
       "    </tr>\n",
       "    <tr>\n",
       "      <td>12</td>\n",
       "      <td>0</td>\n",
       "      <td>NaN</td>\n",
       "      <td>65</td>\n",
       "      <td>среднее</td>\n",
       "      <td>1</td>\n",
       "      <td>гражданский брак</td>\n",
       "      <td>1</td>\n",
       "      <td>M</td>\n",
       "      <td>пенсионер</td>\n",
       "      <td>0</td>\n",
       "      <td>NaN</td>\n",
       "      <td>сыграть свадьбу</td>\n",
       "    </tr>\n",
       "    <tr>\n",
       "      <td>13</td>\n",
       "      <td>0</td>\n",
       "      <td>-1846.641941</td>\n",
       "      <td>54</td>\n",
       "      <td>неоконченное высшее</td>\n",
       "      <td>2</td>\n",
       "      <td>женат / замужем</td>\n",
       "      <td>0</td>\n",
       "      <td>F</td>\n",
       "      <td>сотрудник</td>\n",
       "      <td>0</td>\n",
       "      <td>130458.228857</td>\n",
       "      <td>приобретение автомобиля</td>\n",
       "    </tr>\n",
       "    <tr>\n",
       "      <td>14</td>\n",
       "      <td>0</td>\n",
       "      <td>-1844.956182</td>\n",
       "      <td>56</td>\n",
       "      <td>высшее</td>\n",
       "      <td>0</td>\n",
       "      <td>гражданский брак</td>\n",
       "      <td>1</td>\n",
       "      <td>F</td>\n",
       "      <td>компаньон</td>\n",
       "      <td>1</td>\n",
       "      <td>165127.911772</td>\n",
       "      <td>покупка жилой недвижимости</td>\n",
       "    </tr>\n",
       "  </tbody>\n",
       "</table>\n",
       "</div>"
      ],
      "text/plain": [
       "    children  days_employed  dob_years            education  education_id  \\\n",
       "0          1   -8437.673028         42               высшее             0   \n",
       "1          1   -4024.803754         36              среднее             1   \n",
       "2          0   -5623.422610         33              Среднее             1   \n",
       "3          3   -4124.747207         32              среднее             1   \n",
       "4          0  340266.072047         53              среднее             1   \n",
       "5          0    -926.185831         27               высшее             0   \n",
       "6          0   -2879.202052         43               высшее             0   \n",
       "7          0    -152.779569         50              СРЕДНЕЕ             1   \n",
       "8          2   -6929.865299         35               ВЫСШЕЕ             0   \n",
       "9          0   -2188.756445         41              среднее             1   \n",
       "10         2   -4171.483647         36               высшее             0   \n",
       "11         0    -792.701887         40              среднее             1   \n",
       "12         0            NaN         65              среднее             1   \n",
       "13         0   -1846.641941         54  неоконченное высшее             2   \n",
       "14         0   -1844.956182         56               высшее             0   \n",
       "\n",
       "       family_status  family_status_id gender income_type  debt  \\\n",
       "0    женат / замужем                 0      F   сотрудник     0   \n",
       "1    женат / замужем                 0      F   сотрудник     0   \n",
       "2    женат / замужем                 0      M   сотрудник     0   \n",
       "3    женат / замужем                 0      M   сотрудник     0   \n",
       "4   гражданский брак                 1      F   пенсионер     0   \n",
       "5   гражданский брак                 1      M   компаньон     0   \n",
       "6    женат / замужем                 0      F   компаньон     0   \n",
       "7    женат / замужем                 0      M   сотрудник     0   \n",
       "8   гражданский брак                 1      F   сотрудник     0   \n",
       "9    женат / замужем                 0      M   сотрудник     0   \n",
       "10   женат / замужем                 0      M   компаньон     0   \n",
       "11   женат / замужем                 0      F   сотрудник     0   \n",
       "12  гражданский брак                 1      M   пенсионер     0   \n",
       "13   женат / замужем                 0      F   сотрудник     0   \n",
       "14  гражданский брак                 1      F   компаньон     1   \n",
       "\n",
       "     total_income                            purpose  \n",
       "0   253875.639453                      покупка жилья  \n",
       "1   112080.014102            приобретение автомобиля  \n",
       "2   145885.952297                      покупка жилья  \n",
       "3   267628.550329         дополнительное образование  \n",
       "4   158616.077870                    сыграть свадьбу  \n",
       "5   255763.565419                      покупка жилья  \n",
       "6   240525.971920                  операции с жильем  \n",
       "7   135823.934197                        образование  \n",
       "8    95856.832424              на проведение свадьбы  \n",
       "9   144425.938277            покупка жилья для семьи  \n",
       "10  113943.491460               покупка недвижимости  \n",
       "11   77069.234271  покупка коммерческой недвижимости  \n",
       "12            NaN                    сыграть свадьбу  \n",
       "13  130458.228857            приобретение автомобиля  \n",
       "14  165127.911772         покупка жилой недвижимости  "
      ]
     },
     "execution_count": 4,
     "metadata": {},
     "output_type": "execute_result"
    }
   ],
   "source": [
    "bank_data.head(15) # получение первых 15 строк таблицы *bank_data*"
   ]
  },
  {
   "cell_type": "markdown",
   "metadata": {},
   "source": [
    "Как видим значения столбца *days_employed* имеют отрицательные значения, а также имеются аномальные значения, выраженные столетиями,что вызвано скорее всего импортом из разных систем. В дальнейшем необходимо будет привести их в рабочий вид, значения возьмем по модулю. Столбец *education* имеет дубликаты, но с разным регистром, в дальнейшнем приведем регистр к общему виду. Столбец *purpose* включает аналогичные цели взятия кредита, но выраженные разными конструкциями, для них проведем лемматизацию."
   ]
  },
  {
   "cell_type": "markdown",
   "metadata": {},
   "source": [
    "Рассмотрим более подробную информацию по таблице."
   ]
  },
  {
   "cell_type": "code",
   "execution_count": 5,
   "metadata": {},
   "outputs": [
    {
     "data": {
      "text/html": [
       "<div>\n",
       "<style scoped>\n",
       "    .dataframe tbody tr th:only-of-type {\n",
       "        vertical-align: middle;\n",
       "    }\n",
       "\n",
       "    .dataframe tbody tr th {\n",
       "        vertical-align: top;\n",
       "    }\n",
       "\n",
       "    .dataframe thead th {\n",
       "        text-align: right;\n",
       "    }\n",
       "</style>\n",
       "<table border=\"1\" class=\"dataframe\">\n",
       "  <thead>\n",
       "    <tr style=\"text-align: right;\">\n",
       "      <th></th>\n",
       "      <th>children</th>\n",
       "      <th>days_employed</th>\n",
       "      <th>dob_years</th>\n",
       "      <th>education_id</th>\n",
       "      <th>family_status_id</th>\n",
       "      <th>debt</th>\n",
       "      <th>total_income</th>\n",
       "    </tr>\n",
       "  </thead>\n",
       "  <tbody>\n",
       "    <tr>\n",
       "      <td>count</td>\n",
       "      <td>21525.000000</td>\n",
       "      <td>19351.000000</td>\n",
       "      <td>21525.000000</td>\n",
       "      <td>21525.000000</td>\n",
       "      <td>21525.000000</td>\n",
       "      <td>21525.000000</td>\n",
       "      <td>1.935100e+04</td>\n",
       "    </tr>\n",
       "    <tr>\n",
       "      <td>mean</td>\n",
       "      <td>0.538908</td>\n",
       "      <td>63046.497661</td>\n",
       "      <td>43.293380</td>\n",
       "      <td>0.817236</td>\n",
       "      <td>0.972544</td>\n",
       "      <td>0.080883</td>\n",
       "      <td>1.674223e+05</td>\n",
       "    </tr>\n",
       "    <tr>\n",
       "      <td>std</td>\n",
       "      <td>1.381587</td>\n",
       "      <td>140827.311974</td>\n",
       "      <td>12.574584</td>\n",
       "      <td>0.548138</td>\n",
       "      <td>1.420324</td>\n",
       "      <td>0.272661</td>\n",
       "      <td>1.029716e+05</td>\n",
       "    </tr>\n",
       "    <tr>\n",
       "      <td>min</td>\n",
       "      <td>-1.000000</td>\n",
       "      <td>-18388.949901</td>\n",
       "      <td>0.000000</td>\n",
       "      <td>0.000000</td>\n",
       "      <td>0.000000</td>\n",
       "      <td>0.000000</td>\n",
       "      <td>2.066726e+04</td>\n",
       "    </tr>\n",
       "    <tr>\n",
       "      <td>25%</td>\n",
       "      <td>0.000000</td>\n",
       "      <td>-2747.423625</td>\n",
       "      <td>33.000000</td>\n",
       "      <td>1.000000</td>\n",
       "      <td>0.000000</td>\n",
       "      <td>0.000000</td>\n",
       "      <td>1.030532e+05</td>\n",
       "    </tr>\n",
       "    <tr>\n",
       "      <td>50%</td>\n",
       "      <td>0.000000</td>\n",
       "      <td>-1203.369529</td>\n",
       "      <td>42.000000</td>\n",
       "      <td>1.000000</td>\n",
       "      <td>0.000000</td>\n",
       "      <td>0.000000</td>\n",
       "      <td>1.450179e+05</td>\n",
       "    </tr>\n",
       "    <tr>\n",
       "      <td>75%</td>\n",
       "      <td>1.000000</td>\n",
       "      <td>-291.095954</td>\n",
       "      <td>53.000000</td>\n",
       "      <td>1.000000</td>\n",
       "      <td>1.000000</td>\n",
       "      <td>0.000000</td>\n",
       "      <td>2.034351e+05</td>\n",
       "    </tr>\n",
       "    <tr>\n",
       "      <td>max</td>\n",
       "      <td>20.000000</td>\n",
       "      <td>401755.400475</td>\n",
       "      <td>75.000000</td>\n",
       "      <td>4.000000</td>\n",
       "      <td>4.000000</td>\n",
       "      <td>1.000000</td>\n",
       "      <td>2.265604e+06</td>\n",
       "    </tr>\n",
       "  </tbody>\n",
       "</table>\n",
       "</div>"
      ],
      "text/plain": [
       "           children  days_employed     dob_years  education_id  \\\n",
       "count  21525.000000   19351.000000  21525.000000  21525.000000   \n",
       "mean       0.538908   63046.497661     43.293380      0.817236   \n",
       "std        1.381587  140827.311974     12.574584      0.548138   \n",
       "min       -1.000000  -18388.949901      0.000000      0.000000   \n",
       "25%        0.000000   -2747.423625     33.000000      1.000000   \n",
       "50%        0.000000   -1203.369529     42.000000      1.000000   \n",
       "75%        1.000000    -291.095954     53.000000      1.000000   \n",
       "max       20.000000  401755.400475     75.000000      4.000000   \n",
       "\n",
       "       family_status_id          debt  total_income  \n",
       "count      21525.000000  21525.000000  1.935100e+04  \n",
       "mean           0.972544      0.080883  1.674223e+05  \n",
       "std            1.420324      0.272661  1.029716e+05  \n",
       "min            0.000000      0.000000  2.066726e+04  \n",
       "25%            0.000000      0.000000  1.030532e+05  \n",
       "50%            0.000000      0.000000  1.450179e+05  \n",
       "75%            1.000000      0.000000  2.034351e+05  \n",
       "max            4.000000      1.000000  2.265604e+06  "
      ]
     },
     "execution_count": 5,
     "metadata": {},
     "output_type": "execute_result"
    }
   ],
   "source": [
    "bank_data.describe() # Вызов подробной информации по таблице"
   ]
  },
  {
   "cell_type": "markdown",
   "metadata": {},
   "source": [
    "Здесь мы можем увидеть, что количество детей в столбце *children* имеет отрицательное значение -1, очевидно это ошибка и мы заменим это на 1. Также следует обратить внимание на максимальное количество детей, их здесь 20. Это конечно возможно, но вероятность этого низка, в дальнейшем, если таких значений будет несколько, то заменим это на 2, так как есть вероятность, что это человеческая ошибка и при нажатии на цифровой клавиатуре на клавишу 2, рука менеджера случайно нажимает и цифру 0. Помимо этого хочется обратить внимание на столбец *dob_years*, где у нас указан возраст заемщика, минимальное значение по нему 0. Это может являться как технологической ошибкой, так и человеческой. В дальнейшем восполним эти данные по медианным значениям типа занятости."
   ]
  },
  {
   "cell_type": "markdown",
   "metadata": {},
   "source": [
    "**Вывод**"
   ]
  },
  {
   "cell_type": "markdown",
   "metadata": {},
   "source": [
    "Каждая строка таблицы имеет информацию о зявке на выдачу кредита. Всего их 21525, но не без пропущенных значений. В дальнейшем мы заполним пропуски в общем трудовом стаже и в ежемесячных доходах, разберемся с отрицательными значениями, приведем в порядок данные по количеству детей , рассчитаем медианные значения возраста по типу занятости для пропущенных значений в возрасте клиента, избавимся от дубликатов и проведем лемматизацию. "
   ]
  },
  {
   "cell_type": "markdown",
   "metadata": {},
   "source": [
    "##  Этап 2. Предобработка данных"
   ]
  },
  {
   "cell_type": "markdown",
   "metadata": {},
   "source": [
    "### 2.1 Обработка пропусков"
   ]
  },
  {
   "cell_type": "markdown",
   "metadata": {},
   "source": [
    "Проверим данные на наличие пропусков вызовом набора методов для суммирования пропущенных значений."
   ]
  },
  {
   "cell_type": "code",
   "execution_count": 6,
   "metadata": {
    "scrolled": true
   },
   "outputs": [
    {
     "data": {
      "text/plain": [
       "children               0\n",
       "days_employed       2174\n",
       "dob_years              0\n",
       "education              0\n",
       "education_id           0\n",
       "family_status          0\n",
       "family_status_id       0\n",
       "gender                 0\n",
       "income_type            0\n",
       "debt                   0\n",
       "total_income        2174\n",
       "purpose                0\n",
       "dtype: int64"
      ]
     },
     "execution_count": 6,
     "metadata": {},
     "output_type": "execute_result"
    }
   ],
   "source": [
    "bank_data.isnull().sum() # Сумма пропусков"
   ]
  },
  {
   "cell_type": "markdown",
   "metadata": {},
   "source": [
    "Общий трудовой стаж в днях и ежемесячный доход имеют по 2174 пропуска. Есть вероятность , что эти пропуски в одних и тех же строках, проверим это:"
   ]
  },
  {
   "cell_type": "code",
   "execution_count": 7,
   "metadata": {},
   "outputs": [
    {
     "data": {
      "text/html": [
       "<div>\n",
       "<style scoped>\n",
       "    .dataframe tbody tr th:only-of-type {\n",
       "        vertical-align: middle;\n",
       "    }\n",
       "\n",
       "    .dataframe tbody tr th {\n",
       "        vertical-align: top;\n",
       "    }\n",
       "\n",
       "    .dataframe thead th {\n",
       "        text-align: right;\n",
       "    }\n",
       "</style>\n",
       "<table border=\"1\" class=\"dataframe\">\n",
       "  <thead>\n",
       "    <tr style=\"text-align: right;\">\n",
       "      <th></th>\n",
       "      <th>children</th>\n",
       "      <th>days_employed</th>\n",
       "      <th>dob_years</th>\n",
       "      <th>education</th>\n",
       "      <th>education_id</th>\n",
       "      <th>family_status</th>\n",
       "      <th>family_status_id</th>\n",
       "      <th>gender</th>\n",
       "      <th>income_type</th>\n",
       "      <th>debt</th>\n",
       "      <th>total_income</th>\n",
       "      <th>purpose</th>\n",
       "    </tr>\n",
       "  </thead>\n",
       "  <tbody>\n",
       "    <tr>\n",
       "      <td>12</td>\n",
       "      <td>0</td>\n",
       "      <td>NaN</td>\n",
       "      <td>65</td>\n",
       "      <td>среднее</td>\n",
       "      <td>1</td>\n",
       "      <td>гражданский брак</td>\n",
       "      <td>1</td>\n",
       "      <td>M</td>\n",
       "      <td>пенсионер</td>\n",
       "      <td>0</td>\n",
       "      <td>NaN</td>\n",
       "      <td>сыграть свадьбу</td>\n",
       "    </tr>\n",
       "    <tr>\n",
       "      <td>26</td>\n",
       "      <td>0</td>\n",
       "      <td>NaN</td>\n",
       "      <td>41</td>\n",
       "      <td>среднее</td>\n",
       "      <td>1</td>\n",
       "      <td>женат / замужем</td>\n",
       "      <td>0</td>\n",
       "      <td>M</td>\n",
       "      <td>госслужащий</td>\n",
       "      <td>0</td>\n",
       "      <td>NaN</td>\n",
       "      <td>образование</td>\n",
       "    </tr>\n",
       "    <tr>\n",
       "      <td>29</td>\n",
       "      <td>0</td>\n",
       "      <td>NaN</td>\n",
       "      <td>63</td>\n",
       "      <td>среднее</td>\n",
       "      <td>1</td>\n",
       "      <td>Не женат / не замужем</td>\n",
       "      <td>4</td>\n",
       "      <td>F</td>\n",
       "      <td>пенсионер</td>\n",
       "      <td>0</td>\n",
       "      <td>NaN</td>\n",
       "      <td>строительство жилой недвижимости</td>\n",
       "    </tr>\n",
       "    <tr>\n",
       "      <td>41</td>\n",
       "      <td>0</td>\n",
       "      <td>NaN</td>\n",
       "      <td>50</td>\n",
       "      <td>среднее</td>\n",
       "      <td>1</td>\n",
       "      <td>женат / замужем</td>\n",
       "      <td>0</td>\n",
       "      <td>F</td>\n",
       "      <td>госслужащий</td>\n",
       "      <td>0</td>\n",
       "      <td>NaN</td>\n",
       "      <td>сделка с подержанным автомобилем</td>\n",
       "    </tr>\n",
       "    <tr>\n",
       "      <td>55</td>\n",
       "      <td>0</td>\n",
       "      <td>NaN</td>\n",
       "      <td>54</td>\n",
       "      <td>среднее</td>\n",
       "      <td>1</td>\n",
       "      <td>гражданский брак</td>\n",
       "      <td>1</td>\n",
       "      <td>F</td>\n",
       "      <td>пенсионер</td>\n",
       "      <td>1</td>\n",
       "      <td>NaN</td>\n",
       "      <td>сыграть свадьбу</td>\n",
       "    </tr>\n",
       "    <tr>\n",
       "      <td>...</td>\n",
       "      <td>...</td>\n",
       "      <td>...</td>\n",
       "      <td>...</td>\n",
       "      <td>...</td>\n",
       "      <td>...</td>\n",
       "      <td>...</td>\n",
       "      <td>...</td>\n",
       "      <td>...</td>\n",
       "      <td>...</td>\n",
       "      <td>...</td>\n",
       "      <td>...</td>\n",
       "      <td>...</td>\n",
       "    </tr>\n",
       "    <tr>\n",
       "      <td>21489</td>\n",
       "      <td>2</td>\n",
       "      <td>NaN</td>\n",
       "      <td>47</td>\n",
       "      <td>Среднее</td>\n",
       "      <td>1</td>\n",
       "      <td>женат / замужем</td>\n",
       "      <td>0</td>\n",
       "      <td>M</td>\n",
       "      <td>компаньон</td>\n",
       "      <td>0</td>\n",
       "      <td>NaN</td>\n",
       "      <td>сделка с автомобилем</td>\n",
       "    </tr>\n",
       "    <tr>\n",
       "      <td>21495</td>\n",
       "      <td>1</td>\n",
       "      <td>NaN</td>\n",
       "      <td>50</td>\n",
       "      <td>среднее</td>\n",
       "      <td>1</td>\n",
       "      <td>гражданский брак</td>\n",
       "      <td>1</td>\n",
       "      <td>F</td>\n",
       "      <td>сотрудник</td>\n",
       "      <td>0</td>\n",
       "      <td>NaN</td>\n",
       "      <td>свадьба</td>\n",
       "    </tr>\n",
       "    <tr>\n",
       "      <td>21497</td>\n",
       "      <td>0</td>\n",
       "      <td>NaN</td>\n",
       "      <td>48</td>\n",
       "      <td>ВЫСШЕЕ</td>\n",
       "      <td>0</td>\n",
       "      <td>женат / замужем</td>\n",
       "      <td>0</td>\n",
       "      <td>F</td>\n",
       "      <td>компаньон</td>\n",
       "      <td>0</td>\n",
       "      <td>NaN</td>\n",
       "      <td>строительство недвижимости</td>\n",
       "    </tr>\n",
       "    <tr>\n",
       "      <td>21502</td>\n",
       "      <td>1</td>\n",
       "      <td>NaN</td>\n",
       "      <td>42</td>\n",
       "      <td>среднее</td>\n",
       "      <td>1</td>\n",
       "      <td>женат / замужем</td>\n",
       "      <td>0</td>\n",
       "      <td>F</td>\n",
       "      <td>сотрудник</td>\n",
       "      <td>0</td>\n",
       "      <td>NaN</td>\n",
       "      <td>строительство жилой недвижимости</td>\n",
       "    </tr>\n",
       "    <tr>\n",
       "      <td>21510</td>\n",
       "      <td>2</td>\n",
       "      <td>NaN</td>\n",
       "      <td>28</td>\n",
       "      <td>среднее</td>\n",
       "      <td>1</td>\n",
       "      <td>женат / замужем</td>\n",
       "      <td>0</td>\n",
       "      <td>F</td>\n",
       "      <td>сотрудник</td>\n",
       "      <td>0</td>\n",
       "      <td>NaN</td>\n",
       "      <td>приобретение автомобиля</td>\n",
       "    </tr>\n",
       "  </tbody>\n",
       "</table>\n",
       "<p>2174 rows × 12 columns</p>\n",
       "</div>"
      ],
      "text/plain": [
       "       children  days_employed  dob_years education  education_id  \\\n",
       "12            0            NaN         65   среднее             1   \n",
       "26            0            NaN         41   среднее             1   \n",
       "29            0            NaN         63   среднее             1   \n",
       "41            0            NaN         50   среднее             1   \n",
       "55            0            NaN         54   среднее             1   \n",
       "...         ...            ...        ...       ...           ...   \n",
       "21489         2            NaN         47   Среднее             1   \n",
       "21495         1            NaN         50   среднее             1   \n",
       "21497         0            NaN         48    ВЫСШЕЕ             0   \n",
       "21502         1            NaN         42   среднее             1   \n",
       "21510         2            NaN         28   среднее             1   \n",
       "\n",
       "               family_status  family_status_id gender  income_type  debt  \\\n",
       "12          гражданский брак                 1      M    пенсионер     0   \n",
       "26           женат / замужем                 0      M  госслужащий     0   \n",
       "29     Не женат / не замужем                 4      F    пенсионер     0   \n",
       "41           женат / замужем                 0      F  госслужащий     0   \n",
       "55          гражданский брак                 1      F    пенсионер     1   \n",
       "...                      ...               ...    ...          ...   ...   \n",
       "21489        женат / замужем                 0      M    компаньон     0   \n",
       "21495       гражданский брак                 1      F    сотрудник     0   \n",
       "21497        женат / замужем                 0      F    компаньон     0   \n",
       "21502        женат / замужем                 0      F    сотрудник     0   \n",
       "21510        женат / замужем                 0      F    сотрудник     0   \n",
       "\n",
       "       total_income                           purpose  \n",
       "12              NaN                   сыграть свадьбу  \n",
       "26              NaN                       образование  \n",
       "29              NaN  строительство жилой недвижимости  \n",
       "41              NaN  сделка с подержанным автомобилем  \n",
       "55              NaN                   сыграть свадьбу  \n",
       "...             ...                               ...  \n",
       "21489           NaN              сделка с автомобилем  \n",
       "21495           NaN                           свадьба  \n",
       "21497           NaN        строительство недвижимости  \n",
       "21502           NaN  строительство жилой недвижимости  \n",
       "21510           NaN           приобретение автомобиля  \n",
       "\n",
       "[2174 rows x 12 columns]"
      ]
     },
     "execution_count": 7,
     "metadata": {},
     "output_type": "execute_result"
    }
   ],
   "source": [
    "bank_data[(bank_data['days_employed'].isnull() == True) & (bank_data['total_income'].isnull())==True] # проверка того, что пропущенные значения в общих для *days_employed* и *total_income* 2174 строках"
   ]
  },
  {
   "cell_type": "markdown",
   "metadata": {},
   "source": [
    "Пропущенные строки общие для *days_employed* и *total_income*, суммарное количество таких строк - 2174.  Скорее всего пропущенные значения указаны нарочно менеджером, так как вероятно эти заявки от людей, которые работают неофициально, соответственно у них не копится трудовой стаж и не предоставлена справка, подтверждающая официальные доходы. "
   ]
  },
  {
   "cell_type": "markdown",
   "metadata": {},
   "source": [
    "Заполним пустые значения в общем трудовом стаже днях медианой по типам занятости."
   ]
  },
  {
   "cell_type": "code",
   "execution_count": 8,
   "metadata": {},
   "outputs": [],
   "source": [
    "bank_data['days_employed']= bank_data['days_employed'].fillna(bank_data.groupby('income_type')['days_employed'].transform('median')) # заменяем пустые значения медианой в *days_employed* по *income_type*"
   ]
  },
  {
   "cell_type": "markdown",
   "metadata": {},
   "source": [
    "Заполним пустые значения ежемесячного дохода медианой по типам занятости."
   ]
  },
  {
   "cell_type": "code",
   "execution_count": 9,
   "metadata": {},
   "outputs": [],
   "source": [
    "bank_data['total_income']= bank_data['total_income'].fillna(bank_data.groupby('income_type')['total_income'].transform('median')) # заменяем пустые значения медианой в *total_income* по *income_type*"
   ]
  },
  {
   "cell_type": "markdown",
   "metadata": {},
   "source": [
    "Выведем общую информацию по таблице, чтобы проверить заполнили ли все пропуски."
   ]
  },
  {
   "cell_type": "code",
   "execution_count": 10,
   "metadata": {},
   "outputs": [
    {
     "name": "stdout",
     "output_type": "stream",
     "text": [
      "<class 'pandas.core.frame.DataFrame'>\n",
      "RangeIndex: 21525 entries, 0 to 21524\n",
      "Data columns (total 12 columns):\n",
      "children            21525 non-null int64\n",
      "days_employed       21525 non-null float64\n",
      "dob_years           21525 non-null int64\n",
      "education           21525 non-null object\n",
      "education_id        21525 non-null int64\n",
      "family_status       21525 non-null object\n",
      "family_status_id    21525 non-null int64\n",
      "gender              21525 non-null object\n",
      "income_type         21525 non-null object\n",
      "debt                21525 non-null int64\n",
      "total_income        21525 non-null float64\n",
      "purpose             21525 non-null object\n",
      "dtypes: float64(2), int64(5), object(5)\n",
      "memory usage: 2.0+ MB\n"
     ]
    }
   ],
   "source": [
    "bank_data.info() # получение общей информации о таблице bank_data"
   ]
  },
  {
   "cell_type": "markdown",
   "metadata": {},
   "source": [
    "**Вывод**"
   ]
  },
  {
   "cell_type": "markdown",
   "metadata": {},
   "source": [
    "Успешно удалили пропущенные значения в *days_employed* и *total_income*. Теперь наша таблица имеет 21525 заполненных строк. "
   ]
  },
  {
   "cell_type": "markdown",
   "metadata": {},
   "source": [
    "### 2.2 Обработка аномальных значений"
   ]
  },
  {
   "cell_type": "markdown",
   "metadata": {},
   "source": [
    "#### 2.2.1 Обработка значений в столбце количество детей в семье"
   ]
  },
  {
   "cell_type": "markdown",
   "metadata": {},
   "source": [
    "Проверим количество детей в *bank_data*, где значение указаны -1 и 20."
   ]
  },
  {
   "cell_type": "code",
   "execution_count": 11,
   "metadata": {
    "scrolled": true
   },
   "outputs": [
    {
     "data": {
      "text/plain": [
       " 0     14149\n",
       " 1      4818\n",
       " 2      2055\n",
       " 3       330\n",
       " 20       76\n",
       "-1        47\n",
       " 4        41\n",
       " 5         9\n",
       "Name: children, dtype: int64"
      ]
     },
     "execution_count": 11,
     "metadata": {},
     "output_type": "execute_result"
    }
   ],
   "source": [
    "bank_data['children'].value_counts() # получим уникальные значения по *children*"
   ]
  },
  {
   "cell_type": "markdown",
   "metadata": {},
   "source": [
    "Обратим внимание, что количество детей со значением -1 имеется в 47 заявках. Количество детей со значением 20 имеется в 76 заявках, что дает нам право полагать, что это ошибочные значения в результате человечского фактора - случайное нажатие клавиши 0 на цифровой клавиатуре. "
   ]
  },
  {
   "cell_type": "markdown",
   "metadata": {},
   "source": [
    "Заменим количество детей, где значение равно -1 на 1."
   ]
  },
  {
   "cell_type": "code",
   "execution_count": 12,
   "metadata": {},
   "outputs": [],
   "source": [
    "bank_data['children'] = bank_data['children'].replace(-1, 1) # замена значений в *children*"
   ]
  },
  {
   "cell_type": "markdown",
   "metadata": {},
   "source": [
    "Заменим количество детей, где значение равно 20 на 2."
   ]
  },
  {
   "cell_type": "code",
   "execution_count": 13,
   "metadata": {},
   "outputs": [],
   "source": [
    "bank_data['children'] = bank_data['children'].replace(20, 2) # замена значений в *children*"
   ]
  },
  {
   "cell_type": "markdown",
   "metadata": {},
   "source": [
    "Проверим внесенные изменения. "
   ]
  },
  {
   "cell_type": "code",
   "execution_count": 14,
   "metadata": {
    "scrolled": true
   },
   "outputs": [
    {
     "data": {
      "text/plain": [
       "0    14149\n",
       "1     4865\n",
       "2     2131\n",
       "3      330\n",
       "4       41\n",
       "5        9\n",
       "Name: children, dtype: int64"
      ]
     },
     "execution_count": 14,
     "metadata": {},
     "output_type": "execute_result"
    }
   ],
   "source": [
    "bank_data['children'].value_counts() # получим уникальные значения по *children* , чтоб убедиться, что ненужные значения отсутствуют"
   ]
  },
  {
   "cell_type": "markdown",
   "metadata": {},
   "source": [
    "Успешно заменили значения в столбце дети на правильные, теперь в них нет значений -1 и 20. "
   ]
  },
  {
   "cell_type": "markdown",
   "metadata": {},
   "source": [
    "#### 2.2.2 Обработка значений в столбце общий трудовой стаж"
   ]
  },
  {
   "cell_type": "markdown",
   "metadata": {},
   "source": [
    "Теперь заменим значения отрицательных чисел в столбце общий трудовой стаж."
   ]
  },
  {
   "cell_type": "code",
   "execution_count": 15,
   "metadata": {},
   "outputs": [],
   "source": [
    "bank_data['days_employed'] = bank_data['days_employed'].abs() # замена отрицательных значений на значения по модулю"
   ]
  },
  {
   "cell_type": "markdown",
   "metadata": {},
   "source": [
    "Проверим остались ли отрицательные значения ."
   ]
  },
  {
   "cell_type": "code",
   "execution_count": 16,
   "metadata": {
    "scrolled": false
   },
   "outputs": [
    {
     "data": {
      "text/html": [
       "<div>\n",
       "<style scoped>\n",
       "    .dataframe tbody tr th:only-of-type {\n",
       "        vertical-align: middle;\n",
       "    }\n",
       "\n",
       "    .dataframe tbody tr th {\n",
       "        vertical-align: top;\n",
       "    }\n",
       "\n",
       "    .dataframe thead th {\n",
       "        text-align: right;\n",
       "    }\n",
       "</style>\n",
       "<table border=\"1\" class=\"dataframe\">\n",
       "  <thead>\n",
       "    <tr style=\"text-align: right;\">\n",
       "      <th></th>\n",
       "      <th>count</th>\n",
       "      <th>mean</th>\n",
       "      <th>std</th>\n",
       "      <th>min</th>\n",
       "      <th>25%</th>\n",
       "      <th>50%</th>\n",
       "      <th>75%</th>\n",
       "      <th>max</th>\n",
       "    </tr>\n",
       "    <tr>\n",
       "      <th>income_type</th>\n",
       "      <th></th>\n",
       "      <th></th>\n",
       "      <th></th>\n",
       "      <th></th>\n",
       "      <th></th>\n",
       "      <th></th>\n",
       "      <th></th>\n",
       "      <th></th>\n",
       "    </tr>\n",
       "  </thead>\n",
       "  <tbody>\n",
       "    <tr>\n",
       "      <td>безработный</td>\n",
       "      <td>2.0</td>\n",
       "      <td>366413.652744</td>\n",
       "      <td>40855.478519</td>\n",
       "      <td>337524.466835</td>\n",
       "      <td>351969.059790</td>\n",
       "      <td>366413.652744</td>\n",
       "      <td>380858.245699</td>\n",
       "      <td>395302.838654</td>\n",
       "    </tr>\n",
       "    <tr>\n",
       "      <td>в декрете</td>\n",
       "      <td>1.0</td>\n",
       "      <td>3296.759962</td>\n",
       "      <td>NaN</td>\n",
       "      <td>3296.759962</td>\n",
       "      <td>3296.759962</td>\n",
       "      <td>3296.759962</td>\n",
       "      <td>3296.759962</td>\n",
       "      <td>3296.759962</td>\n",
       "    </tr>\n",
       "    <tr>\n",
       "      <td>госслужащий</td>\n",
       "      <td>1459.0</td>\n",
       "      <td>3328.308350</td>\n",
       "      <td>2652.713016</td>\n",
       "      <td>39.954170</td>\n",
       "      <td>1376.607336</td>\n",
       "      <td>2689.368353</td>\n",
       "      <td>4454.221934</td>\n",
       "      <td>15193.032201</td>\n",
       "    </tr>\n",
       "    <tr>\n",
       "      <td>компаньон</td>\n",
       "      <td>5085.0</td>\n",
       "      <td>2055.165652</td>\n",
       "      <td>1950.764283</td>\n",
       "      <td>30.195337</td>\n",
       "      <td>764.432082</td>\n",
       "      <td>1547.382223</td>\n",
       "      <td>2672.323106</td>\n",
       "      <td>17615.563266</td>\n",
       "    </tr>\n",
       "    <tr>\n",
       "      <td>пенсионер</td>\n",
       "      <td>3856.0</td>\n",
       "      <td>365025.963652</td>\n",
       "      <td>19909.115430</td>\n",
       "      <td>328728.720605</td>\n",
       "      <td>348802.360364</td>\n",
       "      <td>365213.306266</td>\n",
       "      <td>380751.301140</td>\n",
       "      <td>401755.400475</td>\n",
       "    </tr>\n",
       "    <tr>\n",
       "      <td>предприниматель</td>\n",
       "      <td>2.0</td>\n",
       "      <td>520.848083</td>\n",
       "      <td>0.000000</td>\n",
       "      <td>520.848083</td>\n",
       "      <td>520.848083</td>\n",
       "      <td>520.848083</td>\n",
       "      <td>520.848083</td>\n",
       "      <td>520.848083</td>\n",
       "    </tr>\n",
       "    <tr>\n",
       "      <td>сотрудник</td>\n",
       "      <td>11119.0</td>\n",
       "      <td>2251.736421</td>\n",
       "      <td>2201.767262</td>\n",
       "      <td>24.141633</td>\n",
       "      <td>829.628950</td>\n",
       "      <td>1574.202821</td>\n",
       "      <td>2895.108262</td>\n",
       "      <td>18388.949901</td>\n",
       "    </tr>\n",
       "    <tr>\n",
       "      <td>студент</td>\n",
       "      <td>1.0</td>\n",
       "      <td>578.751554</td>\n",
       "      <td>NaN</td>\n",
       "      <td>578.751554</td>\n",
       "      <td>578.751554</td>\n",
       "      <td>578.751554</td>\n",
       "      <td>578.751554</td>\n",
       "      <td>578.751554</td>\n",
       "    </tr>\n",
       "  </tbody>\n",
       "</table>\n",
       "</div>"
      ],
      "text/plain": [
       "                   count           mean           std            min  \\\n",
       "income_type                                                            \n",
       "безработный          2.0  366413.652744  40855.478519  337524.466835   \n",
       "в декрете            1.0    3296.759962           NaN    3296.759962   \n",
       "госслужащий       1459.0    3328.308350   2652.713016      39.954170   \n",
       "компаньон         5085.0    2055.165652   1950.764283      30.195337   \n",
       "пенсионер         3856.0  365025.963652  19909.115430  328728.720605   \n",
       "предприниматель      2.0     520.848083      0.000000     520.848083   \n",
       "сотрудник        11119.0    2251.736421   2201.767262      24.141633   \n",
       "студент              1.0     578.751554           NaN     578.751554   \n",
       "\n",
       "                           25%            50%            75%            max  \n",
       "income_type                                                                  \n",
       "безработный      351969.059790  366413.652744  380858.245699  395302.838654  \n",
       "в декрете          3296.759962    3296.759962    3296.759962    3296.759962  \n",
       "госслужащий        1376.607336    2689.368353    4454.221934   15193.032201  \n",
       "компаньон           764.432082    1547.382223    2672.323106   17615.563266  \n",
       "пенсионер        348802.360364  365213.306266  380751.301140  401755.400475  \n",
       "предприниматель     520.848083     520.848083     520.848083     520.848083  \n",
       "сотрудник           829.628950    1574.202821    2895.108262   18388.949901  \n",
       "студент             578.751554     578.751554     578.751554     578.751554  "
      ]
     },
     "execution_count": 16,
     "metadata": {},
     "output_type": "execute_result"
    }
   ],
   "source": [
    "bank_data.groupby('income_type')['days_employed'].describe() # вывод статистических показателей для столбца *income_type* по *days_employed*"
   ]
  },
  {
   "cell_type": "markdown",
   "metadata": {},
   "source": [
    "Можно заметить, что отрицательных значений больше нет, однако максимальные значения по прежнему присутствуют. Рассмотрим эти значения более подробно. Аномальные значения присутствуют лишь для такого типа занятости как безработный и пенсионер. Это связано с технологической ошибкой импорта, заместо дней указаны часы. Минимальное значение для этих типов занятости 328728. Исправим все строки начинающиеся с этого значения."
   ]
  },
  {
   "cell_type": "code",
   "execution_count": 17,
   "metadata": {},
   "outputs": [],
   "source": [
    "bank_data['days_employed'] = bank_data['days_employed'].apply(lambda x : x/24 if x>328728 else( x / 1 )) # изменение столбца *days_employed* с применением apply, для того, чтоб значения были указаны в днях, для значений больше 328728"
   ]
  },
  {
   "cell_type": "markdown",
   "metadata": {},
   "source": [
    "Познакомимся с данными повнимательнее после внесенных изменений."
   ]
  },
  {
   "cell_type": "code",
   "execution_count": 18,
   "metadata": {
    "scrolled": true
   },
   "outputs": [
    {
     "data": {
      "text/html": [
       "<div>\n",
       "<style scoped>\n",
       "    .dataframe tbody tr th:only-of-type {\n",
       "        vertical-align: middle;\n",
       "    }\n",
       "\n",
       "    .dataframe tbody tr th {\n",
       "        vertical-align: top;\n",
       "    }\n",
       "\n",
       "    .dataframe thead th {\n",
       "        text-align: right;\n",
       "    }\n",
       "</style>\n",
       "<table border=\"1\" class=\"dataframe\">\n",
       "  <thead>\n",
       "    <tr style=\"text-align: right;\">\n",
       "      <th></th>\n",
       "      <th>count</th>\n",
       "      <th>mean</th>\n",
       "      <th>std</th>\n",
       "      <th>min</th>\n",
       "      <th>25%</th>\n",
       "      <th>50%</th>\n",
       "      <th>75%</th>\n",
       "      <th>max</th>\n",
       "    </tr>\n",
       "    <tr>\n",
       "      <th>income_type</th>\n",
       "      <th></th>\n",
       "      <th></th>\n",
       "      <th></th>\n",
       "      <th></th>\n",
       "      <th></th>\n",
       "      <th></th>\n",
       "      <th></th>\n",
       "      <th></th>\n",
       "    </tr>\n",
       "  </thead>\n",
       "  <tbody>\n",
       "    <tr>\n",
       "      <td>безработный</td>\n",
       "      <td>2.0</td>\n",
       "      <td>15267.235531</td>\n",
       "      <td>1702.311605</td>\n",
       "      <td>14063.519451</td>\n",
       "      <td>14665.377491</td>\n",
       "      <td>15267.235531</td>\n",
       "      <td>15869.093571</td>\n",
       "      <td>16470.951611</td>\n",
       "    </tr>\n",
       "    <tr>\n",
       "      <td>в декрете</td>\n",
       "      <td>1.0</td>\n",
       "      <td>3296.759962</td>\n",
       "      <td>NaN</td>\n",
       "      <td>3296.759962</td>\n",
       "      <td>3296.759962</td>\n",
       "      <td>3296.759962</td>\n",
       "      <td>3296.759962</td>\n",
       "      <td>3296.759962</td>\n",
       "    </tr>\n",
       "    <tr>\n",
       "      <td>госслужащий</td>\n",
       "      <td>1459.0</td>\n",
       "      <td>3328.308350</td>\n",
       "      <td>2652.713016</td>\n",
       "      <td>39.954170</td>\n",
       "      <td>1376.607336</td>\n",
       "      <td>2689.368353</td>\n",
       "      <td>4454.221934</td>\n",
       "      <td>15193.032201</td>\n",
       "    </tr>\n",
       "    <tr>\n",
       "      <td>компаньон</td>\n",
       "      <td>5085.0</td>\n",
       "      <td>2055.165652</td>\n",
       "      <td>1950.764283</td>\n",
       "      <td>30.195337</td>\n",
       "      <td>764.432082</td>\n",
       "      <td>1547.382223</td>\n",
       "      <td>2672.323106</td>\n",
       "      <td>17615.563266</td>\n",
       "    </tr>\n",
       "    <tr>\n",
       "      <td>пенсионер</td>\n",
       "      <td>3856.0</td>\n",
       "      <td>15209.415152</td>\n",
       "      <td>829.546476</td>\n",
       "      <td>13697.030025</td>\n",
       "      <td>14533.431682</td>\n",
       "      <td>15217.221094</td>\n",
       "      <td>15864.637548</td>\n",
       "      <td>16739.808353</td>\n",
       "    </tr>\n",
       "    <tr>\n",
       "      <td>предприниматель</td>\n",
       "      <td>2.0</td>\n",
       "      <td>520.848083</td>\n",
       "      <td>0.000000</td>\n",
       "      <td>520.848083</td>\n",
       "      <td>520.848083</td>\n",
       "      <td>520.848083</td>\n",
       "      <td>520.848083</td>\n",
       "      <td>520.848083</td>\n",
       "    </tr>\n",
       "    <tr>\n",
       "      <td>сотрудник</td>\n",
       "      <td>11119.0</td>\n",
       "      <td>2251.736421</td>\n",
       "      <td>2201.767262</td>\n",
       "      <td>24.141633</td>\n",
       "      <td>829.628950</td>\n",
       "      <td>1574.202821</td>\n",
       "      <td>2895.108262</td>\n",
       "      <td>18388.949901</td>\n",
       "    </tr>\n",
       "    <tr>\n",
       "      <td>студент</td>\n",
       "      <td>1.0</td>\n",
       "      <td>578.751554</td>\n",
       "      <td>NaN</td>\n",
       "      <td>578.751554</td>\n",
       "      <td>578.751554</td>\n",
       "      <td>578.751554</td>\n",
       "      <td>578.751554</td>\n",
       "      <td>578.751554</td>\n",
       "    </tr>\n",
       "  </tbody>\n",
       "</table>\n",
       "</div>"
      ],
      "text/plain": [
       "                   count          mean          std           min  \\\n",
       "income_type                                                         \n",
       "безработный          2.0  15267.235531  1702.311605  14063.519451   \n",
       "в декрете            1.0   3296.759962          NaN   3296.759962   \n",
       "госслужащий       1459.0   3328.308350  2652.713016     39.954170   \n",
       "компаньон         5085.0   2055.165652  1950.764283     30.195337   \n",
       "пенсионер         3856.0  15209.415152   829.546476  13697.030025   \n",
       "предприниматель      2.0    520.848083     0.000000    520.848083   \n",
       "сотрудник        11119.0   2251.736421  2201.767262     24.141633   \n",
       "студент              1.0    578.751554          NaN    578.751554   \n",
       "\n",
       "                          25%           50%           75%           max  \n",
       "income_type                                                              \n",
       "безработный      14665.377491  15267.235531  15869.093571  16470.951611  \n",
       "в декрете         3296.759962   3296.759962   3296.759962   3296.759962  \n",
       "госслужащий       1376.607336   2689.368353   4454.221934  15193.032201  \n",
       "компаньон          764.432082   1547.382223   2672.323106  17615.563266  \n",
       "пенсионер        14533.431682  15217.221094  15864.637548  16739.808353  \n",
       "предприниматель    520.848083    520.848083    520.848083    520.848083  \n",
       "сотрудник          829.628950   1574.202821   2895.108262  18388.949901  \n",
       "студент            578.751554    578.751554    578.751554    578.751554  "
      ]
     },
     "execution_count": 18,
     "metadata": {},
     "output_type": "execute_result"
    }
   ],
   "source": [
    "bank_data.groupby('income_type')['days_employed'].describe() # вывод статистических показателей для столбца *income_type* по *days_employe"
   ]
  },
  {
   "cell_type": "markdown",
   "metadata": {},
   "source": [
    "Привели в порядок значения в столбце общий трудовой стаж в днях. Теперь значения корректны также для пенсионеров и безработных. Ожидаемо для пенсионеров значение минимума является достаточно высоким, так как трудовой опыт у них значительно больше, но также минимальные значения высоки и для безработных, от которых 2 заявки, это связано с тем, что некоторые категории граждан могли иметь увеличенный множитель трудового стажа в связи с родом деятельности, нахождением в армии,а также в связи с регионом трудовой деятельности."
   ]
  },
  {
   "cell_type": "markdown",
   "metadata": {},
   "source": [
    "#### 2.2.3 Обработка значений в столбце возраст клиента. "
   ]
  },
  {
   "cell_type": "markdown",
   "metadata": {},
   "source": [
    "Посмотрим для каких типов занятости возраст клиента в годах равен 0."
   ]
  },
  {
   "cell_type": "code",
   "execution_count": 19,
   "metadata": {
    "scrolled": false
   },
   "outputs": [
    {
     "data": {
      "text/plain": [
       "income_type\n",
       "госслужащий     6\n",
       "компаньон      20\n",
       "пенсионер      20\n",
       "сотрудник      55\n",
       "Name: dob_years, dtype: int64"
      ]
     },
     "execution_count": 19,
     "metadata": {},
     "output_type": "execute_result"
    }
   ],
   "source": [
    "bank_data[bank_data['dob_years'] ==0].groupby('income_type')['dob_years'].count() # подсчет количества строк по *income_type*, где *dob_years* равен 0"
   ]
  },
  {
   "cell_type": "markdown",
   "metadata": {},
   "source": [
    "Общее количество значений равных 0 имеет 101 строка. Нам необходимо заменить эти строки на медианые значения по типам занятости"
   ]
  },
  {
   "cell_type": "code",
   "execution_count": 20,
   "metadata": {},
   "outputs": [],
   "source": [
    "bank_data['dob_years'] = bank_data.groupby('income_type')['dob_years'].transform(lambda x: x.replace(0, int(x.median()))) # Заменим значения равные 0, на медианные значения по типам занятости"
   ]
  },
  {
   "cell_type": "markdown",
   "metadata": {},
   "source": [
    "После произведенных действий проверим остались ли строки, значения которых равно 0 в возрасте клиента.\n"
   ]
  },
  {
   "cell_type": "code",
   "execution_count": 21,
   "metadata": {},
   "outputs": [
    {
     "data": {
      "text/plain": [
       "income_type\n",
       "безработный        31\n",
       "в декрете          39\n",
       "госслужащий        19\n",
       "компаньон          19\n",
       "пенсионер          22\n",
       "предприниматель    27\n",
       "сотрудник          19\n",
       "студент            22\n",
       "Name: dob_years, dtype: int64"
      ]
     },
     "execution_count": 21,
     "metadata": {},
     "output_type": "execute_result"
    }
   ],
   "source": [
    "bank_data.groupby('income_type')['dob_years'].min() # подсчет количества строк по *income_type*, где *dob_years* имеет минимальные значения."
   ]
  },
  {
   "cell_type": "markdown",
   "metadata": {},
   "source": [
    "Проделав данную работу избавились от значений равных 0 в трудовом стаже, которые могли появиться как от технологических ошибок, так и от человечского фактора. "
   ]
  },
  {
   "cell_type": "markdown",
   "metadata": {},
   "source": [
    "**Вывод**"
   ]
  },
  {
   "cell_type": "markdown",
   "metadata": {},
   "source": [
    "Успешно заменили на корректные значения в столбце количество детей в семье, исправили отрицательные и аномальные значения в столбце общий трудовой стаж. Заменили значения равные 0 в столбце возраст клиента в годах."
   ]
  },
  {
   "cell_type": "markdown",
   "metadata": {},
   "source": [
    "### 2.3 Замена типа данных"
   ]
  },
  {
   "cell_type": "markdown",
   "metadata": {},
   "source": [
    "Переведем значения в целочисленные c помощью метода astype() для столбцов *days_employed* и *total_income*, так стаж в годах выражается целыми числами, чрезмерная точность не нужна и для дохода."
   ]
  },
  {
   "cell_type": "code",
   "execution_count": 22,
   "metadata": {},
   "outputs": [],
   "source": [
    "bank_data['days_employed'] = bank_data['days_employed'].astype('int') # перевод в целочисленные значения столбца *days_employed*"
   ]
  },
  {
   "cell_type": "code",
   "execution_count": 23,
   "metadata": {},
   "outputs": [],
   "source": [
    "bank_data['total_income'] = bank_data['total_income'].astype('int') # перевод в целочисленные значения столбца *total_income*"
   ]
  },
  {
   "cell_type": "markdown",
   "metadata": {},
   "source": [
    "Посмотрим на таблицу, изменились ли числа на целые."
   ]
  },
  {
   "cell_type": "code",
   "execution_count": 24,
   "metadata": {},
   "outputs": [
    {
     "name": "stdout",
     "output_type": "stream",
     "text": [
      "<class 'pandas.core.frame.DataFrame'>\n",
      "RangeIndex: 21525 entries, 0 to 21524\n",
      "Data columns (total 12 columns):\n",
      "children            21525 non-null int64\n",
      "days_employed       21525 non-null int64\n",
      "dob_years           21525 non-null int64\n",
      "education           21525 non-null object\n",
      "education_id        21525 non-null int64\n",
      "family_status       21525 non-null object\n",
      "family_status_id    21525 non-null int64\n",
      "gender              21525 non-null object\n",
      "income_type         21525 non-null object\n",
      "debt                21525 non-null int64\n",
      "total_income        21525 non-null int64\n",
      "purpose             21525 non-null object\n",
      "dtypes: int64(7), object(5)\n",
      "memory usage: 2.0+ MB\n"
     ]
    }
   ],
   "source": [
    "bank_data.info() # Общая информация по таблице"
   ]
  },
  {
   "cell_type": "markdown",
   "metadata": {},
   "source": [
    "Теперь для *days_employed * и *total_income* тип данных int64, что соответствует целочисленным значениям. Для наглядности посмотрим на первые 15 значений."
   ]
  },
  {
   "cell_type": "code",
   "execution_count": 25,
   "metadata": {},
   "outputs": [
    {
     "data": {
      "text/html": [
       "<div>\n",
       "<style scoped>\n",
       "    .dataframe tbody tr th:only-of-type {\n",
       "        vertical-align: middle;\n",
       "    }\n",
       "\n",
       "    .dataframe tbody tr th {\n",
       "        vertical-align: top;\n",
       "    }\n",
       "\n",
       "    .dataframe thead th {\n",
       "        text-align: right;\n",
       "    }\n",
       "</style>\n",
       "<table border=\"1\" class=\"dataframe\">\n",
       "  <thead>\n",
       "    <tr style=\"text-align: right;\">\n",
       "      <th></th>\n",
       "      <th>children</th>\n",
       "      <th>days_employed</th>\n",
       "      <th>dob_years</th>\n",
       "      <th>education</th>\n",
       "      <th>education_id</th>\n",
       "      <th>family_status</th>\n",
       "      <th>family_status_id</th>\n",
       "      <th>gender</th>\n",
       "      <th>income_type</th>\n",
       "      <th>debt</th>\n",
       "      <th>total_income</th>\n",
       "      <th>purpose</th>\n",
       "    </tr>\n",
       "  </thead>\n",
       "  <tbody>\n",
       "    <tr>\n",
       "      <td>0</td>\n",
       "      <td>1</td>\n",
       "      <td>8437</td>\n",
       "      <td>42</td>\n",
       "      <td>высшее</td>\n",
       "      <td>0</td>\n",
       "      <td>женат / замужем</td>\n",
       "      <td>0</td>\n",
       "      <td>F</td>\n",
       "      <td>сотрудник</td>\n",
       "      <td>0</td>\n",
       "      <td>253875</td>\n",
       "      <td>покупка жилья</td>\n",
       "    </tr>\n",
       "    <tr>\n",
       "      <td>1</td>\n",
       "      <td>1</td>\n",
       "      <td>4024</td>\n",
       "      <td>36</td>\n",
       "      <td>среднее</td>\n",
       "      <td>1</td>\n",
       "      <td>женат / замужем</td>\n",
       "      <td>0</td>\n",
       "      <td>F</td>\n",
       "      <td>сотрудник</td>\n",
       "      <td>0</td>\n",
       "      <td>112080</td>\n",
       "      <td>приобретение автомобиля</td>\n",
       "    </tr>\n",
       "    <tr>\n",
       "      <td>2</td>\n",
       "      <td>0</td>\n",
       "      <td>5623</td>\n",
       "      <td>33</td>\n",
       "      <td>Среднее</td>\n",
       "      <td>1</td>\n",
       "      <td>женат / замужем</td>\n",
       "      <td>0</td>\n",
       "      <td>M</td>\n",
       "      <td>сотрудник</td>\n",
       "      <td>0</td>\n",
       "      <td>145885</td>\n",
       "      <td>покупка жилья</td>\n",
       "    </tr>\n",
       "    <tr>\n",
       "      <td>3</td>\n",
       "      <td>3</td>\n",
       "      <td>4124</td>\n",
       "      <td>32</td>\n",
       "      <td>среднее</td>\n",
       "      <td>1</td>\n",
       "      <td>женат / замужем</td>\n",
       "      <td>0</td>\n",
       "      <td>M</td>\n",
       "      <td>сотрудник</td>\n",
       "      <td>0</td>\n",
       "      <td>267628</td>\n",
       "      <td>дополнительное образование</td>\n",
       "    </tr>\n",
       "    <tr>\n",
       "      <td>4</td>\n",
       "      <td>0</td>\n",
       "      <td>14177</td>\n",
       "      <td>53</td>\n",
       "      <td>среднее</td>\n",
       "      <td>1</td>\n",
       "      <td>гражданский брак</td>\n",
       "      <td>1</td>\n",
       "      <td>F</td>\n",
       "      <td>пенсионер</td>\n",
       "      <td>0</td>\n",
       "      <td>158616</td>\n",
       "      <td>сыграть свадьбу</td>\n",
       "    </tr>\n",
       "    <tr>\n",
       "      <td>5</td>\n",
       "      <td>0</td>\n",
       "      <td>926</td>\n",
       "      <td>27</td>\n",
       "      <td>высшее</td>\n",
       "      <td>0</td>\n",
       "      <td>гражданский брак</td>\n",
       "      <td>1</td>\n",
       "      <td>M</td>\n",
       "      <td>компаньон</td>\n",
       "      <td>0</td>\n",
       "      <td>255763</td>\n",
       "      <td>покупка жилья</td>\n",
       "    </tr>\n",
       "    <tr>\n",
       "      <td>6</td>\n",
       "      <td>0</td>\n",
       "      <td>2879</td>\n",
       "      <td>43</td>\n",
       "      <td>высшее</td>\n",
       "      <td>0</td>\n",
       "      <td>женат / замужем</td>\n",
       "      <td>0</td>\n",
       "      <td>F</td>\n",
       "      <td>компаньон</td>\n",
       "      <td>0</td>\n",
       "      <td>240525</td>\n",
       "      <td>операции с жильем</td>\n",
       "    </tr>\n",
       "    <tr>\n",
       "      <td>7</td>\n",
       "      <td>0</td>\n",
       "      <td>152</td>\n",
       "      <td>50</td>\n",
       "      <td>СРЕДНЕЕ</td>\n",
       "      <td>1</td>\n",
       "      <td>женат / замужем</td>\n",
       "      <td>0</td>\n",
       "      <td>M</td>\n",
       "      <td>сотрудник</td>\n",
       "      <td>0</td>\n",
       "      <td>135823</td>\n",
       "      <td>образование</td>\n",
       "    </tr>\n",
       "    <tr>\n",
       "      <td>8</td>\n",
       "      <td>2</td>\n",
       "      <td>6929</td>\n",
       "      <td>35</td>\n",
       "      <td>ВЫСШЕЕ</td>\n",
       "      <td>0</td>\n",
       "      <td>гражданский брак</td>\n",
       "      <td>1</td>\n",
       "      <td>F</td>\n",
       "      <td>сотрудник</td>\n",
       "      <td>0</td>\n",
       "      <td>95856</td>\n",
       "      <td>на проведение свадьбы</td>\n",
       "    </tr>\n",
       "    <tr>\n",
       "      <td>9</td>\n",
       "      <td>0</td>\n",
       "      <td>2188</td>\n",
       "      <td>41</td>\n",
       "      <td>среднее</td>\n",
       "      <td>1</td>\n",
       "      <td>женат / замужем</td>\n",
       "      <td>0</td>\n",
       "      <td>M</td>\n",
       "      <td>сотрудник</td>\n",
       "      <td>0</td>\n",
       "      <td>144425</td>\n",
       "      <td>покупка жилья для семьи</td>\n",
       "    </tr>\n",
       "    <tr>\n",
       "      <td>10</td>\n",
       "      <td>2</td>\n",
       "      <td>4171</td>\n",
       "      <td>36</td>\n",
       "      <td>высшее</td>\n",
       "      <td>0</td>\n",
       "      <td>женат / замужем</td>\n",
       "      <td>0</td>\n",
       "      <td>M</td>\n",
       "      <td>компаньон</td>\n",
       "      <td>0</td>\n",
       "      <td>113943</td>\n",
       "      <td>покупка недвижимости</td>\n",
       "    </tr>\n",
       "    <tr>\n",
       "      <td>11</td>\n",
       "      <td>0</td>\n",
       "      <td>792</td>\n",
       "      <td>40</td>\n",
       "      <td>среднее</td>\n",
       "      <td>1</td>\n",
       "      <td>женат / замужем</td>\n",
       "      <td>0</td>\n",
       "      <td>F</td>\n",
       "      <td>сотрудник</td>\n",
       "      <td>0</td>\n",
       "      <td>77069</td>\n",
       "      <td>покупка коммерческой недвижимости</td>\n",
       "    </tr>\n",
       "    <tr>\n",
       "      <td>12</td>\n",
       "      <td>0</td>\n",
       "      <td>15217</td>\n",
       "      <td>65</td>\n",
       "      <td>среднее</td>\n",
       "      <td>1</td>\n",
       "      <td>гражданский брак</td>\n",
       "      <td>1</td>\n",
       "      <td>M</td>\n",
       "      <td>пенсионер</td>\n",
       "      <td>0</td>\n",
       "      <td>118514</td>\n",
       "      <td>сыграть свадьбу</td>\n",
       "    </tr>\n",
       "    <tr>\n",
       "      <td>13</td>\n",
       "      <td>0</td>\n",
       "      <td>1846</td>\n",
       "      <td>54</td>\n",
       "      <td>неоконченное высшее</td>\n",
       "      <td>2</td>\n",
       "      <td>женат / замужем</td>\n",
       "      <td>0</td>\n",
       "      <td>F</td>\n",
       "      <td>сотрудник</td>\n",
       "      <td>0</td>\n",
       "      <td>130458</td>\n",
       "      <td>приобретение автомобиля</td>\n",
       "    </tr>\n",
       "    <tr>\n",
       "      <td>14</td>\n",
       "      <td>0</td>\n",
       "      <td>1844</td>\n",
       "      <td>56</td>\n",
       "      <td>высшее</td>\n",
       "      <td>0</td>\n",
       "      <td>гражданский брак</td>\n",
       "      <td>1</td>\n",
       "      <td>F</td>\n",
       "      <td>компаньон</td>\n",
       "      <td>1</td>\n",
       "      <td>165127</td>\n",
       "      <td>покупка жилой недвижимости</td>\n",
       "    </tr>\n",
       "  </tbody>\n",
       "</table>\n",
       "</div>"
      ],
      "text/plain": [
       "    children  days_employed  dob_years            education  education_id  \\\n",
       "0          1           8437         42               высшее             0   \n",
       "1          1           4024         36              среднее             1   \n",
       "2          0           5623         33              Среднее             1   \n",
       "3          3           4124         32              среднее             1   \n",
       "4          0          14177         53              среднее             1   \n",
       "5          0            926         27               высшее             0   \n",
       "6          0           2879         43               высшее             0   \n",
       "7          0            152         50              СРЕДНЕЕ             1   \n",
       "8          2           6929         35               ВЫСШЕЕ             0   \n",
       "9          0           2188         41              среднее             1   \n",
       "10         2           4171         36               высшее             0   \n",
       "11         0            792         40              среднее             1   \n",
       "12         0          15217         65              среднее             1   \n",
       "13         0           1846         54  неоконченное высшее             2   \n",
       "14         0           1844         56               высшее             0   \n",
       "\n",
       "       family_status  family_status_id gender income_type  debt  total_income  \\\n",
       "0    женат / замужем                 0      F   сотрудник     0        253875   \n",
       "1    женат / замужем                 0      F   сотрудник     0        112080   \n",
       "2    женат / замужем                 0      M   сотрудник     0        145885   \n",
       "3    женат / замужем                 0      M   сотрудник     0        267628   \n",
       "4   гражданский брак                 1      F   пенсионер     0        158616   \n",
       "5   гражданский брак                 1      M   компаньон     0        255763   \n",
       "6    женат / замужем                 0      F   компаньон     0        240525   \n",
       "7    женат / замужем                 0      M   сотрудник     0        135823   \n",
       "8   гражданский брак                 1      F   сотрудник     0         95856   \n",
       "9    женат / замужем                 0      M   сотрудник     0        144425   \n",
       "10   женат / замужем                 0      M   компаньон     0        113943   \n",
       "11   женат / замужем                 0      F   сотрудник     0         77069   \n",
       "12  гражданский брак                 1      M   пенсионер     0        118514   \n",
       "13   женат / замужем                 0      F   сотрудник     0        130458   \n",
       "14  гражданский брак                 1      F   компаньон     1        165127   \n",
       "\n",
       "                              purpose  \n",
       "0                       покупка жилья  \n",
       "1             приобретение автомобиля  \n",
       "2                       покупка жилья  \n",
       "3          дополнительное образование  \n",
       "4                     сыграть свадьбу  \n",
       "5                       покупка жилья  \n",
       "6                   операции с жильем  \n",
       "7                         образование  \n",
       "8               на проведение свадьбы  \n",
       "9             покупка жилья для семьи  \n",
       "10               покупка недвижимости  \n",
       "11  покупка коммерческой недвижимости  \n",
       "12                    сыграть свадьбу  \n",
       "13            приобретение автомобиля  \n",
       "14         покупка жилой недвижимости  "
      ]
     },
     "execution_count": 25,
     "metadata": {},
     "output_type": "execute_result"
    }
   ],
   "source": [
    "bank_data.head(15)"
   ]
  },
  {
   "cell_type": "markdown",
   "metadata": {},
   "source": [
    "**Вывод**"
   ]
  },
  {
   "cell_type": "markdown",
   "metadata": {},
   "source": [
    "Успешно изменили необходимые значения для столбцов общий трудовой стаж и ежемесячный доход. Данный метод был выбран, так как нам необходимы целочисленные значения в данных столбцах. "
   ]
  },
  {
   "cell_type": "markdown",
   "metadata": {},
   "source": [
    "### 2.4 Обработка дубликатов"
   ]
  },
  {
   "cell_type": "markdown",
   "metadata": {},
   "source": [
    "Проверим есть ли дубликаты строк в нашей таблицы."
   ]
  },
  {
   "cell_type": "code",
   "execution_count": 26,
   "metadata": {},
   "outputs": [
    {
     "data": {
      "text/plain": [
       "54"
      ]
     },
     "execution_count": 26,
     "metadata": {},
     "output_type": "execute_result"
    }
   ],
   "source": [
    "bank_data.duplicated().sum() # сумма дубликатов по таблице *bank_data*"
   ]
  },
  {
   "cell_type": "markdown",
   "metadata": {},
   "source": [
    "В таблице 54 явных дубликата, причина проста - банальное задвоение в системе. Необходимо избавиться от них."
   ]
  },
  {
   "cell_type": "code",
   "execution_count": 27,
   "metadata": {},
   "outputs": [],
   "source": [
    "bank_data = bank_data.drop_duplicates().reset_index(drop=True) # удаление всех дубликатов из таблицы bank_data специальным методом"
   ]
  },
  {
   "cell_type": "markdown",
   "metadata": {},
   "source": [
    "Проверим остались ли дубликаты. "
   ]
  },
  {
   "cell_type": "code",
   "execution_count": 28,
   "metadata": {
    "scrolled": true
   },
   "outputs": [
    {
     "data": {
      "text/plain": [
       "0"
      ]
     },
     "execution_count": 28,
     "metadata": {},
     "output_type": "execute_result"
    }
   ],
   "source": [
    "bank_data.duplicated().sum() # сумма дубликатов по таблице *bank_data*"
   ]
  },
  {
   "cell_type": "markdown",
   "metadata": {},
   "source": [
    "Успешно избавились от явных дубликатов, но помимо этого нам нужно решить проблему регистров в столбце образование, посмотрим какие значения имеются в данном столбце"
   ]
  },
  {
   "cell_type": "code",
   "execution_count": 29,
   "metadata": {
    "scrolled": true
   },
   "outputs": [
    {
     "data": {
      "text/plain": [
       "среднее                13705\n",
       "высшее                  4710\n",
       "СРЕДНЕЕ                  772\n",
       "Среднее                  711\n",
       "неоконченное высшее      668\n",
       "ВЫСШЕЕ                   273\n",
       "Высшее                   268\n",
       "начальное                250\n",
       "Неоконченное высшее       47\n",
       "НЕОКОНЧЕННОЕ ВЫСШЕЕ       29\n",
       "НАЧАЛЬНОЕ                 17\n",
       "Начальное                 15\n",
       "ученая степень             4\n",
       "Ученая степень             1\n",
       "УЧЕНАЯ СТЕПЕНЬ             1\n",
       "Name: education, dtype: int64"
      ]
     },
     "execution_count": 29,
     "metadata": {},
     "output_type": "execute_result"
    }
   ],
   "source": [
    "bank_data['education'].value_counts() # ручной поиск дубликатов с учетом регистров"
   ]
  },
  {
   "cell_type": "markdown",
   "metadata": {},
   "source": [
    "Видим несколько одинаковых значений ,которые отличаются регистром букв. Такое множество возникает от того, каким способом менеджер вбивает данные при заполнении заявки. Приведем их к нижнему регистру."
   ]
  },
  {
   "cell_type": "code",
   "execution_count": 30,
   "metadata": {},
   "outputs": [],
   "source": [
    "bank_data['education'] = bank_data['education'].str.lower() # Перевод к нижнему регистру."
   ]
  },
  {
   "cell_type": "markdown",
   "metadata": {},
   "source": [
    "Проверим какие значения остались. "
   ]
  },
  {
   "cell_type": "code",
   "execution_count": 31,
   "metadata": {
    "scrolled": true
   },
   "outputs": [
    {
     "data": {
      "text/plain": [
       "среднее                15188\n",
       "высшее                  5251\n",
       "неоконченное высшее      744\n",
       "начальное                282\n",
       "ученая степень             6\n",
       "Name: education, dtype: int64"
      ]
     },
     "execution_count": 31,
     "metadata": {},
     "output_type": "execute_result"
    }
   ],
   "source": [
    "bank_data['education'].value_counts() # ручной поиск дубликатов с учетом регистров"
   ]
  },
  {
   "cell_type": "markdown",
   "metadata": {},
   "source": [
    "Проверим образовались ли новые дубликаты после приведения к общему регистру."
   ]
  },
  {
   "cell_type": "code",
   "execution_count": 32,
   "metadata": {},
   "outputs": [
    {
     "data": {
      "text/plain": [
       "17"
      ]
     },
     "execution_count": 32,
     "metadata": {},
     "output_type": "execute_result"
    }
   ],
   "source": [
    "bank_data.duplicated().sum() # сумма дубликатов по таблице *bank_data*"
   ]
  },
  {
   "cell_type": "markdown",
   "metadata": {},
   "source": [
    "Образовалось 17 новых дубликатов избавимся от них."
   ]
  },
  {
   "cell_type": "code",
   "execution_count": 33,
   "metadata": {},
   "outputs": [],
   "source": [
    "bank_data = bank_data.drop_duplicates().reset_index(drop=True) # удаление всех дубликатов из таблицы bank_data специальным методом"
   ]
  },
  {
   "cell_type": "markdown",
   "metadata": {},
   "source": [
    "Проверим остаток дубликатов."
   ]
  },
  {
   "cell_type": "code",
   "execution_count": 34,
   "metadata": {},
   "outputs": [
    {
     "data": {
      "text/plain": [
       "0"
      ]
     },
     "execution_count": 34,
     "metadata": {},
     "output_type": "execute_result"
    }
   ],
   "source": [
    "bank_data.duplicated().sum() # сумма дубликатов по таблице *bank_data*"
   ]
  },
  {
   "cell_type": "markdown",
   "metadata": {},
   "source": [
    "**Вывод:**"
   ]
  },
  {
   "cell_type": "markdown",
   "metadata": {},
   "source": [
    "Проделав данную работу, мы удалили явные дубликаты и привели значения в столбце образование к общему виду по регистру."
   ]
  },
  {
   "cell_type": "markdown",
   "metadata": {},
   "source": [
    "### 2.5 Лемматизация"
   ]
  },
  {
   "cell_type": "markdown",
   "metadata": {},
   "source": [
    "Рассмотрим более подробно столбец *purpose*, в нем хранятся цели получения кредита, выраженные разными словосочетаниями, для которых необходимо провести лемматизацию. "
   ]
  },
  {
   "cell_type": "code",
   "execution_count": 35,
   "metadata": {},
   "outputs": [
    {
     "data": {
      "text/plain": [
       "свадьба                                   791\n",
       "на проведение свадьбы                     768\n",
       "сыграть свадьбу                           765\n",
       "операции с недвижимостью                  675\n",
       "покупка коммерческой недвижимости         661\n",
       "операции с жильем                         652\n",
       "покупка жилья для сдачи                   651\n",
       "операции с коммерческой недвижимостью     650\n",
       "жилье                                     646\n",
       "покупка жилья                             646\n",
       "покупка жилья для семьи                   638\n",
       "строительство собственной недвижимости    635\n",
       "недвижимость                              633\n",
       "операции со своей недвижимостью           627\n",
       "строительство жилой недвижимости          624\n",
       "покупка недвижимости                      621\n",
       "покупка своего жилья                      620\n",
       "строительство недвижимости                619\n",
       "ремонт жилью                              607\n",
       "покупка жилой недвижимости                606\n",
       "на покупку своего автомобиля              505\n",
       "заняться высшим образованием              496\n",
       "автомобиль                                494\n",
       "сделка с подержанным автомобилем          486\n",
       "на покупку подержанного автомобиля        478\n",
       "свой автомобиль                           478\n",
       "автомобили                                478\n",
       "на покупку автомобиля                     471\n",
       "приобретение автомобиля                   461\n",
       "дополнительное образование                460\n",
       "сделка с автомобилем                      455\n",
       "высшее образование                        452\n",
       "образование                               447\n",
       "получение дополнительного образования     446\n",
       "получение образования                     442\n",
       "профильное образование                    436\n",
       "получение высшего образования             426\n",
       "заняться образованием                     408\n",
       "Name: purpose, dtype: int64"
      ]
     },
     "execution_count": 35,
     "metadata": {},
     "output_type": "execute_result"
    }
   ],
   "source": [
    "bank_data['purpose'].value_counts() # посмотрим варианты целей кредита и их количество"
   ]
  },
  {
   "cell_type": "markdown",
   "metadata": {},
   "source": [
    "Ознакомившись со столбцом, можно сделать вывод, что менеджеры не выбирают из списка цели получения кредита, а заполняют эти данные собственноручно. Всего ключевых слов можно выделить 5, которые выделим в отдельную перменную."
   ]
  },
  {
   "cell_type": "code",
   "execution_count": 36,
   "metadata": {},
   "outputs": [],
   "source": [
    "category = ['недвижимость', 'автомобиль', 'свадьба', 'жилье', 'образование'] # выделим категории в переменную"
   ]
  },
  {
   "cell_type": "markdown",
   "metadata": {},
   "source": [
    "Импортируем библиотеки нужные для лемматизации."
   ]
  },
  {
   "cell_type": "code",
   "execution_count": 37,
   "metadata": {},
   "outputs": [],
   "source": [
    "from pymystem3 import Mystem # импортируем pymystem3\n",
    "from collections import Counter # импортируем collections\n",
    "m = Mystem()"
   ]
  },
  {
   "cell_type": "markdown",
   "metadata": {},
   "source": [
    "Создадим функцию для лемматизации."
   ]
  },
  {
   "cell_type": "code",
   "execution_count": 38,
   "metadata": {},
   "outputs": [],
   "source": [
    "def lemmatize(text): # создание функции для лемматизации\n",
    "    lemma = m.lemmatize(text)\n",
    "    for word in category:\n",
    "        if word in lemma:\n",
    "            lemma = word\n",
    "    return lemma"
   ]
  },
  {
   "cell_type": "code",
   "execution_count": 39,
   "metadata": {},
   "outputs": [],
   "source": [
    "bank_data['purpose_category'] = bank_data['purpose'].apply(lemmatize)"
   ]
  },
  {
   "cell_type": "markdown",
   "metadata": {},
   "source": [
    "Посчитаем количество для каждой категории цели взятия кредита."
   ]
  },
  {
   "cell_type": "code",
   "execution_count": 40,
   "metadata": {},
   "outputs": [
    {
     "data": {
      "text/plain": [
       "недвижимость    6351\n",
       "жилье           4460\n",
       "автомобиль      4306\n",
       "образование     4013\n",
       "свадьба         2324\n",
       "Name: purpose_category, dtype: int64"
      ]
     },
     "execution_count": 40,
     "metadata": {},
     "output_type": "execute_result"
    }
   ],
   "source": [
    "bank_data['purpose_category'].value_counts() # подсчет количества для категорий цели взятия кредита"
   ]
  },
  {
   "cell_type": "markdown",
   "metadata": {},
   "source": [
    "Переименуем значения жилье в недвижимость, чтоб объединить в одну категорию."
   ]
  },
  {
   "cell_type": "code",
   "execution_count": 41,
   "metadata": {},
   "outputs": [],
   "source": [
    "bank_data['purpose_category'] = bank_data['purpose_category'].replace('жилье', 'недвижимость') # переименуем значения жилье в недвижимость"
   ]
  },
  {
   "cell_type": "markdown",
   "metadata": {},
   "source": [
    "Проверим объединение. "
   ]
  },
  {
   "cell_type": "code",
   "execution_count": 42,
   "metadata": {},
   "outputs": [
    {
     "data": {
      "text/plain": [
       "недвижимость    10811\n",
       "автомобиль       4306\n",
       "образование      4013\n",
       "свадьба          2324\n",
       "Name: purpose_category, dtype: int64"
      ]
     },
     "execution_count": 42,
     "metadata": {},
     "output_type": "execute_result"
    }
   ],
   "source": [
    "bank_data['purpose_category'].value_counts() # подсчет количества для категорий цели взятия кредита"
   ]
  },
  {
   "cell_type": "markdown",
   "metadata": {},
   "source": [
    "Посчитаем сумму количества значений в столбце категория цели взятия кредита."
   ]
  },
  {
   "cell_type": "code",
   "execution_count": 43,
   "metadata": {},
   "outputs": [
    {
     "data": {
      "text/plain": [
       "21454"
      ]
     },
     "execution_count": 43,
     "metadata": {},
     "output_type": "execute_result"
    }
   ],
   "source": [
    "bank_data['purpose'].value_counts().sum() # Посчитаем сумму количества значений в столбце *purpose_category*"
   ]
  },
  {
   "cell_type": "markdown",
   "metadata": {},
   "source": [
    "**Вывод**"
   ]
  },
  {
   "cell_type": "markdown",
   "metadata": {},
   "source": [
    "Проверили лемматизацию. Суммарное количество значений в столбце *purpose_category* - 21454, что равняется количеству строк в нашей таблице после удаления дубликатов. Лемматизация была выбрана неслучайно, так как данный алгоритм поиска слов более совершенен для наших целей. По итогу сократили категории до 4, так как они отражают конечную цель получения кредита."
   ]
  },
  {
   "cell_type": "markdown",
   "metadata": {},
   "source": [
    "### 2.6 Категоризация данных"
   ]
  },
  {
   "cell_type": "markdown",
   "metadata": {},
   "source": [
    "Для установления зависимости на поставленные вопросы нам нужны категоризации данных:\n",
    "* По наличию детей, которые предстоит сделать.\n",
    "* По уровню дохода, которые предстоит сделать.\n",
    "* По семейному положению, которые у нас уже имеются.\n",
    "* По цели взятия кредита, которые у нас уже имеются.\n",
    "* По наличию задолженоости, которые у нас уже имеются."
   ]
  },
  {
   "cell_type": "markdown",
   "metadata": {},
   "source": [
    "Так как поставлен прямой вопрос \"Есть ли зависимость между наличием детей и возвратом кредита в срок?\", то достаточно сделать категоризацию такой:\n",
    "* есть дети\n",
    "* нет детей"
   ]
  },
  {
   "cell_type": "markdown",
   "metadata": {},
   "source": [
    "Создадим функцию для этого."
   ]
  },
  {
   "cell_type": "code",
   "execution_count": 44,
   "metadata": {},
   "outputs": [],
   "source": [
    "def children_category(children): # функция для определения категории детей\n",
    "    if children > 0:\n",
    "        return 'есть дети'\n",
    "    else:\n",
    "        return 'нет детей'"
   ]
  },
  {
   "cell_type": "code",
   "execution_count": 45,
   "metadata": {},
   "outputs": [],
   "source": [
    "bank_data['children_category'] = bank_data['children'].apply(children_category) # использование функции *children_category* с добавлением нового столбца *children_category*"
   ]
  },
  {
   "cell_type": "markdown",
   "metadata": {},
   "source": [
    "Теперь нам необходимо создать функцию для определения категории по доходам. Есть множество вариантов выделение категорий для данной работы, можно учитывать данные по росстату, по другим исследованиям, можно посмотреть по квантилям нашей выборки, а можно установить собственные категории, что мы и сделаем. Выделим для этого такие категории:\n",
    "* Низкий уровень дохода - до 50000 рублей.\n",
    "* Средний уровень дохода - до 150000 рублей.\n",
    "* Высокий уровень дохода - Выше 150000 рублей."
   ]
  },
  {
   "cell_type": "markdown",
   "metadata": {},
   "source": [
    "Создадим функцию для этого."
   ]
  },
  {
   "cell_type": "code",
   "execution_count": 46,
   "metadata": {},
   "outputs": [],
   "source": [
    "def total_income_category(total_income): # функция для определения категории детей\n",
    "    if total_income < 50000:\n",
    "        return 'низкий уровень дохода'\n",
    "    elif total_income <150000:\n",
    "        return 'cредний уровень дохода'\n",
    "    else:\n",
    "        return 'высокий уровень дохода'"
   ]
  },
  {
   "cell_type": "code",
   "execution_count": 47,
   "metadata": {},
   "outputs": [],
   "source": [
    "bank_data['total_income_category'] = bank_data['total_income'].apply(total_income_category) # использование функции *total_income_category* с добавлением нового столбца *total_income_category*"
   ]
  },
  {
   "cell_type": "markdown",
   "metadata": {},
   "source": [
    "Посмотрим на проделанную работу наглядно и выведем первые 15 строк."
   ]
  },
  {
   "cell_type": "code",
   "execution_count": 48,
   "metadata": {},
   "outputs": [
    {
     "data": {
      "text/html": [
       "<div>\n",
       "<style scoped>\n",
       "    .dataframe tbody tr th:only-of-type {\n",
       "        vertical-align: middle;\n",
       "    }\n",
       "\n",
       "    .dataframe tbody tr th {\n",
       "        vertical-align: top;\n",
       "    }\n",
       "\n",
       "    .dataframe thead th {\n",
       "        text-align: right;\n",
       "    }\n",
       "</style>\n",
       "<table border=\"1\" class=\"dataframe\">\n",
       "  <thead>\n",
       "    <tr style=\"text-align: right;\">\n",
       "      <th></th>\n",
       "      <th>children</th>\n",
       "      <th>days_employed</th>\n",
       "      <th>dob_years</th>\n",
       "      <th>education</th>\n",
       "      <th>education_id</th>\n",
       "      <th>family_status</th>\n",
       "      <th>family_status_id</th>\n",
       "      <th>gender</th>\n",
       "      <th>income_type</th>\n",
       "      <th>debt</th>\n",
       "      <th>total_income</th>\n",
       "      <th>purpose</th>\n",
       "      <th>purpose_category</th>\n",
       "      <th>children_category</th>\n",
       "      <th>total_income_category</th>\n",
       "    </tr>\n",
       "  </thead>\n",
       "  <tbody>\n",
       "    <tr>\n",
       "      <td>0</td>\n",
       "      <td>1</td>\n",
       "      <td>8437</td>\n",
       "      <td>42</td>\n",
       "      <td>высшее</td>\n",
       "      <td>0</td>\n",
       "      <td>женат / замужем</td>\n",
       "      <td>0</td>\n",
       "      <td>F</td>\n",
       "      <td>сотрудник</td>\n",
       "      <td>0</td>\n",
       "      <td>253875</td>\n",
       "      <td>покупка жилья</td>\n",
       "      <td>недвижимость</td>\n",
       "      <td>есть дети</td>\n",
       "      <td>высокий уровень дохода</td>\n",
       "    </tr>\n",
       "    <tr>\n",
       "      <td>1</td>\n",
       "      <td>1</td>\n",
       "      <td>4024</td>\n",
       "      <td>36</td>\n",
       "      <td>среднее</td>\n",
       "      <td>1</td>\n",
       "      <td>женат / замужем</td>\n",
       "      <td>0</td>\n",
       "      <td>F</td>\n",
       "      <td>сотрудник</td>\n",
       "      <td>0</td>\n",
       "      <td>112080</td>\n",
       "      <td>приобретение автомобиля</td>\n",
       "      <td>автомобиль</td>\n",
       "      <td>есть дети</td>\n",
       "      <td>cредний уровень дохода</td>\n",
       "    </tr>\n",
       "    <tr>\n",
       "      <td>2</td>\n",
       "      <td>0</td>\n",
       "      <td>5623</td>\n",
       "      <td>33</td>\n",
       "      <td>среднее</td>\n",
       "      <td>1</td>\n",
       "      <td>женат / замужем</td>\n",
       "      <td>0</td>\n",
       "      <td>M</td>\n",
       "      <td>сотрудник</td>\n",
       "      <td>0</td>\n",
       "      <td>145885</td>\n",
       "      <td>покупка жилья</td>\n",
       "      <td>недвижимость</td>\n",
       "      <td>нет детей</td>\n",
       "      <td>cредний уровень дохода</td>\n",
       "    </tr>\n",
       "    <tr>\n",
       "      <td>3</td>\n",
       "      <td>3</td>\n",
       "      <td>4124</td>\n",
       "      <td>32</td>\n",
       "      <td>среднее</td>\n",
       "      <td>1</td>\n",
       "      <td>женат / замужем</td>\n",
       "      <td>0</td>\n",
       "      <td>M</td>\n",
       "      <td>сотрудник</td>\n",
       "      <td>0</td>\n",
       "      <td>267628</td>\n",
       "      <td>дополнительное образование</td>\n",
       "      <td>образование</td>\n",
       "      <td>есть дети</td>\n",
       "      <td>высокий уровень дохода</td>\n",
       "    </tr>\n",
       "    <tr>\n",
       "      <td>4</td>\n",
       "      <td>0</td>\n",
       "      <td>14177</td>\n",
       "      <td>53</td>\n",
       "      <td>среднее</td>\n",
       "      <td>1</td>\n",
       "      <td>гражданский брак</td>\n",
       "      <td>1</td>\n",
       "      <td>F</td>\n",
       "      <td>пенсионер</td>\n",
       "      <td>0</td>\n",
       "      <td>158616</td>\n",
       "      <td>сыграть свадьбу</td>\n",
       "      <td>свадьба</td>\n",
       "      <td>нет детей</td>\n",
       "      <td>высокий уровень дохода</td>\n",
       "    </tr>\n",
       "    <tr>\n",
       "      <td>5</td>\n",
       "      <td>0</td>\n",
       "      <td>926</td>\n",
       "      <td>27</td>\n",
       "      <td>высшее</td>\n",
       "      <td>0</td>\n",
       "      <td>гражданский брак</td>\n",
       "      <td>1</td>\n",
       "      <td>M</td>\n",
       "      <td>компаньон</td>\n",
       "      <td>0</td>\n",
       "      <td>255763</td>\n",
       "      <td>покупка жилья</td>\n",
       "      <td>недвижимость</td>\n",
       "      <td>нет детей</td>\n",
       "      <td>высокий уровень дохода</td>\n",
       "    </tr>\n",
       "    <tr>\n",
       "      <td>6</td>\n",
       "      <td>0</td>\n",
       "      <td>2879</td>\n",
       "      <td>43</td>\n",
       "      <td>высшее</td>\n",
       "      <td>0</td>\n",
       "      <td>женат / замужем</td>\n",
       "      <td>0</td>\n",
       "      <td>F</td>\n",
       "      <td>компаньон</td>\n",
       "      <td>0</td>\n",
       "      <td>240525</td>\n",
       "      <td>операции с жильем</td>\n",
       "      <td>недвижимость</td>\n",
       "      <td>нет детей</td>\n",
       "      <td>высокий уровень дохода</td>\n",
       "    </tr>\n",
       "    <tr>\n",
       "      <td>7</td>\n",
       "      <td>0</td>\n",
       "      <td>152</td>\n",
       "      <td>50</td>\n",
       "      <td>среднее</td>\n",
       "      <td>1</td>\n",
       "      <td>женат / замужем</td>\n",
       "      <td>0</td>\n",
       "      <td>M</td>\n",
       "      <td>сотрудник</td>\n",
       "      <td>0</td>\n",
       "      <td>135823</td>\n",
       "      <td>образование</td>\n",
       "      <td>образование</td>\n",
       "      <td>нет детей</td>\n",
       "      <td>cредний уровень дохода</td>\n",
       "    </tr>\n",
       "    <tr>\n",
       "      <td>8</td>\n",
       "      <td>2</td>\n",
       "      <td>6929</td>\n",
       "      <td>35</td>\n",
       "      <td>высшее</td>\n",
       "      <td>0</td>\n",
       "      <td>гражданский брак</td>\n",
       "      <td>1</td>\n",
       "      <td>F</td>\n",
       "      <td>сотрудник</td>\n",
       "      <td>0</td>\n",
       "      <td>95856</td>\n",
       "      <td>на проведение свадьбы</td>\n",
       "      <td>свадьба</td>\n",
       "      <td>есть дети</td>\n",
       "      <td>cредний уровень дохода</td>\n",
       "    </tr>\n",
       "    <tr>\n",
       "      <td>9</td>\n",
       "      <td>0</td>\n",
       "      <td>2188</td>\n",
       "      <td>41</td>\n",
       "      <td>среднее</td>\n",
       "      <td>1</td>\n",
       "      <td>женат / замужем</td>\n",
       "      <td>0</td>\n",
       "      <td>M</td>\n",
       "      <td>сотрудник</td>\n",
       "      <td>0</td>\n",
       "      <td>144425</td>\n",
       "      <td>покупка жилья для семьи</td>\n",
       "      <td>недвижимость</td>\n",
       "      <td>нет детей</td>\n",
       "      <td>cредний уровень дохода</td>\n",
       "    </tr>\n",
       "    <tr>\n",
       "      <td>10</td>\n",
       "      <td>2</td>\n",
       "      <td>4171</td>\n",
       "      <td>36</td>\n",
       "      <td>высшее</td>\n",
       "      <td>0</td>\n",
       "      <td>женат / замужем</td>\n",
       "      <td>0</td>\n",
       "      <td>M</td>\n",
       "      <td>компаньон</td>\n",
       "      <td>0</td>\n",
       "      <td>113943</td>\n",
       "      <td>покупка недвижимости</td>\n",
       "      <td>недвижимость</td>\n",
       "      <td>есть дети</td>\n",
       "      <td>cредний уровень дохода</td>\n",
       "    </tr>\n",
       "    <tr>\n",
       "      <td>11</td>\n",
       "      <td>0</td>\n",
       "      <td>792</td>\n",
       "      <td>40</td>\n",
       "      <td>среднее</td>\n",
       "      <td>1</td>\n",
       "      <td>женат / замужем</td>\n",
       "      <td>0</td>\n",
       "      <td>F</td>\n",
       "      <td>сотрудник</td>\n",
       "      <td>0</td>\n",
       "      <td>77069</td>\n",
       "      <td>покупка коммерческой недвижимости</td>\n",
       "      <td>недвижимость</td>\n",
       "      <td>нет детей</td>\n",
       "      <td>cредний уровень дохода</td>\n",
       "    </tr>\n",
       "    <tr>\n",
       "      <td>12</td>\n",
       "      <td>0</td>\n",
       "      <td>15217</td>\n",
       "      <td>65</td>\n",
       "      <td>среднее</td>\n",
       "      <td>1</td>\n",
       "      <td>гражданский брак</td>\n",
       "      <td>1</td>\n",
       "      <td>M</td>\n",
       "      <td>пенсионер</td>\n",
       "      <td>0</td>\n",
       "      <td>118514</td>\n",
       "      <td>сыграть свадьбу</td>\n",
       "      <td>свадьба</td>\n",
       "      <td>нет детей</td>\n",
       "      <td>cредний уровень дохода</td>\n",
       "    </tr>\n",
       "    <tr>\n",
       "      <td>13</td>\n",
       "      <td>0</td>\n",
       "      <td>1846</td>\n",
       "      <td>54</td>\n",
       "      <td>неоконченное высшее</td>\n",
       "      <td>2</td>\n",
       "      <td>женат / замужем</td>\n",
       "      <td>0</td>\n",
       "      <td>F</td>\n",
       "      <td>сотрудник</td>\n",
       "      <td>0</td>\n",
       "      <td>130458</td>\n",
       "      <td>приобретение автомобиля</td>\n",
       "      <td>автомобиль</td>\n",
       "      <td>нет детей</td>\n",
       "      <td>cредний уровень дохода</td>\n",
       "    </tr>\n",
       "    <tr>\n",
       "      <td>14</td>\n",
       "      <td>0</td>\n",
       "      <td>1844</td>\n",
       "      <td>56</td>\n",
       "      <td>высшее</td>\n",
       "      <td>0</td>\n",
       "      <td>гражданский брак</td>\n",
       "      <td>1</td>\n",
       "      <td>F</td>\n",
       "      <td>компаньон</td>\n",
       "      <td>1</td>\n",
       "      <td>165127</td>\n",
       "      <td>покупка жилой недвижимости</td>\n",
       "      <td>недвижимость</td>\n",
       "      <td>нет детей</td>\n",
       "      <td>высокий уровень дохода</td>\n",
       "    </tr>\n",
       "  </tbody>\n",
       "</table>\n",
       "</div>"
      ],
      "text/plain": [
       "    children  days_employed  dob_years            education  education_id  \\\n",
       "0          1           8437         42               высшее             0   \n",
       "1          1           4024         36              среднее             1   \n",
       "2          0           5623         33              среднее             1   \n",
       "3          3           4124         32              среднее             1   \n",
       "4          0          14177         53              среднее             1   \n",
       "5          0            926         27               высшее             0   \n",
       "6          0           2879         43               высшее             0   \n",
       "7          0            152         50              среднее             1   \n",
       "8          2           6929         35               высшее             0   \n",
       "9          0           2188         41              среднее             1   \n",
       "10         2           4171         36               высшее             0   \n",
       "11         0            792         40              среднее             1   \n",
       "12         0          15217         65              среднее             1   \n",
       "13         0           1846         54  неоконченное высшее             2   \n",
       "14         0           1844         56               высшее             0   \n",
       "\n",
       "       family_status  family_status_id gender income_type  debt  total_income  \\\n",
       "0    женат / замужем                 0      F   сотрудник     0        253875   \n",
       "1    женат / замужем                 0      F   сотрудник     0        112080   \n",
       "2    женат / замужем                 0      M   сотрудник     0        145885   \n",
       "3    женат / замужем                 0      M   сотрудник     0        267628   \n",
       "4   гражданский брак                 1      F   пенсионер     0        158616   \n",
       "5   гражданский брак                 1      M   компаньон     0        255763   \n",
       "6    женат / замужем                 0      F   компаньон     0        240525   \n",
       "7    женат / замужем                 0      M   сотрудник     0        135823   \n",
       "8   гражданский брак                 1      F   сотрудник     0         95856   \n",
       "9    женат / замужем                 0      M   сотрудник     0        144425   \n",
       "10   женат / замужем                 0      M   компаньон     0        113943   \n",
       "11   женат / замужем                 0      F   сотрудник     0         77069   \n",
       "12  гражданский брак                 1      M   пенсионер     0        118514   \n",
       "13   женат / замужем                 0      F   сотрудник     0        130458   \n",
       "14  гражданский брак                 1      F   компаньон     1        165127   \n",
       "\n",
       "                              purpose purpose_category children_category  \\\n",
       "0                       покупка жилья     недвижимость         есть дети   \n",
       "1             приобретение автомобиля       автомобиль         есть дети   \n",
       "2                       покупка жилья     недвижимость         нет детей   \n",
       "3          дополнительное образование      образование         есть дети   \n",
       "4                     сыграть свадьбу          свадьба         нет детей   \n",
       "5                       покупка жилья     недвижимость         нет детей   \n",
       "6                   операции с жильем     недвижимость         нет детей   \n",
       "7                         образование      образование         нет детей   \n",
       "8               на проведение свадьбы          свадьба         есть дети   \n",
       "9             покупка жилья для семьи     недвижимость         нет детей   \n",
       "10               покупка недвижимости     недвижимость         есть дети   \n",
       "11  покупка коммерческой недвижимости     недвижимость         нет детей   \n",
       "12                    сыграть свадьбу          свадьба         нет детей   \n",
       "13            приобретение автомобиля       автомобиль         нет детей   \n",
       "14         покупка жилой недвижимости     недвижимость         нет детей   \n",
       "\n",
       "     total_income_category  \n",
       "0   высокий уровень дохода  \n",
       "1   cредний уровень дохода  \n",
       "2   cредний уровень дохода  \n",
       "3   высокий уровень дохода  \n",
       "4   высокий уровень дохода  \n",
       "5   высокий уровень дохода  \n",
       "6   высокий уровень дохода  \n",
       "7   cредний уровень дохода  \n",
       "8   cредний уровень дохода  \n",
       "9   cредний уровень дохода  \n",
       "10  cредний уровень дохода  \n",
       "11  cредний уровень дохода  \n",
       "12  cредний уровень дохода  \n",
       "13  cредний уровень дохода  \n",
       "14  высокий уровень дохода  "
      ]
     },
     "execution_count": 48,
     "metadata": {},
     "output_type": "execute_result"
    }
   ],
   "source": [
    "bank_data.head(15) # вывод 15 первых строк таблицы"
   ]
  },
  {
   "cell_type": "markdown",
   "metadata": {},
   "source": [
    "**Вывод**"
   ]
  },
  {
   "cell_type": "markdown",
   "metadata": {},
   "source": [
    "Теперь в нашей таблице, есть вся информация, с помощью которых мы ответим на необходимые вопросы. В частности 4 столбца:\n",
    "* family_status - семейное положение\n",
    "* purpose_category - цель кредита\n",
    "* children_category - дети\n",
    "* total_income_category - доход\n",
    "* debt - задолженность"
   ]
  },
  {
   "cell_type": "markdown",
   "metadata": {},
   "source": [
    "## Этап 3. Ответьте на вопросы"
   ]
  },
  {
   "cell_type": "markdown",
   "metadata": {},
   "source": [
    "- Есть ли зависимость между наличием детей и возвратом кредита в срок?"
   ]
  },
  {
   "cell_type": "markdown",
   "metadata": {},
   "source": [
    "Чтобы ответить на этот вопрос создадим сводную таблицу. "
   ]
  },
  {
   "cell_type": "code",
   "execution_count": 49,
   "metadata": {},
   "outputs": [],
   "source": [
    "data_pivot_children = bank_data.pivot_table(index = ['children_category'],columns='debt',values = 'gender', aggfunc='count') # Создаем сводную таблицу "
   ]
  },
  {
   "cell_type": "code",
   "execution_count": 50,
   "metadata": {},
   "outputs": [],
   "source": [
    "data_pivot_children['ratio'] = data_pivot_children[1] / (data_pivot_children[1] + data_pivot_children[0]) # Добавление столбца вн"
   ]
  },
  {
   "cell_type": "markdown",
   "metadata": {},
   "source": [
    "Посмотрим на сводную таблицу и сделаем выводы."
   ]
  },
  {
   "cell_type": "code",
   "execution_count": 51,
   "metadata": {
    "scrolled": true
   },
   "outputs": [
    {
     "data": {
      "text/html": [
       "<div>\n",
       "<style scoped>\n",
       "    .dataframe tbody tr th:only-of-type {\n",
       "        vertical-align: middle;\n",
       "    }\n",
       "\n",
       "    .dataframe tbody tr th {\n",
       "        vertical-align: top;\n",
       "    }\n",
       "\n",
       "    .dataframe thead th {\n",
       "        text-align: right;\n",
       "    }\n",
       "</style>\n",
       "<table border=\"1\" class=\"dataframe\">\n",
       "  <thead>\n",
       "    <tr style=\"text-align: right;\">\n",
       "      <th>debt</th>\n",
       "      <th>0</th>\n",
       "      <th>1</th>\n",
       "      <th>ratio</th>\n",
       "    </tr>\n",
       "    <tr>\n",
       "      <th>children_category</th>\n",
       "      <th></th>\n",
       "      <th></th>\n",
       "      <th></th>\n",
       "    </tr>\n",
       "  </thead>\n",
       "  <tbody>\n",
       "    <tr>\n",
       "      <td>есть дети</td>\n",
       "      <td>6685</td>\n",
       "      <td>678</td>\n",
       "      <td>0.092082</td>\n",
       "    </tr>\n",
       "    <tr>\n",
       "      <td>нет детей</td>\n",
       "      <td>13028</td>\n",
       "      <td>1063</td>\n",
       "      <td>0.075438</td>\n",
       "    </tr>\n",
       "  </tbody>\n",
       "</table>\n",
       "</div>"
      ],
      "text/plain": [
       "debt                   0     1     ratio\n",
       "children_category                       \n",
       "есть дети           6685   678  0.092082\n",
       "нет детей          13028  1063  0.075438"
      ]
     },
     "execution_count": 51,
     "metadata": {},
     "output_type": "execute_result"
    }
   ],
   "source": [
    "data_pivot_children"
   ]
  },
  {
   "cell_type": "markdown",
   "metadata": {},
   "source": [
    "**Вывод**"
   ]
  },
  {
   "cell_type": "markdown",
   "metadata": {},
   "source": [
    "Проанализировав таблицу, мы можем сделать вывод, что вероятность задолженности с детьми составляет 9.2 процента, против 7.5 для тех, у кого детей нет. Это связано с тем, что люди, имея финансовые проблемы, больше делают финансовый упор на детей, не исполняя свои обязательства перед банком."
   ]
  },
  {
   "cell_type": "markdown",
   "metadata": {},
   "source": [
    "- Есть ли зависимость между семейным положением и возвратом кредита в срок?"
   ]
  },
  {
   "cell_type": "code",
   "execution_count": 52,
   "metadata": {},
   "outputs": [],
   "source": [
    "data_pivot_family_status = bank_data.pivot_table(index = ['family_status'],columns='debt',values = 'gender', aggfunc='count') # Создаем сводную таблицу "
   ]
  },
  {
   "cell_type": "code",
   "execution_count": 53,
   "metadata": {},
   "outputs": [],
   "source": [
    "data_pivot_family_status['ratio'] = data_pivot_family_status[1] / (data_pivot_family_status[1] + data_pivot_family_status[0]) # Добавление столбца вероятности"
   ]
  },
  {
   "cell_type": "code",
   "execution_count": 54,
   "metadata": {},
   "outputs": [
    {
     "data": {
      "text/html": [
       "<div>\n",
       "<style scoped>\n",
       "    .dataframe tbody tr th:only-of-type {\n",
       "        vertical-align: middle;\n",
       "    }\n",
       "\n",
       "    .dataframe tbody tr th {\n",
       "        vertical-align: top;\n",
       "    }\n",
       "\n",
       "    .dataframe thead th {\n",
       "        text-align: right;\n",
       "    }\n",
       "</style>\n",
       "<table border=\"1\" class=\"dataframe\">\n",
       "  <thead>\n",
       "    <tr style=\"text-align: right;\">\n",
       "      <th>debt</th>\n",
       "      <th>0</th>\n",
       "      <th>1</th>\n",
       "      <th>ratio</th>\n",
       "    </tr>\n",
       "    <tr>\n",
       "      <th>family_status</th>\n",
       "      <th></th>\n",
       "      <th></th>\n",
       "      <th></th>\n",
       "    </tr>\n",
       "  </thead>\n",
       "  <tbody>\n",
       "    <tr>\n",
       "      <td>Не женат / не замужем</td>\n",
       "      <td>2536</td>\n",
       "      <td>274</td>\n",
       "      <td>0.097509</td>\n",
       "    </tr>\n",
       "    <tr>\n",
       "      <td>в разводе</td>\n",
       "      <td>1110</td>\n",
       "      <td>85</td>\n",
       "      <td>0.071130</td>\n",
       "    </tr>\n",
       "    <tr>\n",
       "      <td>вдовец / вдова</td>\n",
       "      <td>896</td>\n",
       "      <td>63</td>\n",
       "      <td>0.065693</td>\n",
       "    </tr>\n",
       "    <tr>\n",
       "      <td>гражданский брак</td>\n",
       "      <td>3763</td>\n",
       "      <td>388</td>\n",
       "      <td>0.093471</td>\n",
       "    </tr>\n",
       "    <tr>\n",
       "      <td>женат / замужем</td>\n",
       "      <td>11408</td>\n",
       "      <td>931</td>\n",
       "      <td>0.075452</td>\n",
       "    </tr>\n",
       "  </tbody>\n",
       "</table>\n",
       "</div>"
      ],
      "text/plain": [
       "debt                       0    1     ratio\n",
       "family_status                              \n",
       "Не женат / не замужем   2536  274  0.097509\n",
       "в разводе               1110   85  0.071130\n",
       "вдовец / вдова           896   63  0.065693\n",
       "гражданский брак        3763  388  0.093471\n",
       "женат / замужем        11408  931  0.075452"
      ]
     },
     "execution_count": 54,
     "metadata": {},
     "output_type": "execute_result"
    }
   ],
   "source": [
    "data_pivot_family_status"
   ]
  },
  {
   "cell_type": "markdown",
   "metadata": {},
   "source": [
    "**Вывод**"
   ]
  },
  {
   "cell_type": "markdown",
   "metadata": {},
   "source": [
    "Те категории заемщиков, кто состоит в официальном браке или когда-либо состоял, более ответственны в своих обязательствах. Можно предположить, что люди в браке создают более тесные связи и обязательства, это также распространяется в дальнейшем и на внешние обязательства."
   ]
  },
  {
   "cell_type": "markdown",
   "metadata": {},
   "source": [
    "- Есть ли зависимость между уровнем дохода и возвратом кредита в срок?"
   ]
  },
  {
   "cell_type": "code",
   "execution_count": 55,
   "metadata": {},
   "outputs": [],
   "source": [
    "data_pivot_total_income = round(bank_data.pivot_table(index = ['total_income_category'],columns='debt',values = 'gender', aggfunc='count')) # Создаем сводную таблицу "
   ]
  },
  {
   "cell_type": "code",
   "execution_count": 56,
   "metadata": {},
   "outputs": [],
   "source": [
    "data_pivot_total_income['ratio'] = data_pivot_total_income[1] / (data_pivot_total_income[1] + data_pivot_total_income[0]) # Добавление столбца вероятности"
   ]
  },
  {
   "cell_type": "code",
   "execution_count": 57,
   "metadata": {},
   "outputs": [
    {
     "data": {
      "text/html": [
       "<div>\n",
       "<style scoped>\n",
       "    .dataframe tbody tr th:only-of-type {\n",
       "        vertical-align: middle;\n",
       "    }\n",
       "\n",
       "    .dataframe tbody tr th {\n",
       "        vertical-align: top;\n",
       "    }\n",
       "\n",
       "    .dataframe thead th {\n",
       "        text-align: right;\n",
       "    }\n",
       "</style>\n",
       "<table border=\"1\" class=\"dataframe\">\n",
       "  <thead>\n",
       "    <tr style=\"text-align: right;\">\n",
       "      <th>debt</th>\n",
       "      <th>0</th>\n",
       "      <th>1</th>\n",
       "      <th>ratio</th>\n",
       "    </tr>\n",
       "    <tr>\n",
       "      <th>total_income_category</th>\n",
       "      <th></th>\n",
       "      <th></th>\n",
       "      <th></th>\n",
       "    </tr>\n",
       "  </thead>\n",
       "  <tbody>\n",
       "    <tr>\n",
       "      <td>cредний уровень дохода</td>\n",
       "      <td>10296</td>\n",
       "      <td>955</td>\n",
       "      <td>0.084881</td>\n",
       "    </tr>\n",
       "    <tr>\n",
       "      <td>высокий уровень дохода</td>\n",
       "      <td>9068</td>\n",
       "      <td>763</td>\n",
       "      <td>0.077612</td>\n",
       "    </tr>\n",
       "    <tr>\n",
       "      <td>низкий уровень дохода</td>\n",
       "      <td>349</td>\n",
       "      <td>23</td>\n",
       "      <td>0.061828</td>\n",
       "    </tr>\n",
       "  </tbody>\n",
       "</table>\n",
       "</div>"
      ],
      "text/plain": [
       "debt                        0    1     ratio\n",
       "total_income_category                       \n",
       "cредний уровень дохода  10296  955  0.084881\n",
       "высокий уровень дохода   9068  763  0.077612\n",
       "низкий уровень дохода     349   23  0.061828"
      ]
     },
     "execution_count": 57,
     "metadata": {},
     "output_type": "execute_result"
    }
   ],
   "source": [
    "data_pivot_total_income"
   ]
  },
  {
   "cell_type": "markdown",
   "metadata": {},
   "source": [
    "**Вывод**"
   ]
  },
  {
   "cell_type": "markdown",
   "metadata": {},
   "source": [
    "Люди с низким уровнем дохода с наименьшей вероятностью окажутся в должниках, это  связано с тем, что люди больше экономят и правильно составляют свои расходы. Разница между средним уровнем дохода и высоким, составляет 0,7 %. "
   ]
  },
  {
   "cell_type": "markdown",
   "metadata": {},
   "source": [
    "- Как разные цели кредита влияют на его возврат в срок?"
   ]
  },
  {
   "cell_type": "code",
   "execution_count": 58,
   "metadata": {},
   "outputs": [],
   "source": [
    "data_pivot_purpose_category = bank_data.pivot_table(index = ['purpose_category'],columns='debt',values = 'gender', aggfunc='count') # Создаем сводную таблицу "
   ]
  },
  {
   "cell_type": "code",
   "execution_count": 59,
   "metadata": {},
   "outputs": [],
   "source": [
    "data_pivot_purpose_category['ratio'] = data_pivot_purpose_category[1] / (data_pivot_purpose_category[1] + data_pivot_purpose_category[0]) # Добавление столбца вероятности"
   ]
  },
  {
   "cell_type": "code",
   "execution_count": 60,
   "metadata": {},
   "outputs": [
    {
     "data": {
      "text/html": [
       "<div>\n",
       "<style scoped>\n",
       "    .dataframe tbody tr th:only-of-type {\n",
       "        vertical-align: middle;\n",
       "    }\n",
       "\n",
       "    .dataframe tbody tr th {\n",
       "        vertical-align: top;\n",
       "    }\n",
       "\n",
       "    .dataframe thead th {\n",
       "        text-align: right;\n",
       "    }\n",
       "</style>\n",
       "<table border=\"1\" class=\"dataframe\">\n",
       "  <thead>\n",
       "    <tr style=\"text-align: right;\">\n",
       "      <th>debt</th>\n",
       "      <th>0</th>\n",
       "      <th>1</th>\n",
       "      <th>ratio</th>\n",
       "    </tr>\n",
       "    <tr>\n",
       "      <th>purpose_category</th>\n",
       "      <th></th>\n",
       "      <th></th>\n",
       "      <th></th>\n",
       "    </tr>\n",
       "  </thead>\n",
       "  <tbody>\n",
       "    <tr>\n",
       "      <td>автомобиль</td>\n",
       "      <td>3903</td>\n",
       "      <td>403</td>\n",
       "      <td>0.093590</td>\n",
       "    </tr>\n",
       "    <tr>\n",
       "      <td>недвижимость</td>\n",
       "      <td>10029</td>\n",
       "      <td>782</td>\n",
       "      <td>0.072334</td>\n",
       "    </tr>\n",
       "    <tr>\n",
       "      <td>образование</td>\n",
       "      <td>3643</td>\n",
       "      <td>370</td>\n",
       "      <td>0.092200</td>\n",
       "    </tr>\n",
       "    <tr>\n",
       "      <td>свадьба</td>\n",
       "      <td>2138</td>\n",
       "      <td>186</td>\n",
       "      <td>0.080034</td>\n",
       "    </tr>\n",
       "  </tbody>\n",
       "</table>\n",
       "</div>"
      ],
      "text/plain": [
       "debt                  0    1     ratio\n",
       "purpose_category                      \n",
       "автомобиль         3903  403  0.093590\n",
       "недвижимость      10029  782  0.072334\n",
       "образование        3643  370  0.092200\n",
       "свадьба            2138  186  0.080034"
      ]
     },
     "execution_count": 60,
     "metadata": {},
     "output_type": "execute_result"
    }
   ],
   "source": [
    "data_pivot_purpose_category"
   ]
  },
  {
   "cell_type": "markdown",
   "metadata": {},
   "source": [
    "**Вывод**"
   ]
  },
  {
   "cell_type": "markdown",
   "metadata": {},
   "source": [
    "Заемщики, которые приобретают средства на недвижимость и свадьбу, наиболее ответственны перед банком за свои обязательства. Вероятность просроченного кредита для недвижимость - 7,2 %, для свадьбы 7,9%, в то время как для образования 9.2 %, а для автомобиля 9,4%."
   ]
  },
  {
   "cell_type": "markdown",
   "metadata": {},
   "source": [
    "## Этап 4. Общий вывод"
   ]
  },
  {
   "cell_type": "markdown",
   "metadata": {},
   "source": [
    "Проделав данную работу можно составить портрет наименее вероятного задолжника:\n",
    "* У заемщика нет детей\n",
    "* Заемщик состоял, либо состоит в официальном браке.\n",
    "* Заемщик имеет низкий уровень дохода\n",
    "* Заемщик берет кредит для целей связанных с недвижимостью, либо на свадьбу\n",
    "\n",
    "Также составим портрет наиболее вероятного задолжника:\n",
    "* У заемщика есть дети\n",
    "* Заемщик не состоял в браке, либо состоит в гражданском браке\n",
    "* Заемщик имеет средний уровень дохода\n",
    "* заемщик берет средства на автомобиль, либо образование\n"
   ]
  }
 ],
 "metadata": {
  "ExecuteTimeLog": [
   {
    "duration": 699,
    "start_time": "2021-08-28T19:21:04.011Z"
   },
   {
    "duration": 111,
    "start_time": "2021-08-28T19:21:06.059Z"
   },
   {
    "duration": 4,
    "start_time": "2021-08-28T19:21:23.256Z"
   },
   {
    "duration": 65,
    "start_time": "2021-08-28T19:21:26.234Z"
   },
   {
    "duration": 36,
    "start_time": "2021-08-28T19:25:23.741Z"
   },
   {
    "duration": 15,
    "start_time": "2021-08-28T19:32:36.900Z"
   },
   {
    "duration": 860,
    "start_time": "2021-08-28T19:34:10.332Z"
   },
   {
    "duration": 88,
    "start_time": "2021-08-28T19:34:11.195Z"
   },
   {
    "duration": 37,
    "start_time": "2021-08-28T19:34:11.287Z"
   },
   {
    "duration": 34,
    "start_time": "2021-08-28T19:34:11.327Z"
   },
   {
    "duration": 98,
    "start_time": "2021-08-28T19:47:55.943Z"
   },
   {
    "duration": 319,
    "start_time": "2021-08-29T11:22:31.009Z"
   },
   {
    "duration": 750,
    "start_time": "2021-08-29T11:23:01.869Z"
   },
   {
    "duration": 74,
    "start_time": "2021-08-29T11:23:02.622Z"
   },
   {
    "duration": 35,
    "start_time": "2021-08-29T11:23:02.700Z"
   },
   {
    "duration": 20,
    "start_time": "2021-08-29T11:23:02.761Z"
   },
   {
    "duration": 16,
    "start_time": "2021-08-29T11:23:02.784Z"
   },
   {
    "duration": 15,
    "start_time": "2021-08-29T12:05:25.167Z"
   },
   {
    "duration": 12,
    "start_time": "2021-08-29T12:05:36.720Z"
   },
   {
    "duration": 351,
    "start_time": "2021-08-29T12:07:55.548Z"
   },
   {
    "duration": 11,
    "start_time": "2021-08-29T12:08:05.341Z"
   },
   {
    "duration": 11,
    "start_time": "2021-08-29T12:08:58.754Z"
   },
   {
    "duration": 282,
    "start_time": "2021-08-29T12:11:19.488Z"
   },
   {
    "duration": 7,
    "start_time": "2021-08-29T12:18:11.903Z"
   },
   {
    "duration": 303,
    "start_time": "2021-08-29T12:18:38.695Z"
   },
   {
    "duration": 33,
    "start_time": "2021-08-29T12:18:47.704Z"
   },
   {
    "duration": 231,
    "start_time": "2021-08-29T12:19:40.083Z"
   },
   {
    "duration": 19,
    "start_time": "2021-08-29T12:20:34.084Z"
   },
   {
    "duration": 20,
    "start_time": "2021-08-29T12:20:39.407Z"
   },
   {
    "duration": 130,
    "start_time": "2021-08-29T12:59:06.361Z"
   },
   {
    "duration": 67,
    "start_time": "2021-08-29T12:59:24.792Z"
   },
   {
    "duration": 18,
    "start_time": "2021-08-29T12:59:45.963Z"
   },
   {
    "duration": 33,
    "start_time": "2021-08-29T12:59:53.803Z"
   },
   {
    "duration": 12,
    "start_time": "2021-08-29T13:00:06.935Z"
   },
   {
    "duration": 13,
    "start_time": "2021-08-29T13:00:41.121Z"
   },
   {
    "duration": 15,
    "start_time": "2021-08-29T13:01:29.737Z"
   },
   {
    "duration": 18,
    "start_time": "2021-08-29T13:01:36.364Z"
   },
   {
    "duration": 10,
    "start_time": "2021-08-29T13:02:25.615Z"
   },
   {
    "duration": 20,
    "start_time": "2021-08-29T13:02:33.583Z"
   },
   {
    "duration": 20,
    "start_time": "2021-08-29T13:03:19.956Z"
   },
   {
    "duration": 26,
    "start_time": "2021-08-29T13:03:52.458Z"
   },
   {
    "duration": 11,
    "start_time": "2021-08-29T13:04:00.611Z"
   },
   {
    "duration": 35,
    "start_time": "2021-08-29T13:06:18.629Z"
   },
   {
    "duration": 37,
    "start_time": "2021-08-29T13:07:22.242Z"
   },
   {
    "duration": 716,
    "start_time": "2021-08-29T13:39:32.288Z"
   },
   {
    "duration": 68,
    "start_time": "2021-08-29T13:39:33.006Z"
   },
   {
    "duration": 31,
    "start_time": "2021-08-29T13:39:33.078Z"
   },
   {
    "duration": 25,
    "start_time": "2021-08-29T13:39:33.111Z"
   },
   {
    "duration": 31,
    "start_time": "2021-08-29T13:39:33.138Z"
   },
   {
    "duration": 41,
    "start_time": "2021-08-29T13:39:33.174Z"
   },
   {
    "duration": 333,
    "start_time": "2021-08-29T13:50:30.979Z"
   },
   {
    "duration": 7,
    "start_time": "2021-08-29T13:50:38.903Z"
   },
   {
    "duration": 213,
    "start_time": "2021-08-29T17:36:51.615Z"
   },
   {
    "duration": 523,
    "start_time": "2021-08-29T17:38:05.013Z"
   },
   {
    "duration": 50,
    "start_time": "2021-08-29T17:38:05.538Z"
   },
   {
    "duration": 18,
    "start_time": "2021-08-29T17:38:05.590Z"
   },
   {
    "duration": 15,
    "start_time": "2021-08-29T17:38:05.610Z"
   },
   {
    "duration": 10,
    "start_time": "2021-08-29T17:38:05.627Z"
   },
   {
    "duration": 22,
    "start_time": "2021-08-29T17:38:05.638Z"
   },
   {
    "duration": 3,
    "start_time": "2021-08-29T17:38:05.662Z"
   },
   {
    "duration": 29,
    "start_time": "2021-08-29T17:38:05.685Z"
   },
   {
    "duration": 250,
    "start_time": "2021-08-29T17:41:48.087Z"
   },
   {
    "duration": 537,
    "start_time": "2021-08-29T17:41:59.098Z"
   },
   {
    "duration": 49,
    "start_time": "2021-08-29T17:41:59.637Z"
   },
   {
    "duration": 19,
    "start_time": "2021-08-29T17:41:59.688Z"
   },
   {
    "duration": 12,
    "start_time": "2021-08-29T17:41:59.709Z"
   },
   {
    "duration": 8,
    "start_time": "2021-08-29T17:41:59.723Z"
   },
   {
    "duration": 23,
    "start_time": "2021-08-29T17:41:59.733Z"
   },
   {
    "duration": 29,
    "start_time": "2021-08-29T17:41:59.757Z"
   },
   {
    "duration": 243,
    "start_time": "2021-08-29T17:41:59.789Z"
   },
   {
    "duration": 187,
    "start_time": "2021-08-29T17:43:21.186Z"
   },
   {
    "duration": 4,
    "start_time": "2021-08-29T17:43:46.827Z"
   },
   {
    "duration": 18,
    "start_time": "2021-08-29T17:43:57.241Z"
   },
   {
    "duration": 17,
    "start_time": "2021-08-29T17:44:23.650Z"
   },
   {
    "duration": 217,
    "start_time": "2021-08-29T17:44:59.464Z"
   },
   {
    "duration": 7,
    "start_time": "2021-08-29T18:35:58.177Z"
   },
   {
    "duration": 184,
    "start_time": "2021-08-29T18:37:44.520Z"
   },
   {
    "duration": 9,
    "start_time": "2021-08-29T18:37:56.310Z"
   },
   {
    "duration": 4514,
    "start_time": "2021-08-29T18:40:26.735Z"
   },
   {
    "duration": 7,
    "start_time": "2021-08-29T18:40:34.312Z"
   },
   {
    "duration": 556,
    "start_time": "2021-08-29T19:11:10.170Z"
   },
   {
    "duration": 51,
    "start_time": "2021-08-29T19:11:10.728Z"
   },
   {
    "duration": 10,
    "start_time": "2021-08-29T19:11:10.780Z"
   },
   {
    "duration": 18,
    "start_time": "2021-08-29T19:11:10.792Z"
   },
   {
    "duration": 8,
    "start_time": "2021-08-29T19:11:10.812Z"
   },
   {
    "duration": 20,
    "start_time": "2021-08-29T19:11:10.821Z"
   },
   {
    "duration": 3,
    "start_time": "2021-08-29T19:11:10.843Z"
   },
   {
    "duration": 38,
    "start_time": "2021-08-29T19:11:10.848Z"
   },
   {
    "duration": 7,
    "start_time": "2021-08-29T19:11:10.888Z"
   },
   {
    "duration": 7,
    "start_time": "2021-08-29T20:38:59.240Z"
   },
   {
    "duration": 7,
    "start_time": "2021-08-29T20:39:07.117Z"
   },
   {
    "duration": 317,
    "start_time": "2021-08-30T06:14:02.710Z"
   },
   {
    "duration": 899,
    "start_time": "2021-08-30T06:14:12.169Z"
   },
   {
    "duration": 85,
    "start_time": "2021-08-30T06:14:13.071Z"
   },
   {
    "duration": 23,
    "start_time": "2021-08-30T06:14:13.159Z"
   },
   {
    "duration": 32,
    "start_time": "2021-08-30T06:14:13.185Z"
   },
   {
    "duration": 335,
    "start_time": "2021-08-30T06:14:13.220Z"
   },
   {
    "duration": -460,
    "start_time": "2021-08-30T06:14:14.018Z"
   },
   {
    "duration": -465,
    "start_time": "2021-08-30T06:14:14.024Z"
   },
   {
    "duration": -472,
    "start_time": "2021-08-30T06:14:14.034Z"
   },
   {
    "duration": -477,
    "start_time": "2021-08-30T06:14:14.041Z"
   },
   {
    "duration": -483,
    "start_time": "2021-08-30T06:14:14.050Z"
   },
   {
    "duration": 45,
    "start_time": "2021-08-30T06:14:48.017Z"
   },
   {
    "duration": 342,
    "start_time": "2021-08-30T06:27:08.189Z"
   },
   {
    "duration": 49,
    "start_time": "2021-08-30T06:27:19.359Z"
   },
   {
    "duration": 88,
    "start_time": "2021-08-30T07:08:00.044Z"
   },
   {
    "duration": 783,
    "start_time": "2021-08-30T07:40:29.719Z"
   },
   {
    "duration": 64,
    "start_time": "2021-08-30T07:40:30.505Z"
   },
   {
    "duration": 19,
    "start_time": "2021-08-30T07:40:30.572Z"
   },
   {
    "duration": 44,
    "start_time": "2021-08-30T07:40:30.594Z"
   },
   {
    "duration": 104,
    "start_time": "2021-08-30T07:40:30.640Z"
   },
   {
    "duration": -405,
    "start_time": "2021-08-30T07:40:31.152Z"
   },
   {
    "duration": -406,
    "start_time": "2021-08-30T07:40:31.155Z"
   },
   {
    "duration": -405,
    "start_time": "2021-08-30T07:40:31.157Z"
   },
   {
    "duration": -406,
    "start_time": "2021-08-30T07:40:31.159Z"
   },
   {
    "duration": -406,
    "start_time": "2021-08-30T07:40:31.162Z"
   },
   {
    "duration": 45,
    "start_time": "2021-08-30T07:41:04.247Z"
   },
   {
    "duration": 731,
    "start_time": "2021-08-30T07:41:12.091Z"
   },
   {
    "duration": 63,
    "start_time": "2021-08-30T07:41:12.825Z"
   },
   {
    "duration": 17,
    "start_time": "2021-08-30T07:41:12.892Z"
   },
   {
    "duration": 31,
    "start_time": "2021-08-30T07:41:12.913Z"
   },
   {
    "duration": 79,
    "start_time": "2021-08-30T07:41:12.947Z"
   },
   {
    "duration": 12,
    "start_time": "2021-08-30T07:41:13.029Z"
   },
   {
    "duration": 60,
    "start_time": "2021-08-30T07:41:13.043Z"
   },
   {
    "duration": 4,
    "start_time": "2021-08-30T07:41:13.106Z"
   },
   {
    "duration": 13,
    "start_time": "2021-08-30T07:41:13.113Z"
   },
   {
    "duration": 12,
    "start_time": "2021-08-30T07:41:13.128Z"
   },
   {
    "duration": 10,
    "start_time": "2021-08-30T08:31:57.977Z"
   },
   {
    "duration": 9,
    "start_time": "2021-08-30T08:32:05.000Z"
   },
   {
    "duration": 15,
    "start_time": "2021-08-30T08:32:28.818Z"
   },
   {
    "duration": 23,
    "start_time": "2021-08-30T08:32:42.475Z"
   },
   {
    "duration": 8,
    "start_time": "2021-08-30T08:41:24.869Z"
   },
   {
    "duration": 6,
    "start_time": "2021-08-30T08:41:30.898Z"
   },
   {
    "duration": 34,
    "start_time": "2021-08-30T08:42:06.295Z"
   },
   {
    "duration": 24,
    "start_time": "2021-08-30T08:42:09.689Z"
   },
   {
    "duration": 90,
    "start_time": "2021-08-30T08:46:23.361Z"
   },
   {
    "duration": 10,
    "start_time": "2021-08-30T08:47:00.716Z"
   },
   {
    "duration": 7,
    "start_time": "2021-08-30T08:47:01.859Z"
   },
   {
    "duration": 7,
    "start_time": "2021-08-30T08:49:55.272Z"
   },
   {
    "duration": 6,
    "start_time": "2021-08-30T08:49:56.859Z"
   },
   {
    "duration": 13,
    "start_time": "2021-08-30T09:09:57.436Z"
   },
   {
    "duration": 114,
    "start_time": "2021-08-30T09:10:11.612Z"
   },
   {
    "duration": 23,
    "start_time": "2021-08-30T09:10:16.558Z"
   },
   {
    "duration": 48,
    "start_time": "2021-08-30T09:10:46.005Z"
   },
   {
    "duration": 24,
    "start_time": "2021-08-30T09:17:24.579Z"
   },
   {
    "duration": 14,
    "start_time": "2021-08-30T09:30:50.357Z"
   },
   {
    "duration": 13,
    "start_time": "2021-08-30T09:30:58.157Z"
   },
   {
    "duration": 37,
    "start_time": "2021-08-30T09:31:03.904Z"
   },
   {
    "duration": 7,
    "start_time": "2021-08-30T09:53:40.312Z"
   },
   {
    "duration": 7,
    "start_time": "2021-08-30T09:53:43.454Z"
   },
   {
    "duration": 427,
    "start_time": "2021-08-30T09:55:01.918Z"
   },
   {
    "duration": 298,
    "start_time": "2021-08-30T09:55:10.605Z"
   },
   {
    "duration": 279,
    "start_time": "2021-08-30T09:55:28.329Z"
   },
   {
    "duration": 5,
    "start_time": "2021-08-30T09:55:32.961Z"
   },
   {
    "duration": 7,
    "start_time": "2021-08-30T09:55:41.379Z"
   },
   {
    "duration": 317,
    "start_time": "2021-08-30T09:56:00.150Z"
   },
   {
    "duration": 6,
    "start_time": "2021-08-30T09:56:09.290Z"
   },
   {
    "duration": 10,
    "start_time": "2021-08-30T09:56:10.270Z"
   },
   {
    "duration": 6,
    "start_time": "2021-08-30T09:56:49.113Z"
   },
   {
    "duration": 14,
    "start_time": "2021-08-30T09:56:50.083Z"
   },
   {
    "duration": 6,
    "start_time": "2021-08-30T09:57:48.958Z"
   },
   {
    "duration": 10,
    "start_time": "2021-08-30T09:57:49.159Z"
   },
   {
    "duration": 90,
    "start_time": "2021-08-30T09:58:33.537Z"
   },
   {
    "duration": 80,
    "start_time": "2021-08-30T09:58:39.713Z"
   },
   {
    "duration": 5,
    "start_time": "2021-08-30T09:58:48.066Z"
   },
   {
    "duration": 10,
    "start_time": "2021-08-30T09:58:48.943Z"
   },
   {
    "duration": 5,
    "start_time": "2021-08-30T09:59:03.710Z"
   },
   {
    "duration": 9,
    "start_time": "2021-08-30T09:59:04.168Z"
   },
   {
    "duration": 5,
    "start_time": "2021-08-30T09:59:11.247Z"
   },
   {
    "duration": 10,
    "start_time": "2021-08-30T09:59:11.735Z"
   },
   {
    "duration": 283,
    "start_time": "2021-08-30T09:59:23.662Z"
   },
   {
    "duration": 7,
    "start_time": "2021-08-30T09:59:27.830Z"
   },
   {
    "duration": 12,
    "start_time": "2021-08-30T09:59:28.506Z"
   },
   {
    "duration": 714,
    "start_time": "2021-08-30T09:59:56.841Z"
   },
   {
    "duration": 70,
    "start_time": "2021-08-30T09:59:57.558Z"
   },
   {
    "duration": 15,
    "start_time": "2021-08-30T09:59:57.630Z"
   },
   {
    "duration": 57,
    "start_time": "2021-08-30T09:59:57.648Z"
   },
   {
    "duration": 48,
    "start_time": "2021-08-30T09:59:57.708Z"
   },
   {
    "duration": 34,
    "start_time": "2021-08-30T09:59:57.759Z"
   },
   {
    "duration": 39,
    "start_time": "2021-08-30T09:59:57.796Z"
   },
   {
    "duration": 75,
    "start_time": "2021-08-30T09:59:57.839Z"
   },
   {
    "duration": 7,
    "start_time": "2021-08-30T09:59:57.917Z"
   },
   {
    "duration": 62,
    "start_time": "2021-08-30T09:59:57.927Z"
   },
   {
    "duration": 12,
    "start_time": "2021-08-30T09:59:57.992Z"
   },
   {
    "duration": 21,
    "start_time": "2021-08-30T09:59:58.007Z"
   },
   {
    "duration": 5,
    "start_time": "2021-08-30T09:59:58.031Z"
   },
   {
    "duration": 50,
    "start_time": "2021-08-30T09:59:58.039Z"
   },
   {
    "duration": 18,
    "start_time": "2021-08-30T09:59:58.092Z"
   },
   {
    "duration": 7,
    "start_time": "2021-08-30T10:00:39.260Z"
   },
   {
    "duration": 32,
    "start_time": "2021-08-30T10:00:41.404Z"
   },
   {
    "duration": 745,
    "start_time": "2021-08-30T10:01:49.790Z"
   },
   {
    "duration": 65,
    "start_time": "2021-08-30T10:01:50.538Z"
   },
   {
    "duration": 16,
    "start_time": "2021-08-30T10:01:50.606Z"
   },
   {
    "duration": 31,
    "start_time": "2021-08-30T10:01:50.625Z"
   },
   {
    "duration": 53,
    "start_time": "2021-08-30T10:01:50.683Z"
   },
   {
    "duration": 13,
    "start_time": "2021-08-30T10:01:50.739Z"
   },
   {
    "duration": 63,
    "start_time": "2021-08-30T10:01:50.754Z"
   },
   {
    "duration": 35,
    "start_time": "2021-08-30T10:01:50.821Z"
   },
   {
    "duration": 8,
    "start_time": "2021-08-30T10:01:50.883Z"
   },
   {
    "duration": 34,
    "start_time": "2021-08-30T10:01:50.894Z"
   },
   {
    "duration": 13,
    "start_time": "2021-08-30T10:01:50.931Z"
   },
   {
    "duration": 56,
    "start_time": "2021-08-30T10:01:50.946Z"
   },
   {
    "duration": 7,
    "start_time": "2021-08-30T10:01:51.005Z"
   },
   {
    "duration": 17,
    "start_time": "2021-08-30T10:01:51.014Z"
   },
   {
    "duration": 16,
    "start_time": "2021-08-30T10:01:51.033Z"
   },
   {
    "duration": 45,
    "start_time": "2021-08-30T10:17:21.022Z"
   },
   {
    "duration": 9,
    "start_time": "2021-08-30T10:24:07.108Z"
   },
   {
    "duration": 740,
    "start_time": "2021-08-30T10:24:38.276Z"
   },
   {
    "duration": 72,
    "start_time": "2021-08-30T10:24:39.019Z"
   },
   {
    "duration": 15,
    "start_time": "2021-08-30T10:24:39.094Z"
   },
   {
    "duration": 33,
    "start_time": "2021-08-30T10:24:39.112Z"
   },
   {
    "duration": 69,
    "start_time": "2021-08-30T10:24:39.147Z"
   },
   {
    "duration": 12,
    "start_time": "2021-08-30T10:24:39.218Z"
   },
   {
    "duration": 64,
    "start_time": "2021-08-30T10:24:39.232Z"
   },
   {
    "duration": 11,
    "start_time": "2021-08-30T10:24:39.301Z"
   },
   {
    "duration": 12,
    "start_time": "2021-08-30T10:24:39.315Z"
   },
   {
    "duration": 56,
    "start_time": "2021-08-30T10:24:39.330Z"
   },
   {
    "duration": 49,
    "start_time": "2021-08-30T10:24:39.395Z"
   },
   {
    "duration": 6,
    "start_time": "2021-08-30T10:24:39.446Z"
   },
   {
    "duration": 32,
    "start_time": "2021-08-30T10:24:39.454Z"
   },
   {
    "duration": 8,
    "start_time": "2021-08-30T10:24:39.488Z"
   },
   {
    "duration": 12,
    "start_time": "2021-08-30T10:24:39.498Z"
   },
   {
    "duration": 13,
    "start_time": "2021-08-30T10:24:39.513Z"
   },
   {
    "duration": 796,
    "start_time": "2021-08-30T10:30:34.562Z"
   },
   {
    "duration": 75,
    "start_time": "2021-08-30T10:30:35.360Z"
   },
   {
    "duration": 15,
    "start_time": "2021-08-30T10:30:35.438Z"
   },
   {
    "duration": 56,
    "start_time": "2021-08-30T10:30:35.456Z"
   },
   {
    "duration": 49,
    "start_time": "2021-08-30T10:30:35.514Z"
   },
   {
    "duration": 16,
    "start_time": "2021-08-30T10:30:35.582Z"
   },
   {
    "duration": 43,
    "start_time": "2021-08-30T10:30:35.601Z"
   },
   {
    "duration": 43,
    "start_time": "2021-08-30T10:30:35.647Z"
   },
   {
    "duration": 26,
    "start_time": "2021-08-30T10:30:35.693Z"
   },
   {
    "duration": 104,
    "start_time": "2021-08-30T10:30:35.723Z"
   },
   {
    "duration": 49,
    "start_time": "2021-08-30T10:30:35.830Z"
   },
   {
    "duration": 6,
    "start_time": "2021-08-30T10:30:35.881Z"
   },
   {
    "duration": 17,
    "start_time": "2021-08-30T10:30:35.890Z"
   },
   {
    "duration": 16,
    "start_time": "2021-08-30T10:30:35.910Z"
   },
   {
    "duration": 20,
    "start_time": "2021-08-30T10:30:35.929Z"
   },
   {
    "duration": 49,
    "start_time": "2021-08-30T10:30:35.952Z"
   },
   {
    "duration": 747,
    "start_time": "2021-08-30T10:37:24.322Z"
   },
   {
    "duration": 75,
    "start_time": "2021-08-30T10:37:25.071Z"
   },
   {
    "duration": 13,
    "start_time": "2021-08-30T10:37:25.149Z"
   },
   {
    "duration": 48,
    "start_time": "2021-08-30T10:37:25.165Z"
   },
   {
    "duration": 68,
    "start_time": "2021-08-30T10:37:25.216Z"
   },
   {
    "duration": 25,
    "start_time": "2021-08-30T10:37:25.291Z"
   },
   {
    "duration": 35,
    "start_time": "2021-08-30T10:37:25.318Z"
   },
   {
    "duration": 45,
    "start_time": "2021-08-30T10:37:25.357Z"
   },
   {
    "duration": 11,
    "start_time": "2021-08-30T10:37:25.406Z"
   },
   {
    "duration": 23,
    "start_time": "2021-08-30T10:37:25.419Z"
   },
   {
    "duration": 60,
    "start_time": "2021-08-30T10:37:25.444Z"
   },
   {
    "duration": 6,
    "start_time": "2021-08-30T10:37:25.506Z"
   },
   {
    "duration": 18,
    "start_time": "2021-08-30T10:37:25.514Z"
   },
   {
    "duration": 14,
    "start_time": "2021-08-30T10:37:25.535Z"
   },
   {
    "duration": 17,
    "start_time": "2021-08-30T10:37:25.551Z"
   },
   {
    "duration": 21,
    "start_time": "2021-08-30T10:37:25.582Z"
   },
   {
    "duration": 14,
    "start_time": "2021-08-30T10:38:57.360Z"
   },
   {
    "duration": 4,
    "start_time": "2021-08-30T10:44:28.766Z"
   },
   {
    "duration": 715,
    "start_time": "2021-08-30T10:55:38.361Z"
   },
   {
    "duration": 64,
    "start_time": "2021-08-30T10:55:39.079Z"
   },
   {
    "duration": 15,
    "start_time": "2021-08-30T10:55:39.148Z"
   },
   {
    "duration": 44,
    "start_time": "2021-08-30T10:55:39.166Z"
   },
   {
    "duration": 71,
    "start_time": "2021-08-30T10:55:39.212Z"
   },
   {
    "duration": 12,
    "start_time": "2021-08-30T10:55:39.286Z"
   },
   {
    "duration": 34,
    "start_time": "2021-08-30T10:55:39.302Z"
   },
   {
    "duration": 46,
    "start_time": "2021-08-30T10:55:39.339Z"
   },
   {
    "duration": 9,
    "start_time": "2021-08-30T10:55:39.387Z"
   },
   {
    "duration": 26,
    "start_time": "2021-08-30T10:55:39.399Z"
   },
   {
    "duration": 15,
    "start_time": "2021-08-30T10:55:39.427Z"
   },
   {
    "duration": 70,
    "start_time": "2021-08-30T10:55:39.445Z"
   },
   {
    "duration": 6,
    "start_time": "2021-08-30T10:55:39.517Z"
   },
   {
    "duration": 13,
    "start_time": "2021-08-30T10:55:39.525Z"
   },
   {
    "duration": 6,
    "start_time": "2021-08-30T10:55:39.540Z"
   },
   {
    "duration": 36,
    "start_time": "2021-08-30T10:55:39.549Z"
   },
   {
    "duration": 13,
    "start_time": "2021-08-30T10:55:39.588Z"
   },
   {
    "duration": 26,
    "start_time": "2021-08-30T11:03:46.908Z"
   },
   {
    "duration": 709,
    "start_time": "2021-08-30T11:06:36.795Z"
   },
   {
    "duration": 61,
    "start_time": "2021-08-30T11:06:37.507Z"
   },
   {
    "duration": 14,
    "start_time": "2021-08-30T11:06:37.571Z"
   },
   {
    "duration": 29,
    "start_time": "2021-08-30T11:06:37.588Z"
   },
   {
    "duration": 67,
    "start_time": "2021-08-30T11:06:37.620Z"
   },
   {
    "duration": 12,
    "start_time": "2021-08-30T11:06:37.690Z"
   },
   {
    "duration": 38,
    "start_time": "2021-08-30T11:06:37.704Z"
   },
   {
    "duration": 37,
    "start_time": "2021-08-30T11:06:37.746Z"
   },
   {
    "duration": 12,
    "start_time": "2021-08-30T11:06:37.786Z"
   },
   {
    "duration": 28,
    "start_time": "2021-08-30T11:06:37.801Z"
   },
   {
    "duration": 21,
    "start_time": "2021-08-30T11:06:37.832Z"
   },
   {
    "duration": 42,
    "start_time": "2021-08-30T11:06:37.855Z"
   },
   {
    "duration": 5,
    "start_time": "2021-08-30T11:06:37.899Z"
   },
   {
    "duration": 31,
    "start_time": "2021-08-30T11:06:37.906Z"
   },
   {
    "duration": 8,
    "start_time": "2021-08-30T11:06:37.940Z"
   },
   {
    "duration": 16,
    "start_time": "2021-08-30T11:06:37.951Z"
   },
   {
    "duration": 20,
    "start_time": "2021-08-30T11:06:37.970Z"
   },
   {
    "duration": 394,
    "start_time": "2021-08-30T11:30:46.886Z"
   },
   {
    "duration": 279,
    "start_time": "2021-08-30T11:31:03.565Z"
   },
   {
    "duration": 292,
    "start_time": "2021-08-30T11:31:27.370Z"
   },
   {
    "duration": 8,
    "start_time": "2021-08-30T11:31:53.917Z"
   },
   {
    "duration": 5,
    "start_time": "2021-08-30T11:36:39.952Z"
   },
   {
    "duration": 6,
    "start_time": "2021-08-30T11:36:57.704Z"
   },
   {
    "duration": 9,
    "start_time": "2021-08-30T11:37:06.226Z"
   },
   {
    "duration": 101,
    "start_time": "2021-08-30T12:00:48.960Z"
   },
   {
    "duration": 4,
    "start_time": "2021-08-30T12:38:11.057Z"
   },
   {
    "duration": 32,
    "start_time": "2021-08-30T12:38:20.045Z"
   },
   {
    "duration": 8,
    "start_time": "2021-08-30T12:41:27.100Z"
   },
   {
    "duration": 18,
    "start_time": "2021-08-30T12:42:31.946Z"
   },
   {
    "duration": 13,
    "start_time": "2021-08-30T12:44:47.011Z"
   },
   {
    "duration": 12,
    "start_time": "2021-08-30T12:50:03.458Z"
   },
   {
    "duration": 328,
    "start_time": "2021-08-30T12:51:19.522Z"
   },
   {
    "duration": 45,
    "start_time": "2021-08-30T12:51:43.359Z"
   },
   {
    "duration": 16,
    "start_time": "2021-08-30T12:52:11.442Z"
   },
   {
    "duration": 10,
    "start_time": "2021-08-30T12:52:44.528Z"
   },
   {
    "duration": 7,
    "start_time": "2021-08-30T12:56:31.429Z"
   },
   {
    "duration": 7,
    "start_time": "2021-08-30T12:56:32.065Z"
   },
   {
    "duration": 8,
    "start_time": "2021-08-30T12:57:02.393Z"
   },
   {
    "duration": 7,
    "start_time": "2021-08-30T12:57:03.389Z"
   },
   {
    "duration": 7,
    "start_time": "2021-08-30T12:57:16.857Z"
   },
   {
    "duration": 33,
    "start_time": "2021-08-30T12:57:27.019Z"
   },
   {
    "duration": 16,
    "start_time": "2021-08-30T12:57:28.159Z"
   },
   {
    "duration": 45,
    "start_time": "2021-08-30T12:59:44.635Z"
   },
   {
    "duration": 61,
    "start_time": "2021-08-30T13:00:44.880Z"
   },
   {
    "duration": 41,
    "start_time": "2021-08-30T13:03:02.071Z"
   },
   {
    "duration": 664,
    "start_time": "2021-08-30T13:16:00.176Z"
   },
   {
    "duration": 724,
    "start_time": "2021-08-30T13:17:36.606Z"
   },
   {
    "duration": 93,
    "start_time": "2021-08-30T13:19:10.712Z"
   },
   {
    "duration": 86,
    "start_time": "2021-08-30T13:19:30.422Z"
   },
   {
    "duration": 715,
    "start_time": "2021-08-30T13:20:15.822Z"
   },
   {
    "duration": 255,
    "start_time": "2021-08-30T13:26:41.613Z"
   },
   {
    "duration": 16,
    "start_time": "2021-08-30T13:27:31.716Z"
   },
   {
    "duration": 4555,
    "start_time": "2021-08-30T13:30:47.422Z"
   },
   {
    "duration": 6,
    "start_time": "2021-08-30T13:33:17.170Z"
   },
   {
    "duration": 279,
    "start_time": "2021-08-30T13:33:40.580Z"
   },
   {
    "duration": 20,
    "start_time": "2021-08-30T13:33:46.988Z"
   },
   {
    "duration": 10,
    "start_time": "2021-08-30T13:37:03.243Z"
   },
   {
    "duration": 10,
    "start_time": "2021-08-30T13:38:07.757Z"
   },
   {
    "duration": 237,
    "start_time": "2021-08-30T13:40:17.135Z"
   },
   {
    "duration": 10,
    "start_time": "2021-08-30T13:46:26.572Z"
   },
   {
    "duration": 20,
    "start_time": "2021-08-30T13:46:36.407Z"
   },
   {
    "duration": 39,
    "start_time": "2021-08-30T13:46:43.671Z"
   },
   {
    "duration": 5,
    "start_time": "2021-08-30T13:47:07.519Z"
   },
   {
    "duration": 35,
    "start_time": "2021-08-30T13:47:08.824Z"
   },
   {
    "duration": 303,
    "start_time": "2021-08-30T13:47:40.095Z"
   },
   {
    "duration": 298,
    "start_time": "2021-08-30T13:47:47.640Z"
   },
   {
    "duration": 5,
    "start_time": "2021-08-30T13:49:07.962Z"
   },
   {
    "duration": 41,
    "start_time": "2021-08-30T13:49:08.858Z"
   },
   {
    "duration": 276,
    "start_time": "2021-08-30T13:49:39.570Z"
   },
   {
    "duration": 42,
    "start_time": "2021-08-30T13:49:45.674Z"
   },
   {
    "duration": 42,
    "start_time": "2021-08-30T13:49:47.329Z"
   },
   {
    "duration": 38,
    "start_time": "2021-08-30T13:50:08.181Z"
   },
   {
    "duration": 37,
    "start_time": "2021-08-30T13:50:11.360Z"
   },
   {
    "duration": 450,
    "start_time": "2021-08-30T14:01:37.480Z"
   },
   {
    "duration": 4393,
    "start_time": "2021-08-30T14:01:54.453Z"
   },
   {
    "duration": -260,
    "start_time": "2021-08-30T14:01:59.108Z"
   },
   {
    "duration": 357,
    "start_time": "2021-08-30T14:04:08.117Z"
   },
   {
    "duration": 590,
    "start_time": "2021-08-30T14:04:19.181Z"
   },
   {
    "duration": 56,
    "start_time": "2021-08-30T14:04:19.773Z"
   },
   {
    "duration": 18,
    "start_time": "2021-08-30T14:04:19.831Z"
   },
   {
    "duration": 22,
    "start_time": "2021-08-30T14:04:19.852Z"
   },
   {
    "duration": 33,
    "start_time": "2021-08-30T14:04:19.877Z"
   },
   {
    "duration": 37,
    "start_time": "2021-08-30T14:04:19.913Z"
   },
   {
    "duration": 25,
    "start_time": "2021-08-30T14:04:19.952Z"
   },
   {
    "duration": 9,
    "start_time": "2021-08-30T14:04:19.980Z"
   },
   {
    "duration": 9,
    "start_time": "2021-08-30T14:04:19.991Z"
   },
   {
    "duration": 45,
    "start_time": "2021-08-30T14:04:20.002Z"
   },
   {
    "duration": 8,
    "start_time": "2021-08-30T14:04:20.049Z"
   },
   {
    "duration": 4,
    "start_time": "2021-08-30T14:04:20.059Z"
   },
   {
    "duration": 6,
    "start_time": "2021-08-30T14:04:20.065Z"
   },
   {
    "duration": 98,
    "start_time": "2021-08-30T14:04:20.073Z"
   },
   {
    "duration": -194,
    "start_time": "2021-08-30T14:04:20.368Z"
   },
   {
    "duration": -196,
    "start_time": "2021-08-30T14:04:20.371Z"
   },
   {
    "duration": -208,
    "start_time": "2021-08-30T14:04:20.384Z"
   },
   {
    "duration": -210,
    "start_time": "2021-08-30T14:04:20.388Z"
   },
   {
    "duration": -220,
    "start_time": "2021-08-30T14:04:20.400Z"
   },
   {
    "duration": -222,
    "start_time": "2021-08-30T14:04:20.403Z"
   },
   {
    "duration": -226,
    "start_time": "2021-08-30T14:04:20.409Z"
   },
   {
    "duration": -236,
    "start_time": "2021-08-30T14:04:20.420Z"
   },
   {
    "duration": -239,
    "start_time": "2021-08-30T14:04:20.425Z"
   },
   {
    "duration": -248,
    "start_time": "2021-08-30T14:04:20.435Z"
   },
   {
    "duration": -252,
    "start_time": "2021-08-30T14:04:20.441Z"
   },
   {
    "duration": -262,
    "start_time": "2021-08-30T14:04:20.452Z"
   },
   {
    "duration": -267,
    "start_time": "2021-08-30T14:04:20.457Z"
   },
   {
    "duration": -279,
    "start_time": "2021-08-30T14:04:20.470Z"
   },
   {
    "duration": -285,
    "start_time": "2021-08-30T14:04:20.477Z"
   },
   {
    "duration": -299,
    "start_time": "2021-08-30T14:04:20.492Z"
   },
   {
    "duration": -309,
    "start_time": "2021-08-30T14:04:20.503Z"
   },
   {
    "duration": -312,
    "start_time": "2021-08-30T14:04:20.507Z"
   },
   {
    "duration": 573,
    "start_time": "2021-08-30T14:05:19.288Z"
   },
   {
    "duration": 54,
    "start_time": "2021-08-30T14:05:19.863Z"
   },
   {
    "duration": 12,
    "start_time": "2021-08-30T14:05:19.919Z"
   },
   {
    "duration": 36,
    "start_time": "2021-08-30T14:05:19.934Z"
   },
   {
    "duration": 43,
    "start_time": "2021-08-30T14:05:19.972Z"
   },
   {
    "duration": 10,
    "start_time": "2021-08-30T14:05:20.017Z"
   },
   {
    "duration": 40,
    "start_time": "2021-08-30T14:05:20.029Z"
   },
   {
    "duration": 7,
    "start_time": "2021-08-30T14:05:20.072Z"
   },
   {
    "duration": 20,
    "start_time": "2021-08-30T14:05:20.081Z"
   },
   {
    "duration": 16,
    "start_time": "2021-08-30T14:05:20.102Z"
   },
   {
    "duration": 6,
    "start_time": "2021-08-30T14:05:20.120Z"
   },
   {
    "duration": 5,
    "start_time": "2021-08-30T14:05:20.127Z"
   },
   {
    "duration": 9,
    "start_time": "2021-08-30T14:05:20.134Z"
   },
   {
    "duration": 114,
    "start_time": "2021-08-30T14:05:20.145Z"
   },
   {
    "duration": -173,
    "start_time": "2021-08-30T14:05:20.434Z"
   },
   {
    "duration": -179,
    "start_time": "2021-08-30T14:05:20.441Z"
   },
   {
    "duration": -207,
    "start_time": "2021-08-30T14:05:20.470Z"
   },
   {
    "duration": -211,
    "start_time": "2021-08-30T14:05:20.475Z"
   },
   {
    "duration": -221,
    "start_time": "2021-08-30T14:05:20.486Z"
   },
   {
    "duration": -226,
    "start_time": "2021-08-30T14:05:20.492Z"
   },
   {
    "duration": -235,
    "start_time": "2021-08-30T14:05:20.502Z"
   },
   {
    "duration": -240,
    "start_time": "2021-08-30T14:05:20.508Z"
   },
   {
    "duration": -249,
    "start_time": "2021-08-30T14:05:20.518Z"
   },
   {
    "duration": -252,
    "start_time": "2021-08-30T14:05:20.522Z"
   },
   {
    "duration": -262,
    "start_time": "2021-08-30T14:05:20.533Z"
   },
   {
    "duration": -264,
    "start_time": "2021-08-30T14:05:20.536Z"
   },
   {
    "duration": -267,
    "start_time": "2021-08-30T14:05:20.540Z"
   },
   {
    "duration": -277,
    "start_time": "2021-08-30T14:05:20.551Z"
   },
   {
    "duration": -280,
    "start_time": "2021-08-30T14:05:20.555Z"
   },
   {
    "duration": -289,
    "start_time": "2021-08-30T14:05:20.565Z"
   },
   {
    "duration": -292,
    "start_time": "2021-08-30T14:05:20.569Z"
   },
   {
    "duration": 6,
    "start_time": "2021-08-30T14:05:39.597Z"
   },
   {
    "duration": 597,
    "start_time": "2021-08-30T14:06:00.674Z"
   },
   {
    "duration": 57,
    "start_time": "2021-08-30T14:06:01.273Z"
   },
   {
    "duration": 14,
    "start_time": "2021-08-30T14:06:01.332Z"
   },
   {
    "duration": 39,
    "start_time": "2021-08-30T14:06:01.348Z"
   },
   {
    "duration": 46,
    "start_time": "2021-08-30T14:06:01.389Z"
   },
   {
    "duration": 11,
    "start_time": "2021-08-30T14:06:01.437Z"
   },
   {
    "duration": 34,
    "start_time": "2021-08-30T14:06:01.449Z"
   },
   {
    "duration": 22,
    "start_time": "2021-08-30T14:06:01.486Z"
   },
   {
    "duration": 27,
    "start_time": "2021-08-30T14:06:01.510Z"
   },
   {
    "duration": 18,
    "start_time": "2021-08-30T14:06:01.538Z"
   },
   {
    "duration": 27,
    "start_time": "2021-08-30T14:06:01.558Z"
   },
   {
    "duration": 24,
    "start_time": "2021-08-30T14:06:01.587Z"
   },
   {
    "duration": 44,
    "start_time": "2021-08-30T14:06:01.613Z"
   },
   {
    "duration": 29,
    "start_time": "2021-08-30T14:06:01.659Z"
   },
   {
    "duration": 34,
    "start_time": "2021-08-30T14:06:01.689Z"
   },
   {
    "duration": 48,
    "start_time": "2021-08-30T14:06:01.725Z"
   },
   {
    "duration": 11,
    "start_time": "2021-08-30T14:06:01.775Z"
   },
   {
    "duration": 14,
    "start_time": "2021-08-30T14:06:01.788Z"
   },
   {
    "duration": 35,
    "start_time": "2021-08-30T14:06:01.803Z"
   },
   {
    "duration": 373,
    "start_time": "2021-08-30T14:06:01.841Z"
   },
   {
    "duration": -255,
    "start_time": "2021-08-30T14:06:02.471Z"
   },
   {
    "duration": -309,
    "start_time": "2021-08-30T14:06:02.526Z"
   },
   {
    "duration": -361,
    "start_time": "2021-08-30T14:06:02.580Z"
   },
   {
    "duration": -416,
    "start_time": "2021-08-30T14:06:02.636Z"
   },
   {
    "duration": -422,
    "start_time": "2021-08-30T14:06:02.643Z"
   },
   {
    "duration": -430,
    "start_time": "2021-08-30T14:06:02.652Z"
   },
   {
    "duration": -434,
    "start_time": "2021-08-30T14:06:02.657Z"
   },
   {
    "duration": -439,
    "start_time": "2021-08-30T14:06:02.663Z"
   },
   {
    "duration": -445,
    "start_time": "2021-08-30T14:06:02.670Z"
   },
   {
    "duration": -449,
    "start_time": "2021-08-30T14:06:02.675Z"
   },
   {
    "duration": -454,
    "start_time": "2021-08-30T14:06:02.681Z"
   },
   {
    "duration": 5,
    "start_time": "2021-08-30T14:07:11.938Z"
   },
   {
    "duration": 22,
    "start_time": "2021-08-30T14:07:15.858Z"
   },
   {
    "duration": 117,
    "start_time": "2021-08-30T14:07:43.233Z"
   },
   {
    "duration": 92,
    "start_time": "2021-08-30T14:07:50.287Z"
   },
   {
    "duration": 100,
    "start_time": "2021-08-30T14:07:59.821Z"
   },
   {
    "duration": 180,
    "start_time": "2021-08-30T14:11:01.608Z"
   },
   {
    "duration": 10,
    "start_time": "2021-08-30T14:11:18.820Z"
   },
   {
    "duration": 24,
    "start_time": "2021-08-30T14:11:19.920Z"
   },
   {
    "duration": 102,
    "start_time": "2021-08-30T14:11:46.665Z"
   },
   {
    "duration": 93,
    "start_time": "2021-08-30T14:11:59.313Z"
   },
   {
    "duration": 134,
    "start_time": "2021-08-30T14:12:45.059Z"
   },
   {
    "duration": 95,
    "start_time": "2021-08-30T14:13:19.693Z"
   },
   {
    "duration": 97,
    "start_time": "2021-08-30T14:13:27.980Z"
   },
   {
    "duration": 8,
    "start_time": "2021-08-30T14:16:44.218Z"
   },
   {
    "duration": 27,
    "start_time": "2021-08-30T14:16:47.438Z"
   },
   {
    "duration": 730,
    "start_time": "2021-08-30T14:17:27.829Z"
   },
   {
    "duration": 16,
    "start_time": "2021-08-30T14:19:01.104Z"
   },
   {
    "duration": 39,
    "start_time": "2021-08-30T14:19:02.231Z"
   },
   {
    "duration": 13,
    "start_time": "2021-08-30T14:20:51.411Z"
   },
   {
    "duration": 25,
    "start_time": "2021-08-30T14:20:53.372Z"
   },
   {
    "duration": 8,
    "start_time": "2021-08-30T14:21:27.299Z"
   },
   {
    "duration": 23,
    "start_time": "2021-08-30T14:21:28.159Z"
   },
   {
    "duration": 9,
    "start_time": "2021-08-30T14:21:56.357Z"
   },
   {
    "duration": 25,
    "start_time": "2021-08-30T14:21:57.384Z"
   },
   {
    "duration": 1604,
    "start_time": "2021-08-30T14:22:31.140Z"
   },
   {
    "duration": -350,
    "start_time": "2021-08-30T14:22:33.096Z"
   },
   {
    "duration": 10,
    "start_time": "2021-08-30T14:24:00.957Z"
   },
   {
    "duration": 24,
    "start_time": "2021-08-30T14:24:02.142Z"
   },
   {
    "duration": 90,
    "start_time": "2021-08-30T14:24:21.943Z"
   },
   {
    "duration": 93,
    "start_time": "2021-08-30T14:24:30.775Z"
   },
   {
    "duration": 4,
    "start_time": "2021-08-30T14:25:20.078Z"
   },
   {
    "duration": 7,
    "start_time": "2021-08-30T14:25:25.949Z"
   },
   {
    "duration": 7,
    "start_time": "2021-08-30T14:25:40.658Z"
   },
   {
    "duration": 33,
    "start_time": "2021-08-30T14:25:41.331Z"
   },
   {
    "duration": 634,
    "start_time": "2021-08-30T14:26:11.535Z"
   },
   {
    "duration": 54,
    "start_time": "2021-08-30T14:26:12.171Z"
   },
   {
    "duration": 13,
    "start_time": "2021-08-30T14:26:12.227Z"
   },
   {
    "duration": 24,
    "start_time": "2021-08-30T14:26:12.242Z"
   },
   {
    "duration": 48,
    "start_time": "2021-08-30T14:26:12.268Z"
   },
   {
    "duration": 10,
    "start_time": "2021-08-30T14:26:12.318Z"
   },
   {
    "duration": 28,
    "start_time": "2021-08-30T14:26:12.330Z"
   },
   {
    "duration": 9,
    "start_time": "2021-08-30T14:26:12.362Z"
   },
   {
    "duration": 12,
    "start_time": "2021-08-30T14:26:12.373Z"
   },
   {
    "duration": 13,
    "start_time": "2021-08-30T14:26:12.387Z"
   },
   {
    "duration": 40,
    "start_time": "2021-08-30T14:26:12.403Z"
   },
   {
    "duration": 7,
    "start_time": "2021-08-30T14:26:12.445Z"
   },
   {
    "duration": 10,
    "start_time": "2021-08-30T14:26:12.453Z"
   },
   {
    "duration": 10,
    "start_time": "2021-08-30T14:26:12.465Z"
   },
   {
    "duration": 16,
    "start_time": "2021-08-30T14:26:12.477Z"
   },
   {
    "duration": 48,
    "start_time": "2021-08-30T14:26:12.494Z"
   },
   {
    "duration": 13,
    "start_time": "2021-08-30T14:26:12.544Z"
   },
   {
    "duration": 13,
    "start_time": "2021-08-30T14:26:12.559Z"
   },
   {
    "duration": 30,
    "start_time": "2021-08-30T14:26:12.574Z"
   },
   {
    "duration": 349,
    "start_time": "2021-08-30T14:26:12.606Z"
   },
   {
    "duration": -268,
    "start_time": "2021-08-30T14:26:13.226Z"
   },
   {
    "duration": -272,
    "start_time": "2021-08-30T14:26:13.231Z"
   },
   {
    "duration": -277,
    "start_time": "2021-08-30T14:26:13.237Z"
   },
   {
    "duration": -282,
    "start_time": "2021-08-30T14:26:13.243Z"
   },
   {
    "duration": -286,
    "start_time": "2021-08-30T14:26:13.248Z"
   },
   {
    "duration": -294,
    "start_time": "2021-08-30T14:26:13.257Z"
   },
   {
    "duration": -302,
    "start_time": "2021-08-30T14:26:13.266Z"
   },
   {
    "duration": -312,
    "start_time": "2021-08-30T14:26:13.278Z"
   },
   {
    "duration": -318,
    "start_time": "2021-08-30T14:26:13.285Z"
   },
   {
    "duration": -324,
    "start_time": "2021-08-30T14:26:13.291Z"
   },
   {
    "duration": -328,
    "start_time": "2021-08-30T14:26:13.296Z"
   },
   {
    "duration": 5,
    "start_time": "2021-08-30T14:28:31.678Z"
   },
   {
    "duration": 5,
    "start_time": "2021-08-30T14:28:32.666Z"
   },
   {
    "duration": 18,
    "start_time": "2021-08-30T14:28:38.723Z"
   },
   {
    "duration": 6,
    "start_time": "2021-08-30T14:28:39.238Z"
   },
   {
    "duration": 8,
    "start_time": "2021-08-30T14:29:01.402Z"
   },
   {
    "duration": 359,
    "start_time": "2021-08-30T14:29:31.584Z"
   },
   {
    "duration": 8,
    "start_time": "2021-08-30T14:29:36.305Z"
   },
   {
    "duration": 6,
    "start_time": "2021-08-30T14:29:37.957Z"
   },
   {
    "duration": 6,
    "start_time": "2021-08-30T14:29:45.069Z"
   },
   {
    "duration": 6,
    "start_time": "2021-08-30T14:29:45.680Z"
   },
   {
    "duration": 23,
    "start_time": "2021-08-30T14:29:51.955Z"
   },
   {
    "duration": 9,
    "start_time": "2021-08-30T14:30:25.673Z"
   },
   {
    "duration": 288,
    "start_time": "2021-08-30T14:30:34.732Z"
   },
   {
    "duration": 6,
    "start_time": "2021-08-30T14:30:45.191Z"
   },
   {
    "duration": 12,
    "start_time": "2021-08-30T14:31:23.757Z"
   },
   {
    "duration": 1114,
    "start_time": "2021-08-30T14:32:44.890Z"
   },
   {
    "duration": 1134,
    "start_time": "2021-08-30T14:33:13.809Z"
   },
   {
    "duration": 695,
    "start_time": "2021-08-30T14:33:33.301Z"
   },
   {
    "duration": 63,
    "start_time": "2021-08-30T14:33:33.998Z"
   },
   {
    "duration": 12,
    "start_time": "2021-08-30T14:33:34.063Z"
   },
   {
    "duration": 24,
    "start_time": "2021-08-30T14:33:34.077Z"
   },
   {
    "duration": 52,
    "start_time": "2021-08-30T14:33:34.103Z"
   },
   {
    "duration": 13,
    "start_time": "2021-08-30T14:33:34.156Z"
   },
   {
    "duration": 27,
    "start_time": "2021-08-30T14:33:34.172Z"
   },
   {
    "duration": 41,
    "start_time": "2021-08-30T14:33:34.203Z"
   },
   {
    "duration": 8,
    "start_time": "2021-08-30T14:33:34.247Z"
   },
   {
    "duration": 12,
    "start_time": "2021-08-30T14:33:34.257Z"
   },
   {
    "duration": 6,
    "start_time": "2021-08-30T14:33:34.272Z"
   },
   {
    "duration": 5,
    "start_time": "2021-08-30T14:33:34.280Z"
   },
   {
    "duration": 5,
    "start_time": "2021-08-30T14:33:34.286Z"
   },
   {
    "duration": 7,
    "start_time": "2021-08-30T14:33:34.293Z"
   },
   {
    "duration": 40,
    "start_time": "2021-08-30T14:33:34.302Z"
   },
   {
    "duration": 37,
    "start_time": "2021-08-30T14:33:34.344Z"
   },
   {
    "duration": 11,
    "start_time": "2021-08-30T14:33:34.382Z"
   },
   {
    "duration": 7,
    "start_time": "2021-08-30T14:33:34.395Z"
   },
   {
    "duration": 7,
    "start_time": "2021-08-30T14:33:34.404Z"
   },
   {
    "duration": 505,
    "start_time": "2021-08-30T14:33:34.441Z"
   },
   {
    "duration": -181,
    "start_time": "2021-08-30T14:33:35.129Z"
   },
   {
    "duration": -190,
    "start_time": "2021-08-30T14:33:35.139Z"
   },
   {
    "duration": -229,
    "start_time": "2021-08-30T14:33:35.179Z"
   },
   {
    "duration": -270,
    "start_time": "2021-08-30T14:33:35.221Z"
   },
   {
    "duration": -309,
    "start_time": "2021-08-30T14:33:35.261Z"
   },
   {
    "duration": -317,
    "start_time": "2021-08-30T14:33:35.270Z"
   },
   {
    "duration": -328,
    "start_time": "2021-08-30T14:33:35.282Z"
   },
   {
    "duration": -337,
    "start_time": "2021-08-30T14:33:35.292Z"
   },
   {
    "duration": -347,
    "start_time": "2021-08-30T14:33:35.303Z"
   },
   {
    "duration": -355,
    "start_time": "2021-08-30T14:33:35.312Z"
   },
   {
    "duration": -362,
    "start_time": "2021-08-30T14:33:35.321Z"
   },
   {
    "duration": 24,
    "start_time": "2021-08-30T14:34:11.580Z"
   },
   {
    "duration": 272,
    "start_time": "2021-08-30T14:35:46.766Z"
   },
   {
    "duration": 131,
    "start_time": "2021-08-30T14:36:29.567Z"
   },
   {
    "duration": 117,
    "start_time": "2021-08-30T14:36:47.909Z"
   },
   {
    "duration": 277,
    "start_time": "2021-08-30T14:37:14.701Z"
   },
   {
    "duration": 6,
    "start_time": "2021-08-30T14:37:34.281Z"
   },
   {
    "duration": 24,
    "start_time": "2021-08-30T14:37:35.442Z"
   },
   {
    "duration": 6,
    "start_time": "2021-08-30T14:37:54.534Z"
   },
   {
    "duration": 25,
    "start_time": "2021-08-30T14:37:55.319Z"
   },
   {
    "duration": 96,
    "start_time": "2021-08-30T14:38:24.084Z"
   },
   {
    "duration": 864,
    "start_time": "2021-08-30T14:38:45.217Z"
   },
   {
    "duration": 77,
    "start_time": "2021-08-30T14:38:46.084Z"
   },
   {
    "duration": 13,
    "start_time": "2021-08-30T14:38:46.164Z"
   },
   {
    "duration": 24,
    "start_time": "2021-08-30T14:38:46.180Z"
   },
   {
    "duration": 56,
    "start_time": "2021-08-30T14:38:46.207Z"
   },
   {
    "duration": 12,
    "start_time": "2021-08-30T14:38:46.265Z"
   },
   {
    "duration": 37,
    "start_time": "2021-08-30T14:38:46.279Z"
   },
   {
    "duration": 26,
    "start_time": "2021-08-30T14:38:46.321Z"
   },
   {
    "duration": 16,
    "start_time": "2021-08-30T14:38:46.350Z"
   },
   {
    "duration": 24,
    "start_time": "2021-08-30T14:38:46.369Z"
   },
   {
    "duration": 8,
    "start_time": "2021-08-30T14:38:46.396Z"
   },
   {
    "duration": 5,
    "start_time": "2021-08-30T14:38:46.406Z"
   },
   {
    "duration": 7,
    "start_time": "2021-08-30T14:38:46.441Z"
   },
   {
    "duration": 9,
    "start_time": "2021-08-30T14:38:46.450Z"
   },
   {
    "duration": 6,
    "start_time": "2021-08-30T14:38:46.461Z"
   },
   {
    "duration": 35,
    "start_time": "2021-08-30T14:38:46.469Z"
   },
   {
    "duration": 35,
    "start_time": "2021-08-30T14:38:46.506Z"
   },
   {
    "duration": 90,
    "start_time": "2021-08-30T14:38:46.544Z"
   },
   {
    "duration": -187,
    "start_time": "2021-08-30T14:38:46.824Z"
   },
   {
    "duration": -193,
    "start_time": "2021-08-30T14:38:46.831Z"
   },
   {
    "duration": -196,
    "start_time": "2021-08-30T14:38:46.835Z"
   },
   {
    "duration": -200,
    "start_time": "2021-08-30T14:38:46.840Z"
   },
   {
    "duration": -203,
    "start_time": "2021-08-30T14:38:46.844Z"
   },
   {
    "duration": -238,
    "start_time": "2021-08-30T14:38:46.880Z"
   },
   {
    "duration": -250,
    "start_time": "2021-08-30T14:38:46.894Z"
   },
   {
    "duration": -270,
    "start_time": "2021-08-30T14:38:46.915Z"
   },
   {
    "duration": -280,
    "start_time": "2021-08-30T14:38:46.926Z"
   },
   {
    "duration": -285,
    "start_time": "2021-08-30T14:38:46.932Z"
   },
   {
    "duration": -295,
    "start_time": "2021-08-30T14:38:46.943Z"
   },
   {
    "duration": -299,
    "start_time": "2021-08-30T14:38:46.948Z"
   },
   {
    "duration": -311,
    "start_time": "2021-08-30T14:38:46.961Z"
   },
   {
    "duration": 98,
    "start_time": "2021-08-30T14:39:43.968Z"
   },
   {
    "duration": 103,
    "start_time": "2021-08-30T14:40:05.342Z"
   },
   {
    "duration": 98,
    "start_time": "2021-08-30T14:40:27.061Z"
   },
   {
    "duration": 125,
    "start_time": "2021-08-30T14:40:32.377Z"
   },
   {
    "duration": 239,
    "start_time": "2021-08-30T14:41:06.941Z"
   },
   {
    "duration": 119,
    "start_time": "2021-08-30T14:41:14.416Z"
   },
   {
    "duration": 161,
    "start_time": "2021-08-30T14:41:34.852Z"
   },
   {
    "duration": 7,
    "start_time": "2021-08-30T14:41:45.818Z"
   },
   {
    "duration": 22,
    "start_time": "2021-08-30T14:41:46.963Z"
   },
   {
    "duration": 86,
    "start_time": "2021-08-30T14:42:39.489Z"
   },
   {
    "duration": 349,
    "start_time": "2021-08-30T14:43:19.832Z"
   },
   {
    "duration": 88,
    "start_time": "2021-08-30T14:43:56.158Z"
   },
   {
    "duration": 7,
    "start_time": "2021-08-30T14:44:00.718Z"
   },
   {
    "duration": 24,
    "start_time": "2021-08-30T14:44:01.716Z"
   },
   {
    "duration": 352,
    "start_time": "2021-08-30T14:44:12.708Z"
   },
   {
    "duration": 7,
    "start_time": "2021-08-30T14:44:41.440Z"
   },
   {
    "duration": 22,
    "start_time": "2021-08-30T14:44:42.771Z"
   },
   {
    "duration": 86,
    "start_time": "2021-08-30T14:44:57.110Z"
   },
   {
    "duration": 8,
    "start_time": "2021-08-30T14:45:08.993Z"
   },
   {
    "duration": 23,
    "start_time": "2021-08-30T14:45:09.923Z"
   },
   {
    "duration": 278,
    "start_time": "2021-08-30T14:46:17.121Z"
   },
   {
    "duration": 102,
    "start_time": "2021-08-30T14:46:34.459Z"
   },
   {
    "duration": 98,
    "start_time": "2021-08-30T14:47:29.476Z"
   },
   {
    "duration": 297,
    "start_time": "2021-08-30T14:48:52.364Z"
   },
   {
    "duration": 3652,
    "start_time": "2021-08-30T14:49:20.330Z"
   },
   {
    "duration": -136,
    "start_time": "2021-08-30T14:49:24.120Z"
   },
   {
    "duration": 299,
    "start_time": "2021-08-30T14:54:09.029Z"
   },
   {
    "duration": 6,
    "start_time": "2021-08-30T14:54:31.873Z"
   },
   {
    "duration": 314,
    "start_time": "2021-08-30T14:54:39.164Z"
   },
   {
    "duration": 22,
    "start_time": "2021-08-30T14:54:43.706Z"
   },
   {
    "duration": 891,
    "start_time": "2021-08-30T14:55:37.724Z"
   },
   {
    "duration": 1980,
    "start_time": "2021-08-30T14:55:53.276Z"
   },
   {
    "duration": 1902,
    "start_time": "2021-08-30T14:56:19.172Z"
   },
   {
    "duration": 3726,
    "start_time": "2021-08-30T14:59:29.721Z"
   },
   {
    "duration": 403,
    "start_time": "2021-08-30T14:59:47.532Z"
   },
   {
    "duration": 91,
    "start_time": "2021-08-30T15:00:05.363Z"
   },
   {
    "duration": 344,
    "start_time": "2021-08-30T15:00:18.286Z"
   },
   {
    "duration": 4510,
    "start_time": "2021-08-30T15:00:59.723Z"
   },
   {
    "duration": 6,
    "start_time": "2021-08-30T15:01:27.944Z"
   },
   {
    "duration": 23,
    "start_time": "2021-08-30T15:01:37.279Z"
   },
   {
    "duration": 635,
    "start_time": "2021-08-30T15:01:52.455Z"
   },
   {
    "duration": 55,
    "start_time": "2021-08-30T15:01:53.092Z"
   },
   {
    "duration": 12,
    "start_time": "2021-08-30T15:01:53.149Z"
   },
   {
    "duration": 23,
    "start_time": "2021-08-30T15:01:53.163Z"
   },
   {
    "duration": 55,
    "start_time": "2021-08-30T15:01:53.187Z"
   },
   {
    "duration": 10,
    "start_time": "2021-08-30T15:01:53.244Z"
   },
   {
    "duration": 23,
    "start_time": "2021-08-30T15:01:53.255Z"
   },
   {
    "duration": 6,
    "start_time": "2021-08-30T15:01:53.281Z"
   },
   {
    "duration": 10,
    "start_time": "2021-08-30T15:01:53.289Z"
   },
   {
    "duration": 40,
    "start_time": "2021-08-30T15:01:53.301Z"
   },
   {
    "duration": 7,
    "start_time": "2021-08-30T15:01:53.343Z"
   },
   {
    "duration": 6,
    "start_time": "2021-08-30T15:01:53.351Z"
   },
   {
    "duration": 6,
    "start_time": "2021-08-30T15:01:53.358Z"
   },
   {
    "duration": 13,
    "start_time": "2021-08-30T15:01:53.365Z"
   },
   {
    "duration": 9,
    "start_time": "2021-08-30T15:01:53.380Z"
   },
   {
    "duration": 58,
    "start_time": "2021-08-30T15:01:53.391Z"
   },
   {
    "duration": 12,
    "start_time": "2021-08-30T15:01:53.451Z"
   },
   {
    "duration": 9,
    "start_time": "2021-08-30T15:01:53.465Z"
   },
   {
    "duration": 23,
    "start_time": "2021-08-30T15:01:53.476Z"
   },
   {
    "duration": 370,
    "start_time": "2021-08-30T15:01:53.501Z"
   },
   {
    "duration": -170,
    "start_time": "2021-08-30T15:01:54.044Z"
   },
   {
    "duration": -175,
    "start_time": "2021-08-30T15:01:54.050Z"
   },
   {
    "duration": -187,
    "start_time": "2021-08-30T15:01:54.064Z"
   },
   {
    "duration": -201,
    "start_time": "2021-08-30T15:01:54.080Z"
   },
   {
    "duration": -215,
    "start_time": "2021-08-30T15:01:54.095Z"
   },
   {
    "duration": -259,
    "start_time": "2021-08-30T15:01:54.141Z"
   },
   {
    "duration": -268,
    "start_time": "2021-08-30T15:01:54.151Z"
   },
   {
    "duration": -278,
    "start_time": "2021-08-30T15:01:54.163Z"
   },
   {
    "duration": -285,
    "start_time": "2021-08-30T15:01:54.171Z"
   },
   {
    "duration": -292,
    "start_time": "2021-08-30T15:01:54.180Z"
   },
   {
    "duration": -297,
    "start_time": "2021-08-30T15:01:54.186Z"
   },
   {
    "duration": 116,
    "start_time": "2021-08-30T15:02:27.865Z"
   },
   {
    "duration": 138,
    "start_time": "2021-08-30T15:02:42.795Z"
   },
   {
    "duration": 6,
    "start_time": "2021-08-30T15:02:49.827Z"
   },
   {
    "duration": 321,
    "start_time": "2021-08-30T15:04:14.864Z"
   },
   {
    "duration": 7,
    "start_time": "2021-08-30T15:04:33.228Z"
   },
   {
    "duration": 22,
    "start_time": "2021-08-30T15:04:40.166Z"
   },
   {
    "duration": 668,
    "start_time": "2021-08-30T15:04:47.463Z"
   },
   {
    "duration": 76,
    "start_time": "2021-08-30T15:04:48.133Z"
   },
   {
    "duration": 19,
    "start_time": "2021-08-30T15:04:48.212Z"
   },
   {
    "duration": 38,
    "start_time": "2021-08-30T15:04:48.234Z"
   },
   {
    "duration": 41,
    "start_time": "2021-08-30T15:04:48.274Z"
   },
   {
    "duration": 32,
    "start_time": "2021-08-30T15:04:48.316Z"
   },
   {
    "duration": 27,
    "start_time": "2021-08-30T15:04:48.350Z"
   },
   {
    "duration": 9,
    "start_time": "2021-08-30T15:04:48.381Z"
   },
   {
    "duration": 7,
    "start_time": "2021-08-30T15:04:48.393Z"
   },
   {
    "duration": 45,
    "start_time": "2021-08-30T15:04:48.402Z"
   },
   {
    "duration": 10,
    "start_time": "2021-08-30T15:04:48.449Z"
   },
   {
    "duration": 12,
    "start_time": "2021-08-30T15:04:48.461Z"
   },
   {
    "duration": 13,
    "start_time": "2021-08-30T15:04:48.475Z"
   },
   {
    "duration": 10,
    "start_time": "2021-08-30T15:04:48.490Z"
   },
   {
    "duration": 5,
    "start_time": "2021-08-30T15:04:48.501Z"
   },
   {
    "duration": 52,
    "start_time": "2021-08-30T15:04:48.508Z"
   },
   {
    "duration": 12,
    "start_time": "2021-08-30T15:04:48.563Z"
   },
   {
    "duration": 10,
    "start_time": "2021-08-30T15:04:48.577Z"
   },
   {
    "duration": 51,
    "start_time": "2021-08-30T15:04:48.589Z"
   },
   {
    "duration": 441,
    "start_time": "2021-08-30T15:04:48.643Z"
   },
   {
    "duration": -158,
    "start_time": "2021-08-30T15:04:49.244Z"
   },
   {
    "duration": -173,
    "start_time": "2021-08-30T15:04:49.260Z"
   },
   {
    "duration": -192,
    "start_time": "2021-08-30T15:04:49.280Z"
   },
   {
    "duration": -205,
    "start_time": "2021-08-30T15:04:49.294Z"
   },
   {
    "duration": -215,
    "start_time": "2021-08-30T15:04:49.304Z"
   },
   {
    "duration": -218,
    "start_time": "2021-08-30T15:04:49.308Z"
   },
   {
    "duration": -228,
    "start_time": "2021-08-30T15:04:49.319Z"
   },
   {
    "duration": -230,
    "start_time": "2021-08-30T15:04:49.322Z"
   },
   {
    "duration": -235,
    "start_time": "2021-08-30T15:04:49.328Z"
   },
   {
    "duration": -246,
    "start_time": "2021-08-30T15:04:49.340Z"
   },
   {
    "duration": -250,
    "start_time": "2021-08-30T15:04:49.345Z"
   },
   {
    "duration": 283,
    "start_time": "2021-08-30T15:06:21.491Z"
   },
   {
    "duration": 340,
    "start_time": "2021-08-30T15:07:01.674Z"
   },
   {
    "duration": 292,
    "start_time": "2021-08-30T15:07:17.745Z"
   },
   {
    "duration": 6,
    "start_time": "2021-08-30T15:08:11.014Z"
   },
   {
    "duration": 5,
    "start_time": "2021-08-30T15:14:34.846Z"
   },
   {
    "duration": 22,
    "start_time": "2021-08-30T15:14:40.185Z"
   },
   {
    "duration": 5,
    "start_time": "2021-08-30T15:14:51.745Z"
   },
   {
    "duration": 22,
    "start_time": "2021-08-30T15:14:55.661Z"
   },
   {
    "duration": 5,
    "start_time": "2021-08-30T15:15:15.613Z"
   },
   {
    "duration": 21,
    "start_time": "2021-08-30T15:15:19.789Z"
   },
   {
    "duration": 5,
    "start_time": "2021-08-30T15:15:35.439Z"
   },
   {
    "duration": 23,
    "start_time": "2021-08-30T15:15:38.370Z"
   },
   {
    "duration": 583,
    "start_time": "2021-08-30T15:15:50.688Z"
   },
   {
    "duration": 55,
    "start_time": "2021-08-30T15:15:51.273Z"
   },
   {
    "duration": 12,
    "start_time": "2021-08-30T15:15:51.330Z"
   },
   {
    "duration": 29,
    "start_time": "2021-08-30T15:15:51.345Z"
   },
   {
    "duration": 48,
    "start_time": "2021-08-30T15:15:51.376Z"
   },
   {
    "duration": 12,
    "start_time": "2021-08-30T15:15:51.426Z"
   },
   {
    "duration": 27,
    "start_time": "2021-08-30T15:15:51.441Z"
   },
   {
    "duration": 8,
    "start_time": "2021-08-30T15:15:51.472Z"
   },
   {
    "duration": 15,
    "start_time": "2021-08-30T15:15:51.483Z"
   },
   {
    "duration": 18,
    "start_time": "2021-08-30T15:15:51.500Z"
   },
   {
    "duration": 23,
    "start_time": "2021-08-30T15:15:51.520Z"
   },
   {
    "duration": 20,
    "start_time": "2021-08-30T15:15:51.545Z"
   },
   {
    "duration": 24,
    "start_time": "2021-08-30T15:15:51.567Z"
   },
   {
    "duration": 25,
    "start_time": "2021-08-30T15:15:51.593Z"
   },
   {
    "duration": 22,
    "start_time": "2021-08-30T15:15:51.620Z"
   },
   {
    "duration": 38,
    "start_time": "2021-08-30T15:15:51.644Z"
   },
   {
    "duration": 12,
    "start_time": "2021-08-30T15:15:51.684Z"
   },
   {
    "duration": 17,
    "start_time": "2021-08-30T15:15:51.698Z"
   },
   {
    "duration": 102,
    "start_time": "2021-08-30T15:15:51.717Z"
   },
   {
    "duration": -140,
    "start_time": "2021-08-30T15:15:51.962Z"
   },
   {
    "duration": -141,
    "start_time": "2021-08-30T15:15:51.965Z"
   },
   {
    "duration": -144,
    "start_time": "2021-08-30T15:15:51.970Z"
   },
   {
    "duration": -153,
    "start_time": "2021-08-30T15:15:51.980Z"
   },
   {
    "duration": -156,
    "start_time": "2021-08-30T15:15:51.984Z"
   },
   {
    "duration": -165,
    "start_time": "2021-08-30T15:15:51.995Z"
   },
   {
    "duration": -167,
    "start_time": "2021-08-30T15:15:51.998Z"
   },
   {
    "duration": -170,
    "start_time": "2021-08-30T15:15:52.003Z"
   },
   {
    "duration": -181,
    "start_time": "2021-08-30T15:15:52.015Z"
   },
   {
    "duration": -186,
    "start_time": "2021-08-30T15:15:52.021Z"
   },
   {
    "duration": -195,
    "start_time": "2021-08-30T15:15:52.032Z"
   },
   {
    "duration": -199,
    "start_time": "2021-08-30T15:15:52.037Z"
   },
   {
    "duration": -208,
    "start_time": "2021-08-30T15:15:52.047Z"
   },
   {
    "duration": 32,
    "start_time": "2021-08-30T15:16:05.902Z"
   },
   {
    "duration": 5,
    "start_time": "2021-08-30T15:16:12.350Z"
   },
   {
    "duration": 22,
    "start_time": "2021-08-30T15:16:16.062Z"
   },
   {
    "duration": 7840,
    "start_time": "2021-08-30T15:16:52.634Z"
   },
   {
    "duration": 796,
    "start_time": "2021-08-30T15:17:17.322Z"
   },
   {
    "duration": 55,
    "start_time": "2021-08-30T15:17:18.121Z"
   },
   {
    "duration": 11,
    "start_time": "2021-08-30T15:17:18.178Z"
   },
   {
    "duration": 29,
    "start_time": "2021-08-30T15:17:18.191Z"
   },
   {
    "duration": 55,
    "start_time": "2021-08-30T15:17:18.222Z"
   },
   {
    "duration": 10,
    "start_time": "2021-08-30T15:17:18.279Z"
   },
   {
    "duration": 28,
    "start_time": "2021-08-30T15:17:18.290Z"
   },
   {
    "duration": 7,
    "start_time": "2021-08-30T15:17:18.321Z"
   },
   {
    "duration": 7,
    "start_time": "2021-08-30T15:17:18.341Z"
   },
   {
    "duration": 12,
    "start_time": "2021-08-30T15:17:18.350Z"
   },
   {
    "duration": 6,
    "start_time": "2021-08-30T15:17:18.364Z"
   },
   {
    "duration": 5,
    "start_time": "2021-08-30T15:17:18.372Z"
   },
   {
    "duration": 7,
    "start_time": "2021-08-30T15:17:18.378Z"
   },
   {
    "duration": 8,
    "start_time": "2021-08-30T15:17:18.387Z"
   },
   {
    "duration": 6,
    "start_time": "2021-08-30T15:17:18.397Z"
   },
   {
    "duration": 68,
    "start_time": "2021-08-30T15:17:18.405Z"
   },
   {
    "duration": 11,
    "start_time": "2021-08-30T15:17:18.475Z"
   },
   {
    "duration": 9682,
    "start_time": "2021-08-30T15:17:18.488Z"
   },
   {
    "duration": -163,
    "start_time": "2021-08-30T15:17:28.336Z"
   },
   {
    "duration": -172,
    "start_time": "2021-08-30T15:17:28.346Z"
   },
   {
    "duration": -180,
    "start_time": "2021-08-30T15:17:28.355Z"
   },
   {
    "duration": -187,
    "start_time": "2021-08-30T15:17:28.363Z"
   },
   {
    "duration": -197,
    "start_time": "2021-08-30T15:17:28.374Z"
   },
   {
    "duration": -205,
    "start_time": "2021-08-30T15:17:28.383Z"
   },
   {
    "duration": -213,
    "start_time": "2021-08-30T15:17:28.392Z"
   },
   {
    "duration": -221,
    "start_time": "2021-08-30T15:17:28.400Z"
   },
   {
    "duration": -229,
    "start_time": "2021-08-30T15:17:28.410Z"
   },
   {
    "duration": -237,
    "start_time": "2021-08-30T15:17:28.419Z"
   },
   {
    "duration": -264,
    "start_time": "2021-08-30T15:17:28.447Z"
   },
   {
    "duration": -272,
    "start_time": "2021-08-30T15:17:28.456Z"
   },
   {
    "duration": -285,
    "start_time": "2021-08-30T15:17:28.470Z"
   },
   {
    "duration": -71,
    "start_time": "2021-08-30T15:17:54.447Z"
   },
   {
    "duration": 7053,
    "start_time": "2021-08-30T15:17:57.741Z"
   },
   {
    "duration": 96,
    "start_time": "2021-08-30T15:18:37.328Z"
   },
   {
    "duration": 7729,
    "start_time": "2021-08-30T15:18:42.986Z"
   },
   {
    "duration": 8,
    "start_time": "2021-08-30T15:19:19.997Z"
   },
   {
    "duration": 12,
    "start_time": "2021-08-30T15:19:30.390Z"
   },
   {
    "duration": 679,
    "start_time": "2021-08-30T15:19:49.709Z"
   },
   {
    "duration": 55,
    "start_time": "2021-08-30T15:19:50.390Z"
   },
   {
    "duration": 11,
    "start_time": "2021-08-30T15:19:50.447Z"
   },
   {
    "duration": 28,
    "start_time": "2021-08-30T15:19:50.460Z"
   },
   {
    "duration": 49,
    "start_time": "2021-08-30T15:19:50.490Z"
   },
   {
    "duration": 10,
    "start_time": "2021-08-30T15:19:50.541Z"
   },
   {
    "duration": 29,
    "start_time": "2021-08-30T15:19:50.553Z"
   },
   {
    "duration": 8,
    "start_time": "2021-08-30T15:19:50.584Z"
   },
   {
    "duration": 7,
    "start_time": "2021-08-30T15:19:50.595Z"
   },
   {
    "duration": 37,
    "start_time": "2021-08-30T15:19:50.604Z"
   },
   {
    "duration": 6,
    "start_time": "2021-08-30T15:19:50.643Z"
   },
   {
    "duration": 10,
    "start_time": "2021-08-30T15:19:50.650Z"
   },
   {
    "duration": 8,
    "start_time": "2021-08-30T15:19:50.661Z"
   },
   {
    "duration": 8,
    "start_time": "2021-08-30T15:19:50.670Z"
   },
   {
    "duration": 13,
    "start_time": "2021-08-30T15:19:50.680Z"
   },
   {
    "duration": 47,
    "start_time": "2021-08-30T15:19:50.694Z"
   },
   {
    "duration": 16,
    "start_time": "2021-08-30T15:19:50.743Z"
   },
   {
    "duration": 11,
    "start_time": "2021-08-30T15:19:50.762Z"
   },
   {
    "duration": 10,
    "start_time": "2021-08-30T15:19:50.775Z"
   },
   {
    "duration": 380,
    "start_time": "2021-08-30T15:19:50.787Z"
   },
   {
    "duration": -185,
    "start_time": "2021-08-30T15:19:51.355Z"
   },
   {
    "duration": -188,
    "start_time": "2021-08-30T15:19:51.359Z"
   },
   {
    "duration": -191,
    "start_time": "2021-08-30T15:19:51.364Z"
   },
   {
    "duration": -194,
    "start_time": "2021-08-30T15:19:51.368Z"
   },
   {
    "duration": -198,
    "start_time": "2021-08-30T15:19:51.373Z"
   },
   {
    "duration": -199,
    "start_time": "2021-08-30T15:19:51.376Z"
   },
   {
    "duration": -203,
    "start_time": "2021-08-30T15:19:51.381Z"
   },
   {
    "duration": -205,
    "start_time": "2021-08-30T15:19:51.384Z"
   },
   {
    "duration": -208,
    "start_time": "2021-08-30T15:19:51.388Z"
   },
   {
    "duration": -211,
    "start_time": "2021-08-30T15:19:51.393Z"
   },
   {
    "duration": -214,
    "start_time": "2021-08-30T15:19:51.397Z"
   },
   {
    "duration": 10,
    "start_time": "2021-08-30T15:20:06.434Z"
   },
   {
    "duration": 22,
    "start_time": "2021-08-30T15:20:28.217Z"
   },
   {
    "duration": 10,
    "start_time": "2021-08-30T15:20:39.173Z"
   },
   {
    "duration": 317,
    "start_time": "2021-08-30T15:21:53.375Z"
   },
   {
    "duration": 5,
    "start_time": "2021-08-30T15:22:00.059Z"
   },
   {
    "duration": 290,
    "start_time": "2021-08-30T15:22:24.939Z"
   },
   {
    "duration": 22,
    "start_time": "2021-08-30T15:22:28.963Z"
   },
   {
    "duration": 15,
    "start_time": "2021-08-30T15:22:39.170Z"
   },
   {
    "duration": 636,
    "start_time": "2021-08-30T15:27:12.665Z"
   },
   {
    "duration": 60,
    "start_time": "2021-08-30T15:27:13.303Z"
   },
   {
    "duration": 12,
    "start_time": "2021-08-30T15:27:13.365Z"
   },
   {
    "duration": 20,
    "start_time": "2021-08-30T15:27:13.380Z"
   },
   {
    "duration": 56,
    "start_time": "2021-08-30T15:27:13.402Z"
   },
   {
    "duration": 10,
    "start_time": "2021-08-30T15:27:13.459Z"
   },
   {
    "duration": 29,
    "start_time": "2021-08-30T15:27:13.471Z"
   },
   {
    "duration": 8,
    "start_time": "2021-08-30T15:27:13.504Z"
   },
   {
    "duration": 33,
    "start_time": "2021-08-30T15:27:13.515Z"
   },
   {
    "duration": 12,
    "start_time": "2021-08-30T15:27:13.550Z"
   },
   {
    "duration": 6,
    "start_time": "2021-08-30T15:27:13.564Z"
   },
   {
    "duration": 5,
    "start_time": "2021-08-30T15:27:13.571Z"
   },
   {
    "duration": 9,
    "start_time": "2021-08-30T15:27:13.577Z"
   },
   {
    "duration": 11,
    "start_time": "2021-08-30T15:27:13.588Z"
   },
   {
    "duration": 6,
    "start_time": "2021-08-30T15:27:13.601Z"
   },
   {
    "duration": 5,
    "start_time": "2021-08-30T15:27:13.642Z"
   },
   {
    "duration": 39,
    "start_time": "2021-08-30T15:27:13.649Z"
   },
   {
    "duration": 12,
    "start_time": "2021-08-30T15:27:13.690Z"
   },
   {
    "duration": 3,
    "start_time": "2021-08-30T15:27:13.704Z"
   },
   {
    "duration": 47,
    "start_time": "2021-08-30T15:27:13.709Z"
   },
   {
    "duration": 97,
    "start_time": "2021-08-30T15:27:13.758Z"
   },
   {
    "duration": -248,
    "start_time": "2021-08-30T15:27:14.105Z"
   },
   {
    "duration": -258,
    "start_time": "2021-08-30T15:27:14.116Z"
   },
   {
    "duration": -262,
    "start_time": "2021-08-30T15:27:14.122Z"
   },
   {
    "duration": -272,
    "start_time": "2021-08-30T15:27:14.132Z"
   },
   {
    "duration": -277,
    "start_time": "2021-08-30T15:27:14.138Z"
   },
   {
    "duration": -287,
    "start_time": "2021-08-30T15:27:14.149Z"
   },
   {
    "duration": -291,
    "start_time": "2021-08-30T15:27:14.154Z"
   },
   {
    "duration": -301,
    "start_time": "2021-08-30T15:27:14.165Z"
   },
   {
    "duration": -304,
    "start_time": "2021-08-30T15:27:14.169Z"
   },
   {
    "duration": -310,
    "start_time": "2021-08-30T15:27:14.175Z"
   },
   {
    "duration": -312,
    "start_time": "2021-08-30T15:27:14.178Z"
   },
   {
    "duration": -315,
    "start_time": "2021-08-30T15:27:14.182Z"
   },
   {
    "duration": -321,
    "start_time": "2021-08-30T15:27:14.188Z"
   },
   {
    "duration": -323,
    "start_time": "2021-08-30T15:27:14.191Z"
   },
   {
    "duration": 7,
    "start_time": "2021-08-30T15:30:15.790Z"
   },
   {
    "duration": 22,
    "start_time": "2021-08-30T15:30:35.568Z"
   },
   {
    "duration": 5,
    "start_time": "2021-08-30T15:31:21.100Z"
   },
   {
    "duration": 4,
    "start_time": "2021-08-30T15:31:42.607Z"
   },
   {
    "duration": 22,
    "start_time": "2021-08-30T15:31:44.703Z"
   },
   {
    "duration": 4,
    "start_time": "2021-08-30T15:31:58.113Z"
   },
   {
    "duration": 22,
    "start_time": "2021-08-30T15:31:58.759Z"
   },
   {
    "duration": 9,
    "start_time": "2021-08-30T15:32:12.535Z"
   },
   {
    "duration": 23,
    "start_time": "2021-08-30T15:32:13.810Z"
   },
   {
    "duration": 643,
    "start_time": "2021-08-30T15:32:21.048Z"
   },
   {
    "duration": 57,
    "start_time": "2021-08-30T15:32:21.693Z"
   },
   {
    "duration": 12,
    "start_time": "2021-08-30T15:32:21.753Z"
   },
   {
    "duration": 25,
    "start_time": "2021-08-30T15:32:21.767Z"
   },
   {
    "duration": 51,
    "start_time": "2021-08-30T15:32:21.794Z"
   },
   {
    "duration": 10,
    "start_time": "2021-08-30T15:32:21.847Z"
   },
   {
    "duration": 31,
    "start_time": "2021-08-30T15:32:21.859Z"
   },
   {
    "duration": 7,
    "start_time": "2021-08-30T15:32:21.893Z"
   },
   {
    "duration": 9,
    "start_time": "2021-08-30T15:32:21.903Z"
   },
   {
    "duration": 33,
    "start_time": "2021-08-30T15:32:21.913Z"
   },
   {
    "duration": 14,
    "start_time": "2021-08-30T15:32:21.948Z"
   },
   {
    "duration": 18,
    "start_time": "2021-08-30T15:32:21.963Z"
   },
   {
    "duration": 12,
    "start_time": "2021-08-30T15:32:21.983Z"
   },
   {
    "duration": 15,
    "start_time": "2021-08-30T15:32:21.997Z"
   },
   {
    "duration": 7,
    "start_time": "2021-08-30T15:32:22.014Z"
   },
   {
    "duration": 12,
    "start_time": "2021-08-30T15:32:22.023Z"
   },
   {
    "duration": 53,
    "start_time": "2021-08-30T15:32:22.037Z"
   },
   {
    "duration": 12,
    "start_time": "2021-08-30T15:32:22.092Z"
   },
   {
    "duration": 12,
    "start_time": "2021-08-30T15:32:22.106Z"
   },
   {
    "duration": 28,
    "start_time": "2021-08-30T15:32:22.120Z"
   },
   {
    "duration": 96,
    "start_time": "2021-08-30T15:32:22.151Z"
   },
   {
    "duration": -361,
    "start_time": "2021-08-30T15:32:22.611Z"
   },
   {
    "duration": -364,
    "start_time": "2021-08-30T15:32:22.616Z"
   },
   {
    "duration": -368,
    "start_time": "2021-08-30T15:32:22.621Z"
   },
   {
    "duration": -373,
    "start_time": "2021-08-30T15:32:22.628Z"
   },
   {
    "duration": -375,
    "start_time": "2021-08-30T15:32:22.632Z"
   },
   {
    "duration": -378,
    "start_time": "2021-08-30T15:32:22.636Z"
   },
   {
    "duration": -382,
    "start_time": "2021-08-30T15:32:22.641Z"
   },
   {
    "duration": -384,
    "start_time": "2021-08-30T15:32:22.645Z"
   },
   {
    "duration": -386,
    "start_time": "2021-08-30T15:32:22.648Z"
   },
   {
    "duration": -388,
    "start_time": "2021-08-30T15:32:22.652Z"
   },
   {
    "duration": -391,
    "start_time": "2021-08-30T15:32:22.656Z"
   },
   {
    "duration": -395,
    "start_time": "2021-08-30T15:32:22.661Z"
   },
   {
    "duration": -397,
    "start_time": "2021-08-30T15:32:22.665Z"
   },
   {
    "duration": -423,
    "start_time": "2021-08-30T15:32:22.692Z"
   },
   {
    "duration": 4,
    "start_time": "2021-08-30T15:33:09.163Z"
   },
   {
    "duration": 23,
    "start_time": "2021-08-30T15:33:10.791Z"
   },
   {
    "duration": 1316,
    "start_time": "2021-08-30T15:34:19.525Z"
   },
   {
    "duration": 57,
    "start_time": "2021-08-30T15:34:20.843Z"
   },
   {
    "duration": 12,
    "start_time": "2021-08-30T15:34:20.902Z"
   },
   {
    "duration": 30,
    "start_time": "2021-08-30T15:34:20.916Z"
   },
   {
    "duration": 35,
    "start_time": "2021-08-30T15:34:20.948Z"
   },
   {
    "duration": 10,
    "start_time": "2021-08-30T15:34:20.985Z"
   },
   {
    "duration": 45,
    "start_time": "2021-08-30T15:34:20.997Z"
   },
   {
    "duration": 8,
    "start_time": "2021-08-30T15:34:21.045Z"
   },
   {
    "duration": 7,
    "start_time": "2021-08-30T15:34:21.056Z"
   },
   {
    "duration": 12,
    "start_time": "2021-08-30T15:34:21.065Z"
   },
   {
    "duration": 5,
    "start_time": "2021-08-30T15:34:21.079Z"
   },
   {
    "duration": 5,
    "start_time": "2021-08-30T15:34:21.086Z"
   },
   {
    "duration": 7,
    "start_time": "2021-08-30T15:34:21.093Z"
   },
   {
    "duration": 42,
    "start_time": "2021-08-30T15:34:21.101Z"
   },
   {
    "duration": 8,
    "start_time": "2021-08-30T15:34:21.145Z"
   },
   {
    "duration": 8,
    "start_time": "2021-08-30T15:34:21.154Z"
   },
   {
    "duration": 36,
    "start_time": "2021-08-30T15:34:21.164Z"
   },
   {
    "duration": 11,
    "start_time": "2021-08-30T15:34:21.202Z"
   },
   {
    "duration": 2,
    "start_time": "2021-08-30T15:34:21.215Z"
   },
   {
    "duration": 20,
    "start_time": "2021-08-30T15:34:21.242Z"
   },
   {
    "duration": 95,
    "start_time": "2021-08-30T15:34:21.264Z"
   },
   {
    "duration": -331,
    "start_time": "2021-08-30T15:34:21.692Z"
   },
   {
    "duration": -347,
    "start_time": "2021-08-30T15:34:21.709Z"
   },
   {
    "duration": -367,
    "start_time": "2021-08-30T15:34:21.730Z"
   },
   {
    "duration": -393,
    "start_time": "2021-08-30T15:34:21.757Z"
   },
   {
    "duration": -405,
    "start_time": "2021-08-30T15:34:21.771Z"
   },
   {
    "duration": -420,
    "start_time": "2021-08-30T15:34:21.787Z"
   },
   {
    "duration": -438,
    "start_time": "2021-08-30T15:34:21.806Z"
   },
   {
    "duration": -456,
    "start_time": "2021-08-30T15:34:21.825Z"
   },
   {
    "duration": -469,
    "start_time": "2021-08-30T15:34:21.839Z"
   },
   {
    "duration": -481,
    "start_time": "2021-08-30T15:34:21.852Z"
   },
   {
    "duration": -484,
    "start_time": "2021-08-30T15:34:21.856Z"
   },
   {
    "duration": -488,
    "start_time": "2021-08-30T15:34:21.861Z"
   },
   {
    "duration": -490,
    "start_time": "2021-08-30T15:34:21.864Z"
   },
   {
    "duration": -493,
    "start_time": "2021-08-30T15:34:21.868Z"
   },
   {
    "duration": 99,
    "start_time": "2021-08-30T15:34:32.956Z"
   },
   {
    "duration": 4,
    "start_time": "2021-08-30T15:34:44.274Z"
   },
   {
    "duration": 28,
    "start_time": "2021-08-30T15:34:45.047Z"
   },
   {
    "duration": 6,
    "start_time": "2021-08-30T15:35:23.021Z"
   },
   {
    "duration": 22,
    "start_time": "2021-08-30T15:35:23.666Z"
   },
   {
    "duration": 661,
    "start_time": "2021-08-30T15:36:11.723Z"
   },
   {
    "duration": 57,
    "start_time": "2021-08-30T15:36:12.386Z"
   },
   {
    "duration": 12,
    "start_time": "2021-08-30T15:36:12.446Z"
   },
   {
    "duration": 21,
    "start_time": "2021-08-30T15:36:12.460Z"
   },
   {
    "duration": 59,
    "start_time": "2021-08-30T15:36:12.483Z"
   },
   {
    "duration": 10,
    "start_time": "2021-08-30T15:36:12.543Z"
   },
   {
    "duration": 24,
    "start_time": "2021-08-30T15:36:12.555Z"
   },
   {
    "duration": 7,
    "start_time": "2021-08-30T15:36:12.582Z"
   },
   {
    "duration": 7,
    "start_time": "2021-08-30T15:36:12.591Z"
   },
   {
    "duration": 48,
    "start_time": "2021-08-30T15:36:12.600Z"
   },
   {
    "duration": 6,
    "start_time": "2021-08-30T15:36:12.650Z"
   },
   {
    "duration": 7,
    "start_time": "2021-08-30T15:36:12.658Z"
   },
   {
    "duration": 5,
    "start_time": "2021-08-30T15:36:12.667Z"
   },
   {
    "duration": 8,
    "start_time": "2021-08-30T15:36:12.673Z"
   },
   {
    "duration": 11,
    "start_time": "2021-08-30T15:36:12.683Z"
   },
   {
    "duration": 7,
    "start_time": "2021-08-30T15:36:12.696Z"
   },
   {
    "duration": 63,
    "start_time": "2021-08-30T15:36:12.705Z"
   },
   {
    "duration": 11,
    "start_time": "2021-08-30T15:36:12.770Z"
   },
   {
    "duration": 6,
    "start_time": "2021-08-30T15:36:12.783Z"
   },
   {
    "duration": 21,
    "start_time": "2021-08-30T15:36:12.791Z"
   },
   {
    "duration": 91,
    "start_time": "2021-08-30T15:36:12.814Z"
   },
   {
    "duration": -538,
    "start_time": "2021-08-30T15:36:13.445Z"
   },
   {
    "duration": -586,
    "start_time": "2021-08-30T15:36:13.495Z"
   },
   {
    "duration": -618,
    "start_time": "2021-08-30T15:36:13.528Z"
   },
   {
    "duration": -643,
    "start_time": "2021-08-30T15:36:13.554Z"
   },
   {
    "duration": -652,
    "start_time": "2021-08-30T15:36:13.563Z"
   },
   {
    "duration": -654,
    "start_time": "2021-08-30T15:36:13.567Z"
   },
   {
    "duration": -660,
    "start_time": "2021-08-30T15:36:13.574Z"
   },
   {
    "duration": -665,
    "start_time": "2021-08-30T15:36:13.580Z"
   },
   {
    "duration": -669,
    "start_time": "2021-08-30T15:36:13.585Z"
   },
   {
    "duration": -676,
    "start_time": "2021-08-30T15:36:13.593Z"
   },
   {
    "duration": -683,
    "start_time": "2021-08-30T15:36:13.601Z"
   },
   {
    "duration": -691,
    "start_time": "2021-08-30T15:36:13.610Z"
   },
   {
    "duration": -713,
    "start_time": "2021-08-30T15:36:13.634Z"
   },
   {
    "duration": -721,
    "start_time": "2021-08-30T15:36:13.643Z"
   },
   {
    "duration": 119,
    "start_time": "2021-08-30T15:36:38.875Z"
   },
   {
    "duration": 89,
    "start_time": "2021-08-30T15:36:48.023Z"
   },
   {
    "duration": 91,
    "start_time": "2021-08-30T15:36:57.371Z"
   },
   {
    "duration": 90,
    "start_time": "2021-08-30T15:37:02.227Z"
   },
   {
    "duration": 10,
    "start_time": "2021-08-30T15:54:07.324Z"
   },
   {
    "duration": 25,
    "start_time": "2021-08-30T15:54:08.380Z"
   },
   {
    "duration": 94,
    "start_time": "2021-08-30T15:54:28.473Z"
   },
   {
    "duration": 93,
    "start_time": "2021-08-30T15:55:16.401Z"
   },
   {
    "duration": 93,
    "start_time": "2021-08-30T15:55:29.516Z"
   },
   {
    "duration": 90,
    "start_time": "2021-08-30T15:55:36.773Z"
   },
   {
    "duration": 9,
    "start_time": "2021-08-30T15:55:50.273Z"
   },
   {
    "duration": 22,
    "start_time": "2021-08-30T15:55:51.861Z"
   },
   {
    "duration": 9,
    "start_time": "2021-08-30T15:55:55.676Z"
   },
   {
    "duration": 23,
    "start_time": "2021-08-30T15:55:56.918Z"
   },
   {
    "duration": 90,
    "start_time": "2021-08-30T15:56:23.091Z"
   },
   {
    "duration": 92,
    "start_time": "2021-08-30T15:59:40.904Z"
   },
   {
    "duration": 93,
    "start_time": "2021-08-30T16:03:38.270Z"
   },
   {
    "duration": 10,
    "start_time": "2021-08-30T16:04:13.310Z"
   },
   {
    "duration": 22,
    "start_time": "2021-08-30T16:04:14.717Z"
   },
   {
    "duration": 602,
    "start_time": "2021-08-30T16:04:27.661Z"
   },
   {
    "duration": 56,
    "start_time": "2021-08-30T16:04:28.265Z"
   },
   {
    "duration": 11,
    "start_time": "2021-08-30T16:04:28.324Z"
   },
   {
    "duration": 22,
    "start_time": "2021-08-30T16:04:28.338Z"
   },
   {
    "duration": 32,
    "start_time": "2021-08-30T16:04:28.362Z"
   },
   {
    "duration": 11,
    "start_time": "2021-08-30T16:04:28.396Z"
   },
   {
    "duration": 52,
    "start_time": "2021-08-30T16:04:28.409Z"
   },
   {
    "duration": 8,
    "start_time": "2021-08-30T16:04:28.464Z"
   },
   {
    "duration": 8,
    "start_time": "2021-08-30T16:04:28.474Z"
   },
   {
    "duration": 29,
    "start_time": "2021-08-30T16:04:28.483Z"
   },
   {
    "duration": 18,
    "start_time": "2021-08-30T16:04:28.514Z"
   },
   {
    "duration": 15,
    "start_time": "2021-08-30T16:04:28.534Z"
   },
   {
    "duration": 7,
    "start_time": "2021-08-30T16:04:28.551Z"
   },
   {
    "duration": 18,
    "start_time": "2021-08-30T16:04:28.560Z"
   },
   {
    "duration": 11,
    "start_time": "2021-08-30T16:04:28.580Z"
   },
   {
    "duration": 14,
    "start_time": "2021-08-30T16:04:28.593Z"
   },
   {
    "duration": 38,
    "start_time": "2021-08-30T16:04:28.609Z"
   },
   {
    "duration": 12,
    "start_time": "2021-08-30T16:04:28.650Z"
   },
   {
    "duration": 12,
    "start_time": "2021-08-30T16:04:28.664Z"
   },
   {
    "duration": 40,
    "start_time": "2021-08-30T16:04:28.677Z"
   },
   {
    "duration": 96,
    "start_time": "2021-08-30T16:04:28.719Z"
   },
   {
    "duration": -74,
    "start_time": "2021-08-30T16:04:28.891Z"
   },
   {
    "duration": -78,
    "start_time": "2021-08-30T16:04:28.897Z"
   },
   {
    "duration": -103,
    "start_time": "2021-08-30T16:04:28.923Z"
   },
   {
    "duration": -108,
    "start_time": "2021-08-30T16:04:28.930Z"
   },
   {
    "duration": -118,
    "start_time": "2021-08-30T16:04:28.942Z"
   },
   {
    "duration": -122,
    "start_time": "2021-08-30T16:04:28.947Z"
   },
   {
    "duration": -134,
    "start_time": "2021-08-30T16:04:28.961Z"
   },
   {
    "duration": -138,
    "start_time": "2021-08-30T16:04:28.967Z"
   },
   {
    "duration": -141,
    "start_time": "2021-08-30T16:04:28.971Z"
   },
   {
    "duration": -148,
    "start_time": "2021-08-30T16:04:28.980Z"
   },
   {
    "duration": -157,
    "start_time": "2021-08-30T16:04:28.990Z"
   },
   {
    "duration": -166,
    "start_time": "2021-08-30T16:04:29.001Z"
   },
   {
    "duration": -176,
    "start_time": "2021-08-30T16:04:29.012Z"
   },
   {
    "duration": -185,
    "start_time": "2021-08-30T16:04:29.023Z"
   },
   {
    "duration": 10,
    "start_time": "2021-08-30T16:05:02.942Z"
   },
   {
    "duration": 21,
    "start_time": "2021-08-30T16:05:04.736Z"
   },
   {
    "duration": 623,
    "start_time": "2021-08-30T16:05:54.272Z"
   },
   {
    "duration": 56,
    "start_time": "2021-08-30T16:05:54.897Z"
   },
   {
    "duration": 12,
    "start_time": "2021-08-30T16:05:54.956Z"
   },
   {
    "duration": 34,
    "start_time": "2021-08-30T16:05:54.970Z"
   },
   {
    "duration": 59,
    "start_time": "2021-08-30T16:05:55.006Z"
   },
   {
    "duration": 21,
    "start_time": "2021-08-30T16:05:55.067Z"
   },
   {
    "duration": 54,
    "start_time": "2021-08-30T16:05:55.090Z"
   },
   {
    "duration": 31,
    "start_time": "2021-08-30T16:05:55.147Z"
   },
   {
    "duration": 34,
    "start_time": "2021-08-30T16:05:55.180Z"
   },
   {
    "duration": 45,
    "start_time": "2021-08-30T16:05:55.216Z"
   },
   {
    "duration": 36,
    "start_time": "2021-08-30T16:05:55.263Z"
   },
   {
    "duration": 36,
    "start_time": "2021-08-30T16:05:55.301Z"
   },
   {
    "duration": 27,
    "start_time": "2021-08-30T16:05:55.339Z"
   },
   {
    "duration": 38,
    "start_time": "2021-08-30T16:05:55.368Z"
   },
   {
    "duration": 43,
    "start_time": "2021-08-30T16:05:55.408Z"
   },
   {
    "duration": 46,
    "start_time": "2021-08-30T16:05:55.453Z"
   },
   {
    "duration": 67,
    "start_time": "2021-08-30T16:05:55.501Z"
   },
   {
    "duration": 11,
    "start_time": "2021-08-30T16:05:55.570Z"
   },
   {
    "duration": 43,
    "start_time": "2021-08-30T16:05:55.582Z"
   },
   {
    "duration": 52,
    "start_time": "2021-08-30T16:05:55.627Z"
   },
   {
    "duration": 129,
    "start_time": "2021-08-30T16:05:55.681Z"
   },
   {
    "duration": -453,
    "start_time": "2021-08-30T16:05:56.265Z"
   },
   {
    "duration": -456,
    "start_time": "2021-08-30T16:05:56.269Z"
   },
   {
    "duration": -460,
    "start_time": "2021-08-30T16:05:56.274Z"
   },
   {
    "duration": -465,
    "start_time": "2021-08-30T16:05:56.280Z"
   },
   {
    "duration": -468,
    "start_time": "2021-08-30T16:05:56.284Z"
   },
   {
    "duration": -470,
    "start_time": "2021-08-30T16:05:56.288Z"
   },
   {
    "duration": -475,
    "start_time": "2021-08-30T16:05:56.294Z"
   },
   {
    "duration": -480,
    "start_time": "2021-08-30T16:05:56.300Z"
   },
   {
    "duration": -483,
    "start_time": "2021-08-30T16:05:56.304Z"
   },
   {
    "duration": -487,
    "start_time": "2021-08-30T16:05:56.309Z"
   },
   {
    "duration": -490,
    "start_time": "2021-08-30T16:05:56.313Z"
   },
   {
    "duration": -492,
    "start_time": "2021-08-30T16:05:56.317Z"
   },
   {
    "duration": -496,
    "start_time": "2021-08-30T16:05:56.321Z"
   },
   {
    "duration": -501,
    "start_time": "2021-08-30T16:05:56.327Z"
   },
   {
    "duration": 133,
    "start_time": "2021-08-30T16:06:03.687Z"
   },
   {
    "duration": 10,
    "start_time": "2021-08-30T16:06:17.666Z"
   },
   {
    "duration": 23,
    "start_time": "2021-08-30T16:06:19.342Z"
   },
   {
    "duration": 628,
    "start_time": "2021-08-30T16:07:27.850Z"
   },
   {
    "duration": 53,
    "start_time": "2021-08-30T16:07:28.480Z"
   },
   {
    "duration": 11,
    "start_time": "2021-08-30T16:07:28.536Z"
   },
   {
    "duration": 35,
    "start_time": "2021-08-30T16:07:28.549Z"
   },
   {
    "duration": 47,
    "start_time": "2021-08-30T16:07:28.585Z"
   },
   {
    "duration": 10,
    "start_time": "2021-08-30T16:07:28.633Z"
   },
   {
    "duration": 24,
    "start_time": "2021-08-30T16:07:28.644Z"
   },
   {
    "duration": 8,
    "start_time": "2021-08-30T16:07:28.670Z"
   },
   {
    "duration": 9,
    "start_time": "2021-08-30T16:07:28.680Z"
   },
   {
    "duration": 11,
    "start_time": "2021-08-30T16:07:28.691Z"
   },
   {
    "duration": 39,
    "start_time": "2021-08-30T16:07:28.704Z"
   },
   {
    "duration": 5,
    "start_time": "2021-08-30T16:07:28.744Z"
   },
   {
    "duration": 7,
    "start_time": "2021-08-30T16:07:28.750Z"
   },
   {
    "duration": 8,
    "start_time": "2021-08-30T16:07:28.759Z"
   },
   {
    "duration": 4,
    "start_time": "2021-08-30T16:07:28.769Z"
   },
   {
    "duration": 4,
    "start_time": "2021-08-30T16:07:28.775Z"
   },
   {
    "duration": 38,
    "start_time": "2021-08-30T16:07:28.781Z"
   },
   {
    "duration": 30,
    "start_time": "2021-08-30T16:07:28.820Z"
   },
   {
    "duration": 13,
    "start_time": "2021-08-30T16:07:28.852Z"
   },
   {
    "duration": 21,
    "start_time": "2021-08-30T16:07:28.866Z"
   },
   {
    "duration": 108,
    "start_time": "2021-08-30T16:07:28.889Z"
   },
   {
    "duration": -82,
    "start_time": "2021-08-30T16:07:29.081Z"
   },
   {
    "duration": -101,
    "start_time": "2021-08-30T16:07:29.101Z"
   },
   {
    "duration": -104,
    "start_time": "2021-08-30T16:07:29.105Z"
   },
   {
    "duration": -108,
    "start_time": "2021-08-30T16:07:29.110Z"
   },
   {
    "duration": -111,
    "start_time": "2021-08-30T16:07:29.114Z"
   },
   {
    "duration": -114,
    "start_time": "2021-08-30T16:07:29.118Z"
   },
   {
    "duration": -117,
    "start_time": "2021-08-30T16:07:29.122Z"
   },
   {
    "duration": -122,
    "start_time": "2021-08-30T16:07:29.127Z"
   },
   {
    "duration": -124,
    "start_time": "2021-08-30T16:07:29.131Z"
   },
   {
    "duration": -127,
    "start_time": "2021-08-30T16:07:29.135Z"
   },
   {
    "duration": -144,
    "start_time": "2021-08-30T16:07:29.153Z"
   },
   {
    "duration": -151,
    "start_time": "2021-08-30T16:07:29.161Z"
   },
   {
    "duration": -163,
    "start_time": "2021-08-30T16:07:29.174Z"
   },
   {
    "duration": -179,
    "start_time": "2021-08-30T16:07:29.191Z"
   },
   {
    "duration": 579,
    "start_time": "2021-08-30T16:11:52.994Z"
   },
   {
    "duration": 55,
    "start_time": "2021-08-30T16:11:53.575Z"
   },
   {
    "duration": 11,
    "start_time": "2021-08-30T16:11:53.633Z"
   },
   {
    "duration": 22,
    "start_time": "2021-08-30T16:11:53.646Z"
   },
   {
    "duration": 41,
    "start_time": "2021-08-30T16:11:53.670Z"
   },
   {
    "duration": 10,
    "start_time": "2021-08-30T16:11:53.712Z"
   },
   {
    "duration": 37,
    "start_time": "2021-08-30T16:11:53.723Z"
   },
   {
    "duration": 7,
    "start_time": "2021-08-30T16:11:53.763Z"
   },
   {
    "duration": 7,
    "start_time": "2021-08-30T16:11:53.772Z"
   },
   {
    "duration": 11,
    "start_time": "2021-08-30T16:11:53.781Z"
   },
   {
    "duration": 6,
    "start_time": "2021-08-30T16:11:53.794Z"
   },
   {
    "duration": 40,
    "start_time": "2021-08-30T16:11:53.801Z"
   },
   {
    "duration": 4,
    "start_time": "2021-08-30T16:11:53.843Z"
   },
   {
    "duration": 10,
    "start_time": "2021-08-30T16:11:53.849Z"
   },
   {
    "duration": 10,
    "start_time": "2021-08-30T16:11:53.860Z"
   },
   {
    "duration": 39,
    "start_time": "2021-08-30T16:11:53.872Z"
   },
   {
    "duration": 33,
    "start_time": "2021-08-30T16:11:53.913Z"
   },
   {
    "duration": 10,
    "start_time": "2021-08-30T16:11:53.948Z"
   },
   {
    "duration": 25,
    "start_time": "2021-08-30T16:11:53.960Z"
   },
   {
    "duration": 3,
    "start_time": "2021-08-30T16:11:53.987Z"
   },
   {
    "duration": 102,
    "start_time": "2021-08-30T16:11:53.992Z"
   },
   {
    "duration": 27,
    "start_time": "2021-08-30T16:11:54.069Z"
   },
   {
    "duration": 21,
    "start_time": "2021-08-30T16:11:54.076Z"
   },
   {
    "duration": 15,
    "start_time": "2021-08-30T16:11:54.084Z"
   },
   {
    "duration": 13,
    "start_time": "2021-08-30T16:11:54.087Z"
   },
   {
    "duration": 11,
    "start_time": "2021-08-30T16:11:54.090Z"
   },
   {
    "duration": 3,
    "start_time": "2021-08-30T16:11:54.099Z"
   },
   {
    "duration": 0,
    "start_time": "2021-08-30T16:11:54.103Z"
   },
   {
    "duration": -2,
    "start_time": "2021-08-30T16:11:54.106Z"
   },
   {
    "duration": -4,
    "start_time": "2021-08-30T16:11:54.109Z"
   },
   {
    "duration": -11,
    "start_time": "2021-08-30T16:11:54.117Z"
   },
   {
    "duration": -13,
    "start_time": "2021-08-30T16:11:54.121Z"
   },
   {
    "duration": -14,
    "start_time": "2021-08-30T16:11:54.124Z"
   },
   {
    "duration": -24,
    "start_time": "2021-08-30T16:11:54.135Z"
   },
   {
    "duration": -26,
    "start_time": "2021-08-30T16:11:54.138Z"
   },
   {
    "duration": 16,
    "start_time": "2021-08-30T16:14:40.317Z"
   },
   {
    "duration": 5,
    "start_time": "2021-08-30T16:15:03.271Z"
   },
   {
    "duration": 629,
    "start_time": "2021-08-30T16:18:20.557Z"
   },
   {
    "duration": 56,
    "start_time": "2021-08-30T16:18:21.188Z"
   },
   {
    "duration": 12,
    "start_time": "2021-08-30T16:18:21.249Z"
   },
   {
    "duration": 30,
    "start_time": "2021-08-30T16:18:21.263Z"
   },
   {
    "duration": 49,
    "start_time": "2021-08-30T16:18:21.295Z"
   },
   {
    "duration": 10,
    "start_time": "2021-08-30T16:18:21.346Z"
   },
   {
    "duration": 42,
    "start_time": "2021-08-30T16:18:21.360Z"
   },
   {
    "duration": 8,
    "start_time": "2021-08-30T16:18:21.404Z"
   },
   {
    "duration": 28,
    "start_time": "2021-08-30T16:18:21.414Z"
   },
   {
    "duration": 31,
    "start_time": "2021-08-30T16:18:21.445Z"
   },
   {
    "duration": 17,
    "start_time": "2021-08-30T16:18:21.478Z"
   },
   {
    "duration": 24,
    "start_time": "2021-08-30T16:18:21.497Z"
   },
   {
    "duration": 19,
    "start_time": "2021-08-30T16:18:21.522Z"
   },
   {
    "duration": 26,
    "start_time": "2021-08-30T16:18:21.543Z"
   },
   {
    "duration": 19,
    "start_time": "2021-08-30T16:18:21.571Z"
   },
   {
    "duration": 50,
    "start_time": "2021-08-30T16:18:21.592Z"
   },
   {
    "duration": 11,
    "start_time": "2021-08-30T16:18:21.644Z"
   },
   {
    "duration": 18,
    "start_time": "2021-08-30T16:18:21.657Z"
   },
   {
    "duration": 36,
    "start_time": "2021-08-30T16:18:21.677Z"
   },
   {
    "duration": 19,
    "start_time": "2021-08-30T16:18:21.715Z"
   },
   {
    "duration": 15,
    "start_time": "2021-08-30T16:18:21.736Z"
   },
   {
    "duration": 15,
    "start_time": "2021-08-30T16:18:21.754Z"
   },
   {
    "duration": 32,
    "start_time": "2021-08-30T16:18:21.771Z"
   },
   {
    "duration": 50,
    "start_time": "2021-08-30T16:18:21.805Z"
   },
   {
    "duration": 27,
    "start_time": "2021-08-30T16:18:21.857Z"
   },
   {
    "duration": 19,
    "start_time": "2021-08-30T16:18:21.886Z"
   },
   {
    "duration": 31,
    "start_time": "2021-08-30T16:18:21.907Z"
   },
   {
    "duration": 29,
    "start_time": "2021-08-30T16:18:21.940Z"
   },
   {
    "duration": 37,
    "start_time": "2021-08-30T16:18:21.971Z"
   },
   {
    "duration": 605,
    "start_time": "2021-08-30T16:22:10.863Z"
   },
   {
    "duration": 55,
    "start_time": "2021-08-30T16:22:11.470Z"
   },
   {
    "duration": 12,
    "start_time": "2021-08-30T16:22:11.528Z"
   },
   {
    "duration": 33,
    "start_time": "2021-08-30T16:22:11.543Z"
   },
   {
    "duration": 39,
    "start_time": "2021-08-30T16:22:11.579Z"
   },
   {
    "duration": 11,
    "start_time": "2021-08-30T16:22:11.621Z"
   },
   {
    "duration": 38,
    "start_time": "2021-08-30T16:22:11.641Z"
   },
   {
    "duration": 8,
    "start_time": "2021-08-30T16:22:11.683Z"
   },
   {
    "duration": 20,
    "start_time": "2021-08-30T16:22:11.694Z"
   },
   {
    "duration": 23,
    "start_time": "2021-08-30T16:22:11.715Z"
   },
   {
    "duration": 31,
    "start_time": "2021-08-30T16:22:11.740Z"
   },
   {
    "duration": 9,
    "start_time": "2021-08-30T16:22:11.773Z"
   },
   {
    "duration": 6,
    "start_time": "2021-08-30T16:22:11.784Z"
   },
   {
    "duration": 9,
    "start_time": "2021-08-30T16:22:11.791Z"
   },
   {
    "duration": 3,
    "start_time": "2021-08-30T16:22:11.802Z"
   },
   {
    "duration": 35,
    "start_time": "2021-08-30T16:22:11.807Z"
   },
   {
    "duration": 10,
    "start_time": "2021-08-30T16:22:11.845Z"
   },
   {
    "duration": 6,
    "start_time": "2021-08-30T16:22:11.857Z"
   },
   {
    "duration": 19,
    "start_time": "2021-08-30T16:22:11.865Z"
   },
   {
    "duration": 9,
    "start_time": "2021-08-30T16:22:11.886Z"
   },
   {
    "duration": 7,
    "start_time": "2021-08-30T16:22:11.897Z"
   },
   {
    "duration": 8,
    "start_time": "2021-08-30T16:22:11.906Z"
   },
   {
    "duration": 15,
    "start_time": "2021-08-30T16:22:11.943Z"
   },
   {
    "duration": 23,
    "start_time": "2021-08-30T16:22:11.961Z"
   },
   {
    "duration": 22,
    "start_time": "2021-08-30T16:22:11.986Z"
   },
   {
    "duration": 37,
    "start_time": "2021-08-30T16:22:12.010Z"
   },
   {
    "duration": 8,
    "start_time": "2021-08-30T16:22:12.049Z"
   },
   {
    "duration": 12,
    "start_time": "2021-08-30T16:22:12.058Z"
   },
   {
    "duration": 11,
    "start_time": "2021-08-30T16:22:12.071Z"
   },
   {
    "duration": 632,
    "start_time": "2021-08-30T16:23:50.035Z"
   },
   {
    "duration": 58,
    "start_time": "2021-08-30T16:23:50.669Z"
   },
   {
    "duration": 13,
    "start_time": "2021-08-30T16:23:50.729Z"
   },
   {
    "duration": 22,
    "start_time": "2021-08-30T16:23:50.745Z"
   },
   {
    "duration": 34,
    "start_time": "2021-08-30T16:23:50.768Z"
   },
   {
    "duration": 37,
    "start_time": "2021-08-30T16:23:50.805Z"
   },
   {
    "duration": 33,
    "start_time": "2021-08-30T16:23:50.845Z"
   },
   {
    "duration": 9,
    "start_time": "2021-08-30T16:23:50.881Z"
   },
   {
    "duration": 7,
    "start_time": "2021-08-30T16:23:50.892Z"
   },
   {
    "duration": 41,
    "start_time": "2021-08-30T16:23:50.901Z"
   },
   {
    "duration": 7,
    "start_time": "2021-08-30T16:23:50.943Z"
   },
   {
    "duration": 7,
    "start_time": "2021-08-30T16:23:50.951Z"
   },
   {
    "duration": 12,
    "start_time": "2021-08-30T16:23:50.960Z"
   },
   {
    "duration": 8,
    "start_time": "2021-08-30T16:23:50.974Z"
   },
   {
    "duration": 8,
    "start_time": "2021-08-30T16:23:50.984Z"
   },
   {
    "duration": 48,
    "start_time": "2021-08-30T16:23:50.994Z"
   },
   {
    "duration": 10,
    "start_time": "2021-08-30T16:23:51.044Z"
   },
   {
    "duration": 9,
    "start_time": "2021-08-30T16:23:51.058Z"
   },
   {
    "duration": 18,
    "start_time": "2021-08-30T16:23:51.069Z"
   },
   {
    "duration": 7,
    "start_time": "2021-08-30T16:23:51.089Z"
   },
   {
    "duration": 11,
    "start_time": "2021-08-30T16:23:51.097Z"
   },
   {
    "duration": 38,
    "start_time": "2021-08-30T16:23:51.110Z"
   },
   {
    "duration": 17,
    "start_time": "2021-08-30T16:23:51.150Z"
   },
   {
    "duration": 27,
    "start_time": "2021-08-30T16:23:51.169Z"
   },
   {
    "duration": 42,
    "start_time": "2021-08-30T16:23:51.198Z"
   },
   {
    "duration": 13,
    "start_time": "2021-08-30T16:23:51.243Z"
   },
   {
    "duration": 8,
    "start_time": "2021-08-30T16:23:51.258Z"
   },
   {
    "duration": 14,
    "start_time": "2021-08-30T16:23:51.268Z"
   },
   {
    "duration": 13,
    "start_time": "2021-08-30T16:23:51.284Z"
   },
   {
    "duration": 700,
    "start_time": "2021-08-30T16:25:44.195Z"
   },
   {
    "duration": 54,
    "start_time": "2021-08-30T16:25:44.897Z"
   },
   {
    "duration": 11,
    "start_time": "2021-08-30T16:25:44.953Z"
   },
   {
    "duration": 38,
    "start_time": "2021-08-30T16:25:44.967Z"
   },
   {
    "duration": 49,
    "start_time": "2021-08-30T16:25:45.007Z"
   },
   {
    "duration": 10,
    "start_time": "2021-08-30T16:25:45.058Z"
   },
   {
    "duration": 27,
    "start_time": "2021-08-30T16:25:45.069Z"
   },
   {
    "duration": 11,
    "start_time": "2021-08-30T16:25:45.099Z"
   },
   {
    "duration": 31,
    "start_time": "2021-08-30T16:25:45.112Z"
   },
   {
    "duration": 23,
    "start_time": "2021-08-30T16:25:45.145Z"
   },
   {
    "duration": 6,
    "start_time": "2021-08-30T16:25:45.170Z"
   },
   {
    "duration": 51,
    "start_time": "2021-08-30T16:25:45.178Z"
   },
   {
    "duration": 20,
    "start_time": "2021-08-30T16:25:45.231Z"
   },
   {
    "duration": 23,
    "start_time": "2021-08-30T16:25:45.253Z"
   },
   {
    "duration": 18,
    "start_time": "2021-08-30T16:25:45.278Z"
   },
   {
    "duration": 62,
    "start_time": "2021-08-30T16:25:45.298Z"
   },
   {
    "duration": 27,
    "start_time": "2021-08-30T16:25:45.362Z"
   },
   {
    "duration": 6,
    "start_time": "2021-08-30T16:25:45.391Z"
   },
   {
    "duration": 36,
    "start_time": "2021-08-30T16:25:45.399Z"
   },
   {
    "duration": 21,
    "start_time": "2021-08-30T16:25:45.437Z"
   },
   {
    "duration": 16,
    "start_time": "2021-08-30T16:25:45.460Z"
   },
   {
    "duration": 29,
    "start_time": "2021-08-30T16:25:45.478Z"
   },
   {
    "duration": 24,
    "start_time": "2021-08-30T16:25:45.510Z"
   },
   {
    "duration": 41,
    "start_time": "2021-08-30T16:25:45.536Z"
   },
   {
    "duration": 23,
    "start_time": "2021-08-30T16:25:45.579Z"
   },
   {
    "duration": 11,
    "start_time": "2021-08-30T16:25:45.604Z"
   },
   {
    "duration": 15,
    "start_time": "2021-08-30T16:25:45.617Z"
   },
   {
    "duration": 26,
    "start_time": "2021-08-30T16:25:45.634Z"
   },
   {
    "duration": 28,
    "start_time": "2021-08-30T16:25:45.663Z"
   },
   {
    "duration": 31,
    "start_time": "2021-08-30T16:32:16.701Z"
   },
   {
    "duration": 12,
    "start_time": "2021-08-30T16:52:05.755Z"
   },
   {
    "duration": 11,
    "start_time": "2021-08-30T16:55:21.248Z"
   },
   {
    "duration": 628,
    "start_time": "2021-08-30T17:33:43.498Z"
   },
   {
    "duration": 56,
    "start_time": "2021-08-30T17:33:44.128Z"
   },
   {
    "duration": 12,
    "start_time": "2021-08-30T17:33:44.188Z"
   },
   {
    "duration": 21,
    "start_time": "2021-08-30T17:33:44.202Z"
   },
   {
    "duration": 34,
    "start_time": "2021-08-30T17:33:44.242Z"
   },
   {
    "duration": 11,
    "start_time": "2021-08-30T17:33:44.277Z"
   },
   {
    "duration": 52,
    "start_time": "2021-08-30T17:33:44.292Z"
   },
   {
    "duration": 7,
    "start_time": "2021-08-30T17:33:44.347Z"
   },
   {
    "duration": 7,
    "start_time": "2021-08-30T17:33:44.356Z"
   },
   {
    "duration": 12,
    "start_time": "2021-08-30T17:33:44.365Z"
   },
   {
    "duration": 6,
    "start_time": "2021-08-30T17:33:44.378Z"
   },
   {
    "duration": 7,
    "start_time": "2021-08-30T17:33:44.386Z"
   },
   {
    "duration": 8,
    "start_time": "2021-08-30T17:33:44.395Z"
   },
   {
    "duration": 42,
    "start_time": "2021-08-30T17:33:44.405Z"
   },
   {
    "duration": 13,
    "start_time": "2021-08-30T17:33:44.449Z"
   },
   {
    "duration": 50,
    "start_time": "2021-08-30T17:33:44.464Z"
   },
   {
    "duration": 25,
    "start_time": "2021-08-30T17:33:44.516Z"
   },
   {
    "duration": 26,
    "start_time": "2021-08-30T17:33:44.543Z"
   },
   {
    "duration": 47,
    "start_time": "2021-08-30T17:33:44.571Z"
   },
   {
    "duration": 11,
    "start_time": "2021-08-30T17:33:44.621Z"
   },
   {
    "duration": 19,
    "start_time": "2021-08-30T17:33:44.634Z"
   },
   {
    "duration": 25,
    "start_time": "2021-08-30T17:33:44.656Z"
   },
   {
    "duration": 27,
    "start_time": "2021-08-30T17:33:44.683Z"
   },
   {
    "duration": 26,
    "start_time": "2021-08-30T17:33:44.712Z"
   },
   {
    "duration": 38,
    "start_time": "2021-08-30T17:33:44.740Z"
   },
   {
    "duration": 28,
    "start_time": "2021-08-30T17:33:44.780Z"
   },
   {
    "duration": 11,
    "start_time": "2021-08-30T17:33:44.810Z"
   },
   {
    "duration": 16,
    "start_time": "2021-08-30T17:33:44.823Z"
   },
   {
    "duration": 28,
    "start_time": "2021-08-30T17:33:44.841Z"
   },
   {
    "duration": 11,
    "start_time": "2021-08-30T17:33:44.871Z"
   },
   {
    "duration": 24,
    "start_time": "2021-08-30T17:33:44.883Z"
   },
   {
    "duration": 27,
    "start_time": "2021-08-30T17:33:44.909Z"
   },
   {
    "duration": 9,
    "start_time": "2021-08-30T17:45:52.279Z"
   },
   {
    "duration": 92,
    "start_time": "2021-08-30T17:46:10.365Z"
   },
   {
    "duration": 6,
    "start_time": "2021-08-30T17:46:14.622Z"
   },
   {
    "duration": 22,
    "start_time": "2021-08-30T17:46:32.002Z"
   },
   {
    "duration": 8,
    "start_time": "2021-08-30T18:00:52.766Z"
   },
   {
    "duration": 361,
    "start_time": "2021-08-30T18:11:55.925Z"
   },
   {
    "duration": 5,
    "start_time": "2021-08-30T18:12:08.202Z"
   },
   {
    "duration": 4,
    "start_time": "2021-08-30T18:12:23.290Z"
   },
   {
    "duration": 270,
    "start_time": "2021-08-30T18:12:33.476Z"
   },
   {
    "duration": 3575,
    "start_time": "2021-08-30T18:12:39.196Z"
   },
   {
    "duration": 278,
    "start_time": "2021-08-30T18:13:10.507Z"
   },
   {
    "duration": 8,
    "start_time": "2021-08-30T18:13:15.574Z"
   },
   {
    "duration": 98,
    "start_time": "2021-08-30T18:13:39.302Z"
   },
   {
    "duration": 91,
    "start_time": "2021-08-30T18:14:02.865Z"
   },
   {
    "duration": 7,
    "start_time": "2021-08-30T18:19:46.481Z"
   },
   {
    "duration": 8,
    "start_time": "2021-08-30T18:23:37.432Z"
   },
   {
    "duration": 120,
    "start_time": "2021-08-30T18:23:48.514Z"
   },
   {
    "duration": 21,
    "start_time": "2021-08-30T18:25:11.789Z"
   },
   {
    "duration": 8,
    "start_time": "2021-08-30T18:29:25.798Z"
   },
   {
    "duration": 8,
    "start_time": "2021-08-30T18:29:31.581Z"
   },
   {
    "duration": 9,
    "start_time": "2021-08-30T18:29:40.968Z"
   },
   {
    "duration": 8,
    "start_time": "2021-08-30T18:30:01.061Z"
   },
   {
    "duration": 7,
    "start_time": "2021-08-30T18:30:05.040Z"
   },
   {
    "duration": 7,
    "start_time": "2021-08-30T18:30:13.425Z"
   },
   {
    "duration": 12,
    "start_time": "2021-08-30T18:30:28.959Z"
   },
   {
    "duration": 8,
    "start_time": "2021-08-30T18:30:38.154Z"
   },
   {
    "duration": 7,
    "start_time": "2021-08-30T18:30:44.393Z"
   },
   {
    "duration": 8,
    "start_time": "2021-08-30T18:30:51.727Z"
   },
   {
    "duration": 8,
    "start_time": "2021-08-30T18:31:14.201Z"
   },
   {
    "duration": 93,
    "start_time": "2021-08-30T18:32:47.896Z"
   },
   {
    "duration": 91,
    "start_time": "2021-08-30T18:32:56.565Z"
   },
   {
    "duration": 281,
    "start_time": "2021-08-30T18:33:16.186Z"
   },
   {
    "duration": 8,
    "start_time": "2021-08-30T18:33:21.208Z"
   },
   {
    "duration": 3441,
    "start_time": "2021-08-30T18:34:04.480Z"
   },
   {
    "duration": 8,
    "start_time": "2021-08-30T18:34:14.846Z"
   },
   {
    "duration": 6,
    "start_time": "2021-08-30T18:34:50.685Z"
   },
   {
    "duration": 8,
    "start_time": "2021-08-30T18:35:11.135Z"
   },
   {
    "duration": 21,
    "start_time": "2021-08-30T18:42:34.177Z"
   },
   {
    "duration": 9,
    "start_time": "2021-08-30T18:44:02.784Z"
   },
   {
    "duration": 296,
    "start_time": "2021-08-30T18:44:21.291Z"
   },
   {
    "duration": 9,
    "start_time": "2021-08-30T18:44:34.314Z"
   },
   {
    "duration": 9,
    "start_time": "2021-08-30T18:44:47.866Z"
   },
   {
    "duration": 17,
    "start_time": "2021-08-30T18:45:34.521Z"
   },
   {
    "duration": 8,
    "start_time": "2021-08-30T18:46:47.254Z"
   },
   {
    "duration": 13,
    "start_time": "2021-08-30T18:50:40.354Z"
   },
   {
    "duration": 14,
    "start_time": "2021-08-30T18:51:12.101Z"
   },
   {
    "duration": 2,
    "start_time": "2021-08-30T19:16:36.647Z"
   },
   {
    "duration": 877,
    "start_time": "2021-08-30T19:16:54.408Z"
   },
   {
    "duration": 58,
    "start_time": "2021-08-30T19:16:55.287Z"
   },
   {
    "duration": 13,
    "start_time": "2021-08-30T19:16:55.347Z"
   },
   {
    "duration": 29,
    "start_time": "2021-08-30T19:16:55.362Z"
   },
   {
    "duration": 59,
    "start_time": "2021-08-30T19:16:55.393Z"
   },
   {
    "duration": 15,
    "start_time": "2021-08-30T19:16:55.454Z"
   },
   {
    "duration": 31,
    "start_time": "2021-08-30T19:16:55.470Z"
   },
   {
    "duration": 8,
    "start_time": "2021-08-30T19:16:55.505Z"
   },
   {
    "duration": 32,
    "start_time": "2021-08-30T19:16:55.516Z"
   },
   {
    "duration": 16,
    "start_time": "2021-08-30T19:16:55.550Z"
   },
   {
    "duration": 8,
    "start_time": "2021-08-30T19:16:55.568Z"
   },
   {
    "duration": 4,
    "start_time": "2021-08-30T19:16:55.578Z"
   },
   {
    "duration": 6,
    "start_time": "2021-08-30T19:16:55.584Z"
   },
   {
    "duration": 11,
    "start_time": "2021-08-30T19:16:55.592Z"
   },
   {
    "duration": 4,
    "start_time": "2021-08-30T19:16:55.641Z"
   },
   {
    "duration": 42,
    "start_time": "2021-08-30T19:16:55.647Z"
   },
   {
    "duration": 11,
    "start_time": "2021-08-30T19:16:55.691Z"
   },
   {
    "duration": 38,
    "start_time": "2021-08-30T19:16:55.704Z"
   },
   {
    "duration": 32,
    "start_time": "2021-08-30T19:16:55.744Z"
   },
   {
    "duration": 7,
    "start_time": "2021-08-30T19:16:55.778Z"
   },
   {
    "duration": 17,
    "start_time": "2021-08-30T19:16:55.787Z"
   },
   {
    "duration": 49,
    "start_time": "2021-08-30T19:16:55.806Z"
   },
   {
    "duration": 18,
    "start_time": "2021-08-30T19:16:55.859Z"
   },
   {
    "duration": 7,
    "start_time": "2021-08-30T19:16:55.878Z"
   },
   {
    "duration": 10,
    "start_time": "2021-08-30T19:16:55.887Z"
   },
   {
    "duration": 5,
    "start_time": "2021-08-30T19:16:55.899Z"
   },
   {
    "duration": 43,
    "start_time": "2021-08-30T19:16:55.906Z"
   },
   {
    "duration": 4,
    "start_time": "2021-08-30T19:16:55.951Z"
   },
   {
    "duration": 11,
    "start_time": "2021-08-30T19:16:55.957Z"
   },
   {
    "duration": 11,
    "start_time": "2021-08-30T19:16:55.969Z"
   },
   {
    "duration": 16,
    "start_time": "2021-08-30T19:30:58.076Z"
   },
   {
    "duration": 7532,
    "start_time": "2021-08-30T19:40:00.453Z"
   },
   {
    "duration": 8,
    "start_time": "2021-08-30T19:41:29.974Z"
   },
   {
    "duration": 9,
    "start_time": "2021-08-30T19:41:50.246Z"
   },
   {
    "duration": 11,
    "start_time": "2021-08-30T19:43:07.964Z"
   },
   {
    "duration": 9,
    "start_time": "2021-08-30T19:45:20.723Z"
   },
   {
    "duration": 836,
    "start_time": "2021-08-30T19:46:02.294Z"
   },
   {
    "duration": 31,
    "start_time": "2021-08-30T19:46:30.544Z"
   },
   {
    "duration": 9,
    "start_time": "2021-08-30T19:46:47.826Z"
   },
   {
    "duration": 650,
    "start_time": "2021-08-30T19:48:14.127Z"
   },
   {
    "duration": 67,
    "start_time": "2021-08-30T19:48:14.780Z"
   },
   {
    "duration": 12,
    "start_time": "2021-08-30T19:48:14.849Z"
   },
   {
    "duration": 28,
    "start_time": "2021-08-30T19:48:14.863Z"
   },
   {
    "duration": 38,
    "start_time": "2021-08-30T19:48:14.892Z"
   },
   {
    "duration": 17,
    "start_time": "2021-08-30T19:48:14.932Z"
   },
   {
    "duration": 27,
    "start_time": "2021-08-30T19:48:14.952Z"
   },
   {
    "duration": 9,
    "start_time": "2021-08-30T19:48:14.983Z"
   },
   {
    "duration": 14,
    "start_time": "2021-08-30T19:48:14.994Z"
   },
   {
    "duration": 35,
    "start_time": "2021-08-30T19:48:15.010Z"
   },
   {
    "duration": 15,
    "start_time": "2021-08-30T19:48:15.047Z"
   },
   {
    "duration": 11,
    "start_time": "2021-08-30T19:48:15.063Z"
   },
   {
    "duration": 11,
    "start_time": "2021-08-30T19:48:15.076Z"
   },
   {
    "duration": 21,
    "start_time": "2021-08-30T19:48:15.089Z"
   },
   {
    "duration": 27,
    "start_time": "2021-08-30T19:48:15.112Z"
   },
   {
    "duration": 41,
    "start_time": "2021-08-30T19:48:15.140Z"
   },
   {
    "duration": 11,
    "start_time": "2021-08-30T19:48:15.183Z"
   },
   {
    "duration": 32,
    "start_time": "2021-08-30T19:48:15.196Z"
   },
   {
    "duration": 16,
    "start_time": "2021-08-30T19:48:15.230Z"
   },
   {
    "duration": 20,
    "start_time": "2021-08-30T19:48:15.247Z"
   },
   {
    "duration": 7,
    "start_time": "2021-08-30T19:48:15.269Z"
   },
   {
    "duration": 6882,
    "start_time": "2021-08-30T19:48:15.277Z"
   },
   {
    "duration": 114,
    "start_time": "2021-08-30T19:48:22.047Z"
   },
   {
    "duration": 108,
    "start_time": "2021-08-30T19:48:22.055Z"
   },
   {
    "duration": 103,
    "start_time": "2021-08-30T19:48:22.061Z"
   },
   {
    "duration": 98,
    "start_time": "2021-08-30T19:48:22.067Z"
   },
   {
    "duration": 94,
    "start_time": "2021-08-30T19:48:22.072Z"
   },
   {
    "duration": 91,
    "start_time": "2021-08-30T19:48:22.076Z"
   },
   {
    "duration": 87,
    "start_time": "2021-08-30T19:48:22.081Z"
   },
   {
    "duration": 83,
    "start_time": "2021-08-30T19:48:22.085Z"
   },
   {
    "duration": 80,
    "start_time": "2021-08-30T19:48:22.089Z"
   },
   {
    "duration": 630,
    "start_time": "2021-08-30T20:05:16.627Z"
   },
   {
    "duration": 57,
    "start_time": "2021-08-30T20:05:17.259Z"
   },
   {
    "duration": 12,
    "start_time": "2021-08-30T20:05:17.318Z"
   },
   {
    "duration": 27,
    "start_time": "2021-08-30T20:05:17.332Z"
   },
   {
    "duration": 33,
    "start_time": "2021-08-30T20:05:17.361Z"
   },
   {
    "duration": 9,
    "start_time": "2021-08-30T20:05:17.396Z"
   },
   {
    "duration": 51,
    "start_time": "2021-08-30T20:05:17.407Z"
   },
   {
    "duration": 7,
    "start_time": "2021-08-30T20:05:17.461Z"
   },
   {
    "duration": 15,
    "start_time": "2021-08-30T20:05:17.471Z"
   },
   {
    "duration": 12,
    "start_time": "2021-08-30T20:05:17.487Z"
   },
   {
    "duration": 6,
    "start_time": "2021-08-30T20:05:17.500Z"
   },
   {
    "duration": 7,
    "start_time": "2021-08-30T20:05:17.508Z"
   },
   {
    "duration": 26,
    "start_time": "2021-08-30T20:05:17.517Z"
   },
   {
    "duration": 8,
    "start_time": "2021-08-30T20:05:17.545Z"
   },
   {
    "duration": 5,
    "start_time": "2021-08-30T20:05:17.554Z"
   },
   {
    "duration": 41,
    "start_time": "2021-08-30T20:05:17.561Z"
   },
   {
    "duration": 11,
    "start_time": "2021-08-30T20:05:17.604Z"
   },
   {
    "duration": 51,
    "start_time": "2021-08-30T20:05:17.617Z"
   },
   {
    "duration": 8,
    "start_time": "2021-08-30T20:05:17.670Z"
   },
   {
    "duration": 18,
    "start_time": "2021-08-30T20:05:17.679Z"
   },
   {
    "duration": 8,
    "start_time": "2021-08-30T20:05:17.699Z"
   },
   {
    "duration": 7,
    "start_time": "2021-08-30T20:05:17.708Z"
   },
   {
    "duration": 35,
    "start_time": "2021-08-30T20:05:17.718Z"
   },
   {
    "duration": 4,
    "start_time": "2021-08-30T20:05:17.755Z"
   },
   {
    "duration": 10,
    "start_time": "2021-08-30T20:05:17.761Z"
   },
   {
    "duration": 16,
    "start_time": "2021-08-30T20:05:17.772Z"
   },
   {
    "duration": 6787,
    "start_time": "2021-08-30T20:08:54.952Z"
   },
   {
    "duration": 8,
    "start_time": "2021-08-30T20:09:07.678Z"
   },
   {
    "duration": 89,
    "start_time": "2021-08-30T20:09:33.061Z"
   },
   {
    "duration": 15,
    "start_time": "2021-08-30T20:10:02.710Z"
   },
   {
    "duration": 4,
    "start_time": "2021-08-30T20:12:53.649Z"
   },
   {
    "duration": 4,
    "start_time": "2021-08-30T20:12:54.832Z"
   },
   {
    "duration": 13,
    "start_time": "2021-08-30T20:13:09.082Z"
   },
   {
    "duration": 15,
    "start_time": "2021-08-30T20:16:33.059Z"
   },
   {
    "duration": 17,
    "start_time": "2021-08-30T20:21:14.672Z"
   },
   {
    "duration": 601,
    "start_time": "2021-08-30T20:23:45.487Z"
   },
   {
    "duration": 56,
    "start_time": "2021-08-30T20:23:46.092Z"
   },
   {
    "duration": 12,
    "start_time": "2021-08-30T20:23:46.150Z"
   },
   {
    "duration": 21,
    "start_time": "2021-08-30T20:23:46.164Z"
   },
   {
    "duration": 59,
    "start_time": "2021-08-30T20:23:46.188Z"
   },
   {
    "duration": 11,
    "start_time": "2021-08-30T20:23:46.250Z"
   },
   {
    "duration": 24,
    "start_time": "2021-08-30T20:23:46.265Z"
   },
   {
    "duration": 8,
    "start_time": "2021-08-30T20:23:46.292Z"
   },
   {
    "duration": 11,
    "start_time": "2021-08-30T20:23:46.302Z"
   },
   {
    "duration": 12,
    "start_time": "2021-08-30T20:23:46.341Z"
   },
   {
    "duration": 6,
    "start_time": "2021-08-30T20:23:46.355Z"
   },
   {
    "duration": 6,
    "start_time": "2021-08-30T20:23:46.363Z"
   },
   {
    "duration": 6,
    "start_time": "2021-08-30T20:23:46.370Z"
   },
   {
    "duration": 7,
    "start_time": "2021-08-30T20:23:46.377Z"
   },
   {
    "duration": 4,
    "start_time": "2021-08-30T20:23:46.386Z"
   },
   {
    "duration": 66,
    "start_time": "2021-08-30T20:23:46.391Z"
   },
   {
    "duration": 11,
    "start_time": "2021-08-30T20:23:46.459Z"
   },
   {
    "duration": 41,
    "start_time": "2021-08-30T20:23:46.472Z"
   },
   {
    "duration": 7,
    "start_time": "2021-08-30T20:23:46.515Z"
   },
   {
    "duration": 33,
    "start_time": "2021-08-30T20:23:46.524Z"
   },
   {
    "duration": 15,
    "start_time": "2021-08-30T20:23:46.559Z"
   },
   {
    "duration": 21,
    "start_time": "2021-08-30T20:23:46.577Z"
   },
   {
    "duration": 22,
    "start_time": "2021-08-30T20:23:46.600Z"
   },
   {
    "duration": 35,
    "start_time": "2021-08-30T20:23:46.623Z"
   },
   {
    "duration": 33,
    "start_time": "2021-08-30T20:23:46.659Z"
   },
   {
    "duration": 30,
    "start_time": "2021-08-30T20:23:46.693Z"
   },
   {
    "duration": 741,
    "start_time": "2021-08-30T20:27:52.400Z"
   },
   {
    "duration": 70,
    "start_time": "2021-08-30T20:27:53.143Z"
   },
   {
    "duration": 35,
    "start_time": "2021-08-30T20:27:53.215Z"
   },
   {
    "duration": 18,
    "start_time": "2021-08-30T20:27:53.253Z"
   },
   {
    "duration": 16,
    "start_time": "2021-08-30T20:27:53.273Z"
   },
   {
    "duration": 60,
    "start_time": "2021-08-30T20:27:53.291Z"
   },
   {
    "duration": 10,
    "start_time": "2021-08-30T20:27:53.353Z"
   },
   {
    "duration": 24,
    "start_time": "2021-08-30T20:27:53.366Z"
   },
   {
    "duration": 7,
    "start_time": "2021-08-30T20:27:53.392Z"
   },
   {
    "duration": 44,
    "start_time": "2021-08-30T20:27:53.401Z"
   },
   {
    "duration": 13,
    "start_time": "2021-08-30T20:27:53.447Z"
   },
   {
    "duration": 8,
    "start_time": "2021-08-30T20:27:53.462Z"
   },
   {
    "duration": 6,
    "start_time": "2021-08-30T20:27:53.472Z"
   },
   {
    "duration": 7,
    "start_time": "2021-08-30T20:27:53.480Z"
   },
   {
    "duration": 9,
    "start_time": "2021-08-30T20:27:53.489Z"
   },
   {
    "duration": 41,
    "start_time": "2021-08-30T20:27:53.500Z"
   },
   {
    "duration": 33,
    "start_time": "2021-08-30T20:27:53.544Z"
   },
   {
    "duration": 12,
    "start_time": "2021-08-30T20:27:53.580Z"
   },
   {
    "duration": 64,
    "start_time": "2021-08-30T20:27:53.594Z"
   },
   {
    "duration": 8,
    "start_time": "2021-08-30T20:27:53.660Z"
   },
   {
    "duration": 20,
    "start_time": "2021-08-30T20:27:53.670Z"
   },
   {
    "duration": 8,
    "start_time": "2021-08-30T20:27:53.692Z"
   },
   {
    "duration": 4,
    "start_time": "2021-08-30T20:27:53.703Z"
   },
   {
    "duration": 32,
    "start_time": "2021-08-30T20:27:53.709Z"
   },
   {
    "duration": 19,
    "start_time": "2021-08-30T20:27:53.743Z"
   },
   {
    "duration": 13,
    "start_time": "2021-08-30T20:27:53.764Z"
   },
   {
    "duration": 19,
    "start_time": "2021-08-30T20:27:53.779Z"
   },
   {
    "duration": 19,
    "start_time": "2021-08-30T20:39:25.559Z"
   },
   {
    "duration": 17,
    "start_time": "2021-08-30T20:39:58.025Z"
   },
   {
    "duration": 17,
    "start_time": "2021-08-30T20:43:14.799Z"
   },
   {
    "duration": 363,
    "start_time": "2021-08-30T20:44:00.851Z"
   },
   {
    "duration": 21,
    "start_time": "2021-08-30T20:44:05.827Z"
   },
   {
    "duration": 12,
    "start_time": "2021-08-30T20:45:37.939Z"
   },
   {
    "duration": 19,
    "start_time": "2021-08-30T20:45:48.671Z"
   },
   {
    "duration": 15,
    "start_time": "2021-08-30T20:46:17.011Z"
   },
   {
    "duration": 645,
    "start_time": "2021-08-30T20:47:48.729Z"
   },
   {
    "duration": 56,
    "start_time": "2021-08-30T20:47:49.376Z"
   },
   {
    "duration": 12,
    "start_time": "2021-08-30T20:47:49.434Z"
   },
   {
    "duration": 22,
    "start_time": "2021-08-30T20:47:49.449Z"
   },
   {
    "duration": 33,
    "start_time": "2021-08-30T20:47:49.473Z"
   },
   {
    "duration": 10,
    "start_time": "2021-08-30T20:47:49.507Z"
   },
   {
    "duration": 23,
    "start_time": "2021-08-30T20:47:49.542Z"
   },
   {
    "duration": 7,
    "start_time": "2021-08-30T20:47:49.568Z"
   },
   {
    "duration": 7,
    "start_time": "2021-08-30T20:47:49.577Z"
   },
   {
    "duration": 11,
    "start_time": "2021-08-30T20:47:49.586Z"
   },
   {
    "duration": 44,
    "start_time": "2021-08-30T20:47:49.599Z"
   },
   {
    "duration": 6,
    "start_time": "2021-08-30T20:47:49.644Z"
   },
   {
    "duration": 6,
    "start_time": "2021-08-30T20:47:49.652Z"
   },
   {
    "duration": 13,
    "start_time": "2021-08-30T20:47:49.660Z"
   },
   {
    "duration": 9,
    "start_time": "2021-08-30T20:47:49.675Z"
   },
   {
    "duration": 34,
    "start_time": "2021-08-30T20:47:49.685Z"
   },
   {
    "duration": 11,
    "start_time": "2021-08-30T20:47:49.741Z"
   },
   {
    "duration": 34,
    "start_time": "2021-08-30T20:47:49.754Z"
   },
   {
    "duration": 7,
    "start_time": "2021-08-30T20:47:49.790Z"
   },
   {
    "duration": 19,
    "start_time": "2021-08-30T20:47:49.799Z"
   },
   {
    "duration": 26,
    "start_time": "2021-08-30T20:47:49.819Z"
   },
   {
    "duration": 6,
    "start_time": "2021-08-30T20:47:49.847Z"
   },
   {
    "duration": 4,
    "start_time": "2021-08-30T20:47:49.857Z"
   },
   {
    "duration": 17,
    "start_time": "2021-08-30T20:47:49.863Z"
   },
   {
    "duration": 14,
    "start_time": "2021-08-30T20:47:49.882Z"
   },
   {
    "duration": 46,
    "start_time": "2021-08-30T20:47:49.897Z"
   },
   {
    "duration": 18,
    "start_time": "2021-08-30T20:47:49.945Z"
   },
   {
    "duration": 16,
    "start_time": "2021-08-30T20:47:49.965Z"
   },
   {
    "duration": 15,
    "start_time": "2021-08-30T20:47:49.983Z"
   },
   {
    "duration": 42,
    "start_time": "2021-08-30T20:47:50.000Z"
   },
   {
    "duration": 24,
    "start_time": "2021-08-30T20:47:50.044Z"
   },
   {
    "duration": 9,
    "start_time": "2021-08-30T20:49:36.166Z"
   },
   {
    "duration": 602,
    "start_time": "2021-08-30T20:49:46.589Z"
   },
   {
    "duration": 56,
    "start_time": "2021-08-30T20:49:47.193Z"
   },
   {
    "duration": 12,
    "start_time": "2021-08-30T20:49:47.251Z"
   },
   {
    "duration": 22,
    "start_time": "2021-08-30T20:49:47.265Z"
   },
   {
    "duration": 53,
    "start_time": "2021-08-30T20:49:47.288Z"
   },
   {
    "duration": 11,
    "start_time": "2021-08-30T20:49:47.343Z"
   },
   {
    "duration": 25,
    "start_time": "2021-08-30T20:49:47.356Z"
   },
   {
    "duration": 9,
    "start_time": "2021-08-30T20:49:47.385Z"
   },
   {
    "duration": 45,
    "start_time": "2021-08-30T20:49:47.396Z"
   },
   {
    "duration": 16,
    "start_time": "2021-08-30T20:49:47.443Z"
   },
   {
    "duration": 8,
    "start_time": "2021-08-30T20:49:47.462Z"
   },
   {
    "duration": 8,
    "start_time": "2021-08-30T20:49:47.472Z"
   },
   {
    "duration": 7,
    "start_time": "2021-08-30T20:49:47.482Z"
   },
   {
    "duration": 9,
    "start_time": "2021-08-30T20:49:47.491Z"
   },
   {
    "duration": 11,
    "start_time": "2021-08-30T20:49:47.502Z"
   },
   {
    "duration": 61,
    "start_time": "2021-08-30T20:49:47.516Z"
   },
   {
    "duration": 14,
    "start_time": "2021-08-30T20:49:47.580Z"
   },
   {
    "duration": 59,
    "start_time": "2021-08-30T20:49:47.596Z"
   },
   {
    "duration": 9,
    "start_time": "2021-08-30T20:49:47.657Z"
   },
   {
    "duration": 24,
    "start_time": "2021-08-30T20:49:47.669Z"
   },
   {
    "duration": 8,
    "start_time": "2021-08-30T20:49:47.695Z"
   },
   {
    "duration": 36,
    "start_time": "2021-08-30T20:49:47.705Z"
   },
   {
    "duration": 4,
    "start_time": "2021-08-30T20:49:47.744Z"
   },
   {
    "duration": 18,
    "start_time": "2021-08-30T20:49:47.750Z"
   },
   {
    "duration": 14,
    "start_time": "2021-08-30T20:49:47.770Z"
   },
   {
    "duration": 31,
    "start_time": "2021-08-30T20:49:47.786Z"
   },
   {
    "duration": 27,
    "start_time": "2021-08-30T20:49:47.819Z"
   },
   {
    "duration": 16,
    "start_time": "2021-08-30T20:49:47.848Z"
   },
   {
    "duration": 7,
    "start_time": "2021-08-30T20:49:47.866Z"
   },
   {
    "duration": 29,
    "start_time": "2021-08-30T20:49:47.875Z"
   },
   {
    "duration": 12,
    "start_time": "2021-08-30T20:49:47.906Z"
   },
   {
    "duration": 41,
    "start_time": "2021-08-30T20:49:47.920Z"
   },
   {
    "duration": 15,
    "start_time": "2021-08-30T20:59:12.249Z"
   },
   {
    "duration": 11,
    "start_time": "2021-08-30T20:59:36.264Z"
   },
   {
    "duration": 645,
    "start_time": "2021-08-30T21:02:00.326Z"
   },
   {
    "duration": 56,
    "start_time": "2021-08-30T21:02:00.973Z"
   },
   {
    "duration": 13,
    "start_time": "2021-08-30T21:02:01.033Z"
   },
   {
    "duration": 36,
    "start_time": "2021-08-30T21:02:01.048Z"
   },
   {
    "duration": 42,
    "start_time": "2021-08-30T21:02:01.086Z"
   },
   {
    "duration": 15,
    "start_time": "2021-08-30T21:02:01.130Z"
   },
   {
    "duration": 26,
    "start_time": "2021-08-30T21:02:01.149Z"
   },
   {
    "duration": 9,
    "start_time": "2021-08-30T21:02:01.178Z"
   },
   {
    "duration": 34,
    "start_time": "2021-08-30T21:02:01.189Z"
   },
   {
    "duration": 20,
    "start_time": "2021-08-30T21:02:01.225Z"
   },
   {
    "duration": 12,
    "start_time": "2021-08-30T21:02:01.247Z"
   },
   {
    "duration": 17,
    "start_time": "2021-08-30T21:02:01.261Z"
   },
   {
    "duration": 26,
    "start_time": "2021-08-30T21:02:01.280Z"
   },
   {
    "duration": 22,
    "start_time": "2021-08-30T21:02:01.308Z"
   },
   {
    "duration": 16,
    "start_time": "2021-08-30T21:02:01.333Z"
   },
   {
    "duration": 49,
    "start_time": "2021-08-30T21:02:01.351Z"
   },
   {
    "duration": 13,
    "start_time": "2021-08-30T21:02:01.402Z"
   },
   {
    "duration": 55,
    "start_time": "2021-08-30T21:02:01.417Z"
   },
   {
    "duration": 9,
    "start_time": "2021-08-30T21:02:01.474Z"
   },
   {
    "duration": 24,
    "start_time": "2021-08-30T21:02:01.486Z"
   },
   {
    "duration": 14,
    "start_time": "2021-08-30T21:02:01.512Z"
   },
   {
    "duration": 23,
    "start_time": "2021-08-30T21:02:01.529Z"
   },
   {
    "duration": 37,
    "start_time": "2021-08-30T21:02:01.554Z"
   },
   {
    "duration": 29,
    "start_time": "2021-08-30T21:02:01.593Z"
   },
   {
    "duration": 17,
    "start_time": "2021-08-30T21:02:01.624Z"
   },
   {
    "duration": 32,
    "start_time": "2021-08-30T21:02:01.643Z"
   },
   {
    "duration": 19,
    "start_time": "2021-08-30T21:02:01.677Z"
   },
   {
    "duration": 16,
    "start_time": "2021-08-30T21:02:01.699Z"
   },
   {
    "duration": 23,
    "start_time": "2021-08-30T21:02:01.717Z"
   },
   {
    "duration": 102,
    "start_time": "2021-08-30T21:02:01.743Z"
   },
   {
    "duration": 171,
    "start_time": "2021-08-30T21:02:01.676Z"
   },
   {
    "duration": 160,
    "start_time": "2021-08-30T21:02:01.688Z"
   },
   {
    "duration": 636,
    "start_time": "2021-08-30T21:05:58.703Z"
   },
   {
    "duration": 57,
    "start_time": "2021-08-30T21:05:59.341Z"
   },
   {
    "duration": 12,
    "start_time": "2021-08-30T21:05:59.400Z"
   },
   {
    "duration": 30,
    "start_time": "2021-08-30T21:05:59.414Z"
   },
   {
    "duration": 36,
    "start_time": "2021-08-30T21:05:59.446Z"
   },
   {
    "duration": 10,
    "start_time": "2021-08-30T21:05:59.484Z"
   },
   {
    "duration": 46,
    "start_time": "2021-08-30T21:05:59.496Z"
   },
   {
    "duration": 8,
    "start_time": "2021-08-30T21:05:59.545Z"
   },
   {
    "duration": 8,
    "start_time": "2021-08-30T21:05:59.555Z"
   },
   {
    "duration": 11,
    "start_time": "2021-08-30T21:05:59.565Z"
   },
   {
    "duration": 6,
    "start_time": "2021-08-30T21:05:59.578Z"
   },
   {
    "duration": 5,
    "start_time": "2021-08-30T21:05:59.586Z"
   },
   {
    "duration": 7,
    "start_time": "2021-08-30T21:05:59.592Z"
   },
   {
    "duration": 46,
    "start_time": "2021-08-30T21:05:59.601Z"
   },
   {
    "duration": 7,
    "start_time": "2021-08-30T21:05:59.649Z"
   },
   {
    "duration": 36,
    "start_time": "2021-08-30T21:05:59.658Z"
   },
   {
    "duration": 10,
    "start_time": "2021-08-30T21:05:59.696Z"
   },
   {
    "duration": 52,
    "start_time": "2021-08-30T21:05:59.708Z"
   },
   {
    "duration": 7,
    "start_time": "2021-08-30T21:05:59.762Z"
   },
   {
    "duration": 20,
    "start_time": "2021-08-30T21:05:59.771Z"
   },
   {
    "duration": 8,
    "start_time": "2021-08-30T21:05:59.793Z"
   },
   {
    "duration": 4,
    "start_time": "2021-08-30T21:05:59.803Z"
   },
   {
    "duration": 33,
    "start_time": "2021-08-30T21:05:59.811Z"
   },
   {
    "duration": 19,
    "start_time": "2021-08-30T21:05:59.847Z"
   },
   {
    "duration": 14,
    "start_time": "2021-08-30T21:05:59.868Z"
   },
   {
    "duration": 16,
    "start_time": "2021-08-30T21:05:59.885Z"
   },
   {
    "duration": 47,
    "start_time": "2021-08-30T21:05:59.903Z"
   },
   {
    "duration": 15,
    "start_time": "2021-08-30T21:05:59.952Z"
   },
   {
    "duration": 7,
    "start_time": "2021-08-30T21:05:59.969Z"
   },
   {
    "duration": 15,
    "start_time": "2021-08-30T21:05:59.978Z"
   },
   {
    "duration": 13,
    "start_time": "2021-08-30T21:05:59.995Z"
   },
   {
    "duration": 308,
    "start_time": "2021-08-31T05:31:20.612Z"
   },
   {
    "duration": 744,
    "start_time": "2021-08-31T05:31:33.896Z"
   },
   {
    "duration": 65,
    "start_time": "2021-08-31T05:31:34.642Z"
   },
   {
    "duration": 15,
    "start_time": "2021-08-31T05:31:34.709Z"
   },
   {
    "duration": 43,
    "start_time": "2021-08-31T05:31:34.727Z"
   },
   {
    "duration": 46,
    "start_time": "2021-08-31T05:31:34.773Z"
   },
   {
    "duration": 12,
    "start_time": "2021-08-31T05:31:34.822Z"
   },
   {
    "duration": 36,
    "start_time": "2021-08-31T05:31:34.868Z"
   },
   {
    "duration": 10,
    "start_time": "2021-08-31T05:31:34.908Z"
   },
   {
    "duration": 10,
    "start_time": "2021-08-31T05:31:34.921Z"
   },
   {
    "duration": 45,
    "start_time": "2021-08-31T05:31:34.933Z"
   },
   {
    "duration": 9,
    "start_time": "2021-08-31T05:31:34.981Z"
   },
   {
    "duration": 7,
    "start_time": "2021-08-31T05:31:34.992Z"
   },
   {
    "duration": 17,
    "start_time": "2021-08-31T05:31:35.001Z"
   },
   {
    "duration": 23,
    "start_time": "2021-08-31T05:31:35.021Z"
   },
   {
    "duration": 21,
    "start_time": "2021-08-31T05:31:35.047Z"
   },
   {
    "duration": 55,
    "start_time": "2021-08-31T05:31:35.071Z"
   },
   {
    "duration": 15,
    "start_time": "2021-08-31T05:31:35.128Z"
   },
   {
    "duration": 60,
    "start_time": "2021-08-31T05:31:35.146Z"
   },
   {
    "duration": 10,
    "start_time": "2021-08-31T05:31:35.209Z"
   },
   {
    "duration": 28,
    "start_time": "2021-08-31T05:31:35.221Z"
   },
   {
    "duration": 10,
    "start_time": "2021-08-31T05:31:35.268Z"
   },
   {
    "duration": 5,
    "start_time": "2021-08-31T05:31:35.280Z"
   },
   {
    "duration": 8,
    "start_time": "2021-08-31T05:31:35.290Z"
   },
   {
    "duration": 26,
    "start_time": "2021-08-31T05:31:35.301Z"
   },
   {
    "duration": 46,
    "start_time": "2021-08-31T05:31:35.329Z"
   },
   {
    "duration": 31,
    "start_time": "2021-08-31T05:31:35.377Z"
   },
   {
    "duration": 23,
    "start_time": "2021-08-31T05:31:35.410Z"
   },
   {
    "duration": 46,
    "start_time": "2021-08-31T05:31:35.436Z"
   },
   {
    "duration": 10,
    "start_time": "2021-08-31T05:31:35.485Z"
   },
   {
    "duration": 21,
    "start_time": "2021-08-31T05:31:35.498Z"
   },
   {
    "duration": 17,
    "start_time": "2021-08-31T05:31:35.521Z"
   },
   {
    "duration": 378,
    "start_time": "2021-08-31T05:31:35.540Z"
   },
   {
    "duration": 11,
    "start_time": "2021-08-31T05:31:56.801Z"
   },
   {
    "duration": 101,
    "start_time": "2021-08-31T05:48:30.404Z"
   },
   {
    "duration": 107,
    "start_time": "2021-08-31T05:48:46.114Z"
   },
   {
    "duration": 127,
    "start_time": "2021-08-31T05:48:51.313Z"
   },
   {
    "duration": 273,
    "start_time": "2021-08-31T05:48:56.291Z"
   },
   {
    "duration": 4,
    "start_time": "2021-08-31T05:49:19.420Z"
   },
   {
    "duration": 16,
    "start_time": "2021-08-31T06:25:50.944Z"
   },
   {
    "duration": 187,
    "start_time": "2021-08-31T06:26:03.803Z"
   },
   {
    "duration": 10,
    "start_time": "2021-08-31T06:26:10.368Z"
   },
   {
    "duration": 9647,
    "start_time": "2021-08-31T06:37:29.251Z"
   },
   {
    "duration": 339,
    "start_time": "2021-08-31T06:37:59.752Z"
   },
   {
    "duration": 796,
    "start_time": "2021-08-31T06:41:17.957Z"
   },
   {
    "duration": 67,
    "start_time": "2021-08-31T06:41:18.756Z"
   },
   {
    "duration": 18,
    "start_time": "2021-08-31T06:41:18.826Z"
   },
   {
    "duration": 52,
    "start_time": "2021-08-31T06:41:18.847Z"
   },
   {
    "duration": 78,
    "start_time": "2021-08-31T06:41:18.902Z"
   },
   {
    "duration": 15,
    "start_time": "2021-08-31T06:41:18.983Z"
   },
   {
    "duration": 37,
    "start_time": "2021-08-31T06:41:19.001Z"
   },
   {
    "duration": 12,
    "start_time": "2021-08-31T06:41:19.071Z"
   },
   {
    "duration": 12,
    "start_time": "2021-08-31T06:41:19.086Z"
   },
   {
    "duration": 18,
    "start_time": "2021-08-31T06:41:19.100Z"
   },
   {
    "duration": 61,
    "start_time": "2021-08-31T06:41:19.120Z"
   },
   {
    "duration": 7,
    "start_time": "2021-08-31T06:41:19.184Z"
   },
   {
    "duration": 6,
    "start_time": "2021-08-31T06:41:19.194Z"
   },
   {
    "duration": 14,
    "start_time": "2021-08-31T06:41:19.203Z"
   },
   {
    "duration": 4,
    "start_time": "2021-08-31T06:41:19.219Z"
   },
   {
    "duration": 82,
    "start_time": "2021-08-31T06:41:19.226Z"
   },
   {
    "duration": 15,
    "start_time": "2021-08-31T06:41:19.310Z"
   },
   {
    "duration": 73,
    "start_time": "2021-08-31T06:41:19.327Z"
   },
   {
    "duration": 10,
    "start_time": "2021-08-31T06:41:19.402Z"
   },
   {
    "duration": 22,
    "start_time": "2021-08-31T06:41:19.415Z"
   },
   {
    "duration": 29,
    "start_time": "2021-08-31T06:41:19.440Z"
   },
   {
    "duration": 5,
    "start_time": "2021-08-31T06:41:19.471Z"
   },
   {
    "duration": 7,
    "start_time": "2021-08-31T06:41:19.480Z"
   },
   {
    "duration": 22,
    "start_time": "2021-08-31T06:41:19.489Z"
   },
   {
    "duration": 55,
    "start_time": "2021-08-31T06:41:19.513Z"
   },
   {
    "duration": 22,
    "start_time": "2021-08-31T06:41:19.570Z"
   },
   {
    "duration": 25,
    "start_time": "2021-08-31T06:41:19.595Z"
   },
   {
    "duration": 51,
    "start_time": "2021-08-31T06:41:19.623Z"
   },
   {
    "duration": 10,
    "start_time": "2021-08-31T06:41:19.677Z"
   },
   {
    "duration": 19,
    "start_time": "2021-08-31T06:41:19.689Z"
   },
   {
    "duration": 13,
    "start_time": "2021-08-31T06:41:19.710Z"
   },
   {
    "duration": 42,
    "start_time": "2021-08-31T06:41:19.726Z"
   },
   {
    "duration": 3,
    "start_time": "2021-08-31T06:41:19.771Z"
   },
   {
    "duration": 14,
    "start_time": "2021-08-31T06:41:19.776Z"
   },
   {
    "duration": 4,
    "start_time": "2021-08-31T06:41:19.793Z"
   },
   {
    "duration": 1810,
    "start_time": "2021-08-31T06:41:19.799Z"
   },
   {
    "duration": 1109,
    "start_time": "2021-08-31T06:41:20.502Z"
   },
   {
    "duration": 846,
    "start_time": "2021-08-31T06:42:05.735Z"
   },
   {
    "duration": 67,
    "start_time": "2021-08-31T06:42:06.583Z"
   },
   {
    "duration": 19,
    "start_time": "2021-08-31T06:42:06.653Z"
   },
   {
    "duration": 30,
    "start_time": "2021-08-31T06:42:06.675Z"
   },
   {
    "duration": 75,
    "start_time": "2021-08-31T06:42:06.707Z"
   },
   {
    "duration": 12,
    "start_time": "2021-08-31T06:42:06.784Z"
   },
   {
    "duration": 43,
    "start_time": "2021-08-31T06:42:06.798Z"
   },
   {
    "duration": 28,
    "start_time": "2021-08-31T06:42:06.845Z"
   },
   {
    "duration": 10,
    "start_time": "2021-08-31T06:42:06.876Z"
   },
   {
    "duration": 14,
    "start_time": "2021-08-31T06:42:06.889Z"
   },
   {
    "duration": 8,
    "start_time": "2021-08-31T06:42:06.905Z"
   },
   {
    "duration": 5,
    "start_time": "2021-08-31T06:42:06.915Z"
   },
   {
    "duration": 46,
    "start_time": "2021-08-31T06:42:06.923Z"
   },
   {
    "duration": 10,
    "start_time": "2021-08-31T06:42:06.973Z"
   },
   {
    "duration": 5,
    "start_time": "2021-08-31T06:42:06.985Z"
   },
   {
    "duration": 84,
    "start_time": "2021-08-31T06:42:06.992Z"
   },
   {
    "duration": 15,
    "start_time": "2021-08-31T06:42:07.079Z"
   },
   {
    "duration": 83,
    "start_time": "2021-08-31T06:42:07.097Z"
   },
   {
    "duration": 12,
    "start_time": "2021-08-31T06:42:07.183Z"
   },
   {
    "duration": 30,
    "start_time": "2021-08-31T06:42:07.198Z"
   },
   {
    "duration": 38,
    "start_time": "2021-08-31T06:42:07.230Z"
   },
   {
    "duration": 5,
    "start_time": "2021-08-31T06:42:07.271Z"
   },
   {
    "duration": 9,
    "start_time": "2021-08-31T06:42:07.281Z"
   },
   {
    "duration": 20,
    "start_time": "2021-08-31T06:42:07.293Z"
   },
   {
    "duration": 50,
    "start_time": "2021-08-31T06:42:07.316Z"
   },
   {
    "duration": 22,
    "start_time": "2021-08-31T06:42:07.369Z"
   },
   {
    "duration": 25,
    "start_time": "2021-08-31T06:42:07.393Z"
   },
   {
    "duration": 51,
    "start_time": "2021-08-31T06:42:07.421Z"
   },
   {
    "duration": 10,
    "start_time": "2021-08-31T06:42:07.474Z"
   },
   {
    "duration": 22,
    "start_time": "2021-08-31T06:42:07.487Z"
   },
   {
    "duration": 15,
    "start_time": "2021-08-31T06:42:07.512Z"
   },
   {
    "duration": 42,
    "start_time": "2021-08-31T06:42:07.529Z"
   },
   {
    "duration": 6,
    "start_time": "2021-08-31T06:42:07.573Z"
   },
   {
    "duration": 13,
    "start_time": "2021-08-31T06:42:07.581Z"
   },
   {
    "duration": 4,
    "start_time": "2021-08-31T06:42:07.597Z"
   },
   {
    "duration": 4601,
    "start_time": "2021-08-31T06:42:07.603Z"
   },
   {
    "duration": 10,
    "start_time": "2021-08-31T06:42:12.207Z"
   },
   {
    "duration": 10,
    "start_time": "2021-08-31T06:42:40.125Z"
   },
   {
    "duration": 9,
    "start_time": "2021-08-31T06:42:50.956Z"
   },
   {
    "duration": 715,
    "start_time": "2021-08-31T06:43:27.909Z"
   },
   {
    "duration": 66,
    "start_time": "2021-08-31T06:43:28.627Z"
   },
   {
    "duration": 15,
    "start_time": "2021-08-31T06:43:28.696Z"
   },
   {
    "duration": 54,
    "start_time": "2021-08-31T06:43:28.715Z"
   },
   {
    "duration": 47,
    "start_time": "2021-08-31T06:43:28.771Z"
   },
   {
    "duration": 12,
    "start_time": "2021-08-31T06:43:28.820Z"
   },
   {
    "duration": 62,
    "start_time": "2021-08-31T06:43:28.835Z"
   },
   {
    "duration": 10,
    "start_time": "2021-08-31T06:43:28.901Z"
   },
   {
    "duration": 9,
    "start_time": "2021-08-31T06:43:28.915Z"
   },
   {
    "duration": 43,
    "start_time": "2021-08-31T06:43:28.927Z"
   },
   {
    "duration": 8,
    "start_time": "2021-08-31T06:43:28.972Z"
   },
   {
    "duration": 7,
    "start_time": "2021-08-31T06:43:28.982Z"
   },
   {
    "duration": 8,
    "start_time": "2021-08-31T06:43:28.991Z"
   },
   {
    "duration": 10,
    "start_time": "2021-08-31T06:43:29.001Z"
   },
   {
    "duration": 5,
    "start_time": "2021-08-31T06:43:29.013Z"
   },
   {
    "duration": 91,
    "start_time": "2021-08-31T06:43:29.020Z"
   },
   {
    "duration": 15,
    "start_time": "2021-08-31T06:43:29.113Z"
   },
   {
    "duration": 71,
    "start_time": "2021-08-31T06:43:29.130Z"
   },
   {
    "duration": 9,
    "start_time": "2021-08-31T06:43:29.204Z"
   },
   {
    "duration": 27,
    "start_time": "2021-08-31T06:43:29.216Z"
   },
   {
    "duration": 25,
    "start_time": "2021-08-31T06:43:29.246Z"
   },
   {
    "duration": 4,
    "start_time": "2021-08-31T06:43:29.274Z"
   },
   {
    "duration": 6,
    "start_time": "2021-08-31T06:43:29.283Z"
   },
   {
    "duration": 22,
    "start_time": "2021-08-31T06:43:29.292Z"
   },
   {
    "duration": 53,
    "start_time": "2021-08-31T06:43:29.316Z"
   },
   {
    "duration": 21,
    "start_time": "2021-08-31T06:43:29.372Z"
   },
   {
    "duration": 25,
    "start_time": "2021-08-31T06:43:29.395Z"
   },
   {
    "duration": 55,
    "start_time": "2021-08-31T06:43:29.422Z"
   },
   {
    "duration": 9,
    "start_time": "2021-08-31T06:43:29.480Z"
   },
   {
    "duration": 22,
    "start_time": "2021-08-31T06:43:29.492Z"
   },
   {
    "duration": 12,
    "start_time": "2021-08-31T06:43:29.517Z"
   },
   {
    "duration": 39,
    "start_time": "2021-08-31T06:43:29.531Z"
   },
   {
    "duration": 17,
    "start_time": "2021-08-31T06:43:29.573Z"
   },
   {
    "duration": 4,
    "start_time": "2021-08-31T06:43:29.592Z"
   },
   {
    "duration": 13,
    "start_time": "2021-08-31T06:43:29.598Z"
   },
   {
    "duration": 4,
    "start_time": "2021-08-31T06:43:29.614Z"
   },
   {
    "duration": 4597,
    "start_time": "2021-08-31T06:43:29.620Z"
   },
   {
    "duration": 11,
    "start_time": "2021-08-31T06:43:34.220Z"
   },
   {
    "duration": 11,
    "start_time": "2021-08-31T06:43:34.233Z"
   },
   {
    "duration": 9,
    "start_time": "2021-08-31T06:44:53.929Z"
   },
   {
    "duration": 406,
    "start_time": "2021-08-31T06:54:22.185Z"
   },
   {
    "duration": 6,
    "start_time": "2021-08-31T06:54:33.666Z"
   },
   {
    "duration": 11,
    "start_time": "2021-08-31T06:54:43.264Z"
   },
   {
    "duration": 9,
    "start_time": "2021-08-31T06:54:54.631Z"
   },
   {
    "duration": 10,
    "start_time": "2021-08-31T06:58:05.866Z"
   },
   {
    "duration": 788,
    "start_time": "2021-08-31T06:59:50.432Z"
   },
   {
    "duration": 66,
    "start_time": "2021-08-31T06:59:51.223Z"
   },
   {
    "duration": 15,
    "start_time": "2021-08-31T06:59:51.292Z"
   },
   {
    "duration": 37,
    "start_time": "2021-08-31T06:59:51.310Z"
   },
   {
    "duration": 78,
    "start_time": "2021-08-31T06:59:51.367Z"
   },
   {
    "duration": 38,
    "start_time": "2021-08-31T06:59:51.448Z"
   },
   {
    "duration": 38,
    "start_time": "2021-08-31T06:59:51.489Z"
   },
   {
    "duration": 36,
    "start_time": "2021-08-31T06:59:51.531Z"
   },
   {
    "duration": 10,
    "start_time": "2021-08-31T06:59:51.570Z"
   },
   {
    "duration": 19,
    "start_time": "2021-08-31T06:59:51.583Z"
   },
   {
    "duration": 8,
    "start_time": "2021-08-31T06:59:51.604Z"
   },
   {
    "duration": 12,
    "start_time": "2021-08-31T06:59:51.614Z"
   },
   {
    "duration": 14,
    "start_time": "2021-08-31T06:59:51.628Z"
   },
   {
    "duration": 9,
    "start_time": "2021-08-31T06:59:51.668Z"
   },
   {
    "duration": 8,
    "start_time": "2021-08-31T06:59:51.680Z"
   },
   {
    "duration": 78,
    "start_time": "2021-08-31T06:59:51.691Z"
   },
   {
    "duration": 15,
    "start_time": "2021-08-31T06:59:51.771Z"
   },
   {
    "duration": 53,
    "start_time": "2021-08-31T06:59:51.789Z"
   },
   {
    "duration": 29,
    "start_time": "2021-08-31T06:59:51.844Z"
   },
   {
    "duration": 30,
    "start_time": "2021-08-31T06:59:51.876Z"
   },
   {
    "duration": 9,
    "start_time": "2021-08-31T06:59:51.908Z"
   },
   {
    "duration": 5,
    "start_time": "2021-08-31T06:59:51.920Z"
   },
   {
    "duration": 37,
    "start_time": "2021-08-31T06:59:51.930Z"
   },
   {
    "duration": 16,
    "start_time": "2021-08-31T06:59:51.971Z"
   },
   {
    "duration": 20,
    "start_time": "2021-08-31T06:59:51.989Z"
   },
   {
    "duration": 26,
    "start_time": "2021-08-31T06:59:52.011Z"
   },
   {
    "duration": 50,
    "start_time": "2021-08-31T06:59:52.039Z"
   },
   {
    "duration": 21,
    "start_time": "2021-08-31T06:59:52.092Z"
   },
   {
    "duration": 10,
    "start_time": "2021-08-31T06:59:52.115Z"
   },
   {
    "duration": 49,
    "start_time": "2021-08-31T06:59:52.127Z"
   },
   {
    "duration": 17,
    "start_time": "2021-08-31T06:59:52.179Z"
   },
   {
    "duration": 18,
    "start_time": "2021-08-31T06:59:52.198Z"
   },
   {
    "duration": 7,
    "start_time": "2021-08-31T06:59:52.218Z"
   },
   {
    "duration": 14,
    "start_time": "2021-08-31T06:59:52.227Z"
   },
   {
    "duration": 4,
    "start_time": "2021-08-31T06:59:52.244Z"
   },
   {
    "duration": 4645,
    "start_time": "2021-08-31T06:59:52.250Z"
   },
   {
    "duration": 11,
    "start_time": "2021-08-31T06:59:56.897Z"
   },
   {
    "duration": 12,
    "start_time": "2021-08-31T06:59:56.911Z"
   },
   {
    "duration": 12,
    "start_time": "2021-08-31T06:59:56.925Z"
   },
   {
    "duration": 30,
    "start_time": "2021-08-31T06:59:56.939Z"
   },
   {
    "duration": 745,
    "start_time": "2021-08-31T07:16:11.291Z"
   },
   {
    "duration": 70,
    "start_time": "2021-08-31T07:16:12.039Z"
   },
   {
    "duration": 17,
    "start_time": "2021-08-31T07:16:12.122Z"
   },
   {
    "duration": 47,
    "start_time": "2021-08-31T07:16:12.142Z"
   },
   {
    "duration": 48,
    "start_time": "2021-08-31T07:16:12.191Z"
   },
   {
    "duration": 36,
    "start_time": "2021-08-31T07:16:12.242Z"
   },
   {
    "duration": 37,
    "start_time": "2021-08-31T07:16:12.280Z"
   },
   {
    "duration": 10,
    "start_time": "2021-08-31T07:16:12.320Z"
   },
   {
    "duration": 40,
    "start_time": "2021-08-31T07:16:12.333Z"
   },
   {
    "duration": 14,
    "start_time": "2021-08-31T07:16:12.376Z"
   },
   {
    "duration": 8,
    "start_time": "2021-08-31T07:16:12.392Z"
   },
   {
    "duration": 7,
    "start_time": "2021-08-31T07:16:12.402Z"
   },
   {
    "duration": 9,
    "start_time": "2021-08-31T07:16:12.411Z"
   },
   {
    "duration": 48,
    "start_time": "2021-08-31T07:16:12.423Z"
   },
   {
    "duration": 4,
    "start_time": "2021-08-31T07:16:12.474Z"
   },
   {
    "duration": 53,
    "start_time": "2021-08-31T07:16:12.480Z"
   },
   {
    "duration": 36,
    "start_time": "2021-08-31T07:16:12.535Z"
   },
   {
    "duration": 49,
    "start_time": "2021-08-31T07:16:12.574Z"
   },
   {
    "duration": 10,
    "start_time": "2021-08-31T07:16:12.625Z"
   },
   {
    "duration": 44,
    "start_time": "2021-08-31T07:16:12.637Z"
   },
   {
    "duration": 10,
    "start_time": "2021-08-31T07:16:12.683Z"
   },
   {
    "duration": 5,
    "start_time": "2021-08-31T07:16:12.695Z"
   },
   {
    "duration": 5,
    "start_time": "2021-08-31T07:16:12.704Z"
   },
   {
    "duration": 61,
    "start_time": "2021-08-31T07:16:12.712Z"
   },
   {
    "duration": 20,
    "start_time": "2021-08-31T07:16:12.775Z"
   },
   {
    "duration": 34,
    "start_time": "2021-08-31T07:16:12.797Z"
   },
   {
    "duration": 46,
    "start_time": "2021-08-31T07:16:12.833Z"
   },
   {
    "duration": 22,
    "start_time": "2021-08-31T07:16:12.881Z"
   },
   {
    "duration": 11,
    "start_time": "2021-08-31T07:16:12.905Z"
   },
   {
    "duration": 18,
    "start_time": "2021-08-31T07:16:12.918Z"
   },
   {
    "duration": 38,
    "start_time": "2021-08-31T07:16:12.938Z"
   },
   {
    "duration": 12,
    "start_time": "2021-08-31T07:16:12.979Z"
   },
   {
    "duration": 5,
    "start_time": "2021-08-31T07:16:12.993Z"
   },
   {
    "duration": 14,
    "start_time": "2021-08-31T07:16:13.000Z"
   },
   {
    "duration": 6,
    "start_time": "2021-08-31T07:16:13.016Z"
   },
   {
    "duration": 4549,
    "start_time": "2021-08-31T07:16:13.024Z"
   },
   {
    "duration": 11,
    "start_time": "2021-08-31T07:16:17.576Z"
   },
   {
    "duration": 12,
    "start_time": "2021-08-31T07:16:17.589Z"
   },
   {
    "duration": 28,
    "start_time": "2021-08-31T07:16:17.604Z"
   },
   {
    "duration": 20,
    "start_time": "2021-08-31T07:16:17.634Z"
   },
   {
    "duration": 383,
    "start_time": "2021-08-31T07:25:52.401Z"
   },
   {
    "duration": 13,
    "start_time": "2021-08-31T07:26:00.885Z"
   },
   {
    "duration": 11,
    "start_time": "2021-08-31T08:29:47.465Z"
   },
   {
    "duration": 8,
    "start_time": "2021-08-31T08:35:12.109Z"
   },
   {
    "duration": 12,
    "start_time": "2021-08-31T08:40:06.433Z"
   },
   {
    "duration": 327,
    "start_time": "2021-08-31T08:40:43.037Z"
   },
   {
    "duration": 111,
    "start_time": "2021-08-31T08:48:55.114Z"
   },
   {
    "duration": 12,
    "start_time": "2021-08-31T08:48:59.470Z"
   },
   {
    "duration": 52,
    "start_time": "2021-08-31T08:49:06.301Z"
   },
   {
    "duration": 12,
    "start_time": "2021-08-31T09:16:59.268Z"
   },
   {
    "duration": 33,
    "start_time": "2021-08-31T09:17:08.762Z"
   },
   {
    "duration": 111,
    "start_time": "2021-08-31T09:17:38.575Z"
   },
   {
    "duration": 106,
    "start_time": "2021-08-31T09:17:54.932Z"
   },
   {
    "duration": 87,
    "start_time": "2021-08-31T09:18:01.127Z"
   },
   {
    "duration": 10,
    "start_time": "2021-08-31T09:18:24.803Z"
   },
   {
    "duration": 32,
    "start_time": "2021-08-31T09:18:25.692Z"
   },
   {
    "duration": 18,
    "start_time": "2021-08-31T09:18:45.700Z"
   },
   {
    "duration": 33,
    "start_time": "2021-08-31T09:18:47.301Z"
   },
   {
    "duration": 107,
    "start_time": "2021-08-31T09:19:36.251Z"
   },
   {
    "duration": 127,
    "start_time": "2021-08-31T09:19:56.389Z"
   },
   {
    "duration": 83,
    "start_time": "2021-08-31T09:20:09.695Z"
   },
   {
    "duration": 19,
    "start_time": "2021-08-31T09:20:20.702Z"
   },
   {
    "duration": 37,
    "start_time": "2021-08-31T09:20:21.641Z"
   },
   {
    "duration": 19,
    "start_time": "2021-08-31T09:20:50.768Z"
   },
   {
    "duration": 34,
    "start_time": "2021-08-31T09:20:51.562Z"
   },
   {
    "duration": 19,
    "start_time": "2021-08-31T09:21:11.900Z"
   },
   {
    "duration": 35,
    "start_time": "2021-08-31T09:21:12.781Z"
   },
   {
    "duration": 100,
    "start_time": "2021-08-31T09:23:37.343Z"
   },
   {
    "duration": 183,
    "start_time": "2021-08-31T09:23:43.782Z"
   },
   {
    "duration": 83,
    "start_time": "2021-08-31T09:24:26.894Z"
   },
   {
    "duration": 701,
    "start_time": "2021-08-31T09:24:35.209Z"
   },
   {
    "duration": 15,
    "start_time": "2021-08-31T09:24:40.876Z"
   },
   {
    "duration": 34,
    "start_time": "2021-08-31T09:24:41.687Z"
   },
   {
    "duration": 105,
    "start_time": "2021-08-31T09:27:46.136Z"
   },
   {
    "duration": 4,
    "start_time": "2021-08-31T09:28:25.546Z"
   },
   {
    "duration": 11,
    "start_time": "2021-08-31T09:29:15.985Z"
   },
   {
    "duration": 32,
    "start_time": "2021-08-31T09:29:23.986Z"
   },
   {
    "duration": 4,
    "start_time": "2021-08-31T09:30:15.076Z"
   },
   {
    "duration": 10,
    "start_time": "2021-08-31T09:30:18.444Z"
   },
   {
    "duration": 32,
    "start_time": "2021-08-31T09:30:19.912Z"
   },
   {
    "duration": 10,
    "start_time": "2021-08-31T09:33:03.510Z"
   },
   {
    "duration": 10,
    "start_time": "2021-08-31T09:34:58.326Z"
   },
   {
    "duration": 314,
    "start_time": "2021-08-31T09:35:42.138Z"
   },
   {
    "duration": 20,
    "start_time": "2021-08-31T09:35:49.620Z"
   },
   {
    "duration": 11,
    "start_time": "2021-08-31T09:38:03.068Z"
   },
   {
    "duration": 91,
    "start_time": "2021-08-31T09:53:15.874Z"
   },
   {
    "duration": 5,
    "start_time": "2021-08-31T09:55:52.644Z"
   },
   {
    "duration": 13,
    "start_time": "2021-08-31T09:56:57.337Z"
   },
   {
    "duration": 35,
    "start_time": "2021-08-31T09:57:03.112Z"
   },
   {
    "duration": 6,
    "start_time": "2021-08-31T09:57:24.967Z"
   },
   {
    "duration": 17,
    "start_time": "2021-08-31T09:57:33.172Z"
   },
   {
    "duration": 53,
    "start_time": "2021-08-31T09:57:34.087Z"
   },
   {
    "duration": 9,
    "start_time": "2021-08-31T09:57:57.212Z"
   },
   {
    "duration": 46,
    "start_time": "2021-08-31T10:07:26.358Z"
   },
   {
    "duration": 27,
    "start_time": "2021-08-31T10:09:02.314Z"
   },
   {
    "duration": 740,
    "start_time": "2021-08-31T10:14:32.498Z"
   },
   {
    "duration": 73,
    "start_time": "2021-08-31T10:14:33.241Z"
   },
   {
    "duration": 15,
    "start_time": "2021-08-31T10:14:33.317Z"
   },
   {
    "duration": 51,
    "start_time": "2021-08-31T10:14:33.335Z"
   },
   {
    "duration": 48,
    "start_time": "2021-08-31T10:14:33.388Z"
   },
   {
    "duration": 38,
    "start_time": "2021-08-31T10:14:33.439Z"
   },
   {
    "duration": 37,
    "start_time": "2021-08-31T10:14:33.479Z"
   },
   {
    "duration": 10,
    "start_time": "2021-08-31T10:14:33.520Z"
   },
   {
    "duration": 38,
    "start_time": "2021-08-31T10:14:33.534Z"
   },
   {
    "duration": 14,
    "start_time": "2021-08-31T10:14:33.575Z"
   },
   {
    "duration": 8,
    "start_time": "2021-08-31T10:14:33.592Z"
   },
   {
    "duration": 8,
    "start_time": "2021-08-31T10:14:33.602Z"
   },
   {
    "duration": 6,
    "start_time": "2021-08-31T10:14:33.612Z"
   },
   {
    "duration": 51,
    "start_time": "2021-08-31T10:14:33.620Z"
   },
   {
    "duration": 5,
    "start_time": "2021-08-31T10:14:33.673Z"
   },
   {
    "duration": 50,
    "start_time": "2021-08-31T10:14:33.680Z"
   },
   {
    "duration": 35,
    "start_time": "2021-08-31T10:14:33.732Z"
   },
   {
    "duration": 51,
    "start_time": "2021-08-31T10:14:33.770Z"
   },
   {
    "duration": 9,
    "start_time": "2021-08-31T10:14:33.823Z"
   },
   {
    "duration": 50,
    "start_time": "2021-08-31T10:14:33.834Z"
   },
   {
    "duration": 8,
    "start_time": "2021-08-31T10:14:33.887Z"
   },
   {
    "duration": 5,
    "start_time": "2021-08-31T10:14:33.898Z"
   },
   {
    "duration": 6,
    "start_time": "2021-08-31T10:14:33.908Z"
   },
   {
    "duration": 24,
    "start_time": "2021-08-31T10:14:33.916Z"
   },
   {
    "duration": 43,
    "start_time": "2021-08-31T10:14:33.942Z"
   },
   {
    "duration": 33,
    "start_time": "2021-08-31T10:14:33.987Z"
   },
   {
    "duration": 46,
    "start_time": "2021-08-31T10:14:34.022Z"
   },
   {
    "duration": 23,
    "start_time": "2021-08-31T10:14:34.071Z"
   },
   {
    "duration": 10,
    "start_time": "2021-08-31T10:14:34.097Z"
   },
   {
    "duration": 24,
    "start_time": "2021-08-31T10:14:34.109Z"
   },
   {
    "duration": 38,
    "start_time": "2021-08-31T10:14:34.136Z"
   },
   {
    "duration": 15,
    "start_time": "2021-08-31T10:14:34.177Z"
   },
   {
    "duration": 5,
    "start_time": "2021-08-31T10:14:34.194Z"
   },
   {
    "duration": 19,
    "start_time": "2021-08-31T10:14:34.201Z"
   },
   {
    "duration": 4,
    "start_time": "2021-08-31T10:14:34.222Z"
   },
   {
    "duration": 4565,
    "start_time": "2021-08-31T10:14:34.228Z"
   },
   {
    "duration": 11,
    "start_time": "2021-08-31T10:14:38.796Z"
   },
   {
    "duration": 19,
    "start_time": "2021-08-31T10:14:38.810Z"
   },
   {
    "duration": 25,
    "start_time": "2021-08-31T10:14:38.831Z"
   },
   {
    "duration": 19,
    "start_time": "2021-08-31T10:14:38.859Z"
   },
   {
    "duration": 22,
    "start_time": "2021-08-31T10:14:38.881Z"
   },
   {
    "duration": 37,
    "start_time": "2021-08-31T10:14:38.905Z"
   },
   {
    "duration": 29,
    "start_time": "2021-08-31T10:14:38.945Z"
   },
   {
    "duration": 29,
    "start_time": "2021-08-31T10:14:38.977Z"
   },
   {
    "duration": 30,
    "start_time": "2021-08-31T10:14:39.008Z"
   },
   {
    "duration": 376,
    "start_time": "2021-08-31T11:28:24.373Z"
   },
   {
    "duration": 24,
    "start_time": "2021-08-31T11:28:55.729Z"
   },
   {
    "duration": 9,
    "start_time": "2021-08-31T11:29:02.367Z"
   },
   {
    "duration": 20,
    "start_time": "2021-08-31T11:36:19.056Z"
   },
   {
    "duration": 12,
    "start_time": "2021-08-31T11:36:19.942Z"
   },
   {
    "duration": 17,
    "start_time": "2021-08-31T11:37:32.560Z"
   },
   {
    "duration": 9,
    "start_time": "2021-08-31T11:37:33.101Z"
   },
   {
    "duration": 17,
    "start_time": "2021-08-31T11:39:21.311Z"
   },
   {
    "duration": 10,
    "start_time": "2021-08-31T11:39:26.644Z"
   },
   {
    "duration": 17,
    "start_time": "2021-08-31T11:46:37.629Z"
   },
   {
    "duration": 115,
    "start_time": "2021-08-31T11:48:01.720Z"
   },
   {
    "duration": 6830,
    "start_time": "2021-08-31T11:48:58.251Z"
   },
   {
    "duration": 7103,
    "start_time": "2021-08-31T11:49:35.122Z"
   },
   {
    "duration": 778,
    "start_time": "2021-08-31T11:50:17.378Z"
   },
   {
    "duration": 67,
    "start_time": "2021-08-31T11:50:18.159Z"
   },
   {
    "duration": 17,
    "start_time": "2021-08-31T11:50:18.229Z"
   },
   {
    "duration": 33,
    "start_time": "2021-08-31T11:50:18.267Z"
   },
   {
    "duration": 68,
    "start_time": "2021-08-31T11:50:18.303Z"
   },
   {
    "duration": 12,
    "start_time": "2021-08-31T11:50:18.374Z"
   },
   {
    "duration": 50,
    "start_time": "2021-08-31T11:50:18.388Z"
   },
   {
    "duration": 25,
    "start_time": "2021-08-31T11:50:18.442Z"
   },
   {
    "duration": 13,
    "start_time": "2021-08-31T11:50:18.472Z"
   },
   {
    "duration": 27,
    "start_time": "2021-08-31T11:50:18.487Z"
   },
   {
    "duration": 36,
    "start_time": "2021-08-31T11:50:18.517Z"
   },
   {
    "duration": 18,
    "start_time": "2021-08-31T11:50:18.556Z"
   },
   {
    "duration": 22,
    "start_time": "2021-08-31T11:50:18.577Z"
   },
   {
    "duration": 23,
    "start_time": "2021-08-31T11:50:18.602Z"
   },
   {
    "duration": 10,
    "start_time": "2021-08-31T11:50:18.629Z"
   },
   {
    "duration": 96,
    "start_time": "2021-08-31T11:50:18.643Z"
   },
   {
    "duration": 31,
    "start_time": "2021-08-31T11:50:18.743Z"
   },
   {
    "duration": 89,
    "start_time": "2021-08-31T11:50:18.778Z"
   },
   {
    "duration": 14,
    "start_time": "2021-08-31T11:50:18.871Z"
   },
   {
    "duration": 45,
    "start_time": "2021-08-31T11:50:18.888Z"
   },
   {
    "duration": 30,
    "start_time": "2021-08-31T11:50:18.937Z"
   },
   {
    "duration": 7,
    "start_time": "2021-08-31T11:50:18.970Z"
   },
   {
    "duration": 13,
    "start_time": "2021-08-31T11:50:18.986Z"
   },
   {
    "duration": 26,
    "start_time": "2021-08-31T11:50:19.004Z"
   },
   {
    "duration": 56,
    "start_time": "2021-08-31T11:50:19.033Z"
   },
   {
    "duration": 32,
    "start_time": "2021-08-31T11:50:19.093Z"
   },
   {
    "duration": 66,
    "start_time": "2021-08-31T11:50:19.129Z"
   },
   {
    "duration": 35,
    "start_time": "2021-08-31T11:50:19.198Z"
   },
   {
    "duration": 32,
    "start_time": "2021-08-31T11:50:19.237Z"
   },
   {
    "duration": 24,
    "start_time": "2021-08-31T11:50:19.272Z"
   },
   {
    "duration": 22,
    "start_time": "2021-08-31T11:50:19.299Z"
   },
   {
    "duration": 18,
    "start_time": "2021-08-31T11:50:19.325Z"
   },
   {
    "duration": 3,
    "start_time": "2021-08-31T11:50:19.368Z"
   },
   {
    "duration": 23,
    "start_time": "2021-08-31T11:50:19.374Z"
   },
   {
    "duration": 6,
    "start_time": "2021-08-31T11:50:19.399Z"
   },
   {
    "duration": 4560,
    "start_time": "2021-08-31T11:50:19.407Z"
   },
   {
    "duration": 12,
    "start_time": "2021-08-31T11:50:23.970Z"
   },
   {
    "duration": 17,
    "start_time": "2021-08-31T11:50:23.984Z"
   },
   {
    "duration": 21,
    "start_time": "2021-08-31T11:50:24.004Z"
   },
   {
    "duration": 24,
    "start_time": "2021-08-31T11:50:24.027Z"
   },
   {
    "duration": 25,
    "start_time": "2021-08-31T11:50:24.054Z"
   },
   {
    "duration": 16,
    "start_time": "2021-08-31T11:50:24.082Z"
   },
   {
    "duration": 21,
    "start_time": "2021-08-31T11:50:24.100Z"
   },
   {
    "duration": 17,
    "start_time": "2021-08-31T11:50:24.124Z"
   },
   {
    "duration": 26,
    "start_time": "2021-08-31T11:50:24.144Z"
   },
   {
    "duration": 410,
    "start_time": "2021-08-31T11:50:24.173Z"
   },
   {
    "duration": 1337,
    "start_time": "2021-08-31T11:50:23.249Z"
   },
   {
    "duration": 1333,
    "start_time": "2021-08-31T11:50:23.254Z"
   },
   {
    "duration": 1330,
    "start_time": "2021-08-31T11:50:23.259Z"
   },
   {
    "duration": 1325,
    "start_time": "2021-08-31T11:50:23.265Z"
   },
   {
    "duration": 1321,
    "start_time": "2021-08-31T11:50:23.270Z"
   },
   {
    "duration": 1317,
    "start_time": "2021-08-31T11:50:23.276Z"
   },
   {
    "duration": 100,
    "start_time": "2021-08-31T11:51:14.615Z"
   },
   {
    "duration": 17,
    "start_time": "2021-08-31T11:51:25.104Z"
   },
   {
    "duration": 17,
    "start_time": "2021-08-31T11:51:28.273Z"
   },
   {
    "duration": 9803,
    "start_time": "2021-08-31T11:51:30.493Z"
   },
   {
    "duration": 22,
    "start_time": "2021-08-31T11:53:01.464Z"
   },
   {
    "duration": 13,
    "start_time": "2021-08-31T11:53:07.772Z"
   },
   {
    "duration": 9,
    "start_time": "2021-08-31T11:53:19.671Z"
   },
   {
    "duration": 395,
    "start_time": "2021-08-31T11:53:22.877Z"
   },
   {
    "duration": 9,
    "start_time": "2021-08-31T11:53:29.072Z"
   },
   {
    "duration": 7,
    "start_time": "2021-08-31T11:56:18.149Z"
   },
   {
    "duration": 7,
    "start_time": "2021-08-31T11:57:04.781Z"
   },
   {
    "duration": 10,
    "start_time": "2021-08-31T11:58:06.669Z"
   },
   {
    "duration": 23,
    "start_time": "2021-08-31T11:58:12.149Z"
   },
   {
    "duration": 297,
    "start_time": "2021-08-31T11:58:22.043Z"
   },
   {
    "duration": 268,
    "start_time": "2021-08-31T11:58:26.449Z"
   },
   {
    "duration": 10,
    "start_time": "2021-08-31T11:58:29.343Z"
   },
   {
    "duration": 783,
    "start_time": "2021-08-31T12:10:36.060Z"
   },
   {
    "duration": 67,
    "start_time": "2021-08-31T12:10:36.846Z"
   },
   {
    "duration": 15,
    "start_time": "2021-08-31T12:10:36.916Z"
   },
   {
    "duration": 48,
    "start_time": "2021-08-31T12:10:36.935Z"
   },
   {
    "duration": 49,
    "start_time": "2021-08-31T12:10:36.986Z"
   },
   {
    "duration": 35,
    "start_time": "2021-08-31T12:10:37.037Z"
   },
   {
    "duration": 38,
    "start_time": "2021-08-31T12:10:37.075Z"
   },
   {
    "duration": 10,
    "start_time": "2021-08-31T12:10:37.117Z"
   },
   {
    "duration": 39,
    "start_time": "2021-08-31T12:10:37.131Z"
   },
   {
    "duration": 16,
    "start_time": "2021-08-31T12:10:37.172Z"
   },
   {
    "duration": 10,
    "start_time": "2021-08-31T12:10:37.190Z"
   },
   {
    "duration": 20,
    "start_time": "2021-08-31T12:10:37.202Z"
   },
   {
    "duration": 9,
    "start_time": "2021-08-31T12:10:37.224Z"
   },
   {
    "duration": 38,
    "start_time": "2021-08-31T12:10:37.236Z"
   },
   {
    "duration": 6,
    "start_time": "2021-08-31T12:10:37.277Z"
   },
   {
    "duration": 100,
    "start_time": "2021-08-31T12:10:37.286Z"
   },
   {
    "duration": 24,
    "start_time": "2021-08-31T12:10:37.389Z"
   },
   {
    "duration": 94,
    "start_time": "2021-08-31T12:10:37.417Z"
   },
   {
    "duration": 13,
    "start_time": "2021-08-31T12:10:37.514Z"
   },
   {
    "duration": 57,
    "start_time": "2021-08-31T12:10:37.529Z"
   },
   {
    "duration": 13,
    "start_time": "2021-08-31T12:10:37.589Z"
   },
   {
    "duration": 8,
    "start_time": "2021-08-31T12:10:37.605Z"
   },
   {
    "duration": 5,
    "start_time": "2021-08-31T12:10:37.619Z"
   },
   {
    "duration": 47,
    "start_time": "2021-08-31T12:10:37.627Z"
   },
   {
    "duration": 21,
    "start_time": "2021-08-31T12:10:37.676Z"
   },
   {
    "duration": 26,
    "start_time": "2021-08-31T12:10:37.699Z"
   },
   {
    "duration": 54,
    "start_time": "2021-08-31T12:10:37.727Z"
   },
   {
    "duration": 21,
    "start_time": "2021-08-31T12:10:37.784Z"
   },
   {
    "duration": 10,
    "start_time": "2021-08-31T12:10:37.808Z"
   },
   {
    "duration": 49,
    "start_time": "2021-08-31T12:10:37.820Z"
   },
   {
    "duration": 18,
    "start_time": "2021-08-31T12:10:37.872Z"
   },
   {
    "duration": 16,
    "start_time": "2021-08-31T12:10:37.893Z"
   },
   {
    "duration": 7,
    "start_time": "2021-08-31T12:10:37.912Z"
   },
   {
    "duration": 31,
    "start_time": "2021-08-31T12:10:37.922Z"
   },
   {
    "duration": 44,
    "start_time": "2021-08-31T12:10:37.956Z"
   },
   {
    "duration": 4692,
    "start_time": "2021-08-31T12:10:38.002Z"
   },
   {
    "duration": 11,
    "start_time": "2021-08-31T12:10:42.697Z"
   },
   {
    "duration": 10,
    "start_time": "2021-08-31T12:10:42.711Z"
   },
   {
    "duration": 16,
    "start_time": "2021-08-31T12:10:42.723Z"
   },
   {
    "duration": 34,
    "start_time": "2021-08-31T12:10:42.741Z"
   },
   {
    "duration": 8,
    "start_time": "2021-08-31T12:10:42.778Z"
   },
   {
    "duration": 15,
    "start_time": "2021-08-31T12:10:42.788Z"
   },
   {
    "duration": 8,
    "start_time": "2021-08-31T12:10:42.806Z"
   },
   {
    "duration": 27,
    "start_time": "2021-08-31T12:10:42.816Z"
   },
   {
    "duration": 45,
    "start_time": "2021-08-31T12:10:42.845Z"
   },
   {
    "duration": 46,
    "start_time": "2021-08-31T12:10:42.892Z"
   },
   {
    "duration": 13,
    "start_time": "2021-08-31T12:10:42.941Z"
   },
   {
    "duration": 15,
    "start_time": "2021-08-31T12:10:42.956Z"
   },
   {
    "duration": 380,
    "start_time": "2021-08-31T12:10:42.974Z"
   },
   {
    "duration": 1356,
    "start_time": "2021-08-31T12:10:42.000Z"
   },
   {
    "duration": 1353,
    "start_time": "2021-08-31T12:10:42.005Z"
   },
   {
    "duration": 1348,
    "start_time": "2021-08-31T12:10:42.011Z"
   },
   {
    "duration": 1343,
    "start_time": "2021-08-31T12:10:42.017Z"
   },
   {
    "duration": 1324,
    "start_time": "2021-08-31T12:10:42.038Z"
   },
   {
    "duration": 1318,
    "start_time": "2021-08-31T12:10:42.045Z"
   },
   {
    "duration": 10,
    "start_time": "2021-08-31T12:12:52.486Z"
   },
   {
    "duration": 10,
    "start_time": "2021-08-31T12:14:01.960Z"
   },
   {
    "duration": 814,
    "start_time": "2021-08-31T12:23:55.649Z"
   },
   {
    "duration": 67,
    "start_time": "2021-08-31T12:23:56.466Z"
   },
   {
    "duration": 15,
    "start_time": "2021-08-31T12:23:56.536Z"
   },
   {
    "duration": 32,
    "start_time": "2021-08-31T12:23:56.567Z"
   },
   {
    "duration": 68,
    "start_time": "2021-08-31T12:23:56.601Z"
   },
   {
    "duration": 12,
    "start_time": "2021-08-31T12:23:56.671Z"
   },
   {
    "duration": 43,
    "start_time": "2021-08-31T12:23:56.686Z"
   },
   {
    "duration": 34,
    "start_time": "2021-08-31T12:23:56.734Z"
   },
   {
    "duration": 9,
    "start_time": "2021-08-31T12:23:56.771Z"
   },
   {
    "duration": 31,
    "start_time": "2021-08-31T12:23:56.783Z"
   },
   {
    "duration": 20,
    "start_time": "2021-08-31T12:23:56.816Z"
   },
   {
    "duration": 16,
    "start_time": "2021-08-31T12:23:56.839Z"
   },
   {
    "duration": 32,
    "start_time": "2021-08-31T12:23:56.858Z"
   },
   {
    "duration": 22,
    "start_time": "2021-08-31T12:23:56.893Z"
   },
   {
    "duration": 23,
    "start_time": "2021-08-31T12:23:56.917Z"
   },
   {
    "duration": 63,
    "start_time": "2021-08-31T12:23:56.943Z"
   },
   {
    "duration": 14,
    "start_time": "2021-08-31T12:23:57.008Z"
   },
   {
    "duration": 63,
    "start_time": "2021-08-31T12:23:57.025Z"
   },
   {
    "duration": 10,
    "start_time": "2021-08-31T12:23:57.091Z"
   },
   {
    "duration": 29,
    "start_time": "2021-08-31T12:23:57.105Z"
   },
   {
    "duration": 40,
    "start_time": "2021-08-31T12:23:57.136Z"
   },
   {
    "duration": 5,
    "start_time": "2021-08-31T12:23:57.179Z"
   },
   {
    "duration": 5,
    "start_time": "2021-08-31T12:23:57.190Z"
   },
   {
    "duration": 20,
    "start_time": "2021-08-31T12:23:57.198Z"
   },
   {
    "duration": 55,
    "start_time": "2021-08-31T12:23:57.220Z"
   },
   {
    "duration": 30,
    "start_time": "2021-08-31T12:23:57.277Z"
   },
   {
    "duration": 26,
    "start_time": "2021-08-31T12:23:57.309Z"
   },
   {
    "duration": 49,
    "start_time": "2021-08-31T12:23:57.337Z"
   },
   {
    "duration": 12,
    "start_time": "2021-08-31T12:23:57.389Z"
   },
   {
    "duration": 21,
    "start_time": "2021-08-31T12:23:57.404Z"
   },
   {
    "duration": 46,
    "start_time": "2021-08-31T12:23:57.427Z"
   },
   {
    "duration": 21,
    "start_time": "2021-08-31T12:23:57.476Z"
   },
   {
    "duration": 4,
    "start_time": "2021-08-31T12:23:57.499Z"
   },
   {
    "duration": 14,
    "start_time": "2021-08-31T12:23:57.506Z"
   },
   {
    "duration": 4,
    "start_time": "2021-08-31T12:23:57.522Z"
   },
   {
    "duration": 4576,
    "start_time": "2021-08-31T12:23:57.528Z"
   },
   {
    "duration": 12,
    "start_time": "2021-08-31T12:24:02.107Z"
   },
   {
    "duration": 43,
    "start_time": "2021-08-31T12:24:02.122Z"
   },
   {
    "duration": 65,
    "start_time": "2021-08-31T12:24:02.168Z"
   },
   {
    "duration": 51,
    "start_time": "2021-08-31T12:24:02.235Z"
   },
   {
    "duration": 23,
    "start_time": "2021-08-31T12:24:02.289Z"
   },
   {
    "duration": 16,
    "start_time": "2021-08-31T12:24:02.314Z"
   },
   {
    "duration": 25,
    "start_time": "2021-08-31T12:24:02.333Z"
   },
   {
    "duration": 31,
    "start_time": "2021-08-31T12:24:02.360Z"
   },
   {
    "duration": 39,
    "start_time": "2021-08-31T12:24:02.393Z"
   },
   {
    "duration": 40,
    "start_time": "2021-08-31T12:24:02.434Z"
   },
   {
    "duration": 13,
    "start_time": "2021-08-31T12:24:02.476Z"
   },
   {
    "duration": 32,
    "start_time": "2021-08-31T12:24:02.491Z"
   },
   {
    "duration": 44,
    "start_time": "2021-08-31T12:24:02.525Z"
   },
   {
    "duration": 11,
    "start_time": "2021-08-31T12:24:02.571Z"
   },
   {
    "duration": 38,
    "start_time": "2021-08-31T12:24:02.584Z"
   },
   {
    "duration": 6,
    "start_time": "2021-08-31T12:24:02.624Z"
   },
   {
    "duration": 32,
    "start_time": "2021-08-31T12:24:02.632Z"
   },
   {
    "duration": 19,
    "start_time": "2021-08-31T12:24:02.666Z"
   },
   {
    "duration": 784,
    "start_time": "2021-08-31T12:24:18.639Z"
   },
   {
    "duration": 65,
    "start_time": "2021-08-31T12:24:19.425Z"
   },
   {
    "duration": 16,
    "start_time": "2021-08-31T12:24:19.493Z"
   },
   {
    "duration": 53,
    "start_time": "2021-08-31T12:24:19.513Z"
   },
   {
    "duration": 48,
    "start_time": "2021-08-31T12:24:19.569Z"
   },
   {
    "duration": 11,
    "start_time": "2021-08-31T12:24:19.620Z"
   },
   {
    "duration": 62,
    "start_time": "2021-08-31T12:24:19.634Z"
   },
   {
    "duration": 23,
    "start_time": "2021-08-31T12:24:19.699Z"
   },
   {
    "duration": 19,
    "start_time": "2021-08-31T12:24:19.725Z"
   },
   {
    "duration": 23,
    "start_time": "2021-08-31T12:24:19.746Z"
   },
   {
    "duration": 19,
    "start_time": "2021-08-31T12:24:19.771Z"
   },
   {
    "duration": 15,
    "start_time": "2021-08-31T12:24:19.792Z"
   },
   {
    "duration": 19,
    "start_time": "2021-08-31T12:24:19.809Z"
   },
   {
    "duration": 25,
    "start_time": "2021-08-31T12:24:19.831Z"
   },
   {
    "duration": 20,
    "start_time": "2021-08-31T12:24:19.859Z"
   },
   {
    "duration": 61,
    "start_time": "2021-08-31T12:24:19.882Z"
   },
   {
    "duration": 15,
    "start_time": "2021-08-31T12:24:19.945Z"
   },
   {
    "duration": 67,
    "start_time": "2021-08-31T12:24:19.963Z"
   },
   {
    "duration": 9,
    "start_time": "2021-08-31T12:24:20.033Z"
   },
   {
    "duration": 42,
    "start_time": "2021-08-31T12:24:20.045Z"
   },
   {
    "duration": 11,
    "start_time": "2021-08-31T12:24:20.089Z"
   },
   {
    "duration": 21,
    "start_time": "2021-08-31T12:24:20.103Z"
   },
   {
    "duration": 10,
    "start_time": "2021-08-31T12:24:20.131Z"
   },
   {
    "duration": 30,
    "start_time": "2021-08-31T12:24:20.145Z"
   },
   {
    "duration": 19,
    "start_time": "2021-08-31T12:24:20.177Z"
   },
   {
    "duration": 36,
    "start_time": "2021-08-31T12:24:20.199Z"
   },
   {
    "duration": 47,
    "start_time": "2021-08-31T12:24:20.237Z"
   },
   {
    "duration": 22,
    "start_time": "2021-08-31T12:24:20.287Z"
   },
   {
    "duration": 11,
    "start_time": "2021-08-31T12:24:20.312Z"
   },
   {
    "duration": 51,
    "start_time": "2021-08-31T12:24:20.326Z"
   },
   {
    "duration": 14,
    "start_time": "2021-08-31T12:24:20.380Z"
   },
   {
    "duration": 18,
    "start_time": "2021-08-31T12:24:20.397Z"
   },
   {
    "duration": 6,
    "start_time": "2021-08-31T12:24:20.417Z"
   },
   {
    "duration": 13,
    "start_time": "2021-08-31T12:24:20.426Z"
   },
   {
    "duration": 4,
    "start_time": "2021-08-31T12:24:20.441Z"
   },
   {
    "duration": 4706,
    "start_time": "2021-08-31T12:24:20.447Z"
   },
   {
    "duration": 20,
    "start_time": "2021-08-31T12:24:25.156Z"
   },
   {
    "duration": 14,
    "start_time": "2021-08-31T12:24:25.178Z"
   },
   {
    "duration": 13,
    "start_time": "2021-08-31T12:24:25.195Z"
   },
   {
    "duration": 12,
    "start_time": "2021-08-31T12:24:25.210Z"
   },
   {
    "duration": 5,
    "start_time": "2021-08-31T12:24:25.224Z"
   },
   {
    "duration": 42,
    "start_time": "2021-08-31T12:24:25.232Z"
   },
   {
    "duration": 5,
    "start_time": "2021-08-31T12:24:25.277Z"
   },
   {
    "duration": 13,
    "start_time": "2021-08-31T12:24:25.284Z"
   },
   {
    "duration": 25,
    "start_time": "2021-08-31T12:24:25.300Z"
   },
   {
    "duration": 64,
    "start_time": "2021-08-31T12:24:25.328Z"
   },
   {
    "duration": 12,
    "start_time": "2021-08-31T12:24:25.395Z"
   },
   {
    "duration": 10,
    "start_time": "2021-08-31T12:24:25.410Z"
   },
   {
    "duration": 45,
    "start_time": "2021-08-31T12:24:25.423Z"
   },
   {
    "duration": 5,
    "start_time": "2021-08-31T12:24:25.471Z"
   },
   {
    "duration": 27,
    "start_time": "2021-08-31T12:24:25.479Z"
   },
   {
    "duration": 5,
    "start_time": "2021-08-31T12:24:25.508Z"
   },
   {
    "duration": 52,
    "start_time": "2021-08-31T12:24:25.516Z"
   },
   {
    "duration": 6,
    "start_time": "2021-08-31T12:24:25.570Z"
   },
   {
    "duration": 1183,
    "start_time": "2021-08-31T12:27:07.777Z"
   },
   {
    "duration": 93,
    "start_time": "2021-08-31T12:27:08.964Z"
   },
   {
    "duration": 24,
    "start_time": "2021-08-31T12:27:09.061Z"
   },
   {
    "duration": 48,
    "start_time": "2021-08-31T12:27:09.089Z"
   },
   {
    "duration": 51,
    "start_time": "2021-08-31T12:27:09.169Z"
   },
   {
    "duration": 13,
    "start_time": "2021-08-31T12:27:09.222Z"
   },
   {
    "duration": 62,
    "start_time": "2021-08-31T12:27:09.238Z"
   },
   {
    "duration": 10,
    "start_time": "2021-08-31T12:27:09.304Z"
   },
   {
    "duration": 10,
    "start_time": "2021-08-31T12:27:09.317Z"
   },
   {
    "duration": 47,
    "start_time": "2021-08-31T12:27:09.330Z"
   },
   {
    "duration": 10,
    "start_time": "2021-08-31T12:27:09.379Z"
   },
   {
    "duration": 5,
    "start_time": "2021-08-31T12:27:09.392Z"
   },
   {
    "duration": 9,
    "start_time": "2021-08-31T12:27:09.399Z"
   },
   {
    "duration": 21,
    "start_time": "2021-08-31T12:27:09.410Z"
   },
   {
    "duration": 37,
    "start_time": "2021-08-31T12:27:09.433Z"
   },
   {
    "duration": 54,
    "start_time": "2021-08-31T12:27:09.473Z"
   },
   {
    "duration": 15,
    "start_time": "2021-08-31T12:27:09.529Z"
   },
   {
    "duration": 48,
    "start_time": "2021-08-31T12:27:09.568Z"
   },
   {
    "duration": 9,
    "start_time": "2021-08-31T12:27:09.618Z"
   },
   {
    "duration": 54,
    "start_time": "2021-08-31T12:27:09.630Z"
   },
   {
    "duration": 9,
    "start_time": "2021-08-31T12:27:09.686Z"
   },
   {
    "duration": 7,
    "start_time": "2021-08-31T12:27:09.698Z"
   },
   {
    "duration": 7,
    "start_time": "2021-08-31T12:27:09.711Z"
   },
   {
    "duration": 55,
    "start_time": "2021-08-31T12:27:09.722Z"
   },
   {
    "duration": 20,
    "start_time": "2021-08-31T12:27:09.779Z"
   },
   {
    "duration": 25,
    "start_time": "2021-08-31T12:27:09.802Z"
   },
   {
    "duration": 49,
    "start_time": "2021-08-31T12:27:09.829Z"
   },
   {
    "duration": 22,
    "start_time": "2021-08-31T12:27:09.881Z"
   },
   {
    "duration": 10,
    "start_time": "2021-08-31T12:27:09.906Z"
   },
   {
    "duration": 19,
    "start_time": "2021-08-31T12:27:09.918Z"
   },
   {
    "duration": 12,
    "start_time": "2021-08-31T12:27:09.968Z"
   },
   {
    "duration": 14,
    "start_time": "2021-08-31T12:27:09.982Z"
   },
   {
    "duration": 6,
    "start_time": "2021-08-31T12:27:09.998Z"
   },
   {
    "duration": 15,
    "start_time": "2021-08-31T12:27:10.006Z"
   },
   {
    "duration": 4,
    "start_time": "2021-08-31T12:27:10.023Z"
   },
   {
    "duration": 4917,
    "start_time": "2021-08-31T12:27:10.030Z"
   },
   {
    "duration": 22,
    "start_time": "2021-08-31T12:27:14.950Z"
   },
   {
    "duration": 6,
    "start_time": "2021-08-31T12:27:14.975Z"
   },
   {
    "duration": 15,
    "start_time": "2021-08-31T12:27:14.984Z"
   },
   {
    "duration": 21,
    "start_time": "2021-08-31T12:27:15.002Z"
   },
   {
    "duration": 25,
    "start_time": "2021-08-31T12:27:15.026Z"
   },
   {
    "duration": 21,
    "start_time": "2021-08-31T12:27:15.054Z"
   },
   {
    "duration": 6,
    "start_time": "2021-08-31T12:27:15.078Z"
   },
   {
    "duration": 17,
    "start_time": "2021-08-31T12:27:15.087Z"
   },
   {
    "duration": 26,
    "start_time": "2021-08-31T12:27:15.107Z"
   },
   {
    "duration": 60,
    "start_time": "2021-08-31T12:27:15.136Z"
   },
   {
    "duration": 12,
    "start_time": "2021-08-31T12:27:15.199Z"
   },
   {
    "duration": 9,
    "start_time": "2021-08-31T12:27:15.213Z"
   },
   {
    "duration": 52,
    "start_time": "2021-08-31T12:27:15.224Z"
   },
   {
    "duration": 6,
    "start_time": "2021-08-31T12:27:15.278Z"
   },
   {
    "duration": 49,
    "start_time": "2021-08-31T12:27:15.286Z"
   },
   {
    "duration": 5,
    "start_time": "2021-08-31T12:27:15.338Z"
   },
   {
    "duration": 25,
    "start_time": "2021-08-31T12:27:15.368Z"
   },
   {
    "duration": 5,
    "start_time": "2021-08-31T12:27:15.396Z"
   },
   {
    "duration": 11,
    "start_time": "2021-08-31T12:27:46.023Z"
   },
   {
    "duration": 18,
    "start_time": "2021-08-31T12:28:03.442Z"
   },
   {
    "duration": 10,
    "start_time": "2021-08-31T12:28:29.338Z"
   },
   {
    "duration": 391,
    "start_time": "2021-08-31T12:30:32.581Z"
   },
   {
    "duration": 31,
    "start_time": "2021-08-31T12:30:36.811Z"
   },
   {
    "duration": 8,
    "start_time": "2021-08-31T12:30:58.794Z"
   },
   {
    "duration": 15,
    "start_time": "2021-08-31T12:31:14.861Z"
   },
   {
    "duration": 49,
    "start_time": "2021-08-31T12:32:03.021Z"
   },
   {
    "duration": 7,
    "start_time": "2021-08-31T12:32:03.675Z"
   },
   {
    "duration": 16,
    "start_time": "2021-08-31T12:32:04.442Z"
   },
   {
    "duration": 421,
    "start_time": "2021-09-01T06:09:15.020Z"
   },
   {
    "duration": 343,
    "start_time": "2021-09-01T06:09:15.684Z"
   },
   {
    "duration": 717,
    "start_time": "2021-09-01T06:09:24.162Z"
   },
   {
    "duration": 58,
    "start_time": "2021-09-01T06:09:24.881Z"
   },
   {
    "duration": 14,
    "start_time": "2021-09-01T06:09:24.941Z"
   },
   {
    "duration": 37,
    "start_time": "2021-09-01T06:09:24.957Z"
   },
   {
    "duration": 37,
    "start_time": "2021-09-01T06:09:24.996Z"
   },
   {
    "duration": 13,
    "start_time": "2021-09-01T06:09:25.035Z"
   },
   {
    "duration": 52,
    "start_time": "2021-09-01T06:09:25.049Z"
   },
   {
    "duration": 9,
    "start_time": "2021-09-01T06:09:25.105Z"
   },
   {
    "duration": 10,
    "start_time": "2021-09-01T06:09:25.116Z"
   },
   {
    "duration": 50,
    "start_time": "2021-09-01T06:09:25.128Z"
   },
   {
    "duration": 8,
    "start_time": "2021-09-01T06:09:25.180Z"
   },
   {
    "duration": 9,
    "start_time": "2021-09-01T06:09:25.190Z"
   },
   {
    "duration": 8,
    "start_time": "2021-09-01T06:09:25.201Z"
   },
   {
    "duration": 8,
    "start_time": "2021-09-01T06:09:25.210Z"
   },
   {
    "duration": 4,
    "start_time": "2021-09-01T06:09:25.220Z"
   },
   {
    "duration": 71,
    "start_time": "2021-09-01T06:09:25.226Z"
   },
   {
    "duration": 11,
    "start_time": "2021-09-01T06:09:25.300Z"
   },
   {
    "duration": 35,
    "start_time": "2021-09-01T06:09:25.313Z"
   },
   {
    "duration": 29,
    "start_time": "2021-09-01T06:09:25.350Z"
   },
   {
    "duration": 19,
    "start_time": "2021-09-01T06:09:25.381Z"
   },
   {
    "duration": 7,
    "start_time": "2021-09-01T06:09:25.402Z"
   },
   {
    "duration": 11,
    "start_time": "2021-09-01T06:09:25.411Z"
   },
   {
    "duration": 6,
    "start_time": "2021-09-01T06:09:25.427Z"
   },
   {
    "duration": 15,
    "start_time": "2021-09-01T06:09:25.435Z"
   },
   {
    "duration": 15,
    "start_time": "2021-09-01T06:09:25.477Z"
   },
   {
    "duration": 18,
    "start_time": "2021-09-01T06:09:25.493Z"
   },
   {
    "duration": 18,
    "start_time": "2021-09-01T06:09:25.513Z"
   },
   {
    "duration": 45,
    "start_time": "2021-09-01T06:09:25.533Z"
   },
   {
    "duration": 8,
    "start_time": "2021-09-01T06:09:25.580Z"
   },
   {
    "duration": 14,
    "start_time": "2021-09-01T06:09:25.589Z"
   },
   {
    "duration": 11,
    "start_time": "2021-09-01T06:09:25.605Z"
   },
   {
    "duration": 8,
    "start_time": "2021-09-01T06:09:25.618Z"
   },
   {
    "duration": 4,
    "start_time": "2021-09-01T06:09:25.628Z"
   },
   {
    "duration": 13,
    "start_time": "2021-09-01T06:09:25.634Z"
   },
   {
    "duration": 28,
    "start_time": "2021-09-01T06:09:25.649Z"
   },
   {
    "duration": 3957,
    "start_time": "2021-09-01T06:09:25.679Z"
   },
   {
    "duration": 10,
    "start_time": "2021-09-01T06:09:29.639Z"
   },
   {
    "duration": 27,
    "start_time": "2021-09-01T06:09:29.651Z"
   },
   {
    "duration": 9,
    "start_time": "2021-09-01T06:09:29.680Z"
   },
   {
    "duration": 11,
    "start_time": "2021-09-01T06:09:29.691Z"
   },
   {
    "duration": 4,
    "start_time": "2021-09-01T06:09:29.703Z"
   },
   {
    "duration": 10,
    "start_time": "2021-09-01T06:09:29.709Z"
   },
   {
    "duration": 5,
    "start_time": "2021-09-01T06:09:29.721Z"
   },
   {
    "duration": 16,
    "start_time": "2021-09-01T06:09:29.728Z"
   },
   {
    "duration": 48,
    "start_time": "2021-09-01T06:09:29.746Z"
   },
   {
    "duration": 30,
    "start_time": "2021-09-01T06:09:29.796Z"
   },
   {
    "duration": 11,
    "start_time": "2021-09-01T06:09:29.828Z"
   },
   {
    "duration": 9,
    "start_time": "2021-09-01T06:09:29.841Z"
   },
   {
    "duration": 20,
    "start_time": "2021-09-01T06:09:29.876Z"
   },
   {
    "duration": 5,
    "start_time": "2021-09-01T06:09:29.898Z"
   },
   {
    "duration": 11,
    "start_time": "2021-09-01T06:09:29.905Z"
   },
   {
    "duration": 418,
    "start_time": "2021-09-01T06:09:29.918Z"
   },
   {
    "duration": 1506,
    "start_time": "2021-09-01T06:09:28.832Z"
   },
   {
    "duration": 1493,
    "start_time": "2021-09-01T06:09:28.846Z"
   },
   {
    "duration": 1486,
    "start_time": "2021-09-01T06:09:28.854Z"
   },
   {
    "duration": 1483,
    "start_time": "2021-09-01T06:09:28.859Z"
   },
   {
    "duration": 1480,
    "start_time": "2021-09-01T06:09:28.863Z"
   },
   {
    "duration": 1478,
    "start_time": "2021-09-01T06:09:28.867Z"
   },
   {
    "duration": 20,
    "start_time": "2021-09-01T06:09:43.281Z"
   },
   {
    "duration": 4,
    "start_time": "2021-09-01T06:09:45.026Z"
   },
   {
    "duration": 9,
    "start_time": "2021-09-01T06:09:46.091Z"
   },
   {
    "duration": 9,
    "start_time": "2021-09-01T06:12:54.960Z"
   },
   {
    "duration": 412,
    "start_time": "2021-09-01T06:14:03.989Z"
   },
   {
    "duration": 715,
    "start_time": "2021-09-01T06:22:22.058Z"
   },
   {
    "duration": 57,
    "start_time": "2021-09-01T06:22:22.777Z"
   },
   {
    "duration": 12,
    "start_time": "2021-09-01T06:22:22.836Z"
   },
   {
    "duration": 28,
    "start_time": "2021-09-01T06:22:22.850Z"
   },
   {
    "duration": 35,
    "start_time": "2021-09-01T06:22:22.880Z"
   },
   {
    "duration": 10,
    "start_time": "2021-09-01T06:22:22.917Z"
   },
   {
    "duration": 47,
    "start_time": "2021-09-01T06:22:22.930Z"
   },
   {
    "duration": 8,
    "start_time": "2021-09-01T06:22:22.979Z"
   },
   {
    "duration": 18,
    "start_time": "2021-09-01T06:22:22.989Z"
   },
   {
    "duration": 26,
    "start_time": "2021-09-01T06:22:23.009Z"
   },
   {
    "duration": 7,
    "start_time": "2021-09-01T06:22:23.037Z"
   },
   {
    "duration": 6,
    "start_time": "2021-09-01T06:22:23.045Z"
   },
   {
    "duration": 8,
    "start_time": "2021-09-01T06:22:23.053Z"
   },
   {
    "duration": 20,
    "start_time": "2021-09-01T06:22:23.062Z"
   },
   {
    "duration": 4,
    "start_time": "2021-09-01T06:22:23.084Z"
   },
   {
    "duration": 42,
    "start_time": "2021-09-01T06:22:23.090Z"
   },
   {
    "duration": 10,
    "start_time": "2021-09-01T06:22:23.134Z"
   },
   {
    "duration": 47,
    "start_time": "2021-09-01T06:22:23.146Z"
   },
   {
    "duration": 7,
    "start_time": "2021-09-01T06:22:23.195Z"
   },
   {
    "duration": 33,
    "start_time": "2021-09-01T06:22:23.204Z"
   },
   {
    "duration": 7,
    "start_time": "2021-09-01T06:22:23.239Z"
   },
   {
    "duration": 21,
    "start_time": "2021-09-01T06:22:23.249Z"
   },
   {
    "duration": 12,
    "start_time": "2021-09-01T06:22:23.272Z"
   },
   {
    "duration": 18,
    "start_time": "2021-09-01T06:22:23.286Z"
   },
   {
    "duration": 15,
    "start_time": "2021-09-01T06:22:23.305Z"
   },
   {
    "duration": 27,
    "start_time": "2021-09-01T06:22:23.322Z"
   },
   {
    "duration": 19,
    "start_time": "2021-09-01T06:22:23.351Z"
   },
   {
    "duration": 17,
    "start_time": "2021-09-01T06:22:23.377Z"
   },
   {
    "duration": 9,
    "start_time": "2021-09-01T06:22:23.396Z"
   },
   {
    "duration": 15,
    "start_time": "2021-09-01T06:22:23.406Z"
   },
   {
    "duration": 19,
    "start_time": "2021-09-01T06:22:23.423Z"
   },
   {
    "duration": 21,
    "start_time": "2021-09-01T06:22:23.444Z"
   },
   {
    "duration": 23,
    "start_time": "2021-09-01T06:22:23.467Z"
   },
   {
    "duration": 24,
    "start_time": "2021-09-01T06:22:23.492Z"
   },
   {
    "duration": 12,
    "start_time": "2021-09-01T06:22:23.518Z"
   },
   {
    "duration": 4159,
    "start_time": "2021-09-01T06:22:23.532Z"
   },
   {
    "duration": 9,
    "start_time": "2021-09-01T06:22:27.693Z"
   },
   {
    "duration": 14,
    "start_time": "2021-09-01T06:22:27.704Z"
   },
   {
    "duration": 146,
    "start_time": "2021-09-01T06:22:27.720Z"
   },
   {
    "duration": 32,
    "start_time": "2021-09-01T06:22:27.867Z"
   },
   {
    "duration": 14,
    "start_time": "2021-09-01T06:22:27.901Z"
   },
   {
    "duration": 31,
    "start_time": "2021-09-01T06:22:27.918Z"
   },
   {
    "duration": 95,
    "start_time": "2021-09-01T06:22:27.951Z"
   },
   {
    "duration": 82,
    "start_time": "2021-09-01T06:22:28.049Z"
   },
   {
    "duration": 35,
    "start_time": "2021-09-01T06:22:28.133Z"
   },
   {
    "duration": 56,
    "start_time": "2021-09-01T06:22:28.171Z"
   },
   {
    "duration": 29,
    "start_time": "2021-09-01T06:22:28.229Z"
   },
   {
    "duration": 24,
    "start_time": "2021-09-01T06:22:28.260Z"
   },
   {
    "duration": 62,
    "start_time": "2021-09-01T06:22:28.286Z"
   },
   {
    "duration": 24,
    "start_time": "2021-09-01T06:22:28.350Z"
   },
   {
    "duration": 26,
    "start_time": "2021-09-01T06:22:28.377Z"
   },
   {
    "duration": 47,
    "start_time": "2021-09-01T06:22:28.405Z"
   },
   {
    "duration": 13,
    "start_time": "2021-09-01T06:22:28.454Z"
   },
   {
    "duration": 38,
    "start_time": "2021-09-01T06:22:28.469Z"
   },
   {
    "duration": 37,
    "start_time": "2021-09-01T06:22:28.509Z"
   },
   {
    "duration": 77,
    "start_time": "2021-09-01T06:22:28.548Z"
   },
   {
    "duration": 51,
    "start_time": "2021-09-01T06:22:28.627Z"
   },
   {
    "duration": 672,
    "start_time": "2021-09-01T07:06:01.517Z"
   },
   {
    "duration": 66,
    "start_time": "2021-09-01T07:06:02.191Z"
   },
   {
    "duration": 13,
    "start_time": "2021-09-01T07:06:02.260Z"
   },
   {
    "duration": 35,
    "start_time": "2021-09-01T07:06:02.275Z"
   },
   {
    "duration": 50,
    "start_time": "2021-09-01T07:06:02.312Z"
   },
   {
    "duration": 11,
    "start_time": "2021-09-01T07:06:02.364Z"
   },
   {
    "duration": 43,
    "start_time": "2021-09-01T07:06:02.377Z"
   },
   {
    "duration": 15,
    "start_time": "2021-09-01T07:06:02.423Z"
   },
   {
    "duration": 22,
    "start_time": "2021-09-01T07:06:02.440Z"
   },
   {
    "duration": 26,
    "start_time": "2021-09-01T07:06:02.464Z"
   },
   {
    "duration": 8,
    "start_time": "2021-09-01T07:06:02.492Z"
   },
   {
    "duration": 18,
    "start_time": "2021-09-01T07:06:02.502Z"
   },
   {
    "duration": 14,
    "start_time": "2021-09-01T07:06:02.522Z"
   },
   {
    "duration": 13,
    "start_time": "2021-09-01T07:06:02.538Z"
   },
   {
    "duration": 13,
    "start_time": "2021-09-01T07:06:02.553Z"
   },
   {
    "duration": 41,
    "start_time": "2021-09-01T07:06:02.568Z"
   },
   {
    "duration": 11,
    "start_time": "2021-09-01T07:06:02.611Z"
   },
   {
    "duration": 40,
    "start_time": "2021-09-01T07:06:02.624Z"
   },
   {
    "duration": 17,
    "start_time": "2021-09-01T07:06:02.666Z"
   },
   {
    "duration": 22,
    "start_time": "2021-09-01T07:06:02.685Z"
   },
   {
    "duration": 15,
    "start_time": "2021-09-01T07:06:02.709Z"
   },
   {
    "duration": 6,
    "start_time": "2021-09-01T07:06:02.726Z"
   },
   {
    "duration": 7,
    "start_time": "2021-09-01T07:06:02.736Z"
   },
   {
    "duration": 37,
    "start_time": "2021-09-01T07:06:02.745Z"
   },
   {
    "duration": 15,
    "start_time": "2021-09-01T07:06:02.784Z"
   },
   {
    "duration": 23,
    "start_time": "2021-09-01T07:06:02.801Z"
   },
   {
    "duration": 19,
    "start_time": "2021-09-01T07:06:02.826Z"
   },
   {
    "duration": 42,
    "start_time": "2021-09-01T07:06:02.846Z"
   },
   {
    "duration": 8,
    "start_time": "2021-09-01T07:06:02.890Z"
   },
   {
    "duration": 29,
    "start_time": "2021-09-01T07:06:02.900Z"
   },
   {
    "duration": 23,
    "start_time": "2021-09-01T07:06:02.931Z"
   },
   {
    "duration": 17,
    "start_time": "2021-09-01T07:06:02.955Z"
   },
   {
    "duration": 20,
    "start_time": "2021-09-01T07:06:02.974Z"
   },
   {
    "duration": 20,
    "start_time": "2021-09-01T07:06:02.996Z"
   },
   {
    "duration": 4,
    "start_time": "2021-09-01T07:06:03.017Z"
   },
   {
    "duration": 4075,
    "start_time": "2021-09-01T07:06:03.022Z"
   },
   {
    "duration": 9,
    "start_time": "2021-09-01T07:06:07.099Z"
   },
   {
    "duration": 23,
    "start_time": "2021-09-01T07:06:07.110Z"
   },
   {
    "duration": 15,
    "start_time": "2021-09-01T07:06:07.135Z"
   },
   {
    "duration": 19,
    "start_time": "2021-09-01T07:06:07.152Z"
   },
   {
    "duration": 9,
    "start_time": "2021-09-01T07:06:07.173Z"
   },
   {
    "duration": 10,
    "start_time": "2021-09-01T07:06:07.184Z"
   },
   {
    "duration": 7,
    "start_time": "2021-09-01T07:06:07.196Z"
   },
   {
    "duration": 16,
    "start_time": "2021-09-01T07:06:07.205Z"
   },
   {
    "duration": 18,
    "start_time": "2021-09-01T07:06:07.223Z"
   },
   {
    "duration": 34,
    "start_time": "2021-09-01T07:06:07.243Z"
   },
   {
    "duration": 10,
    "start_time": "2021-09-01T07:06:07.279Z"
   },
   {
    "duration": 19,
    "start_time": "2021-09-01T07:06:07.291Z"
   },
   {
    "duration": 21,
    "start_time": "2021-09-01T07:06:07.312Z"
   },
   {
    "duration": 4,
    "start_time": "2021-09-01T07:06:07.335Z"
   },
   {
    "duration": 10,
    "start_time": "2021-09-01T07:06:07.341Z"
   },
   {
    "duration": 33,
    "start_time": "2021-09-01T07:06:07.353Z"
   },
   {
    "duration": 4,
    "start_time": "2021-09-01T07:06:07.388Z"
   },
   {
    "duration": 23,
    "start_time": "2021-09-01T07:06:07.394Z"
   },
   {
    "duration": 21,
    "start_time": "2021-09-01T07:06:07.419Z"
   },
   {
    "duration": 5,
    "start_time": "2021-09-01T07:06:07.441Z"
   },
   {
    "duration": 17,
    "start_time": "2021-09-01T07:06:07.447Z"
   },
   {
    "duration": 712,
    "start_time": "2021-09-01T07:30:19.280Z"
   },
   {
    "duration": 63,
    "start_time": "2021-09-01T07:30:19.995Z"
   },
   {
    "duration": 19,
    "start_time": "2021-09-01T07:30:20.061Z"
   },
   {
    "duration": 28,
    "start_time": "2021-09-01T07:30:20.082Z"
   },
   {
    "duration": 46,
    "start_time": "2021-09-01T07:30:20.112Z"
   },
   {
    "duration": 24,
    "start_time": "2021-09-01T07:30:20.161Z"
   },
   {
    "duration": 39,
    "start_time": "2021-09-01T07:30:20.187Z"
   },
   {
    "duration": 8,
    "start_time": "2021-09-01T07:30:20.230Z"
   },
   {
    "duration": 24,
    "start_time": "2021-09-01T07:30:20.241Z"
   },
   {
    "duration": 25,
    "start_time": "2021-09-01T07:30:20.267Z"
   },
   {
    "duration": 17,
    "start_time": "2021-09-01T07:30:20.294Z"
   },
   {
    "duration": 15,
    "start_time": "2021-09-01T07:30:20.313Z"
   },
   {
    "duration": 13,
    "start_time": "2021-09-01T07:30:20.330Z"
   },
   {
    "duration": 23,
    "start_time": "2021-09-01T07:30:20.345Z"
   },
   {
    "duration": 8,
    "start_time": "2021-09-01T07:30:20.370Z"
   },
   {
    "duration": 49,
    "start_time": "2021-09-01T07:30:20.380Z"
   },
   {
    "duration": 12,
    "start_time": "2021-09-01T07:30:20.431Z"
   },
   {
    "duration": 51,
    "start_time": "2021-09-01T07:30:20.445Z"
   },
   {
    "duration": 8,
    "start_time": "2021-09-01T07:30:20.498Z"
   },
   {
    "duration": 34,
    "start_time": "2021-09-01T07:30:20.509Z"
   },
   {
    "duration": 8,
    "start_time": "2021-09-01T07:30:20.545Z"
   },
   {
    "duration": 10,
    "start_time": "2021-09-01T07:30:20.555Z"
   },
   {
    "duration": 8,
    "start_time": "2021-09-01T07:30:20.570Z"
   },
   {
    "duration": 23,
    "start_time": "2021-09-01T07:30:20.581Z"
   },
   {
    "duration": 16,
    "start_time": "2021-09-01T07:30:20.606Z"
   },
   {
    "duration": 31,
    "start_time": "2021-09-01T07:30:20.624Z"
   },
   {
    "duration": 28,
    "start_time": "2021-09-01T07:30:20.657Z"
   },
   {
    "duration": 17,
    "start_time": "2021-09-01T07:30:20.687Z"
   },
   {
    "duration": 8,
    "start_time": "2021-09-01T07:30:20.706Z"
   },
   {
    "duration": 27,
    "start_time": "2021-09-01T07:30:20.716Z"
   },
   {
    "duration": 16,
    "start_time": "2021-09-01T07:30:20.745Z"
   },
   {
    "duration": 22,
    "start_time": "2021-09-01T07:30:20.763Z"
   },
   {
    "duration": 16,
    "start_time": "2021-09-01T07:30:20.788Z"
   },
   {
    "duration": 23,
    "start_time": "2021-09-01T07:30:20.806Z"
   },
   {
    "duration": 12,
    "start_time": "2021-09-01T07:30:20.831Z"
   },
   {
    "duration": 4057,
    "start_time": "2021-09-01T07:30:20.845Z"
   },
   {
    "duration": 10,
    "start_time": "2021-09-01T07:30:24.904Z"
   },
   {
    "duration": 18,
    "start_time": "2021-09-01T07:30:24.916Z"
   },
   {
    "duration": 12,
    "start_time": "2021-09-01T07:30:24.935Z"
   },
   {
    "duration": 16,
    "start_time": "2021-09-01T07:30:24.949Z"
   },
   {
    "duration": 9,
    "start_time": "2021-09-01T07:30:24.967Z"
   },
   {
    "duration": 14,
    "start_time": "2021-09-01T07:30:24.979Z"
   },
   {
    "duration": 10,
    "start_time": "2021-09-01T07:30:24.995Z"
   },
   {
    "duration": 15,
    "start_time": "2021-09-01T07:30:25.007Z"
   },
   {
    "duration": 26,
    "start_time": "2021-09-01T07:30:25.024Z"
   },
   {
    "duration": 35,
    "start_time": "2021-09-01T07:30:25.052Z"
   },
   {
    "duration": 11,
    "start_time": "2021-09-01T07:30:25.089Z"
   },
   {
    "duration": 7,
    "start_time": "2021-09-01T07:30:25.102Z"
   },
   {
    "duration": 23,
    "start_time": "2021-09-01T07:30:25.111Z"
   },
   {
    "duration": 4,
    "start_time": "2021-09-01T07:30:25.136Z"
   },
   {
    "duration": 14,
    "start_time": "2021-09-01T07:30:25.142Z"
   },
   {
    "duration": 36,
    "start_time": "2021-09-01T07:30:25.159Z"
   },
   {
    "duration": 4,
    "start_time": "2021-09-01T07:30:25.197Z"
   },
   {
    "duration": 13,
    "start_time": "2021-09-01T07:30:25.203Z"
   },
   {
    "duration": 20,
    "start_time": "2021-09-01T07:30:25.218Z"
   },
   {
    "duration": 5,
    "start_time": "2021-09-01T07:30:25.240Z"
   },
   {
    "duration": 34,
    "start_time": "2021-09-01T07:30:25.246Z"
   },
   {
    "duration": 146,
    "start_time": "2021-09-01T21:45:26.927Z"
   },
   {
    "duration": 133,
    "start_time": "2021-09-01T21:47:25.483Z"
   },
   {
    "duration": 148,
    "start_time": "2021-09-01T21:50:57.646Z"
   },
   {
    "duration": 140,
    "start_time": "2021-09-01T21:55:19.986Z"
   },
   {
    "duration": 752,
    "start_time": "2021-09-01T21:58:57.018Z"
   },
   {
    "duration": 62,
    "start_time": "2021-09-01T21:58:57.773Z"
   },
   {
    "duration": 16,
    "start_time": "2021-09-01T21:58:57.838Z"
   },
   {
    "duration": 25,
    "start_time": "2021-09-01T21:58:57.858Z"
   },
   {
    "duration": 71,
    "start_time": "2021-09-01T21:58:57.886Z"
   },
   {
    "duration": 12,
    "start_time": "2021-09-01T21:58:57.959Z"
   },
   {
    "duration": 29,
    "start_time": "2021-09-01T21:58:57.973Z"
   },
   {
    "duration": 35,
    "start_time": "2021-09-01T21:58:58.006Z"
   },
   {
    "duration": 11,
    "start_time": "2021-09-01T21:58:58.044Z"
   },
   {
    "duration": 14,
    "start_time": "2021-09-01T21:58:58.057Z"
   },
   {
    "duration": 9,
    "start_time": "2021-09-01T21:58:58.074Z"
   },
   {
    "duration": 6,
    "start_time": "2021-09-01T21:58:58.085Z"
   },
   {
    "duration": 48,
    "start_time": "2021-09-01T21:58:58.094Z"
   },
   {
    "duration": 7,
    "start_time": "2021-09-01T21:58:58.145Z"
   },
   {
    "duration": 8,
    "start_time": "2021-09-01T21:58:58.155Z"
   },
   {
    "duration": 40,
    "start_time": "2021-09-01T21:58:58.165Z"
   },
   {
    "duration": 37,
    "start_time": "2021-09-01T21:58:58.207Z"
   },
   {
    "duration": 41,
    "start_time": "2021-09-01T21:58:58.246Z"
   },
   {
    "duration": 10,
    "start_time": "2021-09-01T21:58:58.289Z"
   },
   {
    "duration": 47,
    "start_time": "2021-09-01T21:58:58.301Z"
   },
   {
    "duration": 9,
    "start_time": "2021-09-01T21:58:58.350Z"
   },
   {
    "duration": 5,
    "start_time": "2021-09-01T21:58:58.361Z"
   },
   {
    "duration": 7,
    "start_time": "2021-09-01T21:58:58.372Z"
   },
   {
    "duration": 16,
    "start_time": "2021-09-01T21:58:58.382Z"
   },
   {
    "duration": 52,
    "start_time": "2021-09-01T21:58:58.401Z"
   },
   {
    "duration": 20,
    "start_time": "2021-09-01T21:58:58.456Z"
   },
   {
    "duration": 23,
    "start_time": "2021-09-01T21:58:58.479Z"
   },
   {
    "duration": 49,
    "start_time": "2021-09-01T21:58:58.504Z"
   },
   {
    "duration": 9,
    "start_time": "2021-09-01T21:58:58.556Z"
   },
   {
    "duration": 16,
    "start_time": "2021-09-01T21:58:58.568Z"
   },
   {
    "duration": 13,
    "start_time": "2021-09-01T21:58:58.586Z"
   },
   {
    "duration": 47,
    "start_time": "2021-09-01T21:58:58.602Z"
   },
   {
    "duration": 5,
    "start_time": "2021-09-01T21:58:58.651Z"
   },
   {
    "duration": 8,
    "start_time": "2021-09-01T21:58:58.658Z"
   },
   {
    "duration": 6,
    "start_time": "2021-09-01T21:58:58.668Z"
   },
   {
    "duration": 4374,
    "start_time": "2021-09-01T21:58:58.676Z"
   },
   {
    "duration": 11,
    "start_time": "2021-09-01T21:59:03.052Z"
   },
   {
    "duration": 11,
    "start_time": "2021-09-01T21:59:03.065Z"
   },
   {
    "duration": 13,
    "start_time": "2021-09-01T21:59:03.078Z"
   },
   {
    "duration": 17,
    "start_time": "2021-09-01T21:59:03.094Z"
   },
   {
    "duration": 9,
    "start_time": "2021-09-01T21:59:03.114Z"
   },
   {
    "duration": 30,
    "start_time": "2021-09-01T21:59:03.125Z"
   },
   {
    "duration": 6,
    "start_time": "2021-09-01T21:59:03.158Z"
   },
   {
    "duration": 15,
    "start_time": "2021-09-01T21:59:03.166Z"
   },
   {
    "duration": 25,
    "start_time": "2021-09-01T21:59:03.184Z"
   },
   {
    "duration": 39,
    "start_time": "2021-09-01T21:59:03.212Z"
   },
   {
    "duration": 12,
    "start_time": "2021-09-01T21:59:03.253Z"
   },
   {
    "duration": 9,
    "start_time": "2021-09-01T21:59:03.268Z"
   },
   {
    "duration": 27,
    "start_time": "2021-09-01T21:59:03.280Z"
   },
   {
    "duration": 5,
    "start_time": "2021-09-01T21:59:03.309Z"
   },
   {
    "duration": 34,
    "start_time": "2021-09-01T21:59:03.316Z"
   },
   {
    "duration": 25,
    "start_time": "2021-09-01T21:59:03.352Z"
   },
   {
    "duration": 5,
    "start_time": "2021-09-01T21:59:03.379Z"
   },
   {
    "duration": 12,
    "start_time": "2021-09-01T21:59:03.386Z"
   },
   {
    "duration": 48,
    "start_time": "2021-09-01T21:59:03.400Z"
   },
   {
    "duration": 5,
    "start_time": "2021-09-01T21:59:03.450Z"
   },
   {
    "duration": 14,
    "start_time": "2021-09-01T21:59:03.457Z"
   },
   {
    "duration": 27,
    "start_time": "2021-09-01T21:59:10.143Z"
   },
   {
    "duration": 177,
    "start_time": "2021-09-01T22:06:18.891Z"
   },
   {
    "duration": 137,
    "start_time": "2021-09-01T22:09:20.721Z"
   },
   {
    "duration": 132,
    "start_time": "2021-09-01T22:13:29.501Z"
   },
   {
    "duration": 142,
    "start_time": "2021-09-01T22:17:07.970Z"
   },
   {
    "duration": 90,
    "start_time": "2021-09-02T04:37:35.865Z"
   },
   {
    "duration": 325,
    "start_time": "2021-09-02T04:59:58.864Z"
   },
   {
    "duration": 779,
    "start_time": "2021-09-02T05:00:21.550Z"
   },
   {
    "duration": 68,
    "start_time": "2021-09-02T05:00:22.331Z"
   },
   {
    "duration": 15,
    "start_time": "2021-09-02T05:00:22.405Z"
   },
   {
    "duration": 59,
    "start_time": "2021-09-02T05:00:22.422Z"
   },
   {
    "duration": 48,
    "start_time": "2021-09-02T05:00:22.484Z"
   },
   {
    "duration": 44,
    "start_time": "2021-09-02T05:00:22.535Z"
   },
   {
    "duration": 38,
    "start_time": "2021-09-02T05:00:22.583Z"
   },
   {
    "duration": 9,
    "start_time": "2021-09-02T05:00:22.624Z"
   },
   {
    "duration": 16,
    "start_time": "2021-09-02T05:00:22.662Z"
   },
   {
    "duration": 15,
    "start_time": "2021-09-02T05:00:22.680Z"
   },
   {
    "duration": 7,
    "start_time": "2021-09-02T05:00:22.698Z"
   },
   {
    "duration": 6,
    "start_time": "2021-09-02T05:00:22.708Z"
   },
   {
    "duration": 6,
    "start_time": "2021-09-02T05:00:22.716Z"
   },
   {
    "duration": 61,
    "start_time": "2021-09-02T05:00:22.724Z"
   },
   {
    "duration": 11,
    "start_time": "2021-09-02T05:00:22.787Z"
   },
   {
    "duration": 53,
    "start_time": "2021-09-02T05:00:22.800Z"
   },
   {
    "duration": 21,
    "start_time": "2021-09-02T05:00:22.855Z"
   },
   {
    "duration": 46,
    "start_time": "2021-09-02T05:00:22.879Z"
   },
   {
    "duration": 10,
    "start_time": "2021-09-02T05:00:22.927Z"
   },
   {
    "duration": 25,
    "start_time": "2021-09-02T05:00:22.961Z"
   },
   {
    "duration": 11,
    "start_time": "2021-09-02T05:00:22.989Z"
   },
   {
    "duration": 4,
    "start_time": "2021-09-02T05:00:23.008Z"
   },
   {
    "duration": 55,
    "start_time": "2021-09-02T05:00:23.017Z"
   },
   {
    "duration": 16,
    "start_time": "2021-09-02T05:00:23.075Z"
   },
   {
    "duration": 19,
    "start_time": "2021-09-02T05:00:23.093Z"
   },
   {
    "duration": 24,
    "start_time": "2021-09-02T05:00:23.114Z"
   },
   {
    "duration": 48,
    "start_time": "2021-09-02T05:00:23.140Z"
   },
   {
    "duration": 21,
    "start_time": "2021-09-02T05:00:23.191Z"
   },
   {
    "duration": 9,
    "start_time": "2021-09-02T05:00:23.215Z"
   },
   {
    "duration": 54,
    "start_time": "2021-09-02T05:00:23.226Z"
   },
   {
    "duration": 11,
    "start_time": "2021-09-02T05:00:23.283Z"
   },
   {
    "duration": 29,
    "start_time": "2021-09-02T05:00:23.297Z"
   },
   {
    "duration": 41,
    "start_time": "2021-09-02T05:00:23.328Z"
   },
   {
    "duration": 3,
    "start_time": "2021-09-02T05:00:23.383Z"
   },
   {
    "duration": 13,
    "start_time": "2021-09-02T05:00:23.389Z"
   },
   {
    "duration": 4,
    "start_time": "2021-09-02T05:00:23.404Z"
   },
   {
    "duration": 4428,
    "start_time": "2021-09-02T05:00:23.410Z"
   },
   {
    "duration": 25,
    "start_time": "2021-09-02T05:00:27.840Z"
   },
   {
    "duration": 18,
    "start_time": "2021-09-02T05:00:27.867Z"
   },
   {
    "duration": 18,
    "start_time": "2021-09-02T05:00:27.887Z"
   },
   {
    "duration": 12,
    "start_time": "2021-09-02T05:00:27.907Z"
   },
   {
    "duration": 9,
    "start_time": "2021-09-02T05:00:27.920Z"
   },
   {
    "duration": 13,
    "start_time": "2021-09-02T05:00:27.932Z"
   },
   {
    "duration": 4,
    "start_time": "2021-09-02T05:00:27.962Z"
   },
   {
    "duration": 12,
    "start_time": "2021-09-02T05:00:27.968Z"
   },
   {
    "duration": 32,
    "start_time": "2021-09-02T05:00:27.982Z"
   },
   {
    "duration": 58,
    "start_time": "2021-09-02T05:00:28.016Z"
   },
   {
    "duration": 10,
    "start_time": "2021-09-02T05:00:28.076Z"
   },
   {
    "duration": 10,
    "start_time": "2021-09-02T05:00:28.088Z"
   },
   {
    "duration": 27,
    "start_time": "2021-09-02T05:00:28.100Z"
   },
   {
    "duration": 5,
    "start_time": "2021-09-02T05:00:28.129Z"
   },
   {
    "duration": 31,
    "start_time": "2021-09-02T05:00:28.136Z"
   },
   {
    "duration": 28,
    "start_time": "2021-09-02T05:00:28.169Z"
   },
   {
    "duration": 6,
    "start_time": "2021-09-02T05:00:28.199Z"
   },
   {
    "duration": 12,
    "start_time": "2021-09-02T05:00:28.207Z"
   },
   {
    "duration": 53,
    "start_time": "2021-09-02T05:00:28.221Z"
   },
   {
    "duration": 5,
    "start_time": "2021-09-02T05:00:28.277Z"
   },
   {
    "duration": 13,
    "start_time": "2021-09-02T05:00:28.285Z"
   },
   {
    "duration": 68,
    "start_time": "2021-09-02T05:10:16.653Z"
   },
   {
    "duration": 33,
    "start_time": "2021-09-02T05:49:30.064Z"
   },
   {
    "duration": 94,
    "start_time": "2021-09-02T05:50:02.196Z"
   },
   {
    "duration": 43,
    "start_time": "2021-09-02T05:50:49.845Z"
   },
   {
    "duration": 29,
    "start_time": "2021-09-02T05:51:41.970Z"
   },
   {
    "duration": 719,
    "start_time": "2021-09-02T05:51:55.183Z"
   },
   {
    "duration": 64,
    "start_time": "2021-09-02T05:51:55.905Z"
   },
   {
    "duration": 14,
    "start_time": "2021-09-02T05:51:55.972Z"
   },
   {
    "duration": 29,
    "start_time": "2021-09-02T05:51:55.989Z"
   },
   {
    "duration": 73,
    "start_time": "2021-09-02T05:51:56.021Z"
   },
   {
    "duration": 13,
    "start_time": "2021-09-02T05:51:56.096Z"
   },
   {
    "duration": 60,
    "start_time": "2021-09-02T05:51:56.112Z"
   },
   {
    "duration": 10,
    "start_time": "2021-09-02T05:51:56.176Z"
   },
   {
    "duration": 10,
    "start_time": "2021-09-02T05:51:56.190Z"
   },
   {
    "duration": 15,
    "start_time": "2021-09-02T05:51:56.202Z"
   },
   {
    "duration": 7,
    "start_time": "2021-09-02T05:51:56.219Z"
   },
   {
    "duration": 41,
    "start_time": "2021-09-02T05:51:56.228Z"
   },
   {
    "duration": 9,
    "start_time": "2021-09-02T05:51:56.272Z"
   },
   {
    "duration": 11,
    "start_time": "2021-09-02T05:51:56.285Z"
   },
   {
    "duration": 21,
    "start_time": "2021-09-02T05:51:56.299Z"
   },
   {
    "duration": 68,
    "start_time": "2021-09-02T05:51:56.322Z"
   },
   {
    "duration": 14,
    "start_time": "2021-09-02T05:51:56.393Z"
   },
   {
    "duration": 71,
    "start_time": "2021-09-02T05:51:56.409Z"
   },
   {
    "duration": 10,
    "start_time": "2021-09-02T05:51:56.482Z"
   },
   {
    "duration": 24,
    "start_time": "2021-09-02T05:51:56.495Z"
   },
   {
    "duration": 8,
    "start_time": "2021-09-02T05:51:56.521Z"
   },
   {
    "duration": 33,
    "start_time": "2021-09-02T05:51:56.532Z"
   },
   {
    "duration": 9,
    "start_time": "2021-09-02T05:51:56.573Z"
   },
   {
    "duration": 29,
    "start_time": "2021-09-02T05:51:56.585Z"
   },
   {
    "duration": 20,
    "start_time": "2021-09-02T05:51:56.616Z"
   },
   {
    "duration": 52,
    "start_time": "2021-09-02T05:51:56.639Z"
   },
   {
    "duration": 23,
    "start_time": "2021-09-02T05:51:56.694Z"
   },
   {
    "duration": 56,
    "start_time": "2021-09-02T05:51:56.719Z"
   },
   {
    "duration": 10,
    "start_time": "2021-09-02T05:51:56.778Z"
   },
   {
    "duration": 21,
    "start_time": "2021-09-02T05:51:56.791Z"
   },
   {
    "duration": 14,
    "start_time": "2021-09-02T05:51:56.815Z"
   },
   {
    "duration": 38,
    "start_time": "2021-09-02T05:51:56.832Z"
   },
   {
    "duration": 25,
    "start_time": "2021-09-02T05:51:56.872Z"
   },
   {
    "duration": 20,
    "start_time": "2021-09-02T05:51:56.899Z"
   },
   {
    "duration": 10,
    "start_time": "2021-09-02T05:51:56.921Z"
   },
   {
    "duration": 35,
    "start_time": "2021-09-02T05:51:56.934Z"
   },
   {
    "duration": 10,
    "start_time": "2021-09-02T05:51:56.972Z"
   },
   {
    "duration": 5,
    "start_time": "2021-09-02T05:51:56.985Z"
   },
   {
    "duration": 4613,
    "start_time": "2021-09-02T05:51:56.992Z"
   },
   {
    "duration": 11,
    "start_time": "2021-09-02T05:52:01.607Z"
   },
   {
    "duration": 52,
    "start_time": "2021-09-02T05:52:01.621Z"
   },
   {
    "duration": 20,
    "start_time": "2021-09-02T05:52:01.676Z"
   },
   {
    "duration": 38,
    "start_time": "2021-09-02T05:52:01.698Z"
   },
   {
    "duration": 39,
    "start_time": "2021-09-02T05:52:01.739Z"
   },
   {
    "duration": 36,
    "start_time": "2021-09-02T05:52:01.781Z"
   },
   {
    "duration": 39,
    "start_time": "2021-09-02T05:52:01.819Z"
   },
   {
    "duration": 44,
    "start_time": "2021-09-02T05:52:01.860Z"
   },
   {
    "duration": 49,
    "start_time": "2021-09-02T05:52:01.906Z"
   },
   {
    "duration": 87,
    "start_time": "2021-09-02T05:52:01.958Z"
   },
   {
    "duration": 11,
    "start_time": "2021-09-02T05:52:02.048Z"
   },
   {
    "duration": 26,
    "start_time": "2021-09-02T05:52:02.061Z"
   },
   {
    "duration": 44,
    "start_time": "2021-09-02T05:52:02.090Z"
   },
   {
    "duration": 43,
    "start_time": "2021-09-02T05:52:02.136Z"
   },
   {
    "duration": 20,
    "start_time": "2021-09-02T05:52:02.181Z"
   },
   {
    "duration": 58,
    "start_time": "2021-09-02T05:52:02.203Z"
   },
   {
    "duration": 17,
    "start_time": "2021-09-02T05:52:02.267Z"
   },
   {
    "duration": 41,
    "start_time": "2021-09-02T05:52:02.286Z"
   },
   {
    "duration": 45,
    "start_time": "2021-09-02T05:52:02.329Z"
   },
   {
    "duration": 14,
    "start_time": "2021-09-02T05:52:02.376Z"
   },
   {
    "duration": 51,
    "start_time": "2021-09-02T05:52:02.393Z"
   },
   {
    "duration": 1055,
    "start_time": "2021-09-02T06:00:03.249Z"
   },
   {
    "duration": 91,
    "start_time": "2021-09-02T06:00:04.307Z"
   },
   {
    "duration": 21,
    "start_time": "2021-09-02T06:00:04.403Z"
   },
   {
    "duration": 52,
    "start_time": "2021-09-02T06:00:04.428Z"
   },
   {
    "duration": 49,
    "start_time": "2021-09-02T06:00:04.483Z"
   },
   {
    "duration": 16,
    "start_time": "2021-09-02T06:00:04.562Z"
   },
   {
    "duration": 37,
    "start_time": "2021-09-02T06:00:04.581Z"
   },
   {
    "duration": 45,
    "start_time": "2021-09-02T06:00:04.624Z"
   },
   {
    "duration": 11,
    "start_time": "2021-09-02T06:00:04.672Z"
   },
   {
    "duration": 18,
    "start_time": "2021-09-02T06:00:04.686Z"
   },
   {
    "duration": 10,
    "start_time": "2021-09-02T06:00:04.707Z"
   },
   {
    "duration": 6,
    "start_time": "2021-09-02T06:00:04.762Z"
   },
   {
    "duration": 9,
    "start_time": "2021-09-02T06:00:04.771Z"
   },
   {
    "duration": 12,
    "start_time": "2021-09-02T06:00:04.783Z"
   },
   {
    "duration": 10,
    "start_time": "2021-09-02T06:00:04.798Z"
   },
   {
    "duration": 101,
    "start_time": "2021-09-02T06:00:04.811Z"
   },
   {
    "duration": 23,
    "start_time": "2021-09-02T06:00:04.915Z"
   },
   {
    "duration": 90,
    "start_time": "2021-09-02T06:00:04.941Z"
   },
   {
    "duration": 13,
    "start_time": "2021-09-02T06:00:05.034Z"
   },
   {
    "duration": 30,
    "start_time": "2021-09-02T06:00:05.063Z"
   },
   {
    "duration": 12,
    "start_time": "2021-09-02T06:00:05.096Z"
   },
   {
    "duration": 9,
    "start_time": "2021-09-02T06:00:05.111Z"
   },
   {
    "duration": 36,
    "start_time": "2021-09-02T06:00:05.128Z"
   },
   {
    "duration": 24,
    "start_time": "2021-09-02T06:00:05.168Z"
   },
   {
    "duration": 28,
    "start_time": "2021-09-02T06:00:05.195Z"
   },
   {
    "duration": 49,
    "start_time": "2021-09-02T06:00:05.226Z"
   },
   {
    "duration": 25,
    "start_time": "2021-09-02T06:00:05.278Z"
   },
   {
    "duration": 23,
    "start_time": "2021-09-02T06:00:05.305Z"
   },
   {
    "duration": 37,
    "start_time": "2021-09-02T06:00:05.330Z"
   },
   {
    "duration": 29,
    "start_time": "2021-09-02T06:00:05.369Z"
   },
   {
    "duration": 18,
    "start_time": "2021-09-02T06:00:05.401Z"
   },
   {
    "duration": 50,
    "start_time": "2021-09-02T06:00:05.422Z"
   },
   {
    "duration": 35,
    "start_time": "2021-09-02T06:00:05.475Z"
   },
   {
    "duration": 51,
    "start_time": "2021-09-02T06:00:05.513Z"
   },
   {
    "duration": 15,
    "start_time": "2021-09-02T06:00:05.567Z"
   },
   {
    "duration": 9,
    "start_time": "2021-09-02T06:00:05.585Z"
   },
   {
    "duration": 16,
    "start_time": "2021-09-02T06:00:05.597Z"
   },
   {
    "duration": 5,
    "start_time": "2021-09-02T06:00:05.616Z"
   },
   {
    "duration": 4824,
    "start_time": "2021-09-02T06:00:05.624Z"
   },
   {
    "duration": 16,
    "start_time": "2021-09-02T06:00:10.451Z"
   },
   {
    "duration": 12,
    "start_time": "2021-09-02T06:00:10.470Z"
   },
   {
    "duration": 15,
    "start_time": "2021-09-02T06:00:10.485Z"
   },
   {
    "duration": 13,
    "start_time": "2021-09-02T06:00:10.502Z"
   },
   {
    "duration": 13,
    "start_time": "2021-09-02T06:00:10.517Z"
   },
   {
    "duration": 36,
    "start_time": "2021-09-02T06:00:10.533Z"
   },
   {
    "duration": 4,
    "start_time": "2021-09-02T06:00:10.571Z"
   },
   {
    "duration": 25,
    "start_time": "2021-09-02T06:00:10.577Z"
   },
   {
    "duration": 24,
    "start_time": "2021-09-02T06:00:10.604Z"
   },
   {
    "duration": 55,
    "start_time": "2021-09-02T06:00:10.631Z"
   },
   {
    "duration": 10,
    "start_time": "2021-09-02T06:00:10.688Z"
   },
   {
    "duration": 9,
    "start_time": "2021-09-02T06:00:10.701Z"
   },
   {
    "duration": 27,
    "start_time": "2021-09-02T06:00:10.713Z"
   },
   {
    "duration": 5,
    "start_time": "2021-09-02T06:00:10.763Z"
   },
   {
    "duration": 13,
    "start_time": "2021-09-02T06:00:10.770Z"
   },
   {
    "duration": 30,
    "start_time": "2021-09-02T06:00:10.785Z"
   },
   {
    "duration": 5,
    "start_time": "2021-09-02T06:00:10.818Z"
   },
   {
    "duration": 38,
    "start_time": "2021-09-02T06:00:10.825Z"
   },
   {
    "duration": 26,
    "start_time": "2021-09-02T06:00:10.866Z"
   },
   {
    "duration": 5,
    "start_time": "2021-09-02T06:00:10.894Z"
   },
   {
    "duration": 12,
    "start_time": "2021-09-02T06:00:10.902Z"
   },
   {
    "duration": 87,
    "start_time": "2021-09-02T19:56:50.214Z"
   },
   {
    "duration": 80,
    "start_time": "2021-09-02T20:06:01.945Z"
   }
  ],
  "kernelspec": {
   "display_name": "Python 3 (ipykernel)",
   "language": "python",
   "name": "python3"
  },
  "language_info": {
   "codemirror_mode": {
    "name": "ipython",
    "version": 3
   },
   "file_extension": ".py",
   "mimetype": "text/x-python",
   "name": "python",
   "nbconvert_exporter": "python",
   "pygments_lexer": "ipython3",
   "version": "3.9.12"
  },
  "toc": {
   "base_numbering": 1,
   "nav_menu": {},
   "number_sections": true,
   "sideBar": true,
   "skip_h1_title": true,
   "title_cell": "Table of Contents",
   "title_sidebar": "Contents",
   "toc_cell": false,
   "toc_position": {
    "height": "calc(100% - 180px)",
    "left": "10px",
    "top": "150px",
    "width": "403.6px"
   },
   "toc_section_display": true,
   "toc_window_display": true
  }
 },
 "nbformat": 4,
 "nbformat_minor": 2
}

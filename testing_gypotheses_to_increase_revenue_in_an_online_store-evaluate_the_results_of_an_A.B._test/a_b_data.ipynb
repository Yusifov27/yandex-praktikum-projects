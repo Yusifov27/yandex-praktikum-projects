{
 "cells": [
  {
   "cell_type": "markdown",
   "metadata": {},
   "source": [
    "## Этап 1. Испортирование библиотек, данных. Знакомство с данными."
   ]
  },
  {
   "cell_type": "markdown",
   "metadata": {},
   "source": [
    "### 1.1 Импортирование библиотек"
   ]
  },
  {
   "cell_type": "code",
   "execution_count": 62,
   "metadata": {},
   "outputs": [],
   "source": [
    "import pandas as pd\n",
    "import matplotlib\n",
    "import matplotlib.pyplot as plt\n",
    "import numpy as np\n",
    "import seaborn as sns\n",
    "import scipy.stats as stats\n",
    "pd.options.display.float_format = '{:,.2f}'.format"
   ]
  },
  {
   "cell_type": "markdown",
   "metadata": {},
   "source": [
    "### 1.2 Чтение файлов и знакомство с данными"
   ]
  },
  {
   "cell_type": "markdown",
   "metadata": {},
   "source": [
    "Прочитаем нужные для работы датасеты и сохраним их в переменные **hypothesis**, **orders**, **visitors** :"
   ]
  },
  {
   "cell_type": "code",
   "execution_count": 63,
   "metadata": {},
   "outputs": [],
   "source": [
    "hypothesis = pd.read_csv('/datasets/hypothesis.csv')\n",
    "orders = pd.read_csv('/datasets/orders.csv')\n",
    "visitors = pd.read_csv('/datasets/visitors.csv')"
   ]
  },
  {
   "cell_type": "markdown",
   "metadata": {},
   "source": [
    "Рассмотрим каждый датасет в дальнейшем более подробно."
   ]
  },
  {
   "cell_type": "markdown",
   "metadata": {},
   "source": [
    "#### 1.2.1 hypothesis"
   ]
  },
  {
   "cell_type": "markdown",
   "metadata": {},
   "source": [
    "Данный датасет хранит в себе гипотезы. Посмотрим на весь датасет :"
   ]
  },
  {
   "cell_type": "code",
   "execution_count": 64,
   "metadata": {},
   "outputs": [
    {
     "data": {
      "text/html": [
       "<div>\n",
       "<style scoped>\n",
       "    .dataframe tbody tr th:only-of-type {\n",
       "        vertical-align: middle;\n",
       "    }\n",
       "\n",
       "    .dataframe tbody tr th {\n",
       "        vertical-align: top;\n",
       "    }\n",
       "\n",
       "    .dataframe thead th {\n",
       "        text-align: right;\n",
       "    }\n",
       "</style>\n",
       "<table border=\"1\" class=\"dataframe\">\n",
       "  <thead>\n",
       "    <tr style=\"text-align: right;\">\n",
       "      <th></th>\n",
       "      <th>Hypothesis</th>\n",
       "      <th>Reach</th>\n",
       "      <th>Impact</th>\n",
       "      <th>Confidence</th>\n",
       "      <th>Efforts</th>\n",
       "    </tr>\n",
       "  </thead>\n",
       "  <tbody>\n",
       "    <tr>\n",
       "      <td>0</td>\n",
       "      <td>Добавить два новых канала привлечения трафика, что позволит привлекать на 30% больше пользователей</td>\n",
       "      <td>3</td>\n",
       "      <td>10</td>\n",
       "      <td>8</td>\n",
       "      <td>6</td>\n",
       "    </tr>\n",
       "    <tr>\n",
       "      <td>1</td>\n",
       "      <td>Запустить собственную службу доставки, что сократит срок доставки заказов</td>\n",
       "      <td>2</td>\n",
       "      <td>5</td>\n",
       "      <td>4</td>\n",
       "      <td>10</td>\n",
       "    </tr>\n",
       "    <tr>\n",
       "      <td>2</td>\n",
       "      <td>Добавить блоки рекомендаций товаров на сайт интернет магазина, чтобы повысить конверсию и средний чек заказа</td>\n",
       "      <td>8</td>\n",
       "      <td>3</td>\n",
       "      <td>7</td>\n",
       "      <td>3</td>\n",
       "    </tr>\n",
       "    <tr>\n",
       "      <td>3</td>\n",
       "      <td>Изменить структура категорий, что увеличит конверсию, т.к. пользователи быстрее найдут нужный товар</td>\n",
       "      <td>8</td>\n",
       "      <td>3</td>\n",
       "      <td>3</td>\n",
       "      <td>8</td>\n",
       "    </tr>\n",
       "    <tr>\n",
       "      <td>4</td>\n",
       "      <td>Изменить цвет фона главной страницы, чтобы увеличить вовлеченность пользователей</td>\n",
       "      <td>3</td>\n",
       "      <td>1</td>\n",
       "      <td>1</td>\n",
       "      <td>1</td>\n",
       "    </tr>\n",
       "    <tr>\n",
       "      <td>5</td>\n",
       "      <td>Добавить страницу отзывов клиентов о магазине, что позволит увеличить количество заказов</td>\n",
       "      <td>3</td>\n",
       "      <td>2</td>\n",
       "      <td>2</td>\n",
       "      <td>3</td>\n",
       "    </tr>\n",
       "    <tr>\n",
       "      <td>6</td>\n",
       "      <td>Показать на главной странице баннеры с актуальными акциями и распродажами, чтобы увеличить конверсию</td>\n",
       "      <td>5</td>\n",
       "      <td>3</td>\n",
       "      <td>8</td>\n",
       "      <td>3</td>\n",
       "    </tr>\n",
       "    <tr>\n",
       "      <td>7</td>\n",
       "      <td>Добавить форму подписки на все основные страницы, чтобы собрать базу клиентов для email-рассылок</td>\n",
       "      <td>10</td>\n",
       "      <td>7</td>\n",
       "      <td>8</td>\n",
       "      <td>5</td>\n",
       "    </tr>\n",
       "    <tr>\n",
       "      <td>8</td>\n",
       "      <td>Запустить акцию, дающую скидку на товар в день рождения</td>\n",
       "      <td>1</td>\n",
       "      <td>9</td>\n",
       "      <td>9</td>\n",
       "      <td>5</td>\n",
       "    </tr>\n",
       "  </tbody>\n",
       "</table>\n",
       "</div>"
      ],
      "text/plain": [
       "                                                                                                     Hypothesis  \\\n",
       "0            Добавить два новых канала привлечения трафика, что позволит привлекать на 30% больше пользователей   \n",
       "1                                     Запустить собственную службу доставки, что сократит срок доставки заказов   \n",
       "2  Добавить блоки рекомендаций товаров на сайт интернет магазина, чтобы повысить конверсию и средний чек заказа   \n",
       "3           Изменить структура категорий, что увеличит конверсию, т.к. пользователи быстрее найдут нужный товар   \n",
       "4                              Изменить цвет фона главной страницы, чтобы увеличить вовлеченность пользователей   \n",
       "5                      Добавить страницу отзывов клиентов о магазине, что позволит увеличить количество заказов   \n",
       "6          Показать на главной странице баннеры с актуальными акциями и распродажами, чтобы увеличить конверсию   \n",
       "7              Добавить форму подписки на все основные страницы, чтобы собрать базу клиентов для email-рассылок   \n",
       "8                                                       Запустить акцию, дающую скидку на товар в день рождения   \n",
       "\n",
       "   Reach  Impact  Confidence  Efforts  \n",
       "0      3      10           8        6  \n",
       "1      2       5           4       10  \n",
       "2      8       3           7        3  \n",
       "3      8       3           3        8  \n",
       "4      3       1           1        1  \n",
       "5      3       2           2        3  \n",
       "6      5       3           8        3  \n",
       "7     10       7           8        5  \n",
       "8      1       9           9        5  "
      ]
     },
     "execution_count": 64,
     "metadata": {},
     "output_type": "execute_result"
    }
   ],
   "source": [
    "hypothesis"
   ]
  },
  {
   "cell_type": "markdown",
   "metadata": {},
   "source": [
    "Здесь предоставлены 9 строк с гипотезами и также такие столбцы как :\n",
    "* Hypothesis — краткое описание гипотезы;\n",
    "* Reach — охват пользователей по 10-балльной шкале;\n",
    "* Impact — влияние на пользователей по 10-балльной шкале;\n",
    "* Confidence — уверенность в гипотезе по 10-балльной шкале;\n",
    "* Efforts — затраты ресурсов на проверку гипотезы по 10-балльной шкале. Чем больше значение Efforts, тем дороже проверка гипотезы."
   ]
  },
  {
   "cell_type": "markdown",
   "metadata": {},
   "source": [
    "Для удобства изменим регистр столбцов на нижний :"
   ]
  },
  {
   "cell_type": "code",
   "execution_count": 65,
   "metadata": {},
   "outputs": [],
   "source": [
    "hypothesis.columns = hypothesis.columns.str.lower()"
   ]
  },
  {
   "cell_type": "markdown",
   "metadata": {},
   "source": [
    "Вызовем общую информацию и посмотрим нет ли искаженных типов данных, пропусков:"
   ]
  },
  {
   "cell_type": "code",
   "execution_count": 66,
   "metadata": {},
   "outputs": [
    {
     "name": "stdout",
     "output_type": "stream",
     "text": [
      "<class 'pandas.core.frame.DataFrame'>\n",
      "RangeIndex: 9 entries, 0 to 8\n",
      "Data columns (total 5 columns):\n",
      "hypothesis    9 non-null object\n",
      "reach         9 non-null int64\n",
      "impact        9 non-null int64\n",
      "confidence    9 non-null int64\n",
      "efforts       9 non-null int64\n",
      "dtypes: int64(4), object(1)\n",
      "memory usage: 488.0+ bytes\n"
     ]
    }
   ],
   "source": [
    "hypothesis.info()"
   ]
  },
  {
   "cell_type": "markdown",
   "metadata": {},
   "source": [
    "Типы данных в порядке, пропусков нет.\n",
    "\n",
    "Проверим данные на наличие явных дубликатов:"
   ]
  },
  {
   "cell_type": "code",
   "execution_count": 67,
   "metadata": {},
   "outputs": [
    {
     "data": {
      "text/plain": [
       "0"
      ]
     },
     "execution_count": 67,
     "metadata": {},
     "output_type": "execute_result"
    }
   ],
   "source": [
    "hypothesis.duplicated().sum()"
   ]
  },
  {
   "cell_type": "markdown",
   "metadata": {},
   "source": [
    "Дубликатов нет. "
   ]
  },
  {
   "cell_type": "markdown",
   "metadata": {},
   "source": [
    "#### 1.2.2 orders"
   ]
  },
  {
   "cell_type": "markdown",
   "metadata": {},
   "source": [
    "Данный датасет хранит в себе заказы. Посмотрим на 10 случайных строк датасета:"
   ]
  },
  {
   "cell_type": "code",
   "execution_count": 68,
   "metadata": {},
   "outputs": [
    {
     "data": {
      "text/html": [
       "<div>\n",
       "<style scoped>\n",
       "    .dataframe tbody tr th:only-of-type {\n",
       "        vertical-align: middle;\n",
       "    }\n",
       "\n",
       "    .dataframe tbody tr th {\n",
       "        vertical-align: top;\n",
       "    }\n",
       "\n",
       "    .dataframe thead th {\n",
       "        text-align: right;\n",
       "    }\n",
       "</style>\n",
       "<table border=\"1\" class=\"dataframe\">\n",
       "  <thead>\n",
       "    <tr style=\"text-align: right;\">\n",
       "      <th></th>\n",
       "      <th>transactionId</th>\n",
       "      <th>visitorId</th>\n",
       "      <th>date</th>\n",
       "      <th>revenue</th>\n",
       "      <th>group</th>\n",
       "    </tr>\n",
       "  </thead>\n",
       "  <tbody>\n",
       "    <tr>\n",
       "      <td>7</td>\n",
       "      <td>2626614568</td>\n",
       "      <td>78758296</td>\n",
       "      <td>2019-08-15</td>\n",
       "      <td>1044</td>\n",
       "      <td>A</td>\n",
       "    </tr>\n",
       "    <tr>\n",
       "      <td>405</td>\n",
       "      <td>2160002122</td>\n",
       "      <td>619764962</td>\n",
       "      <td>2019-08-03</td>\n",
       "      <td>870</td>\n",
       "      <td>B</td>\n",
       "    </tr>\n",
       "    <tr>\n",
       "      <td>1015</td>\n",
       "      <td>4262851755</td>\n",
       "      <td>1294878855</td>\n",
       "      <td>2019-08-31</td>\n",
       "      <td>570</td>\n",
       "      <td>A</td>\n",
       "    </tr>\n",
       "    <tr>\n",
       "      <td>393</td>\n",
       "      <td>3384227820</td>\n",
       "      <td>2582702340</td>\n",
       "      <td>2019-08-25</td>\n",
       "      <td>1253</td>\n",
       "      <td>B</td>\n",
       "    </tr>\n",
       "    <tr>\n",
       "      <td>589</td>\n",
       "      <td>2476870871</td>\n",
       "      <td>916684595</td>\n",
       "      <td>2019-08-20</td>\n",
       "      <td>5740</td>\n",
       "      <td>B</td>\n",
       "    </tr>\n",
       "    <tr>\n",
       "      <td>213</td>\n",
       "      <td>394880746</td>\n",
       "      <td>3332057097</td>\n",
       "      <td>2019-08-02</td>\n",
       "      <td>2750</td>\n",
       "      <td>B</td>\n",
       "    </tr>\n",
       "    <tr>\n",
       "      <td>15</td>\n",
       "      <td>2550768810</td>\n",
       "      <td>2742574263</td>\n",
       "      <td>2019-08-15</td>\n",
       "      <td>15277</td>\n",
       "      <td>B</td>\n",
       "    </tr>\n",
       "    <tr>\n",
       "      <td>657</td>\n",
       "      <td>2081053731</td>\n",
       "      <td>3572819427</td>\n",
       "      <td>2019-08-26</td>\n",
       "      <td>7024</td>\n",
       "      <td>A</td>\n",
       "    </tr>\n",
       "    <tr>\n",
       "      <td>470</td>\n",
       "      <td>2234122314</td>\n",
       "      <td>3310105714</td>\n",
       "      <td>2019-08-03</td>\n",
       "      <td>8780</td>\n",
       "      <td>B</td>\n",
       "    </tr>\n",
       "    <tr>\n",
       "      <td>45</td>\n",
       "      <td>837819976</td>\n",
       "      <td>1471496742</td>\n",
       "      <td>2019-08-16</td>\n",
       "      <td>2140</td>\n",
       "      <td>A</td>\n",
       "    </tr>\n",
       "  </tbody>\n",
       "</table>\n",
       "</div>"
      ],
      "text/plain": [
       "      transactionId   visitorId        date  revenue group\n",
       "7        2626614568    78758296  2019-08-15     1044     A\n",
       "405      2160002122   619764962  2019-08-03      870     B\n",
       "1015     4262851755  1294878855  2019-08-31      570     A\n",
       "393      3384227820  2582702340  2019-08-25     1253     B\n",
       "589      2476870871   916684595  2019-08-20     5740     B\n",
       "213       394880746  3332057097  2019-08-02     2750     B\n",
       "15       2550768810  2742574263  2019-08-15    15277     B\n",
       "657      2081053731  3572819427  2019-08-26     7024     A\n",
       "470      2234122314  3310105714  2019-08-03     8780     B\n",
       "45        837819976  1471496742  2019-08-16     2140     A"
      ]
     },
     "execution_count": 68,
     "metadata": {},
     "output_type": "execute_result"
    }
   ],
   "source": [
    "orders.sample(10)"
   ]
  },
  {
   "cell_type": "markdown",
   "metadata": {},
   "source": [
    "Данный датасет включает в себя такие столбцы как:\n",
    "* transactionId — идентификатор заказа;\n",
    "* visitorId — идентификатор пользователя, совершившего заказ;\n",
    "* date — дата, когда был совершён заказ;\n",
    "* revenue — выручка заказа;\n",
    "* group — группа A/B-теста, в которую попал заказ."
   ]
  },
  {
   "cell_type": "markdown",
   "metadata": {},
   "source": [
    "Вызовем общую информацию и посмотрим нет ли искаженных типов данных, пропусков:"
   ]
  },
  {
   "cell_type": "code",
   "execution_count": 69,
   "metadata": {},
   "outputs": [
    {
     "name": "stdout",
     "output_type": "stream",
     "text": [
      "<class 'pandas.core.frame.DataFrame'>\n",
      "RangeIndex: 1197 entries, 0 to 1196\n",
      "Data columns (total 5 columns):\n",
      "transactionId    1197 non-null int64\n",
      "visitorId        1197 non-null int64\n",
      "date             1197 non-null object\n",
      "revenue          1197 non-null int64\n",
      "group            1197 non-null object\n",
      "dtypes: int64(3), object(2)\n",
      "memory usage: 46.9+ KB\n"
     ]
    }
   ],
   "source": [
    "orders.info()"
   ]
  },
  {
   "cell_type": "markdown",
   "metadata": {},
   "source": [
    "Пропусков нет, но в столбцах *date*  изменим типы данных.\n",
    "\n",
    "Для *date* изменим тип данных на временной:"
   ]
  },
  {
   "cell_type": "code",
   "execution_count": 70,
   "metadata": {},
   "outputs": [],
   "source": [
    "orders['date'] = pd.to_datetime(orders['date'])"
   ]
  },
  {
   "cell_type": "markdown",
   "metadata": {},
   "source": [
    "Проверим данные на наличие явных дубликатов:"
   ]
  },
  {
   "cell_type": "code",
   "execution_count": 71,
   "metadata": {},
   "outputs": [
    {
     "data": {
      "text/plain": [
       "0"
      ]
     },
     "execution_count": 71,
     "metadata": {},
     "output_type": "execute_result"
    }
   ],
   "source": [
    "orders.duplicated().sum()"
   ]
  },
  {
   "cell_type": "markdown",
   "metadata": {},
   "source": [
    "Дубликатов нет."
   ]
  },
  {
   "cell_type": "markdown",
   "metadata": {},
   "source": [
    "#### 1.2.3 visitors"
   ]
  },
  {
   "cell_type": "markdown",
   "metadata": {},
   "source": [
    "Данный датасет хранит информацию о посещениях пользователей. Выведем 10 случайных строк датасета:"
   ]
  },
  {
   "cell_type": "code",
   "execution_count": 72,
   "metadata": {},
   "outputs": [
    {
     "data": {
      "text/html": [
       "<div>\n",
       "<style scoped>\n",
       "    .dataframe tbody tr th:only-of-type {\n",
       "        vertical-align: middle;\n",
       "    }\n",
       "\n",
       "    .dataframe tbody tr th {\n",
       "        vertical-align: top;\n",
       "    }\n",
       "\n",
       "    .dataframe thead th {\n",
       "        text-align: right;\n",
       "    }\n",
       "</style>\n",
       "<table border=\"1\" class=\"dataframe\">\n",
       "  <thead>\n",
       "    <tr style=\"text-align: right;\">\n",
       "      <th></th>\n",
       "      <th>date</th>\n",
       "      <th>group</th>\n",
       "      <th>visitors</th>\n",
       "    </tr>\n",
       "  </thead>\n",
       "  <tbody>\n",
       "    <tr>\n",
       "      <td>0</td>\n",
       "      <td>2019-08-01</td>\n",
       "      <td>A</td>\n",
       "      <td>719</td>\n",
       "    </tr>\n",
       "    <tr>\n",
       "      <td>30</td>\n",
       "      <td>2019-08-31</td>\n",
       "      <td>A</td>\n",
       "      <td>699</td>\n",
       "    </tr>\n",
       "    <tr>\n",
       "      <td>4</td>\n",
       "      <td>2019-08-05</td>\n",
       "      <td>A</td>\n",
       "      <td>756</td>\n",
       "    </tr>\n",
       "    <tr>\n",
       "      <td>18</td>\n",
       "      <td>2019-08-19</td>\n",
       "      <td>A</td>\n",
       "      <td>502</td>\n",
       "    </tr>\n",
       "    <tr>\n",
       "      <td>20</td>\n",
       "      <td>2019-08-21</td>\n",
       "      <td>A</td>\n",
       "      <td>646</td>\n",
       "    </tr>\n",
       "    <tr>\n",
       "      <td>1</td>\n",
       "      <td>2019-08-02</td>\n",
       "      <td>A</td>\n",
       "      <td>619</td>\n",
       "    </tr>\n",
       "    <tr>\n",
       "      <td>32</td>\n",
       "      <td>2019-08-02</td>\n",
       "      <td>B</td>\n",
       "      <td>581</td>\n",
       "    </tr>\n",
       "    <tr>\n",
       "      <td>11</td>\n",
       "      <td>2019-08-12</td>\n",
       "      <td>A</td>\n",
       "      <td>595</td>\n",
       "    </tr>\n",
       "    <tr>\n",
       "      <td>2</td>\n",
       "      <td>2019-08-03</td>\n",
       "      <td>A</td>\n",
       "      <td>507</td>\n",
       "    </tr>\n",
       "    <tr>\n",
       "      <td>34</td>\n",
       "      <td>2019-08-04</td>\n",
       "      <td>B</td>\n",
       "      <td>770</td>\n",
       "    </tr>\n",
       "  </tbody>\n",
       "</table>\n",
       "</div>"
      ],
      "text/plain": [
       "          date group  visitors\n",
       "0   2019-08-01     A       719\n",
       "30  2019-08-31     A       699\n",
       "4   2019-08-05     A       756\n",
       "18  2019-08-19     A       502\n",
       "20  2019-08-21     A       646\n",
       "1   2019-08-02     A       619\n",
       "32  2019-08-02     B       581\n",
       "11  2019-08-12     A       595\n",
       "2   2019-08-03     A       507\n",
       "34  2019-08-04     B       770"
      ]
     },
     "execution_count": 72,
     "metadata": {},
     "output_type": "execute_result"
    }
   ],
   "source": [
    "visitors.sample(10)"
   ]
  },
  {
   "cell_type": "markdown",
   "metadata": {},
   "source": [
    "Данный датасет хранит в себе такие столбцы как:\n",
    "* date — дата;\n",
    "* group — группа A/B-теста;\n",
    "* visitors — количество пользователей в указанную дату в указанной группе A/B-теста"
   ]
  },
  {
   "cell_type": "markdown",
   "metadata": {},
   "source": [
    "Вызовем общую информацию и посмотрим нет ли искаженных типов данных, пропусков:"
   ]
  },
  {
   "cell_type": "code",
   "execution_count": 73,
   "metadata": {},
   "outputs": [
    {
     "name": "stdout",
     "output_type": "stream",
     "text": [
      "<class 'pandas.core.frame.DataFrame'>\n",
      "RangeIndex: 62 entries, 0 to 61\n",
      "Data columns (total 3 columns):\n",
      "date        62 non-null object\n",
      "group       62 non-null object\n",
      "visitors    62 non-null int64\n",
      "dtypes: int64(1), object(2)\n",
      "memory usage: 1.6+ KB\n"
     ]
    }
   ],
   "source": [
    "visitors.info()"
   ]
  },
  {
   "cell_type": "markdown",
   "metadata": {},
   "source": [
    "Пропусков нет, но в столбцах *date* изменим типы данных.\n",
    "\n",
    "Для *date* изменим тип данных на временной:"
   ]
  },
  {
   "cell_type": "code",
   "execution_count": 74,
   "metadata": {},
   "outputs": [],
   "source": [
    "visitors['date'] = pd.to_datetime(visitors['date'])"
   ]
  },
  {
   "cell_type": "markdown",
   "metadata": {},
   "source": [
    "Проверим данные на наличие явных дубликатов:"
   ]
  },
  {
   "cell_type": "code",
   "execution_count": 75,
   "metadata": {},
   "outputs": [
    {
     "data": {
      "text/plain": [
       "0"
      ]
     },
     "execution_count": 75,
     "metadata": {},
     "output_type": "execute_result"
    }
   ],
   "source": [
    "visitors.duplicated().sum()"
   ]
  },
  {
   "cell_type": "markdown",
   "metadata": {},
   "source": [
    "Явных дубликатов нет."
   ]
  },
  {
   "cell_type": "markdown",
   "metadata": {},
   "source": [
    "### 1.3 Вывод"
   ]
  },
  {
   "cell_type": "markdown",
   "metadata": {},
   "source": [
    "Познакомившись с датасетами подчеркнем, что в целом данные в хорошем качестве, пропусков и дубликатов нет. В датасете с гипотезами был изменен регистр столбцов на нижний. В датасете с заказами и посетителями был изменен тип данных для времени на временной и для группы на категории."
   ]
  },
  {
   "cell_type": "markdown",
   "metadata": {},
   "source": [
    "## Этап 2. Приоритизация гипотез. Анализ A/B-теста."
   ]
  },
  {
   "cell_type": "markdown",
   "metadata": {},
   "source": [
    "###  2.1 Приоритизация гипотез."
   ]
  },
  {
   "cell_type": "markdown",
   "metadata": {},
   "source": [
    "#### 2.1.1 Фреймворк ICE"
   ]
  },
  {
   "cell_type": "markdown",
   "metadata": {},
   "source": [
    "Создадим столбец с **ICE** :"
   ]
  },
  {
   "cell_type": "code",
   "execution_count": 77,
   "metadata": {},
   "outputs": [],
   "source": [
    "hypothesis['ice'] = hypothesis['impact'] * hypothesis['confidence'] / hypothesis['efforts']"
   ]
  },
  {
   "cell_type": "markdown",
   "metadata": {},
   "source": [
    "Рассмотрим гипотезы в порядке убывания по **ICE**:"
   ]
  },
  {
   "cell_type": "code",
   "execution_count": 78,
   "metadata": {},
   "outputs": [
    {
     "data": {
      "text/html": [
       "<div>\n",
       "<style scoped>\n",
       "    .dataframe tbody tr th:only-of-type {\n",
       "        vertical-align: middle;\n",
       "    }\n",
       "\n",
       "    .dataframe tbody tr th {\n",
       "        vertical-align: top;\n",
       "    }\n",
       "\n",
       "    .dataframe thead th {\n",
       "        text-align: right;\n",
       "    }\n",
       "</style>\n",
       "<table border=\"1\" class=\"dataframe\">\n",
       "  <thead>\n",
       "    <tr style=\"text-align: right;\">\n",
       "      <th></th>\n",
       "      <th>hypothesis</th>\n",
       "      <th>ice</th>\n",
       "    </tr>\n",
       "  </thead>\n",
       "  <tbody>\n",
       "    <tr>\n",
       "      <td>8</td>\n",
       "      <td>Запустить акцию, дающую скидку на товар в день рождения</td>\n",
       "      <td>16.20</td>\n",
       "    </tr>\n",
       "    <tr>\n",
       "      <td>0</td>\n",
       "      <td>Добавить два новых канала привлечения трафика, что позволит привлекать на 30% больше пользователей</td>\n",
       "      <td>13.33</td>\n",
       "    </tr>\n",
       "    <tr>\n",
       "      <td>7</td>\n",
       "      <td>Добавить форму подписки на все основные страницы, чтобы собрать базу клиентов для email-рассылок</td>\n",
       "      <td>11.20</td>\n",
       "    </tr>\n",
       "    <tr>\n",
       "      <td>6</td>\n",
       "      <td>Показать на главной странице баннеры с актуальными акциями и распродажами, чтобы увеличить конверсию</td>\n",
       "      <td>8.00</td>\n",
       "    </tr>\n",
       "    <tr>\n",
       "      <td>2</td>\n",
       "      <td>Добавить блоки рекомендаций товаров на сайт интернет магазина, чтобы повысить конверсию и средний чек заказа</td>\n",
       "      <td>7.00</td>\n",
       "    </tr>\n",
       "    <tr>\n",
       "      <td>1</td>\n",
       "      <td>Запустить собственную службу доставки, что сократит срок доставки заказов</td>\n",
       "      <td>2.00</td>\n",
       "    </tr>\n",
       "    <tr>\n",
       "      <td>5</td>\n",
       "      <td>Добавить страницу отзывов клиентов о магазине, что позволит увеличить количество заказов</td>\n",
       "      <td>1.33</td>\n",
       "    </tr>\n",
       "    <tr>\n",
       "      <td>3</td>\n",
       "      <td>Изменить структура категорий, что увеличит конверсию, т.к. пользователи быстрее найдут нужный товар</td>\n",
       "      <td>1.12</td>\n",
       "    </tr>\n",
       "    <tr>\n",
       "      <td>4</td>\n",
       "      <td>Изменить цвет фона главной страницы, чтобы увеличить вовлеченность пользователей</td>\n",
       "      <td>1.00</td>\n",
       "    </tr>\n",
       "  </tbody>\n",
       "</table>\n",
       "</div>"
      ],
      "text/plain": [
       "                                                                                                     hypothesis  \\\n",
       "8                                                       Запустить акцию, дающую скидку на товар в день рождения   \n",
       "0            Добавить два новых канала привлечения трафика, что позволит привлекать на 30% больше пользователей   \n",
       "7              Добавить форму подписки на все основные страницы, чтобы собрать базу клиентов для email-рассылок   \n",
       "6          Показать на главной странице баннеры с актуальными акциями и распродажами, чтобы увеличить конверсию   \n",
       "2  Добавить блоки рекомендаций товаров на сайт интернет магазина, чтобы повысить конверсию и средний чек заказа   \n",
       "1                                     Запустить собственную службу доставки, что сократит срок доставки заказов   \n",
       "5                      Добавить страницу отзывов клиентов о магазине, что позволит увеличить количество заказов   \n",
       "3           Изменить структура категорий, что увеличит конверсию, т.к. пользователи быстрее найдут нужный товар   \n",
       "4                              Изменить цвет фона главной страницы, чтобы увеличить вовлеченность пользователей   \n",
       "\n",
       "    ice  \n",
       "8 16.20  \n",
       "0 13.33  \n",
       "7 11.20  \n",
       "6  8.00  \n",
       "2  7.00  \n",
       "1  2.00  \n",
       "5  1.33  \n",
       "3  1.12  \n",
       "4  1.00  "
      ]
     },
     "execution_count": 78,
     "metadata": {},
     "output_type": "execute_result"
    }
   ],
   "source": [
    "pd.set_option(\"display.max_colwidth\", 150)\n",
    "hypothesis[['hypothesis','ice']].sort_values('ice',ascending = False)\n"
   ]
  },
  {
   "cell_type": "markdown",
   "metadata": {},
   "source": [
    "Фреймворк **ICE** дает понять, что наиболее перспективная гипотеза это - **Запустить акцию, дающую скидку на товар в день рождения**,следом идет гипотеза - **Добавить два новых канала привлечения трафика, что позволит привлекать на 30% больше пользователей**. Замыкает тройку - **Добавить форму подписки на все основные страницы, чтобы собрать базу клиентов для email-рассылок**. Наименее перспективная гипотеза - **Изменить цвет фона главной страницы, чтобы увеличить вовлеченность пользователей.**"
   ]
  },
  {
   "cell_type": "markdown",
   "metadata": {},
   "source": [
    "#### 2.1.2 Фреймворк RICE"
   ]
  },
  {
   "cell_type": "markdown",
   "metadata": {},
   "source": [
    "Создадим столбец с **RICE** :"
   ]
  },
  {
   "cell_type": "code",
   "execution_count": 79,
   "metadata": {},
   "outputs": [],
   "source": [
    "hypothesis['rice'] = hypothesis['reach'] * hypothesis['impact'] * hypothesis['confidence'] / hypothesis['efforts']"
   ]
  },
  {
   "cell_type": "markdown",
   "metadata": {},
   "source": [
    "Рассмотрим гипотезы в порядке убывания по **RICE**:"
   ]
  },
  {
   "cell_type": "code",
   "execution_count": 80,
   "metadata": {},
   "outputs": [
    {
     "data": {
      "text/html": [
       "<div>\n",
       "<style scoped>\n",
       "    .dataframe tbody tr th:only-of-type {\n",
       "        vertical-align: middle;\n",
       "    }\n",
       "\n",
       "    .dataframe tbody tr th {\n",
       "        vertical-align: top;\n",
       "    }\n",
       "\n",
       "    .dataframe thead th {\n",
       "        text-align: right;\n",
       "    }\n",
       "</style>\n",
       "<table border=\"1\" class=\"dataframe\">\n",
       "  <thead>\n",
       "    <tr style=\"text-align: right;\">\n",
       "      <th></th>\n",
       "      <th>hypothesis</th>\n",
       "      <th>rice</th>\n",
       "    </tr>\n",
       "  </thead>\n",
       "  <tbody>\n",
       "    <tr>\n",
       "      <td>7</td>\n",
       "      <td>Добавить форму подписки на все основные страницы, чтобы собрать базу клиентов для email-рассылок</td>\n",
       "      <td>112.00</td>\n",
       "    </tr>\n",
       "    <tr>\n",
       "      <td>2</td>\n",
       "      <td>Добавить блоки рекомендаций товаров на сайт интернет магазина, чтобы повысить конверсию и средний чек заказа</td>\n",
       "      <td>56.00</td>\n",
       "    </tr>\n",
       "    <tr>\n",
       "      <td>0</td>\n",
       "      <td>Добавить два новых канала привлечения трафика, что позволит привлекать на 30% больше пользователей</td>\n",
       "      <td>40.00</td>\n",
       "    </tr>\n",
       "    <tr>\n",
       "      <td>6</td>\n",
       "      <td>Показать на главной странице баннеры с актуальными акциями и распродажами, чтобы увеличить конверсию</td>\n",
       "      <td>40.00</td>\n",
       "    </tr>\n",
       "    <tr>\n",
       "      <td>8</td>\n",
       "      <td>Запустить акцию, дающую скидку на товар в день рождения</td>\n",
       "      <td>16.20</td>\n",
       "    </tr>\n",
       "    <tr>\n",
       "      <td>3</td>\n",
       "      <td>Изменить структура категорий, что увеличит конверсию, т.к. пользователи быстрее найдут нужный товар</td>\n",
       "      <td>9.00</td>\n",
       "    </tr>\n",
       "    <tr>\n",
       "      <td>1</td>\n",
       "      <td>Запустить собственную службу доставки, что сократит срок доставки заказов</td>\n",
       "      <td>4.00</td>\n",
       "    </tr>\n",
       "    <tr>\n",
       "      <td>5</td>\n",
       "      <td>Добавить страницу отзывов клиентов о магазине, что позволит увеличить количество заказов</td>\n",
       "      <td>4.00</td>\n",
       "    </tr>\n",
       "    <tr>\n",
       "      <td>4</td>\n",
       "      <td>Изменить цвет фона главной страницы, чтобы увеличить вовлеченность пользователей</td>\n",
       "      <td>3.00</td>\n",
       "    </tr>\n",
       "  </tbody>\n",
       "</table>\n",
       "</div>"
      ],
      "text/plain": [
       "                                                                                                     hypothesis  \\\n",
       "7              Добавить форму подписки на все основные страницы, чтобы собрать базу клиентов для email-рассылок   \n",
       "2  Добавить блоки рекомендаций товаров на сайт интернет магазина, чтобы повысить конверсию и средний чек заказа   \n",
       "0            Добавить два новых канала привлечения трафика, что позволит привлекать на 30% больше пользователей   \n",
       "6          Показать на главной странице баннеры с актуальными акциями и распродажами, чтобы увеличить конверсию   \n",
       "8                                                       Запустить акцию, дающую скидку на товар в день рождения   \n",
       "3           Изменить структура категорий, что увеличит конверсию, т.к. пользователи быстрее найдут нужный товар   \n",
       "1                                     Запустить собственную службу доставки, что сократит срок доставки заказов   \n",
       "5                      Добавить страницу отзывов клиентов о магазине, что позволит увеличить количество заказов   \n",
       "4                              Изменить цвет фона главной страницы, чтобы увеличить вовлеченность пользователей   \n",
       "\n",
       "    rice  \n",
       "7 112.00  \n",
       "2  56.00  \n",
       "0  40.00  \n",
       "6  40.00  \n",
       "8  16.20  \n",
       "3   9.00  \n",
       "1   4.00  \n",
       "5   4.00  \n",
       "4   3.00  "
      ]
     },
     "execution_count": 80,
     "metadata": {},
     "output_type": "execute_result"
    }
   ],
   "source": [
    "hypothesis[['hypothesis','rice']].sort_values('rice',ascending = False)\n"
   ]
  },
  {
   "cell_type": "markdown",
   "metadata": {},
   "source": [
    "Фреймворк **RICE** дает понять, что наиболее перспективная гипотеза это - **Добавить форму подписки на все основные страницы, чтобы собрать базу клиентов для email-рассылок**,следом идет гипотеза - **Добавить блоки рекомендаций товаров на сайт интернет магазина, чтобы повысить конверсию и средний чек заказа**. Замыкает тройку - **Добавить два новых канала привлечения трафика, что позволит привлекать на 30% больше пользователей**. Наименее перспективная гипотеза - **Изменить цвет фона главной страницы, чтобы увеличить вовлеченность пользователей.**"
   ]
  },
  {
   "cell_type": "markdown",
   "metadata": {},
   "source": [
    "#### 2.1.3 Изменение приоритизации гипотез в зависимости от выбора фреймворка **ICE** или **RICE**. "
   ]
  },
  {
   "cell_type": "markdown",
   "metadata": {},
   "source": [
    "Выведем гипотезы с **ICE** и **RICE** в порядке убывания по **RICE**:"
   ]
  },
  {
   "cell_type": "code",
   "execution_count": 81,
   "metadata": {},
   "outputs": [
    {
     "data": {
      "text/html": [
       "<div>\n",
       "<style scoped>\n",
       "    .dataframe tbody tr th:only-of-type {\n",
       "        vertical-align: middle;\n",
       "    }\n",
       "\n",
       "    .dataframe tbody tr th {\n",
       "        vertical-align: top;\n",
       "    }\n",
       "\n",
       "    .dataframe thead th {\n",
       "        text-align: right;\n",
       "    }\n",
       "</style>\n",
       "<table border=\"1\" class=\"dataframe\">\n",
       "  <thead>\n",
       "    <tr style=\"text-align: right;\">\n",
       "      <th></th>\n",
       "      <th>hypothesis</th>\n",
       "      <th>ice</th>\n",
       "      <th>rice</th>\n",
       "    </tr>\n",
       "  </thead>\n",
       "  <tbody>\n",
       "    <tr>\n",
       "      <td>7</td>\n",
       "      <td>Добавить форму подписки на все основные страницы, чтобы собрать базу клиентов для email-рассылок</td>\n",
       "      <td>11.20</td>\n",
       "      <td>112.00</td>\n",
       "    </tr>\n",
       "    <tr>\n",
       "      <td>2</td>\n",
       "      <td>Добавить блоки рекомендаций товаров на сайт интернет магазина, чтобы повысить конверсию и средний чек заказа</td>\n",
       "      <td>7.00</td>\n",
       "      <td>56.00</td>\n",
       "    </tr>\n",
       "    <tr>\n",
       "      <td>0</td>\n",
       "      <td>Добавить два новых канала привлечения трафика, что позволит привлекать на 30% больше пользователей</td>\n",
       "      <td>13.33</td>\n",
       "      <td>40.00</td>\n",
       "    </tr>\n",
       "    <tr>\n",
       "      <td>6</td>\n",
       "      <td>Показать на главной странице баннеры с актуальными акциями и распродажами, чтобы увеличить конверсию</td>\n",
       "      <td>8.00</td>\n",
       "      <td>40.00</td>\n",
       "    </tr>\n",
       "    <tr>\n",
       "      <td>8</td>\n",
       "      <td>Запустить акцию, дающую скидку на товар в день рождения</td>\n",
       "      <td>16.20</td>\n",
       "      <td>16.20</td>\n",
       "    </tr>\n",
       "    <tr>\n",
       "      <td>3</td>\n",
       "      <td>Изменить структура категорий, что увеличит конверсию, т.к. пользователи быстрее найдут нужный товар</td>\n",
       "      <td>1.12</td>\n",
       "      <td>9.00</td>\n",
       "    </tr>\n",
       "    <tr>\n",
       "      <td>1</td>\n",
       "      <td>Запустить собственную службу доставки, что сократит срок доставки заказов</td>\n",
       "      <td>2.00</td>\n",
       "      <td>4.00</td>\n",
       "    </tr>\n",
       "    <tr>\n",
       "      <td>5</td>\n",
       "      <td>Добавить страницу отзывов клиентов о магазине, что позволит увеличить количество заказов</td>\n",
       "      <td>1.33</td>\n",
       "      <td>4.00</td>\n",
       "    </tr>\n",
       "    <tr>\n",
       "      <td>4</td>\n",
       "      <td>Изменить цвет фона главной страницы, чтобы увеличить вовлеченность пользователей</td>\n",
       "      <td>1.00</td>\n",
       "      <td>3.00</td>\n",
       "    </tr>\n",
       "  </tbody>\n",
       "</table>\n",
       "</div>"
      ],
      "text/plain": [
       "                                                                                                     hypothesis  \\\n",
       "7              Добавить форму подписки на все основные страницы, чтобы собрать базу клиентов для email-рассылок   \n",
       "2  Добавить блоки рекомендаций товаров на сайт интернет магазина, чтобы повысить конверсию и средний чек заказа   \n",
       "0            Добавить два новых канала привлечения трафика, что позволит привлекать на 30% больше пользователей   \n",
       "6          Показать на главной странице баннеры с актуальными акциями и распродажами, чтобы увеличить конверсию   \n",
       "8                                                       Запустить акцию, дающую скидку на товар в день рождения   \n",
       "3           Изменить структура категорий, что увеличит конверсию, т.к. пользователи быстрее найдут нужный товар   \n",
       "1                                     Запустить собственную службу доставки, что сократит срок доставки заказов   \n",
       "5                      Добавить страницу отзывов клиентов о магазине, что позволит увеличить количество заказов   \n",
       "4                              Изменить цвет фона главной страницы, чтобы увеличить вовлеченность пользователей   \n",
       "\n",
       "    ice   rice  \n",
       "7 11.20 112.00  \n",
       "2  7.00  56.00  \n",
       "0 13.33  40.00  \n",
       "6  8.00  40.00  \n",
       "8 16.20  16.20  \n",
       "3  1.12   9.00  \n",
       "1  2.00   4.00  \n",
       "5  1.33   4.00  \n",
       "4  1.00   3.00  "
      ]
     },
     "execution_count": 81,
     "metadata": {},
     "output_type": "execute_result"
    }
   ],
   "source": [
    "hypothesis[['hypothesis','ice','rice']].sort_values('rice',ascending = False)\n"
   ]
  },
  {
   "cell_type": "markdown",
   "metadata": {},
   "source": [
    "Как видим приоритезация меняется, на это влияет **reach - скольких пользователей затронет изменение, которое хотим внести**. Особенно ярко это можно заметить по гипотезе - **Запустить акцию, дающую скидку на товар в день рождения**, по **ICE** это гипотеза самая перспективная, в то время по **RICE** можно учесть, что эта акция не имеет влиятельного охвата, в связи с этим это гипотеза опускается на 5 место по приоритету. Наименее же перспективная гипотеза - **Изменить цвет фона главной страницы, чтобы увеличить вовлеченность пользователей**, совпадает у **ICE** и **RICE**."
   ]
  },
  {
   "cell_type": "markdown",
   "metadata": {},
   "source": [
    "### 2.2 Анализ A/B-теста"
   ]
  },
  {
   "cell_type": "markdown",
   "metadata": {},
   "source": [
    "#### 2.2.1 График кумулятивной выручки по группам. "
   ]
  },
  {
   "cell_type": "markdown",
   "metadata": {},
   "source": [
    "Создадим массив уникальных пар значений даты и группы:"
   ]
  },
  {
   "cell_type": "code",
   "execution_count": 82,
   "metadata": {},
   "outputs": [],
   "source": [
    "datesGroups = orders[['date','group']].drop_duplicates()"
   ]
  },
  {
   "cell_type": "markdown",
   "metadata": {},
   "source": [
    "Получим агрегированные кумулятивные по дням данные о заказах:"
   ]
  },
  {
   "cell_type": "code",
   "execution_count": 83,
   "metadata": {},
   "outputs": [],
   "source": [
    "ordersAggregated = datesGroups.apply(lambda x: orders[np.logical_and(orders['date'] <= x['date'], orders['group'] == x['group'])].agg({'date' : 'max', 'group' : 'max', 'transactionId' : pd.Series.nunique, 'visitorId' : pd.Series.nunique, 'revenue' : 'sum'}), axis=1).sort_values(by=['date','group'])"
   ]
  },
  {
   "cell_type": "markdown",
   "metadata": {},
   "source": [
    "Получим агрегированные кумулятивные по дням данные о посетителях интернет-магазина:"
   ]
  },
  {
   "cell_type": "code",
   "execution_count": 84,
   "metadata": {},
   "outputs": [],
   "source": [
    "visitorsAggregated = datesGroups.apply(lambda x: visitors[np.logical_and(visitors['date'] <= x['date'], visitors['group'] == x['group'])].agg({'date' : 'max', 'group' : 'max', 'visitors' : 'sum'}), axis=1).sort_values(by=['date','group'])"
   ]
  },
  {
   "cell_type": "markdown",
   "metadata": {},
   "source": [
    "Объединим кумулятивные данные в одной таблице и присвоим ее столбцам понятные названия:"
   ]
  },
  {
   "cell_type": "code",
   "execution_count": 86,
   "metadata": {},
   "outputs": [],
   "source": [
    "cumulativeData = ordersAggregated.merge(visitorsAggregated, on=['date', 'group'])\n",
    "cumulativeData.columns = ['date', 'group', 'orders', 'buyers', 'revenue', 'visitors']"
   ]
  },
  {
   "cell_type": "markdown",
   "metadata": {},
   "source": [
    "Создадим датафрейм с кумулятивным количеством заказов и кумулятивной выручкой по дням в группе A:"
   ]
  },
  {
   "cell_type": "code",
   "execution_count": 87,
   "metadata": {},
   "outputs": [],
   "source": [
    "cumulativeRevenueA = cumulativeData[cumulativeData['group']=='A'][['date','revenue', 'orders']]"
   ]
  },
  {
   "cell_type": "markdown",
   "metadata": {},
   "source": [
    "Создадим датафрейм с кумулятивным количеством заказов и кумулятивной выручкой по дням в группе B:"
   ]
  },
  {
   "cell_type": "code",
   "execution_count": 88,
   "metadata": {},
   "outputs": [],
   "source": [
    "cumulativeRevenueB = cumulativeData[cumulativeData['group']=='B'][['date','revenue', 'orders']]"
   ]
  },
  {
   "cell_type": "markdown",
   "metadata": {},
   "source": [
    "Построим графики кумулятивной выручки:"
   ]
  },
  {
   "cell_type": "code",
   "execution_count": 89,
   "metadata": {},
   "outputs": [
    {
     "data": {
      "image/png": "[encoded data removed]",
      "text/plain": [
       "<Figure size 864x576 with 1 Axes>"
      ]
     },
     "metadata": {
      "needs_background": "light"
     },
     "output_type": "display_data"
    }
   ],
   "source": [
    "plt.figure(figsize=(12,8))\n",
    "plt.plot(cumulativeRevenueA['date'], cumulativeRevenueA['revenue'], label='A')\n",
    "plt.plot(cumulativeRevenueB['date'], cumulativeRevenueB['revenue'], label='B')\n",
    "plt.title('График кумулятивной выручки по группам')\n",
    "plt.ylabel(\"Выручка\",fontsize=14)\n",
    "plt.xlabel(\"Дата\",fontsize=14)\n",
    "plt.xticks(rotation=45)\n",
    "plt.legend()\n",
    "plt.show()"
   ]
  },
  {
   "cell_type": "markdown",
   "metadata": {},
   "source": [
    "Выручка почти равномерно растет в течении всего времени. Но по графику группы B можно увидеть резкий скачок между 08-17 и 08-21, это может быть как увеличевшееся число заказов, так и сумма заказов, предполагающее наличие дорогих товаров в чеке."
   ]
  },
  {
   "cell_type": "markdown",
   "metadata": {},
   "source": [
    "#### 2.2.2 График кумулятивного среднего чека по группам. "
   ]
  },
  {
   "cell_type": "markdown",
   "metadata": {},
   "source": [
    "Построим графики кумулятивного среднего чека:"
   ]
  },
  {
   "cell_type": "code",
   "execution_count": 90,
   "metadata": {},
   "outputs": [
    {
     "data": {
      "image/png": "[encoded data removed]",
      "text/plain": [
       "<Figure size 864x576 with 1 Axes>"
      ]
     },
     "metadata": {
      "needs_background": "light"
     },
     "output_type": "display_data"
    }
   ],
   "source": [
    "plt.figure(figsize=(12,8))\n",
    "plt.plot(cumulativeRevenueA['date'], cumulativeRevenueA['revenue']/cumulativeRevenueA['orders'], label='A')\n",
    "plt.plot(cumulativeRevenueB['date'], cumulativeRevenueB['revenue']/cumulativeRevenueB['orders'], label='B')\n",
    "plt.title('График кумулятивной среднего чека по группам')\n",
    "plt.ylabel(\"Выручка\",fontsize=14)\n",
    "plt.xlabel(\"Дата\",fontsize=14)\n",
    "plt.xticks(rotation=45)\n",
    "plt.legend() \n",
    "plt.show()\n"
   ]
  },
  {
   "cell_type": "markdown",
   "metadata": {},
   "source": [
    "Средний чек изначально не очень равномерен, но под конец становится равномерным. В промежутке между 08-17 и 08-21 виден резкий скачок, как и в графике кумулятивной выручки. В конце графика видим тенденцию к спаду по группе B, в то время как по группе A , заметных колебаний нет."
   ]
  },
  {
   "cell_type": "markdown",
   "metadata": {},
   "source": [
    "#### 2.2.3 График относительного изменения кумулятивного среднего чека группы B к группе A. "
   ]
  },
  {
   "cell_type": "markdown",
   "metadata": {},
   "source": [
    "Соберем данные в один датафрейм:"
   ]
  },
  {
   "cell_type": "code",
   "execution_count": 91,
   "metadata": {},
   "outputs": [],
   "source": [
    "mergedCumulativeRevenue = cumulativeRevenueA.merge(cumulativeRevenueB, left_on='date', right_on='date', how='left', suffixes=['A', 'B'])"
   ]
  },
  {
   "cell_type": "markdown",
   "metadata": {},
   "source": [
    "Построим отношения средних чеков с добавлением оси X:"
   ]
  },
  {
   "cell_type": "code",
   "execution_count": 92,
   "metadata": {},
   "outputs": [
    {
     "data": {
      "image/png": "[encoded data removed]",
      "text/plain": [
       "<Figure size 864x576 with 1 Axes>"
      ]
     },
     "metadata": {
      "needs_background": "light"
     },
     "output_type": "display_data"
    }
   ],
   "source": [
    "plt.figure(figsize=(12,8))\n",
    "plt.plot(mergedCumulativeRevenue['date'], (mergedCumulativeRevenue['revenueB']/mergedCumulativeRevenue['ordersB'])/(mergedCumulativeRevenue['revenueA']/mergedCumulativeRevenue['ordersA'])-1)\n",
    "plt.axhline(y=0, color='black', linestyle='--') \n",
    "plt.title('График относительного изменения кумулятивного среднего чека группы B к группе A')\n",
    "plt.xlabel(\"Дата\",fontsize=14)\n",
    "plt.xticks(rotation=45)\n",
    "plt.axis([\"2019-08-01\", '2019-08-31', -0.4, 0.6])\n",
    "plt.show()"
   ]
  },
  {
   "cell_type": "markdown",
   "metadata": {},
   "source": [
    "Результаты теста значительно и резко менялись в несколько дат. Можно предположить, что именно тогда были осуществлены аномальные заказы. Опять же и тут можно заметить на резкий скачок в промежутке между 08-17 и 08-21. Все три графика демонстрируют общую картину. "
   ]
  },
  {
   "cell_type": "markdown",
   "metadata": {},
   "source": [
    "#### 2.2.4 График кумулятивной конверсии по группам. "
   ]
  },
  {
   "cell_type": "markdown",
   "metadata": {},
   "source": [
    "Посчитаем кумулятивную конверсию:"
   ]
  },
  {
   "cell_type": "code",
   "execution_count": 93,
   "metadata": {},
   "outputs": [],
   "source": [
    "cumulativeData['conversion'] = cumulativeData['orders']/cumulativeData['visitors']"
   ]
  },
  {
   "cell_type": "markdown",
   "metadata": {},
   "source": [
    "Отделим данные по группам:"
   ]
  },
  {
   "cell_type": "code",
   "execution_count": 94,
   "metadata": {},
   "outputs": [],
   "source": [
    "cumulativeDataA = cumulativeData[cumulativeData['group']=='A']\n",
    "cumulativeDataB = cumulativeData[cumulativeData['group']=='B']"
   ]
  },
  {
   "cell_type": "markdown",
   "metadata": {},
   "source": [
    "Построим график:"
   ]
  },
  {
   "cell_type": "code",
   "execution_count": 95,
   "metadata": {},
   "outputs": [
    {
     "data": {
      "image/png": "[encoded data removed]",
      "text/plain": [
       "<Figure size 864x576 with 1 Axes>"
      ]
     },
     "metadata": {
      "needs_background": "light"
     },
     "output_type": "display_data"
    }
   ],
   "source": [
    "plt.figure(figsize=(12,8))\n",
    "plt.plot(cumulativeDataA['date'], cumulativeDataA['conversion'], label='A')\n",
    "plt.plot(cumulativeDataB['date'], cumulativeDataB['conversion'], label='B')\n",
    "plt.title('График кумулятивной конверсии по группам')\n",
    "plt.xlabel(\"Дата\",fontsize=14)\n",
    "plt.xticks(rotation=45)\n",
    "plt.axis([\"2019-08-01\", '2019-08-31', 0.025, 0.040])\n",
    "plt.legend()\n",
    "plt.show()"
   ]
  },
  {
   "cell_type": "markdown",
   "metadata": {},
   "source": [
    "В начале теста сегмент A имел большую конверсию, однако с 08-06 конверсия B имеет преимущество. В Конце теста, можно увидеть стабилизацию по обоим сегментам."
   ]
  },
  {
   "cell_type": "markdown",
   "metadata": {},
   "source": [
    "#### 2.2.5 График относительного изменения кумулятивной конверсии группы B к группе A. "
   ]
  },
  {
   "cell_type": "markdown",
   "metadata": {},
   "source": [
    "Соберем данные в один датафрейм:"
   ]
  },
  {
   "cell_type": "code",
   "execution_count": 96,
   "metadata": {},
   "outputs": [],
   "source": [
    "mergedCumulativeConversions = cumulativeDataA[['date','conversion']].merge(cumulativeDataB[['date','conversion']], left_on='date', right_on='date', how='left', suffixes=['A', 'B'])"
   ]
  },
  {
   "cell_type": "markdown",
   "metadata": {},
   "source": [
    "Построим график относительного различия кумулятивных конверсий:"
   ]
  },
  {
   "cell_type": "code",
   "execution_count": 97,
   "metadata": {},
   "outputs": [
    {
     "data": {
      "image/png": "[encoded data removed]",
      "text/plain": [
       "<Figure size 864x576 with 1 Axes>"
      ]
     },
     "metadata": {
      "needs_background": "light"
     },
     "output_type": "display_data"
    }
   ],
   "source": [
    "plt.figure(figsize=(12,8))\n",
    "plt.plot(mergedCumulativeConversions['date'], mergedCumulativeConversions['conversionB']/mergedCumulativeConversions['conversionA']-1, label=\"Относительный прирост конверсии группы B относительно группы A\")\n",
    "plt.xlabel(\"Дата\",fontsize=14)\n",
    "plt.legend()\n",
    "plt.title('График относительного изменения кумулятивной конверсии группы B к группе A')\n",
    "plt.xticks(rotation=45)\n",
    "plt.axhline(y=0, color='black', linestyle='--')\n",
    "plt.axhline(y=0.1, color='grey', linestyle='--')\n",
    "plt.axis([\"2019-08-01\", '2019-08-31', -0.2, 0.3])\n",
    "plt.show()"
   ]
  },
  {
   "cell_type": "markdown",
   "metadata": {},
   "source": [
    "Данный график демонстрирует изначально ниже конверсию сегмента B,но затем стабильно более высокую конверсию в течении всего времени."
   ]
  },
  {
   "cell_type": "markdown",
   "metadata": {},
   "source": [
    "#### 2.2.6 Точечный график количества заказов по пользователям."
   ]
  },
  {
   "cell_type": "markdown",
   "metadata": {},
   "source": [
    "Найдем количество заказов по пользователям:"
   ]
  },
  {
   "cell_type": "code",
   "execution_count": 98,
   "metadata": {},
   "outputs": [],
   "source": [
    "ordersByUsers = orders.drop(['group','revenue','date'], axis = 1).groupby('visitorId',as_index=False).agg({'transactionId' :  pd.Series.nunique}).rename(columns={'transactionId':'orders'}).sort_values('orders', ascending = False)"
   ]
  },
  {
   "cell_type": "markdown",
   "metadata": {},
   "source": [
    "Посмотрим на полученную таблицы:"
   ]
  },
  {
   "cell_type": "code",
   "execution_count": 99,
   "metadata": {},
   "outputs": [
    {
     "data": {
      "text/html": [
       "<div>\n",
       "<style scoped>\n",
       "    .dataframe tbody tr th:only-of-type {\n",
       "        vertical-align: middle;\n",
       "    }\n",
       "\n",
       "    .dataframe tbody tr th {\n",
       "        vertical-align: top;\n",
       "    }\n",
       "\n",
       "    .dataframe thead th {\n",
       "        text-align: right;\n",
       "    }\n",
       "</style>\n",
       "<table border=\"1\" class=\"dataframe\">\n",
       "  <thead>\n",
       "    <tr style=\"text-align: right;\">\n",
       "      <th></th>\n",
       "      <th>visitorId</th>\n",
       "      <th>orders</th>\n",
       "    </tr>\n",
       "  </thead>\n",
       "  <tbody>\n",
       "    <tr>\n",
       "      <td>1023</td>\n",
       "      <td>4256040402</td>\n",
       "      <td>11</td>\n",
       "    </tr>\n",
       "    <tr>\n",
       "      <td>591</td>\n",
       "      <td>2458001652</td>\n",
       "      <td>11</td>\n",
       "    </tr>\n",
       "    <tr>\n",
       "      <td>569</td>\n",
       "      <td>2378935119</td>\n",
       "      <td>9</td>\n",
       "    </tr>\n",
       "    <tr>\n",
       "      <td>487</td>\n",
       "      <td>2038680547</td>\n",
       "      <td>8</td>\n",
       "    </tr>\n",
       "    <tr>\n",
       "      <td>44</td>\n",
       "      <td>199603092</td>\n",
       "      <td>5</td>\n",
       "    </tr>\n",
       "    <tr>\n",
       "      <td>...</td>\n",
       "      <td>...</td>\n",
       "      <td>...</td>\n",
       "    </tr>\n",
       "    <tr>\n",
       "      <td>359</td>\n",
       "      <td>1484903144</td>\n",
       "      <td>1</td>\n",
       "    </tr>\n",
       "    <tr>\n",
       "      <td>360</td>\n",
       "      <td>1485964287</td>\n",
       "      <td>1</td>\n",
       "    </tr>\n",
       "    <tr>\n",
       "      <td>361</td>\n",
       "      <td>1494664757</td>\n",
       "      <td>1</td>\n",
       "    </tr>\n",
       "    <tr>\n",
       "      <td>362</td>\n",
       "      <td>1495112755</td>\n",
       "      <td>1</td>\n",
       "    </tr>\n",
       "    <tr>\n",
       "      <td>1030</td>\n",
       "      <td>4283872382</td>\n",
       "      <td>1</td>\n",
       "    </tr>\n",
       "  </tbody>\n",
       "</table>\n",
       "<p>1031 rows × 2 columns</p>\n",
       "</div>"
      ],
      "text/plain": [
       "       visitorId  orders\n",
       "1023  4256040402      11\n",
       "591   2458001652      11\n",
       "569   2378935119       9\n",
       "487   2038680547       8\n",
       "44     199603092       5\n",
       "...          ...     ...\n",
       "359   1484903144       1\n",
       "360   1485964287       1\n",
       "361   1494664757       1\n",
       "362   1495112755       1\n",
       "1030  4283872382       1\n",
       "\n",
       "[1031 rows x 2 columns]"
      ]
     },
     "execution_count": 99,
     "metadata": {},
     "output_type": "execute_result"
    }
   ],
   "source": [
    "ordersByUsers"
   ]
  },
  {
   "cell_type": "markdown",
   "metadata": {},
   "source": [
    "Посмотрим визуально распределение на гистограмме:"
   ]
  },
  {
   "cell_type": "code",
   "execution_count": 100,
   "metadata": {},
   "outputs": [
    {
     "data": {
      "image/png": "[encoded data removed]",
      "text/plain": [
       "<Figure size 864x576 with 1 Axes>"
      ]
     },
     "metadata": {
      "needs_background": "light"
     },
     "output_type": "display_data"
    }
   ],
   "source": [
    "plt.figure(figsize=(12,8))\n",
    "plt.hist(ordersByUsers['orders'])\n",
    "plt.title('Распределение заказов по пользователям')\n",
    "plt.ylabel(\"Частота\",fontsize=14)\n",
    "plt.xlabel(\"Количество заказов\",fontsize=14)\n",
    "plt.show()"
   ]
  },
  {
   "cell_type": "markdown",
   "metadata": {},
   "source": [
    "Большинство пользователей делало заказ 1 раз, но встречеются и те , кто делал повторные заказы, и даже 10 заказов. Рассмотрим более подробно на другом графике:"
   ]
  },
  {
   "cell_type": "code",
   "execution_count": 101,
   "metadata": {},
   "outputs": [
    {
     "data": {
      "image/png": "[encoded data removed]",
      "text/plain": [
       "<Figure size 864x576 with 1 Axes>"
      ]
     },
     "metadata": {
      "needs_background": "light"
     },
     "output_type": "display_data"
    }
   ],
   "source": [
    "plt.figure(figsize=(12,8))\n",
    "x_values = pd.Series(range(0,len(ordersByUsers)))\n",
    "plt.scatter(x_values, ordersByUsers['orders'])\n",
    "plt.title('Распределение заказов по пользователям')\n",
    "plt.xlabel(\"Частота\",fontsize=14)\n",
    "plt.ylabel(\"Количество заказов\",fontsize=14)\n",
    "plt.show()"
   ]
  },
  {
   "cell_type": "markdown",
   "metadata": {},
   "source": [
    "Пользователей заказавших более 2 заказов ни так много. Вполне возможно эти заказы могут являться аномальными значениями."
   ]
  },
  {
   "cell_type": "markdown",
   "metadata": {},
   "source": [
    "#### 2.2.7 95-й и 99-й перцентили количества заказов на пользователя."
   ]
  },
  {
   "cell_type": "markdown",
   "metadata": {},
   "source": [
    "Рассмотрим 95 и 99 перцентили количества заказов на пользователя:"
   ]
  },
  {
   "cell_type": "code",
   "execution_count": 102,
   "metadata": {},
   "outputs": [
    {
     "name": "stdout",
     "output_type": "stream",
     "text": [
      "Не более 5% процентов пользователей  совершали более 2 заказов\n",
      "Не более 1% процент пользователей совершали более 4 заказов\n"
     ]
    }
   ],
   "source": [
    "print('Не более 5% процентов пользователей  совершали более {:.0f} заказов'.format(np.percentile(ordersByUsers['orders'],95)))\n",
    "print('Не более 1% процент пользователей совершали более {:.0f} заказов'.format(np.percentile(ordersByUsers['orders'],99)))"
   ]
  },
  {
   "cell_type": "markdown",
   "metadata": {},
   "source": [
    "Примем за аномальных пользователей тех, кто совершил более 2 заказов."
   ]
  },
  {
   "cell_type": "markdown",
   "metadata": {},
   "source": [
    "#### 2.2.8 Точечный график стоимостей заказов."
   ]
  },
  {
   "cell_type": "markdown",
   "metadata": {},
   "source": [
    "Посмотрим визуально распределение на гистограмме:"
   ]
  },
  {
   "cell_type": "code",
   "execution_count": 103,
   "metadata": {},
   "outputs": [
    {
     "data": {
      "image/png": "[encoded data removed]",
      "text/plain": [
       "<Figure size 864x576 with 1 Axes>"
      ]
     },
     "metadata": {
      "needs_background": "light"
     },
     "output_type": "display_data"
    }
   ],
   "source": [
    "plt.figure(figsize=(12,8))\n",
    "plt.hist(orders['revenue'])\n",
    "plt.title('Распределение выручки по заказам')\n",
    "plt.ylabel(\"Частота\",fontsize=14)\n",
    "plt.xlabel(\"Стоимость заказа\",fontsize=14)\n",
    "plt.show()"
   ]
  },
  {
   "cell_type": "markdown",
   "metadata": {},
   "source": [
    "Сумма большинства заказов меньше 200 000 рублей. Однако по данной гистограмме ничего не сказать о более дорогих заказах, ровно как и более дешевых. Кроме того распределение - не нормальное. Попробуем другой вид графика:"
   ]
  },
  {
   "cell_type": "code",
   "execution_count": 104,
   "metadata": {},
   "outputs": [
    {
     "data": {
      "image/png": "[encoded data removed]",
      "text/plain": [
       "<Figure size 864x576 with 1 Axes>"
      ]
     },
     "metadata": {
      "needs_background": "light"
     },
     "output_type": "display_data"
    }
   ],
   "source": [
    "plt.figure(figsize=(12,8))\n",
    "x_values = pd.Series(range(0, len(orders['revenue'])))\n",
    "plt.scatter(x_values,orders['revenue'])\n",
    "plt.title('Распределение заказов по стоимости')\n",
    "plt.xlabel(\"Частота\",fontsize=14)\n",
    "plt.ylabel(\"Стоимость заказов\",fontsize=14)\n",
    "plt.show()"
   ]
  },
  {
   "cell_type": "code",
   "execution_count": 105,
   "metadata": {},
   "outputs": [
    {
     "data": {
      "image/png": "[encoded data removed]",
      "text/plain": [
       "<Figure size 864x576 with 1 Axes>"
      ]
     },
     "metadata": {
      "needs_background": "light"
     },
     "output_type": "display_data"
    }
   ],
   "source": [
    "plt.figure(figsize=(12,8))\n",
    "x_values = pd.Series(range(0, len(orders['revenue'])))\n",
    "plt.scatter(x_values,orders['revenue'])\n",
    "plt.title('Распределение заказов по стоимости в усеченном варианте, до 100 000.')\n",
    "plt.xlabel(\"Частота\",fontsize=14)\n",
    "plt.ylabel(\"Стоимость заказов\",fontsize=14)\n",
    "plt.ylim(0, 100000)\n",
    "plt.show()"
   ]
  },
  {
   "cell_type": "markdown",
   "metadata": {},
   "source": [
    "Заказов дороже 200 тысяч ни так много. Заказ, который дороже 1.2 явно аномальный, ровно как и тот,что в районе 200 000 рублей. "
   ]
  },
  {
   "cell_type": "markdown",
   "metadata": {},
   "source": [
    "#### 2.2.9 95-й и 99-й перцентили стоимости заказов."
   ]
  },
  {
   "cell_type": "markdown",
   "metadata": {},
   "source": [
    "Рассмотрим 95 и 99 перцентили стоимости заказов:"
   ]
  },
  {
   "cell_type": "code",
   "execution_count": 106,
   "metadata": {},
   "outputs": [
    {
     "name": "stdout",
     "output_type": "stream",
     "text": [
      "Не более 5% процентов заказов более 28000 рублей\n",
      "Не более 1% процент заказов более 58233 рублей\n"
     ]
    }
   ],
   "source": [
    "print('Не более 5% процентов заказов более {:.0f} рублей'.format(np.percentile(orders['revenue'],95)))\n",
    "print('Не более 1% процент заказов более {:.0f} рублей'.format(np.percentile(orders['revenue'],99)))"
   ]
  },
  {
   "cell_type": "markdown",
   "metadata": {},
   "source": [
    "Примем за аномальные значения, заказы более 28000 рублей."
   ]
  },
  {
   "cell_type": "markdown",
   "metadata": {},
   "source": [
    "#### 2.2.10 Cтатистическая значимость различий в конверсии между группами по «сырым» данным."
   ]
  },
  {
   "cell_type": "markdown",
   "metadata": {},
   "source": [
    "Для начала подготовим данные:\n",
    "\n",
    "Разграничим посетителей по группам:"
   ]
  },
  {
   "cell_type": "code",
   "execution_count": 107,
   "metadata": {},
   "outputs": [],
   "source": [
    "visitorsADaily = visitors[visitors['group'] == 'A'][['date', 'visitors']]\n",
    "visitorsADaily.columns = ['date', 'visitorsPerDateA']\n",
    "\n",
    "visitorsACummulative = visitorsADaily.apply(\n",
    "    lambda x: visitorsADaily[visitorsADaily['date'] <= x['date']].agg(\n",
    "        {'date': 'max', 'visitorsPerDateA': 'sum'}\n",
    "    ),\n",
    "    axis=1,\n",
    ")\n",
    "visitorsACummulative.columns = ['date', 'visitorsCummulativeA']\n",
    "\n",
    "visitorsBDaily = visitors[visitors['group'] == 'B'][['date', 'visitors']]\n",
    "visitorsBDaily.columns = ['date', 'visitorsPerDateB']\n",
    "\n",
    "visitorsBCummulative = visitorsBDaily.apply(\n",
    "    lambda x: visitorsBDaily[visitorsBDaily['date'] <= x['date']].agg(\n",
    "        {'date': 'max', 'visitorsPerDateB': 'sum'}\n",
    "    ),\n",
    "    axis=1,\n",
    ")\n",
    "visitorsBCummulative.columns = ['date', 'visitorsCummulativeB']\n"
   ]
  },
  {
   "cell_type": "markdown",
   "metadata": {},
   "source": [
    "Посчитаем сумарное количество заказов по группам:"
   ]
  },
  {
   "cell_type": "code",
   "execution_count": 108,
   "metadata": {},
   "outputs": [],
   "source": [
    "ordersADaily = (\n",
    "    orders[orders['group'] == 'A'][['date', 'transactionId', 'visitorId', 'revenue']]\n",
    "    .groupby('date', as_index=False)\n",
    "    .agg({'transactionId': pd.Series.nunique, 'revenue': 'sum'})\n",
    ")\n",
    "ordersADaily.columns = ['date', 'ordersPerDateA', 'revenuePerDateA']\n",
    "\n",
    "ordersACummulative = ordersADaily.apply(\n",
    "    lambda x: ordersADaily[ordersADaily['date'] <= x['date']].agg(\n",
    "        {'date': 'max', 'ordersPerDateA': 'sum', 'revenuePerDateA': 'sum'}\n",
    "    ),\n",
    "    axis=1,\n",
    ").sort_values(by=['date'])\n",
    "ordersACummulative.columns = [\n",
    "    'date',\n",
    "    'ordersCummulativeA',\n",
    "    'revenueCummulativeA',\n",
    "]\n",
    "\n",
    "ordersBDaily = (\n",
    "    orders[orders['group'] == 'B'][['date', 'transactionId', 'visitorId', 'revenue']]\n",
    "    .groupby('date', as_index=False)\n",
    "    .agg({'transactionId': pd.Series.nunique, 'revenue': 'sum'})\n",
    ")\n",
    "ordersBDaily.columns = ['date', 'ordersPerDateB', 'revenuePerDateB']\n",
    "\n",
    "ordersBCummulative = ordersBDaily.apply(\n",
    "    lambda x: ordersBDaily[ordersBDaily['date'] <= x['date']].agg(\n",
    "        {'date': 'max', 'ordersPerDateB': 'sum', 'revenuePerDateB': 'sum'}\n",
    "    ),\n",
    "    axis=1,\n",
    ").sort_values(by=['date'])\n",
    "ordersBCummulative.columns = [\n",
    "    'date',\n",
    "    'ordersCummulativeB',\n",
    "    'revenueCummulativeB',\n",
    "]\n"
   ]
  },
  {
   "cell_type": "markdown",
   "metadata": {},
   "source": [
    "Объединим все в одну таблицу:"
   ]
  },
  {
   "cell_type": "code",
   "execution_count": 109,
   "metadata": {},
   "outputs": [],
   "source": [
    "data =(\n",
    "    ordersADaily.merge(\n",
    "        ordersBDaily, left_on='date', right_on='date', how='left'\n",
    "    )\n",
    "    .merge(ordersACummulative, left_on='date', right_on='date', how='left')\n",
    "    .merge(ordersBCummulative, left_on='date', right_on='date', how='left')\n",
    "    .merge(visitorsADaily, left_on='date', right_on='date', how='left')\n",
    "    .merge(visitorsBDaily, left_on='date', right_on='date', how='left')\n",
    "    .merge(visitorsACummulative, left_on='date', right_on='date', how='left')\n",
    "    .merge(visitorsBCummulative, left_on='date', right_on='date', how='left')\n",
    ")"
   ]
  },
  {
   "cell_type": "markdown",
   "metadata": {},
   "source": [
    "Посмотрим на 5 строк таблицы:"
   ]
  },
  {
   "cell_type": "code",
   "execution_count": 110,
   "metadata": {},
   "outputs": [
    {
     "data": {
      "text/html": [
       "<div>\n",
       "<style scoped>\n",
       "    .dataframe tbody tr th:only-of-type {\n",
       "        vertical-align: middle;\n",
       "    }\n",
       "\n",
       "    .dataframe tbody tr th {\n",
       "        vertical-align: top;\n",
       "    }\n",
       "\n",
       "    .dataframe thead th {\n",
       "        text-align: right;\n",
       "    }\n",
       "</style>\n",
       "<table border=\"1\" class=\"dataframe\">\n",
       "  <thead>\n",
       "    <tr style=\"text-align: right;\">\n",
       "      <th></th>\n",
       "      <th>date</th>\n",
       "      <th>ordersPerDateA</th>\n",
       "      <th>revenuePerDateA</th>\n",
       "      <th>ordersPerDateB</th>\n",
       "      <th>revenuePerDateB</th>\n",
       "      <th>ordersCummulativeA</th>\n",
       "      <th>revenueCummulativeA</th>\n",
       "      <th>ordersCummulativeB</th>\n",
       "      <th>revenueCummulativeB</th>\n",
       "      <th>visitorsPerDateA</th>\n",
       "      <th>visitorsPerDateB</th>\n",
       "      <th>visitorsCummulativeA</th>\n",
       "      <th>visitorsCummulativeB</th>\n",
       "    </tr>\n",
       "  </thead>\n",
       "  <tbody>\n",
       "    <tr>\n",
       "      <td>0</td>\n",
       "      <td>2019-08-01</td>\n",
       "      <td>24</td>\n",
       "      <td>148579</td>\n",
       "      <td>21</td>\n",
       "      <td>101217</td>\n",
       "      <td>24</td>\n",
       "      <td>148579</td>\n",
       "      <td>21</td>\n",
       "      <td>101217</td>\n",
       "      <td>719</td>\n",
       "      <td>713</td>\n",
       "      <td>719</td>\n",
       "      <td>713</td>\n",
       "    </tr>\n",
       "    <tr>\n",
       "      <td>1</td>\n",
       "      <td>2019-08-02</td>\n",
       "      <td>20</td>\n",
       "      <td>93822</td>\n",
       "      <td>24</td>\n",
       "      <td>165531</td>\n",
       "      <td>44</td>\n",
       "      <td>242401</td>\n",
       "      <td>45</td>\n",
       "      <td>266748</td>\n",
       "      <td>619</td>\n",
       "      <td>581</td>\n",
       "      <td>1338</td>\n",
       "      <td>1294</td>\n",
       "    </tr>\n",
       "    <tr>\n",
       "      <td>2</td>\n",
       "      <td>2019-08-03</td>\n",
       "      <td>24</td>\n",
       "      <td>112473</td>\n",
       "      <td>16</td>\n",
       "      <td>114248</td>\n",
       "      <td>68</td>\n",
       "      <td>354874</td>\n",
       "      <td>61</td>\n",
       "      <td>380996</td>\n",
       "      <td>507</td>\n",
       "      <td>509</td>\n",
       "      <td>1845</td>\n",
       "      <td>1803</td>\n",
       "    </tr>\n",
       "    <tr>\n",
       "      <td>3</td>\n",
       "      <td>2019-08-04</td>\n",
       "      <td>16</td>\n",
       "      <td>70825</td>\n",
       "      <td>17</td>\n",
       "      <td>108571</td>\n",
       "      <td>84</td>\n",
       "      <td>425699</td>\n",
       "      <td>78</td>\n",
       "      <td>489567</td>\n",
       "      <td>717</td>\n",
       "      <td>770</td>\n",
       "      <td>2562</td>\n",
       "      <td>2573</td>\n",
       "    </tr>\n",
       "    <tr>\n",
       "      <td>4</td>\n",
       "      <td>2019-08-05</td>\n",
       "      <td>25</td>\n",
       "      <td>124218</td>\n",
       "      <td>23</td>\n",
       "      <td>92428</td>\n",
       "      <td>109</td>\n",
       "      <td>549917</td>\n",
       "      <td>101</td>\n",
       "      <td>581995</td>\n",
       "      <td>756</td>\n",
       "      <td>707</td>\n",
       "      <td>3318</td>\n",
       "      <td>3280</td>\n",
       "    </tr>\n",
       "  </tbody>\n",
       "</table>\n",
       "</div>"
      ],
      "text/plain": [
       "        date  ordersPerDateA  revenuePerDateA  ordersPerDateB  \\\n",
       "0 2019-08-01              24           148579              21   \n",
       "1 2019-08-02              20            93822              24   \n",
       "2 2019-08-03              24           112473              16   \n",
       "3 2019-08-04              16            70825              17   \n",
       "4 2019-08-05              25           124218              23   \n",
       "\n",
       "   revenuePerDateB  ordersCummulativeA  revenueCummulativeA  \\\n",
       "0           101217                  24               148579   \n",
       "1           165531                  44               242401   \n",
       "2           114248                  68               354874   \n",
       "3           108571                  84               425699   \n",
       "4            92428                 109               549917   \n",
       "\n",
       "   ordersCummulativeB  revenueCummulativeB  visitorsPerDateA  \\\n",
       "0                  21               101217               719   \n",
       "1                  45               266748               619   \n",
       "2                  61               380996               507   \n",
       "3                  78               489567               717   \n",
       "4                 101               581995               756   \n",
       "\n",
       "   visitorsPerDateB  visitorsCummulativeA  visitorsCummulativeB  \n",
       "0               713                   719                   713  \n",
       "1               581                  1338                  1294  \n",
       "2               509                  1845                  1803  \n",
       "3               770                  2562                  2573  \n",
       "4               707                  3318                  3280  "
      ]
     },
     "execution_count": 110,
     "metadata": {},
     "output_type": "execute_result"
    }
   ],
   "source": [
    "data.head()"
   ]
  },
  {
   "cell_type": "markdown",
   "metadata": {},
   "source": [
    "Таблица содержит такие столбцы как:\n",
    "* date — дата;\n",
    "* ordersPerDateA — количество заказов в выбранную дату в группе A;\n",
    "* revenuePerDateA — суммарная выручка в выбранную дату в группе A;\n",
    "* ordersPerDateB — количество заказов в выбранную дату в группе B;\n",
    "* revenuePerDateB — суммарная выручка в выбранную дату в группе B;\n",
    "* ordersCummulativeA — суммарное число заказов до выбранной даты включительно в группе A;\n",
    "* revenueCummulativeA — суммарная выручка до выбранной даты включительно в группе A;\n",
    "* ordersCummulativeB — суммарное количество заказов до выбранной даты включительно в группе B;\n",
    "* revenueCummulativeB — суммарная выручка до выбранной даты включительно в группе B;\n",
    "* visitorsPerDateA — количество пользователей в выбранную дату в группе A;\n",
    "* visitorsPerDateB — количество пользователей в выбранную дату в группе B;\n",
    "* visitorsCummulativeA — количество пользователей до выбранной даты включительно в группе A;\n",
    "* visitorsCummulativeB — количество пользователей до выбранной даты включительно в группе B."
   ]
  },
  {
   "cell_type": "markdown",
   "metadata": {},
   "source": [
    "Создадим переменные ordersByUsersA и ordersByUsersB со столбцами ['userId', 'orders']. В них для пользователей, которые заказывали хотя бы 1 раз, укажем число совершённых заказов."
   ]
  },
  {
   "cell_type": "code",
   "execution_count": 111,
   "metadata": {},
   "outputs": [],
   "source": [
    "ordersByUsersA = (\n",
    "    orders[orders['group'] == 'A']\n",
    "    .groupby('visitorId', as_index=False)\n",
    "    .agg({'transactionId': pd.Series.nunique})\n",
    ")\n",
    "ordersByUsersA.columns = ['userId', 'orders']\n",
    "\n",
    "ordersByUsersB = (\n",
    "    orders[orders['group'] == 'B']\n",
    "    .groupby('visitorId', as_index=False)\n",
    "    .agg({'transactionId': pd.Series.nunique})\n",
    ")\n",
    "ordersByUsersB.columns = ['userId', 'orders'] "
   ]
  },
  {
   "cell_type": "markdown",
   "metadata": {},
   "source": [
    "Объявим переменные sampleA и sampleB, в которых пользователям из разных групп будет соответствовать количество заказов. Тем, кто ничего не заказал, будут соответствовать нули. Это нужно, чтобы подготовить выборки к проверке критерием Манна-Уитни."
   ]
  },
  {
   "cell_type": "code",
   "execution_count": 112,
   "metadata": {},
   "outputs": [],
   "source": [
    "sampleA = pd.concat([ordersByUsersA['orders'],pd.Series(0, index=np.arange(data['visitorsPerDateA'].sum() - len(ordersByUsersA['orders'])), name='orders')],axis=0)\n",
    "\n",
    "sampleB = pd.concat([ordersByUsersB['orders'],pd.Series(0, index=np.arange(data['visitorsPerDateB'].sum() - len(ordersByUsersB['orders'])), name='orders')],axis=0)"
   ]
  },
  {
   "cell_type": "markdown",
   "metadata": {},
   "source": [
    "Выведем относительный прирост конверсии группы B: конверсия группы B / конверсия группы A - 1. Округлим до трёх знаков после запятой."
   ]
  },
  {
   "cell_type": "code",
   "execution_count": 113,
   "metadata": {},
   "outputs": [
    {
     "name": "stdout",
     "output_type": "stream",
     "text": [
      "0.008\n",
      "0.138\n"
     ]
    }
   ],
   "source": [
    "print(\"{0:.3f}\".format(stats.mannwhitneyu(sampleA, sampleB)[1]))\n",
    "\n",
    "print(\"{0:.3f}\".format(sampleB.mean() / sampleA.mean() - 1))\n"
   ]
  },
  {
   "cell_type": "markdown",
   "metadata": {},
   "source": [
    "P-value значительно меньше 0.05, потому нулевую гипотезу отвергаем. Анализ сырых данных сообщает, что между группами есть статистически значимые различия. Относительный прирост конверсии группы B к конверсии группы A составляет 13.8 %."
   ]
  },
  {
   "cell_type": "markdown",
   "metadata": {},
   "source": [
    "Нулевая гипотеза - Между конверсия значимой разницы нет. Альтернативаная, разница есть."
   ]
  },
  {
   "cell_type": "code",
   "execution_count": 114,
   "metadata": {},
   "outputs": [
    {
     "name": "stdout",
     "output_type": "stream",
     "text": [
      "0.017\n",
      "0.138\n"
     ]
    }
   ],
   "source": [
    "print(\"{0:.3f}\".format(stats.mannwhitneyu(sampleA, sampleB,True,'two-sided')[1]))\n",
    "\n",
    "print(\"{0:.3f}\".format(sampleB.mean() / sampleA.mean() - 1))\n"
   ]
  },
  {
   "cell_type": "markdown",
   "metadata": {},
   "source": [
    "P-value значительно меньше 0.05, потому нулевую гипотезу отвергаем. Анализ сырых данных сообщает, что между группами есть статистически значимые различия. Относительный прирост конверсии группы B к конверсии группы A составляет 13.8 %."
   ]
  },
  {
   "cell_type": "markdown",
   "metadata": {},
   "source": [
    "#### 2.2.11 Статистическая значимость различий в среднем чеке заказа между группами по «сырым» данным."
   ]
  },
  {
   "cell_type": "markdown",
   "metadata": {},
   "source": [
    "Чтобы рассчитать статистическую значимость различий в среднем чеке между сегментами, передадим критерию mannwhitneyu() данные о выручке с заказов, также найдём относительные различия в среднем чеке между группами:"
   ]
  },
  {
   "cell_type": "code",
   "execution_count": 115,
   "metadata": {},
   "outputs": [
    {
     "name": "stdout",
     "output_type": "stream",
     "text": [
      "0.365\n",
      "0.259\n"
     ]
    }
   ],
   "source": [
    "print('{0:.3f}'.format(stats.mannwhitneyu(orders[orders['group']=='A']['revenue'], orders[orders['group']=='B']['revenue'])[1]))\n",
    "print('{0:.3f}'.format(orders[orders['group']=='B']['revenue'].mean()/orders[orders['group']=='A']['revenue'].mean()-1))"
   ]
  },
  {
   "cell_type": "markdown",
   "metadata": {},
   "source": [
    "P-value больше 0.05, значит нулевую гипотезу не отвергаем. Относительное различие среднего чека между сегментами составляет 25.9%."
   ]
  },
  {
   "cell_type": "markdown",
   "metadata": {},
   "source": [
    "Нулевая гипотеза - Между средними чеками значимой разницы нет. Альтернативаная, разница есть."
   ]
  },
  {
   "cell_type": "code",
   "execution_count": 116,
   "metadata": {},
   "outputs": [
    {
     "name": "stdout",
     "output_type": "stream",
     "text": [
      "0.729\n",
      "0.259\n"
     ]
    }
   ],
   "source": [
    "print('{0:.3f}'.format(stats.mannwhitneyu(orders[orders['group']=='A']['revenue'], orders[orders['group']=='B']['revenue'],True, 'two-sided')[1]))\n",
    "print('{0:.3f}'.format(orders[orders['group']=='B']['revenue'].mean()/orders[orders['group']=='A']['revenue'].mean()-1))"
   ]
  },
  {
   "cell_type": "markdown",
   "metadata": {},
   "source": [
    "P-value больше 0.05, значит нулевую гипотезу не отвергаем. Относительное различие среднего чека между сегментами составляет 25.9%."
   ]
  },
  {
   "cell_type": "markdown",
   "metadata": {},
   "source": [
    "#### 2.2.12 Статистическая значимость различий в конверсии между группами по «очищенным» данным."
   ]
  },
  {
   "cell_type": "markdown",
   "metadata": {},
   "source": [
    "Ранее было установлено, что пользователи заказавшиеся больше 2 заказов, будут подпадать под аномальные, и также заказы, стоимостью более 28000 рублей.\n",
    "\n",
    "Сделаем срезы пользователей с числом заказов больше 2 — usersWithManyOrders и пользователей, совершивших заказы дороже 28 000 — usersWithExpensiveOrders. Объединим их в таблице abnormalUsers.\n",
    "Узнаем, сколько всего аномальных пользователей методом shape()."
   ]
  },
  {
   "cell_type": "code",
   "execution_count": 117,
   "metadata": {
    "scrolled": true
   },
   "outputs": [
    {
     "name": "stdout",
     "output_type": "stream",
     "text": [
      "1099    148427295\n",
      "18      199603092\n",
      "928     204675465\n",
      "23      237748145\n",
      "37      249864742\n",
      "dtype: int64\n",
      "Всего аномальных пользователей: 74\n"
     ]
    }
   ],
   "source": [
    "usersWithManyOrders = pd.concat([ordersByUsersA[ordersByUsersA['orders'] > 2]['userId'], ordersByUsersB[ordersByUsersB['orders'] > 2]['userId']], axis=0)\n",
    "usersWithExpensiveOrders = orders[orders['revenue'] > 28000]['visitorId']\n",
    "abnormalUsers = (\n",
    "    pd.concat([usersWithManyOrders, usersWithExpensiveOrders], axis=0)\n",
    "    .drop_duplicates()\n",
    "    .sort_values()\n",
    ")\n",
    "print(abnormalUsers.head())\n",
    "print(\"Всего аномальных пользователей: {}\".format(abnormalUsers.shape[0]))"
   ]
  },
  {
   "cell_type": "markdown",
   "metadata": {},
   "source": [
    "Узнаем, как их действия повлияли на результаты теста. Посчитаем статистическую значимость различий в конверсии между группами теста по очищенным данным. Сначала подготовим выборки количества заказов по пользователям по группам теста:"
   ]
  },
  {
   "cell_type": "code",
   "execution_count": 118,
   "metadata": {},
   "outputs": [],
   "source": [
    "sampleAFiltered = pd.concat([ordersByUsersA[np.logical_not(ordersByUsersA['userId'].isin(abnormalUsers))]['orders'],pd.Series(0,index=np.arange(data['visitorsPerDateA'].sum() - len(ordersByUsersA['orders'])),name='orders')],axis=0)\n",
    "sampleBFiltered = pd.concat([ordersByUsersB[np.logical_not(ordersByUsersB['userId'].isin(abnormalUsers))]['orders'],pd.Series(0,index=np.arange(data['visitorsPerDateB'].sum() - len(ordersByUsersB['orders'])),name='orders')],axis=0,)"
   ]
  },
  {
   "cell_type": "markdown",
   "metadata": {},
   "source": [
    "Применим статистический критерий Манна-Уитни к полученным выборкам:"
   ]
  },
  {
   "cell_type": "code",
   "execution_count": 119,
   "metadata": {},
   "outputs": [
    {
     "name": "stdout",
     "output_type": "stream",
     "text": [
      "0.007\n",
      "0.173\n"
     ]
    }
   ],
   "source": [
    "print('{0:.3f}'.format(stats.mannwhitneyu(sampleAFiltered, sampleBFiltered)[1]))\n",
    "print('{0:.3f}'.format(sampleBFiltered.mean()/sampleAFiltered.mean()-1)) "
   ]
  },
  {
   "cell_type": "markdown",
   "metadata": {},
   "source": [
    "Как и в случае с сырыми данными, статистическая значимость достигнута. Сегмент B значительно лучше A на 17.3%."
   ]
  },
  {
   "cell_type": "markdown",
   "metadata": {},
   "source": [
    " Нулевая гипотеза - Между конверсиями значимой разницы нет. Альтернативаная, разница есть."
   ]
  },
  {
   "cell_type": "code",
   "execution_count": 120,
   "metadata": {},
   "outputs": [
    {
     "name": "stdout",
     "output_type": "stream",
     "text": [
      "0.013\n",
      "0.173\n"
     ]
    }
   ],
   "source": [
    "print('{0:.3f}'.format(stats.mannwhitneyu(sampleAFiltered, sampleBFiltered, True,'two-sided')[1]))\n",
    "print('{0:.3f}'.format(sampleBFiltered.mean()/sampleAFiltered.mean()-1)) "
   ]
  },
  {
   "cell_type": "markdown",
   "metadata": {},
   "source": [
    "Как и в случае с сырыми данными, статистическая значимость достигнута. Сегмент B значительно лучше A на 17.3%."
   ]
  },
  {
   "cell_type": "markdown",
   "metadata": {},
   "source": [
    "####  2.2.13 Статистическая значимость различий в среднем чеке заказа между группами по «очищенным» данным."
   ]
  },
  {
   "cell_type": "markdown",
   "metadata": {},
   "source": [
    "Передадим критерию mannwhitneyu() данные о выручке с заказов, также найдём относительные различия в среднем чеке между группами:"
   ]
  },
  {
   "cell_type": "code",
   "execution_count": 121,
   "metadata": {},
   "outputs": [
    {
     "name": "stdout",
     "output_type": "stream",
     "text": [
      "0.369\n",
      "-0.020\n"
     ]
    }
   ],
   "source": [
    "print('{0:.3f}'.format(stats.mannwhitneyu(orders[np.logical_and(orders['group'] == 'A', np.logical_not(orders['visitorId'].isin(abnormalUsers)))]['revenue'],orders[np.logical_and(orders['group'] == 'B',np.logical_not(orders['visitorId'].isin(abnormalUsers)))]['revenue'],)[1]))\n",
    "\n",
    "print(\"{0:.3f}\".format(orders[np.logical_and(orders['group'] == 'B', np.logical_not(orders['visitorId'].isin(abnormalUsers)))]['revenue'].mean() / orders[np.logical_and(orders['group'] == 'A',np.logical_not(orders['visitorId'].isin(abnormalUsers)))]['revenue'].mean()- 1))"
   ]
  },
  {
   "cell_type": "markdown",
   "metadata": {},
   "source": [
    "P-value практически не изменился, однако относительное различие в среднем чеке между группами изменилось сильно, и после удаления выбросов, группа B имеет средний чек ниже группы A, ниже на 2%."
   ]
  },
  {
   "cell_type": "markdown",
   "metadata": {},
   "source": [
    "Нулевая гипотеза - Между средними чеками значимой разницы нет. Альтернативаная, разница есть."
   ]
  },
  {
   "cell_type": "code",
   "execution_count": 122,
   "metadata": {},
   "outputs": [
    {
     "name": "stdout",
     "output_type": "stream",
     "text": [
      "0.738\n",
      "-0.020\n"
     ]
    }
   ],
   "source": [
    "print('{0:.3f}'.format(stats.mannwhitneyu(orders[np.logical_and(orders['group'] == 'A', np.logical_not(orders['visitorId'].isin(abnormalUsers)))]['revenue'],orders[np.logical_and(orders['group'] == 'B',np.logical_not(orders['visitorId'].isin(abnormalUsers)))]['revenue'],True,'two-sided')[1]))\n",
    "\n",
    "print(\"{0:.3f}\".format(orders[np.logical_and(orders['group'] == 'B', np.logical_not(orders['visitorId'].isin(abnormalUsers)))]['revenue'].mean() / orders[np.logical_and(orders['group'] == 'A',np.logical_not(orders['visitorId'].isin(abnormalUsers)))]['revenue'].mean()- 1))"
   ]
  },
  {
   "cell_type": "markdown",
   "metadata": {},
   "source": [
    "P-value практически не изменился, однако относительное различие в среднем чеке между группами изменилось сильно, и после удаления выбросов, группа B имеет средний чек ниже группы A, ниже на 2%."
   ]
  },
  {
   "cell_type": "markdown",
   "metadata": {},
   "source": [
    "**Выводы:**\n",
    "* Есть статистически значимое различие по конверсии между группами как по сырым данным, так и после фильтрации аномалий.\n",
    "* По сырым данным и после того, как избавились от аномалий нет статистически значимого различия по среднему чеку между группами.\n",
    "* График различия конверсии между группами сообщает, что результаты группы B лучше группы A: имеют тенденцию к росту, либо зафиксировались около среднего значения.\n",
    "* График различия среднего чека колеблется: он-то и позволил вам найти аномалии. Сделать из этого графика определённые выводы нельзя.\n",
    "\n",
    "**Решение:**\n",
    "* Остановить тест, признать его успешным, победа присуждена группе B,несмотря на то, что низкий средний чек после очистки данных составляет 2%, его конверсия, выше группы A на 17.3%."
   ]
  },
  {
   "cell_type": "markdown",
   "metadata": {},
   "source": [
    "## Этап 3. Выводы"
   ]
  },
  {
   "cell_type": "markdown",
   "metadata": {},
   "source": [
    "Перед нами стояла цель приоритизировать гипотезы, запустить A/B тест и проанилизировать результаты. В нашем распоряжении были данные 3 датасетов:\n",
    "* гипотезы\n",
    "* заказы\n",
    "* посетители\n",
    "\n",
    "В процессе предобработки были изменены типы данных в заказах и посетелитях на временные значения, также в датасете с гипотезами для удобства работы с кодом был изменен регистр столбцов на нижних. Убедились, что в данных нет пропусков, также нет дубликатов.\n",
    "\n",
    "В дальнейшем с помощью фреймворков ICE и RICE были приоритизированы гипотезы. В ходе процесса был сделан вывод, о том, что в целом приорититнее использовать фреймворк RICE, если есть данные с охватом или возможность его оценить. Ибо он более точее при приоритизации некотрых гипотез с акциями, например - Акция со скидкой ко Дню Рождения. Но все же топ-5 гипотез сошелся, это такие гипотезы как(Приоритизация по RICE в порядке убывания) :\n",
    "* Добавить форму подписки на все основные страницы, чтобы собрать базу клиентов для email-рассылок(112)\n",
    "* Добавить блоки рекомендаций товаров на сайт интернет магазина, чтобы повысить конверсию и средний чек заказа(56)\n",
    "* Добавить два новых канала привлечения трафика, что позволит привлекать на 30% больше пользователей(40)\n",
    "* Показать на главной странице баннеры с актуальными акциями и распродажами, чтобы увеличить конверсию(40)\n",
    "* Запустить акцию, дающую скидку на товар в день рождения(16.2)\n",
    "\n",
    "В ходе анализа A/B теста было выявлено:\n",
    "* Кумулятивная выручка почти равномерно растет в течении всего времени\n",
    "* Средний чек имеет колбеания вначале как в группе A, так и B, и становится более стабильным в конце анализа, при том\n",
    "* Есть аномальные значения\n",
    "* Конверсия группы B больше конверсия A со временем, хотя изначально группа A имела большую конверсию\n",
    "* Аномальные значения заказов те, которые больше 2\n",
    "* Аномальныя значения стоимости заказов те, которые свыше 28000 рублей\n",
    "* Нулевая гипотеза о значительных различиях в конверсии между группами по «сырым» данным была отвергнута. Относительный прирост конверсии группы B к конверсии группы A составляет 13.8 %.\n",
    "* Нулевую гипотезу  о значительной разнице в средних чеках между группами по «сырым» данным не отвергаем. Относительное различие среднего чека между сегментами составляет 25.9%.\n",
    "* Нулевая гипотеза о значительных различиях в конверсии между группами по «очищенным» данным была отвергнута. Сегмент B значительно лучше A на 17.3%.\n",
    "*  Нулевую гипотезу  о значительной разнице в средних чеках между группами по «очищенным» данным не отвергаем. группа B имеет средний чек ниже группы A, ниже на 2%.\n",
    "\n",
    "На основании всех данных и проделанной работы, было решено остановить тест, признать его успешным, победа присуждена группе B,несмотря на то, что низкий средний чек после очистки данных составляет 2%, его конверсия, выше группы A на 17.3%."
   ]
  }
 ],
 "metadata": {
  "ExecuteTimeLog": [
   {
    "duration": 1047,
    "start_time": "2021-11-26T06:39:09.791Z"
   },
   {
    "duration": 65,
    "start_time": "2021-11-26T06:44:01.388Z"
   },
   {
    "duration": 11,
    "start_time": "2021-11-26T06:45:58.041Z"
   },
   {
    "duration": 8,
    "start_time": "2021-11-26T06:46:01.611Z"
   },
   {
    "duration": 8,
    "start_time": "2021-11-26T06:46:11.845Z"
   },
   {
    "duration": 8,
    "start_time": "2021-11-26T06:46:17.577Z"
   },
   {
    "duration": 3,
    "start_time": "2021-11-26T06:52:13.880Z"
   },
   {
    "duration": 8,
    "start_time": "2021-11-26T06:52:31.201Z"
   },
   {
    "duration": 7,
    "start_time": "2021-11-26T06:53:49.138Z"
   },
   {
    "duration": 267,
    "start_time": "2021-11-26T06:56:28.433Z"
   },
   {
    "duration": 5,
    "start_time": "2021-11-26T06:56:47.075Z"
   },
   {
    "duration": 8,
    "start_time": "2021-11-26T06:58:35.716Z"
   },
   {
    "duration": 6,
    "start_time": "2021-11-26T07:03:44.658Z"
   },
   {
    "duration": 6,
    "start_time": "2021-11-26T07:06:28.325Z"
   },
   {
    "duration": 6,
    "start_time": "2021-11-26T07:06:45.237Z"
   },
   {
    "duration": 184,
    "start_time": "2021-11-26T07:10:24.702Z"
   },
   {
    "duration": 4,
    "start_time": "2021-11-26T07:10:29.268Z"
   },
   {
    "duration": 183,
    "start_time": "2021-11-26T07:10:34.779Z"
   },
   {
    "duration": 8,
    "start_time": "2021-11-26T07:10:38.328Z"
   },
   {
    "duration": 6,
    "start_time": "2021-11-26T07:11:28.757Z"
   },
   {
    "duration": 1033,
    "start_time": "2021-11-26T07:13:16.215Z"
   },
   {
    "duration": 64,
    "start_time": "2021-11-26T07:13:17.250Z"
   },
   {
    "duration": 10,
    "start_time": "2021-11-26T07:13:17.316Z"
   },
   {
    "duration": 7,
    "start_time": "2021-11-26T07:13:17.328Z"
   },
   {
    "duration": 9,
    "start_time": "2021-11-26T07:13:17.336Z"
   },
   {
    "duration": 6,
    "start_time": "2021-11-26T07:13:17.346Z"
   },
   {
    "duration": 12,
    "start_time": "2021-11-26T07:13:17.354Z"
   },
   {
    "duration": 5,
    "start_time": "2021-11-26T07:13:17.367Z"
   },
   {
    "duration": 6,
    "start_time": "2021-11-26T07:13:17.374Z"
   },
   {
    "duration": 12,
    "start_time": "2021-11-26T07:13:17.381Z"
   },
   {
    "duration": 9,
    "start_time": "2021-11-26T07:13:17.395Z"
   },
   {
    "duration": 63,
    "start_time": "2021-11-26T07:14:16.171Z"
   },
   {
    "duration": 9,
    "start_time": "2021-11-26T07:14:27.120Z"
   },
   {
    "duration": 6,
    "start_time": "2021-11-26T07:16:25.491Z"
   },
   {
    "duration": 4,
    "start_time": "2021-11-26T07:17:27.000Z"
   },
   {
    "duration": 4,
    "start_time": "2021-11-26T07:18:10.755Z"
   },
   {
    "duration": 6,
    "start_time": "2021-11-26T07:18:59.430Z"
   },
   {
    "duration": 1035,
    "start_time": "2021-11-26T07:26:46.503Z"
   },
   {
    "duration": 64,
    "start_time": "2021-11-26T07:26:47.539Z"
   },
   {
    "duration": 11,
    "start_time": "2021-11-26T07:26:47.605Z"
   },
   {
    "duration": 4,
    "start_time": "2021-11-26T07:26:47.618Z"
   },
   {
    "duration": 8,
    "start_time": "2021-11-26T07:26:47.624Z"
   },
   {
    "duration": 7,
    "start_time": "2021-11-26T07:26:47.633Z"
   },
   {
    "duration": 9,
    "start_time": "2021-11-26T07:26:47.641Z"
   },
   {
    "duration": 12,
    "start_time": "2021-11-26T07:26:47.652Z"
   },
   {
    "duration": 6,
    "start_time": "2021-11-26T07:26:47.665Z"
   },
   {
    "duration": 20,
    "start_time": "2021-11-26T07:26:47.672Z"
   },
   {
    "duration": 5,
    "start_time": "2021-11-26T07:26:47.694Z"
   },
   {
    "duration": 7,
    "start_time": "2021-11-26T07:26:47.700Z"
   },
   {
    "duration": 7,
    "start_time": "2021-11-26T07:26:47.708Z"
   },
   {
    "duration": 6,
    "start_time": "2021-11-26T07:26:47.716Z"
   },
   {
    "duration": 6,
    "start_time": "2021-11-26T07:26:47.723Z"
   },
   {
    "duration": 9,
    "start_time": "2021-11-26T07:26:47.730Z"
   },
   {
    "duration": 7,
    "start_time": "2021-11-26T07:36:10.788Z"
   },
   {
    "duration": 6,
    "start_time": "2021-11-26T07:37:43.839Z"
   },
   {
    "duration": 10,
    "start_time": "2021-11-26T07:37:48.989Z"
   },
   {
    "duration": 8,
    "start_time": "2021-11-26T07:40:16.701Z"
   },
   {
    "duration": 5,
    "start_time": "2021-11-26T08:27:06.149Z"
   },
   {
    "duration": 9,
    "start_time": "2021-11-26T08:27:19.613Z"
   },
   {
    "duration": 9,
    "start_time": "2021-11-26T08:27:30.629Z"
   },
   {
    "duration": 8,
    "start_time": "2021-11-26T08:27:36.552Z"
   },
   {
    "duration": 10,
    "start_time": "2021-11-26T08:27:45.504Z"
   },
   {
    "duration": 9,
    "start_time": "2021-11-26T08:27:58.356Z"
   },
   {
    "duration": 274,
    "start_time": "2021-11-26T08:39:09.555Z"
   },
   {
    "duration": 9,
    "start_time": "2021-11-26T08:39:43.711Z"
   },
   {
    "duration": 1082,
    "start_time": "2021-11-26T08:39:47.328Z"
   },
   {
    "duration": 9,
    "start_time": "2021-11-26T08:39:57.195Z"
   },
   {
    "duration": 196,
    "start_time": "2021-11-26T08:40:01.313Z"
   },
   {
    "duration": 9,
    "start_time": "2021-11-26T08:40:13.699Z"
   },
   {
    "duration": 5,
    "start_time": "2021-11-26T08:40:19.987Z"
   },
   {
    "duration": 9,
    "start_time": "2021-11-26T08:40:24.284Z"
   },
   {
    "duration": 9,
    "start_time": "2021-11-26T08:40:44.812Z"
   },
   {
    "duration": 9,
    "start_time": "2021-11-26T08:49:56.229Z"
   },
   {
    "duration": 1535,
    "start_time": "2021-11-27T13:00:20.725Z"
   },
   {
    "duration": 130,
    "start_time": "2021-11-27T13:00:22.263Z"
   },
   {
    "duration": 16,
    "start_time": "2021-11-27T13:00:22.399Z"
   },
   {
    "duration": 5,
    "start_time": "2021-11-27T13:00:22.417Z"
   },
   {
    "duration": 19,
    "start_time": "2021-11-27T13:00:22.425Z"
   },
   {
    "duration": 13,
    "start_time": "2021-11-27T13:00:22.447Z"
   },
   {
    "duration": 15,
    "start_time": "2021-11-27T13:00:22.464Z"
   },
   {
    "duration": 19,
    "start_time": "2021-11-27T13:00:22.482Z"
   },
   {
    "duration": 17,
    "start_time": "2021-11-27T13:00:22.503Z"
   },
   {
    "duration": 12,
    "start_time": "2021-11-27T13:00:22.523Z"
   },
   {
    "duration": 19,
    "start_time": "2021-11-27T13:00:22.538Z"
   },
   {
    "duration": 17,
    "start_time": "2021-11-27T13:00:22.559Z"
   },
   {
    "duration": 8,
    "start_time": "2021-11-27T13:00:22.579Z"
   },
   {
    "duration": 12,
    "start_time": "2021-11-27T13:00:22.589Z"
   },
   {
    "duration": 13,
    "start_time": "2021-11-27T13:00:22.604Z"
   },
   {
    "duration": 20,
    "start_time": "2021-11-27T13:00:22.619Z"
   },
   {
    "duration": 29,
    "start_time": "2021-11-27T13:00:22.641Z"
   },
   {
    "duration": 25,
    "start_time": "2021-11-27T13:00:22.673Z"
   },
   {
    "duration": 28,
    "start_time": "2021-11-27T13:00:22.700Z"
   },
   {
    "duration": 30,
    "start_time": "2021-11-27T13:00:22.731Z"
   },
   {
    "duration": 29,
    "start_time": "2021-11-27T13:00:22.763Z"
   },
   {
    "duration": 411,
    "start_time": "2021-11-27T13:00:52.224Z"
   },
   {
    "duration": 11,
    "start_time": "2021-11-27T13:00:55.887Z"
   },
   {
    "duration": 11,
    "start_time": "2021-11-27T13:01:19.016Z"
   },
   {
    "duration": 26,
    "start_time": "2021-11-27T13:01:28.819Z"
   },
   {
    "duration": 98,
    "start_time": "2021-11-27T13:05:43.797Z"
   },
   {
    "duration": 9,
    "start_time": "2021-11-27T13:06:00.133Z"
   },
   {
    "duration": 1227,
    "start_time": "2021-11-27T13:08:58.474Z"
   },
   {
    "duration": 21,
    "start_time": "2021-11-27T13:10:31.696Z"
   },
   {
    "duration": 1080,
    "start_time": "2021-11-27T13:11:43.844Z"
   },
   {
    "duration": 1514,
    "start_time": "2021-11-27T13:13:04.434Z"
   },
   {
    "duration": 64,
    "start_time": "2021-11-27T13:13:06.170Z"
   },
   {
    "duration": 17,
    "start_time": "2021-11-27T13:13:07.342Z"
   },
   {
    "duration": 6,
    "start_time": "2021-11-27T13:13:12.612Z"
   },
   {
    "duration": 10,
    "start_time": "2021-11-27T13:13:13.910Z"
   },
   {
    "duration": 10,
    "start_time": "2021-11-27T13:13:14.727Z"
   },
   {
    "duration": 19,
    "start_time": "2021-11-27T13:13:18.686Z"
   },
   {
    "duration": 9,
    "start_time": "2021-11-27T13:13:22.227Z"
   },
   {
    "duration": 7,
    "start_time": "2021-11-27T13:13:26.911Z"
   },
   {
    "duration": 9,
    "start_time": "2021-11-27T13:13:36.525Z"
   },
   {
    "duration": 18,
    "start_time": "2021-11-27T13:13:38.787Z"
   },
   {
    "duration": 355,
    "start_time": "2021-11-27T13:13:39.733Z"
   },
   {
    "duration": 1466,
    "start_time": "2021-11-27T13:14:27.879Z"
   },
   {
    "duration": 59,
    "start_time": "2021-11-27T13:14:29.348Z"
   },
   {
    "duration": 18,
    "start_time": "2021-11-27T13:14:29.410Z"
   },
   {
    "duration": 4,
    "start_time": "2021-11-27T13:14:29.431Z"
   },
   {
    "duration": 11,
    "start_time": "2021-11-27T13:14:29.438Z"
   },
   {
    "duration": 8,
    "start_time": "2021-11-27T13:14:29.452Z"
   },
   {
    "duration": 18,
    "start_time": "2021-11-27T13:14:29.462Z"
   },
   {
    "duration": 11,
    "start_time": "2021-11-27T13:14:29.486Z"
   },
   {
    "duration": 9,
    "start_time": "2021-11-27T13:14:29.501Z"
   },
   {
    "duration": 12,
    "start_time": "2021-11-27T13:14:29.513Z"
   },
   {
    "duration": 41,
    "start_time": "2021-11-27T13:14:29.528Z"
   },
   {
    "duration": 12,
    "start_time": "2021-11-27T13:14:29.571Z"
   },
   {
    "duration": 10,
    "start_time": "2021-11-27T13:14:29.586Z"
   },
   {
    "duration": 11,
    "start_time": "2021-11-27T13:14:29.599Z"
   },
   {
    "duration": 10,
    "start_time": "2021-11-27T13:14:29.612Z"
   },
   {
    "duration": 44,
    "start_time": "2021-11-27T13:14:29.625Z"
   },
   {
    "duration": 10,
    "start_time": "2021-11-27T13:14:29.671Z"
   },
   {
    "duration": 15,
    "start_time": "2021-11-27T13:14:29.683Z"
   },
   {
    "duration": 7,
    "start_time": "2021-11-27T13:14:29.700Z"
   },
   {
    "duration": 22,
    "start_time": "2021-11-27T13:14:29.710Z"
   },
   {
    "duration": 40,
    "start_time": "2021-11-27T13:14:29.735Z"
   },
   {
    "duration": 19,
    "start_time": "2021-11-27T13:14:29.779Z"
   },
   {
    "duration": 22,
    "start_time": "2021-11-27T13:14:29.802Z"
   },
   {
    "duration": 1494,
    "start_time": "2021-11-27T13:14:29.827Z"
   },
   {
    "duration": 375,
    "start_time": "2021-11-27T13:14:46.484Z"
   },
   {
    "duration": 15,
    "start_time": "2021-11-27T13:14:53.180Z"
   },
   {
    "duration": 667,
    "start_time": "2021-11-27T13:15:11.704Z"
   },
   {
    "duration": 724,
    "start_time": "2021-11-27T13:15:30.518Z"
   },
   {
    "duration": 1106,
    "start_time": "2021-11-27T13:15:53.596Z"
   },
   {
    "duration": 1435,
    "start_time": "2021-11-27T13:16:54.913Z"
   },
   {
    "duration": 60,
    "start_time": "2021-11-27T13:16:56.351Z"
   },
   {
    "duration": 18,
    "start_time": "2021-11-27T13:16:56.414Z"
   },
   {
    "duration": 4,
    "start_time": "2021-11-27T13:16:56.435Z"
   },
   {
    "duration": 13,
    "start_time": "2021-11-27T13:16:56.442Z"
   },
   {
    "duration": 10,
    "start_time": "2021-11-27T13:16:56.457Z"
   },
   {
    "duration": 18,
    "start_time": "2021-11-27T13:16:56.470Z"
   },
   {
    "duration": 13,
    "start_time": "2021-11-27T13:16:56.492Z"
   },
   {
    "duration": 12,
    "start_time": "2021-11-27T13:16:56.508Z"
   },
   {
    "duration": 13,
    "start_time": "2021-11-27T13:16:56.522Z"
   },
   {
    "duration": 38,
    "start_time": "2021-11-27T13:16:56.538Z"
   },
   {
    "duration": 10,
    "start_time": "2021-11-27T13:16:56.579Z"
   },
   {
    "duration": 8,
    "start_time": "2021-11-27T13:16:56.592Z"
   },
   {
    "duration": 9,
    "start_time": "2021-11-27T13:16:56.603Z"
   },
   {
    "duration": 9,
    "start_time": "2021-11-27T13:16:56.615Z"
   },
   {
    "duration": 50,
    "start_time": "2021-11-27T13:16:56.626Z"
   },
   {
    "duration": 5,
    "start_time": "2021-11-27T13:16:56.679Z"
   },
   {
    "duration": 16,
    "start_time": "2021-11-27T13:16:56.687Z"
   },
   {
    "duration": 15,
    "start_time": "2021-11-27T13:16:56.706Z"
   },
   {
    "duration": 9,
    "start_time": "2021-11-27T13:16:56.723Z"
   },
   {
    "duration": 49,
    "start_time": "2021-11-27T13:16:56.734Z"
   },
   {
    "duration": 359,
    "start_time": "2021-11-27T13:16:56.785Z"
   },
   {
    "duration": 21,
    "start_time": "2021-11-27T13:16:57.148Z"
   },
   {
    "duration": 274,
    "start_time": "2021-11-27T13:18:40.647Z"
   },
   {
    "duration": 9,
    "start_time": "2021-11-27T13:20:08.966Z"
   },
   {
    "duration": 21,
    "start_time": "2021-11-27T13:20:15.161Z"
   },
   {
    "duration": 8,
    "start_time": "2021-11-27T13:22:09.822Z"
   },
   {
    "duration": 7,
    "start_time": "2021-11-27T13:22:44.704Z"
   },
   {
    "duration": 323,
    "start_time": "2021-11-27T13:23:45.493Z"
   },
   {
    "duration": 327,
    "start_time": "2021-11-27T13:24:24.025Z"
   },
   {
    "duration": 655,
    "start_time": "2021-11-27T13:25:11.054Z"
   },
   {
    "duration": 469,
    "start_time": "2021-11-27T13:25:21.075Z"
   },
   {
    "duration": 883,
    "start_time": "2021-11-27T13:26:03.895Z"
   },
   {
    "duration": 695,
    "start_time": "2021-11-27T13:26:10.475Z"
   },
   {
    "duration": 513,
    "start_time": "2021-11-27T13:26:25.098Z"
   },
   {
    "duration": 539,
    "start_time": "2021-11-27T13:26:33.268Z"
   },
   {
    "duration": 419,
    "start_time": "2021-11-27T13:55:05.439Z"
   },
   {
    "duration": 10,
    "start_time": "2021-11-27T14:12:43.895Z"
   },
   {
    "duration": 399,
    "start_time": "2021-11-27T14:14:32.195Z"
   },
   {
    "duration": 562,
    "start_time": "2021-11-27T14:14:50.831Z"
   },
   {
    "duration": 480,
    "start_time": "2021-11-27T14:18:43.974Z"
   },
   {
    "duration": 475,
    "start_time": "2021-11-27T14:19:23.545Z"
   },
   {
    "duration": 470,
    "start_time": "2021-11-27T14:20:06.810Z"
   },
   {
    "duration": 566,
    "start_time": "2021-11-27T14:22:22.073Z"
   },
   {
    "duration": 5,
    "start_time": "2021-11-27T14:36:07.036Z"
   },
   {
    "duration": 104,
    "start_time": "2021-11-27T14:36:23.989Z"
   },
   {
    "duration": 7,
    "start_time": "2021-11-27T14:36:50.909Z"
   },
   {
    "duration": 8,
    "start_time": "2021-11-27T14:36:55.168Z"
   },
   {
    "duration": 472,
    "start_time": "2021-11-27T14:37:39.479Z"
   },
   {
    "duration": 466,
    "start_time": "2021-11-27T14:38:20.468Z"
   },
   {
    "duration": 557,
    "start_time": "2021-11-27T14:48:38.559Z"
   },
   {
    "duration": 445,
    "start_time": "2021-11-27T14:49:05.193Z"
   },
   {
    "duration": 562,
    "start_time": "2021-11-27T14:49:32.365Z"
   },
   {
    "duration": 13,
    "start_time": "2021-11-27T16:40:09.673Z"
   },
   {
    "duration": 581,
    "start_time": "2021-11-27T16:42:23.539Z"
   },
   {
    "duration": 570,
    "start_time": "2021-11-27T16:42:37.634Z"
   },
   {
    "duration": 543,
    "start_time": "2021-11-27T16:43:47.152Z"
   },
   {
    "duration": 546,
    "start_time": "2021-11-27T16:44:38.564Z"
   },
   {
    "duration": 476,
    "start_time": "2021-11-27T16:48:03.651Z"
   },
   {
    "duration": 548,
    "start_time": "2021-11-27T16:48:11.001Z"
   },
   {
    "duration": 569,
    "start_time": "2021-11-27T16:51:17.474Z"
   },
   {
    "duration": 18,
    "start_time": "2021-11-27T18:38:13.753Z"
   },
   {
    "duration": 86,
    "start_time": "2021-11-27T18:39:14.685Z"
   },
   {
    "duration": 517,
    "start_time": "2021-11-27T18:40:00.667Z"
   },
   {
    "duration": 180,
    "start_time": "2021-11-27T18:41:23.081Z"
   },
   {
    "duration": 224,
    "start_time": "2021-11-27T18:42:11.554Z"
   },
   {
    "duration": 491,
    "start_time": "2021-11-27T18:42:27.757Z"
   },
   {
    "duration": 527,
    "start_time": "2021-11-27T18:42:45.192Z"
   },
   {
    "duration": 512,
    "start_time": "2021-11-27T18:42:53.356Z"
   },
   {
    "duration": 183,
    "start_time": "2021-11-27T18:43:08.691Z"
   },
   {
    "duration": 11,
    "start_time": "2021-11-27T18:43:24.885Z"
   },
   {
    "duration": 184,
    "start_time": "2021-11-27T18:44:03.255Z"
   },
   {
    "duration": 12,
    "start_time": "2021-11-27T18:44:07.365Z"
   },
   {
    "duration": 219,
    "start_time": "2021-11-27T18:45:29.376Z"
   },
   {
    "duration": 11,
    "start_time": "2021-11-27T18:45:53.364Z"
   },
   {
    "duration": 303,
    "start_time": "2021-11-27T18:47:05.574Z"
   },
   {
    "duration": 345,
    "start_time": "2021-11-27T18:47:15.234Z"
   },
   {
    "duration": 280,
    "start_time": "2021-11-27T18:48:19.859Z"
   },
   {
    "duration": 638,
    "start_time": "2021-11-27T18:48:37.692Z"
   },
   {
    "duration": 399,
    "start_time": "2021-11-27T18:48:45.689Z"
   },
   {
    "duration": 370,
    "start_time": "2021-11-27T18:50:57.394Z"
   },
   {
    "duration": 375,
    "start_time": "2021-11-27T18:52:06.922Z"
   },
   {
    "duration": 1534,
    "start_time": "2021-11-27T18:52:41.514Z"
   },
   {
    "duration": 57,
    "start_time": "2021-11-27T18:52:43.051Z"
   },
   {
    "duration": 17,
    "start_time": "2021-11-27T18:52:43.111Z"
   },
   {
    "duration": 5,
    "start_time": "2021-11-27T18:52:43.132Z"
   },
   {
    "duration": 13,
    "start_time": "2021-11-27T18:52:43.141Z"
   },
   {
    "duration": 11,
    "start_time": "2021-11-27T18:52:43.157Z"
   },
   {
    "duration": 16,
    "start_time": "2021-11-27T18:52:43.171Z"
   },
   {
    "duration": 12,
    "start_time": "2021-11-27T18:52:43.191Z"
   },
   {
    "duration": 10,
    "start_time": "2021-11-27T18:52:43.207Z"
   },
   {
    "duration": 16,
    "start_time": "2021-11-27T18:52:43.219Z"
   },
   {
    "duration": 52,
    "start_time": "2021-11-27T18:52:43.237Z"
   },
   {
    "duration": 13,
    "start_time": "2021-11-27T18:52:43.292Z"
   },
   {
    "duration": 10,
    "start_time": "2021-11-27T18:52:43.308Z"
   },
   {
    "duration": 12,
    "start_time": "2021-11-27T18:52:43.321Z"
   },
   {
    "duration": 34,
    "start_time": "2021-11-27T18:52:43.336Z"
   },
   {
    "duration": 17,
    "start_time": "2021-11-27T18:52:43.372Z"
   },
   {
    "duration": 13,
    "start_time": "2021-11-27T18:52:43.392Z"
   },
   {
    "duration": 33,
    "start_time": "2021-11-27T18:52:43.407Z"
   },
   {
    "duration": 28,
    "start_time": "2021-11-27T18:52:43.443Z"
   },
   {
    "duration": 13,
    "start_time": "2021-11-27T18:52:43.474Z"
   },
   {
    "duration": 368,
    "start_time": "2021-11-27T18:52:43.489Z"
   },
   {
    "duration": 287,
    "start_time": "2021-11-27T18:52:43.859Z"
   },
   {
    "duration": 10,
    "start_time": "2021-11-27T18:52:44.168Z"
   },
   {
    "duration": 11,
    "start_time": "2021-11-27T18:52:44.180Z"
   },
   {
    "duration": 12,
    "start_time": "2021-11-27T18:52:44.194Z"
   },
   {
    "duration": 539,
    "start_time": "2021-11-27T18:52:44.208Z"
   },
   {
    "duration": 598,
    "start_time": "2021-11-27T18:52:44.751Z"
   },
   {
    "duration": 19,
    "start_time": "2021-11-27T18:52:45.353Z"
   },
   {
    "duration": 539,
    "start_time": "2021-11-27T18:52:45.375Z"
   },
   {
    "duration": 6,
    "start_time": "2021-11-27T18:52:45.917Z"
   },
   {
    "duration": 9,
    "start_time": "2021-11-27T18:52:45.926Z"
   },
   {
    "duration": 480,
    "start_time": "2021-11-27T18:52:45.938Z"
   },
   {
    "duration": 12,
    "start_time": "2021-11-27T18:52:46.421Z"
   },
   {
    "duration": 677,
    "start_time": "2021-11-27T18:52:46.436Z"
   },
   {
    "duration": 209,
    "start_time": "2021-11-27T18:52:47.116Z"
   },
   {
    "duration": 11,
    "start_time": "2021-11-27T18:52:47.328Z"
   },
   {
    "duration": 425,
    "start_time": "2021-11-27T18:52:47.342Z"
   },
   {
    "duration": 477,
    "start_time": "2021-11-27T18:52:47.769Z"
   },
   {
    "duration": 1428,
    "start_time": "2021-11-27T18:57:32.412Z"
   },
   {
    "duration": 73,
    "start_time": "2021-11-27T18:57:33.843Z"
   },
   {
    "duration": 18,
    "start_time": "2021-11-27T18:57:33.920Z"
   },
   {
    "duration": 7,
    "start_time": "2021-11-27T18:57:33.942Z"
   },
   {
    "duration": 12,
    "start_time": "2021-11-27T18:57:33.951Z"
   },
   {
    "duration": 10,
    "start_time": "2021-11-27T18:57:33.966Z"
   },
   {
    "duration": 19,
    "start_time": "2021-11-27T18:57:33.979Z"
   },
   {
    "duration": 12,
    "start_time": "2021-11-27T18:57:34.002Z"
   },
   {
    "duration": 10,
    "start_time": "2021-11-27T18:57:34.018Z"
   },
   {
    "duration": 42,
    "start_time": "2021-11-27T18:57:34.030Z"
   },
   {
    "duration": 12,
    "start_time": "2021-11-27T18:57:34.074Z"
   },
   {
    "duration": 10,
    "start_time": "2021-11-27T18:57:34.089Z"
   },
   {
    "duration": 8,
    "start_time": "2021-11-27T18:57:34.101Z"
   },
   {
    "duration": 10,
    "start_time": "2021-11-27T18:57:34.111Z"
   },
   {
    "duration": 44,
    "start_time": "2021-11-27T18:57:34.123Z"
   },
   {
    "duration": 20,
    "start_time": "2021-11-27T18:57:34.170Z"
   },
   {
    "duration": 7,
    "start_time": "2021-11-27T18:57:34.192Z"
   },
   {
    "duration": 18,
    "start_time": "2021-11-27T18:57:34.201Z"
   },
   {
    "duration": 47,
    "start_time": "2021-11-27T18:57:34.221Z"
   },
   {
    "duration": 15,
    "start_time": "2021-11-27T18:57:34.271Z"
   },
   {
    "duration": 370,
    "start_time": "2021-11-27T18:57:34.289Z"
   },
   {
    "duration": 282,
    "start_time": "2021-11-27T18:57:34.661Z"
   },
   {
    "duration": 18,
    "start_time": "2021-11-27T18:57:34.950Z"
   },
   {
    "duration": 17,
    "start_time": "2021-11-27T18:57:34.970Z"
   },
   {
    "duration": 6,
    "start_time": "2021-11-27T18:57:34.989Z"
   },
   {
    "duration": 526,
    "start_time": "2021-11-27T18:57:34.997Z"
   },
   {
    "duration": 542,
    "start_time": "2021-11-27T18:57:35.525Z"
   },
   {
    "duration": 13,
    "start_time": "2021-11-27T18:57:36.070Z"
   },
   {
    "duration": 531,
    "start_time": "2021-11-27T18:57:36.086Z"
   },
   {
    "duration": 5,
    "start_time": "2021-11-27T18:57:36.620Z"
   },
   {
    "duration": 8,
    "start_time": "2021-11-27T18:57:36.628Z"
   },
   {
    "duration": 479,
    "start_time": "2021-11-27T18:57:36.639Z"
   },
   {
    "duration": 12,
    "start_time": "2021-11-27T18:57:37.121Z"
   },
   {
    "duration": 576,
    "start_time": "2021-11-27T18:57:37.136Z"
   },
   {
    "duration": 297,
    "start_time": "2021-11-27T18:57:37.714Z"
   },
   {
    "duration": 12,
    "start_time": "2021-11-27T18:57:38.014Z"
   },
   {
    "duration": 425,
    "start_time": "2021-11-27T18:57:38.028Z"
   },
   {
    "duration": 470,
    "start_time": "2021-11-27T18:57:38.456Z"
   },
   {
    "duration": 362,
    "start_time": "2021-11-27T18:59:58.095Z"
   },
   {
    "duration": 119,
    "start_time": "2021-11-27T19:06:42.771Z"
   },
   {
    "duration": 101,
    "start_time": "2021-11-27T19:06:55.007Z"
   },
   {
    "duration": 430,
    "start_time": "2021-11-27T19:07:14.799Z"
   },
   {
    "duration": 6951,
    "start_time": "2021-11-27T19:07:37.223Z"
   },
   {
    "duration": 399,
    "start_time": "2021-11-27T19:11:08.927Z"
   },
   {
    "duration": 542,
    "start_time": "2021-11-27T19:13:22.651Z"
   },
   {
    "duration": 8,
    "start_time": "2021-11-27T19:14:50.222Z"
   },
   {
    "duration": 7,
    "start_time": "2021-11-27T19:15:01.276Z"
   },
   {
    "duration": 86,
    "start_time": "2021-11-27T19:16:52.967Z"
   },
   {
    "duration": 592,
    "start_time": "2021-11-27T19:16:59.799Z"
   },
   {
    "duration": 6,
    "start_time": "2021-11-27T19:17:05.906Z"
   },
   {
    "duration": 7,
    "start_time": "2021-11-27T19:17:17.905Z"
   },
   {
    "duration": 6,
    "start_time": "2021-11-27T19:17:34.775Z"
   },
   {
    "duration": 6,
    "start_time": "2021-11-27T19:17:54.978Z"
   },
   {
    "duration": 8,
    "start_time": "2021-11-27T19:18:25.344Z"
   },
   {
    "duration": 7,
    "start_time": "2021-11-27T19:18:34.182Z"
   },
   {
    "duration": 7,
    "start_time": "2021-11-27T19:18:49.538Z"
   },
   {
    "duration": 8,
    "start_time": "2021-11-27T19:19:14.133Z"
   },
   {
    "duration": 8,
    "start_time": "2021-11-27T19:19:30.543Z"
   },
   {
    "duration": 7,
    "start_time": "2021-11-27T19:19:34.774Z"
   },
   {
    "duration": 7,
    "start_time": "2021-11-27T19:20:51.020Z"
   },
   {
    "duration": 6,
    "start_time": "2021-11-27T19:21:10.641Z"
   },
   {
    "duration": 8,
    "start_time": "2021-11-27T19:30:36.105Z"
   },
   {
    "duration": 6,
    "start_time": "2021-11-27T19:30:41.587Z"
   },
   {
    "duration": 7,
    "start_time": "2021-11-27T19:30:46.660Z"
   },
   {
    "duration": 6,
    "start_time": "2021-11-27T19:31:53.791Z"
   },
   {
    "duration": 560,
    "start_time": "2021-11-27T19:32:16.844Z"
   },
   {
    "duration": 10,
    "start_time": "2021-11-27T19:32:27.964Z"
   },
   {
    "duration": 12,
    "start_time": "2021-11-27T19:33:09.426Z"
   },
   {
    "duration": 1563,
    "start_time": "2021-11-27T19:40:31.600Z"
   },
   {
    "duration": 57,
    "start_time": "2021-11-27T19:40:33.168Z"
   },
   {
    "duration": 16,
    "start_time": "2021-11-27T19:40:33.228Z"
   },
   {
    "duration": 6,
    "start_time": "2021-11-27T19:40:33.247Z"
   },
   {
    "duration": 14,
    "start_time": "2021-11-27T19:40:33.255Z"
   },
   {
    "duration": 16,
    "start_time": "2021-11-27T19:40:33.272Z"
   },
   {
    "duration": 15,
    "start_time": "2021-11-27T19:40:33.290Z"
   },
   {
    "duration": 14,
    "start_time": "2021-11-27T19:40:33.309Z"
   },
   {
    "duration": 9,
    "start_time": "2021-11-27T19:40:33.325Z"
   },
   {
    "duration": 31,
    "start_time": "2021-11-27T19:40:33.337Z"
   },
   {
    "duration": 12,
    "start_time": "2021-11-27T19:40:33.371Z"
   },
   {
    "duration": 12,
    "start_time": "2021-11-27T19:40:33.385Z"
   },
   {
    "duration": 9,
    "start_time": "2021-11-27T19:40:33.400Z"
   },
   {
    "duration": 12,
    "start_time": "2021-11-27T19:40:33.411Z"
   },
   {
    "duration": 50,
    "start_time": "2021-11-27T19:40:33.425Z"
   },
   {
    "duration": 17,
    "start_time": "2021-11-27T19:40:33.478Z"
   },
   {
    "duration": 8,
    "start_time": "2021-11-27T19:40:33.499Z"
   },
   {
    "duration": 17,
    "start_time": "2021-11-27T19:40:33.509Z"
   },
   {
    "duration": 50,
    "start_time": "2021-11-27T19:40:33.529Z"
   },
   {
    "duration": 10,
    "start_time": "2021-11-27T19:40:33.582Z"
   },
   {
    "duration": 383,
    "start_time": "2021-11-27T19:40:33.595Z"
   },
   {
    "duration": 296,
    "start_time": "2021-11-27T19:40:33.980Z"
   },
   {
    "duration": 9,
    "start_time": "2021-11-27T19:40:34.283Z"
   },
   {
    "duration": 9,
    "start_time": "2021-11-27T19:40:34.295Z"
   },
   {
    "duration": 11,
    "start_time": "2021-11-27T19:40:34.307Z"
   },
   {
    "duration": 533,
    "start_time": "2021-11-27T19:40:34.320Z"
   },
   {
    "duration": 528,
    "start_time": "2021-11-27T19:40:34.855Z"
   },
   {
    "duration": 10,
    "start_time": "2021-11-27T19:40:35.386Z"
   },
   {
    "duration": 529,
    "start_time": "2021-11-27T19:40:35.399Z"
   },
   {
    "duration": 7,
    "start_time": "2021-11-27T19:40:35.931Z"
   },
   {
    "duration": 29,
    "start_time": "2021-11-27T19:40:35.941Z"
   },
   {
    "duration": 464,
    "start_time": "2021-11-27T19:40:35.973Z"
   },
   {
    "duration": 11,
    "start_time": "2021-11-27T19:40:36.439Z"
   },
   {
    "duration": 586,
    "start_time": "2021-11-27T19:40:36.467Z"
   },
   {
    "duration": 217,
    "start_time": "2021-11-27T19:40:37.055Z"
   },
   {
    "duration": 12,
    "start_time": "2021-11-27T19:40:37.274Z"
   },
   {
    "duration": 433,
    "start_time": "2021-11-27T19:40:37.288Z"
   },
   {
    "duration": 599,
    "start_time": "2021-11-27T19:40:37.723Z"
   },
   {
    "duration": 7,
    "start_time": "2021-11-27T19:40:38.325Z"
   },
   {
    "duration": 6928,
    "start_time": "2021-11-27T19:43:04.819Z"
   },
   {
    "duration": 422,
    "start_time": "2021-11-27T19:43:17.317Z"
   },
   {
    "duration": 424,
    "start_time": "2021-11-27T19:43:36.681Z"
   },
   {
    "duration": 373,
    "start_time": "2021-11-27T19:48:27.503Z"
   },
   {
    "duration": 548,
    "start_time": "2021-11-27T19:49:34.267Z"
   },
   {
    "duration": 7,
    "start_time": "2021-11-27T19:57:19.645Z"
   },
   {
    "duration": 7,
    "start_time": "2021-11-27T19:57:48.793Z"
   },
   {
    "duration": 7,
    "start_time": "2021-11-27T19:57:52.977Z"
   },
   {
    "duration": 1517,
    "start_time": "2021-11-27T20:00:13.865Z"
   },
   {
    "duration": 56,
    "start_time": "2021-11-27T20:00:15.385Z"
   },
   {
    "duration": 17,
    "start_time": "2021-11-27T20:00:15.444Z"
   },
   {
    "duration": 3,
    "start_time": "2021-11-27T20:00:15.464Z"
   },
   {
    "duration": 13,
    "start_time": "2021-11-27T20:00:15.469Z"
   },
   {
    "duration": 9,
    "start_time": "2021-11-27T20:00:15.484Z"
   },
   {
    "duration": 22,
    "start_time": "2021-11-27T20:00:15.495Z"
   },
   {
    "duration": 10,
    "start_time": "2021-11-27T20:00:15.519Z"
   },
   {
    "duration": 39,
    "start_time": "2021-11-27T20:00:15.534Z"
   },
   {
    "duration": 10,
    "start_time": "2021-11-27T20:00:15.576Z"
   },
   {
    "duration": 12,
    "start_time": "2021-11-27T20:00:15.588Z"
   },
   {
    "duration": 9,
    "start_time": "2021-11-27T20:00:15.603Z"
   },
   {
    "duration": 53,
    "start_time": "2021-11-27T20:00:15.615Z"
   },
   {
    "duration": 14,
    "start_time": "2021-11-27T20:00:15.671Z"
   },
   {
    "duration": 9,
    "start_time": "2021-11-27T20:00:15.688Z"
   },
   {
    "duration": 20,
    "start_time": "2021-11-27T20:00:15.700Z"
   },
   {
    "duration": 47,
    "start_time": "2021-11-27T20:00:15.724Z"
   },
   {
    "duration": 29,
    "start_time": "2021-11-27T20:00:15.774Z"
   },
   {
    "duration": 19,
    "start_time": "2021-11-27T20:00:15.806Z"
   },
   {
    "duration": 15,
    "start_time": "2021-11-27T20:00:15.827Z"
   },
   {
    "duration": 374,
    "start_time": "2021-11-27T20:00:15.844Z"
   },
   {
    "duration": 283,
    "start_time": "2021-11-27T20:00:16.221Z"
   },
   {
    "duration": 9,
    "start_time": "2021-11-27T20:00:16.507Z"
   },
   {
    "duration": 11,
    "start_time": "2021-11-27T20:00:16.518Z"
   },
   {
    "duration": 35,
    "start_time": "2021-11-27T20:00:16.532Z"
   },
   {
    "duration": 506,
    "start_time": "2021-11-27T20:00:16.570Z"
   },
   {
    "duration": 477,
    "start_time": "2021-11-27T20:00:17.081Z"
   },
   {
    "duration": 13,
    "start_time": "2021-11-27T20:00:17.566Z"
   },
   {
    "duration": 727,
    "start_time": "2021-11-27T20:00:17.582Z"
   },
   {
    "duration": 7,
    "start_time": "2021-11-27T20:00:18.312Z"
   },
   {
    "duration": 13,
    "start_time": "2021-11-27T20:00:18.322Z"
   },
   {
    "duration": 511,
    "start_time": "2021-11-27T20:00:18.337Z"
   },
   {
    "duration": 23,
    "start_time": "2021-11-27T20:00:18.850Z"
   },
   {
    "duration": 556,
    "start_time": "2021-11-27T20:00:18.876Z"
   },
   {
    "duration": 205,
    "start_time": "2021-11-27T20:00:19.434Z"
   },
   {
    "duration": 12,
    "start_time": "2021-11-27T20:00:19.641Z"
   },
   {
    "duration": 446,
    "start_time": "2021-11-27T20:00:19.656Z"
   },
   {
    "duration": 710,
    "start_time": "2021-11-27T20:00:20.105Z"
   },
   {
    "duration": 8,
    "start_time": "2021-11-27T20:00:20.819Z"
   },
   {
    "duration": 463,
    "start_time": "2021-11-27T20:00:20.830Z"
   },
   {
    "duration": 546,
    "start_time": "2021-11-27T20:00:21.297Z"
   },
   {
    "duration": 7,
    "start_time": "2021-11-27T20:00:21.846Z"
   },
   {
    "duration": 653,
    "start_time": "2021-11-27T20:54:29.938Z"
   },
   {
    "duration": 286,
    "start_time": "2021-11-27T20:55:54.516Z"
   },
   {
    "duration": 16,
    "start_time": "2021-11-27T20:56:00.457Z"
   },
   {
    "duration": 481,
    "start_time": "2021-11-27T21:15:12.047Z"
   },
   {
    "duration": 190,
    "start_time": "2021-11-27T21:15:53.244Z"
   },
   {
    "duration": 18,
    "start_time": "2021-11-27T21:18:40.954Z"
   },
   {
    "duration": 8485,
    "start_time": "2021-11-27T21:19:27.706Z"
   },
   {
    "duration": 239,
    "start_time": "2021-11-27T21:20:11.449Z"
   },
   {
    "duration": 12,
    "start_time": "2021-11-27T21:20:26.963Z"
   },
   {
    "duration": 14,
    "start_time": "2021-11-27T21:21:30.522Z"
   },
   {
    "duration": 38,
    "start_time": "2021-11-27T21:26:10.924Z"
   },
   {
    "duration": 25,
    "start_time": "2021-11-27T21:26:14.396Z"
   },
   {
    "duration": 17,
    "start_time": "2021-11-27T21:27:06.721Z"
   },
   {
    "duration": 304,
    "start_time": "2021-11-27T21:30:14.834Z"
   },
   {
    "duration": 219,
    "start_time": "2021-11-27T21:31:50.391Z"
   },
   {
    "duration": 9,
    "start_time": "2021-11-27T21:36:50.665Z"
   },
   {
    "duration": 11,
    "start_time": "2021-11-27T21:38:23.468Z"
   },
   {
    "duration": 276,
    "start_time": "2021-11-27T21:39:49.957Z"
   },
   {
    "duration": 290,
    "start_time": "2021-11-27T21:40:47.539Z"
   },
   {
    "duration": 1537,
    "start_time": "2021-11-27T21:42:38.853Z"
   },
   {
    "duration": 78,
    "start_time": "2021-11-27T21:42:40.393Z"
   },
   {
    "duration": 16,
    "start_time": "2021-11-27T21:42:40.475Z"
   },
   {
    "duration": 7,
    "start_time": "2021-11-27T21:42:40.494Z"
   },
   {
    "duration": 11,
    "start_time": "2021-11-27T21:42:40.504Z"
   },
   {
    "duration": 8,
    "start_time": "2021-11-27T21:42:40.518Z"
   },
   {
    "duration": 51,
    "start_time": "2021-11-27T21:42:40.529Z"
   },
   {
    "duration": 10,
    "start_time": "2021-11-27T21:42:40.584Z"
   },
   {
    "duration": 12,
    "start_time": "2021-11-27T21:42:40.596Z"
   },
   {
    "duration": 13,
    "start_time": "2021-11-27T21:42:40.610Z"
   },
   {
    "duration": 48,
    "start_time": "2021-11-27T21:42:40.626Z"
   },
   {
    "duration": 10,
    "start_time": "2021-11-27T21:42:40.676Z"
   },
   {
    "duration": 10,
    "start_time": "2021-11-27T21:42:40.689Z"
   },
   {
    "duration": 11,
    "start_time": "2021-11-27T21:42:40.702Z"
   },
   {
    "duration": 9,
    "start_time": "2021-11-27T21:42:40.716Z"
   },
   {
    "duration": 52,
    "start_time": "2021-11-27T21:42:40.728Z"
   },
   {
    "duration": 13,
    "start_time": "2021-11-27T21:42:40.782Z"
   },
   {
    "duration": 23,
    "start_time": "2021-11-27T21:42:40.798Z"
   },
   {
    "duration": 21,
    "start_time": "2021-11-27T21:42:40.824Z"
   },
   {
    "duration": 8,
    "start_time": "2021-11-27T21:42:40.868Z"
   },
   {
    "duration": 364,
    "start_time": "2021-11-27T21:42:40.879Z"
   },
   {
    "duration": 269,
    "start_time": "2021-11-27T21:42:41.245Z"
   },
   {
    "duration": 9,
    "start_time": "2021-11-27T21:42:41.520Z"
   },
   {
    "duration": 10,
    "start_time": "2021-11-27T21:42:41.532Z"
   },
   {
    "duration": 27,
    "start_time": "2021-11-27T21:42:41.544Z"
   },
   {
    "duration": 511,
    "start_time": "2021-11-27T21:42:41.574Z"
   },
   {
    "duration": 482,
    "start_time": "2021-11-27T21:42:42.088Z"
   },
   {
    "duration": 9,
    "start_time": "2021-11-27T21:42:42.573Z"
   },
   {
    "duration": 530,
    "start_time": "2021-11-27T21:42:42.584Z"
   },
   {
    "duration": 5,
    "start_time": "2021-11-27T21:42:43.116Z"
   },
   {
    "duration": 10,
    "start_time": "2021-11-27T21:42:43.123Z"
   },
   {
    "duration": 479,
    "start_time": "2021-11-27T21:42:43.135Z"
   },
   {
    "duration": 12,
    "start_time": "2021-11-27T21:42:43.616Z"
   },
   {
    "duration": 618,
    "start_time": "2021-11-27T21:42:43.631Z"
   },
   {
    "duration": 206,
    "start_time": "2021-11-27T21:42:44.251Z"
   },
   {
    "duration": 13,
    "start_time": "2021-11-27T21:42:44.459Z"
   },
   {
    "duration": 436,
    "start_time": "2021-11-27T21:42:44.474Z"
   },
   {
    "duration": 594,
    "start_time": "2021-11-27T21:42:44.912Z"
   },
   {
    "duration": 7,
    "start_time": "2021-11-27T21:42:45.509Z"
   },
   {
    "duration": 449,
    "start_time": "2021-11-27T21:42:45.518Z"
   },
   {
    "duration": 557,
    "start_time": "2021-11-27T21:42:45.970Z"
   },
   {
    "duration": 6,
    "start_time": "2021-11-27T21:42:46.530Z"
   },
   {
    "duration": 214,
    "start_time": "2021-11-27T21:42:46.539Z"
   },
   {
    "duration": 257,
    "start_time": "2021-11-27T21:42:46.755Z"
   },
   {
    "duration": 67,
    "start_time": "2021-11-27T21:42:47.015Z"
   },
   {
    "duration": 24,
    "start_time": "2021-11-27T21:42:47.085Z"
   },
   {
    "duration": 361,
    "start_time": "2021-11-27T21:42:47.112Z"
   },
   {
    "duration": 11,
    "start_time": "2021-11-27T21:42:47.475Z"
   },
   {
    "duration": 12,
    "start_time": "2021-11-27T21:42:47.489Z"
   },
   {
    "duration": 19,
    "start_time": "2021-11-27T21:42:47.504Z"
   },
   {
    "duration": 683,
    "start_time": "2021-11-27T21:42:47.526Z"
   },
   {
    "duration": 31,
    "start_time": "2021-11-27T21:42:48.180Z"
   },
   {
    "duration": 15,
    "start_time": "2021-11-27T21:54:41.690Z"
   },
   {
    "duration": 7723,
    "start_time": "2021-11-27T22:08:18.073Z"
   },
   {
    "duration": 90,
    "start_time": "2021-11-27T22:08:59.863Z"
   },
   {
    "duration": 95,
    "start_time": "2021-11-27T22:09:32.883Z"
   },
   {
    "duration": 103,
    "start_time": "2021-11-27T22:09:49.970Z"
   },
   {
    "duration": 93,
    "start_time": "2021-11-27T22:10:08.186Z"
   },
   {
    "duration": 87,
    "start_time": "2021-11-27T22:13:33.154Z"
   },
   {
    "duration": 113,
    "start_time": "2021-11-27T22:14:55.550Z"
   },
   {
    "duration": 7361,
    "start_time": "2021-11-27T22:18:23.541Z"
   },
   {
    "duration": 18,
    "start_time": "2021-11-27T22:19:26.258Z"
   },
   {
    "duration": 6794,
    "start_time": "2021-11-27T22:19:44.461Z"
   },
   {
    "duration": 1512,
    "start_time": "2021-11-27T22:21:07.338Z"
   },
   {
    "duration": 57,
    "start_time": "2021-11-27T22:21:08.852Z"
   },
   {
    "duration": 17,
    "start_time": "2021-11-27T22:21:08.912Z"
   },
   {
    "duration": 7,
    "start_time": "2021-11-27T22:21:08.931Z"
   },
   {
    "duration": 14,
    "start_time": "2021-11-27T22:21:08.940Z"
   },
   {
    "duration": 12,
    "start_time": "2021-11-27T22:21:08.956Z"
   },
   {
    "duration": 13,
    "start_time": "2021-11-27T22:21:08.971Z"
   },
   {
    "duration": 9,
    "start_time": "2021-11-27T22:21:08.989Z"
   },
   {
    "duration": 8,
    "start_time": "2021-11-27T22:21:09.001Z"
   },
   {
    "duration": 9,
    "start_time": "2021-11-27T22:21:09.012Z"
   },
   {
    "duration": 52,
    "start_time": "2021-11-27T22:21:09.024Z"
   },
   {
    "duration": 12,
    "start_time": "2021-11-27T22:21:09.079Z"
   },
   {
    "duration": 13,
    "start_time": "2021-11-27T22:21:09.093Z"
   },
   {
    "duration": 17,
    "start_time": "2021-11-27T22:21:09.109Z"
   },
   {
    "duration": 12,
    "start_time": "2021-11-27T22:21:09.129Z"
   },
   {
    "duration": 37,
    "start_time": "2021-11-27T22:21:09.143Z"
   },
   {
    "duration": 8,
    "start_time": "2021-11-27T22:21:09.182Z"
   },
   {
    "duration": 19,
    "start_time": "2021-11-27T22:21:09.192Z"
   },
   {
    "duration": 13,
    "start_time": "2021-11-27T22:21:09.213Z"
   },
   {
    "duration": 8,
    "start_time": "2021-11-27T22:21:09.268Z"
   },
   {
    "duration": 381,
    "start_time": "2021-11-27T22:21:09.279Z"
   },
   {
    "duration": 284,
    "start_time": "2021-11-27T22:21:09.662Z"
   },
   {
    "duration": 22,
    "start_time": "2021-11-27T22:21:09.952Z"
   },
   {
    "duration": 11,
    "start_time": "2021-11-27T22:21:09.977Z"
   },
   {
    "duration": 9,
    "start_time": "2021-11-27T22:21:09.991Z"
   },
   {
    "duration": 537,
    "start_time": "2021-11-27T22:21:10.002Z"
   },
   {
    "duration": 494,
    "start_time": "2021-11-27T22:21:10.542Z"
   },
   {
    "duration": 10,
    "start_time": "2021-11-27T22:21:11.039Z"
   },
   {
    "duration": 542,
    "start_time": "2021-11-27T22:21:11.066Z"
   },
   {
    "duration": 6,
    "start_time": "2021-11-27T22:21:11.611Z"
   },
   {
    "duration": 11,
    "start_time": "2021-11-27T22:21:11.620Z"
   },
   {
    "duration": 472,
    "start_time": "2021-11-27T22:21:11.634Z"
   },
   {
    "duration": 13,
    "start_time": "2021-11-27T22:21:12.108Z"
   },
   {
    "duration": 612,
    "start_time": "2021-11-27T22:21:12.124Z"
   },
   {
    "duration": 200,
    "start_time": "2021-11-27T22:21:12.739Z"
   },
   {
    "duration": 13,
    "start_time": "2021-11-27T22:21:12.941Z"
   },
   {
    "duration": 418,
    "start_time": "2021-11-27T22:21:12.968Z"
   },
   {
    "duration": 612,
    "start_time": "2021-11-27T22:21:13.389Z"
   },
   {
    "duration": 7,
    "start_time": "2021-11-27T22:21:14.003Z"
   },
   {
    "duration": 457,
    "start_time": "2021-11-27T22:21:14.013Z"
   },
   {
    "duration": 536,
    "start_time": "2021-11-27T22:21:14.472Z"
   },
   {
    "duration": 7,
    "start_time": "2021-11-27T22:21:15.011Z"
   },
   {
    "duration": 203,
    "start_time": "2021-11-27T22:21:15.020Z"
   },
   {
    "duration": 249,
    "start_time": "2021-11-27T22:21:15.226Z"
   },
   {
    "duration": 40,
    "start_time": "2021-11-27T22:21:15.477Z"
   },
   {
    "duration": 24,
    "start_time": "2021-11-27T22:21:15.520Z"
   },
   {
    "duration": 237,
    "start_time": "2021-11-27T22:21:15.547Z"
   },
   {
    "duration": 9,
    "start_time": "2021-11-27T22:21:15.787Z"
   },
   {
    "duration": 14,
    "start_time": "2021-11-27T22:21:15.798Z"
   },
   {
    "duration": 15,
    "start_time": "2021-11-27T22:21:15.815Z"
   },
   {
    "duration": 49,
    "start_time": "2021-11-27T22:21:15.832Z"
   },
   {
    "duration": 6738,
    "start_time": "2021-11-27T22:21:15.884Z"
   },
   {
    "duration": 6946,
    "start_time": "2021-11-27T22:24:12.992Z"
   },
   {
    "duration": 15,
    "start_time": "2021-11-27T22:26:01.309Z"
   },
   {
    "duration": 15,
    "start_time": "2021-11-27T22:26:34.593Z"
   },
   {
    "duration": 17,
    "start_time": "2021-11-27T22:26:56.329Z"
   },
   {
    "duration": 7,
    "start_time": "2021-11-27T22:27:09.928Z"
   },
   {
    "duration": 14,
    "start_time": "2021-11-27T22:28:53.767Z"
   },
   {
    "duration": 15,
    "start_time": "2021-11-27T22:29:02.714Z"
   },
   {
    "duration": 14,
    "start_time": "2021-11-27T22:29:11.099Z"
   },
   {
    "duration": 14,
    "start_time": "2021-11-27T22:29:29.615Z"
   },
   {
    "duration": 14,
    "start_time": "2021-11-27T22:29:32.862Z"
   },
   {
    "duration": 17,
    "start_time": "2021-11-27T22:29:47.277Z"
   },
   {
    "duration": 15,
    "start_time": "2021-11-27T22:31:29.737Z"
   },
   {
    "duration": 15,
    "start_time": "2021-11-27T22:31:36.647Z"
   },
   {
    "duration": 20,
    "start_time": "2021-11-27T22:31:42.269Z"
   },
   {
    "duration": 21,
    "start_time": "2021-11-27T22:31:48.162Z"
   },
   {
    "duration": 13,
    "start_time": "2021-11-27T22:40:01.208Z"
   },
   {
    "duration": 11,
    "start_time": "2021-11-27T22:44:44.494Z"
   },
   {
    "duration": 12,
    "start_time": "2021-11-27T22:45:11.472Z"
   },
   {
    "duration": 7659,
    "start_time": "2021-11-27T22:54:25.615Z"
   },
   {
    "duration": 23,
    "start_time": "2021-11-27T22:55:44.225Z"
   },
   {
    "duration": 22,
    "start_time": "2021-11-27T22:56:55.846Z"
   },
   {
    "duration": 1555,
    "start_time": "2021-11-27T22:57:04.512Z"
   },
   {
    "duration": 59,
    "start_time": "2021-11-27T22:57:06.069Z"
   },
   {
    "duration": 20,
    "start_time": "2021-11-27T22:57:06.132Z"
   },
   {
    "duration": 5,
    "start_time": "2021-11-27T22:57:06.155Z"
   },
   {
    "duration": 16,
    "start_time": "2021-11-27T22:57:06.162Z"
   },
   {
    "duration": 12,
    "start_time": "2021-11-27T22:57:06.181Z"
   },
   {
    "duration": 36,
    "start_time": "2021-11-27T22:57:06.195Z"
   },
   {
    "duration": 16,
    "start_time": "2021-11-27T22:57:06.235Z"
   },
   {
    "duration": 16,
    "start_time": "2021-11-27T22:57:06.254Z"
   },
   {
    "duration": 28,
    "start_time": "2021-11-27T22:57:06.272Z"
   },
   {
    "duration": 29,
    "start_time": "2021-11-27T22:57:06.302Z"
   },
   {
    "duration": 24,
    "start_time": "2021-11-27T22:57:06.333Z"
   },
   {
    "duration": 33,
    "start_time": "2021-11-27T22:57:06.359Z"
   },
   {
    "duration": 16,
    "start_time": "2021-11-27T22:57:06.394Z"
   },
   {
    "duration": 17,
    "start_time": "2021-11-27T22:57:06.412Z"
   },
   {
    "duration": 16,
    "start_time": "2021-11-27T22:57:06.432Z"
   },
   {
    "duration": 11,
    "start_time": "2021-11-27T22:57:06.451Z"
   },
   {
    "duration": 29,
    "start_time": "2021-11-27T22:57:06.465Z"
   },
   {
    "duration": 14,
    "start_time": "2021-11-27T22:57:06.497Z"
   },
   {
    "duration": 12,
    "start_time": "2021-11-27T22:57:06.513Z"
   },
   {
    "duration": 389,
    "start_time": "2021-11-27T22:57:06.528Z"
   },
   {
    "duration": 302,
    "start_time": "2021-11-27T22:57:06.920Z"
   },
   {
    "duration": 11,
    "start_time": "2021-11-27T22:57:07.227Z"
   },
   {
    "duration": 26,
    "start_time": "2021-11-27T22:57:07.241Z"
   },
   {
    "duration": 11,
    "start_time": "2021-11-27T22:57:07.271Z"
   },
   {
    "duration": 548,
    "start_time": "2021-11-27T22:57:07.285Z"
   },
   {
    "duration": 513,
    "start_time": "2021-11-27T22:57:07.836Z"
   },
   {
    "duration": 19,
    "start_time": "2021-11-27T22:57:08.351Z"
   },
   {
    "duration": 551,
    "start_time": "2021-11-27T22:57:08.373Z"
   },
   {
    "duration": 6,
    "start_time": "2021-11-27T22:57:08.926Z"
   },
   {
    "duration": 10,
    "start_time": "2021-11-27T22:57:08.934Z"
   },
   {
    "duration": 509,
    "start_time": "2021-11-27T22:57:08.946Z"
   },
   {
    "duration": 18,
    "start_time": "2021-11-27T22:57:09.458Z"
   },
   {
    "duration": 577,
    "start_time": "2021-11-27T22:57:09.478Z"
   },
   {
    "duration": 260,
    "start_time": "2021-11-27T22:57:10.057Z"
   },
   {
    "duration": 11,
    "start_time": "2021-11-27T22:57:10.320Z"
   },
   {
    "duration": 439,
    "start_time": "2021-11-27T22:57:10.334Z"
   },
   {
    "duration": 624,
    "start_time": "2021-11-27T22:57:10.775Z"
   },
   {
    "duration": 7,
    "start_time": "2021-11-27T22:57:11.401Z"
   },
   {
    "duration": 476,
    "start_time": "2021-11-27T22:57:11.410Z"
   },
   {
    "duration": 552,
    "start_time": "2021-11-27T22:57:11.889Z"
   },
   {
    "duration": 23,
    "start_time": "2021-11-27T22:57:12.444Z"
   },
   {
    "duration": 220,
    "start_time": "2021-11-27T22:57:12.470Z"
   },
   {
    "duration": 276,
    "start_time": "2021-11-27T22:57:12.693Z"
   },
   {
    "duration": 45,
    "start_time": "2021-11-27T22:57:12.972Z"
   },
   {
    "duration": 20,
    "start_time": "2021-11-27T22:57:13.020Z"
   },
   {
    "duration": 282,
    "start_time": "2021-11-27T22:57:13.043Z"
   },
   {
    "duration": 8,
    "start_time": "2021-11-27T22:57:13.327Z"
   },
   {
    "duration": 15,
    "start_time": "2021-11-27T22:57:13.337Z"
   },
   {
    "duration": 20,
    "start_time": "2021-11-27T22:57:13.367Z"
   },
   {
    "duration": 15,
    "start_time": "2021-11-27T22:57:13.389Z"
   },
   {
    "duration": 13,
    "start_time": "2021-11-27T22:57:13.406Z"
   },
   {
    "duration": 49,
    "start_time": "2021-11-27T22:57:13.422Z"
   },
   {
    "duration": 27,
    "start_time": "2021-11-27T22:57:13.474Z"
   },
   {
    "duration": 1456,
    "start_time": "2021-11-27T23:22:56.695Z"
   },
   {
    "duration": 54,
    "start_time": "2021-11-27T23:22:58.154Z"
   },
   {
    "duration": 16,
    "start_time": "2021-11-27T23:22:58.211Z"
   },
   {
    "duration": 4,
    "start_time": "2021-11-27T23:22:58.230Z"
   },
   {
    "duration": 14,
    "start_time": "2021-11-27T23:22:58.236Z"
   },
   {
    "duration": 14,
    "start_time": "2021-11-27T23:22:58.252Z"
   },
   {
    "duration": 13,
    "start_time": "2021-11-27T23:22:58.269Z"
   },
   {
    "duration": 10,
    "start_time": "2021-11-27T23:22:58.286Z"
   },
   {
    "duration": 8,
    "start_time": "2021-11-27T23:22:58.299Z"
   },
   {
    "duration": 11,
    "start_time": "2021-11-27T23:22:58.309Z"
   },
   {
    "duration": 51,
    "start_time": "2021-11-27T23:22:58.322Z"
   },
   {
    "duration": 9,
    "start_time": "2021-11-27T23:22:58.375Z"
   },
   {
    "duration": 7,
    "start_time": "2021-11-27T23:22:58.386Z"
   },
   {
    "duration": 12,
    "start_time": "2021-11-27T23:22:58.395Z"
   },
   {
    "duration": 7,
    "start_time": "2021-11-27T23:22:58.409Z"
   },
   {
    "duration": 51,
    "start_time": "2021-11-27T23:22:58.418Z"
   },
   {
    "duration": 10,
    "start_time": "2021-11-27T23:22:58.471Z"
   },
   {
    "duration": 15,
    "start_time": "2021-11-27T23:22:58.483Z"
   },
   {
    "duration": 17,
    "start_time": "2021-11-27T23:22:58.500Z"
   },
   {
    "duration": 15,
    "start_time": "2021-11-27T23:22:58.519Z"
   },
   {
    "duration": 378,
    "start_time": "2021-11-27T23:22:58.537Z"
   },
   {
    "duration": 282,
    "start_time": "2021-11-27T23:22:58.917Z"
   },
   {
    "duration": 9,
    "start_time": "2021-11-27T23:22:59.205Z"
   },
   {
    "duration": 13,
    "start_time": "2021-11-27T23:22:59.217Z"
   },
   {
    "duration": 9,
    "start_time": "2021-11-27T23:22:59.232Z"
   },
   {
    "duration": 524,
    "start_time": "2021-11-27T23:22:59.243Z"
   },
   {
    "duration": 524,
    "start_time": "2021-11-27T23:22:59.770Z"
   },
   {
    "duration": 10,
    "start_time": "2021-11-27T23:23:00.297Z"
   },
   {
    "duration": 608,
    "start_time": "2021-11-27T23:23:00.310Z"
   },
   {
    "duration": 6,
    "start_time": "2021-11-27T23:23:00.922Z"
   },
   {
    "duration": 19,
    "start_time": "2021-11-27T23:23:00.931Z"
   },
   {
    "duration": 488,
    "start_time": "2021-11-27T23:23:00.953Z"
   },
   {
    "duration": 25,
    "start_time": "2021-11-27T23:23:01.444Z"
   },
   {
    "duration": 573,
    "start_time": "2021-11-27T23:23:01.472Z"
   },
   {
    "duration": 198,
    "start_time": "2021-11-27T23:23:02.048Z"
   },
   {
    "duration": 22,
    "start_time": "2021-11-27T23:23:02.249Z"
   },
   {
    "duration": 415,
    "start_time": "2021-11-27T23:23:02.273Z"
   },
   {
    "duration": 614,
    "start_time": "2021-11-27T23:23:02.690Z"
   },
   {
    "duration": 7,
    "start_time": "2021-11-27T23:23:03.307Z"
   },
   {
    "duration": 464,
    "start_time": "2021-11-27T23:23:03.316Z"
   },
   {
    "duration": 562,
    "start_time": "2021-11-27T23:23:03.782Z"
   },
   {
    "duration": 6,
    "start_time": "2021-11-27T23:23:04.347Z"
   },
   {
    "duration": 214,
    "start_time": "2021-11-27T23:23:04.368Z"
   },
   {
    "duration": 251,
    "start_time": "2021-11-27T23:23:04.584Z"
   },
   {
    "duration": 49,
    "start_time": "2021-11-27T23:23:04.837Z"
   },
   {
    "duration": 17,
    "start_time": "2021-11-27T23:23:04.888Z"
   },
   {
    "duration": 225,
    "start_time": "2021-11-27T23:23:04.907Z"
   },
   {
    "duration": 8,
    "start_time": "2021-11-27T23:23:05.134Z"
   },
   {
    "duration": 28,
    "start_time": "2021-11-27T23:23:05.144Z"
   },
   {
    "duration": 14,
    "start_time": "2021-11-27T23:23:05.175Z"
   },
   {
    "duration": 16,
    "start_time": "2021-11-27T23:23:05.192Z"
   },
   {
    "duration": 13,
    "start_time": "2021-11-27T23:23:05.211Z"
   },
   {
    "duration": 49,
    "start_time": "2021-11-27T23:23:05.227Z"
   },
   {
    "duration": 27,
    "start_time": "2021-11-27T23:23:05.279Z"
   },
   {
    "duration": 995,
    "start_time": "2021-11-28T04:25:37.094Z"
   },
   {
    "duration": 62,
    "start_time": "2021-11-28T04:25:38.091Z"
   },
   {
    "duration": 10,
    "start_time": "2021-11-28T04:25:38.155Z"
   },
   {
    "duration": 4,
    "start_time": "2021-11-28T04:25:38.166Z"
   },
   {
    "duration": 11,
    "start_time": "2021-11-28T04:25:38.172Z"
   },
   {
    "duration": 17,
    "start_time": "2021-11-28T04:25:38.184Z"
   },
   {
    "duration": 14,
    "start_time": "2021-11-28T04:25:38.203Z"
   },
   {
    "duration": 19,
    "start_time": "2021-11-28T04:25:38.219Z"
   },
   {
    "duration": 6,
    "start_time": "2021-11-28T04:25:38.240Z"
   },
   {
    "duration": 15,
    "start_time": "2021-11-28T04:25:38.247Z"
   },
   {
    "duration": 16,
    "start_time": "2021-11-28T04:25:38.264Z"
   },
   {
    "duration": 10,
    "start_time": "2021-11-28T04:25:38.282Z"
   },
   {
    "duration": 8,
    "start_time": "2021-11-28T04:25:38.294Z"
   },
   {
    "duration": 20,
    "start_time": "2021-11-28T04:25:38.303Z"
   },
   {
    "duration": 13,
    "start_time": "2021-11-28T04:25:38.324Z"
   },
   {
    "duration": 17,
    "start_time": "2021-11-28T04:25:38.339Z"
   },
   {
    "duration": 9,
    "start_time": "2021-11-28T04:25:38.357Z"
   },
   {
    "duration": 18,
    "start_time": "2021-11-28T04:25:38.367Z"
   },
   {
    "duration": 18,
    "start_time": "2021-11-28T04:25:38.386Z"
   },
   {
    "duration": 6,
    "start_time": "2021-11-28T04:25:38.405Z"
   },
   {
    "duration": 194,
    "start_time": "2021-11-28T04:25:38.412Z"
   },
   {
    "duration": 143,
    "start_time": "2021-11-28T04:25:38.608Z"
   },
   {
    "duration": 15,
    "start_time": "2021-11-28T04:25:38.755Z"
   },
   {
    "duration": 13,
    "start_time": "2021-11-28T04:25:38.772Z"
   },
   {
    "duration": 7,
    "start_time": "2021-11-28T04:25:38.787Z"
   },
   {
    "duration": 270,
    "start_time": "2021-11-28T04:25:38.795Z"
   },
   {
    "duration": 262,
    "start_time": "2021-11-28T04:25:39.066Z"
   },
   {
    "duration": 7,
    "start_time": "2021-11-28T04:25:39.330Z"
   },
   {
    "duration": 362,
    "start_time": "2021-11-28T04:25:39.344Z"
   },
   {
    "duration": 3,
    "start_time": "2021-11-28T04:25:39.708Z"
   },
   {
    "duration": 12,
    "start_time": "2021-11-28T04:25:39.713Z"
   },
   {
    "duration": 271,
    "start_time": "2021-11-28T04:25:39.727Z"
   },
   {
    "duration": 9,
    "start_time": "2021-11-28T04:25:40.000Z"
   },
   {
    "duration": 394,
    "start_time": "2021-11-28T04:25:40.010Z"
   },
   {
    "duration": 101,
    "start_time": "2021-11-28T04:25:40.406Z"
   },
   {
    "duration": 8,
    "start_time": "2021-11-28T04:25:40.508Z"
   },
   {
    "duration": 249,
    "start_time": "2021-11-28T04:25:40.518Z"
   },
   {
    "duration": 494,
    "start_time": "2021-11-28T04:25:40.769Z"
   },
   {
    "duration": 5,
    "start_time": "2021-11-28T04:25:41.265Z"
   },
   {
    "duration": 251,
    "start_time": "2021-11-28T04:25:41.272Z"
   },
   {
    "duration": 376,
    "start_time": "2021-11-28T04:25:41.525Z"
   },
   {
    "duration": 6,
    "start_time": "2021-11-28T04:25:41.903Z"
   },
   {
    "duration": 120,
    "start_time": "2021-11-28T04:25:41.911Z"
   },
   {
    "duration": 145,
    "start_time": "2021-11-28T04:25:42.033Z"
   },
   {
    "duration": 22,
    "start_time": "2021-11-28T04:25:42.179Z"
   },
   {
    "duration": 32,
    "start_time": "2021-11-28T04:25:42.203Z"
   },
   {
    "duration": 124,
    "start_time": "2021-11-28T04:25:42.237Z"
   },
   {
    "duration": 6,
    "start_time": "2021-11-28T04:25:42.363Z"
   },
   {
    "duration": 14,
    "start_time": "2021-11-28T04:25:42.371Z"
   },
   {
    "duration": 13,
    "start_time": "2021-11-28T04:25:42.387Z"
   },
   {
    "duration": 8,
    "start_time": "2021-11-28T04:25:42.402Z"
   },
   {
    "duration": 15,
    "start_time": "2021-11-28T04:25:42.412Z"
   },
   {
    "duration": 17,
    "start_time": "2021-11-28T04:25:42.428Z"
   },
   {
    "duration": 12,
    "start_time": "2021-11-28T04:25:42.447Z"
   },
   {
    "duration": 318,
    "start_time": "2021-11-28T07:07:39.516Z"
   },
   {
    "duration": 2231,
    "start_time": "2021-11-28T07:09:22.931Z"
   },
   {
    "duration": 69,
    "start_time": "2021-11-28T07:09:28.402Z"
   },
   {
    "duration": 8,
    "start_time": "2021-11-28T07:10:08.928Z"
   },
   {
    "duration": 24,
    "start_time": "2021-11-28T07:10:21.632Z"
   },
   {
    "duration": 14,
    "start_time": "2021-11-28T07:11:00.678Z"
   },
   {
    "duration": 12,
    "start_time": "2021-11-28T07:11:31.883Z"
   },
   {
    "duration": 434,
    "start_time": "2021-11-28T07:11:40.263Z"
   },
   {
    "duration": 311,
    "start_time": "2021-11-28T07:11:49.684Z"
   },
   {
    "duration": 11,
    "start_time": "2021-11-28T07:11:56.243Z"
   },
   {
    "duration": 313,
    "start_time": "2021-11-28T07:13:33.539Z"
   },
   {
    "duration": 392,
    "start_time": "2021-11-28T07:13:41.112Z"
   },
   {
    "duration": 6107,
    "start_time": "2021-11-28T07:14:14.402Z"
   },
   {
    "duration": 294,
    "start_time": "2021-11-28T07:14:37.339Z"
   },
   {
    "duration": 317,
    "start_time": "2021-11-28T07:14:48.840Z"
   },
   {
    "duration": 10,
    "start_time": "2021-11-28T07:15:11.415Z"
   },
   {
    "duration": 329,
    "start_time": "2021-11-28T07:15:21.266Z"
   },
   {
    "duration": 570,
    "start_time": "2021-11-28T07:16:46.223Z"
   },
   {
    "duration": 360,
    "start_time": "2021-11-28T07:16:51.594Z"
   },
   {
    "duration": 109,
    "start_time": "2021-11-28T07:17:00.140Z"
   },
   {
    "duration": 14,
    "start_time": "2021-11-28T07:17:06.960Z"
   },
   {
    "duration": 11,
    "start_time": "2021-11-28T07:17:16.039Z"
   },
   {
    "duration": 314,
    "start_time": "2021-11-28T07:17:33.771Z"
   },
   {
    "duration": 337,
    "start_time": "2021-11-28T07:17:40.809Z"
   },
   {
    "duration": 310,
    "start_time": "2021-11-28T07:17:56.073Z"
   },
   {
    "duration": 308,
    "start_time": "2021-11-28T07:18:04.212Z"
   },
   {
    "duration": 100,
    "start_time": "2021-11-28T07:19:45.734Z"
   },
   {
    "duration": 93,
    "start_time": "2021-11-28T07:19:52.720Z"
   },
   {
    "duration": 21,
    "start_time": "2021-11-28T07:20:06.644Z"
   },
   {
    "duration": 176,
    "start_time": "2021-11-28T07:57:23.085Z"
   },
   {
    "duration": 112,
    "start_time": "2021-11-28T07:57:34.147Z"
   },
   {
    "duration": 10,
    "start_time": "2021-11-28T07:57:38.831Z"
   },
   {
    "duration": 390,
    "start_time": "2021-11-28T07:57:45.573Z"
   },
   {
    "duration": 217,
    "start_time": "2021-11-28T07:57:54.985Z"
   },
   {
    "duration": 9,
    "start_time": "2021-11-28T07:58:15.327Z"
   },
   {
    "duration": 10,
    "start_time": "2021-11-28T07:58:30.199Z"
   },
   {
    "duration": 11,
    "start_time": "2021-11-28T07:58:38.448Z"
   },
   {
    "duration": 316,
    "start_time": "2021-11-28T07:58:53.801Z"
   },
   {
    "duration": 10,
    "start_time": "2021-11-28T07:59:54.057Z"
   },
   {
    "duration": 17,
    "start_time": "2021-11-28T08:00:30.175Z"
   },
   {
    "duration": 17,
    "start_time": "2021-11-28T08:01:04.070Z"
   },
   {
    "duration": 432,
    "start_time": "2021-11-28T08:01:10.881Z"
   },
   {
    "duration": 15,
    "start_time": "2021-11-28T08:01:27.142Z"
   },
   {
    "duration": 15,
    "start_time": "2021-11-28T08:01:30.237Z"
   },
   {
    "duration": 17,
    "start_time": "2021-11-28T08:01:45.578Z"
   },
   {
    "duration": 17,
    "start_time": "2021-11-28T08:02:03.212Z"
   },
   {
    "duration": 37,
    "start_time": "2021-11-28T08:02:29.466Z"
   },
   {
    "duration": 16,
    "start_time": "2021-11-28T08:02:55.086Z"
   },
   {
    "duration": 17,
    "start_time": "2021-11-28T08:03:01.608Z"
   },
   {
    "duration": 21,
    "start_time": "2021-11-28T08:03:08.008Z"
   },
   {
    "duration": 21,
    "start_time": "2021-11-28T08:03:21.252Z"
   },
   {
    "duration": 20,
    "start_time": "2021-11-28T08:03:28.623Z"
   },
   {
    "duration": 19,
    "start_time": "2021-11-28T08:03:35.244Z"
   },
   {
    "duration": 27,
    "start_time": "2021-11-28T08:03:42.224Z"
   },
   {
    "duration": 20,
    "start_time": "2021-11-28T08:03:50.726Z"
   },
   {
    "duration": 312,
    "start_time": "2021-11-28T08:04:12.179Z"
   },
   {
    "duration": 1260,
    "start_time": "2021-11-28T08:04:18.435Z"
   },
   {
    "duration": 404,
    "start_time": "2021-11-28T08:04:29.460Z"
   },
   {
    "duration": 871,
    "start_time": "2021-11-28T08:05:10.376Z"
   },
   {
    "duration": 347,
    "start_time": "2021-11-28T08:05:29.601Z"
   },
   {
    "duration": 242,
    "start_time": "2021-11-28T08:05:55.354Z"
   },
   {
    "duration": 267,
    "start_time": "2021-11-28T08:06:02.817Z"
   },
   {
    "duration": 231,
    "start_time": "2021-11-28T08:06:12.622Z"
   },
   {
    "duration": 151,
    "start_time": "2021-11-28T08:06:25.312Z"
   },
   {
    "duration": 108,
    "start_time": "2021-11-28T08:06:35.304Z"
   },
   {
    "duration": 106,
    "start_time": "2021-11-28T08:06:40.246Z"
   },
   {
    "duration": 569,
    "start_time": "2021-11-28T08:06:49.333Z"
   },
   {
    "duration": 345,
    "start_time": "2021-11-28T08:07:10.612Z"
   },
   {
    "duration": 3123,
    "start_time": "2021-11-28T08:07:18.732Z"
   },
   {
    "duration": 910,
    "start_time": "2021-11-28T08:07:29.970Z"
   },
   {
    "duration": 660,
    "start_time": "2021-11-28T08:07:39.009Z"
   },
   {
    "duration": 1577,
    "start_time": "2021-11-28T08:08:05.331Z"
   },
   {
    "duration": 1707,
    "start_time": "2021-11-28T08:08:16.305Z"
   },
   {
    "duration": 345,
    "start_time": "2021-11-28T08:08:45.813Z"
   },
   {
    "duration": 344,
    "start_time": "2021-11-28T08:08:54.895Z"
   },
   {
    "duration": 18,
    "start_time": "2021-11-28T08:14:11.803Z"
   },
   {
    "duration": 15,
    "start_time": "2021-11-28T08:14:47.346Z"
   },
   {
    "duration": 14,
    "start_time": "2021-11-28T08:15:01.540Z"
   },
   {
    "duration": 342,
    "start_time": "2021-11-28T08:15:14.741Z"
   },
   {
    "duration": 360,
    "start_time": "2021-11-28T08:16:49.143Z"
   },
   {
    "duration": 348,
    "start_time": "2021-11-28T08:17:04.739Z"
   },
   {
    "duration": 3171,
    "start_time": "2021-11-28T08:17:16.632Z"
   },
   {
    "duration": 664,
    "start_time": "2021-11-28T08:17:34.939Z"
   },
   {
    "duration": 700,
    "start_time": "2021-11-28T08:20:41.620Z"
   },
   {
    "duration": 750,
    "start_time": "2021-11-28T08:20:47.616Z"
   },
   {
    "duration": 3685,
    "start_time": "2021-11-28T08:21:07.538Z"
   },
   {
    "duration": 1542,
    "start_time": "2021-11-28T08:21:14.578Z"
   },
   {
    "duration": 1562,
    "start_time": "2021-11-28T08:21:44.135Z"
   },
   {
    "duration": 1835,
    "start_time": "2021-11-28T08:21:49.913Z"
   },
   {
    "duration": 1946,
    "start_time": "2021-11-28T08:22:06.443Z"
   },
   {
    "duration": 1909,
    "start_time": "2021-11-28T08:22:15.364Z"
   },
   {
    "duration": 1571,
    "start_time": "2021-11-28T08:22:21.567Z"
   },
   {
    "duration": 331,
    "start_time": "2021-11-28T08:22:30.487Z"
   },
   {
    "duration": 16,
    "start_time": "2021-11-28T08:23:39.612Z"
   },
   {
    "duration": 21,
    "start_time": "2021-11-28T08:23:59.752Z"
   },
   {
    "duration": 18,
    "start_time": "2021-11-28T08:31:07.095Z"
   },
   {
    "duration": 14,
    "start_time": "2021-11-28T08:31:22.140Z"
   },
   {
    "duration": 15,
    "start_time": "2021-11-28T08:31:40.410Z"
   },
   {
    "duration": 22,
    "start_time": "2021-11-28T08:33:58.494Z"
   },
   {
    "duration": 18,
    "start_time": "2021-11-28T08:35:07.917Z"
   },
   {
    "duration": 314,
    "start_time": "2021-11-28T08:36:13.129Z"
   },
   {
    "duration": 19,
    "start_time": "2021-11-28T08:36:26.861Z"
   },
   {
    "duration": 103,
    "start_time": "2021-11-28T08:38:37.976Z"
   },
   {
    "duration": 95,
    "start_time": "2021-11-28T08:39:42.948Z"
   },
   {
    "duration": 100,
    "start_time": "2021-11-29T06:47:57.968Z"
   },
   {
    "duration": 377,
    "start_time": "2021-11-29T06:49:46.582Z"
   },
   {
    "duration": 1509,
    "start_time": "2021-11-29T06:49:58.333Z"
   },
   {
    "duration": 55,
    "start_time": "2021-11-29T06:49:59.844Z"
   },
   {
    "duration": 16,
    "start_time": "2021-11-29T06:49:59.902Z"
   },
   {
    "duration": 5,
    "start_time": "2021-11-29T06:49:59.921Z"
   },
   {
    "duration": 11,
    "start_time": "2021-11-29T06:49:59.929Z"
   },
   {
    "duration": 10,
    "start_time": "2021-11-29T06:49:59.943Z"
   },
   {
    "duration": 18,
    "start_time": "2021-11-29T06:49:59.955Z"
   },
   {
    "duration": 14,
    "start_time": "2021-11-29T06:49:59.976Z"
   },
   {
    "duration": 7,
    "start_time": "2021-11-29T06:49:59.994Z"
   },
   {
    "duration": 23,
    "start_time": "2021-11-29T06:50:00.003Z"
   },
   {
    "duration": 13,
    "start_time": "2021-11-29T06:50:00.029Z"
   },
   {
    "duration": 10,
    "start_time": "2021-11-29T06:50:00.067Z"
   },
   {
    "duration": 14,
    "start_time": "2021-11-29T06:50:00.079Z"
   },
   {
    "duration": 22,
    "start_time": "2021-11-29T06:50:00.095Z"
   },
   {
    "duration": 28,
    "start_time": "2021-11-29T06:50:00.119Z"
   },
   {
    "duration": 8,
    "start_time": "2021-11-29T06:50:00.166Z"
   },
   {
    "duration": 21,
    "start_time": "2021-11-29T06:50:00.177Z"
   },
   {
    "duration": 8,
    "start_time": "2021-11-29T06:50:00.201Z"
   },
   {
    "duration": 26,
    "start_time": "2021-11-29T06:50:00.211Z"
   },
   {
    "duration": 44,
    "start_time": "2021-11-29T06:50:00.240Z"
   },
   {
    "duration": 20,
    "start_time": "2021-11-29T06:50:00.286Z"
   },
   {
    "duration": 353,
    "start_time": "2021-11-29T06:50:00.308Z"
   },
   {
    "duration": 265,
    "start_time": "2021-11-29T06:50:00.669Z"
   },
   {
    "duration": 284,
    "start_time": "2021-11-29T06:50:00.937Z"
   },
   {
    "duration": 26,
    "start_time": "2021-11-29T06:50:01.223Z"
   },
   {
    "duration": 12,
    "start_time": "2021-11-29T06:50:01.251Z"
   },
   {
    "duration": 14,
    "start_time": "2021-11-29T06:50:01.268Z"
   },
   {
    "duration": 497,
    "start_time": "2021-11-29T06:50:01.284Z"
   },
   {
    "duration": 483,
    "start_time": "2021-11-29T06:50:01.784Z"
   },
   {
    "duration": 9,
    "start_time": "2021-11-29T06:50:02.269Z"
   },
   {
    "duration": 529,
    "start_time": "2021-11-29T06:50:02.281Z"
   },
   {
    "duration": 6,
    "start_time": "2021-11-29T06:50:02.812Z"
   },
   {
    "duration": 10,
    "start_time": "2021-11-29T06:50:02.820Z"
   },
   {
    "duration": 481,
    "start_time": "2021-11-29T06:50:02.832Z"
   },
   {
    "duration": 12,
    "start_time": "2021-11-29T06:50:03.315Z"
   },
   {
    "duration": 596,
    "start_time": "2021-11-29T06:50:03.329Z"
   },
   {
    "duration": 189,
    "start_time": "2021-11-29T06:50:03.928Z"
   },
   {
    "duration": 11,
    "start_time": "2021-11-29T06:50:04.120Z"
   },
   {
    "duration": 418,
    "start_time": "2021-11-29T06:50:04.134Z"
   },
   {
    "duration": 643,
    "start_time": "2021-11-29T06:50:04.554Z"
   },
   {
    "duration": 7,
    "start_time": "2021-11-29T06:50:05.199Z"
   },
   {
    "duration": 442,
    "start_time": "2021-11-29T06:50:05.208Z"
   },
   {
    "duration": 564,
    "start_time": "2021-11-29T06:50:05.652Z"
   },
   {
    "duration": 6,
    "start_time": "2021-11-29T06:50:06.218Z"
   },
   {
    "duration": 203,
    "start_time": "2021-11-29T06:50:06.226Z"
   },
   {
    "duration": 251,
    "start_time": "2021-11-29T06:50:06.431Z"
   },
   {
    "duration": 39,
    "start_time": "2021-11-29T06:50:06.684Z"
   },
   {
    "duration": 44,
    "start_time": "2021-11-29T06:50:06.725Z"
   },
   {
    "duration": 242,
    "start_time": "2021-11-29T06:50:06.771Z"
   },
   {
    "duration": 8,
    "start_time": "2021-11-29T06:50:07.016Z"
   },
   {
    "duration": 16,
    "start_time": "2021-11-29T06:50:07.026Z"
   },
   {
    "duration": 33,
    "start_time": "2021-11-29T06:50:07.044Z"
   },
   {
    "duration": 15,
    "start_time": "2021-11-29T06:50:07.080Z"
   },
   {
    "duration": 12,
    "start_time": "2021-11-29T06:50:07.097Z"
   },
   {
    "duration": 12,
    "start_time": "2021-11-29T06:50:07.111Z"
   },
   {
    "duration": 57,
    "start_time": "2021-11-29T06:50:07.126Z"
   },
   {
    "duration": 16,
    "start_time": "2021-11-29T06:50:30.300Z"
   },
   {
    "duration": 14,
    "start_time": "2021-11-29T06:50:34.336Z"
   },
   {
    "duration": 258,
    "start_time": "2021-11-29T06:51:07.582Z"
   },
   {
    "duration": 273,
    "start_time": "2021-11-29T06:51:36.125Z"
   },
   {
    "duration": 14,
    "start_time": "2021-11-29T06:51:40.606Z"
   },
   {
    "duration": 4,
    "start_time": "2021-11-29T06:52:40.274Z"
   },
   {
    "duration": 487,
    "start_time": "2021-11-29T06:52:41.530Z"
   },
   {
    "duration": 90,
    "start_time": "2021-11-29T06:58:41.976Z"
   },
   {
    "duration": 526,
    "start_time": "2021-11-29T06:59:35.584Z"
   },
   {
    "duration": 555,
    "start_time": "2021-11-29T07:00:06.854Z"
   },
   {
    "duration": 93,
    "start_time": "2021-11-29T07:14:02.778Z"
   },
   {
    "duration": 11,
    "start_time": "2021-11-29T07:17:42.380Z"
   },
   {
    "duration": 10,
    "start_time": "2021-11-29T07:18:09.406Z"
   },
   {
    "duration": 10,
    "start_time": "2021-11-29T07:18:13.947Z"
   },
   {
    "duration": 11,
    "start_time": "2021-11-29T07:18:37.622Z"
   },
   {
    "duration": 15,
    "start_time": "2021-11-29T07:22:27.675Z"
   },
   {
    "duration": 16,
    "start_time": "2021-11-29T07:22:40.459Z"
   },
   {
    "duration": 14,
    "start_time": "2021-11-29T07:22:53.387Z"
   },
   {
    "duration": 87,
    "start_time": "2021-11-29T07:23:34.657Z"
   },
   {
    "duration": 13,
    "start_time": "2021-11-29T07:27:03.867Z"
   },
   {
    "duration": 12,
    "start_time": "2021-11-29T07:29:27.919Z"
   },
   {
    "duration": 14,
    "start_time": "2021-11-29T07:29:35.684Z"
   },
   {
    "duration": 9,
    "start_time": "2021-11-29T07:29:45.020Z"
   },
   {
    "duration": 9,
    "start_time": "2021-11-29T07:30:40.810Z"
   },
   {
    "duration": 16,
    "start_time": "2021-11-29T07:34:38.669Z"
   },
   {
    "duration": 531,
    "start_time": "2021-11-29T07:39:35.358Z"
   },
   {
    "duration": 10,
    "start_time": "2021-11-29T07:39:44.748Z"
   },
   {
    "duration": 15,
    "start_time": "2021-11-29T07:40:19.829Z"
   },
   {
    "duration": 19,
    "start_time": "2021-11-29T07:41:22.213Z"
   },
   {
    "duration": 1510,
    "start_time": "2021-11-29T07:44:20.388Z"
   },
   {
    "duration": 62,
    "start_time": "2021-11-29T07:44:21.901Z"
   },
   {
    "duration": 16,
    "start_time": "2021-11-29T07:44:21.969Z"
   },
   {
    "duration": 12,
    "start_time": "2021-11-29T07:44:21.988Z"
   },
   {
    "duration": 16,
    "start_time": "2021-11-29T07:44:22.002Z"
   },
   {
    "duration": 47,
    "start_time": "2021-11-29T07:44:22.021Z"
   },
   {
    "duration": 13,
    "start_time": "2021-11-29T07:44:22.072Z"
   },
   {
    "duration": 10,
    "start_time": "2021-11-29T07:44:22.088Z"
   },
   {
    "duration": 9,
    "start_time": "2021-11-29T07:44:22.101Z"
   },
   {
    "duration": 11,
    "start_time": "2021-11-29T07:44:22.113Z"
   },
   {
    "duration": 50,
    "start_time": "2021-11-29T07:44:22.126Z"
   },
   {
    "duration": 10,
    "start_time": "2021-11-29T07:44:22.179Z"
   },
   {
    "duration": 8,
    "start_time": "2021-11-29T07:44:22.191Z"
   },
   {
    "duration": 11,
    "start_time": "2021-11-29T07:44:22.202Z"
   },
   {
    "duration": 67,
    "start_time": "2021-11-29T07:44:22.215Z"
   },
   {
    "duration": 7,
    "start_time": "2021-11-29T07:44:22.285Z"
   },
   {
    "duration": 16,
    "start_time": "2021-11-29T07:44:22.294Z"
   },
   {
    "duration": 6,
    "start_time": "2021-11-29T07:44:22.313Z"
   },
   {
    "duration": 52,
    "start_time": "2021-11-29T07:44:22.322Z"
   },
   {
    "duration": 16,
    "start_time": "2021-11-29T07:44:22.377Z"
   },
   {
    "duration": 16,
    "start_time": "2021-11-29T07:44:22.396Z"
   },
   {
    "duration": 601,
    "start_time": "2021-11-29T07:44:22.422Z"
   },
   {
    "duration": 291,
    "start_time": "2021-11-29T07:44:23.028Z"
   },
   {
    "duration": 284,
    "start_time": "2021-11-29T07:44:23.321Z"
   },
   {
    "duration": 10,
    "start_time": "2021-11-29T07:44:23.608Z"
   },
   {
    "duration": 12,
    "start_time": "2021-11-29T07:44:23.620Z"
   },
   {
    "duration": 10,
    "start_time": "2021-11-29T07:44:23.635Z"
   },
   {
    "duration": 526,
    "start_time": "2021-11-29T07:44:23.668Z"
   },
   {
    "duration": 505,
    "start_time": "2021-11-29T07:44:24.197Z"
   },
   {
    "duration": 9,
    "start_time": "2021-11-29T07:44:24.705Z"
   },
   {
    "duration": 625,
    "start_time": "2021-11-29T07:44:24.716Z"
   },
   {
    "duration": 5,
    "start_time": "2021-11-29T07:44:25.344Z"
   },
   {
    "duration": 7,
    "start_time": "2021-11-29T07:44:25.367Z"
   },
   {
    "duration": 462,
    "start_time": "2021-11-29T07:44:25.377Z"
   },
   {
    "duration": 25,
    "start_time": "2021-11-29T07:44:25.842Z"
   },
   {
    "duration": 659,
    "start_time": "2021-11-29T07:44:25.870Z"
   },
   {
    "duration": 193,
    "start_time": "2021-11-29T07:44:26.532Z"
   },
   {
    "duration": 13,
    "start_time": "2021-11-29T07:44:26.727Z"
   },
   {
    "duration": 545,
    "start_time": "2021-11-29T07:44:26.744Z"
   },
   {
    "duration": 612,
    "start_time": "2021-11-29T07:44:27.291Z"
   },
   {
    "duration": 6,
    "start_time": "2021-11-29T07:44:27.906Z"
   },
   {
    "duration": 445,
    "start_time": "2021-11-29T07:44:27.914Z"
   },
   {
    "duration": 577,
    "start_time": "2021-11-29T07:44:28.361Z"
   },
   {
    "duration": 566,
    "start_time": "2021-11-29T07:44:28.940Z"
   },
   {
    "duration": 6,
    "start_time": "2021-11-29T07:44:29.509Z"
   },
   {
    "duration": 207,
    "start_time": "2021-11-29T07:44:29.517Z"
   },
   {
    "duration": 244,
    "start_time": "2021-11-29T07:44:29.726Z"
   },
   {
    "duration": 40,
    "start_time": "2021-11-29T07:44:29.973Z"
   },
   {
    "duration": 17,
    "start_time": "2021-11-29T07:44:30.015Z"
   },
   {
    "duration": 244,
    "start_time": "2021-11-29T07:44:30.034Z"
   },
   {
    "duration": 9,
    "start_time": "2021-11-29T07:44:30.280Z"
   },
   {
    "duration": 28,
    "start_time": "2021-11-29T07:44:30.291Z"
   },
   {
    "duration": 31,
    "start_time": "2021-11-29T07:44:30.321Z"
   },
   {
    "duration": 27,
    "start_time": "2021-11-29T07:44:30.354Z"
   },
   {
    "duration": 42,
    "start_time": "2021-11-29T07:44:30.384Z"
   },
   {
    "duration": 20,
    "start_time": "2021-11-29T07:44:30.428Z"
   },
   {
    "duration": 29,
    "start_time": "2021-11-29T07:44:30.452Z"
   },
   {
    "duration": 25,
    "start_time": "2021-11-29T07:44:30.484Z"
   },
   {
    "duration": 10,
    "start_time": "2021-11-29T07:44:30.511Z"
   },
   {
    "duration": 21,
    "start_time": "2021-11-29T07:44:30.528Z"
   },
   {
    "duration": 30,
    "start_time": "2021-11-29T07:44:30.552Z"
   },
   {
    "duration": 5,
    "start_time": "2021-11-29T15:38:58.301Z"
   },
   {
    "duration": 70,
    "start_time": "2021-11-29T15:38:58.310Z"
   },
   {
    "duration": 12,
    "start_time": "2021-11-29T15:38:58.383Z"
   },
   {
    "duration": 7,
    "start_time": "2021-11-29T15:38:58.398Z"
   },
   {
    "duration": 13,
    "start_time": "2021-11-29T15:38:58.413Z"
   },
   {
    "duration": 11,
    "start_time": "2021-11-29T15:38:58.429Z"
   },
   {
    "duration": 12,
    "start_time": "2021-11-29T15:38:58.450Z"
   },
   {
    "duration": 47,
    "start_time": "2021-11-29T15:38:58.466Z"
   },
   {
    "duration": 11,
    "start_time": "2021-11-29T15:38:58.516Z"
   },
   {
    "duration": 12,
    "start_time": "2021-11-29T15:38:58.530Z"
   },
   {
    "duration": 14,
    "start_time": "2021-11-29T15:38:58.544Z"
   },
   {
    "duration": 11,
    "start_time": "2021-11-29T15:38:58.560Z"
   },
   {
    "duration": 30,
    "start_time": "2021-11-29T15:38:58.574Z"
   },
   {
    "duration": 17,
    "start_time": "2021-11-29T15:38:58.606Z"
   },
   {
    "duration": 32,
    "start_time": "2021-11-29T15:38:58.626Z"
   },
   {
    "duration": 6,
    "start_time": "2021-11-29T15:38:58.663Z"
   },
   {
    "duration": 46,
    "start_time": "2021-11-29T15:38:58.672Z"
   },
   {
    "duration": 9,
    "start_time": "2021-11-29T15:38:58.721Z"
   },
   {
    "duration": 21,
    "start_time": "2021-11-29T15:38:58.733Z"
   },
   {
    "duration": 15,
    "start_time": "2021-11-29T15:38:58.757Z"
   },
   {
    "duration": 32,
    "start_time": "2021-11-29T15:38:58.774Z"
   },
   {
    "duration": 376,
    "start_time": "2021-11-29T15:38:58.809Z"
   },
   {
    "duration": 295,
    "start_time": "2021-11-29T15:38:59.187Z"
   },
   {
    "duration": 292,
    "start_time": "2021-11-29T15:38:59.485Z"
   },
   {
    "duration": 24,
    "start_time": "2021-11-29T15:38:59.779Z"
   },
   {
    "duration": 8,
    "start_time": "2021-11-29T15:38:59.806Z"
   },
   {
    "duration": 8,
    "start_time": "2021-11-29T15:38:59.816Z"
   },
   {
    "duration": 519,
    "start_time": "2021-11-29T15:38:59.826Z"
   },
   {
    "duration": 537,
    "start_time": "2021-11-29T15:39:00.347Z"
   },
   {
    "duration": 19,
    "start_time": "2021-11-29T15:39:00.886Z"
   },
   {
    "duration": 542,
    "start_time": "2021-11-29T15:39:00.908Z"
   },
   {
    "duration": 6,
    "start_time": "2021-11-29T15:39:01.453Z"
   },
   {
    "duration": 23,
    "start_time": "2021-11-29T15:39:01.462Z"
   },
   {
    "duration": 489,
    "start_time": "2021-11-29T15:39:01.488Z"
   },
   {
    "duration": 22,
    "start_time": "2021-11-29T15:39:01.980Z"
   },
   {
    "duration": 694,
    "start_time": "2021-11-29T15:39:02.005Z"
   },
   {
    "duration": 234,
    "start_time": "2021-11-29T15:39:02.703Z"
   },
   {
    "duration": 13,
    "start_time": "2021-11-29T15:39:02.939Z"
   },
   {
    "duration": 438,
    "start_time": "2021-11-29T15:39:02.956Z"
   },
   {
    "duration": 641,
    "start_time": "2021-11-29T15:39:03.396Z"
   },
   {
    "duration": 8,
    "start_time": "2021-11-29T15:39:04.040Z"
   },
   {
    "duration": 467,
    "start_time": "2021-11-29T15:39:04.050Z"
   },
   {
    "duration": 546,
    "start_time": "2021-11-29T15:39:04.520Z"
   },
   {
    "duration": 580,
    "start_time": "2021-11-29T15:39:05.068Z"
   },
   {
    "duration": 8,
    "start_time": "2021-11-29T15:39:05.650Z"
   },
   {
    "duration": 229,
    "start_time": "2021-11-29T15:39:05.661Z"
   },
   {
    "duration": 248,
    "start_time": "2021-11-29T15:39:05.893Z"
   },
   {
    "duration": 57,
    "start_time": "2021-11-29T15:39:06.144Z"
   },
   {
    "duration": 23,
    "start_time": "2021-11-29T15:39:06.204Z"
   },
   {
    "duration": 246,
    "start_time": "2021-11-29T15:39:06.229Z"
   },
   {
    "duration": 8,
    "start_time": "2021-11-29T15:39:06.478Z"
   },
   {
    "duration": 23,
    "start_time": "2021-11-29T15:39:06.488Z"
   },
   {
    "duration": 15,
    "start_time": "2021-11-29T15:39:06.515Z"
   },
   {
    "duration": 18,
    "start_time": "2021-11-29T15:39:06.533Z"
   },
   {
    "duration": 54,
    "start_time": "2021-11-29T15:39:06.553Z"
   },
   {
    "duration": 15,
    "start_time": "2021-11-29T15:39:06.611Z"
   },
   {
    "duration": 14,
    "start_time": "2021-11-29T15:39:06.629Z"
   },
   {
    "duration": 16,
    "start_time": "2021-11-29T15:39:06.646Z"
   },
   {
    "duration": 15,
    "start_time": "2021-11-29T15:39:06.702Z"
   },
   {
    "duration": 21,
    "start_time": "2021-11-29T15:39:06.719Z"
   },
   {
    "duration": 36,
    "start_time": "2021-11-29T15:39:06.742Z"
   }
  ],
  "kernelspec": {
   "display_name": "Python 3 (ipykernel)",
   "language": "python",
   "name": "python3"
  },
  "language_info": {
   "codemirror_mode": {
    "name": "ipython",
    "version": 3
   },
   "file_extension": ".py",
   "mimetype": "text/x-python",
   "name": "python",
   "nbconvert_exporter": "python",
   "pygments_lexer": "ipython3",
   "version": "3.9.12"
  },
  "toc": {
   "base_numbering": 1,
   "nav_menu": {},
   "number_sections": true,
   "sideBar": true,
   "skip_h1_title": true,
   "title_cell": "Table of Contents",
   "title_sidebar": "Contents",
   "toc_cell": true,
   "toc_position": {
    "height": "calc(100% - 180px)",
    "left": "10px",
    "top": "150px",
    "width": "289.6px"
   },
   "toc_section_display": true,
   "toc_window_display": true
  }
 },
 "nbformat": 4,
 "nbformat_minor": 2
}

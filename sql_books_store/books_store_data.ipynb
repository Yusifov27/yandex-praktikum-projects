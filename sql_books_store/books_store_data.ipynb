{
 "cells": [
  {
   "cell_type": "markdown",
   "metadata": {},
   "source": [
    "## Этап 1. Импортирование библиотек  и данных. Первичное знакомство с данными"
   ]
  },
  {
   "cell_type": "markdown",
   "metadata": {},
   "source": [
    "### 1.1  Импортирование библиотек"
   ]
  },
  {
   "cell_type": "markdown",
   "metadata": {},
   "source": [
    "Загрузим необходимые библиотеки:"
   ]
  },
  {
   "cell_type": "code",
   "execution_count": 1,
   "metadata": {},
   "outputs": [],
   "source": [
    "import pandas as pd\n",
    "from sqlalchemy import create_engine\n",
    "pd.set_option(\"display.max_colwidth\", -1)"
   ]
  },
  {
   "cell_type": "markdown",
   "metadata": {},
   "source": [
    "### 1.2 Подключение к базе данных"
   ]
  },
  {
   "cell_type": "code",
   "execution_count": null,
   "metadata": {},
   "outputs": [],
   "source": [
    "# устанавливаем параметры\n",
    "db_config = {'user': 'praktikum_student', # имя пользователя\n",
    " 'pwd': 'xxx', # пароль\n",
    " 'host': 'xxx',\n",
    " 'port': xxx, # порт подключения\n",
    " 'db': 'xxx'} # название базы данных\n",
    "connection_string = 'postgresql://{}:{}@{}:{}/{}'.format(db_config['user'],\n",
    " db_config['pwd'],\n",
    " db_config['host'],\n",
    " db_config['port'],\n",
    " db_config['db'])\n",
    "# сохраняем коннектор\n",
    "engine = create_engine(connection_string, connect_args={'sslmode':'require'}) "
   ]
  },
  {
   "cell_type": "markdown",
   "metadata": {},
   "source": [
    "Создадим функцию для выполнения SQL запросов:"
   ]
  },
  {
   "cell_type": "code",
   "execution_count": 3,
   "metadata": {},
   "outputs": [],
   "source": [
    "def run_sql(query):\n",
    "    result = pd.io.sql.read_sql(query, con = engine)\n",
    "    return result"
   ]
  },
  {
   "cell_type": "markdown",
   "metadata": {},
   "source": [
    "### 1.3 Первичное знакомство с данными"
   ]
  },
  {
   "cell_type": "markdown",
   "metadata": {},
   "source": [
    "Для начала рассмотрим наши данные, создав запросы и выполнив SQL запросы, начнем с книг:"
   ]
  },
  {
   "cell_type": "code",
   "execution_count": 4,
   "metadata": {},
   "outputs": [
    {
     "data": {
      "text/html": [
       "<div>\n",
       "<style scoped>\n",
       "    .dataframe tbody tr th:only-of-type {\n",
       "        vertical-align: middle;\n",
       "    }\n",
       "\n",
       "    .dataframe tbody tr th {\n",
       "        vertical-align: top;\n",
       "    }\n",
       "\n",
       "    .dataframe thead th {\n",
       "        text-align: right;\n",
       "    }\n",
       "</style>\n",
       "<table border=\"1\" class=\"dataframe\">\n",
       "  <thead>\n",
       "    <tr style=\"text-align: right;\">\n",
       "      <th></th>\n",
       "      <th>book_id</th>\n",
       "      <th>author_id</th>\n",
       "      <th>title</th>\n",
       "      <th>num_pages</th>\n",
       "      <th>publication_date</th>\n",
       "      <th>publisher_id</th>\n",
       "    </tr>\n",
       "  </thead>\n",
       "  <tbody>\n",
       "    <tr>\n",
       "      <td>0</td>\n",
       "      <td>1</td>\n",
       "      <td>546</td>\n",
       "      <td>'Salem's Lot</td>\n",
       "      <td>594</td>\n",
       "      <td>2005-11-01</td>\n",
       "      <td>93</td>\n",
       "    </tr>\n",
       "    <tr>\n",
       "      <td>1</td>\n",
       "      <td>2</td>\n",
       "      <td>465</td>\n",
       "      <td>1 000 Places to See Before You Die</td>\n",
       "      <td>992</td>\n",
       "      <td>2003-05-22</td>\n",
       "      <td>336</td>\n",
       "    </tr>\n",
       "    <tr>\n",
       "      <td>2</td>\n",
       "      <td>3</td>\n",
       "      <td>407</td>\n",
       "      <td>13 Little Blue Envelopes (Little Blue Envelope  #1)</td>\n",
       "      <td>322</td>\n",
       "      <td>2010-12-21</td>\n",
       "      <td>135</td>\n",
       "    </tr>\n",
       "    <tr>\n",
       "      <td>3</td>\n",
       "      <td>4</td>\n",
       "      <td>82</td>\n",
       "      <td>1491: New Revelations of the Americas Before Columbus</td>\n",
       "      <td>541</td>\n",
       "      <td>2006-10-10</td>\n",
       "      <td>309</td>\n",
       "    </tr>\n",
       "    <tr>\n",
       "      <td>4</td>\n",
       "      <td>5</td>\n",
       "      <td>125</td>\n",
       "      <td>1776</td>\n",
       "      <td>386</td>\n",
       "      <td>2006-07-04</td>\n",
       "      <td>268</td>\n",
       "    </tr>\n",
       "    <tr>\n",
       "      <td>...</td>\n",
       "      <td>...</td>\n",
       "      <td>...</td>\n",
       "      <td>...</td>\n",
       "      <td>...</td>\n",
       "      <td>...</td>\n",
       "      <td>...</td>\n",
       "    </tr>\n",
       "    <tr>\n",
       "      <td>995</td>\n",
       "      <td>996</td>\n",
       "      <td>571</td>\n",
       "      <td>Wyrd Sisters (Discworld  #6; Witches #2)</td>\n",
       "      <td>265</td>\n",
       "      <td>2001-02-06</td>\n",
       "      <td>147</td>\n",
       "    </tr>\n",
       "    <tr>\n",
       "      <td>996</td>\n",
       "      <td>997</td>\n",
       "      <td>454</td>\n",
       "      <td>Xenocide (Ender's Saga  #3)</td>\n",
       "      <td>592</td>\n",
       "      <td>1996-07-15</td>\n",
       "      <td>297</td>\n",
       "    </tr>\n",
       "    <tr>\n",
       "      <td>997</td>\n",
       "      <td>998</td>\n",
       "      <td>201</td>\n",
       "      <td>Year of Wonders</td>\n",
       "      <td>358</td>\n",
       "      <td>2002-04-30</td>\n",
       "      <td>212</td>\n",
       "    </tr>\n",
       "    <tr>\n",
       "      <td>998</td>\n",
       "      <td>999</td>\n",
       "      <td>94</td>\n",
       "      <td>You Suck (A Love Story  #2)</td>\n",
       "      <td>328</td>\n",
       "      <td>2007-01-16</td>\n",
       "      <td>331</td>\n",
       "    </tr>\n",
       "    <tr>\n",
       "      <td>999</td>\n",
       "      <td>1000</td>\n",
       "      <td>509</td>\n",
       "      <td>Zen and the Art of Motorcycle Maintenance: An Inquiry Into Values (Phaedrus  #1)</td>\n",
       "      <td>540</td>\n",
       "      <td>2006-04-25</td>\n",
       "      <td>143</td>\n",
       "    </tr>\n",
       "  </tbody>\n",
       "</table>\n",
       "<p>1000 rows × 6 columns</p>\n",
       "</div>"
      ],
      "text/plain": [
       "     book_id  author_id  \\\n",
       "0    1        546         \n",
       "1    2        465         \n",
       "2    3        407         \n",
       "3    4        82          \n",
       "4    5        125         \n",
       "..  ..        ...         \n",
       "995  996      571         \n",
       "996  997      454         \n",
       "997  998      201         \n",
       "998  999      94          \n",
       "999  1000     509         \n",
       "\n",
       "                                                                                title  \\\n",
       "0    'Salem's Lot                                                                       \n",
       "1    1 000 Places to See Before You Die                                                 \n",
       "2    13 Little Blue Envelopes (Little Blue Envelope  #1)                                \n",
       "3    1491: New Revelations of the Americas Before Columbus                              \n",
       "4    1776                                                                               \n",
       "..    ...                                                                               \n",
       "995  Wyrd Sisters (Discworld  #6; Witches #2)                                           \n",
       "996  Xenocide (Ender's Saga  #3)                                                        \n",
       "997  Year of Wonders                                                                    \n",
       "998  You Suck (A Love Story  #2)                                                        \n",
       "999  Zen and the Art of Motorcycle Maintenance: An Inquiry Into Values (Phaedrus  #1)   \n",
       "\n",
       "     num_pages publication_date  publisher_id  \n",
       "0    594        2005-11-01       93            \n",
       "1    992        2003-05-22       336           \n",
       "2    322        2010-12-21       135           \n",
       "3    541        2006-10-10       309           \n",
       "4    386        2006-07-04       268           \n",
       "..   ...               ...       ...           \n",
       "995  265        2001-02-06       147           \n",
       "996  592        1996-07-15       297           \n",
       "997  358        2002-04-30       212           \n",
       "998  328        2007-01-16       331           \n",
       "999  540        2006-04-25       143           \n",
       "\n",
       "[1000 rows x 6 columns]"
      ]
     },
     "execution_count": 4,
     "metadata": {},
     "output_type": "execute_result"
    }
   ],
   "source": [
    "books = \"\"\"\n",
    "SELECT \n",
    "    *\n",
    "FROM \n",
    "   books;\n",
    "\"\"\"\n",
    "run_sql(books)"
   ]
  },
  {
   "cell_type": "markdown",
   "metadata": {},
   "source": [
    "Таблица содержит 1000 строк и 6 столбцов, содержит данные о книгах:\n",
    "- `book_id` — идентификатор книги;\n",
    "- `author_id` — идентификатор автора;\n",
    "- `title` — название книги;\n",
    "- `num_pages` — количество страниц;\n",
    "- `publication_date` — дата публикации книги;\n",
    "- `publisher_id` — идентификатор издателя."
   ]
  },
  {
   "cell_type": "markdown",
   "metadata": {},
   "source": [
    "Посмотрим общую информацию:"
   ]
  },
  {
   "cell_type": "code",
   "execution_count": 5,
   "metadata": {},
   "outputs": [
    {
     "name": "stdout",
     "output_type": "stream",
     "text": [
      "<class 'pandas.core.frame.DataFrame'>\n",
      "RangeIndex: 1000 entries, 0 to 999\n",
      "Data columns (total 6 columns):\n",
      "book_id             1000 non-null int64\n",
      "author_id           1000 non-null int64\n",
      "title               1000 non-null object\n",
      "num_pages           1000 non-null int64\n",
      "publication_date    1000 non-null object\n",
      "publisher_id        1000 non-null int64\n",
      "dtypes: int64(4), object(2)\n",
      "memory usage: 47.0+ KB\n"
     ]
    }
   ],
   "source": [
    "run_sql(books).info()"
   ]
  },
  {
   "cell_type": "markdown",
   "metadata": {},
   "source": [
    "Пропусков нет. Единственном отметим, что дата публикация имеет не временной тип данных. "
   ]
  },
  {
   "cell_type": "code",
   "execution_count": 6,
   "metadata": {},
   "outputs": [
    {
     "data": {
      "text/plain": [
       "0"
      ]
     },
     "execution_count": 6,
     "metadata": {},
     "output_type": "execute_result"
    }
   ],
   "source": [
    "run_sql(books).duplicated().sum()"
   ]
  },
  {
   "cell_type": "markdown",
   "metadata": {},
   "source": [
    "Явных дубликатов нет, проверим также чуть иначе: "
   ]
  },
  {
   "cell_type": "code",
   "execution_count": 7,
   "metadata": {},
   "outputs": [
    {
     "data": {
      "text/plain": [
       "1"
      ]
     },
     "execution_count": 7,
     "metadata": {},
     "output_type": "execute_result"
    }
   ],
   "source": [
    "run_sql(books)['title'].duplicated().sum()"
   ]
  },
  {
   "cell_type": "markdown",
   "metadata": {},
   "source": [
    "Посмотрим данную книгу:"
   ]
  },
  {
   "cell_type": "code",
   "execution_count": 8,
   "metadata": {},
   "outputs": [
    {
     "data": {
      "text/html": [
       "<div>\n",
       "<style scoped>\n",
       "    .dataframe tbody tr th:only-of-type {\n",
       "        vertical-align: middle;\n",
       "    }\n",
       "\n",
       "    .dataframe tbody tr th {\n",
       "        vertical-align: top;\n",
       "    }\n",
       "\n",
       "    .dataframe thead th {\n",
       "        text-align: right;\n",
       "    }\n",
       "</style>\n",
       "<table border=\"1\" class=\"dataframe\">\n",
       "  <thead>\n",
       "    <tr style=\"text-align: right;\">\n",
       "      <th></th>\n",
       "      <th>book_id</th>\n",
       "      <th>author_id</th>\n",
       "      <th>title</th>\n",
       "      <th>num_pages</th>\n",
       "      <th>publication_date</th>\n",
       "      <th>publisher_id</th>\n",
       "    </tr>\n",
       "  </thead>\n",
       "  <tbody>\n",
       "    <tr>\n",
       "      <td>426</td>\n",
       "      <td>427</td>\n",
       "      <td>39</td>\n",
       "      <td>Memoirs of a Geisha</td>\n",
       "      <td>503</td>\n",
       "      <td>2005-11-22</td>\n",
       "      <td>311</td>\n",
       "    </tr>\n",
       "  </tbody>\n",
       "</table>\n",
       "</div>"
      ],
      "text/plain": [
       "     book_id  author_id                title  num_pages publication_date  \\\n",
       "426  427      39         Memoirs of a Geisha  503        2005-11-22        \n",
       "\n",
       "     publisher_id  \n",
       "426  311           "
      ]
     },
     "execution_count": 8,
     "metadata": {},
     "output_type": "execute_result"
    }
   ],
   "source": [
    "run_sql(books)[run_sql(books)['title'].duplicated()]"
   ]
  },
  {
   "cell_type": "markdown",
   "metadata": {},
   "source": [
    "Найдем соответствующее название:"
   ]
  },
  {
   "cell_type": "code",
   "execution_count": 9,
   "metadata": {
    "scrolled": true
   },
   "outputs": [
    {
     "data": {
      "text/html": [
       "<div>\n",
       "<style scoped>\n",
       "    .dataframe tbody tr th:only-of-type {\n",
       "        vertical-align: middle;\n",
       "    }\n",
       "\n",
       "    .dataframe tbody tr th {\n",
       "        vertical-align: top;\n",
       "    }\n",
       "\n",
       "    .dataframe thead th {\n",
       "        text-align: right;\n",
       "    }\n",
       "</style>\n",
       "<table border=\"1\" class=\"dataframe\">\n",
       "  <thead>\n",
       "    <tr style=\"text-align: right;\">\n",
       "      <th></th>\n",
       "      <th>book_id</th>\n",
       "      <th>author_id</th>\n",
       "      <th>title</th>\n",
       "      <th>num_pages</th>\n",
       "      <th>publication_date</th>\n",
       "      <th>publisher_id</th>\n",
       "    </tr>\n",
       "  </thead>\n",
       "  <tbody>\n",
       "    <tr>\n",
       "      <td>425</td>\n",
       "      <td>426</td>\n",
       "      <td>39</td>\n",
       "      <td>Memoirs of a Geisha</td>\n",
       "      <td>434</td>\n",
       "      <td>2005-11-15</td>\n",
       "      <td>241</td>\n",
       "    </tr>\n",
       "    <tr>\n",
       "      <td>426</td>\n",
       "      <td>427</td>\n",
       "      <td>39</td>\n",
       "      <td>Memoirs of a Geisha</td>\n",
       "      <td>503</td>\n",
       "      <td>2005-11-22</td>\n",
       "      <td>311</td>\n",
       "    </tr>\n",
       "  </tbody>\n",
       "</table>\n",
       "</div>"
      ],
      "text/plain": [
       "     book_id  author_id                title  num_pages publication_date  \\\n",
       "425  426      39         Memoirs of a Geisha  434        2005-11-15        \n",
       "426  427      39         Memoirs of a Geisha  503        2005-11-22        \n",
       "\n",
       "     publisher_id  \n",
       "425  241           \n",
       "426  311           "
      ]
     },
     "execution_count": 9,
     "metadata": {},
     "output_type": "execute_result"
    }
   ],
   "source": [
    "run_sql(books).query('title == \"Memoirs of a Geisha\"')"
   ]
  },
  {
   "cell_type": "markdown",
   "metadata": {},
   "source": [
    "Как минимум книга от другого издадельства, все в порядке.\n"
   ]
  },
  {
   "cell_type": "markdown",
   "metadata": {},
   "source": [
    "Познакомимся со следующей таблицей, с авторами:"
   ]
  },
  {
   "cell_type": "code",
   "execution_count": 10,
   "metadata": {},
   "outputs": [
    {
     "data": {
      "text/html": [
       "<div>\n",
       "<style scoped>\n",
       "    .dataframe tbody tr th:only-of-type {\n",
       "        vertical-align: middle;\n",
       "    }\n",
       "\n",
       "    .dataframe tbody tr th {\n",
       "        vertical-align: top;\n",
       "    }\n",
       "\n",
       "    .dataframe thead th {\n",
       "        text-align: right;\n",
       "    }\n",
       "</style>\n",
       "<table border=\"1\" class=\"dataframe\">\n",
       "  <thead>\n",
       "    <tr style=\"text-align: right;\">\n",
       "      <th></th>\n",
       "      <th>author_id</th>\n",
       "      <th>author</th>\n",
       "    </tr>\n",
       "  </thead>\n",
       "  <tbody>\n",
       "    <tr>\n",
       "      <td>0</td>\n",
       "      <td>1</td>\n",
       "      <td>A.S. Byatt</td>\n",
       "    </tr>\n",
       "    <tr>\n",
       "      <td>1</td>\n",
       "      <td>2</td>\n",
       "      <td>Aesop/Laura Harris/Laura Gibbs</td>\n",
       "    </tr>\n",
       "    <tr>\n",
       "      <td>2</td>\n",
       "      <td>3</td>\n",
       "      <td>Agatha Christie</td>\n",
       "    </tr>\n",
       "    <tr>\n",
       "      <td>3</td>\n",
       "      <td>4</td>\n",
       "      <td>Alan Brennert</td>\n",
       "    </tr>\n",
       "    <tr>\n",
       "      <td>4</td>\n",
       "      <td>5</td>\n",
       "      <td>Alan Moore/David   Lloyd</td>\n",
       "    </tr>\n",
       "    <tr>\n",
       "      <td>...</td>\n",
       "      <td>...</td>\n",
       "      <td>...</td>\n",
       "    </tr>\n",
       "    <tr>\n",
       "      <td>631</td>\n",
       "      <td>632</td>\n",
       "      <td>William Strunk Jr./E.B. White</td>\n",
       "    </tr>\n",
       "    <tr>\n",
       "      <td>632</td>\n",
       "      <td>633</td>\n",
       "      <td>Zadie Smith</td>\n",
       "    </tr>\n",
       "    <tr>\n",
       "      <td>633</td>\n",
       "      <td>634</td>\n",
       "      <td>Zilpha Keatley Snyder</td>\n",
       "    </tr>\n",
       "    <tr>\n",
       "      <td>634</td>\n",
       "      <td>635</td>\n",
       "      <td>Zora Neale Hurston</td>\n",
       "    </tr>\n",
       "    <tr>\n",
       "      <td>635</td>\n",
       "      <td>636</td>\n",
       "      <td>Åsne Seierstad/Ingrid Christopherson</td>\n",
       "    </tr>\n",
       "  </tbody>\n",
       "</table>\n",
       "<p>636 rows × 2 columns</p>\n",
       "</div>"
      ],
      "text/plain": [
       "     author_id                                author\n",
       "0    1          A.S. Byatt                          \n",
       "1    2          Aesop/Laura Harris/Laura Gibbs      \n",
       "2    3          Agatha Christie                     \n",
       "3    4          Alan Brennert                       \n",
       "4    5          Alan Moore/David   Lloyd            \n",
       "..  ..                               ...            \n",
       "631  632        William Strunk Jr./E.B. White       \n",
       "632  633        Zadie Smith                         \n",
       "633  634        Zilpha Keatley Snyder               \n",
       "634  635        Zora Neale Hurston                  \n",
       "635  636        Åsne Seierstad/Ingrid Christopherson\n",
       "\n",
       "[636 rows x 2 columns]"
      ]
     },
     "execution_count": 10,
     "metadata": {},
     "output_type": "execute_result"
    }
   ],
   "source": [
    "authors= \"\"\"\n",
    "SELECT \n",
    "    *\n",
    "FROM \n",
    "    authors;\n",
    "\"\"\"\n",
    "run_sql(authors)"
   ]
  },
  {
   "cell_type": "markdown",
   "metadata": {},
   "source": [
    "Таблица содержит 636 строк и 2 столбца, содержит данные об авторах:\n",
    "- `author_id` — идентификатор автора;\n",
    "- `author` — имя автора."
   ]
  },
  {
   "cell_type": "markdown",
   "metadata": {},
   "source": [
    "Посмотрим общую информацию:"
   ]
  },
  {
   "cell_type": "code",
   "execution_count": 11,
   "metadata": {},
   "outputs": [
    {
     "name": "stdout",
     "output_type": "stream",
     "text": [
      "<class 'pandas.core.frame.DataFrame'>\n",
      "RangeIndex: 636 entries, 0 to 635\n",
      "Data columns (total 2 columns):\n",
      "author_id    636 non-null int64\n",
      "author       636 non-null object\n",
      "dtypes: int64(1), object(1)\n",
      "memory usage: 10.1+ KB\n"
     ]
    }
   ],
   "source": [
    "run_sql(authors).info()"
   ]
  },
  {
   "cell_type": "markdown",
   "metadata": {},
   "source": [
    "Пропусков нет, типы данных соответствующие. "
   ]
  },
  {
   "cell_type": "code",
   "execution_count": 12,
   "metadata": {},
   "outputs": [
    {
     "data": {
      "text/plain": [
       "0"
      ]
     },
     "execution_count": 12,
     "metadata": {},
     "output_type": "execute_result"
    }
   ],
   "source": [
    "run_sql(authors).duplicated().sum()"
   ]
  },
  {
   "cell_type": "markdown",
   "metadata": {},
   "source": [
    "Дубликаты отсуствуют."
   ]
  },
  {
   "cell_type": "markdown",
   "metadata": {},
   "source": [
    "Следующая таблица, с издетельствами:"
   ]
  },
  {
   "cell_type": "code",
   "execution_count": 13,
   "metadata": {},
   "outputs": [
    {
     "data": {
      "text/html": [
       "<div>\n",
       "<style scoped>\n",
       "    .dataframe tbody tr th:only-of-type {\n",
       "        vertical-align: middle;\n",
       "    }\n",
       "\n",
       "    .dataframe tbody tr th {\n",
       "        vertical-align: top;\n",
       "    }\n",
       "\n",
       "    .dataframe thead th {\n",
       "        text-align: right;\n",
       "    }\n",
       "</style>\n",
       "<table border=\"1\" class=\"dataframe\">\n",
       "  <thead>\n",
       "    <tr style=\"text-align: right;\">\n",
       "      <th></th>\n",
       "      <th>publisher_id</th>\n",
       "      <th>publisher</th>\n",
       "    </tr>\n",
       "  </thead>\n",
       "  <tbody>\n",
       "    <tr>\n",
       "      <td>0</td>\n",
       "      <td>1</td>\n",
       "      <td>Ace</td>\n",
       "    </tr>\n",
       "    <tr>\n",
       "      <td>1</td>\n",
       "      <td>2</td>\n",
       "      <td>Ace Book</td>\n",
       "    </tr>\n",
       "    <tr>\n",
       "      <td>2</td>\n",
       "      <td>3</td>\n",
       "      <td>Ace Books</td>\n",
       "    </tr>\n",
       "    <tr>\n",
       "      <td>3</td>\n",
       "      <td>4</td>\n",
       "      <td>Ace Hardcover</td>\n",
       "    </tr>\n",
       "    <tr>\n",
       "      <td>4</td>\n",
       "      <td>5</td>\n",
       "      <td>Addison Wesley Publishing Company</td>\n",
       "    </tr>\n",
       "    <tr>\n",
       "      <td>...</td>\n",
       "      <td>...</td>\n",
       "      <td>...</td>\n",
       "    </tr>\n",
       "    <tr>\n",
       "      <td>335</td>\n",
       "      <td>336</td>\n",
       "      <td>Workman Publishing Company</td>\n",
       "    </tr>\n",
       "    <tr>\n",
       "      <td>336</td>\n",
       "      <td>337</td>\n",
       "      <td>Wyatt Book</td>\n",
       "    </tr>\n",
       "    <tr>\n",
       "      <td>337</td>\n",
       "      <td>338</td>\n",
       "      <td>Yale University Press</td>\n",
       "    </tr>\n",
       "    <tr>\n",
       "      <td>338</td>\n",
       "      <td>339</td>\n",
       "      <td>Yearling</td>\n",
       "    </tr>\n",
       "    <tr>\n",
       "      <td>339</td>\n",
       "      <td>340</td>\n",
       "      <td>Yearling Books</td>\n",
       "    </tr>\n",
       "  </tbody>\n",
       "</table>\n",
       "<p>340 rows × 2 columns</p>\n",
       "</div>"
      ],
      "text/plain": [
       "     publisher_id                          publisher\n",
       "0    1             Ace                              \n",
       "1    2             Ace Book                         \n",
       "2    3             Ace Books                        \n",
       "3    4             Ace Hardcover                    \n",
       "4    5             Addison Wesley Publishing Company\n",
       "..  ..                                           ...\n",
       "335  336           Workman Publishing Company       \n",
       "336  337           Wyatt Book                       \n",
       "337  338           Yale University Press            \n",
       "338  339           Yearling                         \n",
       "339  340           Yearling Books                   \n",
       "\n",
       "[340 rows x 2 columns]"
      ]
     },
     "execution_count": 13,
     "metadata": {},
     "output_type": "execute_result"
    }
   ],
   "source": [
    "publishers = \"\"\"\n",
    "SELECT \n",
    "     *\n",
    "FROM \n",
    "    publishers;\n",
    "\"\"\"\n",
    "run_sql(publishers)"
   ]
  },
  {
   "cell_type": "markdown",
   "metadata": {},
   "source": [
    "Таблица содержит 340 строк, 2 столбца, содержит данные об издательствах:\n",
    "- `publisher_id` — идентификатор издательства;\n",
    "- `publisher` — название издательства;"
   ]
  },
  {
   "cell_type": "markdown",
   "metadata": {},
   "source": [
    "Посзнакомимся с общей информацией:"
   ]
  },
  {
   "cell_type": "code",
   "execution_count": 14,
   "metadata": {},
   "outputs": [
    {
     "name": "stdout",
     "output_type": "stream",
     "text": [
      "<class 'pandas.core.frame.DataFrame'>\n",
      "RangeIndex: 340 entries, 0 to 339\n",
      "Data columns (total 2 columns):\n",
      "publisher_id    340 non-null int64\n",
      "publisher       340 non-null object\n",
      "dtypes: int64(1), object(1)\n",
      "memory usage: 5.4+ KB\n"
     ]
    }
   ],
   "source": [
    "run_sql(publishers).info()"
   ]
  },
  {
   "cell_type": "markdown",
   "metadata": {},
   "source": [
    "Пропусков нет, типы соответствующие. Проверим также на дубликаты:"
   ]
  },
  {
   "cell_type": "code",
   "execution_count": 15,
   "metadata": {},
   "outputs": [
    {
     "data": {
      "text/plain": [
       "0"
      ]
     },
     "execution_count": 15,
     "metadata": {},
     "output_type": "execute_result"
    }
   ],
   "source": [
    "run_sql(publishers).duplicated().sum()"
   ]
  },
  {
   "cell_type": "markdown",
   "metadata": {},
   "source": [
    "Дубликатов нет. "
   ]
  },
  {
   "cell_type": "markdown",
   "metadata": {},
   "source": [
    "Перейдем к таблице с рейтингами книг:"
   ]
  },
  {
   "cell_type": "code",
   "execution_count": 16,
   "metadata": {},
   "outputs": [
    {
     "data": {
      "text/html": [
       "<div>\n",
       "<style scoped>\n",
       "    .dataframe tbody tr th:only-of-type {\n",
       "        vertical-align: middle;\n",
       "    }\n",
       "\n",
       "    .dataframe tbody tr th {\n",
       "        vertical-align: top;\n",
       "    }\n",
       "\n",
       "    .dataframe thead th {\n",
       "        text-align: right;\n",
       "    }\n",
       "</style>\n",
       "<table border=\"1\" class=\"dataframe\">\n",
       "  <thead>\n",
       "    <tr style=\"text-align: right;\">\n",
       "      <th></th>\n",
       "      <th>rating_id</th>\n",
       "      <th>book_id</th>\n",
       "      <th>username</th>\n",
       "      <th>rating</th>\n",
       "    </tr>\n",
       "  </thead>\n",
       "  <tbody>\n",
       "    <tr>\n",
       "      <td>0</td>\n",
       "      <td>1</td>\n",
       "      <td>1</td>\n",
       "      <td>ryanfranco</td>\n",
       "      <td>4</td>\n",
       "    </tr>\n",
       "    <tr>\n",
       "      <td>1</td>\n",
       "      <td>2</td>\n",
       "      <td>1</td>\n",
       "      <td>grantpatricia</td>\n",
       "      <td>2</td>\n",
       "    </tr>\n",
       "    <tr>\n",
       "      <td>2</td>\n",
       "      <td>3</td>\n",
       "      <td>1</td>\n",
       "      <td>brandtandrea</td>\n",
       "      <td>5</td>\n",
       "    </tr>\n",
       "    <tr>\n",
       "      <td>3</td>\n",
       "      <td>4</td>\n",
       "      <td>2</td>\n",
       "      <td>lorichen</td>\n",
       "      <td>3</td>\n",
       "    </tr>\n",
       "    <tr>\n",
       "      <td>4</td>\n",
       "      <td>5</td>\n",
       "      <td>2</td>\n",
       "      <td>mariokeller</td>\n",
       "      <td>2</td>\n",
       "    </tr>\n",
       "    <tr>\n",
       "      <td>...</td>\n",
       "      <td>...</td>\n",
       "      <td>...</td>\n",
       "      <td>...</td>\n",
       "      <td>...</td>\n",
       "    </tr>\n",
       "    <tr>\n",
       "      <td>6451</td>\n",
       "      <td>6452</td>\n",
       "      <td>1000</td>\n",
       "      <td>carolrodriguez</td>\n",
       "      <td>4</td>\n",
       "    </tr>\n",
       "    <tr>\n",
       "      <td>6452</td>\n",
       "      <td>6453</td>\n",
       "      <td>1000</td>\n",
       "      <td>wendy18</td>\n",
       "      <td>4</td>\n",
       "    </tr>\n",
       "    <tr>\n",
       "      <td>6453</td>\n",
       "      <td>6454</td>\n",
       "      <td>1000</td>\n",
       "      <td>jarvispaul</td>\n",
       "      <td>5</td>\n",
       "    </tr>\n",
       "    <tr>\n",
       "      <td>6454</td>\n",
       "      <td>6455</td>\n",
       "      <td>1000</td>\n",
       "      <td>zross</td>\n",
       "      <td>2</td>\n",
       "    </tr>\n",
       "    <tr>\n",
       "      <td>6455</td>\n",
       "      <td>6456</td>\n",
       "      <td>1000</td>\n",
       "      <td>fharris</td>\n",
       "      <td>5</td>\n",
       "    </tr>\n",
       "  </tbody>\n",
       "</table>\n",
       "<p>6456 rows × 4 columns</p>\n",
       "</div>"
      ],
      "text/plain": [
       "      rating_id  book_id        username  rating\n",
       "0     1          1        ryanfranco      4     \n",
       "1     2          1        grantpatricia   2     \n",
       "2     3          1        brandtandrea    5     \n",
       "3     4          2        lorichen        3     \n",
       "4     5          2        mariokeller     2     \n",
       "...  ..         ..                ...    ..     \n",
       "6451  6452       1000     carolrodriguez  4     \n",
       "6452  6453       1000     wendy18         4     \n",
       "6453  6454       1000     jarvispaul      5     \n",
       "6454  6455       1000     zross           2     \n",
       "6455  6456       1000     fharris         5     \n",
       "\n",
       "[6456 rows x 4 columns]"
      ]
     },
     "execution_count": 16,
     "metadata": {},
     "output_type": "execute_result"
    }
   ],
   "source": [
    "ratings = \"\"\"\n",
    "SELECT \n",
    "    *\n",
    "FROM \n",
    "    ratings;\n",
    "\"\"\"\n",
    "run_sql(ratings)"
   ]
  },
  {
   "cell_type": "markdown",
   "metadata": {},
   "source": [
    "Таблица содержит 6456 строк, 4 столбца, содержит данные о пользовательских обзорах:\n",
    "- `rating_id` — идентификатор оценки;\n",
    "- `book_id` — идентификатор книги;\n",
    "- `username` — имя пользователя, оставившего оценку;\n",
    "- `rating` — оценка книги."
   ]
  },
  {
   "cell_type": "markdown",
   "metadata": {},
   "source": [
    "Познакомимся поближе:"
   ]
  },
  {
   "cell_type": "code",
   "execution_count": 17,
   "metadata": {},
   "outputs": [
    {
     "name": "stdout",
     "output_type": "stream",
     "text": [
      "<class 'pandas.core.frame.DataFrame'>\n",
      "RangeIndex: 6456 entries, 0 to 6455\n",
      "Data columns (total 4 columns):\n",
      "rating_id    6456 non-null int64\n",
      "book_id      6456 non-null int64\n",
      "username     6456 non-null object\n",
      "rating       6456 non-null int64\n",
      "dtypes: int64(3), object(1)\n",
      "memory usage: 201.9+ KB\n"
     ]
    }
   ],
   "source": [
    "run_sql(ratings).info()"
   ]
  },
  {
   "cell_type": "markdown",
   "metadata": {},
   "source": [
    "Пропусков нет, типы соответствующие. Проверим на дубликаты:"
   ]
  },
  {
   "cell_type": "code",
   "execution_count": 18,
   "metadata": {},
   "outputs": [
    {
     "data": {
      "text/plain": [
       "0"
      ]
     },
     "execution_count": 18,
     "metadata": {},
     "output_type": "execute_result"
    }
   ],
   "source": [
    "run_sql(ratings).duplicated().sum()"
   ]
  },
  {
   "cell_type": "markdown",
   "metadata": {},
   "source": [
    "Явных дубликатов нет."
   ]
  },
  {
   "cell_type": "markdown",
   "metadata": {},
   "source": [
    "Осталась последняя таблица, данные о пользовательских обзорах:"
   ]
  },
  {
   "cell_type": "code",
   "execution_count": 19,
   "metadata": {},
   "outputs": [
    {
     "data": {
      "text/html": [
       "<div>\n",
       "<style scoped>\n",
       "    .dataframe tbody tr th:only-of-type {\n",
       "        vertical-align: middle;\n",
       "    }\n",
       "\n",
       "    .dataframe tbody tr th {\n",
       "        vertical-align: top;\n",
       "    }\n",
       "\n",
       "    .dataframe thead th {\n",
       "        text-align: right;\n",
       "    }\n",
       "</style>\n",
       "<table border=\"1\" class=\"dataframe\">\n",
       "  <thead>\n",
       "    <tr style=\"text-align: right;\">\n",
       "      <th></th>\n",
       "      <th>review_id</th>\n",
       "      <th>book_id</th>\n",
       "      <th>username</th>\n",
       "      <th>text</th>\n",
       "    </tr>\n",
       "  </thead>\n",
       "  <tbody>\n",
       "    <tr>\n",
       "      <td>0</td>\n",
       "      <td>1</td>\n",
       "      <td>1</td>\n",
       "      <td>brandtandrea</td>\n",
       "      <td>Mention society tell send professor analysis. Over provide race technology continue these.</td>\n",
       "    </tr>\n",
       "    <tr>\n",
       "      <td>1</td>\n",
       "      <td>2</td>\n",
       "      <td>1</td>\n",
       "      <td>ryanfranco</td>\n",
       "      <td>Foot glass pretty audience hit themselves. Among admit investment argue security.</td>\n",
       "    </tr>\n",
       "    <tr>\n",
       "      <td>2</td>\n",
       "      <td>3</td>\n",
       "      <td>2</td>\n",
       "      <td>lorichen</td>\n",
       "      <td>Listen treat keep worry. Miss husband tax but person sport treatment industry. Kitchen decision deep the. Social party body the.</td>\n",
       "    </tr>\n",
       "    <tr>\n",
       "      <td>3</td>\n",
       "      <td>4</td>\n",
       "      <td>3</td>\n",
       "      <td>johnsonamanda</td>\n",
       "      <td>Finally month interesting blue could nature cultural bit. Prepare beat finish grow that smile teach. Dream me play near.</td>\n",
       "    </tr>\n",
       "    <tr>\n",
       "      <td>4</td>\n",
       "      <td>5</td>\n",
       "      <td>3</td>\n",
       "      <td>scotttamara</td>\n",
       "      <td>Nation purpose heavy give wait song will. List dinner another whole positive radio fast. Music staff many green.</td>\n",
       "    </tr>\n",
       "    <tr>\n",
       "      <td>...</td>\n",
       "      <td>...</td>\n",
       "      <td>...</td>\n",
       "      <td>...</td>\n",
       "      <td>...</td>\n",
       "    </tr>\n",
       "    <tr>\n",
       "      <td>2788</td>\n",
       "      <td>2789</td>\n",
       "      <td>999</td>\n",
       "      <td>martinadam</td>\n",
       "      <td>Later hospital turn easy community. Fact same enter true practice student system.</td>\n",
       "    </tr>\n",
       "    <tr>\n",
       "      <td>2789</td>\n",
       "      <td>2790</td>\n",
       "      <td>1000</td>\n",
       "      <td>wknight</td>\n",
       "      <td>Change lose answer close pressure. Spend so now.</td>\n",
       "    </tr>\n",
       "    <tr>\n",
       "      <td>2790</td>\n",
       "      <td>2791</td>\n",
       "      <td>1000</td>\n",
       "      <td>carolrodriguez</td>\n",
       "      <td>Authority go who television entire hair guy population. Pm vote take. Long born close thought person old. Visit ever school manage about.</td>\n",
       "    </tr>\n",
       "    <tr>\n",
       "      <td>2791</td>\n",
       "      <td>2792</td>\n",
       "      <td>1000</td>\n",
       "      <td>wendy18</td>\n",
       "      <td>Or western offer wonder ask. More hear phone foreign amount within cell. Ball poor hot that kid.</td>\n",
       "    </tr>\n",
       "    <tr>\n",
       "      <td>2792</td>\n",
       "      <td>2793</td>\n",
       "      <td>1000</td>\n",
       "      <td>jarvispaul</td>\n",
       "      <td>Republican staff bit eat material measure plan. Pretty issue claim rate push energy couple bit.</td>\n",
       "    </tr>\n",
       "  </tbody>\n",
       "</table>\n",
       "<p>2793 rows × 4 columns</p>\n",
       "</div>"
      ],
      "text/plain": [
       "      review_id  book_id        username  \\\n",
       "0     1          1        brandtandrea     \n",
       "1     2          1        ryanfranco       \n",
       "2     3          2        lorichen         \n",
       "3     4          3        johnsonamanda    \n",
       "4     5          3        scotttamara      \n",
       "...  ..         ..                ...      \n",
       "2788  2789       999      martinadam       \n",
       "2789  2790       1000     wknight          \n",
       "2790  2791       1000     carolrodriguez   \n",
       "2791  2792       1000     wendy18          \n",
       "2792  2793       1000     jarvispaul       \n",
       "\n",
       "                                                                                                                                           text  \n",
       "0     Mention society tell send professor analysis. Over provide race technology continue these.                                                 \n",
       "1     Foot glass pretty audience hit themselves. Among admit investment argue security.                                                          \n",
       "2     Listen treat keep worry. Miss husband tax but person sport treatment industry. Kitchen decision deep the. Social party body the.           \n",
       "3     Finally month interesting blue could nature cultural bit. Prepare beat finish grow that smile teach. Dream me play near.                   \n",
       "4     Nation purpose heavy give wait song will. List dinner another whole positive radio fast. Music staff many green.                           \n",
       "...                                                                                                                ...                           \n",
       "2788  Later hospital turn easy community. Fact same enter true practice student system.                                                          \n",
       "2789  Change lose answer close pressure. Spend so now.                                                                                           \n",
       "2790  Authority go who television entire hair guy population. Pm vote take. Long born close thought person old. Visit ever school manage about.  \n",
       "2791  Or western offer wonder ask. More hear phone foreign amount within cell. Ball poor hot that kid.                                           \n",
       "2792  Republican staff bit eat material measure plan. Pretty issue claim rate push energy couple bit.                                            \n",
       "\n",
       "[2793 rows x 4 columns]"
      ]
     },
     "execution_count": 19,
     "metadata": {},
     "output_type": "execute_result"
    }
   ],
   "source": [
    "reviews = \"\"\"\n",
    "SELECT \n",
    "    *\n",
    "FROM \n",
    "    reviews;\n",
    "\"\"\"\n",
    "run_sql(reviews)"
   ]
  },
  {
   "cell_type": "markdown",
   "metadata": {},
   "source": [
    "Таблица содержит 2793 строки, 4 столбца, содержит данные о пользовательских обзорах:\n",
    "review_id — идентификатор обзора;\n",
    "book_id — идентификатор книги;\n",
    "username — имя автора обзора;\n",
    "text — текст обзора."
   ]
  },
  {
   "cell_type": "markdown",
   "metadata": {},
   "source": [
    "Проверим подробнее:"
   ]
  },
  {
   "cell_type": "code",
   "execution_count": 20,
   "metadata": {},
   "outputs": [
    {
     "name": "stdout",
     "output_type": "stream",
     "text": [
      "<class 'pandas.core.frame.DataFrame'>\n",
      "RangeIndex: 2793 entries, 0 to 2792\n",
      "Data columns (total 4 columns):\n",
      "review_id    2793 non-null int64\n",
      "book_id      2793 non-null int64\n",
      "username     2793 non-null object\n",
      "text         2793 non-null object\n",
      "dtypes: int64(2), object(2)\n",
      "memory usage: 87.4+ KB\n"
     ]
    }
   ],
   "source": [
    "run_sql(reviews).info()"
   ]
  },
  {
   "cell_type": "markdown",
   "metadata": {},
   "source": [
    "Пропусков нет, типы данных соотетствующие. Проверим также на дубликаты:"
   ]
  },
  {
   "cell_type": "code",
   "execution_count": 21,
   "metadata": {},
   "outputs": [
    {
     "data": {
      "text/plain": [
       "0"
      ]
     },
     "execution_count": 21,
     "metadata": {},
     "output_type": "execute_result"
    }
   ],
   "source": [
    "run_sql(reviews).duplicated().sum()"
   ]
  },
  {
   "cell_type": "markdown",
   "metadata": {},
   "source": [
    "Явных дубликтов нет. "
   ]
  },
  {
   "cell_type": "markdown",
   "metadata": {},
   "source": [
    "## Этап 2. Поставленные задания"
   ]
  },
  {
   "cell_type": "markdown",
   "metadata": {},
   "source": [
    "### 2.1 Cколько книг вышло после 1 января 2000 года?"
   ]
  },
  {
   "cell_type": "markdown",
   "metadata": {},
   "source": [
    "Расчитаем количество книг, выщедших после 1 января 2000 года:"
   ]
  },
  {
   "cell_type": "code",
   "execution_count": 22,
   "metadata": {},
   "outputs": [
    {
     "data": {
      "text/html": [
       "<div>\n",
       "<style scoped>\n",
       "    .dataframe tbody tr th:only-of-type {\n",
       "        vertical-align: middle;\n",
       "    }\n",
       "\n",
       "    .dataframe tbody tr th {\n",
       "        vertical-align: top;\n",
       "    }\n",
       "\n",
       "    .dataframe thead th {\n",
       "        text-align: right;\n",
       "    }\n",
       "</style>\n",
       "<table border=\"1\" class=\"dataframe\">\n",
       "  <thead>\n",
       "    <tr style=\"text-align: right;\">\n",
       "      <th></th>\n",
       "      <th>count_books_after_2000</th>\n",
       "    </tr>\n",
       "  </thead>\n",
       "  <tbody>\n",
       "    <tr>\n",
       "      <td>0</td>\n",
       "      <td>821</td>\n",
       "    </tr>\n",
       "  </tbody>\n",
       "</table>\n",
       "</div>"
      ],
      "text/plain": [
       "   count_books_after_2000\n",
       "0  821                   "
      ]
     },
     "execution_count": 22,
     "metadata": {},
     "output_type": "execute_result"
    }
   ],
   "source": [
    "count_books_after_2000 = \"\"\"\n",
    "SELECT \n",
    "    COUNT (*) AS count_books_after_2000\n",
    "FROM \n",
    "    books\n",
    "WHERE\n",
    "    publication_date >= '2000-01-01';\n",
    "\"\"\"\n",
    "                \n",
    "run_sql(count_books_after_2000)"
   ]
  },
  {
   "cell_type": "markdown",
   "metadata": {},
   "source": [
    "Такм образом с 1 января 2000 года, в базе хранится информация о 821-ой книге."
   ]
  },
  {
   "cell_type": "markdown",
   "metadata": {},
   "source": [
    "### 2.2 Для каждой книги посчитать количество обзоров и среднюю оценку"
   ]
  },
  {
   "cell_type": "markdown",
   "metadata": {},
   "source": [
    "Расчитаем количество обзоров и среднюю оценку для каждой книги, за исключением тех, где нет обзоров(6 книг) :"
   ]
  },
  {
   "cell_type": "code",
   "execution_count": 23,
   "metadata": {
    "scrolled": false
   },
   "outputs": [
    {
     "data": {
      "text/html": [
       "<div>\n",
       "<style scoped>\n",
       "    .dataframe tbody tr th:only-of-type {\n",
       "        vertical-align: middle;\n",
       "    }\n",
       "\n",
       "    .dataframe tbody tr th {\n",
       "        vertical-align: top;\n",
       "    }\n",
       "\n",
       "    .dataframe thead th {\n",
       "        text-align: right;\n",
       "    }\n",
       "</style>\n",
       "<table border=\"1\" class=\"dataframe\">\n",
       "  <thead>\n",
       "    <tr style=\"text-align: right;\">\n",
       "      <th></th>\n",
       "      <th>title</th>\n",
       "      <th>cnt_reviews</th>\n",
       "      <th>avg_rating</th>\n",
       "    </tr>\n",
       "  </thead>\n",
       "  <tbody>\n",
       "    <tr>\n",
       "      <td>0</td>\n",
       "      <td>Twilight (Twilight  #1)</td>\n",
       "      <td>7</td>\n",
       "      <td>3.662500</td>\n",
       "    </tr>\n",
       "    <tr>\n",
       "      <td>1</td>\n",
       "      <td>Harry Potter and the Prisoner of Azkaban (Harry Potter  #3)</td>\n",
       "      <td>6</td>\n",
       "      <td>4.414634</td>\n",
       "    </tr>\n",
       "    <tr>\n",
       "      <td>2</td>\n",
       "      <td>Harry Potter and the Chamber of Secrets (Harry Potter  #2)</td>\n",
       "      <td>6</td>\n",
       "      <td>4.287500</td>\n",
       "    </tr>\n",
       "    <tr>\n",
       "      <td>3</td>\n",
       "      <td>The Book Thief</td>\n",
       "      <td>6</td>\n",
       "      <td>4.264151</td>\n",
       "    </tr>\n",
       "    <tr>\n",
       "      <td>4</td>\n",
       "      <td>The Glass Castle</td>\n",
       "      <td>6</td>\n",
       "      <td>4.206897</td>\n",
       "    </tr>\n",
       "    <tr>\n",
       "      <td>...</td>\n",
       "      <td>...</td>\n",
       "      <td>...</td>\n",
       "      <td>...</td>\n",
       "    </tr>\n",
       "    <tr>\n",
       "      <td>989</td>\n",
       "      <td>Death: The High Cost of Living</td>\n",
       "      <td>1</td>\n",
       "      <td>3.000000</td>\n",
       "    </tr>\n",
       "    <tr>\n",
       "      <td>990</td>\n",
       "      <td>Moo  Baa  La La La!</td>\n",
       "      <td>1</td>\n",
       "      <td>3.000000</td>\n",
       "    </tr>\n",
       "    <tr>\n",
       "      <td>991</td>\n",
       "      <td>1 000 Places to See Before You Die</td>\n",
       "      <td>1</td>\n",
       "      <td>2.500000</td>\n",
       "    </tr>\n",
       "    <tr>\n",
       "      <td>992</td>\n",
       "      <td>History of Beauty</td>\n",
       "      <td>1</td>\n",
       "      <td>2.500000</td>\n",
       "    </tr>\n",
       "    <tr>\n",
       "      <td>993</td>\n",
       "      <td>Tsubasa: RESERVoir CHRoNiCLE  Vol. 1</td>\n",
       "      <td>1</td>\n",
       "      <td>2.500000</td>\n",
       "    </tr>\n",
       "  </tbody>\n",
       "</table>\n",
       "<p>994 rows × 3 columns</p>\n",
       "</div>"
      ],
      "text/plain": [
       "                                                           title  cnt_reviews  \\\n",
       "0    Twilight (Twilight  #1)                                      7             \n",
       "1    Harry Potter and the Prisoner of Azkaban (Harry Potter  #3)  6             \n",
       "2    Harry Potter and the Chamber of Secrets (Harry Potter  #2)   6             \n",
       "3    The Book Thief                                               6             \n",
       "4    The Glass Castle                                             6             \n",
       "..                ...                                            ..             \n",
       "989  Death: The High Cost of Living                               1             \n",
       "990  Moo  Baa  La La La!                                          1             \n",
       "991  1 000 Places to See Before You Die                           1             \n",
       "992  History of Beauty                                            1             \n",
       "993  Tsubasa: RESERVoir CHRoNiCLE  Vol. 1                         1             \n",
       "\n",
       "     avg_rating  \n",
       "0    3.662500    \n",
       "1    4.414634    \n",
       "2    4.287500    \n",
       "3    4.264151    \n",
       "4    4.206897    \n",
       "..        ...    \n",
       "989  3.000000    \n",
       "990  3.000000    \n",
       "991  2.500000    \n",
       "992  2.500000    \n",
       "993  2.500000    \n",
       "\n",
       "[994 rows x 3 columns]"
      ]
     },
     "execution_count": 23,
     "metadata": {},
     "output_type": "execute_result"
    }
   ],
   "source": [
    "count_reviews_and_avg_rating = \"\"\"\n",
    "SELECT \n",
    "    books.title,\n",
    "    sub_cnt.cnt_reviews,\n",
    "    sub_avg.avg_rating\n",
    "        \n",
    "FROM \n",
    "    books LEFT JOIN (\n",
    "    SELECT \n",
    "        book_id, \n",
    "        AVG(rating) AS avg_rating\n",
    "    FROM \n",
    "        ratings\n",
    "    GROUP BY\n",
    "        book_id) AS sub_avg ON sub_avg.book_id = books.book_id\n",
    "    LEFT JOIN\n",
    "    (SELECT\n",
    "        book_id,\n",
    "        COUNT(review_id) AS cnt_reviews\n",
    "     FROM\n",
    "         reviews\n",
    "     GROUP BY\n",
    "         book_id) AS sub_cnt on sub_cnt.book_id = books.book_id\n",
    "WHERE\n",
    "cnt_reviews is not null\n",
    "ORDER bY\n",
    "    cnt_reviews DESC, avg_rating DESC; \n",
    "\"\"\" \n",
    "                \n",
    "run_sql(count_reviews_and_avg_rating)"
   ]
  },
  {
   "cell_type": "markdown",
   "metadata": {},
   "source": [
    "994 строки, имеющие обзоры и рейтинг. Строки расталвены в порядке убывания количества обзоров и среднего рейтинга. Больше всего обзоров на Twilight (Сумерки), здесь 7 обзоров со средним рейтингом 3.66. Следом идет Harry Potter and the Prisoner of Azkaban (Гарри Поттер и узник Азкабана) с 6 рейтингами и средним рейтингом 4.41. Замыкает тройку  лидеров Harry Potter and the Chamber of Secrets (Гарри Поттер и Тайная комната) со средним рейтингом 4.29. "
   ]
  },
  {
   "cell_type": "code",
   "execution_count": 24,
   "metadata": {},
   "outputs": [
    {
     "data": {
      "text/html": [
       "<div>\n",
       "<style scoped>\n",
       "    .dataframe tbody tr th:only-of-type {\n",
       "        vertical-align: middle;\n",
       "    }\n",
       "\n",
       "    .dataframe tbody tr th {\n",
       "        vertical-align: top;\n",
       "    }\n",
       "\n",
       "    .dataframe thead th {\n",
       "        text-align: right;\n",
       "    }\n",
       "</style>\n",
       "<table border=\"1\" class=\"dataframe\">\n",
       "  <thead>\n",
       "    <tr style=\"text-align: right;\">\n",
       "      <th></th>\n",
       "      <th>title</th>\n",
       "      <th>cnt_reviews</th>\n",
       "      <th>avg_rating</th>\n",
       "    </tr>\n",
       "  </thead>\n",
       "  <tbody>\n",
       "    <tr>\n",
       "      <td>0</td>\n",
       "      <td>The Cat in the Hat and Other Dr. Seuss Favorites</td>\n",
       "      <td>NaN</td>\n",
       "      <td>5.000000</td>\n",
       "    </tr>\n",
       "    <tr>\n",
       "      <td>1</td>\n",
       "      <td>Disney's Beauty and the Beast (A Little Golden Book)</td>\n",
       "      <td>NaN</td>\n",
       "      <td>4.000000</td>\n",
       "    </tr>\n",
       "    <tr>\n",
       "      <td>2</td>\n",
       "      <td>Leonardo's Notebooks</td>\n",
       "      <td>NaN</td>\n",
       "      <td>4.000000</td>\n",
       "    </tr>\n",
       "    <tr>\n",
       "      <td>3</td>\n",
       "      <td>Essential Tales and Poems</td>\n",
       "      <td>NaN</td>\n",
       "      <td>4.000000</td>\n",
       "    </tr>\n",
       "    <tr>\n",
       "      <td>4</td>\n",
       "      <td>Anne Rice's The Vampire Lestat: A Graphic Novel</td>\n",
       "      <td>NaN</td>\n",
       "      <td>3.666667</td>\n",
       "    </tr>\n",
       "    <tr>\n",
       "      <td>...</td>\n",
       "      <td>...</td>\n",
       "      <td>...</td>\n",
       "      <td>...</td>\n",
       "    </tr>\n",
       "    <tr>\n",
       "      <td>995</td>\n",
       "      <td>Moo  Baa  La La La!</td>\n",
       "      <td>1.0</td>\n",
       "      <td>3.000000</td>\n",
       "    </tr>\n",
       "    <tr>\n",
       "      <td>996</td>\n",
       "      <td>Death: The High Cost of Living</td>\n",
       "      <td>1.0</td>\n",
       "      <td>3.000000</td>\n",
       "    </tr>\n",
       "    <tr>\n",
       "      <td>997</td>\n",
       "      <td>History of Beauty</td>\n",
       "      <td>1.0</td>\n",
       "      <td>2.500000</td>\n",
       "    </tr>\n",
       "    <tr>\n",
       "      <td>998</td>\n",
       "      <td>Tsubasa: RESERVoir CHRoNiCLE  Vol. 1</td>\n",
       "      <td>1.0</td>\n",
       "      <td>2.500000</td>\n",
       "    </tr>\n",
       "    <tr>\n",
       "      <td>999</td>\n",
       "      <td>1 000 Places to See Before You Die</td>\n",
       "      <td>1.0</td>\n",
       "      <td>2.500000</td>\n",
       "    </tr>\n",
       "  </tbody>\n",
       "</table>\n",
       "<p>1000 rows × 3 columns</p>\n",
       "</div>"
      ],
      "text/plain": [
       "                                                    title  cnt_reviews  \\\n",
       "0    The Cat in the Hat and Other Dr. Seuss Favorites     NaN            \n",
       "1    Disney's Beauty and the Beast (A Little Golden Book) NaN            \n",
       "2    Leonardo's Notebooks                                 NaN            \n",
       "3    Essential Tales and Poems                            NaN            \n",
       "4    Anne Rice's The Vampire Lestat: A Graphic Novel      NaN            \n",
       "..                                               ...       ..            \n",
       "995  Moo  Baa  La La La!                                   1.0           \n",
       "996  Death: The High Cost of Living                        1.0           \n",
       "997  History of Beauty                                     1.0           \n",
       "998  Tsubasa: RESERVoir CHRoNiCLE  Vol. 1                  1.0           \n",
       "999  1 000 Places to See Before You Die                    1.0           \n",
       "\n",
       "     avg_rating  \n",
       "0    5.000000    \n",
       "1    4.000000    \n",
       "2    4.000000    \n",
       "3    4.000000    \n",
       "4    3.666667    \n",
       "..        ...    \n",
       "995  3.000000    \n",
       "996  3.000000    \n",
       "997  2.500000    \n",
       "998  2.500000    \n",
       "999  2.500000    \n",
       "\n",
       "[1000 rows x 3 columns]"
      ]
     },
     "execution_count": 24,
     "metadata": {},
     "output_type": "execute_result"
    }
   ],
   "source": [
    "count_reviews_and_avg_rating = \"\"\"\n",
    "SELECT \n",
    "    books.title,\n",
    "    sub_cnt.cnt_reviews,\n",
    "    sub_avg.avg_rating\n",
    "        \n",
    "FROM \n",
    "    books LEFT JOIN (\n",
    "    SELECT \n",
    "        book_id, \n",
    "        AVG(rating) AS avg_rating\n",
    "    FROM \n",
    "        ratings\n",
    "    GROUP BY\n",
    "        book_id) AS sub_avg ON sub_avg.book_id = books.book_id\n",
    "    LEFT JOIN\n",
    "    (SELECT\n",
    "        book_id,\n",
    "        COUNT(review_id) AS cnt_reviews\n",
    "     FROM\n",
    "         reviews\n",
    "     GROUP BY\n",
    "         book_id\n",
    "          ) AS sub_cnt on sub_cnt.book_id = books.book_id\n",
    "\n",
    "ORDER bY\n",
    "    cnt_reviews  DESC, avg_rating DESC; \n",
    "\"\"\" \n",
    "                \n",
    "run_sql(count_reviews_and_avg_rating)"
   ]
  },
  {
   "cell_type": "markdown",
   "metadata": {},
   "source": [
    "### 2.3 Определить издательство, которое выпустило наибольшее число книг толще 50 страниц — таким образом исключим из анализа брошюры;"
   ]
  },
  {
   "cell_type": "markdown",
   "metadata": {},
   "source": [
    "Поссмотрим на топ-5 издадельств, выпустивших книги толще 50 страниц:"
   ]
  },
  {
   "cell_type": "code",
   "execution_count": 25,
   "metadata": {},
   "outputs": [
    {
     "data": {
      "text/html": [
       "<div>\n",
       "<style scoped>\n",
       "    .dataframe tbody tr th:only-of-type {\n",
       "        vertical-align: middle;\n",
       "    }\n",
       "\n",
       "    .dataframe tbody tr th {\n",
       "        vertical-align: top;\n",
       "    }\n",
       "\n",
       "    .dataframe thead th {\n",
       "        text-align: right;\n",
       "    }\n",
       "</style>\n",
       "<table border=\"1\" class=\"dataframe\">\n",
       "  <thead>\n",
       "    <tr style=\"text-align: right;\">\n",
       "      <th></th>\n",
       "      <th>publisher</th>\n",
       "      <th>books_cnt</th>\n",
       "    </tr>\n",
       "  </thead>\n",
       "  <tbody>\n",
       "    <tr>\n",
       "      <td>0</td>\n",
       "      <td>Penguin Books</td>\n",
       "      <td>42</td>\n",
       "    </tr>\n",
       "    <tr>\n",
       "      <td>1</td>\n",
       "      <td>Vintage</td>\n",
       "      <td>31</td>\n",
       "    </tr>\n",
       "    <tr>\n",
       "      <td>2</td>\n",
       "      <td>Grand Central Publishing</td>\n",
       "      <td>25</td>\n",
       "    </tr>\n",
       "    <tr>\n",
       "      <td>3</td>\n",
       "      <td>Penguin Classics</td>\n",
       "      <td>24</td>\n",
       "    </tr>\n",
       "    <tr>\n",
       "      <td>4</td>\n",
       "      <td>Bantam</td>\n",
       "      <td>19</td>\n",
       "    </tr>\n",
       "  </tbody>\n",
       "</table>\n",
       "</div>"
      ],
      "text/plain": [
       "                  publisher  books_cnt\n",
       "0  Penguin Books             42       \n",
       "1  Vintage                   31       \n",
       "2  Grand Central Publishing  25       \n",
       "3  Penguin Classics          24       \n",
       "4  Bantam                    19       "
      ]
     },
     "execution_count": 25,
     "metadata": {},
     "output_type": "execute_result"
    }
   ],
   "source": [
    "top_publishers = '''\n",
    "SELECT\n",
    "    publisher,\n",
    "    COUNT(Sub_book.book_id) AS books_cnt\n",
    "FROM\n",
    "    publishers  LEFT JOIN \n",
    "    (SELECT *\n",
    "     FROM\n",
    "        books \n",
    "     WHERE\n",
    "        num_pages > 50) AS Sub_book\n",
    "        ON Sub_book.publisher_id = publishers.publisher_id\n",
    "GROUP BY\n",
    "    publisher\n",
    "ORDER BY\n",
    "    books_cnt DESC\n",
    "LIMIT 5;\n",
    "'''\n",
    "run_sql(top_publishers)"
   ]
  },
  {
   "cell_type": "markdown",
   "metadata": {},
   "source": [
    "Первое место у Penguin Books  - 42 книги. Следом идет издательство Vintage - 31 книга. Замыкает тройку -  Grand Central Publishing с количеством 25 книг. 4 место у Penguin Classics - 24 книги и замыкает топ-5 издательство Bantam\tс 19 книгами."
   ]
  },
  {
   "cell_type": "markdown",
   "metadata": {},
   "source": [
    "### 2.4 Определить автора с самой высокой средней оценкой книг — учитывать только книги с 50 и более оценками;"
   ]
  },
  {
   "cell_type": "markdown",
   "metadata": {},
   "source": [
    "Найдем топ-5 авторов с самой высокой оценкой книг:"
   ]
  },
  {
   "cell_type": "code",
   "execution_count": 26,
   "metadata": {},
   "outputs": [
    {
     "data": {
      "text/html": [
       "<div>\n",
       "<style scoped>\n",
       "    .dataframe tbody tr th:only-of-type {\n",
       "        vertical-align: middle;\n",
       "    }\n",
       "\n",
       "    .dataframe tbody tr th {\n",
       "        vertical-align: top;\n",
       "    }\n",
       "\n",
       "    .dataframe thead th {\n",
       "        text-align: right;\n",
       "    }\n",
       "</style>\n",
       "<table border=\"1\" class=\"dataframe\">\n",
       "  <thead>\n",
       "    <tr style=\"text-align: right;\">\n",
       "      <th></th>\n",
       "      <th>author</th>\n",
       "      <th>avg_avg_rating</th>\n",
       "    </tr>\n",
       "  </thead>\n",
       "  <tbody>\n",
       "    <tr>\n",
       "      <td>0</td>\n",
       "      <td>J.K. Rowling/Mary GrandPré</td>\n",
       "      <td>4.283844</td>\n",
       "    </tr>\n",
       "    <tr>\n",
       "      <td>1</td>\n",
       "      <td>Markus Zusak/Cao Xuân Việt Khương</td>\n",
       "      <td>4.264151</td>\n",
       "    </tr>\n",
       "    <tr>\n",
       "      <td>2</td>\n",
       "      <td>J.R.R. Tolkien</td>\n",
       "      <td>4.258446</td>\n",
       "    </tr>\n",
       "    <tr>\n",
       "      <td>3</td>\n",
       "      <td>Louisa May Alcott</td>\n",
       "      <td>4.192308</td>\n",
       "    </tr>\n",
       "    <tr>\n",
       "      <td>4</td>\n",
       "      <td>Rick Riordan</td>\n",
       "      <td>4.080645</td>\n",
       "    </tr>\n",
       "  </tbody>\n",
       "</table>\n",
       "</div>"
      ],
      "text/plain": [
       "                              author  avg_avg_rating\n",
       "0  J.K. Rowling/Mary GrandPré         4.283844      \n",
       "1  Markus Zusak/Cao Xuân Việt Khương  4.264151      \n",
       "2  J.R.R. Tolkien                     4.258446      \n",
       "3  Louisa May Alcott                  4.192308      \n",
       "4  Rick Riordan                       4.080645      "
      ]
     },
     "execution_count": 26,
     "metadata": {},
     "output_type": "execute_result"
    }
   ],
   "source": [
    "top_autors = \"\"\"\n",
    "SELECT \n",
    "    aut_avg.author,\n",
    "    AVG(aut_avg.avg_rating) AS avg_avg_rating\n",
    "FROM\n",
    "    (SELECT \n",
    "        authors.author AS author,\n",
    "        AVG(ratings.rating) AS avg_rating\n",
    "    FROM \n",
    "        books LEFT JOIN \n",
    "        authors ON books.author_id = authors.author_id\n",
    "            LEFT JOIN \n",
    "        ratings ON books.book_id = ratings.book_id\n",
    "    GROUP BY \n",
    "        books.book_id,\n",
    "        authors.author_id\n",
    "    HAVING\n",
    "        COUNT(ratings.rating_id) >=50 ) AS aut_avg \n",
    "GROUP BY    \n",
    "    aut_avg.author\n",
    "ORDER BY\n",
    "    avg_avg_rating DESC\n",
    "LIMIT 5\n",
    "    \n",
    "; \"\"\"\n",
    "run_sql(top_autors)"
   ]
  },
  {
   "cell_type": "markdown",
   "metadata": {},
   "source": [
    "Автор с самой высокой оценкой - J.K. Rowling/Mary GrandPré со средней оценкой 4.28. На втором месте - Markus Zusak/Cao Xuân Việt Khương со средней оценкой 4.26, замыкает тройку J.R.R. Tolkien\t - 4.26. 4 место у Louisa May Alcott со средней оценкой 4.19, замыкает топ-5 Rick Riordan со средней оценкой 4.08."
   ]
  },
  {
   "cell_type": "markdown",
   "metadata": {},
   "source": [
    "### 2.5 Посчитать среднее количество обзоров от пользователей, которые поставили больше 50 оценок."
   ]
  },
  {
   "cell_type": "markdown",
   "metadata": {},
   "source": [
    "Посмотрим среднее количество обзоров от активных пользователей:"
   ]
  },
  {
   "cell_type": "code",
   "execution_count": 27,
   "metadata": {},
   "outputs": [
    {
     "data": {
      "text/html": [
       "<div>\n",
       "<style scoped>\n",
       "    .dataframe tbody tr th:only-of-type {\n",
       "        vertical-align: middle;\n",
       "    }\n",
       "\n",
       "    .dataframe tbody tr th {\n",
       "        vertical-align: top;\n",
       "    }\n",
       "\n",
       "    .dataframe thead th {\n",
       "        text-align: right;\n",
       "    }\n",
       "</style>\n",
       "<table border=\"1\" class=\"dataframe\">\n",
       "  <thead>\n",
       "    <tr style=\"text-align: right;\">\n",
       "      <th></th>\n",
       "      <th>avg</th>\n",
       "    </tr>\n",
       "  </thead>\n",
       "  <tbody>\n",
       "    <tr>\n",
       "      <td>0</td>\n",
       "      <td>24.333333</td>\n",
       "    </tr>\n",
       "  </tbody>\n",
       "</table>\n",
       "</div>"
      ],
      "text/plain": [
       "         avg\n",
       "0  24.333333"
      ]
     },
     "execution_count": 27,
     "metadata": {},
     "output_type": "execute_result"
    }
   ],
   "source": [
    "mean__count_reviews = '''\n",
    "SELECT\n",
    "    AVG(sub.count)\n",
    "FROM\n",
    "    (SELECT \n",
    "        COUNT(*)\n",
    "    FROM \n",
    "        reviews\n",
    "    WHERE \n",
    "        username IN\n",
    "    (SELECT \n",
    "        username\n",
    "    FROM \n",
    "        ratings\n",
    "    GROUP BY \n",
    "        username\n",
    "    HAVING \n",
    "        COUNT(rating) > 50)\n",
    "    GROUP BY \n",
    "        username)\n",
    "    AS sub;\n",
    "'''\n",
    "run_sql(mean__count_reviews)        "
   ]
  },
  {
   "cell_type": "markdown",
   "metadata": {},
   "source": [
    "Таким образом среднее количество обзоров от активных пользователей - 24 обзора. "
   ]
  },
  {
   "cell_type": "markdown",
   "metadata": {},
   "source": [
    "## Этап 3. Общий вывод"
   ]
  },
  {
   "cell_type": "markdown",
   "metadata": {},
   "source": [
    "В нашем распоряжении было 5 таблиц:\n",
    "* books - содержит 1000 строк и 6 столбцов, содержит данные о книгах;\n",
    "* authors - содержит 636 строк и 2 столбца, содержит данные об авторах;\n",
    "* publishers - содержит 340 строк, 2 столбца, содержит данные об издательствах;\n",
    "* rating - содержит 6456 строк, 4 столбца, содержит данные о пользовательских обзорах;\n",
    "* reviews - содержит 2793 строки, 4 столбца, содержит данные о пользовательских обзорах.\n",
    "\n",
    "В ходе работы были даны ответы на 5 поставленных вопрос:\n",
    "* Cколько книг вышло после 1 января 2000 года? с 1 января 2000 года, в базе хранится информация о 821-ой книге.\n",
    "* Для каждой книги посчитать количество обзоров и среднюю оценку. Расчет был произведен, топ-3 книги :\n",
    "    * Twilight (Сумерки) с количеством\t7 отзывом и с со средним рейтингом - 3.662500;\n",
    "    * Harry Potter and the Prisoner of Azkaban (Гарри Поттер и узник Азкабана) с количеством обзоров -6 и со средним рейтингом - 4.414634;\n",
    "    * Harry Potter and the Chamber of Secrets (Гарри Поттер и тайная комната) с количеством обзоров -6 и со средним рейтингом 4.287500.\n",
    "* Определить издательство, которое выпустило наибольшее число книг толще 50 страниц — таким образом исключим из анализа брошюры.Определели топ -5:\n",
    "    *  Penguin Books - 42 книги;\n",
    "    *  Vintage - 31 книга;\n",
    "    *  Grand Central Publishing - 25 книг;\n",
    "    *  Penguin Classics - 24 книги;\n",
    "    *  Bantam - 19 книг.\n",
    "* Определить автора с самой высокой средней оценкой книг — учитывать только книги с 50 и более оценками. Определи топ-5:\n",
    "    * J.K. Rowling/Mary GrandPré со средней оценкой 4.28;\n",
    "    * Markus Zusak/Cao Xuân Việt Khương со средней оценкой 4.26;\n",
    "    * J.R.R. Tolkien -со средней оценкой  4.26;\n",
    "    * Louisa May Alcott со средней оценкой 4.19;\n",
    "    * Rick Riordan со средней оценкой 4.08.\n",
    "* Посчитать среднее количество обзоров от пользователей, которые поставили больше 50 оценок.Таким образом среднее количество обзоров от активных пользователей. При подсчете было выявлено - 24 обзора.\n",
    "    "
   ]
  }
 ],
 "metadata": {
  "ExecuteTimeLog": [
   {
    "duration": 868,
    "start_time": "2022-02-21T09:45:47.651Z"
   },
   {
    "duration": 544,
    "start_time": "2022-02-21T10:30:03.329Z"
   },
   {
    "duration": 3,
    "start_time": "2022-02-21T10:32:48.390Z"
   },
   {
    "duration": 4,
    "start_time": "2022-02-21T10:38:55.743Z"
   },
   {
    "duration": 563,
    "start_time": "2022-02-21T10:39:01.793Z"
   },
   {
    "duration": 98,
    "start_time": "2022-02-21T10:39:22.609Z"
   },
   {
    "duration": 90,
    "start_time": "2022-02-21T10:40:25.109Z"
   },
   {
    "duration": 99,
    "start_time": "2022-02-21T10:40:51.176Z"
   },
   {
    "duration": 1716,
    "start_time": "2022-02-21T10:40:56.347Z"
   },
   {
    "duration": 102,
    "start_time": "2022-02-21T11:38:41.133Z"
   },
   {
    "duration": 81,
    "start_time": "2022-02-21T11:41:23.680Z"
   },
   {
    "duration": 97,
    "start_time": "2022-02-21T11:41:51.993Z"
   },
   {
    "duration": 82,
    "start_time": "2022-02-21T11:42:07.145Z"
   },
   {
    "duration": 73,
    "start_time": "2022-02-21T11:42:33.882Z"
   },
   {
    "duration": 71,
    "start_time": "2022-02-21T11:43:48.288Z"
   },
   {
    "duration": 125,
    "start_time": "2022-02-21T11:44:03.566Z"
   },
   {
    "duration": 119,
    "start_time": "2022-02-21T11:47:41.772Z"
   },
   {
    "duration": 934,
    "start_time": "2022-02-21T14:05:47.187Z"
   },
   {
    "duration": 32,
    "start_time": "2022-02-21T14:05:48.124Z"
   },
   {
    "duration": 13,
    "start_time": "2022-02-21T14:05:48.159Z"
   },
   {
    "duration": 306,
    "start_time": "2022-02-21T14:05:48.175Z"
   },
   {
    "duration": 74,
    "start_time": "2022-02-21T14:05:48.483Z"
   },
   {
    "duration": 74,
    "start_time": "2022-02-21T14:05:48.559Z"
   },
   {
    "duration": 96,
    "start_time": "2022-02-21T14:05:48.635Z"
   },
   {
    "duration": 89,
    "start_time": "2022-02-21T14:05:48.733Z"
   },
   {
    "duration": 60,
    "start_time": "2022-02-21T15:47:03.886Z"
   },
   {
    "duration": 211,
    "start_time": "2022-02-21T15:47:15.185Z"
   },
   {
    "duration": 678,
    "start_time": "2022-02-21T15:47:24.022Z"
   },
   {
    "duration": 61,
    "start_time": "2022-02-21T15:47:24.702Z"
   },
   {
    "duration": 4,
    "start_time": "2022-02-21T15:47:24.765Z"
   },
   {
    "duration": 291,
    "start_time": "2022-02-21T15:47:24.772Z"
   },
   {
    "duration": 71,
    "start_time": "2022-02-21T15:47:25.065Z"
   },
   {
    "duration": 70,
    "start_time": "2022-02-21T15:47:25.139Z"
   },
   {
    "duration": 100,
    "start_time": "2022-02-21T15:47:25.212Z"
   },
   {
    "duration": 85,
    "start_time": "2022-02-21T15:47:25.315Z"
   },
   {
    "duration": 77,
    "start_time": "2022-02-21T15:47:25.402Z"
   },
   {
    "duration": 64,
    "start_time": "2022-02-21T15:48:47.512Z"
   },
   {
    "duration": 60,
    "start_time": "2022-02-21T15:56:20.979Z"
   },
   {
    "duration": 58,
    "start_time": "2022-02-21T15:56:39.809Z"
   },
   {
    "duration": 93,
    "start_time": "2022-02-21T15:56:48.051Z"
   },
   {
    "duration": 96,
    "start_time": "2022-02-21T15:58:37.687Z"
   },
   {
    "duration": 705,
    "start_time": "2022-02-22T07:13:06.685Z"
   },
   {
    "duration": 38,
    "start_time": "2022-02-22T07:13:07.392Z"
   },
   {
    "duration": 4,
    "start_time": "2022-02-22T07:13:07.432Z"
   },
   {
    "duration": 274,
    "start_time": "2022-02-22T07:13:07.439Z"
   },
   {
    "duration": 66,
    "start_time": "2022-02-22T07:13:07.715Z"
   },
   {
    "duration": 77,
    "start_time": "2022-02-22T07:13:07.782Z"
   },
   {
    "duration": 155,
    "start_time": "2022-02-22T07:13:07.862Z"
   },
   {
    "duration": 212,
    "start_time": "2022-02-22T07:13:08.021Z"
   },
   {
    "duration": 162,
    "start_time": "2022-02-22T07:13:08.236Z"
   },
   {
    "duration": 162,
    "start_time": "2022-02-22T07:13:08.401Z"
   },
   {
    "duration": 94,
    "start_time": "2022-02-22T07:13:31.224Z"
   },
   {
    "duration": 93,
    "start_time": "2022-02-22T11:53:21.164Z"
   },
   {
    "duration": 93,
    "start_time": "2022-02-22T11:54:49.582Z"
   },
   {
    "duration": 92,
    "start_time": "2022-02-22T11:56:20.912Z"
   },
   {
    "duration": 95,
    "start_time": "2022-02-22T11:57:04.061Z"
   },
   {
    "duration": 1417,
    "start_time": "2022-02-22T12:08:04.123Z"
   },
   {
    "duration": 86,
    "start_time": "2022-02-22T12:09:52.697Z"
   },
   {
    "duration": 87,
    "start_time": "2022-02-22T12:10:29.073Z"
   },
   {
    "duration": 89,
    "start_time": "2022-02-22T12:11:02.610Z"
   },
   {
    "duration": 664,
    "start_time": "2022-02-22T12:15:47.974Z"
   },
   {
    "duration": 578,
    "start_time": "2022-02-22T12:16:25.389Z"
   },
   {
    "duration": 628,
    "start_time": "2022-02-22T12:17:36.047Z"
   },
   {
    "duration": 538,
    "start_time": "2022-02-22T12:17:43.200Z"
   },
   {
    "duration": 90,
    "start_time": "2022-02-22T12:18:00.912Z"
   },
   {
    "duration": 857,
    "start_time": "2022-02-22T12:18:31.126Z"
   },
   {
    "duration": 92,
    "start_time": "2022-02-22T12:18:38.989Z"
   },
   {
    "duration": 92,
    "start_time": "2022-02-22T12:20:17.757Z"
   },
   {
    "duration": 93,
    "start_time": "2022-02-22T12:20:24.631Z"
   },
   {
    "duration": 94,
    "start_time": "2022-02-22T12:20:51.491Z"
   },
   {
    "duration": 726,
    "start_time": "2022-02-22T12:22:27.174Z"
   },
   {
    "duration": 70,
    "start_time": "2022-02-22T12:22:39.329Z"
   },
   {
    "duration": 92,
    "start_time": "2022-02-22T12:22:50.695Z"
   },
   {
    "duration": 92,
    "start_time": "2022-02-22T12:23:05.591Z"
   },
   {
    "duration": 92,
    "start_time": "2022-02-22T12:23:25.231Z"
   },
   {
    "duration": 94,
    "start_time": "2022-02-22T12:23:41.065Z"
   },
   {
    "duration": 4,
    "start_time": "2022-02-22T12:25:55.661Z"
   },
   {
    "duration": 86,
    "start_time": "2022-02-22T12:26:06.527Z"
   },
   {
    "duration": 94,
    "start_time": "2022-02-22T12:29:31.928Z"
   },
   {
    "duration": 93,
    "start_time": "2022-02-22T12:29:46.136Z"
   },
   {
    "duration": 577,
    "start_time": "2022-02-22T12:30:22.806Z"
   },
   {
    "duration": 635,
    "start_time": "2022-02-22T12:30:30.488Z"
   },
   {
    "duration": 756,
    "start_time": "2022-02-22T12:30:38.116Z"
   },
   {
    "duration": 640,
    "start_time": "2022-02-22T12:30:43.859Z"
   },
   {
    "duration": 595,
    "start_time": "2022-02-22T12:30:51.721Z"
   },
   {
    "duration": 566,
    "start_time": "2022-02-22T12:30:58.773Z"
   },
   {
    "duration": 744,
    "start_time": "2022-02-22T12:31:25.280Z"
   },
   {
    "duration": 675,
    "start_time": "2022-02-22T12:32:07.058Z"
   },
   {
    "duration": 573,
    "start_time": "2022-02-22T12:32:11.954Z"
   },
   {
    "duration": 679,
    "start_time": "2022-02-22T12:32:16.042Z"
   },
   {
    "duration": 92,
    "start_time": "2022-02-22T12:32:36.503Z"
   },
   {
    "duration": 553,
    "start_time": "2022-02-22T12:32:41.183Z"
   },
   {
    "duration": 93,
    "start_time": "2022-02-22T12:32:45.983Z"
   },
   {
    "duration": 92,
    "start_time": "2022-02-22T12:33:17.958Z"
   },
   {
    "duration": 701,
    "start_time": "2022-02-22T12:41:21.442Z"
   },
   {
    "duration": 29,
    "start_time": "2022-02-22T12:41:22.144Z"
   },
   {
    "duration": 3,
    "start_time": "2022-02-22T12:41:22.177Z"
   },
   {
    "duration": 267,
    "start_time": "2022-02-22T12:41:22.181Z"
   },
   {
    "duration": 72,
    "start_time": "2022-02-22T12:41:22.449Z"
   },
   {
    "duration": 69,
    "start_time": "2022-02-22T12:41:22.523Z"
   },
   {
    "duration": 89,
    "start_time": "2022-02-22T12:41:22.596Z"
   },
   {
    "duration": 82,
    "start_time": "2022-02-22T12:41:22.688Z"
   },
   {
    "duration": 64,
    "start_time": "2022-02-22T12:41:22.772Z"
   },
   {
    "duration": 74,
    "start_time": "2022-02-22T12:41:22.838Z"
   },
   {
    "duration": 67,
    "start_time": "2022-02-22T12:41:22.914Z"
   },
   {
    "duration": 11,
    "start_time": "2022-02-22T12:41:22.983Z"
   },
   {
    "duration": 352,
    "start_time": "2022-02-22T12:50:33.690Z"
   },
   {
    "duration": 68,
    "start_time": "2022-02-22T12:50:45.509Z"
   },
   {
    "duration": 706,
    "start_time": "2022-02-22T12:51:20.896Z"
   },
   {
    "duration": 33,
    "start_time": "2022-02-22T12:51:21.604Z"
   },
   {
    "duration": 3,
    "start_time": "2022-02-22T12:51:21.639Z"
   },
   {
    "duration": 277,
    "start_time": "2022-02-22T12:51:21.644Z"
   },
   {
    "duration": 75,
    "start_time": "2022-02-22T12:51:21.924Z"
   },
   {
    "duration": 76,
    "start_time": "2022-02-22T12:51:22.001Z"
   },
   {
    "duration": 98,
    "start_time": "2022-02-22T12:51:22.079Z"
   },
   {
    "duration": 88,
    "start_time": "2022-02-22T12:51:22.179Z"
   },
   {
    "duration": 74,
    "start_time": "2022-02-22T12:51:22.269Z"
   },
   {
    "duration": 84,
    "start_time": "2022-02-22T12:51:22.345Z"
   },
   {
    "duration": 72,
    "start_time": "2022-02-22T12:51:22.430Z"
   },
   {
    "duration": 650,
    "start_time": "2022-02-22T12:53:34.154Z"
   },
   {
    "duration": 28,
    "start_time": "2022-02-22T12:53:34.807Z"
   },
   {
    "duration": 2,
    "start_time": "2022-02-22T12:53:34.838Z"
   },
   {
    "duration": 270,
    "start_time": "2022-02-22T12:53:34.842Z"
   },
   {
    "duration": 69,
    "start_time": "2022-02-22T12:53:35.115Z"
   },
   {
    "duration": 76,
    "start_time": "2022-02-22T12:53:35.186Z"
   },
   {
    "duration": 100,
    "start_time": "2022-02-22T12:53:35.264Z"
   },
   {
    "duration": 85,
    "start_time": "2022-02-22T12:53:35.366Z"
   },
   {
    "duration": 65,
    "start_time": "2022-02-22T12:53:35.453Z"
   },
   {
    "duration": 76,
    "start_time": "2022-02-22T12:53:35.520Z"
   },
   {
    "duration": 70,
    "start_time": "2022-02-22T12:53:35.598Z"
   },
   {
    "duration": 639,
    "start_time": "2022-02-22T12:58:33.938Z"
   },
   {
    "duration": 745,
    "start_time": "2022-02-22T13:00:32.926Z"
   },
   {
    "duration": 578,
    "start_time": "2022-02-22T13:01:21.145Z"
   },
   {
    "duration": 562,
    "start_time": "2022-02-22T13:02:07.721Z"
   },
   {
    "duration": 589,
    "start_time": "2022-02-22T13:06:15.933Z"
   },
   {
    "duration": 65,
    "start_time": "2022-02-22T13:06:47.248Z"
   },
   {
    "duration": 64,
    "start_time": "2022-02-22T13:07:08.686Z"
   },
   {
    "duration": 71,
    "start_time": "2022-02-22T13:18:08.103Z"
   },
   {
    "duration": 71,
    "start_time": "2022-02-22T13:44:33.546Z"
   },
   {
    "duration": 847,
    "start_time": "2022-02-22T15:35:49.022Z"
   },
   {
    "duration": 29,
    "start_time": "2022-02-22T15:35:49.872Z"
   },
   {
    "duration": 3,
    "start_time": "2022-02-22T15:35:49.903Z"
   },
   {
    "duration": 305,
    "start_time": "2022-02-22T15:35:49.908Z"
   },
   {
    "duration": 72,
    "start_time": "2022-02-22T15:35:50.215Z"
   },
   {
    "duration": 73,
    "start_time": "2022-02-22T15:35:50.288Z"
   },
   {
    "duration": 104,
    "start_time": "2022-02-22T15:35:50.363Z"
   },
   {
    "duration": 87,
    "start_time": "2022-02-22T15:35:50.469Z"
   },
   {
    "duration": 69,
    "start_time": "2022-02-22T15:35:50.558Z"
   },
   {
    "duration": 79,
    "start_time": "2022-02-22T15:35:50.628Z"
   },
   {
    "duration": 73,
    "start_time": "2022-02-22T15:35:50.708Z"
   },
   {
    "duration": 79,
    "start_time": "2022-02-22T15:35:50.783Z"
   },
   {
    "duration": 73,
    "start_time": "2022-02-22T15:35:50.864Z"
   },
   {
    "duration": 60,
    "start_time": "2022-02-22T15:38:12.588Z"
   },
   {
    "duration": 239,
    "start_time": "2022-02-22T16:00:22.270Z"
   },
   {
    "duration": 684,
    "start_time": "2022-02-22T16:00:28.001Z"
   },
   {
    "duration": 31,
    "start_time": "2022-02-22T16:00:28.687Z"
   },
   {
    "duration": 10,
    "start_time": "2022-02-22T16:00:28.721Z"
   },
   {
    "duration": 252,
    "start_time": "2022-02-22T16:00:28.733Z"
   },
   {
    "duration": 70,
    "start_time": "2022-02-22T16:00:28.987Z"
   },
   {
    "duration": 68,
    "start_time": "2022-02-22T16:00:29.059Z"
   },
   {
    "duration": 61,
    "start_time": "2022-02-22T16:00:29.129Z"
   },
   {
    "duration": 88,
    "start_time": "2022-02-22T16:00:29.193Z"
   },
   {
    "duration": 71,
    "start_time": "2022-02-22T16:00:29.283Z"
   },
   {
    "duration": 58,
    "start_time": "2022-02-22T16:00:29.356Z"
   },
   {
    "duration": 70,
    "start_time": "2022-02-22T16:00:29.416Z"
   },
   {
    "duration": 59,
    "start_time": "2022-02-22T16:00:29.488Z"
   },
   {
    "duration": 63,
    "start_time": "2022-02-22T16:00:29.549Z"
   },
   {
    "duration": 61,
    "start_time": "2022-02-22T16:00:29.613Z"
   },
   {
    "duration": 76,
    "start_time": "2022-02-22T16:01:46.790Z"
   },
   {
    "duration": 77,
    "start_time": "2022-02-22T16:02:30.190Z"
   },
   {
    "duration": 68,
    "start_time": "2022-02-22T16:04:40.310Z"
   },
   {
    "duration": 67,
    "start_time": "2022-02-22T16:05:16.563Z"
   },
   {
    "duration": 76,
    "start_time": "2022-02-22T16:05:53.602Z"
   },
   {
    "duration": 76,
    "start_time": "2022-02-22T16:05:59.300Z"
   },
   {
    "duration": 78,
    "start_time": "2022-02-22T16:06:04.124Z"
   },
   {
    "duration": 133,
    "start_time": "2022-02-22T16:06:14.516Z"
   },
   {
    "duration": 81,
    "start_time": "2022-02-22T16:06:46.808Z"
   },
   {
    "duration": 77,
    "start_time": "2022-02-22T16:07:41.629Z"
   },
   {
    "duration": 266,
    "start_time": "2022-02-22T16:08:24.420Z"
   },
   {
    "duration": 75,
    "start_time": "2022-02-22T16:08:39.220Z"
   },
   {
    "duration": 134,
    "start_time": "2022-02-22T16:09:52.851Z"
   },
   {
    "duration": 67,
    "start_time": "2022-02-22T16:11:22.467Z"
   },
   {
    "duration": 67,
    "start_time": "2022-02-22T16:11:31.402Z"
   },
   {
    "duration": 58,
    "start_time": "2022-02-22T16:12:13.560Z"
   },
   {
    "duration": 58,
    "start_time": "2022-02-22T16:13:02.190Z"
   },
   {
    "duration": 57,
    "start_time": "2022-02-22T16:13:12.079Z"
   },
   {
    "duration": 156,
    "start_time": "2022-02-22T16:13:41.519Z"
   },
   {
    "duration": 107,
    "start_time": "2022-02-22T16:14:46.923Z"
   },
   {
    "duration": 100,
    "start_time": "2022-02-22T16:14:59.860Z"
   },
   {
    "duration": 101,
    "start_time": "2022-02-22T16:15:25.654Z"
   },
   {
    "duration": 177,
    "start_time": "2022-02-22T16:16:50.707Z"
   },
   {
    "duration": 101,
    "start_time": "2022-02-22T16:18:32.929Z"
   },
   {
    "duration": 95,
    "start_time": "2022-02-22T16:19:57.696Z"
   },
   {
    "duration": 88,
    "start_time": "2022-02-22T16:34:08.046Z"
   },
   {
    "duration": 92,
    "start_time": "2022-02-22T16:35:08.558Z"
   },
   {
    "duration": 89,
    "start_time": "2022-02-22T16:35:26.533Z"
   },
   {
    "duration": 88,
    "start_time": "2022-02-22T16:35:47.648Z"
   },
   {
    "duration": 86,
    "start_time": "2022-02-22T16:35:57.614Z"
   },
   {
    "duration": 85,
    "start_time": "2022-02-22T16:36:03.529Z"
   },
   {
    "duration": 734,
    "start_time": "2022-02-22T16:37:17.281Z"
   },
   {
    "duration": 429,
    "start_time": "2022-02-22T16:37:25.834Z"
   },
   {
    "duration": 516,
    "start_time": "2022-02-22T16:37:35.273Z"
   },
   {
    "duration": 83,
    "start_time": "2022-02-22T16:37:46.383Z"
   },
   {
    "duration": 399,
    "start_time": "2022-02-22T16:38:26.844Z"
   },
   {
    "duration": 89,
    "start_time": "2022-02-22T16:39:08.876Z"
   },
   {
    "duration": 92,
    "start_time": "2022-02-22T16:39:23.403Z"
   },
   {
    "duration": 87,
    "start_time": "2022-02-22T16:39:29.372Z"
   },
   {
    "duration": 96,
    "start_time": "2022-02-22T16:39:42.246Z"
   },
   {
    "duration": 618,
    "start_time": "2022-02-22T16:42:51.747Z"
   },
   {
    "duration": 27,
    "start_time": "2022-02-22T16:42:52.368Z"
   },
   {
    "duration": 3,
    "start_time": "2022-02-22T16:42:52.396Z"
   },
   {
    "duration": 259,
    "start_time": "2022-02-22T16:42:52.401Z"
   },
   {
    "duration": 63,
    "start_time": "2022-02-22T16:42:52.662Z"
   },
   {
    "duration": 64,
    "start_time": "2022-02-22T16:42:52.727Z"
   },
   {
    "duration": 58,
    "start_time": "2022-02-22T16:42:52.793Z"
   },
   {
    "duration": 116,
    "start_time": "2022-02-22T16:42:52.854Z"
   },
   {
    "duration": 69,
    "start_time": "2022-02-22T16:42:52.972Z"
   },
   {
    "duration": 60,
    "start_time": "2022-02-22T16:42:53.043Z"
   },
   {
    "duration": 63,
    "start_time": "2022-02-22T16:42:53.104Z"
   },
   {
    "duration": 57,
    "start_time": "2022-02-22T16:42:53.169Z"
   },
   {
    "duration": 59,
    "start_time": "2022-02-22T16:42:53.230Z"
   },
   {
    "duration": 59,
    "start_time": "2022-02-22T16:42:53.291Z"
   },
   {
    "duration": 55,
    "start_time": "2022-02-22T16:42:53.352Z"
   },
   {
    "duration": 81,
    "start_time": "2022-02-22T16:42:53.409Z"
   },
   {
    "duration": 68,
    "start_time": "2022-02-22T16:42:53.491Z"
   },
   {
    "duration": 112,
    "start_time": "2022-02-22T16:42:53.560Z"
   },
   {
    "duration": 79,
    "start_time": "2022-02-22T16:42:53.674Z"
   },
   {
    "duration": 63,
    "start_time": "2022-02-22T16:42:53.755Z"
   },
   {
    "duration": 63,
    "start_time": "2022-02-22T16:42:53.824Z"
   },
   {
    "duration": 63,
    "start_time": "2022-02-22T16:42:53.889Z"
   },
   {
    "duration": 70,
    "start_time": "2022-02-22T16:42:53.954Z"
   },
   {
    "duration": 69,
    "start_time": "2022-02-22T16:42:54.026Z"
   },
   {
    "duration": 68,
    "start_time": "2022-02-22T16:42:54.096Z"
   },
   {
    "duration": 64,
    "start_time": "2022-02-22T16:42:54.167Z"
   },
   {
    "duration": 59,
    "start_time": "2022-02-22T16:42:54.233Z"
   }
  ],
  "kernelspec": {
   "display_name": "Python 3 (ipykernel)",
   "language": "python",
   "name": "python3"
  },
  "language_info": {
   "codemirror_mode": {
    "name": "ipython",
    "version": 3
   },
   "file_extension": ".py",
   "mimetype": "text/x-python",
   "name": "python",
   "nbconvert_exporter": "python",
   "pygments_lexer": "ipython3",
   "version": "3.9.12"
  },
  "toc": {
   "base_numbering": 1,
   "nav_menu": {},
   "number_sections": true,
   "sideBar": true,
   "skip_h1_title": true,
   "title_cell": "Содержание",
   "title_sidebar": "Contents",
   "toc_cell": true,
   "toc_position": {
    "height": "calc(100% - 180px)",
    "left": "10px",
    "top": "150px",
    "width": "286.875px"
   },
   "toc_section_display": true,
   "toc_window_display": false
  }
 },
 "nbformat": 4,
 "nbformat_minor": 2
}

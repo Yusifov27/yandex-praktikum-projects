{
 "cells": [
  {
   "cell_type": "markdown",
   "metadata": {
    "colab_type": "text",
    "deletable": false,
    "editable": false,
    "id": "5UYxO1GdF6Wy",
    "tags": [
     "f6c88c58-a82b-4f28-8bd6-fd55c0017917"
    ]
   },
   "source": [
    "# Этап 1. Получение данных"
   ]
  },
  {
   "cell_type": "markdown",
   "metadata": {
    "colab_type": "text",
    "deletable": false,
    "id": "iI4ITclJaFWh"
   },
   "source": [
    "Изучим данные, предоставленные сервисом для проекта."
   ]
  },
  {
   "cell_type": "markdown",
   "metadata": {
    "colab_type": "text",
    "deletable": false,
    "id": "0skiEFxDZ0Tr"
   },
   "source": [
    "## Импорт библиотек"
   ]
  },
  {
   "cell_type": "code",
   "execution_count": 1,
   "metadata": {
    "colab": {},
    "colab_type": "code",
    "deletable": false,
    "id": "HirRov5vZ3MT"
   },
   "outputs": [],
   "source": [
    "import pandas as pd # <импорт библиотеки pandas>"
   ]
  },
  {
   "cell_type": "markdown",
   "metadata": {
    "colab_type": "text",
    "deletable": false,
    "id": "Tr8dl3PWGFIk"
   },
   "source": [
    "Прочитаем файл *music_project.csv* и сохраним его в переменной *df*. "
   ]
  },
  {
   "cell_type": "code",
   "execution_count": 2,
   "metadata": {
    "colab": {},
    "colab_type": "code",
    "deletable": false,
    "id": "NB6j931yS4hy"
   },
   "outputs": [],
   "source": [
    "df = pd.read_csv('/datasets/music_project.csv') # <чтение файла с данными с сохранением в df>"
   ]
  },
  {
   "cell_type": "markdown",
   "metadata": {
    "colab_type": "text",
    "deletable": false,
    "editable": false,
    "id": "y2usmNMlDLbY",
    "tags": [
     "f3a2f13f-d110-4558-a520-4805b5bd1dfe"
    ]
   },
   "source": [
    "Получение первых 10 строк таблицы."
   ]
  },
  {
   "cell_type": "code",
   "execution_count": 3,
   "metadata": {
    "colab": {},
    "colab_type": "code",
    "deletable": false,
    "id": "DY5i8tgXVDGj"
   },
   "outputs": [
    {
     "data": {
      "text/html": [
       "<div>\n",
       "<style scoped>\n",
       "    .dataframe tbody tr th:only-of-type {\n",
       "        vertical-align: middle;\n",
       "    }\n",
       "\n",
       "    .dataframe tbody tr th {\n",
       "        vertical-align: top;\n",
       "    }\n",
       "\n",
       "    .dataframe thead th {\n",
       "        text-align: right;\n",
       "    }\n",
       "</style>\n",
       "<table border=\"1\" class=\"dataframe\">\n",
       "  <thead>\n",
       "    <tr style=\"text-align: right;\">\n",
       "      <th></th>\n",
       "      <th>userID</th>\n",
       "      <th>Track</th>\n",
       "      <th>artist</th>\n",
       "      <th>genre</th>\n",
       "      <th>City</th>\n",
       "      <th>time</th>\n",
       "      <th>Day</th>\n",
       "    </tr>\n",
       "  </thead>\n",
       "  <tbody>\n",
       "    <tr>\n",
       "      <td>0</td>\n",
       "      <td>FFB692EC</td>\n",
       "      <td>Kamigata To Boots</td>\n",
       "      <td>The Mass Missile</td>\n",
       "      <td>rock</td>\n",
       "      <td>Saint-Petersburg</td>\n",
       "      <td>20:28:33</td>\n",
       "      <td>Wednesday</td>\n",
       "    </tr>\n",
       "    <tr>\n",
       "      <td>1</td>\n",
       "      <td>55204538</td>\n",
       "      <td>Delayed Because of Accident</td>\n",
       "      <td>Andreas Rönnberg</td>\n",
       "      <td>rock</td>\n",
       "      <td>Moscow</td>\n",
       "      <td>14:07:09</td>\n",
       "      <td>Friday</td>\n",
       "    </tr>\n",
       "    <tr>\n",
       "      <td>2</td>\n",
       "      <td>20EC38</td>\n",
       "      <td>Funiculì funiculà</td>\n",
       "      <td>Mario Lanza</td>\n",
       "      <td>pop</td>\n",
       "      <td>Saint-Petersburg</td>\n",
       "      <td>20:58:07</td>\n",
       "      <td>Wednesday</td>\n",
       "    </tr>\n",
       "    <tr>\n",
       "      <td>3</td>\n",
       "      <td>A3DD03C9</td>\n",
       "      <td>Dragons in the Sunset</td>\n",
       "      <td>Fire + Ice</td>\n",
       "      <td>folk</td>\n",
       "      <td>Saint-Petersburg</td>\n",
       "      <td>08:37:09</td>\n",
       "      <td>Monday</td>\n",
       "    </tr>\n",
       "    <tr>\n",
       "      <td>4</td>\n",
       "      <td>E2DC1FAE</td>\n",
       "      <td>Soul People</td>\n",
       "      <td>Space Echo</td>\n",
       "      <td>dance</td>\n",
       "      <td>Moscow</td>\n",
       "      <td>08:34:34</td>\n",
       "      <td>Monday</td>\n",
       "    </tr>\n",
       "    <tr>\n",
       "      <td>5</td>\n",
       "      <td>842029A1</td>\n",
       "      <td>Преданная</td>\n",
       "      <td>IMPERVTOR</td>\n",
       "      <td>rusrap</td>\n",
       "      <td>Saint-Petersburg</td>\n",
       "      <td>13:09:41</td>\n",
       "      <td>Friday</td>\n",
       "    </tr>\n",
       "    <tr>\n",
       "      <td>6</td>\n",
       "      <td>4CB90AA5</td>\n",
       "      <td>True</td>\n",
       "      <td>Roman Messer</td>\n",
       "      <td>dance</td>\n",
       "      <td>Moscow</td>\n",
       "      <td>13:00:07</td>\n",
       "      <td>Wednesday</td>\n",
       "    </tr>\n",
       "    <tr>\n",
       "      <td>7</td>\n",
       "      <td>F03E1C1F</td>\n",
       "      <td>Feeling This Way</td>\n",
       "      <td>Polina Griffith</td>\n",
       "      <td>dance</td>\n",
       "      <td>Moscow</td>\n",
       "      <td>20:47:49</td>\n",
       "      <td>Wednesday</td>\n",
       "    </tr>\n",
       "    <tr>\n",
       "      <td>8</td>\n",
       "      <td>8FA1D3BE</td>\n",
       "      <td>И вновь продолжается бой</td>\n",
       "      <td>NaN</td>\n",
       "      <td>ruspop</td>\n",
       "      <td>Moscow</td>\n",
       "      <td>09:17:40</td>\n",
       "      <td>Friday</td>\n",
       "    </tr>\n",
       "    <tr>\n",
       "      <td>9</td>\n",
       "      <td>E772D5C0</td>\n",
       "      <td>Pessimist</td>\n",
       "      <td>NaN</td>\n",
       "      <td>dance</td>\n",
       "      <td>Saint-Petersburg</td>\n",
       "      <td>21:20:49</td>\n",
       "      <td>Wednesday</td>\n",
       "    </tr>\n",
       "  </tbody>\n",
       "</table>\n",
       "</div>"
      ],
      "text/plain": [
       "     userID                        Track            artist   genre  \\\n",
       "0  FFB692EC            Kamigata To Boots  The Mass Missile    rock   \n",
       "1  55204538  Delayed Because of Accident  Andreas Rönnberg    rock   \n",
       "2    20EC38            Funiculì funiculà       Mario Lanza     pop   \n",
       "3  A3DD03C9        Dragons in the Sunset        Fire + Ice    folk   \n",
       "4  E2DC1FAE                  Soul People        Space Echo   dance   \n",
       "5  842029A1                    Преданная         IMPERVTOR  rusrap   \n",
       "6  4CB90AA5                         True      Roman Messer   dance   \n",
       "7  F03E1C1F             Feeling This Way   Polina Griffith   dance   \n",
       "8  8FA1D3BE     И вновь продолжается бой               NaN  ruspop   \n",
       "9  E772D5C0                    Pessimist               NaN   dance   \n",
       "\n",
       "             City        time        Day  \n",
       "0  Saint-Petersburg  20:28:33  Wednesday  \n",
       "1            Moscow  14:07:09     Friday  \n",
       "2  Saint-Petersburg  20:58:07  Wednesday  \n",
       "3  Saint-Petersburg  08:37:09     Monday  \n",
       "4            Moscow  08:34:34     Monday  \n",
       "5  Saint-Petersburg  13:09:41     Friday  \n",
       "6            Moscow  13:00:07  Wednesday  \n",
       "7            Moscow  20:47:49  Wednesday  \n",
       "8            Moscow  09:17:40     Friday  \n",
       "9  Saint-Petersburg  21:20:49  Wednesday  "
      ]
     },
     "execution_count": 3,
     "metadata": {},
     "output_type": "execute_result"
    }
   ],
   "source": [
    "df.head(10) # <получение первых 10 строк таблицы df>"
   ]
  },
  {
   "cell_type": "markdown",
   "metadata": {
    "colab_type": "text",
    "deletable": false,
    "editable": false,
    "id": "FrIiRHuHIBbN",
    "tags": [
     "0210c096-9595-4600-b91d-42ab36a6c3f0"
    ]
   },
   "source": [
    "Общая информация о данных таблицы *df*.\n",
    "\n",
    "\n"
   ]
  },
  {
   "cell_type": "code",
   "execution_count": 4,
   "metadata": {
    "colab": {},
    "colab_type": "code",
    "deletable": false,
    "id": "K7t8OdZsYN2y"
   },
   "outputs": [
    {
     "name": "stdout",
     "output_type": "stream",
     "text": [
      "<class 'pandas.core.frame.DataFrame'>\n",
      "RangeIndex: 65079 entries, 0 to 65078\n",
      "Data columns (total 7 columns):\n",
      "  userID    65079 non-null object\n",
      "Track       63848 non-null object\n",
      "artist      57876 non-null object\n",
      "genre       63881 non-null object\n",
      "  City      65079 non-null object\n",
      "time        65079 non-null object\n",
      "Day         65079 non-null object\n",
      "dtypes: object(7)\n",
      "memory usage: 3.5+ MB\n"
     ]
    }
   ],
   "source": [
    "df.info() # <получение общей информации о данных в таблице df>"
   ]
  },
  {
   "cell_type": "markdown",
   "metadata": {
    "colab_type": "text",
    "deletable": false,
    "id": "CnHv9HZCc7LN"
   },
   "source": [
    "Рассмотрим полученную информацию подробнее.\n",
    "\n",
    "Всего в таблице 7 столбцов, тип данных у каждого столбца - object.\n",
    "\n",
    "Подробно разберём, какие в *df* столбцы и какую информацию они содержат:\n",
    "\n",
    "* userID — идентификатор пользователя;\n",
    "* Track — название трека;  \n",
    "* artist — имя исполнителя;\n",
    "* genre — название жанра;\n",
    "* City — город, в котором происходило прослушивание;\n",
    "* time — время, в которое пользователь слушал трек;\n",
    "* Day — день недели.\n",
    "\n",
    "Количество значений в столбцах различается. Это говорит о том, что в данных есть пропущенные значения.\n",
    "\n"
   ]
  },
  {
   "cell_type": "markdown",
   "metadata": {
    "colab_type": "text",
    "deletable": false,
    "id": "DCYFm5VrevuB"
   },
   "source": [
    "**Выводы**"
   ]
  },
  {
   "cell_type": "markdown",
   "metadata": {
    "colab_type": "text",
    "deletable": false,
    "id": "PCEtjdmvezRm"
   },
   "source": [
    "Каждая строка таблицы содержит информацию о композициях определённого жанра в определённом исполнении, которые пользователи слушали в одном из городов в определённое время и день недели. Две проблемы, которые нужно решать: пропуски и некачественные названия столбцов. Для проверки рабочих гипотез особенно ценны столбцы *time*, *day* и *City*. Данные из столбца *genre* позволят узнать самые популярные жанры."
   ]
  },
  {
   "cell_type": "markdown",
   "metadata": {
    "colab_type": "text",
    "deletable": false,
    "editable": false,
    "id": "ZYaC0bU-IZ0a",
    "tags": [
     "2c946931-9c91-4e15-baf8-43fb79bcb454"
    ]
   },
   "source": [
    "# Этап 2. Предобработка данных"
   ]
  },
  {
   "cell_type": "markdown",
   "metadata": {
    "colab_type": "text",
    "deletable": false,
    "id": "Dl8grmTrPxZi"
   },
   "source": [
    "Исключим пропуски, переименуем столбцы, а также проверим данные на наличие дубликатов."
   ]
  },
  {
   "cell_type": "markdown",
   "metadata": {
    "colab_type": "text",
    "deletable": false,
    "id": "6OIhlsG_IjI8"
   },
   "source": [
    "Получим перечень названий столбцов. "
   ]
  },
  {
   "cell_type": "code",
   "execution_count": 5,
   "metadata": {
    "colab": {},
    "colab_type": "code",
    "deletable": false,
    "id": "Tag65F_Uitsx"
   },
   "outputs": [
    {
     "data": {
      "text/plain": [
       "Index(['  userID', 'Track', 'artist', 'genre', '  City  ', 'time', 'Day'], dtype='object')"
      ]
     },
     "execution_count": 5,
     "metadata": {},
     "output_type": "execute_result"
    }
   ],
   "source": [
    "df.columns # <перечень названий столбцов таблицы df>"
   ]
  },
  {
   "cell_type": "markdown",
   "metadata": {
    "colab_type": "text",
    "deletable": false,
    "id": "x6iJC-cEhnRL"
   },
   "source": [
    "В названиях столбцов есть пробелы, которые могут затруднять доступ к данным."
   ]
  },
  {
   "cell_type": "markdown",
   "metadata": {
    "colab_type": "text",
    "deletable": false,
    "editable": false,
    "id": "BK6m6-DZhlTs",
    "tags": [
     "c2b469cf-2148-4115-8806-0fbb00a9d55d"
    ]
   },
   "source": [
    "Переименуем столбцы для удобства дальнейшей работы. Проверим результат.\n",
    "\n"
   ]
  },
  {
   "cell_type": "code",
   "execution_count": 6,
   "metadata": {
    "colab": {},
    "colab_type": "code",
    "deletable": false,
    "id": "XintVfCniw2-"
   },
   "outputs": [],
   "source": [
    "df.set_axis(['user_id','track_name','artist_name','genre_name','city','time','weekday'], axis='columns', inplace = True) # <переименование столбцов> "
   ]
  },
  {
   "cell_type": "code",
   "execution_count": 7,
   "metadata": {
    "colab": {},
    "colab_type": "code",
    "deletable": false,
    "id": "ozQL91G4izdp"
   },
   "outputs": [
    {
     "data": {
      "text/plain": [
       "Index(['user_id', 'track_name', 'artist_name', 'genre_name', 'city', 'time',\n",
       "       'weekday'],\n",
       "      dtype='object')"
      ]
     },
     "execution_count": 7,
     "metadata": {},
     "output_type": "execute_result"
    }
   ],
   "source": [
    "df.columns # <проверка результатов - перечень названий столбцов>"
   ]
  },
  {
   "cell_type": "markdown",
   "metadata": {
    "colab_type": "text",
    "deletable": false,
    "editable": false,
    "id": "oc2qS2UBIkQu",
    "tags": [
     "325fae3b-abce-4c7c-8c41-87ed8a26ff5d"
    ]
   },
   "source": [
    "Проверим данные на наличие пропусков вызовом набора методов для суммирования пропущенных значений."
   ]
  },
  {
   "cell_type": "code",
   "execution_count": 8,
   "metadata": {
    "colab": {},
    "colab_type": "code",
    "deletable": false,
    "id": "BZh9yLHhjy_R"
   },
   "outputs": [
    {
     "data": {
      "text/plain": [
       "user_id           0\n",
       "track_name     1231\n",
       "artist_name    7203\n",
       "genre_name     1198\n",
       "city              0\n",
       "time              0\n",
       "weekday           0\n",
       "dtype: int64"
      ]
     },
     "execution_count": 8,
     "metadata": {},
     "output_type": "execute_result"
    }
   ],
   "source": [
    "df.isnull().sum() # <суммарное количество пропусков, выявленных методом isnull() в таблице df>"
   ]
  },
  {
   "cell_type": "markdown",
   "metadata": {
    "colab_type": "text",
    "deletable": false,
    "id": "OJXGaa02tSJJ"
   },
   "source": [
    "Пустые значения свидетельствуют, что для некоторых треков доступна не вся информация. Причины могут быть разные: скажем,  не назван конкретный исполнитель народной песни. Хуже, если проблемы с записью данных. Каждый отдельный случай необходимо разобрать и выявить причину."
   ]
  },
  {
   "cell_type": "markdown",
   "metadata": {
    "colab_type": "text",
    "deletable": false,
    "id": "-fBDAWZUkAg-"
   },
   "source": [
    "Заменяем пропущенные значения в столбцах с названием трека и исполнителя на строку 'unknown'. После этой операции нужно убедиться, что таблица больше не содержит пропусков."
   ]
  },
  {
   "cell_type": "code",
   "execution_count": 9,
   "metadata": {
    "colab": {},
    "colab_type": "code",
    "deletable": false,
    "id": "EO8zFcJPlbvV"
   },
   "outputs": [],
   "source": [
    "df['track_name'] = df['track_name'].fillna('unknown') # <замена пропущенных значений в столбце 'track_name' на строку 'unknown' специальным методом замены>\n"
   ]
  },
  {
   "cell_type": "code",
   "execution_count": 10,
   "metadata": {
    "colab": {},
    "colab_type": "code",
    "deletable": false,
    "id": "3hsNZcLST0UW"
   },
   "outputs": [],
   "source": [
    "df['artist_name'] = df['artist_name'].fillna('unknown') # <замена пропущенных значений в столбце 'artist_name' на строку 'unknown' специальным методом замены>"
   ]
  },
  {
   "cell_type": "code",
   "execution_count": 11,
   "metadata": {
    "colab": {},
    "colab_type": "code",
    "deletable": false,
    "id": "Ua-Z8TAblgzC"
   },
   "outputs": [
    {
     "data": {
      "text/plain": [
       "user_id           0\n",
       "track_name        0\n",
       "artist_name       0\n",
       "genre_name     1198\n",
       "city              0\n",
       "time              0\n",
       "weekday           0\n",
       "dtype: int64"
      ]
     },
     "execution_count": 11,
     "metadata": {},
     "output_type": "execute_result"
    }
   ],
   "source": [
    "df.isnull().sum( # <проверка: вычисление суммарного количества пропусков, выявленных в таблице df>"
   ]
  },
  {
   "cell_type": "markdown",
   "metadata": {
    "colab_type": "text",
    "deletable": false,
    "editable": false,
    "id": "-cjfT0w2ln9C",
    "tags": [
     "9cb28dd4-e24e-4490-aebd-b37ba9e492c5"
    ]
   },
   "source": [
    "Удаляем в столбце с жанрами пустые значения; убеждаемся, что их больше не осталось."
   ]
  },
  {
   "cell_type": "code",
   "execution_count": 12,
   "metadata": {
    "colab": {},
    "colab_type": "code",
    "deletable": false,
    "id": "TIpk7lwtnZkZ"
   },
   "outputs": [],
   "source": [
    "df.dropna(subset = ['genre_name'], inplace = True) # <удаление пропущенных значений в столбце 'genre_name'>"
   ]
  },
  {
   "cell_type": "code",
   "execution_count": 13,
   "metadata": {
    "colab": {},
    "colab_type": "code",
    "deletable": false,
    "id": "-1CT-CCZnzTA"
   },
   "outputs": [
    {
     "data": {
      "text/plain": [
       "user_id        0\n",
       "track_name     0\n",
       "artist_name    0\n",
       "genre_name     0\n",
       "city           0\n",
       "time           0\n",
       "weekday        0\n",
       "dtype: int64"
      ]
     },
     "execution_count": 13,
     "metadata": {},
     "output_type": "execute_result"
    }
   ],
   "source": [
    "df.isnull().sum() # <проверка>"
   ]
  },
  {
   "cell_type": "markdown",
   "metadata": {
    "colab_type": "text",
    "deletable": false,
    "editable": false,
    "id": "QsBXpJFzpxA9",
    "tags": [
     "ea46db29-6746-4c02-a47b-75283dde9025"
    ]
   },
   "source": [
    "Необходимо установить наличие дубликатов.  Если найдутся, удаляем, и проверяем, все ли удалились."
   ]
  },
  {
   "cell_type": "code",
   "execution_count": 14,
   "metadata": {
    "colab": {},
    "colab_type": "code",
    "deletable": false,
    "id": "VRVI_B0RqIgT"
   },
   "outputs": [
    {
     "data": {
      "text/plain": [
       "3755"
      ]
     },
     "execution_count": 14,
     "metadata": {},
     "output_type": "execute_result"
    }
   ],
   "source": [
    "df.duplicated().sum() # <получение суммарного количества дубликатов в таблице df>"
   ]
  },
  {
   "cell_type": "code",
   "execution_count": 15,
   "metadata": {
    "colab": {},
    "colab_type": "code",
    "deletable": false,
    "id": "nSYF38OeqZn-"
   },
   "outputs": [],
   "source": [
    "df = df.drop_duplicates().reset_index(drop = True) # <удаление всех дубликатов из таблицы df специальным методом>"
   ]
  },
  {
   "cell_type": "code",
   "execution_count": 16,
   "metadata": {
    "colab": {},
    "colab_type": "code",
    "deletable": false,
    "id": "O-RfjmkCqIgV"
   },
   "outputs": [
    {
     "data": {
      "text/plain": [
       "0"
      ]
     },
     "execution_count": 16,
     "metadata": {},
     "output_type": "execute_result"
    }
   ],
   "source": [
    "df.duplicated().sum() # <проверка на отсутствие>"
   ]
  },
  {
   "cell_type": "markdown",
   "metadata": {
    "colab_type": "text",
    "deletable": false,
    "id": "e6cyWPTwsLKw"
   },
   "source": [
    "Дубликаты могли появиться вследствие сбоя в записи данных. Стоит обратить внимание и разобраться с причинами появления такого «информационного мусора»."
   ]
  },
  {
   "cell_type": "markdown",
   "metadata": {
    "colab_type": "text",
    "deletable": false,
    "editable": false,
    "id": "QH-HgrApInjO",
    "tags": [
     "46fb87e8-2d9c-497d-9c6e-746eaa2631ab"
    ]
   },
   "source": [
    "Сохраняем список уникальных значений столбца с жанрами в переменной *genres_list*. \n",
    "\n",
    "Объявим функцию *find_genre()* для поиска неявных дубликатов в столбце с жанрами. Например, когда название одного и того же жанра написано разными словами.\n",
    "\n",
    "\n",
    "\n"
   ]
  },
  {
   "cell_type": "code",
   "execution_count": 17,
   "metadata": {
    "colab": {},
    "colab_type": "code",
    "deletable": false,
    "id": "FfaTfKAN-PCx"
   },
   "outputs": [],
   "source": [
    "genres_list = df['genre_name'].unique()\n",
    "# <сохранение в переменной genres_list списка уникальных значений, выявленных специальным методом в столбце 'genre_name'>"
   ]
  },
  {
   "cell_type": "code",
   "execution_count": 18,
   "metadata": {
    "colab": {},
    "colab_type": "code",
    "deletable": false,
    "id": "TA_k-VLi-S0R"
   },
   "outputs": [],
   "source": [
    "def find_genre(genre):\n",
    "    schet = 0\n",
    "    for i in genres_list:\n",
    "        if genre == i:\n",
    "            schet += 1\n",
    "    return schet# <создание функции find_genre()>\n",
    "# функция принимает как параметр строку с названием искомого жанра\n",
    "# в теле объявляется переменная-счётчик, ей присваивается значение 0,\n",
    "# затем цикл for проходит по списку уникальных значений\n",
    "# если очередной элемент списка равен параметру функции, \n",
    "# то значение счётчика увеличивается на 1\n",
    "# по окончании работы цикла функция возвращает значение счётчика"
   ]
  },
  {
   "cell_type": "markdown",
   "metadata": {
    "colab_type": "text",
    "deletable": false,
    "editable": false,
    "id": "vb3CTOciIL27",
    "tags": [
     "b57e3325-29fc-4ade-83a3-91113c5dad32"
    ]
   },
   "source": [
    "Вызов функции *find_genre()* для поиска различных вариантов названия жанра хип-хоп в таблице.\n",
    "\n",
    "Правильное название — *hiphop*. Поищем другие варианты:\n",
    "\n",
    "* hip\n",
    "* hop\n",
    "* hip-hop\n"
   ]
  },
  {
   "cell_type": "code",
   "execution_count": 19,
   "metadata": {
    "colab": {},
    "colab_type": "code",
    "deletable": false,
    "id": "YrwqExZS-dyQ"
   },
   "outputs": [
    {
     "data": {
      "text/plain": [
       "1"
      ]
     },
     "execution_count": 19,
     "metadata": {},
     "output_type": "execute_result"
    }
   ],
   "source": [
    "find_genre('hip') # <вызовом функции find_genre() проверяется наличие варианта 'hip'>"
   ]
  },
  {
   "cell_type": "code",
   "execution_count": 20,
   "metadata": {
    "colab": {},
    "colab_type": "code",
    "deletable": false,
    "id": "ZoL4EEcR-dyU"
   },
   "outputs": [
    {
     "data": {
      "text/plain": [
       "0"
      ]
     },
     "execution_count": 20,
     "metadata": {},
     "output_type": "execute_result"
    }
   ],
   "source": [
    "find_genre('hop') # <проверяется наличие варианта 'hop'>"
   ]
  },
  {
   "cell_type": "code",
   "execution_count": 21,
   "metadata": {
    "colab": {},
    "colab_type": "code",
    "deletable": false,
    "id": "MFowmiug-qZD"
   },
   "outputs": [
    {
     "data": {
      "text/plain": [
       "0"
      ]
     },
     "execution_count": 21,
     "metadata": {},
     "output_type": "execute_result"
    }
   ],
   "source": [
    "find_genre('hip-hop') # <проверяется наличие варианта 'hip-hop'>"
   ]
  },
  {
   "cell_type": "markdown",
   "metadata": {
    "colab_type": "text",
    "deletable": false,
    "editable": false,
    "id": "a7BQY6ORLMSG",
    "tags": [
     "11f77aa1-5478-453d-b31e-f20041047bb7"
    ]
   },
   "source": [
    "Объявим функцию *find_hip_hop()*, которая заменяет  неправильное название этого жанра в столбце *'genre_name'* на *'hiphop'* и проверяет успешность выполнения замены.\n",
    "\n",
    "Так исправляем все варианты написания, которые выявила проверка."
   ]
  },
  {
   "cell_type": "code",
   "execution_count": 22,
   "metadata": {
    "colab": {},
    "colab_type": "code",
    "deletable": false,
    "id": "31xlzL_c_FgB"
   },
   "outputs": [],
   "source": [
    "def find_hip_hop(df,wrong):\n",
    "    df['genre_name']=df['genre_name'].replace(wrong,'hiphop')\n",
    "        # <создание функции find_hip_hop()>\n",
    "# функция принимает как параметры таблицу df и неверное название\n",
    "# к столбцу 'genre_name' применяется специальный метод, \n",
    "    total = df.loc[df.loc[:,'genre_name'] == 'wrong']['genre_name'].count()\n",
    "    return total# который заменяет второй параметр на строку 'hiphop'\n",
    "# результат работы равен подсчитанному методом count() числу значений столбца, \n",
    "# которые равны второму параметру\n",
    "# функция возвращает результат"
   ]
  },
  {
   "cell_type": "code",
   "execution_count": 23,
   "metadata": {
    "colab": {},
    "colab_type": "code",
    "deletable": false,
    "id": "ZFXMV2qW_FgE"
   },
   "outputs": [
    {
     "data": {
      "text/plain": [
       "0"
      ]
     },
     "execution_count": 23,
     "metadata": {},
     "output_type": "execute_result"
    }
   ],
   "source": [
    "find_hip_hop(df,'hip')# <замена одного неверного варианта на hiphop вызовом функции find_hip_hop()>"
   ]
  },
  {
   "cell_type": "markdown",
   "metadata": {
    "colab_type": "text",
    "deletable": false,
    "editable": false,
    "id": "i90BILA9JQpE",
    "tags": [
     "30535c8e-1643-4088-925b-2a32180e0333"
    ]
   },
   "source": [
    "Получаем общую информацию о данных. Убеждаемся, что чистка выполнена успешно."
   ]
  },
  {
   "cell_type": "code",
   "execution_count": 24,
   "metadata": {
    "colab": {},
    "colab_type": "code",
    "deletable": false,
    "id": "-yyvdzHA_uJm"
   },
   "outputs": [
    {
     "name": "stdout",
     "output_type": "stream",
     "text": [
      "<class 'pandas.core.frame.DataFrame'>\n",
      "RangeIndex: 60126 entries, 0 to 60125\n",
      "Data columns (total 7 columns):\n",
      "user_id        60126 non-null object\n",
      "track_name     60126 non-null object\n",
      "artist_name    60126 non-null object\n",
      "genre_name     60126 non-null object\n",
      "city           60126 non-null object\n",
      "time           60126 non-null object\n",
      "weekday        60126 non-null object\n",
      "dtypes: object(7)\n",
      "memory usage: 3.2+ MB\n"
     ]
    }
   ],
   "source": [
    "df.info()# <получение общей информации о данных таблицы df>"
   ]
  },
  {
   "cell_type": "markdown",
   "metadata": {
    "colab_type": "text",
    "deletable": false,
    "id": "AReHO17cMRPM"
   },
   "source": [
    "**Вывод**"
   ]
  },
  {
   "cell_type": "markdown",
   "metadata": {
    "colab_type": "text",
    "deletable": false,
    "id": "yscfstUqMS4c"
   },
   "source": [
    "На этапе предобработки в данных обнаружились не только пропуски и проблемы с названиями столбцов, но и всяческие виды дубликатов. Их удаление позволит провести анализ точнее. Поскольку сведения о жанрах важно сохранить для анализа, не просто удаляем все пропущенные значения, но заполним пропущенные имена исполнителей и названия треков. Имена столбцов теперь корректны и удобны для дальнейшей работы."
   ]
  },
  {
   "cell_type": "markdown",
   "metadata": {
    "colab_type": "text",
    "deletable": false,
    "editable": false,
    "id": "MF4nnd1YJUrI",
    "tags": [
     "ac8df732-1797-479a-9c4c-a03745931a9d"
    ]
   },
   "source": [
    "# Действительно ли музыку в разных городах слушают по-разному?"
   ]
  },
  {
   "cell_type": "markdown",
   "metadata": {
    "colab_type": "text",
    "deletable": false,
    "id": "AYSL1OvyM2pL"
   },
   "source": [
    "Была выдвинута гипотеза, что в Москве и Санкт-Петербурге пользователи слушают музыку по-разному. Проверяем это предположение по данным о трёх днях недели — понедельнике, среде и пятнице.\n",
    "\n",
    "Для каждого города устанавливаем количество прослушанных  в эти дни композиций с известным жанром, и сравниваем результаты."
   ]
  },
  {
   "cell_type": "markdown",
   "metadata": {
    "colab_type": "text",
    "deletable": false,
    "id": "OM5Eeh7FNWC-"
   },
   "source": [
    "Группируем данные по городу и вызовом метода *count()* подсчитываем композиции, для которых известен жанр."
   ]
  },
  {
   "cell_type": "code",
   "execution_count": 25,
   "metadata": {
    "colab": {},
    "colab_type": "code",
    "deletable": false,
    "id": "AtH_pP1i_0m1"
   },
   "outputs": [
    {
     "data": {
      "text/plain": [
       "city\n",
       "Moscow              41892\n",
       "Saint-Petersburg    18234\n",
       "Name: genre_name, dtype: int64"
      ]
     },
     "execution_count": 25,
     "metadata": {},
     "output_type": "execute_result"
    }
   ],
   "source": [
    "df.groupby('city')['genre_name'].count() # <группировка данных таблицы df по столбцу 'city' и подсчёт количества значений столбца 'genre_name'>"
   ]
  },
  {
   "cell_type": "markdown",
   "metadata": {
    "colab_type": "text",
    "deletable": false,
    "id": "XBR226DMpIDf"
   },
   "source": [
    "В Москве прослушиваний больше, чем в Питере, но это не значит, что Москва более активна. У Яндекс.Музыки в целом больше пользователей в Москве, поэтому величины сопоставимы."
   ]
  },
  {
   "cell_type": "markdown",
   "metadata": {
    "colab_type": "text",
    "deletable": false,
    "editable": false,
    "id": "P7EcNQuyNbNB",
    "tags": [
     "133ddd49-3b63-45b1-b50c-9e6ab5fc4175"
    ]
   },
   "source": [
    "Сгруппируем данные по дню недели и подсчитаем прослушанные в понедельник, среду и пятницу композиции, для которых известен жанр."
   ]
  },
  {
   "cell_type": "code",
   "execution_count": 26,
   "metadata": {
    "colab": {},
    "colab_type": "code",
    "deletable": false,
    "id": "A8E_Tb2b_3un"
   },
   "outputs": [
    {
     "data": {
      "text/plain": [
       "weekday\n",
       "Friday       21482\n",
       "Monday       20866\n",
       "Wednesday    17778\n",
       "Name: genre_name, dtype: int64"
      ]
     },
     "execution_count": 26,
     "metadata": {},
     "output_type": "execute_result"
    }
   ],
   "source": [
    "df.groupby('weekday')['genre_name'].count()# <группировка данных по столбцу 'weekday' и подсчёт количества значений столбца 'genre_name'>\n"
   ]
  },
  {
   "cell_type": "markdown",
   "metadata": {
    "colab_type": "text",
    "deletable": false,
    "id": "Zhh6hehCpq_U"
   },
   "source": [
    "Понедельник и пятница — время для музыки; по средам пользователи немного больше вовлечены в работу."
   ]
  },
  {
   "cell_type": "markdown",
   "metadata": {
    "colab_type": "text",
    "deletable": false,
    "editable": false,
    "id": "bYab2U5BNdmZ",
    "tags": [
     "bae0a168-5e2b-40f9-9701-bfb32d016517"
    ]
   },
   "source": [
    "Создаём функцию *number_tracks()*, которая принимает как параметры таблицу, день недели и название города, а возвращает количество прослушанных композиций, для которых известен жанр. Проверяем количество прослушанных композиций для каждого города и понедельника, затем среды и пятницы."
   ]
  },
  {
   "cell_type": "code",
   "execution_count": 27,
   "metadata": {
    "colab": {},
    "colab_type": "code",
    "deletable": false,
    "id": "4SqpGSi5_7hA"
   },
   "outputs": [],
   "source": [
    "def number_tracks(df,day_of_week,city):\n",
    "    track_list = df[(df['weekday'] == day_of_week)&(df['city'] == city)] # <создание функции number_tracks()>\n",
    "# объявляется функция с тремя параметрами: df, day, city\n",
    "# в переменной track_list сохраняются те строки таблицы df, для которых \n",
    "# значение в столбце 'weekday' равно параметру day\n",
    "# и одновременно значение в столбце 'city' равно параметру city\n",
    "    track_list_count = track_list['genre_name'].count() # в переменной track_list_count сохраняется число значений столбца 'genre_name',\n",
    "# рассчитанное методом count() для таблицы track_list\n",
    "   \n",
    "    \n",
    "   \n",
    "    return track_list_count# функция возвращает значение track_list_count\n",
    "    "
   ]
  },
  {
   "cell_type": "code",
   "execution_count": 28,
   "metadata": {
    "deletable": false
   },
   "outputs": [
    {
     "data": {
      "text/plain": [
       "15347"
      ]
     },
     "execution_count": 28,
     "metadata": {},
     "output_type": "execute_result"
    }
   ],
   "source": [
    "number_tracks(df,'Monday','Moscow') # <список композиций для Москвы в понедельник>"
   ]
  },
  {
   "cell_type": "code",
   "execution_count": 29,
   "metadata": {
    "deletable": false
   },
   "outputs": [
    {
     "data": {
      "text/plain": [
       "5519"
      ]
     },
     "execution_count": 29,
     "metadata": {},
     "output_type": "execute_result"
    }
   ],
   "source": [
    "number_tracks(df,'Monday','Saint-Petersburg') # <список композиций для Санкт-Петербурга в понедельник>"
   ]
  },
  {
   "cell_type": "code",
   "execution_count": 30,
   "metadata": {
    "deletable": false
   },
   "outputs": [
    {
     "data": {
      "text/plain": [
       "10865"
      ]
     },
     "execution_count": 30,
     "metadata": {},
     "output_type": "execute_result"
    }
   ],
   "source": [
    "number_tracks(df,'Wednesday','Moscow') # <список композиций для Москвы в среду>"
   ]
  },
  {
   "cell_type": "code",
   "execution_count": 31,
   "metadata": {
    "deletable": false
   },
   "outputs": [
    {
     "data": {
      "text/plain": [
       "6913"
      ]
     },
     "execution_count": 31,
     "metadata": {},
     "output_type": "execute_result"
    }
   ],
   "source": [
    "number_tracks(df,'Wednesday','Saint-Petersburg') # <список композиций для Санкт-Петербурга в среду>"
   ]
  },
  {
   "cell_type": "code",
   "execution_count": 32,
   "metadata": {
    "deletable": false
   },
   "outputs": [
    {
     "data": {
      "text/plain": [
       "15680"
      ]
     },
     "execution_count": 32,
     "metadata": {},
     "output_type": "execute_result"
    }
   ],
   "source": [
    "number_tracks(df,'Friday','Moscow') # <список композиций для Москвы в пятницу>"
   ]
  },
  {
   "cell_type": "code",
   "execution_count": 33,
   "metadata": {
    "deletable": false
   },
   "outputs": [
    {
     "data": {
      "text/plain": [
       "5802"
      ]
     },
     "execution_count": 33,
     "metadata": {},
     "output_type": "execute_result"
    }
   ],
   "source": [
    "number_tracks(df,'Friday','Saint-Petersburg') # <список композиций для Санкт-Петербурга в пятницу>"
   ]
  },
  {
   "cell_type": "markdown",
   "metadata": {
    "colab_type": "text",
    "deletable": false,
    "editable": false,
    "id": "tCB9zwzzqZ8g",
    "tags": [
     "d73e12bf-3635-484b-8fb6-c7ccc2101671"
    ]
   },
   "source": [
    "Сведём полученную информацию в одну таблицу, где ['city', 'monday', 'wednesday', 'friday'] названия столбцов.\n"
   ]
  },
  {
   "cell_type": "code",
   "execution_count": 34,
   "metadata": {
    "deletable": false
   },
   "outputs": [
    {
     "data": {
      "text/html": [
       "<div>\n",
       "<style scoped>\n",
       "    .dataframe tbody tr th:only-of-type {\n",
       "        vertical-align: middle;\n",
       "    }\n",
       "\n",
       "    .dataframe tbody tr th {\n",
       "        vertical-align: top;\n",
       "    }\n",
       "\n",
       "    .dataframe thead th {\n",
       "        text-align: right;\n",
       "    }\n",
       "</style>\n",
       "<table border=\"1\" class=\"dataframe\">\n",
       "  <thead>\n",
       "    <tr style=\"text-align: right;\">\n",
       "      <th></th>\n",
       "      <th>city</th>\n",
       "      <th>monday</th>\n",
       "      <th>wednesday</th>\n",
       "      <th>friday</th>\n",
       "    </tr>\n",
       "  </thead>\n",
       "  <tbody>\n",
       "    <tr>\n",
       "      <td>0</td>\n",
       "      <td>Moscow</td>\n",
       "      <td>15347</td>\n",
       "      <td>10865</td>\n",
       "      <td>15680</td>\n",
       "    </tr>\n",
       "    <tr>\n",
       "      <td>1</td>\n",
       "      <td>Saint-Petersburg</td>\n",
       "      <td>5519</td>\n",
       "      <td>6913</td>\n",
       "      <td>5802</td>\n",
       "    </tr>\n",
       "  </tbody>\n",
       "</table>\n",
       "</div>"
      ],
      "text/plain": [
       "               city  monday  wednesday  friday\n",
       "0            Moscow   15347      10865   15680\n",
       "1  Saint-Petersburg    5519       6913    5802"
      ]
     },
     "execution_count": 34,
     "metadata": {},
     "output_type": "execute_result"
    }
   ],
   "source": [
    "data = [['Moscow', 15347, 10865, 15680],['Saint-Petersburg', 5519, 6913, 5802]]\n",
    "columns = ['city', 'monday', 'wednesday', 'friday'] \n",
    "table = pd.DataFrame(data = data,columns = columns)\n",
    "table # <таблица с полученными данными>"
   ]
  },
  {
   "cell_type": "markdown",
   "metadata": {
    "colab_type": "text",
    "deletable": false,
    "id": "LKCYeMXgqPxD"
   },
   "source": [
    "**Вывод**"
   ]
  },
  {
   "cell_type": "markdown",
   "metadata": {
    "colab_type": "text",
    "deletable": false,
    "id": "RJpg6I8jqQ0x"
   },
   "source": [
    "Результаты показывают, что относительно среды музыку в Петербурге и Москве слушают «зеркально»: в Москве пики приходятся на понедельник и пятницу, а в среду время прослушивания снижается. Тогда как в Санкт-Петербурге среда — день самого большого интереса к музыке, а в понедельник и пятницу он меньше, причём почти одинаково меньше."
   ]
  },
  {
   "cell_type": "markdown",
   "metadata": {
    "colab_type": "text",
    "deletable": false,
    "editable": false,
    "id": "tLdpUGyewzGf",
    "tags": [
     "1eb8124a-f066-4c43-b1f4-bc672c5efd57"
    ]
   },
   "source": [
    "# Утро понедельника и вечер пятницы — разная музыка или одна и та же?"
   ]
  },
  {
   "cell_type": "markdown",
   "metadata": {
    "colab_type": "text",
    "deletable": false,
    "id": "SaQlxcVntL3x"
   },
   "source": [
    "Ищем ответ на вопрос, какие жанры преобладают в разных городах в понедельник утром и в пятницу вечером. Есть предположение, что в понедельник утром пользователи слушают больше бодрящей музыки (например, жанра поп), а вечером пятницы — больше танцевальных (например, электронику)."
   ]
  },
  {
   "cell_type": "markdown",
   "metadata": {
    "colab_type": "text",
    "deletable": false,
    "id": "lYGAneOaPBhS"
   },
   "source": [
    "Получим таблицы данных по Москве *moscow_general* и по Санкт-Петербургу *spb_general*."
   ]
  },
  {
   "cell_type": "code",
   "execution_count": 35,
   "metadata": {
    "colab": {},
    "colab_type": "code",
    "deletable": false,
    "id": "Pyz1i56nA5IS"
   },
   "outputs": [],
   "source": [
    "moscow_general = df[df['city'] == 'Moscow'] # получение таблицы moscow_general из тех строк таблицы df, \n",
    "# для которых значение в столбце 'city' равно 'Moscow'"
   ]
  },
  {
   "cell_type": "code",
   "execution_count": 36,
   "metadata": {
    "colab": {},
    "colab_type": "code",
    "deletable": false,
    "id": "w3NNN-2hA-al"
   },
   "outputs": [],
   "source": [
    "spb_general = df[df['city'] =='Saint-Petersburg']# <получение таблицы spb_general>"
   ]
  },
  {
   "cell_type": "markdown",
   "metadata": {
    "colab_type": "text",
    "deletable": false,
    "editable": false,
    "id": "duDdH_WiPLky",
    "tags": [
     "7f7cae13-ec1c-45c4-9204-0a4354fe1766"
    ]
   },
   "source": [
    "Создаём функцию *genre_weekday()*, которая возвращает список жанров по запрошенному дню недели и времени суток с такого-то часа по такой-то."
   ]
  },
  {
   "cell_type": "code",
   "execution_count": 37,
   "metadata": {
    "colab": {},
    "colab_type": "code",
    "deletable": false,
    "id": "JhUdQynHBEYw"
   },
   "outputs": [],
   "source": [
    "def genre_weekday(df, day, time1, time2):# объявление функции genre_weekday() с параметрами df, day, time1, time2\n",
    "    genre_list = df[(df['weekday'] == day) & (df['time'] > time1) & (df['time'] < time2)] # в переменной genre_list сохраняются те строки df, для которых одновременно:\n",
    "# 1) значение в столбце 'weekday' равно параметру day,\n",
    "# 2) значение в столбце 'time' больше time1 и\n",
    "# 3) меньше time2.\n",
    "    genre_list_sorted = genre_list.groupby('genre_name')['genre_name'].count().sort_values(ascending = False).head(10)# в переменной genre_list_sorted сохраняются в порядке убывания  \n",
    "# первые 10 значений Series, полученной подсчётом числа значений 'genre_name'\n",
    "# сгруппированной по столбцу 'genre_name' таблицы genre_list\n",
    "# функция возвращает значение genre_list_sorted\n",
    "    return genre_list_sorted"
   ]
  },
  {
   "cell_type": "markdown",
   "metadata": {
    "colab_type": "text",
    "deletable": false,
    "editable": false,
    "id": "bxGC8kXkP7B-",
    "tags": [
     "63e2c3f3-fa64-4376-8221-e8b753264535"
    ]
   },
   "source": [
    "Cравниваем полученные результаты по таблице для Москвы и Санкт-Петербурга в понедельник утром (с 7 до 11) и в пятницу вечером (с 17 до 23)."
   ]
  },
  {
   "cell_type": "code",
   "execution_count": 38,
   "metadata": {
    "colab": {},
    "colab_type": "code",
    "deletable": false,
    "id": "kbgeq-55BLEI"
   },
   "outputs": [
    {
     "data": {
      "text/plain": [
       "genre_name\n",
       "pop            781\n",
       "dance          549\n",
       "electronic     480\n",
       "rock           474\n",
       "hiphop         286\n",
       "ruspop         186\n",
       "world          181\n",
       "rusrap         175\n",
       "alternative    164\n",
       "classical      157\n",
       "Name: genre_name, dtype: int64"
      ]
     },
     "execution_count": 38,
     "metadata": {},
     "output_type": "execute_result"
    }
   ],
   "source": [
    "genre_weekday(moscow_general, 'Monday', '07:00:00', '11:00:00') # <вызов функции для утра понедельника в Москве (вместо df таблица moscow_general)>"
   ]
  },
  {
   "cell_type": "code",
   "execution_count": 39,
   "metadata": {
    "colab": {},
    "colab_type": "code",
    "deletable": false,
    "id": "XHwa8N2EBRXO"
   },
   "outputs": [
    {
     "data": {
      "text/plain": [
       "genre_name\n",
       "pop            218\n",
       "dance          182\n",
       "rock           162\n",
       "electronic     147\n",
       "hiphop          80\n",
       "ruspop          64\n",
       "alternative     58\n",
       "rusrap          55\n",
       "jazz            44\n",
       "classical       40\n",
       "Name: genre_name, dtype: int64"
      ]
     },
     "execution_count": 39,
     "metadata": {},
     "output_type": "execute_result"
    }
   ],
   "source": [
    "genre_weekday(spb_general, 'Monday', '07:00:00', \"11:00:00\") # <вызов функции для утра понедельника в Петербурге (вместо df таблица spb_general)>"
   ]
  },
  {
   "cell_type": "code",
   "execution_count": 40,
   "metadata": {
    "colab": {},
    "colab_type": "code",
    "deletable": false,
    "id": "YvdSbg2jBUeq"
   },
   "outputs": [
    {
     "data": {
      "text/plain": [
       "genre_name\n",
       "pop            713\n",
       "rock           517\n",
       "dance          495\n",
       "electronic     482\n",
       "hiphop         273\n",
       "world          208\n",
       "ruspop         170\n",
       "alternative    163\n",
       "classical      163\n",
       "rusrap         142\n",
       "Name: genre_name, dtype: int64"
      ]
     },
     "execution_count": 40,
     "metadata": {},
     "output_type": "execute_result"
    }
   ],
   "source": [
    "genre_weekday(moscow_general, 'Friday', '17:00:00', \"23:00:00\") # <вызов функции для вечера пятницы в Москве>"
   ]
  },
  {
   "cell_type": "code",
   "execution_count": 41,
   "metadata": {
    "colab": {},
    "colab_type": "code",
    "deletable": false,
    "id": "Ew3ig4fPBUeu"
   },
   "outputs": [
    {
     "data": {
      "text/plain": [
       "genre_name\n",
       "pop            256\n",
       "rock           216\n",
       "electronic     216\n",
       "dance          210\n",
       "hiphop          97\n",
       "alternative     63\n",
       "jazz            61\n",
       "classical       60\n",
       "rusrap          59\n",
       "world           54\n",
       "Name: genre_name, dtype: int64"
      ]
     },
     "execution_count": 41,
     "metadata": {},
     "output_type": "execute_result"
    }
   ],
   "source": [
    "genre_weekday(spb_general, 'Friday', '17:00:00', \"23:00:00\") # <вызов функции для вечера пятницы в Питере>"
   ]
  },
  {
   "cell_type": "markdown",
   "metadata": {
    "colab_type": "text",
    "deletable": false,
    "id": "UenYBZTIwYT-"
   },
   "source": [
    "Популярные жанры в понедельник утром в Питере и Москве оказались похожи: везде, как и предполагалось, популярен поп. Несмотря на это, концовка топ-10 для двух городов различается: в Питере в топ-10 входит джаз и русский рэп, а в Москве жанр *world*.\n",
    "\n",
    "В конце недели ситуация не меняется. Поп-музыка всё так же на первом месте. Опять разница заметна только в концовке топ-10, где в Питере пятничным вечером тоже присутствует жанр *world*."
   ]
  },
  {
   "cell_type": "markdown",
   "metadata": {
    "colab_type": "text",
    "deletable": false,
    "id": "MBxfrKPAykp_"
   },
   "source": [
    "**Вывод**"
   ]
  },
  {
   "cell_type": "markdown",
   "metadata": {
    "colab_type": "text",
    "deletable": false,
    "id": "j8ypBMwSymL6"
   },
   "source": [
    "Жанр поп безусловный лидер, а топ-5 в целом не различается в обеих столицах. При этом видно, что концовка списка более «живая»: для каждого города выделяются более характерные жанры, которые действительно меняют свои позиции в зависимости от дня недели и времени."
   ]
  },
  {
   "cell_type": "markdown",
   "metadata": {
    "colab_type": "text",
    "deletable": false,
    "editable": false,
    "id": "D7YMmgKRw270",
    "tags": [
     "f363205e-76b1-4883-abf1-bf21c9572dc7"
    ]
   },
   "source": [
    "# Москва и Питер — две разные столицы, два разных направления в музыке. Правда?"
   ]
  },
  {
   "cell_type": "markdown",
   "metadata": {
    "colab_type": "text",
    "deletable": false,
    "id": "Wc5srT13zb4Z"
   },
   "source": [
    "Гипотеза: Питер богат своей рэп-культурой, поэтому это направление там слушают чаще, а Москва — город контрастов, но основная масса пользователей слушает попсу.\n",
    "\n"
   ]
  },
  {
   "cell_type": "markdown",
   "metadata": {
    "colab_type": "text",
    "deletable": false,
    "id": "2SFE9_RV2KEL"
   },
   "source": [
    "Сгруппируем таблицу *moscow_general* по жанру, сосчитаем численность композиций каждого жанра методом *count()*, отсортируем в порядке убывания и сохраним результат в таблице *moscow_genres*.\n",
    "\n",
    "Просмотрим первые 10 строк этой новой таблицы."
   ]
  },
  {
   "cell_type": "code",
   "execution_count": 42,
   "metadata": {
    "colab": {},
    "colab_type": "code",
    "deletable": false,
    "id": "OohoTcsYBheo"
   },
   "outputs": [],
   "source": [
    "moscow_genres= moscow_general.groupby('genre_name')['genre_name'].count().sort_values(ascending = False) # одной строкой: группировка таблицы moscow_general по столбцу 'genre_name', \n",
    "# подсчёт числа значений 'genre_name' в этой группировке методом count(), \n",
    "# сортировка Series в порядке убывания и сохранение в moscow_genres"
   ]
  },
  {
   "cell_type": "code",
   "execution_count": 43,
   "metadata": {
    "colab": {},
    "colab_type": "code",
    "deletable": false,
    "id": "h7IhIKDrBher"
   },
   "outputs": [
    {
     "data": {
      "text/plain": [
       "genre_name\n",
       "pop            5892\n",
       "dance          4435\n",
       "rock           3965\n",
       "electronic     3786\n",
       "hiphop         2096\n",
       "classical      1616\n",
       "world          1432\n",
       "alternative    1379\n",
       "ruspop         1372\n",
       "rusrap         1161\n",
       "Name: genre_name, dtype: int64"
      ]
     },
     "execution_count": 43,
     "metadata": {},
     "output_type": "execute_result"
    }
   ],
   "source": [
    "moscow_genres.head(10) # <просмотр первых 10 строк moscow_genres>"
   ]
  },
  {
   "cell_type": "markdown",
   "metadata": {
    "colab_type": "text",
    "deletable": false,
    "editable": false,
    "id": "gjnf0lol2fUy",
    "tags": [
     "f7503a48-1b28-483d-9f7b-bae79fb182b5"
    ]
   },
   "source": [
    "Сгруппируем таблицу *spb_general* по жанру, сосчитаем численность композиций каждого жанра методом *count()*, отсортируем в порядке убывания и сохраним результат в таблице *spb_genres*.\n",
    "\n",
    "Просматриваем первые 10 строк этой таблицы. Теперь можно сравнивать два города."
   ]
  },
  {
   "cell_type": "code",
   "execution_count": 44,
   "metadata": {
    "colab": {},
    "colab_type": "code",
    "deletable": false,
    "id": "eQrdA85dB1LO"
   },
   "outputs": [],
   "source": [
    "spb_genres= spb_general.groupby('genre_name')['genre_name'].count().sort_values(ascending = False) # <группировка таблицы spb_general, расчёт, сохранение в spb_genres>"
   ]
  },
  {
   "cell_type": "code",
   "execution_count": 45,
   "metadata": {
    "colab": {},
    "colab_type": "code",
    "deletable": false,
    "id": "AE-Z-1wCB1LS"
   },
   "outputs": [
    {
     "data": {
      "text/plain": [
       "genre_name\n",
       "pop            2431\n",
       "dance          1932\n",
       "rock           1879\n",
       "electronic     1736\n",
       "hiphop          960\n",
       "alternative     649\n",
       "classical       646\n",
       "rusrap          564\n",
       "ruspop          538\n",
       "world           515\n",
       "Name: genre_name, dtype: int64"
      ]
     },
     "execution_count": 45,
     "metadata": {},
     "output_type": "execute_result"
    }
   ],
   "source": [
    "spb_genres.head(10) # <просмотр первых 10 строк spb_genres>"
   ]
  },
  {
   "cell_type": "markdown",
   "metadata": {
    "colab_type": "text",
    "deletable": false,
    "id": "J5E-kLgK2piO"
   },
   "source": [
    "**Вывод**"
   ]
  },
  {
   "cell_type": "markdown",
   "metadata": {
    "colab_type": "text",
    "deletable": false,
    "id": "-9R3-Qh02tNt"
   },
   "source": [
    "В Москве, кроме абсолютно популярного жанра поп, есть направление русской популярной музыки. Значит, что интерес к этому жанру шире. А рэп, вопреки предположению, занимает в обоих городах близкие позиции."
   ]
  },
  {
   "cell_type": "markdown",
   "metadata": {
    "colab_type": "text",
    "deletable": false,
    "editable": false,
    "id": "gLlT9nKMQ3ky",
    "tags": [
     "0d44c8c0-390b-4c9e-b797-ddc3993f6e58"
    ]
   },
   "source": [
    "# Этап 4. Результаты исследования\n"
   ]
  },
  {
   "cell_type": "markdown",
   "metadata": {
    "colab_type": "text",
    "deletable": false,
    "id": "GtvyRBbD7dv5"
   },
   "source": [
    "Рабочие гипотезы:\n",
    "\n",
    "* музыку в двух городах — Москве и Санкт-Петербурге — слушают в разном режиме;\n",
    "\n",
    "* списки десяти самых популярных жанров утром в понедельник и вечером в пятницу имеют характерные отличия;\n",
    "\n",
    "* население двух городов предпочитает разные музыкальные жанры.\n",
    "\n",
    "**Общие результаты**\n",
    "\n",
    "Москва и Петербург сходятся во вкусах: везде преобладает популярная музыка. При этом зависимости предпочтений от дня недели в каждом отдельном городе нет — люди постоянно слушают то, что им нравится. Но между городами в разрезе дней неделей наблюдается зеркальность относительно среды: Москва больше слушает в понедельник и пятницу, а Петербург наоборот - больше в среду, но меньше в понедельник и пятницу.\n",
    "\n",
    "В результате первая гипотеза < укажите подтверждена/не подтверждена>, вторая гипотеза < укажите подтверждена/не подтверждена > и третья < укажите подтверждена/не подтверждена >."
   ]
  }
 ],
 "metadata": {
  "ExecuteTimeLog": [
   {
    "duration": 551,
    "start_time": "2021-08-16T06:35:13.799Z"
   },
   {
    "duration": 1530,
    "start_time": "2021-08-16T06:35:16.462Z"
   },
   {
    "duration": 189,
    "start_time": "2021-08-16T06:35:18.172Z"
   },
   {
    "duration": 2638,
    "start_time": "2021-08-16T06:37:28.917Z"
   },
   {
    "duration": 159,
    "start_time": "2021-08-16T06:38:18.139Z"
   },
   {
    "duration": 18,
    "start_time": "2021-08-16T06:38:29.769Z"
   },
   {
    "duration": 24,
    "start_time": "2021-08-16T06:38:37.609Z"
   },
   {
    "duration": 4,
    "start_time": "2021-08-16T06:41:46.958Z"
   },
   {
    "duration": 73,
    "start_time": "2021-08-16T06:49:30.597Z"
   },
   {
    "duration": 70,
    "start_time": "2021-08-16T06:49:44.226Z"
   },
   {
    "duration": 67,
    "start_time": "2021-08-16T06:50:50.029Z"
   },
   {
    "duration": 81,
    "start_time": "2021-08-16T06:51:03.426Z"
   },
   {
    "duration": 63,
    "start_time": "2021-08-16T06:59:43.006Z"
   },
   {
    "duration": 106,
    "start_time": "2021-08-16T07:04:37.884Z"
   },
   {
    "duration": 66,
    "start_time": "2021-08-16T07:04:53.375Z"
   },
   {
    "duration": 4,
    "start_time": "2021-08-16T07:06:40.060Z"
   },
   {
    "duration": 4,
    "start_time": "2021-08-16T07:06:53.843Z"
   },
   {
    "duration": 36,
    "start_time": "2021-08-16T07:16:33.979Z"
   },
   {
    "duration": 9,
    "start_time": "2021-08-16T07:21:18.222Z"
   },
   {
    "duration": 8,
    "start_time": "2021-08-16T07:22:06.406Z"
   },
   {
    "duration": 23,
    "start_time": "2021-08-16T07:22:32.757Z"
   },
   {
    "duration": 22,
    "start_time": "2021-08-16T07:34:08.068Z"
   },
   {
    "duration": 41,
    "start_time": "2021-08-16T07:34:31.274Z"
   },
   {
    "duration": 69,
    "start_time": "2021-08-16T07:35:17.115Z"
   },
   {
    "duration": 76,
    "start_time": "2021-08-16T07:38:20.548Z"
   },
   {
    "duration": 70,
    "start_time": "2021-08-16T07:38:55.666Z"
   },
   {
    "duration": 50,
    "start_time": "2021-08-16T07:39:16.491Z"
   },
   {
    "duration": 6,
    "start_time": "2021-08-16T08:28:01.143Z"
   },
   {
    "duration": 4,
    "start_time": "2021-08-16T08:31:41.247Z"
   },
   {
    "duration": 3,
    "start_time": "2021-08-16T11:00:32.677Z"
   },
   {
    "duration": 2,
    "start_time": "2021-08-16T11:00:43.040Z"
   },
   {
    "duration": 267,
    "start_time": "2021-08-16T11:00:51.308Z"
   },
   {
    "duration": 195,
    "start_time": "2021-08-16T11:01:26.465Z"
   },
   {
    "duration": 210,
    "start_time": "2021-08-16T11:05:59.753Z"
   },
   {
    "duration": 4,
    "start_time": "2021-08-16T11:06:56.631Z"
   },
   {
    "duration": 4,
    "start_time": "2021-08-16T11:06:58.568Z"
   },
   {
    "duration": 4,
    "start_time": "2021-08-16T11:07:01.334Z"
   },
   {
    "duration": 4,
    "start_time": "2021-08-16T11:07:06.116Z"
   },
   {
    "duration": 4,
    "start_time": "2021-08-16T11:20:00.412Z"
   },
   {
    "duration": 206,
    "start_time": "2021-08-16T11:20:42.037Z"
   },
   {
    "duration": 11,
    "start_time": "2021-08-16T11:20:50.635Z"
   },
   {
    "duration": 24,
    "start_time": "2021-08-16T11:27:11.932Z"
   },
   {
    "duration": 34,
    "start_time": "2021-08-16T11:51:08.367Z"
   },
   {
    "duration": 12,
    "start_time": "2021-08-16T12:17:25.182Z"
   },
   {
    "duration": 11,
    "start_time": "2021-08-16T12:18:24.671Z"
   },
   {
    "duration": 61,
    "start_time": "2021-08-16T12:20:40.950Z"
   },
   {
    "duration": 11,
    "start_time": "2021-08-16T12:20:47.803Z"
   },
   {
    "duration": 10,
    "start_time": "2021-08-16T12:21:08.018Z"
   },
   {
    "duration": 3,
    "start_time": "2021-08-16T12:44:19.361Z"
   },
   {
    "duration": 3,
    "start_time": "2021-08-16T12:47:41.730Z"
   },
   {
    "duration": 188,
    "start_time": "2021-08-16T12:47:42.472Z"
   },
   {
    "duration": 3,
    "start_time": "2021-08-16T12:47:54.893Z"
   },
   {
    "duration": 183,
    "start_time": "2021-08-16T12:47:56.208Z"
   },
   {
    "duration": 3,
    "start_time": "2021-08-16T12:48:36.125Z"
   },
   {
    "duration": 186,
    "start_time": "2021-08-16T12:48:36.911Z"
   },
   {
    "duration": 4,
    "start_time": "2021-08-16T12:49:50.871Z"
   },
   {
    "duration": 4885,
    "start_time": "2021-08-16T12:49:51.681Z"
   },
   {
    "duration": 4,
    "start_time": "2021-08-16T12:50:41.366Z"
   },
   {
    "duration": 5635,
    "start_time": "2021-08-16T12:50:44.032Z"
   },
   {
    "duration": 4,
    "start_time": "2021-08-16T12:50:52.599Z"
   },
   {
    "duration": 4789,
    "start_time": "2021-08-16T12:50:54.290Z"
   },
   {
    "duration": 4,
    "start_time": "2021-08-16T12:55:25.614Z"
   },
   {
    "duration": 16,
    "start_time": "2021-08-16T12:55:26.885Z"
   },
   {
    "duration": 14,
    "start_time": "2021-08-16T12:55:37.301Z"
   },
   {
    "duration": 15,
    "start_time": "2021-08-16T12:55:40.599Z"
   },
   {
    "duration": 14,
    "start_time": "2021-08-16T12:55:42.422Z"
   },
   {
    "duration": 16,
    "start_time": "2021-08-16T12:55:44.266Z"
   },
   {
    "duration": 14,
    "start_time": "2021-08-16T12:55:45.297Z"
   },
   {
    "duration": 194,
    "start_time": "2021-08-16T12:59:14.130Z"
   },
   {
    "duration": 5,
    "start_time": "2021-08-16T13:00:28.373Z"
   },
   {
    "duration": 16,
    "start_time": "2021-08-16T13:00:29.014Z"
   },
   {
    "duration": 3,
    "start_time": "2021-08-16T13:00:34.336Z"
   },
   {
    "duration": 16,
    "start_time": "2021-08-16T13:00:36.293Z"
   },
   {
    "duration": 4,
    "start_time": "2021-08-16T13:00:58.815Z"
   },
   {
    "duration": 22,
    "start_time": "2021-08-16T13:00:59.501Z"
   },
   {
    "duration": 4,
    "start_time": "2021-08-16T13:01:22.302Z"
   },
   {
    "duration": 22,
    "start_time": "2021-08-16T13:01:24.175Z"
   },
   {
    "duration": 4,
    "start_time": "2021-08-16T13:01:28.675Z"
   },
   {
    "duration": 21,
    "start_time": "2021-08-16T13:01:29.775Z"
   },
   {
    "duration": 4,
    "start_time": "2021-08-16T13:01:40.417Z"
   },
   {
    "duration": 21,
    "start_time": "2021-08-16T13:01:41.554Z"
   },
   {
    "duration": 18,
    "start_time": "2021-08-16T13:01:45.515Z"
   },
   {
    "duration": 61,
    "start_time": "2021-08-16T13:02:49.643Z"
   },
   {
    "duration": 21,
    "start_time": "2021-08-16T13:02:50.366Z"
   },
   {
    "duration": 4,
    "start_time": "2021-08-16T13:03:04.362Z"
   },
   {
    "duration": 20,
    "start_time": "2021-08-16T13:03:05.039Z"
   },
   {
    "duration": 3,
    "start_time": "2021-08-16T13:03:28.849Z"
   },
   {
    "duration": 18,
    "start_time": "2021-08-16T13:03:29.780Z"
   },
   {
    "duration": 14,
    "start_time": "2021-08-16T13:03:39.584Z"
   },
   {
    "duration": 15,
    "start_time": "2021-08-16T13:03:41.463Z"
   },
   {
    "duration": 3,
    "start_time": "2021-08-16T13:03:59.035Z"
   },
   {
    "duration": 20,
    "start_time": "2021-08-16T13:03:59.270Z"
   },
   {
    "duration": 3,
    "start_time": "2021-08-16T13:04:40.651Z"
   },
   {
    "duration": 19,
    "start_time": "2021-08-16T13:04:41.901Z"
   },
   {
    "duration": 4,
    "start_time": "2021-08-16T13:04:45.340Z"
   },
   {
    "duration": 17,
    "start_time": "2021-08-16T13:04:46.377Z"
   },
   {
    "duration": 3,
    "start_time": "2021-08-16T13:04:58.471Z"
   },
   {
    "duration": 17,
    "start_time": "2021-08-16T13:04:59.168Z"
   },
   {
    "duration": 4,
    "start_time": "2021-08-16T13:05:08.585Z"
   },
   {
    "duration": 3,
    "start_time": "2021-08-16T13:05:13.636Z"
   },
   {
    "duration": 16,
    "start_time": "2021-08-16T13:05:14.075Z"
   },
   {
    "duration": 14,
    "start_time": "2021-08-16T13:05:14.716Z"
   },
   {
    "duration": 15,
    "start_time": "2021-08-16T13:05:15.570Z"
   },
   {
    "duration": 14,
    "start_time": "2021-08-16T13:05:17.493Z"
   },
   {
    "duration": 16,
    "start_time": "2021-08-16T13:05:18.036Z"
   },
   {
    "duration": 15,
    "start_time": "2021-08-16T13:05:18.530Z"
   },
   {
    "duration": 62,
    "start_time": "2021-08-16T13:15:40.178Z"
   },
   {
    "duration": 59,
    "start_time": "2021-08-16T13:16:04.391Z"
   },
   {
    "duration": 7,
    "start_time": "2021-08-16T13:16:36.980Z"
   },
   {
    "duration": 9,
    "start_time": "2021-08-16T13:16:48.178Z"
   },
   {
    "duration": 3,
    "start_time": "2021-08-16T13:21:30.996Z"
   },
   {
    "duration": 4,
    "start_time": "2021-08-16T13:21:36.881Z"
   },
   {
    "duration": 23,
    "start_time": "2021-08-16T13:21:45.474Z"
   },
   {
    "duration": 10,
    "start_time": "2021-08-16T13:21:48.576Z"
   },
   {
    "duration": 8,
    "start_time": "2021-08-16T13:21:49.116Z"
   },
   {
    "duration": 22,
    "start_time": "2021-08-16T13:21:49.783Z"
   },
   {
    "duration": 16,
    "start_time": "2021-08-16T13:21:53.304Z"
   },
   {
    "duration": 23,
    "start_time": "2021-08-16T13:21:53.889Z"
   },
   {
    "duration": 53,
    "start_time": "2021-08-16T13:21:55.957Z"
   },
   {
    "duration": 61,
    "start_time": "2021-08-16T13:22:10.967Z"
   },
   {
    "duration": 51,
    "start_time": "2021-08-16T13:22:11.821Z"
   },
   {
    "duration": 3,
    "start_time": "2021-08-16T13:22:50.127Z"
   },
   {
    "duration": 156,
    "start_time": "2021-08-16T13:22:50.132Z"
   },
   {
    "duration": 10,
    "start_time": "2021-08-16T13:22:50.290Z"
   },
   {
    "duration": 26,
    "start_time": "2021-08-16T13:22:50.302Z"
   },
   {
    "duration": 4,
    "start_time": "2021-08-16T13:22:50.330Z"
   },
   {
    "duration": 6,
    "start_time": "2021-08-16T13:22:50.335Z"
   },
   {
    "duration": 9,
    "start_time": "2021-08-16T13:22:50.344Z"
   },
   {
    "duration": 43,
    "start_time": "2021-08-16T13:22:50.355Z"
   },
   {
    "duration": 13,
    "start_time": "2021-08-16T13:22:50.399Z"
   },
   {
    "duration": 11,
    "start_time": "2021-08-16T13:22:50.414Z"
   },
   {
    "duration": 27,
    "start_time": "2021-08-16T13:22:50.427Z"
   },
   {
    "duration": 34,
    "start_time": "2021-08-16T13:22:50.455Z"
   },
   {
    "duration": 34,
    "start_time": "2021-08-16T13:22:50.490Z"
   },
   {
    "duration": 70,
    "start_time": "2021-08-16T13:22:50.526Z"
   },
   {
    "duration": 59,
    "start_time": "2021-08-16T13:22:50.597Z"
   },
   {
    "duration": 61,
    "start_time": "2021-08-16T13:22:50.658Z"
   },
   {
    "duration": 5,
    "start_time": "2021-08-16T13:22:50.720Z"
   },
   {
    "duration": 27,
    "start_time": "2021-08-16T13:22:50.727Z"
   },
   {
    "duration": 30,
    "start_time": "2021-08-16T13:22:50.758Z"
   },
   {
    "duration": 16,
    "start_time": "2021-08-16T13:22:50.790Z"
   },
   {
    "duration": 5,
    "start_time": "2021-08-16T13:22:50.808Z"
   },
   {
    "duration": 9,
    "start_time": "2021-08-16T13:22:50.815Z"
   },
   {
    "duration": 18,
    "start_time": "2021-08-16T13:22:50.825Z"
   },
   {
    "duration": 23,
    "start_time": "2021-08-16T13:22:50.845Z"
   },
   {
    "duration": 24,
    "start_time": "2021-08-16T13:22:50.870Z"
   },
   {
    "duration": 198,
    "start_time": "2021-08-16T13:22:50.896Z"
   },
   {
    "duration": -740,
    "start_time": "2021-08-16T13:22:51.836Z"
   },
   {
    "duration": -749,
    "start_time": "2021-08-16T13:22:51.846Z"
   },
   {
    "duration": -752,
    "start_time": "2021-08-16T13:22:51.850Z"
   },
   {
    "duration": -754,
    "start_time": "2021-08-16T13:22:51.853Z"
   },
   {
    "duration": -758,
    "start_time": "2021-08-16T13:22:51.858Z"
   },
   {
    "duration": -760,
    "start_time": "2021-08-16T13:22:51.861Z"
   },
   {
    "duration": -762,
    "start_time": "2021-08-16T13:22:51.864Z"
   },
   {
    "duration": -763,
    "start_time": "2021-08-16T13:22:51.866Z"
   },
   {
    "duration": -765,
    "start_time": "2021-08-16T13:22:51.869Z"
   },
   {
    "duration": -768,
    "start_time": "2021-08-16T13:22:51.873Z"
   },
   {
    "duration": -771,
    "start_time": "2021-08-16T13:22:51.876Z"
   },
   {
    "duration": -773,
    "start_time": "2021-08-16T13:22:51.879Z"
   },
   {
    "duration": -776,
    "start_time": "2021-08-16T13:22:51.883Z"
   },
   {
    "duration": -776,
    "start_time": "2021-08-16T13:22:51.885Z"
   },
   {
    "duration": -780,
    "start_time": "2021-08-16T13:22:51.889Z"
   },
   {
    "duration": -782,
    "start_time": "2021-08-16T13:22:51.892Z"
   },
   {
    "duration": -785,
    "start_time": "2021-08-16T13:22:51.896Z"
   },
   {
    "duration": -788,
    "start_time": "2021-08-16T13:22:51.900Z"
   },
   {
    "duration": -791,
    "start_time": "2021-08-16T13:22:51.904Z"
   },
   {
    "duration": 2,
    "start_time": "2021-08-16T13:22:56.500Z"
   },
   {
    "duration": 144,
    "start_time": "2021-08-16T13:22:56.504Z"
   },
   {
    "duration": 11,
    "start_time": "2021-08-16T13:22:56.650Z"
   },
   {
    "duration": 28,
    "start_time": "2021-08-16T13:22:56.662Z"
   },
   {
    "duration": 6,
    "start_time": "2021-08-16T13:22:56.692Z"
   },
   {
    "duration": 10,
    "start_time": "2021-08-16T13:22:56.699Z"
   },
   {
    "duration": 11,
    "start_time": "2021-08-16T13:22:56.711Z"
   },
   {
    "duration": 25,
    "start_time": "2021-08-16T13:22:56.725Z"
   },
   {
    "duration": 11,
    "start_time": "2021-08-16T13:22:56.752Z"
   },
   {
    "duration": 21,
    "start_time": "2021-08-16T13:22:56.765Z"
   },
   {
    "duration": 34,
    "start_time": "2021-08-16T13:22:56.788Z"
   },
   {
    "duration": 15,
    "start_time": "2021-08-16T13:22:56.824Z"
   },
   {
    "duration": 24,
    "start_time": "2021-08-16T13:22:56.841Z"
   },
   {
    "duration": 69,
    "start_time": "2021-08-16T13:22:56.866Z"
   },
   {
    "duration": 70,
    "start_time": "2021-08-16T13:22:56.937Z"
   },
   {
    "duration": 49,
    "start_time": "2021-08-16T13:22:57.009Z"
   },
   {
    "duration": 4,
    "start_time": "2021-08-16T13:22:57.060Z"
   },
   {
    "duration": 19,
    "start_time": "2021-08-16T13:22:57.066Z"
   },
   {
    "duration": 8,
    "start_time": "2021-08-16T13:22:57.086Z"
   },
   {
    "duration": 14,
    "start_time": "2021-08-16T13:22:57.095Z"
   },
   {
    "duration": 6,
    "start_time": "2021-08-16T13:22:57.110Z"
   },
   {
    "duration": 5,
    "start_time": "2021-08-16T13:22:57.117Z"
   },
   {
    "duration": 13,
    "start_time": "2021-08-16T13:22:57.125Z"
   },
   {
    "duration": 23,
    "start_time": "2021-08-16T13:22:57.141Z"
   },
   {
    "duration": 11,
    "start_time": "2021-08-16T13:22:57.185Z"
   },
   {
    "duration": 189,
    "start_time": "2021-08-16T13:22:57.197Z"
   },
   {
    "duration": -759,
    "start_time": "2021-08-16T13:22:58.147Z"
   },
   {
    "duration": -762,
    "start_time": "2021-08-16T13:22:58.151Z"
   },
   {
    "duration": -764,
    "start_time": "2021-08-16T13:22:58.154Z"
   },
   {
    "duration": -765,
    "start_time": "2021-08-16T13:22:58.156Z"
   },
   {
    "duration": -770,
    "start_time": "2021-08-16T13:22:58.162Z"
   },
   {
    "duration": -772,
    "start_time": "2021-08-16T13:22:58.165Z"
   },
   {
    "duration": -774,
    "start_time": "2021-08-16T13:22:58.168Z"
   },
   {
    "duration": -775,
    "start_time": "2021-08-16T13:22:58.170Z"
   },
   {
    "duration": -779,
    "start_time": "2021-08-16T13:22:58.175Z"
   },
   {
    "duration": -780,
    "start_time": "2021-08-16T13:22:58.177Z"
   },
   {
    "duration": -781,
    "start_time": "2021-08-16T13:22:58.179Z"
   },
   {
    "duration": -780,
    "start_time": "2021-08-16T13:22:58.180Z"
   },
   {
    "duration": -783,
    "start_time": "2021-08-16T13:22:58.183Z"
   },
   {
    "duration": -788,
    "start_time": "2021-08-16T13:22:58.190Z"
   },
   {
    "duration": -789,
    "start_time": "2021-08-16T13:22:58.192Z"
   },
   {
    "duration": -790,
    "start_time": "2021-08-16T13:22:58.194Z"
   },
   {
    "duration": -791,
    "start_time": "2021-08-16T13:22:58.196Z"
   },
   {
    "duration": -792,
    "start_time": "2021-08-16T13:22:58.198Z"
   },
   {
    "duration": -793,
    "start_time": "2021-08-16T13:22:58.200Z"
   },
   {
    "duration": 11,
    "start_time": "2021-08-16T13:23:41.896Z"
   },
   {
    "duration": 3,
    "start_time": "2021-08-16T13:23:52.557Z"
   },
   {
    "duration": 17,
    "start_time": "2021-08-16T13:23:54.577Z"
   },
   {
    "duration": 16,
    "start_time": "2021-08-16T13:23:55.259Z"
   },
   {
    "duration": 16,
    "start_time": "2021-08-16T13:23:56.572Z"
   },
   {
    "duration": 15,
    "start_time": "2021-08-16T13:23:57.022Z"
   },
   {
    "duration": 16,
    "start_time": "2021-08-16T13:23:57.450Z"
   },
   {
    "duration": 15,
    "start_time": "2021-08-16T13:23:59.540Z"
   },
   {
    "duration": 10,
    "start_time": "2021-08-16T13:24:06.648Z"
   },
   {
    "duration": 22,
    "start_time": "2021-08-16T13:27:00.362Z"
   },
   {
    "duration": 22,
    "start_time": "2021-08-16T13:30:52.882Z"
   },
   {
    "duration": 8,
    "start_time": "2021-08-16T13:30:54.709Z"
   },
   {
    "duration": 8,
    "start_time": "2021-08-16T13:30:55.698Z"
   },
   {
    "duration": 21,
    "start_time": "2021-08-16T13:31:02.076Z"
   },
   {
    "duration": 3,
    "start_time": "2021-08-16T13:32:12.981Z"
   },
   {
    "duration": 161,
    "start_time": "2021-08-16T13:32:12.986Z"
   },
   {
    "duration": 10,
    "start_time": "2021-08-16T13:32:13.149Z"
   },
   {
    "duration": 33,
    "start_time": "2021-08-16T13:32:13.161Z"
   },
   {
    "duration": 15,
    "start_time": "2021-08-16T13:32:13.196Z"
   },
   {
    "duration": 17,
    "start_time": "2021-08-16T13:32:13.213Z"
   },
   {
    "duration": 14,
    "start_time": "2021-08-16T13:32:13.232Z"
   },
   {
    "duration": 31,
    "start_time": "2021-08-16T13:32:13.248Z"
   },
   {
    "duration": 12,
    "start_time": "2021-08-16T13:32:13.282Z"
   },
   {
    "duration": 18,
    "start_time": "2021-08-16T13:32:13.295Z"
   },
   {
    "duration": 31,
    "start_time": "2021-08-16T13:32:13.315Z"
   },
   {
    "duration": 29,
    "start_time": "2021-08-16T13:32:13.348Z"
   },
   {
    "duration": 28,
    "start_time": "2021-08-16T13:32:13.378Z"
   },
   {
    "duration": 63,
    "start_time": "2021-08-16T13:32:13.407Z"
   },
   {
    "duration": 60,
    "start_time": "2021-08-16T13:32:13.472Z"
   },
   {
    "duration": 57,
    "start_time": "2021-08-16T13:32:13.533Z"
   },
   {
    "duration": 5,
    "start_time": "2021-08-16T13:32:13.592Z"
   },
   {
    "duration": 13,
    "start_time": "2021-08-16T13:32:13.598Z"
   },
   {
    "duration": 22,
    "start_time": "2021-08-16T13:32:13.613Z"
   },
   {
    "duration": 18,
    "start_time": "2021-08-16T13:32:13.636Z"
   },
   {
    "duration": 23,
    "start_time": "2021-08-16T13:32:13.655Z"
   },
   {
    "duration": 19,
    "start_time": "2021-08-16T13:32:13.679Z"
   },
   {
    "duration": 22,
    "start_time": "2021-08-16T13:32:13.701Z"
   },
   {
    "duration": 30,
    "start_time": "2021-08-16T13:32:13.725Z"
   },
   {
    "duration": 15,
    "start_time": "2021-08-16T13:32:13.757Z"
   },
   {
    "duration": 12,
    "start_time": "2021-08-16T13:32:13.773Z"
   },
   {
    "duration": 9,
    "start_time": "2021-08-16T13:32:13.787Z"
   },
   {
    "duration": 27,
    "start_time": "2021-08-16T13:32:13.798Z"
   },
   {
    "duration": 17,
    "start_time": "2021-08-16T13:32:13.827Z"
   },
   {
    "duration": 14,
    "start_time": "2021-08-16T13:32:13.845Z"
   },
   {
    "duration": 18,
    "start_time": "2021-08-16T13:32:13.860Z"
   },
   {
    "duration": 23,
    "start_time": "2021-08-16T13:32:13.880Z"
   },
   {
    "duration": 20,
    "start_time": "2021-08-16T13:32:13.904Z"
   },
   {
    "duration": 7,
    "start_time": "2021-08-16T13:32:13.926Z"
   },
   {
    "duration": 19,
    "start_time": "2021-08-16T13:32:13.935Z"
   },
   {
    "duration": 10,
    "start_time": "2021-08-16T13:32:13.955Z"
   },
   {
    "duration": 12,
    "start_time": "2021-08-16T13:32:13.966Z"
   },
   {
    "duration": 19,
    "start_time": "2021-08-16T13:32:13.980Z"
   },
   {
    "duration": 16,
    "start_time": "2021-08-16T13:32:14.000Z"
   },
   {
    "duration": 13,
    "start_time": "2021-08-16T13:32:14.017Z"
   },
   {
    "duration": 22,
    "start_time": "2021-08-16T13:32:14.031Z"
   },
   {
    "duration": 14,
    "start_time": "2021-08-16T13:32:14.055Z"
   },
   {
    "duration": 15,
    "start_time": "2021-08-16T13:32:14.071Z"
   },
   {
    "duration": 13,
    "start_time": "2021-08-16T13:32:14.087Z"
   },
   {
    "duration": 14,
    "start_time": "2021-08-16T13:32:14.101Z"
   },
   {
    "duration": 22,
    "start_time": "2021-08-16T13:34:34.339Z"
   },
   {
    "duration": 67,
    "start_time": "2021-08-16T14:12:45.095Z"
   },
   {
    "duration": 85,
    "start_time": "2021-08-16T14:13:44.944Z"
   },
   {
    "duration": 61,
    "start_time": "2021-08-16T14:13:58.074Z"
   },
   {
    "duration": 63,
    "start_time": "2021-08-16T14:16:07.087Z"
   },
   {
    "duration": 64,
    "start_time": "2021-08-16T14:17:09.823Z"
   },
   {
    "duration": 70,
    "start_time": "2021-08-16T14:18:24.155Z"
   },
   {
    "duration": 71,
    "start_time": "2021-08-16T14:24:03.087Z"
   },
   {
    "duration": 6,
    "start_time": "2021-08-16T14:24:30.181Z"
   },
   {
    "duration": 4,
    "start_time": "2021-08-16T14:30:55.736Z"
   },
   {
    "duration": 246,
    "start_time": "2021-08-16T14:30:56.984Z"
   },
   {
    "duration": 214,
    "start_time": "2021-08-16T14:32:09.652Z"
   },
   {
    "duration": 200,
    "start_time": "2021-08-16T14:33:40.984Z"
   },
   {
    "duration": 62,
    "start_time": "2021-08-16T14:33:51.739Z"
   },
   {
    "duration": 11,
    "start_time": "2021-08-16T14:34:05.273Z"
   },
   {
    "duration": 6,
    "start_time": "2021-08-16T14:34:13.573Z"
   },
   {
    "duration": 3,
    "start_time": "2021-08-16T14:34:15.340Z"
   },
   {
    "duration": 19,
    "start_time": "2021-08-16T14:34:19.378Z"
   },
   {
    "duration": 8,
    "start_time": "2021-08-16T14:34:21.079Z"
   },
   {
    "duration": 18,
    "start_time": "2021-08-16T14:34:30.540Z"
   },
   {
    "duration": 8,
    "start_time": "2021-08-16T14:34:37.945Z"
   },
   {
    "duration": 10,
    "start_time": "2021-08-16T14:36:14.406Z"
   },
   {
    "duration": 4,
    "start_time": "2021-08-16T14:36:15.843Z"
   },
   {
    "duration": 18,
    "start_time": "2021-08-16T14:36:16.772Z"
   },
   {
    "duration": 14,
    "start_time": "2021-08-16T14:36:19.055Z"
   },
   {
    "duration": 18,
    "start_time": "2021-08-16T14:36:21.976Z"
   },
   {
    "duration": 13,
    "start_time": "2021-08-16T14:36:23.812Z"
   },
   {
    "duration": 20,
    "start_time": "2021-08-16T14:55:24.066Z"
   },
   {
    "duration": 21,
    "start_time": "2021-08-16T14:55:26.461Z"
   },
   {
    "duration": 13,
    "start_time": "2021-08-16T14:55:28.474Z"
   },
   {
    "duration": 201,
    "start_time": "2021-08-16T15:08:08.436Z"
   },
   {
    "duration": 187,
    "start_time": "2021-08-16T15:08:08.972Z"
   },
   {
    "duration": 189,
    "start_time": "2021-08-16T15:08:14.792Z"
   },
   {
    "duration": 8,
    "start_time": "2021-08-16T15:13:48.224Z"
   },
   {
    "duration": 5,
    "start_time": "2021-08-16T15:13:50.090Z"
   },
   {
    "duration": 6,
    "start_time": "2021-08-16T15:13:53.049Z"
   },
   {
    "duration": 5,
    "start_time": "2021-08-16T15:13:54.106Z"
   },
   {
    "duration": 588,
    "start_time": "2021-08-22T16:14:23.038Z"
   },
   {
    "duration": 133,
    "start_time": "2021-08-22T16:14:23.628Z"
   },
   {
    "duration": 17,
    "start_time": "2021-08-22T16:14:23.763Z"
   },
   {
    "duration": 27,
    "start_time": "2021-08-22T16:14:23.783Z"
   },
   {
    "duration": 6,
    "start_time": "2021-08-22T16:14:23.812Z"
   },
   {
    "duration": 24,
    "start_time": "2021-08-22T16:14:23.820Z"
   },
   {
    "duration": 11,
    "start_time": "2021-08-22T16:14:23.846Z"
   },
   {
    "duration": 24,
    "start_time": "2021-08-22T16:14:23.860Z"
   },
   {
    "duration": 10,
    "start_time": "2021-08-22T16:14:23.887Z"
   },
   {
    "duration": 14,
    "start_time": "2021-08-22T16:14:23.898Z"
   },
   {
    "duration": 56,
    "start_time": "2021-08-22T16:14:23.914Z"
   },
   {
    "duration": 21,
    "start_time": "2021-08-22T16:14:23.972Z"
   },
   {
    "duration": 48,
    "start_time": "2021-08-22T16:14:23.995Z"
   },
   {
    "duration": 54,
    "start_time": "2021-08-22T16:14:24.045Z"
   },
   {
    "duration": 76,
    "start_time": "2021-08-22T16:14:24.101Z"
   },
   {
    "duration": 62,
    "start_time": "2021-08-22T16:14:24.179Z"
   },
   {
    "duration": 6,
    "start_time": "2021-08-22T16:14:24.243Z"
   },
   {
    "duration": 4,
    "start_time": "2021-08-22T16:14:24.251Z"
   },
   {
    "duration": 8,
    "start_time": "2021-08-22T16:14:24.257Z"
   },
   {
    "duration": 9,
    "start_time": "2021-08-22T16:14:24.267Z"
   },
   {
    "duration": 5,
    "start_time": "2021-08-22T16:14:24.278Z"
   },
   {
    "duration": 5,
    "start_time": "2021-08-22T16:14:24.285Z"
   },
   {
    "duration": 12,
    "start_time": "2021-08-22T16:14:24.293Z"
   },
   {
    "duration": 50,
    "start_time": "2021-08-22T16:14:24.307Z"
   },
   {
    "duration": 11,
    "start_time": "2021-08-22T16:14:24.359Z"
   },
   {
    "duration": 10,
    "start_time": "2021-08-22T16:14:24.372Z"
   },
   {
    "duration": 3,
    "start_time": "2021-08-22T16:14:24.384Z"
   },
   {
    "duration": 17,
    "start_time": "2021-08-22T16:14:24.389Z"
   },
   {
    "duration": 46,
    "start_time": "2021-08-22T16:14:24.408Z"
   },
   {
    "duration": 17,
    "start_time": "2021-08-22T16:14:24.456Z"
   },
   {
    "duration": 20,
    "start_time": "2021-08-22T16:14:24.475Z"
   },
   {
    "duration": 20,
    "start_time": "2021-08-22T16:14:24.498Z"
   },
   {
    "duration": 29,
    "start_time": "2021-08-22T16:14:24.520Z"
   },
   {
    "duration": 8,
    "start_time": "2021-08-22T16:14:24.550Z"
   },
   {
    "duration": 12,
    "start_time": "2021-08-22T16:14:24.560Z"
   },
   {
    "duration": 8,
    "start_time": "2021-08-22T16:14:24.574Z"
   },
   {
    "duration": 4,
    "start_time": "2021-08-22T16:14:24.584Z"
   },
   {
    "duration": 53,
    "start_time": "2021-08-22T16:14:24.589Z"
   },
   {
    "duration": 12,
    "start_time": "2021-08-22T16:14:24.643Z"
   },
   {
    "duration": 16,
    "start_time": "2021-08-22T16:14:24.657Z"
   },
   {
    "duration": 16,
    "start_time": "2021-08-22T16:14:24.675Z"
   },
   {
    "duration": 11,
    "start_time": "2021-08-22T16:14:24.693Z"
   },
   {
    "duration": 5,
    "start_time": "2021-08-22T16:14:24.705Z"
   },
   {
    "duration": 6,
    "start_time": "2021-08-22T16:14:24.741Z"
   },
   {
    "duration": 7,
    "start_time": "2021-08-22T16:14:24.749Z"
   },
   {
    "duration": 340,
    "start_time": "2021-08-22T17:25:13.338Z"
   },
   {
    "duration": 574,
    "start_time": "2021-08-22T17:26:09.761Z"
   },
   {
    "duration": 136,
    "start_time": "2021-08-22T17:26:10.337Z"
   },
   {
    "duration": 18,
    "start_time": "2021-08-22T17:26:10.475Z"
   },
   {
    "duration": 29,
    "start_time": "2021-08-22T17:26:10.495Z"
   },
   {
    "duration": 16,
    "start_time": "2021-08-22T17:26:10.526Z"
   },
   {
    "duration": 4,
    "start_time": "2021-08-22T17:26:10.544Z"
   },
   {
    "duration": 11,
    "start_time": "2021-08-22T17:26:10.550Z"
   },
   {
    "duration": 29,
    "start_time": "2021-08-22T17:26:10.564Z"
   },
   {
    "duration": 8,
    "start_time": "2021-08-22T17:26:10.595Z"
   },
   {
    "duration": 11,
    "start_time": "2021-08-22T17:26:10.605Z"
   },
   {
    "duration": 34,
    "start_time": "2021-08-22T17:26:10.618Z"
   },
   {
    "duration": 18,
    "start_time": "2021-08-22T17:26:10.654Z"
   },
   {
    "duration": 23,
    "start_time": "2021-08-22T17:26:10.673Z"
   },
   {
    "duration": 80,
    "start_time": "2021-08-22T17:26:10.698Z"
   },
   {
    "duration": 83,
    "start_time": "2021-08-22T17:26:10.780Z"
   },
   {
    "duration": 53,
    "start_time": "2021-08-22T17:26:10.865Z"
   },
   {
    "duration": 7,
    "start_time": "2021-08-22T17:26:10.920Z"
   },
   {
    "duration": 4,
    "start_time": "2021-08-22T17:26:10.941Z"
   },
   {
    "duration": 9,
    "start_time": "2021-08-22T17:26:10.947Z"
   },
   {
    "duration": 7,
    "start_time": "2021-08-22T17:26:10.958Z"
   },
   {
    "duration": 6,
    "start_time": "2021-08-22T17:26:10.967Z"
   },
   {
    "duration": 5,
    "start_time": "2021-08-22T17:26:10.975Z"
   },
   {
    "duration": 34,
    "start_time": "2021-08-22T17:26:10.983Z"
   },
   {
    "duration": 36,
    "start_time": "2021-08-22T17:26:11.019Z"
   },
   {
    "duration": 24,
    "start_time": "2021-08-22T17:26:11.057Z"
   },
   {
    "duration": 13,
    "start_time": "2021-08-22T17:26:11.083Z"
   },
   {
    "duration": 10,
    "start_time": "2021-08-22T17:26:11.098Z"
   },
   {
    "duration": 38,
    "start_time": "2021-08-22T17:26:11.109Z"
   },
   {
    "duration": 21,
    "start_time": "2021-08-22T17:26:11.149Z"
   },
   {
    "duration": 32,
    "start_time": "2021-08-22T17:26:11.172Z"
   },
   {
    "duration": 29,
    "start_time": "2021-08-22T17:26:11.205Z"
   },
   {
    "duration": 31,
    "start_time": "2021-08-22T17:26:11.235Z"
   },
   {
    "duration": 25,
    "start_time": "2021-08-22T17:26:11.267Z"
   },
   {
    "duration": 13,
    "start_time": "2021-08-22T17:26:11.294Z"
   },
   {
    "duration": 22,
    "start_time": "2021-08-22T17:26:11.308Z"
   },
   {
    "duration": 18,
    "start_time": "2021-08-22T17:26:11.332Z"
   },
   {
    "duration": 9,
    "start_time": "2021-08-22T17:26:11.352Z"
   },
   {
    "duration": 23,
    "start_time": "2021-08-22T17:26:11.362Z"
   },
   {
    "duration": 11,
    "start_time": "2021-08-22T17:26:11.387Z"
   },
   {
    "duration": 18,
    "start_time": "2021-08-22T17:26:11.399Z"
   },
   {
    "duration": 15,
    "start_time": "2021-08-22T17:26:11.419Z"
   },
   {
    "duration": 13,
    "start_time": "2021-08-22T17:26:11.436Z"
   },
   {
    "duration": 9,
    "start_time": "2021-08-22T17:26:11.451Z"
   },
   {
    "duration": 10,
    "start_time": "2021-08-22T17:26:11.462Z"
   },
   {
    "duration": 12,
    "start_time": "2021-08-22T17:26:11.474Z"
   },
   {
    "duration": 573,
    "start_time": "2021-12-13T12:19:19.462Z"
   },
   {
    "duration": 139,
    "start_time": "2021-12-13T12:19:21.344Z"
   },
   {
    "duration": 346,
    "start_time": "2021-12-13T12:19:22.048Z"
   }
  ],
  "kernelspec": {
   "display_name": "Python 3 (ipykernel)",
   "language": "python",
   "name": "python3"
  },
  "language_info": {
   "codemirror_mode": {
    "name": "ipython",
    "version": 3
   },
   "file_extension": ".py",
   "mimetype": "text/x-python",
   "name": "python",
   "nbconvert_exporter": "python",
   "pygments_lexer": "ipython3",
   "version": "3.9.12"
  },
  "toc": {
   "base_numbering": 1,
   "nav_menu": {},
   "number_sections": true,
   "sideBar": true,
   "skip_h1_title": true,
   "title_cell": "Table of Contents",
   "title_sidebar": "Contents",
   "toc_cell": false,
   "toc_position": {},
   "toc_section_display": true,
   "toc_window_display": false
  }
 },
 "nbformat": 4,
 "nbformat_minor": 1
}

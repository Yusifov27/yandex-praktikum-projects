{
 "cells": [
  {
   "cell_type": "markdown",
   "metadata": {},
   "source": [
    "## Этап 1. Знакомство с данными"
   ]
  },
  {
   "cell_type": "markdown",
   "metadata": {},
   "source": [
    "### 1.1 Импортирование библиотек"
   ]
  },
  {
   "cell_type": "markdown",
   "metadata": {},
   "source": [
    "Импортируем необходимые библиотеки для нашей работы."
   ]
  },
  {
   "cell_type": "code",
   "execution_count": 1,
   "metadata": {},
   "outputs": [],
   "source": [
    "import pandas as pd\n",
    "import matplotlib.pyplot as plt\n",
    "import numpy as np\n",
    "import seaborn as sns\n",
    "from scipy import stats as st\n",
    "pd.options.display.float_format = '{:,.2f}'.format"
   ]
  },
  {
   "cell_type": "markdown",
   "metadata": {},
   "source": [
    "### 1.2 Чтение файлов и знакомство с данными"
   ]
  },
  {
   "cell_type": "markdown",
   "metadata": {},
   "source": [
    "Прочитаем предоставленные датасеты."
   ]
  },
  {
   "cell_type": "code",
   "execution_count": 2,
   "metadata": {},
   "outputs": [],
   "source": [
    "calls = pd.read_csv('/datasets/calls.csv') # информация о звонках\n",
    "internet = pd.read_csv('/datasets/internet.csv') # информация об интернет-сессиях\n",
    "messages = pd.read_csv('/datasets/messages.csv') # информация о сообщениях\n",
    "tariffs = pd.read_csv('/datasets/tariffs.csv') # информация о тарифах\n",
    "users = pd.read_csv('/datasets/users.csv') # информация о пользователях"
   ]
  },
  {
   "cell_type": "markdown",
   "metadata": {},
   "source": [
    "Пройдемся более подробно по нашим датасетам."
   ]
  },
  {
   "cell_type": "markdown",
   "metadata": {},
   "source": [
    "#### 1.2.1 calls"
   ]
  },
  {
   "cell_type": "markdown",
   "metadata": {},
   "source": [
    "Посмотрим на 10 случайных строк датасета calls."
   ]
  },
  {
   "cell_type": "code",
   "execution_count": 3,
   "metadata": {},
   "outputs": [
    {
     "data": {
      "text/html": [
       "<div>\n",
       "<style scoped>\n",
       "    .dataframe tbody tr th:only-of-type {\n",
       "        vertical-align: middle;\n",
       "    }\n",
       "\n",
       "    .dataframe tbody tr th {\n",
       "        vertical-align: top;\n",
       "    }\n",
       "\n",
       "    .dataframe thead th {\n",
       "        text-align: right;\n",
       "    }\n",
       "</style>\n",
       "<table border=\"1\" class=\"dataframe\">\n",
       "  <thead>\n",
       "    <tr style=\"text-align: right;\">\n",
       "      <th></th>\n",
       "      <th>id</th>\n",
       "      <th>call_date</th>\n",
       "      <th>duration</th>\n",
       "      <th>user_id</th>\n",
       "    </tr>\n",
       "  </thead>\n",
       "  <tbody>\n",
       "    <tr>\n",
       "      <td>101577</td>\n",
       "      <td>1261_195</td>\n",
       "      <td>2018-11-22</td>\n",
       "      <td>3.95</td>\n",
       "      <td>1261</td>\n",
       "    </tr>\n",
       "    <tr>\n",
       "      <td>161608</td>\n",
       "      <td>1396_309</td>\n",
       "      <td>2018-08-24</td>\n",
       "      <td>1.91</td>\n",
       "      <td>1396</td>\n",
       "    </tr>\n",
       "    <tr>\n",
       "      <td>35930</td>\n",
       "      <td>1089_403</td>\n",
       "      <td>2018-11-04</td>\n",
       "      <td>19.19</td>\n",
       "      <td>1089</td>\n",
       "    </tr>\n",
       "    <tr>\n",
       "      <td>23418</td>\n",
       "      <td>1059_502</td>\n",
       "      <td>2018-08-19</td>\n",
       "      <td>19.38</td>\n",
       "      <td>1059</td>\n",
       "    </tr>\n",
       "    <tr>\n",
       "      <td>64916</td>\n",
       "      <td>1168_67</td>\n",
       "      <td>2018-10-22</td>\n",
       "      <td>0.00</td>\n",
       "      <td>1168</td>\n",
       "    </tr>\n",
       "    <tr>\n",
       "      <td>190179</td>\n",
       "      <td>1468_150</td>\n",
       "      <td>2018-07-23</td>\n",
       "      <td>13.28</td>\n",
       "      <td>1468</td>\n",
       "    </tr>\n",
       "    <tr>\n",
       "      <td>60292</td>\n",
       "      <td>1151_317</td>\n",
       "      <td>2018-12-10</td>\n",
       "      <td>11.82</td>\n",
       "      <td>1151</td>\n",
       "    </tr>\n",
       "    <tr>\n",
       "      <td>173549</td>\n",
       "      <td>1429_18</td>\n",
       "      <td>2018-09-23</td>\n",
       "      <td>2.33</td>\n",
       "      <td>1429</td>\n",
       "    </tr>\n",
       "    <tr>\n",
       "      <td>117164</td>\n",
       "      <td>1301_56</td>\n",
       "      <td>2018-10-24</td>\n",
       "      <td>0.51</td>\n",
       "      <td>1301</td>\n",
       "    </tr>\n",
       "    <tr>\n",
       "      <td>48036</td>\n",
       "      <td>1120_137</td>\n",
       "      <td>2018-10-21</td>\n",
       "      <td>7.45</td>\n",
       "      <td>1120</td>\n",
       "    </tr>\n",
       "  </tbody>\n",
       "</table>\n",
       "</div>"
      ],
      "text/plain": [
       "              id   call_date  duration  user_id\n",
       "101577  1261_195  2018-11-22      3.95     1261\n",
       "161608  1396_309  2018-08-24      1.91     1396\n",
       "35930   1089_403  2018-11-04     19.19     1089\n",
       "23418   1059_502  2018-08-19     19.38     1059\n",
       "64916    1168_67  2018-10-22      0.00     1168\n",
       "190179  1468_150  2018-07-23     13.28     1468\n",
       "60292   1151_317  2018-12-10     11.82     1151\n",
       "173549   1429_18  2018-09-23      2.33     1429\n",
       "117164   1301_56  2018-10-24      0.51     1301\n",
       "48036   1120_137  2018-10-21      7.45     1120"
      ]
     },
     "execution_count": 3,
     "metadata": {},
     "output_type": "execute_result"
    }
   ],
   "source": [
    "calls.sample(10)"
   ]
  },
  {
   "cell_type": "markdown",
   "metadata": {},
   "source": [
    "В нашем датасете встречаются такие столбцы как:\n",
    "* id — уникальный номер звонка\n",
    "* call_date — дата звонка\n",
    "* duration — длительность звонка в минутах\n",
    "* user_id — идентификатор пользователя, сделавшего звонок"
   ]
  },
  {
   "cell_type": "markdown",
   "metadata": {},
   "source": [
    "Посмотрим нет ли аномальных значений в нашем датасете."
   ]
  },
  {
   "cell_type": "code",
   "execution_count": 4,
   "metadata": {},
   "outputs": [
    {
     "data": {
      "text/html": [
       "<div>\n",
       "<style scoped>\n",
       "    .dataframe tbody tr th:only-of-type {\n",
       "        vertical-align: middle;\n",
       "    }\n",
       "\n",
       "    .dataframe tbody tr th {\n",
       "        vertical-align: top;\n",
       "    }\n",
       "\n",
       "    .dataframe thead th {\n",
       "        text-align: right;\n",
       "    }\n",
       "</style>\n",
       "<table border=\"1\" class=\"dataframe\">\n",
       "  <thead>\n",
       "    <tr style=\"text-align: right;\">\n",
       "      <th></th>\n",
       "      <th>duration</th>\n",
       "      <th>user_id</th>\n",
       "    </tr>\n",
       "  </thead>\n",
       "  <tbody>\n",
       "    <tr>\n",
       "      <td>count</td>\n",
       "      <td>202,607.00</td>\n",
       "      <td>202,607.00</td>\n",
       "    </tr>\n",
       "    <tr>\n",
       "      <td>mean</td>\n",
       "      <td>6.76</td>\n",
       "      <td>1,253.94</td>\n",
       "    </tr>\n",
       "    <tr>\n",
       "      <td>std</td>\n",
       "      <td>5.84</td>\n",
       "      <td>144.72</td>\n",
       "    </tr>\n",
       "    <tr>\n",
       "      <td>min</td>\n",
       "      <td>0.00</td>\n",
       "      <td>1,000.00</td>\n",
       "    </tr>\n",
       "    <tr>\n",
       "      <td>25%</td>\n",
       "      <td>1.30</td>\n",
       "      <td>1,126.00</td>\n",
       "    </tr>\n",
       "    <tr>\n",
       "      <td>50%</td>\n",
       "      <td>6.00</td>\n",
       "      <td>1,260.00</td>\n",
       "    </tr>\n",
       "    <tr>\n",
       "      <td>75%</td>\n",
       "      <td>10.70</td>\n",
       "      <td>1,379.00</td>\n",
       "    </tr>\n",
       "    <tr>\n",
       "      <td>max</td>\n",
       "      <td>38.00</td>\n",
       "      <td>1,499.00</td>\n",
       "    </tr>\n",
       "  </tbody>\n",
       "</table>\n",
       "</div>"
      ],
      "text/plain": [
       "        duration    user_id\n",
       "count 202,607.00 202,607.00\n",
       "mean        6.76   1,253.94\n",
       "std         5.84     144.72\n",
       "min         0.00   1,000.00\n",
       "25%         1.30   1,126.00\n",
       "50%         6.00   1,260.00\n",
       "75%        10.70   1,379.00\n",
       "max        38.00   1,499.00"
      ]
     },
     "execution_count": 4,
     "metadata": {},
     "output_type": "execute_result"
    }
   ],
   "source": [
    "calls.describe()"
   ]
  },
  {
   "cell_type": "markdown",
   "metadata": {},
   "source": [
    "Здесь в duration встречаются минимальное значение 0, это наши пропущенные звонки. Все в порядке, аномальных значений не выявлено."
   ]
  },
  {
   "cell_type": "markdown",
   "metadata": {},
   "source": [
    "Познакомимся с общей информацией."
   ]
  },
  {
   "cell_type": "code",
   "execution_count": 5,
   "metadata": {
    "scrolled": true
   },
   "outputs": [
    {
     "name": "stdout",
     "output_type": "stream",
     "text": [
      "<class 'pandas.core.frame.DataFrame'>\n",
      "RangeIndex: 202607 entries, 0 to 202606\n",
      "Data columns (total 4 columns):\n",
      "id           202607 non-null object\n",
      "call_date    202607 non-null object\n",
      "duration     202607 non-null float64\n",
      "user_id      202607 non-null int64\n",
      "dtypes: float64(1), int64(1), object(2)\n",
      "memory usage: 6.2+ MB\n"
     ]
    }
   ],
   "source": [
    "calls.info()"
   ]
  },
  {
   "cell_type": "markdown",
   "metadata": {},
   "source": [
    "Обратим внимание, что call_date представлен как object, в дальнейшемм необходимо будет заменить на datetime. Значение в duration нам нужны будут в дальнейшем с округлением в большую сторону, также после этого есть возможность изменить тип данных на целочисленные значения."
   ]
  },
  {
   "cell_type": "markdown",
   "metadata": {},
   "source": [
    "Проверим имееются ли явные дубликаты."
   ]
  },
  {
   "cell_type": "code",
   "execution_count": 6,
   "metadata": {},
   "outputs": [
    {
     "data": {
      "text/plain": [
       "0"
      ]
     },
     "execution_count": 6,
     "metadata": {},
     "output_type": "execute_result"
    }
   ],
   "source": [
    "calls.duplicated().sum()"
   ]
  },
  {
   "cell_type": "markdown",
   "metadata": {},
   "source": [
    "Явных дубликатов нет."
   ]
  },
  {
   "cell_type": "markdown",
   "metadata": {},
   "source": [
    "#### 1.2.2 internet\n"
   ]
  },
  {
   "cell_type": "markdown",
   "metadata": {},
   "source": [
    "Посмотрим на 10 случайных строк датасета internet."
   ]
  },
  {
   "cell_type": "code",
   "execution_count": 7,
   "metadata": {},
   "outputs": [
    {
     "data": {
      "text/html": [
       "<div>\n",
       "<style scoped>\n",
       "    .dataframe tbody tr th:only-of-type {\n",
       "        vertical-align: middle;\n",
       "    }\n",
       "\n",
       "    .dataframe tbody tr th {\n",
       "        vertical-align: top;\n",
       "    }\n",
       "\n",
       "    .dataframe thead th {\n",
       "        text-align: right;\n",
       "    }\n",
       "</style>\n",
       "<table border=\"1\" class=\"dataframe\">\n",
       "  <thead>\n",
       "    <tr style=\"text-align: right;\">\n",
       "      <th></th>\n",
       "      <th>Unnamed: 0</th>\n",
       "      <th>id</th>\n",
       "      <th>mb_used</th>\n",
       "      <th>session_date</th>\n",
       "      <th>user_id</th>\n",
       "    </tr>\n",
       "  </thead>\n",
       "  <tbody>\n",
       "    <tr>\n",
       "      <td>12893</td>\n",
       "      <td>12893</td>\n",
       "      <td>1045_69</td>\n",
       "      <td>499.43</td>\n",
       "      <td>2018-05-09</td>\n",
       "      <td>1045</td>\n",
       "    </tr>\n",
       "    <tr>\n",
       "      <td>44299</td>\n",
       "      <td>44299</td>\n",
       "      <td>1153_2</td>\n",
       "      <td>203.59</td>\n",
       "      <td>2018-12-12</td>\n",
       "      <td>1153</td>\n",
       "    </tr>\n",
       "    <tr>\n",
       "      <td>99660</td>\n",
       "      <td>99660</td>\n",
       "      <td>1334_66</td>\n",
       "      <td>0.69</td>\n",
       "      <td>2018-11-16</td>\n",
       "      <td>1334</td>\n",
       "    </tr>\n",
       "    <tr>\n",
       "      <td>58716</td>\n",
       "      <td>58716</td>\n",
       "      <td>1197_351</td>\n",
       "      <td>586.88</td>\n",
       "      <td>2018-07-05</td>\n",
       "      <td>1197</td>\n",
       "    </tr>\n",
       "    <tr>\n",
       "      <td>57157</td>\n",
       "      <td>57157</td>\n",
       "      <td>1189_596</td>\n",
       "      <td>237.77</td>\n",
       "      <td>2018-09-04</td>\n",
       "      <td>1189</td>\n",
       "    </tr>\n",
       "    <tr>\n",
       "      <td>99423</td>\n",
       "      <td>99423</td>\n",
       "      <td>1332_397</td>\n",
       "      <td>266.21</td>\n",
       "      <td>2018-11-09</td>\n",
       "      <td>1332</td>\n",
       "    </tr>\n",
       "    <tr>\n",
       "      <td>127105</td>\n",
       "      <td>127105</td>\n",
       "      <td>1426_186</td>\n",
       "      <td>205.30</td>\n",
       "      <td>2018-11-10</td>\n",
       "      <td>1426</td>\n",
       "    </tr>\n",
       "    <tr>\n",
       "      <td>72015</td>\n",
       "      <td>72015</td>\n",
       "      <td>1243_232</td>\n",
       "      <td>581.05</td>\n",
       "      <td>2018-09-14</td>\n",
       "      <td>1243</td>\n",
       "    </tr>\n",
       "    <tr>\n",
       "      <td>42180</td>\n",
       "      <td>42180</td>\n",
       "      <td>1147_136</td>\n",
       "      <td>421.57</td>\n",
       "      <td>2018-11-02</td>\n",
       "      <td>1147</td>\n",
       "    </tr>\n",
       "    <tr>\n",
       "      <td>98769</td>\n",
       "      <td>98769</td>\n",
       "      <td>1331_293</td>\n",
       "      <td>753.11</td>\n",
       "      <td>2018-10-08</td>\n",
       "      <td>1331</td>\n",
       "    </tr>\n",
       "  </tbody>\n",
       "</table>\n",
       "</div>"
      ],
      "text/plain": [
       "        Unnamed: 0        id  mb_used session_date  user_id\n",
       "12893        12893   1045_69   499.43   2018-05-09     1045\n",
       "44299        44299    1153_2   203.59   2018-12-12     1153\n",
       "99660        99660   1334_66     0.69   2018-11-16     1334\n",
       "58716        58716  1197_351   586.88   2018-07-05     1197\n",
       "57157        57157  1189_596   237.77   2018-09-04     1189\n",
       "99423        99423  1332_397   266.21   2018-11-09     1332\n",
       "127105      127105  1426_186   205.30   2018-11-10     1426\n",
       "72015        72015  1243_232   581.05   2018-09-14     1243\n",
       "42180        42180  1147_136   421.57   2018-11-02     1147\n",
       "98769        98769  1331_293   753.11   2018-10-08     1331"
      ]
     },
     "execution_count": 7,
     "metadata": {},
     "output_type": "execute_result"
    }
   ],
   "source": [
    "internet.sample(10)"
   ]
  },
  {
   "cell_type": "markdown",
   "metadata": {},
   "source": [
    "Здесь встречаются такие столбцы:\n",
    "* id — уникальный номер сессии\n",
    "* mb_used — объём потраченного за сессию интернет-трафика (в мегабайтах)\n",
    "* session_date — дата интернет-сессии\n",
    "* user_id — идентификатор пользователя"
   ]
  },
  {
   "cell_type": "markdown",
   "metadata": {},
   "source": [
    "Посмотрим встречаются ли аномальные значения."
   ]
  },
  {
   "cell_type": "code",
   "execution_count": 8,
   "metadata": {},
   "outputs": [
    {
     "data": {
      "text/html": [
       "<div>\n",
       "<style scoped>\n",
       "    .dataframe tbody tr th:only-of-type {\n",
       "        vertical-align: middle;\n",
       "    }\n",
       "\n",
       "    .dataframe tbody tr th {\n",
       "        vertical-align: top;\n",
       "    }\n",
       "\n",
       "    .dataframe thead th {\n",
       "        text-align: right;\n",
       "    }\n",
       "</style>\n",
       "<table border=\"1\" class=\"dataframe\">\n",
       "  <thead>\n",
       "    <tr style=\"text-align: right;\">\n",
       "      <th></th>\n",
       "      <th>Unnamed: 0</th>\n",
       "      <th>mb_used</th>\n",
       "      <th>user_id</th>\n",
       "    </tr>\n",
       "  </thead>\n",
       "  <tbody>\n",
       "    <tr>\n",
       "      <td>count</td>\n",
       "      <td>149,396.00</td>\n",
       "      <td>149,396.00</td>\n",
       "      <td>149,396.00</td>\n",
       "    </tr>\n",
       "    <tr>\n",
       "      <td>mean</td>\n",
       "      <td>74,697.50</td>\n",
       "      <td>370.19</td>\n",
       "      <td>1,252.10</td>\n",
       "    </tr>\n",
       "    <tr>\n",
       "      <td>std</td>\n",
       "      <td>43,127.05</td>\n",
       "      <td>278.30</td>\n",
       "      <td>144.05</td>\n",
       "    </tr>\n",
       "    <tr>\n",
       "      <td>min</td>\n",
       "      <td>0.00</td>\n",
       "      <td>0.00</td>\n",
       "      <td>1,000.00</td>\n",
       "    </tr>\n",
       "    <tr>\n",
       "      <td>25%</td>\n",
       "      <td>37,348.75</td>\n",
       "      <td>138.19</td>\n",
       "      <td>1,130.00</td>\n",
       "    </tr>\n",
       "    <tr>\n",
       "      <td>50%</td>\n",
       "      <td>74,697.50</td>\n",
       "      <td>348.01</td>\n",
       "      <td>1,251.00</td>\n",
       "    </tr>\n",
       "    <tr>\n",
       "      <td>75%</td>\n",
       "      <td>112,046.25</td>\n",
       "      <td>559.55</td>\n",
       "      <td>1,380.00</td>\n",
       "    </tr>\n",
       "    <tr>\n",
       "      <td>max</td>\n",
       "      <td>149,395.00</td>\n",
       "      <td>1,724.83</td>\n",
       "      <td>1,499.00</td>\n",
       "    </tr>\n",
       "  </tbody>\n",
       "</table>\n",
       "</div>"
      ],
      "text/plain": [
       "       Unnamed: 0    mb_used    user_id\n",
       "count  149,396.00 149,396.00 149,396.00\n",
       "mean    74,697.50     370.19   1,252.10\n",
       "std     43,127.05     278.30     144.05\n",
       "min          0.00       0.00   1,000.00\n",
       "25%     37,348.75     138.19   1,130.00\n",
       "50%     74,697.50     348.01   1,251.00\n",
       "75%    112,046.25     559.55   1,380.00\n",
       "max    149,395.00   1,724.83   1,499.00"
      ]
     },
     "execution_count": 8,
     "metadata": {},
     "output_type": "execute_result"
    }
   ],
   "source": [
    "internet.describe()"
   ]
  },
  {
   "cell_type": "markdown",
   "metadata": {},
   "source": [
    "Здесь можно отметить опять же минимальное значение по трафику интернета,выраженное 0. Надо будет уточнить у менеджера, почему имеются такие значения, вполне возможно это простое включение интернета без его использования, либо использование ресурсов оператора не учитывает трафик, например личный кабинет, либо использование приложения оператора."
   ]
  },
  {
   "cell_type": "markdown",
   "metadata": {},
   "source": [
    "Познакомимся с общей информацией."
   ]
  },
  {
   "cell_type": "code",
   "execution_count": 9,
   "metadata": {
    "scrolled": true
   },
   "outputs": [
    {
     "name": "stdout",
     "output_type": "stream",
     "text": [
      "<class 'pandas.core.frame.DataFrame'>\n",
      "RangeIndex: 149396 entries, 0 to 149395\n",
      "Data columns (total 5 columns):\n",
      "Unnamed: 0      149396 non-null int64\n",
      "id              149396 non-null object\n",
      "mb_used         149396 non-null float64\n",
      "session_date    149396 non-null object\n",
      "user_id         149396 non-null int64\n",
      "dtypes: float64(1), int64(2), object(2)\n",
      "memory usage: 5.7+ MB\n"
     ]
    }
   ],
   "source": [
    "internet.info()"
   ]
  },
  {
   "cell_type": "markdown",
   "metadata": {},
   "source": [
    "Здесь можно обратить внимание, что столбец Unnamed: 0 задвоился с индексом. mb_used в дальнейшем нужно будет округлить, и соответственно, сможем изменить тип данных на целые числа. session_date необходимо будет заменить на datetime."
   ]
  },
  {
   "cell_type": "markdown",
   "metadata": {},
   "source": [
    "Проверим на наличие явных дубликатов. "
   ]
  },
  {
   "cell_type": "code",
   "execution_count": 10,
   "metadata": {},
   "outputs": [
    {
     "data": {
      "text/plain": [
       "0"
      ]
     },
     "execution_count": 10,
     "metadata": {},
     "output_type": "execute_result"
    }
   ],
   "source": [
    "internet.duplicated().sum()"
   ]
  },
  {
   "cell_type": "markdown",
   "metadata": {},
   "source": [
    "Явных дубликатов нет."
   ]
  },
  {
   "cell_type": "markdown",
   "metadata": {},
   "source": [
    "#### 1.2.3 messages"
   ]
  },
  {
   "cell_type": "markdown",
   "metadata": {},
   "source": [
    "Посмотрим на 10 первых строк датасета messages."
   ]
  },
  {
   "cell_type": "code",
   "execution_count": 11,
   "metadata": {},
   "outputs": [
    {
     "data": {
      "text/html": [
       "<div>\n",
       "<style scoped>\n",
       "    .dataframe tbody tr th:only-of-type {\n",
       "        vertical-align: middle;\n",
       "    }\n",
       "\n",
       "    .dataframe tbody tr th {\n",
       "        vertical-align: top;\n",
       "    }\n",
       "\n",
       "    .dataframe thead th {\n",
       "        text-align: right;\n",
       "    }\n",
       "</style>\n",
       "<table border=\"1\" class=\"dataframe\">\n",
       "  <thead>\n",
       "    <tr style=\"text-align: right;\">\n",
       "      <th></th>\n",
       "      <th>id</th>\n",
       "      <th>message_date</th>\n",
       "      <th>user_id</th>\n",
       "    </tr>\n",
       "  </thead>\n",
       "  <tbody>\n",
       "    <tr>\n",
       "      <td>0</td>\n",
       "      <td>1000_0</td>\n",
       "      <td>2018-06-27</td>\n",
       "      <td>1000</td>\n",
       "    </tr>\n",
       "    <tr>\n",
       "      <td>1</td>\n",
       "      <td>1000_1</td>\n",
       "      <td>2018-10-08</td>\n",
       "      <td>1000</td>\n",
       "    </tr>\n",
       "    <tr>\n",
       "      <td>2</td>\n",
       "      <td>1000_2</td>\n",
       "      <td>2018-08-04</td>\n",
       "      <td>1000</td>\n",
       "    </tr>\n",
       "    <tr>\n",
       "      <td>3</td>\n",
       "      <td>1000_3</td>\n",
       "      <td>2018-06-16</td>\n",
       "      <td>1000</td>\n",
       "    </tr>\n",
       "    <tr>\n",
       "      <td>4</td>\n",
       "      <td>1000_4</td>\n",
       "      <td>2018-12-05</td>\n",
       "      <td>1000</td>\n",
       "    </tr>\n",
       "    <tr>\n",
       "      <td>5</td>\n",
       "      <td>1000_5</td>\n",
       "      <td>2018-06-20</td>\n",
       "      <td>1000</td>\n",
       "    </tr>\n",
       "    <tr>\n",
       "      <td>6</td>\n",
       "      <td>1000_6</td>\n",
       "      <td>2018-11-19</td>\n",
       "      <td>1000</td>\n",
       "    </tr>\n",
       "    <tr>\n",
       "      <td>7</td>\n",
       "      <td>1000_7</td>\n",
       "      <td>2018-10-29</td>\n",
       "      <td>1000</td>\n",
       "    </tr>\n",
       "    <tr>\n",
       "      <td>8</td>\n",
       "      <td>1000_8</td>\n",
       "      <td>2018-06-25</td>\n",
       "      <td>1000</td>\n",
       "    </tr>\n",
       "    <tr>\n",
       "      <td>9</td>\n",
       "      <td>1000_9</td>\n",
       "      <td>2018-12-18</td>\n",
       "      <td>1000</td>\n",
       "    </tr>\n",
       "  </tbody>\n",
       "</table>\n",
       "</div>"
      ],
      "text/plain": [
       "       id message_date  user_id\n",
       "0  1000_0   2018-06-27     1000\n",
       "1  1000_1   2018-10-08     1000\n",
       "2  1000_2   2018-08-04     1000\n",
       "3  1000_3   2018-06-16     1000\n",
       "4  1000_4   2018-12-05     1000\n",
       "5  1000_5   2018-06-20     1000\n",
       "6  1000_6   2018-11-19     1000\n",
       "7  1000_7   2018-10-29     1000\n",
       "8  1000_8   2018-06-25     1000\n",
       "9  1000_9   2018-12-18     1000"
      ]
     },
     "execution_count": 11,
     "metadata": {},
     "output_type": "execute_result"
    }
   ],
   "source": [
    "messages.head(10)"
   ]
  },
  {
   "cell_type": "markdown",
   "metadata": {},
   "source": [
    "Встречаются такие столбцы как:\n",
    "* id — уникальный номер сообщения\n",
    "* message_date — дата сообщения\n",
    "* user_id — идентификатор пользователя, отправившего сообщение    "
   ]
  },
  {
   "cell_type": "markdown",
   "metadata": {},
   "source": [
    "Познакомимся с общей информацией."
   ]
  },
  {
   "cell_type": "code",
   "execution_count": 12,
   "metadata": {},
   "outputs": [
    {
     "name": "stdout",
     "output_type": "stream",
     "text": [
      "<class 'pandas.core.frame.DataFrame'>\n",
      "RangeIndex: 123036 entries, 0 to 123035\n",
      "Data columns (total 3 columns):\n",
      "id              123036 non-null object\n",
      "message_date    123036 non-null object\n",
      "user_id         123036 non-null int64\n",
      "dtypes: int64(1), object(2)\n",
      "memory usage: 2.8+ MB\n"
     ]
    }
   ],
   "source": [
    "messages.info()"
   ]
  },
  {
   "cell_type": "markdown",
   "metadata": {},
   "source": [
    "В message_date потребуется изменить данных на datetime."
   ]
  },
  {
   "cell_type": "markdown",
   "metadata": {},
   "source": [
    "Проверим наличие явных дубликатов."
   ]
  },
  {
   "cell_type": "code",
   "execution_count": 13,
   "metadata": {},
   "outputs": [
    {
     "data": {
      "text/plain": [
       "0"
      ]
     },
     "execution_count": 13,
     "metadata": {},
     "output_type": "execute_result"
    }
   ],
   "source": [
    "messages.duplicated().sum()"
   ]
  },
  {
   "cell_type": "markdown",
   "metadata": {},
   "source": [
    "Явных дубликатов нет."
   ]
  },
  {
   "cell_type": "markdown",
   "metadata": {},
   "source": [
    "#### 1.2.4 tariffs"
   ]
  },
  {
   "cell_type": "markdown",
   "metadata": {},
   "source": [
    "Познакомимся со строками из датасета tariffs."
   ]
  },
  {
   "cell_type": "code",
   "execution_count": 14,
   "metadata": {},
   "outputs": [
    {
     "data": {
      "text/html": [
       "<div>\n",
       "<style scoped>\n",
       "    .dataframe tbody tr th:only-of-type {\n",
       "        vertical-align: middle;\n",
       "    }\n",
       "\n",
       "    .dataframe tbody tr th {\n",
       "        vertical-align: top;\n",
       "    }\n",
       "\n",
       "    .dataframe thead th {\n",
       "        text-align: right;\n",
       "    }\n",
       "</style>\n",
       "<table border=\"1\" class=\"dataframe\">\n",
       "  <thead>\n",
       "    <tr style=\"text-align: right;\">\n",
       "      <th></th>\n",
       "      <th>messages_included</th>\n",
       "      <th>mb_per_month_included</th>\n",
       "      <th>minutes_included</th>\n",
       "      <th>rub_monthly_fee</th>\n",
       "      <th>rub_per_gb</th>\n",
       "      <th>rub_per_message</th>\n",
       "      <th>rub_per_minute</th>\n",
       "      <th>tariff_name</th>\n",
       "    </tr>\n",
       "  </thead>\n",
       "  <tbody>\n",
       "    <tr>\n",
       "      <td>0</td>\n",
       "      <td>50</td>\n",
       "      <td>15360</td>\n",
       "      <td>500</td>\n",
       "      <td>550</td>\n",
       "      <td>200</td>\n",
       "      <td>3</td>\n",
       "      <td>3</td>\n",
       "      <td>smart</td>\n",
       "    </tr>\n",
       "    <tr>\n",
       "      <td>1</td>\n",
       "      <td>1000</td>\n",
       "      <td>30720</td>\n",
       "      <td>3000</td>\n",
       "      <td>1950</td>\n",
       "      <td>150</td>\n",
       "      <td>1</td>\n",
       "      <td>1</td>\n",
       "      <td>ultra</td>\n",
       "    </tr>\n",
       "  </tbody>\n",
       "</table>\n",
       "</div>"
      ],
      "text/plain": [
       "   messages_included  mb_per_month_included  minutes_included  \\\n",
       "0                 50                  15360               500   \n",
       "1               1000                  30720              3000   \n",
       "\n",
       "   rub_monthly_fee  rub_per_gb  rub_per_message  rub_per_minute tariff_name  \n",
       "0              550         200                3               3       smart  \n",
       "1             1950         150                1               1       ultra  "
      ]
     },
     "execution_count": 14,
     "metadata": {},
     "output_type": "execute_result"
    }
   ],
   "source": [
    "tariffs"
   ]
  },
  {
   "cell_type": "markdown",
   "metadata": {},
   "source": [
    "Здесь прелставлены наши два тарифа, имеющие такие столбцы как :\n",
    "* tariff_name — название тарифа\n",
    "* rub_monthly_fee — ежемесячная абонентская плата в рублях\n",
    "* minutes_included — количество минут разговора в месяц, включённых в абонентскую плату\n",
    "* messages_included — количество сообщений в месяц, включённых в абонентскую плату\n",
    "* mb_per_month_included — объём интернет-трафика, включённого в абонентскую плату (в мегабайтах)\n",
    "* rub_per_minute — стоимость минуты разговора сверх тарифного пакета (например, если в тарифе 100 минут разговора в месяц, то со 101 минуты будет взиматься плата)\n",
    "* rub_per_message — стоимость отправки сообщения сверх тарифного пакета\n",
    "* rub_per_gb — стоимость дополнительного гигабайта интернет-трафика сверх тарифного пакета (1 гигабайт = 1024 мегабайта)"
   ]
  },
  {
   "cell_type": "markdown",
   "metadata": {},
   "source": [
    "Познакомимся с общей информацией."
   ]
  },
  {
   "cell_type": "code",
   "execution_count": 15,
   "metadata": {},
   "outputs": [
    {
     "name": "stdout",
     "output_type": "stream",
     "text": [
      "<class 'pandas.core.frame.DataFrame'>\n",
      "RangeIndex: 2 entries, 0 to 1\n",
      "Data columns (total 8 columns):\n",
      "messages_included        2 non-null int64\n",
      "mb_per_month_included    2 non-null int64\n",
      "minutes_included         2 non-null int64\n",
      "rub_monthly_fee          2 non-null int64\n",
      "rub_per_gb               2 non-null int64\n",
      "rub_per_message          2 non-null int64\n",
      "rub_per_minute           2 non-null int64\n",
      "tariff_name              2 non-null object\n",
      "dtypes: int64(7), object(1)\n",
      "memory usage: 256.0+ bytes\n"
     ]
    }
   ],
   "source": [
    "tariffs.info()"
   ]
  },
  {
   "cell_type": "markdown",
   "metadata": {},
   "source": [
    "#### 1.2.5 users"
   ]
  },
  {
   "cell_type": "markdown",
   "metadata": {},
   "source": [
    "Посмотрим на 10 последних строк датасета users."
   ]
  },
  {
   "cell_type": "code",
   "execution_count": 16,
   "metadata": {},
   "outputs": [
    {
     "data": {
      "text/html": [
       "<div>\n",
       "<style scoped>\n",
       "    .dataframe tbody tr th:only-of-type {\n",
       "        vertical-align: middle;\n",
       "    }\n",
       "\n",
       "    .dataframe tbody tr th {\n",
       "        vertical-align: top;\n",
       "    }\n",
       "\n",
       "    .dataframe thead th {\n",
       "        text-align: right;\n",
       "    }\n",
       "</style>\n",
       "<table border=\"1\" class=\"dataframe\">\n",
       "  <thead>\n",
       "    <tr style=\"text-align: right;\">\n",
       "      <th></th>\n",
       "      <th>user_id</th>\n",
       "      <th>age</th>\n",
       "      <th>churn_date</th>\n",
       "      <th>city</th>\n",
       "      <th>first_name</th>\n",
       "      <th>last_name</th>\n",
       "      <th>reg_date</th>\n",
       "      <th>tariff</th>\n",
       "    </tr>\n",
       "  </thead>\n",
       "  <tbody>\n",
       "    <tr>\n",
       "      <td>490</td>\n",
       "      <td>1490</td>\n",
       "      <td>30</td>\n",
       "      <td>NaN</td>\n",
       "      <td>Москва</td>\n",
       "      <td>Радомир</td>\n",
       "      <td>Алесин</td>\n",
       "      <td>2018-04-03</td>\n",
       "      <td>smart</td>\n",
       "    </tr>\n",
       "    <tr>\n",
       "      <td>491</td>\n",
       "      <td>1491</td>\n",
       "      <td>56</td>\n",
       "      <td>NaN</td>\n",
       "      <td>Челябинск</td>\n",
       "      <td>Радислав</td>\n",
       "      <td>Андрейкин</td>\n",
       "      <td>2018-04-25</td>\n",
       "      <td>ultra</td>\n",
       "    </tr>\n",
       "    <tr>\n",
       "      <td>492</td>\n",
       "      <td>1492</td>\n",
       "      <td>63</td>\n",
       "      <td>NaN</td>\n",
       "      <td>Санкт-Петербург</td>\n",
       "      <td>Руслана</td>\n",
       "      <td>Артёменко</td>\n",
       "      <td>2018-06-26</td>\n",
       "      <td>smart</td>\n",
       "    </tr>\n",
       "    <tr>\n",
       "      <td>493</td>\n",
       "      <td>1493</td>\n",
       "      <td>71</td>\n",
       "      <td>NaN</td>\n",
       "      <td>Красноярск</td>\n",
       "      <td>Таисия</td>\n",
       "      <td>Ахматулина</td>\n",
       "      <td>2018-11-24</td>\n",
       "      <td>ultra</td>\n",
       "    </tr>\n",
       "    <tr>\n",
       "      <td>494</td>\n",
       "      <td>1494</td>\n",
       "      <td>62</td>\n",
       "      <td>NaN</td>\n",
       "      <td>Омск</td>\n",
       "      <td>Ренат</td>\n",
       "      <td>Андропов</td>\n",
       "      <td>2018-08-17</td>\n",
       "      <td>smart</td>\n",
       "    </tr>\n",
       "    <tr>\n",
       "      <td>495</td>\n",
       "      <td>1495</td>\n",
       "      <td>65</td>\n",
       "      <td>NaN</td>\n",
       "      <td>Иркутск</td>\n",
       "      <td>Авксентий</td>\n",
       "      <td>Фокин</td>\n",
       "      <td>2018-08-28</td>\n",
       "      <td>ultra</td>\n",
       "    </tr>\n",
       "    <tr>\n",
       "      <td>496</td>\n",
       "      <td>1496</td>\n",
       "      <td>36</td>\n",
       "      <td>NaN</td>\n",
       "      <td>Вологда</td>\n",
       "      <td>Трифон</td>\n",
       "      <td>Блохин</td>\n",
       "      <td>2018-01-27</td>\n",
       "      <td>smart</td>\n",
       "    </tr>\n",
       "    <tr>\n",
       "      <td>497</td>\n",
       "      <td>1497</td>\n",
       "      <td>32</td>\n",
       "      <td>NaN</td>\n",
       "      <td>Челябинск</td>\n",
       "      <td>Каролина</td>\n",
       "      <td>Агеева</td>\n",
       "      <td>2018-10-09</td>\n",
       "      <td>smart</td>\n",
       "    </tr>\n",
       "    <tr>\n",
       "      <td>498</td>\n",
       "      <td>1498</td>\n",
       "      <td>68</td>\n",
       "      <td>2018-10-25</td>\n",
       "      <td>Владикавказ</td>\n",
       "      <td>Всеволод</td>\n",
       "      <td>Акимчин</td>\n",
       "      <td>2018-07-19</td>\n",
       "      <td>smart</td>\n",
       "    </tr>\n",
       "    <tr>\n",
       "      <td>499</td>\n",
       "      <td>1499</td>\n",
       "      <td>35</td>\n",
       "      <td>NaN</td>\n",
       "      <td>Пермь</td>\n",
       "      <td>Гектор</td>\n",
       "      <td>Корнилов</td>\n",
       "      <td>2018-09-27</td>\n",
       "      <td>smart</td>\n",
       "    </tr>\n",
       "  </tbody>\n",
       "</table>\n",
       "</div>"
      ],
      "text/plain": [
       "     user_id  age  churn_date             city first_name   last_name  \\\n",
       "490     1490   30         NaN           Москва    Радомир      Алесин   \n",
       "491     1491   56         NaN        Челябинск   Радислав   Андрейкин   \n",
       "492     1492   63         NaN  Санкт-Петербург    Руслана   Артёменко   \n",
       "493     1493   71         NaN       Красноярск     Таисия  Ахматулина   \n",
       "494     1494   62         NaN             Омск      Ренат    Андропов   \n",
       "495     1495   65         NaN          Иркутск  Авксентий       Фокин   \n",
       "496     1496   36         NaN          Вологда     Трифон      Блохин   \n",
       "497     1497   32         NaN        Челябинск   Каролина      Агеева   \n",
       "498     1498   68  2018-10-25      Владикавказ   Всеволод     Акимчин   \n",
       "499     1499   35         NaN            Пермь     Гектор    Корнилов   \n",
       "\n",
       "       reg_date tariff  \n",
       "490  2018-04-03  smart  \n",
       "491  2018-04-25  ultra  \n",
       "492  2018-06-26  smart  \n",
       "493  2018-11-24  ultra  \n",
       "494  2018-08-17  smart  \n",
       "495  2018-08-28  ultra  \n",
       "496  2018-01-27  smart  \n",
       "497  2018-10-09  smart  \n",
       "498  2018-07-19  smart  \n",
       "499  2018-09-27  smart  "
      ]
     },
     "execution_count": 16,
     "metadata": {},
     "output_type": "execute_result"
    }
   ],
   "source": [
    "users.tail(10)"
   ]
  },
  {
   "cell_type": "markdown",
   "metadata": {},
   "source": [
    "Здесь можем встретить такие столбцы как:\n",
    "* user_id — уникальный идентификатор пользователя\n",
    "* first_name — имя пользователя\n",
    "* last_name — фамилия пользователя\n",
    "* age — возраст пользователя (годы)\n",
    "* reg_date — дата подключения тарифа (день, месяц, год)\n",
    "* churn_date — дата прекращения пользования тарифом (если значение пропущено, то тариф ещё действовал на момент выгрузки данных)\n",
    "* city — город проживания пользователя\n",
    "* tarif — название тарифного плана"
   ]
  },
  {
   "cell_type": "markdown",
   "metadata": {},
   "source": [
    "Посмотрим имеются ли аномальные значения в возрасте."
   ]
  },
  {
   "cell_type": "code",
   "execution_count": 17,
   "metadata": {},
   "outputs": [
    {
     "data": {
      "text/html": [
       "<div>\n",
       "<style scoped>\n",
       "    .dataframe tbody tr th:only-of-type {\n",
       "        vertical-align: middle;\n",
       "    }\n",
       "\n",
       "    .dataframe tbody tr th {\n",
       "        vertical-align: top;\n",
       "    }\n",
       "\n",
       "    .dataframe thead th {\n",
       "        text-align: right;\n",
       "    }\n",
       "</style>\n",
       "<table border=\"1\" class=\"dataframe\">\n",
       "  <thead>\n",
       "    <tr style=\"text-align: right;\">\n",
       "      <th></th>\n",
       "      <th>user_id</th>\n",
       "      <th>age</th>\n",
       "    </tr>\n",
       "  </thead>\n",
       "  <tbody>\n",
       "    <tr>\n",
       "      <td>count</td>\n",
       "      <td>500.00</td>\n",
       "      <td>500.00</td>\n",
       "    </tr>\n",
       "    <tr>\n",
       "      <td>mean</td>\n",
       "      <td>1,249.50</td>\n",
       "      <td>46.59</td>\n",
       "    </tr>\n",
       "    <tr>\n",
       "      <td>std</td>\n",
       "      <td>144.48</td>\n",
       "      <td>16.67</td>\n",
       "    </tr>\n",
       "    <tr>\n",
       "      <td>min</td>\n",
       "      <td>1,000.00</td>\n",
       "      <td>18.00</td>\n",
       "    </tr>\n",
       "    <tr>\n",
       "      <td>25%</td>\n",
       "      <td>1,124.75</td>\n",
       "      <td>32.00</td>\n",
       "    </tr>\n",
       "    <tr>\n",
       "      <td>50%</td>\n",
       "      <td>1,249.50</td>\n",
       "      <td>46.00</td>\n",
       "    </tr>\n",
       "    <tr>\n",
       "      <td>75%</td>\n",
       "      <td>1,374.25</td>\n",
       "      <td>62.00</td>\n",
       "    </tr>\n",
       "    <tr>\n",
       "      <td>max</td>\n",
       "      <td>1,499.00</td>\n",
       "      <td>75.00</td>\n",
       "    </tr>\n",
       "  </tbody>\n",
       "</table>\n",
       "</div>"
      ],
      "text/plain": [
       "       user_id    age\n",
       "count   500.00 500.00\n",
       "mean  1,249.50  46.59\n",
       "std     144.48  16.67\n",
       "min   1,000.00  18.00\n",
       "25%   1,124.75  32.00\n",
       "50%   1,249.50  46.00\n",
       "75%   1,374.25  62.00\n",
       "max   1,499.00  75.00"
      ]
     },
     "execution_count": 17,
     "metadata": {},
     "output_type": "execute_result"
    }
   ],
   "source": [
    "users.describe()"
   ]
  },
  {
   "cell_type": "markdown",
   "metadata": {},
   "source": [
    "Все в порядке, аномальных данных не наблюдаем."
   ]
  },
  {
   "cell_type": "markdown",
   "metadata": {},
   "source": [
    "Познакомимся с общей информацией."
   ]
  },
  {
   "cell_type": "code",
   "execution_count": 18,
   "metadata": {},
   "outputs": [
    {
     "name": "stdout",
     "output_type": "stream",
     "text": [
      "<class 'pandas.core.frame.DataFrame'>\n",
      "RangeIndex: 500 entries, 0 to 499\n",
      "Data columns (total 8 columns):\n",
      "user_id       500 non-null int64\n",
      "age           500 non-null int64\n",
      "churn_date    38 non-null object\n",
      "city          500 non-null object\n",
      "first_name    500 non-null object\n",
      "last_name     500 non-null object\n",
      "reg_date      500 non-null object\n",
      "tariff        500 non-null object\n",
      "dtypes: int64(2), object(6)\n",
      "memory usage: 31.4+ KB\n"
     ]
    }
   ],
   "source": [
    "users.info()"
   ]
  },
  {
   "cell_type": "markdown",
   "metadata": {},
   "source": [
    "В данном столбце можно заметить, что churn_date имеет пропущенные значения, это неспроста. Так как тарифом еще пользуются и нет даты закрытия тарифа данные значения остаются пропущенными. Также отметим, что reg_date и churn_date должен быть в datetime."
   ]
  },
  {
   "cell_type": "markdown",
   "metadata": {},
   "source": [
    "Проверим встречаются ли явные дубликаты."
   ]
  },
  {
   "cell_type": "code",
   "execution_count": 19,
   "metadata": {},
   "outputs": [
    {
     "data": {
      "text/plain": [
       "0"
      ]
     },
     "execution_count": 19,
     "metadata": {},
     "output_type": "execute_result"
    }
   ],
   "source": [
    "users.duplicated().sum()"
   ]
  },
  {
   "cell_type": "markdown",
   "metadata": {},
   "source": [
    "Явных дубликатов нет."
   ]
  },
  {
   "cell_type": "markdown",
   "metadata": {},
   "source": [
    "**Вывод**: Познакомившись с данными, мы отметим, что встречаются неверные типы данных в некоторых столбцах, где требуются тип данных, относящихся к дате, также некоторые столбцы требуют измнения типа данных на числовые значения. Также с датасете internet встречается дубляж индекса в столбце Unnamed: 0, необходимо будет избавиться от него. Все датасеты должны быть объединены в один для удобства. Сделаем это все в дальнейшем в предобработке данных. "
   ]
  },
  {
   "cell_type": "markdown",
   "metadata": {},
   "source": [
    "## Этап 2. Предобработка данных"
   ]
  },
  {
   "cell_type": "markdown",
   "metadata": {},
   "source": [
    "### 2.1 Изменение типов данных"
   ]
  },
  {
   "cell_type": "markdown",
   "metadata": {},
   "source": [
    "Изменим типы данных там, где есть необходимость в этом :"
   ]
  },
  {
   "cell_type": "markdown",
   "metadata": {},
   "source": [
    "Для даты совершения звонка изменим тип данных на datetime."
   ]
  },
  {
   "cell_type": "code",
   "execution_count": 20,
   "metadata": {},
   "outputs": [],
   "source": [
    "calls['call_date'] = pd.to_datetime(calls['call_date'], format = '%Y-%m-%d') "
   ]
  },
  {
   "cell_type": "markdown",
   "metadata": {},
   "source": [
    "Нам необходимо округлить продолжительность звонков в большую сторону, а затем изменить тип данных на целочисленные значения. "
   ]
  },
  {
   "cell_type": "code",
   "execution_count": 21,
   "metadata": {},
   "outputs": [],
   "source": [
    "calls['duration'] = calls['duration'].apply(np.ceil).astype('int')"
   ]
  },
  {
   "cell_type": "markdown",
   "metadata": {},
   "source": [
    "Для даты интернет-сессии изменим тиа данных на datetime."
   ]
  },
  {
   "cell_type": "code",
   "execution_count": 22,
   "metadata": {},
   "outputs": [],
   "source": [
    "internet['session_date'] = pd.to_datetime(internet['session_date'], format='%Y-%m-%d')"
   ]
  },
  {
   "cell_type": "markdown",
   "metadata": {},
   "source": [
    "Нам необходимо округлить интернет-трафик  в большую сторону, а затем изменить тип данных на целочисленные значения. "
   ]
  },
  {
   "cell_type": "code",
   "execution_count": 23,
   "metadata": {},
   "outputs": [],
   "source": [
    "internet['mb_used'] = internet['mb_used'].apply(np.ceil).astype('int')"
   ]
  },
  {
   "cell_type": "markdown",
   "metadata": {},
   "source": [
    " \n"
   ]
  },
  {
   "cell_type": "markdown",
   "metadata": {},
   "source": [
    "Для даты сообщения изменим тип данных на datetime."
   ]
  },
  {
   "cell_type": "code",
   "execution_count": 24,
   "metadata": {},
   "outputs": [],
   "source": [
    "messages['message_date'] = pd.to_datetime(messages['message_date'], format='%Y-%m-%d')"
   ]
  },
  {
   "cell_type": "markdown",
   "metadata": {},
   "source": [
    "Аналогичную процедуру проведем и для даты подключения тарифа, а также даты прекращения использования тарифа."
   ]
  },
  {
   "cell_type": "code",
   "execution_count": 25,
   "metadata": {},
   "outputs": [],
   "source": [
    "users['reg_date'] = pd.to_datetime(users['reg_date'], format='%Y-%m-%d')\n",
    "users['churn_date'] = pd.to_datetime(users['churn_date'], format='%Y-%m-%d')"
   ]
  },
  {
   "cell_type": "markdown",
   "metadata": {},
   "source": [
    "### 2.2 Работа со столбцами"
   ]
  },
  {
   "cell_type": "markdown",
   "metadata": {},
   "source": [
    "Нам необходимо избавиться от столбца Unnamed: 0\tв internet, который задвоился с индексом."
   ]
  },
  {
   "cell_type": "code",
   "execution_count": 26,
   "metadata": {},
   "outputs": [],
   "source": [
    "del internet['Unnamed: 0']"
   ]
  },
  {
   "cell_type": "markdown",
   "metadata": {},
   "source": [
    " "
   ]
  },
  {
   "cell_type": "markdown",
   "metadata": {},
   "source": [
    "Теперь добавим столбец месяц в необходимые датасеты:"
   ]
  },
  {
   "cell_type": "markdown",
   "metadata": {},
   "source": [
    "Для звонков:"
   ]
  },
  {
   "cell_type": "code",
   "execution_count": 27,
   "metadata": {},
   "outputs": [],
   "source": [
    "calls['month'] = calls['call_date'].dt.strftime('%m %B')\n"
   ]
  },
  {
   "cell_type": "markdown",
   "metadata": {},
   "source": [
    "Для интернета:"
   ]
  },
  {
   "cell_type": "code",
   "execution_count": 28,
   "metadata": {},
   "outputs": [],
   "source": [
    "internet['month'] = internet['session_date'].dt.strftime('%m %B')\n"
   ]
  },
  {
   "cell_type": "markdown",
   "metadata": {},
   "source": [
    "Для сообщений:"
   ]
  },
  {
   "cell_type": "code",
   "execution_count": 29,
   "metadata": {},
   "outputs": [],
   "source": [
    "messages['month'] = messages['message_date'].dt.strftime('%m %B')\n"
   ]
  },
  {
   "cell_type": "markdown",
   "metadata": {},
   "source": [
    "### 2.3 Количество сделанных звонков и израсходованных минут разговора по месяцам"
   ]
  },
  {
   "cell_type": "markdown",
   "metadata": {},
   "source": [
    "Для удобства и наглядности создадим сводную таблицу, по пользователям и месяцам. Здесь нам потребуется указать количество звонков и сумму по минутам."
   ]
  },
  {
   "cell_type": "code",
   "execution_count": 30,
   "metadata": {},
   "outputs": [],
   "source": [
    "user_calls_months = calls.pivot_table(index=['user_id','month'],values ='duration', aggfunc = ['count','sum'])"
   ]
  },
  {
   "cell_type": "markdown",
   "metadata": {},
   "source": [
    "Переименуем наши столбцы."
   ]
  },
  {
   "cell_type": "code",
   "execution_count": 31,
   "metadata": {},
   "outputs": [],
   "source": [
    "user_calls_months.columns = ['calls_count','calls_duration_sum']"
   ]
  },
  {
   "cell_type": "markdown",
   "metadata": {},
   "source": [
    "Посмотрим на созданную сводную таблицу."
   ]
  },
  {
   "cell_type": "code",
   "execution_count": 32,
   "metadata": {},
   "outputs": [
    {
     "data": {
      "text/html": [
       "<div>\n",
       "<style scoped>\n",
       "    .dataframe tbody tr th:only-of-type {\n",
       "        vertical-align: middle;\n",
       "    }\n",
       "\n",
       "    .dataframe tbody tr th {\n",
       "        vertical-align: top;\n",
       "    }\n",
       "\n",
       "    .dataframe thead th {\n",
       "        text-align: right;\n",
       "    }\n",
       "</style>\n",
       "<table border=\"1\" class=\"dataframe\">\n",
       "  <thead>\n",
       "    <tr style=\"text-align: right;\">\n",
       "      <th></th>\n",
       "      <th></th>\n",
       "      <th>calls_count</th>\n",
       "      <th>calls_duration_sum</th>\n",
       "    </tr>\n",
       "    <tr>\n",
       "      <th>user_id</th>\n",
       "      <th>month</th>\n",
       "      <th></th>\n",
       "      <th></th>\n",
       "    </tr>\n",
       "  </thead>\n",
       "  <tbody>\n",
       "    <tr>\n",
       "      <td rowspan=\"5\" valign=\"top\">1000</td>\n",
       "      <td>05 May</td>\n",
       "      <td>22</td>\n",
       "      <td>159</td>\n",
       "    </tr>\n",
       "    <tr>\n",
       "      <td>06 June</td>\n",
       "      <td>43</td>\n",
       "      <td>172</td>\n",
       "    </tr>\n",
       "    <tr>\n",
       "      <td>07 July</td>\n",
       "      <td>47</td>\n",
       "      <td>340</td>\n",
       "    </tr>\n",
       "    <tr>\n",
       "      <td>08 August</td>\n",
       "      <td>52</td>\n",
       "      <td>408</td>\n",
       "    </tr>\n",
       "    <tr>\n",
       "      <td>09 September</td>\n",
       "      <td>58</td>\n",
       "      <td>466</td>\n",
       "    </tr>\n",
       "    <tr>\n",
       "      <td>...</td>\n",
       "      <td>...</td>\n",
       "      <td>...</td>\n",
       "      <td>...</td>\n",
       "    </tr>\n",
       "    <tr>\n",
       "      <td>1498</td>\n",
       "      <td>10 October</td>\n",
       "      <td>41</td>\n",
       "      <td>247</td>\n",
       "    </tr>\n",
       "    <tr>\n",
       "      <td rowspan=\"4\" valign=\"top\">1499</td>\n",
       "      <td>09 September</td>\n",
       "      <td>9</td>\n",
       "      <td>70</td>\n",
       "    </tr>\n",
       "    <tr>\n",
       "      <td>10 October</td>\n",
       "      <td>68</td>\n",
       "      <td>449</td>\n",
       "    </tr>\n",
       "    <tr>\n",
       "      <td>11 November</td>\n",
       "      <td>74</td>\n",
       "      <td>612</td>\n",
       "    </tr>\n",
       "    <tr>\n",
       "      <td>12 December</td>\n",
       "      <td>69</td>\n",
       "      <td>492</td>\n",
       "    </tr>\n",
       "  </tbody>\n",
       "</table>\n",
       "<p>3174 rows × 2 columns</p>\n",
       "</div>"
      ],
      "text/plain": [
       "                      calls_count  calls_duration_sum\n",
       "user_id month                                        \n",
       "1000    05 May                 22                 159\n",
       "        06 June                43                 172\n",
       "        07 July                47                 340\n",
       "        08 August              52                 408\n",
       "        09 September           58                 466\n",
       "...                           ...                 ...\n",
       "1498    10 October             41                 247\n",
       "1499    09 September            9                  70\n",
       "        10 October             68                 449\n",
       "        11 November            74                 612\n",
       "        12 December            69                 492\n",
       "\n",
       "[3174 rows x 2 columns]"
      ]
     },
     "execution_count": 32,
     "metadata": {},
     "output_type": "execute_result"
    }
   ],
   "source": [
    "user_calls_months"
   ]
  },
  {
   "cell_type": "markdown",
   "metadata": {},
   "source": [
    "### 2.4 Количество отправленных сообщений по месяцам"
   ]
  },
  {
   "cell_type": "markdown",
   "metadata": {},
   "source": [
    "Создадим сводную таблицу для количества сообщений."
   ]
  },
  {
   "cell_type": "code",
   "execution_count": 33,
   "metadata": {},
   "outputs": [],
   "source": [
    "user_messages_months = messages.pivot_table(index = ['user_id','month'],values = 'id', aggfunc = 'count')"
   ]
  },
  {
   "cell_type": "markdown",
   "metadata": {},
   "source": [
    "Переимениуем столбец."
   ]
  },
  {
   "cell_type": "code",
   "execution_count": 34,
   "metadata": {},
   "outputs": [],
   "source": [
    "user_messages_months.columns = ['messages_count']"
   ]
  },
  {
   "cell_type": "markdown",
   "metadata": {},
   "source": [
    "Посмотрим на созданную таблицу."
   ]
  },
  {
   "cell_type": "code",
   "execution_count": 35,
   "metadata": {
    "scrolled": true
   },
   "outputs": [
    {
     "data": {
      "text/html": [
       "<div>\n",
       "<style scoped>\n",
       "    .dataframe tbody tr th:only-of-type {\n",
       "        vertical-align: middle;\n",
       "    }\n",
       "\n",
       "    .dataframe tbody tr th {\n",
       "        vertical-align: top;\n",
       "    }\n",
       "\n",
       "    .dataframe thead th {\n",
       "        text-align: right;\n",
       "    }\n",
       "</style>\n",
       "<table border=\"1\" class=\"dataframe\">\n",
       "  <thead>\n",
       "    <tr style=\"text-align: right;\">\n",
       "      <th></th>\n",
       "      <th></th>\n",
       "      <th>messages_count</th>\n",
       "    </tr>\n",
       "    <tr>\n",
       "      <th>user_id</th>\n",
       "      <th>month</th>\n",
       "      <th></th>\n",
       "    </tr>\n",
       "  </thead>\n",
       "  <tbody>\n",
       "    <tr>\n",
       "      <td rowspan=\"5\" valign=\"top\">1000</td>\n",
       "      <td>05 May</td>\n",
       "      <td>22</td>\n",
       "    </tr>\n",
       "    <tr>\n",
       "      <td>06 June</td>\n",
       "      <td>60</td>\n",
       "    </tr>\n",
       "    <tr>\n",
       "      <td>07 July</td>\n",
       "      <td>75</td>\n",
       "    </tr>\n",
       "    <tr>\n",
       "      <td>08 August</td>\n",
       "      <td>81</td>\n",
       "    </tr>\n",
       "    <tr>\n",
       "      <td>09 September</td>\n",
       "      <td>57</td>\n",
       "    </tr>\n",
       "    <tr>\n",
       "      <td>...</td>\n",
       "      <td>...</td>\n",
       "      <td>...</td>\n",
       "    </tr>\n",
       "    <tr>\n",
       "      <td>1498</td>\n",
       "      <td>10 October</td>\n",
       "      <td>42</td>\n",
       "    </tr>\n",
       "    <tr>\n",
       "      <td rowspan=\"4\" valign=\"top\">1499</td>\n",
       "      <td>09 September</td>\n",
       "      <td>11</td>\n",
       "    </tr>\n",
       "    <tr>\n",
       "      <td>10 October</td>\n",
       "      <td>48</td>\n",
       "    </tr>\n",
       "    <tr>\n",
       "      <td>11 November</td>\n",
       "      <td>59</td>\n",
       "    </tr>\n",
       "    <tr>\n",
       "      <td>12 December</td>\n",
       "      <td>66</td>\n",
       "    </tr>\n",
       "  </tbody>\n",
       "</table>\n",
       "<p>2717 rows × 1 columns</p>\n",
       "</div>"
      ],
      "text/plain": [
       "                      messages_count\n",
       "user_id month                       \n",
       "1000    05 May                    22\n",
       "        06 June                   60\n",
       "        07 July                   75\n",
       "        08 August                 81\n",
       "        09 September              57\n",
       "...                              ...\n",
       "1498    10 October                42\n",
       "1499    09 September              11\n",
       "        10 October                48\n",
       "        11 November               59\n",
       "        12 December               66\n",
       "\n",
       "[2717 rows x 1 columns]"
      ]
     },
     "execution_count": 35,
     "metadata": {},
     "output_type": "execute_result"
    }
   ],
   "source": [
    "user_messages_months"
   ]
  },
  {
   "cell_type": "markdown",
   "metadata": {},
   "source": [
    "### 2.5 Объем израсходованного интернет-трафика по месяцам"
   ]
  },
  {
   "cell_type": "markdown",
   "metadata": {},
   "source": [
    "Создадим сводную таблицу для использованного трафика по месяцам."
   ]
  },
  {
   "cell_type": "code",
   "execution_count": 36,
   "metadata": {},
   "outputs": [],
   "source": [
    "user_internet_month = internet.pivot_table(index = ['user_id','month'],values ='mb_used', aggfunc='sum')"
   ]
  },
  {
   "cell_type": "markdown",
   "metadata": {},
   "source": [
    "Посмотрим на таблицу."
   ]
  },
  {
   "cell_type": "code",
   "execution_count": 37,
   "metadata": {
    "scrolled": false
   },
   "outputs": [
    {
     "data": {
      "text/html": [
       "<div>\n",
       "<style scoped>\n",
       "    .dataframe tbody tr th:only-of-type {\n",
       "        vertical-align: middle;\n",
       "    }\n",
       "\n",
       "    .dataframe tbody tr th {\n",
       "        vertical-align: top;\n",
       "    }\n",
       "\n",
       "    .dataframe thead th {\n",
       "        text-align: right;\n",
       "    }\n",
       "</style>\n",
       "<table border=\"1\" class=\"dataframe\">\n",
       "  <thead>\n",
       "    <tr style=\"text-align: right;\">\n",
       "      <th></th>\n",
       "      <th></th>\n",
       "      <th>mb_used</th>\n",
       "    </tr>\n",
       "    <tr>\n",
       "      <th>user_id</th>\n",
       "      <th>month</th>\n",
       "      <th></th>\n",
       "    </tr>\n",
       "  </thead>\n",
       "  <tbody>\n",
       "    <tr>\n",
       "      <td rowspan=\"5\" valign=\"top\">1000</td>\n",
       "      <td>05 May</td>\n",
       "      <td>2256</td>\n",
       "    </tr>\n",
       "    <tr>\n",
       "      <td>06 June</td>\n",
       "      <td>23257</td>\n",
       "    </tr>\n",
       "    <tr>\n",
       "      <td>07 July</td>\n",
       "      <td>14016</td>\n",
       "    </tr>\n",
       "    <tr>\n",
       "      <td>08 August</td>\n",
       "      <td>14070</td>\n",
       "    </tr>\n",
       "    <tr>\n",
       "      <td>09 September</td>\n",
       "      <td>14581</td>\n",
       "    </tr>\n",
       "    <tr>\n",
       "      <td>...</td>\n",
       "      <td>...</td>\n",
       "      <td>...</td>\n",
       "    </tr>\n",
       "    <tr>\n",
       "      <td>1498</td>\n",
       "      <td>10 October</td>\n",
       "      <td>20604</td>\n",
       "    </tr>\n",
       "    <tr>\n",
       "      <td rowspan=\"4\" valign=\"top\">1499</td>\n",
       "      <td>09 September</td>\n",
       "      <td>1848</td>\n",
       "    </tr>\n",
       "    <tr>\n",
       "      <td>10 October</td>\n",
       "      <td>17809</td>\n",
       "    </tr>\n",
       "    <tr>\n",
       "      <td>11 November</td>\n",
       "      <td>17984</td>\n",
       "    </tr>\n",
       "    <tr>\n",
       "      <td>12 December</td>\n",
       "      <td>13077</td>\n",
       "    </tr>\n",
       "  </tbody>\n",
       "</table>\n",
       "<p>3203 rows × 1 columns</p>\n",
       "</div>"
      ],
      "text/plain": [
       "                      mb_used\n",
       "user_id month                \n",
       "1000    05 May           2256\n",
       "        06 June         23257\n",
       "        07 July         14016\n",
       "        08 August       14070\n",
       "        09 September    14581\n",
       "...                       ...\n",
       "1498    10 October      20604\n",
       "1499    09 September     1848\n",
       "        10 October      17809\n",
       "        11 November     17984\n",
       "        12 December     13077\n",
       "\n",
       "[3203 rows x 1 columns]"
      ]
     },
     "execution_count": 37,
     "metadata": {},
     "output_type": "execute_result"
    }
   ],
   "source": [
    "user_internet_month"
   ]
  },
  {
   "cell_type": "markdown",
   "metadata": {},
   "source": [
    "### 2.6 Объединенная таблица"
   ]
  },
  {
   "cell_type": "markdown",
   "metadata": {},
   "source": [
    "Объединим наши сводные таблицу в одну общую."
   ]
  },
  {
   "cell_type": "code",
   "execution_count": 38,
   "metadata": {},
   "outputs": [],
   "source": [
    "user_used_month = user_calls_months.join([user_messages_months,user_internet_month], how = 'outer')"
   ]
  },
  {
   "cell_type": "markdown",
   "metadata": {},
   "source": [
    "Также добавим столбцы из users в общую сводную таблицу."
   ]
  },
  {
   "cell_type": "code",
   "execution_count": 39,
   "metadata": {},
   "outputs": [],
   "source": [
    "user_used_month = user_used_month.join(users.loc[:, ['user_id','tariff','city','age','first_name','last_name','reg_date','churn_date']].set_index('user_id'), how = 'outer')"
   ]
  },
  {
   "cell_type": "markdown",
   "metadata": {},
   "source": [
    "Посмотрим на результат."
   ]
  },
  {
   "cell_type": "code",
   "execution_count": 40,
   "metadata": {},
   "outputs": [
    {
     "data": {
      "text/html": [
       "<div>\n",
       "<style scoped>\n",
       "    .dataframe tbody tr th:only-of-type {\n",
       "        vertical-align: middle;\n",
       "    }\n",
       "\n",
       "    .dataframe tbody tr th {\n",
       "        vertical-align: top;\n",
       "    }\n",
       "\n",
       "    .dataframe thead th {\n",
       "        text-align: right;\n",
       "    }\n",
       "</style>\n",
       "<table border=\"1\" class=\"dataframe\">\n",
       "  <thead>\n",
       "    <tr style=\"text-align: right;\">\n",
       "      <th></th>\n",
       "      <th></th>\n",
       "      <th>calls_count</th>\n",
       "      <th>calls_duration_sum</th>\n",
       "      <th>messages_count</th>\n",
       "      <th>mb_used</th>\n",
       "      <th>tariff</th>\n",
       "      <th>city</th>\n",
       "      <th>age</th>\n",
       "      <th>first_name</th>\n",
       "      <th>last_name</th>\n",
       "      <th>reg_date</th>\n",
       "      <th>churn_date</th>\n",
       "    </tr>\n",
       "    <tr>\n",
       "      <th>user_id</th>\n",
       "      <th>month</th>\n",
       "      <th></th>\n",
       "      <th></th>\n",
       "      <th></th>\n",
       "      <th></th>\n",
       "      <th></th>\n",
       "      <th></th>\n",
       "      <th></th>\n",
       "      <th></th>\n",
       "      <th></th>\n",
       "      <th></th>\n",
       "      <th></th>\n",
       "    </tr>\n",
       "  </thead>\n",
       "  <tbody>\n",
       "    <tr>\n",
       "      <td rowspan=\"5\" valign=\"top\">1000</td>\n",
       "      <td>05 May</td>\n",
       "      <td>22.00</td>\n",
       "      <td>159.00</td>\n",
       "      <td>22.00</td>\n",
       "      <td>2,256.00</td>\n",
       "      <td>ultra</td>\n",
       "      <td>Краснодар</td>\n",
       "      <td>52</td>\n",
       "      <td>Рафаил</td>\n",
       "      <td>Верещагин</td>\n",
       "      <td>2018-05-25</td>\n",
       "      <td>NaT</td>\n",
       "    </tr>\n",
       "    <tr>\n",
       "      <td>06 June</td>\n",
       "      <td>43.00</td>\n",
       "      <td>172.00</td>\n",
       "      <td>60.00</td>\n",
       "      <td>23,257.00</td>\n",
       "      <td>ultra</td>\n",
       "      <td>Краснодар</td>\n",
       "      <td>52</td>\n",
       "      <td>Рафаил</td>\n",
       "      <td>Верещагин</td>\n",
       "      <td>2018-05-25</td>\n",
       "      <td>NaT</td>\n",
       "    </tr>\n",
       "    <tr>\n",
       "      <td>07 July</td>\n",
       "      <td>47.00</td>\n",
       "      <td>340.00</td>\n",
       "      <td>75.00</td>\n",
       "      <td>14,016.00</td>\n",
       "      <td>ultra</td>\n",
       "      <td>Краснодар</td>\n",
       "      <td>52</td>\n",
       "      <td>Рафаил</td>\n",
       "      <td>Верещагин</td>\n",
       "      <td>2018-05-25</td>\n",
       "      <td>NaT</td>\n",
       "    </tr>\n",
       "    <tr>\n",
       "      <td>08 August</td>\n",
       "      <td>52.00</td>\n",
       "      <td>408.00</td>\n",
       "      <td>81.00</td>\n",
       "      <td>14,070.00</td>\n",
       "      <td>ultra</td>\n",
       "      <td>Краснодар</td>\n",
       "      <td>52</td>\n",
       "      <td>Рафаил</td>\n",
       "      <td>Верещагин</td>\n",
       "      <td>2018-05-25</td>\n",
       "      <td>NaT</td>\n",
       "    </tr>\n",
       "    <tr>\n",
       "      <td>09 September</td>\n",
       "      <td>58.00</td>\n",
       "      <td>466.00</td>\n",
       "      <td>57.00</td>\n",
       "      <td>14,581.00</td>\n",
       "      <td>ultra</td>\n",
       "      <td>Краснодар</td>\n",
       "      <td>52</td>\n",
       "      <td>Рафаил</td>\n",
       "      <td>Верещагин</td>\n",
       "      <td>2018-05-25</td>\n",
       "      <td>NaT</td>\n",
       "    </tr>\n",
       "    <tr>\n",
       "      <td>...</td>\n",
       "      <td>...</td>\n",
       "      <td>...</td>\n",
       "      <td>...</td>\n",
       "      <td>...</td>\n",
       "      <td>...</td>\n",
       "      <td>...</td>\n",
       "      <td>...</td>\n",
       "      <td>...</td>\n",
       "      <td>...</td>\n",
       "      <td>...</td>\n",
       "      <td>...</td>\n",
       "      <td>...</td>\n",
       "    </tr>\n",
       "    <tr>\n",
       "      <td>1498</td>\n",
       "      <td>10 October</td>\n",
       "      <td>41.00</td>\n",
       "      <td>247.00</td>\n",
       "      <td>42.00</td>\n",
       "      <td>20,604.00</td>\n",
       "      <td>smart</td>\n",
       "      <td>Владикавказ</td>\n",
       "      <td>68</td>\n",
       "      <td>Всеволод</td>\n",
       "      <td>Акимчин</td>\n",
       "      <td>2018-07-19</td>\n",
       "      <td>2018-10-25</td>\n",
       "    </tr>\n",
       "    <tr>\n",
       "      <td rowspan=\"4\" valign=\"top\">1499</td>\n",
       "      <td>09 September</td>\n",
       "      <td>9.00</td>\n",
       "      <td>70.00</td>\n",
       "      <td>11.00</td>\n",
       "      <td>1,848.00</td>\n",
       "      <td>smart</td>\n",
       "      <td>Пермь</td>\n",
       "      <td>35</td>\n",
       "      <td>Гектор</td>\n",
       "      <td>Корнилов</td>\n",
       "      <td>2018-09-27</td>\n",
       "      <td>NaT</td>\n",
       "    </tr>\n",
       "    <tr>\n",
       "      <td>10 October</td>\n",
       "      <td>68.00</td>\n",
       "      <td>449.00</td>\n",
       "      <td>48.00</td>\n",
       "      <td>17,809.00</td>\n",
       "      <td>smart</td>\n",
       "      <td>Пермь</td>\n",
       "      <td>35</td>\n",
       "      <td>Гектор</td>\n",
       "      <td>Корнилов</td>\n",
       "      <td>2018-09-27</td>\n",
       "      <td>NaT</td>\n",
       "    </tr>\n",
       "    <tr>\n",
       "      <td>11 November</td>\n",
       "      <td>74.00</td>\n",
       "      <td>612.00</td>\n",
       "      <td>59.00</td>\n",
       "      <td>17,984.00</td>\n",
       "      <td>smart</td>\n",
       "      <td>Пермь</td>\n",
       "      <td>35</td>\n",
       "      <td>Гектор</td>\n",
       "      <td>Корнилов</td>\n",
       "      <td>2018-09-27</td>\n",
       "      <td>NaT</td>\n",
       "    </tr>\n",
       "    <tr>\n",
       "      <td>12 December</td>\n",
       "      <td>69.00</td>\n",
       "      <td>492.00</td>\n",
       "      <td>66.00</td>\n",
       "      <td>13,077.00</td>\n",
       "      <td>smart</td>\n",
       "      <td>Пермь</td>\n",
       "      <td>35</td>\n",
       "      <td>Гектор</td>\n",
       "      <td>Корнилов</td>\n",
       "      <td>2018-09-27</td>\n",
       "      <td>NaT</td>\n",
       "    </tr>\n",
       "  </tbody>\n",
       "</table>\n",
       "<p>3214 rows × 11 columns</p>\n",
       "</div>"
      ],
      "text/plain": [
       "                      calls_count  calls_duration_sum  messages_count  \\\n",
       "user_id month                                                           \n",
       "1000    05 May              22.00              159.00           22.00   \n",
       "        06 June             43.00              172.00           60.00   \n",
       "        07 July             47.00              340.00           75.00   \n",
       "        08 August           52.00              408.00           81.00   \n",
       "        09 September        58.00              466.00           57.00   \n",
       "...                           ...                 ...             ...   \n",
       "1498    10 October          41.00              247.00           42.00   \n",
       "1499    09 September         9.00               70.00           11.00   \n",
       "        10 October          68.00              449.00           48.00   \n",
       "        11 November         74.00              612.00           59.00   \n",
       "        12 December         69.00              492.00           66.00   \n",
       "\n",
       "                       mb_used tariff         city  age first_name  last_name  \\\n",
       "user_id month                                                                   \n",
       "1000    05 May        2,256.00  ultra    Краснодар   52     Рафаил  Верещагин   \n",
       "        06 June      23,257.00  ultra    Краснодар   52     Рафаил  Верещагин   \n",
       "        07 July      14,016.00  ultra    Краснодар   52     Рафаил  Верещагин   \n",
       "        08 August    14,070.00  ultra    Краснодар   52     Рафаил  Верещагин   \n",
       "        09 September 14,581.00  ultra    Краснодар   52     Рафаил  Верещагин   \n",
       "...                        ...    ...          ...  ...        ...        ...   \n",
       "1498    10 October   20,604.00  smart  Владикавказ   68   Всеволод    Акимчин   \n",
       "1499    09 September  1,848.00  smart        Пермь   35     Гектор   Корнилов   \n",
       "        10 October   17,809.00  smart        Пермь   35     Гектор   Корнилов   \n",
       "        11 November  17,984.00  smart        Пермь   35     Гектор   Корнилов   \n",
       "        12 December  13,077.00  smart        Пермь   35     Гектор   Корнилов   \n",
       "\n",
       "                       reg_date churn_date  \n",
       "user_id month                               \n",
       "1000    05 May       2018-05-25        NaT  \n",
       "        06 June      2018-05-25        NaT  \n",
       "        07 July      2018-05-25        NaT  \n",
       "        08 August    2018-05-25        NaT  \n",
       "        09 September 2018-05-25        NaT  \n",
       "...                         ...        ...  \n",
       "1498    10 October   2018-07-19 2018-10-25  \n",
       "1499    09 September 2018-09-27        NaT  \n",
       "        10 October   2018-09-27        NaT  \n",
       "        11 November  2018-09-27        NaT  \n",
       "        12 December  2018-09-27        NaT  \n",
       "\n",
       "[3214 rows x 11 columns]"
      ]
     },
     "execution_count": 40,
     "metadata": {},
     "output_type": "execute_result"
    }
   ],
   "source": [
    "user_used_month"
   ]
  },
  {
   "cell_type": "markdown",
   "metadata": {},
   "source": [
    "Получилась досаточно удобная таблица, которую с помощью query можно использовать как фильтр."
   ]
  },
  {
   "cell_type": "markdown",
   "metadata": {},
   "source": [
    "Как пример попробуем найти по имени Гектор. "
   ]
  },
  {
   "cell_type": "code",
   "execution_count": 41,
   "metadata": {},
   "outputs": [
    {
     "data": {
      "text/html": [
       "<div>\n",
       "<style scoped>\n",
       "    .dataframe tbody tr th:only-of-type {\n",
       "        vertical-align: middle;\n",
       "    }\n",
       "\n",
       "    .dataframe tbody tr th {\n",
       "        vertical-align: top;\n",
       "    }\n",
       "\n",
       "    .dataframe thead th {\n",
       "        text-align: right;\n",
       "    }\n",
       "</style>\n",
       "<table border=\"1\" class=\"dataframe\">\n",
       "  <thead>\n",
       "    <tr style=\"text-align: right;\">\n",
       "      <th></th>\n",
       "      <th></th>\n",
       "      <th>calls_count</th>\n",
       "      <th>calls_duration_sum</th>\n",
       "      <th>messages_count</th>\n",
       "      <th>mb_used</th>\n",
       "      <th>tariff</th>\n",
       "      <th>city</th>\n",
       "      <th>age</th>\n",
       "      <th>first_name</th>\n",
       "      <th>last_name</th>\n",
       "      <th>reg_date</th>\n",
       "      <th>churn_date</th>\n",
       "    </tr>\n",
       "    <tr>\n",
       "      <th>user_id</th>\n",
       "      <th>month</th>\n",
       "      <th></th>\n",
       "      <th></th>\n",
       "      <th></th>\n",
       "      <th></th>\n",
       "      <th></th>\n",
       "      <th></th>\n",
       "      <th></th>\n",
       "      <th></th>\n",
       "      <th></th>\n",
       "      <th></th>\n",
       "      <th></th>\n",
       "    </tr>\n",
       "  </thead>\n",
       "  <tbody>\n",
       "    <tr>\n",
       "      <td rowspan=\"8\" valign=\"top\">1071</td>\n",
       "      <td>01 January</td>\n",
       "      <td>24.00</td>\n",
       "      <td>194.00</td>\n",
       "      <td>16.00</td>\n",
       "      <td>15,622.00</td>\n",
       "      <td>smart</td>\n",
       "      <td>Омск</td>\n",
       "      <td>20</td>\n",
       "      <td>Гектор</td>\n",
       "      <td>Чумаков</td>\n",
       "      <td>2018-01-09</td>\n",
       "      <td>2018-08-31</td>\n",
       "    </tr>\n",
       "    <tr>\n",
       "      <td>02 February</td>\n",
       "      <td>54.00</td>\n",
       "      <td>401.00</td>\n",
       "      <td>19.00</td>\n",
       "      <td>14,544.00</td>\n",
       "      <td>smart</td>\n",
       "      <td>Омск</td>\n",
       "      <td>20</td>\n",
       "      <td>Гектор</td>\n",
       "      <td>Чумаков</td>\n",
       "      <td>2018-01-09</td>\n",
       "      <td>2018-08-31</td>\n",
       "    </tr>\n",
       "    <tr>\n",
       "      <td>03 March</td>\n",
       "      <td>42.00</td>\n",
       "      <td>283.00</td>\n",
       "      <td>15.00</td>\n",
       "      <td>15,812.00</td>\n",
       "      <td>smart</td>\n",
       "      <td>Омск</td>\n",
       "      <td>20</td>\n",
       "      <td>Гектор</td>\n",
       "      <td>Чумаков</td>\n",
       "      <td>2018-01-09</td>\n",
       "      <td>2018-08-31</td>\n",
       "    </tr>\n",
       "    <tr>\n",
       "      <td>04 April</td>\n",
       "      <td>36.00</td>\n",
       "      <td>321.00</td>\n",
       "      <td>16.00</td>\n",
       "      <td>16,496.00</td>\n",
       "      <td>smart</td>\n",
       "      <td>Омск</td>\n",
       "      <td>20</td>\n",
       "      <td>Гектор</td>\n",
       "      <td>Чумаков</td>\n",
       "      <td>2018-01-09</td>\n",
       "      <td>2018-08-31</td>\n",
       "    </tr>\n",
       "    <tr>\n",
       "      <td>05 May</td>\n",
       "      <td>52.00</td>\n",
       "      <td>365.00</td>\n",
       "      <td>8.00</td>\n",
       "      <td>14,627.00</td>\n",
       "      <td>smart</td>\n",
       "      <td>Омск</td>\n",
       "      <td>20</td>\n",
       "      <td>Гектор</td>\n",
       "      <td>Чумаков</td>\n",
       "      <td>2018-01-09</td>\n",
       "      <td>2018-08-31</td>\n",
       "    </tr>\n",
       "    <tr>\n",
       "      <td>06 June</td>\n",
       "      <td>46.00</td>\n",
       "      <td>313.00</td>\n",
       "      <td>23.00</td>\n",
       "      <td>18,889.00</td>\n",
       "      <td>smart</td>\n",
       "      <td>Омск</td>\n",
       "      <td>20</td>\n",
       "      <td>Гектор</td>\n",
       "      <td>Чумаков</td>\n",
       "      <td>2018-01-09</td>\n",
       "      <td>2018-08-31</td>\n",
       "    </tr>\n",
       "    <tr>\n",
       "      <td>07 July</td>\n",
       "      <td>36.00</td>\n",
       "      <td>281.00</td>\n",
       "      <td>17.00</td>\n",
       "      <td>21,621.00</td>\n",
       "      <td>smart</td>\n",
       "      <td>Омск</td>\n",
       "      <td>20</td>\n",
       "      <td>Гектор</td>\n",
       "      <td>Чумаков</td>\n",
       "      <td>2018-01-09</td>\n",
       "      <td>2018-08-31</td>\n",
       "    </tr>\n",
       "    <tr>\n",
       "      <td>08 August</td>\n",
       "      <td>39.00</td>\n",
       "      <td>229.00</td>\n",
       "      <td>19.00</td>\n",
       "      <td>13,968.00</td>\n",
       "      <td>smart</td>\n",
       "      <td>Омск</td>\n",
       "      <td>20</td>\n",
       "      <td>Гектор</td>\n",
       "      <td>Чумаков</td>\n",
       "      <td>2018-01-09</td>\n",
       "      <td>2018-08-31</td>\n",
       "    </tr>\n",
       "    <tr>\n",
       "      <td rowspan=\"9\" valign=\"top\">1370</td>\n",
       "      <td>02 February</td>\n",
       "      <td>25.00</td>\n",
       "      <td>227.00</td>\n",
       "      <td>nan</td>\n",
       "      <td>11,325.00</td>\n",
       "      <td>smart</td>\n",
       "      <td>Новороссийск</td>\n",
       "      <td>48</td>\n",
       "      <td>Гектор</td>\n",
       "      <td>Сысоев</td>\n",
       "      <td>2018-02-06</td>\n",
       "      <td>2018-10-27</td>\n",
       "    </tr>\n",
       "    <tr>\n",
       "      <td>03 March</td>\n",
       "      <td>14.00</td>\n",
       "      <td>90.00</td>\n",
       "      <td>nan</td>\n",
       "      <td>23,268.00</td>\n",
       "      <td>smart</td>\n",
       "      <td>Новороссийск</td>\n",
       "      <td>48</td>\n",
       "      <td>Гектор</td>\n",
       "      <td>Сысоев</td>\n",
       "      <td>2018-02-06</td>\n",
       "      <td>2018-10-27</td>\n",
       "    </tr>\n",
       "    <tr>\n",
       "      <td>04 April</td>\n",
       "      <td>24.00</td>\n",
       "      <td>159.00</td>\n",
       "      <td>nan</td>\n",
       "      <td>13,030.00</td>\n",
       "      <td>smart</td>\n",
       "      <td>Новороссийск</td>\n",
       "      <td>48</td>\n",
       "      <td>Гектор</td>\n",
       "      <td>Сысоев</td>\n",
       "      <td>2018-02-06</td>\n",
       "      <td>2018-10-27</td>\n",
       "    </tr>\n",
       "    <tr>\n",
       "      <td>05 May</td>\n",
       "      <td>25.00</td>\n",
       "      <td>208.00</td>\n",
       "      <td>nan</td>\n",
       "      <td>13,605.00</td>\n",
       "      <td>smart</td>\n",
       "      <td>Новороссийск</td>\n",
       "      <td>48</td>\n",
       "      <td>Гектор</td>\n",
       "      <td>Сысоев</td>\n",
       "      <td>2018-02-06</td>\n",
       "      <td>2018-10-27</td>\n",
       "    </tr>\n",
       "    <tr>\n",
       "      <td>06 June</td>\n",
       "      <td>28.00</td>\n",
       "      <td>174.00</td>\n",
       "      <td>nan</td>\n",
       "      <td>17,995.00</td>\n",
       "      <td>smart</td>\n",
       "      <td>Новороссийск</td>\n",
       "      <td>48</td>\n",
       "      <td>Гектор</td>\n",
       "      <td>Сысоев</td>\n",
       "      <td>2018-02-06</td>\n",
       "      <td>2018-10-27</td>\n",
       "    </tr>\n",
       "    <tr>\n",
       "      <td>07 July</td>\n",
       "      <td>31.00</td>\n",
       "      <td>219.00</td>\n",
       "      <td>nan</td>\n",
       "      <td>16,681.00</td>\n",
       "      <td>smart</td>\n",
       "      <td>Новороссийск</td>\n",
       "      <td>48</td>\n",
       "      <td>Гектор</td>\n",
       "      <td>Сысоев</td>\n",
       "      <td>2018-02-06</td>\n",
       "      <td>2018-10-27</td>\n",
       "    </tr>\n",
       "    <tr>\n",
       "      <td>08 August</td>\n",
       "      <td>17.00</td>\n",
       "      <td>123.00</td>\n",
       "      <td>nan</td>\n",
       "      <td>18,771.00</td>\n",
       "      <td>smart</td>\n",
       "      <td>Новороссийск</td>\n",
       "      <td>48</td>\n",
       "      <td>Гектор</td>\n",
       "      <td>Сысоев</td>\n",
       "      <td>2018-02-06</td>\n",
       "      <td>2018-10-27</td>\n",
       "    </tr>\n",
       "    <tr>\n",
       "      <td>09 September</td>\n",
       "      <td>28.00</td>\n",
       "      <td>158.00</td>\n",
       "      <td>nan</td>\n",
       "      <td>14,800.00</td>\n",
       "      <td>smart</td>\n",
       "      <td>Новороссийск</td>\n",
       "      <td>48</td>\n",
       "      <td>Гектор</td>\n",
       "      <td>Сысоев</td>\n",
       "      <td>2018-02-06</td>\n",
       "      <td>2018-10-27</td>\n",
       "    </tr>\n",
       "    <tr>\n",
       "      <td>10 October</td>\n",
       "      <td>16.00</td>\n",
       "      <td>108.00</td>\n",
       "      <td>nan</td>\n",
       "      <td>13,923.00</td>\n",
       "      <td>smart</td>\n",
       "      <td>Новороссийск</td>\n",
       "      <td>48</td>\n",
       "      <td>Гектор</td>\n",
       "      <td>Сысоев</td>\n",
       "      <td>2018-02-06</td>\n",
       "      <td>2018-10-27</td>\n",
       "    </tr>\n",
       "    <tr>\n",
       "      <td rowspan=\"4\" valign=\"top\">1499</td>\n",
       "      <td>09 September</td>\n",
       "      <td>9.00</td>\n",
       "      <td>70.00</td>\n",
       "      <td>11.00</td>\n",
       "      <td>1,848.00</td>\n",
       "      <td>smart</td>\n",
       "      <td>Пермь</td>\n",
       "      <td>35</td>\n",
       "      <td>Гектор</td>\n",
       "      <td>Корнилов</td>\n",
       "      <td>2018-09-27</td>\n",
       "      <td>NaT</td>\n",
       "    </tr>\n",
       "    <tr>\n",
       "      <td>10 October</td>\n",
       "      <td>68.00</td>\n",
       "      <td>449.00</td>\n",
       "      <td>48.00</td>\n",
       "      <td>17,809.00</td>\n",
       "      <td>smart</td>\n",
       "      <td>Пермь</td>\n",
       "      <td>35</td>\n",
       "      <td>Гектор</td>\n",
       "      <td>Корнилов</td>\n",
       "      <td>2018-09-27</td>\n",
       "      <td>NaT</td>\n",
       "    </tr>\n",
       "    <tr>\n",
       "      <td>11 November</td>\n",
       "      <td>74.00</td>\n",
       "      <td>612.00</td>\n",
       "      <td>59.00</td>\n",
       "      <td>17,984.00</td>\n",
       "      <td>smart</td>\n",
       "      <td>Пермь</td>\n",
       "      <td>35</td>\n",
       "      <td>Гектор</td>\n",
       "      <td>Корнилов</td>\n",
       "      <td>2018-09-27</td>\n",
       "      <td>NaT</td>\n",
       "    </tr>\n",
       "    <tr>\n",
       "      <td>12 December</td>\n",
       "      <td>69.00</td>\n",
       "      <td>492.00</td>\n",
       "      <td>66.00</td>\n",
       "      <td>13,077.00</td>\n",
       "      <td>smart</td>\n",
       "      <td>Пермь</td>\n",
       "      <td>35</td>\n",
       "      <td>Гектор</td>\n",
       "      <td>Корнилов</td>\n",
       "      <td>2018-09-27</td>\n",
       "      <td>NaT</td>\n",
       "    </tr>\n",
       "  </tbody>\n",
       "</table>\n",
       "</div>"
      ],
      "text/plain": [
       "                      calls_count  calls_duration_sum  messages_count  \\\n",
       "user_id month                                                           \n",
       "1071    01 January          24.00              194.00           16.00   \n",
       "        02 February         54.00              401.00           19.00   \n",
       "        03 March            42.00              283.00           15.00   \n",
       "        04 April            36.00              321.00           16.00   \n",
       "        05 May              52.00              365.00            8.00   \n",
       "        06 June             46.00              313.00           23.00   \n",
       "        07 July             36.00              281.00           17.00   \n",
       "        08 August           39.00              229.00           19.00   \n",
       "1370    02 February         25.00              227.00             nan   \n",
       "        03 March            14.00               90.00             nan   \n",
       "        04 April            24.00              159.00             nan   \n",
       "        05 May              25.00              208.00             nan   \n",
       "        06 June             28.00              174.00             nan   \n",
       "        07 July             31.00              219.00             nan   \n",
       "        08 August           17.00              123.00             nan   \n",
       "        09 September        28.00              158.00             nan   \n",
       "        10 October          16.00              108.00             nan   \n",
       "1499    09 September         9.00               70.00           11.00   \n",
       "        10 October          68.00              449.00           48.00   \n",
       "        11 November         74.00              612.00           59.00   \n",
       "        12 December         69.00              492.00           66.00   \n",
       "\n",
       "                       mb_used tariff          city  age first_name last_name  \\\n",
       "user_id month                                                                   \n",
       "1071    01 January   15,622.00  smart          Омск   20     Гектор   Чумаков   \n",
       "        02 February  14,544.00  smart          Омск   20     Гектор   Чумаков   \n",
       "        03 March     15,812.00  smart          Омск   20     Гектор   Чумаков   \n",
       "        04 April     16,496.00  smart          Омск   20     Гектор   Чумаков   \n",
       "        05 May       14,627.00  smart          Омск   20     Гектор   Чумаков   \n",
       "        06 June      18,889.00  smart          Омск   20     Гектор   Чумаков   \n",
       "        07 July      21,621.00  smart          Омск   20     Гектор   Чумаков   \n",
       "        08 August    13,968.00  smart          Омск   20     Гектор   Чумаков   \n",
       "1370    02 February  11,325.00  smart  Новороссийск   48     Гектор    Сысоев   \n",
       "        03 March     23,268.00  smart  Новороссийск   48     Гектор    Сысоев   \n",
       "        04 April     13,030.00  smart  Новороссийск   48     Гектор    Сысоев   \n",
       "        05 May       13,605.00  smart  Новороссийск   48     Гектор    Сысоев   \n",
       "        06 June      17,995.00  smart  Новороссийск   48     Гектор    Сысоев   \n",
       "        07 July      16,681.00  smart  Новороссийск   48     Гектор    Сысоев   \n",
       "        08 August    18,771.00  smart  Новороссийск   48     Гектор    Сысоев   \n",
       "        09 September 14,800.00  smart  Новороссийск   48     Гектор    Сысоев   \n",
       "        10 October   13,923.00  smart  Новороссийск   48     Гектор    Сысоев   \n",
       "1499    09 September  1,848.00  smart         Пермь   35     Гектор  Корнилов   \n",
       "        10 October   17,809.00  smart         Пермь   35     Гектор  Корнилов   \n",
       "        11 November  17,984.00  smart         Пермь   35     Гектор  Корнилов   \n",
       "        12 December  13,077.00  smart         Пермь   35     Гектор  Корнилов   \n",
       "\n",
       "                       reg_date churn_date  \n",
       "user_id month                               \n",
       "1071    01 January   2018-01-09 2018-08-31  \n",
       "        02 February  2018-01-09 2018-08-31  \n",
       "        03 March     2018-01-09 2018-08-31  \n",
       "        04 April     2018-01-09 2018-08-31  \n",
       "        05 May       2018-01-09 2018-08-31  \n",
       "        06 June      2018-01-09 2018-08-31  \n",
       "        07 July      2018-01-09 2018-08-31  \n",
       "        08 August    2018-01-09 2018-08-31  \n",
       "1370    02 February  2018-02-06 2018-10-27  \n",
       "        03 March     2018-02-06 2018-10-27  \n",
       "        04 April     2018-02-06 2018-10-27  \n",
       "        05 May       2018-02-06 2018-10-27  \n",
       "        06 June      2018-02-06 2018-10-27  \n",
       "        07 July      2018-02-06 2018-10-27  \n",
       "        08 August    2018-02-06 2018-10-27  \n",
       "        09 September 2018-02-06 2018-10-27  \n",
       "        10 October   2018-02-06 2018-10-27  \n",
       "1499    09 September 2018-09-27        NaT  \n",
       "        10 October   2018-09-27        NaT  \n",
       "        11 November  2018-09-27        NaT  \n",
       "        12 December  2018-09-27        NaT  "
      ]
     },
     "execution_count": 41,
     "metadata": {},
     "output_type": "execute_result"
    }
   ],
   "source": [
    "user_used_month.query('first_name == \"Гектор\"')"
   ]
  },
  {
   "cell_type": "markdown",
   "metadata": {},
   "source": [
    "Так как не все клиенты пользуются всеми возможностями тарифа проверим, встречаются ли пропущенные значения."
   ]
  },
  {
   "cell_type": "code",
   "execution_count": 42,
   "metadata": {},
   "outputs": [
    {
     "data": {
      "text/plain": [
       "calls_count             40\n",
       "calls_duration_sum      40\n",
       "messages_count         497\n",
       "mb_used                 11\n",
       "tariff                   0\n",
       "city                     0\n",
       "age                      0\n",
       "first_name               0\n",
       "last_name                0\n",
       "reg_date                 0\n",
       "churn_date            3027\n",
       "dtype: int64"
      ]
     },
     "execution_count": 42,
     "metadata": {},
     "output_type": "execute_result"
    }
   ],
   "source": [
    "user_used_month.isnull().sum()"
   ]
  },
  {
   "cell_type": "markdown",
   "metadata": {},
   "source": [
    "Обратим внимание, что нужные нам строки, такие как длительность звонков, количество смс, и использование интернет-трафика имеют пустые значения., заменим их на 0, так как этим самым дадим понять, что абонент не использовал данные услуги в расчетном периоде."
   ]
  },
  {
   "cell_type": "code",
   "execution_count": 43,
   "metadata": {},
   "outputs": [],
   "source": [
    "user_used_month[['calls_duration_sum','messages_count', 'mb_used']] = user_used_month[['calls_duration_sum','messages_count', 'mb_used']].fillna(0)"
   ]
  },
  {
   "cell_type": "code",
   "execution_count": 44,
   "metadata": {},
   "outputs": [
    {
     "data": {
      "text/plain": [
       "calls_count             40\n",
       "calls_duration_sum       0\n",
       "messages_count           0\n",
       "mb_used                  0\n",
       "tariff                   0\n",
       "city                     0\n",
       "age                      0\n",
       "first_name               0\n",
       "last_name                0\n",
       "reg_date                 0\n",
       "churn_date            3027\n",
       "dtype: int64"
      ]
     },
     "execution_count": 44,
     "metadata": {},
     "output_type": "execute_result"
    }
   ],
   "source": [
    "user_used_month.isnull().sum()"
   ]
  },
  {
   "cell_type": "markdown",
   "metadata": {},
   "source": [
    "### 2.7 Помесячная выручка с каждого пользователя"
   ]
  },
  {
   "cell_type": "markdown",
   "metadata": {},
   "source": [
    "Создадим функцию для определения смс сверх тарифа:"
   ]
  },
  {
   "cell_type": "code",
   "execution_count": 45,
   "metadata": {},
   "outputs": [],
   "source": [
    "def over_sms(data):\n",
    "    if data['tariff'] == 'smart':\n",
    "        result = data['messages_count'] - 50\n",
    "        if result > 0 :\n",
    "            return result \n",
    "        else:\n",
    "            return 0\n",
    "    if data['tariff'] == 'ultra':\n",
    "        result = data['messages_count'] - 1000\n",
    "        if result > 0:\n",
    "            return result\n",
    "        else:\n",
    "            return 0"
   ]
  },
  {
   "cell_type": "markdown",
   "metadata": {},
   "source": [
    "Создадим функцию для определения минут сверх пакета:"
   ]
  },
  {
   "cell_type": "code",
   "execution_count": 51,
   "metadata": {},
   "outputs": [],
   "source": [
    "def over_calls_duration_sum(data):\n",
    "    if data['tariff'] == 'smart':\n",
    "        result = data['calls_duration_sum'] - 500\n",
    "        if result > 0 :\n",
    "            return result \n",
    "        else:\n",
    "            return 0\n",
    "    if data['tariff'] == 'ultra':\n",
    "        result = data['calls_duration_sum'] - 3000\n",
    "        if result > 0:\n",
    "            return result\n",
    "        else:\n",
    "            return 0"
   ]
  },
  {
   "cell_type": "markdown",
   "metadata": {},
   "source": [
    "Так как трафик по условиям тарифа дан в mb, а нам нужны gb, переведем в них, так как так удобнее считать сверх тарифа. gb  = 1024 mb. Соответственно получается 15 gb для тарифа smart и 30 gb для тарифа ultra. Создадим функцию для определения интернет-трафика сверх тарифа:"
   ]
  },
  {
   "cell_type": "code",
   "execution_count": 52,
   "metadata": {},
   "outputs": [],
   "source": [
    "def over_gb_used(data):\n",
    "    if data['tariff'] == 'smart':\n",
    "        result = data['mb_used'] / 1024 - 15\n",
    "        if result > 0 :\n",
    "            return result\n",
    "        else:\n",
    "            return 0\n",
    "    if data['tariff'] == 'ultra':\n",
    "        result = data['mb_used'] / 1024 - 30\n",
    "        if result > 0:\n",
    "            return result\n",
    "        else:\n",
    "            return 0"
   ]
  },
  {
   "cell_type": "markdown",
   "metadata": {},
   "source": [
    "Функция для помесячной выручки с каждого польователя:"
   ]
  },
  {
   "cell_type": "code",
   "execution_count": 53,
   "metadata": {},
   "outputs": [],
   "source": [
    "def total_rub(data):\n",
    "    if data['tariff'] == 'smart':\n",
    "        result = 550 + data['over_sms'] * 3 + data['over_calls_duration'] * 3 + data['over_gb_used'] * 200\n",
    "        if result > 550 :\n",
    "            return result\n",
    "        else:\n",
    "            return int(550)\n",
    "    if data['tariff'] == 'ultra':\n",
    "        result = 1950 + data['over_sms'] * 1 + data['over_calls_duration'] * 1 + data['over_gb_used'] * 150\n",
    "        if result > 1950:\n",
    "            return result\n",
    "        else:\n",
    "            return int(1950)"
   ]
  },
  {
   "cell_type": "markdown",
   "metadata": {},
   "source": [
    "Применим функцию, чтоб определить смс сверх пакета."
   ]
  },
  {
   "cell_type": "code",
   "execution_count": 54,
   "metadata": {},
   "outputs": [],
   "source": [
    "user_used_month['over_sms'] = user_used_month.apply(over_sms, axis = 1).astype('int')"
   ]
  },
  {
   "cell_type": "markdown",
   "metadata": {},
   "source": [
    "Применим функцию, чтоб определить минуты сверх пакета."
   ]
  },
  {
   "cell_type": "code",
   "execution_count": 55,
   "metadata": {},
   "outputs": [],
   "source": [
    "user_used_month['over_calls_duration'] = user_used_month.apply(over_calls_duration_sum, axis = 1)"
   ]
  },
  {
   "cell_type": "markdown",
   "metadata": {},
   "source": [
    "Применим функцию, чтоб определить gb сверх пакета."
   ]
  },
  {
   "cell_type": "code",
   "execution_count": 56,
   "metadata": {},
   "outputs": [],
   "source": [
    "user_used_month['over_gb_used'] = user_used_month.apply(over_gb_used, axis = 1)"
   ]
  },
  {
   "cell_type": "markdown",
   "metadata": {},
   "source": [
    "Округлим до gb сверх пакета до целых значений в большую сторону. "
   ]
  },
  {
   "cell_type": "code",
   "execution_count": 57,
   "metadata": {},
   "outputs": [],
   "source": [
    "user_used_month['over_gb_used'] = user_used_month['over_gb_used'].apply(np.ceil)"
   ]
  },
  {
   "cell_type": "markdown",
   "metadata": {},
   "source": [
    "Применим функцию для помесячной выручки."
   ]
  },
  {
   "cell_type": "code",
   "execution_count": 58,
   "metadata": {},
   "outputs": [],
   "source": [
    "user_used_month['total_rub'] = user_used_month.apply(total_rub, axis = 1) "
   ]
  },
  {
   "cell_type": "markdown",
   "metadata": {},
   "source": [
    "Посмотрим на 10 строк нашей таблицы."
   ]
  },
  {
   "cell_type": "code",
   "execution_count": 59,
   "metadata": {
    "scrolled": false
   },
   "outputs": [
    {
     "data": {
      "text/html": [
       "<div>\n",
       "<style scoped>\n",
       "    .dataframe tbody tr th:only-of-type {\n",
       "        vertical-align: middle;\n",
       "    }\n",
       "\n",
       "    .dataframe tbody tr th {\n",
       "        vertical-align: top;\n",
       "    }\n",
       "\n",
       "    .dataframe thead th {\n",
       "        text-align: right;\n",
       "    }\n",
       "</style>\n",
       "<table border=\"1\" class=\"dataframe\">\n",
       "  <thead>\n",
       "    <tr style=\"text-align: right;\">\n",
       "      <th></th>\n",
       "      <th></th>\n",
       "      <th>calls_count</th>\n",
       "      <th>calls_duration_sum</th>\n",
       "      <th>messages_count</th>\n",
       "      <th>mb_used</th>\n",
       "      <th>tariff</th>\n",
       "      <th>city</th>\n",
       "      <th>age</th>\n",
       "      <th>first_name</th>\n",
       "      <th>last_name</th>\n",
       "      <th>reg_date</th>\n",
       "      <th>churn_date</th>\n",
       "      <th>solo</th>\n",
       "      <th>over_sms</th>\n",
       "      <th>over_calls_duration</th>\n",
       "      <th>over_gb_used</th>\n",
       "      <th>total_rub</th>\n",
       "    </tr>\n",
       "    <tr>\n",
       "      <th>user_id</th>\n",
       "      <th>month</th>\n",
       "      <th></th>\n",
       "      <th></th>\n",
       "      <th></th>\n",
       "      <th></th>\n",
       "      <th></th>\n",
       "      <th></th>\n",
       "      <th></th>\n",
       "      <th></th>\n",
       "      <th></th>\n",
       "      <th></th>\n",
       "      <th></th>\n",
       "      <th></th>\n",
       "      <th></th>\n",
       "      <th></th>\n",
       "      <th></th>\n",
       "      <th></th>\n",
       "    </tr>\n",
       "  </thead>\n",
       "  <tbody>\n",
       "    <tr>\n",
       "      <td>1185</td>\n",
       "      <td>06 June</td>\n",
       "      <td>102.00</td>\n",
       "      <td>844.00</td>\n",
       "      <td>0.00</td>\n",
       "      <td>39,230.00</td>\n",
       "      <td>ultra</td>\n",
       "      <td>Санкт-Петербург</td>\n",
       "      <td>26</td>\n",
       "      <td>Мануэла</td>\n",
       "      <td>Родина</td>\n",
       "      <td>2018-04-13</td>\n",
       "      <td>NaT</td>\n",
       "      <td>3,300.00</td>\n",
       "      <td>0</td>\n",
       "      <td>0.00</td>\n",
       "      <td>9.00</td>\n",
       "      <td>3,300.00</td>\n",
       "    </tr>\n",
       "    <tr>\n",
       "      <td>1153</td>\n",
       "      <td>10 October</td>\n",
       "      <td>43.00</td>\n",
       "      <td>329.00</td>\n",
       "      <td>0.00</td>\n",
       "      <td>7,341.00</td>\n",
       "      <td>smart</td>\n",
       "      <td>Ульяновск</td>\n",
       "      <td>59</td>\n",
       "      <td>Евдокия</td>\n",
       "      <td>Одинцова</td>\n",
       "      <td>2018-10-18</td>\n",
       "      <td>NaT</td>\n",
       "      <td>550.00</td>\n",
       "      <td>0</td>\n",
       "      <td>0.00</td>\n",
       "      <td>0.00</td>\n",
       "      <td>550.00</td>\n",
       "    </tr>\n",
       "    <tr>\n",
       "      <td>1363</td>\n",
       "      <td>09 September</td>\n",
       "      <td>122.00</td>\n",
       "      <td>813.00</td>\n",
       "      <td>0.00</td>\n",
       "      <td>17,152.00</td>\n",
       "      <td>ultra</td>\n",
       "      <td>Нижний Тагил</td>\n",
       "      <td>69</td>\n",
       "      <td>Оксана</td>\n",
       "      <td>Болдырева</td>\n",
       "      <td>2018-03-04</td>\n",
       "      <td>NaT</td>\n",
       "      <td>1,950.00</td>\n",
       "      <td>0</td>\n",
       "      <td>0.00</td>\n",
       "      <td>0.00</td>\n",
       "      <td>1,950.00</td>\n",
       "    </tr>\n",
       "    <tr>\n",
       "      <td>1120</td>\n",
       "      <td>05 May</td>\n",
       "      <td>40.00</td>\n",
       "      <td>311.00</td>\n",
       "      <td>0.00</td>\n",
       "      <td>17,143.00</td>\n",
       "      <td>ultra</td>\n",
       "      <td>Краснодар</td>\n",
       "      <td>25</td>\n",
       "      <td>Агнесса</td>\n",
       "      <td>Абдулина</td>\n",
       "      <td>2018-01-24</td>\n",
       "      <td>NaT</td>\n",
       "      <td>1,950.00</td>\n",
       "      <td>0</td>\n",
       "      <td>0.00</td>\n",
       "      <td>0.00</td>\n",
       "      <td>1,950.00</td>\n",
       "    </tr>\n",
       "    <tr>\n",
       "      <td>1265</td>\n",
       "      <td>10 October</td>\n",
       "      <td>15.00</td>\n",
       "      <td>130.00</td>\n",
       "      <td>6.00</td>\n",
       "      <td>2,246.00</td>\n",
       "      <td>ultra</td>\n",
       "      <td>Омск</td>\n",
       "      <td>24</td>\n",
       "      <td>Радим</td>\n",
       "      <td>Адамов</td>\n",
       "      <td>2018-06-24</td>\n",
       "      <td>2018-10-04</td>\n",
       "      <td>1,950.00</td>\n",
       "      <td>0</td>\n",
       "      <td>0.00</td>\n",
       "      <td>0.00</td>\n",
       "      <td>1,950.00</td>\n",
       "    </tr>\n",
       "    <tr>\n",
       "      <td>1106</td>\n",
       "      <td>11 November</td>\n",
       "      <td>nan</td>\n",
       "      <td>0.00</td>\n",
       "      <td>29.00</td>\n",
       "      <td>21,311.00</td>\n",
       "      <td>ultra</td>\n",
       "      <td>Калуга</td>\n",
       "      <td>67</td>\n",
       "      <td>Исаак</td>\n",
       "      <td>Костин</td>\n",
       "      <td>2018-04-26</td>\n",
       "      <td>NaT</td>\n",
       "      <td>1,950.00</td>\n",
       "      <td>0</td>\n",
       "      <td>0.00</td>\n",
       "      <td>0.00</td>\n",
       "      <td>1,950.00</td>\n",
       "    </tr>\n",
       "    <tr>\n",
       "      <td>1419</td>\n",
       "      <td>11 November</td>\n",
       "      <td>62.00</td>\n",
       "      <td>456.00</td>\n",
       "      <td>52.00</td>\n",
       "      <td>12,324.00</td>\n",
       "      <td>smart</td>\n",
       "      <td>Новороссийск</td>\n",
       "      <td>19</td>\n",
       "      <td>Эльмира</td>\n",
       "      <td>Яшина</td>\n",
       "      <td>2018-07-19</td>\n",
       "      <td>NaT</td>\n",
       "      <td>556.00</td>\n",
       "      <td>2</td>\n",
       "      <td>0.00</td>\n",
       "      <td>0.00</td>\n",
       "      <td>556.00</td>\n",
       "    </tr>\n",
       "    <tr>\n",
       "      <td>1147</td>\n",
       "      <td>07 July</td>\n",
       "      <td>33.00</td>\n",
       "      <td>247.00</td>\n",
       "      <td>26.00</td>\n",
       "      <td>13,087.00</td>\n",
       "      <td>smart</td>\n",
       "      <td>Якутск</td>\n",
       "      <td>63</td>\n",
       "      <td>Владимир</td>\n",
       "      <td>Синицын</td>\n",
       "      <td>2018-07-09</td>\n",
       "      <td>NaT</td>\n",
       "      <td>550.00</td>\n",
       "      <td>0</td>\n",
       "      <td>0.00</td>\n",
       "      <td>0.00</td>\n",
       "      <td>550.00</td>\n",
       "    </tr>\n",
       "    <tr>\n",
       "      <td>1004</td>\n",
       "      <td>10 October</td>\n",
       "      <td>29.00</td>\n",
       "      <td>145.00</td>\n",
       "      <td>165.00</td>\n",
       "      <td>18,494.00</td>\n",
       "      <td>ultra</td>\n",
       "      <td>Новокузнецк</td>\n",
       "      <td>68</td>\n",
       "      <td>Татьяна</td>\n",
       "      <td>Авдеенко</td>\n",
       "      <td>2018-05-14</td>\n",
       "      <td>NaT</td>\n",
       "      <td>1,950.00</td>\n",
       "      <td>0</td>\n",
       "      <td>0.00</td>\n",
       "      <td>0.00</td>\n",
       "      <td>1,950.00</td>\n",
       "    </tr>\n",
       "    <tr>\n",
       "      <td>1059</td>\n",
       "      <td>05 May</td>\n",
       "      <td>102.00</td>\n",
       "      <td>671.00</td>\n",
       "      <td>23.00</td>\n",
       "      <td>21,414.00</td>\n",
       "      <td>smart</td>\n",
       "      <td>Курск</td>\n",
       "      <td>47</td>\n",
       "      <td>Глеб</td>\n",
       "      <td>Свиридов</td>\n",
       "      <td>2018-04-14</td>\n",
       "      <td>NaT</td>\n",
       "      <td>2,263.00</td>\n",
       "      <td>0</td>\n",
       "      <td>171.00</td>\n",
       "      <td>6.00</td>\n",
       "      <td>2,263.00</td>\n",
       "    </tr>\n",
       "  </tbody>\n",
       "</table>\n",
       "</div>"
      ],
      "text/plain": [
       "                      calls_count  calls_duration_sum  messages_count  \\\n",
       "user_id month                                                           \n",
       "1185    06 June            102.00              844.00            0.00   \n",
       "1153    10 October          43.00              329.00            0.00   \n",
       "1363    09 September       122.00              813.00            0.00   \n",
       "1120    05 May              40.00              311.00            0.00   \n",
       "1265    10 October          15.00              130.00            6.00   \n",
       "1106    11 November           nan                0.00           29.00   \n",
       "1419    11 November         62.00              456.00           52.00   \n",
       "1147    07 July             33.00              247.00           26.00   \n",
       "1004    10 October          29.00              145.00          165.00   \n",
       "1059    05 May             102.00              671.00           23.00   \n",
       "\n",
       "                       mb_used tariff             city  age first_name  \\\n",
       "user_id month                                                            \n",
       "1185    06 June      39,230.00  ultra  Санкт-Петербург   26    Мануэла   \n",
       "1153    10 October    7,341.00  smart        Ульяновск   59    Евдокия   \n",
       "1363    09 September 17,152.00  ultra     Нижний Тагил   69     Оксана   \n",
       "1120    05 May       17,143.00  ultra        Краснодар   25    Агнесса   \n",
       "1265    10 October    2,246.00  ultra             Омск   24      Радим   \n",
       "1106    11 November  21,311.00  ultra           Калуга   67      Исаак   \n",
       "1419    11 November  12,324.00  smart     Новороссийск   19    Эльмира   \n",
       "1147    07 July      13,087.00  smart           Якутск   63   Владимир   \n",
       "1004    10 October   18,494.00  ultra      Новокузнецк   68    Татьяна   \n",
       "1059    05 May       21,414.00  smart            Курск   47       Глеб   \n",
       "\n",
       "                      last_name   reg_date churn_date     solo  over_sms  \\\n",
       "user_id month                                                              \n",
       "1185    06 June          Родина 2018-04-13        NaT 3,300.00         0   \n",
       "1153    10 October     Одинцова 2018-10-18        NaT   550.00         0   \n",
       "1363    09 September  Болдырева 2018-03-04        NaT 1,950.00         0   \n",
       "1120    05 May         Абдулина 2018-01-24        NaT 1,950.00         0   \n",
       "1265    10 October       Адамов 2018-06-24 2018-10-04 1,950.00         0   \n",
       "1106    11 November      Костин 2018-04-26        NaT 1,950.00         0   \n",
       "1419    11 November       Яшина 2018-07-19        NaT   556.00         2   \n",
       "1147    07 July         Синицын 2018-07-09        NaT   550.00         0   \n",
       "1004    10 October     Авдеенко 2018-05-14        NaT 1,950.00         0   \n",
       "1059    05 May         Свиридов 2018-04-14        NaT 2,263.00         0   \n",
       "\n",
       "                      over_calls_duration  over_gb_used  total_rub  \n",
       "user_id month                                                       \n",
       "1185    06 June                      0.00          9.00   3,300.00  \n",
       "1153    10 October                   0.00          0.00     550.00  \n",
       "1363    09 September                 0.00          0.00   1,950.00  \n",
       "1120    05 May                       0.00          0.00   1,950.00  \n",
       "1265    10 October                   0.00          0.00   1,950.00  \n",
       "1106    11 November                  0.00          0.00   1,950.00  \n",
       "1419    11 November                  0.00          0.00     556.00  \n",
       "1147    07 July                      0.00          0.00     550.00  \n",
       "1004    10 October                   0.00          0.00   1,950.00  \n",
       "1059    05 May                     171.00          6.00   2,263.00  "
      ]
     },
     "execution_count": 59,
     "metadata": {},
     "output_type": "execute_result"
    }
   ],
   "source": [
    "user_used_month.sample(10)"
   ]
  },
  {
   "cell_type": "markdown",
   "metadata": {},
   "source": [
    "### 2.8 Вывод"
   ]
  },
  {
   "cell_type": "markdown",
   "metadata": {},
   "source": [
    "* На данном этапе мы успешно изменили типы данных.\n",
    "* Провели работу со сводной таблицой, привели в общий рабочий вид, теперь ее можно использовать как фильтр.\n",
    "* Успешно определи по месяцам сколько тратит каждый клиент со своего пакета и сколько поверх.\n",
    "* Посчитали помесячную выручку с каждого клиента."
   ]
  },
  {
   "cell_type": "markdown",
   "metadata": {},
   "source": [
    "## Этап 3. Аналитическая работа с данными"
   ]
  },
  {
   "cell_type": "markdown",
   "metadata": {},
   "source": [
    "### 3.1 Общая таблица и анализ по тарифам"
   ]
  },
  {
   "cell_type": "markdown",
   "metadata": {},
   "source": [
    "Создадим общую таблицу по тарифам, выразим в них среднюю, дисперсию, а также стандартное отклонение."
   ]
  },
  {
   "cell_type": "code",
   "execution_count": 60,
   "metadata": {},
   "outputs": [
    {
     "data": {
      "text/html": [
       "<div>\n",
       "<style scoped>\n",
       "    .dataframe tbody tr th:only-of-type {\n",
       "        vertical-align: middle;\n",
       "    }\n",
       "\n",
       "    .dataframe tbody tr th {\n",
       "        vertical-align: top;\n",
       "    }\n",
       "\n",
       "    .dataframe thead tr th {\n",
       "        text-align: left;\n",
       "    }\n",
       "\n",
       "    .dataframe thead tr:last-of-type th {\n",
       "        text-align: right;\n",
       "    }\n",
       "</style>\n",
       "<table border=\"1\" class=\"dataframe\">\n",
       "  <thead>\n",
       "    <tr>\n",
       "      <th></th>\n",
       "      <th colspan=\"3\" halign=\"left\">calls_duration_sum</th>\n",
       "      <th colspan=\"3\" halign=\"left\">messages_count</th>\n",
       "      <th colspan=\"3\" halign=\"left\">mb_used</th>\n",
       "    </tr>\n",
       "    <tr>\n",
       "      <th></th>\n",
       "      <th>mean</th>\n",
       "      <th>var</th>\n",
       "      <th>std</th>\n",
       "      <th>mean</th>\n",
       "      <th>var</th>\n",
       "      <th>std</th>\n",
       "      <th>mean</th>\n",
       "      <th>var</th>\n",
       "      <th>std</th>\n",
       "    </tr>\n",
       "    <tr>\n",
       "      <th>tariff</th>\n",
       "      <th></th>\n",
       "      <th></th>\n",
       "      <th></th>\n",
       "      <th></th>\n",
       "      <th></th>\n",
       "      <th></th>\n",
       "      <th></th>\n",
       "      <th></th>\n",
       "      <th></th>\n",
       "    </tr>\n",
       "  </thead>\n",
       "  <tbody>\n",
       "    <tr>\n",
       "      <td>smart</td>\n",
       "      <td>417.93</td>\n",
       "      <td>36,219.32</td>\n",
       "      <td>190.31</td>\n",
       "      <td>33.38</td>\n",
       "      <td>796.81</td>\n",
       "      <td>28.23</td>\n",
       "      <td>16,229.19</td>\n",
       "      <td>34,545,911.13</td>\n",
       "      <td>5,877.58</td>\n",
       "    </tr>\n",
       "    <tr>\n",
       "      <td>ultra</td>\n",
       "      <td>526.62</td>\n",
       "      <td>100,873.63</td>\n",
       "      <td>317.61</td>\n",
       "      <td>49.36</td>\n",
       "      <td>2,285.27</td>\n",
       "      <td>47.80</td>\n",
       "      <td>19,486.90</td>\n",
       "      <td>101,935,621.05</td>\n",
       "      <td>10,096.32</td>\n",
       "    </tr>\n",
       "  </tbody>\n",
       "</table>\n",
       "</div>"
      ],
      "text/plain": [
       "       calls_duration_sum                   messages_count                 \\\n",
       "                     mean        var    std           mean      var   std   \n",
       "tariff                                                                      \n",
       "smart              417.93  36,219.32 190.31          33.38   796.81 28.23   \n",
       "ultra              526.62 100,873.63 317.61          49.36 2,285.27 47.80   \n",
       "\n",
       "         mb_used                           \n",
       "            mean            var       std  \n",
       "tariff                                     \n",
       "smart  16,229.19  34,545,911.13  5,877.58  \n",
       "ultra  19,486.90 101,935,621.05 10,096.32  "
      ]
     },
     "execution_count": 60,
     "metadata": {},
     "output_type": "execute_result"
    }
   ],
   "source": [
    "user_used_month.groupby('tariff')['calls_duration_sum','messages_count','mb_used'].agg(['mean','var','std'])"
   ]
  },
  {
   "cell_type": "markdown",
   "metadata": {},
   "source": [
    "Из данной таблицы можно подчеркнуть:\n",
    "* В среднем по тарифу smart говорят 418 минут, в то время как для тарифа ultra среднее значение составляет 527 минут. В среднем для тарифа ultra остается практически половина минут из пакета. \n",
    "* В среднем по тарифу smart отправляют 34 сообщения, в то время как на тарифе ultra отправляют 50 сообщений, это говорит о том, что в среднем пакет смс используется лишь на 5%. \n",
    "* В тарифе smart пользователи расходуют в среднем 16 gb, в то время как на тарифе ultra 19.5 gb. Для тарифа smart этого недостаточно, для тарифа ultra в среднем остается еще 33 %. \n",
    "* Дисперсия и среднее отклонение больше на тарифе ultra, это говорит о большем размахе в наших значениях. "
   ]
  },
  {
   "cell_type": "markdown",
   "metadata": {},
   "source": [
    "### 3.2  Подробный анализ на основе графиков и данных"
   ]
  },
  {
   "cell_type": "markdown",
   "metadata": {},
   "source": [
    "Нам потребуется создать гистограммы и описать распределения. Решено было построить гистограммы, а также боксплоты, чтобы имелось более полное описание данных."
   ]
  },
  {
   "cell_type": "markdown",
   "metadata": {},
   "source": [
    "Создадим функцию, для определения \"усов\" наших боксплотов:"
   ]
  },
  {
   "cell_type": "code",
   "execution_count": 62,
   "metadata": {},
   "outputs": [],
   "source": [
    "def whiskers(df,column): # функция для опеределения \"усов\"\n",
    "    stat = df[column].describe() # сохраним в переменную основные стат.показатели\n",
    "    \n",
    "    iqr = stat[6] - stat[4] # межквартирльный размах\n",
    "    \n",
    "    l_whisker = stat[4] - 1.5 * iqr # левый \"ус\" \n",
    "    r_whisker = stat[6] + 1.5 * iqr # правый \"ус\" \n",
    "\n",
    "    if l_whisker < stat[3]: l_whisker = stat[3]  # левый \"ус\" не меньше минимального значения\n",
    "        \n",
    "    if r_whisker > stat[7]: r_whisker = stat[7] # правый \"ус\" не больше максимального значения\n",
    "        \n",
    "    return [l_whisker, r_whisker]"
   ]
  },
  {
   "cell_type": "markdown",
   "metadata": {},
   "source": [
    "Построим гистограммы и боксплоты, на основе визуализации и анализе данных сделаем выводы:"
   ]
  },
  {
   "cell_type": "markdown",
   "metadata": {},
   "source": [
    "**По продожительности минут**"
   ]
  },
  {
   "cell_type": "markdown",
   "metadata": {},
   "source": [
    "Построим гистограмму."
   ]
  },
  {
   "cell_type": "code",
   "execution_count": 63,
   "metadata": {},
   "outputs": [
    {
     "data": {
      "image/png": "[encoded data removed]",
      "text/plain": [
       "<Figure size 720x432 with 1 Axes>"
      ]
     },
     "metadata": {},
     "output_type": "display_data"
    }
   ],
   "source": [
    "sns.set(style=\"darkgrid\")\n",
    "df = sns.load_dataset(\"iris\")\n",
    "sns.set(rc={'figure.figsize':(10,6)})\n",
    "sns.distplot(user_used_month.query('tariff == \"smart\"')[\"calls_duration_sum\"],\n",
    "             kde=True,\n",
    "             kde_kws={\"color\": \"g\", \"alpha\": 0.3, \"linewidth\": 5, \"shade\": True})\n",
    "sns.distplot(user_used_month.query('tariff == \"ultra\"')[\"calls_duration_sum\"],\n",
    "             kde=True,\n",
    "             kde_kws={\"color\": \"r\", \"alpha\": 0.3, \"linewidth\": 5, \"shade\": True})\n",
    "plt.xlim(0,1700)\n",
    "plt.xlabel('Продолжительность разговора в минутах')\n",
    "plt.legend(['smart','ultra'])\n",
    "plt.show()"
   ]
  },
  {
   "cell_type": "markdown",
   "metadata": {},
   "source": [
    "Построим боксплот."
   ]
  },
  {
   "cell_type": "code",
   "execution_count": 64,
   "metadata": {},
   "outputs": [
    {
     "data": {
      "image/png": "[encoded data removed]",
      "text/plain": [
       "<Figure size 720x720 with 1 Axes>"
      ]
     },
     "metadata": {},
     "output_type": "display_data"
    }
   ],
   "source": [
    "sns.set(style=\"darkgrid\")\n",
    "df = sns.load_dataset('iris')\n",
    "sns.set(rc={'figure.figsize':(10,10)})\n",
    "plt.legend(['smart','ultra'])\n",
    "sns.boxplot(x='tariff', y='calls_duration_sum', data=user_used_month, hue=\"tariff\")\n",
    "plt.xlabel('Тарифы')\n",
    "plt.ylabel('Продолжительность разговора в минутах')\n",
    "plt.show()"
   ]
  },
  {
   "cell_type": "markdown",
   "metadata": {},
   "source": [
    "Определим \"усы\" боксплота в тарифе ultra."
   ]
  },
  {
   "cell_type": "code",
   "execution_count": 65,
   "metadata": {},
   "outputs": [
    {
     "data": {
      "text/plain": [
       "[0.0, 1454.0]"
      ]
     },
     "execution_count": 65,
     "metadata": {},
     "output_type": "execute_result"
    }
   ],
   "source": [
    "whiskers(user_used_month.query('tariff == \"ultra\"'),'calls_duration_sum')"
   ]
  },
  {
   "cell_type": "markdown",
   "metadata": {},
   "source": [
    "Определим \"усы\" боксплота в тарифе smart."
   ]
  },
  {
   "cell_type": "code",
   "execution_count": 66,
   "metadata": {},
   "outputs": [
    {
     "data": {
      "text/plain": [
       "[0.0, 939.5]"
      ]
     },
     "execution_count": 66,
     "metadata": {},
     "output_type": "execute_result"
    }
   ],
   "source": [
    "whiskers(user_used_month.query('tariff == \"smart\"'),'calls_duration_sum')"
   ]
  },
  {
   "cell_type": "markdown",
   "metadata": {},
   "source": [
    "Посмотрим на квантили и другие статистические показатели."
   ]
  },
  {
   "cell_type": "code",
   "execution_count": 67,
   "metadata": {},
   "outputs": [
    {
     "data": {
      "text/html": [
       "<div>\n",
       "<style scoped>\n",
       "    .dataframe tbody tr th:only-of-type {\n",
       "        vertical-align: middle;\n",
       "    }\n",
       "\n",
       "    .dataframe tbody tr th {\n",
       "        vertical-align: top;\n",
       "    }\n",
       "\n",
       "    .dataframe thead th {\n",
       "        text-align: right;\n",
       "    }\n",
       "</style>\n",
       "<table border=\"1\" class=\"dataframe\">\n",
       "  <thead>\n",
       "    <tr style=\"text-align: right;\">\n",
       "      <th>tariff</th>\n",
       "      <th>smart</th>\n",
       "      <th>ultra</th>\n",
       "    </tr>\n",
       "  </thead>\n",
       "  <tbody>\n",
       "    <tr>\n",
       "      <td>count</td>\n",
       "      <td>2,229.00</td>\n",
       "      <td>985.00</td>\n",
       "    </tr>\n",
       "    <tr>\n",
       "      <td>mean</td>\n",
       "      <td>417.93</td>\n",
       "      <td>526.62</td>\n",
       "    </tr>\n",
       "    <tr>\n",
       "      <td>std</td>\n",
       "      <td>190.31</td>\n",
       "      <td>317.61</td>\n",
       "    </tr>\n",
       "    <tr>\n",
       "      <td>min</td>\n",
       "      <td>0.00</td>\n",
       "      <td>0.00</td>\n",
       "    </tr>\n",
       "    <tr>\n",
       "      <td>25%</td>\n",
       "      <td>282.00</td>\n",
       "      <td>284.00</td>\n",
       "    </tr>\n",
       "    <tr>\n",
       "      <td>50%</td>\n",
       "      <td>422.00</td>\n",
       "      <td>518.00</td>\n",
       "    </tr>\n",
       "    <tr>\n",
       "      <td>75%</td>\n",
       "      <td>545.00</td>\n",
       "      <td>752.00</td>\n",
       "    </tr>\n",
       "    <tr>\n",
       "      <td>max</td>\n",
       "      <td>1,435.00</td>\n",
       "      <td>1,673.00</td>\n",
       "    </tr>\n",
       "  </tbody>\n",
       "</table>\n",
       "</div>"
      ],
      "text/plain": [
       "tariff    smart    ultra\n",
       "count  2,229.00   985.00\n",
       "mean     417.93   526.62\n",
       "std      190.31   317.61\n",
       "min        0.00     0.00\n",
       "25%      282.00   284.00\n",
       "50%      422.00   518.00\n",
       "75%      545.00   752.00\n",
       "max    1,435.00 1,673.00"
      ]
     },
     "execution_count": 67,
     "metadata": {},
     "output_type": "execute_result"
    }
   ],
   "source": [
    "user_used_month.groupby('tariff')['calls_duration_sum'].describe().T"
   ]
  },
  {
   "cell_type": "markdown",
   "metadata": {},
   "source": [
    "На основе графиков и данных можно сделать вывод, что распределения близки к нормальному распределению. Медианое значение в тарифе смарт составляет 422 минуты, среднее 418 минут. Касаемо ультры медианое значение 518 минут, среднее 527 минут. Также обратим внимание, что что более 25% процентов smart используют минуты сверх пакета. Выбросов на тарифе smart больше. Значения выбросов для тарифа smart составляют от 940 минут, в то время как редкие значения у ultra от 1454 минут."
   ]
  },
  {
   "cell_type": "markdown",
   "metadata": {},
   "source": [
    "**По количеству отправленных сообщений**"
   ]
  },
  {
   "cell_type": "code",
   "execution_count": 68,
   "metadata": {},
   "outputs": [
    {
     "data": {
      "image/png": "[encoded data removed]",
      "text/plain": [
       "<Figure size 720x432 with 1 Axes>"
      ]
     },
     "metadata": {},
     "output_type": "display_data"
    }
   ],
   "source": [
    "sns.set(style=\"darkgrid\")\n",
    "df = sns.load_dataset(\"iris\")\n",
    "sns.set(rc={'figure.figsize':(10,6)})\n",
    "sns.distplot(user_used_month.query('tariff == \"smart\"')[\"messages_count\"],\n",
    "             kde=True,\n",
    "             kde_kws={\"color\": \"g\", \"alpha\": 0.3, \"linewidth\": 5, \"shade\": True})\n",
    "sns.distplot(user_used_month.query('tariff == \"ultra\"')[\"messages_count\"],\n",
    "             kde=True,\n",
    "             kde_kws={\"color\": \"r\", \"alpha\": 0.3, \"linewidth\": 5, \"shade\": True})\n",
    "\n",
    "plt.xlabel('Количество отправленных сообщений')\n",
    "plt.legend(['smart','ultra'])\n",
    "plt.show()"
   ]
  },
  {
   "cell_type": "code",
   "execution_count": 69,
   "metadata": {},
   "outputs": [
    {
     "data": {
      "image/png": "[encoded data removed]",
      "text/plain": [
       "<Figure size 720x720 with 1 Axes>"
      ]
     },
     "metadata": {},
     "output_type": "display_data"
    }
   ],
   "source": [
    "sns.set(style=\"darkgrid\")\n",
    "df = sns.load_dataset('iris')\n",
    "sns.set(rc={'figure.figsize':(10,10)})\n",
    "sns.boxplot(x='tariff', y='messages_count', data=user_used_month, hue=\"tariff\")\n",
    "plt.xlabel('Тарифы')\n",
    "plt.ylabel('Количество отправленных смс')\n",
    "plt.show()"
   ]
  },
  {
   "cell_type": "markdown",
   "metadata": {},
   "source": [
    "Определим \"усы\" боксплота в тарифе ultra."
   ]
  },
  {
   "cell_type": "code",
   "execution_count": 70,
   "metadata": {},
   "outputs": [
    {
     "data": {
      "text/plain": [
       "[0.0, 188.5]"
      ]
     },
     "execution_count": 70,
     "metadata": {},
     "output_type": "execute_result"
    }
   ],
   "source": [
    "whiskers(user_used_month.query('tariff == \"ultra\"'),'messages_count')"
   ]
  },
  {
   "cell_type": "markdown",
   "metadata": {},
   "source": [
    "Определим \"усы\" боксплота в тарифе smart."
   ]
  },
  {
   "cell_type": "code",
   "execution_count": 71,
   "metadata": {},
   "outputs": [
    {
     "data": {
      "text/plain": [
       "[0.0, 112.5]"
      ]
     },
     "execution_count": 71,
     "metadata": {},
     "output_type": "execute_result"
    }
   ],
   "source": [
    "whiskers(user_used_month.query('tariff == \"smart\"'),'messages_count')"
   ]
  },
  {
   "cell_type": "markdown",
   "metadata": {},
   "source": [
    "Посмотрим на квантили и другие статистические показатели."
   ]
  },
  {
   "cell_type": "code",
   "execution_count": 72,
   "metadata": {
    "scrolled": true
   },
   "outputs": [
    {
     "data": {
      "text/html": [
       "<div>\n",
       "<style scoped>\n",
       "    .dataframe tbody tr th:only-of-type {\n",
       "        vertical-align: middle;\n",
       "    }\n",
       "\n",
       "    .dataframe tbody tr th {\n",
       "        vertical-align: top;\n",
       "    }\n",
       "\n",
       "    .dataframe thead th {\n",
       "        text-align: right;\n",
       "    }\n",
       "</style>\n",
       "<table border=\"1\" class=\"dataframe\">\n",
       "  <thead>\n",
       "    <tr style=\"text-align: right;\">\n",
       "      <th>tariff</th>\n",
       "      <th>smart</th>\n",
       "      <th>ultra</th>\n",
       "    </tr>\n",
       "  </thead>\n",
       "  <tbody>\n",
       "    <tr>\n",
       "      <td>count</td>\n",
       "      <td>2,229.00</td>\n",
       "      <td>985.00</td>\n",
       "    </tr>\n",
       "    <tr>\n",
       "      <td>mean</td>\n",
       "      <td>33.38</td>\n",
       "      <td>49.36</td>\n",
       "    </tr>\n",
       "    <tr>\n",
       "      <td>std</td>\n",
       "      <td>28.23</td>\n",
       "      <td>47.80</td>\n",
       "    </tr>\n",
       "    <tr>\n",
       "      <td>min</td>\n",
       "      <td>0.00</td>\n",
       "      <td>0.00</td>\n",
       "    </tr>\n",
       "    <tr>\n",
       "      <td>25%</td>\n",
       "      <td>10.00</td>\n",
       "      <td>6.00</td>\n",
       "    </tr>\n",
       "    <tr>\n",
       "      <td>50%</td>\n",
       "      <td>28.00</td>\n",
       "      <td>38.00</td>\n",
       "    </tr>\n",
       "    <tr>\n",
       "      <td>75%</td>\n",
       "      <td>51.00</td>\n",
       "      <td>79.00</td>\n",
       "    </tr>\n",
       "    <tr>\n",
       "      <td>max</td>\n",
       "      <td>143.00</td>\n",
       "      <td>224.00</td>\n",
       "    </tr>\n",
       "  </tbody>\n",
       "</table>\n",
       "</div>"
      ],
      "text/plain": [
       "tariff    smart  ultra\n",
       "count  2,229.00 985.00\n",
       "mean      33.38  49.36\n",
       "std       28.23  47.80\n",
       "min        0.00   0.00\n",
       "25%       10.00   6.00\n",
       "50%       28.00  38.00\n",
       "75%       51.00  79.00\n",
       "max      143.00 224.00"
      ]
     },
     "execution_count": 72,
     "metadata": {},
     "output_type": "execute_result"
    }
   ],
   "source": [
    "user_used_month.groupby('tariff')['messages_count'].describe().T"
   ]
  },
  {
   "cell_type": "markdown",
   "metadata": {},
   "source": [
    "На основе графиков и данных можно сделать вывод, что график смещен вправо. Смс не особо популярно. Медианое значение в тарифе смарт составляет 28 сообщений, среднее 34 сообщения. Касаемо ультры медианое значение 38 сообщений, среднее 50 сообщений. Также обратим внимание, что что более 25% процентов smart используют смс сверх пакета. Выбросов на тарифе smart больше. Значения выбросов для тарифа smart составляют от 113 сообщений, в то время как редкие значения у ultra от 189 сообщений."
   ]
  },
  {
   "cell_type": "markdown",
   "metadata": {},
   "source": [
    "**По использованию интернет-траффика**"
   ]
  },
  {
   "cell_type": "code",
   "execution_count": 73,
   "metadata": {},
   "outputs": [
    {
     "data": {
      "image/png": "[encoded data removed]",
      "text/plain": [
       "<Figure size 720x432 with 1 Axes>"
      ]
     },
     "metadata": {},
     "output_type": "display_data"
    }
   ],
   "source": [
    "sns.set(style=\"darkgrid\")\n",
    "df = sns.load_dataset(\"iris\")\n",
    "sns.set(rc={'figure.figsize':(10,6)})\n",
    "sns.distplot(user_used_month.query('tariff == \"smart\"')[\"mb_used\"],\n",
    "             kde=True,\n",
    "             kde_kws={\"color\": \"g\", \"alpha\": 0.3, \"linewidth\": 5, \"shade\": True})\n",
    "sns.distplot(user_used_month.query('tariff == \"ultra\"')[\"mb_used\"],\n",
    "             kde=True,\n",
    "             kde_kws={\"color\": \"r\", \"alpha\": 0.3, \"linewidth\": 5, \"shade\": True})\n",
    "\n",
    "plt.xlabel('Использование интернет-трафика')\n",
    "plt.legend(['smart','ultra'])\n",
    "plt.show()"
   ]
  },
  {
   "cell_type": "code",
   "execution_count": 74,
   "metadata": {},
   "outputs": [
    {
     "data": {
      "image/png": "[encoded data removed]",
      "text/plain": [
       "<Figure size 720x720 with 1 Axes>"
      ]
     },
     "metadata": {},
     "output_type": "display_data"
    }
   ],
   "source": [
    "sns.set(style=\"darkgrid\")\n",
    "df = sns.load_dataset('iris')\n",
    "sns.set(rc={'figure.figsize':(10,10)})\n",
    "sns.boxplot(x='tariff', y='mb_used', data=user_used_month, hue=\"tariff\")\n",
    "plt.xlabel('Тарифы')\n",
    "plt.ylabel('Количество использованных МБ')\n",
    "plt.show()"
   ]
  },
  {
   "cell_type": "markdown",
   "metadata": {},
   "source": [
    "Определим \"усы\" боксплота в тарифе ultra."
   ]
  },
  {
   "cell_type": "code",
   "execution_count": 75,
   "metadata": {},
   "outputs": [
    {
     "data": {
      "text/plain": [
       "[0.0, 49480.0]"
      ]
     },
     "execution_count": 75,
     "metadata": {},
     "output_type": "execute_result"
    }
   ],
   "source": [
    "whiskers(user_used_month.query('tariff == \"ultra\"'),'mb_used')"
   ]
  },
  {
   "cell_type": "markdown",
   "metadata": {},
   "source": [
    "Определим \"усы\" боксплота в тарифе smart."
   ]
  },
  {
   "cell_type": "code",
   "execution_count": 76,
   "metadata": {},
   "outputs": [
    {
     "data": {
      "text/plain": [
       "[1543.0, 31183.0]"
      ]
     },
     "execution_count": 76,
     "metadata": {},
     "output_type": "execute_result"
    }
   ],
   "source": [
    "whiskers(user_used_month.query('tariff == \"smart\"'),'mb_used')"
   ]
  },
  {
   "cell_type": "markdown",
   "metadata": {},
   "source": [
    "Посмотрим на квантили и другие статистические показатели."
   ]
  },
  {
   "cell_type": "code",
   "execution_count": 77,
   "metadata": {},
   "outputs": [
    {
     "data": {
      "text/html": [
       "<div>\n",
       "<style scoped>\n",
       "    .dataframe tbody tr th:only-of-type {\n",
       "        vertical-align: middle;\n",
       "    }\n",
       "\n",
       "    .dataframe tbody tr th {\n",
       "        vertical-align: top;\n",
       "    }\n",
       "\n",
       "    .dataframe thead th {\n",
       "        text-align: right;\n",
       "    }\n",
       "</style>\n",
       "<table border=\"1\" class=\"dataframe\">\n",
       "  <thead>\n",
       "    <tr style=\"text-align: right;\">\n",
       "      <th>tariff</th>\n",
       "      <th>smart</th>\n",
       "      <th>ultra</th>\n",
       "    </tr>\n",
       "  </thead>\n",
       "  <tbody>\n",
       "    <tr>\n",
       "      <td>count</td>\n",
       "      <td>2,229.00</td>\n",
       "      <td>985.00</td>\n",
       "    </tr>\n",
       "    <tr>\n",
       "      <td>mean</td>\n",
       "      <td>16,229.19</td>\n",
       "      <td>19,486.90</td>\n",
       "    </tr>\n",
       "    <tr>\n",
       "      <td>std</td>\n",
       "      <td>5,877.58</td>\n",
       "      <td>10,096.32</td>\n",
       "    </tr>\n",
       "    <tr>\n",
       "      <td>min</td>\n",
       "      <td>0.00</td>\n",
       "      <td>0.00</td>\n",
       "    </tr>\n",
       "    <tr>\n",
       "      <td>25%</td>\n",
       "      <td>12,658.00</td>\n",
       "      <td>11,785.00</td>\n",
       "    </tr>\n",
       "    <tr>\n",
       "      <td>50%</td>\n",
       "      <td>16,531.00</td>\n",
       "      <td>19,324.00</td>\n",
       "    </tr>\n",
       "    <tr>\n",
       "      <td>75%</td>\n",
       "      <td>20,068.00</td>\n",
       "      <td>26,863.00</td>\n",
       "    </tr>\n",
       "    <tr>\n",
       "      <td>max</td>\n",
       "      <td>38,610.00</td>\n",
       "      <td>49,789.00</td>\n",
       "    </tr>\n",
       "  </tbody>\n",
       "</table>\n",
       "</div>"
      ],
      "text/plain": [
       "tariff     smart     ultra\n",
       "count   2,229.00    985.00\n",
       "mean   16,229.19 19,486.90\n",
       "std     5,877.58 10,096.32\n",
       "min         0.00      0.00\n",
       "25%    12,658.00 11,785.00\n",
       "50%    16,531.00 19,324.00\n",
       "75%    20,068.00 26,863.00\n",
       "max    38,610.00 49,789.00"
      ]
     },
     "execution_count": 77,
     "metadata": {},
     "output_type": "execute_result"
    }
   ],
   "source": [
    "user_used_month.groupby('tariff')['mb_used'].describe().T"
   ]
  },
  {
   "cell_type": "markdown",
   "metadata": {},
   "source": [
    "На основе графиков и данных можно сделать вывод, что графики блиpки к нормальному распределению. Интернетом пользуются активно. Медианое значение в тарифе смарт составляет 16.5 gb, среднее близко к медианому и составляет 16.3 gb. Касаемо ультры медианое значение 19.3gb , среднее также близко и составляет 19.5 gb. Также обратим внимание, что что более 50% процентов smart используют интернет сверх пакета. Выбросов на тарифе smart больше. Значения выбросов для тарифа smart составляют от 31 gb и ниже 1.5 gb, в то время как редкие значения у ultra от 49gb."
   ]
  },
  {
   "cell_type": "markdown",
   "metadata": {},
   "source": [
    "**Прибыль компании**"
   ]
  },
  {
   "cell_type": "markdown",
   "metadata": {},
   "source": [
    "Посмотрим общую прибыль компании."
   ]
  },
  {
   "cell_type": "code",
   "execution_count": 78,
   "metadata": {},
   "outputs": [
    {
     "data": {
      "text/plain": [
       "4925751.0"
      ]
     },
     "execution_count": 78,
     "metadata": {},
     "output_type": "execute_result"
    }
   ],
   "source": [
    "user_used_month['total_rub'].sum()"
   ]
  },
  {
   "cell_type": "markdown",
   "metadata": {},
   "source": [
    "Теперь посмотрим прибыль по каждому из тарифов по отдельности."
   ]
  },
  {
   "cell_type": "code",
   "execution_count": 79,
   "metadata": {},
   "outputs": [
    {
     "data": {
      "text/plain": [
       "tariff\n",
       "smart   2,885,751.00\n",
       "ultra   2,040,000.00\n",
       "Name: total_rub, dtype: float64"
      ]
     },
     "execution_count": 79,
     "metadata": {},
     "output_type": "execute_result"
    }
   ],
   "source": [
    "user_used_month.groupby('tariff')['total_rub'].sum()"
   ]
  },
  {
   "cell_type": "markdown",
   "metadata": {},
   "source": [
    "**Общий вывод**"
   ]
  },
  {
   "cell_type": "markdown",
   "metadata": {},
   "source": [
    "Проанализиров графики и данные можно сделать вывод, что для пользователей тарифа ultra пакета предостаточно, редко когда абоненты используют услуги сверх пакета, и то это лишь интернет. Для smart картина противоположная, выше 25% абонентов используют сверх пакета, как смс так и продолжительность звонков, а интернет свыше 50%. В целом по количеству выбросов, можно понять, что тариф smart сильно ужат, и 25% процентов пользователей могли бы выбрать новый тариф. Общая прибыль составляет 4,925,751 руб, из них них 2,885,751 рублей по тарифу smart, 2,040,000 рублей по тарифу ultra. С уверенностью можно заявить, что можно внедрить новый тариф, промежуточный между smart и ultra, это в свое время поднимет лояльность клиента к компании, так как промежуточный тариф просто необходим, smarta мало, ultra избыточен, а психологический дискомфорт присуствует от ограничений пакета. "
   ]
  },
  {
   "cell_type": "markdown",
   "metadata": {},
   "source": [
    "## Этап 4. Проверка гипотез"
   ]
  },
  {
   "cell_type": "markdown",
   "metadata": {},
   "source": [
    "Нам требуется проверить такие гипотезы как:\n",
    "* средняя выручка пользователей тарифов «Ультра» и «Смарт» различаются\n",
    "* средняя выручка пользователей из Москвы отличается от выручки пользователей из других регионов"
   ]
  },
  {
   "cell_type": "markdown",
   "metadata": {},
   "source": [
    "### 4.1 Cредняя выручка пользователей тарифов «Ультра» и «Смарт»"
   ]
  },
  {
   "cell_type": "markdown",
   "metadata": {},
   "source": [
    "Соотвтественно нулевой гипотезой будет являться, что средняя выручка в тарифе smart и ultra не различается. В то время как альтернативная , что средние выручки различаются."
   ]
  },
  {
   "cell_type": "markdown",
   "metadata": {},
   "source": [
    "Для этого нам потребуются две выборки, отдельно для каждого из тарифов:"
   ]
  },
  {
   "cell_type": "code",
   "execution_count": 80,
   "metadata": {},
   "outputs": [],
   "source": [
    "smart  = user_used_month.query('tariff == \"smart\"')[['total_rub']]"
   ]
  },
  {
   "cell_type": "code",
   "execution_count": 81,
   "metadata": {},
   "outputs": [],
   "source": [
    "ultra  = user_used_month.query('tariff == \"ultra\"')[['total_rub']]"
   ]
  },
  {
   "cell_type": "markdown",
   "metadata": {},
   "source": [
    "Так как выборки у нас независимые , то воспользуемся критерием Стьюдента используя функцию ttest_ind из библиотеки scipy. Но для начала нужно избавиться от выбросов, так как как они влияют на критерий Стьюдента. Сделаем это с вышесозданной функцией whiskers, для определения нормальных значений."
   ]
  },
  {
   "cell_type": "markdown",
   "metadata": {},
   "source": [
    "Для тарифа smart:"
   ]
  },
  {
   "cell_type": "code",
   "execution_count": 82,
   "metadata": {},
   "outputs": [
    {
     "data": {
      "text/plain": [
       "[550.0, 3550.0]"
      ]
     },
     "execution_count": 82,
     "metadata": {},
     "output_type": "execute_result"
    }
   ],
   "source": [
    "whiskers(smart,'total_rub')"
   ]
  },
  {
   "cell_type": "markdown",
   "metadata": {},
   "source": [
    "Для тарифа ultra:"
   ]
  },
  {
   "cell_type": "code",
   "execution_count": 83,
   "metadata": {},
   "outputs": [
    {
     "data": {
      "text/plain": [
       "[1950.0, 1950.0]"
      ]
     },
     "execution_count": 83,
     "metadata": {},
     "output_type": "execute_result"
    }
   ],
   "source": [
    "whiskers(ultra,'total_rub')"
   ]
  },
  {
   "cell_type": "markdown",
   "metadata": {},
   "source": [
    "Зададим уровень альфа."
   ]
  },
  {
   "cell_type": "code",
   "execution_count": 84,
   "metadata": {},
   "outputs": [],
   "source": [
    "alpha = 0.05"
   ]
  },
  {
   "cell_type": "markdown",
   "metadata": {},
   "source": [
    "Создадим переменную с результатом для сравнения."
   ]
  },
  {
   "cell_type": "code",
   "execution_count": 85,
   "metadata": {},
   "outputs": [],
   "source": [
    "results = st.ttest_ind(ultra.query('1950 <=total_rub<= 1950'), smart.query('550 <=total_rub<= 3550'))"
   ]
  },
  {
   "cell_type": "markdown",
   "metadata": {},
   "source": [
    "Проверим наши гипотезы."
   ]
  },
  {
   "cell_type": "code",
   "execution_count": 86,
   "metadata": {},
   "outputs": [
    {
     "name": "stdout",
     "output_type": "stream",
     "text": [
      "p-значение: [4.62445935e-153]\n",
      "Отвергаем нулевую гипотезу\n"
     ]
    }
   ],
   "source": [
    "print('p-значение:', results.pvalue)\n",
    "\n",
    "if (results.pvalue < alpha):\n",
    "    print(\"Отвергаем нулевую гипотезу\")\n",
    "else:\n",
    "    print(\"Не получилось отвергнуть нулевую гипотезу\")"
   ]
  },
  {
   "cell_type": "markdown",
   "metadata": {},
   "source": [
    "Как можно сделать вывод наша нулевая гипотеза отвергнута и средняя выручка по тарифам smart и ultra отличается."
   ]
  },
  {
   "cell_type": "markdown",
   "metadata": {},
   "source": [
    "Для наглядности также убедимся в данных таблицы."
   ]
  },
  {
   "cell_type": "code",
   "execution_count": 87,
   "metadata": {},
   "outputs": [
    {
     "data": {
      "text/html": [
       "<div>\n",
       "<style scoped>\n",
       "    .dataframe tbody tr th:only-of-type {\n",
       "        vertical-align: middle;\n",
       "    }\n",
       "\n",
       "    .dataframe tbody tr th {\n",
       "        vertical-align: top;\n",
       "    }\n",
       "\n",
       "    .dataframe thead th {\n",
       "        text-align: right;\n",
       "    }\n",
       "</style>\n",
       "<table border=\"1\" class=\"dataframe\">\n",
       "  <thead>\n",
       "    <tr style=\"text-align: right;\">\n",
       "      <th></th>\n",
       "      <th>total_rub</th>\n",
       "    </tr>\n",
       "    <tr>\n",
       "      <th>tariff</th>\n",
       "      <th></th>\n",
       "    </tr>\n",
       "  </thead>\n",
       "  <tbody>\n",
       "    <tr>\n",
       "      <td>smart</td>\n",
       "      <td>1,249.74</td>\n",
       "    </tr>\n",
       "    <tr>\n",
       "      <td>ultra</td>\n",
       "      <td>1,950.00</td>\n",
       "    </tr>\n",
       "  </tbody>\n",
       "</table>\n",
       "</div>"
      ],
      "text/plain": [
       "        total_rub\n",
       "tariff           \n",
       "smart    1,249.74\n",
       "ultra    1,950.00"
      ]
     },
     "execution_count": 87,
     "metadata": {},
     "output_type": "execute_result"
    }
   ],
   "source": [
    "user_used_month.query('(tariff==\"smart\" and 550 <=total_rub<= 3550) |(tariff==\"ultra\" and 1950 <=total_rub<= 1950)').pivot_table(index='tariff', values='total_rub', aggfunc='mean')"
   ]
  },
  {
   "cell_type": "markdown",
   "metadata": {},
   "source": [
    "По таблице видно, что средние значения отличаются, и к тому же достаточно сильно. "
   ]
  },
  {
   "cell_type": "markdown",
   "metadata": {},
   "source": [
    "**Вывод**: Гипотеза отвергнута, средние значения для тарифов smart и ultra отличаются."
   ]
  },
  {
   "cell_type": "markdown",
   "metadata": {},
   "source": [
    "### 4.2 Cредняя выручка пользователей из Москвы отличается от выручки пользователей из других регионов"
   ]
  },
  {
   "cell_type": "markdown",
   "metadata": {},
   "source": [
    "Соотвтественно нулевой гипотезой будет являться, что средняя выручка не различается в Москве и остальных населенных пунтках. В то время как альтернативная , что средние выручки различаются."
   ]
  },
  {
   "cell_type": "markdown",
   "metadata": {},
   "source": [
    "Для этого нам потребуются две выборки, одна выборка, включающая Москву, другая - остальные города:"
   ]
  },
  {
   "cell_type": "code",
   "execution_count": 88,
   "metadata": {},
   "outputs": [],
   "source": [
    "moscow = user_used_month.query('city == \"Москва\"')[['total_rub']]"
   ]
  },
  {
   "cell_type": "code",
   "execution_count": 89,
   "metadata": {},
   "outputs": [],
   "source": [
    "other = user_used_month.query('city != \"Москва\"')[['total_rub']]"
   ]
  },
  {
   "cell_type": "markdown",
   "metadata": {},
   "source": [
    "Так как выборки у нас независимые , то воспользуемся критерием Стьюдента используя функцию ttest_ind из библиотеки scipy. Но для начала нужно избавиться от выбросов, так как как они влияют на критерий Стьюдента. Сделаем это с вышесозданной функцией whiskers, для определения нормальных значений."
   ]
  },
  {
   "cell_type": "code",
   "execution_count": 90,
   "metadata": {},
   "outputs": [
    {
     "data": {
      "text/plain": [
       "[550.0, 3678.0]"
      ]
     },
     "execution_count": 90,
     "metadata": {},
     "output_type": "execute_result"
    }
   ],
   "source": [
    "whiskers(moscow,'total_rub')"
   ]
  },
  {
   "cell_type": "code",
   "execution_count": 91,
   "metadata": {},
   "outputs": [
    {
     "data": {
      "text/plain": [
       "[550.0, 3750.0]"
      ]
     },
     "execution_count": 91,
     "metadata": {},
     "output_type": "execute_result"
    }
   ],
   "source": [
    "whiskers(other,'total_rub')"
   ]
  },
  {
   "cell_type": "markdown",
   "metadata": {},
   "source": [
    "Зададим уровень альфа."
   ]
  },
  {
   "cell_type": "code",
   "execution_count": 92,
   "metadata": {},
   "outputs": [],
   "source": [
    "alpha = 0.05"
   ]
  },
  {
   "cell_type": "markdown",
   "metadata": {},
   "source": [
    "Создадим переменную с результатом для сравнения."
   ]
  },
  {
   "cell_type": "code",
   "execution_count": 93,
   "metadata": {},
   "outputs": [],
   "source": [
    "results = st.ttest_ind(moscow.query('550<=total_rub<=3678'), other.query('550<=total_rub<=3750'))"
   ]
  },
  {
   "cell_type": "markdown",
   "metadata": {},
   "source": [
    "Проверим наши гипотезы."
   ]
  },
  {
   "cell_type": "code",
   "execution_count": 94,
   "metadata": {
    "scrolled": true
   },
   "outputs": [
    {
     "name": "stdout",
     "output_type": "stream",
     "text": [
      "p-значение: [0.27118564]\n",
      "Не получилось отвергнуть нулевую гипотезу\n"
     ]
    }
   ],
   "source": [
    "print('p-значение:', results.pvalue)\n",
    "\n",
    "if (results.pvalue < alpha):\n",
    "    print(\"Отвергаем нулевую гипотезу\")\n",
    "else:\n",
    "    print(\"Не получилось отвергнуть нулевую гипотезу\")"
   ]
  },
  {
   "cell_type": "markdown",
   "metadata": {},
   "source": [
    "Как можно сделать вывод наша нулевая гипотеза не отвергнута и средняя выручка по Москве и другим населенным пунктам схожи."
   ]
  },
  {
   "cell_type": "markdown",
   "metadata": {},
   "source": [
    "Также для наглядности убедимся в данных таблицы."
   ]
  },
  {
   "cell_type": "code",
   "execution_count": 95,
   "metadata": {},
   "outputs": [
    {
     "data": {
      "text/html": [
       "<div>\n",
       "<style scoped>\n",
       "    .dataframe tbody tr th:only-of-type {\n",
       "        vertical-align: middle;\n",
       "    }\n",
       "\n",
       "    .dataframe tbody tr th {\n",
       "        vertical-align: top;\n",
       "    }\n",
       "\n",
       "    .dataframe thead th {\n",
       "        text-align: right;\n",
       "    }\n",
       "</style>\n",
       "<table border=\"1\" class=\"dataframe\">\n",
       "  <thead>\n",
       "    <tr style=\"text-align: right;\">\n",
       "      <th></th>\n",
       "      <th>mean</th>\n",
       "    </tr>\n",
       "    <tr>\n",
       "      <th>city</th>\n",
       "      <th></th>\n",
       "    </tr>\n",
       "  </thead>\n",
       "  <tbody>\n",
       "    <tr>\n",
       "      <td>Другой населенный пункт</td>\n",
       "      <td>1,492.08</td>\n",
       "    </tr>\n",
       "    <tr>\n",
       "      <td>Москва</td>\n",
       "      <td>1,528.72</td>\n",
       "    </tr>\n",
       "  </tbody>\n",
       "</table>\n",
       "</div>"
      ],
      "text/plain": [
       "                            mean\n",
       "city                            \n",
       "Другой населенный пункт 1,492.08\n",
       "Москва                  1,528.72"
      ]
     },
     "execution_count": 95,
     "metadata": {},
     "output_type": "execute_result"
    }
   ],
   "source": [
    "city = user_used_month\n",
    "city.loc[city.loc[:,'city'] != 'Москва', 'city'] = 'Другой населенный пункт'\n",
    "city.query('(city==\"Москва\" and 550 <=total_rub<= 3678) |(city==\"Другой населенный пункт\" and 550 <=total_rub<= 3750)').groupby('city')['total_rub'].agg(['mean'])\n"
   ]
  },
  {
   "cell_type": "markdown",
   "metadata": {},
   "source": [
    "**Вывод**: не удалось опровергнуть гипотезу, средние значения для тарифов Москвы и Других населенных пунктов в среднем схожи."
   ]
  },
  {
   "cell_type": "markdown",
   "metadata": {},
   "source": [
    " "
   ]
  },
  {
   "cell_type": "markdown",
   "metadata": {},
   "source": [
    "**Общий вывод:**  В ходе работы мы проверили две гипотезы, уровень альфа задали как 5%. Были заданы такие нулевые гипотезы как:\n",
    "* Нулевая гипотеза заключается в том, что средняя выручка в тарифе smart и ultra не различается\n",
    "* Нулевая гипотеза заключается в том, что средняя выручка по Москве и в других населенных пунктах не различается\n",
    "\n",
    "Так как у нас независимые выборки, был выбран критерий Стьюдента, альтернативные гипотезы противоречат нулевым и в ходе работы по гипотезам было выявлено :\n",
    "* Опровергли нулевую гипотезу. Средняя выручка по тарифам smart и ultra  с большой вероятностью различается и различается сильно.\n",
    "* Нулевая гипотеза не отвергнута. Средняя выручка в Москве и других населенных пунктах с вероятностью схожи."
   ]
  },
  {
   "cell_type": "markdown",
   "metadata": {},
   "source": [
    "## Этап 5. Общий вывод"
   ]
  },
  {
   "cell_type": "markdown",
   "metadata": {},
   "source": [
    "В ходе работы мы познакомились с 5 датасетами ,на их основе сделали анализ по тарифам компании \"Мегалайн\". Компания на рынке предоставила 2 тарифа. Мы проделали большой пласт работы, преобработали данные, изменив тип данных, создали сводную таблицу, на основе которой можно осуществлять полноценный поиск по клиенту, и смотреть все потребляемые им услуги по месяцам. Проанализировав мы смогли сделать следующие выводы:\n",
    "* Тариф ultra предостаточен, клиенты данного тарифного планы редко когда выходят за рамки тарифного пакета.\n",
    "* Тариф smart для 25% абонентов не достаточен в плане звонков и смс, и для более 50% в части интернета.\n",
    "* Компании \"Мегалайн\" можно было бы внедрить новый тариф и повысить лояльность клиентов и избежать оттока абонентов. Тариф предлагает промежуточный вариант между тарифом smart и ultra. \n",
    "* Прибыль \"Мегалайн\" по тарифу smart составила 2,885,751 рублей.\n",
    "* Прибыль \"Мегалайн\" по тарифу ultra составила 2,040,000 рублей.\n",
    "* Опровергли нулевую гипотезу, касающуюся того, что средняя выручка по тарифам smart и ultra не различается.\n",
    "* Не смогли опровергнуть гипотезу, касающуются того, что средняя выручка в Москве и других населенных пунктах не различается. Эта данность говорит о том, что в среднем Москва и другие населенные пункты приносят доход коммпании равномерно."
   ]
  },
  {
   "cell_type": "markdown",
   "metadata": {},
   "source": [
    "Исходя из проделанной работы было выявлено, что для компании и для клиентов, более успешным является тарифа ultra:\n",
    "* Для компании потому как, при меньше количестве клиентов, данный тариф приносит большую выручку с каждого клиента.\n",
    "* Для клиента, потому, как в целом, некоторые абоненты ужимают свои действия в использовании тарифа, так как его явно недостаточно, а цены сверх пакета, альтернатива не для каждого. В то время как абоненты тарифа ultra спокойно используют тариф, не ограничивая себя ни в чем.\n",
    "\n",
    "Хочется еще раз подчеркнуть, исходя из того, что тариф smart имеет среднюю выручку 1250, и этого еще абоненты явно экономят, можно с уверенностью сказать, что прмежуточный тариф просто необходим. "
   ]
  }
 ],
 "metadata": {
  "ExecuteTimeLog": [
   {
    "duration": 1048,
    "start_time": "2021-09-29T17:12:43.185Z"
   },
   {
    "duration": 3,
    "start_time": "2021-09-29T17:13:13.637Z"
   },
   {
    "duration": 3,
    "start_time": "2021-09-29T17:14:04.531Z"
   },
   {
    "duration": 1036,
    "start_time": "2021-09-29T17:15:17.924Z"
   },
   {
    "duration": 66,
    "start_time": "2021-09-29T17:19:31.307Z"
   },
   {
    "duration": 1027,
    "start_time": "2021-09-29T17:19:44.573Z"
   },
   {
    "duration": 379,
    "start_time": "2021-09-29T17:19:45.602Z"
   },
   {
    "duration": 108,
    "start_time": "2021-09-29T18:02:33.851Z"
   },
   {
    "duration": 18,
    "start_time": "2021-09-29T18:03:28.590Z"
   },
   {
    "duration": 2,
    "start_time": "2021-09-29T18:10:33.401Z"
   },
   {
    "duration": 14,
    "start_time": "2021-09-29T18:11:37.552Z"
   },
   {
    "duration": 67,
    "start_time": "2021-09-29T18:15:04.774Z"
   },
   {
    "duration": 12,
    "start_time": "2021-09-29T18:15:35.845Z"
   },
   {
    "duration": 69,
    "start_time": "2021-09-29T18:16:25.520Z"
   },
   {
    "duration": 70,
    "start_time": "2021-09-29T18:17:43.560Z"
   },
   {
    "duration": 937,
    "start_time": "2021-09-29T18:18:03.117Z"
   },
   {
    "duration": 835,
    "start_time": "2021-09-29T18:19:12.827Z"
   },
   {
    "duration": 8,
    "start_time": "2021-09-29T18:19:32.143Z"
   },
   {
    "duration": 73,
    "start_time": "2021-09-29T18:24:53.414Z"
   },
   {
    "duration": 7,
    "start_time": "2021-09-29T18:25:30.983Z"
   },
   {
    "duration": 10,
    "start_time": "2021-09-29T18:25:43.487Z"
   },
   {
    "duration": 1016,
    "start_time": "2021-09-29T18:40:22.851Z"
   },
   {
    "duration": 422,
    "start_time": "2021-09-29T18:40:23.869Z"
   },
   {
    "duration": 17,
    "start_time": "2021-09-29T18:40:24.293Z"
   },
   {
    "duration": 12,
    "start_time": "2021-09-29T18:40:24.311Z"
   },
   {
    "duration": 7,
    "start_time": "2021-09-29T18:40:24.325Z"
   },
   {
    "duration": 8,
    "start_time": "2021-09-29T18:40:24.333Z"
   },
   {
    "duration": 11,
    "start_time": "2021-09-29T18:40:24.343Z"
   },
   {
    "duration": 4,
    "start_time": "2021-09-29T18:49:12.469Z"
   },
   {
    "duration": 3,
    "start_time": "2021-09-29T18:49:21.736Z"
   },
   {
    "duration": 4,
    "start_time": "2021-09-29T18:54:44.734Z"
   },
   {
    "duration": 12,
    "start_time": "2021-09-29T18:54:57.003Z"
   },
   {
    "duration": 22,
    "start_time": "2021-09-29T18:59:44.425Z"
   },
   {
    "duration": 18,
    "start_time": "2021-09-29T19:00:01.211Z"
   },
   {
    "duration": 15,
    "start_time": "2021-09-29T19:00:16.768Z"
   },
   {
    "duration": 341,
    "start_time": "2021-09-29T19:00:35.016Z"
   },
   {
    "duration": 7,
    "start_time": "2021-09-29T19:00:42.162Z"
   },
   {
    "duration": 7,
    "start_time": "2021-09-29T19:01:09.837Z"
   },
   {
    "duration": 964,
    "start_time": "2021-09-29T19:02:36.915Z"
   },
   {
    "duration": 394,
    "start_time": "2021-09-29T19:02:37.881Z"
   },
   {
    "duration": 18,
    "start_time": "2021-09-29T19:02:38.277Z"
   },
   {
    "duration": 19,
    "start_time": "2021-09-29T19:02:38.296Z"
   },
   {
    "duration": 10,
    "start_time": "2021-09-29T19:02:38.317Z"
   },
   {
    "duration": 19,
    "start_time": "2021-09-29T19:02:38.328Z"
   },
   {
    "duration": 7,
    "start_time": "2021-09-29T19:02:38.348Z"
   },
   {
    "duration": 19,
    "start_time": "2021-09-29T19:02:38.357Z"
   },
   {
    "duration": 7,
    "start_time": "2021-09-29T19:02:38.400Z"
   },
   {
    "duration": 8,
    "start_time": "2021-09-29T19:02:38.409Z"
   },
   {
    "duration": 13,
    "start_time": "2021-09-29T19:02:38.419Z"
   },
   {
    "duration": 8,
    "start_time": "2021-09-29T19:02:38.434Z"
   },
   {
    "duration": 959,
    "start_time": "2021-09-29T19:51:40.837Z"
   },
   {
    "duration": 415,
    "start_time": "2021-09-29T19:51:41.798Z"
   },
   {
    "duration": 19,
    "start_time": "2021-09-29T19:51:42.215Z"
   },
   {
    "duration": 22,
    "start_time": "2021-09-29T19:51:42.236Z"
   },
   {
    "duration": 12,
    "start_time": "2021-09-29T19:51:42.261Z"
   },
   {
    "duration": 39,
    "start_time": "2021-09-29T19:51:42.275Z"
   },
   {
    "duration": 8,
    "start_time": "2021-09-29T19:51:42.316Z"
   },
   {
    "duration": 16,
    "start_time": "2021-09-29T19:51:42.327Z"
   },
   {
    "duration": 8,
    "start_time": "2021-09-29T19:51:42.345Z"
   },
   {
    "duration": 46,
    "start_time": "2021-09-29T19:51:42.355Z"
   },
   {
    "duration": 14,
    "start_time": "2021-09-29T19:51:42.403Z"
   },
   {
    "duration": 8,
    "start_time": "2021-09-29T19:51:42.418Z"
   },
   {
    "duration": 999,
    "start_time": "2021-09-29T19:52:56.603Z"
   },
   {
    "duration": 413,
    "start_time": "2021-09-29T19:52:57.604Z"
   },
   {
    "duration": 17,
    "start_time": "2021-09-29T19:52:58.019Z"
   },
   {
    "duration": 46,
    "start_time": "2021-09-29T19:52:58.039Z"
   },
   {
    "duration": 11,
    "start_time": "2021-09-29T19:52:58.087Z"
   },
   {
    "duration": 24,
    "start_time": "2021-09-29T19:52:58.100Z"
   },
   {
    "duration": 9,
    "start_time": "2021-09-29T19:52:58.125Z"
   },
   {
    "duration": 31,
    "start_time": "2021-09-29T19:52:58.135Z"
   },
   {
    "duration": 26,
    "start_time": "2021-09-29T19:52:58.168Z"
   },
   {
    "duration": 15,
    "start_time": "2021-09-29T19:52:58.196Z"
   },
   {
    "duration": 21,
    "start_time": "2021-09-29T19:52:58.212Z"
   },
   {
    "duration": 15,
    "start_time": "2021-09-29T19:52:58.235Z"
   },
   {
    "duration": 4,
    "start_time": "2021-09-29T19:58:28.404Z"
   },
   {
    "duration": 10,
    "start_time": "2021-09-29T19:58:45.307Z"
   },
   {
    "duration": 32,
    "start_time": "2021-09-29T19:58:54.973Z"
   },
   {
    "duration": 274,
    "start_time": "2021-09-29T19:59:01.231Z"
   },
   {
    "duration": 27,
    "start_time": "2021-09-29T19:59:05.012Z"
   },
   {
    "duration": 37,
    "start_time": "2021-09-29T19:59:15.416Z"
   },
   {
    "duration": 10,
    "start_time": "2021-09-29T19:59:21.435Z"
   },
   {
    "duration": 981,
    "start_time": "2021-09-29T20:54:38.598Z"
   },
   {
    "duration": 420,
    "start_time": "2021-09-29T20:54:39.581Z"
   },
   {
    "duration": 18,
    "start_time": "2021-09-29T20:54:40.005Z"
   },
   {
    "duration": 22,
    "start_time": "2021-09-29T20:54:40.025Z"
   },
   {
    "duration": 12,
    "start_time": "2021-09-29T20:54:40.048Z"
   },
   {
    "duration": 48,
    "start_time": "2021-09-29T20:54:40.062Z"
   },
   {
    "duration": 7,
    "start_time": "2021-09-29T20:54:40.112Z"
   },
   {
    "duration": 14,
    "start_time": "2021-09-29T20:54:40.122Z"
   },
   {
    "duration": 8,
    "start_time": "2021-09-29T20:54:40.137Z"
   },
   {
    "duration": 7,
    "start_time": "2021-09-29T20:54:40.146Z"
   },
   {
    "duration": 53,
    "start_time": "2021-09-29T20:54:40.155Z"
   },
   {
    "duration": 8,
    "start_time": "2021-09-29T20:54:40.209Z"
   },
   {
    "duration": 455,
    "start_time": "2021-09-30T05:04:53.872Z"
   },
   {
    "duration": 1407,
    "start_time": "2021-09-30T05:05:00.321Z"
   },
   {
    "duration": 582,
    "start_time": "2021-09-30T05:05:01.731Z"
   },
   {
    "duration": 21,
    "start_time": "2021-09-30T05:05:02.317Z"
   },
   {
    "duration": 52,
    "start_time": "2021-09-30T05:05:02.341Z"
   },
   {
    "duration": 17,
    "start_time": "2021-09-30T05:05:02.396Z"
   },
   {
    "duration": 35,
    "start_time": "2021-09-30T05:05:02.415Z"
   },
   {
    "duration": 19,
    "start_time": "2021-09-30T05:05:02.452Z"
   },
   {
    "duration": 31,
    "start_time": "2021-09-30T05:05:02.475Z"
   },
   {
    "duration": 18,
    "start_time": "2021-09-30T05:05:02.509Z"
   },
   {
    "duration": 31,
    "start_time": "2021-09-30T05:05:02.529Z"
   },
   {
    "duration": 25,
    "start_time": "2021-09-30T05:05:02.563Z"
   },
   {
    "duration": 13,
    "start_time": "2021-09-30T05:05:02.591Z"
   },
   {
    "duration": 18,
    "start_time": "2021-09-30T05:05:02.607Z"
   },
   {
    "duration": 39,
    "start_time": "2021-09-30T06:07:18.247Z"
   },
   {
    "duration": 41,
    "start_time": "2021-09-30T06:11:42.514Z"
   },
   {
    "duration": 42,
    "start_time": "2021-09-30T06:15:18.662Z"
   },
   {
    "duration": 20,
    "start_time": "2021-09-30T06:15:24.453Z"
   },
   {
    "duration": 11,
    "start_time": "2021-09-30T06:50:11.926Z"
   },
   {
    "duration": 6,
    "start_time": "2021-09-30T06:54:16.497Z"
   },
   {
    "duration": 25,
    "start_time": "2021-09-30T06:54:24.926Z"
   },
   {
    "duration": 15,
    "start_time": "2021-09-30T07:12:48.763Z"
   },
   {
    "duration": 17,
    "start_time": "2021-09-30T07:13:19.861Z"
   },
   {
    "duration": 1349,
    "start_time": "2021-09-30T07:13:25.970Z"
   },
   {
    "duration": 584,
    "start_time": "2021-09-30T07:13:27.322Z"
   },
   {
    "duration": 28,
    "start_time": "2021-09-30T07:13:27.913Z"
   },
   {
    "duration": 17,
    "start_time": "2021-09-30T07:13:27.944Z"
   },
   {
    "duration": 33,
    "start_time": "2021-09-30T07:13:27.965Z"
   },
   {
    "duration": 66,
    "start_time": "2021-09-30T07:13:28.001Z"
   },
   {
    "duration": 25,
    "start_time": "2021-09-30T07:13:28.073Z"
   },
   {
    "duration": 11,
    "start_time": "2021-09-30T07:13:28.101Z"
   },
   {
    "duration": 57,
    "start_time": "2021-09-30T07:13:28.115Z"
   },
   {
    "duration": 13,
    "start_time": "2021-09-30T07:13:28.174Z"
   },
   {
    "duration": 13,
    "start_time": "2021-09-30T07:13:28.189Z"
   },
   {
    "duration": 53,
    "start_time": "2021-09-30T07:13:28.204Z"
   },
   {
    "duration": 9,
    "start_time": "2021-09-30T07:13:28.260Z"
   },
   {
    "duration": 51,
    "start_time": "2021-09-30T07:13:28.272Z"
   },
   {
    "duration": 31,
    "start_time": "2021-09-30T07:13:28.326Z"
   },
   {
    "duration": 16,
    "start_time": "2021-09-30T07:13:28.360Z"
   },
   {
    "duration": 1327,
    "start_time": "2021-09-30T07:14:46.886Z"
   },
   {
    "duration": 533,
    "start_time": "2021-09-30T07:14:48.216Z"
   },
   {
    "duration": 22,
    "start_time": "2021-09-30T07:14:48.755Z"
   },
   {
    "duration": 26,
    "start_time": "2021-09-30T07:14:48.779Z"
   },
   {
    "duration": 17,
    "start_time": "2021-09-30T07:14:48.807Z"
   },
   {
    "duration": 51,
    "start_time": "2021-09-30T07:14:48.826Z"
   },
   {
    "duration": 10,
    "start_time": "2021-09-30T07:14:48.881Z"
   },
   {
    "duration": 20,
    "start_time": "2021-09-30T07:14:48.893Z"
   },
   {
    "duration": 52,
    "start_time": "2021-09-30T07:14:48.915Z"
   },
   {
    "duration": 12,
    "start_time": "2021-09-30T07:14:48.969Z"
   },
   {
    "duration": 17,
    "start_time": "2021-09-30T07:14:48.983Z"
   },
   {
    "duration": 9,
    "start_time": "2021-09-30T07:14:49.003Z"
   },
   {
    "duration": 83,
    "start_time": "2021-09-30T07:14:49.014Z"
   },
   {
    "duration": 6,
    "start_time": "2021-09-30T07:14:49.100Z"
   },
   {
    "duration": 30,
    "start_time": "2021-09-30T07:17:33.014Z"
   },
   {
    "duration": 115,
    "start_time": "2021-09-30T07:17:43.252Z"
   },
   {
    "duration": 35,
    "start_time": "2021-09-30T07:20:42.720Z"
   },
   {
    "duration": 117,
    "start_time": "2021-09-30T07:24:44.742Z"
   },
   {
    "duration": 36,
    "start_time": "2021-09-30T07:28:53.428Z"
   },
   {
    "duration": 30,
    "start_time": "2021-09-30T07:30:08.176Z"
   },
   {
    "duration": 1309,
    "start_time": "2021-09-30T07:30:29.410Z"
   },
   {
    "duration": 560,
    "start_time": "2021-09-30T07:30:30.722Z"
   },
   {
    "duration": 23,
    "start_time": "2021-09-30T07:30:31.285Z"
   },
   {
    "duration": 45,
    "start_time": "2021-09-30T07:30:31.311Z"
   },
   {
    "duration": 27,
    "start_time": "2021-09-30T07:30:31.358Z"
   },
   {
    "duration": 160,
    "start_time": "2021-09-30T07:30:31.387Z"
   },
   {
    "duration": 22,
    "start_time": "2021-09-30T07:30:31.549Z"
   },
   {
    "duration": 58,
    "start_time": "2021-09-30T07:30:31.575Z"
   },
   {
    "duration": 28,
    "start_time": "2021-09-30T07:30:31.636Z"
   },
   {
    "duration": 10,
    "start_time": "2021-09-30T07:30:31.667Z"
   },
   {
    "duration": 22,
    "start_time": "2021-09-30T07:30:31.679Z"
   },
   {
    "duration": 21,
    "start_time": "2021-09-30T07:30:31.703Z"
   },
   {
    "duration": 36,
    "start_time": "2021-09-30T07:30:31.727Z"
   },
   {
    "duration": 18,
    "start_time": "2021-09-30T07:30:31.765Z"
   },
   {
    "duration": 10,
    "start_time": "2021-09-30T07:30:31.786Z"
   },
   {
    "duration": 73,
    "start_time": "2021-09-30T07:30:31.798Z"
   },
   {
    "duration": 6,
    "start_time": "2021-09-30T07:30:31.873Z"
   },
   {
    "duration": 40,
    "start_time": "2021-09-30T07:30:31.881Z"
   },
   {
    "duration": 45,
    "start_time": "2021-09-30T07:30:31.924Z"
   },
   {
    "duration": 34,
    "start_time": "2021-09-30T07:31:12.257Z"
   },
   {
    "duration": 30,
    "start_time": "2021-09-30T07:31:37.249Z"
   },
   {
    "duration": 458,
    "start_time": "2021-09-30T07:56:44.203Z"
   },
   {
    "duration": 16,
    "start_time": "2021-09-30T07:56:51.066Z"
   },
   {
    "duration": 55,
    "start_time": "2021-09-30T07:57:23.090Z"
   },
   {
    "duration": 41,
    "start_time": "2021-09-30T07:57:33.377Z"
   },
   {
    "duration": 87,
    "start_time": "2021-09-30T08:27:46.477Z"
   },
   {
    "duration": 18,
    "start_time": "2021-09-30T08:28:58.072Z"
   },
   {
    "duration": 63,
    "start_time": "2021-09-30T08:29:42.543Z"
   },
   {
    "duration": 22,
    "start_time": "2021-09-30T08:30:40.733Z"
   },
   {
    "duration": 383,
    "start_time": "2021-09-30T08:32:18.576Z"
   },
   {
    "duration": 9,
    "start_time": "2021-09-30T08:32:22.293Z"
   },
   {
    "duration": 8724,
    "start_time": "2021-09-30T08:33:23.251Z"
   },
   {
    "duration": 6,
    "start_time": "2021-09-30T08:34:24.838Z"
   },
   {
    "duration": 2137,
    "start_time": "2021-09-30T08:34:32.979Z"
   },
   {
    "duration": 2577,
    "start_time": "2021-09-30T08:34:35.119Z"
   },
   {
    "duration": 22,
    "start_time": "2021-09-30T08:34:37.699Z"
   },
   {
    "duration": 38,
    "start_time": "2021-09-30T08:34:37.724Z"
   },
   {
    "duration": 31,
    "start_time": "2021-09-30T08:34:37.764Z"
   },
   {
    "duration": 170,
    "start_time": "2021-09-30T08:34:37.798Z"
   },
   {
    "duration": 17,
    "start_time": "2021-09-30T08:34:37.970Z"
   },
   {
    "duration": 71,
    "start_time": "2021-09-30T08:34:37.991Z"
   },
   {
    "duration": 23,
    "start_time": "2021-09-30T08:34:38.065Z"
   },
   {
    "duration": 130,
    "start_time": "2021-09-30T08:34:38.090Z"
   },
   {
    "duration": 11,
    "start_time": "2021-09-30T08:34:38.223Z"
   },
   {
    "duration": 41,
    "start_time": "2021-09-30T08:34:38.236Z"
   },
   {
    "duration": 80,
    "start_time": "2021-09-30T08:34:38.280Z"
   },
   {
    "duration": 12,
    "start_time": "2021-09-30T08:34:38.362Z"
   },
   {
    "duration": 23,
    "start_time": "2021-09-30T08:34:38.376Z"
   },
   {
    "duration": 29,
    "start_time": "2021-09-30T08:34:38.401Z"
   },
   {
    "duration": 43,
    "start_time": "2021-09-30T08:34:38.433Z"
   },
   {
    "duration": 19,
    "start_time": "2021-09-30T08:34:38.479Z"
   },
   {
    "duration": 16,
    "start_time": "2021-09-30T08:34:38.501Z"
   },
   {
    "duration": 81,
    "start_time": "2021-09-30T08:34:38.519Z"
   },
   {
    "duration": 5,
    "start_time": "2021-09-30T08:34:38.603Z"
   },
   {
    "duration": 52,
    "start_time": "2021-09-30T08:34:38.610Z"
   },
   {
    "duration": 5,
    "start_time": "2021-09-30T08:34:38.666Z"
   },
   {
    "duration": 24,
    "start_time": "2021-09-30T08:37:43.725Z"
   },
   {
    "duration": 8,
    "start_time": "2021-09-30T08:39:18.456Z"
   },
   {
    "duration": -162,
    "start_time": "2021-09-30T08:43:50.750Z"
   },
   {
    "duration": 1485,
    "start_time": "2021-09-30T08:44:01.542Z"
   },
   {
    "duration": 560,
    "start_time": "2021-09-30T08:44:03.030Z"
   },
   {
    "duration": 24,
    "start_time": "2021-09-30T08:44:03.593Z"
   },
   {
    "duration": 38,
    "start_time": "2021-09-30T08:44:03.619Z"
   },
   {
    "duration": 28,
    "start_time": "2021-09-30T08:44:03.659Z"
   },
   {
    "duration": 168,
    "start_time": "2021-09-30T08:44:03.689Z"
   },
   {
    "duration": 17,
    "start_time": "2021-09-30T08:44:03.859Z"
   },
   {
    "duration": 38,
    "start_time": "2021-09-30T08:44:03.880Z"
   },
   {
    "duration": 55,
    "start_time": "2021-09-30T08:44:03.921Z"
   },
   {
    "duration": 121,
    "start_time": "2021-09-30T08:44:03.979Z"
   },
   {
    "duration": 10,
    "start_time": "2021-09-30T08:44:04.102Z"
   },
   {
    "duration": 45,
    "start_time": "2021-09-30T08:44:04.114Z"
   },
   {
    "duration": 61,
    "start_time": "2021-09-30T08:44:04.161Z"
   },
   {
    "duration": 11,
    "start_time": "2021-09-30T08:44:04.224Z"
   },
   {
    "duration": 27,
    "start_time": "2021-09-30T08:44:04.237Z"
   },
   {
    "duration": 20,
    "start_time": "2021-09-30T08:44:04.266Z"
   },
   {
    "duration": 21,
    "start_time": "2021-09-30T08:44:04.288Z"
   },
   {
    "duration": 52,
    "start_time": "2021-09-30T08:44:04.313Z"
   },
   {
    "duration": 16,
    "start_time": "2021-09-30T08:44:04.367Z"
   },
   {
    "duration": 40,
    "start_time": "2021-09-30T08:44:04.386Z"
   },
   {
    "duration": 7,
    "start_time": "2021-09-30T08:44:04.456Z"
   },
   {
    "duration": 51,
    "start_time": "2021-09-30T08:44:04.465Z"
   },
   {
    "duration": 6,
    "start_time": "2021-09-30T08:44:04.520Z"
   },
   {
    "duration": 44,
    "start_time": "2021-09-30T08:44:04.528Z"
   },
   {
    "duration": 11,
    "start_time": "2021-09-30T08:44:04.574Z"
   },
   {
    "duration": 6,
    "start_time": "2021-09-30T08:44:04.588Z"
   },
   {
    "duration": 21,
    "start_time": "2021-09-30T08:44:14.752Z"
   },
   {
    "duration": 1350,
    "start_time": "2021-09-30T09:54:34.987Z"
   },
   {
    "duration": 21,
    "start_time": "2021-09-30T09:54:41.275Z"
   },
   {
    "duration": 1028,
    "start_time": "2021-09-30T09:57:12.386Z"
   },
   {
    "duration": 24,
    "start_time": "2021-09-30T09:57:17.150Z"
   },
   {
    "duration": 1030,
    "start_time": "2021-09-30T09:58:04.450Z"
   },
   {
    "duration": 21,
    "start_time": "2021-09-30T09:58:06.282Z"
   },
   {
    "duration": 1020,
    "start_time": "2021-09-30T09:58:22.018Z"
   },
   {
    "duration": 26,
    "start_time": "2021-09-30T09:58:23.041Z"
   },
   {
    "duration": 1023,
    "start_time": "2021-09-30T09:58:37.151Z"
   },
   {
    "duration": 30,
    "start_time": "2021-09-30T09:58:39.917Z"
   },
   {
    "duration": 1055,
    "start_time": "2021-09-30T09:58:56.639Z"
   },
   {
    "duration": 22,
    "start_time": "2021-09-30T09:58:59.431Z"
   },
   {
    "duration": 1009,
    "start_time": "2021-09-30T09:59:09.111Z"
   },
   {
    "duration": 22,
    "start_time": "2021-09-30T09:59:10.158Z"
   },
   {
    "duration": 523,
    "start_time": "2021-09-30T10:00:18.699Z"
   },
   {
    "duration": 815,
    "start_time": "2021-09-30T10:00:26.378Z"
   },
   {
    "duration": 19,
    "start_time": "2021-09-30T10:00:29.801Z"
   },
   {
    "duration": 32,
    "start_time": "2021-09-30T10:00:45.204Z"
   },
   {
    "duration": 1357,
    "start_time": "2021-09-30T10:02:23.797Z"
   },
   {
    "duration": 567,
    "start_time": "2021-09-30T10:02:25.158Z"
   },
   {
    "duration": 21,
    "start_time": "2021-09-30T10:02:25.727Z"
   },
   {
    "duration": 52,
    "start_time": "2021-09-30T10:02:25.751Z"
   },
   {
    "duration": 30,
    "start_time": "2021-09-30T10:02:25.805Z"
   },
   {
    "duration": 178,
    "start_time": "2021-09-30T10:02:25.838Z"
   },
   {
    "duration": 16,
    "start_time": "2021-09-30T10:02:26.018Z"
   },
   {
    "duration": 56,
    "start_time": "2021-09-30T10:02:26.037Z"
   },
   {
    "duration": 21,
    "start_time": "2021-09-30T10:02:26.096Z"
   },
   {
    "duration": 118,
    "start_time": "2021-09-30T10:02:26.119Z"
   },
   {
    "duration": 21,
    "start_time": "2021-09-30T10:02:26.239Z"
   },
   {
    "duration": 22,
    "start_time": "2021-09-30T10:02:26.263Z"
   },
   {
    "duration": 86,
    "start_time": "2021-09-30T10:02:26.287Z"
   },
   {
    "duration": 12,
    "start_time": "2021-09-30T10:02:26.376Z"
   },
   {
    "duration": 9,
    "start_time": "2021-09-30T10:02:26.391Z"
   },
   {
    "duration": 18,
    "start_time": "2021-09-30T10:02:26.402Z"
   },
   {
    "duration": 22,
    "start_time": "2021-09-30T10:02:26.458Z"
   },
   {
    "duration": 9,
    "start_time": "2021-09-30T10:02:26.482Z"
   },
   {
    "duration": 17,
    "start_time": "2021-09-30T10:02:26.494Z"
   },
   {
    "duration": 63,
    "start_time": "2021-09-30T10:02:26.514Z"
   },
   {
    "duration": 8,
    "start_time": "2021-09-30T10:02:26.579Z"
   },
   {
    "duration": 30,
    "start_time": "2021-09-30T10:02:26.590Z"
   },
   {
    "duration": 5,
    "start_time": "2021-09-30T10:02:26.624Z"
   },
   {
    "duration": 63,
    "start_time": "2021-09-30T10:02:26.632Z"
   },
   {
    "duration": 12,
    "start_time": "2021-09-30T10:02:26.698Z"
   },
   {
    "duration": 7,
    "start_time": "2021-09-30T10:02:26.712Z"
   },
   {
    "duration": 1835,
    "start_time": "2021-09-30T10:02:26.722Z"
   },
   {
    "duration": 1381,
    "start_time": "2021-09-30T10:02:28.560Z"
   },
   {
    "duration": 1163,
    "start_time": "2021-09-30T10:02:29.943Z"
   },
   {
    "duration": 41,
    "start_time": "2021-09-30T11:03:27.945Z"
   },
   {
    "duration": 490,
    "start_time": "2021-09-30T11:06:12.777Z"
   },
   {
    "duration": 36,
    "start_time": "2021-09-30T11:06:21.579Z"
   },
   {
    "duration": 24,
    "start_time": "2021-09-30T11:06:28.802Z"
   },
   {
    "duration": 374,
    "start_time": "2021-09-30T11:06:35.912Z"
   },
   {
    "duration": 385,
    "start_time": "2021-09-30T11:06:55.245Z"
   },
   {
    "duration": 381,
    "start_time": "2021-09-30T11:11:36.347Z"
   },
   {
    "duration": 23,
    "start_time": "2021-09-30T11:11:53.690Z"
   },
   {
    "duration": 129,
    "start_time": "2021-09-30T11:16:17.039Z"
   },
   {
    "duration": 23,
    "start_time": "2021-09-30T11:16:21.701Z"
   },
   {
    "duration": 13,
    "start_time": "2021-09-30T11:16:51.355Z"
   },
   {
    "duration": 16,
    "start_time": "2021-09-30T11:18:46.628Z"
   },
   {
    "duration": 47,
    "start_time": "2021-09-30T11:21:26.317Z"
   },
   {
    "duration": 364,
    "start_time": "2021-09-30T11:21:42.837Z"
   },
   {
    "duration": 81,
    "start_time": "2021-09-30T11:21:50.397Z"
   },
   {
    "duration": 1304,
    "start_time": "2021-09-30T11:29:57.315Z"
   },
   {
    "duration": 528,
    "start_time": "2021-09-30T11:29:58.622Z"
   },
   {
    "duration": 22,
    "start_time": "2021-09-30T11:29:59.153Z"
   },
   {
    "duration": 37,
    "start_time": "2021-09-30T11:29:59.178Z"
   },
   {
    "duration": 59,
    "start_time": "2021-09-30T11:29:59.217Z"
   },
   {
    "duration": 157,
    "start_time": "2021-09-30T11:29:59.279Z"
   },
   {
    "duration": 24,
    "start_time": "2021-09-30T11:29:59.439Z"
   },
   {
    "duration": 43,
    "start_time": "2021-09-30T11:29:59.467Z"
   },
   {
    "duration": 49,
    "start_time": "2021-09-30T11:29:59.513Z"
   },
   {
    "duration": 109,
    "start_time": "2021-09-30T11:29:59.565Z"
   },
   {
    "duration": 10,
    "start_time": "2021-09-30T11:29:59.676Z"
   },
   {
    "duration": 21,
    "start_time": "2021-09-30T11:29:59.688Z"
   },
   {
    "duration": 94,
    "start_time": "2021-09-30T11:29:59.711Z"
   },
   {
    "duration": 11,
    "start_time": "2021-09-30T11:29:59.807Z"
   },
   {
    "duration": 15,
    "start_time": "2021-09-30T11:29:59.820Z"
   },
   {
    "duration": 17,
    "start_time": "2021-09-30T11:29:59.858Z"
   },
   {
    "duration": 20,
    "start_time": "2021-09-30T11:29:59.877Z"
   },
   {
    "duration": 8,
    "start_time": "2021-09-30T11:29:59.900Z"
   },
   {
    "duration": 53,
    "start_time": "2021-09-30T11:29:59.911Z"
   },
   {
    "duration": 43,
    "start_time": "2021-09-30T11:29:59.967Z"
   },
   {
    "duration": 6,
    "start_time": "2021-09-30T11:30:00.013Z"
   },
   {
    "duration": 62,
    "start_time": "2021-09-30T11:30:00.021Z"
   },
   {
    "duration": 6,
    "start_time": "2021-09-30T11:30:00.088Z"
   },
   {
    "duration": 28,
    "start_time": "2021-09-30T11:30:00.097Z"
   },
   {
    "duration": 36,
    "start_time": "2021-09-30T11:30:00.127Z"
   },
   {
    "duration": 15,
    "start_time": "2021-09-30T11:30:00.166Z"
   },
   {
    "duration": 1321,
    "start_time": "2021-09-30T11:30:00.183Z"
   },
   {
    "duration": 1094,
    "start_time": "2021-09-30T11:30:01.507Z"
   },
   {
    "duration": 827,
    "start_time": "2021-09-30T11:30:02.603Z"
   },
   {
    "duration": 91,
    "start_time": "2021-09-30T11:30:03.433Z"
   },
   {
    "duration": 19,
    "start_time": "2021-09-30T11:30:03.526Z"
   },
   {
    "duration": 34,
    "start_time": "2021-09-30T11:30:03.558Z"
   },
   {
    "duration": 512,
    "start_time": "2021-09-30T11:33:41.409Z"
   },
   {
    "duration": 150,
    "start_time": "2021-09-30T11:34:04.667Z"
   },
   {
    "duration": 54,
    "start_time": "2021-09-30T11:34:17.473Z"
   },
   {
    "duration": 153,
    "start_time": "2021-09-30T11:34:38.290Z"
   },
   {
    "duration": 52,
    "start_time": "2021-09-30T11:34:42.466Z"
   },
   {
    "duration": 40,
    "start_time": "2021-09-30T12:13:43.379Z"
   },
   {
    "duration": 35,
    "start_time": "2021-09-30T12:13:57.475Z"
   },
   {
    "duration": 52,
    "start_time": "2021-09-30T12:14:29.660Z"
   },
   {
    "duration": 433,
    "start_time": "2021-09-30T12:15:37.879Z"
   },
   {
    "duration": 709,
    "start_time": "2021-09-30T12:16:42.808Z"
   },
   {
    "duration": 1415,
    "start_time": "2021-09-30T12:16:49.193Z"
   },
   {
    "duration": 535,
    "start_time": "2021-09-30T12:16:50.611Z"
   },
   {
    "duration": 24,
    "start_time": "2021-09-30T12:16:51.149Z"
   },
   {
    "duration": 41,
    "start_time": "2021-09-30T12:16:51.176Z"
   },
   {
    "duration": 45,
    "start_time": "2021-09-30T12:16:51.219Z"
   },
   {
    "duration": 157,
    "start_time": "2021-09-30T12:16:51.267Z"
   },
   {
    "duration": 16,
    "start_time": "2021-09-30T12:16:51.427Z"
   },
   {
    "duration": 38,
    "start_time": "2021-09-30T12:16:51.459Z"
   },
   {
    "duration": 23,
    "start_time": "2021-09-30T12:16:51.501Z"
   },
   {
    "duration": 144,
    "start_time": "2021-09-30T12:16:51.527Z"
   },
   {
    "duration": 11,
    "start_time": "2021-09-30T12:16:51.673Z"
   },
   {
    "duration": 26,
    "start_time": "2021-09-30T12:16:51.687Z"
   },
   {
    "duration": 89,
    "start_time": "2021-09-30T12:16:51.715Z"
   },
   {
    "duration": 12,
    "start_time": "2021-09-30T12:16:51.806Z"
   },
   {
    "duration": 13,
    "start_time": "2021-09-30T12:16:51.820Z"
   },
   {
    "duration": 36,
    "start_time": "2021-09-30T12:16:51.835Z"
   },
   {
    "duration": 29,
    "start_time": "2021-09-30T12:16:51.874Z"
   },
   {
    "duration": 10,
    "start_time": "2021-09-30T12:16:51.906Z"
   },
   {
    "duration": 16,
    "start_time": "2021-09-30T12:16:51.918Z"
   },
   {
    "duration": 41,
    "start_time": "2021-09-30T12:16:51.958Z"
   },
   {
    "duration": 5,
    "start_time": "2021-09-30T12:16:52.002Z"
   },
   {
    "duration": 56,
    "start_time": "2021-09-30T12:16:52.009Z"
   },
   {
    "duration": 6,
    "start_time": "2021-09-30T12:16:52.069Z"
   },
   {
    "duration": 39,
    "start_time": "2021-09-30T12:16:52.078Z"
   },
   {
    "duration": 8,
    "start_time": "2021-09-30T12:16:52.120Z"
   },
   {
    "duration": 19,
    "start_time": "2021-09-30T12:16:52.130Z"
   },
   {
    "duration": 1389,
    "start_time": "2021-09-30T12:16:52.152Z"
   },
   {
    "duration": 1032,
    "start_time": "2021-09-30T12:16:53.544Z"
   },
   {
    "duration": 851,
    "start_time": "2021-09-30T12:16:54.578Z"
   },
   {
    "duration": 85,
    "start_time": "2021-09-30T12:16:55.432Z"
   },
   {
    "duration": 14,
    "start_time": "2021-09-30T12:16:55.519Z"
   },
   {
    "duration": 74,
    "start_time": "2021-09-30T12:16:55.536Z"
   },
   {
    "duration": 411,
    "start_time": "2021-09-30T12:17:27.107Z"
   },
   {
    "duration": 1363,
    "start_time": "2021-09-30T12:17:38.052Z"
   },
   {
    "duration": 522,
    "start_time": "2021-09-30T12:17:39.418Z"
   },
   {
    "duration": 24,
    "start_time": "2021-09-30T12:17:39.944Z"
   },
   {
    "duration": 44,
    "start_time": "2021-09-30T12:17:39.971Z"
   },
   {
    "duration": 45,
    "start_time": "2021-09-30T12:17:40.017Z"
   },
   {
    "duration": 153,
    "start_time": "2021-09-30T12:17:40.065Z"
   },
   {
    "duration": 16,
    "start_time": "2021-09-30T12:17:40.221Z"
   },
   {
    "duration": 51,
    "start_time": "2021-09-30T12:17:40.241Z"
   },
   {
    "duration": 22,
    "start_time": "2021-09-30T12:17:40.295Z"
   },
   {
    "duration": 144,
    "start_time": "2021-09-30T12:17:40.320Z"
   },
   {
    "duration": 11,
    "start_time": "2021-09-30T12:17:40.467Z"
   },
   {
    "duration": 42,
    "start_time": "2021-09-30T12:17:40.481Z"
   },
   {
    "duration": 75,
    "start_time": "2021-09-30T12:17:40.526Z"
   },
   {
    "duration": 13,
    "start_time": "2021-09-30T12:17:40.604Z"
   },
   {
    "duration": 22,
    "start_time": "2021-09-30T12:17:40.620Z"
   },
   {
    "duration": 31,
    "start_time": "2021-09-30T12:17:40.644Z"
   },
   {
    "duration": 30,
    "start_time": "2021-09-30T12:17:40.677Z"
   },
   {
    "duration": 21,
    "start_time": "2021-09-30T12:17:40.709Z"
   },
   {
    "duration": 27,
    "start_time": "2021-09-30T12:17:40.732Z"
   },
   {
    "duration": 42,
    "start_time": "2021-09-30T12:17:40.761Z"
   },
   {
    "duration": 5,
    "start_time": "2021-09-30T12:17:40.806Z"
   },
   {
    "duration": 50,
    "start_time": "2021-09-30T12:17:40.813Z"
   },
   {
    "duration": 5,
    "start_time": "2021-09-30T12:17:40.868Z"
   },
   {
    "duration": 38,
    "start_time": "2021-09-30T12:17:40.875Z"
   },
   {
    "duration": 8,
    "start_time": "2021-09-30T12:17:40.915Z"
   },
   {
    "duration": 33,
    "start_time": "2021-09-30T12:17:40.925Z"
   },
   {
    "duration": 1361,
    "start_time": "2021-09-30T12:17:40.961Z"
   },
   {
    "duration": 1066,
    "start_time": "2021-09-30T12:17:42.325Z"
   },
   {
    "duration": 783,
    "start_time": "2021-09-30T12:17:43.394Z"
   },
   {
    "duration": 80,
    "start_time": "2021-09-30T12:17:44.180Z"
   },
   {
    "duration": 14,
    "start_time": "2021-09-30T12:17:44.262Z"
   },
   {
    "duration": 80,
    "start_time": "2021-09-30T12:17:44.279Z"
   },
   {
    "duration": 429,
    "start_time": "2021-09-30T12:19:38.971Z"
   },
   {
    "duration": 1420,
    "start_time": "2021-09-30T12:19:48.910Z"
   },
   {
    "duration": 720,
    "start_time": "2021-09-30T12:19:50.333Z"
   },
   {
    "duration": 22,
    "start_time": "2021-09-30T12:19:51.056Z"
   },
   {
    "duration": 39,
    "start_time": "2021-09-30T12:19:51.081Z"
   },
   {
    "duration": 56,
    "start_time": "2021-09-30T12:19:51.122Z"
   },
   {
    "duration": 162,
    "start_time": "2021-09-30T12:19:51.180Z"
   },
   {
    "duration": 23,
    "start_time": "2021-09-30T12:19:51.344Z"
   },
   {
    "duration": 53,
    "start_time": "2021-09-30T12:19:51.372Z"
   },
   {
    "duration": 36,
    "start_time": "2021-09-30T12:19:51.429Z"
   },
   {
    "duration": 121,
    "start_time": "2021-09-30T12:19:51.468Z"
   },
   {
    "duration": 10,
    "start_time": "2021-09-30T12:19:51.592Z"
   },
   {
    "duration": 32,
    "start_time": "2021-09-30T12:19:51.605Z"
   },
   {
    "duration": 78,
    "start_time": "2021-09-30T12:19:51.639Z"
   },
   {
    "duration": 12,
    "start_time": "2021-09-30T12:19:51.719Z"
   },
   {
    "duration": 29,
    "start_time": "2021-09-30T12:19:51.733Z"
   },
   {
    "duration": 25,
    "start_time": "2021-09-30T12:19:51.765Z"
   },
   {
    "duration": 27,
    "start_time": "2021-09-30T12:19:51.792Z"
   },
   {
    "duration": 43,
    "start_time": "2021-09-30T12:19:51.822Z"
   },
   {
    "duration": 23,
    "start_time": "2021-09-30T12:19:51.867Z"
   },
   {
    "duration": 49,
    "start_time": "2021-09-30T12:19:51.892Z"
   },
   {
    "duration": 6,
    "start_time": "2021-09-30T12:19:51.957Z"
   },
   {
    "duration": 39,
    "start_time": "2021-09-30T12:19:51.965Z"
   },
   {
    "duration": 11,
    "start_time": "2021-09-30T12:19:52.009Z"
   },
   {
    "duration": 48,
    "start_time": "2021-09-30T12:19:52.023Z"
   },
   {
    "duration": 13,
    "start_time": "2021-09-30T12:19:52.073Z"
   },
   {
    "duration": 16,
    "start_time": "2021-09-30T12:19:52.089Z"
   },
   {
    "duration": 1310,
    "start_time": "2021-09-30T12:19:52.108Z"
   },
   {
    "duration": 936,
    "start_time": "2021-09-30T12:19:53.421Z"
   },
   {
    "duration": 799,
    "start_time": "2021-09-30T12:19:54.360Z"
   },
   {
    "duration": 75,
    "start_time": "2021-09-30T12:19:55.161Z"
   },
   {
    "duration": 31,
    "start_time": "2021-09-30T12:19:55.239Z"
   },
   {
    "duration": 93,
    "start_time": "2021-09-30T12:19:55.273Z"
   },
   {
    "duration": 1516,
    "start_time": "2021-09-30T12:21:34.732Z"
   },
   {
    "duration": 528,
    "start_time": "2021-09-30T12:21:36.251Z"
   },
   {
    "duration": 22,
    "start_time": "2021-09-30T12:21:36.782Z"
   },
   {
    "duration": 39,
    "start_time": "2021-09-30T12:21:36.807Z"
   },
   {
    "duration": 34,
    "start_time": "2021-09-30T12:21:36.848Z"
   },
   {
    "duration": 170,
    "start_time": "2021-09-30T12:21:36.885Z"
   },
   {
    "duration": 17,
    "start_time": "2021-09-30T12:21:37.058Z"
   },
   {
    "duration": 36,
    "start_time": "2021-09-30T12:21:37.078Z"
   },
   {
    "duration": 54,
    "start_time": "2021-09-30T12:21:37.117Z"
   },
   {
    "duration": 118,
    "start_time": "2021-09-30T12:21:37.174Z"
   },
   {
    "duration": 10,
    "start_time": "2021-09-30T12:21:37.295Z"
   },
   {
    "duration": 29,
    "start_time": "2021-09-30T12:21:37.307Z"
   },
   {
    "duration": 71,
    "start_time": "2021-09-30T12:21:37.338Z"
   },
   {
    "duration": 11,
    "start_time": "2021-09-30T12:21:37.411Z"
   },
   {
    "duration": 33,
    "start_time": "2021-09-30T12:21:37.424Z"
   },
   {
    "duration": 21,
    "start_time": "2021-09-30T12:21:37.460Z"
   },
   {
    "duration": 30,
    "start_time": "2021-09-30T12:21:37.483Z"
   },
   {
    "duration": 43,
    "start_time": "2021-09-30T12:21:37.516Z"
   },
   {
    "duration": 23,
    "start_time": "2021-09-30T12:21:37.561Z"
   },
   {
    "duration": 53,
    "start_time": "2021-09-30T12:21:37.587Z"
   },
   {
    "duration": 19,
    "start_time": "2021-09-30T12:21:37.642Z"
   },
   {
    "duration": 41,
    "start_time": "2021-09-30T12:21:37.663Z"
   },
   {
    "duration": 6,
    "start_time": "2021-09-30T12:21:37.708Z"
   },
   {
    "duration": 48,
    "start_time": "2021-09-30T12:21:37.716Z"
   },
   {
    "duration": 8,
    "start_time": "2021-09-30T12:21:37.767Z"
   },
   {
    "duration": 15,
    "start_time": "2021-09-30T12:21:37.777Z"
   },
   {
    "duration": 1318,
    "start_time": "2021-09-30T12:21:37.795Z"
   },
   {
    "duration": 1005,
    "start_time": "2021-09-30T12:21:39.115Z"
   },
   {
    "duration": 783,
    "start_time": "2021-09-30T12:21:40.123Z"
   },
   {
    "duration": 90,
    "start_time": "2021-09-30T12:21:40.909Z"
   },
   {
    "duration": 16,
    "start_time": "2021-09-30T12:21:41.002Z"
   },
   {
    "duration": 83,
    "start_time": "2021-09-30T12:21:41.021Z"
   },
   {
    "duration": 580,
    "start_time": "2021-09-30T12:21:41.107Z"
   },
   {
    "duration": 44,
    "start_time": "2021-09-30T12:21:41.646Z"
   },
   {
    "duration": 375,
    "start_time": "2021-09-30T12:24:49.223Z"
   },
   {
    "duration": 126,
    "start_time": "2021-09-30T12:33:23.663Z"
   },
   {
    "duration": 115,
    "start_time": "2021-09-30T12:38:05.165Z"
   },
   {
    "duration": 24,
    "start_time": "2021-09-30T12:38:17.393Z"
   },
   {
    "duration": 4,
    "start_time": "2021-09-30T12:43:25.459Z"
   },
   {
    "duration": 21,
    "start_time": "2021-09-30T12:43:26.065Z"
   },
   {
    "duration": 156,
    "start_time": "2021-09-30T12:44:00.454Z"
   },
   {
    "duration": 1401,
    "start_time": "2021-09-30T12:46:40.414Z"
   },
   {
    "duration": 522,
    "start_time": "2021-09-30T12:46:41.818Z"
   },
   {
    "duration": 24,
    "start_time": "2021-09-30T12:46:42.343Z"
   },
   {
    "duration": 40,
    "start_time": "2021-09-30T12:46:42.370Z"
   },
   {
    "duration": 50,
    "start_time": "2021-09-30T12:46:42.412Z"
   },
   {
    "duration": 194,
    "start_time": "2021-09-30T12:46:42.465Z"
   },
   {
    "duration": 24,
    "start_time": "2021-09-30T12:46:42.662Z"
   },
   {
    "duration": 38,
    "start_time": "2021-09-30T12:46:42.690Z"
   },
   {
    "duration": 23,
    "start_time": "2021-09-30T12:46:42.759Z"
   },
   {
    "duration": 136,
    "start_time": "2021-09-30T12:46:42.785Z"
   },
   {
    "duration": 10,
    "start_time": "2021-09-30T12:46:42.923Z"
   },
   {
    "duration": 35,
    "start_time": "2021-09-30T12:46:42.935Z"
   },
   {
    "duration": 59,
    "start_time": "2021-09-30T12:46:42.973Z"
   },
   {
    "duration": 12,
    "start_time": "2021-09-30T12:46:43.059Z"
   },
   {
    "duration": 12,
    "start_time": "2021-09-30T12:46:43.073Z"
   },
   {
    "duration": 20,
    "start_time": "2021-09-30T12:46:43.087Z"
   },
   {
    "duration": 60,
    "start_time": "2021-09-30T12:46:43.109Z"
   },
   {
    "duration": 8,
    "start_time": "2021-09-30T12:46:43.172Z"
   },
   {
    "duration": 14,
    "start_time": "2021-09-30T12:46:43.183Z"
   },
   {
    "duration": 77,
    "start_time": "2021-09-30T12:46:43.200Z"
   },
   {
    "duration": 6,
    "start_time": "2021-09-30T12:46:43.280Z"
   },
   {
    "duration": 33,
    "start_time": "2021-09-30T12:46:43.289Z"
   },
   {
    "duration": 31,
    "start_time": "2021-09-30T12:46:43.329Z"
   },
   {
    "duration": 29,
    "start_time": "2021-09-30T12:46:43.363Z"
   },
   {
    "duration": 10,
    "start_time": "2021-09-30T12:46:43.394Z"
   },
   {
    "duration": 9,
    "start_time": "2021-09-30T12:46:43.406Z"
   },
   {
    "duration": 1331,
    "start_time": "2021-09-30T12:46:43.418Z"
   },
   {
    "duration": 975,
    "start_time": "2021-09-30T12:46:44.751Z"
   },
   {
    "duration": 791,
    "start_time": "2021-09-30T12:46:45.729Z"
   },
   {
    "duration": 144,
    "start_time": "2021-09-30T12:46:46.523Z"
   },
   {
    "duration": 5,
    "start_time": "2021-09-30T12:46:46.670Z"
   },
   {
    "duration": 35,
    "start_time": "2021-09-30T12:46:46.677Z"
   },
   {
    "duration": 508,
    "start_time": "2021-09-30T12:46:46.715Z"
   },
   {
    "duration": 39,
    "start_time": "2021-09-30T12:46:47.187Z"
   },
   {
    "duration": 37,
    "start_time": "2021-09-30T12:46:47.190Z"
   },
   {
    "duration": 33,
    "start_time": "2021-09-30T12:46:47.195Z"
   },
   {
    "duration": 32,
    "start_time": "2021-09-30T12:46:47.198Z"
   },
   {
    "duration": 30,
    "start_time": "2021-09-30T12:46:47.201Z"
   },
   {
    "duration": 44,
    "start_time": "2021-09-30T12:48:36.403Z"
   },
   {
    "duration": 18,
    "start_time": "2021-09-30T12:49:11.024Z"
   },
   {
    "duration": 1391,
    "start_time": "2021-09-30T12:49:47.344Z"
   },
   {
    "duration": 4,
    "start_time": "2021-09-30T12:49:58.192Z"
   },
   {
    "duration": 18,
    "start_time": "2021-09-30T12:50:03.201Z"
   },
   {
    "duration": 171,
    "start_time": "2021-09-30T12:51:45.241Z"
   },
   {
    "duration": 65,
    "start_time": "2021-09-30T12:52:45.103Z"
   },
   {
    "duration": 53,
    "start_time": "2021-09-30T12:53:36.837Z"
   },
   {
    "duration": 18,
    "start_time": "2021-09-30T12:53:54.957Z"
   },
   {
    "duration": 101,
    "start_time": "2021-09-30T12:56:45.039Z"
   },
   {
    "duration": 39,
    "start_time": "2021-09-30T12:56:55.775Z"
   },
   {
    "duration": 407,
    "start_time": "2021-09-30T12:57:38.518Z"
   },
   {
    "duration": 1350,
    "start_time": "2021-09-30T12:57:47.867Z"
   },
   {
    "duration": 522,
    "start_time": "2021-09-30T12:57:49.220Z"
   },
   {
    "duration": 23,
    "start_time": "2021-09-30T12:57:49.745Z"
   },
   {
    "duration": 38,
    "start_time": "2021-09-30T12:57:49.771Z"
   },
   {
    "duration": 51,
    "start_time": "2021-09-30T12:57:49.811Z"
   },
   {
    "duration": 159,
    "start_time": "2021-09-30T12:57:49.865Z"
   },
   {
    "duration": 32,
    "start_time": "2021-09-30T12:57:50.027Z"
   },
   {
    "duration": 39,
    "start_time": "2021-09-30T12:57:50.063Z"
   },
   {
    "duration": 22,
    "start_time": "2021-09-30T12:57:50.105Z"
   },
   {
    "duration": 134,
    "start_time": "2021-09-30T12:57:50.130Z"
   },
   {
    "duration": 11,
    "start_time": "2021-09-30T12:57:50.266Z"
   },
   {
    "duration": 36,
    "start_time": "2021-09-30T12:57:50.280Z"
   },
   {
    "duration": 99,
    "start_time": "2021-09-30T12:57:50.319Z"
   },
   {
    "duration": 12,
    "start_time": "2021-09-30T12:57:50.420Z"
   },
   {
    "duration": 9,
    "start_time": "2021-09-30T12:57:50.459Z"
   },
   {
    "duration": 23,
    "start_time": "2021-09-30T12:57:50.471Z"
   },
   {
    "duration": 62,
    "start_time": "2021-09-30T12:57:50.497Z"
   },
   {
    "duration": 9,
    "start_time": "2021-09-30T12:57:50.562Z"
   },
   {
    "duration": 11,
    "start_time": "2021-09-30T12:57:50.573Z"
   },
   {
    "duration": 85,
    "start_time": "2021-09-30T12:57:50.586Z"
   },
   {
    "duration": 5,
    "start_time": "2021-09-30T12:57:50.674Z"
   },
   {
    "duration": 36,
    "start_time": "2021-09-30T12:57:50.682Z"
   },
   {
    "duration": 6,
    "start_time": "2021-09-30T12:57:50.723Z"
   },
   {
    "duration": 25,
    "start_time": "2021-09-30T12:57:50.758Z"
   },
   {
    "duration": 9,
    "start_time": "2021-09-30T12:57:50.785Z"
   },
   {
    "duration": 12,
    "start_time": "2021-09-30T12:57:50.796Z"
   },
   {
    "duration": 1347,
    "start_time": "2021-09-30T12:57:50.811Z"
   },
   {
    "duration": 959,
    "start_time": "2021-09-30T12:57:52.161Z"
   },
   {
    "duration": 821,
    "start_time": "2021-09-30T12:57:53.122Z"
   },
   {
    "duration": 133,
    "start_time": "2021-09-30T12:57:53.946Z"
   },
   {
    "duration": 4,
    "start_time": "2021-09-30T12:57:54.081Z"
   },
   {
    "duration": 24,
    "start_time": "2021-09-30T12:57:54.087Z"
   },
   {
    "duration": 84,
    "start_time": "2021-09-30T12:57:54.113Z"
   },
   {
    "duration": 5,
    "start_time": "2021-09-30T12:57:54.200Z"
   },
   {
    "duration": 20,
    "start_time": "2021-09-30T12:57:54.207Z"
   },
   {
    "duration": 104,
    "start_time": "2021-09-30T12:57:54.230Z"
   },
   {
    "duration": 32,
    "start_time": "2021-09-30T12:57:54.340Z"
   },
   {
    "duration": 32,
    "start_time": "2021-09-30T12:57:54.375Z"
   },
   {
    "duration": 138,
    "start_time": "2021-09-30T12:57:54.411Z"
   },
   {
    "duration": 583,
    "start_time": "2021-09-30T12:57:54.553Z"
   },
   {
    "duration": 64,
    "start_time": "2021-09-30T12:57:55.075Z"
   },
   {
    "duration": 61,
    "start_time": "2021-09-30T12:57:55.079Z"
   },
   {
    "duration": 383,
    "start_time": "2021-09-30T12:59:08.791Z"
   },
   {
    "duration": 68,
    "start_time": "2021-09-30T13:00:14.173Z"
   },
   {
    "duration": 30,
    "start_time": "2021-09-30T13:00:15.157Z"
   },
   {
    "duration": 1371,
    "start_time": "2021-09-30T13:01:13.363Z"
   },
   {
    "duration": 531,
    "start_time": "2021-09-30T13:01:14.737Z"
   },
   {
    "duration": 25,
    "start_time": "2021-09-30T13:01:15.271Z"
   },
   {
    "duration": 59,
    "start_time": "2021-09-30T13:01:15.299Z"
   },
   {
    "duration": 28,
    "start_time": "2021-09-30T13:01:15.360Z"
   },
   {
    "duration": 178,
    "start_time": "2021-09-30T13:01:15.390Z"
   },
   {
    "duration": 16,
    "start_time": "2021-09-30T13:01:15.571Z"
   },
   {
    "duration": 47,
    "start_time": "2021-09-30T13:01:15.590Z"
   },
   {
    "duration": 22,
    "start_time": "2021-09-30T13:01:15.657Z"
   },
   {
    "duration": 125,
    "start_time": "2021-09-30T13:01:15.682Z"
   },
   {
    "duration": 10,
    "start_time": "2021-09-30T13:01:15.809Z"
   },
   {
    "duration": 43,
    "start_time": "2021-09-30T13:01:15.821Z"
   },
   {
    "duration": 62,
    "start_time": "2021-09-30T13:01:15.866Z"
   },
   {
    "duration": 33,
    "start_time": "2021-09-30T13:01:15.930Z"
   },
   {
    "duration": 15,
    "start_time": "2021-09-30T13:01:15.966Z"
   },
   {
    "duration": 21,
    "start_time": "2021-09-30T13:01:15.984Z"
   },
   {
    "duration": 65,
    "start_time": "2021-09-30T13:01:16.008Z"
   },
   {
    "duration": 16,
    "start_time": "2021-09-30T13:01:16.076Z"
   },
   {
    "duration": 17,
    "start_time": "2021-09-30T13:01:16.095Z"
   },
   {
    "duration": 74,
    "start_time": "2021-09-30T13:01:16.116Z"
   },
   {
    "duration": 6,
    "start_time": "2021-09-30T13:01:16.192Z"
   },
   {
    "duration": 37,
    "start_time": "2021-09-30T13:01:16.200Z"
   },
   {
    "duration": 22,
    "start_time": "2021-09-30T13:01:16.240Z"
   },
   {
    "duration": 31,
    "start_time": "2021-09-30T13:01:16.264Z"
   },
   {
    "duration": 9,
    "start_time": "2021-09-30T13:01:16.297Z"
   },
   {
    "duration": 8,
    "start_time": "2021-09-30T13:01:16.308Z"
   },
   {
    "duration": 1344,
    "start_time": "2021-09-30T13:01:16.321Z"
   },
   {
    "duration": 975,
    "start_time": "2021-09-30T13:01:17.668Z"
   },
   {
    "duration": 906,
    "start_time": "2021-09-30T13:01:18.646Z"
   },
   {
    "duration": 148,
    "start_time": "2021-09-30T13:01:19.558Z"
   },
   {
    "duration": 5,
    "start_time": "2021-09-30T13:01:19.708Z"
   },
   {
    "duration": 43,
    "start_time": "2021-09-30T13:01:19.716Z"
   },
   {
    "duration": 62,
    "start_time": "2021-09-30T13:01:19.761Z"
   },
   {
    "duration": 3,
    "start_time": "2021-09-30T13:01:19.826Z"
   },
   {
    "duration": 48,
    "start_time": "2021-09-30T13:01:19.831Z"
   },
   {
    "duration": 63,
    "start_time": "2021-09-30T13:01:19.881Z"
   },
   {
    "duration": 17,
    "start_time": "2021-09-30T13:01:19.946Z"
   },
   {
    "duration": 35,
    "start_time": "2021-09-30T13:01:19.966Z"
   },
   {
    "duration": 68,
    "start_time": "2021-09-30T13:01:20.003Z"
   },
   {
    "duration": 511,
    "start_time": "2021-09-30T13:01:20.073Z"
   },
   {
    "duration": 66,
    "start_time": "2021-09-30T13:01:20.521Z"
   },
   {
    "duration": 62,
    "start_time": "2021-09-30T13:01:20.526Z"
   },
   {
    "duration": 151,
    "start_time": "2021-09-30T13:01:23.906Z"
   },
   {
    "duration": 32,
    "start_time": "2021-09-30T13:01:24.653Z"
   },
   {
    "duration": 103,
    "start_time": "2021-09-30T13:01:53.208Z"
   },
   {
    "duration": 31,
    "start_time": "2021-09-30T13:01:54.363Z"
   },
   {
    "duration": 1563,
    "start_time": "2021-09-30T13:02:03.614Z"
   },
   {
    "duration": 592,
    "start_time": "2021-09-30T13:02:05.180Z"
   },
   {
    "duration": 22,
    "start_time": "2021-09-30T13:02:05.775Z"
   },
   {
    "duration": 59,
    "start_time": "2021-09-30T13:02:05.801Z"
   },
   {
    "duration": 27,
    "start_time": "2021-09-30T13:02:05.863Z"
   },
   {
    "duration": 166,
    "start_time": "2021-09-30T13:02:05.893Z"
   },
   {
    "duration": 19,
    "start_time": "2021-09-30T13:02:06.061Z"
   },
   {
    "duration": 37,
    "start_time": "2021-09-30T13:02:06.083Z"
   },
   {
    "duration": 23,
    "start_time": "2021-09-30T13:02:06.159Z"
   },
   {
    "duration": 133,
    "start_time": "2021-09-30T13:02:06.185Z"
   },
   {
    "duration": 13,
    "start_time": "2021-09-30T13:02:06.321Z"
   },
   {
    "duration": 29,
    "start_time": "2021-09-30T13:02:06.358Z"
   },
   {
    "duration": 87,
    "start_time": "2021-09-30T13:02:06.389Z"
   },
   {
    "duration": 16,
    "start_time": "2021-09-30T13:02:06.479Z"
   },
   {
    "duration": 19,
    "start_time": "2021-09-30T13:02:06.498Z"
   },
   {
    "duration": 52,
    "start_time": "2021-09-30T13:02:06.521Z"
   },
   {
    "duration": 24,
    "start_time": "2021-09-30T13:02:06.577Z"
   },
   {
    "duration": 55,
    "start_time": "2021-09-30T13:02:06.604Z"
   },
   {
    "duration": 13,
    "start_time": "2021-09-30T13:02:06.662Z"
   },
   {
    "duration": 40,
    "start_time": "2021-09-30T13:02:06.678Z"
   },
   {
    "duration": 39,
    "start_time": "2021-09-30T13:02:06.720Z"
   },
   {
    "duration": 44,
    "start_time": "2021-09-30T13:02:06.762Z"
   },
   {
    "duration": 7,
    "start_time": "2021-09-30T13:02:06.809Z"
   },
   {
    "duration": 60,
    "start_time": "2021-09-30T13:02:06.818Z"
   },
   {
    "duration": 8,
    "start_time": "2021-09-30T13:02:06.880Z"
   },
   {
    "duration": 11,
    "start_time": "2021-09-30T13:02:06.891Z"
   },
   {
    "duration": 1465,
    "start_time": "2021-09-30T13:02:06.909Z"
   },
   {
    "duration": 1033,
    "start_time": "2021-09-30T13:02:08.376Z"
   },
   {
    "duration": 863,
    "start_time": "2021-09-30T13:02:09.412Z"
   },
   {
    "duration": 155,
    "start_time": "2021-09-30T13:02:10.277Z"
   },
   {
    "duration": 4,
    "start_time": "2021-09-30T13:02:10.434Z"
   },
   {
    "duration": 35,
    "start_time": "2021-09-30T13:02:10.440Z"
   },
   {
    "duration": 93,
    "start_time": "2021-09-30T13:02:10.477Z"
   },
   {
    "duration": 4,
    "start_time": "2021-09-30T13:02:10.573Z"
   },
   {
    "duration": 28,
    "start_time": "2021-09-30T13:02:10.579Z"
   },
   {
    "duration": 74,
    "start_time": "2021-09-30T13:02:10.609Z"
   },
   {
    "duration": 18,
    "start_time": "2021-09-30T13:02:10.685Z"
   },
   {
    "duration": 34,
    "start_time": "2021-09-30T13:02:10.705Z"
   },
   {
    "duration": 65,
    "start_time": "2021-09-30T13:02:10.741Z"
   },
   {
    "duration": 546,
    "start_time": "2021-09-30T13:02:10.809Z"
   },
   {
    "duration": 50,
    "start_time": "2021-09-30T13:02:11.309Z"
   },
   {
    "duration": 47,
    "start_time": "2021-09-30T13:02:11.314Z"
   },
   {
    "duration": 106,
    "start_time": "2021-09-30T13:02:14.661Z"
   },
   {
    "duration": 31,
    "start_time": "2021-09-30T13:02:15.120Z"
   },
   {
    "duration": 70,
    "start_time": "2021-09-30T13:03:23.561Z"
   },
   {
    "duration": 28,
    "start_time": "2021-09-30T13:03:24.414Z"
   },
   {
    "duration": 116,
    "start_time": "2021-09-30T13:13:04.666Z"
   },
   {
    "duration": 1312,
    "start_time": "2021-09-30T13:13:15.804Z"
   },
   {
    "duration": 527,
    "start_time": "2021-09-30T13:13:17.119Z"
   },
   {
    "duration": 23,
    "start_time": "2021-09-30T13:13:17.649Z"
   },
   {
    "duration": 39,
    "start_time": "2021-09-30T13:13:17.675Z"
   },
   {
    "duration": 44,
    "start_time": "2021-09-30T13:13:17.717Z"
   },
   {
    "duration": 158,
    "start_time": "2021-09-30T13:13:17.763Z"
   },
   {
    "duration": 17,
    "start_time": "2021-09-30T13:13:17.923Z"
   },
   {
    "duration": 48,
    "start_time": "2021-09-30T13:13:17.942Z"
   },
   {
    "duration": 22,
    "start_time": "2021-09-30T13:13:17.994Z"
   },
   {
    "duration": 141,
    "start_time": "2021-09-30T13:13:18.019Z"
   },
   {
    "duration": 11,
    "start_time": "2021-09-30T13:13:18.162Z"
   },
   {
    "duration": 20,
    "start_time": "2021-09-30T13:13:18.175Z"
   },
   {
    "duration": 93,
    "start_time": "2021-09-30T13:13:18.197Z"
   },
   {
    "duration": 11,
    "start_time": "2021-09-30T13:13:18.292Z"
   },
   {
    "duration": 20,
    "start_time": "2021-09-30T13:13:18.305Z"
   },
   {
    "duration": 36,
    "start_time": "2021-09-30T13:13:18.327Z"
   },
   {
    "duration": 32,
    "start_time": "2021-09-30T13:13:18.365Z"
   },
   {
    "duration": 21,
    "start_time": "2021-09-30T13:13:18.400Z"
   },
   {
    "duration": 17,
    "start_time": "2021-09-30T13:13:18.424Z"
   },
   {
    "duration": 51,
    "start_time": "2021-09-30T13:13:18.443Z"
   },
   {
    "duration": 6,
    "start_time": "2021-09-30T13:13:18.497Z"
   },
   {
    "duration": 42,
    "start_time": "2021-09-30T13:13:18.505Z"
   },
   {
    "duration": 10,
    "start_time": "2021-09-30T13:13:18.549Z"
   },
   {
    "duration": 36,
    "start_time": "2021-09-30T13:13:18.562Z"
   },
   {
    "duration": 9,
    "start_time": "2021-09-30T13:13:18.600Z"
   },
   {
    "duration": 16,
    "start_time": "2021-09-30T13:13:18.612Z"
   },
   {
    "duration": 1320,
    "start_time": "2021-09-30T13:13:18.633Z"
   },
   {
    "duration": 964,
    "start_time": "2021-09-30T13:13:19.958Z"
   },
   {
    "duration": 807,
    "start_time": "2021-09-30T13:13:20.924Z"
   },
   {
    "duration": 140,
    "start_time": "2021-09-30T13:13:21.734Z"
   },
   {
    "duration": 3,
    "start_time": "2021-09-30T13:13:21.876Z"
   },
   {
    "duration": 31,
    "start_time": "2021-09-30T13:13:21.881Z"
   },
   {
    "duration": 64,
    "start_time": "2021-09-30T13:13:21.915Z"
   },
   {
    "duration": 4,
    "start_time": "2021-09-30T13:13:21.981Z"
   },
   {
    "duration": 26,
    "start_time": "2021-09-30T13:13:21.987Z"
   },
   {
    "duration": 73,
    "start_time": "2021-09-30T13:13:22.016Z"
   },
   {
    "duration": 18,
    "start_time": "2021-09-30T13:13:22.091Z"
   },
   {
    "duration": 32,
    "start_time": "2021-09-30T13:13:22.111Z"
   },
   {
    "duration": 59,
    "start_time": "2021-09-30T13:13:22.145Z"
   },
   {
    "duration": 527,
    "start_time": "2021-09-30T13:13:22.206Z"
   },
   {
    "duration": -30,
    "start_time": "2021-09-30T13:13:22.765Z"
   },
   {
    "duration": -41,
    "start_time": "2021-09-30T13:13:22.778Z"
   },
   {
    "duration": 370,
    "start_time": "2021-09-30T13:21:31.882Z"
   },
   {
    "duration": 354,
    "start_time": "2021-09-30T13:22:07.266Z"
   },
   {
    "duration": 34,
    "start_time": "2021-09-30T13:22:13.946Z"
   },
   {
    "duration": 23,
    "start_time": "2021-09-30T13:22:20.771Z"
   },
   {
    "duration": 43,
    "start_time": "2021-09-30T13:22:33.017Z"
   },
   {
    "duration": 30,
    "start_time": "2021-09-30T13:22:33.810Z"
   },
   {
    "duration": 44,
    "start_time": "2021-09-30T13:22:53.153Z"
   },
   {
    "duration": 29,
    "start_time": "2021-09-30T13:22:53.668Z"
   },
   {
    "duration": 26,
    "start_time": "2021-09-30T13:28:56.097Z"
   },
   {
    "duration": 23,
    "start_time": "2021-09-30T13:28:56.882Z"
   },
   {
    "duration": 538,
    "start_time": "2021-09-30T13:34:18.347Z"
   },
   {
    "duration": 14,
    "start_time": "2021-09-30T13:34:47.540Z"
   },
   {
    "duration": 35,
    "start_time": "2021-09-30T13:34:56.740Z"
   },
   {
    "duration": 135,
    "start_time": "2021-09-30T13:37:36.832Z"
   },
   {
    "duration": 31,
    "start_time": "2021-09-30T13:37:37.164Z"
   },
   {
    "duration": 1341,
    "start_time": "2021-09-30T13:37:45.979Z"
   },
   {
    "duration": 524,
    "start_time": "2021-09-30T13:37:47.323Z"
   },
   {
    "duration": 24,
    "start_time": "2021-09-30T13:37:47.850Z"
   },
   {
    "duration": 43,
    "start_time": "2021-09-30T13:37:47.877Z"
   },
   {
    "duration": 54,
    "start_time": "2021-09-30T13:37:47.923Z"
   },
   {
    "duration": 156,
    "start_time": "2021-09-30T13:37:47.979Z"
   },
   {
    "duration": 24,
    "start_time": "2021-09-30T13:37:48.138Z"
   },
   {
    "duration": 42,
    "start_time": "2021-09-30T13:37:48.165Z"
   },
   {
    "duration": 51,
    "start_time": "2021-09-30T13:37:48.210Z"
   },
   {
    "duration": 126,
    "start_time": "2021-09-30T13:37:48.264Z"
   },
   {
    "duration": 10,
    "start_time": "2021-09-30T13:37:48.393Z"
   },
   {
    "duration": 23,
    "start_time": "2021-09-30T13:37:48.405Z"
   },
   {
    "duration": 81,
    "start_time": "2021-09-30T13:37:48.430Z"
   },
   {
    "duration": 11,
    "start_time": "2021-09-30T13:37:48.514Z"
   },
   {
    "duration": 40,
    "start_time": "2021-09-30T13:37:48.527Z"
   },
   {
    "duration": 21,
    "start_time": "2021-09-30T13:37:48.569Z"
   },
   {
    "duration": 20,
    "start_time": "2021-09-30T13:37:48.592Z"
   },
   {
    "duration": 43,
    "start_time": "2021-09-30T13:37:48.615Z"
   },
   {
    "duration": 12,
    "start_time": "2021-09-30T13:37:48.660Z"
   },
   {
    "duration": 41,
    "start_time": "2021-09-30T13:37:48.674Z"
   },
   {
    "duration": 5,
    "start_time": "2021-09-30T13:37:48.717Z"
   },
   {
    "duration": 61,
    "start_time": "2021-09-30T13:37:48.725Z"
   },
   {
    "duration": 5,
    "start_time": "2021-09-30T13:37:48.788Z"
   },
   {
    "duration": 24,
    "start_time": "2021-09-30T13:37:48.795Z"
   },
   {
    "duration": 37,
    "start_time": "2021-09-30T13:37:48.822Z"
   },
   {
    "duration": 7,
    "start_time": "2021-09-30T13:37:48.861Z"
   },
   {
    "duration": 1354,
    "start_time": "2021-09-30T13:37:48.873Z"
   },
   {
    "duration": 1022,
    "start_time": "2021-09-30T13:37:50.230Z"
   },
   {
    "duration": 819,
    "start_time": "2021-09-30T13:37:51.257Z"
   },
   {
    "duration": 145,
    "start_time": "2021-09-30T13:37:52.079Z"
   },
   {
    "duration": 3,
    "start_time": "2021-09-30T13:37:52.227Z"
   },
   {
    "duration": 39,
    "start_time": "2021-09-30T13:37:52.232Z"
   },
   {
    "duration": 57,
    "start_time": "2021-09-30T13:37:52.274Z"
   },
   {
    "duration": 24,
    "start_time": "2021-09-30T13:37:52.333Z"
   },
   {
    "duration": 17,
    "start_time": "2021-09-30T13:37:52.360Z"
   },
   {
    "duration": 83,
    "start_time": "2021-09-30T13:37:52.380Z"
   },
   {
    "duration": 17,
    "start_time": "2021-09-30T13:37:52.465Z"
   },
   {
    "duration": 32,
    "start_time": "2021-09-30T13:37:52.484Z"
   },
   {
    "duration": 49,
    "start_time": "2021-09-30T13:37:52.519Z"
   },
   {
    "duration": 122,
    "start_time": "2021-09-30T13:37:52.571Z"
   },
   {
    "duration": 86,
    "start_time": "2021-09-30T13:37:52.609Z"
   },
   {
    "duration": 83,
    "start_time": "2021-09-30T13:37:52.614Z"
   },
   {
    "duration": 80,
    "start_time": "2021-09-30T13:37:52.618Z"
   },
   {
    "duration": 76,
    "start_time": "2021-09-30T13:37:52.624Z"
   },
   {
    "duration": 62,
    "start_time": "2021-09-30T13:37:52.640Z"
   },
   {
    "duration": 56,
    "start_time": "2021-09-30T13:37:52.647Z"
   },
   {
    "duration": 128,
    "start_time": "2021-09-30T13:38:43.183Z"
   },
   {
    "duration": 14,
    "start_time": "2021-09-30T13:38:53.337Z"
   },
   {
    "duration": 31,
    "start_time": "2021-09-30T13:38:54.582Z"
   },
   {
    "duration": 13,
    "start_time": "2021-09-30T13:53:09.175Z"
   },
   {
    "duration": 33,
    "start_time": "2021-09-30T13:53:09.881Z"
   },
   {
    "duration": 500,
    "start_time": "2021-09-30T13:53:47.868Z"
   },
   {
    "duration": 345,
    "start_time": "2021-09-30T13:54:08.962Z"
   },
   {
    "duration": 414,
    "start_time": "2021-09-30T14:05:06.141Z"
   },
   {
    "duration": 371,
    "start_time": "2021-09-30T14:05:44.589Z"
   },
   {
    "duration": 381,
    "start_time": "2021-09-30T14:06:00.861Z"
   },
   {
    "duration": 10,
    "start_time": "2021-09-30T14:06:31.859Z"
   },
   {
    "duration": 24,
    "start_time": "2021-09-30T14:06:38.387Z"
   },
   {
    "duration": 74,
    "start_time": "2021-09-30T14:09:58.293Z"
   },
   {
    "duration": 16,
    "start_time": "2021-09-30T14:10:05.627Z"
   },
   {
    "duration": 17,
    "start_time": "2021-09-30T14:10:09.763Z"
   },
   {
    "duration": 18,
    "start_time": "2021-09-30T14:10:13.065Z"
   },
   {
    "duration": 23,
    "start_time": "2021-09-30T14:10:20.309Z"
   },
   {
    "duration": 115,
    "start_time": "2021-09-30T14:10:53.148Z"
   },
   {
    "duration": 378,
    "start_time": "2021-09-30T14:10:58.240Z"
   },
   {
    "duration": 18,
    "start_time": "2021-09-30T14:11:07.308Z"
   },
   {
    "duration": 17,
    "start_time": "2021-09-30T14:11:18.262Z"
   },
   {
    "duration": 17,
    "start_time": "2021-09-30T14:11:34.222Z"
   },
   {
    "duration": 364,
    "start_time": "2021-09-30T14:11:57.023Z"
   },
   {
    "duration": 356,
    "start_time": "2021-09-30T14:12:47.093Z"
   },
   {
    "duration": 1371,
    "start_time": "2021-09-30T14:12:57.516Z"
   },
   {
    "duration": 548,
    "start_time": "2021-09-30T14:12:58.890Z"
   },
   {
    "duration": 24,
    "start_time": "2021-09-30T14:12:59.442Z"
   },
   {
    "duration": 39,
    "start_time": "2021-09-30T14:12:59.469Z"
   },
   {
    "duration": 52,
    "start_time": "2021-09-30T14:12:59.511Z"
   },
   {
    "duration": 164,
    "start_time": "2021-09-30T14:12:59.565Z"
   },
   {
    "duration": 32,
    "start_time": "2021-09-30T14:12:59.732Z"
   },
   {
    "duration": 43,
    "start_time": "2021-09-30T14:12:59.769Z"
   },
   {
    "duration": 49,
    "start_time": "2021-09-30T14:12:59.816Z"
   },
   {
    "duration": 122,
    "start_time": "2021-09-30T14:12:59.868Z"
   },
   {
    "duration": 11,
    "start_time": "2021-09-30T14:12:59.992Z"
   },
   {
    "duration": 54,
    "start_time": "2021-09-30T14:13:00.005Z"
   },
   {
    "duration": 95,
    "start_time": "2021-09-30T14:13:00.061Z"
   },
   {
    "duration": 16,
    "start_time": "2021-09-30T14:13:00.160Z"
   },
   {
    "duration": 29,
    "start_time": "2021-09-30T14:13:00.179Z"
   },
   {
    "duration": 53,
    "start_time": "2021-09-30T14:13:00.211Z"
   },
   {
    "duration": 40,
    "start_time": "2021-09-30T14:13:00.267Z"
   },
   {
    "duration": 41,
    "start_time": "2021-09-30T14:13:00.310Z"
   },
   {
    "duration": 40,
    "start_time": "2021-09-30T14:13:00.354Z"
   },
   {
    "duration": 65,
    "start_time": "2021-09-30T14:13:00.397Z"
   },
   {
    "duration": 6,
    "start_time": "2021-09-30T14:13:00.465Z"
   },
   {
    "duration": 69,
    "start_time": "2021-09-30T14:13:00.473Z"
   },
   {
    "duration": 7,
    "start_time": "2021-09-30T14:13:00.550Z"
   },
   {
    "duration": 50,
    "start_time": "2021-09-30T14:13:00.561Z"
   },
   {
    "duration": 12,
    "start_time": "2021-09-30T14:13:00.614Z"
   },
   {
    "duration": 24,
    "start_time": "2021-09-30T14:13:00.629Z"
   },
   {
    "duration": 1511,
    "start_time": "2021-09-30T14:13:00.656Z"
   },
   {
    "duration": 1025,
    "start_time": "2021-09-30T14:13:02.170Z"
   },
   {
    "duration": 911,
    "start_time": "2021-09-30T14:13:03.197Z"
   },
   {
    "duration": 174,
    "start_time": "2021-09-30T14:13:04.110Z"
   },
   {
    "duration": 4,
    "start_time": "2021-09-30T14:13:04.286Z"
   },
   {
    "duration": 26,
    "start_time": "2021-09-30T14:13:04.292Z"
   },
   {
    "duration": 73,
    "start_time": "2021-09-30T14:13:04.321Z"
   },
   {
    "duration": 4,
    "start_time": "2021-09-30T14:13:04.396Z"
   },
   {
    "duration": 23,
    "start_time": "2021-09-30T14:13:04.402Z"
   },
   {
    "duration": 72,
    "start_time": "2021-09-30T14:13:04.428Z"
   },
   {
    "duration": 18,
    "start_time": "2021-09-30T14:13:04.502Z"
   },
   {
    "duration": 66,
    "start_time": "2021-09-30T14:13:04.522Z"
   },
   {
    "duration": 13,
    "start_time": "2021-09-30T14:13:04.591Z"
   },
   {
    "duration": 52,
    "start_time": "2021-09-30T14:13:04.607Z"
   },
   {
    "duration": 30,
    "start_time": "2021-09-30T14:13:04.662Z"
   },
   {
    "duration": 503,
    "start_time": "2021-09-30T14:13:04.694Z"
   },
   {
    "duration": 114,
    "start_time": "2021-09-30T14:13:05.085Z"
   },
   {
    "duration": 110,
    "start_time": "2021-09-30T14:13:05.091Z"
   },
   {
    "duration": 108,
    "start_time": "2021-09-30T14:13:05.095Z"
   },
   {
    "duration": 106,
    "start_time": "2021-09-30T14:13:05.098Z"
   },
   {
    "duration": 104,
    "start_time": "2021-09-30T14:13:05.102Z"
   },
   {
    "duration": 101,
    "start_time": "2021-09-30T14:13:05.106Z"
   },
   {
    "duration": 379,
    "start_time": "2021-09-30T14:13:13.191Z"
   },
   {
    "duration": 1381,
    "start_time": "2021-09-30T14:13:21.041Z"
   },
   {
    "duration": 535,
    "start_time": "2021-09-30T14:13:22.434Z"
   },
   {
    "duration": 25,
    "start_time": "2021-09-30T14:13:22.971Z"
   },
   {
    "duration": 41,
    "start_time": "2021-09-30T14:13:22.998Z"
   },
   {
    "duration": 41,
    "start_time": "2021-09-30T14:13:23.041Z"
   },
   {
    "duration": 156,
    "start_time": "2021-09-30T14:13:23.085Z"
   },
   {
    "duration": 21,
    "start_time": "2021-09-30T14:13:23.245Z"
   },
   {
    "duration": 58,
    "start_time": "2021-09-30T14:13:23.269Z"
   },
   {
    "duration": 30,
    "start_time": "2021-09-30T14:13:23.329Z"
   },
   {
    "duration": 109,
    "start_time": "2021-09-30T14:13:23.361Z"
   },
   {
    "duration": 11,
    "start_time": "2021-09-30T14:13:23.472Z"
   },
   {
    "duration": 36,
    "start_time": "2021-09-30T14:13:23.485Z"
   },
   {
    "duration": 69,
    "start_time": "2021-09-30T14:13:23.523Z"
   },
   {
    "duration": 11,
    "start_time": "2021-09-30T14:13:23.595Z"
   },
   {
    "duration": 28,
    "start_time": "2021-09-30T14:13:23.608Z"
   },
   {
    "duration": 41,
    "start_time": "2021-09-30T14:13:23.638Z"
   },
   {
    "duration": 41,
    "start_time": "2021-09-30T14:13:23.681Z"
   },
   {
    "duration": 31,
    "start_time": "2021-09-30T14:13:23.724Z"
   },
   {
    "duration": 14,
    "start_time": "2021-09-30T14:13:23.757Z"
   },
   {
    "duration": 50,
    "start_time": "2021-09-30T14:13:23.774Z"
   },
   {
    "duration": 5,
    "start_time": "2021-09-30T14:13:23.826Z"
   },
   {
    "duration": 54,
    "start_time": "2021-09-30T14:13:23.837Z"
   },
   {
    "duration": 6,
    "start_time": "2021-09-30T14:13:23.894Z"
   },
   {
    "duration": 24,
    "start_time": "2021-09-30T14:13:23.902Z"
   },
   {
    "duration": 8,
    "start_time": "2021-09-30T14:13:23.929Z"
   },
   {
    "duration": 19,
    "start_time": "2021-09-30T14:13:23.939Z"
   },
   {
    "duration": 1305,
    "start_time": "2021-09-30T14:13:23.960Z"
   },
   {
    "duration": 976,
    "start_time": "2021-09-30T14:13:25.268Z"
   },
   {
    "duration": 776,
    "start_time": "2021-09-30T14:13:26.247Z"
   },
   {
    "duration": 139,
    "start_time": "2021-09-30T14:13:27.026Z"
   },
   {
    "duration": 4,
    "start_time": "2021-09-30T14:13:27.168Z"
   },
   {
    "duration": 34,
    "start_time": "2021-09-30T14:13:27.175Z"
   },
   {
    "duration": 67,
    "start_time": "2021-09-30T14:13:27.211Z"
   },
   {
    "duration": 4,
    "start_time": "2021-09-30T14:13:27.280Z"
   },
   {
    "duration": 22,
    "start_time": "2021-09-30T14:13:27.286Z"
   },
   {
    "duration": 75,
    "start_time": "2021-09-30T14:13:27.310Z"
   },
   {
    "duration": 16,
    "start_time": "2021-09-30T14:13:27.388Z"
   },
   {
    "duration": 55,
    "start_time": "2021-09-30T14:13:27.407Z"
   },
   {
    "duration": 11,
    "start_time": "2021-09-30T14:13:27.464Z"
   },
   {
    "duration": 73,
    "start_time": "2021-09-30T14:13:27.477Z"
   },
   {
    "duration": 36,
    "start_time": "2021-09-30T14:13:27.553Z"
   },
   {
    "duration": 476,
    "start_time": "2021-09-30T14:13:27.592Z"
   },
   {
    "duration": 117,
    "start_time": "2021-09-30T14:13:27.954Z"
   },
   {
    "duration": 114,
    "start_time": "2021-09-30T14:13:27.958Z"
   },
   {
    "duration": 109,
    "start_time": "2021-09-30T14:13:27.965Z"
   },
   {
    "duration": 107,
    "start_time": "2021-09-30T14:13:27.968Z"
   },
   {
    "duration": 105,
    "start_time": "2021-09-30T14:13:27.971Z"
   },
   {
    "duration": 103,
    "start_time": "2021-09-30T14:13:27.975Z"
   },
   {
    "duration": 1340,
    "start_time": "2021-09-30T14:15:25.710Z"
   },
   {
    "duration": 556,
    "start_time": "2021-09-30T14:15:27.052Z"
   },
   {
    "duration": 33,
    "start_time": "2021-09-30T14:15:27.613Z"
   },
   {
    "duration": 52,
    "start_time": "2021-09-30T14:15:27.649Z"
   },
   {
    "duration": 54,
    "start_time": "2021-09-30T14:15:27.705Z"
   },
   {
    "duration": 142,
    "start_time": "2021-09-30T14:15:27.762Z"
   },
   {
    "duration": 17,
    "start_time": "2021-09-30T14:15:27.907Z"
   },
   {
    "duration": 62,
    "start_time": "2021-09-30T14:15:27.930Z"
   },
   {
    "duration": 23,
    "start_time": "2021-09-30T14:15:27.996Z"
   },
   {
    "duration": 130,
    "start_time": "2021-09-30T14:15:28.022Z"
   },
   {
    "duration": 11,
    "start_time": "2021-09-30T14:15:28.157Z"
   },
   {
    "duration": 23,
    "start_time": "2021-09-30T14:15:28.171Z"
   },
   {
    "duration": 92,
    "start_time": "2021-09-30T14:15:28.197Z"
   },
   {
    "duration": 15,
    "start_time": "2021-09-30T14:15:28.292Z"
   },
   {
    "duration": 15,
    "start_time": "2021-09-30T14:15:28.309Z"
   },
   {
    "duration": 35,
    "start_time": "2021-09-30T14:15:28.327Z"
   },
   {
    "duration": 23,
    "start_time": "2021-09-30T14:15:28.366Z"
   },
   {
    "duration": 12,
    "start_time": "2021-09-30T14:15:28.392Z"
   },
   {
    "duration": 12,
    "start_time": "2021-09-30T14:15:28.407Z"
   },
   {
    "duration": 80,
    "start_time": "2021-09-30T14:15:28.421Z"
   },
   {
    "duration": 7,
    "start_time": "2021-09-30T14:15:28.504Z"
   },
   {
    "duration": 61,
    "start_time": "2021-09-30T14:15:28.513Z"
   },
   {
    "duration": 5,
    "start_time": "2021-09-30T14:15:28.580Z"
   },
   {
    "duration": 28,
    "start_time": "2021-09-30T14:15:28.588Z"
   },
   {
    "duration": 8,
    "start_time": "2021-09-30T14:15:28.619Z"
   },
   {
    "duration": 28,
    "start_time": "2021-09-30T14:15:28.630Z"
   },
   {
    "duration": 1356,
    "start_time": "2021-09-30T14:15:28.660Z"
   },
   {
    "duration": 988,
    "start_time": "2021-09-30T14:15:30.019Z"
   },
   {
    "duration": 857,
    "start_time": "2021-09-30T14:15:31.010Z"
   },
   {
    "duration": 136,
    "start_time": "2021-09-30T14:15:31.870Z"
   },
   {
    "duration": 4,
    "start_time": "2021-09-30T14:15:32.008Z"
   },
   {
    "duration": 28,
    "start_time": "2021-09-30T14:15:32.014Z"
   },
   {
    "duration": 64,
    "start_time": "2021-09-30T14:15:32.044Z"
   },
   {
    "duration": 3,
    "start_time": "2021-09-30T14:15:32.111Z"
   },
   {
    "duration": 41,
    "start_time": "2021-09-30T14:15:32.116Z"
   },
   {
    "duration": 62,
    "start_time": "2021-09-30T14:15:32.160Z"
   },
   {
    "duration": 24,
    "start_time": "2021-09-30T14:15:32.225Z"
   },
   {
    "duration": 32,
    "start_time": "2021-09-30T14:15:32.258Z"
   },
   {
    "duration": 13,
    "start_time": "2021-09-30T14:15:32.293Z"
   },
   {
    "duration": 61,
    "start_time": "2021-09-30T14:15:32.309Z"
   },
   {
    "duration": 34,
    "start_time": "2021-09-30T14:15:32.373Z"
   },
   {
    "duration": 535,
    "start_time": "2021-09-30T14:15:32.409Z"
   },
   {
    "duration": 77,
    "start_time": "2021-09-30T14:15:32.870Z"
   },
   {
    "duration": 70,
    "start_time": "2021-09-30T14:15:32.878Z"
   },
   {
    "duration": 66,
    "start_time": "2021-09-30T14:15:32.884Z"
   },
   {
    "duration": 61,
    "start_time": "2021-09-30T14:15:32.890Z"
   },
   {
    "duration": 56,
    "start_time": "2021-09-30T14:15:32.896Z"
   },
   {
    "duration": 54,
    "start_time": "2021-09-30T14:15:32.900Z"
   },
   {
    "duration": 23,
    "start_time": "2021-09-30T14:19:45.559Z"
   },
   {
    "duration": 716,
    "start_time": "2021-09-30T14:21:05.495Z"
   },
   {
    "duration": 1320,
    "start_time": "2021-09-30T14:23:10.799Z"
   },
   {
    "duration": 547,
    "start_time": "2021-09-30T14:23:12.121Z"
   },
   {
    "duration": 28,
    "start_time": "2021-09-30T14:23:12.673Z"
   },
   {
    "duration": 38,
    "start_time": "2021-09-30T14:23:12.704Z"
   },
   {
    "duration": 27,
    "start_time": "2021-09-30T14:23:12.758Z"
   },
   {
    "duration": 164,
    "start_time": "2021-09-30T14:23:12.788Z"
   },
   {
    "duration": 17,
    "start_time": "2021-09-30T14:23:12.954Z"
   },
   {
    "duration": 43,
    "start_time": "2021-09-30T14:23:12.976Z"
   },
   {
    "duration": 52,
    "start_time": "2021-09-30T14:23:13.022Z"
   },
   {
    "duration": 116,
    "start_time": "2021-09-30T14:23:13.077Z"
   },
   {
    "duration": 11,
    "start_time": "2021-09-30T14:23:13.196Z"
   },
   {
    "duration": 21,
    "start_time": "2021-09-30T14:23:13.209Z"
   },
   {
    "duration": 77,
    "start_time": "2021-09-30T14:23:13.233Z"
   },
   {
    "duration": 11,
    "start_time": "2021-09-30T14:23:13.313Z"
   },
   {
    "duration": 34,
    "start_time": "2021-09-30T14:23:13.326Z"
   },
   {
    "duration": 21,
    "start_time": "2021-09-30T14:23:13.363Z"
   },
   {
    "duration": 31,
    "start_time": "2021-09-30T14:23:13.386Z"
   },
   {
    "duration": 17,
    "start_time": "2021-09-30T14:23:13.420Z"
   },
   {
    "duration": 28,
    "start_time": "2021-09-30T14:23:13.439Z"
   },
   {
    "duration": 45,
    "start_time": "2021-09-30T14:23:13.469Z"
   },
   {
    "duration": 6,
    "start_time": "2021-09-30T14:23:13.516Z"
   },
   {
    "duration": 40,
    "start_time": "2021-09-30T14:23:13.524Z"
   },
   {
    "duration": 6,
    "start_time": "2021-09-30T14:23:13.569Z"
   },
   {
    "duration": 41,
    "start_time": "2021-09-30T14:23:13.577Z"
   },
   {
    "duration": 8,
    "start_time": "2021-09-30T14:23:13.621Z"
   },
   {
    "duration": 19,
    "start_time": "2021-09-30T14:23:13.632Z"
   },
   {
    "duration": 1395,
    "start_time": "2021-09-30T14:23:13.654Z"
   },
   {
    "duration": 1149,
    "start_time": "2021-09-30T14:23:15.051Z"
   },
   {
    "duration": 847,
    "start_time": "2021-09-30T14:23:16.202Z"
   },
   {
    "duration": 132,
    "start_time": "2021-09-30T14:23:17.051Z"
   },
   {
    "duration": 4,
    "start_time": "2021-09-30T14:23:17.186Z"
   },
   {
    "duration": 22,
    "start_time": "2021-09-30T14:23:17.192Z"
   },
   {
    "duration": 80,
    "start_time": "2021-09-30T14:23:17.217Z"
   },
   {
    "duration": 5,
    "start_time": "2021-09-30T14:23:17.299Z"
   },
   {
    "duration": 19,
    "start_time": "2021-09-30T14:23:17.306Z"
   },
   {
    "duration": 75,
    "start_time": "2021-09-30T14:23:17.327Z"
   },
   {
    "duration": 23,
    "start_time": "2021-09-30T14:23:17.405Z"
   },
   {
    "duration": 52,
    "start_time": "2021-09-30T14:23:17.431Z"
   },
   {
    "duration": 12,
    "start_time": "2021-09-30T14:23:17.485Z"
   },
   {
    "duration": 33,
    "start_time": "2021-09-30T14:23:17.500Z"
   },
   {
    "duration": 28,
    "start_time": "2021-09-30T14:23:17.559Z"
   },
   {
    "duration": 502,
    "start_time": "2021-09-30T14:23:17.590Z"
   },
   {
    "duration": 123,
    "start_time": "2021-09-30T14:23:17.972Z"
   },
   {
    "duration": 120,
    "start_time": "2021-09-30T14:23:17.977Z"
   },
   {
    "duration": 117,
    "start_time": "2021-09-30T14:23:17.982Z"
   },
   {
    "duration": 114,
    "start_time": "2021-09-30T14:23:17.987Z"
   },
   {
    "duration": 114,
    "start_time": "2021-09-30T14:23:17.989Z"
   },
   {
    "duration": 113,
    "start_time": "2021-09-30T14:23:17.993Z"
   },
   {
    "duration": 372,
    "start_time": "2021-09-30T14:24:22.510Z"
   },
   {
    "duration": 380,
    "start_time": "2021-09-30T14:24:27.313Z"
   },
   {
    "duration": 459,
    "start_time": "2021-09-30T14:25:09.740Z"
   },
   {
    "duration": 372,
    "start_time": "2021-09-30T14:25:42.864Z"
   },
   {
    "duration": 424,
    "start_time": "2021-09-30T14:27:30.358Z"
   },
   {
    "duration": 4,
    "start_time": "2021-09-30T14:27:36.656Z"
   },
   {
    "duration": 6,
    "start_time": "2021-09-30T14:27:44.167Z"
   },
   {
    "duration": 9,
    "start_time": "2021-09-30T14:27:48.664Z"
   },
   {
    "duration": 445,
    "start_time": "2021-09-30T14:28:01.359Z"
   },
   {
    "duration": 5,
    "start_time": "2021-09-30T14:29:10.990Z"
   },
   {
    "duration": 6,
    "start_time": "2021-09-30T14:29:11.868Z"
   },
   {
    "duration": 8,
    "start_time": "2021-09-30T14:29:40.596Z"
   },
   {
    "duration": 8,
    "start_time": "2021-09-30T14:29:41.445Z"
   },
   {
    "duration": 8,
    "start_time": "2021-09-30T14:30:52.634Z"
   },
   {
    "duration": 9100,
    "start_time": "2021-09-30T14:31:54.367Z"
   },
   {
    "duration": 376,
    "start_time": "2021-09-30T14:32:13.531Z"
   },
   {
    "duration": 349,
    "start_time": "2021-09-30T14:32:26.590Z"
   },
   {
    "duration": 181,
    "start_time": "2021-09-30T14:35:26.539Z"
   },
   {
    "duration": 9,
    "start_time": "2021-09-30T14:35:29.383Z"
   },
   {
    "duration": 22,
    "start_time": "2021-09-30T14:38:02.722Z"
   },
   {
    "duration": 7,
    "start_time": "2021-09-30T14:38:03.566Z"
   },
   {
    "duration": 369,
    "start_time": "2021-09-30T14:39:59.300Z"
   },
   {
    "duration": 370,
    "start_time": "2021-09-30T14:40:29.578Z"
   },
   {
    "duration": 37,
    "start_time": "2021-09-30T14:41:08.221Z"
   },
   {
    "duration": 7,
    "start_time": "2021-09-30T14:41:09.260Z"
   },
   {
    "duration": 20,
    "start_time": "2021-09-30T14:43:32.118Z"
   },
   {
    "duration": 20,
    "start_time": "2021-09-30T14:44:09.617Z"
   },
   {
    "duration": 20,
    "start_time": "2021-09-30T14:44:10.105Z"
   },
   {
    "duration": 11,
    "start_time": "2021-09-30T14:44:15.128Z"
   },
   {
    "duration": 20,
    "start_time": "2021-09-30T14:48:18.651Z"
   },
   {
    "duration": 56,
    "start_time": "2021-09-30T14:48:19.664Z"
   },
   {
    "duration": 1532,
    "start_time": "2021-09-30T14:48:38.499Z"
   },
   {
    "duration": 666,
    "start_time": "2021-09-30T14:48:40.034Z"
   },
   {
    "duration": 24,
    "start_time": "2021-09-30T14:48:40.703Z"
   },
   {
    "duration": 39,
    "start_time": "2021-09-30T14:48:40.730Z"
   },
   {
    "duration": 27,
    "start_time": "2021-09-30T14:48:40.772Z"
   },
   {
    "duration": 235,
    "start_time": "2021-09-30T14:48:40.801Z"
   },
   {
    "duration": 26,
    "start_time": "2021-09-30T14:48:41.038Z"
   },
   {
    "duration": 38,
    "start_time": "2021-09-30T14:48:41.069Z"
   },
   {
    "duration": 52,
    "start_time": "2021-09-30T14:48:41.110Z"
   },
   {
    "duration": 124,
    "start_time": "2021-09-30T14:48:41.164Z"
   },
   {
    "duration": 11,
    "start_time": "2021-09-30T14:48:41.291Z"
   },
   {
    "duration": 25,
    "start_time": "2021-09-30T14:48:41.304Z"
   },
   {
    "duration": 81,
    "start_time": "2021-09-30T14:48:41.332Z"
   },
   {
    "duration": 12,
    "start_time": "2021-09-30T14:48:41.415Z"
   },
   {
    "duration": 34,
    "start_time": "2021-09-30T14:48:41.430Z"
   },
   {
    "duration": 22,
    "start_time": "2021-09-30T14:48:41.467Z"
   },
   {
    "duration": 43,
    "start_time": "2021-09-30T14:48:41.491Z"
   },
   {
    "duration": 38,
    "start_time": "2021-09-30T14:48:41.537Z"
   },
   {
    "duration": 24,
    "start_time": "2021-09-30T14:48:41.577Z"
   },
   {
    "duration": 50,
    "start_time": "2021-09-30T14:48:41.603Z"
   },
   {
    "duration": 6,
    "start_time": "2021-09-30T14:48:41.656Z"
   },
   {
    "duration": 42,
    "start_time": "2021-09-30T14:48:41.665Z"
   },
   {
    "duration": 7,
    "start_time": "2021-09-30T14:48:41.713Z"
   },
   {
    "duration": 43,
    "start_time": "2021-09-30T14:48:41.724Z"
   },
   {
    "duration": 17,
    "start_time": "2021-09-30T14:48:41.770Z"
   },
   {
    "duration": 22,
    "start_time": "2021-09-30T14:48:41.790Z"
   },
   {
    "duration": 1354,
    "start_time": "2021-09-30T14:48:41.814Z"
   },
   {
    "duration": 997,
    "start_time": "2021-09-30T14:48:43.170Z"
   },
   {
    "duration": 820,
    "start_time": "2021-09-30T14:48:44.170Z"
   },
   {
    "duration": 143,
    "start_time": "2021-09-30T14:48:44.993Z"
   },
   {
    "duration": 4,
    "start_time": "2021-09-30T14:48:45.138Z"
   },
   {
    "duration": 39,
    "start_time": "2021-09-30T14:48:45.144Z"
   },
   {
    "duration": 79,
    "start_time": "2021-09-30T14:48:45.186Z"
   },
   {
    "duration": 3,
    "start_time": "2021-09-30T14:48:45.268Z"
   },
   {
    "duration": 36,
    "start_time": "2021-09-30T14:48:45.274Z"
   },
   {
    "duration": 97,
    "start_time": "2021-09-30T14:48:45.313Z"
   },
   {
    "duration": 25,
    "start_time": "2021-09-30T14:48:45.413Z"
   },
   {
    "duration": 50,
    "start_time": "2021-09-30T14:48:45.442Z"
   },
   {
    "duration": 22,
    "start_time": "2021-09-30T14:48:45.495Z"
   },
   {
    "duration": 16,
    "start_time": "2021-09-30T14:48:45.519Z"
   },
   {
    "duration": 40,
    "start_time": "2021-09-30T14:48:45.538Z"
   },
   {
    "duration": 501,
    "start_time": "2021-09-30T14:48:45.581Z"
   },
   {
    "duration": 140,
    "start_time": "2021-09-30T14:48:45.945Z"
   },
   {
    "duration": 138,
    "start_time": "2021-09-30T14:48:45.948Z"
   },
   {
    "duration": 136,
    "start_time": "2021-09-30T14:48:45.952Z"
   },
   {
    "duration": 123,
    "start_time": "2021-09-30T14:48:45.967Z"
   },
   {
    "duration": 122,
    "start_time": "2021-09-30T14:48:45.971Z"
   },
   {
    "duration": 118,
    "start_time": "2021-09-30T14:48:45.977Z"
   },
   {
    "duration": 116,
    "start_time": "2021-09-30T14:48:45.981Z"
   },
   {
    "duration": 115,
    "start_time": "2021-09-30T14:48:45.984Z"
   },
   {
    "duration": 113,
    "start_time": "2021-09-30T14:48:45.988Z"
   },
   {
    "duration": 102,
    "start_time": "2021-09-30T14:48:46.001Z"
   },
   {
    "duration": 393,
    "start_time": "2021-09-30T14:49:44.165Z"
   },
   {
    "duration": 37,
    "start_time": "2021-09-30T14:49:56.707Z"
   },
   {
    "duration": 31,
    "start_time": "2021-09-30T14:49:57.360Z"
   },
   {
    "duration": 17,
    "start_time": "2021-09-30T14:49:59.284Z"
   },
   {
    "duration": 8,
    "start_time": "2021-09-30T14:51:07.537Z"
   },
   {
    "duration": 51,
    "start_time": "2021-09-30T14:51:56.865Z"
   },
   {
    "duration": 20,
    "start_time": "2021-09-30T14:52:01.451Z"
   },
   {
    "duration": 27,
    "start_time": "2021-09-30T14:52:34.636Z"
   },
   {
    "duration": 11,
    "start_time": "2021-09-30T14:52:35.168Z"
   },
   {
    "duration": 43,
    "start_time": "2021-09-30T14:52:54.690Z"
   },
   {
    "duration": 13,
    "start_time": "2021-09-30T14:52:55.128Z"
   },
   {
    "duration": 128,
    "start_time": "2021-09-30T14:53:35.738Z"
   },
   {
    "duration": 123,
    "start_time": "2021-09-30T14:53:56.647Z"
   },
   {
    "duration": 134,
    "start_time": "2021-09-30T14:54:59.972Z"
   },
   {
    "duration": 162,
    "start_time": "2021-09-30T14:56:16.851Z"
   },
   {
    "duration": 42,
    "start_time": "2021-09-30T14:57:25.595Z"
   },
   {
    "duration": 11,
    "start_time": "2021-09-30T14:57:26.351Z"
   },
   {
    "duration": 383,
    "start_time": "2021-09-30T14:57:36.360Z"
   },
   {
    "duration": 11,
    "start_time": "2021-09-30T14:57:36.861Z"
   },
   {
    "duration": 362,
    "start_time": "2021-09-30T14:57:45.789Z"
   },
   {
    "duration": 351,
    "start_time": "2021-09-30T14:57:58.581Z"
   },
   {
    "duration": 35,
    "start_time": "2021-09-30T14:58:02.239Z"
   },
   {
    "duration": 19,
    "start_time": "2021-09-30T14:58:02.959Z"
   },
   {
    "duration": 10,
    "start_time": "2021-09-30T15:06:25.565Z"
   },
   {
    "duration": 23,
    "start_time": "2021-09-30T15:06:34.230Z"
   },
   {
    "duration": 1303,
    "start_time": "2021-09-30T15:07:53.514Z"
   },
   {
    "duration": 528,
    "start_time": "2021-09-30T15:07:54.820Z"
   },
   {
    "duration": 23,
    "start_time": "2021-09-30T15:07:55.351Z"
   },
   {
    "duration": 49,
    "start_time": "2021-09-30T15:07:55.376Z"
   },
   {
    "duration": 43,
    "start_time": "2021-09-30T15:07:55.428Z"
   },
   {
    "duration": 150,
    "start_time": "2021-09-30T15:07:55.474Z"
   },
   {
    "duration": 16,
    "start_time": "2021-09-30T15:07:55.627Z"
   },
   {
    "duration": 48,
    "start_time": "2021-09-30T15:07:55.659Z"
   },
   {
    "duration": 23,
    "start_time": "2021-09-30T15:07:55.710Z"
   },
   {
    "duration": 117,
    "start_time": "2021-09-30T15:07:55.735Z"
   },
   {
    "duration": 10,
    "start_time": "2021-09-30T15:07:55.854Z"
   },
   {
    "duration": 34,
    "start_time": "2021-09-30T15:07:55.866Z"
   },
   {
    "duration": 78,
    "start_time": "2021-09-30T15:07:55.902Z"
   },
   {
    "duration": 11,
    "start_time": "2021-09-30T15:07:55.982Z"
   },
   {
    "duration": 22,
    "start_time": "2021-09-30T15:07:55.995Z"
   },
   {
    "duration": 27,
    "start_time": "2021-09-30T15:07:56.019Z"
   },
   {
    "duration": 40,
    "start_time": "2021-09-30T15:07:56.048Z"
   },
   {
    "duration": 16,
    "start_time": "2021-09-30T15:07:56.090Z"
   },
   {
    "duration": 22,
    "start_time": "2021-09-30T15:07:56.109Z"
   },
   {
    "duration": 47,
    "start_time": "2021-09-30T15:07:56.134Z"
   },
   {
    "duration": 6,
    "start_time": "2021-09-30T15:07:56.183Z"
   },
   {
    "duration": 45,
    "start_time": "2021-09-30T15:07:56.191Z"
   },
   {
    "duration": 6,
    "start_time": "2021-09-30T15:07:56.240Z"
   },
   {
    "duration": 26,
    "start_time": "2021-09-30T15:07:56.256Z"
   },
   {
    "duration": 9,
    "start_time": "2021-09-30T15:07:56.285Z"
   },
   {
    "duration": 22,
    "start_time": "2021-09-30T15:07:56.296Z"
   },
   {
    "duration": 1329,
    "start_time": "2021-09-30T15:07:56.321Z"
   },
   {
    "duration": 993,
    "start_time": "2021-09-30T15:07:57.653Z"
   },
   {
    "duration": 779,
    "start_time": "2021-09-30T15:07:58.649Z"
   },
   {
    "duration": 137,
    "start_time": "2021-09-30T15:07:59.431Z"
   },
   {
    "duration": 3,
    "start_time": "2021-09-30T15:07:59.571Z"
   },
   {
    "duration": 23,
    "start_time": "2021-09-30T15:07:59.576Z"
   },
   {
    "duration": 73,
    "start_time": "2021-09-30T15:07:59.601Z"
   },
   {
    "duration": 3,
    "start_time": "2021-09-30T15:07:59.677Z"
   },
   {
    "duration": 25,
    "start_time": "2021-09-30T15:07:59.682Z"
   },
   {
    "duration": 68,
    "start_time": "2021-09-30T15:07:59.709Z"
   },
   {
    "duration": 18,
    "start_time": "2021-09-30T15:07:59.779Z"
   },
   {
    "duration": 34,
    "start_time": "2021-09-30T15:07:59.799Z"
   },
   {
    "duration": 34,
    "start_time": "2021-09-30T15:07:59.835Z"
   },
   {
    "duration": 38,
    "start_time": "2021-09-30T15:07:59.871Z"
   },
   {
    "duration": 48,
    "start_time": "2021-09-30T15:07:59.911Z"
   },
   {
    "duration": 84,
    "start_time": "2021-09-30T15:15:25.732Z"
   },
   {
    "duration": 667,
    "start_time": "2021-09-30T15:16:25.780Z"
   },
   {
    "duration": 9614,
    "start_time": "2021-09-30T15:19:44.661Z"
   },
   {
    "duration": 4,
    "start_time": "2021-09-30T15:20:06.658Z"
   },
   {
    "duration": 32,
    "start_time": "2021-09-30T15:20:16.188Z"
   },
   {
    "duration": 365,
    "start_time": "2021-09-30T15:21:28.961Z"
   },
   {
    "duration": 380,
    "start_time": "2021-09-30T15:21:40.259Z"
   },
   {
    "duration": 23,
    "start_time": "2021-09-30T15:21:57.918Z"
   },
   {
    "duration": 29,
    "start_time": "2021-09-30T15:22:15.502Z"
   },
   {
    "duration": 371,
    "start_time": "2021-09-30T15:22:32.473Z"
   },
   {
    "duration": 1385,
    "start_time": "2021-09-30T15:22:43.341Z"
   },
   {
    "duration": 521,
    "start_time": "2021-09-30T15:22:44.729Z"
   },
   {
    "duration": 25,
    "start_time": "2021-09-30T15:22:45.254Z"
   },
   {
    "duration": 43,
    "start_time": "2021-09-30T15:22:45.282Z"
   },
   {
    "duration": 53,
    "start_time": "2021-09-30T15:22:45.328Z"
   },
   {
    "duration": 204,
    "start_time": "2021-09-30T15:22:45.384Z"
   },
   {
    "duration": 17,
    "start_time": "2021-09-30T15:22:45.590Z"
   },
   {
    "duration": 58,
    "start_time": "2021-09-30T15:22:45.610Z"
   },
   {
    "duration": 23,
    "start_time": "2021-09-30T15:22:45.671Z"
   },
   {
    "duration": 130,
    "start_time": "2021-09-30T15:22:45.697Z"
   },
   {
    "duration": 12,
    "start_time": "2021-09-30T15:22:45.830Z"
   },
   {
    "duration": 22,
    "start_time": "2021-09-30T15:22:45.858Z"
   },
   {
    "duration": 84,
    "start_time": "2021-09-30T15:22:45.883Z"
   },
   {
    "duration": 12,
    "start_time": "2021-09-30T15:22:45.970Z"
   },
   {
    "duration": 19,
    "start_time": "2021-09-30T15:22:45.985Z"
   },
   {
    "duration": 27,
    "start_time": "2021-09-30T15:22:46.007Z"
   },
   {
    "duration": 35,
    "start_time": "2021-09-30T15:22:46.037Z"
   },
   {
    "duration": 19,
    "start_time": "2021-09-30T15:22:46.075Z"
   },
   {
    "duration": 20,
    "start_time": "2021-09-30T15:22:46.096Z"
   },
   {
    "duration": 56,
    "start_time": "2021-09-30T15:22:46.118Z"
   },
   {
    "duration": 5,
    "start_time": "2021-09-30T15:22:46.177Z"
   },
   {
    "duration": 50,
    "start_time": "2021-09-30T15:22:46.185Z"
   },
   {
    "duration": 6,
    "start_time": "2021-09-30T15:22:46.239Z"
   },
   {
    "duration": 34,
    "start_time": "2021-09-30T15:22:46.248Z"
   },
   {
    "duration": 8,
    "start_time": "2021-09-30T15:22:46.284Z"
   },
   {
    "duration": 16,
    "start_time": "2021-09-30T15:22:46.295Z"
   },
   {
    "duration": 1286,
    "start_time": "2021-09-30T15:22:46.313Z"
   },
   {
    "duration": 1002,
    "start_time": "2021-09-30T15:22:47.601Z"
   },
   {
    "duration": 800,
    "start_time": "2021-09-30T15:22:48.606Z"
   },
   {
    "duration": 133,
    "start_time": "2021-09-30T15:22:49.409Z"
   },
   {
    "duration": 4,
    "start_time": "2021-09-30T15:22:49.544Z"
   },
   {
    "duration": 31,
    "start_time": "2021-09-30T15:22:49.558Z"
   },
   {
    "duration": 52,
    "start_time": "2021-09-30T15:22:49.592Z"
   },
   {
    "duration": 12,
    "start_time": "2021-09-30T15:22:49.646Z"
   },
   {
    "duration": 22,
    "start_time": "2021-09-30T15:22:49.661Z"
   },
   {
    "duration": 76,
    "start_time": "2021-09-30T15:22:49.686Z"
   },
   {
    "duration": 18,
    "start_time": "2021-09-30T15:22:49.765Z"
   },
   {
    "duration": 34,
    "start_time": "2021-09-30T15:22:49.785Z"
   },
   {
    "duration": 40,
    "start_time": "2021-09-30T15:22:49.821Z"
   },
   {
    "duration": 509,
    "start_time": "2021-09-30T15:22:49.863Z"
   },
   {
    "duration": 166,
    "start_time": "2021-09-30T15:22:50.209Z"
   },
   {
    "duration": 13,
    "start_time": "2021-09-30T15:43:13.482Z"
   },
   {
    "duration": 82,
    "start_time": "2021-09-30T15:43:55.692Z"
   },
   {
    "duration": 20,
    "start_time": "2021-09-30T15:44:26.791Z"
   },
   {
    "duration": 18,
    "start_time": "2021-09-30T15:44:56.554Z"
   },
   {
    "duration": 32,
    "start_time": "2021-09-30T15:48:10.046Z"
   },
   {
    "duration": 15,
    "start_time": "2021-09-30T15:48:10.611Z"
   },
   {
    "duration": 370,
    "start_time": "2021-09-30T15:50:17.992Z"
   },
   {
    "duration": 1344,
    "start_time": "2021-09-30T15:50:42.368Z"
   },
   {
    "duration": 550,
    "start_time": "2021-09-30T15:50:43.715Z"
   },
   {
    "duration": 24,
    "start_time": "2021-09-30T15:50:44.268Z"
   },
   {
    "duration": 40,
    "start_time": "2021-09-30T15:50:44.295Z"
   },
   {
    "duration": 27,
    "start_time": "2021-09-30T15:50:44.357Z"
   },
   {
    "duration": 163,
    "start_time": "2021-09-30T15:50:44.387Z"
   },
   {
    "duration": 17,
    "start_time": "2021-09-30T15:50:44.552Z"
   },
   {
    "duration": 39,
    "start_time": "2021-09-30T15:50:44.571Z"
   },
   {
    "duration": 47,
    "start_time": "2021-09-30T15:50:44.614Z"
   },
   {
    "duration": 117,
    "start_time": "2021-09-30T15:50:44.664Z"
   },
   {
    "duration": 11,
    "start_time": "2021-09-30T15:50:44.784Z"
   },
   {
    "duration": 26,
    "start_time": "2021-09-30T15:50:44.797Z"
   },
   {
    "duration": 82,
    "start_time": "2021-09-30T15:50:44.826Z"
   },
   {
    "duration": 11,
    "start_time": "2021-09-30T15:50:44.910Z"
   },
   {
    "duration": 11,
    "start_time": "2021-09-30T15:50:44.923Z"
   },
   {
    "duration": 15,
    "start_time": "2021-09-30T15:50:44.958Z"
   },
   {
    "duration": 26,
    "start_time": "2021-09-30T15:50:44.976Z"
   },
   {
    "duration": 42,
    "start_time": "2021-09-30T15:50:45.005Z"
   },
   {
    "duration": 21,
    "start_time": "2021-09-30T15:50:45.050Z"
   },
   {
    "duration": 43,
    "start_time": "2021-09-30T15:50:45.074Z"
   },
   {
    "duration": 8,
    "start_time": "2021-09-30T15:50:45.119Z"
   },
   {
    "duration": 54,
    "start_time": "2021-09-30T15:50:45.130Z"
   },
   {
    "duration": 6,
    "start_time": "2021-09-30T15:50:45.187Z"
   },
   {
    "duration": 27,
    "start_time": "2021-09-30T15:50:45.195Z"
   },
   {
    "duration": 8,
    "start_time": "2021-09-30T15:50:45.225Z"
   },
   {
    "duration": 25,
    "start_time": "2021-09-30T15:50:45.235Z"
   },
   {
    "duration": 1562,
    "start_time": "2021-09-30T15:50:45.266Z"
   },
   {
    "duration": 1075,
    "start_time": "2021-09-30T15:50:46.831Z"
   },
   {
    "duration": 869,
    "start_time": "2021-09-30T15:50:47.909Z"
   },
   {
    "duration": 143,
    "start_time": "2021-09-30T15:50:48.780Z"
   },
   {
    "duration": 3,
    "start_time": "2021-09-30T15:50:48.925Z"
   },
   {
    "duration": 34,
    "start_time": "2021-09-30T15:50:48.930Z"
   },
   {
    "duration": 55,
    "start_time": "2021-09-30T15:50:48.966Z"
   },
   {
    "duration": 4,
    "start_time": "2021-09-30T15:50:49.023Z"
   },
   {
    "duration": 38,
    "start_time": "2021-09-30T15:50:49.029Z"
   },
   {
    "duration": 51,
    "start_time": "2021-09-30T15:50:49.069Z"
   },
   {
    "duration": 36,
    "start_time": "2021-09-30T15:50:49.122Z"
   },
   {
    "duration": 30,
    "start_time": "2021-09-30T15:50:49.161Z"
   },
   {
    "duration": 13,
    "start_time": "2021-09-30T15:50:49.193Z"
   },
   {
    "duration": 481,
    "start_time": "2021-09-30T15:50:49.208Z"
   },
   {
    "duration": 175,
    "start_time": "2021-09-30T15:50:49.516Z"
   },
   {
    "duration": 169,
    "start_time": "2021-09-30T15:50:49.523Z"
   },
   {
    "duration": 168,
    "start_time": "2021-09-30T15:50:49.526Z"
   },
   {
    "duration": 348,
    "start_time": "2021-09-30T15:51:39.326Z"
   },
   {
    "duration": 36,
    "start_time": "2021-09-30T15:51:56.586Z"
   },
   {
    "duration": 34,
    "start_time": "2021-09-30T15:52:02.289Z"
   },
   {
    "duration": 79,
    "start_time": "2021-09-30T15:52:08.819Z"
   },
   {
    "duration": 19,
    "start_time": "2021-09-30T15:52:17.418Z"
   },
   {
    "duration": 11,
    "start_time": "2021-09-30T15:52:56.616Z"
   },
   {
    "duration": 19,
    "start_time": "2021-09-30T15:53:12.735Z"
   },
   {
    "duration": 18,
    "start_time": "2021-09-30T15:53:33.412Z"
   },
   {
    "duration": 19,
    "start_time": "2021-09-30T15:53:44.100Z"
   },
   {
    "duration": 136,
    "start_time": "2021-09-30T15:53:53.508Z"
   },
   {
    "duration": 12,
    "start_time": "2021-09-30T15:54:37.376Z"
   },
   {
    "duration": 459,
    "start_time": "2021-09-30T15:54:57.330Z"
   },
   {
    "duration": 135,
    "start_time": "2021-09-30T15:55:02.737Z"
   },
   {
    "duration": 33,
    "start_time": "2021-09-30T15:55:13.306Z"
   },
   {
    "duration": 18,
    "start_time": "2021-09-30T15:55:45.449Z"
   },
   {
    "duration": 17,
    "start_time": "2021-09-30T15:56:11.630Z"
   },
   {
    "duration": 18,
    "start_time": "2021-09-30T15:56:28.650Z"
   },
   {
    "duration": 12,
    "start_time": "2021-09-30T15:56:50.605Z"
   },
   {
    "duration": 11,
    "start_time": "2021-09-30T15:57:05.723Z"
   },
   {
    "duration": 1306,
    "start_time": "2021-09-30T15:59:06.106Z"
   },
   {
    "duration": 523,
    "start_time": "2021-09-30T15:59:07.415Z"
   },
   {
    "duration": 22,
    "start_time": "2021-09-30T15:59:07.941Z"
   },
   {
    "duration": 44,
    "start_time": "2021-09-30T15:59:07.966Z"
   },
   {
    "duration": 27,
    "start_time": "2021-09-30T15:59:08.012Z"
   },
   {
    "duration": 252,
    "start_time": "2021-09-30T15:59:08.042Z"
   },
   {
    "duration": 17,
    "start_time": "2021-09-30T15:59:08.296Z"
   },
   {
    "duration": 55,
    "start_time": "2021-09-30T15:59:08.316Z"
   },
   {
    "duration": 22,
    "start_time": "2021-09-30T15:59:08.375Z"
   },
   {
    "duration": 123,
    "start_time": "2021-09-30T15:59:08.401Z"
   },
   {
    "duration": 10,
    "start_time": "2021-09-30T15:59:08.527Z"
   },
   {
    "duration": 19,
    "start_time": "2021-09-30T15:59:08.557Z"
   },
   {
    "duration": 69,
    "start_time": "2021-09-30T15:59:08.578Z"
   },
   {
    "duration": 11,
    "start_time": "2021-09-30T15:59:08.657Z"
   },
   {
    "duration": 30,
    "start_time": "2021-09-30T15:59:08.670Z"
   },
   {
    "duration": 28,
    "start_time": "2021-09-30T15:59:08.703Z"
   },
   {
    "duration": 41,
    "start_time": "2021-09-30T15:59:08.733Z"
   },
   {
    "duration": 10,
    "start_time": "2021-09-30T15:59:08.777Z"
   },
   {
    "duration": 24,
    "start_time": "2021-09-30T15:59:08.789Z"
   },
   {
    "duration": 54,
    "start_time": "2021-09-30T15:59:08.816Z"
   },
   {
    "duration": 8,
    "start_time": "2021-09-30T15:59:08.872Z"
   },
   {
    "duration": 46,
    "start_time": "2021-09-30T15:59:08.882Z"
   },
   {
    "duration": 7,
    "start_time": "2021-09-30T15:59:08.931Z"
   },
   {
    "duration": 41,
    "start_time": "2021-09-30T15:59:08.941Z"
   },
   {
    "duration": 10,
    "start_time": "2021-09-30T15:59:08.984Z"
   },
   {
    "duration": 25,
    "start_time": "2021-09-30T15:59:08.997Z"
   },
   {
    "duration": 1506,
    "start_time": "2021-09-30T15:59:09.029Z"
   },
   {
    "duration": 1097,
    "start_time": "2021-09-30T15:59:10.538Z"
   },
   {
    "duration": 930,
    "start_time": "2021-09-30T15:59:11.637Z"
   },
   {
    "duration": 136,
    "start_time": "2021-09-30T15:59:12.570Z"
   },
   {
    "duration": 3,
    "start_time": "2021-09-30T15:59:12.709Z"
   },
   {
    "duration": 28,
    "start_time": "2021-09-30T15:59:12.714Z"
   },
   {
    "duration": 63,
    "start_time": "2021-09-30T15:59:12.744Z"
   },
   {
    "duration": 3,
    "start_time": "2021-09-30T15:59:12.810Z"
   },
   {
    "duration": 35,
    "start_time": "2021-09-30T15:59:12.815Z"
   },
   {
    "duration": 63,
    "start_time": "2021-09-30T15:59:12.857Z"
   },
   {
    "duration": 19,
    "start_time": "2021-09-30T15:59:12.923Z"
   },
   {
    "duration": 57,
    "start_time": "2021-09-30T15:59:12.945Z"
   },
   {
    "duration": 13,
    "start_time": "2021-09-30T15:59:13.005Z"
   },
   {
    "duration": 44,
    "start_time": "2021-09-30T15:59:13.020Z"
   },
   {
    "duration": 137,
    "start_time": "2021-09-30T15:59:13.067Z"
   },
   {
    "duration": 10,
    "start_time": "2021-09-30T15:59:13.207Z"
   },
   {
    "duration": 52,
    "start_time": "2021-09-30T15:59:13.219Z"
   },
   {
    "duration": 14,
    "start_time": "2021-09-30T15:59:13.274Z"
   },
   {
    "duration": 47,
    "start_time": "2021-09-30T15:59:13.291Z"
   },
   {
    "duration": 529,
    "start_time": "2021-09-30T16:01:34.663Z"
   },
   {
    "duration": 349,
    "start_time": "2021-09-30T16:01:57.567Z"
   },
   {
    "duration": 134,
    "start_time": "2021-09-30T16:02:03.555Z"
   },
   {
    "duration": 356,
    "start_time": "2021-09-30T16:02:06.727Z"
   },
   {
    "duration": 500,
    "start_time": "2021-09-30T16:02:12.982Z"
   },
   {
    "duration": 397,
    "start_time": "2021-09-30T16:02:20.129Z"
   },
   {
    "duration": 13,
    "start_time": "2021-09-30T16:02:40.517Z"
   },
   {
    "duration": 1386,
    "start_time": "2021-09-30T16:06:14.727Z"
   },
   {
    "duration": 527,
    "start_time": "2021-09-30T16:06:16.116Z"
   },
   {
    "duration": 24,
    "start_time": "2021-09-30T16:06:16.647Z"
   },
   {
    "duration": 39,
    "start_time": "2021-09-30T16:06:16.674Z"
   },
   {
    "duration": 48,
    "start_time": "2021-09-30T16:06:16.715Z"
   },
   {
    "duration": 146,
    "start_time": "2021-09-30T16:06:16.766Z"
   },
   {
    "duration": 16,
    "start_time": "2021-09-30T16:06:16.915Z"
   },
   {
    "duration": 55,
    "start_time": "2021-09-30T16:06:16.935Z"
   },
   {
    "duration": 22,
    "start_time": "2021-09-30T16:06:16.993Z"
   },
   {
    "duration": 122,
    "start_time": "2021-09-30T16:06:17.018Z"
   },
   {
    "duration": 19,
    "start_time": "2021-09-30T16:06:17.142Z"
   },
   {
    "duration": 24,
    "start_time": "2021-09-30T16:06:17.163Z"
   },
   {
    "duration": 76,
    "start_time": "2021-09-30T16:06:17.190Z"
   },
   {
    "duration": 11,
    "start_time": "2021-09-30T16:06:17.269Z"
   },
   {
    "duration": 20,
    "start_time": "2021-09-30T16:06:17.283Z"
   },
   {
    "duration": 38,
    "start_time": "2021-09-30T16:06:17.305Z"
   },
   {
    "duration": 32,
    "start_time": "2021-09-30T16:06:17.346Z"
   },
   {
    "duration": 16,
    "start_time": "2021-09-30T16:06:17.381Z"
   },
   {
    "duration": 33,
    "start_time": "2021-09-30T16:06:17.399Z"
   },
   {
    "duration": 46,
    "start_time": "2021-09-30T16:06:17.434Z"
   },
   {
    "duration": 6,
    "start_time": "2021-09-30T16:06:17.482Z"
   },
   {
    "duration": 47,
    "start_time": "2021-09-30T16:06:17.491Z"
   },
   {
    "duration": 12,
    "start_time": "2021-09-30T16:06:17.545Z"
   },
   {
    "duration": 26,
    "start_time": "2021-09-30T16:06:17.561Z"
   },
   {
    "duration": 9,
    "start_time": "2021-09-30T16:06:17.590Z"
   },
   {
    "duration": 28,
    "start_time": "2021-09-30T16:06:17.601Z"
   },
   {
    "duration": 1339,
    "start_time": "2021-09-30T16:06:17.632Z"
   },
   {
    "duration": 1005,
    "start_time": "2021-09-30T16:06:18.974Z"
   },
   {
    "duration": 1008,
    "start_time": "2021-09-30T16:06:19.981Z"
   },
   {
    "duration": 141,
    "start_time": "2021-09-30T16:06:20.991Z"
   },
   {
    "duration": 3,
    "start_time": "2021-09-30T16:06:21.135Z"
   },
   {
    "duration": 31,
    "start_time": "2021-09-30T16:06:21.141Z"
   },
   {
    "duration": 56,
    "start_time": "2021-09-30T16:06:21.174Z"
   },
   {
    "duration": 4,
    "start_time": "2021-09-30T16:06:21.232Z"
   },
   {
    "duration": 33,
    "start_time": "2021-09-30T16:06:21.238Z"
   },
   {
    "duration": 52,
    "start_time": "2021-09-30T16:06:21.274Z"
   },
   {
    "duration": 40,
    "start_time": "2021-09-30T16:06:21.329Z"
   },
   {
    "duration": 44,
    "start_time": "2021-09-30T16:06:21.371Z"
   },
   {
    "duration": 12,
    "start_time": "2021-09-30T16:06:21.417Z"
   },
   {
    "duration": 47,
    "start_time": "2021-09-30T16:06:21.431Z"
   },
   {
    "duration": 28,
    "start_time": "2021-09-30T16:09:36.196Z"
   },
   {
    "duration": 27,
    "start_time": "2021-09-30T16:09:59.322Z"
   },
   {
    "duration": 490,
    "start_time": "2021-09-30T16:16:53.996Z"
   },
   {
    "duration": 12,
    "start_time": "2021-09-30T16:16:58.292Z"
   },
   {
    "duration": 6,
    "start_time": "2021-09-30T16:17:48.545Z"
   },
   {
    "duration": 7,
    "start_time": "2021-09-30T16:18:01.533Z"
   },
   {
    "duration": 37,
    "start_time": "2021-09-30T16:18:10.786Z"
   },
   {
    "duration": 6,
    "start_time": "2021-09-30T16:18:34.058Z"
   },
   {
    "duration": 387,
    "start_time": "2021-09-30T16:18:44.886Z"
   },
   {
    "duration": 11,
    "start_time": "2021-09-30T16:18:51.906Z"
   },
   {
    "duration": 1340,
    "start_time": "2021-09-30T16:34:21.673Z"
   },
   {
    "duration": 528,
    "start_time": "2021-09-30T16:34:23.016Z"
   },
   {
    "duration": 24,
    "start_time": "2021-09-30T16:34:23.547Z"
   },
   {
    "duration": 37,
    "start_time": "2021-09-30T16:34:23.574Z"
   },
   {
    "duration": 51,
    "start_time": "2021-09-30T16:34:23.614Z"
   },
   {
    "duration": 157,
    "start_time": "2021-09-30T16:34:23.667Z"
   },
   {
    "duration": 33,
    "start_time": "2021-09-30T16:34:23.827Z"
   },
   {
    "duration": 38,
    "start_time": "2021-09-30T16:34:23.866Z"
   },
   {
    "duration": 62,
    "start_time": "2021-09-30T16:34:23.909Z"
   },
   {
    "duration": 121,
    "start_time": "2021-09-30T16:34:23.974Z"
   },
   {
    "duration": 12,
    "start_time": "2021-09-30T16:34:24.098Z"
   },
   {
    "duration": 50,
    "start_time": "2021-09-30T16:34:24.113Z"
   },
   {
    "duration": 63,
    "start_time": "2021-09-30T16:34:24.166Z"
   },
   {
    "duration": 37,
    "start_time": "2021-09-30T16:34:24.232Z"
   },
   {
    "duration": 12,
    "start_time": "2021-09-30T16:34:24.271Z"
   },
   {
    "duration": 18,
    "start_time": "2021-09-30T16:34:24.285Z"
   },
   {
    "duration": 67,
    "start_time": "2021-09-30T16:34:24.305Z"
   },
   {
    "duration": 9,
    "start_time": "2021-09-30T16:34:24.374Z"
   },
   {
    "duration": 17,
    "start_time": "2021-09-30T16:34:24.386Z"
   },
   {
    "duration": 71,
    "start_time": "2021-09-30T16:34:24.406Z"
   },
   {
    "duration": 6,
    "start_time": "2021-09-30T16:34:24.479Z"
   },
   {
    "duration": 32,
    "start_time": "2021-09-30T16:34:24.488Z"
   },
   {
    "duration": 6,
    "start_time": "2021-09-30T16:34:24.526Z"
   },
   {
    "duration": 23,
    "start_time": "2021-09-30T16:34:24.559Z"
   },
   {
    "duration": 9,
    "start_time": "2021-09-30T16:34:24.585Z"
   },
   {
    "duration": 22,
    "start_time": "2021-09-30T16:34:24.596Z"
   },
   {
    "duration": 1352,
    "start_time": "2021-09-30T16:34:24.620Z"
   },
   {
    "duration": 999,
    "start_time": "2021-09-30T16:34:25.975Z"
   },
   {
    "duration": 932,
    "start_time": "2021-09-30T16:34:26.977Z"
   },
   {
    "duration": 142,
    "start_time": "2021-09-30T16:34:27.911Z"
   },
   {
    "duration": 3,
    "start_time": "2021-09-30T16:34:28.056Z"
   },
   {
    "duration": 44,
    "start_time": "2021-09-30T16:34:28.062Z"
   },
   {
    "duration": 71,
    "start_time": "2021-09-30T16:34:28.109Z"
   },
   {
    "duration": 4,
    "start_time": "2021-09-30T16:34:28.183Z"
   },
   {
    "duration": 32,
    "start_time": "2021-09-30T16:34:28.190Z"
   },
   {
    "duration": 78,
    "start_time": "2021-09-30T16:34:28.224Z"
   },
   {
    "duration": 16,
    "start_time": "2021-09-30T16:34:28.304Z"
   },
   {
    "duration": 55,
    "start_time": "2021-09-30T16:34:28.322Z"
   },
   {
    "duration": 489,
    "start_time": "2021-09-30T16:34:28.380Z"
   },
   {
    "duration": 193,
    "start_time": "2021-09-30T16:34:28.679Z"
   },
   {
    "duration": 184,
    "start_time": "2021-09-30T16:34:28.689Z"
   },
   {
    "duration": 183,
    "start_time": "2021-09-30T16:34:28.692Z"
   },
   {
    "duration": 180,
    "start_time": "2021-09-30T16:34:28.696Z"
   },
   {
    "duration": 179,
    "start_time": "2021-09-30T16:34:28.699Z"
   },
   {
    "duration": 176,
    "start_time": "2021-09-30T16:34:28.703Z"
   },
   {
    "duration": 13,
    "start_time": "2021-09-30T16:34:40.452Z"
   },
   {
    "duration": 1340,
    "start_time": "2021-09-30T16:34:52.271Z"
   },
   {
    "duration": 515,
    "start_time": "2021-09-30T16:34:53.614Z"
   },
   {
    "duration": 24,
    "start_time": "2021-09-30T16:34:54.132Z"
   },
   {
    "duration": 38,
    "start_time": "2021-09-30T16:34:54.159Z"
   },
   {
    "duration": 58,
    "start_time": "2021-09-30T16:34:54.200Z"
   },
   {
    "duration": 156,
    "start_time": "2021-09-30T16:34:54.260Z"
   },
   {
    "duration": 17,
    "start_time": "2021-09-30T16:34:54.418Z"
   },
   {
    "duration": 55,
    "start_time": "2021-09-30T16:34:54.437Z"
   },
   {
    "duration": 24,
    "start_time": "2021-09-30T16:34:54.496Z"
   },
   {
    "duration": 117,
    "start_time": "2021-09-30T16:34:54.559Z"
   },
   {
    "duration": 11,
    "start_time": "2021-09-30T16:34:54.678Z"
   },
   {
    "duration": 24,
    "start_time": "2021-09-30T16:34:54.692Z"
   },
   {
    "duration": 89,
    "start_time": "2021-09-30T16:34:54.719Z"
   },
   {
    "duration": 12,
    "start_time": "2021-09-30T16:34:54.811Z"
   },
   {
    "duration": 36,
    "start_time": "2021-09-30T16:34:54.826Z"
   },
   {
    "duration": 27,
    "start_time": "2021-09-30T16:34:54.865Z"
   },
   {
    "duration": 24,
    "start_time": "2021-09-30T16:34:54.894Z"
   },
   {
    "duration": 42,
    "start_time": "2021-09-30T16:34:54.921Z"
   },
   {
    "duration": 9,
    "start_time": "2021-09-30T16:34:54.965Z"
   },
   {
    "duration": 81,
    "start_time": "2021-09-30T16:34:54.976Z"
   },
   {
    "duration": 6,
    "start_time": "2021-09-30T16:34:55.060Z"
   },
   {
    "duration": 37,
    "start_time": "2021-09-30T16:34:55.069Z"
   },
   {
    "duration": 5,
    "start_time": "2021-09-30T16:34:55.109Z"
   },
   {
    "duration": 56,
    "start_time": "2021-09-30T16:34:55.117Z"
   },
   {
    "duration": 10,
    "start_time": "2021-09-30T16:34:55.175Z"
   },
   {
    "duration": 9,
    "start_time": "2021-09-30T16:34:55.188Z"
   },
   {
    "duration": 1336,
    "start_time": "2021-09-30T16:34:55.202Z"
   },
   {
    "duration": 960,
    "start_time": "2021-09-30T16:34:56.541Z"
   },
   {
    "duration": 801,
    "start_time": "2021-09-30T16:34:57.504Z"
   },
   {
    "duration": 141,
    "start_time": "2021-09-30T16:34:58.308Z"
   },
   {
    "duration": 8,
    "start_time": "2021-09-30T16:34:58.451Z"
   },
   {
    "duration": 26,
    "start_time": "2021-09-30T16:34:58.461Z"
   },
   {
    "duration": 77,
    "start_time": "2021-09-30T16:34:58.489Z"
   },
   {
    "duration": 4,
    "start_time": "2021-09-30T16:34:58.568Z"
   },
   {
    "duration": 19,
    "start_time": "2021-09-30T16:34:58.574Z"
   },
   {
    "duration": 82,
    "start_time": "2021-09-30T16:34:58.596Z"
   },
   {
    "duration": 17,
    "start_time": "2021-09-30T16:34:58.680Z"
   },
   {
    "duration": 31,
    "start_time": "2021-09-30T16:34:58.699Z"
   },
   {
    "duration": 35,
    "start_time": "2021-09-30T16:34:58.732Z"
   },
   {
    "duration": 29,
    "start_time": "2021-09-30T16:34:58.769Z"
   },
   {
    "duration": 12,
    "start_time": "2021-09-30T16:34:58.801Z"
   },
   {
    "duration": 69,
    "start_time": "2021-09-30T16:34:58.815Z"
   },
   {
    "duration": 39,
    "start_time": "2021-09-30T16:34:58.886Z"
   },
   {
    "duration": 38,
    "start_time": "2021-09-30T16:34:58.927Z"
   },
   {
    "duration": 33,
    "start_time": "2021-09-30T16:34:58.968Z"
   },
   {
    "duration": 1320,
    "start_time": "2021-09-30T16:35:28.494Z"
   },
   {
    "duration": 535,
    "start_time": "2021-09-30T16:35:29.816Z"
   },
   {
    "duration": 23,
    "start_time": "2021-09-30T16:35:30.354Z"
   },
   {
    "duration": 58,
    "start_time": "2021-09-30T16:35:30.379Z"
   },
   {
    "duration": 42,
    "start_time": "2021-09-30T16:35:30.440Z"
   },
   {
    "duration": 164,
    "start_time": "2021-09-30T16:35:30.485Z"
   },
   {
    "duration": 21,
    "start_time": "2021-09-30T16:35:30.652Z"
   },
   {
    "duration": 42,
    "start_time": "2021-09-30T16:35:30.677Z"
   },
   {
    "duration": 51,
    "start_time": "2021-09-30T16:35:30.723Z"
   },
   {
    "duration": 130,
    "start_time": "2021-09-30T16:35:30.777Z"
   },
   {
    "duration": 12,
    "start_time": "2021-09-30T16:35:30.909Z"
   },
   {
    "duration": 50,
    "start_time": "2021-09-30T16:35:30.924Z"
   },
   {
    "duration": 88,
    "start_time": "2021-09-30T16:35:30.977Z"
   },
   {
    "duration": 13,
    "start_time": "2021-09-30T16:35:31.068Z"
   },
   {
    "duration": 29,
    "start_time": "2021-09-30T16:35:31.084Z"
   },
   {
    "duration": 43,
    "start_time": "2021-09-30T16:35:31.116Z"
   },
   {
    "duration": 46,
    "start_time": "2021-09-30T16:35:31.162Z"
   },
   {
    "duration": 42,
    "start_time": "2021-09-30T16:35:31.211Z"
   },
   {
    "duration": 39,
    "start_time": "2021-09-30T16:35:31.256Z"
   },
   {
    "duration": 57,
    "start_time": "2021-09-30T16:35:31.297Z"
   },
   {
    "duration": 7,
    "start_time": "2021-09-30T16:35:31.357Z"
   },
   {
    "duration": 46,
    "start_time": "2021-09-30T16:35:31.367Z"
   },
   {
    "duration": 6,
    "start_time": "2021-09-30T16:35:31.418Z"
   },
   {
    "duration": 44,
    "start_time": "2021-09-30T16:35:31.427Z"
   },
   {
    "duration": 20,
    "start_time": "2021-09-30T16:35:31.473Z"
   },
   {
    "duration": 38,
    "start_time": "2021-09-30T16:35:31.496Z"
   },
   {
    "duration": 1361,
    "start_time": "2021-09-30T16:35:31.536Z"
   },
   {
    "duration": 1113,
    "start_time": "2021-09-30T16:35:32.899Z"
   },
   {
    "duration": 916,
    "start_time": "2021-09-30T16:35:34.014Z"
   },
   {
    "duration": 142,
    "start_time": "2021-09-30T16:35:34.933Z"
   },
   {
    "duration": 3,
    "start_time": "2021-09-30T16:35:35.078Z"
   },
   {
    "duration": 40,
    "start_time": "2021-09-30T16:35:35.083Z"
   },
   {
    "duration": 57,
    "start_time": "2021-09-30T16:35:35.125Z"
   },
   {
    "duration": 3,
    "start_time": "2021-09-30T16:35:35.184Z"
   },
   {
    "duration": 74,
    "start_time": "2021-09-30T16:35:35.190Z"
   },
   {
    "duration": 114,
    "start_time": "2021-09-30T16:35:35.266Z"
   },
   {
    "duration": 18,
    "start_time": "2021-09-30T16:35:35.382Z"
   },
   {
    "duration": 92,
    "start_time": "2021-09-30T16:35:35.402Z"
   },
   {
    "duration": 68,
    "start_time": "2021-09-30T16:35:35.497Z"
   },
   {
    "duration": 34,
    "start_time": "2021-09-30T16:35:35.567Z"
   },
   {
    "duration": 66,
    "start_time": "2021-09-30T16:35:35.603Z"
   },
   {
    "duration": 94,
    "start_time": "2021-09-30T16:35:35.671Z"
   },
   {
    "duration": 34,
    "start_time": "2021-09-30T16:35:35.768Z"
   },
   {
    "duration": 12,
    "start_time": "2021-09-30T16:35:35.857Z"
   },
   {
    "duration": 113,
    "start_time": "2021-09-30T16:35:35.872Z"
   },
   {
    "duration": 15,
    "start_time": "2021-09-30T16:43:12.886Z"
   },
   {
    "duration": 44,
    "start_time": "2021-09-30T16:43:13.579Z"
   },
   {
    "duration": 1444,
    "start_time": "2021-09-30T16:43:22.677Z"
   },
   {
    "duration": 549,
    "start_time": "2021-09-30T16:43:24.123Z"
   },
   {
    "duration": 21,
    "start_time": "2021-09-30T16:43:24.675Z"
   },
   {
    "duration": 43,
    "start_time": "2021-09-30T16:43:24.699Z"
   },
   {
    "duration": 35,
    "start_time": "2021-09-30T16:43:24.744Z"
   },
   {
    "duration": 151,
    "start_time": "2021-09-30T16:43:24.782Z"
   },
   {
    "duration": 25,
    "start_time": "2021-09-30T16:43:24.935Z"
   },
   {
    "duration": 39,
    "start_time": "2021-09-30T16:43:24.964Z"
   },
   {
    "duration": 22,
    "start_time": "2021-09-30T16:43:25.006Z"
   },
   {
    "duration": 108,
    "start_time": "2021-09-30T16:43:25.058Z"
   },
   {
    "duration": 11,
    "start_time": "2021-09-30T16:43:25.168Z"
   },
   {
    "duration": 27,
    "start_time": "2021-09-30T16:43:25.181Z"
   },
   {
    "duration": 86,
    "start_time": "2021-09-30T16:43:25.211Z"
   },
   {
    "duration": 16,
    "start_time": "2021-09-30T16:43:25.299Z"
   },
   {
    "duration": 11,
    "start_time": "2021-09-30T16:43:25.318Z"
   },
   {
    "duration": 42,
    "start_time": "2021-09-30T16:43:25.332Z"
   },
   {
    "duration": 22,
    "start_time": "2021-09-30T16:43:25.377Z"
   },
   {
    "duration": 9,
    "start_time": "2021-09-30T16:43:25.402Z"
   },
   {
    "duration": 51,
    "start_time": "2021-09-30T16:43:25.413Z"
   },
   {
    "duration": 44,
    "start_time": "2021-09-30T16:43:25.466Z"
   },
   {
    "duration": 5,
    "start_time": "2021-09-30T16:43:25.513Z"
   },
   {
    "duration": 52,
    "start_time": "2021-09-30T16:43:25.521Z"
   },
   {
    "duration": 5,
    "start_time": "2021-09-30T16:43:25.578Z"
   },
   {
    "duration": 27,
    "start_time": "2021-09-30T16:43:25.586Z"
   },
   {
    "duration": 8,
    "start_time": "2021-09-30T16:43:25.615Z"
   },
   {
    "duration": 32,
    "start_time": "2021-09-30T16:43:25.625Z"
   },
   {
    "duration": 1344,
    "start_time": "2021-09-30T16:43:25.660Z"
   },
   {
    "duration": 1064,
    "start_time": "2021-09-30T16:43:27.006Z"
   },
   {
    "duration": 790,
    "start_time": "2021-09-30T16:43:28.072Z"
   },
   {
    "duration": 140,
    "start_time": "2021-09-30T16:43:28.864Z"
   },
   {
    "duration": 4,
    "start_time": "2021-09-30T16:43:29.006Z"
   },
   {
    "duration": 23,
    "start_time": "2021-09-30T16:43:29.012Z"
   },
   {
    "duration": 63,
    "start_time": "2021-09-30T16:43:29.037Z"
   },
   {
    "duration": 3,
    "start_time": "2021-09-30T16:43:29.103Z"
   },
   {
    "duration": 24,
    "start_time": "2021-09-30T16:43:29.109Z"
   },
   {
    "duration": 71,
    "start_time": "2021-09-30T16:43:29.135Z"
   },
   {
    "duration": 16,
    "start_time": "2021-09-30T16:43:29.209Z"
   },
   {
    "duration": 56,
    "start_time": "2021-09-30T16:43:29.227Z"
   },
   {
    "duration": 13,
    "start_time": "2021-09-30T16:43:29.286Z"
   },
   {
    "duration": 33,
    "start_time": "2021-09-30T16:43:29.301Z"
   },
   {
    "duration": 31,
    "start_time": "2021-09-30T16:43:29.336Z"
   },
   {
    "duration": 33,
    "start_time": "2021-09-30T16:43:29.370Z"
   },
   {
    "duration": 64,
    "start_time": "2021-09-30T16:43:29.407Z"
   },
   {
    "duration": 12,
    "start_time": "2021-09-30T16:43:29.474Z"
   },
   {
    "duration": 42,
    "start_time": "2021-09-30T16:43:29.488Z"
   },
   {
    "duration": 31,
    "start_time": "2021-09-30T16:46:43.902Z"
   },
   {
    "duration": 10,
    "start_time": "2021-09-30T16:46:49.233Z"
   },
   {
    "duration": 9,
    "start_time": "2021-09-30T16:48:27.951Z"
   },
   {
    "duration": 5,
    "start_time": "2021-09-30T16:54:31.200Z"
   },
   {
    "duration": 8,
    "start_time": "2021-09-30T16:54:35.702Z"
   },
   {
    "duration": 9180,
    "start_time": "2021-09-30T16:56:09.619Z"
   },
   {
    "duration": 7,
    "start_time": "2021-09-30T16:56:38.345Z"
   },
   {
    "duration": 9,
    "start_time": "2021-09-30T16:56:40.606Z"
   },
   {
    "duration": 1333,
    "start_time": "2021-09-30T17:14:36.485Z"
   },
   {
    "duration": 527,
    "start_time": "2021-09-30T17:14:37.821Z"
   },
   {
    "duration": 23,
    "start_time": "2021-09-30T17:14:38.351Z"
   },
   {
    "duration": 39,
    "start_time": "2021-09-30T17:14:38.377Z"
   },
   {
    "duration": 43,
    "start_time": "2021-09-30T17:14:38.418Z"
   },
   {
    "duration": 140,
    "start_time": "2021-09-30T17:14:38.463Z"
   },
   {
    "duration": 16,
    "start_time": "2021-09-30T17:14:38.605Z"
   },
   {
    "duration": 53,
    "start_time": "2021-09-30T17:14:38.625Z"
   },
   {
    "duration": 23,
    "start_time": "2021-09-30T17:14:38.681Z"
   },
   {
    "duration": 125,
    "start_time": "2021-09-30T17:14:38.706Z"
   },
   {
    "duration": 11,
    "start_time": "2021-09-30T17:14:38.834Z"
   },
   {
    "duration": 19,
    "start_time": "2021-09-30T17:14:38.858Z"
   },
   {
    "duration": 85,
    "start_time": "2021-09-30T17:14:38.880Z"
   },
   {
    "duration": 11,
    "start_time": "2021-09-30T17:14:38.968Z"
   },
   {
    "duration": 11,
    "start_time": "2021-09-30T17:14:38.982Z"
   },
   {
    "duration": 21,
    "start_time": "2021-09-30T17:14:38.995Z"
   },
   {
    "duration": 53,
    "start_time": "2021-09-30T17:14:39.018Z"
   },
   {
    "duration": 8,
    "start_time": "2021-09-30T17:14:39.074Z"
   },
   {
    "duration": 12,
    "start_time": "2021-09-30T17:14:39.084Z"
   },
   {
    "duration": 69,
    "start_time": "2021-09-30T17:14:39.098Z"
   },
   {
    "duration": 5,
    "start_time": "2021-09-30T17:14:39.170Z"
   },
   {
    "duration": 32,
    "start_time": "2021-09-30T17:14:39.177Z"
   },
   {
    "duration": 5,
    "start_time": "2021-09-30T17:14:39.213Z"
   },
   {
    "duration": 58,
    "start_time": "2021-09-30T17:14:39.221Z"
   },
   {
    "duration": 9,
    "start_time": "2021-09-30T17:14:39.281Z"
   },
   {
    "duration": 16,
    "start_time": "2021-09-30T17:14:39.292Z"
   },
   {
    "duration": 1265,
    "start_time": "2021-09-30T17:14:39.310Z"
   },
   {
    "duration": 1122,
    "start_time": "2021-09-30T17:14:40.577Z"
   },
   {
    "duration": 783,
    "start_time": "2021-09-30T17:14:41.702Z"
   },
   {
    "duration": 152,
    "start_time": "2021-09-30T17:14:42.488Z"
   },
   {
    "duration": 5,
    "start_time": "2021-09-30T17:14:42.642Z"
   },
   {
    "duration": 29,
    "start_time": "2021-09-30T17:14:42.650Z"
   },
   {
    "duration": 55,
    "start_time": "2021-09-30T17:14:42.682Z"
   },
   {
    "duration": 20,
    "start_time": "2021-09-30T17:14:42.739Z"
   },
   {
    "duration": 26,
    "start_time": "2021-09-30T17:14:42.762Z"
   },
   {
    "duration": 76,
    "start_time": "2021-09-30T17:14:42.790Z"
   },
   {
    "duration": 18,
    "start_time": "2021-09-30T17:14:42.868Z"
   },
   {
    "duration": 38,
    "start_time": "2021-09-30T17:14:42.888Z"
   },
   {
    "duration": 34,
    "start_time": "2021-09-30T17:14:42.928Z"
   },
   {
    "duration": 45,
    "start_time": "2021-09-30T17:14:42.965Z"
   },
   {
    "duration": 47,
    "start_time": "2021-09-30T17:14:43.012Z"
   },
   {
    "duration": 8,
    "start_time": "2021-09-30T17:14:43.061Z"
   },
   {
    "duration": 23,
    "start_time": "2021-09-30T17:14:43.072Z"
   },
   {
    "duration": 17,
    "start_time": "2021-09-30T17:14:43.097Z"
   },
   {
    "duration": 4,
    "start_time": "2021-09-30T17:39:53.531Z"
   },
   {
    "duration": 563,
    "start_time": "2021-09-30T17:40:12.311Z"
   },
   {
    "duration": 702,
    "start_time": "2021-09-30T17:40:17.920Z"
   },
   {
    "duration": 5,
    "start_time": "2021-09-30T17:40:43.643Z"
   },
   {
    "duration": 837,
    "start_time": "2021-09-30T17:40:44.720Z"
   },
   {
    "duration": 4,
    "start_time": "2021-09-30T17:46:01.861Z"
   },
   {
    "duration": 706,
    "start_time": "2021-09-30T17:46:02.861Z"
   },
   {
    "duration": 4,
    "start_time": "2021-09-30T17:46:15.762Z"
   },
   {
    "duration": 734,
    "start_time": "2021-09-30T17:46:16.302Z"
   },
   {
    "duration": 5,
    "start_time": "2021-09-30T17:46:33.037Z"
   },
   {
    "duration": 1107,
    "start_time": "2021-09-30T17:46:33.835Z"
   },
   {
    "duration": 4,
    "start_time": "2021-09-30T17:46:41.811Z"
   },
   {
    "duration": 727,
    "start_time": "2021-09-30T17:46:42.414Z"
   },
   {
    "duration": 4,
    "start_time": "2021-09-30T17:46:52.268Z"
   },
   {
    "duration": 713,
    "start_time": "2021-09-30T17:46:52.776Z"
   },
   {
    "duration": 4,
    "start_time": "2021-09-30T17:47:23.140Z"
   },
   {
    "duration": 399,
    "start_time": "2021-09-30T17:47:24.208Z"
   },
   {
    "duration": 706,
    "start_time": "2021-09-30T17:49:00.505Z"
   },
   {
    "duration": 130,
    "start_time": "2021-09-30T18:37:07.735Z"
   },
   {
    "duration": 792,
    "start_time": "2021-09-30T18:37:54.235Z"
   },
   {
    "duration": 1324,
    "start_time": "2021-09-30T18:38:26.633Z"
   },
   {
    "duration": 355,
    "start_time": "2021-09-30T18:43:14.410Z"
   },
   {
    "duration": 4,
    "start_time": "2021-09-30T18:43:28.184Z"
   },
   {
    "duration": 9746,
    "start_time": "2021-09-30T18:43:29.050Z"
   },
   {
    "duration": 5,
    "start_time": "2021-09-30T18:44:38.198Z"
   },
   {
    "duration": 852,
    "start_time": "2021-09-30T18:44:42.584Z"
   },
   {
    "duration": 5,
    "start_time": "2021-09-30T18:44:59.552Z"
   },
   {
    "duration": 774,
    "start_time": "2021-09-30T18:45:00.320Z"
   },
   {
    "duration": 4,
    "start_time": "2021-09-30T18:47:43.707Z"
   },
   {
    "duration": 688,
    "start_time": "2021-09-30T18:48:08.118Z"
   },
   {
    "duration": 587,
    "start_time": "2021-09-30T18:51:02.677Z"
   },
   {
    "duration": 36,
    "start_time": "2021-09-30T18:51:11.963Z"
   },
   {
    "duration": 559,
    "start_time": "2021-09-30T19:04:21.933Z"
   },
   {
    "duration": 36,
    "start_time": "2021-09-30T19:04:29.638Z"
   },
   {
    "duration": 193,
    "start_time": "2021-09-30T19:07:51.495Z"
   },
   {
    "duration": 229,
    "start_time": "2021-09-30T19:09:59.833Z"
   },
   {
    "duration": 199,
    "start_time": "2021-09-30T19:10:14.002Z"
   },
   {
    "duration": 1378,
    "start_time": "2021-09-30T19:10:27.101Z"
   },
   {
    "duration": 563,
    "start_time": "2021-09-30T19:10:28.481Z"
   },
   {
    "duration": 26,
    "start_time": "2021-09-30T19:10:29.048Z"
   },
   {
    "duration": 37,
    "start_time": "2021-09-30T19:10:29.077Z"
   },
   {
    "duration": 48,
    "start_time": "2021-09-30T19:10:29.116Z"
   },
   {
    "duration": 148,
    "start_time": "2021-09-30T19:10:29.167Z"
   },
   {
    "duration": 18,
    "start_time": "2021-09-30T19:10:29.317Z"
   },
   {
    "duration": 53,
    "start_time": "2021-09-30T19:10:29.338Z"
   },
   {
    "duration": 21,
    "start_time": "2021-09-30T19:10:29.394Z"
   },
   {
    "duration": 127,
    "start_time": "2021-09-30T19:10:29.417Z"
   },
   {
    "duration": 16,
    "start_time": "2021-09-30T19:10:29.546Z"
   },
   {
    "duration": 21,
    "start_time": "2021-09-30T19:10:29.564Z"
   },
   {
    "duration": 82,
    "start_time": "2021-09-30T19:10:29.587Z"
   },
   {
    "duration": 11,
    "start_time": "2021-09-30T19:10:29.672Z"
   },
   {
    "duration": 12,
    "start_time": "2021-09-30T19:10:29.685Z"
   },
   {
    "duration": 21,
    "start_time": "2021-09-30T19:10:29.699Z"
   },
   {
    "duration": 49,
    "start_time": "2021-09-30T19:10:29.722Z"
   },
   {
    "duration": 10,
    "start_time": "2021-09-30T19:10:29.774Z"
   },
   {
    "duration": 20,
    "start_time": "2021-09-30T19:10:29.787Z"
   },
   {
    "duration": 69,
    "start_time": "2021-09-30T19:10:29.810Z"
   },
   {
    "duration": 7,
    "start_time": "2021-09-30T19:10:29.882Z"
   },
   {
    "duration": 49,
    "start_time": "2021-09-30T19:10:29.892Z"
   },
   {
    "duration": 12,
    "start_time": "2021-09-30T19:10:29.947Z"
   },
   {
    "duration": 33,
    "start_time": "2021-09-30T19:10:29.962Z"
   },
   {
    "duration": 9,
    "start_time": "2021-09-30T19:10:29.997Z"
   },
   {
    "duration": 14,
    "start_time": "2021-09-30T19:10:30.008Z"
   },
   {
    "duration": 1490,
    "start_time": "2021-09-30T19:10:30.025Z"
   },
   {
    "duration": 1026,
    "start_time": "2021-09-30T19:10:31.518Z"
   },
   {
    "duration": 943,
    "start_time": "2021-09-30T19:10:32.547Z"
   },
   {
    "duration": 180,
    "start_time": "2021-09-30T19:10:33.493Z"
   },
   {
    "duration": 4,
    "start_time": "2021-09-30T19:10:33.676Z"
   },
   {
    "duration": 28,
    "start_time": "2021-09-30T19:10:33.683Z"
   },
   {
    "duration": 79,
    "start_time": "2021-09-30T19:10:33.713Z"
   },
   {
    "duration": 4,
    "start_time": "2021-09-30T19:10:33.794Z"
   },
   {
    "duration": 20,
    "start_time": "2021-09-30T19:10:33.800Z"
   },
   {
    "duration": 88,
    "start_time": "2021-09-30T19:10:33.822Z"
   },
   {
    "duration": 23,
    "start_time": "2021-09-30T19:10:33.913Z"
   },
   {
    "duration": 57,
    "start_time": "2021-09-30T19:10:33.939Z"
   },
   {
    "duration": 16,
    "start_time": "2021-09-30T19:10:33.999Z"
   },
   {
    "duration": 55,
    "start_time": "2021-09-30T19:10:34.017Z"
   },
   {
    "duration": 32,
    "start_time": "2021-09-30T19:10:34.075Z"
   },
   {
    "duration": 8,
    "start_time": "2021-09-30T19:10:34.110Z"
   },
   {
    "duration": 38,
    "start_time": "2021-09-30T19:10:34.120Z"
   },
   {
    "duration": 9,
    "start_time": "2021-09-30T19:10:34.160Z"
   },
   {
    "duration": 8,
    "start_time": "2021-09-30T19:10:34.172Z"
   },
   {
    "duration": 806,
    "start_time": "2021-09-30T19:10:34.182Z"
   },
   {
    "duration": 296,
    "start_time": "2021-09-30T19:10:34.695Z"
   },
   {
    "duration": 294,
    "start_time": "2021-09-30T19:10:34.699Z"
   },
   {
    "duration": 293,
    "start_time": "2021-09-30T19:10:34.702Z"
   },
   {
    "duration": 289,
    "start_time": "2021-09-30T19:10:34.708Z"
   },
   {
    "duration": 280,
    "start_time": "2021-09-30T19:10:34.719Z"
   },
   {
    "duration": 276,
    "start_time": "2021-09-30T19:10:34.725Z"
   },
   {
    "duration": 275,
    "start_time": "2021-09-30T19:10:34.728Z"
   },
   {
    "duration": 273,
    "start_time": "2021-09-30T19:10:34.732Z"
   },
   {
    "duration": 271,
    "start_time": "2021-09-30T19:10:34.736Z"
   },
   {
    "duration": 267,
    "start_time": "2021-09-30T19:10:34.742Z"
   },
   {
    "duration": 265,
    "start_time": "2021-09-30T19:10:34.746Z"
   },
   {
    "duration": 177,
    "start_time": "2021-09-30T19:10:41.656Z"
   },
   {
    "duration": 816,
    "start_time": "2021-09-30T19:12:07.030Z"
   },
   {
    "duration": 121,
    "start_time": "2021-09-30T19:12:17.579Z"
   },
   {
    "duration": 121,
    "start_time": "2021-09-30T19:12:29.132Z"
   },
   {
    "duration": 4,
    "start_time": "2021-09-30T19:14:45.753Z"
   },
   {
    "duration": 497,
    "start_time": "2021-09-30T19:15:36.360Z"
   },
   {
    "duration": 36,
    "start_time": "2021-09-30T19:15:41.328Z"
   },
   {
    "duration": 5,
    "start_time": "2021-09-30T19:20:45.431Z"
   },
   {
    "duration": 575,
    "start_time": "2021-09-30T19:20:46.654Z"
   },
   {
    "duration": 1491,
    "start_time": "2021-09-30T19:21:02.513Z"
   },
   {
    "duration": 551,
    "start_time": "2021-09-30T19:21:04.007Z"
   },
   {
    "duration": 34,
    "start_time": "2021-09-30T19:21:04.562Z"
   },
   {
    "duration": 39,
    "start_time": "2021-09-30T19:21:04.599Z"
   },
   {
    "duration": 27,
    "start_time": "2021-09-30T19:21:04.658Z"
   },
   {
    "duration": 162,
    "start_time": "2021-09-30T19:21:04.688Z"
   },
   {
    "duration": 17,
    "start_time": "2021-09-30T19:21:04.857Z"
   },
   {
    "duration": 53,
    "start_time": "2021-09-30T19:21:04.878Z"
   },
   {
    "duration": 33,
    "start_time": "2021-09-30T19:21:04.934Z"
   },
   {
    "duration": 127,
    "start_time": "2021-09-30T19:21:04.970Z"
   },
   {
    "duration": 11,
    "start_time": "2021-09-30T19:21:05.100Z"
   },
   {
    "duration": 37,
    "start_time": "2021-09-30T19:21:05.114Z"
   },
   {
    "duration": 58,
    "start_time": "2021-09-30T19:21:05.158Z"
   },
   {
    "duration": 11,
    "start_time": "2021-09-30T19:21:05.218Z"
   },
   {
    "duration": 35,
    "start_time": "2021-09-30T19:21:05.231Z"
   },
   {
    "duration": 78,
    "start_time": "2021-09-30T19:21:05.269Z"
   },
   {
    "duration": 47,
    "start_time": "2021-09-30T19:21:05.350Z"
   },
   {
    "duration": 12,
    "start_time": "2021-09-30T19:21:05.400Z"
   },
   {
    "duration": 31,
    "start_time": "2021-09-30T19:21:05.414Z"
   },
   {
    "duration": 68,
    "start_time": "2021-09-30T19:21:05.449Z"
   },
   {
    "duration": 6,
    "start_time": "2021-09-30T19:21:05.520Z"
   },
   {
    "duration": 62,
    "start_time": "2021-09-30T19:21:05.528Z"
   },
   {
    "duration": 19,
    "start_time": "2021-09-30T19:21:05.597Z"
   },
   {
    "duration": 62,
    "start_time": "2021-09-30T19:21:05.620Z"
   },
   {
    "duration": 17,
    "start_time": "2021-09-30T19:21:05.685Z"
   },
   {
    "duration": 8,
    "start_time": "2021-09-30T19:21:05.705Z"
   },
   {
    "duration": 1311,
    "start_time": "2021-09-30T19:21:05.716Z"
   },
   {
    "duration": 957,
    "start_time": "2021-09-30T19:21:07.030Z"
   },
   {
    "duration": 830,
    "start_time": "2021-09-30T19:21:07.990Z"
   },
   {
    "duration": 148,
    "start_time": "2021-09-30T19:21:08.823Z"
   },
   {
    "duration": 4,
    "start_time": "2021-09-30T19:21:08.974Z"
   },
   {
    "duration": 23,
    "start_time": "2021-09-30T19:21:08.980Z"
   },
   {
    "duration": 88,
    "start_time": "2021-09-30T19:21:09.005Z"
   },
   {
    "duration": 3,
    "start_time": "2021-09-30T19:21:09.096Z"
   },
   {
    "duration": 21,
    "start_time": "2021-09-30T19:21:09.102Z"
   },
   {
    "duration": 74,
    "start_time": "2021-09-30T19:21:09.126Z"
   },
   {
    "duration": 20,
    "start_time": "2021-09-30T19:21:09.203Z"
   },
   {
    "duration": 53,
    "start_time": "2021-09-30T19:21:09.225Z"
   },
   {
    "duration": 13,
    "start_time": "2021-09-30T19:21:09.281Z"
   },
   {
    "duration": 50,
    "start_time": "2021-09-30T19:21:09.297Z"
   },
   {
    "duration": 48,
    "start_time": "2021-09-30T19:21:09.349Z"
   },
   {
    "duration": 9,
    "start_time": "2021-09-30T19:21:09.399Z"
   },
   {
    "duration": 20,
    "start_time": "2021-09-30T19:21:09.410Z"
   },
   {
    "duration": 18,
    "start_time": "2021-09-30T19:21:09.432Z"
   },
   {
    "duration": 6,
    "start_time": "2021-09-30T19:21:09.458Z"
   },
   {
    "duration": 1033,
    "start_time": "2021-09-30T19:21:09.466Z"
   },
   {
    "duration": 69,
    "start_time": "2021-09-30T19:21:10.502Z"
   },
   {
    "duration": 5,
    "start_time": "2021-09-30T19:22:55.215Z"
   },
   {
    "duration": 532,
    "start_time": "2021-09-30T19:22:57.611Z"
   },
   {
    "duration": 35,
    "start_time": "2021-09-30T19:22:58.245Z"
   },
   {
    "duration": 27,
    "start_time": "2021-09-30T19:23:24.133Z"
   },
   {
    "duration": 27,
    "start_time": "2021-09-30T19:23:48.430Z"
   },
   {
    "duration": 165,
    "start_time": "2021-09-30T19:24:31.600Z"
   },
   {
    "duration": 1335,
    "start_time": "2021-09-30T19:25:28.678Z"
   },
   {
    "duration": 542,
    "start_time": "2021-09-30T19:25:30.016Z"
   },
   {
    "duration": 26,
    "start_time": "2021-09-30T19:25:30.561Z"
   },
   {
    "duration": 67,
    "start_time": "2021-09-30T19:25:30.590Z"
   },
   {
    "duration": 30,
    "start_time": "2021-09-30T19:25:30.660Z"
   },
   {
    "duration": 175,
    "start_time": "2021-09-30T19:25:30.693Z"
   },
   {
    "duration": 18,
    "start_time": "2021-09-30T19:25:30.871Z"
   },
   {
    "duration": 64,
    "start_time": "2021-09-30T19:25:30.895Z"
   },
   {
    "duration": 23,
    "start_time": "2021-09-30T19:25:30.963Z"
   },
   {
    "duration": 128,
    "start_time": "2021-09-30T19:25:30.988Z"
   },
   {
    "duration": 11,
    "start_time": "2021-09-30T19:25:31.118Z"
   },
   {
    "duration": 55,
    "start_time": "2021-09-30T19:25:31.131Z"
   },
   {
    "duration": 82,
    "start_time": "2021-09-30T19:25:31.188Z"
   },
   {
    "duration": 12,
    "start_time": "2021-09-30T19:25:31.272Z"
   },
   {
    "duration": 28,
    "start_time": "2021-09-30T19:25:31.287Z"
   },
   {
    "duration": 27,
    "start_time": "2021-09-30T19:25:31.317Z"
   },
   {
    "duration": 39,
    "start_time": "2021-09-30T19:25:31.347Z"
   },
   {
    "duration": 15,
    "start_time": "2021-09-30T19:25:31.388Z"
   },
   {
    "duration": 22,
    "start_time": "2021-09-30T19:25:31.405Z"
   },
   {
    "duration": 55,
    "start_time": "2021-09-30T19:25:31.429Z"
   },
   {
    "duration": 6,
    "start_time": "2021-09-30T19:25:31.486Z"
   },
   {
    "duration": 47,
    "start_time": "2021-09-30T19:25:31.494Z"
   },
   {
    "duration": 11,
    "start_time": "2021-09-30T19:25:31.546Z"
   },
   {
    "duration": 30,
    "start_time": "2021-09-30T19:25:31.560Z"
   },
   {
    "duration": 15,
    "start_time": "2021-09-30T19:25:31.593Z"
   },
   {
    "duration": 35,
    "start_time": "2021-09-30T19:25:31.611Z"
   },
   {
    "duration": 1251,
    "start_time": "2021-09-30T19:25:31.648Z"
   },
   {
    "duration": 952,
    "start_time": "2021-09-30T19:25:32.901Z"
   },
   {
    "duration": 793,
    "start_time": "2021-09-30T19:25:33.858Z"
   },
   {
    "duration": 147,
    "start_time": "2021-09-30T19:25:34.653Z"
   },
   {
    "duration": 5,
    "start_time": "2021-09-30T19:25:34.803Z"
   },
   {
    "duration": 25,
    "start_time": "2021-09-30T19:25:34.811Z"
   },
   {
    "duration": 74,
    "start_time": "2021-09-30T19:25:34.838Z"
   },
   {
    "duration": 3,
    "start_time": "2021-09-30T19:25:34.915Z"
   },
   {
    "duration": 28,
    "start_time": "2021-09-30T19:25:34.921Z"
   },
   {
    "duration": 59,
    "start_time": "2021-09-30T19:25:34.958Z"
   },
   {
    "duration": 39,
    "start_time": "2021-09-30T19:25:35.019Z"
   },
   {
    "duration": 33,
    "start_time": "2021-09-30T19:25:35.061Z"
   },
   {
    "duration": 15,
    "start_time": "2021-09-30T19:25:35.097Z"
   },
   {
    "duration": 61,
    "start_time": "2021-09-30T19:25:35.114Z"
   },
   {
    "duration": 36,
    "start_time": "2021-09-30T19:25:35.178Z"
   },
   {
    "duration": 9,
    "start_time": "2021-09-30T19:25:35.216Z"
   },
   {
    "duration": 32,
    "start_time": "2021-09-30T19:25:35.228Z"
   },
   {
    "duration": 16,
    "start_time": "2021-09-30T19:25:35.263Z"
   },
   {
    "duration": 5,
    "start_time": "2021-09-30T19:25:35.282Z"
   },
   {
    "duration": 543,
    "start_time": "2021-09-30T19:25:35.289Z"
   },
   {
    "duration": 37,
    "start_time": "2021-09-30T19:25:35.834Z"
   },
   {
    "duration": 27,
    "start_time": "2021-09-30T19:25:56.137Z"
   },
   {
    "duration": 32,
    "start_time": "2021-09-30T19:26:28.558Z"
   },
   {
    "duration": 30,
    "start_time": "2021-09-30T19:27:00.559Z"
   },
   {
    "duration": 1857,
    "start_time": "2021-09-30T19:27:20.477Z"
   },
   {
    "duration": 155,
    "start_time": "2021-09-30T19:27:47.547Z"
   },
   {
    "duration": 2029,
    "start_time": "2021-09-30T19:28:04.116Z"
   },
   {
    "duration": 34,
    "start_time": "2021-09-30T19:28:24.343Z"
   },
   {
    "duration": 34,
    "start_time": "2021-09-30T19:28:41.904Z"
   },
   {
    "duration": 1669,
    "start_time": "2021-09-30T19:28:50.944Z"
   },
   {
    "duration": 25,
    "start_time": "2021-09-30T19:28:59.947Z"
   },
   {
    "duration": 27,
    "start_time": "2021-09-30T19:29:13.902Z"
   },
   {
    "duration": 1320,
    "start_time": "2021-09-30T19:32:48.798Z"
   },
   {
    "duration": 550,
    "start_time": "2021-09-30T19:32:50.121Z"
   },
   {
    "duration": 25,
    "start_time": "2021-09-30T19:32:50.677Z"
   },
   {
    "duration": 54,
    "start_time": "2021-09-30T19:32:50.705Z"
   },
   {
    "duration": 27,
    "start_time": "2021-09-30T19:32:50.762Z"
   },
   {
    "duration": 162,
    "start_time": "2021-09-30T19:32:50.792Z"
   },
   {
    "duration": 18,
    "start_time": "2021-09-30T19:32:50.960Z"
   },
   {
    "duration": 35,
    "start_time": "2021-09-30T19:32:50.981Z"
   },
   {
    "duration": 50,
    "start_time": "2021-09-30T19:32:51.019Z"
   },
   {
    "duration": 117,
    "start_time": "2021-09-30T19:32:51.071Z"
   },
   {
    "duration": 11,
    "start_time": "2021-09-30T19:32:51.190Z"
   },
   {
    "duration": 34,
    "start_time": "2021-09-30T19:32:51.203Z"
   },
   {
    "duration": 77,
    "start_time": "2021-09-30T19:32:51.239Z"
   },
   {
    "duration": 11,
    "start_time": "2021-09-30T19:32:51.318Z"
   },
   {
    "duration": 32,
    "start_time": "2021-09-30T19:32:51.331Z"
   },
   {
    "duration": 18,
    "start_time": "2021-09-30T19:32:51.365Z"
   },
   {
    "duration": 23,
    "start_time": "2021-09-30T19:32:51.385Z"
   },
   {
    "duration": 8,
    "start_time": "2021-09-30T19:32:51.410Z"
   },
   {
    "duration": 45,
    "start_time": "2021-09-30T19:32:51.420Z"
   },
   {
    "duration": 40,
    "start_time": "2021-09-30T19:32:51.468Z"
   },
   {
    "duration": 6,
    "start_time": "2021-09-30T19:32:51.511Z"
   },
   {
    "duration": 55,
    "start_time": "2021-09-30T19:32:51.522Z"
   },
   {
    "duration": 7,
    "start_time": "2021-09-30T19:32:51.580Z"
   },
   {
    "duration": 28,
    "start_time": "2021-09-30T19:32:51.590Z"
   },
   {
    "duration": 8,
    "start_time": "2021-09-30T19:32:51.621Z"
   },
   {
    "duration": 28,
    "start_time": "2021-09-30T19:32:51.631Z"
   },
   {
    "duration": 1369,
    "start_time": "2021-09-30T19:32:51.662Z"
   },
   {
    "duration": 1001,
    "start_time": "2021-09-30T19:32:53.033Z"
   },
   {
    "duration": 827,
    "start_time": "2021-09-30T19:32:54.036Z"
   },
   {
    "duration": 134,
    "start_time": "2021-09-30T19:32:54.865Z"
   },
   {
    "duration": 4,
    "start_time": "2021-09-30T19:32:55.001Z"
   },
   {
    "duration": 22,
    "start_time": "2021-09-30T19:32:55.007Z"
   },
   {
    "duration": 70,
    "start_time": "2021-09-30T19:32:55.031Z"
   },
   {
    "duration": 4,
    "start_time": "2021-09-30T19:32:55.103Z"
   },
   {
    "duration": 29,
    "start_time": "2021-09-30T19:32:55.109Z"
   },
   {
    "duration": 79,
    "start_time": "2021-09-30T19:32:55.140Z"
   },
   {
    "duration": 16,
    "start_time": "2021-09-30T19:32:55.222Z"
   },
   {
    "duration": 38,
    "start_time": "2021-09-30T19:32:55.240Z"
   },
   {
    "duration": 13,
    "start_time": "2021-09-30T19:32:55.280Z"
   },
   {
    "duration": 41,
    "start_time": "2021-09-30T19:32:55.296Z"
   },
   {
    "duration": 52,
    "start_time": "2021-09-30T19:32:55.339Z"
   },
   {
    "duration": 8,
    "start_time": "2021-09-30T19:32:55.394Z"
   },
   {
    "duration": 13,
    "start_time": "2021-09-30T19:32:55.404Z"
   },
   {
    "duration": 20,
    "start_time": "2021-09-30T19:32:55.419Z"
   },
   {
    "duration": 5,
    "start_time": "2021-09-30T19:32:55.457Z"
   },
   {
    "duration": 16,
    "start_time": "2021-09-30T19:32:55.464Z"
   },
   {
    "duration": 529,
    "start_time": "2021-09-30T19:32:55.483Z"
   },
   {
    "duration": 23,
    "start_time": "2021-09-30T19:32:56.014Z"
   },
   {
    "duration": 5,
    "start_time": "2021-09-30T19:33:20.570Z"
   },
   {
    "duration": 12073,
    "start_time": "2021-09-30T19:34:31.139Z"
   },
   {
    "duration": 1464,
    "start_time": "2021-09-30T19:35:13.352Z"
   },
   {
    "duration": 548,
    "start_time": "2021-09-30T19:35:14.819Z"
   },
   {
    "duration": 25,
    "start_time": "2021-09-30T19:35:15.375Z"
   },
   {
    "duration": 67,
    "start_time": "2021-09-30T19:35:15.403Z"
   },
   {
    "duration": 26,
    "start_time": "2021-09-30T19:35:15.473Z"
   },
   {
    "duration": 162,
    "start_time": "2021-09-30T19:35:15.502Z"
   },
   {
    "duration": 17,
    "start_time": "2021-09-30T19:35:15.668Z"
   },
   {
    "duration": 42,
    "start_time": "2021-09-30T19:35:15.688Z"
   },
   {
    "duration": 45,
    "start_time": "2021-09-30T19:35:15.732Z"
   },
   {
    "duration": 115,
    "start_time": "2021-09-30T19:35:15.779Z"
   },
   {
    "duration": 11,
    "start_time": "2021-09-30T19:35:15.896Z"
   },
   {
    "duration": 20,
    "start_time": "2021-09-30T19:35:15.909Z"
   },
   {
    "duration": 76,
    "start_time": "2021-09-30T19:35:15.932Z"
   },
   {
    "duration": 11,
    "start_time": "2021-09-30T19:35:16.011Z"
   },
   {
    "duration": 38,
    "start_time": "2021-09-30T19:35:16.024Z"
   },
   {
    "duration": 20,
    "start_time": "2021-09-30T19:35:16.065Z"
   },
   {
    "duration": 27,
    "start_time": "2021-09-30T19:35:16.088Z"
   },
   {
    "duration": 8,
    "start_time": "2021-09-30T19:35:16.118Z"
   },
   {
    "duration": 31,
    "start_time": "2021-09-30T19:35:16.128Z"
   },
   {
    "duration": 54,
    "start_time": "2021-09-30T19:35:16.162Z"
   },
   {
    "duration": 6,
    "start_time": "2021-09-30T19:35:16.219Z"
   },
   {
    "duration": 43,
    "start_time": "2021-09-30T19:35:16.231Z"
   },
   {
    "duration": 6,
    "start_time": "2021-09-30T19:35:16.276Z"
   },
   {
    "duration": 25,
    "start_time": "2021-09-30T19:35:16.284Z"
   },
   {
    "duration": 8,
    "start_time": "2021-09-30T19:35:16.311Z"
   },
   {
    "duration": 39,
    "start_time": "2021-09-30T19:35:16.321Z"
   },
   {
    "duration": 1325,
    "start_time": "2021-09-30T19:35:16.362Z"
   },
   {
    "duration": 996,
    "start_time": "2021-09-30T19:35:17.690Z"
   },
   {
    "duration": 807,
    "start_time": "2021-09-30T19:35:18.688Z"
   },
   {
    "duration": 137,
    "start_time": "2021-09-30T19:35:19.497Z"
   },
   {
    "duration": 3,
    "start_time": "2021-09-30T19:35:19.636Z"
   },
   {
    "duration": 29,
    "start_time": "2021-09-30T19:35:19.642Z"
   },
   {
    "duration": 54,
    "start_time": "2021-09-30T19:35:19.674Z"
   },
   {
    "duration": 3,
    "start_time": "2021-09-30T19:35:19.731Z"
   },
   {
    "duration": 35,
    "start_time": "2021-09-30T19:35:19.737Z"
   },
   {
    "duration": 57,
    "start_time": "2021-09-30T19:35:19.774Z"
   },
   {
    "duration": 38,
    "start_time": "2021-09-30T19:35:19.834Z"
   },
   {
    "duration": 40,
    "start_time": "2021-09-30T19:35:19.874Z"
   },
   {
    "duration": 14,
    "start_time": "2021-09-30T19:35:19.917Z"
   },
   {
    "duration": 51,
    "start_time": "2021-09-30T19:35:19.933Z"
   },
   {
    "duration": 34,
    "start_time": "2021-09-30T19:35:19.987Z"
   },
   {
    "duration": 37,
    "start_time": "2021-09-30T19:35:20.023Z"
   },
   {
    "duration": 13,
    "start_time": "2021-09-30T19:35:20.062Z"
   },
   {
    "duration": 20,
    "start_time": "2021-09-30T19:35:20.077Z"
   },
   {
    "duration": 9,
    "start_time": "2021-09-30T19:35:20.099Z"
   },
   {
    "duration": 23,
    "start_time": "2021-09-30T19:35:20.110Z"
   },
   {
    "duration": 666,
    "start_time": "2021-09-30T19:35:20.135Z"
   },
   {
    "duration": 11981,
    "start_time": "2021-09-30T19:35:20.804Z"
   },
   {
    "duration": 5,
    "start_time": "2021-09-30T19:37:12.509Z"
   },
   {
    "duration": 302,
    "start_time": "2021-09-30T19:37:29.692Z"
   },
   {
    "duration": 412,
    "start_time": "2021-09-30T19:37:42.748Z"
   },
   {
    "duration": 1408,
    "start_time": "2021-09-30T19:37:49.914Z"
   },
   {
    "duration": 733,
    "start_time": "2021-09-30T19:37:51.324Z"
   },
   {
    "duration": 32,
    "start_time": "2021-09-30T19:37:52.061Z"
   },
   {
    "duration": 77,
    "start_time": "2021-09-30T19:37:52.096Z"
   },
   {
    "duration": 29,
    "start_time": "2021-09-30T19:37:52.176Z"
   },
   {
    "duration": 177,
    "start_time": "2021-09-30T19:37:52.208Z"
   },
   {
    "duration": 18,
    "start_time": "2021-09-30T19:37:52.387Z"
   },
   {
    "duration": 64,
    "start_time": "2021-09-30T19:37:52.409Z"
   },
   {
    "duration": 23,
    "start_time": "2021-09-30T19:37:52.477Z"
   },
   {
    "duration": 135,
    "start_time": "2021-09-30T19:37:52.503Z"
   },
   {
    "duration": 19,
    "start_time": "2021-09-30T19:37:52.640Z"
   },
   {
    "duration": 25,
    "start_time": "2021-09-30T19:37:52.661Z"
   },
   {
    "duration": 89,
    "start_time": "2021-09-30T19:37:52.689Z"
   },
   {
    "duration": 13,
    "start_time": "2021-09-30T19:37:52.781Z"
   },
   {
    "duration": 9,
    "start_time": "2021-09-30T19:37:52.797Z"
   },
   {
    "duration": 53,
    "start_time": "2021-09-30T19:37:52.809Z"
   },
   {
    "duration": 33,
    "start_time": "2021-09-30T19:37:52.865Z"
   },
   {
    "duration": 10,
    "start_time": "2021-09-30T19:37:52.900Z"
   },
   {
    "duration": 13,
    "start_time": "2021-09-30T19:37:52.913Z"
   },
   {
    "duration": 63,
    "start_time": "2021-09-30T19:37:52.929Z"
   },
   {
    "duration": 5,
    "start_time": "2021-09-30T19:37:52.995Z"
   },
   {
    "duration": 55,
    "start_time": "2021-09-30T19:37:53.003Z"
   },
   {
    "duration": 7,
    "start_time": "2021-09-30T19:37:53.063Z"
   },
   {
    "duration": 34,
    "start_time": "2021-09-30T19:37:53.073Z"
   },
   {
    "duration": 9,
    "start_time": "2021-09-30T19:37:53.110Z"
   },
   {
    "duration": 15,
    "start_time": "2021-09-30T19:37:53.121Z"
   },
   {
    "duration": 2193,
    "start_time": "2021-09-30T19:37:53.138Z"
   },
   {
    "duration": 1036,
    "start_time": "2021-09-30T19:37:55.333Z"
   },
   {
    "duration": 830,
    "start_time": "2021-09-30T19:37:56.372Z"
   },
   {
    "duration": 141,
    "start_time": "2021-09-30T19:37:57.204Z"
   },
   {
    "duration": 3,
    "start_time": "2021-09-30T19:37:57.348Z"
   },
   {
    "duration": 23,
    "start_time": "2021-09-30T19:37:57.357Z"
   },
   {
    "duration": 77,
    "start_time": "2021-09-30T19:37:57.383Z"
   },
   {
    "duration": 4,
    "start_time": "2021-09-30T19:37:57.462Z"
   },
   {
    "duration": 29,
    "start_time": "2021-09-30T19:37:57.468Z"
   },
   {
    "duration": 82,
    "start_time": "2021-09-30T19:37:57.500Z"
   },
   {
    "duration": 23,
    "start_time": "2021-09-30T19:37:57.586Z"
   },
   {
    "duration": 55,
    "start_time": "2021-09-30T19:37:57.611Z"
   },
   {
    "duration": 12,
    "start_time": "2021-09-30T19:37:57.669Z"
   },
   {
    "duration": 35,
    "start_time": "2021-09-30T19:37:57.684Z"
   },
   {
    "duration": 60,
    "start_time": "2021-09-30T19:37:57.722Z"
   },
   {
    "duration": 8,
    "start_time": "2021-09-30T19:37:57.785Z"
   },
   {
    "duration": 16,
    "start_time": "2021-09-30T19:37:57.795Z"
   },
   {
    "duration": 20,
    "start_time": "2021-09-30T19:37:57.814Z"
   },
   {
    "duration": 24,
    "start_time": "2021-09-30T19:37:57.836Z"
   },
   {
    "duration": 17,
    "start_time": "2021-09-30T19:37:57.863Z"
   },
   {
    "duration": 570,
    "start_time": "2021-09-30T19:37:57.884Z"
   },
   {
    "duration": 548,
    "start_time": "2021-09-30T19:37:58.458Z"
   },
   {
    "duration": 51,
    "start_time": "2021-09-30T19:37:59.008Z"
   },
   {
    "duration": 516,
    "start_time": "2021-09-30T19:38:33.014Z"
   },
   {
    "duration": 26,
    "start_time": "2021-09-30T19:38:42.821Z"
   },
   {
    "duration": 35,
    "start_time": "2021-09-30T19:40:55.498Z"
   },
   {
    "duration": 23,
    "start_time": "2021-09-30T19:41:43.119Z"
   },
   {
    "duration": 22,
    "start_time": "2021-09-30T19:41:54.598Z"
   },
   {
    "duration": 5,
    "start_time": "2021-09-30T19:53:48.741Z"
   },
   {
    "duration": 542,
    "start_time": "2021-09-30T19:54:16.036Z"
   },
   {
    "duration": 37,
    "start_time": "2021-09-30T19:54:24.510Z"
   },
   {
    "duration": 5,
    "start_time": "2021-09-30T19:55:54.490Z"
   },
   {
    "duration": 864,
    "start_time": "2021-09-30T19:56:03.586Z"
   },
   {
    "duration": 1571,
    "start_time": "2021-09-30T19:56:51.535Z"
   },
   {
    "duration": 528,
    "start_time": "2021-09-30T19:56:53.109Z"
   },
   {
    "duration": 24,
    "start_time": "2021-09-30T19:56:53.642Z"
   },
   {
    "duration": 39,
    "start_time": "2021-09-30T19:56:53.668Z"
   },
   {
    "duration": 51,
    "start_time": "2021-09-30T19:56:53.710Z"
   },
   {
    "duration": 152,
    "start_time": "2021-09-30T19:56:53.764Z"
   },
   {
    "duration": 16,
    "start_time": "2021-09-30T19:56:53.921Z"
   },
   {
    "duration": 36,
    "start_time": "2021-09-30T19:56:53.959Z"
   },
   {
    "duration": 22,
    "start_time": "2021-09-30T19:56:53.997Z"
   },
   {
    "duration": 144,
    "start_time": "2021-09-30T19:56:54.022Z"
   },
   {
    "duration": 11,
    "start_time": "2021-09-30T19:56:54.169Z"
   },
   {
    "duration": 24,
    "start_time": "2021-09-30T19:56:54.182Z"
   },
   {
    "duration": 95,
    "start_time": "2021-09-30T19:56:54.209Z"
   },
   {
    "duration": 12,
    "start_time": "2021-09-30T19:56:54.307Z"
   },
   {
    "duration": 39,
    "start_time": "2021-09-30T19:56:54.322Z"
   },
   {
    "duration": 21,
    "start_time": "2021-09-30T19:56:54.363Z"
   },
   {
    "duration": 26,
    "start_time": "2021-09-30T19:56:54.387Z"
   },
   {
    "duration": 42,
    "start_time": "2021-09-30T19:56:54.416Z"
   },
   {
    "duration": 9,
    "start_time": "2021-09-30T19:56:54.461Z"
   },
   {
    "duration": 39,
    "start_time": "2021-09-30T19:56:54.473Z"
   },
   {
    "duration": 45,
    "start_time": "2021-09-30T19:56:54.515Z"
   },
   {
    "duration": 30,
    "start_time": "2021-09-30T19:56:54.566Z"
   },
   {
    "duration": 6,
    "start_time": "2021-09-30T19:56:54.599Z"
   },
   {
    "duration": 59,
    "start_time": "2021-09-30T19:56:54.607Z"
   },
   {
    "duration": 8,
    "start_time": "2021-09-30T19:56:54.669Z"
   },
   {
    "duration": 11,
    "start_time": "2021-09-30T19:56:54.679Z"
   },
   {
    "duration": 1496,
    "start_time": "2021-09-30T19:56:54.692Z"
   },
   {
    "duration": 1028,
    "start_time": "2021-09-30T19:56:56.191Z"
   },
   {
    "duration": 886,
    "start_time": "2021-09-30T19:56:57.221Z"
   },
   {
    "duration": 134,
    "start_time": "2021-09-30T19:56:58.109Z"
   },
   {
    "duration": 11,
    "start_time": "2021-09-30T19:56:58.246Z"
   },
   {
    "duration": 20,
    "start_time": "2021-09-30T19:56:58.260Z"
   },
   {
    "duration": 78,
    "start_time": "2021-09-30T19:56:58.283Z"
   },
   {
    "duration": 4,
    "start_time": "2021-09-30T19:56:58.363Z"
   },
   {
    "duration": 32,
    "start_time": "2021-09-30T19:56:58.369Z"
   },
   {
    "duration": 68,
    "start_time": "2021-09-30T19:56:58.403Z"
   },
   {
    "duration": 18,
    "start_time": "2021-09-30T19:56:58.473Z"
   },
   {
    "duration": 48,
    "start_time": "2021-09-30T19:56:58.494Z"
   },
   {
    "duration": 12,
    "start_time": "2021-09-30T19:56:58.557Z"
   },
   {
    "duration": 33,
    "start_time": "2021-09-30T19:56:58.571Z"
   },
   {
    "duration": 64,
    "start_time": "2021-09-30T19:56:58.607Z"
   },
   {
    "duration": 9,
    "start_time": "2021-09-30T19:56:58.673Z"
   },
   {
    "duration": 17,
    "start_time": "2021-09-30T19:56:58.684Z"
   },
   {
    "duration": 18,
    "start_time": "2021-09-30T19:56:58.703Z"
   },
   {
    "duration": 34,
    "start_time": "2021-09-30T19:56:58.724Z"
   },
   {
    "duration": 11,
    "start_time": "2021-09-30T19:56:58.760Z"
   },
   {
    "duration": 13,
    "start_time": "2021-09-30T19:56:58.773Z"
   },
   {
    "duration": 553,
    "start_time": "2021-09-30T19:56:58.788Z"
   },
   {
    "duration": 541,
    "start_time": "2021-09-30T19:56:59.343Z"
   },
   {
    "duration": 881,
    "start_time": "2021-09-30T19:56:59.886Z"
   },
   {
    "duration": 153,
    "start_time": "2021-09-30T19:57:00.616Z"
   },
   {
    "duration": 6,
    "start_time": "2021-09-30T19:57:55.158Z"
   },
   {
    "duration": 789,
    "start_time": "2021-09-30T19:57:58.432Z"
   },
   {
    "duration": 6,
    "start_time": "2021-09-30T19:58:29.170Z"
   },
   {
    "duration": 710,
    "start_time": "2021-09-30T19:58:31.789Z"
   },
   {
    "duration": 1338,
    "start_time": "2021-09-30T19:59:50.770Z"
   },
   {
    "duration": 554,
    "start_time": "2021-09-30T19:59:52.110Z"
   },
   {
    "duration": 24,
    "start_time": "2021-09-30T19:59:52.667Z"
   },
   {
    "duration": 37,
    "start_time": "2021-09-30T19:59:52.694Z"
   },
   {
    "duration": 28,
    "start_time": "2021-09-30T19:59:52.759Z"
   },
   {
    "duration": 173,
    "start_time": "2021-09-30T19:59:52.790Z"
   },
   {
    "duration": 17,
    "start_time": "2021-09-30T19:59:52.965Z"
   },
   {
    "duration": 39,
    "start_time": "2021-09-30T19:59:52.985Z"
   },
   {
    "duration": 50,
    "start_time": "2021-09-30T19:59:53.028Z"
   },
   {
    "duration": 129,
    "start_time": "2021-09-30T19:59:53.082Z"
   },
   {
    "duration": 10,
    "start_time": "2021-09-30T19:59:53.214Z"
   },
   {
    "duration": 50,
    "start_time": "2021-09-30T19:59:53.226Z"
   },
   {
    "duration": 60,
    "start_time": "2021-09-30T19:59:53.279Z"
   },
   {
    "duration": 11,
    "start_time": "2021-09-30T19:59:53.357Z"
   },
   {
    "duration": 13,
    "start_time": "2021-09-30T19:59:53.371Z"
   },
   {
    "duration": 19,
    "start_time": "2021-09-30T19:59:53.387Z"
   },
   {
    "duration": 61,
    "start_time": "2021-09-30T19:59:53.409Z"
   },
   {
    "duration": 9,
    "start_time": "2021-09-30T19:59:53.473Z"
   },
   {
    "duration": 17,
    "start_time": "2021-09-30T19:59:53.484Z"
   },
   {
    "duration": 68,
    "start_time": "2021-09-30T19:59:53.503Z"
   },
   {
    "duration": 20,
    "start_time": "2021-09-30T19:59:53.574Z"
   },
   {
    "duration": 16,
    "start_time": "2021-09-30T19:59:53.596Z"
   },
   {
    "duration": 50,
    "start_time": "2021-09-30T19:59:53.614Z"
   },
   {
    "duration": 32,
    "start_time": "2021-09-30T19:59:53.666Z"
   },
   {
    "duration": 6,
    "start_time": "2021-09-30T19:59:53.700Z"
   },
   {
    "duration": 54,
    "start_time": "2021-09-30T19:59:53.708Z"
   },
   {
    "duration": 11,
    "start_time": "2021-09-30T19:59:53.771Z"
   },
   {
    "duration": 11,
    "start_time": "2021-09-30T19:59:53.786Z"
   },
   {
    "duration": 1687,
    "start_time": "2021-09-30T19:59:53.799Z"
   },
   {
    "duration": 1180,
    "start_time": "2021-09-30T19:59:55.488Z"
   },
   {
    "duration": 847,
    "start_time": "2021-09-30T19:59:56.671Z"
   },
   {
    "duration": 148,
    "start_time": "2021-09-30T19:59:57.520Z"
   },
   {
    "duration": 3,
    "start_time": "2021-09-30T19:59:57.670Z"
   },
   {
    "duration": 45,
    "start_time": "2021-09-30T19:59:57.676Z"
   },
   {
    "duration": 72,
    "start_time": "2021-09-30T19:59:57.723Z"
   },
   {
    "duration": 3,
    "start_time": "2021-09-30T19:59:57.797Z"
   },
   {
    "duration": 36,
    "start_time": "2021-09-30T19:59:57.802Z"
   },
   {
    "duration": 80,
    "start_time": "2021-09-30T19:59:57.841Z"
   },
   {
    "duration": 17,
    "start_time": "2021-09-30T19:59:57.923Z"
   },
   {
    "duration": 45,
    "start_time": "2021-09-30T19:59:57.942Z"
   },
   {
    "duration": 13,
    "start_time": "2021-09-30T19:59:57.989Z"
   },
   {
    "duration": 79,
    "start_time": "2021-09-30T19:59:58.005Z"
   },
   {
    "duration": 32,
    "start_time": "2021-09-30T19:59:58.086Z"
   },
   {
    "duration": 9,
    "start_time": "2021-09-30T19:59:58.120Z"
   },
   {
    "duration": 35,
    "start_time": "2021-09-30T19:59:58.131Z"
   },
   {
    "duration": 18,
    "start_time": "2021-09-30T19:59:58.169Z"
   },
   {
    "duration": 15,
    "start_time": "2021-09-30T19:59:58.190Z"
   },
   {
    "duration": 8,
    "start_time": "2021-09-30T19:59:58.207Z"
   },
   {
    "duration": 46,
    "start_time": "2021-09-30T19:59:58.217Z"
   },
   {
    "duration": 535,
    "start_time": "2021-09-30T19:59:58.265Z"
   },
   {
    "duration": 641,
    "start_time": "2021-09-30T19:59:58.803Z"
   },
   {
    "duration": 863,
    "start_time": "2021-09-30T19:59:59.447Z"
   },
   {
    "duration": 172,
    "start_time": "2021-09-30T20:00:00.141Z"
   },
   {
    "duration": 28,
    "start_time": "2021-09-30T20:00:40.726Z"
   },
   {
    "duration": 13,
    "start_time": "2021-09-30T20:00:57.410Z"
   },
   {
    "duration": 5,
    "start_time": "2021-09-30T20:02:33.532Z"
   },
   {
    "duration": 533,
    "start_time": "2021-09-30T20:02:37.516Z"
   },
   {
    "duration": 38,
    "start_time": "2021-09-30T20:02:42.906Z"
   },
   {
    "duration": 6,
    "start_time": "2021-09-30T20:03:18.500Z"
   },
   {
    "duration": 1338,
    "start_time": "2021-09-30T20:03:24.672Z"
   },
   {
    "duration": 532,
    "start_time": "2021-09-30T20:03:26.013Z"
   },
   {
    "duration": 22,
    "start_time": "2021-09-30T20:03:26.548Z"
   },
   {
    "duration": 38,
    "start_time": "2021-09-30T20:03:26.573Z"
   },
   {
    "duration": 57,
    "start_time": "2021-09-30T20:03:26.613Z"
   },
   {
    "duration": 138,
    "start_time": "2021-09-30T20:03:26.675Z"
   },
   {
    "duration": 19,
    "start_time": "2021-09-30T20:03:26.816Z"
   },
   {
    "duration": 54,
    "start_time": "2021-09-30T20:03:26.838Z"
   },
   {
    "duration": 21,
    "start_time": "2021-09-30T20:03:26.895Z"
   },
   {
    "duration": 130,
    "start_time": "2021-09-30T20:03:26.919Z"
   },
   {
    "duration": 19,
    "start_time": "2021-09-30T20:03:27.051Z"
   },
   {
    "duration": 32,
    "start_time": "2021-09-30T20:03:27.072Z"
   },
   {
    "duration": 83,
    "start_time": "2021-09-30T20:03:27.107Z"
   },
   {
    "duration": 11,
    "start_time": "2021-09-30T20:03:27.193Z"
   },
   {
    "duration": 11,
    "start_time": "2021-09-30T20:03:27.206Z"
   },
   {
    "duration": 41,
    "start_time": "2021-09-30T20:03:27.219Z"
   },
   {
    "duration": 32,
    "start_time": "2021-09-30T20:03:27.262Z"
   },
   {
    "duration": 9,
    "start_time": "2021-09-30T20:03:27.300Z"
   },
   {
    "duration": 10,
    "start_time": "2021-09-30T20:03:27.313Z"
   },
   {
    "duration": 69,
    "start_time": "2021-09-30T20:03:27.326Z"
   },
   {
    "duration": 6,
    "start_time": "2021-09-30T20:03:27.398Z"
   },
   {
    "duration": 32,
    "start_time": "2021-09-30T20:03:27.406Z"
   },
   {
    "duration": 7,
    "start_time": "2021-09-30T20:03:27.457Z"
   },
   {
    "duration": 37,
    "start_time": "2021-09-30T20:03:27.467Z"
   },
   {
    "duration": 19,
    "start_time": "2021-09-30T20:03:27.507Z"
   },
   {
    "duration": 29,
    "start_time": "2021-09-30T20:03:27.529Z"
   },
   {
    "duration": 1379,
    "start_time": "2021-09-30T20:03:27.561Z"
   },
   {
    "duration": 935,
    "start_time": "2021-09-30T20:03:28.942Z"
   },
   {
    "duration": 802,
    "start_time": "2021-09-30T20:03:29.880Z"
   },
   {
    "duration": 143,
    "start_time": "2021-09-30T20:03:30.685Z"
   },
   {
    "duration": 3,
    "start_time": "2021-09-30T20:03:30.831Z"
   },
   {
    "duration": 82,
    "start_time": "2021-09-30T20:03:30.837Z"
   },
   {
    "duration": 103,
    "start_time": "2021-09-30T20:03:30.923Z"
   },
   {
    "duration": 8,
    "start_time": "2021-09-30T20:03:31.029Z"
   },
   {
    "duration": 75,
    "start_time": "2021-09-30T20:03:31.041Z"
   },
   {
    "duration": 106,
    "start_time": "2021-09-30T20:03:31.119Z"
   },
   {
    "duration": 39,
    "start_time": "2021-09-30T20:03:31.229Z"
   },
   {
    "duration": 78,
    "start_time": "2021-09-30T20:03:31.275Z"
   },
   {
    "duration": 18,
    "start_time": "2021-09-30T20:03:31.356Z"
   },
   {
    "duration": 46,
    "start_time": "2021-09-30T20:03:31.376Z"
   },
   {
    "duration": 35,
    "start_time": "2021-09-30T20:03:31.425Z"
   },
   {
    "duration": 11,
    "start_time": "2021-09-30T20:03:31.463Z"
   },
   {
    "duration": 36,
    "start_time": "2021-09-30T20:03:31.476Z"
   },
   {
    "duration": 38,
    "start_time": "2021-09-30T20:03:31.514Z"
   },
   {
    "duration": 31,
    "start_time": "2021-09-30T20:03:31.555Z"
   },
   {
    "duration": 26,
    "start_time": "2021-09-30T20:03:31.588Z"
   },
   {
    "duration": 33,
    "start_time": "2021-09-30T20:03:31.617Z"
   },
   {
    "duration": 548,
    "start_time": "2021-09-30T20:03:31.652Z"
   },
   {
    "duration": 527,
    "start_time": "2021-09-30T20:03:32.203Z"
   },
   {
    "duration": 549,
    "start_time": "2021-09-30T20:03:32.732Z"
   },
   {
    "duration": 36,
    "start_time": "2021-09-30T20:03:33.284Z"
   },
   {
    "duration": 11,
    "start_time": "2021-09-30T20:03:33.323Z"
   },
   {
    "duration": 5,
    "start_time": "2021-09-30T20:04:26.593Z"
   },
   {
    "duration": 36,
    "start_time": "2021-09-30T20:04:35.179Z"
   },
   {
    "duration": 133,
    "start_time": "2021-09-30T20:17:58.098Z"
   },
   {
    "duration": 145,
    "start_time": "2021-09-30T20:18:14.770Z"
   },
   {
    "duration": 1493,
    "start_time": "2021-09-30T20:18:55.827Z"
   },
   {
    "duration": 643,
    "start_time": "2021-09-30T20:18:57.323Z"
   },
   {
    "duration": 29,
    "start_time": "2021-09-30T20:18:57.970Z"
   },
   {
    "duration": 55,
    "start_time": "2021-09-30T20:18:58.002Z"
   },
   {
    "duration": 26,
    "start_time": "2021-09-30T20:18:58.060Z"
   },
   {
    "duration": 161,
    "start_time": "2021-09-30T20:18:58.089Z"
   },
   {
    "duration": 19,
    "start_time": "2021-09-30T20:18:58.253Z"
   },
   {
    "duration": 37,
    "start_time": "2021-09-30T20:18:58.276Z"
   },
   {
    "duration": 59,
    "start_time": "2021-09-30T20:18:58.317Z"
   },
   {
    "duration": 122,
    "start_time": "2021-09-30T20:18:58.379Z"
   },
   {
    "duration": 10,
    "start_time": "2021-09-30T20:18:58.504Z"
   },
   {
    "duration": 46,
    "start_time": "2021-09-30T20:18:58.516Z"
   },
   {
    "duration": 59,
    "start_time": "2021-09-30T20:18:58.565Z"
   },
   {
    "duration": 33,
    "start_time": "2021-09-30T20:18:58.626Z"
   },
   {
    "duration": 13,
    "start_time": "2021-09-30T20:18:58.661Z"
   },
   {
    "duration": 17,
    "start_time": "2021-09-30T20:18:58.677Z"
   },
   {
    "duration": 20,
    "start_time": "2021-09-30T20:18:58.697Z"
   },
   {
    "duration": 9,
    "start_time": "2021-09-30T20:18:58.758Z"
   },
   {
    "duration": 12,
    "start_time": "2021-09-30T20:18:58.770Z"
   },
   {
    "duration": 92,
    "start_time": "2021-09-30T20:18:58.785Z"
   },
   {
    "duration": 6,
    "start_time": "2021-09-30T20:18:58.879Z"
   },
   {
    "duration": 31,
    "start_time": "2021-09-30T20:18:58.888Z"
   },
   {
    "duration": 6,
    "start_time": "2021-09-30T20:18:58.924Z"
   },
   {
    "duration": 26,
    "start_time": "2021-09-30T20:18:58.959Z"
   },
   {
    "duration": 9,
    "start_time": "2021-09-30T20:18:58.988Z"
   },
   {
    "duration": 15,
    "start_time": "2021-09-30T20:18:58.999Z"
   },
   {
    "duration": 1377,
    "start_time": "2021-09-30T20:18:59.016Z"
   },
   {
    "duration": 1027,
    "start_time": "2021-09-30T20:19:00.396Z"
   },
   {
    "duration": 831,
    "start_time": "2021-09-30T20:19:01.426Z"
   },
   {
    "duration": 146,
    "start_time": "2021-09-30T20:19:02.260Z"
   },
   {
    "duration": 4,
    "start_time": "2021-09-30T20:19:02.408Z"
   },
   {
    "duration": 38,
    "start_time": "2021-09-30T20:19:02.415Z"
   },
   {
    "duration": 58,
    "start_time": "2021-09-30T20:19:02.458Z"
   },
   {
    "duration": 4,
    "start_time": "2021-09-30T20:19:02.518Z"
   },
   {
    "duration": 41,
    "start_time": "2021-09-30T20:19:02.524Z"
   },
   {
    "duration": 59,
    "start_time": "2021-09-30T20:19:02.567Z"
   },
   {
    "duration": 31,
    "start_time": "2021-09-30T20:19:02.628Z"
   },
   {
    "duration": 41,
    "start_time": "2021-09-30T20:19:02.662Z"
   },
   {
    "duration": 13,
    "start_time": "2021-09-30T20:19:02.705Z"
   },
   {
    "duration": 65,
    "start_time": "2021-09-30T20:19:02.720Z"
   },
   {
    "duration": 33,
    "start_time": "2021-09-30T20:19:02.787Z"
   },
   {
    "duration": 36,
    "start_time": "2021-09-30T20:19:02.823Z"
   },
   {
    "duration": 9,
    "start_time": "2021-09-30T20:19:02.862Z"
   },
   {
    "duration": 24,
    "start_time": "2021-09-30T20:19:02.874Z"
   },
   {
    "duration": 10,
    "start_time": "2021-09-30T20:19:02.901Z"
   },
   {
    "duration": 44,
    "start_time": "2021-09-30T20:19:02.913Z"
   },
   {
    "duration": 12,
    "start_time": "2021-09-30T20:19:02.959Z"
   },
   {
    "duration": 163,
    "start_time": "2021-09-30T20:19:02.974Z"
   },
   {
    "duration": 70,
    "start_time": "2021-09-30T20:19:03.070Z"
   },
   {
    "duration": 64,
    "start_time": "2021-09-30T20:19:03.077Z"
   },
   {
    "duration": 58,
    "start_time": "2021-09-30T20:19:03.084Z"
   },
   {
    "duration": 56,
    "start_time": "2021-09-30T20:19:03.088Z"
   },
   {
    "duration": 51,
    "start_time": "2021-09-30T20:19:03.094Z"
   },
   {
    "duration": 48,
    "start_time": "2021-09-30T20:19:03.099Z"
   },
   {
    "duration": 133,
    "start_time": "2021-09-30T20:19:30.180Z"
   },
   {
    "duration": 6,
    "start_time": "2021-09-30T20:19:44.568Z"
   },
   {
    "duration": 854,
    "start_time": "2021-09-30T20:20:22.276Z"
   },
   {
    "duration": 1325,
    "start_time": "2021-09-30T20:21:07.196Z"
   },
   {
    "duration": 604,
    "start_time": "2021-09-30T20:21:08.525Z"
   },
   {
    "duration": 31,
    "start_time": "2021-09-30T20:21:09.136Z"
   },
   {
    "duration": 41,
    "start_time": "2021-09-30T20:21:09.170Z"
   },
   {
    "duration": 56,
    "start_time": "2021-09-30T20:21:09.214Z"
   },
   {
    "duration": 153,
    "start_time": "2021-09-30T20:21:09.273Z"
   },
   {
    "duration": 31,
    "start_time": "2021-09-30T20:21:09.431Z"
   },
   {
    "duration": 40,
    "start_time": "2021-09-30T20:21:09.467Z"
   },
   {
    "duration": 59,
    "start_time": "2021-09-30T20:21:09.510Z"
   },
   {
    "duration": 121,
    "start_time": "2021-09-30T20:21:09.573Z"
   },
   {
    "duration": 10,
    "start_time": "2021-09-30T20:21:09.696Z"
   },
   {
    "duration": 52,
    "start_time": "2021-09-30T20:21:09.709Z"
   },
   {
    "duration": 59,
    "start_time": "2021-09-30T20:21:09.763Z"
   },
   {
    "duration": 35,
    "start_time": "2021-09-30T20:21:09.824Z"
   },
   {
    "duration": 9,
    "start_time": "2021-09-30T20:21:09.861Z"
   },
   {
    "duration": 31,
    "start_time": "2021-09-30T20:21:09.873Z"
   },
   {
    "duration": 68,
    "start_time": "2021-09-30T20:21:09.906Z"
   },
   {
    "duration": 9,
    "start_time": "2021-09-30T20:21:09.976Z"
   },
   {
    "duration": 29,
    "start_time": "2021-09-30T20:21:09.987Z"
   },
   {
    "duration": 72,
    "start_time": "2021-09-30T20:21:10.018Z"
   },
   {
    "duration": 7,
    "start_time": "2021-09-30T20:21:10.093Z"
   },
   {
    "duration": 68,
    "start_time": "2021-09-30T20:21:10.109Z"
   },
   {
    "duration": 5,
    "start_time": "2021-09-30T20:21:10.181Z"
   },
   {
    "duration": 35,
    "start_time": "2021-09-30T20:21:10.188Z"
   },
   {
    "duration": 7,
    "start_time": "2021-09-30T20:21:10.226Z"
   },
   {
    "duration": 21,
    "start_time": "2021-09-30T20:21:10.236Z"
   },
   {
    "duration": 1456,
    "start_time": "2021-09-30T20:21:10.259Z"
   },
   {
    "duration": 1107,
    "start_time": "2021-09-30T20:21:11.717Z"
   },
   {
    "duration": 902,
    "start_time": "2021-09-30T20:21:12.826Z"
   },
   {
    "duration": 144,
    "start_time": "2021-09-30T20:21:13.731Z"
   },
   {
    "duration": 4,
    "start_time": "2021-09-30T20:21:13.877Z"
   },
   {
    "duration": 22,
    "start_time": "2021-09-30T20:21:13.883Z"
   },
   {
    "duration": 83,
    "start_time": "2021-09-30T20:21:13.908Z"
   },
   {
    "duration": 3,
    "start_time": "2021-09-30T20:21:13.994Z"
   },
   {
    "duration": 28,
    "start_time": "2021-09-30T20:21:13.999Z"
   },
   {
    "duration": 77,
    "start_time": "2021-09-30T20:21:14.030Z"
   },
   {
    "duration": 18,
    "start_time": "2021-09-30T20:21:14.110Z"
   },
   {
    "duration": 59,
    "start_time": "2021-09-30T20:21:14.130Z"
   },
   {
    "duration": 15,
    "start_time": "2021-09-30T20:21:14.191Z"
   },
   {
    "duration": 69,
    "start_time": "2021-09-30T20:21:14.209Z"
   },
   {
    "duration": 178,
    "start_time": "2021-09-30T20:21:14.281Z"
   },
   {
    "duration": 9,
    "start_time": "2021-09-30T20:21:14.461Z"
   },
   {
    "duration": 15,
    "start_time": "2021-09-30T20:21:14.472Z"
   },
   {
    "duration": 17,
    "start_time": "2021-09-30T20:21:14.490Z"
   },
   {
    "duration": 5,
    "start_time": "2021-09-30T20:21:14.510Z"
   },
   {
    "duration": 41,
    "start_time": "2021-09-30T20:21:14.518Z"
   },
   {
    "duration": 6,
    "start_time": "2021-09-30T20:21:14.562Z"
   },
   {
    "duration": 7,
    "start_time": "2021-09-30T20:21:14.571Z"
   },
   {
    "duration": 638,
    "start_time": "2021-09-30T20:21:14.581Z"
   },
   {
    "duration": 618,
    "start_time": "2021-09-30T20:21:15.221Z"
   },
   {
    "duration": 550,
    "start_time": "2021-09-30T20:21:15.841Z"
   },
   {
    "duration": 5,
    "start_time": "2021-09-30T20:21:16.394Z"
   },
   {
    "duration": 1107,
    "start_time": "2021-09-30T20:21:16.402Z"
   },
   {
    "duration": 68,
    "start_time": "2021-09-30T20:21:17.443Z"
   },
   {
    "duration": 65,
    "start_time": "2021-09-30T20:21:17.448Z"
   },
   {
    "duration": 6,
    "start_time": "2021-09-30T20:22:31.645Z"
   },
   {
    "duration": 928,
    "start_time": "2021-09-30T20:22:38.344Z"
   },
   {
    "duration": 13,
    "start_time": "2021-09-30T20:24:45.040Z"
   },
   {
    "duration": 500,
    "start_time": "2021-09-30T20:25:08.864Z"
   },
   {
    "duration": 12,
    "start_time": "2021-09-30T20:25:15.638Z"
   },
   {
    "duration": 11,
    "start_time": "2021-09-30T20:25:21.208Z"
   },
   {
    "duration": 5,
    "start_time": "2021-09-30T20:25:46.095Z"
   },
   {
    "duration": 12,
    "start_time": "2021-09-30T20:25:48.901Z"
   },
   {
    "duration": 1359,
    "start_time": "2021-09-30T20:26:53.451Z"
   },
   {
    "duration": 527,
    "start_time": "2021-09-30T20:26:54.813Z"
   },
   {
    "duration": 23,
    "start_time": "2021-09-30T20:26:55.348Z"
   },
   {
    "duration": 39,
    "start_time": "2021-09-30T20:26:55.374Z"
   },
   {
    "duration": 59,
    "start_time": "2021-09-30T20:26:55.415Z"
   },
   {
    "duration": 165,
    "start_time": "2021-09-30T20:26:55.478Z"
   },
   {
    "duration": 24,
    "start_time": "2021-09-30T20:26:55.647Z"
   },
   {
    "duration": 37,
    "start_time": "2021-09-30T20:26:55.674Z"
   },
   {
    "duration": 55,
    "start_time": "2021-09-30T20:26:55.713Z"
   },
   {
    "duration": 122,
    "start_time": "2021-09-30T20:26:55.770Z"
   },
   {
    "duration": 11,
    "start_time": "2021-09-30T20:26:55.894Z"
   },
   {
    "duration": 30,
    "start_time": "2021-09-30T20:26:55.907Z"
   },
   {
    "duration": 76,
    "start_time": "2021-09-30T20:26:55.939Z"
   },
   {
    "duration": 12,
    "start_time": "2021-09-30T20:26:56.017Z"
   },
   {
    "duration": 12,
    "start_time": "2021-09-30T20:26:56.057Z"
   },
   {
    "duration": 31,
    "start_time": "2021-09-30T20:26:56.072Z"
   },
   {
    "duration": 51,
    "start_time": "2021-09-30T20:26:56.107Z"
   },
   {
    "duration": 10,
    "start_time": "2021-09-30T20:26:56.162Z"
   },
   {
    "duration": 17,
    "start_time": "2021-09-30T20:26:56.175Z"
   },
   {
    "duration": 79,
    "start_time": "2021-09-30T20:26:56.194Z"
   },
   {
    "duration": 6,
    "start_time": "2021-09-30T20:26:56.276Z"
   },
   {
    "duration": 38,
    "start_time": "2021-09-30T20:26:56.284Z"
   },
   {
    "duration": 5,
    "start_time": "2021-09-30T20:26:56.324Z"
   },
   {
    "duration": 44,
    "start_time": "2021-09-30T20:26:56.335Z"
   },
   {
    "duration": 8,
    "start_time": "2021-09-30T20:26:56.383Z"
   },
   {
    "duration": 9,
    "start_time": "2021-09-30T20:26:56.393Z"
   },
   {
    "duration": 1399,
    "start_time": "2021-09-30T20:26:56.404Z"
   },
   {
    "duration": 980,
    "start_time": "2021-09-30T20:26:57.805Z"
   },
   {
    "duration": 834,
    "start_time": "2021-09-30T20:26:58.787Z"
   },
   {
    "duration": 145,
    "start_time": "2021-09-30T20:26:59.623Z"
   },
   {
    "duration": 5,
    "start_time": "2021-09-30T20:26:59.770Z"
   },
   {
    "duration": 28,
    "start_time": "2021-09-30T20:26:59.778Z"
   },
   {
    "duration": 86,
    "start_time": "2021-09-30T20:26:59.809Z"
   },
   {
    "duration": 5,
    "start_time": "2021-09-30T20:26:59.897Z"
   },
   {
    "duration": 28,
    "start_time": "2021-09-30T20:26:59.905Z"
   },
   {
    "duration": 75,
    "start_time": "2021-09-30T20:26:59.936Z"
   },
   {
    "duration": 50,
    "start_time": "2021-09-30T20:27:00.013Z"
   },
   {
    "duration": 48,
    "start_time": "2021-09-30T20:27:00.066Z"
   },
   {
    "duration": 14,
    "start_time": "2021-09-30T20:27:00.116Z"
   },
   {
    "duration": 61,
    "start_time": "2021-09-30T20:27:00.133Z"
   },
   {
    "duration": 49,
    "start_time": "2021-09-30T20:27:00.196Z"
   },
   {
    "duration": 14,
    "start_time": "2021-09-30T20:27:00.248Z"
   },
   {
    "duration": 8,
    "start_time": "2021-09-30T20:27:00.265Z"
   },
   {
    "duration": 15,
    "start_time": "2021-09-30T20:27:00.276Z"
   },
   {
    "duration": 12,
    "start_time": "2021-09-30T20:27:00.294Z"
   },
   {
    "duration": 15,
    "start_time": "2021-09-30T20:27:00.308Z"
   },
   {
    "duration": 6,
    "start_time": "2021-09-30T20:27:00.358Z"
   },
   {
    "duration": 13,
    "start_time": "2021-09-30T20:27:00.366Z"
   },
   {
    "duration": 553,
    "start_time": "2021-09-30T20:27:00.381Z"
   },
   {
    "duration": 523,
    "start_time": "2021-09-30T20:27:00.936Z"
   },
   {
    "duration": 4,
    "start_time": "2021-09-30T20:27:01.461Z"
   },
   {
    "duration": 549,
    "start_time": "2021-09-30T20:27:01.467Z"
   },
   {
    "duration": 4,
    "start_time": "2021-09-30T20:27:02.019Z"
   },
   {
    "duration": 41,
    "start_time": "2021-09-30T20:27:02.025Z"
   },
   {
    "duration": 1000,
    "start_time": "2021-09-30T20:27:02.069Z"
   },
   {
    "duration": 47,
    "start_time": "2021-09-30T20:27:03.025Z"
   },
   {
    "duration": 26,
    "start_time": "2021-09-30T20:27:03.048Z"
   },
   {
    "duration": 1357,
    "start_time": "2021-09-30T20:28:16.561Z"
   },
   {
    "duration": 534,
    "start_time": "2021-09-30T20:28:17.920Z"
   },
   {
    "duration": 24,
    "start_time": "2021-09-30T20:28:18.460Z"
   },
   {
    "duration": 38,
    "start_time": "2021-09-30T20:28:18.486Z"
   },
   {
    "duration": 56,
    "start_time": "2021-09-30T20:28:18.527Z"
   },
   {
    "duration": 161,
    "start_time": "2021-09-30T20:28:18.586Z"
   },
   {
    "duration": 21,
    "start_time": "2021-09-30T20:28:18.751Z"
   },
   {
    "duration": 38,
    "start_time": "2021-09-30T20:28:18.775Z"
   },
   {
    "duration": 60,
    "start_time": "2021-09-30T20:28:18.815Z"
   },
   {
    "duration": 125,
    "start_time": "2021-09-30T20:28:18.878Z"
   },
   {
    "duration": 54,
    "start_time": "2021-09-30T20:28:19.005Z"
   },
   {
    "duration": 20,
    "start_time": "2021-09-30T20:28:19.061Z"
   },
   {
    "duration": 117,
    "start_time": "2021-09-30T20:28:19.083Z"
   },
   {
    "duration": 11,
    "start_time": "2021-09-30T20:28:19.258Z"
   },
   {
    "duration": 12,
    "start_time": "2021-09-30T20:28:19.271Z"
   },
   {
    "duration": 17,
    "start_time": "2021-09-30T20:28:19.285Z"
   },
   {
    "duration": 20,
    "start_time": "2021-09-30T20:28:19.359Z"
   },
   {
    "duration": 9,
    "start_time": "2021-09-30T20:28:19.381Z"
   },
   {
    "duration": 12,
    "start_time": "2021-09-30T20:28:19.392Z"
   },
   {
    "duration": 88,
    "start_time": "2021-09-30T20:28:19.406Z"
   },
   {
    "duration": 6,
    "start_time": "2021-09-30T20:28:19.496Z"
   },
   {
    "duration": 78,
    "start_time": "2021-09-30T20:28:19.507Z"
   },
   {
    "duration": 5,
    "start_time": "2021-09-30T20:28:19.588Z"
   },
   {
    "duration": 77,
    "start_time": "2021-09-30T20:28:19.596Z"
   },
   {
    "duration": 8,
    "start_time": "2021-09-30T20:28:19.675Z"
   },
   {
    "duration": 7,
    "start_time": "2021-09-30T20:28:19.685Z"
   },
   {
    "duration": 1495,
    "start_time": "2021-09-30T20:28:19.695Z"
   },
   {
    "duration": 979,
    "start_time": "2021-09-30T20:28:21.192Z"
   },
   {
    "duration": 820,
    "start_time": "2021-09-30T20:28:22.173Z"
   },
   {
    "duration": 145,
    "start_time": "2021-09-30T20:28:22.996Z"
   },
   {
    "duration": 4,
    "start_time": "2021-09-30T20:28:23.143Z"
   },
   {
    "duration": 36,
    "start_time": "2021-09-30T20:28:23.158Z"
   },
   {
    "duration": 74,
    "start_time": "2021-09-30T20:28:23.197Z"
   },
   {
    "duration": 4,
    "start_time": "2021-09-30T20:28:23.274Z"
   },
   {
    "duration": 44,
    "start_time": "2021-09-30T20:28:23.280Z"
   },
   {
    "duration": 81,
    "start_time": "2021-09-30T20:28:23.327Z"
   },
   {
    "duration": 18,
    "start_time": "2021-09-30T20:28:23.410Z"
   },
   {
    "duration": 55,
    "start_time": "2021-09-30T20:28:23.431Z"
   },
   {
    "duration": 14,
    "start_time": "2021-09-30T20:28:23.488Z"
   },
   {
    "duration": 46,
    "start_time": "2021-09-30T20:28:23.504Z"
   },
   {
    "duration": 48,
    "start_time": "2021-09-30T20:28:23.558Z"
   },
   {
    "duration": 8,
    "start_time": "2021-09-30T20:28:23.609Z"
   },
   {
    "duration": 25,
    "start_time": "2021-09-30T20:28:23.620Z"
   },
   {
    "duration": 37,
    "start_time": "2021-09-30T20:28:23.647Z"
   },
   {
    "duration": 31,
    "start_time": "2021-09-30T20:28:23.687Z"
   },
   {
    "duration": 34,
    "start_time": "2021-09-30T20:28:23.720Z"
   },
   {
    "duration": 17,
    "start_time": "2021-09-30T20:28:23.756Z"
   },
   {
    "duration": 26,
    "start_time": "2021-09-30T20:28:23.776Z"
   },
   {
    "duration": 549,
    "start_time": "2021-09-30T20:28:23.805Z"
   },
   {
    "duration": 542,
    "start_time": "2021-09-30T20:28:24.358Z"
   },
   {
    "duration": 522,
    "start_time": "2021-09-30T20:28:24.903Z"
   },
   {
    "duration": 6,
    "start_time": "2021-09-30T20:28:25.427Z"
   },
   {
    "duration": 37,
    "start_time": "2021-09-30T20:28:25.436Z"
   },
   {
    "duration": 856,
    "start_time": "2021-09-30T20:28:25.478Z"
   },
   {
    "duration": 53,
    "start_time": "2021-09-30T20:28:26.285Z"
   },
   {
    "duration": 50,
    "start_time": "2021-09-30T20:28:26.290Z"
   },
   {
    "duration": 527,
    "start_time": "2021-09-30T20:28:47.700Z"
   },
   {
    "duration": 13,
    "start_time": "2021-09-30T20:28:51.136Z"
   },
   {
    "duration": 526,
    "start_time": "2021-09-30T20:29:17.727Z"
   },
   {
    "duration": 12,
    "start_time": "2021-09-30T20:29:20.788Z"
   },
   {
    "duration": 786,
    "start_time": "2021-09-30T20:29:25.527Z"
   },
   {
    "duration": 1371,
    "start_time": "2021-09-30T20:29:57.848Z"
   },
   {
    "duration": 556,
    "start_time": "2021-09-30T20:29:59.222Z"
   },
   {
    "duration": 24,
    "start_time": "2021-09-30T20:29:59.781Z"
   },
   {
    "duration": 39,
    "start_time": "2021-09-30T20:29:59.808Z"
   },
   {
    "duration": 33,
    "start_time": "2021-09-30T20:29:59.849Z"
   },
   {
    "duration": 148,
    "start_time": "2021-09-30T20:29:59.885Z"
   },
   {
    "duration": 30,
    "start_time": "2021-09-30T20:30:00.035Z"
   },
   {
    "duration": 43,
    "start_time": "2021-09-30T20:30:00.069Z"
   },
   {
    "duration": 23,
    "start_time": "2021-09-30T20:30:00.115Z"
   },
   {
    "duration": 114,
    "start_time": "2021-09-30T20:30:00.158Z"
   },
   {
    "duration": 14,
    "start_time": "2021-09-30T20:30:00.276Z"
   },
   {
    "duration": 40,
    "start_time": "2021-09-30T20:30:00.293Z"
   },
   {
    "duration": 111,
    "start_time": "2021-09-30T20:30:00.336Z"
   },
   {
    "duration": 16,
    "start_time": "2021-09-30T20:30:00.459Z"
   },
   {
    "duration": 22,
    "start_time": "2021-09-30T20:30:00.477Z"
   },
   {
    "duration": 36,
    "start_time": "2021-09-30T20:30:00.502Z"
   },
   {
    "duration": 55,
    "start_time": "2021-09-30T20:30:00.540Z"
   },
   {
    "duration": 30,
    "start_time": "2021-09-30T20:30:00.597Z"
   },
   {
    "duration": 24,
    "start_time": "2021-09-30T20:30:00.630Z"
   },
   {
    "duration": 58,
    "start_time": "2021-09-30T20:30:00.657Z"
   },
   {
    "duration": 16,
    "start_time": "2021-09-30T20:30:00.718Z"
   },
   {
    "duration": 44,
    "start_time": "2021-09-30T20:30:00.736Z"
   },
   {
    "duration": 5,
    "start_time": "2021-09-30T20:30:00.787Z"
   },
   {
    "duration": 34,
    "start_time": "2021-09-30T20:30:00.795Z"
   },
   {
    "duration": 26,
    "start_time": "2021-09-30T20:30:00.831Z"
   },
   {
    "duration": 5,
    "start_time": "2021-09-30T20:30:00.860Z"
   },
   {
    "duration": 1322,
    "start_time": "2021-09-30T20:30:00.867Z"
   },
   {
    "duration": 967,
    "start_time": "2021-09-30T20:30:02.192Z"
   },
   {
    "duration": 799,
    "start_time": "2021-09-30T20:30:03.162Z"
   },
   {
    "duration": 142,
    "start_time": "2021-09-30T20:30:03.963Z"
   },
   {
    "duration": 4,
    "start_time": "2021-09-30T20:30:04.107Z"
   },
   {
    "duration": 23,
    "start_time": "2021-09-30T20:30:04.114Z"
   },
   {
    "duration": 71,
    "start_time": "2021-09-30T20:30:04.139Z"
   },
   {
    "duration": 5,
    "start_time": "2021-09-30T20:30:04.212Z"
   },
   {
    "duration": 40,
    "start_time": "2021-09-30T20:30:04.219Z"
   },
   {
    "duration": 63,
    "start_time": "2021-09-30T20:30:04.261Z"
   },
   {
    "duration": 17,
    "start_time": "2021-09-30T20:30:04.326Z"
   },
   {
    "duration": 33,
    "start_time": "2021-09-30T20:30:04.358Z"
   },
   {
    "duration": 14,
    "start_time": "2021-09-30T20:30:04.394Z"
   },
   {
    "duration": 72,
    "start_time": "2021-09-30T20:30:04.411Z"
   },
   {
    "duration": 35,
    "start_time": "2021-09-30T20:30:04.486Z"
   },
   {
    "duration": 9,
    "start_time": "2021-09-30T20:30:04.523Z"
   },
   {
    "duration": 8,
    "start_time": "2021-09-30T20:30:04.559Z"
   },
   {
    "duration": 13,
    "start_time": "2021-09-30T20:30:04.569Z"
   },
   {
    "duration": 11,
    "start_time": "2021-09-30T20:30:04.585Z"
   },
   {
    "duration": 8,
    "start_time": "2021-09-30T20:30:04.599Z"
   },
   {
    "duration": 10,
    "start_time": "2021-09-30T20:30:04.609Z"
   },
   {
    "duration": 561,
    "start_time": "2021-09-30T20:30:04.622Z"
   },
   {
    "duration": 538,
    "start_time": "2021-09-30T20:30:05.186Z"
   },
   {
    "duration": 518,
    "start_time": "2021-09-30T20:30:05.726Z"
   },
   {
    "duration": 12,
    "start_time": "2021-09-30T20:30:06.246Z"
   },
   {
    "duration": 34,
    "start_time": "2021-09-30T20:30:06.260Z"
   },
   {
    "duration": 23,
    "start_time": "2021-09-30T20:30:06.297Z"
   },
   {
    "duration": 926,
    "start_time": "2021-09-30T20:30:06.323Z"
   },
   {
    "duration": 43,
    "start_time": "2021-09-30T20:30:07.209Z"
   },
   {
    "duration": 31,
    "start_time": "2021-09-30T20:30:07.222Z"
   },
   {
    "duration": 1396,
    "start_time": "2021-09-30T20:30:46.121Z"
   },
   {
    "duration": 541,
    "start_time": "2021-09-30T20:30:47.520Z"
   },
   {
    "duration": 23,
    "start_time": "2021-09-30T20:30:48.065Z"
   },
   {
    "duration": 41,
    "start_time": "2021-09-30T20:30:48.091Z"
   },
   {
    "duration": 42,
    "start_time": "2021-09-30T20:30:48.135Z"
   },
   {
    "duration": 164,
    "start_time": "2021-09-30T20:30:48.180Z"
   },
   {
    "duration": 21,
    "start_time": "2021-09-30T20:30:48.347Z"
   },
   {
    "duration": 37,
    "start_time": "2021-09-30T20:30:48.372Z"
   },
   {
    "duration": 46,
    "start_time": "2021-09-30T20:30:48.412Z"
   },
   {
    "duration": 108,
    "start_time": "2021-09-30T20:30:48.460Z"
   },
   {
    "duration": 10,
    "start_time": "2021-09-30T20:30:48.571Z"
   },
   {
    "duration": 20,
    "start_time": "2021-09-30T20:30:48.584Z"
   },
   {
    "duration": 88,
    "start_time": "2021-09-30T20:30:48.606Z"
   },
   {
    "duration": 11,
    "start_time": "2021-09-30T20:30:48.696Z"
   },
   {
    "duration": 10,
    "start_time": "2021-09-30T20:30:48.710Z"
   },
   {
    "duration": 38,
    "start_time": "2021-09-30T20:30:48.723Z"
   },
   {
    "duration": 20,
    "start_time": "2021-09-30T20:30:48.763Z"
   },
   {
    "duration": 9,
    "start_time": "2021-09-30T20:30:48.785Z"
   },
   {
    "duration": 13,
    "start_time": "2021-09-30T20:30:48.796Z"
   },
   {
    "duration": 79,
    "start_time": "2021-09-30T20:30:48.812Z"
   },
   {
    "duration": 8,
    "start_time": "2021-09-30T20:30:48.893Z"
   },
   {
    "duration": 58,
    "start_time": "2021-09-30T20:30:48.903Z"
   },
   {
    "duration": 7,
    "start_time": "2021-09-30T20:30:48.968Z"
   },
   {
    "duration": 25,
    "start_time": "2021-09-30T20:30:48.979Z"
   },
   {
    "duration": 10,
    "start_time": "2021-09-30T20:30:49.007Z"
   },
   {
    "duration": 44,
    "start_time": "2021-09-30T20:30:49.020Z"
   },
   {
    "duration": 1327,
    "start_time": "2021-09-30T20:30:49.066Z"
   },
   {
    "duration": 1098,
    "start_time": "2021-09-30T20:30:50.395Z"
   },
   {
    "duration": 847,
    "start_time": "2021-09-30T20:30:51.496Z"
   },
   {
    "duration": 144,
    "start_time": "2021-09-30T20:30:52.345Z"
   },
   {
    "duration": 4,
    "start_time": "2021-09-30T20:30:52.491Z"
   },
   {
    "duration": 28,
    "start_time": "2021-09-30T20:30:52.497Z"
   },
   {
    "duration": 70,
    "start_time": "2021-09-30T20:30:52.527Z"
   },
   {
    "duration": 5,
    "start_time": "2021-09-30T20:30:52.599Z"
   },
   {
    "duration": 20,
    "start_time": "2021-09-30T20:30:52.607Z"
   },
   {
    "duration": 72,
    "start_time": "2021-09-30T20:30:52.630Z"
   },
   {
    "duration": 19,
    "start_time": "2021-09-30T20:30:52.704Z"
   },
   {
    "duration": 64,
    "start_time": "2021-09-30T20:30:52.725Z"
   },
   {
    "duration": 15,
    "start_time": "2021-09-30T20:30:52.792Z"
   },
   {
    "duration": 62,
    "start_time": "2021-09-30T20:30:52.810Z"
   },
   {
    "duration": 34,
    "start_time": "2021-09-30T20:30:52.875Z"
   },
   {
    "duration": 10,
    "start_time": "2021-09-30T20:30:52.911Z"
   },
   {
    "duration": 36,
    "start_time": "2021-09-30T20:30:52.923Z"
   },
   {
    "duration": 13,
    "start_time": "2021-09-30T20:30:52.962Z"
   },
   {
    "duration": 5,
    "start_time": "2021-09-30T20:30:52.978Z"
   },
   {
    "duration": 11,
    "start_time": "2021-09-30T20:30:52.985Z"
   },
   {
    "duration": 6,
    "start_time": "2021-09-30T20:30:52.998Z"
   },
   {
    "duration": 544,
    "start_time": "2021-09-30T20:30:53.006Z"
   },
   {
    "duration": 518,
    "start_time": "2021-09-30T20:30:53.552Z"
   },
   {
    "duration": 529,
    "start_time": "2021-09-30T20:30:54.072Z"
   },
   {
    "duration": 6,
    "start_time": "2021-09-30T20:30:54.604Z"
   },
   {
    "duration": 15,
    "start_time": "2021-09-30T20:30:54.613Z"
   },
   {
    "duration": 31,
    "start_time": "2021-09-30T20:30:54.631Z"
   },
   {
    "duration": 878,
    "start_time": "2021-09-30T20:30:54.664Z"
   },
   {
    "duration": 38,
    "start_time": "2021-09-30T20:30:55.507Z"
   },
   {
    "duration": 35,
    "start_time": "2021-09-30T20:30:55.511Z"
   },
   {
    "duration": 7,
    "start_time": "2021-09-30T20:32:22.563Z"
   },
   {
    "duration": 10652,
    "start_time": "2021-09-30T20:32:24.734Z"
   },
   {
    "duration": 1305,
    "start_time": "2021-09-30T20:33:39.902Z"
   },
   {
    "duration": 519,
    "start_time": "2021-09-30T20:33:41.210Z"
   },
   {
    "duration": 23,
    "start_time": "2021-09-30T20:33:41.732Z"
   },
   {
    "duration": 38,
    "start_time": "2021-09-30T20:33:41.758Z"
   },
   {
    "duration": 26,
    "start_time": "2021-09-30T20:33:41.798Z"
   },
   {
    "duration": 160,
    "start_time": "2021-09-30T20:33:41.827Z"
   },
   {
    "duration": 18,
    "start_time": "2021-09-30T20:33:41.989Z"
   },
   {
    "duration": 54,
    "start_time": "2021-09-30T20:33:42.011Z"
   },
   {
    "duration": 22,
    "start_time": "2021-09-30T20:33:42.068Z"
   },
   {
    "duration": 121,
    "start_time": "2021-09-30T20:33:42.092Z"
   },
   {
    "duration": 12,
    "start_time": "2021-09-30T20:33:42.215Z"
   },
   {
    "duration": 39,
    "start_time": "2021-09-30T20:33:42.229Z"
   },
   {
    "duration": 63,
    "start_time": "2021-09-30T20:33:42.270Z"
   },
   {
    "duration": 24,
    "start_time": "2021-09-30T20:33:42.335Z"
   },
   {
    "duration": 25,
    "start_time": "2021-09-30T20:33:42.361Z"
   },
   {
    "duration": 34,
    "start_time": "2021-09-30T20:33:42.388Z"
   },
   {
    "duration": 29,
    "start_time": "2021-09-30T20:33:42.425Z"
   },
   {
    "duration": 22,
    "start_time": "2021-09-30T20:33:42.456Z"
   },
   {
    "duration": 27,
    "start_time": "2021-09-30T20:33:42.481Z"
   },
   {
    "duration": 50,
    "start_time": "2021-09-30T20:33:42.511Z"
   },
   {
    "duration": 6,
    "start_time": "2021-09-30T20:33:42.563Z"
   },
   {
    "duration": 36,
    "start_time": "2021-09-30T20:33:42.571Z"
   },
   {
    "duration": 5,
    "start_time": "2021-09-30T20:33:42.612Z"
   },
   {
    "duration": 53,
    "start_time": "2021-09-30T20:33:42.620Z"
   },
   {
    "duration": 8,
    "start_time": "2021-09-30T20:33:42.676Z"
   },
   {
    "duration": 12,
    "start_time": "2021-09-30T20:33:42.686Z"
   },
   {
    "duration": 1312,
    "start_time": "2021-09-30T20:33:42.701Z"
   },
   {
    "duration": 951,
    "start_time": "2021-09-30T20:33:44.015Z"
   },
   {
    "duration": 800,
    "start_time": "2021-09-30T20:33:44.968Z"
   },
   {
    "duration": 131,
    "start_time": "2021-09-30T20:33:45.771Z"
   },
   {
    "duration": 3,
    "start_time": "2021-09-30T20:33:45.905Z"
   },
   {
    "duration": 31,
    "start_time": "2021-09-30T20:33:45.911Z"
   },
   {
    "duration": 71,
    "start_time": "2021-09-30T20:33:45.945Z"
   },
   {
    "duration": 3,
    "start_time": "2021-09-30T20:33:46.018Z"
   },
   {
    "duration": 41,
    "start_time": "2021-09-30T20:33:46.023Z"
   },
   {
    "duration": 69,
    "start_time": "2021-09-30T20:33:46.066Z"
   },
   {
    "duration": 16,
    "start_time": "2021-09-30T20:33:46.138Z"
   },
   {
    "duration": 56,
    "start_time": "2021-09-30T20:33:46.157Z"
   },
   {
    "duration": 12,
    "start_time": "2021-09-30T20:33:46.215Z"
   },
   {
    "duration": 46,
    "start_time": "2021-09-30T20:33:46.229Z"
   },
   {
    "duration": 32,
    "start_time": "2021-09-30T20:33:46.278Z"
   },
   {
    "duration": 8,
    "start_time": "2021-09-30T20:33:46.312Z"
   },
   {
    "duration": 27,
    "start_time": "2021-09-30T20:33:46.322Z"
   },
   {
    "duration": 17,
    "start_time": "2021-09-30T20:33:46.352Z"
   },
   {
    "duration": 15,
    "start_time": "2021-09-30T20:33:46.371Z"
   },
   {
    "duration": 39,
    "start_time": "2021-09-30T20:33:46.388Z"
   },
   {
    "duration": 22,
    "start_time": "2021-09-30T20:33:46.429Z"
   },
   {
    "duration": 511,
    "start_time": "2021-09-30T20:33:46.453Z"
   },
   {
    "duration": 524,
    "start_time": "2021-09-30T20:33:46.966Z"
   },
   {
    "duration": 538,
    "start_time": "2021-09-30T20:33:47.492Z"
   },
   {
    "duration": 4,
    "start_time": "2021-09-30T20:33:48.033Z"
   },
   {
    "duration": 34,
    "start_time": "2021-09-30T20:33:48.039Z"
   },
   {
    "duration": 6,
    "start_time": "2021-09-30T20:33:48.076Z"
   },
   {
    "duration": 10911,
    "start_time": "2021-09-30T20:33:48.084Z"
   },
   {
    "duration": -7,
    "start_time": "2021-09-30T20:33:59.005Z"
   },
   {
    "duration": -12,
    "start_time": "2021-09-30T20:33:59.012Z"
   },
   {
    "duration": 6,
    "start_time": "2021-09-30T20:34:34.735Z"
   },
   {
    "duration": 11548,
    "start_time": "2021-09-30T20:34:36.245Z"
   },
   {
    "duration": 1565,
    "start_time": "2021-09-30T20:35:06.057Z"
   },
   {
    "duration": 541,
    "start_time": "2021-09-30T20:35:07.625Z"
   },
   {
    "duration": 23,
    "start_time": "2021-09-30T20:35:08.172Z"
   },
   {
    "duration": 38,
    "start_time": "2021-09-30T20:35:08.198Z"
   },
   {
    "duration": 40,
    "start_time": "2021-09-30T20:35:08.238Z"
   },
   {
    "duration": 158,
    "start_time": "2021-09-30T20:35:08.280Z"
   },
   {
    "duration": 25,
    "start_time": "2021-09-30T20:35:08.441Z"
   },
   {
    "duration": 39,
    "start_time": "2021-09-30T20:35:08.470Z"
   },
   {
    "duration": 48,
    "start_time": "2021-09-30T20:35:08.513Z"
   },
   {
    "duration": 122,
    "start_time": "2021-09-30T20:35:08.563Z"
   },
   {
    "duration": 10,
    "start_time": "2021-09-30T20:35:08.688Z"
   },
   {
    "duration": 24,
    "start_time": "2021-09-30T20:35:08.701Z"
   },
   {
    "duration": 80,
    "start_time": "2021-09-30T20:35:08.728Z"
   },
   {
    "duration": 12,
    "start_time": "2021-09-30T20:35:08.810Z"
   },
   {
    "duration": 33,
    "start_time": "2021-09-30T20:35:08.825Z"
   },
   {
    "duration": 15,
    "start_time": "2021-09-30T20:35:08.861Z"
   },
   {
    "duration": 23,
    "start_time": "2021-09-30T20:35:08.879Z"
   },
   {
    "duration": 14,
    "start_time": "2021-09-30T20:35:08.905Z"
   },
   {
    "duration": 41,
    "start_time": "2021-09-30T20:35:08.922Z"
   },
   {
    "duration": 38,
    "start_time": "2021-09-30T20:35:08.966Z"
   },
   {
    "duration": 6,
    "start_time": "2021-09-30T20:35:09.006Z"
   },
   {
    "duration": 59,
    "start_time": "2021-09-30T20:35:09.015Z"
   },
   {
    "duration": 6,
    "start_time": "2021-09-30T20:35:09.080Z"
   },
   {
    "duration": 33,
    "start_time": "2021-09-30T20:35:09.089Z"
   },
   {
    "duration": 9,
    "start_time": "2021-09-30T20:35:09.124Z"
   },
   {
    "duration": 23,
    "start_time": "2021-09-30T20:35:09.135Z"
   },
   {
    "duration": 1305,
    "start_time": "2021-09-30T20:35:09.160Z"
   },
   {
    "duration": 945,
    "start_time": "2021-09-30T20:35:10.467Z"
   },
   {
    "duration": 816,
    "start_time": "2021-09-30T20:35:11.414Z"
   },
   {
    "duration": 143,
    "start_time": "2021-09-30T20:35:12.232Z"
   },
   {
    "duration": 3,
    "start_time": "2021-09-30T20:35:12.378Z"
   },
   {
    "duration": 33,
    "start_time": "2021-09-30T20:35:12.383Z"
   },
   {
    "duration": 60,
    "start_time": "2021-09-30T20:35:12.418Z"
   },
   {
    "duration": 4,
    "start_time": "2021-09-30T20:35:12.480Z"
   },
   {
    "duration": 30,
    "start_time": "2021-09-30T20:35:12.487Z"
   },
   {
    "duration": 75,
    "start_time": "2021-09-30T20:35:12.519Z"
   },
   {
    "duration": 17,
    "start_time": "2021-09-30T20:35:12.597Z"
   },
   {
    "duration": 65,
    "start_time": "2021-09-30T20:35:12.617Z"
   },
   {
    "duration": 16,
    "start_time": "2021-09-30T20:35:12.685Z"
   },
   {
    "duration": 35,
    "start_time": "2021-09-30T20:35:12.703Z"
   },
   {
    "duration": 35,
    "start_time": "2021-09-30T20:35:12.757Z"
   },
   {
    "duration": 11,
    "start_time": "2021-09-30T20:35:12.795Z"
   },
   {
    "duration": 26,
    "start_time": "2021-09-30T20:35:12.809Z"
   },
   {
    "duration": 22,
    "start_time": "2021-09-30T20:35:12.837Z"
   },
   {
    "duration": 10,
    "start_time": "2021-09-30T20:35:12.862Z"
   },
   {
    "duration": 17,
    "start_time": "2021-09-30T20:35:12.875Z"
   },
   {
    "duration": 9,
    "start_time": "2021-09-30T20:35:12.894Z"
   },
   {
    "duration": 548,
    "start_time": "2021-09-30T20:35:12.905Z"
   },
   {
    "duration": 538,
    "start_time": "2021-09-30T20:35:13.458Z"
   },
   {
    "duration": 548,
    "start_time": "2021-09-30T20:35:13.998Z"
   },
   {
    "duration": 9,
    "start_time": "2021-09-30T20:35:14.548Z"
   },
   {
    "duration": 37,
    "start_time": "2021-09-30T20:35:14.560Z"
   },
   {
    "duration": 6,
    "start_time": "2021-09-30T20:35:14.600Z"
   },
   {
    "duration": 13288,
    "start_time": "2021-09-30T20:35:14.609Z"
   },
   {
    "duration": 31,
    "start_time": "2021-09-30T20:35:27.868Z"
   },
   {
    "duration": 27,
    "start_time": "2021-09-30T20:35:27.873Z"
   },
   {
    "duration": 5,
    "start_time": "2021-09-30T20:35:53.023Z"
   },
   {
    "duration": 530,
    "start_time": "2021-09-30T20:35:53.787Z"
   },
   {
    "duration": 45,
    "start_time": "2021-09-30T20:35:56.514Z"
   },
   {
    "duration": 4,
    "start_time": "2021-09-30T20:36:27.995Z"
   },
   {
    "duration": 530,
    "start_time": "2021-09-30T20:36:29.196Z"
   },
   {
    "duration": 42,
    "start_time": "2021-09-30T20:36:30.271Z"
   },
   {
    "duration": 6,
    "start_time": "2021-09-30T20:37:29.546Z"
   },
   {
    "duration": 621,
    "start_time": "2021-09-30T20:37:31.463Z"
   },
   {
    "duration": 42,
    "start_time": "2021-09-30T20:37:33.486Z"
   },
   {
    "duration": 5,
    "start_time": "2021-09-30T20:39:31.301Z"
   },
   {
    "duration": 635,
    "start_time": "2021-09-30T20:39:31.782Z"
   },
   {
    "duration": 40,
    "start_time": "2021-09-30T20:39:32.527Z"
   },
   {
    "duration": 42,
    "start_time": "2021-09-30T20:41:46.364Z"
   },
   {
    "duration": 118,
    "start_time": "2021-09-30T20:41:52.638Z"
   },
   {
    "duration": 42,
    "start_time": "2021-09-30T20:42:00.869Z"
   },
   {
    "duration": 27,
    "start_time": "2021-09-30T20:42:32.089Z"
   },
   {
    "duration": 40,
    "start_time": "2021-09-30T20:42:58.602Z"
   },
   {
    "duration": 24,
    "start_time": "2021-09-30T20:43:22.823Z"
   },
   {
    "duration": 27,
    "start_time": "2021-09-30T20:43:51.336Z"
   },
   {
    "duration": 1304,
    "start_time": "2021-09-30T20:47:24.707Z"
   },
   {
    "duration": 517,
    "start_time": "2021-09-30T20:47:26.013Z"
   },
   {
    "duration": 26,
    "start_time": "2021-09-30T20:47:26.533Z"
   },
   {
    "duration": 41,
    "start_time": "2021-09-30T20:47:26.563Z"
   },
   {
    "duration": 67,
    "start_time": "2021-09-30T20:47:26.608Z"
   },
   {
    "duration": 147,
    "start_time": "2021-09-30T20:47:26.678Z"
   },
   {
    "duration": 33,
    "start_time": "2021-09-30T20:47:26.828Z"
   },
   {
    "duration": 39,
    "start_time": "2021-09-30T20:47:26.866Z"
   },
   {
    "duration": 62,
    "start_time": "2021-09-30T20:47:26.909Z"
   },
   {
    "duration": 113,
    "start_time": "2021-09-30T20:47:26.974Z"
   },
   {
    "duration": 11,
    "start_time": "2021-09-30T20:47:27.090Z"
   },
   {
    "duration": 30,
    "start_time": "2021-09-30T20:47:27.103Z"
   },
   {
    "duration": 86,
    "start_time": "2021-09-30T20:47:27.135Z"
   },
   {
    "duration": 36,
    "start_time": "2021-09-30T20:47:27.224Z"
   },
   {
    "duration": 17,
    "start_time": "2021-09-30T20:47:27.263Z"
   },
   {
    "duration": 28,
    "start_time": "2021-09-30T20:47:27.283Z"
   },
   {
    "duration": 57,
    "start_time": "2021-09-30T20:47:27.314Z"
   },
   {
    "duration": 13,
    "start_time": "2021-09-30T20:47:27.374Z"
   },
   {
    "duration": 12,
    "start_time": "2021-09-30T20:47:27.390Z"
   },
   {
    "duration": 94,
    "start_time": "2021-09-30T20:47:27.405Z"
   },
   {
    "duration": 7,
    "start_time": "2021-09-30T20:47:27.502Z"
   },
   {
    "duration": 75,
    "start_time": "2021-09-30T20:47:27.513Z"
   },
   {
    "duration": 5,
    "start_time": "2021-09-30T20:47:27.593Z"
   },
   {
    "duration": 36,
    "start_time": "2021-09-30T20:47:27.602Z"
   },
   {
    "duration": 21,
    "start_time": "2021-09-30T20:47:27.641Z"
   },
   {
    "duration": 9,
    "start_time": "2021-09-30T20:47:27.665Z"
   },
   {
    "duration": 1329,
    "start_time": "2021-09-30T20:47:27.677Z"
   },
   {
    "duration": 986,
    "start_time": "2021-09-30T20:47:29.008Z"
   },
   {
    "duration": 912,
    "start_time": "2021-09-30T20:47:29.997Z"
   },
   {
    "duration": 141,
    "start_time": "2021-09-30T20:47:30.912Z"
   },
   {
    "duration": 4,
    "start_time": "2021-09-30T20:47:31.058Z"
   },
   {
    "duration": 42,
    "start_time": "2021-09-30T20:47:31.064Z"
   },
   {
    "duration": 81,
    "start_time": "2021-09-30T20:47:31.108Z"
   },
   {
    "duration": 3,
    "start_time": "2021-09-30T20:47:31.191Z"
   },
   {
    "duration": 50,
    "start_time": "2021-09-30T20:47:31.197Z"
   },
   {
    "duration": 94,
    "start_time": "2021-09-30T20:47:31.249Z"
   },
   {
    "duration": 17,
    "start_time": "2021-09-30T20:47:31.345Z"
   },
   {
    "duration": 52,
    "start_time": "2021-09-30T20:47:31.365Z"
   },
   {
    "duration": 18,
    "start_time": "2021-09-30T20:47:31.419Z"
   },
   {
    "duration": 49,
    "start_time": "2021-09-30T20:47:31.440Z"
   },
   {
    "duration": 34,
    "start_time": "2021-09-30T20:47:31.493Z"
   },
   {
    "duration": 28,
    "start_time": "2021-09-30T20:47:31.530Z"
   },
   {
    "duration": 21,
    "start_time": "2021-09-30T20:47:31.560Z"
   },
   {
    "duration": 17,
    "start_time": "2021-09-30T20:47:31.583Z"
   },
   {
    "duration": 26,
    "start_time": "2021-09-30T20:47:31.602Z"
   },
   {
    "duration": 37,
    "start_time": "2021-09-30T20:47:31.630Z"
   },
   {
    "duration": 17,
    "start_time": "2021-09-30T20:47:31.669Z"
   },
   {
    "duration": 21,
    "start_time": "2021-09-30T20:47:31.688Z"
   },
   {
    "duration": 536,
    "start_time": "2021-09-30T20:47:31.712Z"
   },
   {
    "duration": 546,
    "start_time": "2021-09-30T20:47:32.250Z"
   },
   {
    "duration": 528,
    "start_time": "2021-09-30T20:47:32.799Z"
   },
   {
    "duration": 4,
    "start_time": "2021-09-30T20:47:33.329Z"
   },
   {
    "duration": 603,
    "start_time": "2021-09-30T20:47:33.335Z"
   },
   {
    "duration": 35,
    "start_time": "2021-09-30T20:47:33.941Z"
   },
   {
    "duration": 30,
    "start_time": "2021-09-30T20:49:01.959Z"
   },
   {
    "duration": 1361,
    "start_time": "2021-09-30T20:50:25.459Z"
   },
   {
    "duration": 537,
    "start_time": "2021-09-30T20:50:26.823Z"
   },
   {
    "duration": 22,
    "start_time": "2021-09-30T20:50:27.363Z"
   },
   {
    "duration": 39,
    "start_time": "2021-09-30T20:50:27.388Z"
   },
   {
    "duration": 28,
    "start_time": "2021-09-30T20:50:27.458Z"
   },
   {
    "duration": 178,
    "start_time": "2021-09-30T20:50:27.488Z"
   },
   {
    "duration": 17,
    "start_time": "2021-09-30T20:50:27.669Z"
   },
   {
    "duration": 71,
    "start_time": "2021-09-30T20:50:27.690Z"
   },
   {
    "duration": 23,
    "start_time": "2021-09-30T20:50:27.764Z"
   },
   {
    "duration": 134,
    "start_time": "2021-09-30T20:50:27.790Z"
   },
   {
    "duration": 11,
    "start_time": "2021-09-30T20:50:27.926Z"
   },
   {
    "duration": 35,
    "start_time": "2021-09-30T20:50:27.939Z"
   },
   {
    "duration": 85,
    "start_time": "2021-09-30T20:50:27.976Z"
   },
   {
    "duration": 11,
    "start_time": "2021-09-30T20:50:28.063Z"
   },
   {
    "duration": 9,
    "start_time": "2021-09-30T20:50:28.077Z"
   },
   {
    "duration": 16,
    "start_time": "2021-09-30T20:50:28.089Z"
   },
   {
    "duration": 61,
    "start_time": "2021-09-30T20:50:28.108Z"
   },
   {
    "duration": 10,
    "start_time": "2021-09-30T20:50:28.171Z"
   },
   {
    "duration": 15,
    "start_time": "2021-09-30T20:50:28.184Z"
   },
   {
    "duration": 83,
    "start_time": "2021-09-30T20:50:28.202Z"
   },
   {
    "duration": 6,
    "start_time": "2021-09-30T20:50:28.287Z"
   },
   {
    "duration": 32,
    "start_time": "2021-09-30T20:50:28.295Z"
   },
   {
    "duration": 30,
    "start_time": "2021-09-30T20:50:28.332Z"
   },
   {
    "duration": 26,
    "start_time": "2021-09-30T20:50:28.366Z"
   },
   {
    "duration": 8,
    "start_time": "2021-09-30T20:50:28.395Z"
   },
   {
    "duration": 12,
    "start_time": "2021-09-30T20:50:28.406Z"
   },
   {
    "duration": 1324,
    "start_time": "2021-09-30T20:50:28.421Z"
   },
   {
    "duration": 968,
    "start_time": "2021-09-30T20:50:29.748Z"
   },
   {
    "duration": 808,
    "start_time": "2021-09-30T20:50:30.719Z"
   },
   {
    "duration": 142,
    "start_time": "2021-09-30T20:50:31.530Z"
   },
   {
    "duration": 4,
    "start_time": "2021-09-30T20:50:31.674Z"
   },
   {
    "duration": 37,
    "start_time": "2021-09-30T20:50:31.681Z"
   },
   {
    "duration": 66,
    "start_time": "2021-09-30T20:50:31.721Z"
   },
   {
    "duration": 3,
    "start_time": "2021-09-30T20:50:31.789Z"
   },
   {
    "duration": 33,
    "start_time": "2021-09-30T20:50:31.794Z"
   },
   {
    "duration": 64,
    "start_time": "2021-09-30T20:50:31.829Z"
   },
   {
    "duration": 17,
    "start_time": "2021-09-30T20:50:31.895Z"
   },
   {
    "duration": 58,
    "start_time": "2021-09-30T20:50:31.914Z"
   },
   {
    "duration": 13,
    "start_time": "2021-09-30T20:50:31.974Z"
   },
   {
    "duration": 39,
    "start_time": "2021-09-30T20:50:31.989Z"
   },
   {
    "duration": 50,
    "start_time": "2021-09-30T20:50:32.030Z"
   },
   {
    "duration": 9,
    "start_time": "2021-09-30T20:50:32.082Z"
   },
   {
    "duration": 27,
    "start_time": "2021-09-30T20:50:32.093Z"
   },
   {
    "duration": 9,
    "start_time": "2021-09-30T20:50:32.123Z"
   },
   {
    "duration": 5,
    "start_time": "2021-09-30T20:50:32.159Z"
   },
   {
    "duration": 18,
    "start_time": "2021-09-30T20:50:32.166Z"
   },
   {
    "duration": 19,
    "start_time": "2021-09-30T20:50:32.186Z"
   },
   {
    "duration": 15,
    "start_time": "2021-09-30T20:50:32.207Z"
   },
   {
    "duration": 532,
    "start_time": "2021-09-30T20:50:32.225Z"
   },
   {
    "duration": 533,
    "start_time": "2021-09-30T20:50:32.760Z"
   },
   {
    "duration": 546,
    "start_time": "2021-09-30T20:50:33.296Z"
   },
   {
    "duration": 4,
    "start_time": "2021-09-30T20:50:33.845Z"
   },
   {
    "duration": 630,
    "start_time": "2021-09-30T20:50:33.851Z"
   },
   {
    "duration": 25,
    "start_time": "2021-09-30T20:50:34.483Z"
   },
   {
    "duration": 1075,
    "start_time": "2021-10-01T07:37:27.846Z"
   },
   {
    "duration": 388,
    "start_time": "2021-10-01T07:37:28.923Z"
   },
   {
    "duration": 17,
    "start_time": "2021-10-01T07:37:29.313Z"
   },
   {
    "duration": 30,
    "start_time": "2021-10-01T07:37:29.332Z"
   },
   {
    "duration": 21,
    "start_time": "2021-10-01T07:37:29.364Z"
   },
   {
    "duration": 116,
    "start_time": "2021-10-01T07:37:29.387Z"
   },
   {
    "duration": 14,
    "start_time": "2021-10-01T07:37:29.505Z"
   },
   {
    "duration": 46,
    "start_time": "2021-10-01T07:37:29.522Z"
   },
   {
    "duration": 16,
    "start_time": "2021-10-01T07:37:29.570Z"
   },
   {
    "duration": 75,
    "start_time": "2021-10-01T07:37:29.588Z"
   },
   {
    "duration": 7,
    "start_time": "2021-10-01T07:37:29.665Z"
   },
   {
    "duration": 18,
    "start_time": "2021-10-01T07:37:29.674Z"
   },
   {
    "duration": 56,
    "start_time": "2021-10-01T07:37:29.693Z"
   },
   {
    "duration": 7,
    "start_time": "2021-10-01T07:37:29.751Z"
   },
   {
    "duration": 8,
    "start_time": "2021-10-01T07:37:29.760Z"
   },
   {
    "duration": 14,
    "start_time": "2021-10-01T07:37:29.770Z"
   },
   {
    "duration": 12,
    "start_time": "2021-10-01T07:37:29.786Z"
   },
   {
    "duration": 10,
    "start_time": "2021-10-01T07:37:29.800Z"
   },
   {
    "duration": 8,
    "start_time": "2021-10-01T07:37:29.811Z"
   },
   {
    "duration": 50,
    "start_time": "2021-10-01T07:37:29.820Z"
   },
   {
    "duration": 4,
    "start_time": "2021-10-01T07:37:29.872Z"
   },
   {
    "duration": 24,
    "start_time": "2021-10-01T07:37:29.878Z"
   },
   {
    "duration": 4,
    "start_time": "2021-10-01T07:37:29.905Z"
   },
   {
    "duration": 38,
    "start_time": "2021-10-01T07:37:29.911Z"
   },
   {
    "duration": 5,
    "start_time": "2021-10-01T07:37:29.951Z"
   },
   {
    "duration": 5,
    "start_time": "2021-10-01T07:37:29.958Z"
   },
   {
    "duration": 848,
    "start_time": "2021-10-01T07:37:29.965Z"
   },
   {
    "duration": 629,
    "start_time": "2021-10-01T07:37:30.815Z"
   },
   {
    "duration": 507,
    "start_time": "2021-10-01T07:37:31.446Z"
   },
   {
    "duration": 96,
    "start_time": "2021-10-01T07:37:31.954Z"
   },
   {
    "duration": 3,
    "start_time": "2021-10-01T07:37:32.052Z"
   },
   {
    "duration": 18,
    "start_time": "2021-10-01T07:37:32.056Z"
   },
   {
    "duration": 46,
    "start_time": "2021-10-01T07:37:32.076Z"
   },
   {
    "duration": 3,
    "start_time": "2021-10-01T07:37:32.123Z"
   },
   {
    "duration": 19,
    "start_time": "2021-10-01T07:37:32.127Z"
   },
   {
    "duration": 47,
    "start_time": "2021-10-01T07:37:32.148Z"
   },
   {
    "duration": 11,
    "start_time": "2021-10-01T07:37:32.197Z"
   },
   {
    "duration": 40,
    "start_time": "2021-10-01T07:37:32.210Z"
   },
   {
    "duration": 8,
    "start_time": "2021-10-01T07:37:32.251Z"
   },
   {
    "duration": 19,
    "start_time": "2021-10-01T07:37:32.261Z"
   },
   {
    "duration": 22,
    "start_time": "2021-10-01T07:37:32.281Z"
   },
   {
    "duration": 6,
    "start_time": "2021-10-01T07:37:32.305Z"
   },
   {
    "duration": 32,
    "start_time": "2021-10-01T07:37:32.312Z"
   },
   {
    "duration": 6,
    "start_time": "2021-10-01T07:37:32.346Z"
   },
   {
    "duration": 4,
    "start_time": "2021-10-01T07:37:32.353Z"
   },
   {
    "duration": 11,
    "start_time": "2021-10-01T07:37:32.358Z"
   },
   {
    "duration": 5,
    "start_time": "2021-10-01T07:37:32.370Z"
   },
   {
    "duration": 8,
    "start_time": "2021-10-01T07:37:32.377Z"
   },
   {
    "duration": 271,
    "start_time": "2021-10-01T07:37:32.386Z"
   },
   {
    "duration": 260,
    "start_time": "2021-10-01T07:37:32.659Z"
   },
   {
    "duration": 255,
    "start_time": "2021-10-01T07:37:32.920Z"
   },
   {
    "duration": 3,
    "start_time": "2021-10-01T07:37:33.177Z"
   },
   {
    "duration": 301,
    "start_time": "2021-10-01T07:37:33.182Z"
   },
   {
    "duration": 16,
    "start_time": "2021-10-01T07:37:33.485Z"
   },
   {
    "duration": 341,
    "start_time": "2021-10-01T07:43:02.183Z"
   },
   {
    "duration": 8,
    "start_time": "2021-10-01T07:43:07.986Z"
   },
   {
    "duration": 1044,
    "start_time": "2021-10-01T07:46:46.877Z"
   },
   {
    "duration": 383,
    "start_time": "2021-10-01T07:46:47.923Z"
   },
   {
    "duration": 15,
    "start_time": "2021-10-01T07:46:48.309Z"
   },
   {
    "duration": 29,
    "start_time": "2021-10-01T07:46:48.326Z"
   },
   {
    "duration": 19,
    "start_time": "2021-10-01T07:46:48.356Z"
   },
   {
    "duration": 104,
    "start_time": "2021-10-01T07:46:48.377Z"
   },
   {
    "duration": 12,
    "start_time": "2021-10-01T07:46:48.482Z"
   },
   {
    "duration": 41,
    "start_time": "2021-10-01T07:46:48.496Z"
   },
   {
    "duration": 19,
    "start_time": "2021-10-01T07:46:48.539Z"
   },
   {
    "duration": 79,
    "start_time": "2021-10-01T07:46:48.560Z"
   },
   {
    "duration": 7,
    "start_time": "2021-10-01T07:46:48.641Z"
   },
   {
    "duration": 32,
    "start_time": "2021-10-01T07:46:48.649Z"
   },
   {
    "duration": 54,
    "start_time": "2021-10-01T07:46:48.683Z"
   },
   {
    "duration": 7,
    "start_time": "2021-10-01T07:46:48.739Z"
   },
   {
    "duration": 19,
    "start_time": "2021-10-01T07:46:48.748Z"
   },
   {
    "duration": 25,
    "start_time": "2021-10-01T07:46:48.768Z"
   },
   {
    "duration": 29,
    "start_time": "2021-10-01T07:46:48.795Z"
   },
   {
    "duration": 27,
    "start_time": "2021-10-01T07:46:48.826Z"
   },
   {
    "duration": 21,
    "start_time": "2021-10-01T07:46:48.855Z"
   },
   {
    "duration": 56,
    "start_time": "2021-10-01T07:46:48.877Z"
   },
   {
    "duration": 4,
    "start_time": "2021-10-01T07:46:48.935Z"
   },
   {
    "duration": 41,
    "start_time": "2021-10-01T07:46:48.941Z"
   },
   {
    "duration": 8,
    "start_time": "2021-10-01T07:46:48.986Z"
   },
   {
    "duration": 44,
    "start_time": "2021-10-01T07:46:48.996Z"
   },
   {
    "duration": 13,
    "start_time": "2021-10-01T07:46:49.042Z"
   },
   {
    "duration": 15,
    "start_time": "2021-10-01T07:46:49.057Z"
   },
   {
    "duration": 817,
    "start_time": "2021-10-01T07:46:49.073Z"
   },
   {
    "duration": 600,
    "start_time": "2021-10-01T07:46:49.892Z"
   },
   {
    "duration": 480,
    "start_time": "2021-10-01T07:46:50.494Z"
   },
   {
    "duration": 100,
    "start_time": "2021-10-01T07:46:50.976Z"
   },
   {
    "duration": 3,
    "start_time": "2021-10-01T07:46:51.077Z"
   },
   {
    "duration": 35,
    "start_time": "2021-10-01T07:46:51.081Z"
   },
   {
    "duration": 56,
    "start_time": "2021-10-01T07:46:51.117Z"
   },
   {
    "duration": 3,
    "start_time": "2021-10-01T07:46:51.175Z"
   },
   {
    "duration": 27,
    "start_time": "2021-10-01T07:46:51.179Z"
   },
   {
    "duration": 51,
    "start_time": "2021-10-01T07:46:51.208Z"
   },
   {
    "duration": 12,
    "start_time": "2021-10-01T07:46:51.260Z"
   },
   {
    "duration": 34,
    "start_time": "2021-10-01T07:46:51.274Z"
   },
   {
    "duration": 10,
    "start_time": "2021-10-01T07:46:51.309Z"
   },
   {
    "duration": 34,
    "start_time": "2021-10-01T07:46:51.320Z"
   },
   {
    "duration": 34,
    "start_time": "2021-10-01T07:46:51.356Z"
   },
   {
    "duration": 18,
    "start_time": "2021-10-01T07:46:51.391Z"
   },
   {
    "duration": 26,
    "start_time": "2021-10-01T07:46:51.411Z"
   },
   {
    "duration": 23,
    "start_time": "2021-10-01T07:46:51.439Z"
   },
   {
    "duration": 20,
    "start_time": "2021-10-01T07:46:51.464Z"
   },
   {
    "duration": 31,
    "start_time": "2021-10-01T07:46:51.486Z"
   },
   {
    "duration": 21,
    "start_time": "2021-10-01T07:46:51.518Z"
   },
   {
    "duration": 17,
    "start_time": "2021-10-01T07:46:51.541Z"
   },
   {
    "duration": 280,
    "start_time": "2021-10-01T07:46:51.560Z"
   },
   {
    "duration": 267,
    "start_time": "2021-10-01T07:46:51.842Z"
   },
   {
    "duration": 264,
    "start_time": "2021-10-01T07:46:52.111Z"
   },
   {
    "duration": 3,
    "start_time": "2021-10-01T07:46:52.377Z"
   },
   {
    "duration": 330,
    "start_time": "2021-10-01T07:46:52.382Z"
   },
   {
    "duration": 17,
    "start_time": "2021-10-01T07:46:52.713Z"
   },
   {
    "duration": 41,
    "start_time": "2021-10-01T07:46:52.731Z"
   },
   {
    "duration": 3,
    "start_time": "2021-10-01T07:50:22.087Z"
   },
   {
    "duration": 1078,
    "start_time": "2021-10-01T08:14:08.141Z"
   },
   {
    "duration": 386,
    "start_time": "2021-10-01T08:14:09.221Z"
   },
   {
    "duration": 16,
    "start_time": "2021-10-01T08:14:09.609Z"
   },
   {
    "duration": 28,
    "start_time": "2021-10-01T08:14:09.627Z"
   },
   {
    "duration": 20,
    "start_time": "2021-10-01T08:14:09.656Z"
   },
   {
    "duration": 115,
    "start_time": "2021-10-01T08:14:09.677Z"
   },
   {
    "duration": 12,
    "start_time": "2021-10-01T08:14:09.794Z"
   },
   {
    "duration": 45,
    "start_time": "2021-10-01T08:14:09.808Z"
   },
   {
    "duration": 16,
    "start_time": "2021-10-01T08:14:09.856Z"
   },
   {
    "duration": 79,
    "start_time": "2021-10-01T08:14:09.874Z"
   },
   {
    "duration": 8,
    "start_time": "2021-10-01T08:14:09.954Z"
   },
   {
    "duration": 18,
    "start_time": "2021-10-01T08:14:09.963Z"
   },
   {
    "duration": 64,
    "start_time": "2021-10-01T08:14:09.982Z"
   },
   {
    "duration": 8,
    "start_time": "2021-10-01T08:14:10.047Z"
   },
   {
    "duration": 8,
    "start_time": "2021-10-01T08:14:10.057Z"
   },
   {
    "duration": 12,
    "start_time": "2021-10-01T08:14:10.067Z"
   },
   {
    "duration": 17,
    "start_time": "2021-10-01T08:14:10.081Z"
   },
   {
    "duration": 7,
    "start_time": "2021-10-01T08:14:10.099Z"
   },
   {
    "duration": 6,
    "start_time": "2021-10-01T08:14:10.145Z"
   },
   {
    "duration": 31,
    "start_time": "2021-10-01T08:14:10.152Z"
   },
   {
    "duration": 4,
    "start_time": "2021-10-01T08:14:10.185Z"
   },
   {
    "duration": 24,
    "start_time": "2021-10-01T08:14:10.191Z"
   },
   {
    "duration": 30,
    "start_time": "2021-10-01T08:14:10.216Z"
   },
   {
    "duration": 16,
    "start_time": "2021-10-01T08:14:10.248Z"
   },
   {
    "duration": 6,
    "start_time": "2021-10-01T08:14:10.265Z"
   },
   {
    "duration": 6,
    "start_time": "2021-10-01T08:14:10.273Z"
   },
   {
    "duration": 850,
    "start_time": "2021-10-01T08:14:10.283Z"
   },
   {
    "duration": 601,
    "start_time": "2021-10-01T08:14:11.135Z"
   },
   {
    "duration": 507,
    "start_time": "2021-10-01T08:14:11.737Z"
   },
   {
    "duration": 86,
    "start_time": "2021-10-01T08:14:12.246Z"
   },
   {
    "duration": 11,
    "start_time": "2021-10-01T08:14:12.334Z"
   },
   {
    "duration": 18,
    "start_time": "2021-10-01T08:14:12.346Z"
   },
   {
    "duration": 38,
    "start_time": "2021-10-01T08:14:12.365Z"
   },
   {
    "duration": 2,
    "start_time": "2021-10-01T08:14:12.405Z"
   },
   {
    "duration": 36,
    "start_time": "2021-10-01T08:14:12.409Z"
   },
   {
    "duration": 38,
    "start_time": "2021-10-01T08:14:12.447Z"
   },
   {
    "duration": 11,
    "start_time": "2021-10-01T08:14:12.486Z"
   },
   {
    "duration": 46,
    "start_time": "2021-10-01T08:14:12.498Z"
   },
   {
    "duration": 9,
    "start_time": "2021-10-01T08:14:12.546Z"
   },
   {
    "duration": 21,
    "start_time": "2021-10-01T08:14:12.557Z"
   },
   {
    "duration": 21,
    "start_time": "2021-10-01T08:14:12.580Z"
   },
   {
    "duration": 8,
    "start_time": "2021-10-01T08:14:12.603Z"
   },
   {
    "duration": 5,
    "start_time": "2021-10-01T08:14:12.645Z"
   },
   {
    "duration": 15,
    "start_time": "2021-10-01T08:14:12.651Z"
   },
   {
    "duration": 10,
    "start_time": "2021-10-01T08:14:12.667Z"
   },
   {
    "duration": 10,
    "start_time": "2021-10-01T08:14:12.678Z"
   },
   {
    "duration": 8,
    "start_time": "2021-10-01T08:14:12.690Z"
   },
   {
    "duration": 13,
    "start_time": "2021-10-01T08:14:12.699Z"
   },
   {
    "duration": 259,
    "start_time": "2021-10-01T08:14:12.714Z"
   },
   {
    "duration": 269,
    "start_time": "2021-10-01T08:14:12.975Z"
   },
   {
    "duration": 261,
    "start_time": "2021-10-01T08:14:13.246Z"
   },
   {
    "duration": 3,
    "start_time": "2021-10-01T08:14:13.509Z"
   },
   {
    "duration": 303,
    "start_time": "2021-10-01T08:14:13.514Z"
   },
   {
    "duration": 28,
    "start_time": "2021-10-01T08:14:13.818Z"
   },
   {
    "duration": 25,
    "start_time": "2021-10-01T08:14:13.848Z"
   },
   {
    "duration": 47,
    "start_time": "2021-10-01T08:14:13.875Z"
   },
   {
    "duration": 23,
    "start_time": "2021-10-01T09:20:01.487Z"
   },
   {
    "duration": 339,
    "start_time": "2021-10-01T09:20:26.865Z"
   },
   {
    "duration": 13,
    "start_time": "2021-10-01T09:20:35.253Z"
   },
   {
    "duration": 7,
    "start_time": "2021-10-01T09:23:15.992Z"
   },
   {
    "duration": 441,
    "start_time": "2021-10-01T09:24:36.572Z"
   },
   {
    "duration": 18,
    "start_time": "2021-10-01T09:24:46.201Z"
   },
   {
    "duration": 24,
    "start_time": "2021-10-01T09:25:25.752Z"
   },
   {
    "duration": 11,
    "start_time": "2021-10-01T09:27:53.343Z"
   },
   {
    "duration": 12,
    "start_time": "2021-10-01T09:28:02.470Z"
   },
   {
    "duration": 13,
    "start_time": "2021-10-01T09:29:26.536Z"
   },
   {
    "duration": 16,
    "start_time": "2021-10-01T09:29:57.137Z"
   },
   {
    "duration": 16,
    "start_time": "2021-10-01T09:34:00.805Z"
   },
   {
    "duration": 12,
    "start_time": "2021-10-01T09:34:21.412Z"
   },
   {
    "duration": 17,
    "start_time": "2021-10-01T09:35:02.157Z"
   },
   {
    "duration": 108,
    "start_time": "2021-10-01T09:35:46.146Z"
   },
   {
    "duration": 25,
    "start_time": "2021-10-01T09:35:54.756Z"
   },
   {
    "duration": 12,
    "start_time": "2021-10-01T09:36:06.847Z"
   },
   {
    "duration": 18,
    "start_time": "2021-10-01T09:36:29.988Z"
   },
   {
    "duration": 12,
    "start_time": "2021-10-01T09:36:41.668Z"
   },
   {
    "duration": 24,
    "start_time": "2021-10-01T09:40:36.302Z"
   },
   {
    "duration": 11,
    "start_time": "2021-10-01T09:40:52.599Z"
   },
   {
    "duration": 13,
    "start_time": "2021-10-01T09:43:14.455Z"
   },
   {
    "duration": 13,
    "start_time": "2021-10-01T09:47:11.676Z"
   },
   {
    "duration": 13,
    "start_time": "2021-10-01T09:48:58.255Z"
   },
   {
    "duration": 12,
    "start_time": "2021-10-01T10:01:10.266Z"
   },
   {
    "duration": 1148,
    "start_time": "2021-10-01T10:08:16.210Z"
   },
   {
    "duration": 396,
    "start_time": "2021-10-01T10:08:17.360Z"
   },
   {
    "duration": 18,
    "start_time": "2021-10-01T10:08:17.758Z"
   },
   {
    "duration": 30,
    "start_time": "2021-10-01T10:08:17.778Z"
   },
   {
    "duration": 43,
    "start_time": "2021-10-01T10:08:17.810Z"
   },
   {
    "duration": 112,
    "start_time": "2021-10-01T10:08:17.855Z"
   },
   {
    "duration": 13,
    "start_time": "2021-10-01T10:08:17.970Z"
   },
   {
    "duration": 28,
    "start_time": "2021-10-01T10:08:17.986Z"
   },
   {
    "duration": 45,
    "start_time": "2021-10-01T10:08:18.016Z"
   },
   {
    "duration": 81,
    "start_time": "2021-10-01T10:08:18.063Z"
   },
   {
    "duration": 9,
    "start_time": "2021-10-01T10:08:18.146Z"
   },
   {
    "duration": 17,
    "start_time": "2021-10-01T10:08:18.157Z"
   },
   {
    "duration": 38,
    "start_time": "2021-10-01T10:08:18.175Z"
   },
   {
    "duration": 37,
    "start_time": "2021-10-01T10:08:18.215Z"
   },
   {
    "duration": 12,
    "start_time": "2021-10-01T10:08:18.253Z"
   },
   {
    "duration": 15,
    "start_time": "2021-10-01T10:08:18.266Z"
   },
   {
    "duration": 15,
    "start_time": "2021-10-01T10:08:18.283Z"
   },
   {
    "duration": 7,
    "start_time": "2021-10-01T10:08:18.300Z"
   },
   {
    "duration": 8,
    "start_time": "2021-10-01T10:08:18.344Z"
   },
   {
    "duration": 29,
    "start_time": "2021-10-01T10:08:18.354Z"
   },
   {
    "duration": 5,
    "start_time": "2021-10-01T10:08:18.385Z"
   },
   {
    "duration": 60,
    "start_time": "2021-10-01T10:08:18.392Z"
   },
   {
    "duration": 4,
    "start_time": "2021-10-01T10:08:18.455Z"
   },
   {
    "duration": 18,
    "start_time": "2021-10-01T10:08:18.462Z"
   },
   {
    "duration": 6,
    "start_time": "2021-10-01T10:08:18.481Z"
   },
   {
    "duration": 9,
    "start_time": "2021-10-01T10:08:18.489Z"
   },
   {
    "duration": 854,
    "start_time": "2021-10-01T10:08:18.500Z"
   },
   {
    "duration": 633,
    "start_time": "2021-10-01T10:08:19.356Z"
   },
   {
    "duration": 521,
    "start_time": "2021-10-01T10:08:19.991Z"
   },
   {
    "duration": 97,
    "start_time": "2021-10-01T10:08:20.513Z"
   },
   {
    "duration": 3,
    "start_time": "2021-10-01T10:08:20.612Z"
   },
   {
    "duration": 27,
    "start_time": "2021-10-01T10:08:20.617Z"
   },
   {
    "duration": 38,
    "start_time": "2021-10-01T10:08:20.646Z"
   },
   {
    "duration": 3,
    "start_time": "2021-10-01T10:08:20.686Z"
   },
   {
    "duration": 21,
    "start_time": "2021-10-01T10:08:20.690Z"
   },
   {
    "duration": 58,
    "start_time": "2021-10-01T10:08:20.712Z"
   },
   {
    "duration": 10,
    "start_time": "2021-10-01T10:08:20.772Z"
   },
   {
    "duration": 23,
    "start_time": "2021-10-01T10:08:20.784Z"
   },
   {
    "duration": 9,
    "start_time": "2021-10-01T10:08:20.808Z"
   },
   {
    "duration": 43,
    "start_time": "2021-10-01T10:08:20.819Z"
   },
   {
    "duration": 22,
    "start_time": "2021-10-01T10:08:20.864Z"
   },
   {
    "duration": 6,
    "start_time": "2021-10-01T10:08:20.887Z"
   },
   {
    "duration": 6,
    "start_time": "2021-10-01T10:08:20.894Z"
   },
   {
    "duration": 8,
    "start_time": "2021-10-01T10:08:20.901Z"
   },
   {
    "duration": 36,
    "start_time": "2021-10-01T10:08:20.911Z"
   },
   {
    "duration": 12,
    "start_time": "2021-10-01T10:08:20.949Z"
   },
   {
    "duration": 13,
    "start_time": "2021-10-01T10:08:20.962Z"
   },
   {
    "duration": 6,
    "start_time": "2021-10-01T10:08:20.977Z"
   },
   {
    "duration": 268,
    "start_time": "2021-10-01T10:08:20.984Z"
   },
   {
    "duration": 281,
    "start_time": "2021-10-01T10:08:21.254Z"
   },
   {
    "duration": 294,
    "start_time": "2021-10-01T10:08:21.537Z"
   },
   {
    "duration": 6826,
    "start_time": "2021-10-01T10:08:21.833Z"
   },
   {
    "duration": 289,
    "start_time": "2021-10-01T10:08:28.372Z"
   },
   {
    "duration": 284,
    "start_time": "2021-10-01T10:08:28.378Z"
   },
   {
    "duration": 279,
    "start_time": "2021-10-01T10:08:28.383Z"
   },
   {
    "duration": 276,
    "start_time": "2021-10-01T10:08:28.387Z"
   },
   {
    "duration": 274,
    "start_time": "2021-10-01T10:08:28.391Z"
   },
   {
    "duration": 270,
    "start_time": "2021-10-01T10:08:28.395Z"
   },
   {
    "duration": 1097,
    "start_time": "2021-10-01T10:08:44.125Z"
   },
   {
    "duration": 393,
    "start_time": "2021-10-01T10:08:45.227Z"
   },
   {
    "duration": 16,
    "start_time": "2021-10-01T10:08:45.622Z"
   },
   {
    "duration": 29,
    "start_time": "2021-10-01T10:08:45.641Z"
   },
   {
    "duration": 20,
    "start_time": "2021-10-01T10:08:45.672Z"
   },
   {
    "duration": 129,
    "start_time": "2021-10-01T10:08:45.694Z"
   },
   {
    "duration": 18,
    "start_time": "2021-10-01T10:08:45.826Z"
   },
   {
    "duration": 28,
    "start_time": "2021-10-01T10:08:45.846Z"
   },
   {
    "duration": 16,
    "start_time": "2021-10-01T10:08:45.875Z"
   },
   {
    "duration": 94,
    "start_time": "2021-10-01T10:08:45.893Z"
   },
   {
    "duration": 7,
    "start_time": "2021-10-01T10:08:45.989Z"
   },
   {
    "duration": 17,
    "start_time": "2021-10-01T10:08:45.998Z"
   },
   {
    "duration": 61,
    "start_time": "2021-10-01T10:08:46.016Z"
   },
   {
    "duration": 6,
    "start_time": "2021-10-01T10:08:46.079Z"
   },
   {
    "duration": 9,
    "start_time": "2021-10-01T10:08:46.087Z"
   },
   {
    "duration": 15,
    "start_time": "2021-10-01T10:08:46.097Z"
   },
   {
    "duration": 40,
    "start_time": "2021-10-01T10:08:46.114Z"
   },
   {
    "duration": 7,
    "start_time": "2021-10-01T10:08:46.156Z"
   },
   {
    "duration": 15,
    "start_time": "2021-10-01T10:08:46.165Z"
   },
   {
    "duration": 36,
    "start_time": "2021-10-01T10:08:46.181Z"
   },
   {
    "duration": 5,
    "start_time": "2021-10-01T10:08:46.218Z"
   },
   {
    "duration": 35,
    "start_time": "2021-10-01T10:08:46.227Z"
   },
   {
    "duration": 4,
    "start_time": "2021-10-01T10:08:46.264Z"
   },
   {
    "duration": 25,
    "start_time": "2021-10-01T10:08:46.270Z"
   },
   {
    "duration": 6,
    "start_time": "2021-10-01T10:08:46.297Z"
   },
   {
    "duration": 8,
    "start_time": "2021-10-01T10:08:46.305Z"
   },
   {
    "duration": 852,
    "start_time": "2021-10-01T10:08:46.314Z"
   },
   {
    "duration": 662,
    "start_time": "2021-10-01T10:08:47.168Z"
   },
   {
    "duration": 501,
    "start_time": "2021-10-01T10:08:47.832Z"
   },
   {
    "duration": 94,
    "start_time": "2021-10-01T10:08:48.335Z"
   },
   {
    "duration": 3,
    "start_time": "2021-10-01T10:08:48.430Z"
   },
   {
    "duration": 21,
    "start_time": "2021-10-01T10:08:48.434Z"
   },
   {
    "duration": 38,
    "start_time": "2021-10-01T10:08:48.457Z"
   },
   {
    "duration": 3,
    "start_time": "2021-10-01T10:08:48.497Z"
   },
   {
    "duration": 33,
    "start_time": "2021-10-01T10:08:48.501Z"
   },
   {
    "duration": 38,
    "start_time": "2021-10-01T10:08:48.545Z"
   },
   {
    "duration": 12,
    "start_time": "2021-10-01T10:08:48.584Z"
   },
   {
    "duration": 33,
    "start_time": "2021-10-01T10:08:48.597Z"
   },
   {
    "duration": 18,
    "start_time": "2021-10-01T10:08:48.632Z"
   },
   {
    "duration": 21,
    "start_time": "2021-10-01T10:08:48.652Z"
   },
   {
    "duration": 23,
    "start_time": "2021-10-01T10:08:48.674Z"
   },
   {
    "duration": 6,
    "start_time": "2021-10-01T10:08:48.698Z"
   },
   {
    "duration": 40,
    "start_time": "2021-10-01T10:08:48.706Z"
   },
   {
    "duration": 7,
    "start_time": "2021-10-01T10:08:48.748Z"
   },
   {
    "duration": 4,
    "start_time": "2021-10-01T10:08:48.756Z"
   },
   {
    "duration": 15,
    "start_time": "2021-10-01T10:08:48.762Z"
   },
   {
    "duration": 17,
    "start_time": "2021-10-01T10:08:48.778Z"
   },
   {
    "duration": 23,
    "start_time": "2021-10-01T10:08:48.797Z"
   },
   {
    "duration": 275,
    "start_time": "2021-10-01T10:08:48.822Z"
   },
   {
    "duration": 268,
    "start_time": "2021-10-01T10:08:49.098Z"
   },
   {
    "duration": 259,
    "start_time": "2021-10-01T10:08:49.368Z"
   },
   {
    "duration": 3,
    "start_time": "2021-10-01T10:08:49.629Z"
   },
   {
    "duration": 8307,
    "start_time": "2021-10-01T10:08:49.634Z"
   },
   {
    "duration": 277,
    "start_time": "2021-10-01T10:08:57.666Z"
   },
   {
    "duration": 271,
    "start_time": "2021-10-01T10:08:57.673Z"
   },
   {
    "duration": 268,
    "start_time": "2021-10-01T10:08:57.677Z"
   },
   {
    "duration": 264,
    "start_time": "2021-10-01T10:08:57.682Z"
   },
   {
    "duration": 261,
    "start_time": "2021-10-01T10:08:57.686Z"
   },
   {
    "duration": 1112,
    "start_time": "2021-10-01T10:10:20.922Z"
   },
   {
    "duration": 407,
    "start_time": "2021-10-01T10:10:22.036Z"
   },
   {
    "duration": 19,
    "start_time": "2021-10-01T10:10:22.445Z"
   },
   {
    "duration": 33,
    "start_time": "2021-10-01T10:10:22.466Z"
   },
   {
    "duration": 52,
    "start_time": "2021-10-01T10:10:22.501Z"
   },
   {
    "duration": 117,
    "start_time": "2021-10-01T10:10:22.555Z"
   },
   {
    "duration": 15,
    "start_time": "2021-10-01T10:10:22.674Z"
   },
   {
    "duration": 53,
    "start_time": "2021-10-01T10:10:22.692Z"
   },
   {
    "duration": 19,
    "start_time": "2021-10-01T10:10:22.749Z"
   },
   {
    "duration": 86,
    "start_time": "2021-10-01T10:10:22.770Z"
   },
   {
    "duration": 9,
    "start_time": "2021-10-01T10:10:22.858Z"
   },
   {
    "duration": 23,
    "start_time": "2021-10-01T10:10:22.869Z"
   },
   {
    "duration": 59,
    "start_time": "2021-10-01T10:10:22.894Z"
   },
   {
    "duration": 9,
    "start_time": "2021-10-01T10:10:22.955Z"
   },
   {
    "duration": 22,
    "start_time": "2021-10-01T10:10:22.966Z"
   },
   {
    "duration": 16,
    "start_time": "2021-10-01T10:10:22.990Z"
   },
   {
    "duration": 23,
    "start_time": "2021-10-01T10:10:23.009Z"
   },
   {
    "duration": 14,
    "start_time": "2021-10-01T10:10:23.045Z"
   },
   {
    "duration": 13,
    "start_time": "2021-10-01T10:10:23.061Z"
   },
   {
    "duration": 34,
    "start_time": "2021-10-01T10:10:23.076Z"
   },
   {
    "duration": 6,
    "start_time": "2021-10-01T10:10:23.111Z"
   },
   {
    "duration": 40,
    "start_time": "2021-10-01T10:10:23.118Z"
   },
   {
    "duration": 5,
    "start_time": "2021-10-01T10:10:23.163Z"
   },
   {
    "duration": 42,
    "start_time": "2021-10-01T10:10:23.171Z"
   },
   {
    "duration": 9,
    "start_time": "2021-10-01T10:10:23.215Z"
   },
   {
    "duration": 24,
    "start_time": "2021-10-01T10:10:23.226Z"
   },
   {
    "duration": 876,
    "start_time": "2021-10-01T10:10:23.251Z"
   },
   {
    "duration": 669,
    "start_time": "2021-10-01T10:10:24.129Z"
   },
   {
    "duration": 529,
    "start_time": "2021-10-01T10:10:24.800Z"
   },
   {
    "duration": 95,
    "start_time": "2021-10-01T10:10:25.331Z"
   },
   {
    "duration": 2,
    "start_time": "2021-10-01T10:10:25.428Z"
   },
   {
    "duration": 22,
    "start_time": "2021-10-01T10:10:25.432Z"
   },
   {
    "duration": 39,
    "start_time": "2021-10-01T10:10:25.455Z"
   },
   {
    "duration": 3,
    "start_time": "2021-10-01T10:10:25.495Z"
   },
   {
    "duration": 19,
    "start_time": "2021-10-01T10:10:25.500Z"
   },
   {
    "duration": 37,
    "start_time": "2021-10-01T10:10:25.545Z"
   },
   {
    "duration": 12,
    "start_time": "2021-10-01T10:10:25.584Z"
   },
   {
    "duration": 46,
    "start_time": "2021-10-01T10:10:25.598Z"
   },
   {
    "duration": 10,
    "start_time": "2021-10-01T10:10:25.646Z"
   },
   {
    "duration": 25,
    "start_time": "2021-10-01T10:10:25.658Z"
   },
   {
    "duration": 22,
    "start_time": "2021-10-01T10:10:25.684Z"
   },
   {
    "duration": 6,
    "start_time": "2021-10-01T10:10:25.708Z"
   },
   {
    "duration": 31,
    "start_time": "2021-10-01T10:10:25.716Z"
   },
   {
    "duration": 8,
    "start_time": "2021-10-01T10:10:25.750Z"
   },
   {
    "duration": 4,
    "start_time": "2021-10-01T10:10:25.760Z"
   },
   {
    "duration": 7,
    "start_time": "2021-10-01T10:10:25.766Z"
   },
   {
    "duration": 7,
    "start_time": "2021-10-01T10:10:25.774Z"
   },
   {
    "duration": 8,
    "start_time": "2021-10-01T10:10:25.783Z"
   },
   {
    "duration": 297,
    "start_time": "2021-10-01T10:10:25.793Z"
   },
   {
    "duration": 273,
    "start_time": "2021-10-01T10:10:26.092Z"
   },
   {
    "duration": 278,
    "start_time": "2021-10-01T10:10:26.367Z"
   },
   {
    "duration": 4,
    "start_time": "2021-10-01T10:10:26.646Z"
   },
   {
    "duration": 325,
    "start_time": "2021-10-01T10:10:26.651Z"
   },
   {
    "duration": 16,
    "start_time": "2021-10-01T10:10:26.978Z"
   },
   {
    "duration": 8,
    "start_time": "2021-10-01T10:10:26.996Z"
   },
   {
    "duration": 53,
    "start_time": "2021-10-01T10:10:27.006Z"
   },
   {
    "duration": 11,
    "start_time": "2021-10-01T10:10:27.060Z"
   },
   {
    "duration": 26,
    "start_time": "2021-10-01T10:10:27.073Z"
   },
   {
    "duration": 15,
    "start_time": "2021-10-01T10:17:30.928Z"
   },
   {
    "duration": 20,
    "start_time": "2021-10-01T10:17:56.388Z"
   },
   {
    "duration": 25,
    "start_time": "2021-10-01T10:18:36.502Z"
   },
   {
    "duration": 12,
    "start_time": "2021-10-01T10:29:20.860Z"
   },
   {
    "duration": 29,
    "start_time": "2021-10-01T10:29:33.953Z"
   },
   {
    "duration": 7,
    "start_time": "2021-10-01T10:35:48.089Z"
   },
   {
    "duration": 9,
    "start_time": "2021-10-01T10:35:57.554Z"
   },
   {
    "duration": 14,
    "start_time": "2021-10-01T10:36:14.309Z"
   },
   {
    "duration": 5,
    "start_time": "2021-10-01T10:41:08.695Z"
   },
   {
    "duration": 11,
    "start_time": "2021-10-01T10:41:13.628Z"
   },
   {
    "duration": 12,
    "start_time": "2021-10-01T10:41:57.315Z"
   },
   {
    "duration": 10,
    "start_time": "2021-10-01T10:42:07.090Z"
   },
   {
    "duration": 340,
    "start_time": "2021-10-01T10:42:30.656Z"
   },
   {
    "duration": 12,
    "start_time": "2021-10-01T10:43:45.020Z"
   },
   {
    "duration": 12,
    "start_time": "2021-10-01T10:43:50.668Z"
   },
   {
    "duration": 11,
    "start_time": "2021-10-01T10:43:56.401Z"
   },
   {
    "duration": 264,
    "start_time": "2021-10-01T10:45:23.490Z"
   },
   {
    "duration": 526,
    "start_time": "2021-10-01T10:46:03.223Z"
   },
   {
    "duration": 6,
    "start_time": "2021-10-01T10:50:08.468Z"
   },
   {
    "duration": 9,
    "start_time": "2021-10-01T10:50:13.249Z"
   },
   {
    "duration": 266,
    "start_time": "2021-10-01T10:50:27.317Z"
   },
   {
    "duration": 257,
    "start_time": "2021-10-01T10:50:35.225Z"
   },
   {
    "duration": 9,
    "start_time": "2021-10-01T10:50:38.109Z"
   },
   {
    "duration": 257,
    "start_time": "2021-10-01T10:50:44.691Z"
   },
   {
    "duration": 287,
    "start_time": "2021-10-01T10:50:56.519Z"
   },
   {
    "duration": 91,
    "start_time": "2021-10-01T10:51:38.071Z"
   },
   {
    "duration": 255,
    "start_time": "2021-10-01T10:51:40.985Z"
   },
   {
    "duration": 264,
    "start_time": "2021-10-01T10:52:29.519Z"
   },
   {
    "duration": 262,
    "start_time": "2021-10-01T10:52:43.102Z"
   },
   {
    "duration": 265,
    "start_time": "2021-10-01T10:52:57.299Z"
   },
   {
    "duration": 290,
    "start_time": "2021-10-01T10:53:05.395Z"
   },
   {
    "duration": 268,
    "start_time": "2021-10-01T10:55:28.024Z"
   },
   {
    "duration": 270,
    "start_time": "2021-10-01T10:55:42.798Z"
   },
   {
    "duration": 257,
    "start_time": "2021-10-01T10:55:49.657Z"
   },
   {
    "duration": 6,
    "start_time": "2021-10-01T10:55:59.933Z"
   },
   {
    "duration": 265,
    "start_time": "2021-10-01T10:56:08.764Z"
   },
   {
    "duration": 273,
    "start_time": "2021-10-01T10:56:14.372Z"
   },
   {
    "duration": 265,
    "start_time": "2021-10-01T10:57:48.875Z"
   },
   {
    "duration": 271,
    "start_time": "2021-10-01T10:57:58.232Z"
   },
   {
    "duration": 85,
    "start_time": "2021-10-01T10:58:12.662Z"
   },
   {
    "duration": 82,
    "start_time": "2021-10-01T10:58:16.174Z"
   },
   {
    "duration": 372,
    "start_time": "2021-10-01T10:58:29.945Z"
   },
   {
    "duration": 262,
    "start_time": "2021-10-01T10:59:44.855Z"
   },
   {
    "duration": 12,
    "start_time": "2021-10-01T11:00:03.434Z"
   },
   {
    "duration": 349,
    "start_time": "2021-10-01T11:00:09.950Z"
   },
   {
    "duration": 354,
    "start_time": "2021-10-01T11:00:27.277Z"
   },
   {
    "duration": 92,
    "start_time": "2021-10-01T11:03:50.805Z"
   },
   {
    "duration": 92,
    "start_time": "2021-10-01T11:04:07.921Z"
   },
   {
    "duration": 1304,
    "start_time": "2021-10-01T11:04:14.978Z"
   },
   {
    "duration": 106,
    "start_time": "2021-10-01T11:04:28.236Z"
   },
   {
    "duration": 10,
    "start_time": "2021-10-01T11:04:31.463Z"
   },
   {
    "duration": 1400,
    "start_time": "2021-10-01T11:04:44.231Z"
   },
   {
    "duration": 742,
    "start_time": "2021-10-01T11:04:50.246Z"
   },
   {
    "duration": 9,
    "start_time": "2021-10-01T11:04:56.127Z"
   },
   {
    "duration": 88,
    "start_time": "2021-10-01T11:05:15.526Z"
   },
   {
    "duration": 717,
    "start_time": "2021-10-01T11:05:21.629Z"
   },
   {
    "duration": 26,
    "start_time": "2021-10-01T11:07:41.487Z"
   },
   {
    "duration": 316,
    "start_time": "2021-10-01T11:07:47.372Z"
   },
   {
    "duration": 34,
    "start_time": "2021-10-01T11:07:51.641Z"
   },
   {
    "duration": 41,
    "start_time": "2021-10-01T11:08:08.941Z"
   },
   {
    "duration": 21,
    "start_time": "2021-10-01T11:08:50.835Z"
   },
   {
    "duration": 19,
    "start_time": "2021-10-01T11:09:41.586Z"
   },
   {
    "duration": 17,
    "start_time": "2021-10-01T11:09:47.777Z"
   },
   {
    "duration": 28,
    "start_time": "2021-10-01T11:09:59.331Z"
   },
   {
    "duration": 275,
    "start_time": "2021-10-01T11:52:57.022Z"
   },
   {
    "duration": 8,
    "start_time": "2021-10-01T11:53:13.618Z"
   },
   {
    "duration": 255,
    "start_time": "2021-10-01T11:53:54.954Z"
   },
   {
    "duration": 138,
    "start_time": "2021-10-01T11:54:45.704Z"
   },
   {
    "duration": 191,
    "start_time": "2021-10-01T11:57:22.268Z"
   },
   {
    "duration": 129,
    "start_time": "2021-10-01T11:58:28.578Z"
   },
   {
    "duration": 794,
    "start_time": "2021-10-01T11:59:20.554Z"
   },
   {
    "duration": 312,
    "start_time": "2021-10-01T11:59:24.239Z"
   },
   {
    "duration": 7765,
    "start_time": "2021-10-01T11:59:57.140Z"
   },
   {
    "duration": 951,
    "start_time": "2021-10-01T12:00:11.064Z"
   },
   {
    "duration": 942,
    "start_time": "2021-10-01T12:00:24.882Z"
   },
   {
    "duration": 147,
    "start_time": "2021-10-01T12:01:33.131Z"
   },
   {
    "duration": 157,
    "start_time": "2021-10-01T12:01:49.746Z"
   },
   {
    "duration": 395,
    "start_time": "2021-10-01T12:03:36.617Z"
   },
   {
    "duration": 91,
    "start_time": "2021-10-01T12:04:01.986Z"
   },
   {
    "duration": 85,
    "start_time": "2021-10-01T12:04:10.024Z"
   },
   {
    "duration": 158,
    "start_time": "2021-10-01T12:04:17.895Z"
   },
   {
    "duration": 680,
    "start_time": "2021-10-01T12:04:49.488Z"
   },
   {
    "duration": 88,
    "start_time": "2021-10-01T12:12:29.924Z"
   },
   {
    "duration": 267,
    "start_time": "2021-10-01T12:12:38.931Z"
   },
   {
    "duration": 349,
    "start_time": "2021-10-01T12:12:53.816Z"
   },
   {
    "duration": 400,
    "start_time": "2021-10-01T12:13:41.225Z"
   },
   {
    "duration": 265,
    "start_time": "2021-10-01T12:14:26.534Z"
   },
   {
    "duration": 269,
    "start_time": "2021-10-01T12:14:32.059Z"
   },
   {
    "duration": 284,
    "start_time": "2021-10-01T12:15:28.577Z"
   },
   {
    "duration": 16904,
    "start_time": "2021-10-01T12:15:41.553Z"
   },
   {
    "duration": 214,
    "start_time": "2021-10-01T12:23:04.486Z"
   },
   {
    "duration": 12651,
    "start_time": "2021-10-01T12:23:23.493Z"
   },
   {
    "duration": 6169,
    "start_time": "2021-10-01T12:23:54.976Z"
   },
   {
    "duration": 92,
    "start_time": "2021-10-01T12:26:02.164Z"
   },
   {
    "duration": 716,
    "start_time": "2021-10-01T12:27:03.445Z"
   },
   {
    "duration": 399,
    "start_time": "2021-10-01T12:28:43.604Z"
   },
   {
    "duration": 17160,
    "start_time": "2021-10-01T12:29:39.693Z"
   },
   {
    "duration": 754,
    "start_time": "2021-10-01T12:38:21.614Z"
   },
   {
    "duration": 276,
    "start_time": "2021-10-01T12:38:40.414Z"
   },
   {
    "duration": 164,
    "start_time": "2021-10-01T12:38:47.130Z"
   },
   {
    "duration": 283,
    "start_time": "2021-10-01T12:39:03.587Z"
   },
   {
    "duration": 131,
    "start_time": "2021-10-01T12:39:15.724Z"
   },
   {
    "duration": 158,
    "start_time": "2021-10-01T12:39:35.252Z"
   },
   {
    "duration": 1182,
    "start_time": "2021-10-01T12:40:16.612Z"
   },
   {
    "duration": 393,
    "start_time": "2021-10-01T12:40:17.796Z"
   },
   {
    "duration": 17,
    "start_time": "2021-10-01T12:40:18.191Z"
   },
   {
    "duration": 28,
    "start_time": "2021-10-01T12:40:18.210Z"
   },
   {
    "duration": 19,
    "start_time": "2021-10-01T12:40:18.240Z"
   },
   {
    "duration": 115,
    "start_time": "2021-10-01T12:40:18.260Z"
   },
   {
    "duration": 12,
    "start_time": "2021-10-01T12:40:18.376Z"
   },
   {
    "duration": 44,
    "start_time": "2021-10-01T12:40:18.391Z"
   },
   {
    "duration": 21,
    "start_time": "2021-10-01T12:40:18.437Z"
   },
   {
    "duration": 74,
    "start_time": "2021-10-01T12:40:18.460Z"
   },
   {
    "duration": 13,
    "start_time": "2021-10-01T12:40:18.535Z"
   },
   {
    "duration": 20,
    "start_time": "2021-10-01T12:40:18.550Z"
   },
   {
    "duration": 50,
    "start_time": "2021-10-01T12:40:18.572Z"
   },
   {
    "duration": 21,
    "start_time": "2021-10-01T12:40:18.624Z"
   },
   {
    "duration": 6,
    "start_time": "2021-10-01T12:40:18.647Z"
   },
   {
    "duration": 12,
    "start_time": "2021-10-01T12:40:18.655Z"
   },
   {
    "duration": 15,
    "start_time": "2021-10-01T12:40:18.668Z"
   },
   {
    "duration": 13,
    "start_time": "2021-10-01T12:40:18.685Z"
   },
   {
    "duration": 9,
    "start_time": "2021-10-01T12:40:18.700Z"
   },
   {
    "duration": 58,
    "start_time": "2021-10-01T12:40:18.711Z"
   },
   {
    "duration": 5,
    "start_time": "2021-10-01T12:40:18.771Z"
   },
   {
    "duration": 28,
    "start_time": "2021-10-01T12:40:18.778Z"
   },
   {
    "duration": 5,
    "start_time": "2021-10-01T12:40:18.811Z"
   },
   {
    "duration": 34,
    "start_time": "2021-10-01T12:40:18.818Z"
   },
   {
    "duration": 6,
    "start_time": "2021-10-01T12:40:18.853Z"
   },
   {
    "duration": 12,
    "start_time": "2021-10-01T12:40:18.861Z"
   },
   {
    "duration": 912,
    "start_time": "2021-10-01T12:40:18.874Z"
   },
   {
    "duration": 623,
    "start_time": "2021-10-01T12:40:19.788Z"
   },
   {
    "duration": 507,
    "start_time": "2021-10-01T12:40:20.412Z"
   },
   {
    "duration": 102,
    "start_time": "2021-10-01T12:40:20.920Z"
   },
   {
    "duration": 3,
    "start_time": "2021-10-01T12:40:21.023Z"
   },
   {
    "duration": 18,
    "start_time": "2021-10-01T12:40:21.027Z"
   },
   {
    "duration": 43,
    "start_time": "2021-10-01T12:40:21.047Z"
   },
   {
    "duration": 2,
    "start_time": "2021-10-01T12:40:21.092Z"
   },
   {
    "duration": 26,
    "start_time": "2021-10-01T12:40:21.096Z"
   },
   {
    "duration": 46,
    "start_time": "2021-10-01T12:40:21.123Z"
   },
   {
    "duration": 11,
    "start_time": "2021-10-01T12:40:21.171Z"
   },
   {
    "duration": 28,
    "start_time": "2021-10-01T12:40:21.184Z"
   },
   {
    "duration": 8,
    "start_time": "2021-10-01T12:40:21.214Z"
   },
   {
    "duration": 38,
    "start_time": "2021-10-01T12:40:21.224Z"
   },
   {
    "duration": 23,
    "start_time": "2021-10-01T12:40:21.264Z"
   },
   {
    "duration": 6,
    "start_time": "2021-10-01T12:40:21.288Z"
   },
   {
    "duration": 8,
    "start_time": "2021-10-01T12:40:21.295Z"
   },
   {
    "duration": 8,
    "start_time": "2021-10-01T12:40:21.305Z"
   },
   {
    "duration": 3,
    "start_time": "2021-10-01T12:40:21.315Z"
   },
   {
    "duration": 27,
    "start_time": "2021-10-01T12:40:21.319Z"
   },
   {
    "duration": 11,
    "start_time": "2021-10-01T12:40:21.348Z"
   },
   {
    "duration": 6,
    "start_time": "2021-10-01T12:40:21.361Z"
   },
   {
    "duration": 279,
    "start_time": "2021-10-01T12:40:21.368Z"
   },
   {
    "duration": 278,
    "start_time": "2021-10-01T12:40:21.649Z"
   },
   {
    "duration": 293,
    "start_time": "2021-10-01T12:40:21.928Z"
   },
   {
    "duration": 3,
    "start_time": "2021-10-01T12:40:22.223Z"
   },
   {
    "duration": 383,
    "start_time": "2021-10-01T12:40:22.227Z"
   },
   {
    "duration": 17,
    "start_time": "2021-10-01T12:40:22.611Z"
   },
   {
    "duration": 21,
    "start_time": "2021-10-01T12:40:22.630Z"
   },
   {
    "duration": 22,
    "start_time": "2021-10-01T12:40:22.652Z"
   },
   {
    "duration": 178,
    "start_time": "2021-10-01T12:40:22.676Z"
   },
   {
    "duration": 683,
    "start_time": "2021-10-01T12:40:22.855Z"
   },
   {
    "duration": 393,
    "start_time": "2021-10-01T12:40:23.146Z"
   },
   {
    "duration": 389,
    "start_time": "2021-10-01T12:40:23.151Z"
   },
   {
    "duration": 384,
    "start_time": "2021-10-01T12:40:23.157Z"
   },
   {
    "duration": 380,
    "start_time": "2021-10-01T12:40:23.162Z"
   },
   {
    "duration": 376,
    "start_time": "2021-10-01T12:40:23.166Z"
   },
   {
    "duration": 150,
    "start_time": "2021-10-01T12:41:01.881Z"
   },
   {
    "duration": 4,
    "start_time": "2021-10-01T12:45:26.648Z"
   },
   {
    "duration": 87,
    "start_time": "2021-10-01T12:45:54.229Z"
   },
   {
    "duration": 8,
    "start_time": "2021-10-01T12:46:02.060Z"
   },
   {
    "duration": 7815,
    "start_time": "2021-10-01T12:46:40.940Z"
   },
   {
    "duration": 10,
    "start_time": "2021-10-01T12:47:34.683Z"
   },
   {
    "duration": 10,
    "start_time": "2021-10-01T12:48:20.938Z"
   },
   {
    "duration": 91,
    "start_time": "2021-10-01T12:50:07.744Z"
   },
   {
    "duration": 31,
    "start_time": "2021-10-01T12:50:25.271Z"
   },
   {
    "duration": 636,
    "start_time": "2021-10-01T13:01:06.323Z"
   },
   {
    "duration": 160,
    "start_time": "2021-10-01T13:01:17.068Z"
   },
   {
    "duration": 216,
    "start_time": "2021-10-01T13:01:31.751Z"
   },
   {
    "duration": 1164,
    "start_time": "2021-10-01T13:07:07.733Z"
   },
   {
    "duration": 417,
    "start_time": "2021-10-01T13:07:08.899Z"
   },
   {
    "duration": 19,
    "start_time": "2021-10-01T13:07:09.318Z"
   },
   {
    "duration": 31,
    "start_time": "2021-10-01T13:07:09.339Z"
   },
   {
    "duration": 29,
    "start_time": "2021-10-01T13:07:09.371Z"
   },
   {
    "duration": 128,
    "start_time": "2021-10-01T13:07:09.402Z"
   },
   {
    "duration": 22,
    "start_time": "2021-10-01T13:07:09.532Z"
   },
   {
    "duration": 29,
    "start_time": "2021-10-01T13:07:09.558Z"
   },
   {
    "duration": 26,
    "start_time": "2021-10-01T13:07:09.589Z"
   },
   {
    "duration": 83,
    "start_time": "2021-10-01T13:07:09.616Z"
   },
   {
    "duration": 8,
    "start_time": "2021-10-01T13:07:09.701Z"
   },
   {
    "duration": 34,
    "start_time": "2021-10-01T13:07:09.711Z"
   },
   {
    "duration": 47,
    "start_time": "2021-10-01T13:07:09.747Z"
   },
   {
    "duration": 8,
    "start_time": "2021-10-01T13:07:09.796Z"
   },
   {
    "duration": 8,
    "start_time": "2021-10-01T13:07:09.806Z"
   },
   {
    "duration": 10,
    "start_time": "2021-10-01T13:07:09.845Z"
   },
   {
    "duration": 16,
    "start_time": "2021-10-01T13:07:09.858Z"
   },
   {
    "duration": 7,
    "start_time": "2021-10-01T13:07:09.876Z"
   },
   {
    "duration": 9,
    "start_time": "2021-10-01T13:07:09.884Z"
   },
   {
    "duration": 66,
    "start_time": "2021-10-01T13:07:09.895Z"
   },
   {
    "duration": 4,
    "start_time": "2021-10-01T13:07:09.963Z"
   },
   {
    "duration": 22,
    "start_time": "2021-10-01T13:07:09.969Z"
   },
   {
    "duration": 6,
    "start_time": "2021-10-01T13:07:09.995Z"
   },
   {
    "duration": 50,
    "start_time": "2021-10-01T13:07:10.003Z"
   },
   {
    "duration": 7,
    "start_time": "2021-10-01T13:07:10.055Z"
   },
   {
    "duration": 9,
    "start_time": "2021-10-01T13:07:10.064Z"
   },
   {
    "duration": 953,
    "start_time": "2021-10-01T13:07:10.074Z"
   },
   {
    "duration": 700,
    "start_time": "2021-10-01T13:07:11.029Z"
   },
   {
    "duration": 623,
    "start_time": "2021-10-01T13:07:11.730Z"
   },
   {
    "duration": 98,
    "start_time": "2021-10-01T13:07:12.355Z"
   },
   {
    "duration": 3,
    "start_time": "2021-10-01T13:07:12.455Z"
   },
   {
    "duration": 20,
    "start_time": "2021-10-01T13:07:12.460Z"
   },
   {
    "duration": 38,
    "start_time": "2021-10-01T13:07:12.482Z"
   },
   {
    "duration": 3,
    "start_time": "2021-10-01T13:07:12.521Z"
   },
   {
    "duration": 26,
    "start_time": "2021-10-01T13:07:12.545Z"
   },
   {
    "duration": 69,
    "start_time": "2021-10-01T13:07:12.573Z"
   },
   {
    "duration": 11,
    "start_time": "2021-10-01T13:07:12.644Z"
   },
   {
    "duration": 50,
    "start_time": "2021-10-01T13:07:12.657Z"
   },
   {
    "duration": 9,
    "start_time": "2021-10-01T13:07:12.708Z"
   },
   {
    "duration": 53,
    "start_time": "2021-10-01T13:07:12.718Z"
   },
   {
    "duration": 37,
    "start_time": "2021-10-01T13:07:12.773Z"
   },
   {
    "duration": 6,
    "start_time": "2021-10-01T13:07:12.812Z"
   },
   {
    "duration": 25,
    "start_time": "2021-10-01T13:07:12.819Z"
   },
   {
    "duration": 51,
    "start_time": "2021-10-01T13:07:12.846Z"
   },
   {
    "duration": 25,
    "start_time": "2021-10-01T13:07:12.899Z"
   },
   {
    "duration": 13,
    "start_time": "2021-10-01T13:07:12.926Z"
   },
   {
    "duration": 25,
    "start_time": "2021-10-01T13:07:12.941Z"
   },
   {
    "duration": 29,
    "start_time": "2021-10-01T13:07:12.967Z"
   },
   {
    "duration": 346,
    "start_time": "2021-10-01T13:07:12.998Z"
   },
   {
    "duration": 269,
    "start_time": "2021-10-01T13:07:13.346Z"
   },
   {
    "duration": 280,
    "start_time": "2021-10-01T13:07:13.617Z"
   },
   {
    "duration": 5,
    "start_time": "2021-10-01T13:07:13.898Z"
   },
   {
    "duration": 390,
    "start_time": "2021-10-01T13:07:13.905Z"
   },
   {
    "duration": 18,
    "start_time": "2021-10-01T13:07:14.297Z"
   },
   {
    "duration": 31,
    "start_time": "2021-10-01T13:07:14.317Z"
   },
   {
    "duration": 28,
    "start_time": "2021-10-01T13:07:14.350Z"
   },
   {
    "duration": 283,
    "start_time": "2021-10-01T13:07:14.380Z"
   },
   {
    "duration": 5,
    "start_time": "2021-10-01T13:07:14.665Z"
   },
   {
    "duration": 15,
    "start_time": "2021-10-01T13:07:14.672Z"
   },
   {
    "duration": 36,
    "start_time": "2021-10-01T13:07:14.689Z"
   },
   {
    "duration": 398,
    "start_time": "2021-10-01T13:10:29.723Z"
   },
   {
    "duration": 1113,
    "start_time": "2021-10-01T13:11:50.772Z"
   },
   {
    "duration": 400,
    "start_time": "2021-10-01T13:11:51.887Z"
   },
   {
    "duration": 17,
    "start_time": "2021-10-01T13:11:52.289Z"
   },
   {
    "duration": 29,
    "start_time": "2021-10-01T13:11:52.308Z"
   },
   {
    "duration": 20,
    "start_time": "2021-10-01T13:11:52.338Z"
   },
   {
    "duration": 108,
    "start_time": "2021-10-01T13:11:52.360Z"
   },
   {
    "duration": 12,
    "start_time": "2021-10-01T13:11:52.470Z"
   },
   {
    "duration": 33,
    "start_time": "2021-10-01T13:11:52.484Z"
   },
   {
    "duration": 30,
    "start_time": "2021-10-01T13:11:52.519Z"
   },
   {
    "duration": 58,
    "start_time": "2021-10-01T13:11:52.550Z"
   },
   {
    "duration": 7,
    "start_time": "2021-10-01T13:11:52.609Z"
   },
   {
    "duration": 34,
    "start_time": "2021-10-01T13:11:52.618Z"
   },
   {
    "duration": 42,
    "start_time": "2021-10-01T13:11:52.654Z"
   },
   {
    "duration": 8,
    "start_time": "2021-10-01T13:11:52.697Z"
   },
   {
    "duration": 9,
    "start_time": "2021-10-01T13:11:52.706Z"
   },
   {
    "duration": 32,
    "start_time": "2021-10-01T13:11:52.716Z"
   },
   {
    "duration": 15,
    "start_time": "2021-10-01T13:11:52.750Z"
   },
   {
    "duration": 7,
    "start_time": "2021-10-01T13:11:52.767Z"
   },
   {
    "duration": 9,
    "start_time": "2021-10-01T13:11:52.775Z"
   },
   {
    "duration": 28,
    "start_time": "2021-10-01T13:11:52.786Z"
   },
   {
    "duration": 29,
    "start_time": "2021-10-01T13:11:52.815Z"
   },
   {
    "duration": 21,
    "start_time": "2021-10-01T13:11:52.846Z"
   },
   {
    "duration": 4,
    "start_time": "2021-10-01T13:11:52.871Z"
   },
   {
    "duration": 17,
    "start_time": "2021-10-01T13:11:52.877Z"
   },
   {
    "duration": 5,
    "start_time": "2021-10-01T13:11:52.896Z"
   },
   {
    "duration": 6,
    "start_time": "2021-10-01T13:11:52.902Z"
   },
   {
    "duration": 929,
    "start_time": "2021-10-01T13:11:52.909Z"
   },
   {
    "duration": 595,
    "start_time": "2021-10-01T13:11:53.840Z"
   },
   {
    "duration": 494,
    "start_time": "2021-10-01T13:11:54.436Z"
   },
   {
    "duration": 93,
    "start_time": "2021-10-01T13:11:54.931Z"
   },
   {
    "duration": 3,
    "start_time": "2021-10-01T13:11:55.025Z"
   },
   {
    "duration": 27,
    "start_time": "2021-10-01T13:11:55.030Z"
   },
   {
    "duration": 34,
    "start_time": "2021-10-01T13:11:55.058Z"
   },
   {
    "duration": 3,
    "start_time": "2021-10-01T13:11:55.093Z"
   },
   {
    "duration": 17,
    "start_time": "2021-10-01T13:11:55.097Z"
   },
   {
    "duration": 58,
    "start_time": "2021-10-01T13:11:55.115Z"
   },
   {
    "duration": 12,
    "start_time": "2021-10-01T13:11:55.175Z"
   },
   {
    "duration": 24,
    "start_time": "2021-10-01T13:11:55.189Z"
   },
   {
    "duration": 11,
    "start_time": "2021-10-01T13:11:55.215Z"
   },
   {
    "duration": 37,
    "start_time": "2021-10-01T13:11:55.227Z"
   },
   {
    "duration": 22,
    "start_time": "2021-10-01T13:11:55.266Z"
   },
   {
    "duration": 7,
    "start_time": "2021-10-01T13:11:55.290Z"
   },
   {
    "duration": 13,
    "start_time": "2021-10-01T13:11:55.298Z"
   },
   {
    "duration": 14,
    "start_time": "2021-10-01T13:11:55.312Z"
   },
   {
    "duration": 11,
    "start_time": "2021-10-01T13:11:55.328Z"
   },
   {
    "duration": 18,
    "start_time": "2021-10-01T13:11:55.341Z"
   },
   {
    "duration": 31,
    "start_time": "2021-10-01T13:11:55.360Z"
   },
   {
    "duration": 20,
    "start_time": "2021-10-01T13:11:55.393Z"
   },
   {
    "duration": 274,
    "start_time": "2021-10-01T13:11:55.415Z"
   },
   {
    "duration": 255,
    "start_time": "2021-10-01T13:11:55.691Z"
   },
   {
    "duration": 271,
    "start_time": "2021-10-01T13:11:55.948Z"
   },
   {
    "duration": 3,
    "start_time": "2021-10-01T13:11:56.221Z"
   },
   {
    "duration": 358,
    "start_time": "2021-10-01T13:11:56.225Z"
   },
   {
    "duration": 15,
    "start_time": "2021-10-01T13:11:56.585Z"
   },
   {
    "duration": 9,
    "start_time": "2021-10-01T13:11:56.602Z"
   },
   {
    "duration": 37,
    "start_time": "2021-10-01T13:11:56.613Z"
   },
   {
    "duration": 251,
    "start_time": "2021-10-01T13:11:56.652Z"
   },
   {
    "duration": 3,
    "start_time": "2021-10-01T13:11:56.905Z"
   },
   {
    "duration": 13,
    "start_time": "2021-10-01T13:11:56.910Z"
   },
   {
    "duration": 46,
    "start_time": "2021-10-01T13:11:56.925Z"
   },
   {
    "duration": 344,
    "start_time": "2021-10-01T13:11:56.972Z"
   },
   {
    "duration": 263,
    "start_time": "2021-10-01T13:12:16.749Z"
   },
   {
    "duration": 271,
    "start_time": "2021-10-01T13:13:03.896Z"
   },
   {
    "duration": 406,
    "start_time": "2021-10-01T13:13:23.476Z"
   },
   {
    "duration": 1096,
    "start_time": "2021-10-01T13:15:14.622Z"
   },
   {
    "duration": 1051,
    "start_time": "2021-10-01T13:15:56.055Z"
   },
   {
    "duration": 8753,
    "start_time": "2021-10-01T13:19:33.006Z"
   },
   {
    "duration": 288,
    "start_time": "2021-10-01T13:20:07.627Z"
   },
   {
    "duration": 396,
    "start_time": "2021-10-01T13:20:33.235Z"
   },
   {
    "duration": 517,
    "start_time": "2021-10-01T13:20:55.371Z"
   },
   {
    "duration": 470,
    "start_time": "2021-10-01T13:21:36.437Z"
   },
   {
    "duration": 450,
    "start_time": "2021-10-01T13:21:47.362Z"
   },
   {
    "duration": 429,
    "start_time": "2021-10-01T13:23:38.732Z"
   },
   {
    "duration": 360,
    "start_time": "2021-10-01T13:23:55.848Z"
   },
   {
    "duration": 357,
    "start_time": "2021-10-01T13:24:48.638Z"
   },
   {
    "duration": 443,
    "start_time": "2021-10-01T13:24:56.554Z"
   },
   {
    "duration": 373,
    "start_time": "2021-10-01T13:26:41.986Z"
   },
   {
    "duration": 377,
    "start_time": "2021-10-01T13:27:24.842Z"
   },
   {
    "duration": 385,
    "start_time": "2021-10-01T13:27:59.809Z"
   },
   {
    "duration": 374,
    "start_time": "2021-10-01T13:28:13.165Z"
   },
   {
    "duration": 419,
    "start_time": "2021-10-01T13:28:41.128Z"
   },
   {
    "duration": 391,
    "start_time": "2021-10-01T13:30:57.353Z"
   },
   {
    "duration": 351,
    "start_time": "2021-10-01T13:32:31.145Z"
   },
   {
    "duration": 339,
    "start_time": "2021-10-01T13:32:41.268Z"
   },
   {
    "duration": 377,
    "start_time": "2021-10-01T13:32:47.196Z"
   },
   {
    "duration": 369,
    "start_time": "2021-10-01T13:34:54.168Z"
   },
   {
    "duration": 456,
    "start_time": "2021-10-01T13:35:07.320Z"
   },
   {
    "duration": 422,
    "start_time": "2021-10-01T13:36:11.367Z"
   },
   {
    "duration": 423,
    "start_time": "2021-10-01T13:36:20.660Z"
   },
   {
    "duration": 424,
    "start_time": "2021-10-01T13:36:26.937Z"
   },
   {
    "duration": 412,
    "start_time": "2021-10-01T13:36:34.670Z"
   },
   {
    "duration": 483,
    "start_time": "2021-10-01T13:36:44.500Z"
   },
   {
    "duration": 409,
    "start_time": "2021-10-01T13:36:50.473Z"
   },
   {
    "duration": 418,
    "start_time": "2021-10-01T13:36:56.150Z"
   },
   {
    "duration": 430,
    "start_time": "2021-10-01T13:37:02.376Z"
   },
   {
    "duration": 439,
    "start_time": "2021-10-01T13:37:20.473Z"
   },
   {
    "duration": 415,
    "start_time": "2021-10-01T13:37:49.864Z"
   },
   {
    "duration": 447,
    "start_time": "2021-10-01T13:38:42.321Z"
   },
   {
    "duration": 494,
    "start_time": "2021-10-01T13:40:53.224Z"
   },
   {
    "duration": 425,
    "start_time": "2021-10-01T13:41:02.415Z"
   },
   {
    "duration": 556,
    "start_time": "2021-10-01T13:41:15.275Z"
   },
   {
    "duration": 447,
    "start_time": "2021-10-01T13:41:22.635Z"
   },
   {
    "duration": 87,
    "start_time": "2021-10-01T13:42:46.008Z"
   },
   {
    "duration": 408,
    "start_time": "2021-10-01T13:43:34.165Z"
   },
   {
    "duration": 420,
    "start_time": "2021-10-01T13:43:45.066Z"
   },
   {
    "duration": 533,
    "start_time": "2021-10-01T13:44:02.577Z"
   },
   {
    "duration": 389,
    "start_time": "2021-10-01T13:44:10.549Z"
   },
   {
    "duration": 376,
    "start_time": "2021-10-01T13:44:20.307Z"
   },
   {
    "duration": 384,
    "start_time": "2021-10-01T13:44:25.714Z"
   },
   {
    "duration": 220,
    "start_time": "2021-10-01T13:46:15.635Z"
   },
   {
    "duration": 210,
    "start_time": "2021-10-01T13:46:50.290Z"
   },
   {
    "duration": 218,
    "start_time": "2021-10-01T13:46:55.515Z"
   },
   {
    "duration": 301,
    "start_time": "2021-10-01T13:47:00.607Z"
   },
   {
    "duration": 371,
    "start_time": "2021-10-01T13:47:41.983Z"
   },
   {
    "duration": 374,
    "start_time": "2021-10-01T13:48:10.147Z"
   },
   {
    "duration": 423,
    "start_time": "2021-10-01T13:48:31.265Z"
   },
   {
    "duration": 419,
    "start_time": "2021-10-01T13:48:51.387Z"
   },
   {
    "duration": 10,
    "start_time": "2021-10-01T13:55:17.804Z"
   },
   {
    "duration": 4,
    "start_time": "2021-10-01T13:56:43.681Z"
   },
   {
    "duration": 9,
    "start_time": "2021-10-01T13:56:50.621Z"
   },
   {
    "duration": 4,
    "start_time": "2021-10-01T13:57:13.747Z"
   },
   {
    "duration": 1141,
    "start_time": "2021-10-01T14:13:18.952Z"
   },
   {
    "duration": 390,
    "start_time": "2021-10-01T14:13:20.095Z"
   },
   {
    "duration": 15,
    "start_time": "2021-10-01T14:13:20.487Z"
   },
   {
    "duration": 27,
    "start_time": "2021-10-01T14:13:20.504Z"
   },
   {
    "duration": 19,
    "start_time": "2021-10-01T14:13:20.532Z"
   },
   {
    "duration": 108,
    "start_time": "2021-10-01T14:13:20.553Z"
   },
   {
    "duration": 12,
    "start_time": "2021-10-01T14:13:20.662Z"
   },
   {
    "duration": 29,
    "start_time": "2021-10-01T14:13:20.677Z"
   },
   {
    "duration": 40,
    "start_time": "2021-10-01T14:13:20.708Z"
   },
   {
    "duration": 69,
    "start_time": "2021-10-01T14:13:20.749Z"
   },
   {
    "duration": 7,
    "start_time": "2021-10-01T14:13:20.819Z"
   },
   {
    "duration": 28,
    "start_time": "2021-10-01T14:13:20.828Z"
   },
   {
    "duration": 45,
    "start_time": "2021-10-01T14:13:20.858Z"
   },
   {
    "duration": 7,
    "start_time": "2021-10-01T14:13:20.905Z"
   },
   {
    "duration": 34,
    "start_time": "2021-10-01T14:13:20.914Z"
   },
   {
    "duration": 16,
    "start_time": "2021-10-01T14:13:20.949Z"
   },
   {
    "duration": 17,
    "start_time": "2021-10-01T14:13:20.967Z"
   },
   {
    "duration": 9,
    "start_time": "2021-10-01T14:13:20.985Z"
   },
   {
    "duration": 9,
    "start_time": "2021-10-01T14:13:20.996Z"
   },
   {
    "duration": 57,
    "start_time": "2021-10-01T14:13:21.007Z"
   },
   {
    "duration": 5,
    "start_time": "2021-10-01T14:13:21.066Z"
   },
   {
    "duration": 27,
    "start_time": "2021-10-01T14:13:21.072Z"
   },
   {
    "duration": 4,
    "start_time": "2021-10-01T14:13:21.103Z"
   },
   {
    "duration": 35,
    "start_time": "2021-10-01T14:13:21.109Z"
   },
   {
    "duration": 6,
    "start_time": "2021-10-01T14:13:21.146Z"
   },
   {
    "duration": 17,
    "start_time": "2021-10-01T14:13:21.154Z"
   },
   {
    "duration": 863,
    "start_time": "2021-10-01T14:13:21.173Z"
   },
   {
    "duration": 740,
    "start_time": "2021-10-01T14:13:22.038Z"
   },
   {
    "duration": 501,
    "start_time": "2021-10-01T14:13:22.780Z"
   },
   {
    "duration": 96,
    "start_time": "2021-10-01T14:13:23.282Z"
   },
   {
    "duration": 3,
    "start_time": "2021-10-01T14:13:23.379Z"
   },
   {
    "duration": 38,
    "start_time": "2021-10-01T14:13:23.383Z"
   },
   {
    "duration": 50,
    "start_time": "2021-10-01T14:13:23.422Z"
   },
   {
    "duration": 2,
    "start_time": "2021-10-01T14:13:23.474Z"
   },
   {
    "duration": 29,
    "start_time": "2021-10-01T14:13:23.478Z"
   },
   {
    "duration": 53,
    "start_time": "2021-10-01T14:13:23.509Z"
   },
   {
    "duration": 10,
    "start_time": "2021-10-01T14:13:23.564Z"
   },
   {
    "duration": 39,
    "start_time": "2021-10-01T14:13:23.576Z"
   },
   {
    "duration": 12,
    "start_time": "2021-10-01T14:13:23.617Z"
   },
   {
    "duration": 30,
    "start_time": "2021-10-01T14:13:23.630Z"
   },
   {
    "duration": 23,
    "start_time": "2021-10-01T14:13:23.662Z"
   },
   {
    "duration": 5,
    "start_time": "2021-10-01T14:13:23.687Z"
   },
   {
    "duration": 11,
    "start_time": "2021-10-01T14:13:23.694Z"
   },
   {
    "duration": 24,
    "start_time": "2021-10-01T14:13:23.706Z"
   },
   {
    "duration": 10,
    "start_time": "2021-10-01T14:13:23.732Z"
   },
   {
    "duration": 22,
    "start_time": "2021-10-01T14:13:23.743Z"
   },
   {
    "duration": 36,
    "start_time": "2021-10-01T14:13:23.766Z"
   },
   {
    "duration": 24,
    "start_time": "2021-10-01T14:13:23.804Z"
   },
   {
    "duration": 273,
    "start_time": "2021-10-01T14:13:23.829Z"
   },
   {
    "duration": 260,
    "start_time": "2021-10-01T14:13:24.103Z"
   },
   {
    "duration": 263,
    "start_time": "2021-10-01T14:13:24.365Z"
   },
   {
    "duration": 4,
    "start_time": "2021-10-01T14:13:24.629Z"
   },
   {
    "duration": 360,
    "start_time": "2021-10-01T14:13:24.634Z"
   },
   {
    "duration": 15,
    "start_time": "2021-10-01T14:13:24.996Z"
   },
   {
    "duration": 11,
    "start_time": "2021-10-01T14:13:25.013Z"
   },
   {
    "duration": 32,
    "start_time": "2021-10-01T14:13:25.025Z"
   },
   {
    "duration": 3,
    "start_time": "2021-10-01T14:13:25.059Z"
   },
   {
    "duration": 399,
    "start_time": "2021-10-01T14:13:25.064Z"
   },
   {
    "duration": 232,
    "start_time": "2021-10-01T14:13:25.464Z"
   },
   {
    "duration": 394,
    "start_time": "2021-10-01T14:13:25.697Z"
   },
   {
    "duration": 230,
    "start_time": "2021-10-01T14:13:26.093Z"
   },
   {
    "duration": 415,
    "start_time": "2021-10-01T14:13:26.324Z"
   },
   {
    "duration": 231,
    "start_time": "2021-10-01T14:13:26.740Z"
   },
   {
    "duration": 10,
    "start_time": "2021-10-01T14:13:26.973Z"
   },
   {
    "duration": 26,
    "start_time": "2021-10-01T14:13:26.984Z"
   },
   {
    "duration": 39,
    "start_time": "2021-10-01T14:13:27.012Z"
   },
   {
    "duration": 10,
    "start_time": "2021-10-01T14:14:20.571Z"
   },
   {
    "duration": 230,
    "start_time": "2021-10-01T14:38:36.467Z"
   },
   {
    "duration": 232,
    "start_time": "2021-10-01T14:39:12.714Z"
   },
   {
    "duration": 317,
    "start_time": "2021-10-01T14:42:43.315Z"
   },
   {
    "duration": 670,
    "start_time": "2021-10-01T14:43:16.116Z"
   },
   {
    "duration": 228,
    "start_time": "2021-10-01T14:45:09.172Z"
   },
   {
    "duration": 594,
    "start_time": "2021-10-01T14:47:09.207Z"
   },
   {
    "duration": 242,
    "start_time": "2021-10-01T14:47:24.379Z"
   },
   {
    "duration": 92,
    "start_time": "2021-10-01T14:47:56.858Z"
   },
   {
    "duration": 235,
    "start_time": "2021-10-01T14:48:06.316Z"
   },
   {
    "duration": 250,
    "start_time": "2021-10-01T14:49:40.737Z"
   },
   {
    "duration": 232,
    "start_time": "2021-10-01T14:50:04.619Z"
   },
   {
    "duration": 548,
    "start_time": "2021-10-01T14:50:10.668Z"
   },
   {
    "duration": 252,
    "start_time": "2021-10-01T14:50:19.543Z"
   },
   {
    "duration": 237,
    "start_time": "2021-10-01T14:50:56.429Z"
   },
   {
    "duration": 312,
    "start_time": "2021-10-01T14:51:15.162Z"
   },
   {
    "duration": 258,
    "start_time": "2021-10-01T14:52:42.244Z"
   },
   {
    "duration": 256,
    "start_time": "2021-10-01T14:54:20.393Z"
   },
   {
    "duration": 251,
    "start_time": "2021-10-01T14:54:33.788Z"
   },
   {
    "duration": 274,
    "start_time": "2021-10-01T14:54:39.962Z"
   },
   {
    "duration": 269,
    "start_time": "2021-10-01T14:54:43.911Z"
   },
   {
    "duration": 339,
    "start_time": "2021-10-01T14:54:56.466Z"
   },
   {
    "duration": 555,
    "start_time": "2021-10-01T14:55:10.691Z"
   },
   {
    "duration": 596,
    "start_time": "2021-10-01T14:55:21.691Z"
   },
   {
    "duration": 241,
    "start_time": "2021-10-01T14:55:28.878Z"
   },
   {
    "duration": 85,
    "start_time": "2021-10-01T14:56:02.227Z"
   },
   {
    "duration": 90,
    "start_time": "2021-10-01T14:56:09.771Z"
   },
   {
    "duration": 240,
    "start_time": "2021-10-01T14:56:17.740Z"
   },
   {
    "duration": 238,
    "start_time": "2021-10-01T14:57:34.088Z"
   },
   {
    "duration": 245,
    "start_time": "2021-10-01T14:58:15.652Z"
   },
   {
    "duration": 241,
    "start_time": "2021-10-01T14:58:25.096Z"
   },
   {
    "duration": 238,
    "start_time": "2021-10-01T15:00:01.627Z"
   },
   {
    "duration": 236,
    "start_time": "2021-10-01T15:00:37.896Z"
   },
   {
    "duration": 329,
    "start_time": "2021-10-01T15:01:46.931Z"
   },
   {
    "duration": 237,
    "start_time": "2021-10-01T15:01:55.483Z"
   },
   {
    "duration": 244,
    "start_time": "2021-10-01T15:02:01.609Z"
   },
   {
    "duration": 246,
    "start_time": "2021-10-01T15:02:10.446Z"
   },
   {
    "duration": 607,
    "start_time": "2021-10-01T15:02:24.289Z"
   },
   {
    "duration": 551,
    "start_time": "2021-10-01T15:02:51.485Z"
   },
   {
    "duration": 101,
    "start_time": "2021-10-01T15:03:01.981Z"
   },
   {
    "duration": 559,
    "start_time": "2021-10-01T15:03:05.659Z"
   },
   {
    "duration": 578,
    "start_time": "2021-10-01T15:03:17.812Z"
   },
   {
    "duration": 234,
    "start_time": "2021-10-01T15:04:10.675Z"
   },
   {
    "duration": 250,
    "start_time": "2021-10-01T15:08:48.314Z"
   },
   {
    "duration": 241,
    "start_time": "2021-10-01T15:09:29.160Z"
   },
   {
    "duration": 303,
    "start_time": "2021-10-01T15:09:57.493Z"
   },
   {
    "duration": 250,
    "start_time": "2021-10-01T15:10:56.943Z"
   },
   {
    "duration": 242,
    "start_time": "2021-10-01T15:11:14.363Z"
   },
   {
    "duration": 252,
    "start_time": "2021-10-01T15:11:39.732Z"
   },
   {
    "duration": 336,
    "start_time": "2021-10-01T15:12:26.377Z"
   },
   {
    "duration": 1122,
    "start_time": "2021-10-01T15:12:39.661Z"
   },
   {
    "duration": 384,
    "start_time": "2021-10-01T15:12:40.785Z"
   },
   {
    "duration": 16,
    "start_time": "2021-10-01T15:12:41.171Z"
   },
   {
    "duration": 27,
    "start_time": "2021-10-01T15:12:41.189Z"
   },
   {
    "duration": 20,
    "start_time": "2021-10-01T15:12:41.217Z"
   },
   {
    "duration": 107,
    "start_time": "2021-10-01T15:12:41.238Z"
   },
   {
    "duration": 11,
    "start_time": "2021-10-01T15:12:41.347Z"
   },
   {
    "duration": 37,
    "start_time": "2021-10-01T15:12:41.361Z"
   },
   {
    "duration": 16,
    "start_time": "2021-10-01T15:12:41.400Z"
   },
   {
    "duration": 88,
    "start_time": "2021-10-01T15:12:41.418Z"
   },
   {
    "duration": 7,
    "start_time": "2021-10-01T15:12:41.508Z"
   },
   {
    "duration": 33,
    "start_time": "2021-10-01T15:12:41.516Z"
   },
   {
    "duration": 49,
    "start_time": "2021-10-01T15:12:41.551Z"
   },
   {
    "duration": 7,
    "start_time": "2021-10-01T15:12:41.602Z"
   },
   {
    "duration": 9,
    "start_time": "2021-10-01T15:12:41.610Z"
   },
   {
    "duration": 26,
    "start_time": "2021-10-01T15:12:41.621Z"
   },
   {
    "duration": 19,
    "start_time": "2021-10-01T15:12:41.649Z"
   },
   {
    "duration": 17,
    "start_time": "2021-10-01T15:12:41.670Z"
   },
   {
    "duration": 12,
    "start_time": "2021-10-01T15:12:41.688Z"
   },
   {
    "duration": 35,
    "start_time": "2021-10-01T15:12:41.702Z"
   },
   {
    "duration": 9,
    "start_time": "2021-10-01T15:12:41.738Z"
   },
   {
    "duration": 27,
    "start_time": "2021-10-01T15:12:41.749Z"
   },
   {
    "duration": 4,
    "start_time": "2021-10-01T15:12:41.780Z"
   },
   {
    "duration": 25,
    "start_time": "2021-10-01T15:12:41.787Z"
   },
   {
    "duration": 6,
    "start_time": "2021-10-01T15:12:41.813Z"
   },
   {
    "duration": 26,
    "start_time": "2021-10-01T15:12:41.820Z"
   },
   {
    "duration": 808,
    "start_time": "2021-10-01T15:12:41.848Z"
   },
   {
    "duration": 631,
    "start_time": "2021-10-01T15:12:42.658Z"
   },
   {
    "duration": 492,
    "start_time": "2021-10-01T15:12:43.291Z"
   },
   {
    "duration": 99,
    "start_time": "2021-10-01T15:12:43.785Z"
   },
   {
    "duration": 3,
    "start_time": "2021-10-01T15:12:43.886Z"
   },
   {
    "duration": 26,
    "start_time": "2021-10-01T15:12:43.891Z"
   },
   {
    "duration": 59,
    "start_time": "2021-10-01T15:12:43.919Z"
   },
   {
    "duration": 2,
    "start_time": "2021-10-01T15:12:43.980Z"
   },
   {
    "duration": 28,
    "start_time": "2021-10-01T15:12:43.984Z"
   },
   {
    "duration": 63,
    "start_time": "2021-10-01T15:12:44.014Z"
   },
   {
    "duration": 15,
    "start_time": "2021-10-01T15:12:44.079Z"
   },
   {
    "duration": 43,
    "start_time": "2021-10-01T15:12:44.096Z"
   },
   {
    "duration": 9,
    "start_time": "2021-10-01T15:12:44.141Z"
   },
   {
    "duration": 34,
    "start_time": "2021-10-01T15:12:44.151Z"
   },
   {
    "duration": 39,
    "start_time": "2021-10-01T15:12:44.187Z"
   },
   {
    "duration": 7,
    "start_time": "2021-10-01T15:12:44.228Z"
   },
   {
    "duration": 21,
    "start_time": "2021-10-01T15:12:44.237Z"
   },
   {
    "duration": 14,
    "start_time": "2021-10-01T15:12:44.260Z"
   },
   {
    "duration": 25,
    "start_time": "2021-10-01T15:12:44.276Z"
   },
   {
    "duration": 22,
    "start_time": "2021-10-01T15:12:44.303Z"
   },
   {
    "duration": 22,
    "start_time": "2021-10-01T15:12:44.327Z"
   },
   {
    "duration": 19,
    "start_time": "2021-10-01T15:12:44.351Z"
   },
   {
    "duration": 290,
    "start_time": "2021-10-01T15:12:44.372Z"
   },
   {
    "duration": 270,
    "start_time": "2021-10-01T15:12:44.664Z"
   },
   {
    "duration": 269,
    "start_time": "2021-10-01T15:12:44.936Z"
   },
   {
    "duration": 3,
    "start_time": "2021-10-01T15:12:45.207Z"
   },
   {
    "duration": 377,
    "start_time": "2021-10-01T15:12:45.212Z"
   },
   {
    "duration": 16,
    "start_time": "2021-10-01T15:12:45.591Z"
   },
   {
    "duration": 13,
    "start_time": "2021-10-01T15:12:45.609Z"
   },
   {
    "duration": 35,
    "start_time": "2021-10-01T15:12:45.624Z"
   },
   {
    "duration": 12,
    "start_time": "2021-10-01T15:12:45.661Z"
   },
   {
    "duration": 402,
    "start_time": "2021-10-01T15:12:45.674Z"
   },
   {
    "duration": 257,
    "start_time": "2021-10-01T15:12:46.078Z"
   },
   {
    "duration": 16,
    "start_time": "2021-10-01T15:12:46.336Z"
   },
   {
    "duration": 17,
    "start_time": "2021-10-01T15:12:46.353Z"
   },
   {
    "duration": 406,
    "start_time": "2021-10-01T15:12:46.372Z"
   },
   {
    "duration": 247,
    "start_time": "2021-10-01T15:12:46.780Z"
   },
   {
    "duration": 17,
    "start_time": "2021-10-01T15:12:47.029Z"
   },
   {
    "duration": 9,
    "start_time": "2021-10-01T15:12:47.048Z"
   },
   {
    "duration": 439,
    "start_time": "2021-10-01T15:12:47.058Z"
   },
   {
    "duration": 259,
    "start_time": "2021-10-01T15:12:47.498Z"
   },
   {
    "duration": 9,
    "start_time": "2021-10-01T15:12:47.761Z"
   },
   {
    "duration": 30,
    "start_time": "2021-10-01T15:12:47.772Z"
   },
   {
    "duration": 460,
    "start_time": "2021-10-01T15:15:29.553Z"
   },
   {
    "duration": 380,
    "start_time": "2021-10-01T15:16:32.940Z"
   },
   {
    "duration": 1133,
    "start_time": "2021-10-01T15:16:40.852Z"
   },
   {
    "duration": 398,
    "start_time": "2021-10-01T15:16:41.987Z"
   },
   {
    "duration": 16,
    "start_time": "2021-10-01T15:16:42.387Z"
   },
   {
    "duration": 28,
    "start_time": "2021-10-01T15:16:42.404Z"
   },
   {
    "duration": 19,
    "start_time": "2021-10-01T15:16:42.433Z"
   },
   {
    "duration": 102,
    "start_time": "2021-10-01T15:16:42.453Z"
   },
   {
    "duration": 12,
    "start_time": "2021-10-01T15:16:42.556Z"
   },
   {
    "duration": 30,
    "start_time": "2021-10-01T15:16:42.570Z"
   },
   {
    "duration": 15,
    "start_time": "2021-10-01T15:16:42.602Z"
   },
   {
    "duration": 80,
    "start_time": "2021-10-01T15:16:42.619Z"
   },
   {
    "duration": 7,
    "start_time": "2021-10-01T15:16:42.700Z"
   },
   {
    "duration": 16,
    "start_time": "2021-10-01T15:16:42.709Z"
   },
   {
    "duration": 53,
    "start_time": "2021-10-01T15:16:42.727Z"
   },
   {
    "duration": 7,
    "start_time": "2021-10-01T15:16:42.782Z"
   },
   {
    "duration": 8,
    "start_time": "2021-10-01T15:16:42.790Z"
   },
   {
    "duration": 10,
    "start_time": "2021-10-01T15:16:42.800Z"
   },
   {
    "duration": 40,
    "start_time": "2021-10-01T15:16:42.812Z"
   },
   {
    "duration": 7,
    "start_time": "2021-10-01T15:16:42.854Z"
   },
   {
    "duration": 8,
    "start_time": "2021-10-01T15:16:42.863Z"
   },
   {
    "duration": 29,
    "start_time": "2021-10-01T15:16:42.873Z"
   },
   {
    "duration": 5,
    "start_time": "2021-10-01T15:16:42.904Z"
   },
   {
    "duration": 50,
    "start_time": "2021-10-01T15:16:42.911Z"
   },
   {
    "duration": 5,
    "start_time": "2021-10-01T15:16:42.966Z"
   },
   {
    "duration": 17,
    "start_time": "2021-10-01T15:16:42.974Z"
   },
   {
    "duration": 6,
    "start_time": "2021-10-01T15:16:42.993Z"
   },
   {
    "duration": 8,
    "start_time": "2021-10-01T15:16:43.001Z"
   },
   {
    "duration": 838,
    "start_time": "2021-10-01T15:16:43.011Z"
   },
   {
    "duration": 583,
    "start_time": "2021-10-01T15:16:43.851Z"
   },
   {
    "duration": 482,
    "start_time": "2021-10-01T15:16:44.436Z"
   },
   {
    "duration": 99,
    "start_time": "2021-10-01T15:16:44.920Z"
   },
   {
    "duration": 3,
    "start_time": "2021-10-01T15:16:45.021Z"
   },
   {
    "duration": 30,
    "start_time": "2021-10-01T15:16:45.026Z"
   },
   {
    "duration": 39,
    "start_time": "2021-10-01T15:16:45.058Z"
   },
   {
    "duration": 4,
    "start_time": "2021-10-01T15:16:45.098Z"
   },
   {
    "duration": 13,
    "start_time": "2021-10-01T15:16:45.104Z"
   },
   {
    "duration": 57,
    "start_time": "2021-10-01T15:16:45.119Z"
   },
   {
    "duration": 11,
    "start_time": "2021-10-01T15:16:45.178Z"
   },
   {
    "duration": 25,
    "start_time": "2021-10-01T15:16:45.191Z"
   },
   {
    "duration": 8,
    "start_time": "2021-10-01T15:16:45.218Z"
   },
   {
    "duration": 21,
    "start_time": "2021-10-01T15:16:45.245Z"
   },
   {
    "duration": 22,
    "start_time": "2021-10-01T15:16:45.268Z"
   },
   {
    "duration": 6,
    "start_time": "2021-10-01T15:16:45.292Z"
   },
   {
    "duration": 6,
    "start_time": "2021-10-01T15:16:45.300Z"
   },
   {
    "duration": 37,
    "start_time": "2021-10-01T15:16:45.307Z"
   },
   {
    "duration": 4,
    "start_time": "2021-10-01T15:16:45.346Z"
   },
   {
    "duration": 7,
    "start_time": "2021-10-01T15:16:45.351Z"
   },
   {
    "duration": 12,
    "start_time": "2021-10-01T15:16:45.359Z"
   },
   {
    "duration": 9,
    "start_time": "2021-10-01T15:16:45.373Z"
   },
   {
    "duration": 260,
    "start_time": "2021-10-01T15:16:45.384Z"
   },
   {
    "duration": 251,
    "start_time": "2021-10-01T15:16:45.646Z"
   },
   {
    "duration": 248,
    "start_time": "2021-10-01T15:16:45.899Z"
   },
   {
    "duration": 3,
    "start_time": "2021-10-01T15:16:46.149Z"
   },
   {
    "duration": 348,
    "start_time": "2021-10-01T15:16:46.153Z"
   },
   {
    "duration": 15,
    "start_time": "2021-10-01T15:16:46.502Z"
   },
   {
    "duration": 7,
    "start_time": "2021-10-01T15:16:46.518Z"
   },
   {
    "duration": 32,
    "start_time": "2021-10-01T15:16:46.527Z"
   },
   {
    "duration": 3,
    "start_time": "2021-10-01T15:16:46.560Z"
   },
   {
    "duration": 404,
    "start_time": "2021-10-01T15:16:46.565Z"
   },
   {
    "duration": 287,
    "start_time": "2021-10-01T15:16:46.971Z"
   },
   {
    "duration": 9,
    "start_time": "2021-10-01T15:16:47.260Z"
   },
   {
    "duration": 11,
    "start_time": "2021-10-01T15:16:47.271Z"
   },
   {
    "duration": 349,
    "start_time": "2021-10-01T15:16:47.285Z"
   },
   {
    "duration": 250,
    "start_time": "2021-10-01T15:16:47.636Z"
   },
   {
    "duration": 10,
    "start_time": "2021-10-01T15:16:47.889Z"
   },
   {
    "duration": 18,
    "start_time": "2021-10-01T15:16:47.901Z"
   },
   {
    "duration": 393,
    "start_time": "2021-10-01T15:16:47.921Z"
   },
   {
    "duration": 257,
    "start_time": "2021-10-01T15:16:48.316Z"
   },
   {
    "duration": 10,
    "start_time": "2021-10-01T15:16:48.577Z"
   },
   {
    "duration": 12,
    "start_time": "2021-10-01T15:16:48.588Z"
   },
   {
    "duration": 1157,
    "start_time": "2021-10-01T15:20:57.831Z"
   },
   {
    "duration": 400,
    "start_time": "2021-10-01T15:20:58.990Z"
   },
   {
    "duration": 17,
    "start_time": "2021-10-01T15:20:59.395Z"
   },
   {
    "duration": 29,
    "start_time": "2021-10-01T15:20:59.414Z"
   },
   {
    "duration": 20,
    "start_time": "2021-10-01T15:20:59.444Z"
   },
   {
    "duration": 114,
    "start_time": "2021-10-01T15:20:59.466Z"
   },
   {
    "duration": 11,
    "start_time": "2021-10-01T15:20:59.583Z"
   },
   {
    "duration": 30,
    "start_time": "2021-10-01T15:20:59.597Z"
   },
   {
    "duration": 29,
    "start_time": "2021-10-01T15:20:59.629Z"
   },
   {
    "duration": 67,
    "start_time": "2021-10-01T15:20:59.660Z"
   },
   {
    "duration": 22,
    "start_time": "2021-10-01T15:20:59.729Z"
   },
   {
    "duration": 15,
    "start_time": "2021-10-01T15:20:59.753Z"
   },
   {
    "duration": 42,
    "start_time": "2021-10-01T15:20:59.770Z"
   },
   {
    "duration": 8,
    "start_time": "2021-10-01T15:20:59.814Z"
   },
   {
    "duration": 6,
    "start_time": "2021-10-01T15:20:59.845Z"
   },
   {
    "duration": 12,
    "start_time": "2021-10-01T15:20:59.853Z"
   },
   {
    "duration": 18,
    "start_time": "2021-10-01T15:20:59.866Z"
   },
   {
    "duration": 9,
    "start_time": "2021-10-01T15:20:59.886Z"
   },
   {
    "duration": 15,
    "start_time": "2021-10-01T15:20:59.896Z"
   },
   {
    "duration": 45,
    "start_time": "2021-10-01T15:20:59.913Z"
   },
   {
    "duration": 5,
    "start_time": "2021-10-01T15:20:59.960Z"
   },
   {
    "duration": 21,
    "start_time": "2021-10-01T15:20:59.969Z"
   },
   {
    "duration": 5,
    "start_time": "2021-10-01T15:20:59.992Z"
   },
   {
    "duration": 19,
    "start_time": "2021-10-01T15:20:59.998Z"
   },
   {
    "duration": 31,
    "start_time": "2021-10-01T15:21:00.019Z"
   },
   {
    "duration": 13,
    "start_time": "2021-10-01T15:21:00.052Z"
   },
   {
    "duration": 951,
    "start_time": "2021-10-01T15:21:00.067Z"
   },
   {
    "duration": 624,
    "start_time": "2021-10-01T15:21:01.020Z"
   },
   {
    "duration": 517,
    "start_time": "2021-10-01T15:21:01.646Z"
   },
   {
    "duration": 107,
    "start_time": "2021-10-01T15:21:02.164Z"
   },
   {
    "duration": 3,
    "start_time": "2021-10-01T15:21:02.272Z"
   },
   {
    "duration": 32,
    "start_time": "2021-10-01T15:21:02.276Z"
   },
   {
    "duration": 41,
    "start_time": "2021-10-01T15:21:02.310Z"
   },
   {
    "duration": 3,
    "start_time": "2021-10-01T15:21:02.353Z"
   },
   {
    "duration": 15,
    "start_time": "2021-10-01T15:21:02.358Z"
   },
   {
    "duration": 56,
    "start_time": "2021-10-01T15:21:02.375Z"
   },
   {
    "duration": 11,
    "start_time": "2021-10-01T15:21:02.432Z"
   },
   {
    "duration": 28,
    "start_time": "2021-10-01T15:21:02.445Z"
   },
   {
    "duration": 8,
    "start_time": "2021-10-01T15:21:02.475Z"
   },
   {
    "duration": 22,
    "start_time": "2021-10-01T15:21:02.485Z"
   },
   {
    "duration": 38,
    "start_time": "2021-10-01T15:21:02.509Z"
   },
   {
    "duration": 6,
    "start_time": "2021-10-01T15:21:02.549Z"
   },
   {
    "duration": 33,
    "start_time": "2021-10-01T15:21:02.557Z"
   },
   {
    "duration": 9,
    "start_time": "2021-10-01T15:21:02.592Z"
   },
   {
    "duration": 5,
    "start_time": "2021-10-01T15:21:02.603Z"
   },
   {
    "duration": 5,
    "start_time": "2021-10-01T15:21:02.609Z"
   },
   {
    "duration": 10,
    "start_time": "2021-10-01T15:21:02.616Z"
   },
   {
    "duration": 10,
    "start_time": "2021-10-01T15:21:02.627Z"
   },
   {
    "duration": 264,
    "start_time": "2021-10-01T15:21:02.639Z"
   },
   {
    "duration": 257,
    "start_time": "2021-10-01T15:21:02.905Z"
   },
   {
    "duration": 260,
    "start_time": "2021-10-01T15:21:03.163Z"
   },
   {
    "duration": 4,
    "start_time": "2021-10-01T15:21:03.425Z"
   },
   {
    "duration": 346,
    "start_time": "2021-10-01T15:21:03.431Z"
   },
   {
    "duration": 16,
    "start_time": "2021-10-01T15:21:03.779Z"
   },
   {
    "duration": 25,
    "start_time": "2021-10-01T15:21:03.797Z"
   },
   {
    "duration": 32,
    "start_time": "2021-10-01T15:21:03.825Z"
   },
   {
    "duration": 5,
    "start_time": "2021-10-01T15:21:03.859Z"
   },
   {
    "duration": 428,
    "start_time": "2021-10-01T15:21:03.866Z"
   },
   {
    "duration": 272,
    "start_time": "2021-10-01T15:21:04.297Z"
   },
   {
    "duration": 10,
    "start_time": "2021-10-01T15:21:04.571Z"
   },
   {
    "duration": 1004,
    "start_time": "2021-10-01T15:21:04.583Z"
   },
   {
    "duration": 456,
    "start_time": "2021-10-01T15:21:05.133Z"
   },
   {
    "duration": 442,
    "start_time": "2021-10-01T15:21:05.148Z"
   },
   {
    "duration": 439,
    "start_time": "2021-10-01T15:21:05.153Z"
   },
   {
    "duration": 426,
    "start_time": "2021-10-01T15:21:05.167Z"
   },
   {
    "duration": 421,
    "start_time": "2021-10-01T15:21:05.173Z"
   },
   {
    "duration": 409,
    "start_time": "2021-10-01T15:21:05.186Z"
   },
   {
    "duration": 405,
    "start_time": "2021-10-01T15:21:05.192Z"
   },
   {
    "duration": 402,
    "start_time": "2021-10-01T15:21:05.196Z"
   },
   {
    "duration": 400,
    "start_time": "2021-10-01T15:21:05.199Z"
   },
   {
    "duration": 393,
    "start_time": "2021-10-01T15:21:05.207Z"
   },
   {
    "duration": 391,
    "start_time": "2021-10-01T15:21:05.210Z"
   },
   {
    "duration": 388,
    "start_time": "2021-10-01T15:21:05.214Z"
   },
   {
    "duration": 385,
    "start_time": "2021-10-01T15:21:05.218Z"
   },
   {
    "duration": 1163,
    "start_time": "2021-10-01T15:21:39.036Z"
   },
   {
    "duration": 389,
    "start_time": "2021-10-01T15:21:40.201Z"
   },
   {
    "duration": 15,
    "start_time": "2021-10-01T15:21:40.592Z"
   },
   {
    "duration": 28,
    "start_time": "2021-10-01T15:21:40.609Z"
   },
   {
    "duration": 19,
    "start_time": "2021-10-01T15:21:40.639Z"
   },
   {
    "duration": 104,
    "start_time": "2021-10-01T15:21:40.660Z"
   },
   {
    "duration": 11,
    "start_time": "2021-10-01T15:21:40.766Z"
   },
   {
    "duration": 29,
    "start_time": "2021-10-01T15:21:40.779Z"
   },
   {
    "duration": 38,
    "start_time": "2021-10-01T15:21:40.810Z"
   },
   {
    "duration": 66,
    "start_time": "2021-10-01T15:21:40.850Z"
   },
   {
    "duration": 8,
    "start_time": "2021-10-01T15:21:40.918Z"
   },
   {
    "duration": 29,
    "start_time": "2021-10-01T15:21:40.928Z"
   },
   {
    "duration": 48,
    "start_time": "2021-10-01T15:21:40.959Z"
   },
   {
    "duration": 9,
    "start_time": "2021-10-01T15:21:41.009Z"
   },
   {
    "duration": 28,
    "start_time": "2021-10-01T15:21:41.020Z"
   },
   {
    "duration": 20,
    "start_time": "2021-10-01T15:21:41.050Z"
   },
   {
    "duration": 29,
    "start_time": "2021-10-01T15:21:41.072Z"
   },
   {
    "duration": 16,
    "start_time": "2021-10-01T15:21:41.103Z"
   },
   {
    "duration": 23,
    "start_time": "2021-10-01T15:21:41.121Z"
   },
   {
    "duration": 36,
    "start_time": "2021-10-01T15:21:41.146Z"
   },
   {
    "duration": 4,
    "start_time": "2021-10-01T15:21:41.184Z"
   },
   {
    "duration": 33,
    "start_time": "2021-10-01T15:21:41.190Z"
   },
   {
    "duration": 5,
    "start_time": "2021-10-01T15:21:41.227Z"
   },
   {
    "duration": 23,
    "start_time": "2021-10-01T15:21:41.234Z"
   },
   {
    "duration": 6,
    "start_time": "2021-10-01T15:21:41.259Z"
   },
   {
    "duration": 17,
    "start_time": "2021-10-01T15:21:41.266Z"
   },
   {
    "duration": 820,
    "start_time": "2021-10-01T15:21:41.284Z"
   },
   {
    "duration": 625,
    "start_time": "2021-10-01T15:21:42.106Z"
   },
   {
    "duration": 526,
    "start_time": "2021-10-01T15:21:42.733Z"
   },
   {
    "duration": 100,
    "start_time": "2021-10-01T15:21:43.261Z"
   },
   {
    "duration": 3,
    "start_time": "2021-10-01T15:21:43.363Z"
   },
   {
    "duration": 29,
    "start_time": "2021-10-01T15:21:43.367Z"
   },
   {
    "duration": 51,
    "start_time": "2021-10-01T15:21:43.398Z"
   },
   {
    "duration": 3,
    "start_time": "2021-10-01T15:21:43.450Z"
   },
   {
    "duration": 36,
    "start_time": "2021-10-01T15:21:43.454Z"
   },
   {
    "duration": 53,
    "start_time": "2021-10-01T15:21:43.492Z"
   },
   {
    "duration": 12,
    "start_time": "2021-10-01T15:21:43.547Z"
   },
   {
    "duration": 34,
    "start_time": "2021-10-01T15:21:43.560Z"
   },
   {
    "duration": 8,
    "start_time": "2021-10-01T15:21:43.595Z"
   },
   {
    "duration": 33,
    "start_time": "2021-10-01T15:21:43.605Z"
   },
   {
    "duration": 26,
    "start_time": "2021-10-01T15:21:43.640Z"
   },
   {
    "duration": 6,
    "start_time": "2021-10-01T15:21:43.668Z"
   },
   {
    "duration": 26,
    "start_time": "2021-10-01T15:21:43.675Z"
   },
   {
    "duration": 15,
    "start_time": "2021-10-01T15:21:43.702Z"
   },
   {
    "duration": 22,
    "start_time": "2021-10-01T15:21:43.718Z"
   },
   {
    "duration": 14,
    "start_time": "2021-10-01T15:21:43.741Z"
   },
   {
    "duration": 24,
    "start_time": "2021-10-01T15:21:43.757Z"
   },
   {
    "duration": 14,
    "start_time": "2021-10-01T15:21:43.783Z"
   },
   {
    "duration": 266,
    "start_time": "2021-10-01T15:21:43.798Z"
   },
   {
    "duration": 249,
    "start_time": "2021-10-01T15:21:44.066Z"
   },
   {
    "duration": 338,
    "start_time": "2021-10-01T15:21:44.317Z"
   },
   {
    "duration": 4,
    "start_time": "2021-10-01T15:21:44.656Z"
   },
   {
    "duration": 346,
    "start_time": "2021-10-01T15:21:44.661Z"
   },
   {
    "duration": 16,
    "start_time": "2021-10-01T15:21:45.009Z"
   },
   {
    "duration": 18,
    "start_time": "2021-10-01T15:21:45.026Z"
   },
   {
    "duration": 21,
    "start_time": "2021-10-01T15:21:45.046Z"
   },
   {
    "duration": 3,
    "start_time": "2021-10-01T15:21:45.069Z"
   },
   {
    "duration": 417,
    "start_time": "2021-10-01T15:21:45.074Z"
   },
   {
    "duration": 274,
    "start_time": "2021-10-01T15:21:45.493Z"
   },
   {
    "duration": 10,
    "start_time": "2021-10-01T15:21:45.769Z"
   },
   {
    "duration": 10,
    "start_time": "2021-10-01T15:21:45.780Z"
   },
   {
    "duration": 358,
    "start_time": "2021-10-01T15:21:45.791Z"
   },
   {
    "duration": 253,
    "start_time": "2021-10-01T15:21:46.151Z"
   },
   {
    "duration": 10,
    "start_time": "2021-10-01T15:21:46.406Z"
   },
   {
    "duration": 29,
    "start_time": "2021-10-01T15:21:46.417Z"
   },
   {
    "duration": 381,
    "start_time": "2021-10-01T15:21:46.448Z"
   },
   {
    "duration": 254,
    "start_time": "2021-10-01T15:21:46.831Z"
   },
   {
    "duration": 10,
    "start_time": "2021-10-01T15:21:47.089Z"
   },
   {
    "duration": 20,
    "start_time": "2021-10-01T15:21:47.100Z"
   },
   {
    "duration": 32,
    "start_time": "2021-10-01T15:23:06.213Z"
   },
   {
    "duration": 10,
    "start_time": "2021-10-01T15:23:31.535Z"
   },
   {
    "duration": 90,
    "start_time": "2021-10-01T15:27:33.733Z"
   },
   {
    "duration": 15,
    "start_time": "2021-10-01T15:27:38.060Z"
   },
   {
    "duration": 14,
    "start_time": "2021-10-01T15:27:51.291Z"
   },
   {
    "duration": 16,
    "start_time": "2021-10-01T15:28:30.803Z"
   },
   {
    "duration": 14,
    "start_time": "2021-10-01T15:28:44.082Z"
   },
   {
    "duration": 363,
    "start_time": "2021-10-01T15:33:04.156Z"
   },
   {
    "duration": 460,
    "start_time": "2021-10-01T15:33:22.318Z"
   },
   {
    "duration": 382,
    "start_time": "2021-10-01T15:37:44.683Z"
   },
   {
    "duration": 377,
    "start_time": "2021-10-01T15:37:53.183Z"
   },
   {
    "duration": 399,
    "start_time": "2021-10-01T15:38:00.967Z"
   },
   {
    "duration": 385,
    "start_time": "2021-10-01T15:38:10.098Z"
   },
   {
    "duration": 486,
    "start_time": "2021-10-01T15:39:25.058Z"
   },
   {
    "duration": 381,
    "start_time": "2021-10-01T15:39:40.912Z"
   },
   {
    "duration": 385,
    "start_time": "2021-10-01T15:39:55.911Z"
   },
   {
    "duration": 392,
    "start_time": "2021-10-01T15:40:08.427Z"
   },
   {
    "duration": 394,
    "start_time": "2021-10-01T15:40:35.498Z"
   },
   {
    "duration": 378,
    "start_time": "2021-10-01T15:40:56.568Z"
   },
   {
    "duration": 482,
    "start_time": "2021-10-01T15:42:52.440Z"
   },
   {
    "duration": 386,
    "start_time": "2021-10-01T15:43:12.281Z"
   },
   {
    "duration": 380,
    "start_time": "2021-10-01T15:43:28.005Z"
   },
   {
    "duration": 382,
    "start_time": "2021-10-01T15:43:35.677Z"
   },
   {
    "duration": 398,
    "start_time": "2021-10-01T15:44:09.737Z"
   },
   {
    "duration": 486,
    "start_time": "2021-10-01T15:45:15.234Z"
   },
   {
    "duration": 1151,
    "start_time": "2021-10-01T15:46:10.722Z"
   },
   {
    "duration": 386,
    "start_time": "2021-10-01T15:46:11.874Z"
   },
   {
    "duration": 17,
    "start_time": "2021-10-01T15:46:12.261Z"
   },
   {
    "duration": 29,
    "start_time": "2021-10-01T15:46:12.279Z"
   },
   {
    "duration": 20,
    "start_time": "2021-10-01T15:46:12.310Z"
   },
   {
    "duration": 103,
    "start_time": "2021-10-01T15:46:12.332Z"
   },
   {
    "duration": 17,
    "start_time": "2021-10-01T15:46:12.437Z"
   },
   {
    "duration": 26,
    "start_time": "2021-10-01T15:46:12.456Z"
   },
   {
    "duration": 16,
    "start_time": "2021-10-01T15:46:12.484Z"
   },
   {
    "duration": 90,
    "start_time": "2021-10-01T15:46:12.501Z"
   },
   {
    "duration": 7,
    "start_time": "2021-10-01T15:46:12.593Z"
   },
   {
    "duration": 18,
    "start_time": "2021-10-01T15:46:12.602Z"
   },
   {
    "duration": 55,
    "start_time": "2021-10-01T15:46:12.621Z"
   },
   {
    "duration": 8,
    "start_time": "2021-10-01T15:46:12.677Z"
   },
   {
    "duration": 19,
    "start_time": "2021-10-01T15:46:12.686Z"
   },
   {
    "duration": 16,
    "start_time": "2021-10-01T15:46:12.707Z"
   },
   {
    "duration": 22,
    "start_time": "2021-10-01T15:46:12.725Z"
   },
   {
    "duration": 6,
    "start_time": "2021-10-01T15:46:12.749Z"
   },
   {
    "duration": 16,
    "start_time": "2021-10-01T15:46:12.756Z"
   },
   {
    "duration": 27,
    "start_time": "2021-10-01T15:46:12.774Z"
   },
   {
    "duration": 4,
    "start_time": "2021-10-01T15:46:12.803Z"
   },
   {
    "duration": 39,
    "start_time": "2021-10-01T15:46:12.808Z"
   },
   {
    "duration": 4,
    "start_time": "2021-10-01T15:46:12.851Z"
   },
   {
    "duration": 17,
    "start_time": "2021-10-01T15:46:12.857Z"
   },
   {
    "duration": 6,
    "start_time": "2021-10-01T15:46:12.876Z"
   },
   {
    "duration": 8,
    "start_time": "2021-10-01T15:46:12.883Z"
   },
   {
    "duration": 831,
    "start_time": "2021-10-01T15:46:12.892Z"
   },
   {
    "duration": 619,
    "start_time": "2021-10-01T15:46:13.725Z"
   },
   {
    "duration": 503,
    "start_time": "2021-10-01T15:46:14.345Z"
   },
   {
    "duration": 95,
    "start_time": "2021-10-01T15:46:14.850Z"
   },
   {
    "duration": 2,
    "start_time": "2021-10-01T15:46:14.947Z"
   },
   {
    "duration": 17,
    "start_time": "2021-10-01T15:46:14.951Z"
   },
   {
    "duration": 39,
    "start_time": "2021-10-01T15:46:14.970Z"
   },
   {
    "duration": 3,
    "start_time": "2021-10-01T15:46:15.011Z"
   },
   {
    "duration": 30,
    "start_time": "2021-10-01T15:46:15.015Z"
   },
   {
    "duration": 39,
    "start_time": "2021-10-01T15:46:15.047Z"
   },
   {
    "duration": 11,
    "start_time": "2021-10-01T15:46:15.087Z"
   },
   {
    "duration": 23,
    "start_time": "2021-10-01T15:46:15.100Z"
   },
   {
    "duration": 1160,
    "start_time": "2021-10-01T15:47:09.823Z"
   },
   {
    "duration": 390,
    "start_time": "2021-10-01T15:47:10.985Z"
   },
   {
    "duration": 16,
    "start_time": "2021-10-01T15:47:11.376Z"
   },
   {
    "duration": 26,
    "start_time": "2021-10-01T15:47:11.394Z"
   },
   {
    "duration": 19,
    "start_time": "2021-10-01T15:47:11.422Z"
   },
   {
    "duration": 97,
    "start_time": "2021-10-01T15:47:11.442Z"
   },
   {
    "duration": 13,
    "start_time": "2021-10-01T15:47:11.540Z"
   },
   {
    "duration": 27,
    "start_time": "2021-10-01T15:47:11.556Z"
   },
   {
    "duration": 15,
    "start_time": "2021-10-01T15:47:11.585Z"
   },
   {
    "duration": 83,
    "start_time": "2021-10-01T15:47:11.602Z"
   },
   {
    "duration": 6,
    "start_time": "2021-10-01T15:47:11.687Z"
   },
   {
    "duration": 18,
    "start_time": "2021-10-01T15:47:11.694Z"
   },
   {
    "duration": 63,
    "start_time": "2021-10-01T15:47:11.714Z"
   },
   {
    "duration": 8,
    "start_time": "2021-10-01T15:47:11.779Z"
   },
   {
    "duration": 10,
    "start_time": "2021-10-01T15:47:11.789Z"
   },
   {
    "duration": 11,
    "start_time": "2021-10-01T15:47:11.801Z"
   },
   {
    "duration": 37,
    "start_time": "2021-10-01T15:47:11.813Z"
   },
   {
    "duration": 8,
    "start_time": "2021-10-01T15:47:11.851Z"
   },
   {
    "duration": 8,
    "start_time": "2021-10-01T15:47:11.861Z"
   },
   {
    "duration": 31,
    "start_time": "2021-10-01T15:47:11.871Z"
   },
   {
    "duration": 6,
    "start_time": "2021-10-01T15:47:11.903Z"
   },
   {
    "duration": 46,
    "start_time": "2021-10-01T15:47:11.910Z"
   },
   {
    "duration": 4,
    "start_time": "2021-10-01T15:47:11.961Z"
   },
   {
    "duration": 17,
    "start_time": "2021-10-01T15:47:11.967Z"
   },
   {
    "duration": 6,
    "start_time": "2021-10-01T15:47:11.985Z"
   },
   {
    "duration": 7,
    "start_time": "2021-10-01T15:47:11.992Z"
   },
   {
    "duration": 913,
    "start_time": "2021-10-01T15:47:12.000Z"
   },
   {
    "duration": 594,
    "start_time": "2021-10-01T15:47:12.914Z"
   },
   {
    "duration": 491,
    "start_time": "2021-10-01T15:47:13.510Z"
   },
   {
    "duration": 94,
    "start_time": "2021-10-01T15:47:14.003Z"
   },
   {
    "duration": 3,
    "start_time": "2021-10-01T15:47:14.098Z"
   },
   {
    "duration": 16,
    "start_time": "2021-10-01T15:47:14.102Z"
   },
   {
    "duration": 55,
    "start_time": "2021-10-01T15:47:14.119Z"
   },
   {
    "duration": 3,
    "start_time": "2021-10-01T15:47:14.175Z"
   },
   {
    "duration": 16,
    "start_time": "2021-10-01T15:47:14.180Z"
   },
   {
    "duration": 51,
    "start_time": "2021-10-01T15:47:14.198Z"
   },
   {
    "duration": 10,
    "start_time": "2021-10-01T15:47:14.251Z"
   },
   {
    "duration": 34,
    "start_time": "2021-10-01T15:47:14.263Z"
   },
   {
    "duration": 8,
    "start_time": "2021-10-01T15:47:14.298Z"
   },
   {
    "duration": 29,
    "start_time": "2021-10-01T15:47:14.308Z"
   },
   {
    "duration": 25,
    "start_time": "2021-10-01T15:47:14.339Z"
   },
   {
    "duration": 6,
    "start_time": "2021-10-01T15:47:14.366Z"
   },
   {
    "duration": 17,
    "start_time": "2021-10-01T15:47:14.374Z"
   },
   {
    "duration": 14,
    "start_time": "2021-10-01T15:47:14.392Z"
   },
   {
    "duration": 6,
    "start_time": "2021-10-01T15:47:14.408Z"
   },
   {
    "duration": 17,
    "start_time": "2021-10-01T15:47:14.416Z"
   },
   {
    "duration": 15,
    "start_time": "2021-10-01T15:47:14.435Z"
   },
   {
    "duration": 26,
    "start_time": "2021-10-01T15:47:14.452Z"
   },
   {
    "duration": 250,
    "start_time": "2021-10-01T15:47:14.480Z"
   },
   {
    "duration": 250,
    "start_time": "2021-10-01T15:47:14.732Z"
   },
   {
    "duration": 265,
    "start_time": "2021-10-01T15:47:14.984Z"
   },
   {
    "duration": 4,
    "start_time": "2021-10-01T15:47:15.251Z"
   },
   {
    "duration": 374,
    "start_time": "2021-10-01T15:47:15.257Z"
   },
   {
    "duration": 23,
    "start_time": "2021-10-01T15:47:15.633Z"
   },
   {
    "duration": 9,
    "start_time": "2021-10-01T15:47:15.658Z"
   },
   {
    "duration": 21,
    "start_time": "2021-10-01T15:47:15.668Z"
   },
   {
    "duration": 5,
    "start_time": "2021-10-01T15:47:15.690Z"
   },
   {
    "duration": 421,
    "start_time": "2021-10-01T15:47:15.696Z"
   },
   {
    "duration": 262,
    "start_time": "2021-10-01T15:47:16.119Z"
   },
   {
    "duration": 10,
    "start_time": "2021-10-01T15:47:16.382Z"
   },
   {
    "duration": 18,
    "start_time": "2021-10-01T15:47:16.393Z"
   },
   {
    "duration": 14,
    "start_time": "2021-10-01T15:47:16.413Z"
   },
   {
    "duration": 354,
    "start_time": "2021-10-01T15:47:16.429Z"
   },
   {
    "duration": 255,
    "start_time": "2021-10-01T15:47:16.784Z"
   },
   {
    "duration": 10,
    "start_time": "2021-10-01T15:47:17.041Z"
   },
   {
    "duration": 9,
    "start_time": "2021-10-01T15:47:17.053Z"
   },
   {
    "duration": 14,
    "start_time": "2021-10-01T15:47:17.064Z"
   },
   {
    "duration": 410,
    "start_time": "2021-10-01T15:47:17.082Z"
   },
   {
    "duration": 252,
    "start_time": "2021-10-01T15:47:17.494Z"
   },
   {
    "duration": 9,
    "start_time": "2021-10-01T15:47:17.748Z"
   },
   {
    "duration": 9,
    "start_time": "2021-10-01T15:47:17.758Z"
   },
   {
    "duration": 15,
    "start_time": "2021-10-01T15:47:17.768Z"
   },
   {
    "duration": 465,
    "start_time": "2021-10-01T15:47:56.684Z"
   },
   {
    "duration": 385,
    "start_time": "2021-10-01T15:48:04.157Z"
   },
   {
    "duration": 464,
    "start_time": "2021-10-01T16:01:04.196Z"
   },
   {
    "duration": 87,
    "start_time": "2021-10-01T16:05:12.773Z"
   },
   {
    "duration": 1162,
    "start_time": "2021-10-01T16:05:28.132Z"
   },
   {
    "duration": 388,
    "start_time": "2021-10-01T16:05:29.296Z"
   },
   {
    "duration": 16,
    "start_time": "2021-10-01T16:05:29.688Z"
   },
   {
    "duration": 29,
    "start_time": "2021-10-01T16:05:29.706Z"
   },
   {
    "duration": 21,
    "start_time": "2021-10-01T16:05:29.737Z"
   },
   {
    "duration": 104,
    "start_time": "2021-10-01T16:05:29.760Z"
   },
   {
    "duration": 14,
    "start_time": "2021-10-01T16:05:29.868Z"
   },
   {
    "duration": 44,
    "start_time": "2021-10-01T16:05:29.884Z"
   },
   {
    "duration": 21,
    "start_time": "2021-10-01T16:05:29.930Z"
   },
   {
    "duration": 64,
    "start_time": "2021-10-01T16:05:29.953Z"
   },
   {
    "duration": 7,
    "start_time": "2021-10-01T16:05:30.019Z"
   },
   {
    "duration": 42,
    "start_time": "2021-10-01T16:05:30.028Z"
   },
   {
    "duration": 72,
    "start_time": "2021-10-01T16:05:30.072Z"
   },
   {
    "duration": 9,
    "start_time": "2021-10-01T16:05:30.145Z"
   },
   {
    "duration": 44,
    "start_time": "2021-10-01T16:05:30.156Z"
   },
   {
    "duration": 29,
    "start_time": "2021-10-01T16:05:30.202Z"
   },
   {
    "duration": 38,
    "start_time": "2021-10-01T16:05:30.233Z"
   },
   {
    "duration": 32,
    "start_time": "2021-10-01T16:05:30.273Z"
   },
   {
    "duration": 25,
    "start_time": "2021-10-01T16:05:30.307Z"
   },
   {
    "duration": 53,
    "start_time": "2021-10-01T16:05:30.334Z"
   },
   {
    "duration": 6,
    "start_time": "2021-10-01T16:05:30.389Z"
   },
   {
    "duration": 36,
    "start_time": "2021-10-01T16:05:30.400Z"
   },
   {
    "duration": 9,
    "start_time": "2021-10-01T16:05:30.439Z"
   },
   {
    "duration": 55,
    "start_time": "2021-10-01T16:05:30.450Z"
   },
   {
    "duration": 15,
    "start_time": "2021-10-01T16:05:30.507Z"
   },
   {
    "duration": 19,
    "start_time": "2021-10-01T16:05:30.524Z"
   },
   {
    "duration": 800,
    "start_time": "2021-10-01T16:05:30.544Z"
   },
   {
    "duration": 584,
    "start_time": "2021-10-01T16:05:31.346Z"
   },
   {
    "duration": 492,
    "start_time": "2021-10-01T16:05:31.932Z"
   },
   {
    "duration": 97,
    "start_time": "2021-10-01T16:05:32.425Z"
   },
   {
    "duration": 3,
    "start_time": "2021-10-01T16:05:32.523Z"
   },
   {
    "duration": 27,
    "start_time": "2021-10-01T16:05:32.528Z"
   },
   {
    "duration": 48,
    "start_time": "2021-10-01T16:05:32.557Z"
   },
   {
    "duration": 4,
    "start_time": "2021-10-01T16:05:32.606Z"
   },
   {
    "duration": 30,
    "start_time": "2021-10-01T16:05:32.612Z"
   },
   {
    "duration": 48,
    "start_time": "2021-10-01T16:05:32.644Z"
   },
   {
    "duration": 11,
    "start_time": "2021-10-01T16:05:32.694Z"
   },
   {
    "duration": 48,
    "start_time": "2021-10-01T16:05:32.707Z"
   },
   {
    "duration": 15,
    "start_time": "2021-10-01T16:05:32.757Z"
   },
   {
    "duration": 30,
    "start_time": "2021-10-01T16:05:32.773Z"
   },
   {
    "duration": 36,
    "start_time": "2021-10-01T16:05:32.805Z"
   },
   {
    "duration": 7,
    "start_time": "2021-10-01T16:05:32.843Z"
   },
   {
    "duration": 9,
    "start_time": "2021-10-01T16:05:32.852Z"
   },
   {
    "duration": 18,
    "start_time": "2021-10-01T16:05:32.863Z"
   },
   {
    "duration": 22,
    "start_time": "2021-10-01T16:05:32.883Z"
   },
   {
    "duration": 28,
    "start_time": "2021-10-01T16:05:32.907Z"
   },
   {
    "duration": 13,
    "start_time": "2021-10-01T16:05:32.937Z"
   },
   {
    "duration": 22,
    "start_time": "2021-10-01T16:05:32.952Z"
   },
   {
    "duration": 265,
    "start_time": "2021-10-01T16:05:32.975Z"
   },
   {
    "duration": 260,
    "start_time": "2021-10-01T16:05:33.242Z"
   },
   {
    "duration": 252,
    "start_time": "2021-10-01T16:05:33.504Z"
   },
   {
    "duration": 4,
    "start_time": "2021-10-01T16:05:33.757Z"
   },
   {
    "duration": 369,
    "start_time": "2021-10-01T16:05:33.763Z"
   },
   {
    "duration": 20,
    "start_time": "2021-10-01T16:05:34.133Z"
   },
   {
    "duration": 19,
    "start_time": "2021-10-01T16:05:34.155Z"
   },
   {
    "duration": 23,
    "start_time": "2021-10-01T16:05:34.175Z"
   },
   {
    "duration": 7,
    "start_time": "2021-10-01T16:05:34.200Z"
   },
   {
    "duration": 434,
    "start_time": "2021-10-01T16:05:34.208Z"
   },
   {
    "duration": 262,
    "start_time": "2021-10-01T16:05:34.645Z"
   },
   {
    "duration": 11,
    "start_time": "2021-10-01T16:05:34.909Z"
   },
   {
    "duration": 37,
    "start_time": "2021-10-01T16:05:34.922Z"
   },
   {
    "duration": 32,
    "start_time": "2021-10-01T16:05:34.961Z"
   },
   {
    "duration": 333,
    "start_time": "2021-10-01T16:05:34.995Z"
   },
   {
    "duration": 252,
    "start_time": "2021-10-01T16:05:35.330Z"
   },
   {
    "duration": 9,
    "start_time": "2021-10-01T16:05:35.584Z"
   },
   {
    "duration": 21,
    "start_time": "2021-10-01T16:05:35.594Z"
   },
   {
    "duration": 17,
    "start_time": "2021-10-01T16:05:35.620Z"
   },
   {
    "duration": 383,
    "start_time": "2021-10-01T16:05:35.639Z"
   },
   {
    "duration": 277,
    "start_time": "2021-10-01T16:05:36.024Z"
   },
   {
    "duration": 9,
    "start_time": "2021-10-01T16:05:36.302Z"
   },
   {
    "duration": 21,
    "start_time": "2021-10-01T16:05:36.312Z"
   },
   {
    "duration": 46,
    "start_time": "2021-10-01T16:05:36.335Z"
   },
   {
    "duration": 1231,
    "start_time": "2021-10-01T16:16:01.839Z"
   },
   {
    "duration": 594,
    "start_time": "2021-10-01T16:16:03.072Z"
   },
   {
    "duration": 16,
    "start_time": "2021-10-01T16:16:03.668Z"
   },
   {
    "duration": 36,
    "start_time": "2021-10-01T16:16:03.685Z"
   },
   {
    "duration": 34,
    "start_time": "2021-10-01T16:16:03.723Z"
   },
   {
    "duration": 104,
    "start_time": "2021-10-01T16:16:03.759Z"
   },
   {
    "duration": 12,
    "start_time": "2021-10-01T16:16:03.865Z"
   },
   {
    "duration": 47,
    "start_time": "2021-10-01T16:16:03.880Z"
   },
   {
    "duration": 30,
    "start_time": "2021-10-01T16:16:03.929Z"
   },
   {
    "duration": 79,
    "start_time": "2021-10-01T16:16:03.961Z"
   },
   {
    "duration": 6,
    "start_time": "2021-10-01T16:16:04.042Z"
   },
   {
    "duration": 33,
    "start_time": "2021-10-01T16:16:04.050Z"
   },
   {
    "duration": 61,
    "start_time": "2021-10-01T16:16:04.085Z"
   },
   {
    "duration": 7,
    "start_time": "2021-10-01T16:16:04.148Z"
   },
   {
    "duration": 31,
    "start_time": "2021-10-01T16:16:04.157Z"
   },
   {
    "duration": 31,
    "start_time": "2021-10-01T16:16:04.190Z"
   },
   {
    "duration": 20,
    "start_time": "2021-10-01T16:16:04.223Z"
   },
   {
    "duration": 18,
    "start_time": "2021-10-01T16:16:04.245Z"
   },
   {
    "duration": 21,
    "start_time": "2021-10-01T16:16:04.265Z"
   },
   {
    "duration": 46,
    "start_time": "2021-10-01T16:16:04.288Z"
   },
   {
    "duration": 5,
    "start_time": "2021-10-01T16:16:04.336Z"
   },
   {
    "duration": 28,
    "start_time": "2021-10-01T16:16:04.342Z"
   },
   {
    "duration": 4,
    "start_time": "2021-10-01T16:16:04.373Z"
   },
   {
    "duration": 35,
    "start_time": "2021-10-01T16:16:04.379Z"
   },
   {
    "duration": 23,
    "start_time": "2021-10-01T16:16:04.416Z"
   },
   {
    "duration": 25,
    "start_time": "2021-10-01T16:16:04.441Z"
   },
   {
    "duration": 842,
    "start_time": "2021-10-01T16:16:04.468Z"
   },
   {
    "duration": 680,
    "start_time": "2021-10-01T16:16:05.312Z"
   },
   {
    "duration": 713,
    "start_time": "2021-10-01T16:16:05.994Z"
   },
   {
    "duration": 194,
    "start_time": "2021-10-01T16:16:06.709Z"
   },
   {
    "duration": 3,
    "start_time": "2021-10-01T16:16:06.904Z"
   },
   {
    "duration": 22,
    "start_time": "2021-10-01T16:16:06.908Z"
   },
   {
    "duration": 43,
    "start_time": "2021-10-01T16:16:06.932Z"
   },
   {
    "duration": 3,
    "start_time": "2021-10-01T16:16:06.977Z"
   },
   {
    "duration": 28,
    "start_time": "2021-10-01T16:16:06.981Z"
   },
   {
    "duration": 48,
    "start_time": "2021-10-01T16:16:07.011Z"
   },
   {
    "duration": 10,
    "start_time": "2021-10-01T16:16:07.061Z"
   },
   {
    "duration": 36,
    "start_time": "2021-10-01T16:16:07.073Z"
   },
   {
    "duration": 8,
    "start_time": "2021-10-01T16:16:07.110Z"
   },
   {
    "duration": 25,
    "start_time": "2021-10-01T16:16:07.120Z"
   },
   {
    "duration": 41,
    "start_time": "2021-10-01T16:16:07.146Z"
   },
   {
    "duration": 6,
    "start_time": "2021-10-01T16:16:07.188Z"
   },
   {
    "duration": 13,
    "start_time": "2021-10-01T16:16:07.196Z"
   },
   {
    "duration": 16,
    "start_time": "2021-10-01T16:16:07.210Z"
   },
   {
    "duration": 5,
    "start_time": "2021-10-01T16:16:07.227Z"
   },
   {
    "duration": 16,
    "start_time": "2021-10-01T16:16:07.233Z"
   },
   {
    "duration": 16,
    "start_time": "2021-10-01T16:16:07.251Z"
   },
   {
    "duration": 31,
    "start_time": "2021-10-01T16:16:07.268Z"
   },
   {
    "duration": 354,
    "start_time": "2021-10-01T16:16:07.301Z"
   },
   {
    "duration": 305,
    "start_time": "2021-10-01T16:16:07.657Z"
   },
   {
    "duration": 384,
    "start_time": "2021-10-01T16:16:07.964Z"
   },
   {
    "duration": 3,
    "start_time": "2021-10-01T16:16:08.349Z"
   },
   {
    "duration": 356,
    "start_time": "2021-10-01T16:16:08.354Z"
   },
   {
    "duration": 16,
    "start_time": "2021-10-01T16:16:08.712Z"
   },
   {
    "duration": 20,
    "start_time": "2021-10-01T16:16:08.730Z"
   },
   {
    "duration": 23,
    "start_time": "2021-10-01T16:16:08.752Z"
   },
   {
    "duration": 4,
    "start_time": "2021-10-01T16:16:08.777Z"
   },
   {
    "duration": 539,
    "start_time": "2021-10-01T16:16:08.782Z"
   },
   {
    "duration": 272,
    "start_time": "2021-10-01T16:16:09.322Z"
   },
   {
    "duration": 10,
    "start_time": "2021-10-01T16:16:09.596Z"
   },
   {
    "duration": 10,
    "start_time": "2021-10-01T16:16:09.607Z"
   },
   {
    "duration": 35,
    "start_time": "2021-10-01T16:16:09.618Z"
   },
   {
    "duration": 398,
    "start_time": "2021-10-01T16:16:09.655Z"
   },
   {
    "duration": 259,
    "start_time": "2021-10-01T16:16:10.055Z"
   },
   {
    "duration": 9,
    "start_time": "2021-10-01T16:16:10.316Z"
   },
   {
    "duration": 23,
    "start_time": "2021-10-01T16:16:10.327Z"
   },
   {
    "duration": 30,
    "start_time": "2021-10-01T16:16:10.351Z"
   },
   {
    "duration": 417,
    "start_time": "2021-10-01T16:16:10.385Z"
   },
   {
    "duration": 251,
    "start_time": "2021-10-01T16:16:10.804Z"
   },
   {
    "duration": 8,
    "start_time": "2021-10-01T16:16:11.057Z"
   },
   {
    "duration": 14,
    "start_time": "2021-10-01T16:16:11.067Z"
   },
   {
    "duration": 19,
    "start_time": "2021-10-01T16:16:11.082Z"
   },
   {
    "duration": 1089,
    "start_time": "2021-10-01T16:52:27.897Z"
   },
   {
    "duration": 385,
    "start_time": "2021-10-01T16:52:28.988Z"
   },
   {
    "duration": 16,
    "start_time": "2021-10-01T16:52:29.378Z"
   },
   {
    "duration": 28,
    "start_time": "2021-10-01T16:52:29.395Z"
   },
   {
    "duration": 23,
    "start_time": "2021-10-01T16:52:29.425Z"
   },
   {
    "duration": 106,
    "start_time": "2021-10-01T16:52:29.449Z"
   },
   {
    "duration": 10,
    "start_time": "2021-10-01T16:52:29.558Z"
   },
   {
    "duration": 33,
    "start_time": "2021-10-01T16:52:29.570Z"
   },
   {
    "duration": 15,
    "start_time": "2021-10-01T16:52:29.604Z"
   },
   {
    "duration": 82,
    "start_time": "2021-10-01T16:52:29.621Z"
   },
   {
    "duration": 8,
    "start_time": "2021-10-01T16:52:29.705Z"
   },
   {
    "duration": 35,
    "start_time": "2021-10-01T16:52:29.714Z"
   },
   {
    "duration": 39,
    "start_time": "2021-10-01T16:52:29.750Z"
   },
   {
    "duration": 8,
    "start_time": "2021-10-01T16:52:29.791Z"
   },
   {
    "duration": 7,
    "start_time": "2021-10-01T16:52:29.801Z"
   },
   {
    "duration": 44,
    "start_time": "2021-10-01T16:52:29.810Z"
   },
   {
    "duration": 15,
    "start_time": "2021-10-01T16:52:29.856Z"
   },
   {
    "duration": 20,
    "start_time": "2021-10-01T16:52:29.873Z"
   },
   {
    "duration": 13,
    "start_time": "2021-10-01T16:52:29.895Z"
   },
   {
    "duration": 37,
    "start_time": "2021-10-01T16:52:29.909Z"
   },
   {
    "duration": 5,
    "start_time": "2021-10-01T16:52:29.948Z"
   },
   {
    "duration": 25,
    "start_time": "2021-10-01T16:52:29.956Z"
   },
   {
    "duration": 5,
    "start_time": "2021-10-01T16:52:29.983Z"
   },
   {
    "duration": 27,
    "start_time": "2021-10-01T16:52:29.989Z"
   },
   {
    "duration": 26,
    "start_time": "2021-10-01T16:52:30.018Z"
   },
   {
    "duration": 5,
    "start_time": "2021-10-01T16:52:30.046Z"
   },
   {
    "duration": 799,
    "start_time": "2021-10-01T16:52:30.052Z"
   },
   {
    "duration": 592,
    "start_time": "2021-10-01T16:52:30.853Z"
   },
   {
    "duration": 704,
    "start_time": "2021-10-01T16:52:31.447Z"
   },
   {
    "duration": 128,
    "start_time": "2021-10-01T16:52:32.154Z"
   },
   {
    "duration": 3,
    "start_time": "2021-10-01T16:52:32.283Z"
   },
   {
    "duration": 16,
    "start_time": "2021-10-01T16:52:32.287Z"
   },
   {
    "duration": 54,
    "start_time": "2021-10-01T16:52:32.304Z"
   },
   {
    "duration": 2,
    "start_time": "2021-10-01T16:52:32.360Z"
   },
   {
    "duration": 19,
    "start_time": "2021-10-01T16:52:32.364Z"
   },
   {
    "duration": 43,
    "start_time": "2021-10-01T16:52:32.385Z"
   },
   {
    "duration": 16,
    "start_time": "2021-10-01T16:52:32.430Z"
   },
   {
    "duration": 21,
    "start_time": "2021-10-01T16:52:32.448Z"
   },
   {
    "duration": 8,
    "start_time": "2021-10-01T16:52:32.471Z"
   },
   {
    "duration": 21,
    "start_time": "2021-10-01T16:52:32.481Z"
   },
   {
    "duration": 48,
    "start_time": "2021-10-01T16:52:32.503Z"
   },
   {
    "duration": 6,
    "start_time": "2021-10-01T16:52:32.552Z"
   },
   {
    "duration": 5,
    "start_time": "2021-10-01T16:52:32.559Z"
   },
   {
    "duration": 8,
    "start_time": "2021-10-01T16:52:32.565Z"
   },
   {
    "duration": 5,
    "start_time": "2021-10-01T16:52:32.574Z"
   },
   {
    "duration": 5,
    "start_time": "2021-10-01T16:52:32.580Z"
   },
   {
    "duration": 6,
    "start_time": "2021-10-01T16:52:32.586Z"
   },
   {
    "duration": 8,
    "start_time": "2021-10-01T16:52:32.593Z"
   },
   {
    "duration": 284,
    "start_time": "2021-10-01T16:52:32.602Z"
   },
   {
    "duration": 257,
    "start_time": "2021-10-01T16:52:32.888Z"
   },
   {
    "duration": 260,
    "start_time": "2021-10-01T16:52:33.146Z"
   },
   {
    "duration": 4,
    "start_time": "2021-10-01T16:52:33.407Z"
   },
   {
    "duration": 346,
    "start_time": "2021-10-01T16:52:33.413Z"
   },
   {
    "duration": 16,
    "start_time": "2021-10-01T16:52:33.761Z"
   },
   {
    "duration": 24,
    "start_time": "2021-10-01T16:52:33.778Z"
   },
   {
    "duration": 3,
    "start_time": "2021-10-01T16:52:33.804Z"
   },
   {
    "duration": 444,
    "start_time": "2021-10-01T16:52:33.809Z"
   },
   {
    "duration": 275,
    "start_time": "2021-10-01T16:52:34.255Z"
   },
   {
    "duration": 18,
    "start_time": "2021-10-01T16:52:34.532Z"
   },
   {
    "duration": 9,
    "start_time": "2021-10-01T16:52:34.551Z"
   },
   {
    "duration": 13,
    "start_time": "2021-10-01T16:52:34.561Z"
   },
   {
    "duration": 399,
    "start_time": "2021-10-01T16:52:34.576Z"
   },
   {
    "duration": 258,
    "start_time": "2021-10-01T16:52:34.977Z"
   },
   {
    "duration": 14,
    "start_time": "2021-10-01T16:52:35.237Z"
   },
   {
    "duration": 10,
    "start_time": "2021-10-01T16:52:35.253Z"
   },
   {
    "duration": 13,
    "start_time": "2021-10-01T16:52:35.265Z"
   },
   {
    "duration": 444,
    "start_time": "2021-10-01T16:52:35.283Z"
   },
   {
    "duration": 265,
    "start_time": "2021-10-01T16:52:35.728Z"
   },
   {
    "duration": 10,
    "start_time": "2021-10-01T16:52:35.994Z"
   },
   {
    "duration": 12,
    "start_time": "2021-10-01T16:52:36.005Z"
   },
   {
    "duration": 34,
    "start_time": "2021-10-01T16:52:36.019Z"
   },
   {
    "duration": 6622,
    "start_time": "2021-10-01T16:52:36.055Z"
   },
   {
    "duration": 5,
    "start_time": "2021-10-01T16:55:51.440Z"
   },
   {
    "duration": 6,
    "start_time": "2021-10-01T16:56:21.662Z"
   },
   {
    "duration": 258,
    "start_time": "2021-10-01T17:25:47.556Z"
   },
   {
    "duration": 263,
    "start_time": "2021-10-01T17:26:29.088Z"
   },
   {
    "duration": 1101,
    "start_time": "2021-10-01T17:26:41.280Z"
   },
   {
    "duration": 379,
    "start_time": "2021-10-01T17:26:42.383Z"
   },
   {
    "duration": 17,
    "start_time": "2021-10-01T17:26:42.764Z"
   },
   {
    "duration": 26,
    "start_time": "2021-10-01T17:26:42.782Z"
   },
   {
    "duration": 19,
    "start_time": "2021-10-01T17:26:42.810Z"
   },
   {
    "duration": 104,
    "start_time": "2021-10-01T17:26:42.830Z"
   },
   {
    "duration": 17,
    "start_time": "2021-10-01T17:26:42.936Z"
   },
   {
    "duration": 25,
    "start_time": "2021-10-01T17:26:42.956Z"
   },
   {
    "duration": 16,
    "start_time": "2021-10-01T17:26:42.983Z"
   },
   {
    "duration": 90,
    "start_time": "2021-10-01T17:26:43.000Z"
   },
   {
    "duration": 7,
    "start_time": "2021-10-01T17:26:43.092Z"
   },
   {
    "duration": 25,
    "start_time": "2021-10-01T17:26:43.101Z"
   },
   {
    "duration": 45,
    "start_time": "2021-10-01T17:26:43.127Z"
   },
   {
    "duration": 7,
    "start_time": "2021-10-01T17:26:43.173Z"
   },
   {
    "duration": 24,
    "start_time": "2021-10-01T17:26:43.182Z"
   },
   {
    "duration": 17,
    "start_time": "2021-10-01T17:26:43.208Z"
   },
   {
    "duration": 23,
    "start_time": "2021-10-01T17:26:43.227Z"
   },
   {
    "duration": 9,
    "start_time": "2021-10-01T17:26:43.252Z"
   },
   {
    "duration": 15,
    "start_time": "2021-10-01T17:26:43.262Z"
   },
   {
    "duration": 27,
    "start_time": "2021-10-01T17:26:43.279Z"
   },
   {
    "duration": 4,
    "start_time": "2021-10-01T17:26:43.307Z"
   },
   {
    "duration": 31,
    "start_time": "2021-10-01T17:26:43.313Z"
   },
   {
    "duration": 4,
    "start_time": "2021-10-01T17:26:43.348Z"
   },
   {
    "duration": 19,
    "start_time": "2021-10-01T17:26:43.354Z"
   },
   {
    "duration": 6,
    "start_time": "2021-10-01T17:26:43.374Z"
   },
   {
    "duration": 5,
    "start_time": "2021-10-01T17:26:43.382Z"
   },
   {
    "duration": 808,
    "start_time": "2021-10-01T17:26:43.389Z"
   },
   {
    "duration": 602,
    "start_time": "2021-10-01T17:26:44.199Z"
   },
   {
    "duration": 487,
    "start_time": "2021-10-01T17:26:44.802Z"
   },
   {
    "duration": 99,
    "start_time": "2021-10-01T17:26:45.291Z"
   },
   {
    "duration": 2,
    "start_time": "2021-10-01T17:26:45.392Z"
   },
   {
    "duration": 24,
    "start_time": "2021-10-01T17:26:45.396Z"
   },
   {
    "duration": 45,
    "start_time": "2021-10-01T17:26:45.422Z"
   },
   {
    "duration": 3,
    "start_time": "2021-10-01T17:26:45.468Z"
   },
   {
    "duration": 23,
    "start_time": "2021-10-01T17:26:45.472Z"
   },
   {
    "duration": 49,
    "start_time": "2021-10-01T17:26:45.496Z"
   },
   {
    "duration": 10,
    "start_time": "2021-10-01T17:26:45.547Z"
   },
   {
    "duration": 42,
    "start_time": "2021-10-01T17:26:45.558Z"
   },
   {
    "duration": 9,
    "start_time": "2021-10-01T17:26:45.601Z"
   },
   {
    "duration": 32,
    "start_time": "2021-10-01T17:26:45.611Z"
   },
   {
    "duration": 28,
    "start_time": "2021-10-01T17:26:45.645Z"
   },
   {
    "duration": 6,
    "start_time": "2021-10-01T17:26:45.675Z"
   },
   {
    "duration": 10,
    "start_time": "2021-10-01T17:26:45.682Z"
   },
   {
    "duration": 22,
    "start_time": "2021-10-01T17:26:45.693Z"
   },
   {
    "duration": 23,
    "start_time": "2021-10-01T17:26:45.716Z"
   },
   {
    "duration": 18,
    "start_time": "2021-10-01T17:26:45.740Z"
   },
   {
    "duration": 33,
    "start_time": "2021-10-01T17:26:45.759Z"
   },
   {
    "duration": 6,
    "start_time": "2021-10-01T17:26:45.794Z"
   },
   {
    "duration": 268,
    "start_time": "2021-10-01T17:26:45.802Z"
   },
   {
    "duration": 263,
    "start_time": "2021-10-01T17:26:46.071Z"
   },
   {
    "duration": 271,
    "start_time": "2021-10-01T17:26:46.336Z"
   },
   {
    "duration": 3,
    "start_time": "2021-10-01T17:26:46.608Z"
   },
   {
    "duration": 364,
    "start_time": "2021-10-01T17:26:46.613Z"
   },
   {
    "duration": 14,
    "start_time": "2021-10-01T17:26:46.978Z"
   },
   {
    "duration": 39,
    "start_time": "2021-10-01T17:26:46.994Z"
   },
   {
    "duration": 20,
    "start_time": "2021-10-01T17:26:47.034Z"
   },
   {
    "duration": 444,
    "start_time": "2021-10-01T17:26:47.055Z"
   },
   {
    "duration": 256,
    "start_time": "2021-10-01T17:26:47.501Z"
   },
   {
    "duration": 9,
    "start_time": "2021-10-01T17:26:47.759Z"
   },
   {
    "duration": 32,
    "start_time": "2021-10-01T17:26:47.769Z"
   },
   {
    "duration": 26,
    "start_time": "2021-10-01T17:26:47.802Z"
   },
   {
    "duration": 391,
    "start_time": "2021-10-01T17:26:47.830Z"
   },
   {
    "duration": 256,
    "start_time": "2021-10-01T17:26:48.222Z"
   },
   {
    "duration": 8,
    "start_time": "2021-10-01T17:26:48.480Z"
   },
   {
    "duration": 28,
    "start_time": "2021-10-01T17:26:48.490Z"
   },
   {
    "duration": 30,
    "start_time": "2021-10-01T17:26:48.519Z"
   },
   {
    "duration": 410,
    "start_time": "2021-10-01T17:26:48.550Z"
   },
   {
    "duration": 252,
    "start_time": "2021-10-01T17:26:48.966Z"
   },
   {
    "duration": 10,
    "start_time": "2021-10-01T17:26:49.220Z"
   },
   {
    "duration": 27,
    "start_time": "2021-10-01T17:26:49.232Z"
   },
   {
    "duration": 48,
    "start_time": "2021-10-01T17:26:49.261Z"
   },
   {
    "duration": 28,
    "start_time": "2021-10-01T17:26:49.310Z"
   },
   {
    "duration": 31,
    "start_time": "2021-10-01T17:26:49.340Z"
   },
   {
    "duration": 392,
    "start_time": "2021-10-01T17:26:49.373Z"
   },
   {
    "duration": 124,
    "start_time": "2021-10-01T17:26:49.643Z"
   },
   {
    "duration": 6,
    "start_time": "2021-10-01T17:27:21.039Z"
   },
   {
    "duration": 283,
    "start_time": "2021-10-01T17:27:25.823Z"
   },
   {
    "duration": 6,
    "start_time": "2021-10-01T17:27:31.409Z"
   },
   {
    "duration": 1264,
    "start_time": "2021-10-01T17:43:04.420Z"
   },
   {
    "duration": 381,
    "start_time": "2021-10-01T17:43:05.686Z"
   },
   {
    "duration": 14,
    "start_time": "2021-10-01T17:43:06.069Z"
   },
   {
    "duration": 28,
    "start_time": "2021-10-01T17:43:06.085Z"
   },
   {
    "duration": 19,
    "start_time": "2021-10-01T17:43:06.114Z"
   },
   {
    "duration": 102,
    "start_time": "2021-10-01T17:43:06.134Z"
   },
   {
    "duration": 15,
    "start_time": "2021-10-01T17:43:06.237Z"
   },
   {
    "duration": 31,
    "start_time": "2021-10-01T17:43:06.255Z"
   },
   {
    "duration": 16,
    "start_time": "2021-10-01T17:43:06.288Z"
   },
   {
    "duration": 89,
    "start_time": "2021-10-01T17:43:06.305Z"
   },
   {
    "duration": 7,
    "start_time": "2021-10-01T17:43:06.395Z"
   },
   {
    "duration": 45,
    "start_time": "2021-10-01T17:43:06.403Z"
   },
   {
    "duration": 50,
    "start_time": "2021-10-01T17:43:06.449Z"
   },
   {
    "duration": 8,
    "start_time": "2021-10-01T17:43:06.500Z"
   },
   {
    "duration": 33,
    "start_time": "2021-10-01T17:43:06.509Z"
   },
   {
    "duration": 29,
    "start_time": "2021-10-01T17:43:06.544Z"
   },
   {
    "duration": 36,
    "start_time": "2021-10-01T17:43:06.575Z"
   },
   {
    "duration": 26,
    "start_time": "2021-10-01T17:43:06.612Z"
   },
   {
    "duration": 25,
    "start_time": "2021-10-01T17:43:06.640Z"
   },
   {
    "duration": 50,
    "start_time": "2021-10-01T17:43:06.666Z"
   },
   {
    "duration": 4,
    "start_time": "2021-10-01T17:43:06.718Z"
   },
   {
    "duration": 44,
    "start_time": "2021-10-01T17:43:06.723Z"
   },
   {
    "duration": 11,
    "start_time": "2021-10-01T17:43:06.771Z"
   },
   {
    "duration": 31,
    "start_time": "2021-10-01T17:43:06.784Z"
   },
   {
    "duration": 17,
    "start_time": "2021-10-01T17:43:06.817Z"
   },
   {
    "duration": 33,
    "start_time": "2021-10-01T17:43:06.836Z"
   },
   {
    "duration": 801,
    "start_time": "2021-10-01T17:43:06.870Z"
   },
   {
    "duration": 581,
    "start_time": "2021-10-01T17:43:07.672Z"
   },
   {
    "duration": 479,
    "start_time": "2021-10-01T17:43:08.254Z"
   },
   {
    "duration": 90,
    "start_time": "2021-10-01T17:43:08.735Z"
   },
   {
    "duration": 2,
    "start_time": "2021-10-01T17:43:08.827Z"
   },
   {
    "duration": 23,
    "start_time": "2021-10-01T17:43:08.831Z"
   },
   {
    "duration": 40,
    "start_time": "2021-10-01T17:43:08.856Z"
   },
   {
    "duration": 3,
    "start_time": "2021-10-01T17:43:08.898Z"
   },
   {
    "duration": 20,
    "start_time": "2021-10-01T17:43:08.903Z"
   },
   {
    "duration": 52,
    "start_time": "2021-10-01T17:43:08.925Z"
   },
   {
    "duration": 11,
    "start_time": "2021-10-01T17:43:08.978Z"
   },
   {
    "duration": 24,
    "start_time": "2021-10-01T17:43:08.990Z"
   },
   {
    "duration": 32,
    "start_time": "2021-10-01T17:43:09.016Z"
   },
   {
    "duration": 22,
    "start_time": "2021-10-01T17:43:09.050Z"
   },
   {
    "duration": 25,
    "start_time": "2021-10-01T17:43:09.074Z"
   },
   {
    "duration": 5,
    "start_time": "2021-10-01T17:43:09.101Z"
   },
   {
    "duration": 11,
    "start_time": "2021-10-01T17:43:09.108Z"
   },
   {
    "duration": 17,
    "start_time": "2021-10-01T17:43:09.145Z"
   },
   {
    "duration": 5,
    "start_time": "2021-10-01T17:43:09.164Z"
   },
   {
    "duration": 14,
    "start_time": "2021-10-01T17:43:09.171Z"
   },
   {
    "duration": 15,
    "start_time": "2021-10-01T17:43:09.186Z"
   },
   {
    "duration": 12,
    "start_time": "2021-10-01T17:43:09.202Z"
   },
   {
    "duration": 264,
    "start_time": "2021-10-01T17:43:09.215Z"
   },
   {
    "duration": 263,
    "start_time": "2021-10-01T17:43:09.481Z"
   },
   {
    "duration": 250,
    "start_time": "2021-10-01T17:43:09.746Z"
   },
   {
    "duration": 3,
    "start_time": "2021-10-01T17:43:09.998Z"
   },
   {
    "duration": 354,
    "start_time": "2021-10-01T17:43:10.003Z"
   },
   {
    "duration": 15,
    "start_time": "2021-10-01T17:43:10.359Z"
   },
   {
    "duration": 29,
    "start_time": "2021-10-01T17:43:10.376Z"
   },
   {
    "duration": 4,
    "start_time": "2021-10-01T17:43:10.407Z"
   },
   {
    "duration": 426,
    "start_time": "2021-10-01T17:43:10.412Z"
   },
   {
    "duration": 255,
    "start_time": "2021-10-01T17:43:10.839Z"
   },
   {
    "duration": 12,
    "start_time": "2021-10-01T17:43:11.095Z"
   },
   {
    "duration": 14,
    "start_time": "2021-10-01T17:43:11.109Z"
   },
   {
    "duration": 30,
    "start_time": "2021-10-01T17:43:11.125Z"
   },
   {
    "duration": 387,
    "start_time": "2021-10-01T17:43:11.157Z"
   },
   {
    "duration": 248,
    "start_time": "2021-10-01T17:43:11.546Z"
   },
   {
    "duration": 9,
    "start_time": "2021-10-01T17:43:11.796Z"
   },
   {
    "duration": 17,
    "start_time": "2021-10-01T17:43:11.806Z"
   },
   {
    "duration": 25,
    "start_time": "2021-10-01T17:43:11.825Z"
   },
   {
    "duration": 425,
    "start_time": "2021-10-01T17:43:11.852Z"
   },
   {
    "duration": 252,
    "start_time": "2021-10-01T17:43:12.283Z"
   },
   {
    "duration": 13,
    "start_time": "2021-10-01T17:43:12.536Z"
   },
   {
    "duration": 11,
    "start_time": "2021-10-01T17:43:12.551Z"
   },
   {
    "duration": 13,
    "start_time": "2021-10-01T17:43:12.564Z"
   },
   {
    "duration": 3,
    "start_time": "2021-10-01T17:43:12.579Z"
   },
   {
    "duration": 14,
    "start_time": "2021-10-01T17:43:12.584Z"
   },
   {
    "duration": 10,
    "start_time": "2021-10-01T17:43:12.600Z"
   },
   {
    "duration": 34,
    "start_time": "2021-10-01T17:43:12.611Z"
   },
   {
    "duration": 2,
    "start_time": "2021-10-01T18:01:52.941Z"
   },
   {
    "duration": 6,
    "start_time": "2021-10-01T18:05:55.429Z"
   },
   {
    "duration": 6,
    "start_time": "2021-10-01T18:05:55.992Z"
   },
   {
    "duration": 9,
    "start_time": "2021-10-01T18:05:59.167Z"
   },
   {
    "duration": 5,
    "start_time": "2021-10-01T18:06:47.783Z"
   },
   {
    "duration": 7,
    "start_time": "2021-10-01T18:07:18.855Z"
   },
   {
    "duration": 2,
    "start_time": "2021-10-01T18:10:54.923Z"
   },
   {
    "duration": 4,
    "start_time": "2021-10-01T18:10:55.067Z"
   },
   {
    "duration": 85,
    "start_time": "2021-10-01T18:11:06.981Z"
   },
   {
    "duration": 4,
    "start_time": "2021-10-01T18:11:22.459Z"
   },
   {
    "duration": 3,
    "start_time": "2021-10-01T18:12:13.305Z"
   },
   {
    "duration": 4,
    "start_time": "2021-10-01T18:12:16.008Z"
   },
   {
    "duration": 3,
    "start_time": "2021-10-01T18:12:16.692Z"
   },
   {
    "duration": 3,
    "start_time": "2021-10-01T18:12:21.005Z"
   },
   {
    "duration": 3,
    "start_time": "2021-10-01T18:12:21.491Z"
   },
   {
    "duration": 4,
    "start_time": "2021-10-01T18:12:22.055Z"
   },
   {
    "duration": 3,
    "start_time": "2021-10-01T18:12:26.195Z"
   },
   {
    "duration": 4,
    "start_time": "2021-10-01T18:12:26.857Z"
   },
   {
    "duration": 4,
    "start_time": "2021-10-01T18:12:27.746Z"
   },
   {
    "duration": 2,
    "start_time": "2021-10-01T18:12:35.925Z"
   },
   {
    "duration": 4,
    "start_time": "2021-10-01T18:12:36.547Z"
   },
   {
    "duration": 3,
    "start_time": "2021-10-01T18:12:37.562Z"
   },
   {
    "duration": 3,
    "start_time": "2021-10-01T18:12:50.079Z"
   },
   {
    "duration": 4,
    "start_time": "2021-10-01T18:12:50.551Z"
   },
   {
    "duration": 3,
    "start_time": "2021-10-01T18:12:51.240Z"
   },
   {
    "duration": 2,
    "start_time": "2021-10-01T18:13:07.074Z"
   },
   {
    "duration": 2,
    "start_time": "2021-10-01T18:13:15.282Z"
   },
   {
    "duration": 3,
    "start_time": "2021-10-01T18:13:15.777Z"
   },
   {
    "duration": 4,
    "start_time": "2021-10-01T18:13:16.139Z"
   },
   {
    "duration": 3,
    "start_time": "2021-10-01T18:13:20.196Z"
   },
   {
    "duration": 4,
    "start_time": "2021-10-01T18:13:20.663Z"
   },
   {
    "duration": 4,
    "start_time": "2021-10-01T18:13:20.992Z"
   },
   {
    "duration": 3,
    "start_time": "2021-10-01T18:13:26.678Z"
   },
   {
    "duration": 6,
    "start_time": "2021-10-01T18:13:26.683Z"
   },
   {
    "duration": 5,
    "start_time": "2021-10-01T18:13:26.690Z"
   },
   {
    "duration": 3,
    "start_time": "2021-10-01T18:13:40.096Z"
   },
   {
    "duration": 7,
    "start_time": "2021-10-01T18:13:40.100Z"
   },
   {
    "duration": 10,
    "start_time": "2021-10-01T18:13:40.109Z"
   },
   {
    "duration": 4,
    "start_time": "2021-10-01T18:32:35.590Z"
   },
   {
    "duration": 4,
    "start_time": "2021-10-01T18:32:37.224Z"
   },
   {
    "duration": 5,
    "start_time": "2021-10-01T18:33:56.685Z"
   },
   {
    "duration": 3,
    "start_time": "2021-10-01T18:34:05.935Z"
   },
   {
    "duration": 4,
    "start_time": "2021-10-01T18:34:06.119Z"
   },
   {
    "duration": 3,
    "start_time": "2021-10-01T18:34:07.058Z"
   },
   {
    "duration": 13,
    "start_time": "2021-10-01T18:34:57.656Z"
   },
   {
    "duration": 3,
    "start_time": "2021-10-01T18:42:05.025Z"
   },
   {
    "duration": 3,
    "start_time": "2021-10-01T18:42:05.520Z"
   },
   {
    "duration": 4,
    "start_time": "2021-10-01T18:42:06.319Z"
   },
   {
    "duration": 6,
    "start_time": "2021-10-01T18:51:35.730Z"
   },
   {
    "duration": 7,
    "start_time": "2021-10-01T18:51:37.210Z"
   },
   {
    "duration": 5,
    "start_time": "2021-10-01T18:52:55.960Z"
   },
   {
    "duration": 6,
    "start_time": "2021-10-01T18:53:46.979Z"
   },
   {
    "duration": 6,
    "start_time": "2021-10-01T18:53:47.595Z"
   },
   {
    "duration": 8,
    "start_time": "2021-10-01T18:54:00.543Z"
   },
   {
    "duration": 7,
    "start_time": "2021-10-01T18:54:24.073Z"
   },
   {
    "duration": 3,
    "start_time": "2021-10-01T18:58:15.194Z"
   },
   {
    "duration": 3,
    "start_time": "2021-10-01T18:58:16.764Z"
   },
   {
    "duration": 3,
    "start_time": "2021-10-01T18:58:18.228Z"
   },
   {
    "duration": 3,
    "start_time": "2021-10-01T18:58:38.575Z"
   },
   {
    "duration": 4,
    "start_time": "2021-10-01T18:58:39.085Z"
   },
   {
    "duration": 16,
    "start_time": "2021-10-01T19:04:34.237Z"
   },
   {
    "duration": 13,
    "start_time": "2021-10-01T19:05:03.958Z"
   },
   {
    "duration": 21,
    "start_time": "2021-10-01T19:05:52.435Z"
   },
   {
    "duration": 17,
    "start_time": "2021-10-01T19:06:34.880Z"
   },
   {
    "duration": 15,
    "start_time": "2021-10-01T19:07:06.952Z"
   },
   {
    "duration": 25,
    "start_time": "2021-10-01T19:09:36.391Z"
   },
   {
    "duration": 11,
    "start_time": "2021-10-01T19:09:46.397Z"
   },
   {
    "duration": 7,
    "start_time": "2021-10-01T19:09:54.226Z"
   },
   {
    "duration": 7,
    "start_time": "2021-10-01T19:10:29.515Z"
   },
   {
    "duration": 349,
    "start_time": "2021-10-01T19:12:57.118Z"
   },
   {
    "duration": 19,
    "start_time": "2021-10-01T19:13:05.616Z"
   },
   {
    "duration": 17,
    "start_time": "2021-10-01T19:14:52.876Z"
   },
   {
    "duration": 24,
    "start_time": "2021-10-01T19:15:04.366Z"
   },
   {
    "duration": 13,
    "start_time": "2021-10-01T19:16:34.980Z"
   },
   {
    "duration": 19,
    "start_time": "2021-10-01T19:16:47.149Z"
   },
   {
    "duration": 14,
    "start_time": "2021-10-01T19:17:08.978Z"
   },
   {
    "duration": 17,
    "start_time": "2021-10-01T19:17:38.692Z"
   },
   {
    "duration": 16,
    "start_time": "2021-10-01T19:18:23.600Z"
   },
   {
    "duration": 17,
    "start_time": "2021-10-01T19:18:33.970Z"
   },
   {
    "duration": 15,
    "start_time": "2021-10-01T19:18:42.853Z"
   },
   {
    "duration": 1128,
    "start_time": "2021-10-01T19:19:56.170Z"
   },
   {
    "duration": 528,
    "start_time": "2021-10-01T19:19:57.300Z"
   },
   {
    "duration": 26,
    "start_time": "2021-10-01T19:19:57.831Z"
   },
   {
    "duration": 38,
    "start_time": "2021-10-01T19:19:57.860Z"
   },
   {
    "duration": 51,
    "start_time": "2021-10-01T19:19:57.900Z"
   },
   {
    "duration": 111,
    "start_time": "2021-10-01T19:19:57.953Z"
   },
   {
    "duration": 12,
    "start_time": "2021-10-01T19:19:58.066Z"
   },
   {
    "duration": 29,
    "start_time": "2021-10-01T19:19:58.080Z"
   },
   {
    "duration": 38,
    "start_time": "2021-10-01T19:19:58.111Z"
   },
   {
    "duration": 63,
    "start_time": "2021-10-01T19:19:58.151Z"
   },
   {
    "duration": 8,
    "start_time": "2021-10-01T19:19:58.216Z"
   },
   {
    "duration": 14,
    "start_time": "2021-10-01T19:19:58.245Z"
   },
   {
    "duration": 48,
    "start_time": "2021-10-01T19:19:58.261Z"
   },
   {
    "duration": 7,
    "start_time": "2021-10-01T19:19:58.311Z"
   },
   {
    "duration": 25,
    "start_time": "2021-10-01T19:19:58.320Z"
   },
   {
    "duration": 10,
    "start_time": "2021-10-01T19:19:58.347Z"
   },
   {
    "duration": 17,
    "start_time": "2021-10-01T19:19:58.358Z"
   },
   {
    "duration": 8,
    "start_time": "2021-10-01T19:19:58.377Z"
   },
   {
    "duration": 13,
    "start_time": "2021-10-01T19:19:58.386Z"
   },
   {
    "duration": 52,
    "start_time": "2021-10-01T19:19:58.400Z"
   },
   {
    "duration": 4,
    "start_time": "2021-10-01T19:19:58.454Z"
   },
   {
    "duration": 26,
    "start_time": "2021-10-01T19:19:58.460Z"
   },
   {
    "duration": 4,
    "start_time": "2021-10-01T19:19:58.490Z"
   },
   {
    "duration": 19,
    "start_time": "2021-10-01T19:19:58.496Z"
   },
   {
    "duration": 5,
    "start_time": "2021-10-01T19:19:58.517Z"
   },
   {
    "duration": 3,
    "start_time": "2021-10-01T19:19:58.544Z"
   },
   {
    "duration": 890,
    "start_time": "2021-10-01T19:19:58.548Z"
   },
   {
    "duration": 596,
    "start_time": "2021-10-01T19:19:59.440Z"
   },
   {
    "duration": 501,
    "start_time": "2021-10-01T19:20:00.038Z"
   },
   {
    "duration": 91,
    "start_time": "2021-10-01T19:20:00.541Z"
   },
   {
    "duration": 11,
    "start_time": "2021-10-01T19:20:00.633Z"
   },
   {
    "duration": 30,
    "start_time": "2021-10-01T19:20:00.646Z"
   },
   {
    "duration": 56,
    "start_time": "2021-10-01T19:20:00.678Z"
   },
   {
    "duration": 3,
    "start_time": "2021-10-01T19:20:00.736Z"
   },
   {
    "duration": 31,
    "start_time": "2021-10-01T19:20:00.740Z"
   },
   {
    "duration": 59,
    "start_time": "2021-10-01T19:20:00.772Z"
   },
   {
    "duration": 12,
    "start_time": "2021-10-01T19:20:00.833Z"
   },
   {
    "duration": 41,
    "start_time": "2021-10-01T19:20:00.847Z"
   },
   {
    "duration": 11,
    "start_time": "2021-10-01T19:20:00.891Z"
   },
   {
    "duration": 41,
    "start_time": "2021-10-01T19:20:00.905Z"
   },
   {
    "duration": 24,
    "start_time": "2021-10-01T19:20:00.948Z"
   },
   {
    "duration": 6,
    "start_time": "2021-10-01T19:20:00.974Z"
   },
   {
    "duration": 17,
    "start_time": "2021-10-01T19:20:00.981Z"
   },
   {
    "duration": 27,
    "start_time": "2021-10-01T19:20:00.999Z"
   },
   {
    "duration": 14,
    "start_time": "2021-10-01T19:20:01.027Z"
   },
   {
    "duration": 17,
    "start_time": "2021-10-01T19:20:01.043Z"
   },
   {
    "duration": 9,
    "start_time": "2021-10-01T19:20:01.062Z"
   },
   {
    "duration": 28,
    "start_time": "2021-10-01T19:20:01.072Z"
   },
   {
    "duration": 274,
    "start_time": "2021-10-01T19:20:01.101Z"
   },
   {
    "duration": 267,
    "start_time": "2021-10-01T19:20:01.377Z"
   },
   {
    "duration": 261,
    "start_time": "2021-10-01T19:20:01.646Z"
   },
   {
    "duration": 3,
    "start_time": "2021-10-01T19:20:01.908Z"
   },
   {
    "duration": 378,
    "start_time": "2021-10-01T19:20:01.913Z"
   },
   {
    "duration": 16,
    "start_time": "2021-10-01T19:20:02.293Z"
   },
   {
    "duration": 35,
    "start_time": "2021-10-01T19:20:02.311Z"
   },
   {
    "duration": 4,
    "start_time": "2021-10-01T19:20:02.347Z"
   },
   {
    "duration": 433,
    "start_time": "2021-10-01T19:20:02.353Z"
   },
   {
    "duration": 262,
    "start_time": "2021-10-01T19:20:02.788Z"
   },
   {
    "duration": 9,
    "start_time": "2021-10-01T19:20:03.052Z"
   },
   {
    "duration": 11,
    "start_time": "2021-10-01T19:20:03.063Z"
   },
   {
    "duration": 14,
    "start_time": "2021-10-01T19:20:03.076Z"
   },
   {
    "duration": 404,
    "start_time": "2021-10-01T19:20:03.092Z"
   },
   {
    "duration": 254,
    "start_time": "2021-10-01T19:20:03.498Z"
   },
   {
    "duration": 11,
    "start_time": "2021-10-01T19:20:03.754Z"
   },
   {
    "duration": 10,
    "start_time": "2021-10-01T19:20:03.767Z"
   },
   {
    "duration": 16,
    "start_time": "2021-10-01T19:20:03.779Z"
   },
   {
    "duration": 452,
    "start_time": "2021-10-01T19:20:03.797Z"
   },
   {
    "duration": 327,
    "start_time": "2021-10-01T19:20:04.253Z"
   },
   {
    "duration": 10,
    "start_time": "2021-10-01T19:20:04.582Z"
   },
   {
    "duration": 8,
    "start_time": "2021-10-01T19:20:04.594Z"
   },
   {
    "duration": 17,
    "start_time": "2021-10-01T19:20:04.603Z"
   },
   {
    "duration": 24,
    "start_time": "2021-10-01T19:20:04.622Z"
   },
   {
    "duration": 8,
    "start_time": "2021-10-01T19:20:04.648Z"
   },
   {
    "duration": 10,
    "start_time": "2021-10-01T19:20:04.657Z"
   },
   {
    "duration": 13,
    "start_time": "2021-10-01T19:20:04.669Z"
   },
   {
    "duration": 8,
    "start_time": "2021-10-01T19:20:04.684Z"
   },
   {
    "duration": 8,
    "start_time": "2021-10-01T19:20:04.694Z"
   },
   {
    "duration": 9,
    "start_time": "2021-10-01T19:20:04.704Z"
   },
   {
    "duration": 19,
    "start_time": "2021-10-01T19:20:04.715Z"
   },
   {
    "duration": 13,
    "start_time": "2021-10-01T19:20:04.736Z"
   },
   {
    "duration": 16,
    "start_time": "2021-10-01T19:20:04.750Z"
   },
   {
    "duration": 14,
    "start_time": "2021-10-01T19:20:04.767Z"
   },
   {
    "duration": 6,
    "start_time": "2021-10-01T19:20:04.783Z"
   },
   {
    "duration": 13,
    "start_time": "2021-10-01T19:20:04.790Z"
   },
   {
    "duration": 366,
    "start_time": "2021-10-01T19:20:04.804Z"
   },
   {
    "duration": 16,
    "start_time": "2021-10-01T19:20:17.666Z"
   },
   {
    "duration": 1092,
    "start_time": "2021-10-01T19:29:26.207Z"
   },
   {
    "duration": 397,
    "start_time": "2021-10-01T19:29:27.301Z"
   },
   {
    "duration": 16,
    "start_time": "2021-10-01T19:29:27.700Z"
   },
   {
    "duration": 29,
    "start_time": "2021-10-01T19:29:27.718Z"
   },
   {
    "duration": 21,
    "start_time": "2021-10-01T19:29:27.749Z"
   },
   {
    "duration": 113,
    "start_time": "2021-10-01T19:29:27.772Z"
   },
   {
    "duration": 13,
    "start_time": "2021-10-01T19:29:27.887Z"
   },
   {
    "duration": 48,
    "start_time": "2021-10-01T19:29:27.904Z"
   },
   {
    "duration": 15,
    "start_time": "2021-10-01T19:29:27.954Z"
   },
   {
    "duration": 79,
    "start_time": "2021-10-01T19:29:27.971Z"
   },
   {
    "duration": 7,
    "start_time": "2021-10-01T19:29:28.052Z"
   },
   {
    "duration": 16,
    "start_time": "2021-10-01T19:29:28.060Z"
   },
   {
    "duration": 38,
    "start_time": "2021-10-01T19:29:28.078Z"
   },
   {
    "duration": 27,
    "start_time": "2021-10-01T19:29:28.118Z"
   },
   {
    "duration": 6,
    "start_time": "2021-10-01T19:29:28.147Z"
   },
   {
    "duration": 12,
    "start_time": "2021-10-01T19:29:28.155Z"
   },
   {
    "duration": 14,
    "start_time": "2021-10-01T19:29:28.169Z"
   },
   {
    "duration": 8,
    "start_time": "2021-10-01T19:29:28.185Z"
   },
   {
    "duration": 53,
    "start_time": "2021-10-01T19:29:28.195Z"
   },
   {
    "duration": 29,
    "start_time": "2021-10-01T19:29:28.250Z"
   },
   {
    "duration": 5,
    "start_time": "2021-10-01T19:29:28.281Z"
   },
   {
    "duration": 21,
    "start_time": "2021-10-01T19:29:28.288Z"
   },
   {
    "duration": 33,
    "start_time": "2021-10-01T19:29:28.314Z"
   },
   {
    "duration": 18,
    "start_time": "2021-10-01T19:29:28.350Z"
   },
   {
    "duration": 7,
    "start_time": "2021-10-01T19:29:28.369Z"
   },
   {
    "duration": 6,
    "start_time": "2021-10-01T19:29:28.378Z"
   },
   {
    "duration": 814,
    "start_time": "2021-10-01T19:29:28.386Z"
   },
   {
    "duration": 681,
    "start_time": "2021-10-01T19:29:29.201Z"
   },
   {
    "duration": 495,
    "start_time": "2021-10-01T19:29:29.884Z"
   },
   {
    "duration": 94,
    "start_time": "2021-10-01T19:29:30.381Z"
   },
   {
    "duration": 3,
    "start_time": "2021-10-01T19:29:30.477Z"
   },
   {
    "duration": 22,
    "start_time": "2021-10-01T19:29:30.481Z"
   },
   {
    "duration": 44,
    "start_time": "2021-10-01T19:29:30.505Z"
   },
   {
    "duration": 3,
    "start_time": "2021-10-01T19:29:30.550Z"
   },
   {
    "duration": 26,
    "start_time": "2021-10-01T19:29:30.554Z"
   },
   {
    "duration": 47,
    "start_time": "2021-10-01T19:29:30.582Z"
   },
   {
    "duration": 15,
    "start_time": "2021-10-01T19:29:30.630Z"
   },
   {
    "duration": 31,
    "start_time": "2021-10-01T19:29:30.647Z"
   },
   {
    "duration": 8,
    "start_time": "2021-10-01T19:29:30.679Z"
   },
   {
    "duration": 29,
    "start_time": "2021-10-01T19:29:30.689Z"
   },
   {
    "duration": 29,
    "start_time": "2021-10-01T19:29:30.720Z"
   },
   {
    "duration": 19,
    "start_time": "2021-10-01T19:29:30.751Z"
   },
   {
    "duration": 29,
    "start_time": "2021-10-01T19:29:30.772Z"
   },
   {
    "duration": 42,
    "start_time": "2021-10-01T19:29:30.803Z"
   },
   {
    "duration": 31,
    "start_time": "2021-10-01T19:29:30.847Z"
   },
   {
    "duration": 23,
    "start_time": "2021-10-01T19:29:30.880Z"
   },
   {
    "duration": 46,
    "start_time": "2021-10-01T19:29:30.905Z"
   },
   {
    "duration": 39,
    "start_time": "2021-10-01T19:29:30.953Z"
   },
   {
    "duration": 264,
    "start_time": "2021-10-01T19:29:30.994Z"
   },
   {
    "duration": 258,
    "start_time": "2021-10-01T19:29:31.259Z"
   },
   {
    "duration": 258,
    "start_time": "2021-10-01T19:29:31.518Z"
   },
   {
    "duration": 3,
    "start_time": "2021-10-01T19:29:31.778Z"
   },
   {
    "duration": 347,
    "start_time": "2021-10-01T19:29:31.783Z"
   },
   {
    "duration": 18,
    "start_time": "2021-10-01T19:29:32.131Z"
   },
   {
    "duration": 33,
    "start_time": "2021-10-01T19:29:32.151Z"
   },
   {
    "duration": 8,
    "start_time": "2021-10-01T19:29:32.185Z"
   },
   {
    "duration": 431,
    "start_time": "2021-10-01T19:29:32.195Z"
   },
   {
    "duration": 265,
    "start_time": "2021-10-01T19:29:32.627Z"
   },
   {
    "duration": 9,
    "start_time": "2021-10-01T19:29:32.893Z"
   },
   {
    "duration": 8,
    "start_time": "2021-10-01T19:29:32.904Z"
   },
   {
    "duration": 40,
    "start_time": "2021-10-01T19:29:32.913Z"
   },
   {
    "duration": 387,
    "start_time": "2021-10-01T19:29:32.954Z"
   },
   {
    "duration": 249,
    "start_time": "2021-10-01T19:29:33.345Z"
   },
   {
    "duration": 12,
    "start_time": "2021-10-01T19:29:33.596Z"
   },
   {
    "duration": 38,
    "start_time": "2021-10-01T19:29:33.610Z"
   },
   {
    "duration": 14,
    "start_time": "2021-10-01T19:29:33.649Z"
   },
   {
    "duration": 425,
    "start_time": "2021-10-01T19:29:33.665Z"
   },
   {
    "duration": 256,
    "start_time": "2021-10-01T19:29:34.095Z"
   },
   {
    "duration": 9,
    "start_time": "2021-10-01T19:29:34.353Z"
   },
   {
    "duration": 9,
    "start_time": "2021-10-01T19:29:34.364Z"
   },
   {
    "duration": 14,
    "start_time": "2021-10-01T19:29:34.374Z"
   },
   {
    "duration": 4,
    "start_time": "2021-10-01T19:29:34.389Z"
   },
   {
    "duration": 7,
    "start_time": "2021-10-01T19:29:34.395Z"
   },
   {
    "duration": 7,
    "start_time": "2021-10-01T19:29:34.445Z"
   },
   {
    "duration": 6,
    "start_time": "2021-10-01T19:29:34.454Z"
   },
   {
    "duration": 3,
    "start_time": "2021-10-01T19:29:34.462Z"
   },
   {
    "duration": 7,
    "start_time": "2021-10-01T19:29:34.467Z"
   },
   {
    "duration": 4,
    "start_time": "2021-10-01T19:29:34.476Z"
   },
   {
    "duration": 15,
    "start_time": "2021-10-01T19:29:34.482Z"
   },
   {
    "duration": 46,
    "start_time": "2021-10-01T19:29:34.499Z"
   },
   {
    "duration": 6,
    "start_time": "2021-10-01T19:29:34.546Z"
   },
   {
    "duration": 10,
    "start_time": "2021-10-01T19:29:34.554Z"
   },
   {
    "duration": 20,
    "start_time": "2021-10-01T19:29:34.566Z"
   },
   {
    "duration": 12,
    "start_time": "2021-10-01T19:29:34.587Z"
   },
   {
    "duration": 28,
    "start_time": "2021-10-01T19:29:34.601Z"
   },
   {
    "duration": 1231,
    "start_time": "2021-10-01T19:37:19.636Z"
   },
   {
    "duration": 413,
    "start_time": "2021-10-01T19:37:20.872Z"
   },
   {
    "duration": 16,
    "start_time": "2021-10-01T19:37:21.286Z"
   },
   {
    "duration": 29,
    "start_time": "2021-10-01T19:37:21.303Z"
   },
   {
    "duration": 29,
    "start_time": "2021-10-01T19:37:21.333Z"
   },
   {
    "duration": 118,
    "start_time": "2021-10-01T19:37:21.363Z"
   },
   {
    "duration": 11,
    "start_time": "2021-10-01T19:37:21.482Z"
   },
   {
    "duration": 36,
    "start_time": "2021-10-01T19:37:21.496Z"
   },
   {
    "duration": 35,
    "start_time": "2021-10-01T19:37:21.534Z"
   },
   {
    "duration": 75,
    "start_time": "2021-10-01T19:37:21.571Z"
   },
   {
    "duration": 11,
    "start_time": "2021-10-01T19:37:21.649Z"
   },
   {
    "duration": 21,
    "start_time": "2021-10-01T19:37:21.662Z"
   },
   {
    "duration": 71,
    "start_time": "2021-10-01T19:37:21.685Z"
   },
   {
    "duration": 7,
    "start_time": "2021-10-01T19:37:21.758Z"
   },
   {
    "duration": 12,
    "start_time": "2021-10-01T19:37:21.767Z"
   },
   {
    "duration": 12,
    "start_time": "2021-10-01T19:37:21.781Z"
   },
   {
    "duration": 29,
    "start_time": "2021-10-01T19:37:21.795Z"
   },
   {
    "duration": 24,
    "start_time": "2021-10-01T19:37:21.826Z"
   },
   {
    "duration": 10,
    "start_time": "2021-10-01T19:37:21.853Z"
   },
   {
    "duration": 30,
    "start_time": "2021-10-01T19:37:21.866Z"
   },
   {
    "duration": 4,
    "start_time": "2021-10-01T19:37:21.898Z"
   },
   {
    "duration": 66,
    "start_time": "2021-10-01T19:37:21.904Z"
   },
   {
    "duration": 4,
    "start_time": "2021-10-01T19:37:21.972Z"
   },
   {
    "duration": 32,
    "start_time": "2021-10-01T19:37:21.978Z"
   },
   {
    "duration": 10,
    "start_time": "2021-10-01T19:37:22.012Z"
   },
   {
    "duration": 12,
    "start_time": "2021-10-01T19:37:22.026Z"
   },
   {
    "duration": 912,
    "start_time": "2021-10-01T19:37:22.040Z"
   },
   {
    "duration": 807,
    "start_time": "2021-10-01T19:37:22.955Z"
   },
   {
    "duration": 598,
    "start_time": "2021-10-01T19:37:23.764Z"
   },
   {
    "duration": 114,
    "start_time": "2021-10-01T19:37:24.364Z"
   },
   {
    "duration": 3,
    "start_time": "2021-10-01T19:37:24.480Z"
   },
   {
    "duration": 33,
    "start_time": "2021-10-01T19:37:24.484Z"
   },
   {
    "duration": 52,
    "start_time": "2021-10-01T19:37:24.519Z"
   },
   {
    "duration": 3,
    "start_time": "2021-10-01T19:37:24.573Z"
   },
   {
    "duration": 39,
    "start_time": "2021-10-01T19:37:24.578Z"
   },
   {
    "duration": 59,
    "start_time": "2021-10-01T19:37:24.619Z"
   },
   {
    "duration": 11,
    "start_time": "2021-10-01T19:37:24.681Z"
   },
   {
    "duration": 28,
    "start_time": "2021-10-01T19:37:24.694Z"
   },
   {
    "duration": 24,
    "start_time": "2021-10-01T19:37:24.724Z"
   },
   {
    "duration": 27,
    "start_time": "2021-10-01T19:37:24.751Z"
   },
   {
    "duration": 23,
    "start_time": "2021-10-01T19:37:24.780Z"
   },
   {
    "duration": 40,
    "start_time": "2021-10-01T19:37:24.805Z"
   },
   {
    "duration": 11,
    "start_time": "2021-10-01T19:37:24.847Z"
   },
   {
    "duration": 21,
    "start_time": "2021-10-01T19:37:24.861Z"
   },
   {
    "duration": 20,
    "start_time": "2021-10-01T19:37:24.883Z"
   },
   {
    "duration": 16,
    "start_time": "2021-10-01T19:37:24.905Z"
   },
   {
    "duration": 12,
    "start_time": "2021-10-01T19:37:24.923Z"
   },
   {
    "duration": 14,
    "start_time": "2021-10-01T19:37:24.937Z"
   },
   {
    "duration": 322,
    "start_time": "2021-10-01T19:37:24.953Z"
   },
   {
    "duration": 302,
    "start_time": "2021-10-01T19:37:25.277Z"
   },
   {
    "duration": 312,
    "start_time": "2021-10-01T19:37:25.581Z"
   },
   {
    "duration": 3,
    "start_time": "2021-10-01T19:37:25.895Z"
   },
   {
    "duration": 419,
    "start_time": "2021-10-01T19:37:25.899Z"
   },
   {
    "duration": 29,
    "start_time": "2021-10-01T19:37:26.320Z"
   },
   {
    "duration": 25,
    "start_time": "2021-10-01T19:37:26.351Z"
   },
   {
    "duration": 3,
    "start_time": "2021-10-01T19:37:26.379Z"
   },
   {
    "duration": 525,
    "start_time": "2021-10-01T19:37:26.384Z"
   },
   {
    "duration": 314,
    "start_time": "2021-10-01T19:37:26.911Z"
   },
   {
    "duration": 22,
    "start_time": "2021-10-01T19:37:27.227Z"
   },
   {
    "duration": 14,
    "start_time": "2021-10-01T19:37:27.252Z"
   },
   {
    "duration": 17,
    "start_time": "2021-10-01T19:37:27.268Z"
   },
   {
    "duration": 484,
    "start_time": "2021-10-01T19:37:27.287Z"
   },
   {
    "duration": 288,
    "start_time": "2021-10-01T19:37:27.773Z"
   },
   {
    "duration": 10,
    "start_time": "2021-10-01T19:37:28.063Z"
   },
   {
    "duration": 30,
    "start_time": "2021-10-01T19:37:28.074Z"
   },
   {
    "duration": 18,
    "start_time": "2021-10-01T19:37:28.106Z"
   },
   {
    "duration": 449,
    "start_time": "2021-10-01T19:37:28.125Z"
   },
   {
    "duration": 285,
    "start_time": "2021-10-01T19:37:28.576Z"
   },
   {
    "duration": 9,
    "start_time": "2021-10-01T19:37:28.863Z"
   },
   {
    "duration": 16,
    "start_time": "2021-10-01T19:37:28.874Z"
   },
   {
    "duration": 22,
    "start_time": "2021-10-01T19:37:28.891Z"
   },
   {
    "duration": 4,
    "start_time": "2021-10-01T19:37:28.914Z"
   },
   {
    "duration": 33,
    "start_time": "2021-10-01T19:37:28.920Z"
   },
   {
    "duration": 20,
    "start_time": "2021-10-01T19:37:28.956Z"
   },
   {
    "duration": 19,
    "start_time": "2021-10-01T19:37:28.977Z"
   },
   {
    "duration": 16,
    "start_time": "2021-10-01T19:37:28.998Z"
   },
   {
    "duration": 23,
    "start_time": "2021-10-01T19:37:29.015Z"
   },
   {
    "duration": 19,
    "start_time": "2021-10-01T19:37:29.040Z"
   },
   {
    "duration": 24,
    "start_time": "2021-10-01T19:37:29.061Z"
   },
   {
    "duration": 13,
    "start_time": "2021-10-01T19:37:29.091Z"
   },
   {
    "duration": 26,
    "start_time": "2021-10-01T19:37:29.106Z"
   },
   {
    "duration": 9,
    "start_time": "2021-10-01T19:37:29.133Z"
   },
   {
    "duration": 20,
    "start_time": "2021-10-01T19:37:29.144Z"
   },
   {
    "duration": 14,
    "start_time": "2021-10-01T19:37:29.165Z"
   },
   {
    "duration": 23,
    "start_time": "2021-10-01T19:37:29.181Z"
   },
   {
    "duration": 11,
    "start_time": "2021-10-01T19:39:11.777Z"
   },
   {
    "duration": 84,
    "start_time": "2021-10-01T19:39:43.494Z"
   },
   {
    "duration": 7053,
    "start_time": "2021-10-01T19:39:50.401Z"
   },
   {
    "duration": 8,
    "start_time": "2021-10-01T19:40:31.044Z"
   },
   {
    "duration": 8,
    "start_time": "2021-10-01T19:41:45.007Z"
   },
   {
    "duration": 13,
    "start_time": "2021-10-01T19:42:02.114Z"
   },
   {
    "duration": 1048,
    "start_time": "2021-10-01T19:42:42.460Z"
   },
   {
    "duration": 403,
    "start_time": "2021-10-01T19:42:43.509Z"
   },
   {
    "duration": 15,
    "start_time": "2021-10-01T19:42:43.916Z"
   },
   {
    "duration": 34,
    "start_time": "2021-10-01T19:42:43.933Z"
   },
   {
    "duration": 20,
    "start_time": "2021-10-01T19:42:43.970Z"
   },
   {
    "duration": 116,
    "start_time": "2021-10-01T19:42:43.991Z"
   },
   {
    "duration": 11,
    "start_time": "2021-10-01T19:42:44.109Z"
   },
   {
    "duration": 58,
    "start_time": "2021-10-01T19:42:44.122Z"
   },
   {
    "duration": 19,
    "start_time": "2021-10-01T19:42:44.182Z"
   },
   {
    "duration": 80,
    "start_time": "2021-10-01T19:42:44.202Z"
   },
   {
    "duration": 6,
    "start_time": "2021-10-01T19:42:44.284Z"
   },
   {
    "duration": 14,
    "start_time": "2021-10-01T19:42:44.292Z"
   },
   {
    "duration": 63,
    "start_time": "2021-10-01T19:42:44.308Z"
   },
   {
    "duration": 10,
    "start_time": "2021-10-01T19:42:44.373Z"
   },
   {
    "duration": 9,
    "start_time": "2021-10-01T19:42:44.385Z"
   },
   {
    "duration": 12,
    "start_time": "2021-10-01T19:42:44.396Z"
   },
   {
    "duration": 50,
    "start_time": "2021-10-01T19:42:44.410Z"
   },
   {
    "duration": 9,
    "start_time": "2021-10-01T19:42:44.467Z"
   },
   {
    "duration": 8,
    "start_time": "2021-10-01T19:42:44.479Z"
   },
   {
    "duration": 25,
    "start_time": "2021-10-01T19:42:44.489Z"
   },
   {
    "duration": 4,
    "start_time": "2021-10-01T19:42:44.516Z"
   },
   {
    "duration": 32,
    "start_time": "2021-10-01T19:42:44.547Z"
   },
   {
    "duration": 4,
    "start_time": "2021-10-01T19:42:44.581Z"
   },
   {
    "duration": 17,
    "start_time": "2021-10-01T19:42:44.586Z"
   },
   {
    "duration": 6,
    "start_time": "2021-10-01T19:42:44.605Z"
   },
   {
    "duration": 35,
    "start_time": "2021-10-01T19:42:44.613Z"
   },
   {
    "duration": 1049,
    "start_time": "2021-10-01T19:42:44.649Z"
   },
   {
    "duration": 665,
    "start_time": "2021-10-01T19:42:45.700Z"
   },
   {
    "duration": 541,
    "start_time": "2021-10-01T19:42:46.367Z"
   },
   {
    "duration": 101,
    "start_time": "2021-10-01T19:42:46.910Z"
   },
   {
    "duration": 2,
    "start_time": "2021-10-01T19:42:47.013Z"
   },
   {
    "duration": 15,
    "start_time": "2021-10-01T19:42:47.017Z"
   },
   {
    "duration": 51,
    "start_time": "2021-10-01T19:42:47.034Z"
   },
   {
    "duration": 3,
    "start_time": "2021-10-01T19:42:47.087Z"
   },
   {
    "duration": 14,
    "start_time": "2021-10-01T19:42:47.091Z"
   },
   {
    "duration": 69,
    "start_time": "2021-10-01T19:42:47.106Z"
   },
   {
    "duration": 12,
    "start_time": "2021-10-01T19:42:47.177Z"
   },
   {
    "duration": 24,
    "start_time": "2021-10-01T19:42:47.191Z"
   },
   {
    "duration": 8,
    "start_time": "2021-10-01T19:42:47.217Z"
   },
   {
    "duration": 51,
    "start_time": "2021-10-01T19:42:47.226Z"
   },
   {
    "duration": 22,
    "start_time": "2021-10-01T19:42:47.278Z"
   },
   {
    "duration": 7,
    "start_time": "2021-10-01T19:42:47.302Z"
   },
   {
    "duration": 6,
    "start_time": "2021-10-01T19:42:47.311Z"
   },
   {
    "duration": 9,
    "start_time": "2021-10-01T19:42:47.346Z"
   },
   {
    "duration": 5,
    "start_time": "2021-10-01T19:42:47.357Z"
   },
   {
    "duration": 10,
    "start_time": "2021-10-01T19:42:47.364Z"
   },
   {
    "duration": 6,
    "start_time": "2021-10-01T19:42:47.376Z"
   },
   {
    "duration": 6,
    "start_time": "2021-10-01T19:42:47.384Z"
   },
   {
    "duration": 298,
    "start_time": "2021-10-01T19:42:47.391Z"
   },
   {
    "duration": 267,
    "start_time": "2021-10-01T19:42:47.690Z"
   },
   {
    "duration": 276,
    "start_time": "2021-10-01T19:42:47.959Z"
   },
   {
    "duration": 10,
    "start_time": "2021-10-01T19:42:48.237Z"
   },
   {
    "duration": 379,
    "start_time": "2021-10-01T19:42:48.250Z"
   },
   {
    "duration": 21,
    "start_time": "2021-10-01T19:42:48.631Z"
   },
   {
    "duration": 34,
    "start_time": "2021-10-01T19:42:48.656Z"
   },
   {
    "duration": 4,
    "start_time": "2021-10-01T19:42:48.691Z"
   },
   {
    "duration": 465,
    "start_time": "2021-10-01T19:42:48.696Z"
   },
   {
    "duration": 291,
    "start_time": "2021-10-01T19:42:49.162Z"
   },
   {
    "duration": 14,
    "start_time": "2021-10-01T19:42:49.454Z"
   },
   {
    "duration": 11,
    "start_time": "2021-10-01T19:42:49.470Z"
   },
   {
    "duration": 18,
    "start_time": "2021-10-01T19:42:49.483Z"
   },
   {
    "duration": 432,
    "start_time": "2021-10-01T19:42:49.503Z"
   },
   {
    "duration": 281,
    "start_time": "2021-10-01T19:42:49.937Z"
   },
   {
    "duration": 10,
    "start_time": "2021-10-01T19:42:50.219Z"
   },
   {
    "duration": 26,
    "start_time": "2021-10-01T19:42:50.230Z"
   },
   {
    "duration": 20,
    "start_time": "2021-10-01T19:42:50.258Z"
   },
   {
    "duration": 453,
    "start_time": "2021-10-01T19:42:50.283Z"
   },
   {
    "duration": 281,
    "start_time": "2021-10-01T19:42:50.737Z"
   },
   {
    "duration": 9,
    "start_time": "2021-10-01T19:42:51.019Z"
   },
   {
    "duration": 17,
    "start_time": "2021-10-01T19:42:51.045Z"
   },
   {
    "duration": 18,
    "start_time": "2021-10-01T19:42:51.064Z"
   },
   {
    "duration": 3,
    "start_time": "2021-10-01T19:42:51.083Z"
   },
   {
    "duration": 7,
    "start_time": "2021-10-01T19:42:51.088Z"
   },
   {
    "duration": 7,
    "start_time": "2021-10-01T19:42:51.096Z"
   },
   {
    "duration": 6,
    "start_time": "2021-10-01T19:42:51.104Z"
   },
   {
    "duration": 39,
    "start_time": "2021-10-01T19:42:51.112Z"
   },
   {
    "duration": 4,
    "start_time": "2021-10-01T19:42:51.154Z"
   },
   {
    "duration": 10,
    "start_time": "2021-10-01T19:42:51.160Z"
   },
   {
    "duration": 15,
    "start_time": "2021-10-01T19:42:51.171Z"
   },
   {
    "duration": 6,
    "start_time": "2021-10-01T19:42:51.187Z"
   },
   {
    "duration": 8,
    "start_time": "2021-10-01T19:42:51.194Z"
   },
   {
    "duration": 4,
    "start_time": "2021-10-01T19:42:51.203Z"
   },
   {
    "duration": 9,
    "start_time": "2021-10-01T19:42:51.208Z"
   },
   {
    "duration": 5,
    "start_time": "2021-10-01T19:42:51.219Z"
   },
   {
    "duration": 18,
    "start_time": "2021-10-01T19:42:51.250Z"
   },
   {
    "duration": 11,
    "start_time": "2021-10-01T19:42:51.270Z"
   },
   {
    "duration": 12,
    "start_time": "2021-10-01T19:42:51.283Z"
   },
   {
    "duration": 404,
    "start_time": "2021-10-01T19:43:22.943Z"
   },
   {
    "duration": 99,
    "start_time": "2021-10-01T19:43:35.550Z"
   },
   {
    "duration": 8,
    "start_time": "2021-10-01T19:43:40.295Z"
   },
   {
    "duration": 8,
    "start_time": "2021-10-01T19:44:28.365Z"
   },
   {
    "duration": 85,
    "start_time": "2021-10-01T19:46:23.995Z"
   },
   {
    "duration": 82,
    "start_time": "2021-10-01T19:46:36.684Z"
   },
   {
    "duration": 10,
    "start_time": "2021-10-01T19:47:01.453Z"
   },
   {
    "duration": 4,
    "start_time": "2021-10-01T19:47:05.220Z"
   },
   {
    "duration": 20,
    "start_time": "2021-10-01T19:48:57.494Z"
   },
   {
    "duration": 8,
    "start_time": "2021-10-01T19:51:27.895Z"
   },
   {
    "duration": 7,
    "start_time": "2021-10-01T19:51:50.400Z"
   },
   {
    "duration": 7,
    "start_time": "2021-10-01T19:51:50.868Z"
   },
   {
    "duration": 16,
    "start_time": "2021-10-01T19:51:51.233Z"
   },
   {
    "duration": 252,
    "start_time": "2021-10-01T19:57:02.164Z"
   },
   {
    "duration": 10,
    "start_time": "2021-10-01T19:57:11.636Z"
   },
   {
    "duration": 7,
    "start_time": "2021-10-01T19:57:56.378Z"
   },
   {
    "duration": 1195,
    "start_time": "2021-10-01T19:58:21.457Z"
   },
   {
    "duration": 414,
    "start_time": "2021-10-01T19:58:22.654Z"
   },
   {
    "duration": 16,
    "start_time": "2021-10-01T19:58:23.070Z"
   },
   {
    "duration": 42,
    "start_time": "2021-10-01T19:58:23.088Z"
   },
   {
    "duration": 20,
    "start_time": "2021-10-01T19:58:23.131Z"
   },
   {
    "duration": 107,
    "start_time": "2021-10-01T19:58:23.152Z"
   },
   {
    "duration": 12,
    "start_time": "2021-10-01T19:58:23.260Z"
   },
   {
    "duration": 29,
    "start_time": "2021-10-01T19:58:23.275Z"
   },
   {
    "duration": 17,
    "start_time": "2021-10-01T19:58:23.306Z"
   },
   {
    "duration": 61,
    "start_time": "2021-10-01T19:58:23.345Z"
   },
   {
    "duration": 8,
    "start_time": "2021-10-01T19:58:23.408Z"
   },
   {
    "duration": 47,
    "start_time": "2021-10-01T19:58:23.417Z"
   },
   {
    "duration": 53,
    "start_time": "2021-10-01T19:58:23.466Z"
   },
   {
    "duration": 7,
    "start_time": "2021-10-01T19:58:23.520Z"
   },
   {
    "duration": 22,
    "start_time": "2021-10-01T19:58:23.529Z"
   },
   {
    "duration": 33,
    "start_time": "2021-10-01T19:58:23.553Z"
   },
   {
    "duration": 35,
    "start_time": "2021-10-01T19:58:23.587Z"
   },
   {
    "duration": 18,
    "start_time": "2021-10-01T19:58:23.623Z"
   },
   {
    "duration": 29,
    "start_time": "2021-10-01T19:58:23.642Z"
   },
   {
    "duration": 42,
    "start_time": "2021-10-01T19:58:23.672Z"
   },
   {
    "duration": 5,
    "start_time": "2021-10-01T19:58:23.715Z"
   },
   {
    "duration": 34,
    "start_time": "2021-10-01T19:58:23.721Z"
   },
   {
    "duration": 4,
    "start_time": "2021-10-01T19:58:23.759Z"
   },
   {
    "duration": 25,
    "start_time": "2021-10-01T19:58:23.765Z"
   },
   {
    "duration": 6,
    "start_time": "2021-10-01T19:58:23.792Z"
   },
   {
    "duration": 16,
    "start_time": "2021-10-01T19:58:23.799Z"
   },
   {
    "duration": 870,
    "start_time": "2021-10-01T19:58:23.816Z"
   },
   {
    "duration": 640,
    "start_time": "2021-10-01T19:58:24.687Z"
   },
   {
    "duration": 506,
    "start_time": "2021-10-01T19:58:25.329Z"
   },
   {
    "duration": 93,
    "start_time": "2021-10-01T19:58:25.837Z"
   },
   {
    "duration": 2,
    "start_time": "2021-10-01T19:58:25.932Z"
   },
   {
    "duration": 18,
    "start_time": "2021-10-01T19:58:25.936Z"
   },
   {
    "duration": 38,
    "start_time": "2021-10-01T19:58:25.956Z"
   },
   {
    "duration": 4,
    "start_time": "2021-10-01T19:58:25.995Z"
   },
   {
    "duration": 18,
    "start_time": "2021-10-01T19:58:26.001Z"
   },
   {
    "duration": 54,
    "start_time": "2021-10-01T19:58:26.021Z"
   },
   {
    "duration": 11,
    "start_time": "2021-10-01T19:58:26.077Z"
   },
   {
    "duration": 35,
    "start_time": "2021-10-01T19:58:26.090Z"
   },
   {
    "duration": 8,
    "start_time": "2021-10-01T19:58:26.126Z"
   },
   {
    "duration": 26,
    "start_time": "2021-10-01T19:58:26.136Z"
   },
   {
    "duration": 27,
    "start_time": "2021-10-01T19:58:26.164Z"
   },
   {
    "duration": 5,
    "start_time": "2021-10-01T19:58:26.192Z"
   },
   {
    "duration": 10,
    "start_time": "2021-10-01T19:58:26.199Z"
   },
   {
    "duration": 17,
    "start_time": "2021-10-01T19:58:26.210Z"
   },
   {
    "duration": 5,
    "start_time": "2021-10-01T19:58:26.229Z"
   },
   {
    "duration": 15,
    "start_time": "2021-10-01T19:58:26.235Z"
   },
   {
    "duration": 11,
    "start_time": "2021-10-01T19:58:26.251Z"
   },
   {
    "duration": 11,
    "start_time": "2021-10-01T19:58:26.264Z"
   },
   {
    "duration": 255,
    "start_time": "2021-10-01T19:58:26.277Z"
   },
   {
    "duration": 251,
    "start_time": "2021-10-01T19:58:26.533Z"
   },
   {
    "duration": 253,
    "start_time": "2021-10-01T19:58:26.785Z"
   },
   {
    "duration": 6,
    "start_time": "2021-10-01T19:58:27.039Z"
   },
   {
    "duration": 363,
    "start_time": "2021-10-01T19:58:27.046Z"
   },
   {
    "duration": 16,
    "start_time": "2021-10-01T19:58:27.410Z"
   },
   {
    "duration": 32,
    "start_time": "2021-10-01T19:58:27.428Z"
   },
   {
    "duration": 5,
    "start_time": "2021-10-01T19:58:27.462Z"
   },
   {
    "duration": 415,
    "start_time": "2021-10-01T19:58:27.468Z"
   },
   {
    "duration": 253,
    "start_time": "2021-10-01T19:58:27.885Z"
   },
   {
    "duration": 10,
    "start_time": "2021-10-01T19:58:28.144Z"
   },
   {
    "duration": 18,
    "start_time": "2021-10-01T19:58:28.156Z"
   },
   {
    "duration": 25,
    "start_time": "2021-10-01T19:58:28.175Z"
   },
   {
    "duration": 366,
    "start_time": "2021-10-01T19:58:28.202Z"
   },
   {
    "duration": 247,
    "start_time": "2021-10-01T19:58:28.570Z"
   },
   {
    "duration": 8,
    "start_time": "2021-10-01T19:58:28.819Z"
   },
   {
    "duration": 18,
    "start_time": "2021-10-01T19:58:28.829Z"
   },
   {
    "duration": 28,
    "start_time": "2021-10-01T19:58:28.848Z"
   },
   {
    "duration": 396,
    "start_time": "2021-10-01T19:58:28.878Z"
   },
   {
    "duration": 305,
    "start_time": "2021-10-01T19:58:29.279Z"
   },
   {
    "duration": 8,
    "start_time": "2021-10-01T19:58:29.586Z"
   },
   {
    "duration": 14,
    "start_time": "2021-10-01T19:58:29.596Z"
   },
   {
    "duration": 16,
    "start_time": "2021-10-01T19:58:29.611Z"
   },
   {
    "duration": 17,
    "start_time": "2021-10-01T19:58:29.629Z"
   },
   {
    "duration": 7,
    "start_time": "2021-10-01T19:58:29.648Z"
   },
   {
    "duration": 7,
    "start_time": "2021-10-01T19:58:29.656Z"
   },
   {
    "duration": 6,
    "start_time": "2021-10-01T19:58:29.665Z"
   },
   {
    "duration": 10,
    "start_time": "2021-10-01T19:58:29.673Z"
   },
   {
    "duration": 7,
    "start_time": "2021-10-01T19:58:29.685Z"
   },
   {
    "duration": 117,
    "start_time": "2021-10-01T19:58:29.694Z"
   },
   {
    "duration": -24,
    "start_time": "2021-10-01T19:58:29.838Z"
   },
   {
    "duration": -240,
    "start_time": "2021-10-01T19:58:30.055Z"
   },
   {
    "duration": -259,
    "start_time": "2021-10-01T19:58:30.075Z"
   },
   {
    "duration": -267,
    "start_time": "2021-10-01T19:58:30.085Z"
   },
   {
    "duration": -273,
    "start_time": "2021-10-01T19:58:30.092Z"
   },
   {
    "duration": -281,
    "start_time": "2021-10-01T19:58:30.101Z"
   },
   {
    "duration": -286,
    "start_time": "2021-10-01T19:58:30.108Z"
   },
   {
    "duration": -293,
    "start_time": "2021-10-01T19:58:30.116Z"
   },
   {
    "duration": -299,
    "start_time": "2021-10-01T19:58:30.123Z"
   },
   {
    "duration": -306,
    "start_time": "2021-10-01T19:58:30.132Z"
   },
   {
    "duration": -314,
    "start_time": "2021-10-01T19:58:30.141Z"
   },
   {
    "duration": -322,
    "start_time": "2021-10-01T19:58:30.150Z"
   },
   {
    "duration": -328,
    "start_time": "2021-10-01T19:58:30.158Z"
   },
   {
    "duration": -335,
    "start_time": "2021-10-01T19:58:30.166Z"
   },
   {
    "duration": -357,
    "start_time": "2021-10-01T19:58:30.189Z"
   },
   {
    "duration": -364,
    "start_time": "2021-10-01T19:58:30.198Z"
   },
   {
    "duration": -388,
    "start_time": "2021-10-01T19:58:30.223Z"
   },
   {
    "duration": 340,
    "start_time": "2021-10-01T19:59:17.383Z"
   },
   {
    "duration": 243,
    "start_time": "2021-10-01T19:59:25.955Z"
   },
   {
    "duration": 1107,
    "start_time": "2021-10-01T20:00:44.579Z"
   },
   {
    "duration": 378,
    "start_time": "2021-10-01T20:00:45.688Z"
   },
   {
    "duration": 17,
    "start_time": "2021-10-01T20:00:46.068Z"
   },
   {
    "duration": 28,
    "start_time": "2021-10-01T20:00:46.087Z"
   },
   {
    "duration": 19,
    "start_time": "2021-10-01T20:00:46.117Z"
   },
   {
    "duration": 105,
    "start_time": "2021-10-01T20:00:46.144Z"
   },
   {
    "duration": 12,
    "start_time": "2021-10-01T20:00:46.251Z"
   },
   {
    "duration": 38,
    "start_time": "2021-10-01T20:00:46.265Z"
   },
   {
    "duration": 14,
    "start_time": "2021-10-01T20:00:46.306Z"
   },
   {
    "duration": 76,
    "start_time": "2021-10-01T20:00:46.322Z"
   },
   {
    "duration": 7,
    "start_time": "2021-10-01T20:00:46.400Z"
   },
   {
    "duration": 24,
    "start_time": "2021-10-01T20:00:46.408Z"
   },
   {
    "duration": 45,
    "start_time": "2021-10-01T20:00:46.434Z"
   },
   {
    "duration": 7,
    "start_time": "2021-10-01T20:00:46.480Z"
   },
   {
    "duration": 33,
    "start_time": "2021-10-01T20:00:46.489Z"
   },
   {
    "duration": 39,
    "start_time": "2021-10-01T20:00:46.523Z"
   },
   {
    "duration": 28,
    "start_time": "2021-10-01T20:00:46.563Z"
   },
   {
    "duration": 22,
    "start_time": "2021-10-01T20:00:46.592Z"
   },
   {
    "duration": 16,
    "start_time": "2021-10-01T20:00:46.615Z"
   },
   {
    "duration": 34,
    "start_time": "2021-10-01T20:00:46.632Z"
   },
   {
    "duration": 4,
    "start_time": "2021-10-01T20:00:46.668Z"
   },
   {
    "duration": 35,
    "start_time": "2021-10-01T20:00:46.673Z"
   },
   {
    "duration": 4,
    "start_time": "2021-10-01T20:00:46.709Z"
   },
   {
    "duration": 26,
    "start_time": "2021-10-01T20:00:46.715Z"
   },
   {
    "duration": 5,
    "start_time": "2021-10-01T20:00:46.743Z"
   },
   {
    "duration": 12,
    "start_time": "2021-10-01T20:00:46.749Z"
   },
   {
    "duration": 765,
    "start_time": "2021-10-01T20:00:46.765Z"
   },
   {
    "duration": 561,
    "start_time": "2021-10-01T20:00:47.533Z"
   },
   {
    "duration": 469,
    "start_time": "2021-10-01T20:00:48.096Z"
   },
   {
    "duration": 96,
    "start_time": "2021-10-01T20:00:48.566Z"
   },
   {
    "duration": 2,
    "start_time": "2021-10-01T20:00:48.664Z"
   },
   {
    "duration": 14,
    "start_time": "2021-10-01T20:00:48.668Z"
   },
   {
    "duration": 36,
    "start_time": "2021-10-01T20:00:48.683Z"
   },
   {
    "duration": 2,
    "start_time": "2021-10-01T20:00:48.721Z"
   },
   {
    "duration": 40,
    "start_time": "2021-10-01T20:00:48.725Z"
   },
   {
    "duration": 79,
    "start_time": "2021-10-01T20:00:48.767Z"
   },
   {
    "duration": 29,
    "start_time": "2021-10-01T20:00:48.848Z"
   },
   {
    "duration": 36,
    "start_time": "2021-10-01T20:00:48.879Z"
   },
   {
    "duration": 15,
    "start_time": "2021-10-01T20:00:48.917Z"
   },
   {
    "duration": 44,
    "start_time": "2021-10-01T20:00:48.934Z"
   },
   {
    "duration": 36,
    "start_time": "2021-10-01T20:00:48.980Z"
   },
   {
    "duration": 8,
    "start_time": "2021-10-01T20:00:49.018Z"
   },
   {
    "duration": 8,
    "start_time": "2021-10-01T20:00:49.027Z"
   },
   {
    "duration": 12,
    "start_time": "2021-10-01T20:00:49.038Z"
   },
   {
    "duration": 4,
    "start_time": "2021-10-01T20:00:49.053Z"
   },
   {
    "duration": 6,
    "start_time": "2021-10-01T20:00:49.059Z"
   },
   {
    "duration": 6,
    "start_time": "2021-10-01T20:00:49.067Z"
   },
   {
    "duration": 5,
    "start_time": "2021-10-01T20:00:49.076Z"
   },
   {
    "duration": 284,
    "start_time": "2021-10-01T20:00:49.083Z"
   },
   {
    "duration": 261,
    "start_time": "2021-10-01T20:00:49.369Z"
   },
   {
    "duration": 255,
    "start_time": "2021-10-01T20:00:49.632Z"
   },
   {
    "duration": 3,
    "start_time": "2021-10-01T20:00:49.889Z"
   },
   {
    "duration": 459,
    "start_time": "2021-10-01T20:00:49.893Z"
   },
   {
    "duration": 15,
    "start_time": "2021-10-01T20:00:50.354Z"
   },
   {
    "duration": 19,
    "start_time": "2021-10-01T20:00:50.371Z"
   },
   {
    "duration": 4,
    "start_time": "2021-10-01T20:00:50.391Z"
   },
   {
    "duration": 426,
    "start_time": "2021-10-01T20:00:50.396Z"
   },
   {
    "duration": 254,
    "start_time": "2021-10-01T20:00:50.824Z"
   },
   {
    "duration": 9,
    "start_time": "2021-10-01T20:00:51.080Z"
   },
   {
    "duration": 9,
    "start_time": "2021-10-01T20:00:51.091Z"
   },
   {
    "duration": 15,
    "start_time": "2021-10-01T20:00:51.101Z"
   },
   {
    "duration": 402,
    "start_time": "2021-10-01T20:00:51.117Z"
   },
   {
    "duration": 255,
    "start_time": "2021-10-01T20:00:51.521Z"
   },
   {
    "duration": 10,
    "start_time": "2021-10-01T20:00:51.777Z"
   },
   {
    "duration": 9,
    "start_time": "2021-10-01T20:00:51.788Z"
   },
   {
    "duration": 14,
    "start_time": "2021-10-01T20:00:51.798Z"
   },
   {
    "duration": 436,
    "start_time": "2021-10-01T20:00:51.814Z"
   },
   {
    "duration": 260,
    "start_time": "2021-10-01T20:00:52.252Z"
   },
   {
    "duration": 10,
    "start_time": "2021-10-01T20:00:52.514Z"
   },
   {
    "duration": 25,
    "start_time": "2021-10-01T20:00:52.526Z"
   },
   {
    "duration": 17,
    "start_time": "2021-10-01T20:00:52.553Z"
   },
   {
    "duration": 5,
    "start_time": "2021-10-01T20:00:52.571Z"
   },
   {
    "duration": 8,
    "start_time": "2021-10-01T20:00:52.578Z"
   },
   {
    "duration": 8,
    "start_time": "2021-10-01T20:00:52.587Z"
   },
   {
    "duration": 6,
    "start_time": "2021-10-01T20:00:52.597Z"
   },
   {
    "duration": 43,
    "start_time": "2021-10-01T20:00:52.605Z"
   },
   {
    "duration": 7,
    "start_time": "2021-10-01T20:00:52.650Z"
   },
   {
    "duration": 5,
    "start_time": "2021-10-01T20:00:52.658Z"
   },
   {
    "duration": 8,
    "start_time": "2021-10-01T20:00:52.664Z"
   },
   {
    "duration": 16,
    "start_time": "2021-10-01T20:00:52.674Z"
   },
   {
    "duration": 10,
    "start_time": "2021-10-01T20:00:52.696Z"
   },
   {
    "duration": 13,
    "start_time": "2021-10-01T20:00:52.708Z"
   },
   {
    "duration": 7,
    "start_time": "2021-10-01T20:00:52.722Z"
   },
   {
    "duration": 14,
    "start_time": "2021-10-01T20:00:52.731Z"
   },
   {
    "duration": 11,
    "start_time": "2021-10-01T20:00:52.747Z"
   },
   {
    "duration": 5,
    "start_time": "2021-10-01T20:00:52.760Z"
   },
   {
    "duration": 11,
    "start_time": "2021-10-01T20:00:52.766Z"
   },
   {
    "duration": 15,
    "start_time": "2021-10-01T20:00:52.778Z"
   },
   {
    "duration": 17,
    "start_time": "2021-10-01T20:00:52.795Z"
   },
   {
    "duration": 14,
    "start_time": "2021-10-01T20:00:52.813Z"
   },
   {
    "duration": 16,
    "start_time": "2021-10-01T20:00:52.829Z"
   },
   {
    "duration": 7,
    "start_time": "2021-10-01T20:00:52.846Z"
   },
   {
    "duration": 8,
    "start_time": "2021-10-01T20:00:52.855Z"
   },
   {
    "duration": 4,
    "start_time": "2021-10-01T20:00:52.865Z"
   },
   {
    "duration": 18,
    "start_time": "2021-10-01T20:00:52.870Z"
   },
   {
    "duration": 3,
    "start_time": "2021-10-01T20:04:17.593Z"
   },
   {
    "duration": 10,
    "start_time": "2021-10-01T20:04:23.912Z"
   },
   {
    "duration": 4,
    "start_time": "2021-10-01T20:04:26.378Z"
   },
   {
    "duration": 368,
    "start_time": "2021-10-01T20:10:36.965Z"
   },
   {
    "duration": 17,
    "start_time": "2021-10-01T20:10:49.526Z"
   },
   {
    "duration": 16,
    "start_time": "2021-10-01T20:12:12.848Z"
   },
   {
    "duration": 18,
    "start_time": "2021-10-01T20:13:15.939Z"
   },
   {
    "duration": 20,
    "start_time": "2021-10-01T20:13:34.363Z"
   },
   {
    "duration": 23,
    "start_time": "2021-10-01T20:15:34.131Z"
   },
   {
    "duration": 21,
    "start_time": "2021-10-01T20:16:04.583Z"
   },
   {
    "duration": 82,
    "start_time": "2021-10-01T20:17:38.334Z"
   },
   {
    "duration": 19,
    "start_time": "2021-10-01T20:17:58.148Z"
   },
   {
    "duration": 284,
    "start_time": "2021-10-01T20:18:23.310Z"
   },
   {
    "duration": 270,
    "start_time": "2021-10-01T20:18:46.405Z"
   },
   {
    "duration": 590,
    "start_time": "2021-10-01T20:19:00.363Z"
   },
   {
    "duration": 20,
    "start_time": "2021-10-01T20:19:13.515Z"
   },
   {
    "duration": 22,
    "start_time": "2021-10-01T20:20:11.508Z"
   },
   {
    "duration": 91,
    "start_time": "2021-10-01T20:21:39.746Z"
   },
   {
    "duration": 81,
    "start_time": "2021-10-01T20:21:51.433Z"
   },
   {
    "duration": 291,
    "start_time": "2021-10-01T20:22:03.488Z"
   },
   {
    "duration": 1157,
    "start_time": "2021-10-01T20:22:30.993Z"
   },
   {
    "duration": 414,
    "start_time": "2021-10-01T20:22:32.152Z"
   },
   {
    "duration": 18,
    "start_time": "2021-10-01T20:22:32.568Z"
   },
   {
    "duration": 30,
    "start_time": "2021-10-01T20:22:32.588Z"
   },
   {
    "duration": 25,
    "start_time": "2021-10-01T20:22:32.620Z"
   },
   {
    "duration": 120,
    "start_time": "2021-10-01T20:22:32.647Z"
   },
   {
    "duration": 15,
    "start_time": "2021-10-01T20:22:32.768Z"
   },
   {
    "duration": 42,
    "start_time": "2021-10-01T20:22:32.786Z"
   },
   {
    "duration": 24,
    "start_time": "2021-10-01T20:22:32.830Z"
   },
   {
    "duration": 81,
    "start_time": "2021-10-01T20:22:32.856Z"
   },
   {
    "duration": 10,
    "start_time": "2021-10-01T20:22:32.938Z"
   },
   {
    "duration": 27,
    "start_time": "2021-10-01T20:22:32.950Z"
   },
   {
    "duration": 55,
    "start_time": "2021-10-01T20:22:32.979Z"
   },
   {
    "duration": 7,
    "start_time": "2021-10-01T20:22:33.036Z"
   },
   {
    "duration": 18,
    "start_time": "2021-10-01T20:22:33.045Z"
   },
   {
    "duration": 26,
    "start_time": "2021-10-01T20:22:33.065Z"
   },
   {
    "duration": 14,
    "start_time": "2021-10-01T20:22:33.093Z"
   },
   {
    "duration": 6,
    "start_time": "2021-10-01T20:22:33.109Z"
   },
   {
    "duration": 11,
    "start_time": "2021-10-01T20:22:33.117Z"
   },
   {
    "duration": 38,
    "start_time": "2021-10-01T20:22:33.130Z"
   },
   {
    "duration": 6,
    "start_time": "2021-10-01T20:22:33.169Z"
   },
   {
    "duration": 23,
    "start_time": "2021-10-01T20:22:33.176Z"
   },
   {
    "duration": 5,
    "start_time": "2021-10-01T20:22:33.201Z"
   },
   {
    "duration": 40,
    "start_time": "2021-10-01T20:22:33.208Z"
   },
   {
    "duration": 6,
    "start_time": "2021-10-01T20:22:33.250Z"
   },
   {
    "duration": 6,
    "start_time": "2021-10-01T20:22:33.260Z"
   },
   {
    "duration": 841,
    "start_time": "2021-10-01T20:22:33.268Z"
   },
   {
    "duration": 694,
    "start_time": "2021-10-01T20:22:34.111Z"
   },
   {
    "duration": 502,
    "start_time": "2021-10-01T20:22:34.807Z"
   },
   {
    "duration": 93,
    "start_time": "2021-10-01T20:22:35.310Z"
   },
   {
    "duration": 3,
    "start_time": "2021-10-01T20:22:35.404Z"
   },
   {
    "duration": 26,
    "start_time": "2021-10-01T20:22:35.408Z"
   },
   {
    "duration": 53,
    "start_time": "2021-10-01T20:22:35.435Z"
   },
   {
    "duration": 2,
    "start_time": "2021-10-01T20:22:35.490Z"
   },
   {
    "duration": 27,
    "start_time": "2021-10-01T20:22:35.494Z"
   },
   {
    "duration": 56,
    "start_time": "2021-10-01T20:22:35.522Z"
   },
   {
    "duration": 15,
    "start_time": "2021-10-01T20:22:35.579Z"
   },
   {
    "duration": 46,
    "start_time": "2021-10-01T20:22:35.596Z"
   },
   {
    "duration": 8,
    "start_time": "2021-10-01T20:22:35.644Z"
   },
   {
    "duration": 34,
    "start_time": "2021-10-01T20:22:35.653Z"
   },
   {
    "duration": 28,
    "start_time": "2021-10-01T20:22:35.689Z"
   },
   {
    "duration": 16,
    "start_time": "2021-10-01T20:22:35.719Z"
   },
   {
    "duration": 25,
    "start_time": "2021-10-01T20:22:35.736Z"
   },
   {
    "duration": 21,
    "start_time": "2021-10-01T20:22:35.763Z"
   },
   {
    "duration": 22,
    "start_time": "2021-10-01T20:22:35.785Z"
   },
   {
    "duration": 20,
    "start_time": "2021-10-01T20:22:35.809Z"
   },
   {
    "duration": 31,
    "start_time": "2021-10-01T20:22:35.830Z"
   },
   {
    "duration": 22,
    "start_time": "2021-10-01T20:22:35.863Z"
   },
   {
    "duration": 272,
    "start_time": "2021-10-01T20:22:35.887Z"
   },
   {
    "duration": 261,
    "start_time": "2021-10-01T20:22:36.160Z"
   },
   {
    "duration": 256,
    "start_time": "2021-10-01T20:22:36.422Z"
   },
   {
    "duration": 3,
    "start_time": "2021-10-01T20:22:36.680Z"
   },
   {
    "duration": 362,
    "start_time": "2021-10-01T20:22:36.684Z"
   },
   {
    "duration": 14,
    "start_time": "2021-10-01T20:22:37.048Z"
   },
   {
    "duration": 17,
    "start_time": "2021-10-01T20:22:37.064Z"
   },
   {
    "duration": 3,
    "start_time": "2021-10-01T20:22:37.083Z"
   },
   {
    "duration": 419,
    "start_time": "2021-10-01T20:22:37.088Z"
   },
   {
    "duration": 253,
    "start_time": "2021-10-01T20:22:37.508Z"
   },
   {
    "duration": 8,
    "start_time": "2021-10-01T20:22:37.763Z"
   },
   {
    "duration": 12,
    "start_time": "2021-10-01T20:22:37.772Z"
   },
   {
    "duration": 14,
    "start_time": "2021-10-01T20:22:37.785Z"
   },
   {
    "duration": 386,
    "start_time": "2021-10-01T20:22:37.801Z"
   },
   {
    "duration": 245,
    "start_time": "2021-10-01T20:22:38.189Z"
   },
   {
    "duration": 14,
    "start_time": "2021-10-01T20:22:38.435Z"
   },
   {
    "duration": 24,
    "start_time": "2021-10-01T20:22:38.450Z"
   },
   {
    "duration": 15,
    "start_time": "2021-10-01T20:22:38.476Z"
   },
   {
    "duration": 418,
    "start_time": "2021-10-01T20:22:38.492Z"
   },
   {
    "duration": 247,
    "start_time": "2021-10-01T20:22:38.911Z"
   },
   {
    "duration": 9,
    "start_time": "2021-10-01T20:22:39.160Z"
   },
   {
    "duration": 9,
    "start_time": "2021-10-01T20:22:39.170Z"
   },
   {
    "duration": 13,
    "start_time": "2021-10-01T20:22:39.180Z"
   },
   {
    "duration": 4,
    "start_time": "2021-10-01T20:22:39.194Z"
   },
   {
    "duration": 7,
    "start_time": "2021-10-01T20:22:39.199Z"
   },
   {
    "duration": 42,
    "start_time": "2021-10-01T20:22:39.207Z"
   },
   {
    "duration": 6,
    "start_time": "2021-10-01T20:22:39.251Z"
   },
   {
    "duration": 7,
    "start_time": "2021-10-01T20:22:39.258Z"
   },
   {
    "duration": 5,
    "start_time": "2021-10-01T20:22:39.267Z"
   },
   {
    "duration": 4,
    "start_time": "2021-10-01T20:22:39.273Z"
   },
   {
    "duration": 601,
    "start_time": "2021-10-01T20:22:39.279Z"
   },
   {
    "duration": 70,
    "start_time": "2021-10-01T20:22:39.812Z"
   },
   {
    "duration": 61,
    "start_time": "2021-10-01T20:22:39.822Z"
   },
   {
    "duration": 44,
    "start_time": "2021-10-01T20:22:39.840Z"
   },
   {
    "duration": 7,
    "start_time": "2021-10-01T20:22:39.877Z"
   },
   {
    "duration": -29,
    "start_time": "2021-10-01T20:22:39.914Z"
   },
   {
    "duration": -36,
    "start_time": "2021-10-01T20:22:39.922Z"
   },
   {
    "duration": -41,
    "start_time": "2021-10-01T20:22:39.928Z"
   },
   {
    "duration": -51,
    "start_time": "2021-10-01T20:22:39.939Z"
   },
   {
    "duration": -58,
    "start_time": "2021-10-01T20:22:39.947Z"
   },
   {
    "duration": -66,
    "start_time": "2021-10-01T20:22:39.956Z"
   },
   {
    "duration": -72,
    "start_time": "2021-10-01T20:22:39.962Z"
   },
   {
    "duration": -79,
    "start_time": "2021-10-01T20:22:39.970Z"
   },
   {
    "duration": -86,
    "start_time": "2021-10-01T20:22:39.978Z"
   },
   {
    "duration": -92,
    "start_time": "2021-10-01T20:22:39.985Z"
   },
   {
    "duration": -97,
    "start_time": "2021-10-01T20:22:39.991Z"
   },
   {
    "duration": -102,
    "start_time": "2021-10-01T20:22:39.997Z"
   },
   {
    "duration": -108,
    "start_time": "2021-10-01T20:22:40.004Z"
   },
   {
    "duration": 78,
    "start_time": "2021-10-01T20:22:51.953Z"
   },
   {
    "duration": 8,
    "start_time": "2021-10-01T20:23:09.910Z"
   },
   {
    "duration": 4,
    "start_time": "2021-10-01T20:23:13.363Z"
   },
   {
    "duration": 20,
    "start_time": "2021-10-01T20:23:34.856Z"
   },
   {
    "duration": 1106,
    "start_time": "2021-10-01T20:24:42.957Z"
   },
   {
    "duration": 381,
    "start_time": "2021-10-01T20:24:44.065Z"
   },
   {
    "duration": 14,
    "start_time": "2021-10-01T20:24:44.448Z"
   },
   {
    "duration": 56,
    "start_time": "2021-10-01T20:24:44.464Z"
   },
   {
    "duration": 24,
    "start_time": "2021-10-01T20:24:44.522Z"
   },
   {
    "duration": 114,
    "start_time": "2021-10-01T20:24:44.547Z"
   },
   {
    "duration": 11,
    "start_time": "2021-10-01T20:24:44.662Z"
   },
   {
    "duration": 32,
    "start_time": "2021-10-01T20:24:44.675Z"
   },
   {
    "duration": 17,
    "start_time": "2021-10-01T20:24:44.709Z"
   },
   {
    "duration": 78,
    "start_time": "2021-10-01T20:24:44.728Z"
   },
   {
    "duration": 7,
    "start_time": "2021-10-01T20:24:44.808Z"
   },
   {
    "duration": 42,
    "start_time": "2021-10-01T20:24:44.816Z"
   },
   {
    "duration": 50,
    "start_time": "2021-10-01T20:24:44.860Z"
   },
   {
    "duration": 7,
    "start_time": "2021-10-01T20:24:44.912Z"
   },
   {
    "duration": 33,
    "start_time": "2021-10-01T20:24:44.920Z"
   },
   {
    "duration": 32,
    "start_time": "2021-10-01T20:24:44.955Z"
   },
   {
    "duration": 29,
    "start_time": "2021-10-01T20:24:44.989Z"
   },
   {
    "duration": 27,
    "start_time": "2021-10-01T20:24:45.020Z"
   },
   {
    "duration": 28,
    "start_time": "2021-10-01T20:24:45.049Z"
   },
   {
    "duration": 38,
    "start_time": "2021-10-01T20:24:45.078Z"
   },
   {
    "duration": 6,
    "start_time": "2021-10-01T20:24:45.118Z"
   },
   {
    "duration": 41,
    "start_time": "2021-10-01T20:24:45.125Z"
   },
   {
    "duration": 18,
    "start_time": "2021-10-01T20:24:45.170Z"
   },
   {
    "duration": 38,
    "start_time": "2021-10-01T20:24:45.190Z"
   },
   {
    "duration": 10,
    "start_time": "2021-10-01T20:24:45.230Z"
   },
   {
    "duration": 29,
    "start_time": "2021-10-01T20:24:45.241Z"
   },
   {
    "duration": 775,
    "start_time": "2021-10-01T20:24:45.271Z"
   },
   {
    "duration": 569,
    "start_time": "2021-10-01T20:24:46.048Z"
   },
   {
    "duration": 465,
    "start_time": "2021-10-01T20:24:46.618Z"
   },
   {
    "duration": 100,
    "start_time": "2021-10-01T20:24:47.085Z"
   },
   {
    "duration": 3,
    "start_time": "2021-10-01T20:24:47.186Z"
   },
   {
    "duration": 29,
    "start_time": "2021-10-01T20:24:47.190Z"
   },
   {
    "duration": 46,
    "start_time": "2021-10-01T20:24:47.221Z"
   },
   {
    "duration": 3,
    "start_time": "2021-10-01T20:24:47.268Z"
   },
   {
    "duration": 17,
    "start_time": "2021-10-01T20:24:47.272Z"
   },
   {
    "duration": 45,
    "start_time": "2021-10-01T20:24:47.291Z"
   },
   {
    "duration": 10,
    "start_time": "2021-10-01T20:24:47.338Z"
   },
   {
    "duration": 43,
    "start_time": "2021-10-01T20:24:47.350Z"
   },
   {
    "duration": 8,
    "start_time": "2021-10-01T20:24:47.394Z"
   },
   {
    "duration": 28,
    "start_time": "2021-10-01T20:24:47.403Z"
   },
   {
    "duration": 29,
    "start_time": "2021-10-01T20:24:47.433Z"
   },
   {
    "duration": 5,
    "start_time": "2021-10-01T20:24:47.464Z"
   },
   {
    "duration": 6,
    "start_time": "2021-10-01T20:24:47.470Z"
   },
   {
    "duration": 28,
    "start_time": "2021-10-01T20:24:47.477Z"
   },
   {
    "duration": 17,
    "start_time": "2021-10-01T20:24:47.506Z"
   },
   {
    "duration": 16,
    "start_time": "2021-10-01T20:24:47.524Z"
   },
   {
    "duration": 15,
    "start_time": "2021-10-01T20:24:47.541Z"
   },
   {
    "duration": 10,
    "start_time": "2021-10-01T20:24:47.557Z"
   },
   {
    "duration": 255,
    "start_time": "2021-10-01T20:24:47.568Z"
   },
   {
    "duration": 250,
    "start_time": "2021-10-01T20:24:47.824Z"
   },
   {
    "duration": 252,
    "start_time": "2021-10-01T20:24:48.076Z"
   },
   {
    "duration": 3,
    "start_time": "2021-10-01T20:24:48.330Z"
   },
   {
    "duration": 342,
    "start_time": "2021-10-01T20:24:48.334Z"
   },
   {
    "duration": 15,
    "start_time": "2021-10-01T20:24:48.678Z"
   },
   {
    "duration": 31,
    "start_time": "2021-10-01T20:24:48.695Z"
   },
   {
    "duration": 4,
    "start_time": "2021-10-01T20:24:48.727Z"
   },
   {
    "duration": 405,
    "start_time": "2021-10-01T20:24:48.732Z"
   },
   {
    "duration": 263,
    "start_time": "2021-10-01T20:24:49.139Z"
   },
   {
    "duration": 10,
    "start_time": "2021-10-01T20:24:49.404Z"
   },
   {
    "duration": 25,
    "start_time": "2021-10-01T20:24:49.415Z"
   },
   {
    "duration": 29,
    "start_time": "2021-10-01T20:24:49.441Z"
   },
   {
    "duration": 366,
    "start_time": "2021-10-01T20:24:49.472Z"
   },
   {
    "duration": 241,
    "start_time": "2021-10-01T20:24:49.840Z"
   },
   {
    "duration": 9,
    "start_time": "2021-10-01T20:24:50.083Z"
   },
   {
    "duration": 20,
    "start_time": "2021-10-01T20:24:50.094Z"
   },
   {
    "duration": 27,
    "start_time": "2021-10-01T20:24:50.116Z"
   },
   {
    "duration": 431,
    "start_time": "2021-10-01T20:24:50.145Z"
   },
   {
    "duration": 259,
    "start_time": "2021-10-01T20:24:50.581Z"
   },
   {
    "duration": 10,
    "start_time": "2021-10-01T20:24:50.842Z"
   },
   {
    "duration": 13,
    "start_time": "2021-10-01T20:24:50.854Z"
   },
   {
    "duration": 15,
    "start_time": "2021-10-01T20:24:50.868Z"
   },
   {
    "duration": 5,
    "start_time": "2021-10-01T20:24:50.885Z"
   },
   {
    "duration": 11,
    "start_time": "2021-10-01T20:24:50.891Z"
   },
   {
    "duration": 16,
    "start_time": "2021-10-01T20:24:50.903Z"
   },
   {
    "duration": 24,
    "start_time": "2021-10-01T20:24:50.921Z"
   },
   {
    "duration": 8,
    "start_time": "2021-10-01T20:24:50.946Z"
   },
   {
    "duration": 19,
    "start_time": "2021-10-01T20:24:50.955Z"
   },
   {
    "duration": 4,
    "start_time": "2021-10-01T20:24:50.975Z"
   },
   {
    "duration": 19,
    "start_time": "2021-10-01T20:24:50.980Z"
   },
   {
    "duration": 5,
    "start_time": "2021-10-01T20:24:51.000Z"
   },
   {
    "duration": 18,
    "start_time": "2021-10-01T20:24:51.006Z"
   },
   {
    "duration": 18,
    "start_time": "2021-10-01T20:24:51.026Z"
   },
   {
    "duration": 7,
    "start_time": "2021-10-01T20:24:51.046Z"
   },
   {
    "duration": 11,
    "start_time": "2021-10-01T20:24:51.054Z"
   },
   {
    "duration": 16,
    "start_time": "2021-10-01T20:24:51.067Z"
   },
   {
    "duration": 4,
    "start_time": "2021-10-01T20:24:51.084Z"
   },
   {
    "duration": 455,
    "start_time": "2021-10-01T20:24:51.089Z"
   },
   {
    "duration": 110,
    "start_time": "2021-10-01T20:24:51.435Z"
   },
   {
    "duration": 107,
    "start_time": "2021-10-01T20:24:51.440Z"
   },
   {
    "duration": 103,
    "start_time": "2021-10-01T20:24:51.445Z"
   },
   {
    "duration": 98,
    "start_time": "2021-10-01T20:24:51.451Z"
   },
   {
    "duration": 95,
    "start_time": "2021-10-01T20:24:51.455Z"
   },
   {
    "duration": 90,
    "start_time": "2021-10-01T20:24:51.461Z"
   },
   {
    "duration": 86,
    "start_time": "2021-10-01T20:24:51.466Z"
   },
   {
    "duration": 81,
    "start_time": "2021-10-01T20:24:51.472Z"
   },
   {
    "duration": 78,
    "start_time": "2021-10-01T20:24:51.476Z"
   },
   {
    "duration": 9,
    "start_time": "2021-10-01T20:26:09.212Z"
   },
   {
    "duration": 4,
    "start_time": "2021-10-01T20:26:12.722Z"
   },
   {
    "duration": 21,
    "start_time": "2021-10-01T20:26:37.645Z"
   },
   {
    "duration": 21,
    "start_time": "2021-10-01T20:27:38.396Z"
   },
   {
    "duration": 22,
    "start_time": "2021-10-01T20:32:06.717Z"
   },
   {
    "duration": 20,
    "start_time": "2021-10-01T20:32:13.158Z"
   },
   {
    "duration": 21,
    "start_time": "2021-10-01T20:33:27.856Z"
   },
   {
    "duration": 2385,
    "start_time": "2021-10-01T20:34:29.297Z"
   },
   {
    "duration": 381,
    "start_time": "2021-10-01T20:34:31.683Z"
   },
   {
    "duration": 14,
    "start_time": "2021-10-01T20:34:32.066Z"
   },
   {
    "duration": 27,
    "start_time": "2021-10-01T20:34:32.082Z"
   },
   {
    "duration": 19,
    "start_time": "2021-10-01T20:34:32.110Z"
   },
   {
    "duration": 122,
    "start_time": "2021-10-01T20:34:32.130Z"
   },
   {
    "duration": 13,
    "start_time": "2021-10-01T20:34:32.255Z"
   },
   {
    "duration": 27,
    "start_time": "2021-10-01T20:34:32.271Z"
   },
   {
    "duration": 46,
    "start_time": "2021-10-01T20:34:32.300Z"
   },
   {
    "duration": 61,
    "start_time": "2021-10-01T20:34:32.347Z"
   },
   {
    "duration": 6,
    "start_time": "2021-10-01T20:34:32.410Z"
   },
   {
    "duration": 36,
    "start_time": "2021-10-01T20:34:32.418Z"
   },
   {
    "duration": 41,
    "start_time": "2021-10-01T20:34:32.456Z"
   },
   {
    "duration": 7,
    "start_time": "2021-10-01T20:34:32.499Z"
   },
   {
    "duration": 7,
    "start_time": "2021-10-01T20:34:32.507Z"
   },
   {
    "duration": 10,
    "start_time": "2021-10-01T20:34:32.544Z"
   },
   {
    "duration": 14,
    "start_time": "2021-10-01T20:34:32.555Z"
   },
   {
    "duration": 5,
    "start_time": "2021-10-01T20:34:32.571Z"
   },
   {
    "duration": 8,
    "start_time": "2021-10-01T20:34:32.578Z"
   },
   {
    "duration": 68,
    "start_time": "2021-10-01T20:34:32.589Z"
   },
   {
    "duration": 4,
    "start_time": "2021-10-01T20:34:32.659Z"
   },
   {
    "duration": 22,
    "start_time": "2021-10-01T20:34:32.664Z"
   },
   {
    "duration": 4,
    "start_time": "2021-10-01T20:34:32.689Z"
   },
   {
    "duration": 17,
    "start_time": "2021-10-01T20:34:32.696Z"
   },
   {
    "duration": 31,
    "start_time": "2021-10-01T20:34:32.714Z"
   },
   {
    "duration": 3,
    "start_time": "2021-10-01T20:34:32.747Z"
   },
   {
    "duration": 792,
    "start_time": "2021-10-01T20:34:32.752Z"
   },
   {
    "duration": 585,
    "start_time": "2021-10-01T20:34:33.546Z"
   },
   {
    "duration": 478,
    "start_time": "2021-10-01T20:34:34.133Z"
   },
   {
    "duration": 97,
    "start_time": "2021-10-01T20:34:34.612Z"
   },
   {
    "duration": 3,
    "start_time": "2021-10-01T20:34:34.710Z"
   },
   {
    "duration": 20,
    "start_time": "2021-10-01T20:34:34.714Z"
   },
   {
    "duration": 36,
    "start_time": "2021-10-01T20:34:34.744Z"
   },
   {
    "duration": 3,
    "start_time": "2021-10-01T20:34:34.781Z"
   },
   {
    "duration": 20,
    "start_time": "2021-10-01T20:34:34.786Z"
   },
   {
    "duration": 58,
    "start_time": "2021-10-01T20:34:34.808Z"
   },
   {
    "duration": 13,
    "start_time": "2021-10-01T20:34:34.867Z"
   },
   {
    "duration": 30,
    "start_time": "2021-10-01T20:34:34.881Z"
   },
   {
    "duration": 8,
    "start_time": "2021-10-01T20:34:34.913Z"
   },
   {
    "duration": 36,
    "start_time": "2021-10-01T20:34:34.922Z"
   },
   {
    "duration": 26,
    "start_time": "2021-10-01T20:34:34.960Z"
   },
   {
    "duration": 6,
    "start_time": "2021-10-01T20:34:34.987Z"
   },
   {
    "duration": 10,
    "start_time": "2021-10-01T20:34:34.994Z"
   },
   {
    "duration": 16,
    "start_time": "2021-10-01T20:34:35.006Z"
   },
   {
    "duration": 21,
    "start_time": "2021-10-01T20:34:35.024Z"
   },
   {
    "duration": 13,
    "start_time": "2021-10-01T20:34:35.047Z"
   },
   {
    "duration": 15,
    "start_time": "2021-10-01T20:34:35.061Z"
   },
   {
    "duration": 12,
    "start_time": "2021-10-01T20:34:35.078Z"
   },
   {
    "duration": 253,
    "start_time": "2021-10-01T20:34:35.092Z"
   },
   {
    "duration": 260,
    "start_time": "2021-10-01T20:34:35.347Z"
   },
   {
    "duration": 266,
    "start_time": "2021-10-01T20:34:35.608Z"
   },
   {
    "duration": 4,
    "start_time": "2021-10-01T20:34:35.875Z"
   },
   {
    "duration": 372,
    "start_time": "2021-10-01T20:34:35.881Z"
   },
   {
    "duration": 14,
    "start_time": "2021-10-01T20:34:36.255Z"
   },
   {
    "duration": 34,
    "start_time": "2021-10-01T20:34:36.271Z"
   },
   {
    "duration": 4,
    "start_time": "2021-10-01T20:34:36.307Z"
   },
   {
    "duration": 420,
    "start_time": "2021-10-01T20:34:36.312Z"
   },
   {
    "duration": 261,
    "start_time": "2021-10-01T20:34:36.734Z"
   },
   {
    "duration": 10,
    "start_time": "2021-10-01T20:34:36.996Z"
   },
   {
    "duration": 8,
    "start_time": "2021-10-01T20:34:37.007Z"
   },
   {
    "duration": 37,
    "start_time": "2021-10-01T20:34:37.017Z"
   },
   {
    "duration": 370,
    "start_time": "2021-10-01T20:34:37.056Z"
   },
   {
    "duration": 245,
    "start_time": "2021-10-01T20:34:37.428Z"
   },
   {
    "duration": 9,
    "start_time": "2021-10-01T20:34:37.675Z"
   },
   {
    "duration": 11,
    "start_time": "2021-10-01T20:34:37.685Z"
   },
   {
    "duration": 13,
    "start_time": "2021-10-01T20:34:37.698Z"
   },
   {
    "duration": 437,
    "start_time": "2021-10-01T20:34:37.712Z"
   },
   {
    "duration": 255,
    "start_time": "2021-10-01T20:34:38.155Z"
   },
   {
    "duration": 9,
    "start_time": "2021-10-01T20:34:38.412Z"
   },
   {
    "duration": 27,
    "start_time": "2021-10-01T20:34:38.422Z"
   },
   {
    "duration": 14,
    "start_time": "2021-10-01T20:34:38.451Z"
   },
   {
    "duration": 3,
    "start_time": "2021-10-01T20:34:38.467Z"
   },
   {
    "duration": 21,
    "start_time": "2021-10-01T20:34:38.471Z"
   },
   {
    "duration": 6,
    "start_time": "2021-10-01T20:34:38.493Z"
   },
   {
    "duration": 6,
    "start_time": "2021-10-01T20:34:38.501Z"
   },
   {
    "duration": 8,
    "start_time": "2021-10-01T20:34:38.508Z"
   },
   {
    "duration": 30,
    "start_time": "2021-10-01T20:34:38.517Z"
   },
   {
    "duration": 2,
    "start_time": "2021-10-01T20:34:38.548Z"
   },
   {
    "duration": 10,
    "start_time": "2021-10-01T20:34:38.552Z"
   },
   {
    "duration": 3,
    "start_time": "2021-10-01T20:34:38.564Z"
   },
   {
    "duration": 18,
    "start_time": "2021-10-01T20:34:38.568Z"
   },
   {
    "duration": 6,
    "start_time": "2021-10-01T20:34:38.587Z"
   },
   {
    "duration": 7,
    "start_time": "2021-10-01T20:34:38.594Z"
   },
   {
    "duration": 44,
    "start_time": "2021-10-01T20:34:38.603Z"
   },
   {
    "duration": 6,
    "start_time": "2021-10-01T20:34:38.649Z"
   },
   {
    "duration": 5,
    "start_time": "2021-10-01T20:34:38.656Z"
   },
   {
    "duration": 10,
    "start_time": "2021-10-01T20:34:38.662Z"
   },
   {
    "duration": 3,
    "start_time": "2021-10-01T20:34:38.674Z"
   },
   {
    "duration": 24,
    "start_time": "2021-10-01T20:34:38.678Z"
   },
   {
    "duration": 44,
    "start_time": "2021-10-01T20:34:38.703Z"
   },
   {
    "duration": 8,
    "start_time": "2021-10-01T20:34:38.748Z"
   },
   {
    "duration": 5,
    "start_time": "2021-10-01T20:34:38.758Z"
   },
   {
    "duration": 9,
    "start_time": "2021-10-01T20:34:38.765Z"
   },
   {
    "duration": 8,
    "start_time": "2021-10-01T20:34:38.775Z"
   },
   {
    "duration": 22,
    "start_time": "2021-10-01T20:34:38.784Z"
   },
   {
    "duration": 56,
    "start_time": "2021-10-01T20:34:38.807Z"
   },
   {
    "duration": 1240,
    "start_time": "2021-10-01T20:47:04.280Z"
   },
   {
    "duration": 572,
    "start_time": "2021-10-01T20:47:05.522Z"
   },
   {
    "duration": 17,
    "start_time": "2021-10-01T20:47:06.096Z"
   },
   {
    "duration": 27,
    "start_time": "2021-10-01T20:47:06.115Z"
   },
   {
    "duration": 20,
    "start_time": "2021-10-01T20:47:06.143Z"
   },
   {
    "duration": 103,
    "start_time": "2021-10-01T20:47:06.165Z"
   },
   {
    "duration": 12,
    "start_time": "2021-10-01T20:47:06.270Z"
   },
   {
    "duration": 26,
    "start_time": "2021-10-01T20:47:06.286Z"
   },
   {
    "duration": 41,
    "start_time": "2021-10-01T20:47:06.314Z"
   },
   {
    "duration": 60,
    "start_time": "2021-10-01T20:47:06.356Z"
   },
   {
    "duration": 6,
    "start_time": "2021-10-01T20:47:06.417Z"
   },
   {
    "duration": 13,
    "start_time": "2021-10-01T20:47:06.444Z"
   },
   {
    "duration": 39,
    "start_time": "2021-10-01T20:47:06.459Z"
   },
   {
    "duration": 6,
    "start_time": "2021-10-01T20:47:06.500Z"
   },
   {
    "duration": 9,
    "start_time": "2021-10-01T20:47:06.508Z"
   },
   {
    "duration": 28,
    "start_time": "2021-10-01T20:47:06.519Z"
   },
   {
    "duration": 18,
    "start_time": "2021-10-01T20:47:06.548Z"
   },
   {
    "duration": 14,
    "start_time": "2021-10-01T20:47:06.568Z"
   },
   {
    "duration": 17,
    "start_time": "2021-10-01T20:47:06.583Z"
   },
   {
    "duration": 36,
    "start_time": "2021-10-01T20:47:06.601Z"
   },
   {
    "duration": 4,
    "start_time": "2021-10-01T20:47:06.639Z"
   },
   {
    "duration": 44,
    "start_time": "2021-10-01T20:47:06.644Z"
   },
   {
    "duration": 5,
    "start_time": "2021-10-01T20:47:06.693Z"
   },
   {
    "duration": 33,
    "start_time": "2021-10-01T20:47:06.702Z"
   },
   {
    "duration": 6,
    "start_time": "2021-10-01T20:47:06.736Z"
   },
   {
    "duration": 19,
    "start_time": "2021-10-01T20:47:06.744Z"
   },
   {
    "duration": 1036,
    "start_time": "2021-10-01T20:47:06.764Z"
   },
   {
    "duration": 573,
    "start_time": "2021-10-01T20:47:07.802Z"
   },
   {
    "duration": 480,
    "start_time": "2021-10-01T20:47:08.377Z"
   },
   {
    "duration": 90,
    "start_time": "2021-10-01T20:47:08.859Z"
   },
   {
    "duration": 2,
    "start_time": "2021-10-01T20:47:08.951Z"
   },
   {
    "duration": 30,
    "start_time": "2021-10-01T20:47:08.955Z"
   },
   {
    "duration": 64,
    "start_time": "2021-10-01T20:47:08.987Z"
   },
   {
    "duration": 2,
    "start_time": "2021-10-01T20:47:09.053Z"
   },
   {
    "duration": 40,
    "start_time": "2021-10-01T20:47:09.057Z"
   },
   {
    "duration": 57,
    "start_time": "2021-10-01T20:47:09.098Z"
   },
   {
    "duration": 12,
    "start_time": "2021-10-01T20:47:09.157Z"
   },
   {
    "duration": 38,
    "start_time": "2021-10-01T20:47:09.171Z"
   },
   {
    "duration": 23,
    "start_time": "2021-10-01T20:47:09.211Z"
   },
   {
    "duration": 36,
    "start_time": "2021-10-01T20:47:09.235Z"
   },
   {
    "duration": 22,
    "start_time": "2021-10-01T20:47:09.273Z"
   },
   {
    "duration": 7,
    "start_time": "2021-10-01T20:47:09.296Z"
   },
   {
    "duration": 31,
    "start_time": "2021-10-01T20:47:09.305Z"
   },
   {
    "duration": 35,
    "start_time": "2021-10-01T20:47:09.338Z"
   },
   {
    "duration": 32,
    "start_time": "2021-10-01T20:47:09.375Z"
   },
   {
    "duration": 53,
    "start_time": "2021-10-01T20:47:09.409Z"
   },
   {
    "duration": 34,
    "start_time": "2021-10-01T20:47:09.463Z"
   },
   {
    "duration": 37,
    "start_time": "2021-10-01T20:47:09.499Z"
   },
   {
    "duration": 265,
    "start_time": "2021-10-01T20:47:09.538Z"
   },
   {
    "duration": 258,
    "start_time": "2021-10-01T20:47:09.805Z"
   },
   {
    "duration": 250,
    "start_time": "2021-10-01T20:47:10.065Z"
   },
   {
    "duration": 3,
    "start_time": "2021-10-01T20:47:10.316Z"
   },
   {
    "duration": 342,
    "start_time": "2021-10-01T20:47:10.321Z"
   },
   {
    "duration": 15,
    "start_time": "2021-10-01T20:47:10.664Z"
   },
   {
    "duration": 22,
    "start_time": "2021-10-01T20:47:10.681Z"
   },
   {
    "duration": 3,
    "start_time": "2021-10-01T20:47:10.705Z"
   },
   {
    "duration": 419,
    "start_time": "2021-10-01T20:47:10.709Z"
   },
   {
    "duration": 262,
    "start_time": "2021-10-01T20:47:11.129Z"
   },
   {
    "duration": 11,
    "start_time": "2021-10-01T20:47:11.393Z"
   },
   {
    "duration": 9,
    "start_time": "2021-10-01T20:47:11.406Z"
   },
   {
    "duration": 37,
    "start_time": "2021-10-01T20:47:11.417Z"
   },
   {
    "duration": 381,
    "start_time": "2021-10-01T20:47:11.456Z"
   },
   {
    "duration": 248,
    "start_time": "2021-10-01T20:47:11.844Z"
   },
   {
    "duration": 11,
    "start_time": "2021-10-01T20:47:12.094Z"
   },
   {
    "duration": 10,
    "start_time": "2021-10-01T20:47:12.107Z"
   },
   {
    "duration": 36,
    "start_time": "2021-10-01T20:47:12.119Z"
   },
   {
    "duration": 403,
    "start_time": "2021-10-01T20:47:12.157Z"
   },
   {
    "duration": 256,
    "start_time": "2021-10-01T20:47:12.566Z"
   },
   {
    "duration": 21,
    "start_time": "2021-10-01T20:47:12.824Z"
   },
   {
    "duration": 10,
    "start_time": "2021-10-01T20:47:12.847Z"
   },
   {
    "duration": 30,
    "start_time": "2021-10-01T20:47:12.859Z"
   },
   {
    "duration": 11,
    "start_time": "2021-10-01T20:47:12.891Z"
   },
   {
    "duration": 16,
    "start_time": "2021-10-01T20:47:12.904Z"
   },
   {
    "duration": 21,
    "start_time": "2021-10-01T20:47:12.922Z"
   },
   {
    "duration": 23,
    "start_time": "2021-10-01T20:47:12.945Z"
   },
   {
    "duration": 26,
    "start_time": "2021-10-01T20:47:12.970Z"
   },
   {
    "duration": 29,
    "start_time": "2021-10-01T20:47:12.997Z"
   },
   {
    "duration": 14,
    "start_time": "2021-10-01T20:47:13.028Z"
   },
   {
    "duration": 26,
    "start_time": "2021-10-01T20:47:13.044Z"
   },
   {
    "duration": 19,
    "start_time": "2021-10-01T20:47:13.072Z"
   },
   {
    "duration": 33,
    "start_time": "2021-10-01T20:47:13.092Z"
   },
   {
    "duration": 20,
    "start_time": "2021-10-01T20:47:13.127Z"
   },
   {
    "duration": 22,
    "start_time": "2021-10-01T20:47:13.149Z"
   },
   {
    "duration": 21,
    "start_time": "2021-10-01T20:47:13.173Z"
   },
   {
    "duration": 20,
    "start_time": "2021-10-01T20:47:13.196Z"
   },
   {
    "duration": 23,
    "start_time": "2021-10-01T20:47:13.217Z"
   },
   {
    "duration": 25,
    "start_time": "2021-10-01T20:47:13.242Z"
   },
   {
    "duration": 10,
    "start_time": "2021-10-01T20:47:13.268Z"
   },
   {
    "duration": 26,
    "start_time": "2021-10-01T20:47:13.280Z"
   },
   {
    "duration": 1112,
    "start_time": "2021-10-01T21:04:12.565Z"
   },
   {
    "duration": 378,
    "start_time": "2021-10-01T21:04:13.679Z"
   },
   {
    "duration": 15,
    "start_time": "2021-10-01T21:04:14.059Z"
   },
   {
    "duration": 42,
    "start_time": "2021-10-01T21:04:14.076Z"
   },
   {
    "duration": 25,
    "start_time": "2021-10-01T21:04:14.120Z"
   },
   {
    "duration": 114,
    "start_time": "2021-10-01T21:04:14.147Z"
   },
   {
    "duration": 11,
    "start_time": "2021-10-01T21:04:14.262Z"
   },
   {
    "duration": 55,
    "start_time": "2021-10-01T21:04:14.275Z"
   },
   {
    "duration": 28,
    "start_time": "2021-10-01T21:04:14.332Z"
   },
   {
    "duration": 85,
    "start_time": "2021-10-01T21:04:14.362Z"
   },
   {
    "duration": 6,
    "start_time": "2021-10-01T21:04:14.449Z"
   },
   {
    "duration": 41,
    "start_time": "2021-10-01T21:04:14.457Z"
   },
   {
    "duration": 67,
    "start_time": "2021-10-01T21:04:14.500Z"
   },
   {
    "duration": 9,
    "start_time": "2021-10-01T21:04:14.569Z"
   },
   {
    "duration": 30,
    "start_time": "2021-10-01T21:04:14.580Z"
   },
   {
    "duration": 37,
    "start_time": "2021-10-01T21:04:14.612Z"
   },
   {
    "duration": 55,
    "start_time": "2021-10-01T21:04:14.651Z"
   },
   {
    "duration": 24,
    "start_time": "2021-10-01T21:04:14.708Z"
   },
   {
    "duration": 30,
    "start_time": "2021-10-01T21:04:14.734Z"
   },
   {
    "duration": 62,
    "start_time": "2021-10-01T21:04:14.766Z"
   },
   {
    "duration": 26,
    "start_time": "2021-10-01T21:04:14.829Z"
   },
   {
    "duration": 48,
    "start_time": "2021-10-01T21:04:14.856Z"
   },
   {
    "duration": 32,
    "start_time": "2021-10-01T21:04:14.909Z"
   },
   {
    "duration": 33,
    "start_time": "2021-10-01T21:04:14.944Z"
   },
   {
    "duration": 31,
    "start_time": "2021-10-01T21:04:14.978Z"
   },
   {
    "duration": 47,
    "start_time": "2021-10-01T21:04:15.010Z"
   },
   {
    "duration": 794,
    "start_time": "2021-10-01T21:04:15.059Z"
   },
   {
    "duration": 581,
    "start_time": "2021-10-01T21:04:15.854Z"
   },
   {
    "duration": 479,
    "start_time": "2021-10-01T21:04:16.437Z"
   },
   {
    "duration": 95,
    "start_time": "2021-10-01T21:04:16.917Z"
   },
   {
    "duration": 3,
    "start_time": "2021-10-01T21:04:17.014Z"
   },
   {
    "duration": 43,
    "start_time": "2021-10-01T21:04:17.019Z"
   },
   {
    "duration": 54,
    "start_time": "2021-10-01T21:04:17.063Z"
   },
   {
    "duration": 3,
    "start_time": "2021-10-01T21:04:17.118Z"
   },
   {
    "duration": 44,
    "start_time": "2021-10-01T21:04:17.123Z"
   },
   {
    "duration": 67,
    "start_time": "2021-10-01T21:04:17.169Z"
   },
   {
    "duration": 10,
    "start_time": "2021-10-01T21:04:17.238Z"
   },
   {
    "duration": 36,
    "start_time": "2021-10-01T21:04:17.250Z"
   },
   {
    "duration": 23,
    "start_time": "2021-10-01T21:04:17.287Z"
   },
   {
    "duration": 46,
    "start_time": "2021-10-01T21:04:17.311Z"
   },
   {
    "duration": 42,
    "start_time": "2021-10-01T21:04:17.359Z"
   },
   {
    "duration": 5,
    "start_time": "2021-10-01T21:04:17.402Z"
   },
   {
    "duration": 23,
    "start_time": "2021-10-01T21:04:17.409Z"
   },
   {
    "duration": 37,
    "start_time": "2021-10-01T21:04:17.434Z"
   },
   {
    "duration": 24,
    "start_time": "2021-10-01T21:04:17.472Z"
   },
   {
    "duration": 27,
    "start_time": "2021-10-01T21:04:17.498Z"
   },
   {
    "duration": 32,
    "start_time": "2021-10-01T21:04:17.527Z"
   },
   {
    "duration": 41,
    "start_time": "2021-10-01T21:04:17.560Z"
   },
   {
    "duration": 279,
    "start_time": "2021-10-01T21:04:17.602Z"
   },
   {
    "duration": 254,
    "start_time": "2021-10-01T21:04:17.882Z"
   },
   {
    "duration": 248,
    "start_time": "2021-10-01T21:04:18.137Z"
   },
   {
    "duration": 3,
    "start_time": "2021-10-01T21:04:18.387Z"
   },
   {
    "duration": 360,
    "start_time": "2021-10-01T21:04:18.391Z"
   },
   {
    "duration": 14,
    "start_time": "2021-10-01T21:04:18.753Z"
   },
   {
    "duration": 52,
    "start_time": "2021-10-01T21:04:18.769Z"
   },
   {
    "duration": 21,
    "start_time": "2021-10-01T21:04:18.822Z"
   },
   {
    "duration": 441,
    "start_time": "2021-10-01T21:04:18.845Z"
   },
   {
    "duration": 261,
    "start_time": "2021-10-01T21:04:19.287Z"
   },
   {
    "duration": 8,
    "start_time": "2021-10-01T21:04:19.550Z"
   },
   {
    "duration": 29,
    "start_time": "2021-10-01T21:04:19.560Z"
   },
   {
    "duration": 34,
    "start_time": "2021-10-01T21:04:19.590Z"
   },
   {
    "duration": 395,
    "start_time": "2021-10-01T21:04:19.626Z"
   },
   {
    "duration": 249,
    "start_time": "2021-10-01T21:04:20.022Z"
   },
   {
    "duration": 9,
    "start_time": "2021-10-01T21:04:20.272Z"
   },
   {
    "duration": 38,
    "start_time": "2021-10-01T21:04:20.283Z"
   },
   {
    "duration": 34,
    "start_time": "2021-10-01T21:04:20.323Z"
   },
   {
    "duration": 414,
    "start_time": "2021-10-01T21:04:20.359Z"
   },
   {
    "duration": 258,
    "start_time": "2021-10-01T21:04:20.779Z"
   },
   {
    "duration": 13,
    "start_time": "2021-10-01T21:04:21.039Z"
   },
   {
    "duration": 37,
    "start_time": "2021-10-01T21:04:21.054Z"
   },
   {
    "duration": 55,
    "start_time": "2021-10-01T21:04:21.093Z"
   },
   {
    "duration": 12,
    "start_time": "2021-10-01T21:04:21.150Z"
   },
   {
    "duration": 33,
    "start_time": "2021-10-01T21:04:21.164Z"
   },
   {
    "duration": 51,
    "start_time": "2021-10-01T21:04:21.198Z"
   },
   {
    "duration": 32,
    "start_time": "2021-10-01T21:04:21.250Z"
   },
   {
    "duration": 44,
    "start_time": "2021-10-01T21:04:21.283Z"
   },
   {
    "duration": 24,
    "start_time": "2021-10-01T21:04:21.329Z"
   },
   {
    "duration": 26,
    "start_time": "2021-10-01T21:04:21.355Z"
   },
   {
    "duration": 39,
    "start_time": "2021-10-01T21:04:21.382Z"
   },
   {
    "duration": 25,
    "start_time": "2021-10-01T21:04:21.423Z"
   },
   {
    "duration": 31,
    "start_time": "2021-10-01T21:04:21.450Z"
   },
   {
    "duration": 15,
    "start_time": "2021-10-01T21:04:21.483Z"
   },
   {
    "duration": 32,
    "start_time": "2021-10-01T21:04:21.499Z"
   },
   {
    "duration": 29,
    "start_time": "2021-10-01T21:04:21.532Z"
   },
   {
    "duration": 30,
    "start_time": "2021-10-01T21:04:21.563Z"
   },
   {
    "duration": 10,
    "start_time": "2021-10-01T21:04:21.595Z"
   },
   {
    "duration": 21,
    "start_time": "2021-10-01T21:04:21.607Z"
   },
   {
    "duration": 15,
    "start_time": "2021-10-01T21:04:21.630Z"
   },
   {
    "duration": 43,
    "start_time": "2021-10-01T21:04:21.647Z"
   },
   {
    "duration": 1194,
    "start_time": "2021-10-02T14:16:13.053Z"
   },
   {
    "duration": 1697,
    "start_time": "2021-10-02T14:16:14.249Z"
   },
   {
    "duration": 17,
    "start_time": "2021-10-02T14:16:15.948Z"
   },
   {
    "duration": 29,
    "start_time": "2021-10-02T14:16:15.967Z"
   },
   {
    "duration": 20,
    "start_time": "2021-10-02T14:16:15.997Z"
   },
   {
    "duration": 118,
    "start_time": "2021-10-02T14:16:16.019Z"
   },
   {
    "duration": 12,
    "start_time": "2021-10-02T14:16:16.138Z"
   },
   {
    "duration": 40,
    "start_time": "2021-10-02T14:16:16.153Z"
   },
   {
    "duration": 17,
    "start_time": "2021-10-02T14:16:16.196Z"
   },
   {
    "duration": 83,
    "start_time": "2021-10-02T14:16:16.214Z"
   },
   {
    "duration": 7,
    "start_time": "2021-10-02T14:16:16.299Z"
   },
   {
    "duration": 17,
    "start_time": "2021-10-02T14:16:16.307Z"
   },
   {
    "duration": 62,
    "start_time": "2021-10-02T14:16:16.326Z"
   },
   {
    "duration": 7,
    "start_time": "2021-10-02T14:16:16.390Z"
   },
   {
    "duration": 7,
    "start_time": "2021-10-02T14:16:16.399Z"
   },
   {
    "duration": 12,
    "start_time": "2021-10-02T14:16:16.408Z"
   },
   {
    "duration": 14,
    "start_time": "2021-10-02T14:16:16.422Z"
   },
   {
    "duration": 6,
    "start_time": "2021-10-02T14:16:16.437Z"
   },
   {
    "duration": 7,
    "start_time": "2021-10-02T14:16:16.476Z"
   },
   {
    "duration": 31,
    "start_time": "2021-10-02T14:16:16.485Z"
   },
   {
    "duration": 5,
    "start_time": "2021-10-02T14:16:16.518Z"
   },
   {
    "duration": 22,
    "start_time": "2021-10-02T14:16:16.524Z"
   },
   {
    "duration": 27,
    "start_time": "2021-10-02T14:16:16.550Z"
   },
   {
    "duration": 20,
    "start_time": "2021-10-02T14:16:16.579Z"
   },
   {
    "duration": 6,
    "start_time": "2021-10-02T14:16:16.600Z"
   },
   {
    "duration": 6,
    "start_time": "2021-10-02T14:16:16.607Z"
   },
   {
    "duration": 887,
    "start_time": "2021-10-02T14:16:16.614Z"
   },
   {
    "duration": 657,
    "start_time": "2021-10-02T14:16:17.502Z"
   },
   {
    "duration": 540,
    "start_time": "2021-10-02T14:16:18.161Z"
   },
   {
    "duration": 98,
    "start_time": "2021-10-02T14:16:18.703Z"
   },
   {
    "duration": 3,
    "start_time": "2021-10-02T14:16:18.803Z"
   },
   {
    "duration": 16,
    "start_time": "2021-10-02T14:16:18.807Z"
   },
   {
    "duration": 52,
    "start_time": "2021-10-02T14:16:18.824Z"
   },
   {
    "duration": 3,
    "start_time": "2021-10-02T14:16:18.878Z"
   },
   {
    "duration": 14,
    "start_time": "2021-10-02T14:16:18.883Z"
   },
   {
    "duration": 60,
    "start_time": "2021-10-02T14:16:18.898Z"
   },
   {
    "duration": 11,
    "start_time": "2021-10-02T14:16:18.960Z"
   },
   {
    "duration": 26,
    "start_time": "2021-10-02T14:16:18.976Z"
   },
   {
    "duration": 10,
    "start_time": "2021-10-02T14:16:19.004Z"
   },
   {
    "duration": 48,
    "start_time": "2021-10-02T14:16:19.015Z"
   },
   {
    "duration": 23,
    "start_time": "2021-10-02T14:16:19.064Z"
   },
   {
    "duration": 6,
    "start_time": "2021-10-02T14:16:19.088Z"
   },
   {
    "duration": 10,
    "start_time": "2021-10-02T14:16:19.096Z"
   },
   {
    "duration": 7,
    "start_time": "2021-10-02T14:16:19.108Z"
   },
   {
    "duration": 8,
    "start_time": "2021-10-02T14:16:19.117Z"
   },
   {
    "duration": 4,
    "start_time": "2021-10-02T14:16:19.127Z"
   },
   {
    "duration": 5,
    "start_time": "2021-10-02T14:16:19.133Z"
   },
   {
    "duration": 4,
    "start_time": "2021-10-02T14:16:19.140Z"
   },
   {
    "duration": 275,
    "start_time": "2021-10-02T14:16:19.177Z"
   },
   {
    "duration": 267,
    "start_time": "2021-10-02T14:16:19.453Z"
   },
   {
    "duration": 266,
    "start_time": "2021-10-02T14:16:19.722Z"
   },
   {
    "duration": 3,
    "start_time": "2021-10-02T14:16:19.990Z"
   },
   {
    "duration": 369,
    "start_time": "2021-10-02T14:16:19.995Z"
   },
   {
    "duration": 22,
    "start_time": "2021-10-02T14:16:20.366Z"
   },
   {
    "duration": 21,
    "start_time": "2021-10-02T14:16:20.390Z"
   },
   {
    "duration": 4,
    "start_time": "2021-10-02T14:16:20.412Z"
   },
   {
    "duration": 789,
    "start_time": "2021-10-02T14:16:20.417Z"
   },
   {
    "duration": 285,
    "start_time": "2021-10-02T14:16:21.208Z"
   },
   {
    "duration": 10,
    "start_time": "2021-10-02T14:16:21.494Z"
   },
   {
    "duration": 8,
    "start_time": "2021-10-02T14:16:21.506Z"
   },
   {
    "duration": 14,
    "start_time": "2021-10-02T14:16:21.516Z"
   },
   {
    "duration": 434,
    "start_time": "2021-10-02T14:16:21.532Z"
   },
   {
    "duration": 267,
    "start_time": "2021-10-02T14:16:21.967Z"
   },
   {
    "duration": 10,
    "start_time": "2021-10-02T14:16:22.235Z"
   },
   {
    "duration": 10,
    "start_time": "2021-10-02T14:16:22.247Z"
   },
   {
    "duration": 17,
    "start_time": "2021-10-02T14:16:22.275Z"
   },
   {
    "duration": 524,
    "start_time": "2021-10-02T14:16:22.293Z"
   },
   {
    "duration": 272,
    "start_time": "2021-10-02T14:16:22.822Z"
   },
   {
    "duration": 10,
    "start_time": "2021-10-02T14:16:23.096Z"
   },
   {
    "duration": 9,
    "start_time": "2021-10-02T14:16:23.107Z"
   },
   {
    "duration": 14,
    "start_time": "2021-10-02T14:16:23.118Z"
   },
   {
    "duration": 4,
    "start_time": "2021-10-02T14:16:23.133Z"
   },
   {
    "duration": 40,
    "start_time": "2021-10-02T14:16:23.139Z"
   },
   {
    "duration": 7,
    "start_time": "2021-10-02T14:16:23.180Z"
   },
   {
    "duration": 7,
    "start_time": "2021-10-02T14:16:23.188Z"
   },
   {
    "duration": 6,
    "start_time": "2021-10-02T14:16:23.197Z"
   },
   {
    "duration": 15,
    "start_time": "2021-10-02T14:16:23.205Z"
   },
   {
    "duration": 5,
    "start_time": "2021-10-02T14:16:23.222Z"
   },
   {
    "duration": 16,
    "start_time": "2021-10-02T14:16:23.229Z"
   },
   {
    "duration": 4,
    "start_time": "2021-10-02T14:16:23.246Z"
   },
   {
    "duration": 40,
    "start_time": "2021-10-02T14:16:23.251Z"
   },
   {
    "duration": 7,
    "start_time": "2021-10-02T14:16:23.292Z"
   },
   {
    "duration": 8,
    "start_time": "2021-10-02T14:16:23.300Z"
   },
   {
    "duration": 8,
    "start_time": "2021-10-02T14:16:23.310Z"
   },
   {
    "duration": 7,
    "start_time": "2021-10-02T14:16:23.319Z"
   },
   {
    "duration": 3,
    "start_time": "2021-10-02T14:16:23.327Z"
   },
   {
    "duration": 11,
    "start_time": "2021-10-02T14:16:23.331Z"
   },
   {
    "duration": 36,
    "start_time": "2021-10-02T14:16:23.343Z"
   },
   {
    "duration": 22,
    "start_time": "2021-10-02T14:16:23.380Z"
   },
   {
    "duration": 70,
    "start_time": "2021-10-02T14:31:00.384Z"
   },
   {
    "duration": 99,
    "start_time": "2021-10-02T14:39:18.398Z"
   },
   {
    "duration": 210,
    "start_time": "2021-10-02T15:19:36.857Z"
   },
   {
    "duration": 1109,
    "start_time": "2021-10-02T15:19:50.156Z"
   },
   {
    "duration": 446,
    "start_time": "2021-10-02T15:19:51.266Z"
   },
   {
    "duration": 17,
    "start_time": "2021-10-02T15:19:51.715Z"
   },
   {
    "duration": 29,
    "start_time": "2021-10-02T15:19:51.733Z"
   },
   {
    "duration": 37,
    "start_time": "2021-10-02T15:19:51.763Z"
   },
   {
    "duration": 120,
    "start_time": "2021-10-02T15:19:51.803Z"
   },
   {
    "duration": 13,
    "start_time": "2021-10-02T15:19:51.925Z"
   },
   {
    "duration": 31,
    "start_time": "2021-10-02T15:19:51.941Z"
   },
   {
    "duration": 41,
    "start_time": "2021-10-02T15:19:51.974Z"
   },
   {
    "duration": 84,
    "start_time": "2021-10-02T15:19:52.017Z"
   },
   {
    "duration": 10,
    "start_time": "2021-10-02T15:19:52.104Z"
   },
   {
    "duration": 18,
    "start_time": "2021-10-02T15:19:52.116Z"
   },
   {
    "duration": 71,
    "start_time": "2021-10-02T15:19:52.136Z"
   },
   {
    "duration": 11,
    "start_time": "2021-10-02T15:19:52.209Z"
   },
   {
    "duration": 10,
    "start_time": "2021-10-02T15:19:52.221Z"
   },
   {
    "duration": 12,
    "start_time": "2021-10-02T15:19:52.233Z"
   },
   {
    "duration": 15,
    "start_time": "2021-10-02T15:19:52.247Z"
   },
   {
    "duration": 9,
    "start_time": "2021-10-02T15:19:52.301Z"
   },
   {
    "duration": 10,
    "start_time": "2021-10-02T15:19:52.313Z"
   },
   {
    "duration": 29,
    "start_time": "2021-10-02T15:19:52.325Z"
   },
   {
    "duration": 44,
    "start_time": "2021-10-02T15:19:52.356Z"
   },
   {
    "duration": 25,
    "start_time": "2021-10-02T15:19:52.402Z"
   },
   {
    "duration": 5,
    "start_time": "2021-10-02T15:19:52.431Z"
   },
   {
    "duration": 17,
    "start_time": "2021-10-02T15:19:52.438Z"
   },
   {
    "duration": 6,
    "start_time": "2021-10-02T15:19:52.457Z"
   },
   {
    "duration": 37,
    "start_time": "2021-10-02T15:19:52.464Z"
   },
   {
    "duration": 903,
    "start_time": "2021-10-02T15:19:52.503Z"
   },
   {
    "duration": 667,
    "start_time": "2021-10-02T15:19:53.409Z"
   },
   {
    "duration": 522,
    "start_time": "2021-10-02T15:19:54.077Z"
   },
   {
    "duration": 99,
    "start_time": "2021-10-02T15:19:54.601Z"
   },
   {
    "duration": 4,
    "start_time": "2021-10-02T15:19:54.702Z"
   },
   {
    "duration": 19,
    "start_time": "2021-10-02T15:19:54.708Z"
   },
   {
    "duration": 37,
    "start_time": "2021-10-02T15:19:54.729Z"
   },
   {
    "duration": 2,
    "start_time": "2021-10-02T15:19:54.768Z"
   },
   {
    "duration": 42,
    "start_time": "2021-10-02T15:19:54.772Z"
   },
   {
    "duration": 38,
    "start_time": "2021-10-02T15:19:54.816Z"
   },
   {
    "duration": 11,
    "start_time": "2021-10-02T15:19:54.856Z"
   },
   {
    "duration": 27,
    "start_time": "2021-10-02T15:19:54.900Z"
   },
   {
    "duration": 8,
    "start_time": "2021-10-02T15:19:54.929Z"
   },
   {
    "duration": 18,
    "start_time": "2021-10-02T15:19:54.939Z"
   },
   {
    "duration": 55,
    "start_time": "2021-10-02T15:19:54.959Z"
   },
   {
    "duration": 8,
    "start_time": "2021-10-02T15:19:55.016Z"
   },
   {
    "duration": 6,
    "start_time": "2021-10-02T15:19:55.026Z"
   },
   {
    "duration": 8,
    "start_time": "2021-10-02T15:19:55.034Z"
   },
   {
    "duration": 4,
    "start_time": "2021-10-02T15:19:55.044Z"
   },
   {
    "duration": 6,
    "start_time": "2021-10-02T15:19:55.049Z"
   },
   {
    "duration": 46,
    "start_time": "2021-10-02T15:19:55.056Z"
   },
   {
    "duration": 10,
    "start_time": "2021-10-02T15:19:55.104Z"
   },
   {
    "duration": 318,
    "start_time": "2021-10-02T15:19:55.117Z"
   },
   {
    "duration": 276,
    "start_time": "2021-10-02T15:19:55.437Z"
   },
   {
    "duration": 298,
    "start_time": "2021-10-02T15:19:55.715Z"
   },
   {
    "duration": 4,
    "start_time": "2021-10-02T15:19:56.015Z"
   },
   {
    "duration": 378,
    "start_time": "2021-10-02T15:19:56.021Z"
   },
   {
    "duration": 22,
    "start_time": "2021-10-02T15:19:56.402Z"
   },
   {
    "duration": 21,
    "start_time": "2021-10-02T15:19:56.426Z"
   },
   {
    "duration": 55,
    "start_time": "2021-10-02T15:19:56.448Z"
   },
   {
    "duration": 72,
    "start_time": "2021-10-02T15:19:56.506Z"
   },
   {
    "duration": 5,
    "start_time": "2021-10-02T15:19:56.600Z"
   },
   {
    "duration": 804,
    "start_time": "2021-10-02T15:19:56.608Z"
   },
   {
    "duration": 304,
    "start_time": "2021-10-02T15:19:57.415Z"
   },
   {
    "duration": 9,
    "start_time": "2021-10-02T15:19:57.721Z"
   },
   {
    "duration": 16,
    "start_time": "2021-10-02T15:19:57.732Z"
   },
   {
    "duration": 22,
    "start_time": "2021-10-02T15:19:57.749Z"
   },
   {
    "duration": 457,
    "start_time": "2021-10-02T15:19:57.772Z"
   },
   {
    "duration": 288,
    "start_time": "2021-10-02T15:19:58.231Z"
   },
   {
    "duration": 10,
    "start_time": "2021-10-02T15:19:58.521Z"
   },
   {
    "duration": 14,
    "start_time": "2021-10-02T15:19:58.533Z"
   },
   {
    "duration": 15,
    "start_time": "2021-10-02T15:19:58.551Z"
   },
   {
    "duration": 518,
    "start_time": "2021-10-02T15:19:58.599Z"
   },
   {
    "duration": 297,
    "start_time": "2021-10-02T15:19:59.119Z"
   },
   {
    "duration": 12,
    "start_time": "2021-10-02T15:19:59.418Z"
   },
   {
    "duration": 11,
    "start_time": "2021-10-02T15:19:59.433Z"
   },
   {
    "duration": 55,
    "start_time": "2021-10-02T15:19:59.446Z"
   },
   {
    "duration": 6,
    "start_time": "2021-10-02T15:19:59.503Z"
   },
   {
    "duration": 9,
    "start_time": "2021-10-02T15:19:59.512Z"
   },
   {
    "duration": 7,
    "start_time": "2021-10-02T15:19:59.523Z"
   },
   {
    "duration": 6,
    "start_time": "2021-10-02T15:19:59.532Z"
   },
   {
    "duration": 9,
    "start_time": "2021-10-02T15:19:59.539Z"
   },
   {
    "duration": 52,
    "start_time": "2021-10-02T15:19:59.549Z"
   },
   {
    "duration": 3,
    "start_time": "2021-10-02T15:19:59.604Z"
   },
   {
    "duration": 16,
    "start_time": "2021-10-02T15:19:59.610Z"
   },
   {
    "duration": 4,
    "start_time": "2021-10-02T15:19:59.629Z"
   },
   {
    "duration": 19,
    "start_time": "2021-10-02T15:19:59.634Z"
   },
   {
    "duration": 51,
    "start_time": "2021-10-02T15:19:59.654Z"
   },
   {
    "duration": 10,
    "start_time": "2021-10-02T15:19:59.708Z"
   },
   {
    "duration": 10,
    "start_time": "2021-10-02T15:19:59.720Z"
   },
   {
    "duration": 9,
    "start_time": "2021-10-02T15:19:59.732Z"
   },
   {
    "duration": 3,
    "start_time": "2021-10-02T15:19:59.743Z"
   },
   {
    "duration": 53,
    "start_time": "2021-10-02T15:19:59.747Z"
   },
   {
    "duration": 5,
    "start_time": "2021-10-02T15:19:59.802Z"
   },
   {
    "duration": 28,
    "start_time": "2021-10-02T15:19:59.809Z"
   },
   {
    "duration": 23,
    "start_time": "2021-10-02T15:20:55.725Z"
   },
   {
    "duration": 61,
    "start_time": "2021-10-02T15:39:18.339Z"
   },
   {
    "duration": 68,
    "start_time": "2021-10-02T15:39:32.372Z"
   },
   {
    "duration": 857,
    "start_time": "2021-10-02T15:39:46.088Z"
   },
   {
    "duration": 3,
    "start_time": "2021-10-02T15:40:08.331Z"
   },
   {
    "duration": 324,
    "start_time": "2021-10-02T15:41:17.412Z"
   },
   {
    "duration": 25,
    "start_time": "2021-10-02T15:41:22.667Z"
   },
   {
    "duration": 16,
    "start_time": "2021-10-02T15:41:36.466Z"
   },
   {
    "duration": 21,
    "start_time": "2021-10-02T15:41:40.463Z"
   },
   {
    "duration": 19,
    "start_time": "2021-10-02T15:41:50.430Z"
   },
   {
    "duration": 5,
    "start_time": "2021-10-02T16:19:06.288Z"
   },
   {
    "duration": 301,
    "start_time": "2021-10-02T16:19:40.679Z"
   },
   {
    "duration": 24,
    "start_time": "2021-10-02T16:19:48.321Z"
   },
   {
    "duration": 268,
    "start_time": "2021-10-02T16:20:18.761Z"
   },
   {
    "duration": 28,
    "start_time": "2021-10-02T16:20:23.191Z"
   },
   {
    "duration": 1106,
    "start_time": "2021-10-02T16:21:52.338Z"
   },
   {
    "duration": 394,
    "start_time": "2021-10-02T16:21:53.446Z"
   },
   {
    "duration": 15,
    "start_time": "2021-10-02T16:21:53.842Z"
   },
   {
    "duration": 27,
    "start_time": "2021-10-02T16:21:53.859Z"
   },
   {
    "duration": 19,
    "start_time": "2021-10-02T16:21:53.888Z"
   },
   {
    "duration": 109,
    "start_time": "2021-10-02T16:21:53.908Z"
   },
   {
    "duration": 12,
    "start_time": "2021-10-02T16:21:54.019Z"
   },
   {
    "duration": 27,
    "start_time": "2021-10-02T16:21:54.033Z"
   },
   {
    "duration": 37,
    "start_time": "2021-10-02T16:21:54.062Z"
   },
   {
    "duration": 61,
    "start_time": "2021-10-02T16:21:54.101Z"
   },
   {
    "duration": 8,
    "start_time": "2021-10-02T16:21:54.164Z"
   },
   {
    "duration": 35,
    "start_time": "2021-10-02T16:21:54.173Z"
   },
   {
    "duration": 44,
    "start_time": "2021-10-02T16:21:54.210Z"
   },
   {
    "duration": 8,
    "start_time": "2021-10-02T16:21:54.256Z"
   },
   {
    "duration": 8,
    "start_time": "2021-10-02T16:21:54.265Z"
   },
   {
    "duration": 34,
    "start_time": "2021-10-02T16:21:54.274Z"
   },
   {
    "duration": 14,
    "start_time": "2021-10-02T16:21:54.310Z"
   },
   {
    "duration": 5,
    "start_time": "2021-10-02T16:21:54.326Z"
   },
   {
    "duration": 6,
    "start_time": "2021-10-02T16:21:54.333Z"
   },
   {
    "duration": 59,
    "start_time": "2021-10-02T16:21:54.341Z"
   },
   {
    "duration": 5,
    "start_time": "2021-10-02T16:21:54.402Z"
   },
   {
    "duration": 23,
    "start_time": "2021-10-02T16:21:54.409Z"
   },
   {
    "duration": 4,
    "start_time": "2021-10-02T16:21:54.436Z"
   },
   {
    "duration": 18,
    "start_time": "2021-10-02T16:21:54.443Z"
   },
   {
    "duration": 38,
    "start_time": "2021-10-02T16:21:54.462Z"
   },
   {
    "duration": 6,
    "start_time": "2021-10-02T16:21:54.502Z"
   },
   {
    "duration": 843,
    "start_time": "2021-10-02T16:21:54.510Z"
   },
   {
    "duration": 605,
    "start_time": "2021-10-02T16:21:55.355Z"
   },
   {
    "duration": 505,
    "start_time": "2021-10-02T16:21:55.962Z"
   },
   {
    "duration": 96,
    "start_time": "2021-10-02T16:21:56.469Z"
   },
   {
    "duration": 2,
    "start_time": "2021-10-02T16:21:56.567Z"
   },
   {
    "duration": 30,
    "start_time": "2021-10-02T16:21:56.571Z"
   },
   {
    "duration": 37,
    "start_time": "2021-10-02T16:21:56.603Z"
   },
   {
    "duration": 2,
    "start_time": "2021-10-02T16:21:56.642Z"
   },
   {
    "duration": 13,
    "start_time": "2021-10-02T16:21:56.646Z"
   },
   {
    "duration": 58,
    "start_time": "2021-10-02T16:21:56.661Z"
   },
   {
    "duration": 11,
    "start_time": "2021-10-02T16:21:56.721Z"
   },
   {
    "duration": 22,
    "start_time": "2021-10-02T16:21:56.733Z"
   },
   {
    "duration": 9,
    "start_time": "2021-10-02T16:21:56.757Z"
   },
   {
    "duration": 41,
    "start_time": "2021-10-02T16:21:56.768Z"
   },
   {
    "duration": 18,
    "start_time": "2021-10-02T16:21:56.810Z"
   },
   {
    "duration": 5,
    "start_time": "2021-10-02T16:21:56.830Z"
   },
   {
    "duration": 4,
    "start_time": "2021-10-02T16:21:56.837Z"
   },
   {
    "duration": 6,
    "start_time": "2021-10-02T16:21:56.843Z"
   },
   {
    "duration": 4,
    "start_time": "2021-10-02T16:21:56.851Z"
   },
   {
    "duration": 5,
    "start_time": "2021-10-02T16:21:56.856Z"
   },
   {
    "duration": 262,
    "start_time": "2021-10-02T16:21:56.900Z"
   },
   {
    "duration": 21,
    "start_time": "2021-10-02T16:21:57.164Z"
   },
   {
    "duration": 3,
    "start_time": "2021-10-02T16:21:57.186Z"
   },
   {
    "duration": 5,
    "start_time": "2021-10-02T16:21:57.200Z"
   },
   {
    "duration": 7,
    "start_time": "2021-10-02T16:21:57.206Z"
   },
   {
    "duration": 271,
    "start_time": "2021-10-02T16:21:57.214Z"
   },
   {
    "duration": 260,
    "start_time": "2021-10-02T16:21:57.487Z"
   },
   {
    "duration": 323,
    "start_time": "2021-10-02T16:21:57.749Z"
   },
   {
    "duration": 4,
    "start_time": "2021-10-02T16:21:58.073Z"
   },
   {
    "duration": 313,
    "start_time": "2021-10-02T16:21:58.079Z"
   },
   {
    "duration": 18,
    "start_time": "2021-10-02T16:21:58.394Z"
   },
   {
    "duration": 21,
    "start_time": "2021-10-02T16:21:58.414Z"
   },
   {
    "duration": 88,
    "start_time": "2021-10-02T16:21:58.436Z"
   },
   {
    "duration": 5,
    "start_time": "2021-10-02T16:21:58.526Z"
   },
   {
    "duration": 494,
    "start_time": "2021-10-02T16:21:58.533Z"
   },
   {
    "duration": 290,
    "start_time": "2021-10-02T16:21:59.029Z"
   },
   {
    "duration": 11,
    "start_time": "2021-10-02T16:21:59.320Z"
   },
   {
    "duration": 10,
    "start_time": "2021-10-02T16:21:59.333Z"
   },
   {
    "duration": 14,
    "start_time": "2021-10-02T16:21:59.345Z"
   },
   {
    "duration": 466,
    "start_time": "2021-10-02T16:21:59.361Z"
   },
   {
    "duration": 284,
    "start_time": "2021-10-02T16:21:59.829Z"
   },
   {
    "duration": 10,
    "start_time": "2021-10-02T16:22:00.119Z"
   },
   {
    "duration": 10,
    "start_time": "2021-10-02T16:22:00.131Z"
   },
   {
    "duration": 23,
    "start_time": "2021-10-02T16:22:00.142Z"
   },
   {
    "duration": 487,
    "start_time": "2021-10-02T16:22:00.167Z"
   },
   {
    "duration": 280,
    "start_time": "2021-10-02T16:22:00.656Z"
   },
   {
    "duration": 10,
    "start_time": "2021-10-02T16:22:00.938Z"
   },
   {
    "duration": 11,
    "start_time": "2021-10-02T16:22:00.950Z"
   },
   {
    "duration": 97,
    "start_time": "2021-10-02T16:22:00.963Z"
   },
   {
    "duration": 4,
    "start_time": "2021-10-02T16:22:01.062Z"
   },
   {
    "duration": 13,
    "start_time": "2021-10-02T16:22:01.068Z"
   },
   {
    "duration": 20,
    "start_time": "2021-10-02T16:22:01.083Z"
   },
   {
    "duration": 7,
    "start_time": "2021-10-02T16:22:01.104Z"
   },
   {
    "duration": 16,
    "start_time": "2021-10-02T16:22:01.112Z"
   },
   {
    "duration": 13,
    "start_time": "2021-10-02T16:22:01.129Z"
   },
   {
    "duration": 4,
    "start_time": "2021-10-02T16:22:01.144Z"
   },
   {
    "duration": 15,
    "start_time": "2021-10-02T16:22:01.150Z"
   },
   {
    "duration": 9,
    "start_time": "2021-10-02T16:22:01.167Z"
   },
   {
    "duration": 37,
    "start_time": "2021-10-02T16:22:01.178Z"
   },
   {
    "duration": 9,
    "start_time": "2021-10-02T16:22:01.217Z"
   },
   {
    "duration": 12,
    "start_time": "2021-10-02T16:22:01.228Z"
   },
   {
    "duration": 31,
    "start_time": "2021-10-02T16:22:01.241Z"
   },
   {
    "duration": 9,
    "start_time": "2021-10-02T16:22:01.274Z"
   },
   {
    "duration": 11,
    "start_time": "2021-10-02T16:22:01.285Z"
   },
   {
    "duration": 15,
    "start_time": "2021-10-02T16:22:01.298Z"
   },
   {
    "duration": 4,
    "start_time": "2021-10-02T16:22:01.315Z"
   },
   {
    "duration": 31,
    "start_time": "2021-10-02T16:22:01.320Z"
   },
   {
    "duration": 1160,
    "start_time": "2021-10-02T16:22:56.666Z"
   },
   {
    "duration": 383,
    "start_time": "2021-10-02T16:22:57.828Z"
   },
   {
    "duration": 16,
    "start_time": "2021-10-02T16:22:58.213Z"
   },
   {
    "duration": 28,
    "start_time": "2021-10-02T16:22:58.230Z"
   },
   {
    "duration": 19,
    "start_time": "2021-10-02T16:22:58.259Z"
   },
   {
    "duration": 96,
    "start_time": "2021-10-02T16:22:58.279Z"
   },
   {
    "duration": 11,
    "start_time": "2021-10-02T16:22:58.377Z"
   },
   {
    "duration": 31,
    "start_time": "2021-10-02T16:22:58.391Z"
   },
   {
    "duration": 17,
    "start_time": "2021-10-02T16:22:58.424Z"
   },
   {
    "duration": 65,
    "start_time": "2021-10-02T16:22:58.443Z"
   },
   {
    "duration": 7,
    "start_time": "2021-10-02T16:22:58.510Z"
   },
   {
    "duration": 17,
    "start_time": "2021-10-02T16:22:58.518Z"
   },
   {
    "duration": 41,
    "start_time": "2021-10-02T16:22:58.537Z"
   },
   {
    "duration": 8,
    "start_time": "2021-10-02T16:22:58.580Z"
   },
   {
    "duration": 13,
    "start_time": "2021-10-02T16:22:58.589Z"
   },
   {
    "duration": 10,
    "start_time": "2021-10-02T16:22:58.604Z"
   },
   {
    "duration": 20,
    "start_time": "2021-10-02T16:22:58.615Z"
   },
   {
    "duration": 6,
    "start_time": "2021-10-02T16:22:58.637Z"
   },
   {
    "duration": 58,
    "start_time": "2021-10-02T16:22:58.645Z"
   },
   {
    "duration": 27,
    "start_time": "2021-10-02T16:22:58.705Z"
   },
   {
    "duration": 4,
    "start_time": "2021-10-02T16:22:58.734Z"
   },
   {
    "duration": 74,
    "start_time": "2021-10-02T16:22:58.740Z"
   },
   {
    "duration": 5,
    "start_time": "2021-10-02T16:22:58.817Z"
   },
   {
    "duration": 19,
    "start_time": "2021-10-02T16:22:58.824Z"
   },
   {
    "duration": 56,
    "start_time": "2021-10-02T16:22:58.845Z"
   },
   {
    "duration": 6,
    "start_time": "2021-10-02T16:22:58.903Z"
   },
   {
    "duration": 978,
    "start_time": "2021-10-02T16:22:58.910Z"
   },
   {
    "duration": 628,
    "start_time": "2021-10-02T16:22:59.889Z"
   },
   {
    "duration": 509,
    "start_time": "2021-10-02T16:23:00.518Z"
   },
   {
    "duration": 98,
    "start_time": "2021-10-02T16:23:01.029Z"
   },
   {
    "duration": 2,
    "start_time": "2021-10-02T16:23:01.129Z"
   },
   {
    "duration": 17,
    "start_time": "2021-10-02T16:23:01.133Z"
   },
   {
    "duration": 48,
    "start_time": "2021-10-02T16:23:01.152Z"
   },
   {
    "duration": 2,
    "start_time": "2021-10-02T16:23:01.202Z"
   },
   {
    "duration": 16,
    "start_time": "2021-10-02T16:23:01.206Z"
   },
   {
    "duration": 53,
    "start_time": "2021-10-02T16:23:01.224Z"
   },
   {
    "duration": 11,
    "start_time": "2021-10-02T16:23:01.279Z"
   },
   {
    "duration": 31,
    "start_time": "2021-10-02T16:23:01.292Z"
   },
   {
    "duration": 8,
    "start_time": "2021-10-02T16:23:01.324Z"
   },
   {
    "duration": 24,
    "start_time": "2021-10-02T16:23:01.334Z"
   },
   {
    "duration": 20,
    "start_time": "2021-10-02T16:23:01.360Z"
   },
   {
    "duration": 23,
    "start_time": "2021-10-02T16:23:01.382Z"
   },
   {
    "duration": 13,
    "start_time": "2021-10-02T16:23:01.406Z"
   },
   {
    "duration": 16,
    "start_time": "2021-10-02T16:23:01.421Z"
   },
   {
    "duration": 12,
    "start_time": "2021-10-02T16:23:01.438Z"
   },
   {
    "duration": 7,
    "start_time": "2021-10-02T16:23:01.452Z"
   },
   {
    "duration": 608,
    "start_time": "2021-10-02T16:23:01.461Z"
   },
   {
    "duration": 1129,
    "start_time": "2021-10-02T16:23:00.943Z"
   },
   {
    "duration": 1122,
    "start_time": "2021-10-02T16:23:00.950Z"
   },
   {
    "duration": 1116,
    "start_time": "2021-10-02T16:23:00.957Z"
   },
   {
    "duration": 1111,
    "start_time": "2021-10-02T16:23:00.963Z"
   },
   {
    "duration": 1103,
    "start_time": "2021-10-02T16:23:00.972Z"
   },
   {
    "duration": 1097,
    "start_time": "2021-10-02T16:23:00.979Z"
   },
   {
    "duration": 1090,
    "start_time": "2021-10-02T16:23:00.987Z"
   },
   {
    "duration": 1085,
    "start_time": "2021-10-02T16:23:00.993Z"
   },
   {
    "duration": 1080,
    "start_time": "2021-10-02T16:23:00.999Z"
   },
   {
    "duration": 1075,
    "start_time": "2021-10-02T16:23:01.005Z"
   },
   {
    "duration": 1070,
    "start_time": "2021-10-02T16:23:01.011Z"
   },
   {
    "duration": 1066,
    "start_time": "2021-10-02T16:23:01.016Z"
   },
   {
    "duration": 1057,
    "start_time": "2021-10-02T16:23:01.026Z"
   },
   {
    "duration": 1052,
    "start_time": "2021-10-02T16:23:01.032Z"
   },
   {
    "duration": 1013,
    "start_time": "2021-10-02T16:23:01.072Z"
   },
   {
    "duration": 1006,
    "start_time": "2021-10-02T16:23:01.080Z"
   },
   {
    "duration": 998,
    "start_time": "2021-10-02T16:23:01.089Z"
   },
   {
    "duration": 992,
    "start_time": "2021-10-02T16:23:01.096Z"
   },
   {
    "duration": 986,
    "start_time": "2021-10-02T16:23:01.103Z"
   },
   {
    "duration": 981,
    "start_time": "2021-10-02T16:23:01.109Z"
   },
   {
    "duration": 976,
    "start_time": "2021-10-02T16:23:01.115Z"
   },
   {
    "duration": 968,
    "start_time": "2021-10-02T16:23:01.124Z"
   },
   {
    "duration": 957,
    "start_time": "2021-10-02T16:23:01.135Z"
   },
   {
    "duration": 951,
    "start_time": "2021-10-02T16:23:01.142Z"
   },
   {
    "duration": 945,
    "start_time": "2021-10-02T16:23:01.149Z"
   },
   {
    "duration": 939,
    "start_time": "2021-10-02T16:23:01.156Z"
   },
   {
    "duration": 933,
    "start_time": "2021-10-02T16:23:01.163Z"
   },
   {
    "duration": 919,
    "start_time": "2021-10-02T16:23:01.178Z"
   },
   {
    "duration": 913,
    "start_time": "2021-10-02T16:23:01.185Z"
   },
   {
    "duration": 907,
    "start_time": "2021-10-02T16:23:01.192Z"
   },
   {
    "duration": 902,
    "start_time": "2021-10-02T16:23:01.198Z"
   },
   {
    "duration": 896,
    "start_time": "2021-10-02T16:23:01.205Z"
   },
   {
    "duration": 890,
    "start_time": "2021-10-02T16:23:01.212Z"
   },
   {
    "duration": 885,
    "start_time": "2021-10-02T16:23:01.218Z"
   },
   {
    "duration": 880,
    "start_time": "2021-10-02T16:23:01.224Z"
   },
   {
    "duration": 874,
    "start_time": "2021-10-02T16:23:01.230Z"
   },
   {
    "duration": 869,
    "start_time": "2021-10-02T16:23:01.236Z"
   },
   {
    "duration": 865,
    "start_time": "2021-10-02T16:23:01.241Z"
   },
   {
    "duration": 860,
    "start_time": "2021-10-02T16:23:01.247Z"
   },
   {
    "duration": 855,
    "start_time": "2021-10-02T16:23:01.253Z"
   },
   {
    "duration": 850,
    "start_time": "2021-10-02T16:23:01.259Z"
   },
   {
    "duration": 844,
    "start_time": "2021-10-02T16:23:01.266Z"
   },
   {
    "duration": 836,
    "start_time": "2021-10-02T16:23:01.274Z"
   },
   {
    "duration": 822,
    "start_time": "2021-10-02T16:23:01.289Z"
   },
   {
    "duration": 816,
    "start_time": "2021-10-02T16:23:01.296Z"
   },
   {
    "duration": 809,
    "start_time": "2021-10-02T16:23:01.304Z"
   },
   {
    "duration": 4663,
    "start_time": "2021-10-02T16:23:39.740Z"
   },
   {
    "duration": 5264,
    "start_time": "2021-10-02T16:23:50.719Z"
   },
   {
    "duration": 287,
    "start_time": "2021-10-02T16:24:02.245Z"
   },
   {
    "duration": 23,
    "start_time": "2021-10-02T16:24:03.536Z"
   },
   {
    "duration": 4755,
    "start_time": "2021-10-02T16:30:05.328Z"
   },
   {
    "duration": 5338,
    "start_time": "2021-10-02T16:30:35.795Z"
   },
   {
    "duration": 1169,
    "start_time": "2021-10-02T16:33:39.182Z"
   },
   {
    "duration": 4997,
    "start_time": "2021-10-02T16:33:45.860Z"
   },
   {
    "duration": 204,
    "start_time": "2021-10-02T16:37:15.458Z"
   },
   {
    "duration": 11,
    "start_time": "2021-10-02T16:37:24.443Z"
   },
   {
    "duration": 9,
    "start_time": "2021-10-02T16:37:55.552Z"
   },
   {
    "duration": 223,
    "start_time": "2021-10-02T16:38:24.248Z"
   },
   {
    "duration": 5319,
    "start_time": "2021-10-02T16:39:02.236Z"
   },
   {
    "duration": 187,
    "start_time": "2021-10-02T16:39:15.871Z"
   },
   {
    "duration": 204,
    "start_time": "2021-10-02T16:39:43.076Z"
   },
   {
    "duration": 1221,
    "start_time": "2021-10-02T16:40:20.819Z"
   },
   {
    "duration": 1444,
    "start_time": "2021-10-02T16:40:44.083Z"
   },
   {
    "duration": 4843,
    "start_time": "2021-10-02T16:40:50.088Z"
   },
   {
    "duration": 4508,
    "start_time": "2021-10-02T16:41:14.083Z"
   },
   {
    "duration": 5,
    "start_time": "2021-10-02T16:44:24.595Z"
   },
   {
    "duration": 172,
    "start_time": "2021-10-02T16:45:03.389Z"
   },
   {
    "duration": 8,
    "start_time": "2021-10-02T16:45:11.192Z"
   },
   {
    "duration": 5,
    "start_time": "2021-10-02T16:45:15.558Z"
   },
   {
    "duration": 5,
    "start_time": "2021-10-02T16:45:39.811Z"
   },
   {
    "duration": 4,
    "start_time": "2021-10-02T16:45:47.659Z"
   },
   {
    "duration": 4,
    "start_time": "2021-10-02T16:46:44.578Z"
   },
   {
    "duration": 4,
    "start_time": "2021-10-02T16:47:33.903Z"
   },
   {
    "duration": 6,
    "start_time": "2021-10-02T16:49:10.461Z"
   },
   {
    "duration": 4,
    "start_time": "2021-10-02T16:52:14.174Z"
   },
   {
    "duration": 5,
    "start_time": "2021-10-02T16:53:16.386Z"
   },
   {
    "duration": 4,
    "start_time": "2021-10-02T16:54:32.875Z"
   },
   {
    "duration": 8,
    "start_time": "2021-10-02T16:55:15.583Z"
   },
   {
    "duration": 179,
    "start_time": "2021-10-02T16:55:40.811Z"
   },
   {
    "duration": 346,
    "start_time": "2021-10-02T16:55:59.365Z"
   },
   {
    "duration": 8,
    "start_time": "2021-10-02T16:56:12.645Z"
   },
   {
    "duration": 252,
    "start_time": "2021-10-02T16:56:13.544Z"
   },
   {
    "duration": 341,
    "start_time": "2021-10-02T16:56:19.706Z"
   },
   {
    "duration": 1128,
    "start_time": "2021-10-02T16:56:37.942Z"
   },
   {
    "duration": 444,
    "start_time": "2021-10-02T16:56:39.072Z"
   },
   {
    "duration": 16,
    "start_time": "2021-10-02T16:56:39.521Z"
   },
   {
    "duration": 28,
    "start_time": "2021-10-02T16:56:39.538Z"
   },
   {
    "duration": 19,
    "start_time": "2021-10-02T16:56:39.568Z"
   },
   {
    "duration": 125,
    "start_time": "2021-10-02T16:56:39.589Z"
   },
   {
    "duration": 12,
    "start_time": "2021-10-02T16:56:39.718Z"
   },
   {
    "duration": 28,
    "start_time": "2021-10-02T16:56:39.732Z"
   },
   {
    "duration": 41,
    "start_time": "2021-10-02T16:56:39.761Z"
   },
   {
    "duration": 72,
    "start_time": "2021-10-02T16:56:39.803Z"
   },
   {
    "duration": 8,
    "start_time": "2021-10-02T16:56:39.877Z"
   },
   {
    "duration": 20,
    "start_time": "2021-10-02T16:56:39.900Z"
   },
   {
    "duration": 44,
    "start_time": "2021-10-02T16:56:39.922Z"
   },
   {
    "duration": 7,
    "start_time": "2021-10-02T16:56:39.968Z"
   },
   {
    "duration": 7,
    "start_time": "2021-10-02T16:56:40.000Z"
   },
   {
    "duration": 16,
    "start_time": "2021-10-02T16:56:40.009Z"
   },
   {
    "duration": 14,
    "start_time": "2021-10-02T16:56:40.027Z"
   },
   {
    "duration": 7,
    "start_time": "2021-10-02T16:56:40.043Z"
   },
   {
    "duration": 8,
    "start_time": "2021-10-02T16:56:40.052Z"
   },
   {
    "duration": 72,
    "start_time": "2021-10-02T16:56:40.061Z"
   },
   {
    "duration": 6,
    "start_time": "2021-10-02T16:56:40.134Z"
   },
   {
    "duration": 20,
    "start_time": "2021-10-02T16:56:40.145Z"
   },
   {
    "duration": 32,
    "start_time": "2021-10-02T16:56:40.168Z"
   },
   {
    "duration": 20,
    "start_time": "2021-10-02T16:56:40.202Z"
   },
   {
    "duration": 6,
    "start_time": "2021-10-02T16:56:40.224Z"
   },
   {
    "duration": 6,
    "start_time": "2021-10-02T16:56:40.232Z"
   },
   {
    "duration": 923,
    "start_time": "2021-10-02T16:56:40.240Z"
   },
   {
    "duration": 662,
    "start_time": "2021-10-02T16:56:41.165Z"
   },
   {
    "duration": 552,
    "start_time": "2021-10-02T16:56:41.829Z"
   },
   {
    "duration": 103,
    "start_time": "2021-10-02T16:56:42.382Z"
   },
   {
    "duration": 3,
    "start_time": "2021-10-02T16:56:42.487Z"
   },
   {
    "duration": 23,
    "start_time": "2021-10-02T16:56:42.491Z"
   },
   {
    "duration": 40,
    "start_time": "2021-10-02T16:56:42.516Z"
   },
   {
    "duration": 3,
    "start_time": "2021-10-02T16:56:42.557Z"
   },
   {
    "duration": 40,
    "start_time": "2021-10-02T16:56:42.561Z"
   },
   {
    "duration": 42,
    "start_time": "2021-10-02T16:56:42.604Z"
   },
   {
    "duration": 11,
    "start_time": "2021-10-02T16:56:42.648Z"
   },
   {
    "duration": 39,
    "start_time": "2021-10-02T16:56:42.660Z"
   },
   {
    "duration": 12,
    "start_time": "2021-10-02T16:56:42.701Z"
   },
   {
    "duration": 23,
    "start_time": "2021-10-02T16:56:42.715Z"
   },
   {
    "duration": 18,
    "start_time": "2021-10-02T16:56:42.739Z"
   },
   {
    "duration": 6,
    "start_time": "2021-10-02T16:56:42.758Z"
   },
   {
    "duration": 38,
    "start_time": "2021-10-02T16:56:42.765Z"
   },
   {
    "duration": 7,
    "start_time": "2021-10-02T16:56:42.805Z"
   },
   {
    "duration": 6,
    "start_time": "2021-10-02T16:56:42.814Z"
   },
   {
    "duration": 8,
    "start_time": "2021-10-02T16:56:42.822Z"
   },
   {
    "duration": 9,
    "start_time": "2021-10-02T16:56:42.831Z"
   },
   {
    "duration": 6,
    "start_time": "2021-10-02T16:56:42.842Z"
   },
   {
    "duration": 341,
    "start_time": "2021-10-02T16:56:42.850Z"
   },
   {
    "duration": 617,
    "start_time": "2021-10-02T16:56:42.577Z"
   },
   {
    "duration": 612,
    "start_time": "2021-10-02T16:56:42.583Z"
   },
   {
    "duration": 604,
    "start_time": "2021-10-02T16:56:42.591Z"
   },
   {
    "duration": 597,
    "start_time": "2021-10-02T16:56:42.599Z"
   },
   {
    "duration": 591,
    "start_time": "2021-10-02T16:56:42.606Z"
   },
   {
    "duration": 585,
    "start_time": "2021-10-02T16:56:42.613Z"
   },
   {
    "duration": 583,
    "start_time": "2021-10-02T16:56:42.617Z"
   },
   {
    "duration": 577,
    "start_time": "2021-10-02T16:56:42.624Z"
   },
   {
    "duration": 572,
    "start_time": "2021-10-02T16:56:42.630Z"
   },
   {
    "duration": 565,
    "start_time": "2021-10-02T16:56:42.638Z"
   },
   {
    "duration": 558,
    "start_time": "2021-10-02T16:56:42.645Z"
   },
   {
    "duration": 553,
    "start_time": "2021-10-02T16:56:42.651Z"
   },
   {
    "duration": 548,
    "start_time": "2021-10-02T16:56:42.657Z"
   },
   {
    "duration": 544,
    "start_time": "2021-10-02T16:56:42.662Z"
   },
   {
    "duration": 530,
    "start_time": "2021-10-02T16:56:42.677Z"
   },
   {
    "duration": 526,
    "start_time": "2021-10-02T16:56:42.682Z"
   },
   {
    "duration": 521,
    "start_time": "2021-10-02T16:56:42.688Z"
   },
   {
    "duration": 513,
    "start_time": "2021-10-02T16:56:42.696Z"
   },
   {
    "duration": 506,
    "start_time": "2021-10-02T16:56:42.704Z"
   },
   {
    "duration": 490,
    "start_time": "2021-10-02T16:56:42.721Z"
   },
   {
    "duration": 440,
    "start_time": "2021-10-02T16:56:42.773Z"
   },
   {
    "duration": 423,
    "start_time": "2021-10-02T16:56:42.791Z"
   },
   {
    "duration": 397,
    "start_time": "2021-10-02T16:56:42.819Z"
   },
   {
    "duration": 301,
    "start_time": "2021-10-02T16:56:42.916Z"
   },
   {
    "duration": 292,
    "start_time": "2021-10-02T16:56:42.926Z"
   },
   {
    "duration": 287,
    "start_time": "2021-10-02T16:56:42.933Z"
   },
   {
    "duration": 281,
    "start_time": "2021-10-02T16:56:42.940Z"
   },
   {
    "duration": 273,
    "start_time": "2021-10-02T16:56:42.949Z"
   },
   {
    "duration": 267,
    "start_time": "2021-10-02T16:56:42.956Z"
   },
   {
    "duration": 262,
    "start_time": "2021-10-02T16:56:42.963Z"
   },
   {
    "duration": 257,
    "start_time": "2021-10-02T16:56:42.969Z"
   },
   {
    "duration": 249,
    "start_time": "2021-10-02T16:56:42.978Z"
   },
   {
    "duration": 228,
    "start_time": "2021-10-02T16:56:43.000Z"
   },
   {
    "duration": 220,
    "start_time": "2021-10-02T16:56:43.009Z"
   },
   {
    "duration": 216,
    "start_time": "2021-10-02T16:56:43.014Z"
   },
   {
    "duration": 193,
    "start_time": "2021-10-02T16:56:43.038Z"
   },
   {
    "duration": 189,
    "start_time": "2021-10-02T16:56:43.043Z"
   },
   {
    "duration": 185,
    "start_time": "2021-10-02T16:56:43.049Z"
   },
   {
    "duration": 179,
    "start_time": "2021-10-02T16:56:43.056Z"
   },
   {
    "duration": 173,
    "start_time": "2021-10-02T16:56:43.063Z"
   },
   {
    "duration": 130,
    "start_time": "2021-10-02T16:56:43.107Z"
   },
   {
    "duration": 98,
    "start_time": "2021-10-02T16:56:43.140Z"
   },
   {
    "duration": 78,
    "start_time": "2021-10-02T16:56:43.161Z"
   },
   {
    "duration": 47,
    "start_time": "2021-10-02T16:56:43.193Z"
   },
   {
    "duration": 19,
    "start_time": "2021-10-02T16:56:43.222Z"
   },
   {
    "duration": 2,
    "start_time": "2021-10-02T16:56:43.240Z"
   },
   {
    "duration": 34,
    "start_time": "2021-10-02T16:56:43.267Z"
   },
   {
    "duration": 381,
    "start_time": "2021-10-02T16:57:18.826Z"
   },
   {
    "duration": 302,
    "start_time": "2021-10-02T16:58:36.251Z"
   },
   {
    "duration": 11,
    "start_time": "2021-10-02T17:01:12.270Z"
   },
   {
    "duration": 871,
    "start_time": "2021-10-02T17:01:14.078Z"
   },
   {
    "duration": 5,
    "start_time": "2021-10-02T17:01:39.081Z"
   },
   {
    "duration": 559,
    "start_time": "2021-10-02T17:01:40.154Z"
   },
   {
    "duration": 24,
    "start_time": "2021-10-02T17:01:47.129Z"
   },
   {
    "duration": 5,
    "start_time": "2021-10-02T17:04:29.321Z"
   },
   {
    "duration": 1298,
    "start_time": "2021-10-02T17:04:30.110Z"
   },
   {
    "duration": 5,
    "start_time": "2021-10-02T17:05:49.477Z"
   },
   {
    "duration": 428,
    "start_time": "2021-10-02T17:05:50.294Z"
   },
   {
    "duration": 5,
    "start_time": "2021-10-02T17:06:34.832Z"
   },
   {
    "duration": 553,
    "start_time": "2021-10-02T17:06:35.800Z"
   },
   {
    "duration": 7,
    "start_time": "2021-10-02T17:07:24.957Z"
   },
   {
    "duration": 529,
    "start_time": "2021-10-02T17:07:25.738Z"
   },
   {
    "duration": 23,
    "start_time": "2021-10-02T17:07:28.009Z"
   },
   {
    "duration": 7,
    "start_time": "2021-10-02T17:08:54.513Z"
   },
   {
    "duration": 373,
    "start_time": "2021-10-02T17:08:55.430Z"
   },
   {
    "duration": 179,
    "start_time": "2021-10-02T17:09:36.094Z"
   },
   {
    "duration": 5,
    "start_time": "2021-10-02T17:10:03.450Z"
   },
   {
    "duration": 540,
    "start_time": "2021-10-02T17:10:04.315Z"
   },
   {
    "duration": 22,
    "start_time": "2021-10-02T17:10:06.004Z"
   },
   {
    "duration": 1042,
    "start_time": "2021-10-02T17:10:35.857Z"
   },
   {
    "duration": 393,
    "start_time": "2021-10-02T17:10:36.902Z"
   },
   {
    "duration": 17,
    "start_time": "2021-10-02T17:10:37.297Z"
   },
   {
    "duration": 37,
    "start_time": "2021-10-02T17:10:37.316Z"
   },
   {
    "duration": 20,
    "start_time": "2021-10-02T17:10:37.354Z"
   },
   {
    "duration": 114,
    "start_time": "2021-10-02T17:10:37.376Z"
   },
   {
    "duration": 15,
    "start_time": "2021-10-02T17:10:37.492Z"
   },
   {
    "duration": 26,
    "start_time": "2021-10-02T17:10:37.509Z"
   },
   {
    "duration": 16,
    "start_time": "2021-10-02T17:10:37.537Z"
   },
   {
    "duration": 94,
    "start_time": "2021-10-02T17:10:37.555Z"
   },
   {
    "duration": 7,
    "start_time": "2021-10-02T17:10:37.651Z"
   },
   {
    "duration": 17,
    "start_time": "2021-10-02T17:10:37.659Z"
   },
   {
    "duration": 59,
    "start_time": "2021-10-02T17:10:37.678Z"
   },
   {
    "duration": 7,
    "start_time": "2021-10-02T17:10:37.739Z"
   },
   {
    "duration": 8,
    "start_time": "2021-10-02T17:10:37.748Z"
   },
   {
    "duration": 11,
    "start_time": "2021-10-02T17:10:37.758Z"
   },
   {
    "duration": 41,
    "start_time": "2021-10-02T17:10:37.770Z"
   },
   {
    "duration": 6,
    "start_time": "2021-10-02T17:10:37.812Z"
   },
   {
    "duration": 6,
    "start_time": "2021-10-02T17:10:37.820Z"
   },
   {
    "duration": 27,
    "start_time": "2021-10-02T17:10:37.828Z"
   },
   {
    "duration": 43,
    "start_time": "2021-10-02T17:10:37.856Z"
   },
   {
    "duration": 20,
    "start_time": "2021-10-02T17:10:37.901Z"
   },
   {
    "duration": 4,
    "start_time": "2021-10-02T17:10:37.924Z"
   },
   {
    "duration": 16,
    "start_time": "2021-10-02T17:10:37.931Z"
   },
   {
    "duration": 6,
    "start_time": "2021-10-02T17:10:37.948Z"
   },
   {
    "duration": 6,
    "start_time": "2021-10-02T17:10:37.955Z"
   },
   {
    "duration": 843,
    "start_time": "2021-10-02T17:10:37.962Z"
   },
   {
    "duration": 621,
    "start_time": "2021-10-02T17:10:38.807Z"
   },
   {
    "duration": 501,
    "start_time": "2021-10-02T17:10:39.430Z"
   },
   {
    "duration": 105,
    "start_time": "2021-10-02T17:10:39.932Z"
   },
   {
    "duration": 3,
    "start_time": "2021-10-02T17:10:40.039Z"
   },
   {
    "duration": 16,
    "start_time": "2021-10-02T17:10:40.043Z"
   },
   {
    "duration": 61,
    "start_time": "2021-10-02T17:10:40.060Z"
   },
   {
    "duration": 3,
    "start_time": "2021-10-02T17:10:40.123Z"
   },
   {
    "duration": 13,
    "start_time": "2021-10-02T17:10:40.128Z"
   },
   {
    "duration": 61,
    "start_time": "2021-10-02T17:10:40.143Z"
   },
   {
    "duration": 12,
    "start_time": "2021-10-02T17:10:40.206Z"
   },
   {
    "duration": 23,
    "start_time": "2021-10-02T17:10:40.220Z"
   },
   {
    "duration": 9,
    "start_time": "2021-10-02T17:10:40.244Z"
   },
   {
    "duration": 53,
    "start_time": "2021-10-02T17:10:40.255Z"
   },
   {
    "duration": 18,
    "start_time": "2021-10-02T17:10:40.309Z"
   },
   {
    "duration": 6,
    "start_time": "2021-10-02T17:10:40.329Z"
   },
   {
    "duration": 11,
    "start_time": "2021-10-02T17:10:40.336Z"
   },
   {
    "duration": 11,
    "start_time": "2021-10-02T17:10:40.348Z"
   },
   {
    "duration": 5,
    "start_time": "2021-10-02T17:10:40.361Z"
   },
   {
    "duration": 35,
    "start_time": "2021-10-02T17:10:40.368Z"
   },
   {
    "duration": 13,
    "start_time": "2021-10-02T17:10:40.405Z"
   },
   {
    "duration": 6,
    "start_time": "2021-10-02T17:10:40.419Z"
   },
   {
    "duration": 554,
    "start_time": "2021-10-02T17:10:40.426Z"
   },
   {
    "duration": 30,
    "start_time": "2021-10-02T17:10:40.982Z"
   },
   {
    "duration": 3,
    "start_time": "2021-10-02T17:10:41.013Z"
   },
   {
    "duration": 5,
    "start_time": "2021-10-02T17:10:41.018Z"
   },
   {
    "duration": 6,
    "start_time": "2021-10-02T17:10:41.025Z"
   },
   {
    "duration": 284,
    "start_time": "2021-10-02T17:10:41.032Z"
   },
   {
    "duration": 267,
    "start_time": "2021-10-02T17:10:41.318Z"
   },
   {
    "duration": 340,
    "start_time": "2021-10-02T17:10:41.587Z"
   },
   {
    "duration": 4,
    "start_time": "2021-10-02T17:10:41.928Z"
   },
   {
    "duration": 323,
    "start_time": "2021-10-02T17:10:41.933Z"
   },
   {
    "duration": 17,
    "start_time": "2021-10-02T17:10:42.257Z"
   },
   {
    "duration": 37,
    "start_time": "2021-10-02T17:10:42.276Z"
   },
   {
    "duration": 69,
    "start_time": "2021-10-02T17:10:42.314Z"
   },
   {
    "duration": 4,
    "start_time": "2021-10-02T17:10:42.400Z"
   },
   {
    "duration": 480,
    "start_time": "2021-10-02T17:10:42.405Z"
   },
   {
    "duration": 286,
    "start_time": "2021-10-02T17:10:42.886Z"
   },
   {
    "duration": 10,
    "start_time": "2021-10-02T17:10:43.175Z"
   },
   {
    "duration": 21,
    "start_time": "2021-10-02T17:10:43.187Z"
   },
   {
    "duration": 33,
    "start_time": "2021-10-02T17:10:43.210Z"
   },
   {
    "duration": 415,
    "start_time": "2021-10-02T17:10:43.248Z"
   },
   {
    "duration": 288,
    "start_time": "2021-10-02T17:10:43.665Z"
   },
   {
    "duration": 11,
    "start_time": "2021-10-02T17:10:43.954Z"
   },
   {
    "duration": 31,
    "start_time": "2021-10-02T17:10:43.967Z"
   },
   {
    "duration": 20,
    "start_time": "2021-10-02T17:10:44.001Z"
   },
   {
    "duration": 511,
    "start_time": "2021-10-02T17:10:44.023Z"
   },
   {
    "duration": 319,
    "start_time": "2021-10-02T17:10:44.537Z"
   },
   {
    "duration": 12,
    "start_time": "2021-10-02T17:10:44.858Z"
   },
   {
    "duration": 10,
    "start_time": "2021-10-02T17:10:44.871Z"
   },
   {
    "duration": 89,
    "start_time": "2021-10-02T17:10:44.900Z"
   },
   {
    "duration": 13,
    "start_time": "2021-10-02T17:10:44.990Z"
   },
   {
    "duration": 18,
    "start_time": "2021-10-02T17:10:45.005Z"
   },
   {
    "duration": 8,
    "start_time": "2021-10-02T17:10:45.025Z"
   },
   {
    "duration": 7,
    "start_time": "2021-10-02T17:10:45.035Z"
   },
   {
    "duration": 7,
    "start_time": "2021-10-02T17:10:45.044Z"
   },
   {
    "duration": 8,
    "start_time": "2021-10-02T17:10:45.053Z"
   },
   {
    "duration": 4,
    "start_time": "2021-10-02T17:10:45.062Z"
   },
   {
    "duration": 40,
    "start_time": "2021-10-02T17:10:45.068Z"
   },
   {
    "duration": 4,
    "start_time": "2021-10-02T17:10:45.109Z"
   },
   {
    "duration": 17,
    "start_time": "2021-10-02T17:10:45.115Z"
   },
   {
    "duration": 5,
    "start_time": "2021-10-02T17:10:45.134Z"
   },
   {
    "duration": 7,
    "start_time": "2021-10-02T17:10:45.141Z"
   },
   {
    "duration": 7,
    "start_time": "2021-10-02T17:10:45.150Z"
   },
   {
    "duration": 44,
    "start_time": "2021-10-02T17:10:45.158Z"
   },
   {
    "duration": 2,
    "start_time": "2021-10-02T17:10:45.204Z"
   },
   {
    "duration": 12,
    "start_time": "2021-10-02T17:10:45.208Z"
   },
   {
    "duration": 5,
    "start_time": "2021-10-02T17:10:45.222Z"
   },
   {
    "duration": 23,
    "start_time": "2021-10-02T17:10:45.229Z"
   },
   {
    "duration": 5,
    "start_time": "2021-10-02T17:25:28.038Z"
   },
   {
    "duration": 441,
    "start_time": "2021-10-02T17:25:28.995Z"
   },
   {
    "duration": 25,
    "start_time": "2021-10-02T17:25:30.154Z"
   },
   {
    "duration": 5,
    "start_time": "2021-10-02T17:26:34.057Z"
   },
   {
    "duration": 446,
    "start_time": "2021-10-02T17:26:34.867Z"
   },
   {
    "duration": 26,
    "start_time": "2021-10-02T17:26:36.434Z"
   },
   {
    "duration": 6,
    "start_time": "2021-10-02T17:27:19.483Z"
   },
   {
    "duration": 457,
    "start_time": "2021-10-02T17:27:20.192Z"
   },
   {
    "duration": 26,
    "start_time": "2021-10-02T17:27:21.604Z"
   },
   {
    "duration": 7,
    "start_time": "2021-10-02T17:28:12.692Z"
   },
   {
    "duration": 360,
    "start_time": "2021-10-02T17:28:13.512Z"
   },
   {
    "duration": 24,
    "start_time": "2021-10-02T17:28:15.056Z"
   },
   {
    "duration": 5,
    "start_time": "2021-10-02T17:29:03.182Z"
   },
   {
    "duration": 367,
    "start_time": "2021-10-02T17:29:04.478Z"
   },
   {
    "duration": 5,
    "start_time": "2021-10-02T17:30:37.987Z"
   },
   {
    "duration": 365,
    "start_time": "2021-10-02T17:30:38.746Z"
   },
   {
    "duration": 5,
    "start_time": "2021-10-02T17:31:03.665Z"
   },
   {
    "duration": 488,
    "start_time": "2021-10-02T17:31:04.242Z"
   },
   {
    "duration": 27,
    "start_time": "2021-10-02T17:31:05.306Z"
   },
   {
    "duration": 5,
    "start_time": "2021-10-02T17:31:20.148Z"
   },
   {
    "duration": 475,
    "start_time": "2021-10-02T17:31:21.445Z"
   },
   {
    "duration": 27,
    "start_time": "2021-10-02T17:31:22.003Z"
   },
   {
    "duration": 6,
    "start_time": "2021-10-02T17:31:42.899Z"
   },
   {
    "duration": 484,
    "start_time": "2021-10-02T17:31:44.012Z"
   },
   {
    "duration": 23,
    "start_time": "2021-10-02T17:31:48.158Z"
   },
   {
    "duration": 5,
    "start_time": "2021-10-02T17:33:20.756Z"
   },
   {
    "duration": 528,
    "start_time": "2021-10-02T17:33:22.595Z"
   },
   {
    "duration": 24,
    "start_time": "2021-10-02T17:33:23.457Z"
   },
   {
    "duration": 1150,
    "start_time": "2021-10-02T17:33:58.902Z"
   },
   {
    "duration": 443,
    "start_time": "2021-10-02T17:34:00.054Z"
   },
   {
    "duration": 25,
    "start_time": "2021-10-02T17:34:00.499Z"
   },
   {
    "duration": 30,
    "start_time": "2021-10-02T17:34:00.526Z"
   },
   {
    "duration": 20,
    "start_time": "2021-10-02T17:34:00.558Z"
   },
   {
    "duration": 124,
    "start_time": "2021-10-02T17:34:00.601Z"
   },
   {
    "duration": 12,
    "start_time": "2021-10-02T17:34:00.726Z"
   },
   {
    "duration": 38,
    "start_time": "2021-10-02T17:34:00.741Z"
   },
   {
    "duration": 37,
    "start_time": "2021-10-02T17:34:00.781Z"
   },
   {
    "duration": 94,
    "start_time": "2021-10-02T17:34:00.822Z"
   },
   {
    "duration": 8,
    "start_time": "2021-10-02T17:34:00.918Z"
   },
   {
    "duration": 17,
    "start_time": "2021-10-02T17:34:00.928Z"
   },
   {
    "duration": 63,
    "start_time": "2021-10-02T17:34:00.947Z"
   },
   {
    "duration": 9,
    "start_time": "2021-10-02T17:34:01.014Z"
   },
   {
    "duration": 20,
    "start_time": "2021-10-02T17:34:01.024Z"
   },
   {
    "duration": 22,
    "start_time": "2021-10-02T17:34:01.046Z"
   },
   {
    "duration": 43,
    "start_time": "2021-10-02T17:34:01.070Z"
   },
   {
    "duration": 31,
    "start_time": "2021-10-02T17:34:01.115Z"
   },
   {
    "duration": 12,
    "start_time": "2021-10-02T17:34:01.148Z"
   },
   {
    "duration": 42,
    "start_time": "2021-10-02T17:34:01.162Z"
   },
   {
    "duration": 7,
    "start_time": "2021-10-02T17:34:01.207Z"
   },
   {
    "duration": 38,
    "start_time": "2021-10-02T17:34:01.217Z"
   },
   {
    "duration": 5,
    "start_time": "2021-10-02T17:34:01.258Z"
   },
   {
    "duration": 24,
    "start_time": "2021-10-02T17:34:01.265Z"
   },
   {
    "duration": 9,
    "start_time": "2021-10-02T17:34:01.291Z"
   },
   {
    "duration": 8,
    "start_time": "2021-10-02T17:34:01.303Z"
   },
   {
    "duration": 899,
    "start_time": "2021-10-02T17:34:01.313Z"
   },
   {
    "duration": 624,
    "start_time": "2021-10-02T17:34:02.214Z"
   },
   {
    "duration": 525,
    "start_time": "2021-10-02T17:34:02.839Z"
   },
   {
    "duration": 109,
    "start_time": "2021-10-02T17:34:03.366Z"
   },
   {
    "duration": 3,
    "start_time": "2021-10-02T17:34:03.476Z"
   },
   {
    "duration": 149,
    "start_time": "2021-10-02T17:34:03.481Z"
   },
   {
    "duration": 70,
    "start_time": "2021-10-02T17:34:03.632Z"
   },
   {
    "duration": 3,
    "start_time": "2021-10-02T17:34:03.704Z"
   },
   {
    "duration": 18,
    "start_time": "2021-10-02T17:34:03.710Z"
   },
   {
    "duration": 40,
    "start_time": "2021-10-02T17:34:03.730Z"
   },
   {
    "duration": 33,
    "start_time": "2021-10-02T17:34:03.772Z"
   },
   {
    "duration": 29,
    "start_time": "2021-10-02T17:34:03.807Z"
   },
   {
    "duration": 9,
    "start_time": "2021-10-02T17:34:03.837Z"
   },
   {
    "duration": 22,
    "start_time": "2021-10-02T17:34:03.847Z"
   },
   {
    "duration": 54,
    "start_time": "2021-10-02T17:34:03.871Z"
   },
   {
    "duration": 8,
    "start_time": "2021-10-02T17:34:03.927Z"
   },
   {
    "duration": 5,
    "start_time": "2021-10-02T17:34:03.937Z"
   },
   {
    "duration": 9,
    "start_time": "2021-10-02T17:34:03.944Z"
   },
   {
    "duration": 13,
    "start_time": "2021-10-02T17:34:03.955Z"
   },
   {
    "duration": 32,
    "start_time": "2021-10-02T17:34:03.970Z"
   },
   {
    "duration": 5,
    "start_time": "2021-10-02T17:34:04.005Z"
   },
   {
    "duration": 16,
    "start_time": "2021-10-02T17:34:04.012Z"
   },
   {
    "duration": 631,
    "start_time": "2021-10-02T17:34:04.030Z"
   },
   {
    "duration": 21,
    "start_time": "2021-10-02T17:34:04.663Z"
   },
   {
    "duration": 14,
    "start_time": "2021-10-02T17:34:04.686Z"
   },
   {
    "duration": 11,
    "start_time": "2021-10-02T17:34:04.702Z"
   },
   {
    "duration": 8,
    "start_time": "2021-10-02T17:34:04.715Z"
   },
   {
    "duration": 284,
    "start_time": "2021-10-02T17:34:04.725Z"
   },
   {
    "duration": 309,
    "start_time": "2021-10-02T17:34:05.011Z"
   },
   {
    "duration": 344,
    "start_time": "2021-10-02T17:34:05.322Z"
   },
   {
    "duration": 3,
    "start_time": "2021-10-02T17:34:05.668Z"
   },
   {
    "duration": 338,
    "start_time": "2021-10-02T17:34:05.673Z"
   },
   {
    "duration": 18,
    "start_time": "2021-10-02T17:34:06.013Z"
   },
   {
    "duration": 20,
    "start_time": "2021-10-02T17:34:06.032Z"
   },
   {
    "duration": 91,
    "start_time": "2021-10-02T17:34:06.054Z"
   },
   {
    "duration": 3,
    "start_time": "2021-10-02T17:34:06.147Z"
   },
   {
    "duration": 495,
    "start_time": "2021-10-02T17:34:06.152Z"
   },
   {
    "duration": 309,
    "start_time": "2021-10-02T17:34:06.649Z"
   },
   {
    "duration": 11,
    "start_time": "2021-10-02T17:34:06.959Z"
   },
   {
    "duration": 29,
    "start_time": "2021-10-02T17:34:06.972Z"
   },
   {
    "duration": 21,
    "start_time": "2021-10-02T17:34:07.003Z"
   },
   {
    "duration": 503,
    "start_time": "2021-10-02T17:34:07.032Z"
   },
   {
    "duration": 314,
    "start_time": "2021-10-02T17:34:07.538Z"
   },
   {
    "duration": 13,
    "start_time": "2021-10-02T17:34:07.853Z"
   },
   {
    "duration": 19,
    "start_time": "2021-10-02T17:34:07.868Z"
   },
   {
    "duration": 21,
    "start_time": "2021-10-02T17:34:07.901Z"
   },
   {
    "duration": 533,
    "start_time": "2021-10-02T17:34:07.924Z"
   },
   {
    "duration": 319,
    "start_time": "2021-10-02T17:34:08.459Z"
   },
   {
    "duration": 20,
    "start_time": "2021-10-02T17:34:08.780Z"
   },
   {
    "duration": 14,
    "start_time": "2021-10-02T17:34:08.802Z"
   },
   {
    "duration": 116,
    "start_time": "2021-10-02T17:34:08.818Z"
   },
   {
    "duration": 5,
    "start_time": "2021-10-02T17:34:08.936Z"
   },
   {
    "duration": 19,
    "start_time": "2021-10-02T17:34:08.942Z"
   },
   {
    "duration": 14,
    "start_time": "2021-10-02T17:34:08.963Z"
   },
   {
    "duration": 14,
    "start_time": "2021-10-02T17:34:08.978Z"
   },
   {
    "duration": 21,
    "start_time": "2021-10-02T17:34:08.994Z"
   },
   {
    "duration": 24,
    "start_time": "2021-10-02T17:34:09.017Z"
   },
   {
    "duration": 5,
    "start_time": "2021-10-02T17:34:09.042Z"
   },
   {
    "duration": 16,
    "start_time": "2021-10-02T17:34:09.048Z"
   },
   {
    "duration": 6,
    "start_time": "2021-10-02T17:34:09.066Z"
   },
   {
    "duration": 22,
    "start_time": "2021-10-02T17:34:09.074Z"
   },
   {
    "duration": 7,
    "start_time": "2021-10-02T17:34:09.097Z"
   },
   {
    "duration": 13,
    "start_time": "2021-10-02T17:34:09.106Z"
   },
   {
    "duration": 11,
    "start_time": "2021-10-02T17:34:09.121Z"
   },
   {
    "duration": 10,
    "start_time": "2021-10-02T17:34:09.133Z"
   },
   {
    "duration": 2,
    "start_time": "2021-10-02T17:34:09.145Z"
   },
   {
    "duration": 18,
    "start_time": "2021-10-02T17:34:09.148Z"
   },
   {
    "duration": 13,
    "start_time": "2021-10-02T17:34:09.168Z"
   },
   {
    "duration": 36,
    "start_time": "2021-10-02T17:34:09.182Z"
   },
   {
    "duration": 57,
    "start_time": "2021-10-02T17:39:59.078Z"
   },
   {
    "duration": 57,
    "start_time": "2021-10-02T17:45:05.967Z"
   },
   {
    "duration": 62,
    "start_time": "2021-10-02T17:46:03.459Z"
   },
   {
    "duration": 84,
    "start_time": "2021-10-02T17:51:20.798Z"
   }
  ],
  "kernelspec": {
   "display_name": "Python 3 (ipykernel)",
   "language": "python",
   "name": "python3"
  },
  "language_info": {
   "codemirror_mode": {
    "name": "ipython",
    "version": 3
   },
   "file_extension": ".py",
   "mimetype": "text/x-python",
   "name": "python",
   "nbconvert_exporter": "python",
   "pygments_lexer": "ipython3",
   "version": "3.9.12"
  },
  "toc": {
   "base_numbering": 1,
   "nav_menu": {},
   "number_sections": true,
   "sideBar": true,
   "skip_h1_title": true,
   "title_cell": "Table of Contents",
   "title_sidebar": "Contents",
   "toc_cell": false,
   "toc_position": {
    "height": "569.6px",
    "left": "121px",
    "top": "110.325px",
    "width": "287px"
   },
   "toc_section_display": true,
   "toc_window_display": true
  }
 },
 "nbformat": 4,
 "nbformat_minor": 2
}
